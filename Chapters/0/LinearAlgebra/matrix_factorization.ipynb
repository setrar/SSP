{
 "cells": [
  {
   "cell_type": "markdown",
   "id": "acc64425-c08b-4a37-85ca-45eb974f7a03",
   "metadata": {},
   "source": [
    "# Matrix Factorizations"
   ]
  },
  {
   "cell_type": "code",
   "execution_count": 15,
   "id": "5d4b80c1-4a47-447d-9f95-186f08b1a087",
   "metadata": {},
   "outputs": [],
   "source": [
    "using LinearAlgebra\n",
    "using Plots"
   ]
  },
  {
   "cell_type": "markdown",
   "id": "1aecf0f9-0a94-4dfd-a985-fd85885ac370",
   "metadata": {},
   "source": [
    "#### Vectors and matrices have become the language to know"
   ]
  },
  {
   "cell_type": "code",
   "execution_count": 16,
   "id": "cc01d28c-dc9a-4896-8333-fa20e4e0cf40",
   "metadata": {},
   "outputs": [
    {
     "data": {
      "text/plain": [
       "4×4 Matrix{Int64}:\n",
       "  2  -1   0   0\n",
       " -1   2  -1   0\n",
       "  0  -1   2  -1\n",
       "  0   0  -1   2"
      ]
     },
     "metadata": {},
     "output_type": "display_data"
    }
   ],
   "source": [
    "Symmetric_matrix = [\n",
    "     2 -1  0  0;\n",
    "    -1  2 -1  0;\n",
    "     0 -1  2 -1;\n",
    "     0  0 -1  2\n",
    "]\n",
    "display(Symmetric_matrix)"
   ]
  },
  {
   "cell_type": "code",
   "execution_count": 17,
   "id": "b440a7e3-3a73-4325-8c0f-edc7fbb17d99",
   "metadata": {},
   "outputs": [
    {
     "data": {
      "text/plain": [
       "4×4 Matrix{Float64}:\n",
       " 0.5   0.5   0.5   0.5\n",
       " 0.5  -0.5   0.5  -0.5\n",
       " 0.5   0.5  -0.5  -0.5\n",
       " 0.5  -0.5  -0.5   0.5"
      ]
     },
     "metadata": {},
     "output_type": "display_data"
    }
   ],
   "source": [
    "Orthogonal_matrix = [\n",
    "     1  1  1  1;\n",
    "     1 -1  1 -1;\n",
    "     1  1 -1 -1;\n",
    "     1 -1 -1  1\n",
    "]\n",
    "display( 1/2 * Orthogonal_matrix)"
   ]
  },
  {
   "cell_type": "code",
   "execution_count": 18,
   "id": "71682606-9f02-4747-87a4-99e1573a4168",
   "metadata": {},
   "outputs": [
    {
     "data": {
      "text/plain": [
       "4×4 Matrix{Int64}:\n",
       " 1  1  1  1\n",
       " 0  1  1  1\n",
       " 0  0  1  1\n",
       " 0  0  0  1"
      ]
     },
     "metadata": {},
     "output_type": "display_data"
    }
   ],
   "source": [
    "Triangular_matrix = [\n",
    "     1  1  1  1;\n",
    "     0  1  1  1;\n",
    "     0  0  1  1;\n",
    "     0  0  0  1\n",
    "]\n",
    "display(Triangular_matrix)"
   ]
  },
  {
   "cell_type": "code",
   "execution_count": 19,
   "id": "2d39554c-6da1-4ea3-b824-20c9111e2cad",
   "metadata": {},
   "outputs": [
    {
     "data": {
      "text/plain": [
       "3×3 Matrix{Float64}:\n",
       "  2.0   1.0  -1.0\n",
       " -3.0  -1.0   2.0\n",
       " -2.0   1.0   2.0"
      ]
     },
     "metadata": {},
     "output_type": "display_data"
    }
   ],
   "source": [
    "# Define a square matrix A\n",
    "A = [2.0  1.0 -1.0; \n",
    "    -3.0 -1.0  2.0; \n",
    "    -2.0  1.0  2.0\n",
    "]\n",
    "display(A)"
   ]
  },
  {
   "cell_type": "markdown",
   "id": "5fad1204-3cdd-41b9-ac59-cb428069147a",
   "metadata": {},
   "source": [
    "#### $A = LU$"
   ]
  },
  {
   "cell_type": "code",
   "execution_count": 20,
   "id": "a0af0d57-a5f7-46c7-a05a-8e70379ef5be",
   "metadata": {},
   "outputs": [
    {
     "name": "stdout",
     "output_type": "stream",
     "text": [
      "Original Matrix A:\n"
     ]
    },
    {
     "data": {
      "text/plain": [
       "3×3 Matrix{Float64}:\n",
       "  2.0   1.0  -1.0\n",
       " -3.0  -1.0   2.0\n",
       " -2.0   1.0   2.0"
      ]
     },
     "metadata": {},
     "output_type": "display_data"
    },
    {
     "name": "stdout",
     "output_type": "stream",
     "text": [
      "\n",
      "Lower Triangular Matrix L:\n"
     ]
    },
    {
     "data": {
      "text/plain": [
       "3×3 Matrix{Float64}:\n",
       "  1.0       0.0  0.0\n",
       "  0.666667  1.0  0.0\n",
       " -0.666667  0.2  1.0"
      ]
     },
     "metadata": {},
     "output_type": "display_data"
    },
    {
     "name": "stdout",
     "output_type": "stream",
     "text": [
      "\n",
      "Upper Triangular Matrix U:\n"
     ]
    },
    {
     "data": {
      "text/plain": [
       "3×3 Matrix{Float64}:\n",
       " -3.0  -1.0      2.0\n",
       "  0.0   1.66667  0.666667\n",
       "  0.0   0.0      0.2"
      ]
     },
     "metadata": {},
     "output_type": "display_data"
    },
    {
     "name": "stdout",
     "output_type": "stream",
     "text": [
      "\n",
      "Matrix LU:\n"
     ]
    },
    {
     "data": {
      "text/plain": [
       "LinearAlgebra.LU{Float64, Matrix{Float64}, Vector{Int64}}\n",
       "L factor:\n",
       "3×3 Matrix{Float64}:\n",
       "  1.0       0.0  0.0\n",
       "  0.666667  1.0  0.0\n",
       " -0.666667  0.2  1.0\n",
       "U factor:\n",
       "3×3 Matrix{Float64}:\n",
       " -3.0  -1.0      2.0\n",
       "  0.0   1.66667  0.666667\n",
       "  0.0   0.0      0.2"
      ]
     },
     "metadata": {},
     "output_type": "display_data"
    }
   ],
   "source": [
    "# Perform LU decomposition\n",
    "LU = lu(A)\n",
    "\n",
    "# Extract the lower triangular matrix L and upper triangular matrix U\n",
    "L = LU.L\n",
    "U = LU.U;\n",
    "\n",
    "# Display the original matrix A, L, and U\n",
    "println(\"Original Matrix A:\")\n",
    "display(A)\n",
    "\n",
    "println(\"\\nLower Triangular Matrix L:\")\n",
    "display(L)\n",
    "println(\"\\nUpper Triangular Matrix U:\")\n",
    "display(U)\n",
    "\n",
    "println(\"\\nMatrix LU:\")\n",
    "display(LU)\n",
    "\n",
    "p_alu = plot(\n",
    "    heatmap(A, color=:auto, aspect_ratio=:equal, title=\"Original Matrix A\", c=:blues)\n",
    "    , heatmap(L, color=:auto, aspect_ratio=:equal, title=\"Lower Triangular Matrix L\", c=:greens)\n",
    "    , heatmap(U, color=:auto, aspect_ratio=:equal, title=\"Upper Triangular Matrix U\", c=:reds)\n",
    "    , layout = (3, 1), size = (400, 600) \n",
    "    , xlims = ( 0, 5 )\n",
    "    , annotate = (3,0, \"read from bottom left to top right\")\n",
    ")\n",
    "savefig(p_alu,\"images/ALU_matrix.png\");"
   ]
  },
  {
   "cell_type": "markdown",
   "id": "838e058a-e6b8-458a-a77a-1a4a9ddd0d82",
   "metadata": {},
   "source": [
    "<img src=images/ALU_matrix.png width='' height='' > </img>"
   ]
  },
  {
   "cell_type": "markdown",
   "id": "612cf7ed-5dc6-403b-a5c4-5054ed8f615f",
   "metadata": {},
   "source": [
    "#### $A = LDU$"
   ]
  },
  {
   "cell_type": "code",
   "execution_count": 21,
   "id": "c1d228ec-6ac8-48ca-87e3-d76c2d0f942f",
   "metadata": {},
   "outputs": [
    {
     "name": "stdout",
     "output_type": "stream",
     "text": [
      "Original Matrix A:\n"
     ]
    },
    {
     "data": {
      "text/plain": [
       "3×3 Matrix{Float64}:\n",
       "  2.0   4.0  -2.0\n",
       "  4.0   9.0  -3.0\n",
       " -2.0  -3.0   7.0"
      ]
     },
     "metadata": {},
     "output_type": "display_data"
    },
    {
     "name": "stdout",
     "output_type": "stream",
     "text": [
      "\n",
      "Lower Triangular Matrix L:\n"
     ]
    },
    {
     "data": {
      "text/plain": [
       "3×3 Matrix{Float64}:\n",
       "  1.0   0.0       0.0\n",
       " -0.5   1.0       0.0\n",
       "  0.5  -0.333333  1.0"
      ]
     },
     "metadata": {},
     "output_type": "display_data"
    },
    {
     "name": "stdout",
     "output_type": "stream",
     "text": [
      "\n",
      "Diagonal Matrix D:\n"
     ]
    },
    {
     "data": {
      "text/plain": [
       "3×3 Diagonal{Float64, Vector{Float64}}:\n",
       " 4.0   ⋅    ⋅ \n",
       "  ⋅   1.5   ⋅ \n",
       "  ⋅    ⋅   1.33333"
      ]
     },
     "metadata": {},
     "output_type": "display_data"
    },
    {
     "name": "stdout",
     "output_type": "stream",
     "text": [
      "\n",
      "Upper Triangular Matrix U:\n"
     ]
    },
    {
     "data": {
      "text/plain": [
       "3×3 Matrix{Float64}:\n",
       " 4.0  9.0  -3.0\n",
       " 0.0  1.5   5.5\n",
       " 0.0  0.0   1.33333"
      ]
     },
     "metadata": {},
     "output_type": "display_data"
    },
    {
     "name": "stdout",
     "output_type": "stream",
     "text": [
      "\n",
      "Reconstructed Matrix A:\n"
     ]
    },
    {
     "data": {
      "text/plain": [
       "3×3 Matrix{Float64}:\n",
       " 16.0   36.0   -12.0\n",
       " -8.0  -15.75   14.25\n",
       "  8.0   17.25   -6.97222"
      ]
     },
     "metadata": {},
     "output_type": "display_data"
    }
   ],
   "source": [
    "# Define a square matrix A\n",
    "A = [2.0  4.0 -2.0;\n",
    "     4.0  9.0 -3.0;\n",
    "    -2.0 -3.0  7.0]\n",
    "\n",
    "# Perform LU decomposition with partial pivoting\n",
    "L, U, P = lu(A, Val(true))\n",
    "\n",
    "# Compute the diagonal matrix D (D is diagonal with elements from U)\n",
    "D = Diagonal(U)\n",
    "\n",
    "# Reconstruct A using L, D, and U\n",
    "Rₐ = L * D * U;\n",
    "\n",
    "# Display the original matrix A, L, D, U, and the reconstructed A\n",
    "println(\"Original Matrix A:\")\n",
    "display(A)\n",
    "println(\"\\nLower Triangular Matrix L:\")\n",
    "display(L)\n",
    "println(\"\\nDiagonal Matrix D:\")\n",
    "display(D)\n",
    "println(\"\\nUpper Triangular Matrix U:\")\n",
    "display(U)\n",
    "println(\"\\nReconstructed Matrix A:\")\n",
    "display(Rₐ)\n",
    "\n",
    "# Display the plots\n",
    "p_aldu = plot(\n",
    "      heatmap(A, color=:auto, aspect_ratio=:equal, title=\"Original Matrix A\", c=:blues)\n",
    "    , heatmap(L, color=:auto, aspect_ratio=:equal, title=\"Lower Triangular Matrix L\", c=:greens)\n",
    "    , heatmap(D, color=:auto, aspect_ratio=:equal, title=\"Diagonal Matrix D\", c=:reds)\n",
    "    , heatmap(U, color=:auto, aspect_ratio=:equal, title=\"Upper Triangular Matrix U\", c=:grays)\n",
    "    , heatmap(Rₐ, color=:auto, aspect_ratio=:equal, title=\"Reconstructed Matrix A\", c=:cividis)\n",
    "    , layout = (3 , 2)\n",
    "    , xlims = (0,4)\n",
    "    , size = (600,600)\n",
    ")\n",
    "savefig(p_aldu,\"images/ALDU_matrix.png\");"
   ]
  },
  {
   "cell_type": "markdown",
   "id": "4b803cad-dbba-43d5-b1db-34f46c2719ca",
   "metadata": {},
   "source": [
    "<img src=images/ALDU_matrix.png width='' height='' > </img>"
   ]
  },
  {
   "cell_type": "markdown",
   "id": "0247544d-e647-4ac2-9196-b1201a6441e0",
   "metadata": {},
   "source": [
    "#### P A = LU"
   ]
  },
  {
   "cell_type": "code",
   "execution_count": 22,
   "id": "a2e036bd-4e9c-48a6-8b94-c6f8cea32fc8",
   "metadata": {},
   "outputs": [
    {
     "name": "stdout",
     "output_type": "stream",
     "text": [
      "Original Matrix A:\n"
     ]
    },
    {
     "data": {
      "text/plain": [
       "3×3 Matrix{Float64}:\n",
       "  2.0   4.0  -2.0\n",
       "  4.0   9.0  -3.0\n",
       " -2.0  -3.0   7.0"
      ]
     },
     "metadata": {},
     "output_type": "display_data"
    },
    {
     "name": "stdout",
     "output_type": "stream",
     "text": [
      "\n",
      "Permutation Matrix P:\n"
     ]
    },
    {
     "data": {
      "text/plain": [
       "3×3 Matrix{Float64}:\n",
       "  1.0   0.0       0.0\n",
       " -0.5   1.0       0.0\n",
       "  0.5  -0.333333  1.0"
      ]
     },
     "metadata": {},
     "output_type": "display_data"
    },
    {
     "name": "stdout",
     "output_type": "stream",
     "text": [
      "\n",
      "Lower Triangular Matrix L:\n"
     ]
    },
    {
     "data": {
      "text/plain": [
       "3×3 Matrix{Float64}:\n",
       " 4.0  9.0  -3.0\n",
       " 0.0  1.5   5.5\n",
       " 0.0  0.0   1.33333"
      ]
     },
     "metadata": {},
     "output_type": "display_data"
    },
    {
     "name": "stdout",
     "output_type": "stream",
     "text": [
      "\n",
      "Upper Triangular Matrix U:\n"
     ]
    },
    {
     "data": {
      "text/plain": [
       "3-element Vector{Int64}:\n",
       " 2\n",
       " 3\n",
       " 1"
      ]
     },
     "metadata": {},
     "output_type": "display_data"
    },
    {
     "name": "stdout",
     "output_type": "stream",
     "text": [
      "\n",
      "Reconstructed Matrix A:\n"
     ]
    },
    {
     "data": {
      "text/plain": [
       "3-element Vector{Float64}:\n",
       " 32.0\n",
       " -6.0\n",
       " 14.0"
      ]
     },
     "metadata": {},
     "output_type": "display_data"
    }
   ],
   "source": [
    "# Perform LU decomposition with row permutation\n",
    "P, L, U = lu(A)\n",
    "\n",
    "# Reconstruct A using P, L, and U\n",
    "Rₐ = P * L * U\n",
    "\n",
    "# Display the original matrix A, P, L, U, and the reconstructed A\n",
    "println(\"Original Matrix A:\")\n",
    "display(A)\n",
    "println(\"\\nPermutation Matrix P:\")\n",
    "display(P)\n",
    "println(\"\\nLower Triangular Matrix L:\")\n",
    "display(L)\n",
    "println(\"\\nUpper Triangular Matrix U:\")\n",
    "display(U)\n",
    "println(\"\\nReconstructed Matrix A:\")\n",
    "display(Rₐ)\n",
    "\n",
    "# Create heatmap plots for P, L, and U (P is a permutation matrix)\n",
    "p_palu = plot(\n",
    "      heatmap(P, color=:auto, aspect_ratio=:equal, title=\"Permutation Matrix P\", c=:blues)\n",
    "    , heatmap(L, color=:auto, aspect_ratio=:equal, title=\"Lower Triangular Matrix L\", c=:greens)\n",
    "    , scatter(U, title=\"Upper Triangular Matrix U\")\n",
    "    , scatter(A, title=\"Reconstructed Matrix A\")\n",
    "    , xlims = (0,4)\n",
    "    , size = (600,600)\n",
    "    , legend = :none\n",
    ")\n",
    "savefig(p_palu,\"images/PALU_matrix.png\");"
   ]
  },
  {
   "cell_type": "markdown",
   "id": "496a934f-856e-47aa-9510-aa857ea11273",
   "metadata": {},
   "source": [
    "<img src=images/PALU_matrix.png width='' height='' > </img>"
   ]
  },
  {
   "cell_type": "code",
   "execution_count": 23,
   "id": "ee4ebb63-9e32-491c-93be-9609463be23a",
   "metadata": {},
   "outputs": [
    {
     "data": {
      "text/plain": [
       "sum (generic function with 15 methods)"
      ]
     },
     "execution_count": 23,
     "metadata": {},
     "output_type": "execute_result"
    }
   ],
   "source": [
    "∑ = sum"
   ]
  },
  {
   "cell_type": "markdown",
   "id": "21f96d71-77da-46a3-8ef6-ffdcfb95e5ec",
   "metadata": {},
   "source": [
    "#### A = XΛX⁻¹"
   ]
  },
  {
   "cell_type": "code",
   "execution_count": 24,
   "id": "aefd2604-d90f-43ce-b3d3-1ad1dd5b8877",
   "metadata": {},
   "outputs": [
    {
     "name": "stdout",
     "output_type": "stream",
     "text": [
      "Original Matrix A:\n"
     ]
    },
    {
     "data": {
      "text/plain": [
       "3×3 Matrix{Float64}:\n",
       "  2.0   4.0  -2.0\n",
       "  4.0   9.0  -3.0\n",
       " -2.0  -3.0   7.0"
      ]
     },
     "metadata": {},
     "output_type": "display_data"
    },
    {
     "name": "stdout",
     "output_type": "stream",
     "text": [
      "\n",
      "Eigenvector Matrix X:\n"
     ]
    },
    {
     "data": {
      "text/plain": [
       "3×3 Matrix{Float64}:\n",
       "  0.919373  0.117262  -0.375503\n",
       " -0.380032  0.511346  -0.770779\n",
       "  0.101629  0.851337   0.514682"
      ]
     },
     "metadata": {},
     "output_type": "display_data"
    },
    {
     "name": "stdout",
     "output_type": "stream",
     "text": [
      "\n",
      "Diagonal Matrix Λ:\n"
     ]
    },
    {
     "data": {
      "text/plain": [
       "3×3 Diagonal{Float64, Vector{Float64}}:\n",
       " 0.125476   ⋅        ⋅ \n",
       "  ⋅        4.9226    ⋅ \n",
       "  ⋅         ⋅      12.9519"
      ]
     },
     "metadata": {},
     "output_type": "display_data"
    },
    {
     "name": "stdout",
     "output_type": "stream",
     "text": [
      "\n",
      "Inverse of X:\n"
     ]
    },
    {
     "data": {
      "text/plain": [
       "3×3 Matrix{Float64}:\n",
       "  0.919373  -0.380032  0.101629\n",
       "  0.117262   0.511346  0.851337\n",
       " -0.375503  -0.770779  0.514682"
      ]
     },
     "metadata": {},
     "output_type": "display_data"
    },
    {
     "name": "stdout",
     "output_type": "stream",
     "text": [
      "\n",
      "Reconstructed Matrix A:\n"
     ]
    },
    {
     "data": {
      "text/plain": [
       "3×3 Matrix{Float64}:\n",
       "  2.0   4.0  -2.0\n",
       "  4.0   9.0  -3.0\n",
       " -2.0  -3.0   7.0"
      ]
     },
     "metadata": {},
     "output_type": "display_data"
    },
    {
     "name": "stdout",
     "output_type": "stream",
     "text": [
      "\n",
      "Λ's trace: 18.00000000000002 and sum of eigenvalues 18.00000000000002 are equals? true\n",
      "\n",
      "Λ's max:\n"
     ]
    },
    {
     "data": {
      "text/plain": [
       "12.951919667255783"
      ]
     },
     "metadata": {},
     "output_type": "display_data"
    }
   ],
   "source": [
    "# Perform eigenvalue decomposition\n",
    "eigen_decomposition = eigen(A)\n",
    "\n",
    "# Extract the eigenvector matrix X and the diagonal matrix Λ\n",
    "X = eigen_decomposition.vectors\n",
    "# Get the diag(A)\n",
    "Λ = Diagonal(eigen_decomposition.values)\n",
    "# Calculate eigenvalues\n",
    "λₐ = eigen_decomposition.values\n",
    "\n",
    "# Calculate the inverse of X\n",
    "X⁻¹ = inv(X)\n",
    "\n",
    "# Reconstruct A using X, Λ, and X⁻¹\n",
    "Rₐ = X * Λ * X⁻¹\n",
    "\n",
    "# Display the original matrix A, X, Λ, X⁻¹, and the reconstructed A\n",
    "println(\"Original Matrix A:\")\n",
    "display(A)\n",
    "println(\"\\nEigenvector Matrix X:\")\n",
    "display(X)\n",
    "println(\"\\nDiagonal Matrix Λ:\")\n",
    "display(Λ)\n",
    "println(\"\\nInverse of X:\")\n",
    "display(X⁻¹)\n",
    "println(\"\\nReconstructed Matrix A:\")\n",
    "display(Rₐ)\n",
    "\n",
    "# trace and Sum of eigenvalues\n",
    "trace = tr(Λ)\n",
    "eigensum = ∑(λₐ)\n",
    "eq = trace ==  eigensum\n",
    "println(\"\\nΛ's trace: $trace and sum of eigenvalues $eigensum are equals? $eq\")\n",
    "\n",
    "(max, i) = findmax(Λ)\n",
    "println(\"\\nΛ's max:\")\n",
    "display(max)\n",
    "\n",
    "\n",
    "# Create a heatmap plot for A and others\n",
    "p_axlx = plot(\n",
    "      heatmap(A, color=:auto, aspect_ratio=:equal, title=\"Original Matrix A\", c=:blues)\n",
    "    , heatmap(X, color=:auto, aspect_ratio=:equal, title=\"Eigenvector Matrix X\", c=:greens)\n",
    "    , heatmap(Λ, color=:auto, aspect_ratio=:equal, title=\"Diagonal Matrix Λ\", c=:reds)\n",
    "    , heatmap(X⁻¹, color=:auto, aspect_ratio=:equal, title=\"Inverse of X\", c=:grays)\n",
    "    , heatmap(Rₐ, color=:auto, aspect_ratio=:equal, title=\"Reconstructed Matrix A\", c=:cividis)\n",
    "    , layout = (3 , 2)\n",
    "    , xlims = (0,4)\n",
    "    , size = (600,600)\n",
    ")\n",
    "savefig(p_axlx,\"images/AXLX_matrix.png\");"
   ]
  },
  {
   "cell_type": "markdown",
   "id": "e60e9f6e-2018-414f-9f66-bb16e8cebbb4",
   "metadata": {},
   "source": [
    "<img src=images/AXLX_matrix.png width='' height='' > </img>"
   ]
  },
  {
   "cell_type": "code",
   "execution_count": 25,
   "id": "ed350053-9008-4282-becc-e78dcbfe112a",
   "metadata": {},
   "outputs": [
    {
     "name": "stdout",
     "output_type": "stream",
     "text": [
      "Are (X^T \\ X⁻¹) and I approximately equal? true \n",
      "\n"
     ]
    },
    {
     "data": {
      "text/plain": [
       "3×3 Matrix{Float64}:\n",
       "  1.0          1.81138e-16  -1.08196e-17\n",
       "  2.25597e-16  1.0           1.19895e-16\n",
       " -2.36293e-17  0.0           1.0"
      ]
     },
     "metadata": {},
     "output_type": "display_data"
    }
   ],
   "source": [
    "# Define a numerical tolerance (small value)\n",
    "tolerance = 1e-15\n",
    "\n",
    "# Check if the matrices are approximately equal within the tolerance\n",
    "are_equal = isapprox(transpose(X) \\ X⁻¹, I, atol=tolerance)\n",
    "\n",
    "# Display the result\n",
    "println(\"Are (X^T \\\\ X⁻¹) and I approximately equal? $are_equal \\n\")\n",
    "display(transpose(X) \\ X⁻¹)"
   ]
  },
  {
   "cell_type": "markdown",
   "id": "930bbc2e-6974-4be1-8c40-8d0a0c28d88b",
   "metadata": {},
   "source": [
    "# References\n",
    "- [ ] [Introduction to Linear Algebra, Sixth Edition (2023)](https://math.mit.edu/~gs/linearalgebra/ila6/indexila6.html)"
   ]
  },
  {
   "cell_type": "code",
   "execution_count": null,
   "id": "572e35ce-9116-47b8-861e-cb289f33aca6",
   "metadata": {},
   "outputs": [],
   "source": []
  }
 ],
 "metadata": {
  "kernelspec": {
   "display_name": "Julia 1.9.3",
   "language": "julia",
   "name": "julia-1.9"
  },
  "language_info": {
   "file_extension": ".jl",
   "mimetype": "application/julia",
   "name": "julia",
   "version": "1.10.0"
  }
 },
 "nbformat": 4,
 "nbformat_minor": 5
}
