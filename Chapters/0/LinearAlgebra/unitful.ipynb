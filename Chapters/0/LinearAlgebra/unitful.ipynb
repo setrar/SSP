{
 "cells": [
  {
   "cell_type": "code",
   "execution_count": 1,
   "id": "1a003f75-5df9-49ab-a773-61934a2d94ba",
   "metadata": {},
   "outputs": [],
   "source": [
    "using Unitful"
   ]
  },
  {
   "cell_type": "code",
   "execution_count": 2,
   "id": "c9f65a88-3529-4b4e-b610-15dc2b129bcf",
   "metadata": {},
   "outputs": [
    {
     "data": {
      "text/plain": [
       "101//100 m"
      ]
     },
     "execution_count": 2,
     "metadata": {},
     "output_type": "execute_result"
    }
   ],
   "source": [
    "u\"1m\" + u\"1cm\""
   ]
  },
  {
   "cell_type": "code",
   "execution_count": 3,
   "id": "0c0d8bd3-a7c3-4ac9-9d74-2123ac8d0e78",
   "metadata": {},
   "outputs": [
    {
     "data": {
      "text/plain": [
       "1.01 m"
      ]
     },
     "execution_count": 3,
     "metadata": {},
     "output_type": "execute_result"
    }
   ],
   "source": [
    "u\"1.0m\" + u\"1cm\""
   ]
  },
  {
   "cell_type": "code",
   "execution_count": 4,
   "id": "d9d1243b-2d2b-45f4-a00b-1ebd2703855b",
   "metadata": {},
   "outputs": [
    {
     "data": {
      "text/plain": [
       "1.0 m s⁻¹"
      ]
     },
     "execution_count": 4,
     "metadata": {},
     "output_type": "execute_result"
    }
   ],
   "source": [
    "u\"1.0m/1s\""
   ]
  },
  {
   "cell_type": "code",
   "execution_count": 5,
   "id": "a1e2ec3e-1074-4921-84b4-7ca992b396c3",
   "metadata": {},
   "outputs": [],
   "source": [
    "m = u\"m\";"
   ]
  },
  {
   "cell_type": "code",
   "execution_count": 6,
   "id": "08d47ad4-23fd-4d6f-9bcf-3b33e6be2149",
   "metadata": {},
   "outputs": [
    {
     "data": {
      "text/plain": [
       "1001 m"
      ]
     },
     "execution_count": 6,
     "metadata": {},
     "output_type": "execute_result"
    }
   ],
   "source": [
    "1m + u\"1km\""
   ]
  },
  {
   "cell_type": "code",
   "execution_count": 7,
   "id": "acb71deb-a8c9-42e9-b80f-ae78005b26b3",
   "metadata": {},
   "outputs": [],
   "source": [
    "earth_accel = \"9.8m/s^2\";"
   ]
  },
  {
   "cell_type": "code",
   "execution_count": 8,
   "id": "7f9ad7e5-7517-41c7-ad7d-64ca1ede2188",
   "metadata": {},
   "outputs": [
    {
     "data": {
      "text/plain": [
       "9.8 kg m s⁻²"
      ]
     },
     "execution_count": 8,
     "metadata": {},
     "output_type": "execute_result"
    }
   ],
   "source": [
    "kg_weight_earth = uparse(\"kg * \" * earth_accel)"
   ]
  },
  {
   "cell_type": "code",
   "execution_count": 9,
   "id": "1bed633f-8d25-4ec2-b20a-8de99912c142",
   "metadata": {},
   "outputs": [
    {
     "name": "stderr",
     "output_type": "stream",
     "text": [
      "WARNING: using DefaultSymbols.m in module Main conflicts with an existing identifier.\n"
     ]
    }
   ],
   "source": [
    "using Unitful.DefaultSymbols"
   ]
  },
  {
   "cell_type": "code",
   "execution_count": 10,
   "id": "db9c7506-ad03-4dc5-85b6-816652eb5073",
   "metadata": {},
   "outputs": [
    {
     "data": {
      "text/plain": [
       "minute"
      ]
     },
     "execution_count": 10,
     "metadata": {},
     "output_type": "execute_result"
    }
   ],
   "source": [
    "minute = u\"minute\""
   ]
  },
  {
   "cell_type": "code",
   "execution_count": 11,
   "id": "ff120dd9-f86a-4347-8224-dcd1fb9eb670",
   "metadata": {},
   "outputs": [
    {
     "data": {
      "text/plain": [
       "62 s"
      ]
     },
     "execution_count": 11,
     "metadata": {},
     "output_type": "execute_result"
    }
   ],
   "source": [
    "2s + 1minute"
   ]
  },
  {
   "cell_type": "code",
   "execution_count": 12,
   "id": "bc5bd96e-c036-4db6-90f8-ab31ee1428ea",
   "metadata": {},
   "outputs": [
    {
     "data": {
      "text/plain": [
       "Quantity{Int64, 𝐓, Unitful.FreeUnits{(minute,), 𝐓, nothing}}"
      ]
     },
     "execution_count": 12,
     "metadata": {},
     "output_type": "execute_result"
    }
   ],
   "source": [
    "typeof(1minute)"
   ]
  },
  {
   "cell_type": "code",
   "execution_count": 13,
   "id": "d628972c-4916-4591-815d-2a2f79495460",
   "metadata": {},
   "outputs": [
    {
     "data": {
      "text/plain": [
       "Unitful.FreeUnits{(minute,), 𝐓, nothing}"
      ]
     },
     "execution_count": 13,
     "metadata": {},
     "output_type": "execute_result"
    }
   ],
   "source": [
    "typeof(minute)"
   ]
  },
  {
   "cell_type": "code",
   "execution_count": 14,
   "id": "d41b6288-454e-462c-9663-d8ca01786905",
   "metadata": {},
   "outputs": [
    {
     "data": {
      "text/plain": [
       "1.0"
      ]
     },
     "execution_count": 14,
     "metadata": {},
     "output_type": "execute_result"
    }
   ],
   "source": [
    "convert(Float64, u\"1m/100cm\")"
   ]
  },
  {
   "cell_type": "code",
   "execution_count": 15,
   "id": "49a0461c-13a6-4d4f-841a-44914e09d22d",
   "metadata": {},
   "outputs": [
    {
     "data": {
      "text/plain": [
       "0.01 m cm⁻¹"
      ]
     },
     "execution_count": 15,
     "metadata": {},
     "output_type": "execute_result"
    }
   ],
   "source": [
    "u\"1m / 100cm\""
   ]
  },
  {
   "cell_type": "code",
   "execution_count": 16,
   "id": "31359ea9-53a3-4571-af0f-6754bfd1b8ee",
   "metadata": {},
   "outputs": [
    {
     "data": {
      "text/plain": [
       "Quantity{Float64, NoDims, Unitful.FreeUnits{(cm⁻¹, m), NoDims, nothing}}"
      ]
     },
     "execution_count": 16,
     "metadata": {},
     "output_type": "execute_result"
    }
   ],
   "source": [
    "typeof(u\"1m/100cm\")"
   ]
  },
  {
   "cell_type": "code",
   "execution_count": 17,
   "id": "a6ac04a0-a282-4111-bd2b-e0a1a9a3c2bf",
   "metadata": {},
   "outputs": [
    {
     "data": {
      "text/plain": [
       "0.5"
      ]
     },
     "execution_count": 17,
     "metadata": {},
     "output_type": "execute_result"
    }
   ],
   "source": [
    "u\"1m / 2m\""
   ]
  },
  {
   "cell_type": "code",
   "execution_count": 18,
   "id": "7553133f-7ead-41e3-b119-e63bdf4e6f0a",
   "metadata": {},
   "outputs": [
    {
     "data": {
      "text/plain": [
       "Float64"
      ]
     },
     "execution_count": 18,
     "metadata": {},
     "output_type": "execute_result"
    }
   ],
   "source": [
    "typeof(u\"1m / 2m\")"
   ]
  },
  {
   "cell_type": "markdown",
   "id": "4de9835e-6c95-449d-afe3-4255e34897b8",
   "metadata": {},
   "source": [
    "# References\n",
    "- [ ] [9 - P H Y S I C S](https://nostarch.com/download/PracticalJulia_Chapter9.pdf)"
   ]
  },
  {
   "cell_type": "code",
   "execution_count": null,
   "id": "f03a4a26-cc3c-403d-bd0e-90b30bd5df97",
   "metadata": {},
   "outputs": [],
   "source": []
  }
 ],
 "metadata": {
  "kernelspec": {
   "display_name": "Julia 1.9.3",
   "language": "julia",
   "name": "julia-1.9"
  },
  "language_info": {
   "file_extension": ".jl",
   "mimetype": "application/julia",
   "name": "julia",
   "version": "1.10.0"
  }
 },
 "nbformat": 4,
 "nbformat_minor": 5
}
