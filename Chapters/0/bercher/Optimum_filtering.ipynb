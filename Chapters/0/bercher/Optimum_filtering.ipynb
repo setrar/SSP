{
 "cells": [
  {
   "cell_type": "markdown",
   "metadata": {
    "toc": "true"
   },
   "source": [
    "<h1>Table of Contents<span class=\"tocSkip\"></span></h1>\n",
    "<div class=\"toc\"><ul class=\"toc-item\"><li><span><a href=\"#Adaptive-Filters\" data-toc-modified-id=\"Adaptive-Filters-1\"><span class=\"toc-item-num\">1&nbsp;&nbsp;</span>Adaptive Filters</a></span><ul class=\"toc-item\"><li><span><a href=\"#A-general-filtering-problem\" data-toc-modified-id=\"A-general-filtering-problem-1.1\"><span class=\"toc-item-num\">1.1&nbsp;&nbsp;</span>A general filtering problem</a></span><ul class=\"toc-item\"><li><span><a href=\"#Introduction\" data-toc-modified-id=\"Introduction-1.1.1\"><span class=\"toc-item-num\">1.1.1&nbsp;&nbsp;</span>Introduction</a></span></li><li><span><a href=\"#The-Linear-Minimum-Mean-Square-Error-Estimator\" data-toc-modified-id=\"The-Linear-Minimum-Mean-Square-Error-Estimator-1.1.2\"><span class=\"toc-item-num\">1.1.2&nbsp;&nbsp;</span>The Linear Minimum Mean Square Error Estimator</a></span></li><li><span><a href=\"#The-Least-Square-Error-Estimator\" data-toc-modified-id=\"The-Least-Square-Error-Estimator-1.1.3\"><span class=\"toc-item-num\">1.1.3&nbsp;&nbsp;</span>The Least Square Error Estimator</a></span></li><li><span><a href=\"#Application-to-filter-identification\" data-toc-modified-id=\"Application-to-filter-identification-1.1.4\"><span class=\"toc-item-num\">1.1.4&nbsp;&nbsp;</span>Application to filter identification</a></span></li></ul></li></ul></li></ul></div>"
   ]
  },
  {
   "cell_type": "code",
   "execution_count": 1,
   "metadata": {},
   "outputs": [
    {
     "name": "stdout",
     "output_type": "stream",
     "text": []
    },
    {
     "data": {
      "text/html": [
       "\n",
       "$$\\require{color}\n",
       "\\require{cancel}\n",
       "\\def\\tf#1{{\\mathrm{FT}\\left\\{ #1 \\right\\}}}\n",
       "\\def\\flecheTF{\\rightleftharpoons }\n",
       "\\def\\TFI#1#2#3{{\\displaystyle{\\int_{-\\infty}^{+\\infty} #1 ~e^{j2\\pi #2 #3} \n",
       "~\\dr{#2}}}}\n",
       "\\def\\TF#1#2#3{{\\displaystyle{\\int_{-\\infty}^{+\\infty} #1 ~e^{-j2\\pi #3 #2} \n",
       "~\\dr{#2}}}}\n",
       "\\def\\sha{ш}\n",
       "\\def\\dr#1{\\mathrm{d}#1}\n",
       "\\def\\egalpardef{\\mathop{=}\\limits^\\triangle}\n",
       "\\def\\sinc#1{{\\mathrm{sinc}\\left( #1 \\right)}}\n",
       "\\def\\rect{\\mathrm{rect}}\n",
       "\\definecolor{lightred}{rgb}{1,0.1,0}\n",
       "\\def\\myblueeqbox#1{{\\fcolorbox{blue}{lightblue}{$\textcolor{blue}{ #1}$}}}\n",
       "\\def\\myeqbox#1#2{{\\fcolorbox{#1}{light#1}{$\textcolor{#1}{ #2}$}}}\n",
       "\\def\\eqbox#1#2#3#4{{\\fcolorbox{#1}{#2}{$\\textcolor{#3}{ #4}$}}}\n",
       "% border|background|text\n",
       "\\def\\eqboxa#1{{\\boxed{#1}}}\n",
       "\\def\\eqboxb#1{{\\eqbox{green}{white}{green}{#1}}}\n",
       "\\def\\eqboxc#1{{\\eqbox{blue}{white}{blue}{#1}}}\n",
       "\\def\\eqboxd#1{{\\eqbox{blue}{lightblue}{blue}{#1}}}\n",
       "\\def\\E#1{\\mathbb{E}\\left[#1\\right]}\n",
       "\\def\\ta#1{\\left<#1\\right>}\n",
       "\\def\\egalparerg{{\\mathop{=}\\limits_\\mathrm{erg}}}\n",
       "\\def\\expo#1{\\exp\\left(#1\\right)}\n",
       "\\def\\d#1{\\mathrm{d}#1}\n",
       "\\def\\wb{\\mathbf{w}} \n",
       "\\def\\sb{\\mathbf{s}} \n",
       "\\def\\xb{\\mathbf{x}}\n",
       "\\def\\Rb{\\mathbf{R}} \n",
       "\\def\\rb{\\mathbf{r}} \n",
       "\\def\\mystar{{*}}\n",
       "\\def\\ub{\\mathbf{u}}\n",
       "\\def\\wbopt{\\mathop{\\mathbf{w}}\\limits^\\triangle}\n",
       "\\def\\deriv#1#2{\\frac{\\mathrm{d}#1}{\\mathrm{d}#2}}\n",
       "\\def\\Ub{\\mathbf{U}}\n",
       "\\def\\db{\\mathbf{d}}\n",
       "\\def\\eb{\\mathbf{e}}\n",
       "\\def\\vb{\\mathbf{v}}\n",
       "\\def\\Ib{\\mathbf{I}}\n",
       "\\def\\Vb{\\mathbf{V}}\n",
       "\\def\\Lambdab{\\mathbf{\\Lambda}}\n",
       "\\def\\Ab{\\mathbf{A}}\n",
       "\\def\\Bb{\\mathbf{B}}\n",
       "\\def\\Cb{\\mathbf{C}}\n",
       "\\def\\Db{\\mathbf{D}}\n",
       "\\def\\Kb{\\mathbf{K}}\n",
       "\\def\\sinc#1{\\mathrm{sinc\\left(#1\\right)}}\n",
       "$$\n"
      ],
      "text/plain": [
       "<IPython.core.display.HTML object>"
      ]
     },
     "metadata": {},
     "output_type": "display_data"
    },
    {
     "name": "stdout",
     "output_type": "stream",
     "text": []
    },
    {
     "data": {
      "text/html": [
       "<style>\n",
       ".caption {\n",
       "font-weight: normal;\n",
       "text-align: left;\n",
       "width:60%; margin-left:10%; border:2px solid; padding-top:5px; padding-bottom:5px;\n",
       "background-color:white;border-color:#efd3d7;color:black;\n",
       "border-radius:8px;-webkit-border-radius:8px;-moz-border-radius:8px;border-radius:8px\n",
       "}\n",
       "</style>"
      ],
      "text/plain": [
       "<IPython.core.display.HTML object>"
      ]
     },
     "metadata": {},
     "output_type": "display_data"
    },
    {
     "name": "stdout",
     "output_type": "stream",
     "text": []
    }
   ],
   "source": []
  },
  {
   "cell_type": "markdown",
   "metadata": {
    "lang": "en"
   },
   "source": [
    "# Adaptive Filters"
   ]
  },
  {
   "cell_type": "markdown",
   "metadata": {
    "lang": "en"
   },
   "source": [
    "Adaptive filters are systems that are able to adapt their coefficients with respect to the properties of their environment, in order to satisfy a given objective. Furthermore, they may also be able to adapt themselves to modifications of the environment and track them. Many real-world applications employ adaptive filters, as Hearing aids, Localization and tracking\n",
    "Active noise control (anti-noise), Noise suppression, Audio upmix of stereo signals,Adaptive beamforming, MPEG audio coding, Non-linear echo cancellation, Adaptation of neural networks, etc. \n",
    "The following figure, taken from [Ref][1], presents  some possible applications:\n",
    "\n",
    "![](images/ExamplesApplications.png)\n",
    "\n",
    "We will first begin by describing the general filtering problem and derive the optimal solution, known as the Wiener filter. We will then explain how the solution can be obtained through iterative algorithms. Finally, we will describe how these algorithms can be turned into adaptive filters. \n",
    "\n",
    "\n",
    "[1]:  M. Harteneck and R.W. Stewart, Adaptive Digital Signal Processing JAVA Teaching Tool, IEEE  TRANSACTIONS  ON EDUCATION, MAY 2001, VOLUME 44, NUMBER 2,  IEEDAB \t(ISSN 0018-9359) [online here](http://www.ewh.ieee.org/soc/es/May2001/19/Begin.htm)"
   ]
  },
  {
   "cell_type": "markdown",
   "metadata": {
    "lang": "en"
   },
   "source": [
    "## A general filtering problem"
   ]
  },
  {
   "cell_type": "markdown",
   "metadata": {
    "lang": "en"
   },
   "source": [
    "In what follows, we will consider a general problem, which is sometimes called the `Wiener problem`.  Many actual problems, including filter identification, noise cancellation, linear prediction, etc can be formulated as special cases of this Wiener problem. \n",
    "\n",
    "![](GenericWiener.png)\n",
    "\n",
    "The classical formulation is as follows: Given a random signal $u(n)$, we would like to find a transform $\\mathcal{T}\\{u\\}$ such that the result is as close as possible to some `desired response` $d(n)$. We will restrict this general problem on two aspects. "
   ]
  },
  {
   "cell_type": "markdown",
   "metadata": {
    "lang": "en"
   },
   "source": [
    "- First, we will only consider  `linear` transforms of the sequence $\\{u(n)\\}_{n=0..N-1}$; that is filterings of $u(n)$. Furthermore, we will even restrict ourselves to causal, finite impulse response filters with $p$ taps. We denote by $w$ (with $w$ for Wiener) the impulse response. For now, we assume that the system is stationary, which implies that the impulse response does not depend on time $n$. Hence, the output can be computed as the convolution product\n",
    "\\begin{equation}\n",
    "\\label{eq:filt}\n",
    "y(n) = [w*u](n) = \\sum_{m=0}^{p-1} w(m)u(n-m)\n",
    "\\end{equation}\n",
    "- Second, the notion of  ``as close as'' will be quantified by a cost function on the error\n",
    "\\begin{equation}\n",
    "\\label{eq:error}\n",
    "e(n) =  y(n) - d(n).\n",
    "\\end{equation}\n",
    "Any cost function could be used, such as $|\\bullet|$, $|\\bullet|^2$, $|\\bullet|^3$ or even $\\sinh{e(n)}$... Among these possibilities, the square of the error yields interesting, closed-form solutions and simple computations. "
   ]
  },
  {
   "cell_type": "markdown",
   "metadata": {
    "lang": "en"
   },
   "source": [
    "We can  choose to work only with the sequences at hand and look at an integrated error such as\n",
    "\\begin{equation}\n",
    "\\label{eq:LScriterion}\n",
    "J_\\mathrm{ls}(w,n_0,n_1) =  \\sum_{n=n_0}^{n_1} {e(n)^2}\n",
    "\\end{equation}\n",
    "Such a criterion is called the Least Square criterion. \n",
    "We may also choose to work with the stochastic processes on average, and consider a `mean square error`\n",
    "\\begin{equation}\n",
    "\\label{eq:MSEcriterion}\n",
    "J_\\mathrm{mse}(w,n) =  \\E{e(n)^2}.\n",
    "\\end{equation}\n",
    "The corresponding criterion is the Minimum Mean Square Error criterion. \n",
    " "
   ]
  },
  {
   "cell_type": "markdown",
   "metadata": {},
   "source": [
    "### Introduction"
   ]
  },
  {
   "cell_type": "markdown",
   "metadata": {},
   "source": [
    "Definitions\n",
    "$$\\def\\ub{\\mathbf{u}}\n",
    "\\def\\wb{\\mathbf{w}}\n",
    "\\def\\wbopt{\\mathop{\\mathbf{w}}\\limits^\\triangle}\n",
    "\\def\\deriv#1#2{\\frac{\\mathrm{d}#1}{\\mathrm{d}#2}}\n",
    "\\def\\Ub{\\mathbf{U}}\n",
    "\\def\\db{\\mathbf{d}}\n",
    "\\def\\eb{\\mathbf{e}}\n",
    "$$"
   ]
  },
  {
   "cell_type": "markdown",
   "metadata": {},
   "source": [
    "### The Linear Minimum Mean Square Error Estimator"
   ]
  },
  {
   "cell_type": "markdown",
   "metadata": {
    "lang": "en"
   },
   "source": [
    "Let us define by $\\ub(n)$ the $p\\times1$  column vector collecting $p$ consecutive samples of the input\n",
    "$$\\ub(n)^T=\\left[ u(n), u(n-1), \\ldots u(n-p+1)\\right],$$\n",
    "and by $\\wb$ the vector collecting the samples of the impulse response:\n",
    "$$\\wb^T=\\left[ w(0), w(1), \\ldots w(p-1)\\right].$$\n",
    "Clearly, the output (\\ref{eq:filt}) of  filter $\\wb$  can be written as the dot product $y(n)=\\wb^T\\ub(n)$, and the error is simply \n",
    "$$\n",
    "e(n) = \\wb^T\\ub(n) - d(n). \n",
    "$$\n",
    "Observe that $J_\\mathrm{mse}(\\wb,n) $  is a quadratic form in $\\wb$. Therefore, the criterion admits a single global minimum. To see this, let us develop the MSE:\n",
    "\n",
    "\\begin{align}\n",
    "J_\\mathrm{mse}(\\wb,n) &  = \\E{\\left(\\wb^T\\ub(n) - d(n) \\right)\\left(\\ub(n)^T\\wb(n) - d(n) \\right)} \\\\\n",
    " & = \\wb^T \\E{\\ub(n) \\ub(n)^T}\\wb - 2\\wb^T \\E{\\ub(n)d(n)} + \\E{d(n)^2}  \\\\\n",
    " & = \\wb^T \\Rb_{uu} \\wb - 2\\wb^T \\Rb_{du} +\\sigma_d^2 \\label{eq:MSEdev}\n",
    "\\end{align}\n",
    "\n",
    "where we  denoted \n",
    "$$\n",
    "\\begin{cases}\n",
    "\\Rb_{uu} = \\E{\\ub(n) \\ub(n)^T} & \\text{the correlation matrix of $\\ub(n)$} \\\\\n",
    "\\Rb_{du} = \\E{d(n) \\ub(n) } & \\text{the correlation vector of $d(n)$ and $\\ub(n)$} \n",
    "\\end{cases}\n",
    "$$"
   ]
  },
  {
   "cell_type": "markdown",
   "metadata": {
    "lang": "en"
   },
   "source": [
    "We also used the fact that the dot product between two vectors is scalar and therefore equal to its transpose: e.g. $\\wb^T\\ub(n)=\\ub(n)^T\\wb$. \n",
    "\n",
    "From formula (\\ref{eq:MSEdev}), it can be checked that the MSE can also be put into the form of a perfect square, as\n",
    "\\begin{equation}\n",
    "J_\\mathrm{mse}(\\wb,n)  =  (\\wb-\\wbopt)^T \\Rb_{uu} (\\wb-\\wbopt) - \\wbopt ~^T\\Rb_{uu}\\wbopt +\\sigma_d^2 \\label{eq:MSEasperfectsaquare}\n",
    "\\end{equation}\n",
    "if\n",
    "\\begin{equation}\n",
    "\\eqboxc{\n",
    "\\wbopt:  \\Rb_{uu} \\wbopt= \\Rb_{du} }\n",
    "\\label{eq:normaleq} \n",
    "\\end{equation}\n",
    "Since the quadratic form in (\\ref{eq:MSEasperfectsaquare}) is always nonnegative, we see that the MSE is minimum if and only if \n",
    "\\begin{equation}\n",
    "\\eqboxd{\n",
    "\\wb=\\wbopt=\\Rb_{uu}^{-1} \\Rb_{du} ,}\n",
    "\\label{eq:wopt} \n",
    "\\end{equation}\n",
    "assuming that $\\Rb_{uu}$ is invertible. The minimum error is then given by\n",
    "\\begin{equation}\n",
    "\\eqboxb{\n",
    "J_\\mathrm{mse}(\\wbopt,n)  =  \\sigma_d^2 - \\wbopt ~^T\\Rb_{du}  \n",
    "}\n",
    "\\label{eq:MSEminimum}\n",
    "\\end{equation}\n",
    "\n",
    "\n",
    "Alternatively, the minimum can also be found by equating the derivative of the criterion to zero. Indeed, this derivative is \n",
    "$$\n",
    "\\deriv{} {\\wb} J_\\mathrm{mse}(\\wb,n)= \\deriv{\\E{e(n)^2}} {\\wb} = 2 \\E{ \\deriv{e(n)}{\\wb} e(n) }. \n",
    "$$\n",
    "Since $e(n) = \\wb^T\\ub(n) - d(n)$, its derivative with respect to $\\wb$ is $\\ub(n)$, and it remains\n",
    "\\begin{align}\n",
    "\\deriv{ } {\\wb} J_\\mathrm{mse}(\\wb,n) & = 2 \\E{ \\ub(n) e(n) } \\\\ \n",
    "&= 2 \\E{ \\ub(n) \\left(\\ub(n)^T\\wb - d(n)\\right)  }   \\\\\n",
    "& = 2 \\left(\\Rb_{uu} \\wb -  \\Rb_{du} \\right).     \n",
    "\\end{align}\n",
    "Hence, the derivative is zero if and only if $\\Rb_{uu} \\wb = \\Rb_{du} $ which is the solution (\\ref{eq:wopt}). \n",
    "\n",
    "Interestingly, we see that the optimum estimator depends only on the second order properties of  the desired response and the input sequence. This is a consequence of our choice of restricting ourselves to a quadratic criterion and a linear transform. "
   ]
  },
  {
   "cell_type": "markdown",
   "metadata": {},
   "source": [
    "### The Least Square Error Estimator"
   ]
  },
  {
   "cell_type": "markdown",
   "metadata": {},
   "source": [
    "The derivation of the least-squares estimator closely follows the steps we used for the MMSE estimator. This follows easily once the problem is formulated in matrix form. \n",
    "Define the error vector as $\\mathbf{e}(n_0,n_1)^T = \\left[ e(n_0), e(n_0+1), \\ldots e(n_1)\\right]$. Each component of the error, say $e(k)$ is equal to \n",
    "$$e(k)= \\ub(k)^T\\wb - d(k).$$ \n",
    "Therefore, we have\n",
    "\\begin{equation}\n",
    "\\begin{bmatrix}\n",
    "u(n_0) & u(n_0-1) & \\ldots & u(n_0-p+1) \\\\\n",
    "u(n_0+1) & u(n_0) & \\ldots & u(n_0-p+2) \\\\\n",
    "\\vdots & \\ddots & & \\vdots  \\\\\n",
    "u(n_1) & u(n_1-1) & \\ldots & u(n_1-p+1) \\\\\n",
    "\\end{bmatrix} \n",
    "\\wb \n",
    "- \n",
    "\\begin{bmatrix}\n",
    "d(n_0) \\\\\n",
    "d(n_0+1) \\\\\n",
    "\\vdots  \\\\\n",
    "d(n_1)\\\\\n",
    "\\end{bmatrix} \n",
    "=\n",
    "\\begin{bmatrix}\n",
    "e(n_0) \\\\\n",
    "e(n_0+1) \\\\\n",
    "\\vdots  \\\\\n",
    "e(n_1)\\\\\n",
    "\\end{bmatrix}. \n",
    "\\end{equation}\n",
    "This can also be written in compact form as\n",
    "$$\n",
    "\\Ub(n_0,n_1)\\wb - \\db(n_0,n_1) = \\eb(n_0,n_1).\n",
    "$$\n",
    "Then, the LS criterion (\\ref{eq:LScriterion}) can be reformulated as\n",
    "$$\n",
    "J_\\mathrm{ls}(w,n_0,n_1)   =  \\sum_{n=n_0}^{n_1} {e(n)^2} =  \\eb(n_0,n_1)^T \\eb(n_0,n_1) \n",
    "$$\n",
    "that is \n",
    "$$\n",
    "J_\\mathrm{ls}(w,n_0,n_1)  = \\left( \\Ub(n_0,n_1)\\wb - \\db(n_0,n_1)\\right)^T \\left( \\Ub(n_0,n_1)\\wb - \\db(n_0,n_1)\\right). \n",
    "$$\n",
    "Now, it is a simple task to compute the derivative of this LS criterion with respect to $\\wb$. One readily obtain\n",
    "$$\n",
    "\\deriv{} {\\wb} J_\\mathrm{ls}(w,n_0,n_1)  = 2  \\Ub(n_0,n_1)^T \\left( \\Ub(n_0,n_1)\\wb - \\db(n_0,n_1)\\right),\n",
    "$$\n",
    "which is equal to zero if and only if\n",
    "\\begin{equation}\n",
    "\\Ub(n_0,n_1)^T \\Ub(n_0,n_1) \\wb = \\Ub(n_0,n_1)^T \\db(n_0,n_1). \n",
    "\\label{eq:LSestimate1}\n",
    "\\end{equation}\n"
   ]
  },
  {
   "cell_type": "markdown",
   "metadata": {},
   "source": [
    "The different matrices and vectors above depend on two indexes $n_0$ and $n_1$. It is now time to discuss the meaning of these indexes and the possible choices for their values. Suppose that the data are available on $N$ samples, from $n=0$ to $n=N-1$. When we want to compute the error $e(k)$, with $k<p$, we see that the result depend on unobserved values. The same kind of problem occurs if we want to compute the error for $k>N-1$. Therefore we face the problem of affecting a value to unobserved values. A possibility is to take a value of zero for unobserved vales. Another possibility consists in affecting the values by periodization, modulo $N$, of the available data. A last possibility is to avoid the situations which request the use of unknown values.  \n",
    "\n",
    "The two main choices are the following:\n",
    "\n",
    "- If we want to use only known values, it suffices to restrict the summation interval to the interval with $n_0=p-1$ and $n_1=N-1$. The matrix $\\Ub$ has dimensions $(N-p)\\times p$.This choice is sometimes known as the `covariance form`. \n",
    "- If we choose $n_0=0$ and $n_1=N-p-2$, with unknown values taken as zero, the corresponding choice is called `correlation form`. The data matrix has now dimensions $N+p-1 \\times p$. \n",
    "\n",
    "It is now easy to see that the generic term of \n",
    "$\\left[\\Ub(n_0,n_1)^T \\Ub(n_0,n_1) \\right]_{ij}$ has the form $\\sum_n u(n-i) u(n-j)$, that is, is (up to a factor) an estimate of the correlation $R_{uu}(i-j)$. Consequently, we have an estimate  of the correlation matrix $\\Rb_{uu}$ given by\n",
    "$$\n",
    "\\hat{\\Rb}_{uu} = \\left[\\Ub(n_0,n_1)^T \\Ub(n_0,n_1) \\right].\n",
    "$$ In the case of the choice of the correlation form for the data matrix, the resulting estimate of the correlation matrix has Toeplitz symmetry. It is interesting to note that by construction, the estimated correlation matrix is automatically non-negative definite.  Similarly, $\\Rb_{du}$  can be estimated as \n",
    "$$ \n",
    "\\hat{\\Rb}_{du} = \\Ub(n_0,n_1)^T \\db(n_0,n_1).\n",
    "$$\n",
    "Finally, the LS estimate is \n",
    "\\begin{equation}\n",
    "\\eqboxd{\n",
    "\\wbopt ~_{ls} = \\left[ \\Ub(n_0,n_1)^T \\Ub(n_0,n_1)\\right]^{-1}    \\Ub(n_0,n_1)^T \\db(n_0,n_1) =\\hat{\\Rb}_{uu}^{-1}  \\hat{\\Rb}_{du} }.\n",
    "\\label{eq:LSestimate2}\n",
    "\\end{equation}"
   ]
  },
  {
   "cell_type": "markdown",
   "metadata": {},
   "source": [
    "### Application to filter identification"
   ]
  },
  {
   "cell_type": "markdown",
   "metadata": {},
   "source": [
    "\\label{sec:filterident}\n",
    "We will apply these results to the problem of filter identification. Let us briefly state the problem: we observe the noisy output $y$ of an unknown system with impulse response $h_\\mathrm{test}$ and a known input $x$. The goal is to identify  $h_\\mathrm{test}$ given $y$ and $x$. "
   ]
  },
  {
   "cell_type": "markdown",
   "metadata": {},
   "source": [
    "This figure is taken from [cnx.org](http://cnx.org/contents/0064a063-1735-4a49-a114-46391e362992@4.10:63/Fundamentals_of_Signal_Process)\n",
    "\n",
    "![](SystemIdentification.png)"
   ]
  },
  {
   "cell_type": "markdown",
   "metadata": {},
   "source": [
    ">We begin by simulating the problem. You may use the function `lfilter` to compute the output of the system. Take for $x$ a gaussian noise, `np.random.normal` or `np.random.randn`,  with unit variance on $N$ points, and add  a gaussian noise with scale factor 0.1 on the output. "
   ]
  },
  {
   "cell_type": "code",
   "execution_count": 2,
   "metadata": {
    "solution2": "shown"
   },
   "outputs": [
    {
     "data": {
      "text/html": [
       "<div class=caption><b> Caption: </b> System output in an identification problem</div>"
      ],
      "text/plain": [
       "<IPython.core.display.HTML object>"
      ]
     },
     "metadata": {},
     "output_type": "display_data"
    },
    {
     "data": {
      "application/json": {
       "caption": "System output in an identification problem",
       "label": " "
      }
     },
     "metadata": {
      "application/json": {
       "expanded": false
      }
     },
     "output_type": "display_data"
    },
    {
     "data": {
      "image/png": "[encoded data removed]",
      "text/plain": [
       "<Figure size 432x288 with 1 Axes>"
      ]
     },
     "metadata": {
      "image/png": {
       "height": 277,
       "width": 388
      }
     },
     "output_type": "display_data"
    }
   ],
   "source": [
    "# DO IT YOURSELF!\n",
    "#\n",
    "from scipy.signal import lfilter\n",
    "N=0  # update this\n",
    "x=0  # update this\n",
    "htest=10*np.array([1, 0.7, 0.7, 0.7, 0.3, 0 ])\n",
    "y0=0 # FILL IN SOMETHING CORRECT HERE\n",
    "y=0 # FILL IN SOMETHING CORRECT HERE\n",
    "#y0 = #noiseless output\n",
    "#y= #noisy output\n",
    "\n",
    "plt.plot(y)\n",
    "plt.xlabel(\"Time\")\n",
    "plt.title(\"Observation\")\n",
    "figcaption(\"System output in an identification problem\")"
   ]
  },
  {
   "cell_type": "code",
   "execution_count": 3,
   "metadata": {
    "solution2": "shown"
   },
   "outputs": [
    {
     "name": "stderr",
     "output_type": "stream",
     "text": [
      "/usr/local/lib/python3.5/site-packages/scipy/signal/signaltools.py:1344: FutureWarning: Using a non-tuple sequence for multidimensional indexing is deprecated; use `arr[tuple(seq)]` instead of `arr[seq]`. In the future this will be interpreted as an array index, `arr[np.array(seq)]`, which will result either in an error or a different result.\n",
      "  out = out_full[ind]\n"
     ]
    },
    {
     "data": {
      "text/html": [
       "<div class=caption><b> Caption: </b> System output in an identification problem</div>"
      ],
      "text/plain": [
       "<IPython.core.display.HTML object>"
      ]
     },
     "metadata": {},
     "output_type": "display_data"
    },
    {
     "data": {
      "application/json": {
       "caption": "System output in an identification problem",
       "label": " "
      }
     },
     "metadata": {
      "application/json": {
       "expanded": false
      }
     },
     "output_type": "display_data"
    },
    {
     "data": {
      "image/png": "[encoded data removed]",
      "text/plain": [
       "<Figure size 432x288 with 1 Axes>"
      ]
     },
     "metadata": {
      "image/png": {
       "height": 277,
       "width": 379
      }
     },
     "output_type": "display_data"
    }
   ],
   "source": [
    "from scipy.signal import lfilter\n",
    "# test\n",
    "N=200\n",
    "x=np.random.randn(N)\n",
    "htest=10*np.array([1, 0.7, 0.7, 0.7, 0.3, 0 ])\n",
    "#L=size(htest)\n",
    "#yo=zeros(N)\n",
    "#for t in range(L,200):\n",
    "#    yo[t]=htest.dot(x[t:t-L:-1])\n",
    "#y=yo+ 0.1*randn(N)\n",
    "y=lfilter(htest,[1],x)+0.1*randn(N)\n",
    "plt.plot(y)\n",
    "plt.xlabel(\"Time\")\n",
    "plt.title(\"Observation\")\n",
    "figcaption(\"System output in an identification problem\")"
   ]
  },
  {
   "cell_type": "markdown",
   "metadata": {},
   "source": [
    "Once this is done, we shall solve the normal equation (\\ref{eq:normaleq}). Of course, we firts need to estimate the correlation matrix $\\Rb_{uu}$ and the correlation vector $\\Rb_{du}$. This can be done with the functions `xcorr` and `toeplitz`. Beware on the fact that `xcorr` returns two vectors and that the returned correlation vector is the symmetric sequence with positive and negative indexes. "
   ]
  },
  {
   "cell_type": "markdown",
   "metadata": {
    "solution2": "shown"
   },
   "source": [
    ">Now, in order to implement the identification procedure, one has to put the problem as a Wiener problem and identify the input sequence $u$ and the desired one $d$. Actually, here one \n",
    "should simply observe that we look for a filter, which excited by the same  $x(n)$ should yield an output $z(n)$ as similar as  $y_0(n)$ as possible. So, what would you take for $u$ and $d$?"
   ]
  },
  {
   "cell_type": "markdown",
   "metadata": {
    "solution2": "shown"
   },
   "source": [
    "One thus take `u=x`, and `d=y`(the wanted sequence is $y_0(n)$, which shall be substituted by $y(n)$ -- since $y_0$ is unknown). "
   ]
  },
  {
   "cell_type": "markdown",
   "metadata": {},
   "source": [
    ">We now have to implement the estimation of correlations and then compute the solution to the normal equation. We note $q+1$ the size of the filter (then of the correlation vector and matrix). The inverse of a matrix can be obtained using the function `inv` in the module `np.linalg`. The matrix mutiplication can be done using the `.dot()` method. Finally, you may evaluate the performance by displaying the identified coefficients and by computing the MMSE according to (\\ref{eq:MSEminimum}). "
   ]
  },
  {
   "cell_type": "code",
   "execution_count": 4,
   "metadata": {},
   "outputs": [
    {
     "name": "stdout",
     "output_type": "stream",
     "text": [
      "Estimated filter [0. 0. 0. 0. 0. 0.]\n",
      "True filter [10.  7.  7.  7.  3.  0.]\n",
      "MMSE:  0.0\n"
     ]
    }
   ],
   "source": [
    "# DO IT YOURSELF!\n",
    "\n",
    "from correlation import xcorr\n",
    "from scipy.linalg import toeplitz\n",
    "from numpy.linalg import inv\n",
    "q=5\n",
    "z=np.zeros(q+1)\n",
    "\n",
    "u=z #update this\n",
    "d=z #update this\n",
    "c=z #update this #correlation vector\n",
    "Ruu=np.outer(z,z) #update this\n",
    "Rdu=z #update this\n",
    "\n",
    "w=z #update this\n",
    "print(\"Estimated filter\", w)\n",
    "print(\"True filter\", htest)\n",
    "# Minimum error\n",
    "sigma2d=mean(d**2)\n",
    "mmse=sigma2d-w.dot(Rdu)\n",
    "print(\"MMSE: \",mmse)"
   ]
  },
  {
   "cell_type": "raw",
   "metadata": {},
   "source": []
  },
  {
   "cell_type": "code",
   "execution_count": 5,
   "metadata": {
    "solution2": "shown"
   },
   "outputs": [
    {
     "name": "stdout",
     "output_type": "stream",
     "text": [
      "Estimated filter [9.99579596 6.99971449 6.99891821 7.00756649 2.98209483 0.02111972]\n",
      "True filter [10.  7.  7.  7.  3.  0.]\n",
      "MMSE:  0.07311854053568823\n"
     ]
    }
   ],
   "source": [
    "from correlation import xcorr\n",
    "from scipy.linalg import toeplitz\n",
    "from numpy.linalg import inv\n",
    "q=5\n",
    "\n",
    "u=x\n",
    "d=y\n",
    "c=xcorr(u,u,maxlags=q)[0][q::] #correlation vector\n",
    "Ruu=toeplitz(c)\n",
    "Rdu=xcorr(d,u,maxlags=q)[0][q::]\n",
    "w=inv(Ruu).dot(Rdu)\n",
    "print(\"Estimated filter\", w)\n",
    "print(\"True filter\", htest)\n",
    "# Minimum error\n",
    "sigma2d=mean(d**2)\n",
    "mmse=sigma2d-w.dot(Rdu)\n",
    "print(\"MMSE: \",mmse)"
   ]
  },
  {
   "cell_type": "markdown",
   "metadata": {
    "solution2": "shown"
   },
   "source": [
    ">Finally, it is interesting to transform the lines above in order to  plot the MMSE error as a function of $q$. "
   ]
  },
  {
   "cell_type": "code",
   "execution_count": 6,
   "metadata": {
    "solution2": "shown"
   },
   "outputs": [
    {
     "name": "stdout",
     "output_type": "stream",
     "text": [
      "MMSE:  [1.53217089e+02 1.03059212e+02 5.53037996e+01 8.81791422e+00\n",
      " 7.35574774e-02 7.31185405e-02 7.30355876e-02 7.28824287e-02\n",
      " 7.25334782e-02 7.16281756e-02 7.16038349e-02 7.16007670e-02\n",
      " 7.15140873e-02 7.14753138e-02 7.14263107e-02 7.11578446e-02\n",
      " 7.11258854e-02 7.07933429e-02]\n"
     ]
    },
    {
     "data": {
      "text/html": [
       "<div class=caption><b> Caption: </b> MMSE as a function of the length of the identification filter</div>"
      ],
      "text/plain": [
       "<IPython.core.display.HTML object>"
      ]
     },
     "metadata": {},
     "output_type": "display_data"
    },
    {
     "data": {
      "application/json": {
       "caption": "MMSE as a function of the length of the identification filter",
       "label": " "
      }
     },
     "metadata": {
      "application/json": {
       "expanded": false
      }
     },
     "output_type": "display_data"
    },
    {
     "data": {
      "image/png": "[encoded data removed]",
      "text/plain": [
       "<Figure size 432x288 with 1 Axes>"
      ]
     },
     "metadata": {
      "image/png": {
       "height": 277,
       "width": 397
      }
     },
     "output_type": "display_data"
    }
   ],
   "source": [
    "from correlation import xcorr\n",
    "from scipy.linalg import toeplitz\n",
    "from numpy.linalg import inv\n",
    "\n",
    "u=x\n",
    "d=y\n",
    "qmax=18 # max value for q\n",
    "mmse=np.zeros(qmax) # initialize the vector of errors\n",
    "for q in range(0,qmax):\n",
    "    c=xcorr(u,u,maxlags=q)[0][q::] #correlation vector\n",
    "    Ruu=toeplitz(c)\n",
    "    Rdu=xcorr(d,u,maxlags=q)[0][q::]\n",
    "    w=inv(Ruu).dot(Rdu)\n",
    "    # Minimum error\n",
    "    sigma2d=mean(d**2)\n",
    "    mmse[q]=sigma2d-w.dot(Rdu)\n",
    "print(\"MMSE: \", mmse)\n",
    "plt.plot(range(0,qmax),mmse)\n",
    "plt.xlabel(\"Order of the filter\")\n",
    "plt.ylabel(\"MMSE\")\n",
    "plt.title(\"MMSE as a function of the length of the identification filter\")\n",
    "figcaption(\"MMSE as a function of the length of the identification filter\")"
   ]
  },
  {
   "cell_type": "markdown",
   "metadata": {},
   "source": [
    "The evolution of the MMSE with respect to $q$ shows that the MMSE is important while the  length of the identification filter is underestimated. The MMSE falls to a \"floor\" when the length is equal to or higher than the true value. This offers an easy way to detect an \"optimal\" order for the identification. \n",
    "\n",
    "\\begin{remark}\n",
    "Actually, the identification error always decreases when one increases the length of the filter, that is add degrees of freedom to perform the identification. Usually, increasing the number of parameters decreases the statistical stability of the estimate, and one has to made a trade-off between a sufficient number of parameters to avoid a bias ans a low number of parameter to lower the variance of the estimate.  This is the notion of bias-variance trade-off that appears in many areas of statistical signal processing. Thus, for choosing an \"optimal\" order, one usually use a composite criterion where the first term is the MMSE, decreasing with the order, and a second term which increases with the order, thus penalizing high orders. \n",
    "\\end{remark}"
   ]
  },
  {
   "cell_type": "markdown",
   "metadata": {},
   "source": [
    "----\n",
    "<div align=right> [Index](toc.ipynb) - [Back](Lecture3_RandomSignals.ipynb) - [Next](Grad_algo.ipynb)</div>"
   ]
  }
 ],
 "metadata": {
  "hide_input": false,
  "interactive_sols": {
   "cbx_id": 5
  },
  "kernelspec": {
   "display_name": "Python 3 (ipykernel)",
   "language": "python",
   "name": "python3"
  },
  "language_info": {
   "codemirror_mode": {
    "name": "ipython",
    "version": 3
   },
   "file_extension": ".py",
   "mimetype": "text/x-python",
   "name": "python",
   "nbconvert_exporter": "python",
   "pygments_lexer": "ipython3",
   "version": "3.10.13"
  },
  "latex_envs": {
   "LaTeX_envs_menu_present": true,
   "autoclose": false,
   "autocomplete": true,
   "bibliofile": "biblio.bib",
   "cite_by": "apalike",
   "current_citInitial": 1,
   "eqLabelWithNumbers": true,
   "eqNumInitial": 1,
   "hotkeys": {
    "equation": "ctrl-e"
   },
   "labels_anchors": false,
   "latex_user_defs": false,
   "report_style_numbering": false,
   "user_envs_cfg": false
  },
  "nbTranslate": {
   "displayLangs": [
    "en"
   ],
   "hotkey": "alt-t",
   "langInMainMenu": true,
   "sourceLang": "en",
   "targetLang": "fr",
   "useGoogleTranslate": true
  },
  "toc": {
   "base_numbering": "1",
   "nav_menu": {
    "height": "129px",
    "width": "251px"
   },
   "number_sections": true,
   "sideBar": true,
   "skip_h1_title": false,
   "title_cell": "Table of Contents",
   "title_sidebar": "Contents",
   "toc_cell": true,
   "toc_position": {},
   "toc_section_display": "block",
   "toc_window_display": false
  },
  "varInspector": {
   "cols": {
    "lenName": 16,
    "lenType": 16,
    "lenVar": 40
   },
   "kernels_config": {
    "python": {
     "delete_cmd_postfix": "",
     "delete_cmd_prefix": "del ",
     "library": "var_list.py",
     "varRefreshCmd": "print(var_dic_list())"
    },
    "r": {
     "delete_cmd_postfix": ") ",
     "delete_cmd_prefix": "rm(",
     "library": "var_list.r",
     "varRefreshCmd": "cat(var_dic_list()) "
    }
   },
   "types_to_exclude": [
    "module",
    "function",
    "builtin_function_or_method",
    "instance",
    "_Feature"
   ],
   "window_display": false
  }
 },
 "nbformat": 4,
 "nbformat_minor": 4
}
