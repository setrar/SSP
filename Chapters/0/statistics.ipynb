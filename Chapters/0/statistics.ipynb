{
 "cells": [
  {
   "cell_type": "markdown",
   "id": "b08d00b5-d617-4cd3-8975-5398965f7f04",
   "metadata": {},
   "source": [
    "## Statistics"
   ]
  },
  {
   "cell_type": "code",
   "execution_count": 59,
   "id": "b4b633db-6e80-41b4-94ca-370eb0acb6c8",
   "metadata": {},
   "outputs": [
    {
     "data": {
      "text/plain": [
       "5-element Vector{Int64}:\n",
       " 1\n",
       " 2\n",
       " 3\n",
       " 4\n",
       " 5"
      ]
     },
     "execution_count": 59,
     "metadata": {},
     "output_type": "execute_result"
    }
   ],
   "source": [
    "X = [ 1, 2, 3, 4, 5] # Χ = each value"
   ]
  },
  {
   "cell_type": "code",
   "execution_count": 60,
   "id": "9d50edaf-3d2f-4bdd-922e-60cf89fec2a3",
   "metadata": {},
   "outputs": [],
   "source": [
    "∑ = x -> sum(x); # ∑ = sum of…"
   ]
  },
  {
   "cell_type": "code",
   "execution_count": 61,
   "id": "e8ff51cd-991d-4905-ab06-b794db191529",
   "metadata": {},
   "outputs": [
    {
     "data": {
      "text/plain": [
       "5"
      ]
     },
     "execution_count": 61,
     "metadata": {},
     "output_type": "execute_result"
    }
   ],
   "source": [
    "𝑁 = length(X) # Ν = number of values in the population"
   ]
  },
  {
   "cell_type": "markdown",
   "id": "66c5721a-8e72-4fdd-9193-452b01e13f99",
   "metadata": {},
   "source": [
    "#### [Mean](https://www.scribbr.com/statistics/mean/)\n",
    "\n",
    "$$\n",
    "\\bar{X} = \\frac{1}{N} \\sum_{x = 1}^N(X)\n",
    "$$\n",
    "\n",
    "The population mean can also be denoted as μ."
   ]
  },
  {
   "cell_type": "code",
   "execution_count": 62,
   "id": "ab875d0c-91f7-47e4-bf02-755b3cc4d20b",
   "metadata": {},
   "outputs": [
    {
     "data": {
      "text/plain": [
       "3.0"
      ]
     },
     "execution_count": 62,
     "metadata": {},
     "output_type": "execute_result"
    }
   ],
   "source": [
    "μ = 1/𝑁 * ∑(X)"
   ]
  },
  {
   "cell_type": "markdown",
   "id": "00be13e3-4318-446a-8a3d-3303e0b1ae37",
   "metadata": {},
   "source": [
    "#### [Variance](https://www.scribbr.com/statistics/variance/)\n",
    "\n",
    "$$\n",
    "\\sigma^2 = \\frac{\\sum( X - \\mu )^2 }{N}\n",
    "$$"
   ]
  },
  {
   "cell_type": "code",
   "execution_count": 63,
   "id": "61b053c1-9db9-41ea-a825-2f174a2c7c8f",
   "metadata": {},
   "outputs": [
    {
     "data": {
      "text/plain": [
       "5-element Vector{Float64}:\n",
       " -2.0\n",
       " -1.0\n",
       "  0.0\n",
       "  1.0\n",
       "  2.0"
      ]
     },
     "execution_count": 63,
     "metadata": {},
     "output_type": "execute_result"
    }
   ],
   "source": [
    "X .- μ"
   ]
  },
  {
   "cell_type": "code",
   "execution_count": 64,
   "id": "108464d8-7e13-4a5d-b202-8618d619d72e",
   "metadata": {},
   "outputs": [
    {
     "data": {
      "text/plain": [
       "0.0"
      ]
     },
     "execution_count": 64,
     "metadata": {},
     "output_type": "execute_result"
    }
   ],
   "source": [
    "∑(X .- μ)"
   ]
  },
  {
   "cell_type": "code",
   "execution_count": 65,
   "id": "85effc92-ab2a-4827-8caf-3242c23b5c54",
   "metadata": {},
   "outputs": [
    {
     "name": "stdout",
     "output_type": "stream",
     "text": [
      "σ² = 0.0\n"
     ]
    }
   ],
   "source": [
    "σ² = 1/𝑁 * ∑(X .- μ)^2; @show σ²;"
   ]
  },
  {
   "cell_type": "markdown",
   "id": "a2031ed5-1cd3-4fc2-9cce-34697ee1ab21",
   "metadata": {},
   "source": [
    "#### [Standard Deviation](https://www.scribbr.com/statistics/standard-deviation)\n",
    "\n",
    "$$\n",
    "\\sigma = \\sqrt ( \\frac{\\sum( X - \\mu )^2 }{N} )\n",
    "$$"
   ]
  },
  {
   "cell_type": "code",
   "execution_count": 66,
   "id": "5b9196ec-2f12-484e-b469-eb6639105ad8",
   "metadata": {},
   "outputs": [],
   "source": [
    "√ = x -> sqrt(x); # √ = square root of…"
   ]
  },
  {
   "cell_type": "code",
   "execution_count": 67,
   "id": "8bc24cbb-d919-492c-bfc2-c06e952c7166",
   "metadata": {},
   "outputs": [
    {
     "name": "stdout",
     "output_type": "stream",
     "text": [
      "σ = 0.0\n"
     ]
    }
   ],
   "source": [
    "σ = √( (∑(X .- μ)^2)/𝑁 ); @show σ;"
   ]
  }
 ],
 "metadata": {
  "kernelspec": {
   "display_name": "Julia 1.9.3",
   "language": "julia",
   "name": "julia-1.9"
  },
  "language_info": {
   "file_extension": ".jl",
   "mimetype": "application/julia",
   "name": "julia",
   "version": "1.10.0"
  }
 },
 "nbformat": 4,
 "nbformat_minor": 5
}
