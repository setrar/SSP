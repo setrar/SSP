{
 "cells": [
  {
   "cell_type": "markdown",
   "id": "dc60221a-a09b-4c92-a08c-66c58fcda3c8",
   "metadata": {},
   "source": [
    "## Multivariate Gaussian Derivation"
   ]
  },
  {
   "cell_type": "markdown",
   "id": "3cc4920f-c733-460c-a235-92bfa3252494",
   "metadata": {},
   "source": [
    "- [x]  _goal:_ derive multivariate Gaussian distribution from univariate Gaussian distribution and two postulates"
   ]
  },
  {
   "cell_type": "markdown",
   "id": "f88d4e0f-187e-4579-88cd-12ffcb480602",
   "metadata": {},
   "source": [
    "* ${\\color{YellowGreen}X} = [x_1 \\dots x_m]^T$ real random vector with specified mean and covariance matrix:\n",
    "\n",
    "with mean: $\\quad \\quad \\quad \\quad \\quad \\quad \\quad \\quad \\quad m_X = E{\\color{YellowGreen}X} = [m_{x_1} \\dots m_{x_m}]^T$\n",
    "\n",
    "and covariance matrix: _(centered)_\n",
    "$\n",
    "\\begin{split}\n",
    "C_{XX} & = E({\\color{YellowGreen}X}-m_X)({\\color{YellowGreen}X}-m_X)^T = \\Big[ E({\\color{YellowGreen}X}-m_X)({\\color{YellowGreen}X}-m_X)^T \\Big]_{i,j=1}^m\n",
    "\\\\\n",
    "& = E({\\color{YellowGreen}XX}^T-{\\color{YellowGreen}X}m_X^T-m_X{\\color{YellowGreen}X}^T+m_Xm_X^T)\n",
    "\\\\\n",
    "& = (E{\\color{YellowGreen}X}{\\color{YellowGreen}X}^T) - (E{\\color{YellowGreen}X})m_X^T-m_X(E{\\color{YellowGreen}X})^T + m_Xm_X^T\n",
    "\\\\\n",
    "& = R_{XX}-m_Xm_X^T-\\not{m_Xm_X^T}+\\not{m_Xm_X^T} = R_{XX}-m_Xm_X^T\n",
    "\\end{split}\n",
    "$"
   ]
  },
  {
   "cell_type": "markdown",
   "id": "25fce052-2de3-48a7-ae03-85170cd07d25",
   "metadata": {},
   "source": [
    "$R_{XX} = E{\\color{YellowGreen}X}{\\color{YellowGreen}X}^T$ = correlation matrix, _(not centered)_\n",
    "\n",
    "linearity of expectation $\\mathit{E}$ exploited _(linear operations commute)_"
   ]
  },
  {
   "cell_type": "markdown",
   "id": "53eb6074-46fa-499e-bb6e-10e29223dd00",
   "metadata": {},
   "source": [
    "* by definition of expectation\n",
    "\n",
    "$C_{XX} = E({\\color{YellowGreen}X}-m_X)({\\color{YellowGreen}X}-m_X)^T = \\int \\mathrm{d}x_1 \\dots \\int \\mathrm{d}x_m f_{\\color{YellowGreen}X}(X) ({\\color{YellowGreen}X} - m_x)({\\color{YellowGreen}X} - m_x)^T$\n",
    "\n",
    "$\\implies C_{XX} = C_{XX}^T$ symmetric"
   ]
  },
  {
   "cell_type": "markdown",
   "id": "fefbf6b9-879a-4252-93aa-cd28d006657b",
   "metadata": {},
   "source": [
    "- _Postulate_ that a linear transformation of jointly Gaussian random variables produces again jointly Gaussian random variables."
   ]
  },
  {
   "cell_type": "markdown",
   "id": "c215b258-3e57-415c-9924-2afb42fe84f5",
   "metadata": {},
   "source": [
    "- Consider now a linear transformation of variables:\n",
    "$$ \n",
    "\\begin{gather}\n",
    "{\\color{Cyan}Z} = V^T({\\color{YellowGreen}X} - m_X)\n",
    "\\\\\n",
    "\\text { Components of } {\\color{Cyan}Z} \\text{ jointly Gaussian }\n",
    "\\\\\n",
    "{\\color{YellowGreen}X} \\text{ is Gaussian } \\iff {\\color{Cyan}Z} \\text { is Gaussian }\n",
    "\\end{gather}\n",
    "$$\n",
    "$$ \n",
    "\\begin{gather}\n",
    "\\text{ Then we find the first two moments: } \\qquad \\qquad \\qquad \\qquad \\qquad \\qquad \\qquad \\qquad \\qquad\n",
    "\\\\\n",
    "m_Z = E \\; V^T({\\color{YellowGreen}X} - m_X ) = V^T(E{\\color{YellowGreen}X} - m_X ) = V^T(m_X - m_X) = 0 \\qquad \\qquad \\qquad\n",
    "\\\\\n",
    "C_{ZZ} = E({\\color{Cyan}Z} - m_Z)({\\color{Cyan}Z} - m_Z)^T = E{\\color{Cyan}Z}{\\color{Cyan}Z}^T = EV^T ({\\color{YellowGreen}X} - m_X)({\\color{YellowGreen}X} - m_X)^TV \\qquad\n",
    "\\\\\n",
    "= \n",
    "V^T \\big( E({\\color{YellowGreen}X} - m_X)({\\color{YellowGreen}X} - m_X)^T \\big) V = V^TC_{XX}V = V^TV \\Lambda V^TV = \\Lambda\n",
    "\\\\\n",
    "\\qquad \\qquad  \\qquad \\qquad \\qquad \\qquad \\qquad \\qquad \\qquad \\qquad \\widehat { \\mathit{eigendecomposition} }\n",
    "\\end{gather}\n",
    "$$\n",
    "\n",
    "$$ \n",
    "\\text{ Or hence } \\mathit{E}_{ {\\color{Cyan}z}_i{\\color{Cyan}z}_j } = \\lambda_i \\sigma_{ij} \\text{ : the } {\\color{Cyan}z}_i \\text{ are zero mean and uncorrelated } \\qquad \\qquad\n",
    "$$\n"
   ]
  },
  {
   "cell_type": "markdown",
   "id": "8d798098-513f-4a90-adb5-6d1e9f566995",
   "metadata": {},
   "source": [
    "- At this point, only are specified : the first two moments of the ${\\color{Cyan}z}_i$. Now, specify the rest of their distribution by stating that the ${\\color{Cyan}z}_i$ are jointly Gaussian. We furthermore postulate that zero mean uncorrelated Gaussian random variables are independent.\n",
    "\n",
    "Note that in general\n",
    "$\n",
    "\\left.\\!\n",
    "    \\begin{array}{c}\n",
    "      \\text { independent } \\\\\n",
    "      \\text { zero mean }\n",
    "    \\end{array}\n",
    "  \\!\\right\\}\n",
    "\\left.\\!\n",
    "    \\begin{array}{c}\n",
    "      \\implies \\\\\n",
    "      \\not\\impliedby\n",
    "    \\end{array}\n",
    "  \\!\\right.\n",
    "\\left\\{\\!\n",
    "    \\begin{array}{c}\n",
    "      \\text { uncorrelated } \\\\\n",
    "      \\text { zero mean}\n",
    "    \\end{array}\n",
    "  \\!\\right.\n",
    "$"
   ]
  },
  {
   "cell_type": "markdown",
   "id": "06b19e38-ea7c-41f4-896c-1235156c1fe2",
   "metadata": {},
   "source": [
    "- joint distribution of:\n",
    "$\\text {  the independent Gaussian } \\mathbf{r.v.} \\text{’s } {\\color{Cyan}z}_i. $\n",
    "\n",
    "$\n",
    "\\begin{split}\n",
    "f_{\\color{Cyan}z}(Z) \n",
    "= \n",
    "\\prod_{i = 1}^m f_{\\color{Cyan}z}(z_i) \\qquad \\qquad \\qquad \\qquad \\qquad \\qquad \\;\n",
    "\\\\\n",
    "= \n",
    "\\prod_{i = 1}^m exp\\Big( - \\frac{z_i^2}{2\\lambda_i}\\Big) \\qquad \\qquad \\qquad \\qquad  \\quad\n",
    "\\\\\n",
    "= \n",
    "(2\\pi)^{- \\frac{m}{2}} det(\\Lambda)^{- \\frac{1}{2}}exp\\Big( - \\frac{1}{2}Z^T \\Lambda^{-1} Z \\Big)\n",
    "\\\\\n",
    "\\end{split}\n",
    "$\n",
    "<img src=images/joint_distribution_derivation.png width='15%' height='15%' />\n"
   ]
  },
  {
   "cell_type": "markdown",
   "id": "81aa10a5-6804-4623-ae8f-77f5c462722b",
   "metadata": {
    "editable": true,
    "slideshow": {
     "slide_type": ""
    },
    "tags": []
   },
   "source": [
    "- Since the Jacobian: $(det V^T)$ of the linear transformation between ${\\color{YellowGreen}X}$ and ${\\color{Cyan}Z}$ equals one, we get for the joint distribution of the $x_i$  ${\\color{Cyan}Z} = V^T ( {\\color{YellowGreen}X} - m_X )$\n",
    "$$\n",
    "\\begin{gather}\n",
    "f_{\\color{YellowGreen}X}(X) = f_{\\color{YellowGreen}Z} \\Big( V^T({\\color{YellowGreen}X} - m_X) \\Big) \\qquad \\qquad \\qquad \\qquad \\qquad \\qquad \\qquad \\qquad \\qquad \\qquad \\qquad \\qquad \\qquad \\quad\n",
    "\\\\\n",
    "= \n",
    "(2\\pi)^{- \\frac{m}{2}} \\big( det(V^T C_{XX} V) \\big)^{- \\frac{1}{2}}  exp \\Big( - \\frac{1}{2}[V^T (X - m_x)]^T  \\; \\Lambda^{-1} \\; [V^T (X - m_x)] \\; \\Big) \n",
    "\\end{gather}\n",
    "$$ "
   ]
  },
  {
   "cell_type": "code",
   "execution_count": null,
   "id": "ca60d389-04f4-4795-a986-25d71f87070e",
   "metadata": {},
   "outputs": [],
   "source": []
  }
 ],
 "metadata": {
  "kernelspec": {
   "display_name": "Julia 1.9.3",
   "language": "julia",
   "name": "julia-1.9"
  },
  "language_info": {
   "file_extension": ".jl",
   "mimetype": "application/julia",
   "name": "julia",
   "version": "1.10.0"
  }
 },
 "nbformat": 4,
 "nbformat_minor": 5
}
