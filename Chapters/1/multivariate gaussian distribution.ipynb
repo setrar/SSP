{
 "cells": [
  {
   "cell_type": "markdown",
   "id": "b79e3c7f-fc25-409c-9b18-658c4c8c303e",
   "metadata": {
    "editable": true,
    "slideshow": {
     "slide_type": ""
    },
    "tags": []
   },
   "source": [
    "# Overview\n",
    "\n"
   ]
  },
  {
   "cell_type": "markdown",
   "id": "7cdb59d7-f2d0-44a1-83b9-cd50138bb96e",
   "metadata": {},
   "source": [
    "## The Multivariate Gaussian Distribution\n",
    "\n",
    "$$ \n",
    "{\\color{YellowGreen}X} = [x_1 \\dots x_m]^T : \\mathit{m} \\text{ jointly Gaussian random variables:} \n",
    "\\; {\\color{YellowGreen}X} \\sim \\mathcal{N} ( m_X , C_{XX} )\n",
    "$$\n",
    "\n"
   ]
  },
  {
   "cell_type": "markdown",
   "id": "e2c74239-b8f6-458f-a528-b45e1b9fe94c",
   "metadata": {},
   "source": [
    "- with mean\n",
    "\n",
    "$$\n",
    "\\begin{gather}\n",
    "m_X = E{\\color{YellowGreen}X} = \\int \\mathrm{d}x_1 \\dots \\int \\mathrm{d}x_m f_{\\color{YellowGreen}X}(X)X \\\\\n",
    "=\n",
    "\\begin{bmatrix}\n",
    "\\int \\mathrm{d}x_1 \\dots \\int \\mathrm{d}x_m f_{\\color{YellowGreen}X}(X)x_1 \\\\\n",
    "\\dots \\\\\n",
    "\\int \\mathrm{d}x_1 \\dots \\int \\mathrm{d}x_m f_{\\color{YellowGreen}X}(X)x_m\n",
    "\\end{bmatrix}\n",
    "=\n",
    "\\begin{bmatrix}\n",
    "\\int \\mathrm{d}x_1 x_1 \\frac{f_{x_1}(x_1)}{\\widehat{\\int \\mathrm{d}x_2 \\dots \\int \\mathrm{d}x_m f_{\\color{YellowGreen}X}(X)X}} \\\\\n",
    "\\dots \\\\\n",
    "\\int \\mathrm{d}x_m x_m \\frac{\\int \\mathrm{d}x_1 \\dots \\int \\mathrm{d}x_{m - 1 } f_{\\color{YellowGreen}X}(X)X}{\\widetilde{f_{x_m}(x_m)}}\n",
    "\\end{bmatrix}\n",
    "=\n",
    "\\begin{bmatrix}\n",
    "m_{x1} \\\\\n",
    "\\dots \\\\\n",
    "m_{xm}\n",
    "\\end{bmatrix}\n",
    "\\end{gather}\n",
    "$$"
   ]
  },
  {
   "cell_type": "markdown",
   "id": "93a654c9-865b-4df5-82f6-f12f2a1bc9a9",
   "metadata": {},
   "source": [
    "- and covariance matrix (matrix of correlation)\n",
    "\n",
    "$$\n",
    "\\begin{gather}\n",
    "C_{XX} = E({\\color{YellowGreen}X} - m_x)({\\color{YellowGreen}X} - m_x)^T = \\int \\mathrm{d}x_1 \\dots \\int \\mathrm{d}x_m \\frac{f_X(X)}{density \\geq 0} \\frac{({\\color{YellowGreen}X} - m_x)({\\color{YellowGreen}X} - m_x)^T}{\\geq 0, rank \\; 1}\n",
    "\\\\\n",
    "\\text { where } C_{x_ix_j} = E({\\color{YellowGreen}x}_i - m_{x_i})({\\color{YellowGreen}x}_j - m_{x_j})\n",
    "\\end{gather}\n",
    "$$\n",
    "\n",
    "$$\n",
    "\\begin{gather}\n",
    "\\text{ As weighted average of positive semi-definite matrices: } C_{XX} = C_{XX} \\geq 0 \\text { symmetric and positive semi-definite: }\n",
    "\\\\\n",
    "\\forall U \\in \\mathcal{R}^m : U^T C_{XX} U = U^T E({\\color{YellowGreen}X} − m_X )( {\\color{YellowGreen}X} − m_X )^T U = E( U^T({\\color{YellowGreen}X} − m_X ))^2 \\geq 0\n",
    "\\end{gather}\n",
    "$$\n",
    "\n",
    "<img src=images/covariance_matrix.png width='50%' height='50%' ></img>"
   ]
  },
  {
   "cell_type": "markdown",
   "id": "d0c39ead-f530-42a2-9b42-5a5f0e2ca2c2",
   "metadata": {},
   "source": [
    "- joint Gaussian probability density function (pdf):\n",
    "\n",
    "$$ \n",
    "\\begin{gather}\n",
    "f_{\\color{YellowGreen}X}(X) = (2\\pi)^{- \\frac{m}{2}} (det \\; C_{XX} )^{- \\frac{1}{2}} exp \\big( - \\frac{1}{2} [ {\\color{YellowGreen}X} - m_X ]^T \\; C_{XX}^{-1} \\; [ {\\color{YellowGreen}X} - m_X ] \\big)\n",
    "\\\\\n",
    "f_{\\color{YellowGreen}X}(X; m_X, C_{XX}) = \\frac{1}{\\sqrt{(2\\pi)^m \\text{det}(C_{XX})}} \\exp\\left(-\\frac{1}{2}[{\\color{YellowGreen}X} - m_X]^T C_{XX}^{-1} [{\\color{YellowGreen}X} - m_X]\\right)\n",
    "\\\\\n",
    "\\text { Result is a scalar expression }\n",
    "\\end{gather}$$\n",
    "\n",
    "<img src='images/joint_distribution.png' width='25%' height='25%' > </img>"
   ]
  },
  {
   "cell_type": "markdown",
   "id": "cf5aa62c-2aa3-4c07-8808-6a7007913f1c",
   "metadata": {},
   "source": [
    "## The Multivariate Gaussian Distribution (2)\n",
    "\n",
    "$$ {\\color{YellowGreen}X} = [x_1 \\dots x_m]^T \\; and \\; {\\color{Salmon}Y} = [y_1 \\dots y_n]^T : \\mathit{m + n} \\text{ jointly Gaussian random variables:} $$\n",
    "\n",
    "\n",
    "\\begin{gather}\n",
    "\\begin{bmatrix}\n",
    "{\\color{YellowGreen}X} \\\\\n",
    "{\\color{Salmon}Y}\n",
    "\\end{bmatrix}\n",
    "\\sim\n",
    "\\mathcal{N}\n",
    "\\Bigg(\n",
    "\\begin{bmatrix}\n",
    "m_X \\\\\n",
    "m_Y\n",
    "\\end{bmatrix}\n",
    ",\n",
    "\\begin{bmatrix}\n",
    "C_{XX} & C_{XY} \\\\\n",
    "C_{YX} & C_{YY} \n",
    "\\end{bmatrix}\n",
    "\\Bigg)\n",
    "\\quad C_{??} \\text{ are 2x2 block matrices }\n",
    "\\end{gather}\n",
    "\n"
   ]
  },
  {
   "cell_type": "markdown",
   "id": "0904b64a-8d42-411c-9df2-8e65d43066cb",
   "metadata": {},
   "source": [
    "- with mean and covariance matrix\n",
    "\n",
    "\\begin{gather}\n",
    "\\begin{bmatrix}\n",
    "m_X \\\\\n",
    "m_Y\n",
    "\\end{bmatrix}\n",
    "=\n",
    "E\n",
    "\\begin{bmatrix}\n",
    "{\\color{YellowGreen}X} \\\\\n",
    "{\\color{Salmon}Y}\n",
    "\\end{bmatrix}\n",
    ", C =\n",
    "\\begin{bmatrix}\n",
    "C_{XX} & C_{YX} \\\\\n",
    "C_{YX} & C_{YY}\n",
    "\\end{bmatrix}\n",
    "\\to \n",
    "\\begin{array}{c|c}\n",
    "  m \\; X \\; m & m \\; X \\; n \\\\ \n",
    "  \\hline\n",
    "  n \\; X \\; m & n \\; X \\; n\n",
    " \\end{array}\n",
    " = E\n",
    " \\begin{bmatrix}\n",
    " {\\color{YellowGreen}X} - m_X \\\\\n",
    " {\\color{Salmon}Y} - m_Y\n",
    " \\end{bmatrix}\n",
    " \\begin{bmatrix}\n",
    " {\\color{YellowGreen}X} - m_X \\\\\n",
    " {\\color{Salmon}Y} - m_Y\n",
    " \\end{bmatrix}^T\n",
    "\\end{gather}"
   ]
  },
  {
   "cell_type": "markdown",
   "id": "01fe2d07-04e9-47af-87eb-32c1a3fdf4b1",
   "metadata": {},
   "source": [
    "# References\n",
    "\n",
    "- [ ] [Multivariate normal distribution](https://en.wikipedia.org/wiki/Multivariate_normal_distribution)"
   ]
  }
 ],
 "metadata": {
  "kernelspec": {
   "display_name": "Julia 1.9.3",
   "language": "julia",
   "name": "julia-1.9"
  },
  "language_info": {
   "file_extension": ".jl",
   "mimetype": "application/julia",
   "name": "julia",
   "version": "1.10.0"
  }
 },
 "nbformat": 4,
 "nbformat_minor": 5
}
