{
 "cells": [
  {
   "cell_type": "code",
   "execution_count": 1,
   "id": "6280f7fe-e02f-49bf-b79e-84d59f367215",
   "metadata": {},
   "outputs": [],
   "source": [
    "using Plots"
   ]
  },
  {
   "cell_type": "code",
   "execution_count": 2,
   "id": "43a3f77f-9cd6-4eff-95a5-46ace6629fac",
   "metadata": {},
   "outputs": [
    {
     "name": "stdout",
     "output_type": "stream",
     "text": [
      "PDF at [1.5, 2.5]: 0.15556327812622517\n"
     ]
    }
   ],
   "source": [
    "include(\"MultivariateNomal.jl\");"
   ]
  },
  {
   "cell_type": "code",
   "execution_count": 3,
   "id": "a9405ca6-745a-47c0-9988-87f9104a31c6",
   "metadata": {},
   "outputs": [
    {
     "data": {
      "text/plain": [
       "meshgrid (generic function with 1 method)"
      ]
     },
     "execution_count": 3,
     "metadata": {},
     "output_type": "execute_result"
    }
   ],
   "source": [
    "function meshgrid(x, y)\n",
    "   X = [x for _ in y, x in x]\n",
    "   Y = [y for y in y, _ in x]\n",
    "   X, Y\n",
    "end"
   ]
  },
  {
   "cell_type": "code",
   "execution_count": 4,
   "id": "d010d8a0-1488-4e82-9a28-d385bb33476f",
   "metadata": {},
   "outputs": [
    {
     "data": {
      "text/plain": [
       "2×2 Matrix{Float64}:\n",
       " 1.0  0.0\n",
       " 0.0  1.0"
      ]
     },
     "execution_count": 4,
     "metadata": {},
     "output_type": "execute_result"
    }
   ],
   "source": [
    "# Define multivariate normal distribution parameters\n",
    "mₓ  = [0.0, 0.0]  # Mean\n",
    "Cₓₓ = [1.0 0.0;\n",
    "       0.0 1.0]  # Covariance"
   ]
  },
  {
   "cell_type": "code",
   "execution_count": 5,
   "id": "6795d53a-db2d-4315-987b-a92860f47f1f",
   "metadata": {},
   "outputs": [
    {
     "data": {
      "text/plain": [
       "MultivariateNormal([0.0, 0.0], [1.0 0.0; 0.0 1.0])"
      ]
     },
     "execution_count": 5,
     "metadata": {},
     "output_type": "execute_result"
    }
   ],
   "source": [
    "mvn = MvNormal(mₓ, Cₓₓ)"
   ]
  },
  {
   "cell_type": "code",
   "execution_count": 6,
   "id": "bb947d91-30f0-4fb8-94e8-a863e9ee59bb",
   "metadata": {},
   "outputs": [
    {
     "data": {
      "text/plain": [
       "-5.0:0.10101010101010101:5.0"
      ]
     },
     "execution_count": 6,
     "metadata": {},
     "output_type": "execute_result"
    }
   ],
   "source": [
    "Nₓ = 100 # grid size\n",
    "xᵢs = range(-5, stop=5, length=Nₓ)\n",
    "xⱼs = range(-5, stop=5, length=Nₓ)"
   ]
  },
  {
   "cell_type": "code",
   "execution_count": 7,
   "id": "f4498db4-d9f9-4e23-8b2d-d4e397eb0f03",
   "metadata": {},
   "outputs": [
    {
     "name": "stdout",
     "output_type": "stream",
     "text": [
      "typeof(meshgrid(xᵢs, xⱼs)) = Tuple{Matrix{Float64}, Matrix{Float64}}\n",
      "m = 2.0\n"
     ]
    },
    {
     "data": {
      "text/plain": [
       "2.0"
      ]
     },
     "execution_count": 7,
     "metadata": {},
     "output_type": "execute_result"
    }
   ],
   "source": [
    "xᵢ, xⱼ = meshgrid(xᵢs, xⱼs); @show typeof(meshgrid(xᵢs, xⱼs)); # Generate grid\n",
    "m = log10(size(xᵢ, 1)); @show m"
   ]
  },
  {
   "cell_type": "code",
   "execution_count": 8,
   "id": "4408b9be-7d74-4f38-a6d9-2f566cb4dd71",
   "metadata": {},
   "outputs": [],
   "source": [
    "𝑓ₓ = [pdfᵦ(mvn, [xᵢ[i, j], xⱼ[i, j]], Int64(m) ) for i in 1:size(xᵢ, 1), j in 1:size(xᵢ, 2)];"
   ]
  },
  {
   "cell_type": "code",
   "execution_count": 9,
   "id": "de0dbb20-42a4-44a4-91eb-f06673bdb17b",
   "metadata": {},
   "outputs": [
    {
     "name": "stdout",
     "output_type": "stream",
     "text": [
      "(size(xᵢ), size(xⱼ), size(𝑓ₓ)) = ((100, 100), (100, 100), (100, 100))\n"
     ]
    }
   ],
   "source": [
    " @show size(xᵢ),size(xⱼ), size(𝑓ₓ);"
   ]
  },
  {
   "cell_type": "code",
   "execution_count": 11,
   "id": "46122e5b-e61f-4135-859d-45af2e107428",
   "metadata": {},
   "outputs": [],
   "source": [
    "# Plot the surface\n",
    "plot1 = surface(xᵢs, xⱼs, 𝑓ₓ\n",
    "    , xlabel=\"\\$x_i\\$\", ylabel=\"\\$x_j\\$\"\n",
    "    , zlabel=\"\\$f_x(X)\\$ - PDF\"\n",
    "    , title=\"Multivariate Gaussian Distribution\"\n",
    "    , color=:viridis\n",
    "    # , color=:auto\n",
    ")\n",
    "savefig(plot1,\"images/MvGaussian_example.png\");"
   ]
  },
  {
   "cell_type": "markdown",
   "id": "52340d1f-9cee-443a-8ec6-a51fcde89da1",
   "metadata": {},
   "source": [
    "<img src=images/MvGaussian_example.png width='' height='' > </img>"
   ]
  },
  {
   "cell_type": "code",
   "execution_count": 13,
   "id": "b972c9dc-3736-4693-b969-850007627c2f",
   "metadata": {},
   "outputs": [],
   "source": [
    "# Plot the contour with a colormap\n",
    "plot2 = contour(xᵢs, xⱼs, 𝑓ₓ\n",
    "    , xlabel=\"\\$x_i\\$\", ylabel=\"\\$x_j\\$\"\n",
    "    , title=\"Contour of Multivariate Gaussian Distribution\"\n",
    "    , levels=200\n",
    "    , xlim=(-5, 5), ylim=(-5, 5)\n",
    "    , aspect_ratio=:equal\n",
    "    , color=:viridis\n",
    "    # , color=:rainbow\n",
    "    # , c=:auto\n",
    ")\n",
    "savefig(plot2,\"images/MvGaussian_example2.png\");"
   ]
  },
  {
   "cell_type": "markdown",
   "id": "d473df14-6179-42db-885e-576d735e2a1d",
   "metadata": {},
   "source": [
    "<img src=images/MvGaussian_example2.png width='' height='' > <img>"
   ]
  },
  {
   "cell_type": "code",
   "execution_count": null,
   "id": "3ddda324-013f-4acf-a839-e374967222b7",
   "metadata": {},
   "outputs": [],
   "source": []
  }
 ],
 "metadata": {
  "kernelspec": {
   "display_name": "Julia 1.9.3",
   "language": "julia",
   "name": "julia-1.9"
  },
  "language_info": {
   "file_extension": ".jl",
   "mimetype": "application/julia",
   "name": "julia",
   "version": "1.10.0"
  }
 },
 "nbformat": 4,
 "nbformat_minor": 5
}
