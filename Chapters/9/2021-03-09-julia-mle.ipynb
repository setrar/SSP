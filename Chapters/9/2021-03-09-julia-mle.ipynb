{
 "cells": [
  {
   "cell_type": "markdown",
   "id": "13eb4d55-80f4-4228-b82d-516c17db3483",
   "metadata": {},
   "source": [
    "# Maximum Likelihood Estimation with Julia (Not Working)"
   ]
  },
  {
   "cell_type": "markdown",
   "id": "4753a2e0-ff70-4d87-9b17-9fe4823ddc6c",
   "metadata": {},
   "source": [
    "## Loading Packages"
   ]
  },
  {
   "cell_type": "code",
   "execution_count": 17,
   "id": "c234eee6-30b8-48da-8a2e-f52953d02bf0",
   "metadata": {},
   "outputs": [],
   "source": [
    "using StatsPlots, Distributions, Random\n",
    "# using Optim\n",
    "# using NLSolversBase, ForwardDiff, FiniteDifferences\n",
    "# using HypothesisTests\n",
    "using Printf\n",
    "using LinearAlgebra"
   ]
  },
  {
   "cell_type": "markdown",
   "id": "06902f70-28f0-4280-ae98-5e992c248965",
   "metadata": {},
   "source": [
    "## Sample Data"
   ]
  },
  {
   "cell_type": "code",
   "execution_count": 18,
   "id": "15a80562-493c-4d50-acd0-45a69a2cced6",
   "metadata": {},
   "outputs": [
    {
     "data": {
      "text/plain": [
       "10-element Vector{Float64}:\n",
       " 4.81\n",
       " 4.17\n",
       " 4.41\n",
       " 3.59\n",
       " 5.87\n",
       " 3.83\n",
       " 6.03\n",
       " 4.89\n",
       " 4.32\n",
       " 4.69"
      ]
     },
     "execution_count": 18,
     "metadata": {},
     "output_type": "execute_result"
    }
   ],
   "source": [
    "# From the `lm()` example in R\n",
    "ctl = [4.17, 5.58, 5.18, 6.11, 4.50, 4.61, 5.17, 4.53, 5.33, 5.14]\n",
    "trt = [4.81, 4.17, 4.41, 3.59, 5.87, 3.83, 6.03, 4.89, 4.32, 4.69]"
   ]
  },
  {
   "cell_type": "code",
   "execution_count": 19,
   "id": "eb3c4dcd-8e6a-49de-9398-391552ed0d91",
   "metadata": {},
   "outputs": [
    {
     "data": {
      "text/plain": [
       "ll (generic function with 1 method)"
      ]
     },
     "execution_count": 19,
     "metadata": {},
     "output_type": "execute_result"
    }
   ],
   "source": [
    "# Likelihood function\n",
    "function ll(θ; yc = ctl, yt = trt)\n",
    "    σ = θ[3]\n",
    "    if σ < 0 \n",
    "        return -Inf\n",
    "    end\n",
    "    β₀ = θ[1]\n",
    "    β₁ = θ[2]\n",
    "    sum(vcat(logpdf(Normal(β₀, σ), yc), \n",
    "             logpdf(Normal(β₀ + β₁, σ), yt)))\n",
    "end"
   ]
  },
  {
   "cell_type": "markdown",
   "id": "064e4415-1af5-4495-9bcf-1c17930ec7dc",
   "metadata": {},
   "source": [
    "Plot the conditional log-likelihood functions"
   ]
  },
  {
   "cell_type": "code",
   "execution_count": 20,
   "id": "6b2f525b-8d6e-473b-989d-409cd9cb27b7",
   "metadata": {},
   "outputs": [
    {
     "ename": "LoadError",
     "evalue": "MethodError: logpdf(::Normal{Float64}, ::Vector{Float64}) is ambiguous.\n\nCandidates:\n  logpdf(\u001b[90md\u001b[39m::\u001b[1mDistribution\u001b[22m\u001b[0m{ArrayLikeVariate{N}}, \u001b[90mx\u001b[39m::\u001b[1mAbstractArray\u001b[22m\u001b[0m{<:Real, M}) where {N, M}\n\u001b[90m    @\u001b[39m \u001b[90mDistributions\u001b[39m \u001b[90m~/.julia/packages/Distributions/fYgbJ/src/\u001b[39m\u001b[90m\u001b[4mcommon.jl:308\u001b[24m\u001b[39m\n  logpdf(\u001b[90md\u001b[39m::\u001b[1mUnivariateDistribution\u001b[22m, \u001b[90mX\u001b[39m::\u001b[1mAbstractArray\u001b[22m)\n\u001b[90m    @\u001b[39m \u001b[90mDistributions\u001b[39m \u001b[90m\u001b[4mdeprecated.jl:103\u001b[24m\u001b[39m\n\nPossible fix, define\n  logpdf(::UnivariateDistribution, ::AbstractArray{T, M} where T<:Real) where M\n",
     "output_type": "error",
     "traceback": [
      "MethodError: logpdf(::Normal{Float64}, ::Vector{Float64}) is ambiguous.\n\nCandidates:\n  logpdf(\u001b[90md\u001b[39m::\u001b[1mDistribution\u001b[22m\u001b[0m{ArrayLikeVariate{N}}, \u001b[90mx\u001b[39m::\u001b[1mAbstractArray\u001b[22m\u001b[0m{<:Real, M}) where {N, M}\n\u001b[90m    @\u001b[39m \u001b[90mDistributions\u001b[39m \u001b[90m~/.julia/packages/Distributions/fYgbJ/src/\u001b[39m\u001b[90m\u001b[4mcommon.jl:308\u001b[24m\u001b[39m\n  logpdf(\u001b[90md\u001b[39m::\u001b[1mUnivariateDistribution\u001b[22m, \u001b[90mX\u001b[39m::\u001b[1mAbstractArray\u001b[22m)\n\u001b[90m    @\u001b[39m \u001b[90mDistributions\u001b[39m \u001b[90m\u001b[4mdeprecated.jl:103\u001b[24m\u001b[39m\n\nPossible fix, define\n  logpdf(::UnivariateDistribution, ::AbstractArray{T, M} where T<:Real) where M\n",
      "",
      "Stacktrace:",
      "  [1] ll(θ::Vector{Float64}; yc::Vector{Float64}, yt::Vector{Float64})",
      "    @ Main ./In[19]:9",
      "  [2] ll(θ::Vector{Float64})",
      "    @ Main ./In[19]:2",
      "  [3] (::var\"#21#22\")(x::Float64)",
      "    @ Main ./In[20]:2",
      "  [4] call_composed (repeats 2 times)",
      "    @ ./operators.jl:1034 [inlined]",
      "  [5] (::ComposedFunction{ComposedFunction{RecipesPipeline.var\"#1#2\"{Symbol}, var\"#21#22\"}, RecipesPipeline.var\"#3#4\"{Symbol}})(x::Float64; kw::Base.Pairs{Symbol, Union{}, Tuple{}, NamedTuple{(), Tuple{}}})",
      "    @ Base ./operators.jl:1031",
      "  [6] ComposedFunction",
      "    @ ./operators.jl:1031 [inlined]",
      "  [7] (::PlotUtils.var\"#21#23\"{ComposedFunction{ComposedFunction{RecipesPipeline.var\"#1#2\"{Symbol}, var\"#21#22\"}, RecipesPipeline.var\"#3#4\"{Symbol}}})(x::Float64)",
      "    @ PlotUtils ~/.julia/packages/PlotUtils/mHQ0Q/src/adapted_grid.jl:49",
      "  [8] _broadcast_getindex_evalf",
      "    @ ./broadcast.jl:683 [inlined]",
      "  [9] _broadcast_getindex",
      "    @ ./broadcast.jl:656 [inlined]",
      " [10] getindex",
      "    @ ./broadcast.jl:610 [inlined]",
      " [11] copy",
      "    @ ./broadcast.jl:912 [inlined]",
      " [12] materialize(bc::Base.Broadcast.Broadcasted{Base.Broadcast.DefaultArrayStyle{1}, Nothing, PlotUtils.var\"#21#23\"{ComposedFunction{ComposedFunction{RecipesPipeline.var\"#1#2\"{Symbol}, var\"#21#22\"}, RecipesPipeline.var\"#3#4\"{Symbol}}}, Tuple{Vector{Float64}}})",
      "    @ Base.Broadcast ./broadcast.jl:873",
      " [13] adapted_grid(f::Any, minmax::Tuple{Float64, Float64}; max_recursions::Int64, max_curvature::Float64, n_points::Int64)",
      "    @ PlotUtils ~/.julia/packages/PlotUtils/mHQ0Q/src/adapted_grid.jl:60",
      " [14] adapted_grid(f::Any, minmax::Tuple{Float64, Float64})",
      "    @ PlotUtils ~/.julia/packages/PlotUtils/mHQ0Q/src/adapted_grid.jl:14",
      " [15] _scaled_adapted_grid(f::Function, xscale::Symbol, yscale::Symbol, xmin::Int64, xmax::Int64)",
      "    @ RecipesPipeline ~/.julia/packages/RecipesPipeline/BGM3l/src/user_recipe.jl:322",
      " [16] macro expansion",
      "    @ ~/.julia/packages/RecipesPipeline/BGM3l/src/user_recipe.jl:265 [inlined]",
      " [17] apply_recipe(plotattributes::AbstractDict{Symbol, Any}, f::Function, xmin::Number, xmax::Number)",
      "    @ RecipesPipeline ~/.julia/packages/RecipesBase/BRe07/src/RecipesBase.jl:300",
      " [18] _process_userrecipes!(plt::Any, plotattributes::Any, args::Any)",
      "    @ RecipesPipeline ~/.julia/packages/RecipesPipeline/BGM3l/src/user_recipe.jl:38",
      " [19] recipe_pipeline!(plt::Any, plotattributes::Any, args::Any)",
      "    @ RecipesPipeline ~/.julia/packages/RecipesPipeline/BGM3l/src/RecipesPipeline.jl:72",
      " [20] _plot!(plt::Plots.Plot, plotattributes::Any, args::Any)",
      "    @ Plots ~/.julia/packages/Plots/sxUvK/src/plot.jl:223",
      " [21] #plot#188",
      "    @ ~/.julia/packages/Plots/sxUvK/src/plot.jl:102 [inlined]",
      " [22] plot(::Any, ::Any, ::Any)",
      "    @ Plots ~/.julia/packages/Plots/sxUvK/src/plot.jl:93",
      " [23] top-level scope",
      "    @ In[20]:2"
     ]
    }
   ],
   "source": [
    "# Just beta1\n",
    "plot(x -> ll([5, x, 1]), -2, 2)\n",
    "# Both beta1 and sigma\n",
    "contour(-1:0.01:0, 0.5:0.01:1, (x, y) -> ll([5, x, y]), fill = true)"
   ]
  },
  {
   "cell_type": "markdown",
   "id": "830d4a42-ee99-41b7-be13-f1c3fc407b17",
   "metadata": {},
   "source": [
    "# References\n",
    "\n",
    "- [ ] [Maximum Likelihood Estimation with Julia](https://mmmlab.rbind.io/posts/2021-03-09-julia-mle)"
   ]
  },
  {
   "cell_type": "markdown",
   "id": "d95b60c4-d05b-4165-a7f3-f2005f1271bb",
   "metadata": {},
   "source": [
    ":x:"
   ]
  },
  {
   "cell_type": "code",
   "execution_count": null,
   "id": "5499095c-a13c-4cb0-b2b1-6cb83cf7cf5f",
   "metadata": {},
   "outputs": [],
   "source": []
  },
  {
   "cell_type": "code",
   "execution_count": null,
   "id": "948a4164-6f28-4e70-ba9b-6b95a59c204c",
   "metadata": {},
   "outputs": [],
   "source": []
  }
 ],
 "metadata": {
  "kernelspec": {
   "display_name": "Julia 1.9.3",
   "language": "julia",
   "name": "julia-1.9"
  },
  "language_info": {
   "file_extension": ".jl",
   "mimetype": "application/julia",
   "name": "julia",
   "version": "1.9.3"
  }
 },
 "nbformat": 4,
 "nbformat_minor": 5
}
