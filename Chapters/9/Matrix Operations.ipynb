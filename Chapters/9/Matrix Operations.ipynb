{
 "cells": [
  {
   "cell_type": "code",
   "execution_count": 4,
   "id": "1b5343af-7f22-493b-bdb0-600aaaecd8d0",
   "metadata": {},
   "outputs": [],
   "source": [
    "# Matrix Operations"
   ]
  },
  {
   "cell_type": "code",
   "execution_count": 5,
   "id": "3c90a26c-3f87-47ae-994a-5ef7f357c54d",
   "metadata": {},
   "outputs": [
    {
     "data": {
      "text/plain": [
       "3×3 Matrix{Int64}:\n",
       " 1  2  3\n",
       " 4  5  6\n",
       " 7  8  9"
      ]
     },
     "execution_count": 5,
     "metadata": {},
     "output_type": "execute_result"
    }
   ],
   "source": [
    "A = [1 2 3; 4 5 6; 7 8 9]"
   ]
  },
  {
   "cell_type": "code",
   "execution_count": 6,
   "id": "2a2cc679-5962-4000-af04-c7710ceecbcc",
   "metadata": {},
   "outputs": [
    {
     "data": {
      "text/plain": [
       "3×3 Matrix{Float64}:\n",
       "  3.15252e15  -6.30504e15   3.15252e15\n",
       " -6.30504e15   1.26101e16  -6.30504e15\n",
       "  3.15252e15  -6.30504e15   3.15252e15"
      ]
     },
     "execution_count": 6,
     "metadata": {},
     "output_type": "execute_result"
    }
   ],
   "source": [
    "# Inverse\n",
    "inv(A)"
   ]
  },
  {
   "cell_type": "code",
   "execution_count": 7,
   "id": "c217c179-9293-4e0a-bb3c-b521e3b5116f",
   "metadata": {},
   "outputs": [
    {
     "data": {
      "text/plain": [
       "3×3 adjoint(::Matrix{Int64}) with eltype Int64:\n",
       " 1  4  7\n",
       " 2  5  8\n",
       " 3  6  9"
      ]
     },
     "execution_count": 7,
     "metadata": {},
     "output_type": "execute_result"
    }
   ],
   "source": [
    "# prime or transpose\n",
    "A'"
   ]
  },
  {
   "cell_type": "code",
   "execution_count": 8,
   "id": "0adba669-959a-42d9-b58c-cc775c4f1d58",
   "metadata": {},
   "outputs": [
    {
     "data": {
      "text/plain": [
       "3×3 transpose(::Matrix{Int64}) with eltype Int64:\n",
       " 1  4  7\n",
       " 2  5  8\n",
       " 3  6  9"
      ]
     },
     "execution_count": 8,
     "metadata": {},
     "output_type": "execute_result"
    }
   ],
   "source": [
    "# prime or transpose\n",
    "transpose(A)"
   ]
  },
  {
   "cell_type": "code",
   "execution_count": 9,
   "id": "4f43cf2d-b03e-4d4a-9ebf-bcdc080260aa",
   "metadata": {},
   "outputs": [
    {
     "data": {
      "text/plain": [
       "2×2 Matrix{Int64}:\n",
       " 1  2\n",
       " 3  4"
      ]
     },
     "execution_count": 9,
     "metadata": {},
     "output_type": "execute_result"
    }
   ],
   "source": [
    " a = [1 2; 3 4]"
   ]
  },
  {
   "cell_type": "code",
   "execution_count": 10,
   "id": "74c13715-18a1-4db5-a496-21b638fdabb5",
   "metadata": {},
   "outputs": [
    {
     "data": {
      "text/plain": [
       "2×2 Matrix{Int64}:\n",
       " 5  6\n",
       " 7  8"
      ]
     },
     "execution_count": 10,
     "metadata": {},
     "output_type": "execute_result"
    }
   ],
   "source": [
    "b = [5 6; 7 8]"
   ]
  },
  {
   "cell_type": "code",
   "execution_count": 11,
   "id": "357a9971-40a0-4566-a716-54fd5f4f46df",
   "metadata": {},
   "outputs": [
    {
     "data": {
      "text/plain": [
       "2×2 Matrix{Float64}:\n",
       " 3.0  -2.0\n",
       " 2.0  -1.0"
      ]
     },
     "execution_count": 11,
     "metadata": {},
     "output_type": "execute_result"
    }
   ],
   "source": [
    "# Division\n",
    "a/b"
   ]
  },
  {
   "cell_type": "code",
   "execution_count": 12,
   "id": "320e131c-b286-4490-98c6-29cfb1ea729a",
   "metadata": {},
   "outputs": [
    {
     "data": {
      "text/plain": [
       "2×2 Matrix{Float64}:\n",
       " 3.0  -2.0\n",
       " 2.0  -1.0"
      ]
     },
     "execution_count": 12,
     "metadata": {},
     "output_type": "execute_result"
    }
   ],
   "source": [
    "# Division\n",
    "a*inv(b)"
   ]
  },
  {
   "cell_type": "code",
   "execution_count": 13,
   "id": "151cacd4-bbf8-4911-9f06-4e7d961b0715",
   "metadata": {},
   "outputs": [
    {
     "data": {
      "text/plain": [
       "2×2 Matrix{Float64}:\n",
       " -3.0  -4.0\n",
       "  4.0   5.0"
      ]
     },
     "execution_count": 13,
     "metadata": {},
     "output_type": "execute_result"
    }
   ],
   "source": [
    "# Division\n",
    "a\\b"
   ]
  },
  {
   "cell_type": "code",
   "execution_count": 14,
   "id": "9df1ebc9-c6ff-4355-806f-c31d00f74ee4",
   "metadata": {},
   "outputs": [
    {
     "data": {
      "text/plain": [
       "2×2 Matrix{Float64}:\n",
       " -3.0  -4.0\n",
       "  4.0   5.0"
      ]
     },
     "execution_count": 14,
     "metadata": {},
     "output_type": "execute_result"
    }
   ],
   "source": [
    "# Division\n",
    "inv(a)*b"
   ]
  },
  {
   "cell_type": "code",
   "execution_count": 15,
   "id": "0161b273-192f-412a-ac20-9e5dfc0780f6",
   "metadata": {},
   "outputs": [
    {
     "data": {
      "text/plain": [
       "2×2 Matrix{Float64}:\n",
       " -4.0   3.0\n",
       "  3.5  -2.5"
      ]
     },
     "execution_count": 15,
     "metadata": {},
     "output_type": "execute_result"
    }
   ],
   "source": [
    "# Inverse\n",
    "b^(-1)"
   ]
  },
  {
   "cell_type": "code",
   "execution_count": 16,
   "id": "b02c736e-b2b0-491a-9a47-7b7b7c41e298",
   "metadata": {},
   "outputs": [
    {
     "data": {
      "text/plain": [
       "2×2 Matrix{Float64}:\n",
       " -4.0   3.0\n",
       "  3.5  -2.5"
      ]
     },
     "execution_count": 16,
     "metadata": {},
     "output_type": "execute_result"
    }
   ],
   "source": [
    "# Inverse\n",
    "inv(b)"
   ]
  },
  {
   "cell_type": "code",
   "execution_count": 17,
   "id": "db035f5f-d80d-47d6-ac2f-12887f9a608a",
   "metadata": {},
   "outputs": [
    {
     "data": {
      "text/plain": [
       "2×2 Matrix{Int64}:\n",
       " 10  14\n",
       " 14  20"
      ]
     },
     "execution_count": 17,
     "metadata": {},
     "output_type": "execute_result"
    }
   ],
   "source": [
    "# Transpose with symetric matrix\n",
    "a'a"
   ]
  },
  {
   "cell_type": "code",
   "execution_count": 18,
   "id": "8beef037-94bf-4b31-802e-b1052b3bbc94",
   "metadata": {},
   "outputs": [
    {
     "data": {
      "text/plain": [
       "2×2 Matrix{Int64}:\n",
       " 10  14\n",
       " 14  20"
      ]
     },
     "execution_count": 18,
     "metadata": {},
     "output_type": "execute_result"
    }
   ],
   "source": [
    "# Transpose with symetric matrix\n",
    "transpose(a)*a"
   ]
  },
  {
   "cell_type": "code",
   "execution_count": 19,
   "id": "7e906f5e-ee47-4fe3-b786-3aa9f2c8c0a5",
   "metadata": {},
   "outputs": [
    {
     "data": {
      "text/plain": [
       "3-element Vector{Int64}:\n",
       " 1\n",
       " 2\n",
       " 3"
      ]
     },
     "execution_count": 19,
     "metadata": {},
     "output_type": "execute_result"
    }
   ],
   "source": [
    "x = [1; 2; 3]"
   ]
  },
  {
   "cell_type": "code",
   "execution_count": 20,
   "id": "13402ff5-1b7e-4541-84fb-fb52fe30ed93",
   "metadata": {},
   "outputs": [
    {
     "data": {
      "text/plain": [
       "3-element Vector{Int64}:\n",
       " 3\n",
       " 2\n",
       " 1"
      ]
     },
     "execution_count": 20,
     "metadata": {},
     "output_type": "execute_result"
    }
   ],
   "source": [
    "y = [3; 2; 1]"
   ]
  },
  {
   "cell_type": "code",
   "execution_count": 21,
   "id": "791c9a6a-a483-470d-894c-9651e99db539",
   "metadata": {},
   "outputs": [
    {
     "data": {
      "text/plain": [
       "10"
      ]
     },
     "execution_count": 21,
     "metadata": {},
     "output_type": "execute_result"
    }
   ],
   "source": [
    "# also equivalent to\n",
    "x'y"
   ]
  },
  {
   "cell_type": "code",
   "execution_count": 22,
   "id": "d4b8634c-15b0-415b-9f66-49350a0b371f",
   "metadata": {},
   "outputs": [
    {
     "data": {
      "text/plain": [
       "10"
      ]
     },
     "execution_count": 22,
     "metadata": {},
     "output_type": "execute_result"
    }
   ],
   "source": [
    "# also equivalent to\n",
    "transpose(x)*y"
   ]
  },
  {
   "cell_type": "code",
   "execution_count": 23,
   "id": "017219f9-e276-430a-ab56-95c3e0818fe1",
   "metadata": {},
   "outputs": [
    {
     "data": {
      "text/plain": [
       "10"
      ]
     },
     "execution_count": 23,
     "metadata": {},
     "output_type": "execute_result"
    }
   ],
   "source": [
    "# also equivalent to\n",
    "sum(x.*y)"
   ]
  },
  {
   "cell_type": "code",
   "execution_count": 24,
   "id": "15d6d774-d6f3-4a10-8f09-b33abe8d940f",
   "metadata": {},
   "outputs": [
    {
     "data": {
      "text/plain": [
       "10"
      ]
     },
     "execution_count": 24,
     "metadata": {},
     "output_type": "execute_result"
    }
   ],
   "source": [
    "# also equivalent to\n",
    " sum(x'y)"
   ]
  },
  {
   "cell_type": "code",
   "execution_count": 25,
   "id": "c6c351f9-bfa4-448e-adf3-33f22194655b",
   "metadata": {},
   "outputs": [],
   "source": [
    "using LinearAlgebra # When using LinearAlgebra dot and \\cdot can be used"
   ]
  },
  {
   "cell_type": "code",
   "execution_count": 26,
   "id": "6ed15c14-dbb8-4838-9dd7-a67ccfa8a7c3",
   "metadata": {},
   "outputs": [
    {
     "data": {
      "text/plain": [
       "10"
      ]
     },
     "execution_count": 26,
     "metadata": {},
     "output_type": "execute_result"
    }
   ],
   "source": [
    "# Dot Product \n",
    "dot(x,y)"
   ]
  },
  {
   "cell_type": "code",
   "execution_count": 27,
   "id": "27538dc3-ac80-4941-81c2-6f6eafbefcbe",
   "metadata": {},
   "outputs": [
    {
     "data": {
      "text/plain": [
       "10"
      ]
     },
     "execution_count": 27,
     "metadata": {},
     "output_type": "execute_result"
    }
   ],
   "source": [
    "# Dot Product \n",
    "x⋅y   #Do \\cdot[TAB] to get the dot product sign"
   ]
  },
  {
   "cell_type": "code",
   "execution_count": 28,
   "id": "b40637e3-cd5a-42a3-a232-bc7a626b55db",
   "metadata": {},
   "outputs": [
    {
     "data": {
      "text/plain": [
       "2×2 Matrix{Int64}:\n",
       " 6  7\n",
       " 8  9"
      ]
     },
     "execution_count": 28,
     "metadata": {},
     "output_type": "execute_result"
    }
   ],
   "source": [
    "z = [6 7; 8 9]"
   ]
  },
  {
   "cell_type": "markdown",
   "id": "7fdda72e-33f7-48dc-9523-d689566fea74",
   "metadata": {},
   "source": [
    "- [ ] Trace Calculation\n",
    "$$\n",
    "$$\n",
    "\n",
    "$$\n",
    "\\begin{gather}\n",
    "\\text{ The trace of a square matrix is the sum of its diagonal elements. }\n",
    "\\\\\n",
    "\\\\\n",
    "\\text{ If you have a matrix }A \\text{ with elements } a_{ij} \\text{ , the trace } \\text{tr}(A) \\text{ is given by: }\n",
    "\\\\\n",
    "\\text{tr}(A) = a_{11} + a_{22} + \\ldots + a_{nn} \\quad \\text{ or } \\quad \n",
    "\\text{tr}(A) = \\sum_{i=1}^n a_{ii}\n",
    "\\\\\n",
    "\\end{gather}\n",
    "$$\n",
    "\n",
    " \n",
    "Here are some important uses and properties of the trace of a matrix:\n",
    "\n",
    "1. **Invariance under Similarity:**\n",
    "   - The trace of a matrix is invariant under similarity transformations. That is, for similar matrices:\n",
    "    $$ A  \\text { and } B ( \\text { where }  B = P^{-1}AP ), \\text{tr}(A) = \\text{tr}(B).$$\n",
    "\n",
    "2. **Linear Operator Trace:**\n",
    "   - The trace can be used to define and calculate the trace of linear operators. For example,\n",
    "   $$\n",
    "   \\begin{gather}\n",
    "   \\text{ if } A \\text{ is a linear operator on a finite-dimensional vector space, and } \\mathbf{v}_1, \\mathbf{v}_2, \\ldots, \\mathbf{v}_n \\text{ is a basis for that space, } \n",
    "   \\\\\n",
    "   \\text{ then } \\text{tr}(A) \\text{ is the sum of the traces of the matrices representing }  A  \\text{ with respect to each basis vector.}\n",
    "   \\end{gather}\n",
    "   $$\n",
    "\n",
    "4. **Eigenvalues:**\n",
    "   - The trace of a matrix is equal to the sum of its eigenvalues. This property is useful in various mathematical and engineering applications.\n",
    "\n",
    "5. **Matrix Norm:**\n",
    "   - The Frobenius norm of a matrix  A  is defined as the square root of the sum of the squares of its elements. The Frobenius norm is related to the trace by the formula:\n",
    "   $$ \\|A\\|_F = \\sqrt{\\text{tr}(A^TA)} $$\n",
    "\n",
    "6. **Cyclic Property:**\n",
    "   $$\n",
    "   \\begin{gather}\n",
    "   \\text{ For three square matrices } A, B, \\text{ and } C \\text{  such that the product } ABC \\text{ is defined, }\n",
    "   \\\\\n",
    "   \\text{ the cyclic property of the trace states that } \\text{tr}(ABC) = \\text{tr}(CAB) = \\text{tr}(BCA)\n",
    "   \\end{gather}\n",
    "   $$\n",
    "\n",
    "These are just a few examples of the many applications and properties of the trace of a matrix. Its utility extends across various branches of mathematics, physics, and engineering."
   ]
  },
  {
   "cell_type": "code",
   "execution_count": 29,
   "id": "623a6566-54c1-4f91-a660-c2f0c920ca75",
   "metadata": {},
   "outputs": [
    {
     "data": {
      "text/plain": [
       "15"
      ]
     },
     "execution_count": 29,
     "metadata": {},
     "output_type": "execute_result"
    }
   ],
   "source": [
    "# Trace \n",
    "tr(z)"
   ]
  },
  {
   "cell_type": "markdown",
   "id": "963c2a2b-05af-472a-bfb4-a3634f5c386e",
   "metadata": {},
   "source": [
    "The norm of a matrix is a measure of its size or magnitude. There are different matrix norms, and the choice of norm depends on the context and the specific properties you want to capture. Here are a few common matrix norms:\n",
    "\n",
    "1. **Frobenius Norm (or Euclidean Norm):**\n",
    "   The Frobenius norm of a matrix _A_ is defined as the square root of the sum of the squares of its elements.\n",
    "\n",
    "   $$ \\text{ For an } m \\times n \\text { matrix } A \\text { , the Frobenius norm is calculated as: } $$\n",
    "   $$\\|A\\|_F = \\sqrt{\\sum_{i=1}^{m} \\sum_{j=1}^{n} |a_{ij}|^2} $$\n",
    "\n",
    "3. **1-Norm (Column Sum Norm):**\n",
    "   The 1-norm of a matrix _A_ is the maximum absolute column sum of the matrix.\n",
    "   $$ \\|A\\|_1 = \\max_{1 \\leq j \\leq n} \\sum_{i=1}^{m} |a_{ij}| $$\n",
    "\n",
    "4. **Infinity Norm (Row Sum Norm):**\n",
    "   The infinity norm of a matrix \\( A \\) is the maximum absolute row sum of the matrix.\n",
    "   $$ \\|A\\|_{\\infty} = \\max_{1 \\leq i \\leq m} \\sum_{j=1}^{n} |a_{ij}| $$\n",
    "\n",
    "5. **2-Norm (Spectral Norm):**\n",
    "   The 2-norm of a matrix \\( A \\) is the square root of the largest eigenvalue of the matrix: $$ A^TA $$\n",
    "   $$ \\|A\\|_2 = \\sqrt{\\lambda_{\\text{max}}(A^TA)} $$\n",
    "\n",
    "These are just a few examples, and there are other matrix norms as well. The choice of norm depends on the application and the specific properties you are interested in. Each norm has its own characteristics and is useful in different contexts."
   ]
  },
  {
   "cell_type": "code",
   "execution_count": 30,
   "id": "ebb87234-9e13-4a48-9cb4-2da62d47180e",
   "metadata": {},
   "outputs": [
    {
     "data": {
      "text/plain": [
       "15.165750888103101"
      ]
     },
     "execution_count": 30,
     "metadata": {},
     "output_type": "execute_result"
    }
   ],
   "source": [
    "# Norm \n",
    "norm(z)"
   ]
  },
  {
   "cell_type": "code",
   "execution_count": 31,
   "id": "7f4f2bd7-6511-4e17-94c1-63f64e731365",
   "metadata": {},
   "outputs": [
    {
     "data": {
      "text/plain": [
       "-2.0"
      ]
     },
     "execution_count": 31,
     "metadata": {},
     "output_type": "execute_result"
    }
   ],
   "source": [
    "# Determinant\n",
    "det(z)"
   ]
  },
  {
   "cell_type": "markdown",
   "id": "76bca775-7bc0-4b31-8da9-deda8cf64cea",
   "metadata": {},
   "source": [
    "# References\n",
    "- [ ] [Standard Library / Linear Algebra](https://docs.julialang.org/en/v1/stdlib/LinearAlgebra/)\n",
    "- [ ] [What is the best way to form inner products?](https://stackoverflow.com/questions/30966171/what-is-the-best-way-to-form-inner-products)"
   ]
  }
 ],
 "metadata": {
  "kernelspec": {
   "display_name": "Julia 1.9.3",
   "language": "julia",
   "name": "julia-1.9"
  },
  "language_info": {
   "file_extension": ".jl",
   "mimetype": "application/julia",
   "name": "julia",
   "version": "1.9.4"
  }
 },
 "nbformat": 4,
 "nbformat_minor": 5
}
