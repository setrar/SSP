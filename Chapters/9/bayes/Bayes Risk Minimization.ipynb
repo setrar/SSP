{
 "cells": [
  {
   "cell_type": "markdown",
   "id": "97e3898b-65cf-42e7-a1ce-c50bb2497bfd",
   "metadata": {},
   "source": [
    "## Bayes Risk Minimization"
   ]
  },
  {
   "cell_type": "markdown",
   "id": "11c5a718-7ba4-4cc7-8ce5-68468d9d75fd",
   "metadata": {},
   "source": [
    "- manipulate the Bayes optimization criterion\n",
    "\n",
    "$$\n",
    "min \\mathscr{R}\n",
    "$$ "
   ]
  },
  {
   "cell_type": "code",
   "execution_count": null,
   "id": "6f09a4b9-2ba8-465b-b8e0-7cbb5f7cc895",
   "metadata": {
    "editable": true,
    "slideshow": {
     "slide_type": ""
    },
    "tags": []
   },
   "outputs": [],
   "source": []
  }
 ],
 "metadata": {
  "kernelspec": {
   "display_name": "Julia 1.9.3",
   "language": "julia",
   "name": "julia-1.9"
  },
  "language_info": {
   "file_extension": ".jl",
   "mimetype": "application/julia",
   "name": "julia",
   "version": "1.9.3"
  }
 },
 "nbformat": 4,
 "nbformat_minor": 5
}
