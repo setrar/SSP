{
 "cells": [
  {
   "cell_type": "code",
   "execution_count": 1,
   "id": "a3f56004-2eb3-47d1-98dc-2c4a3ea69f55",
   "metadata": {},
   "outputs": [
    {
     "data": {
      "text/plain": [
       "2×2 Matrix{Float64}:\n",
       " -7.5693e-7   0.0\n",
       "  0.0        -0.999999"
      ]
     },
     "execution_count": 1,
     "metadata": {},
     "output_type": "execute_result"
    }
   ],
   "source": [
    "using Calculus\n",
    "\n",
    "h2 = hessian(x -> sin(x[1]) + cos(x[2]))\n",
    "\n",
    "h2([0.0, 0.0])"
   ]
  },
  {
   "cell_type": "markdown",
   "id": "ed35cbcc-7c5d-4199-8256-fd6bbc74c981",
   "metadata": {},
   "source": [
    "# Integration:\n",
    "\n",
    "$f(x) = 3x^2 - 2x +5$"
   ]
  },
  {
   "cell_type": "code",
   "execution_count": null,
   "id": "363f369a-28a5-4008-90e3-23277ef759e1",
   "metadata": {},
   "outputs": [],
   "source": []
  }
 ],
 "metadata": {
  "kernelspec": {
   "display_name": "Julia 1.9.3",
   "language": "julia",
   "name": "julia-1.9"
  },
  "language_info": {
   "file_extension": ".jl",
   "mimetype": "application/julia",
   "name": "julia",
   "version": "1.9.4"
  }
 },
 "nbformat": 4,
 "nbformat_minor": 5
}
