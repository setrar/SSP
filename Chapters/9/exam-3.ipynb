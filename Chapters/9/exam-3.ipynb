{
 "cells": [
  {
   "cell_type": "code",
   "execution_count": 9,
   "id": "980d3f19-4ea9-4352-b280-c610dcf92086",
   "metadata": {},
   "outputs": [],
   "source": [
    "using Latexify\n",
    "using LaTeXStrings\n",
    "using LinearAlgebra\n",
    "using Random\n",
    "using SymPy\n",
    "using RowEchelon\n",
    "using Plots\n",
    "gr()\n",
    "\n",
    "# Defaults for Latexify\n",
    "set_default(env=:raw, starred=true)\n",
    "\n",
    "# Use the same seed for all random problems\n",
    "seed0 = 1233\n",
    "myseed() =  Random.seed!(seed0);\n",
    "myseed(s) =  Random.seed!(seed0+s);\n",
    "\n",
    "# Often used dimensions\n",
    "n0 = 6;\n",
    "n1 = 3;\n",
    "\n",
    "# range of entries in a randomatrix\n",
    "S0 = -1:5;\n",
    "\n",
    "# Some helper functions for making plots\n",
    "xs_ys(vs) = Tuple(eltype(vs[1])[vs[i][j] for i in 1:length(vs)] for j in eachindex(first(vs)));\n",
    "xs_ys(v,vs...) = xs_ys([v, vs...]);\n",
    "xs_ys(r::Function, a, b, n=100) = xs_ys(r.(range(a, stop=b, length=n)));\n",
    "\n",
    "tofloat(x) = convert(Float64, x);\n",
    "\n",
    "# Generate a singular matrix\n",
    "function randsing(S, m, n)\n",
    "    while true\n",
    "        A = rand(S, (m, n))\n",
    "        if det(A) == 0\n",
    "            return A\n",
    "        end\n",
    "    end\n",
    "end;\n",
    "\n",
    "randsing(n) = randsing(S0, n, n)\n",
    "randsing(S, n) = randsing(S, n, n)\n",
    "\n",
    "# Generate a non-singular matrix\n",
    "function randnonsing(S, m, n)\n",
    "    while true\n",
    "        A = rand(S, (m, n))\n",
    "        if det(A) != 0\n",
    "            return A\n",
    "        end\n",
    "    end\n",
    "end;\n",
    "\n",
    "randnonsing(n) = randnonsing(S0, n, n)\n",
    "randnonsing(S, n) = randnonsing(S, n, n)\n",
    "\n",
    "# LaTeX helper functions\n",
    "\n",
    "# Generate LaTeX of an empty matrix for student to fill in\n",
    "function emptymat(m, n)\n",
    "    r = fill(\"\\\\underline{\\\\hspace{1cm}}\", n)\n",
    "    r = join(r, \"& \")\n",
    "    m = fill(r, m)\n",
    "    m = join(m, \"\\\\\\\\\\n\")\n",
    "    return \"\\\\begin{bmatrix}\" * m * \"\\\\end{bmatrix}\"\n",
    "end;\n",
    "emptymat(n) = emptymat(n, n);\n",
    "\n",
    "# Generate LaTeX of a partially revealed matrix\n",
    "function partialmat(mat, rows)\n",
    "    (m, n) = size(mat)\n",
    "    r = fill(\"\\\\underline{\\\\hspace{1cm}}\", n)\n",
    "    r = join(r, \"& \")\n",
    "    r *= \"\\\\\\\\\\n\"\n",
    "    s = \"\"\n",
    "    for i in 1:m\n",
    "        if i in rows\n",
    "            r1 = join([latexify(x) for x in mat[i, :]],\"& \")\n",
    "            r1 *= \"\\\\\\\\\\n\"\n",
    "            s *= r1 \n",
    "        else\n",
    "            s *= r\n",
    "        end\n",
    "    end\n",
    "    return \"\\\\begin{bmatrix}\" * s * \"\\\\end{bmatrix}\"\n",
    "end;\n",
    "\n",
    "# Generate a long empty space for student to write proofs\n",
    "answerblock(h) = LaTeXString(\"\"\"Answer:\n",
    "\n",
    "\\\\vspace{$(h)pt}\n",
    "\"\"\");\n",
    "answerblock() = answerblock(180)\n",
    "\n",
    "# Print a matrix to a set of vectors in LaTeX\n",
    "function tovecset(mat)\n",
    "    ptstext = join([latexify(c) for c in eachcol(mat)], \", \")\n",
    "    return L\"$$\\left\\{%$ptstext\\right\\}$$\"\n",
    "end;"
   ]
  },
  {
   "cell_type": "markdown",
   "id": "e170c0fe",
   "metadata": {},
   "source": [
    "<!-- To define marcros that can be both used in Jupyter Lab and LaTeX \n",
    "See https://discourse.jupyter.org/t/how-to-define-a-macro-in-a-jupyter-cell/7967/5?u=newptcai\n",
    "-->\n",
    "<div hidden>\n",
    "\\newcommand{\\require}[1]{}\n",
    "\n",
    "$$\\require{begingroup}\\require{newcommand}$$\n",
    "$$\n",
    "\\gdef\\dsR{{\\mathbb{R}}}\n",
    "$$\n",
    "\n",
    "\\vskip-\\parskip\n",
    "\\vskip-\\baselineskip\n",
    "</div>"
   ]
  },
  {
   "cell_type": "markdown",
   "id": "3c6f7c5f-aa8d-4644-9c4d-242771868bf8",
   "metadata": {},
   "source": [
    "Full Name: $\\underline{\\hspace{5cm}}$   NetID: $\\underline{\\hspace{5cm}}$"
   ]
  },
  {
   "cell_type": "markdown",
   "id": "d3475f01",
   "metadata": {},
   "source": [
    "Honor Pledge: I will neither give nor receive aid on this assessment."
   ]
  },
  {
   "cell_type": "markdown",
   "id": "5ed52b79-e27d-4002-9393-e517ffd2aa4b",
   "metadata": {},
   "source": [
    "Signature: $\\underline{\\hspace{5cm}}$"
   ]
  },
  {
   "cell_type": "markdown",
   "id": "7bd83b56-5b57-4902-8628-ca9aa4fdf6f4",
   "metadata": {},
   "source": [
    "Note: \n",
    "\n",
    "1. Don't look inside until the exam starts.\n",
    "2. Each question counts as 1 pt.\n",
    "3. When answering multiple choice questions, only check the boxes before correct answers.\n",
    "4. A proof must be written with **correct** English grammar and mathematical notations to receive full points.\n",
    "\n",
    "Good luck!"
   ]
  },
  {
   "cell_type": "raw",
   "id": "079d4a98-0863-4a61-bf76-890224bff881",
   "metadata": {},
   "source": [
    "\\begin{figure}\n",
    "\\centering\n",
    "\\includegraphics[width=0.6\\linewidth]{images/art.png}\n",
    "\\end{figure}\n",
    "\n",
    "\\pagebreak{}"
   ]
  },
  {
   "cell_type": "markdown",
   "id": "915a1382",
   "metadata": {},
   "source": [
    "# Solution sets\n",
    "\n",
    "Solve the linear system with the augmented matrix"
   ]
  },
  {
   "cell_type": "code",
   "execution_count": 10,
   "id": "b0023b97",
   "metadata": {},
   "outputs": [
    {
     "data": {
      "text/latex": [
       "\\begin{equation*}\n",
       "\\left[\n",
       "\\begin{array}{cccc}\n",
       "-1 & 3 & 1 & 18 \\\\\n",
       "1 & 1 & 2 & 8 \\\\\n",
       "1 & 5 & 5 & 34 \\\\\n",
       "\\end{array}\n",
       "\\right]\n",
       "\\end{equation*}\n"
      ],
      "text/plain": [
       "L\"\\begin{equation*}\n",
       "\\left[\n",
       "\\begin{array}{cccc}\n",
       "-1 & 3 & 1 & 18 \\\\\n",
       "1 & 1 & 2 & 8 \\\\\n",
       "1 & 5 & 5 & 34 \\\\\n",
       "\\end{array}\n",
       "\\right]\n",
       "\\end{equation*}\n",
       "\""
      ]
     },
     "execution_count": 10,
     "metadata": {},
     "output_type": "execute_result"
    }
   ],
   "source": [
    "Random.seed!(seed0)\n",
    "A = randsing(3)\n",
    "x0 = rand(S0, 3)\n",
    "y = A * x0\n",
    "B = hcat(A, y)\n",
    "latexify(B, env=:eq)"
   ]
  },
  {
   "cell_type": "code",
   "execution_count": 11,
   "id": "9b0ea605-89ec-490b-bcd6-de8fa2968847",
   "metadata": {},
   "outputs": [],
   "source": [
    "xs = [Sym(\"x$i\") for i in 1:3]\n",
    "B1 = sympy.Matrix([A zeros(Int, 3)])\n",
    "sol = [sympy.linsolve(B1, xs[1], xs[2], xs[3]).args[1].args...];"
   ]
  },
  {
   "cell_type": "code",
   "execution_count": 12,
   "id": "db9eedb0-35a2-4e22-b7b7-907f24f61aca",
   "metadata": {},
   "outputs": [],
   "source": [
    "sol1 = latexify(sol[1].subs(xs[3], 1));"
   ]
  },
  {
   "cell_type": "markdown",
   "id": "45c804d4",
   "metadata": {},
   "source": [
    "Answer:\n",
    "\n",
    "The solution set is of the form"
   ]
  },
  {
   "cell_type": "code",
   "execution_count": 48,
   "id": "504abfa9",
   "metadata": {},
   "outputs": [
    {
     "data": {
      "text/latex": [
       "$$\n",
       "\\begin{bmatrix}\n",
       "-1 \\\\\n",
       "\\underline{\\hspace{2cm}} \\\\\n",
       "\\underline{\\hspace{2cm}} \\\\\n",
       "\\end{bmatrix}\n",
       "+\n",
       "s\n",
       "\\begin{bmatrix}\n",
       "\\frac{-5}{4} \\\\\n",
       "\\underline{\\hspace{2cm}} \\\\\n",
       "\\underline{\\hspace{2cm}} \\\\\n",
       "\\end{bmatrix}\n",
       ",\n",
       "\\qquad\n",
       "s \\in \\mathbb{R}\n",
       "$$\n"
      ],
      "text/plain": [
       "L\"$$\n",
       "\\begin{bmatrix}\n",
       "-1 \\\\\n",
       "\\underline{\\hspace{2cm}} \\\\\n",
       "\\underline{\\hspace{2cm}} \\\\\n",
       "\\end{bmatrix}\n",
       "+\n",
       "s\n",
       "\\begin{bmatrix}\n",
       "\\frac{-5}{4} \\\\\n",
       "\\underline{\\hspace{2cm}} \\\\\n",
       "\\underline{\\hspace{2cm}} \\\\\n",
       "\\end{bmatrix}\n",
       ",\n",
       "\\qquad\n",
       "s \\in \\mathbb{R}\n",
       "$$\n",
       "\""
      ]
     },
     "execution_count": 48,
     "metadata": {},
     "output_type": "execute_result"
    }
   ],
   "source": [
    "L\"\"\"$$\n",
    "\\begin{bmatrix}\n",
    "%$(x0[1]) \\\\\n",
    "\\underline{\\hspace{2cm}} \\\\\n",
    "\\underline{\\hspace{2cm}} \\\\\n",
    "\\end{bmatrix}\n",
    "+\n",
    "s\n",
    "\\begin{bmatrix}\n",
    "%$(sol1) \\\\\n",
    "\\underline{\\hspace{2cm}} \\\\\n",
    "\\underline{\\hspace{2cm}} \\\\\n",
    "\\end{bmatrix}\n",
    ",\n",
    "\\qquad\n",
    "s \\in \\mathbb{R}\n",
    "$$\n",
    "\"\"\""
   ]
  },
  {
   "cell_type": "markdown",
   "id": "d88de561",
   "metadata": {},
   "source": [
    "# Linear independence"
   ]
  },
  {
   "cell_type": "markdown",
   "id": "47694406",
   "metadata": {},
   "source": [
    "Find the value of $h$ which makes the columns of the following matrix linearly **dependent**"
   ]
  },
  {
   "cell_type": "code",
   "execution_count": 14,
   "id": "39345d20",
   "metadata": {},
   "outputs": [
    {
     "data": {
      "text/latex": [
       "\\begin{equation*}\n",
       "\\left[\n",
       "\\begin{array}{cccc}\n",
       "3 & -1 & 1 & 2 \\\\\n",
       "1 & 3 & 1 & 3 \\\\\n",
       "1 & 0 & h & -1 \\\\\n",
       "1 & 3 & 2 & 1 \\\\\n",
       "\\end{array}\n",
       "\\right]\n",
       "\\end{equation*}\n"
      ],
      "text/plain": [
       "L\"\\begin{equation*}\n",
       "\\left[\n",
       "\\begin{array}{cccc}\n",
       "3 & -1 & 1 & 2 \\\\\n",
       "1 & 3 & 1 & 3 \\\\\n",
       "1 & 0 & h & -1 \\\\\n",
       "1 & 3 & 2 & 1 \\\\\n",
       "\\end{array}\n",
       "\\right]\n",
       "\\end{equation*}\n",
       "\""
      ]
     },
     "execution_count": 14,
     "metadata": {},
     "output_type": "execute_result"
    }
   ],
   "source": [
    "Random.seed!(seed0 + 5)\n",
    "A = sympy.Matrix(rand(-1:3,(4,4)))\n",
    "h = Sym(\"h\")\n",
    "A[3,3] = h\n",
    "latexify(A, env=:eq)"
   ]
  },
  {
   "cell_type": "markdown",
   "id": "f59bec31",
   "metadata": {},
   "source": [
    "Answer: $h = \\underline{\\hspace{5cm}}$"
   ]
  },
  {
   "cell_type": "code",
   "execution_count": 15,
   "id": "a070636f",
   "metadata": {},
   "outputs": [],
   "source": [
    "sympy.solve(det(A));"
   ]
  },
  {
   "cell_type": "markdown",
   "id": "b3e7b6e3",
   "metadata": {},
   "source": [
    "# Linear transformations\n",
    "\n",
    "Which statements are always true?\n",
    "\n",
    "* [ ] A linear transformation $T: \\mathbb{R}^n \\mapsto \\mathbb{R}^m$ is completely determined by its effect on the columns of the $n \\times n$ identity matrix.\n",
    "* [ ] If $T: \\mathbb{R}^2 \\mapsto \\mathbb{R}^2$ rotates vectors about the origin through an angle $\\phi$, then $T$ is a linear transformation.\n",
    "* [ ] When two linear transformations are performed one after another, the combined effect is always a linear transformation.\n",
    "* [ ] Every linear transformation from $\\mathbb{R}^n$ to $\\mathbb{R}^m$ is also a matrix transformation.\n",
    "* [ ]  A mapping $T : \\mathbb{R}^n \\mapsto \\mathbb{R}^m$ is one-to-one if each vector in $\\mathbb{R}^n$ maps onto a unique vector in $\\mathbb{R}^m$."
   ]
  },
  {
   "cell_type": "markdown",
   "id": "791f6185-921b-401d-ad28-ac3e4793c411",
   "metadata": {},
   "source": [
    "# Linear transformations\n",
    "\n",
    "Find the matrix which transforms the picture on the left to the one on the right."
   ]
  },
  {
   "cell_type": "code",
   "execution_count": 17,
   "id": "ceb0d199-0e59-474e-89a3-91a6efbdb590",
   "metadata": {},
   "outputs": [
    {
     "data": {
      "image/png": "[encoded data removed]",
      "image/svg+xml": [
       "<?xml version=\"1.0\" encoding=\"utf-8\"?>\n",
       "<svg xmlns=\"http://www.w3.org/2000/svg\" xmlns:xlink=\"http://www.w3.org/1999/xlink\" width=\"1000\" height=\"400\" viewBox=\"0 0 4000 1600\">\n",
       "<defs>\n",
       "  <clipPath id=\"clip270\">\n",
       "    <rect x=\"0\" y=\"0\" width=\"4000\" height=\"1600\"/>\n",
       "  </clipPath>\n",
       "</defs>\n",
       "<path clip-path=\"url(#clip270)\" d=\"M0 1600 L4000 1600 L4000 0 L0 0  Z\" fill=\"#ffffff\" fill-rule=\"evenodd\" fill-opacity=\"1\"/>\n",
       "<defs>\n",
       "  <clipPath id=\"clip271\">\n",
       "    <rect x=\"800\" y=\"0\" width=\"2801\" height=\"1600\"/>\n",
       "  </clipPath>\n",
       "</defs>\n",
       "<path clip-path=\"url(#clip270)\" d=\"M128.177 1500.27 L1587.84 1500.27 L1587.84 47.2441 L128.177 47.2441  Z\" fill=\"#ffffff\" fill-rule=\"evenodd\" fill-opacity=\"1\"/>\n",
       "<defs>\n",
       "  <clipPath id=\"clip272\">\n",
       "    <rect x=\"128\" y=\"47\" width=\"1461\" height=\"1454\"/>\n",
       "  </clipPath>\n",
       "</defs>\n",
       "<polyline clip-path=\"url(#clip272)\" style=\"stroke:#000000; stroke-linecap:round; stroke-linejoin:round; stroke-width:2; stroke-opacity:0.1; fill:none\" points=\"513.749,1500.27 513.749,47.2441 \"/>\n",
       "<polyline clip-path=\"url(#clip272)\" style=\"stroke:#000000; stroke-linecap:round; stroke-linejoin:round; stroke-width:2; stroke-opacity:0.1; fill:none\" points=\"858.009,1500.27 858.009,47.2441 \"/>\n",
       "<polyline clip-path=\"url(#clip272)\" style=\"stroke:#000000; stroke-linecap:round; stroke-linejoin:round; stroke-width:2; stroke-opacity:0.1; fill:none\" points=\"1202.27,1500.27 1202.27,47.2441 \"/>\n",
       "<polyline clip-path=\"url(#clip272)\" style=\"stroke:#000000; stroke-linecap:round; stroke-linejoin:round; stroke-width:2; stroke-opacity:0.1; fill:none\" points=\"1546.53,1500.27 1546.53,47.2441 \"/>\n",
       "<polyline clip-path=\"url(#clip270)\" style=\"stroke:#000000; stroke-linecap:round; stroke-linejoin:round; stroke-width:4; stroke-opacity:1; fill:none\" points=\"128.177,1459.15 1587.84,1459.15 \"/>\n",
       "<polyline clip-path=\"url(#clip270)\" style=\"stroke:#000000; stroke-linecap:round; stroke-linejoin:round; stroke-width:4; stroke-opacity:1; fill:none\" points=\"513.749,1478.05 513.749,1440.25 \"/>\n",
       "<polyline clip-path=\"url(#clip270)\" style=\"stroke:#000000; stroke-linecap:round; stroke-linejoin:round; stroke-width:4; stroke-opacity:1; fill:none\" points=\"858.009,1478.05 858.009,1440.25 \"/>\n",
       "<polyline clip-path=\"url(#clip270)\" style=\"stroke:#000000; stroke-linecap:round; stroke-linejoin:round; stroke-width:4; stroke-opacity:1; fill:none\" points=\"1202.27,1478.05 1202.27,1440.25 \"/>\n",
       "<polyline clip-path=\"url(#clip270)\" style=\"stroke:#000000; stroke-linecap:round; stroke-linejoin:round; stroke-width:4; stroke-opacity:1; fill:none\" points=\"1546.53,1478.05 1546.53,1440.25 \"/>\n",
       "<path clip-path=\"url(#clip270)\" d=\"M504.131 1530.41 L511.769 1530.41 L511.769 1504.05 L503.459 1505.71 L503.459 1501.46 L511.723 1499.79 L516.399 1499.79 L516.399 1530.41 L524.038 1530.41 L524.038 1534.35 L504.131 1534.35 L504.131 1530.41 Z\" fill=\"#000000\" fill-rule=\"nonzero\" fill-opacity=\"1\" /><path clip-path=\"url(#clip270)\" d=\"M852.661 1530.41 L868.981 1530.41 L868.981 1534.35 L847.037 1534.35 L847.037 1530.41 Q849.699 1527.66 854.282 1523.03 Q858.888 1518.38 860.069 1517.03 Q862.314 1514.51 863.194 1512.77 Q864.097 1511.02 864.097 1509.33 Q864.097 1506.57 862.152 1504.83 Q860.231 1503.1 857.129 1503.1 Q854.93 1503.1 852.476 1503.86 Q850.046 1504.63 847.268 1506.18 L847.268 1501.46 Q850.092 1500.32 852.546 1499.74 Q854.999 1499.16 857.036 1499.16 Q862.407 1499.16 865.601 1501.85 Q868.796 1504.53 868.796 1509.02 Q868.796 1511.15 867.985 1513.08 Q867.198 1514.97 865.092 1517.57 Q864.513 1518.24 861.411 1521.45 Q858.31 1524.65 852.661 1530.41 Z\" fill=\"#000000\" fill-rule=\"nonzero\" fill-opacity=\"1\" /><path clip-path=\"url(#clip270)\" d=\"M1206.52 1515.71 Q1209.87 1516.43 1211.75 1518.7 Q1213.65 1520.97 1213.65 1524.3 Q1213.65 1529.42 1210.13 1532.22 Q1206.61 1535.02 1200.13 1535.02 Q1197.95 1535.02 1195.64 1534.58 Q1193.35 1534.16 1190.89 1533.31 L1190.89 1528.79 Q1192.84 1529.93 1195.15 1530.51 Q1197.47 1531.08 1199.99 1531.08 Q1204.39 1531.08 1206.68 1529.35 Q1208.99 1527.61 1208.99 1524.3 Q1208.99 1521.25 1206.84 1519.53 Q1204.71 1517.8 1200.89 1517.8 L1196.86 1517.8 L1196.86 1513.96 L1201.08 1513.96 Q1204.53 1513.96 1206.35 1512.59 Q1208.18 1511.2 1208.18 1508.61 Q1208.18 1505.95 1206.28 1504.53 Q1204.41 1503.1 1200.89 1503.1 Q1198.97 1503.1 1196.77 1503.52 Q1194.57 1503.93 1191.93 1504.81 L1191.93 1500.64 Q1194.6 1499.9 1196.91 1499.53 Q1199.25 1499.16 1201.31 1499.16 Q1206.63 1499.16 1209.73 1501.59 Q1212.84 1504 1212.84 1508.12 Q1212.84 1510.99 1211.19 1512.98 Q1209.55 1514.95 1206.52 1515.71 Z\" fill=\"#000000\" fill-rule=\"nonzero\" fill-opacity=\"1\" /><path clip-path=\"url(#clip270)\" d=\"M1549.54 1503.86 L1537.73 1522.31 L1549.54 1522.31 L1549.54 1503.86 M1548.31 1499.79 L1554.19 1499.79 L1554.19 1522.31 L1559.12 1522.31 L1559.12 1526.2 L1554.19 1526.2 L1554.19 1534.35 L1549.54 1534.35 L1549.54 1526.2 L1533.94 1526.2 L1533.94 1521.69 L1548.31 1499.79 Z\" fill=\"#000000\" fill-rule=\"nonzero\" fill-opacity=\"1\" /><polyline clip-path=\"url(#clip272)\" style=\"stroke:#000000; stroke-linecap:round; stroke-linejoin:round; stroke-width:2; stroke-opacity:0.1; fill:none\" points=\"128.177,1116.45 1587.84,1116.45 \"/>\n",
       "<polyline clip-path=\"url(#clip272)\" style=\"stroke:#000000; stroke-linecap:round; stroke-linejoin:round; stroke-width:2; stroke-opacity:0.1; fill:none\" points=\"128.177,773.758 1587.84,773.758 \"/>\n",
       "<polyline clip-path=\"url(#clip272)\" style=\"stroke:#000000; stroke-linecap:round; stroke-linejoin:round; stroke-width:2; stroke-opacity:0.1; fill:none\" points=\"128.177,431.063 1587.84,431.063 \"/>\n",
       "<polyline clip-path=\"url(#clip272)\" style=\"stroke:#000000; stroke-linecap:round; stroke-linejoin:round; stroke-width:2; stroke-opacity:0.1; fill:none\" points=\"128.177,88.3675 1587.84,88.3675 \"/>\n",
       "<polyline clip-path=\"url(#clip270)\" style=\"stroke:#000000; stroke-linecap:round; stroke-linejoin:round; stroke-width:4; stroke-opacity:1; fill:none\" points=\"169.488,1500.27 169.488,47.2441 \"/>\n",
       "<polyline clip-path=\"url(#clip270)\" style=\"stroke:#000000; stroke-linecap:round; stroke-linejoin:round; stroke-width:4; stroke-opacity:1; fill:none\" points=\"150.591,1116.45 188.386,1116.45 \"/>\n",
       "<polyline clip-path=\"url(#clip270)\" style=\"stroke:#000000; stroke-linecap:round; stroke-linejoin:round; stroke-width:4; stroke-opacity:1; fill:none\" points=\"150.591,773.758 188.386,773.758 \"/>\n",
       "<polyline clip-path=\"url(#clip270)\" style=\"stroke:#000000; stroke-linecap:round; stroke-linejoin:round; stroke-width:4; stroke-opacity:1; fill:none\" points=\"150.591,431.063 188.386,431.063 \"/>\n",
       "<polyline clip-path=\"url(#clip270)\" style=\"stroke:#000000; stroke-linecap:round; stroke-linejoin:round; stroke-width:4; stroke-opacity:1; fill:none\" points=\"150.591,88.3675 188.386,88.3675 \"/>\n",
       "<path clip-path=\"url(#clip270)\" d=\"M89.5811 1129.8 L97.2199 1129.8 L97.2199 1103.43 L88.9098 1105.1 L88.9098 1100.84 L97.1736 1099.17 L101.85 1099.17 L101.85 1129.8 L109.488 1129.8 L109.488 1133.73 L89.5811 1133.73 L89.5811 1129.8 Z\" fill=\"#000000\" fill-rule=\"nonzero\" fill-opacity=\"1\" /><path clip-path=\"url(#clip270)\" d=\"M93.169 787.103 L109.488 787.103 L109.488 791.038 L87.5441 791.038 L87.5441 787.103 Q90.2061 784.348 94.7894 779.719 Q99.3959 775.066 100.576 773.723 Q102.822 771.2 103.701 769.464 Q104.604 767.705 104.604 766.015 Q104.604 763.26 102.66 761.524 Q100.738 759.788 97.6366 759.788 Q95.4375 759.788 92.9839 760.552 Q90.5533 761.316 87.7755 762.867 L87.7755 758.145 Q90.5996 757.01 93.0533 756.432 Q95.507 755.853 97.544 755.853 Q102.914 755.853 106.109 758.538 Q109.303 761.223 109.303 765.714 Q109.303 767.844 108.493 769.765 Q107.706 771.663 105.6 774.256 Q105.021 774.927 101.919 778.145 Q98.8172 781.339 93.169 787.103 Z\" fill=\"#000000\" fill-rule=\"nonzero\" fill-opacity=\"1\" /><path clip-path=\"url(#clip270)\" d=\"M102.359 429.709 Q105.715 430.426 107.59 432.695 Q109.488 434.963 109.488 438.297 Q109.488 443.412 105.97 446.213 Q102.451 449.014 95.9699 449.014 Q93.794 449.014 91.4792 448.574 Q89.1876 448.158 86.7339 447.301 L86.7339 442.787 Q88.6783 443.921 90.9931 444.5 Q93.3079 445.079 95.8311 445.079 Q100.229 445.079 102.521 443.343 Q104.836 441.607 104.836 438.297 Q104.836 435.241 102.683 433.528 Q100.553 431.792 96.7338 431.792 L92.7061 431.792 L92.7061 427.949 L96.919 427.949 Q100.368 427.949 102.197 426.584 Q104.025 425.195 104.025 422.602 Q104.025 419.94 102.127 418.528 Q100.252 417.093 96.7338 417.093 Q94.8125 417.093 92.6135 417.51 Q90.4144 417.926 87.7755 418.806 L87.7755 414.639 Q90.4376 413.898 92.7524 413.528 Q95.0903 413.158 97.1505 413.158 Q102.475 413.158 105.576 415.588 Q108.678 417.996 108.678 422.116 Q108.678 424.986 107.035 426.977 Q105.391 428.945 102.359 429.709 Z\" fill=\"#000000\" fill-rule=\"nonzero\" fill-opacity=\"1\" /><path clip-path=\"url(#clip270)\" d=\"M99.9051 75.1616 L88.0996 93.6105 L99.9051 93.6105 L99.9051 75.1616 M98.6783 71.0875 L104.558 71.0875 L104.558 93.6105 L109.488 93.6105 L109.488 97.4994 L104.558 97.4994 L104.558 105.648 L99.9051 105.648 L99.9051 97.4994 L84.3033 97.4994 L84.3033 92.9856 L98.6783 71.0875 Z\" fill=\"#000000\" fill-rule=\"nonzero\" fill-opacity=\"1\" /><path clip-path=\"url(#clip272)\" d=\"M1546.53 1116.45 L1202.27 88.3675 L513.749 431.063 L1546.53 88.3675 L513.749 1116.45 L1546.53 1116.45  Z\" fill=\"#009af9\" fill-rule=\"evenodd\" fill-opacity=\"1\"/>\n",
       "<polyline clip-path=\"url(#clip272)\" style=\"stroke:#000000; stroke-linecap:round; stroke-linejoin:round; stroke-width:4; stroke-opacity:1; fill:none\" points=\"1546.53,1116.45 1202.27,88.3675 513.749,431.063 1546.53,88.3675 513.749,1116.45 1546.53,1116.45 \"/>\n",
       "<path clip-path=\"url(#clip270)\" d=\"M1763.26 1500.27 L3952.76 1500.27 L3952.76 47.2441 L1763.26 47.2441  Z\" fill=\"#ffffff\" fill-rule=\"evenodd\" fill-opacity=\"1\"/>\n",
       "<defs>\n",
       "  <clipPath id=\"clip273\">\n",
       "    <rect x=\"1763\" y=\"47\" width=\"2190\" height=\"1454\"/>\n",
       "  </clipPath>\n",
       "</defs>\n",
       "<polyline clip-path=\"url(#clip273)\" style=\"stroke:#000000; stroke-linecap:round; stroke-linejoin:round; stroke-width:2; stroke-opacity:0.1; fill:none\" points=\"2001.27,1500.27 2001.27,47.2441 \"/>\n",
       "<polyline clip-path=\"url(#clip273)\" style=\"stroke:#000000; stroke-linecap:round; stroke-linejoin:round; stroke-width:2; stroke-opacity:0.1; fill:none\" points=\"2172.62,1500.27 2172.62,47.2441 \"/>\n",
       "<polyline clip-path=\"url(#clip273)\" style=\"stroke:#000000; stroke-linecap:round; stroke-linejoin:round; stroke-width:2; stroke-opacity:0.1; fill:none\" points=\"2343.97,1500.27 2343.97,47.2441 \"/>\n",
       "<polyline clip-path=\"url(#clip273)\" style=\"stroke:#000000; stroke-linecap:round; stroke-linejoin:round; stroke-width:2; stroke-opacity:0.1; fill:none\" points=\"2515.31,1500.27 2515.31,47.2441 \"/>\n",
       "<polyline clip-path=\"url(#clip273)\" style=\"stroke:#000000; stroke-linecap:round; stroke-linejoin:round; stroke-width:2; stroke-opacity:0.1; fill:none\" points=\"2686.66,1500.27 2686.66,47.2441 \"/>\n",
       "<polyline clip-path=\"url(#clip273)\" style=\"stroke:#000000; stroke-linecap:round; stroke-linejoin:round; stroke-width:2; stroke-opacity:0.1; fill:none\" points=\"2858.01,1500.27 2858.01,47.2441 \"/>\n",
       "<polyline clip-path=\"url(#clip273)\" style=\"stroke:#000000; stroke-linecap:round; stroke-linejoin:round; stroke-width:2; stroke-opacity:0.1; fill:none\" points=\"3029.36,1500.27 3029.36,47.2441 \"/>\n",
       "<polyline clip-path=\"url(#clip273)\" style=\"stroke:#000000; stroke-linecap:round; stroke-linejoin:round; stroke-width:2; stroke-opacity:0.1; fill:none\" points=\"3200.7,1500.27 3200.7,47.2441 \"/>\n",
       "<polyline clip-path=\"url(#clip273)\" style=\"stroke:#000000; stroke-linecap:round; stroke-linejoin:round; stroke-width:2; stroke-opacity:0.1; fill:none\" points=\"3372.05,1500.27 3372.05,47.2441 \"/>\n",
       "<polyline clip-path=\"url(#clip273)\" style=\"stroke:#000000; stroke-linecap:round; stroke-linejoin:round; stroke-width:2; stroke-opacity:0.1; fill:none\" points=\"3543.4,1500.27 3543.4,47.2441 \"/>\n",
       "<polyline clip-path=\"url(#clip273)\" style=\"stroke:#000000; stroke-linecap:round; stroke-linejoin:round; stroke-width:2; stroke-opacity:0.1; fill:none\" points=\"3714.75,1500.27 3714.75,47.2441 \"/>\n",
       "<polyline clip-path=\"url(#clip273)\" style=\"stroke:#000000; stroke-linecap:round; stroke-linejoin:round; stroke-width:2; stroke-opacity:0.1; fill:none\" points=\"3886.09,1500.27 3886.09,47.2441 \"/>\n",
       "<polyline clip-path=\"url(#clip270)\" style=\"stroke:#000000; stroke-linecap:round; stroke-linejoin:round; stroke-width:4; stroke-opacity:1; fill:none\" points=\"1763.26,1459.15 3952.76,1459.15 \"/>\n",
       "<polyline clip-path=\"url(#clip270)\" style=\"stroke:#000000; stroke-linecap:round; stroke-linejoin:round; stroke-width:4; stroke-opacity:1; fill:none\" points=\"2001.27,1478.05 2001.27,1440.25 \"/>\n",
       "<polyline clip-path=\"url(#clip270)\" style=\"stroke:#000000; stroke-linecap:round; stroke-linejoin:round; stroke-width:4; stroke-opacity:1; fill:none\" points=\"2172.62,1478.05 2172.62,1440.25 \"/>\n",
       "<polyline clip-path=\"url(#clip270)\" style=\"stroke:#000000; stroke-linecap:round; stroke-linejoin:round; stroke-width:4; stroke-opacity:1; fill:none\" points=\"2343.97,1478.05 2343.97,1440.25 \"/>\n",
       "<polyline clip-path=\"url(#clip270)\" style=\"stroke:#000000; stroke-linecap:round; stroke-linejoin:round; stroke-width:4; stroke-opacity:1; fill:none\" points=\"2515.31,1478.05 2515.31,1440.25 \"/>\n",
       "<polyline clip-path=\"url(#clip270)\" style=\"stroke:#000000; stroke-linecap:round; stroke-linejoin:round; stroke-width:4; stroke-opacity:1; fill:none\" points=\"2686.66,1478.05 2686.66,1440.25 \"/>\n",
       "<polyline clip-path=\"url(#clip270)\" style=\"stroke:#000000; stroke-linecap:round; stroke-linejoin:round; stroke-width:4; stroke-opacity:1; fill:none\" points=\"2858.01,1478.05 2858.01,1440.25 \"/>\n",
       "<polyline clip-path=\"url(#clip270)\" style=\"stroke:#000000; stroke-linecap:round; stroke-linejoin:round; stroke-width:4; stroke-opacity:1; fill:none\" points=\"3029.36,1478.05 3029.36,1440.25 \"/>\n",
       "<polyline clip-path=\"url(#clip270)\" style=\"stroke:#000000; stroke-linecap:round; stroke-linejoin:round; stroke-width:4; stroke-opacity:1; fill:none\" points=\"3200.7,1478.05 3200.7,1440.25 \"/>\n",
       "<polyline clip-path=\"url(#clip270)\" style=\"stroke:#000000; stroke-linecap:round; stroke-linejoin:round; stroke-width:4; stroke-opacity:1; fill:none\" points=\"3372.05,1478.05 3372.05,1440.25 \"/>\n",
       "<polyline clip-path=\"url(#clip270)\" style=\"stroke:#000000; stroke-linecap:round; stroke-linejoin:round; stroke-width:4; stroke-opacity:1; fill:none\" points=\"3543.4,1478.05 3543.4,1440.25 \"/>\n",
       "<polyline clip-path=\"url(#clip270)\" style=\"stroke:#000000; stroke-linecap:round; stroke-linejoin:round; stroke-width:4; stroke-opacity:1; fill:none\" points=\"3714.75,1478.05 3714.75,1440.25 \"/>\n",
       "<polyline clip-path=\"url(#clip270)\" style=\"stroke:#000000; stroke-linecap:round; stroke-linejoin:round; stroke-width:4; stroke-opacity:1; fill:none\" points=\"3886.09,1478.05 3886.09,1440.25 \"/>\n",
       "<path clip-path=\"url(#clip270)\" d=\"M1991.65 1530.41 L1999.29 1530.41 L1999.29 1504.05 L1990.98 1505.71 L1990.98 1501.46 L1999.25 1499.79 L2003.92 1499.79 L2003.92 1530.41 L2011.56 1530.41 L2011.56 1534.35 L1991.65 1534.35 L1991.65 1530.41 Z\" fill=\"#000000\" fill-rule=\"nonzero\" fill-opacity=\"1\" /><path clip-path=\"url(#clip270)\" d=\"M2167.27 1530.41 L2183.59 1530.41 L2183.59 1534.35 L2161.65 1534.35 L2161.65 1530.41 Q2164.31 1527.66 2168.89 1523.03 Q2173.5 1518.38 2174.68 1517.03 Q2176.92 1514.51 2177.8 1512.77 Q2178.71 1511.02 2178.71 1509.33 Q2178.71 1506.57 2176.76 1504.83 Q2174.84 1503.1 2171.74 1503.1 Q2169.54 1503.1 2167.09 1503.86 Q2164.66 1504.63 2161.88 1506.18 L2161.88 1501.46 Q2164.7 1500.32 2167.16 1499.74 Q2169.61 1499.16 2171.65 1499.16 Q2177.02 1499.16 2180.21 1501.85 Q2183.41 1504.53 2183.41 1509.02 Q2183.41 1511.15 2182.6 1513.08 Q2181.81 1514.97 2179.7 1517.57 Q2179.12 1518.24 2176.02 1521.45 Q2172.92 1524.65 2167.27 1530.41 Z\" fill=\"#000000\" fill-rule=\"nonzero\" fill-opacity=\"1\" /><path clip-path=\"url(#clip270)\" d=\"M2348.21 1515.71 Q2351.57 1516.43 2353.44 1518.7 Q2355.34 1520.97 2355.34 1524.3 Q2355.34 1529.42 2351.82 1532.22 Q2348.31 1535.02 2341.82 1535.02 Q2339.65 1535.02 2337.33 1534.58 Q2335.04 1534.16 2332.59 1533.31 L2332.59 1528.79 Q2334.53 1529.93 2336.85 1530.51 Q2339.16 1531.08 2341.69 1531.08 Q2346.08 1531.08 2348.38 1529.35 Q2350.69 1527.61 2350.69 1524.3 Q2350.69 1521.25 2348.54 1519.53 Q2346.41 1517.8 2342.59 1517.8 L2338.56 1517.8 L2338.56 1513.96 L2342.77 1513.96 Q2346.22 1513.96 2348.05 1512.59 Q2349.88 1511.2 2349.88 1508.61 Q2349.88 1505.95 2347.98 1504.53 Q2346.11 1503.1 2342.59 1503.1 Q2340.67 1503.1 2338.47 1503.52 Q2336.27 1503.93 2333.63 1504.81 L2333.63 1500.64 Q2336.29 1499.9 2338.61 1499.53 Q2340.95 1499.16 2343.01 1499.16 Q2348.33 1499.16 2351.43 1501.59 Q2354.53 1504 2354.53 1508.12 Q2354.53 1510.99 2352.89 1512.98 Q2351.25 1514.95 2348.21 1515.71 Z\" fill=\"#000000\" fill-rule=\"nonzero\" fill-opacity=\"1\" /><path clip-path=\"url(#clip270)\" d=\"M2518.32 1503.86 L2506.52 1522.31 L2518.32 1522.31 L2518.32 1503.86 M2517.1 1499.79 L2522.98 1499.79 L2522.98 1522.31 L2527.91 1522.31 L2527.91 1526.2 L2522.98 1526.2 L2522.98 1534.35 L2518.32 1534.35 L2518.32 1526.2 L2502.72 1526.2 L2502.72 1521.69 L2517.1 1499.79 Z\" fill=\"#000000\" fill-rule=\"nonzero\" fill-opacity=\"1\" /><path clip-path=\"url(#clip270)\" d=\"M2676.94 1499.79 L2695.3 1499.79 L2695.3 1503.72 L2681.22 1503.72 L2681.22 1512.2 Q2682.24 1511.85 2683.26 1511.69 Q2684.28 1511.5 2685.3 1511.5 Q2691.08 1511.5 2694.46 1514.67 Q2697.84 1517.84 2697.84 1523.26 Q2697.84 1528.84 2694.37 1531.94 Q2690.9 1535.02 2684.58 1535.02 Q2682.4 1535.02 2680.13 1534.65 Q2677.89 1534.28 2675.48 1533.54 L2675.48 1528.84 Q2677.56 1529.97 2679.79 1530.53 Q2682.01 1531.08 2684.49 1531.08 Q2688.49 1531.08 2690.83 1528.98 Q2693.17 1526.87 2693.17 1523.26 Q2693.17 1519.65 2690.83 1517.54 Q2688.49 1515.44 2684.49 1515.44 Q2682.61 1515.44 2680.74 1515.85 Q2678.88 1516.27 2676.94 1517.15 L2676.94 1499.79 Z\" fill=\"#000000\" fill-rule=\"nonzero\" fill-opacity=\"1\" /><path clip-path=\"url(#clip270)\" d=\"M2858.41 1515.21 Q2855.27 1515.21 2853.41 1517.36 Q2851.59 1519.51 2851.59 1523.26 Q2851.59 1526.99 2853.41 1529.16 Q2855.27 1531.32 2858.41 1531.32 Q2861.56 1531.32 2863.39 1529.16 Q2865.24 1526.99 2865.24 1523.26 Q2865.24 1519.51 2863.39 1517.36 Q2861.56 1515.21 2858.41 1515.21 M2867.7 1500.55 L2867.7 1504.81 Q2865.94 1503.98 2864.13 1503.54 Q2862.35 1503.1 2860.59 1503.1 Q2855.96 1503.1 2853.51 1506.22 Q2851.08 1509.35 2850.73 1515.67 Q2852.09 1513.65 2854.15 1512.59 Q2856.21 1511.5 2858.69 1511.5 Q2863.9 1511.5 2866.91 1514.67 Q2869.94 1517.82 2869.94 1523.26 Q2869.94 1528.58 2866.79 1531.8 Q2863.65 1535.02 2858.41 1535.02 Q2852.42 1535.02 2849.25 1530.44 Q2846.08 1525.83 2846.08 1517.1 Q2846.08 1508.91 2849.96 1504.05 Q2853.85 1499.16 2860.4 1499.16 Q2862.16 1499.16 2863.95 1499.51 Q2865.75 1499.86 2867.7 1500.55 Z\" fill=\"#000000\" fill-rule=\"nonzero\" fill-opacity=\"1\" /><path clip-path=\"url(#clip270)\" d=\"M3018.25 1499.79 L3040.47 1499.79 L3040.47 1501.78 L3027.92 1534.35 L3023.04 1534.35 L3034.84 1503.72 L3018.25 1503.72 L3018.25 1499.79 Z\" fill=\"#000000\" fill-rule=\"nonzero\" fill-opacity=\"1\" /><path clip-path=\"url(#clip270)\" d=\"M3200.7 1517.94 Q3197.37 1517.94 3195.45 1519.72 Q3193.55 1521.5 3193.55 1524.63 Q3193.55 1527.75 3195.45 1529.53 Q3197.37 1531.32 3200.7 1531.32 Q3204.04 1531.32 3205.96 1529.53 Q3207.88 1527.73 3207.88 1524.63 Q3207.88 1521.5 3205.96 1519.72 Q3204.06 1517.94 3200.7 1517.94 M3196.03 1515.95 Q3193.02 1515.21 3191.33 1513.14 Q3189.66 1511.08 3189.66 1508.12 Q3189.66 1503.98 3192.6 1501.57 Q3195.57 1499.16 3200.7 1499.16 Q3205.87 1499.16 3208.81 1501.57 Q3211.75 1503.98 3211.75 1508.12 Q3211.75 1511.08 3210.06 1513.14 Q3208.39 1515.21 3205.4 1515.95 Q3208.78 1516.73 3210.66 1519.02 Q3212.56 1521.32 3212.56 1524.63 Q3212.56 1529.65 3209.48 1532.33 Q3206.42 1535.02 3200.7 1535.02 Q3194.99 1535.02 3191.91 1532.33 Q3188.85 1529.65 3188.85 1524.63 Q3188.85 1521.32 3190.75 1519.02 Q3192.65 1516.73 3196.03 1515.95 M3194.32 1508.56 Q3194.32 1511.25 3195.98 1512.75 Q3197.67 1514.26 3200.7 1514.26 Q3203.71 1514.26 3205.4 1512.75 Q3207.12 1511.25 3207.12 1508.56 Q3207.12 1505.88 3205.4 1504.37 Q3203.71 1502.87 3200.7 1502.87 Q3197.67 1502.87 3195.98 1504.37 Q3194.32 1505.88 3194.32 1508.56 Z\" fill=\"#000000\" fill-rule=\"nonzero\" fill-opacity=\"1\" /><path clip-path=\"url(#clip270)\" d=\"M3362.35 1533.63 L3362.35 1529.37 Q3364.11 1530.2 3365.92 1530.64 Q3367.72 1531.08 3369.46 1531.08 Q3374.09 1531.08 3376.52 1527.98 Q3378.97 1524.86 3379.32 1518.52 Q3377.98 1520.51 3375.92 1521.57 Q3373.86 1522.64 3371.36 1522.64 Q3366.17 1522.64 3363.14 1519.51 Q3360.13 1516.36 3360.13 1510.92 Q3360.13 1505.6 3363.28 1502.38 Q3366.43 1499.16 3371.66 1499.16 Q3377.65 1499.16 3380.8 1503.77 Q3383.97 1508.35 3383.97 1517.1 Q3383.97 1525.27 3380.08 1530.16 Q3376.22 1535.02 3369.67 1535.02 Q3367.91 1535.02 3366.1 1534.67 Q3364.3 1534.33 3362.35 1533.63 M3371.66 1518.98 Q3374.81 1518.98 3376.63 1516.83 Q3378.49 1514.67 3378.49 1510.92 Q3378.49 1507.2 3376.63 1505.04 Q3374.81 1502.87 3371.66 1502.87 Q3368.51 1502.87 3366.66 1505.04 Q3364.83 1507.2 3364.83 1510.92 Q3364.83 1514.67 3366.66 1516.83 Q3368.51 1518.98 3371.66 1518.98 Z\" fill=\"#000000\" fill-rule=\"nonzero\" fill-opacity=\"1\" /><path clip-path=\"url(#clip270)\" d=\"M3518.09 1530.41 L3525.73 1530.41 L3525.73 1504.05 L3517.42 1505.71 L3517.42 1501.46 L3525.68 1499.79 L3530.36 1499.79 L3530.36 1530.41 L3537.99 1530.41 L3537.99 1534.35 L3518.09 1534.35 L3518.09 1530.41 Z\" fill=\"#000000\" fill-rule=\"nonzero\" fill-opacity=\"1\" /><path clip-path=\"url(#clip270)\" d=\"M3557.44 1502.87 Q3553.83 1502.87 3552 1506.43 Q3550.19 1509.97 3550.19 1517.1 Q3550.19 1524.21 3552 1527.77 Q3553.83 1531.32 3557.44 1531.32 Q3561.07 1531.32 3562.88 1527.77 Q3564.71 1524.21 3564.71 1517.1 Q3564.71 1509.97 3562.88 1506.43 Q3561.07 1502.87 3557.44 1502.87 M3557.44 1499.16 Q3563.25 1499.16 3566.3 1503.77 Q3569.38 1508.35 3569.38 1517.1 Q3569.38 1525.83 3566.3 1530.44 Q3563.25 1535.02 3557.44 1535.02 Q3551.63 1535.02 3548.55 1530.44 Q3545.49 1525.83 3545.49 1517.1 Q3545.49 1508.35 3548.55 1503.77 Q3551.63 1499.16 3557.44 1499.16 Z\" fill=\"#000000\" fill-rule=\"nonzero\" fill-opacity=\"1\" /><path clip-path=\"url(#clip270)\" d=\"M3690.05 1530.41 L3697.69 1530.41 L3697.69 1504.05 L3689.38 1505.71 L3689.38 1501.46 L3697.64 1499.79 L3702.32 1499.79 L3702.32 1530.41 L3709.96 1530.41 L3709.96 1534.35 L3690.05 1534.35 L3690.05 1530.41 Z\" fill=\"#000000\" fill-rule=\"nonzero\" fill-opacity=\"1\" /><path clip-path=\"url(#clip270)\" d=\"M3720.21 1530.41 L3727.85 1530.41 L3727.85 1504.05 L3719.54 1505.71 L3719.54 1501.46 L3727.8 1499.79 L3732.48 1499.79 L3732.48 1530.41 L3740.12 1530.41 L3740.12 1534.35 L3720.21 1534.35 L3720.21 1530.41 Z\" fill=\"#000000\" fill-rule=\"nonzero\" fill-opacity=\"1\" /><path clip-path=\"url(#clip270)\" d=\"M3861.58 1530.41 L3869.22 1530.41 L3869.22 1504.05 L3860.91 1505.71 L3860.91 1501.46 L3869.17 1499.79 L3873.85 1499.79 L3873.85 1530.41 L3881.49 1530.41 L3881.49 1534.35 L3861.58 1534.35 L3861.58 1530.41 Z\" fill=\"#000000\" fill-rule=\"nonzero\" fill-opacity=\"1\" /><path clip-path=\"url(#clip270)\" d=\"M3894.96 1530.41 L3911.28 1530.41 L3911.28 1534.35 L3889.34 1534.35 L3889.34 1530.41 Q3892 1527.66 3896.58 1523.03 Q3901.19 1518.38 3902.37 1517.03 Q3904.61 1514.51 3905.49 1512.77 Q3906.4 1511.02 3906.4 1509.33 Q3906.4 1506.57 3904.45 1504.83 Q3902.53 1503.1 3899.43 1503.1 Q3897.23 1503.1 3894.77 1503.86 Q3892.34 1504.63 3889.57 1506.18 L3889.57 1501.46 Q3892.39 1500.32 3894.84 1499.74 Q3897.3 1499.16 3899.34 1499.16 Q3904.71 1499.16 3907.9 1501.85 Q3911.09 1504.53 3911.09 1509.02 Q3911.09 1511.15 3910.28 1513.08 Q3909.5 1514.97 3907.39 1517.57 Q3906.81 1518.24 3903.71 1521.45 Q3900.61 1524.65 3894.96 1530.41 Z\" fill=\"#000000\" fill-rule=\"nonzero\" fill-opacity=\"1\" /><polyline clip-path=\"url(#clip273)\" style=\"stroke:#000000; stroke-linecap:round; stroke-linejoin:round; stroke-width:2; stroke-opacity:0.1; fill:none\" points=\"1763.26,1287.8 3952.76,1287.8 \"/>\n",
       "<polyline clip-path=\"url(#clip273)\" style=\"stroke:#000000; stroke-linecap:round; stroke-linejoin:round; stroke-width:2; stroke-opacity:0.1; fill:none\" points=\"1763.26,1116.45 3952.76,1116.45 \"/>\n",
       "<polyline clip-path=\"url(#clip273)\" style=\"stroke:#000000; stroke-linecap:round; stroke-linejoin:round; stroke-width:2; stroke-opacity:0.1; fill:none\" points=\"1763.26,945.106 3952.76,945.106 \"/>\n",
       "<polyline clip-path=\"url(#clip273)\" style=\"stroke:#000000; stroke-linecap:round; stroke-linejoin:round; stroke-width:2; stroke-opacity:0.1; fill:none\" points=\"1763.26,773.758 3952.76,773.758 \"/>\n",
       "<polyline clip-path=\"url(#clip273)\" style=\"stroke:#000000; stroke-linecap:round; stroke-linejoin:round; stroke-width:2; stroke-opacity:0.1; fill:none\" points=\"1763.26,602.41 3952.76,602.41 \"/>\n",
       "<polyline clip-path=\"url(#clip273)\" style=\"stroke:#000000; stroke-linecap:round; stroke-linejoin:round; stroke-width:2; stroke-opacity:0.1; fill:none\" points=\"1763.26,431.063 3952.76,431.063 \"/>\n",
       "<polyline clip-path=\"url(#clip273)\" style=\"stroke:#000000; stroke-linecap:round; stroke-linejoin:round; stroke-width:2; stroke-opacity:0.1; fill:none\" points=\"1763.26,259.715 3952.76,259.715 \"/>\n",
       "<polyline clip-path=\"url(#clip273)\" style=\"stroke:#000000; stroke-linecap:round; stroke-linejoin:round; stroke-width:2; stroke-opacity:0.1; fill:none\" points=\"1763.26,88.3675 3952.76,88.3675 \"/>\n",
       "<polyline clip-path=\"url(#clip270)\" style=\"stroke:#000000; stroke-linecap:round; stroke-linejoin:round; stroke-width:4; stroke-opacity:1; fill:none\" points=\"1829.92,1500.27 1829.92,47.2441 \"/>\n",
       "<polyline clip-path=\"url(#clip270)\" style=\"stroke:#000000; stroke-linecap:round; stroke-linejoin:round; stroke-width:4; stroke-opacity:1; fill:none\" points=\"1811.03,1287.8 1848.82,1287.8 \"/>\n",
       "<polyline clip-path=\"url(#clip270)\" style=\"stroke:#000000; stroke-linecap:round; stroke-linejoin:round; stroke-width:4; stroke-opacity:1; fill:none\" points=\"1811.03,1116.45 1848.82,1116.45 \"/>\n",
       "<polyline clip-path=\"url(#clip270)\" style=\"stroke:#000000; stroke-linecap:round; stroke-linejoin:round; stroke-width:4; stroke-opacity:1; fill:none\" points=\"1811.03,945.106 1848.82,945.106 \"/>\n",
       "<polyline clip-path=\"url(#clip270)\" style=\"stroke:#000000; stroke-linecap:round; stroke-linejoin:round; stroke-width:4; stroke-opacity:1; fill:none\" points=\"1811.03,773.758 1848.82,773.758 \"/>\n",
       "<polyline clip-path=\"url(#clip270)\" style=\"stroke:#000000; stroke-linecap:round; stroke-linejoin:round; stroke-width:4; stroke-opacity:1; fill:none\" points=\"1811.03,602.41 1848.82,602.41 \"/>\n",
       "<polyline clip-path=\"url(#clip270)\" style=\"stroke:#000000; stroke-linecap:round; stroke-linejoin:round; stroke-width:4; stroke-opacity:1; fill:none\" points=\"1811.03,431.063 1848.82,431.063 \"/>\n",
       "<polyline clip-path=\"url(#clip270)\" style=\"stroke:#000000; stroke-linecap:round; stroke-linejoin:round; stroke-width:4; stroke-opacity:1; fill:none\" points=\"1811.03,259.715 1848.82,259.715 \"/>\n",
       "<polyline clip-path=\"url(#clip270)\" style=\"stroke:#000000; stroke-linecap:round; stroke-linejoin:round; stroke-width:4; stroke-opacity:1; fill:none\" points=\"1811.03,88.3675 1848.82,88.3675 \"/>\n",
       "<path clip-path=\"url(#clip270)\" d=\"M1750.02 1301.15 L1757.65 1301.15 L1757.65 1274.78 L1749.34 1276.45 L1749.34 1272.19 L1757.61 1270.52 L1762.28 1270.52 L1762.28 1301.15 L1769.92 1301.15 L1769.92 1305.08 L1750.02 1305.08 L1750.02 1301.15 Z\" fill=\"#000000\" fill-rule=\"nonzero\" fill-opacity=\"1\" /><path clip-path=\"url(#clip270)\" d=\"M1753.6 1129.8 L1769.92 1129.8 L1769.92 1133.73 L1747.98 1133.73 L1747.98 1129.8 Q1750.64 1127.04 1755.22 1122.41 Q1759.83 1117.76 1761.01 1116.42 Q1763.26 1113.9 1764.14 1112.16 Q1765.04 1110.4 1765.04 1108.71 Q1765.04 1105.96 1763.09 1104.22 Q1761.17 1102.48 1758.07 1102.48 Q1755.87 1102.48 1753.42 1103.25 Q1750.99 1104.01 1748.21 1105.56 L1748.21 1100.84 Q1751.03 1099.71 1753.49 1099.13 Q1755.94 1098.55 1757.98 1098.55 Q1763.35 1098.55 1766.54 1101.23 Q1769.74 1103.92 1769.74 1108.41 Q1769.74 1110.54 1768.93 1112.46 Q1768.14 1114.36 1766.03 1116.95 Q1765.46 1117.62 1762.35 1120.84 Q1759.25 1124.03 1753.6 1129.8 Z\" fill=\"#000000\" fill-rule=\"nonzero\" fill-opacity=\"1\" /><path clip-path=\"url(#clip270)\" d=\"M1762.79 943.751 Q1766.15 944.469 1768.02 946.738 Q1769.92 949.006 1769.92 952.339 Q1769.92 957.455 1766.4 960.256 Q1762.89 963.057 1756.4 963.057 Q1754.23 963.057 1751.91 962.617 Q1749.62 962.2 1747.17 961.344 L1747.17 956.83 Q1749.11 957.964 1751.43 958.543 Q1753.74 959.122 1756.27 959.122 Q1760.66 959.122 1762.96 957.386 Q1765.27 955.65 1765.27 952.339 Q1765.27 949.284 1763.12 947.571 Q1760.99 945.835 1757.17 945.835 L1753.14 945.835 L1753.14 941.992 L1757.35 941.992 Q1760.8 941.992 1762.63 940.626 Q1764.46 939.238 1764.46 936.645 Q1764.46 933.983 1762.56 932.571 Q1760.69 931.136 1757.17 931.136 Q1755.25 931.136 1753.05 931.552 Q1750.85 931.969 1748.21 932.849 L1748.21 928.682 Q1750.87 927.941 1753.19 927.571 Q1755.52 927.201 1757.59 927.201 Q1762.91 927.201 1766.01 929.631 Q1769.11 932.039 1769.11 936.159 Q1769.11 939.029 1767.47 941.02 Q1765.83 942.988 1762.79 943.751 Z\" fill=\"#000000\" fill-rule=\"nonzero\" fill-opacity=\"1\" /><path clip-path=\"url(#clip270)\" d=\"M1760.34 760.552 L1748.53 779.001 L1760.34 779.001 L1760.34 760.552 M1759.11 756.478 L1764.99 756.478 L1764.99 779.001 L1769.92 779.001 L1769.92 782.89 L1764.99 782.89 L1764.99 791.038 L1760.34 791.038 L1760.34 782.89 L1744.74 782.89 L1744.74 778.376 L1759.11 756.478 Z\" fill=\"#000000\" fill-rule=\"nonzero\" fill-opacity=\"1\" /><path clip-path=\"url(#clip270)\" d=\"M1749.02 585.13 L1767.38 585.13 L1767.38 589.066 L1753.3 589.066 L1753.3 597.538 Q1754.32 597.19 1755.34 597.028 Q1756.36 596.843 1757.38 596.843 Q1763.16 596.843 1766.54 600.015 Q1769.92 603.186 1769.92 608.602 Q1769.92 614.181 1766.45 617.283 Q1762.98 620.362 1756.66 620.362 Q1754.48 620.362 1752.21 619.991 Q1749.97 619.621 1747.56 618.88 L1747.56 614.181 Q1749.65 615.315 1751.87 615.871 Q1754.09 616.426 1756.57 616.426 Q1760.57 616.426 1762.91 614.32 Q1765.25 612.214 1765.25 608.602 Q1765.25 604.991 1762.91 602.885 Q1760.57 600.778 1756.57 600.778 Q1754.69 600.778 1752.82 601.195 Q1750.96 601.612 1749.02 602.491 L1749.02 585.13 Z\" fill=\"#000000\" fill-rule=\"nonzero\" fill-opacity=\"1\" /><path clip-path=\"url(#clip270)\" d=\"M1758.4 429.199 Q1755.25 429.199 1753.4 431.352 Q1751.57 433.505 1751.57 437.255 Q1751.57 440.982 1753.4 443.158 Q1755.25 445.31 1758.4 445.31 Q1761.54 445.31 1763.37 443.158 Q1765.22 440.982 1765.22 437.255 Q1765.22 433.505 1763.37 431.352 Q1761.54 429.199 1758.4 429.199 M1767.68 414.547 L1767.68 418.806 Q1765.92 417.973 1764.11 417.533 Q1762.33 417.093 1760.57 417.093 Q1755.94 417.093 1753.49 420.218 Q1751.06 423.343 1750.71 429.662 Q1752.08 427.648 1754.14 426.584 Q1756.2 425.496 1758.67 425.496 Q1763.88 425.496 1766.89 428.667 Q1769.92 431.815 1769.92 437.255 Q1769.92 442.579 1766.77 445.796 Q1763.63 449.014 1758.4 449.014 Q1752.4 449.014 1749.23 444.431 Q1746.06 439.824 1746.06 431.097 Q1746.06 422.903 1749.95 418.042 Q1753.84 413.158 1760.39 413.158 Q1762.15 413.158 1763.93 413.505 Q1765.73 413.852 1767.68 414.547 Z\" fill=\"#000000\" fill-rule=\"nonzero\" fill-opacity=\"1\" /><path clip-path=\"url(#clip270)\" d=\"M1747.7 242.435 L1769.92 242.435 L1769.92 244.426 L1757.38 276.995 L1752.49 276.995 L1764.3 246.37 L1747.7 246.37 L1747.7 242.435 Z\" fill=\"#000000\" fill-rule=\"nonzero\" fill-opacity=\"1\" /><path clip-path=\"url(#clip270)\" d=\"M1758.07 89.2356 Q1754.74 89.2356 1752.82 91.018 Q1750.92 92.8004 1750.92 95.9254 Q1750.92 99.0503 1752.82 100.833 Q1754.74 102.615 1758.07 102.615 Q1761.4 102.615 1763.33 100.833 Q1765.25 99.0272 1765.25 95.9254 Q1765.25 92.8004 1763.33 91.018 Q1761.43 89.2356 1758.07 89.2356 M1753.4 87.2448 Q1750.39 86.5041 1748.7 84.4439 Q1747.03 82.3838 1747.03 79.4208 Q1747.03 75.2773 1749.97 72.8699 Q1752.93 70.4625 1758.07 70.4625 Q1763.23 70.4625 1766.17 72.8699 Q1769.11 75.2773 1769.11 79.4208 Q1769.11 82.3838 1767.42 84.4439 Q1765.76 86.5041 1762.77 87.2448 Q1766.15 88.0319 1768.02 90.3235 Q1769.92 92.6152 1769.92 95.9254 Q1769.92 100.948 1766.84 103.634 Q1763.79 106.319 1758.07 106.319 Q1752.35 106.319 1749.27 103.634 Q1746.22 100.948 1746.22 95.9254 Q1746.22 92.6152 1748.12 90.3235 Q1750.02 88.0319 1753.4 87.2448 M1751.68 79.8606 Q1751.68 82.5458 1753.35 84.0504 Q1755.04 85.555 1758.07 85.555 Q1761.08 85.555 1762.77 84.0504 Q1764.48 82.5458 1764.48 79.8606 Q1764.48 77.1755 1762.77 75.6708 Q1761.08 74.1662 1758.07 74.1662 Q1755.04 74.1662 1753.35 75.6708 Q1751.68 77.1755 1751.68 79.8606 Z\" fill=\"#000000\" fill-rule=\"nonzero\" fill-opacity=\"1\" /><path clip-path=\"url(#clip273)\" d=\"M3372.05 602.41 L3543.4 259.715 L2686.66 773.758 L3886.09 88.3675 L2343.97 1116.45 L3372.05 602.41  Z\" fill=\"#009af9\" fill-rule=\"evenodd\" fill-opacity=\"1\"/>\n",
       "<polyline clip-path=\"url(#clip273)\" style=\"stroke:#000000; stroke-linecap:round; stroke-linejoin:round; stroke-width:4; stroke-opacity:1; fill:none\" points=\"3372.05,602.41 3543.4,259.715 2686.66,773.758 3886.09,88.3675 2343.97,1116.45 3372.05,602.41 \"/>\n",
       "</svg>\n"
      ],
      "text/html": [
       "<?xml version=\"1.0\" encoding=\"utf-8\"?>\n",
       "<svg xmlns=\"http://www.w3.org/2000/svg\" xmlns:xlink=\"http://www.w3.org/1999/xlink\" width=\"1000\" height=\"400\" viewBox=\"0 0 4000 1600\">\n",
       "<defs>\n",
       "  <clipPath id=\"clip320\">\n",
       "    <rect x=\"0\" y=\"0\" width=\"4000\" height=\"1600\"/>\n",
       "  </clipPath>\n",
       "</defs>\n",
       "<path clip-path=\"url(#clip320)\" d=\"M0 1600 L4000 1600 L4000 0 L0 0  Z\" fill=\"#ffffff\" fill-rule=\"evenodd\" fill-opacity=\"1\"/>\n",
       "<defs>\n",
       "  <clipPath id=\"clip321\">\n",
       "    <rect x=\"800\" y=\"0\" width=\"2801\" height=\"1600\"/>\n",
       "  </clipPath>\n",
       "</defs>\n",
       "<path clip-path=\"url(#clip320)\" d=\"M128.177 1500.27 L1587.84 1500.27 L1587.84 47.2441 L128.177 47.2441  Z\" fill=\"#ffffff\" fill-rule=\"evenodd\" fill-opacity=\"1\"/>\n",
       "<defs>\n",
       "  <clipPath id=\"clip322\">\n",
       "    <rect x=\"128\" y=\"47\" width=\"1461\" height=\"1454\"/>\n",
       "  </clipPath>\n",
       "</defs>\n",
       "<polyline clip-path=\"url(#clip322)\" style=\"stroke:#000000; stroke-linecap:round; stroke-linejoin:round; stroke-width:2; stroke-opacity:0.1; fill:none\" points=\"513.749,1500.27 513.749,47.2441 \"/>\n",
       "<polyline clip-path=\"url(#clip322)\" style=\"stroke:#000000; stroke-linecap:round; stroke-linejoin:round; stroke-width:2; stroke-opacity:0.1; fill:none\" points=\"858.009,1500.27 858.009,47.2441 \"/>\n",
       "<polyline clip-path=\"url(#clip322)\" style=\"stroke:#000000; stroke-linecap:round; stroke-linejoin:round; stroke-width:2; stroke-opacity:0.1; fill:none\" points=\"1202.27,1500.27 1202.27,47.2441 \"/>\n",
       "<polyline clip-path=\"url(#clip322)\" style=\"stroke:#000000; stroke-linecap:round; stroke-linejoin:round; stroke-width:2; stroke-opacity:0.1; fill:none\" points=\"1546.53,1500.27 1546.53,47.2441 \"/>\n",
       "<polyline clip-path=\"url(#clip320)\" style=\"stroke:#000000; stroke-linecap:round; stroke-linejoin:round; stroke-width:4; stroke-opacity:1; fill:none\" points=\"128.177,1459.15 1587.84,1459.15 \"/>\n",
       "<polyline clip-path=\"url(#clip320)\" style=\"stroke:#000000; stroke-linecap:round; stroke-linejoin:round; stroke-width:4; stroke-opacity:1; fill:none\" points=\"513.749,1478.05 513.749,1440.25 \"/>\n",
       "<polyline clip-path=\"url(#clip320)\" style=\"stroke:#000000; stroke-linecap:round; stroke-linejoin:round; stroke-width:4; stroke-opacity:1; fill:none\" points=\"858.009,1478.05 858.009,1440.25 \"/>\n",
       "<polyline clip-path=\"url(#clip320)\" style=\"stroke:#000000; stroke-linecap:round; stroke-linejoin:round; stroke-width:4; stroke-opacity:1; fill:none\" points=\"1202.27,1478.05 1202.27,1440.25 \"/>\n",
       "<polyline clip-path=\"url(#clip320)\" style=\"stroke:#000000; stroke-linecap:round; stroke-linejoin:round; stroke-width:4; stroke-opacity:1; fill:none\" points=\"1546.53,1478.05 1546.53,1440.25 \"/>\n",
       "<path clip-path=\"url(#clip320)\" d=\"M504.131 1530.41 L511.769 1530.41 L511.769 1504.05 L503.459 1505.71 L503.459 1501.46 L511.723 1499.79 L516.399 1499.79 L516.399 1530.41 L524.038 1530.41 L524.038 1534.35 L504.131 1534.35 L504.131 1530.41 Z\" fill=\"#000000\" fill-rule=\"nonzero\" fill-opacity=\"1\" /><path clip-path=\"url(#clip320)\" d=\"M852.661 1530.41 L868.981 1530.41 L868.981 1534.35 L847.037 1534.35 L847.037 1530.41 Q849.699 1527.66 854.282 1523.03 Q858.888 1518.38 860.069 1517.03 Q862.314 1514.51 863.194 1512.77 Q864.097 1511.02 864.097 1509.33 Q864.097 1506.57 862.152 1504.83 Q860.231 1503.1 857.129 1503.1 Q854.93 1503.1 852.476 1503.86 Q850.046 1504.63 847.268 1506.18 L847.268 1501.46 Q850.092 1500.32 852.546 1499.74 Q854.999 1499.16 857.036 1499.16 Q862.407 1499.16 865.601 1501.85 Q868.796 1504.53 868.796 1509.02 Q868.796 1511.15 867.985 1513.08 Q867.198 1514.97 865.092 1517.57 Q864.513 1518.24 861.411 1521.45 Q858.31 1524.65 852.661 1530.41 Z\" fill=\"#000000\" fill-rule=\"nonzero\" fill-opacity=\"1\" /><path clip-path=\"url(#clip320)\" d=\"M1206.52 1515.71 Q1209.87 1516.43 1211.75 1518.7 Q1213.65 1520.97 1213.65 1524.3 Q1213.65 1529.42 1210.13 1532.22 Q1206.61 1535.02 1200.13 1535.02 Q1197.95 1535.02 1195.64 1534.58 Q1193.35 1534.16 1190.89 1533.31 L1190.89 1528.79 Q1192.84 1529.93 1195.15 1530.51 Q1197.47 1531.08 1199.99 1531.08 Q1204.39 1531.08 1206.68 1529.35 Q1208.99 1527.61 1208.99 1524.3 Q1208.99 1521.25 1206.84 1519.53 Q1204.71 1517.8 1200.89 1517.8 L1196.86 1517.8 L1196.86 1513.96 L1201.08 1513.96 Q1204.53 1513.96 1206.35 1512.59 Q1208.18 1511.2 1208.18 1508.61 Q1208.18 1505.95 1206.28 1504.53 Q1204.41 1503.1 1200.89 1503.1 Q1198.97 1503.1 1196.77 1503.52 Q1194.57 1503.93 1191.93 1504.81 L1191.93 1500.64 Q1194.6 1499.9 1196.91 1499.53 Q1199.25 1499.16 1201.31 1499.16 Q1206.63 1499.16 1209.73 1501.59 Q1212.84 1504 1212.84 1508.12 Q1212.84 1510.99 1211.19 1512.98 Q1209.55 1514.95 1206.52 1515.71 Z\" fill=\"#000000\" fill-rule=\"nonzero\" fill-opacity=\"1\" /><path clip-path=\"url(#clip320)\" d=\"M1549.54 1503.86 L1537.73 1522.31 L1549.54 1522.31 L1549.54 1503.86 M1548.31 1499.79 L1554.19 1499.79 L1554.19 1522.31 L1559.12 1522.31 L1559.12 1526.2 L1554.19 1526.2 L1554.19 1534.35 L1549.54 1534.35 L1549.54 1526.2 L1533.94 1526.2 L1533.94 1521.69 L1548.31 1499.79 Z\" fill=\"#000000\" fill-rule=\"nonzero\" fill-opacity=\"1\" /><polyline clip-path=\"url(#clip322)\" style=\"stroke:#000000; stroke-linecap:round; stroke-linejoin:round; stroke-width:2; stroke-opacity:0.1; fill:none\" points=\"128.177,1116.45 1587.84,1116.45 \"/>\n",
       "<polyline clip-path=\"url(#clip322)\" style=\"stroke:#000000; stroke-linecap:round; stroke-linejoin:round; stroke-width:2; stroke-opacity:0.1; fill:none\" points=\"128.177,773.758 1587.84,773.758 \"/>\n",
       "<polyline clip-path=\"url(#clip322)\" style=\"stroke:#000000; stroke-linecap:round; stroke-linejoin:round; stroke-width:2; stroke-opacity:0.1; fill:none\" points=\"128.177,431.063 1587.84,431.063 \"/>\n",
       "<polyline clip-path=\"url(#clip322)\" style=\"stroke:#000000; stroke-linecap:round; stroke-linejoin:round; stroke-width:2; stroke-opacity:0.1; fill:none\" points=\"128.177,88.3675 1587.84,88.3675 \"/>\n",
       "<polyline clip-path=\"url(#clip320)\" style=\"stroke:#000000; stroke-linecap:round; stroke-linejoin:round; stroke-width:4; stroke-opacity:1; fill:none\" points=\"169.488,1500.27 169.488,47.2441 \"/>\n",
       "<polyline clip-path=\"url(#clip320)\" style=\"stroke:#000000; stroke-linecap:round; stroke-linejoin:round; stroke-width:4; stroke-opacity:1; fill:none\" points=\"150.591,1116.45 188.386,1116.45 \"/>\n",
       "<polyline clip-path=\"url(#clip320)\" style=\"stroke:#000000; stroke-linecap:round; stroke-linejoin:round; stroke-width:4; stroke-opacity:1; fill:none\" points=\"150.591,773.758 188.386,773.758 \"/>\n",
       "<polyline clip-path=\"url(#clip320)\" style=\"stroke:#000000; stroke-linecap:round; stroke-linejoin:round; stroke-width:4; stroke-opacity:1; fill:none\" points=\"150.591,431.063 188.386,431.063 \"/>\n",
       "<polyline clip-path=\"url(#clip320)\" style=\"stroke:#000000; stroke-linecap:round; stroke-linejoin:round; stroke-width:4; stroke-opacity:1; fill:none\" points=\"150.591,88.3675 188.386,88.3675 \"/>\n",
       "<path clip-path=\"url(#clip320)\" d=\"M89.5811 1129.8 L97.2199 1129.8 L97.2199 1103.43 L88.9098 1105.1 L88.9098 1100.84 L97.1736 1099.17 L101.85 1099.17 L101.85 1129.8 L109.488 1129.8 L109.488 1133.73 L89.5811 1133.73 L89.5811 1129.8 Z\" fill=\"#000000\" fill-rule=\"nonzero\" fill-opacity=\"1\" /><path clip-path=\"url(#clip320)\" d=\"M93.169 787.103 L109.488 787.103 L109.488 791.038 L87.5441 791.038 L87.5441 787.103 Q90.2061 784.348 94.7894 779.719 Q99.3959 775.066 100.576 773.723 Q102.822 771.2 103.701 769.464 Q104.604 767.705 104.604 766.015 Q104.604 763.26 102.66 761.524 Q100.738 759.788 97.6366 759.788 Q95.4375 759.788 92.9839 760.552 Q90.5533 761.316 87.7755 762.867 L87.7755 758.145 Q90.5996 757.01 93.0533 756.432 Q95.507 755.853 97.544 755.853 Q102.914 755.853 106.109 758.538 Q109.303 761.223 109.303 765.714 Q109.303 767.844 108.493 769.765 Q107.706 771.663 105.6 774.256 Q105.021 774.927 101.919 778.145 Q98.8172 781.339 93.169 787.103 Z\" fill=\"#000000\" fill-rule=\"nonzero\" fill-opacity=\"1\" /><path clip-path=\"url(#clip320)\" d=\"M102.359 429.709 Q105.715 430.426 107.59 432.695 Q109.488 434.963 109.488 438.297 Q109.488 443.412 105.97 446.213 Q102.451 449.014 95.9699 449.014 Q93.794 449.014 91.4792 448.574 Q89.1876 448.158 86.7339 447.301 L86.7339 442.787 Q88.6783 443.921 90.9931 444.5 Q93.3079 445.079 95.8311 445.079 Q100.229 445.079 102.521 443.343 Q104.836 441.607 104.836 438.297 Q104.836 435.241 102.683 433.528 Q100.553 431.792 96.7338 431.792 L92.7061 431.792 L92.7061 427.949 L96.919 427.949 Q100.368 427.949 102.197 426.584 Q104.025 425.195 104.025 422.602 Q104.025 419.94 102.127 418.528 Q100.252 417.093 96.7338 417.093 Q94.8125 417.093 92.6135 417.51 Q90.4144 417.926 87.7755 418.806 L87.7755 414.639 Q90.4376 413.898 92.7524 413.528 Q95.0903 413.158 97.1505 413.158 Q102.475 413.158 105.576 415.588 Q108.678 417.996 108.678 422.116 Q108.678 424.986 107.035 426.977 Q105.391 428.945 102.359 429.709 Z\" fill=\"#000000\" fill-rule=\"nonzero\" fill-opacity=\"1\" /><path clip-path=\"url(#clip320)\" d=\"M99.9051 75.1616 L88.0996 93.6105 L99.9051 93.6105 L99.9051 75.1616 M98.6783 71.0875 L104.558 71.0875 L104.558 93.6105 L109.488 93.6105 L109.488 97.4994 L104.558 97.4994 L104.558 105.648 L99.9051 105.648 L99.9051 97.4994 L84.3033 97.4994 L84.3033 92.9856 L98.6783 71.0875 Z\" fill=\"#000000\" fill-rule=\"nonzero\" fill-opacity=\"1\" /><path clip-path=\"url(#clip322)\" d=\"M1546.53 1116.45 L1202.27 88.3675 L513.749 431.063 L1546.53 88.3675 L513.749 1116.45 L1546.53 1116.45  Z\" fill=\"#009af9\" fill-rule=\"evenodd\" fill-opacity=\"1\"/>\n",
       "<polyline clip-path=\"url(#clip322)\" style=\"stroke:#000000; stroke-linecap:round; stroke-linejoin:round; stroke-width:4; stroke-opacity:1; fill:none\" points=\"1546.53,1116.45 1202.27,88.3675 513.749,431.063 1546.53,88.3675 513.749,1116.45 1546.53,1116.45 \"/>\n",
       "<path clip-path=\"url(#clip320)\" d=\"M1763.26 1500.27 L3952.76 1500.27 L3952.76 47.2441 L1763.26 47.2441  Z\" fill=\"#ffffff\" fill-rule=\"evenodd\" fill-opacity=\"1\"/>\n",
       "<defs>\n",
       "  <clipPath id=\"clip323\">\n",
       "    <rect x=\"1763\" y=\"47\" width=\"2190\" height=\"1454\"/>\n",
       "  </clipPath>\n",
       "</defs>\n",
       "<polyline clip-path=\"url(#clip323)\" style=\"stroke:#000000; stroke-linecap:round; stroke-linejoin:round; stroke-width:2; stroke-opacity:0.1; fill:none\" points=\"2001.27,1500.27 2001.27,47.2441 \"/>\n",
       "<polyline clip-path=\"url(#clip323)\" style=\"stroke:#000000; stroke-linecap:round; stroke-linejoin:round; stroke-width:2; stroke-opacity:0.1; fill:none\" points=\"2172.62,1500.27 2172.62,47.2441 \"/>\n",
       "<polyline clip-path=\"url(#clip323)\" style=\"stroke:#000000; stroke-linecap:round; stroke-linejoin:round; stroke-width:2; stroke-opacity:0.1; fill:none\" points=\"2343.97,1500.27 2343.97,47.2441 \"/>\n",
       "<polyline clip-path=\"url(#clip323)\" style=\"stroke:#000000; stroke-linecap:round; stroke-linejoin:round; stroke-width:2; stroke-opacity:0.1; fill:none\" points=\"2515.31,1500.27 2515.31,47.2441 \"/>\n",
       "<polyline clip-path=\"url(#clip323)\" style=\"stroke:#000000; stroke-linecap:round; stroke-linejoin:round; stroke-width:2; stroke-opacity:0.1; fill:none\" points=\"2686.66,1500.27 2686.66,47.2441 \"/>\n",
       "<polyline clip-path=\"url(#clip323)\" style=\"stroke:#000000; stroke-linecap:round; stroke-linejoin:round; stroke-width:2; stroke-opacity:0.1; fill:none\" points=\"2858.01,1500.27 2858.01,47.2441 \"/>\n",
       "<polyline clip-path=\"url(#clip323)\" style=\"stroke:#000000; stroke-linecap:round; stroke-linejoin:round; stroke-width:2; stroke-opacity:0.1; fill:none\" points=\"3029.36,1500.27 3029.36,47.2441 \"/>\n",
       "<polyline clip-path=\"url(#clip323)\" style=\"stroke:#000000; stroke-linecap:round; stroke-linejoin:round; stroke-width:2; stroke-opacity:0.1; fill:none\" points=\"3200.7,1500.27 3200.7,47.2441 \"/>\n",
       "<polyline clip-path=\"url(#clip323)\" style=\"stroke:#000000; stroke-linecap:round; stroke-linejoin:round; stroke-width:2; stroke-opacity:0.1; fill:none\" points=\"3372.05,1500.27 3372.05,47.2441 \"/>\n",
       "<polyline clip-path=\"url(#clip323)\" style=\"stroke:#000000; stroke-linecap:round; stroke-linejoin:round; stroke-width:2; stroke-opacity:0.1; fill:none\" points=\"3543.4,1500.27 3543.4,47.2441 \"/>\n",
       "<polyline clip-path=\"url(#clip323)\" style=\"stroke:#000000; stroke-linecap:round; stroke-linejoin:round; stroke-width:2; stroke-opacity:0.1; fill:none\" points=\"3714.75,1500.27 3714.75,47.2441 \"/>\n",
       "<polyline clip-path=\"url(#clip323)\" style=\"stroke:#000000; stroke-linecap:round; stroke-linejoin:round; stroke-width:2; stroke-opacity:0.1; fill:none\" points=\"3886.09,1500.27 3886.09,47.2441 \"/>\n",
       "<polyline clip-path=\"url(#clip320)\" style=\"stroke:#000000; stroke-linecap:round; stroke-linejoin:round; stroke-width:4; stroke-opacity:1; fill:none\" points=\"1763.26,1459.15 3952.76,1459.15 \"/>\n",
       "<polyline clip-path=\"url(#clip320)\" style=\"stroke:#000000; stroke-linecap:round; stroke-linejoin:round; stroke-width:4; stroke-opacity:1; fill:none\" points=\"2001.27,1478.05 2001.27,1440.25 \"/>\n",
       "<polyline clip-path=\"url(#clip320)\" style=\"stroke:#000000; stroke-linecap:round; stroke-linejoin:round; stroke-width:4; stroke-opacity:1; fill:none\" points=\"2172.62,1478.05 2172.62,1440.25 \"/>\n",
       "<polyline clip-path=\"url(#clip320)\" style=\"stroke:#000000; stroke-linecap:round; stroke-linejoin:round; stroke-width:4; stroke-opacity:1; fill:none\" points=\"2343.97,1478.05 2343.97,1440.25 \"/>\n",
       "<polyline clip-path=\"url(#clip320)\" style=\"stroke:#000000; stroke-linecap:round; stroke-linejoin:round; stroke-width:4; stroke-opacity:1; fill:none\" points=\"2515.31,1478.05 2515.31,1440.25 \"/>\n",
       "<polyline clip-path=\"url(#clip320)\" style=\"stroke:#000000; stroke-linecap:round; stroke-linejoin:round; stroke-width:4; stroke-opacity:1; fill:none\" points=\"2686.66,1478.05 2686.66,1440.25 \"/>\n",
       "<polyline clip-path=\"url(#clip320)\" style=\"stroke:#000000; stroke-linecap:round; stroke-linejoin:round; stroke-width:4; stroke-opacity:1; fill:none\" points=\"2858.01,1478.05 2858.01,1440.25 \"/>\n",
       "<polyline clip-path=\"url(#clip320)\" style=\"stroke:#000000; stroke-linecap:round; stroke-linejoin:round; stroke-width:4; stroke-opacity:1; fill:none\" points=\"3029.36,1478.05 3029.36,1440.25 \"/>\n",
       "<polyline clip-path=\"url(#clip320)\" style=\"stroke:#000000; stroke-linecap:round; stroke-linejoin:round; stroke-width:4; stroke-opacity:1; fill:none\" points=\"3200.7,1478.05 3200.7,1440.25 \"/>\n",
       "<polyline clip-path=\"url(#clip320)\" style=\"stroke:#000000; stroke-linecap:round; stroke-linejoin:round; stroke-width:4; stroke-opacity:1; fill:none\" points=\"3372.05,1478.05 3372.05,1440.25 \"/>\n",
       "<polyline clip-path=\"url(#clip320)\" style=\"stroke:#000000; stroke-linecap:round; stroke-linejoin:round; stroke-width:4; stroke-opacity:1; fill:none\" points=\"3543.4,1478.05 3543.4,1440.25 \"/>\n",
       "<polyline clip-path=\"url(#clip320)\" style=\"stroke:#000000; stroke-linecap:round; stroke-linejoin:round; stroke-width:4; stroke-opacity:1; fill:none\" points=\"3714.75,1478.05 3714.75,1440.25 \"/>\n",
       "<polyline clip-path=\"url(#clip320)\" style=\"stroke:#000000; stroke-linecap:round; stroke-linejoin:round; stroke-width:4; stroke-opacity:1; fill:none\" points=\"3886.09,1478.05 3886.09,1440.25 \"/>\n",
       "<path clip-path=\"url(#clip320)\" d=\"M1991.65 1530.41 L1999.29 1530.41 L1999.29 1504.05 L1990.98 1505.71 L1990.98 1501.46 L1999.25 1499.79 L2003.92 1499.79 L2003.92 1530.41 L2011.56 1530.41 L2011.56 1534.35 L1991.65 1534.35 L1991.65 1530.41 Z\" fill=\"#000000\" fill-rule=\"nonzero\" fill-opacity=\"1\" /><path clip-path=\"url(#clip320)\" d=\"M2167.27 1530.41 L2183.59 1530.41 L2183.59 1534.35 L2161.65 1534.35 L2161.65 1530.41 Q2164.31 1527.66 2168.89 1523.03 Q2173.5 1518.38 2174.68 1517.03 Q2176.92 1514.51 2177.8 1512.77 Q2178.71 1511.02 2178.71 1509.33 Q2178.71 1506.57 2176.76 1504.83 Q2174.84 1503.1 2171.74 1503.1 Q2169.54 1503.1 2167.09 1503.86 Q2164.66 1504.63 2161.88 1506.18 L2161.88 1501.46 Q2164.7 1500.32 2167.16 1499.74 Q2169.61 1499.16 2171.65 1499.16 Q2177.02 1499.16 2180.21 1501.85 Q2183.41 1504.53 2183.41 1509.02 Q2183.41 1511.15 2182.6 1513.08 Q2181.81 1514.97 2179.7 1517.57 Q2179.12 1518.24 2176.02 1521.45 Q2172.92 1524.65 2167.27 1530.41 Z\" fill=\"#000000\" fill-rule=\"nonzero\" fill-opacity=\"1\" /><path clip-path=\"url(#clip320)\" d=\"M2348.21 1515.71 Q2351.57 1516.43 2353.44 1518.7 Q2355.34 1520.97 2355.34 1524.3 Q2355.34 1529.42 2351.82 1532.22 Q2348.31 1535.02 2341.82 1535.02 Q2339.65 1535.02 2337.33 1534.58 Q2335.04 1534.16 2332.59 1533.31 L2332.59 1528.79 Q2334.53 1529.93 2336.85 1530.51 Q2339.16 1531.08 2341.69 1531.08 Q2346.08 1531.08 2348.38 1529.35 Q2350.69 1527.61 2350.69 1524.3 Q2350.69 1521.25 2348.54 1519.53 Q2346.41 1517.8 2342.59 1517.8 L2338.56 1517.8 L2338.56 1513.96 L2342.77 1513.96 Q2346.22 1513.96 2348.05 1512.59 Q2349.88 1511.2 2349.88 1508.61 Q2349.88 1505.95 2347.98 1504.53 Q2346.11 1503.1 2342.59 1503.1 Q2340.67 1503.1 2338.47 1503.52 Q2336.27 1503.93 2333.63 1504.81 L2333.63 1500.64 Q2336.29 1499.9 2338.61 1499.53 Q2340.95 1499.16 2343.01 1499.16 Q2348.33 1499.16 2351.43 1501.59 Q2354.53 1504 2354.53 1508.12 Q2354.53 1510.99 2352.89 1512.98 Q2351.25 1514.95 2348.21 1515.71 Z\" fill=\"#000000\" fill-rule=\"nonzero\" fill-opacity=\"1\" /><path clip-path=\"url(#clip320)\" d=\"M2518.32 1503.86 L2506.52 1522.31 L2518.32 1522.31 L2518.32 1503.86 M2517.1 1499.79 L2522.98 1499.79 L2522.98 1522.31 L2527.91 1522.31 L2527.91 1526.2 L2522.98 1526.2 L2522.98 1534.35 L2518.32 1534.35 L2518.32 1526.2 L2502.72 1526.2 L2502.72 1521.69 L2517.1 1499.79 Z\" fill=\"#000000\" fill-rule=\"nonzero\" fill-opacity=\"1\" /><path clip-path=\"url(#clip320)\" d=\"M2676.94 1499.79 L2695.3 1499.79 L2695.3 1503.72 L2681.22 1503.72 L2681.22 1512.2 Q2682.24 1511.85 2683.26 1511.69 Q2684.28 1511.5 2685.3 1511.5 Q2691.08 1511.5 2694.46 1514.67 Q2697.84 1517.84 2697.84 1523.26 Q2697.84 1528.84 2694.37 1531.94 Q2690.9 1535.02 2684.58 1535.02 Q2682.4 1535.02 2680.13 1534.65 Q2677.89 1534.28 2675.48 1533.54 L2675.48 1528.84 Q2677.56 1529.97 2679.79 1530.53 Q2682.01 1531.08 2684.49 1531.08 Q2688.49 1531.08 2690.83 1528.98 Q2693.17 1526.87 2693.17 1523.26 Q2693.17 1519.65 2690.83 1517.54 Q2688.49 1515.44 2684.49 1515.44 Q2682.61 1515.44 2680.74 1515.85 Q2678.88 1516.27 2676.94 1517.15 L2676.94 1499.79 Z\" fill=\"#000000\" fill-rule=\"nonzero\" fill-opacity=\"1\" /><path clip-path=\"url(#clip320)\" d=\"M2858.41 1515.21 Q2855.27 1515.21 2853.41 1517.36 Q2851.59 1519.51 2851.59 1523.26 Q2851.59 1526.99 2853.41 1529.16 Q2855.27 1531.32 2858.41 1531.32 Q2861.56 1531.32 2863.39 1529.16 Q2865.24 1526.99 2865.24 1523.26 Q2865.24 1519.51 2863.39 1517.36 Q2861.56 1515.21 2858.41 1515.21 M2867.7 1500.55 L2867.7 1504.81 Q2865.94 1503.98 2864.13 1503.54 Q2862.35 1503.1 2860.59 1503.1 Q2855.96 1503.1 2853.51 1506.22 Q2851.08 1509.35 2850.73 1515.67 Q2852.09 1513.65 2854.15 1512.59 Q2856.21 1511.5 2858.69 1511.5 Q2863.9 1511.5 2866.91 1514.67 Q2869.94 1517.82 2869.94 1523.26 Q2869.94 1528.58 2866.79 1531.8 Q2863.65 1535.02 2858.41 1535.02 Q2852.42 1535.02 2849.25 1530.44 Q2846.08 1525.83 2846.08 1517.1 Q2846.08 1508.91 2849.96 1504.05 Q2853.85 1499.16 2860.4 1499.16 Q2862.16 1499.16 2863.95 1499.51 Q2865.75 1499.86 2867.7 1500.55 Z\" fill=\"#000000\" fill-rule=\"nonzero\" fill-opacity=\"1\" /><path clip-path=\"url(#clip320)\" d=\"M3018.25 1499.79 L3040.47 1499.79 L3040.47 1501.78 L3027.92 1534.35 L3023.04 1534.35 L3034.84 1503.72 L3018.25 1503.72 L3018.25 1499.79 Z\" fill=\"#000000\" fill-rule=\"nonzero\" fill-opacity=\"1\" /><path clip-path=\"url(#clip320)\" d=\"M3200.7 1517.94 Q3197.37 1517.94 3195.45 1519.72 Q3193.55 1521.5 3193.55 1524.63 Q3193.55 1527.75 3195.45 1529.53 Q3197.37 1531.32 3200.7 1531.32 Q3204.04 1531.32 3205.96 1529.53 Q3207.88 1527.73 3207.88 1524.63 Q3207.88 1521.5 3205.96 1519.72 Q3204.06 1517.94 3200.7 1517.94 M3196.03 1515.95 Q3193.02 1515.21 3191.33 1513.14 Q3189.66 1511.08 3189.66 1508.12 Q3189.66 1503.98 3192.6 1501.57 Q3195.57 1499.16 3200.7 1499.16 Q3205.87 1499.16 3208.81 1501.57 Q3211.75 1503.98 3211.75 1508.12 Q3211.75 1511.08 3210.06 1513.14 Q3208.39 1515.21 3205.4 1515.95 Q3208.78 1516.73 3210.66 1519.02 Q3212.56 1521.32 3212.56 1524.63 Q3212.56 1529.65 3209.48 1532.33 Q3206.42 1535.02 3200.7 1535.02 Q3194.99 1535.02 3191.91 1532.33 Q3188.85 1529.65 3188.85 1524.63 Q3188.85 1521.32 3190.75 1519.02 Q3192.65 1516.73 3196.03 1515.95 M3194.32 1508.56 Q3194.32 1511.25 3195.98 1512.75 Q3197.67 1514.26 3200.7 1514.26 Q3203.71 1514.26 3205.4 1512.75 Q3207.12 1511.25 3207.12 1508.56 Q3207.12 1505.88 3205.4 1504.37 Q3203.71 1502.87 3200.7 1502.87 Q3197.67 1502.87 3195.98 1504.37 Q3194.32 1505.88 3194.32 1508.56 Z\" fill=\"#000000\" fill-rule=\"nonzero\" fill-opacity=\"1\" /><path clip-path=\"url(#clip320)\" d=\"M3362.35 1533.63 L3362.35 1529.37 Q3364.11 1530.2 3365.92 1530.64 Q3367.72 1531.08 3369.46 1531.08 Q3374.09 1531.08 3376.52 1527.98 Q3378.97 1524.86 3379.32 1518.52 Q3377.98 1520.51 3375.92 1521.57 Q3373.86 1522.64 3371.36 1522.64 Q3366.17 1522.64 3363.14 1519.51 Q3360.13 1516.36 3360.13 1510.92 Q3360.13 1505.6 3363.28 1502.38 Q3366.43 1499.16 3371.66 1499.16 Q3377.65 1499.16 3380.8 1503.77 Q3383.97 1508.35 3383.97 1517.1 Q3383.97 1525.27 3380.08 1530.16 Q3376.22 1535.02 3369.67 1535.02 Q3367.91 1535.02 3366.1 1534.67 Q3364.3 1534.33 3362.35 1533.63 M3371.66 1518.98 Q3374.81 1518.98 3376.63 1516.83 Q3378.49 1514.67 3378.49 1510.92 Q3378.49 1507.2 3376.63 1505.04 Q3374.81 1502.87 3371.66 1502.87 Q3368.51 1502.87 3366.66 1505.04 Q3364.83 1507.2 3364.83 1510.92 Q3364.83 1514.67 3366.66 1516.83 Q3368.51 1518.98 3371.66 1518.98 Z\" fill=\"#000000\" fill-rule=\"nonzero\" fill-opacity=\"1\" /><path clip-path=\"url(#clip320)\" d=\"M3518.09 1530.41 L3525.73 1530.41 L3525.73 1504.05 L3517.42 1505.71 L3517.42 1501.46 L3525.68 1499.79 L3530.36 1499.79 L3530.36 1530.41 L3537.99 1530.41 L3537.99 1534.35 L3518.09 1534.35 L3518.09 1530.41 Z\" fill=\"#000000\" fill-rule=\"nonzero\" fill-opacity=\"1\" /><path clip-path=\"url(#clip320)\" d=\"M3557.44 1502.87 Q3553.83 1502.87 3552 1506.43 Q3550.19 1509.97 3550.19 1517.1 Q3550.19 1524.21 3552 1527.77 Q3553.83 1531.32 3557.44 1531.32 Q3561.07 1531.32 3562.88 1527.77 Q3564.71 1524.21 3564.71 1517.1 Q3564.71 1509.97 3562.88 1506.43 Q3561.07 1502.87 3557.44 1502.87 M3557.44 1499.16 Q3563.25 1499.16 3566.3 1503.77 Q3569.38 1508.35 3569.38 1517.1 Q3569.38 1525.83 3566.3 1530.44 Q3563.25 1535.02 3557.44 1535.02 Q3551.63 1535.02 3548.55 1530.44 Q3545.49 1525.83 3545.49 1517.1 Q3545.49 1508.35 3548.55 1503.77 Q3551.63 1499.16 3557.44 1499.16 Z\" fill=\"#000000\" fill-rule=\"nonzero\" fill-opacity=\"1\" /><path clip-path=\"url(#clip320)\" d=\"M3690.05 1530.41 L3697.69 1530.41 L3697.69 1504.05 L3689.38 1505.71 L3689.38 1501.46 L3697.64 1499.79 L3702.32 1499.79 L3702.32 1530.41 L3709.96 1530.41 L3709.96 1534.35 L3690.05 1534.35 L3690.05 1530.41 Z\" fill=\"#000000\" fill-rule=\"nonzero\" fill-opacity=\"1\" /><path clip-path=\"url(#clip320)\" d=\"M3720.21 1530.41 L3727.85 1530.41 L3727.85 1504.05 L3719.54 1505.71 L3719.54 1501.46 L3727.8 1499.79 L3732.48 1499.79 L3732.48 1530.41 L3740.12 1530.41 L3740.12 1534.35 L3720.21 1534.35 L3720.21 1530.41 Z\" fill=\"#000000\" fill-rule=\"nonzero\" fill-opacity=\"1\" /><path clip-path=\"url(#clip320)\" d=\"M3861.58 1530.41 L3869.22 1530.41 L3869.22 1504.05 L3860.91 1505.71 L3860.91 1501.46 L3869.17 1499.79 L3873.85 1499.79 L3873.85 1530.41 L3881.49 1530.41 L3881.49 1534.35 L3861.58 1534.35 L3861.58 1530.41 Z\" fill=\"#000000\" fill-rule=\"nonzero\" fill-opacity=\"1\" /><path clip-path=\"url(#clip320)\" d=\"M3894.96 1530.41 L3911.28 1530.41 L3911.28 1534.35 L3889.34 1534.35 L3889.34 1530.41 Q3892 1527.66 3896.58 1523.03 Q3901.19 1518.38 3902.37 1517.03 Q3904.61 1514.51 3905.49 1512.77 Q3906.4 1511.02 3906.4 1509.33 Q3906.4 1506.57 3904.45 1504.83 Q3902.53 1503.1 3899.43 1503.1 Q3897.23 1503.1 3894.77 1503.86 Q3892.34 1504.63 3889.57 1506.18 L3889.57 1501.46 Q3892.39 1500.32 3894.84 1499.74 Q3897.3 1499.16 3899.34 1499.16 Q3904.71 1499.16 3907.9 1501.85 Q3911.09 1504.53 3911.09 1509.02 Q3911.09 1511.15 3910.28 1513.08 Q3909.5 1514.97 3907.39 1517.57 Q3906.81 1518.24 3903.71 1521.45 Q3900.61 1524.65 3894.96 1530.41 Z\" fill=\"#000000\" fill-rule=\"nonzero\" fill-opacity=\"1\" /><polyline clip-path=\"url(#clip323)\" style=\"stroke:#000000; stroke-linecap:round; stroke-linejoin:round; stroke-width:2; stroke-opacity:0.1; fill:none\" points=\"1763.26,1287.8 3952.76,1287.8 \"/>\n",
       "<polyline clip-path=\"url(#clip323)\" style=\"stroke:#000000; stroke-linecap:round; stroke-linejoin:round; stroke-width:2; stroke-opacity:0.1; fill:none\" points=\"1763.26,1116.45 3952.76,1116.45 \"/>\n",
       "<polyline clip-path=\"url(#clip323)\" style=\"stroke:#000000; stroke-linecap:round; stroke-linejoin:round; stroke-width:2; stroke-opacity:0.1; fill:none\" points=\"1763.26,945.106 3952.76,945.106 \"/>\n",
       "<polyline clip-path=\"url(#clip323)\" style=\"stroke:#000000; stroke-linecap:round; stroke-linejoin:round; stroke-width:2; stroke-opacity:0.1; fill:none\" points=\"1763.26,773.758 3952.76,773.758 \"/>\n",
       "<polyline clip-path=\"url(#clip323)\" style=\"stroke:#000000; stroke-linecap:round; stroke-linejoin:round; stroke-width:2; stroke-opacity:0.1; fill:none\" points=\"1763.26,602.41 3952.76,602.41 \"/>\n",
       "<polyline clip-path=\"url(#clip323)\" style=\"stroke:#000000; stroke-linecap:round; stroke-linejoin:round; stroke-width:2; stroke-opacity:0.1; fill:none\" points=\"1763.26,431.063 3952.76,431.063 \"/>\n",
       "<polyline clip-path=\"url(#clip323)\" style=\"stroke:#000000; stroke-linecap:round; stroke-linejoin:round; stroke-width:2; stroke-opacity:0.1; fill:none\" points=\"1763.26,259.715 3952.76,259.715 \"/>\n",
       "<polyline clip-path=\"url(#clip323)\" style=\"stroke:#000000; stroke-linecap:round; stroke-linejoin:round; stroke-width:2; stroke-opacity:0.1; fill:none\" points=\"1763.26,88.3675 3952.76,88.3675 \"/>\n",
       "<polyline clip-path=\"url(#clip320)\" style=\"stroke:#000000; stroke-linecap:round; stroke-linejoin:round; stroke-width:4; stroke-opacity:1; fill:none\" points=\"1829.92,1500.27 1829.92,47.2441 \"/>\n",
       "<polyline clip-path=\"url(#clip320)\" style=\"stroke:#000000; stroke-linecap:round; stroke-linejoin:round; stroke-width:4; stroke-opacity:1; fill:none\" points=\"1811.03,1287.8 1848.82,1287.8 \"/>\n",
       "<polyline clip-path=\"url(#clip320)\" style=\"stroke:#000000; stroke-linecap:round; stroke-linejoin:round; stroke-width:4; stroke-opacity:1; fill:none\" points=\"1811.03,1116.45 1848.82,1116.45 \"/>\n",
       "<polyline clip-path=\"url(#clip320)\" style=\"stroke:#000000; stroke-linecap:round; stroke-linejoin:round; stroke-width:4; stroke-opacity:1; fill:none\" points=\"1811.03,945.106 1848.82,945.106 \"/>\n",
       "<polyline clip-path=\"url(#clip320)\" style=\"stroke:#000000; stroke-linecap:round; stroke-linejoin:round; stroke-width:4; stroke-opacity:1; fill:none\" points=\"1811.03,773.758 1848.82,773.758 \"/>\n",
       "<polyline clip-path=\"url(#clip320)\" style=\"stroke:#000000; stroke-linecap:round; stroke-linejoin:round; stroke-width:4; stroke-opacity:1; fill:none\" points=\"1811.03,602.41 1848.82,602.41 \"/>\n",
       "<polyline clip-path=\"url(#clip320)\" style=\"stroke:#000000; stroke-linecap:round; stroke-linejoin:round; stroke-width:4; stroke-opacity:1; fill:none\" points=\"1811.03,431.063 1848.82,431.063 \"/>\n",
       "<polyline clip-path=\"url(#clip320)\" style=\"stroke:#000000; stroke-linecap:round; stroke-linejoin:round; stroke-width:4; stroke-opacity:1; fill:none\" points=\"1811.03,259.715 1848.82,259.715 \"/>\n",
       "<polyline clip-path=\"url(#clip320)\" style=\"stroke:#000000; stroke-linecap:round; stroke-linejoin:round; stroke-width:4; stroke-opacity:1; fill:none\" points=\"1811.03,88.3675 1848.82,88.3675 \"/>\n",
       "<path clip-path=\"url(#clip320)\" d=\"M1750.02 1301.15 L1757.65 1301.15 L1757.65 1274.78 L1749.34 1276.45 L1749.34 1272.19 L1757.61 1270.52 L1762.28 1270.52 L1762.28 1301.15 L1769.92 1301.15 L1769.92 1305.08 L1750.02 1305.08 L1750.02 1301.15 Z\" fill=\"#000000\" fill-rule=\"nonzero\" fill-opacity=\"1\" /><path clip-path=\"url(#clip320)\" d=\"M1753.6 1129.8 L1769.92 1129.8 L1769.92 1133.73 L1747.98 1133.73 L1747.98 1129.8 Q1750.64 1127.04 1755.22 1122.41 Q1759.83 1117.76 1761.01 1116.42 Q1763.26 1113.9 1764.14 1112.16 Q1765.04 1110.4 1765.04 1108.71 Q1765.04 1105.96 1763.09 1104.22 Q1761.17 1102.48 1758.07 1102.48 Q1755.87 1102.48 1753.42 1103.25 Q1750.99 1104.01 1748.21 1105.56 L1748.21 1100.84 Q1751.03 1099.71 1753.49 1099.13 Q1755.94 1098.55 1757.98 1098.55 Q1763.35 1098.55 1766.54 1101.23 Q1769.74 1103.92 1769.74 1108.41 Q1769.74 1110.54 1768.93 1112.46 Q1768.14 1114.36 1766.03 1116.95 Q1765.46 1117.62 1762.35 1120.84 Q1759.25 1124.03 1753.6 1129.8 Z\" fill=\"#000000\" fill-rule=\"nonzero\" fill-opacity=\"1\" /><path clip-path=\"url(#clip320)\" d=\"M1762.79 943.751 Q1766.15 944.469 1768.02 946.738 Q1769.92 949.006 1769.92 952.339 Q1769.92 957.455 1766.4 960.256 Q1762.89 963.057 1756.4 963.057 Q1754.23 963.057 1751.91 962.617 Q1749.62 962.2 1747.17 961.344 L1747.17 956.83 Q1749.11 957.964 1751.43 958.543 Q1753.74 959.122 1756.27 959.122 Q1760.66 959.122 1762.96 957.386 Q1765.27 955.65 1765.27 952.339 Q1765.27 949.284 1763.12 947.571 Q1760.99 945.835 1757.17 945.835 L1753.14 945.835 L1753.14 941.992 L1757.35 941.992 Q1760.8 941.992 1762.63 940.626 Q1764.46 939.238 1764.46 936.645 Q1764.46 933.983 1762.56 932.571 Q1760.69 931.136 1757.17 931.136 Q1755.25 931.136 1753.05 931.552 Q1750.85 931.969 1748.21 932.849 L1748.21 928.682 Q1750.87 927.941 1753.19 927.571 Q1755.52 927.201 1757.59 927.201 Q1762.91 927.201 1766.01 929.631 Q1769.11 932.039 1769.11 936.159 Q1769.11 939.029 1767.47 941.02 Q1765.83 942.988 1762.79 943.751 Z\" fill=\"#000000\" fill-rule=\"nonzero\" fill-opacity=\"1\" /><path clip-path=\"url(#clip320)\" d=\"M1760.34 760.552 L1748.53 779.001 L1760.34 779.001 L1760.34 760.552 M1759.11 756.478 L1764.99 756.478 L1764.99 779.001 L1769.92 779.001 L1769.92 782.89 L1764.99 782.89 L1764.99 791.038 L1760.34 791.038 L1760.34 782.89 L1744.74 782.89 L1744.74 778.376 L1759.11 756.478 Z\" fill=\"#000000\" fill-rule=\"nonzero\" fill-opacity=\"1\" /><path clip-path=\"url(#clip320)\" d=\"M1749.02 585.13 L1767.38 585.13 L1767.38 589.066 L1753.3 589.066 L1753.3 597.538 Q1754.32 597.19 1755.34 597.028 Q1756.36 596.843 1757.38 596.843 Q1763.16 596.843 1766.54 600.015 Q1769.92 603.186 1769.92 608.602 Q1769.92 614.181 1766.45 617.283 Q1762.98 620.362 1756.66 620.362 Q1754.48 620.362 1752.21 619.991 Q1749.97 619.621 1747.56 618.88 L1747.56 614.181 Q1749.65 615.315 1751.87 615.871 Q1754.09 616.426 1756.57 616.426 Q1760.57 616.426 1762.91 614.32 Q1765.25 612.214 1765.25 608.602 Q1765.25 604.991 1762.91 602.885 Q1760.57 600.778 1756.57 600.778 Q1754.69 600.778 1752.82 601.195 Q1750.96 601.612 1749.02 602.491 L1749.02 585.13 Z\" fill=\"#000000\" fill-rule=\"nonzero\" fill-opacity=\"1\" /><path clip-path=\"url(#clip320)\" d=\"M1758.4 429.199 Q1755.25 429.199 1753.4 431.352 Q1751.57 433.505 1751.57 437.255 Q1751.57 440.982 1753.4 443.158 Q1755.25 445.31 1758.4 445.31 Q1761.54 445.31 1763.37 443.158 Q1765.22 440.982 1765.22 437.255 Q1765.22 433.505 1763.37 431.352 Q1761.54 429.199 1758.4 429.199 M1767.68 414.547 L1767.68 418.806 Q1765.92 417.973 1764.11 417.533 Q1762.33 417.093 1760.57 417.093 Q1755.94 417.093 1753.49 420.218 Q1751.06 423.343 1750.71 429.662 Q1752.08 427.648 1754.14 426.584 Q1756.2 425.496 1758.67 425.496 Q1763.88 425.496 1766.89 428.667 Q1769.92 431.815 1769.92 437.255 Q1769.92 442.579 1766.77 445.796 Q1763.63 449.014 1758.4 449.014 Q1752.4 449.014 1749.23 444.431 Q1746.06 439.824 1746.06 431.097 Q1746.06 422.903 1749.95 418.042 Q1753.84 413.158 1760.39 413.158 Q1762.15 413.158 1763.93 413.505 Q1765.73 413.852 1767.68 414.547 Z\" fill=\"#000000\" fill-rule=\"nonzero\" fill-opacity=\"1\" /><path clip-path=\"url(#clip320)\" d=\"M1747.7 242.435 L1769.92 242.435 L1769.92 244.426 L1757.38 276.995 L1752.49 276.995 L1764.3 246.37 L1747.7 246.37 L1747.7 242.435 Z\" fill=\"#000000\" fill-rule=\"nonzero\" fill-opacity=\"1\" /><path clip-path=\"url(#clip320)\" d=\"M1758.07 89.2356 Q1754.74 89.2356 1752.82 91.018 Q1750.92 92.8004 1750.92 95.9254 Q1750.92 99.0503 1752.82 100.833 Q1754.74 102.615 1758.07 102.615 Q1761.4 102.615 1763.33 100.833 Q1765.25 99.0272 1765.25 95.9254 Q1765.25 92.8004 1763.33 91.018 Q1761.43 89.2356 1758.07 89.2356 M1753.4 87.2448 Q1750.39 86.5041 1748.7 84.4439 Q1747.03 82.3838 1747.03 79.4208 Q1747.03 75.2773 1749.97 72.8699 Q1752.93 70.4625 1758.07 70.4625 Q1763.23 70.4625 1766.17 72.8699 Q1769.11 75.2773 1769.11 79.4208 Q1769.11 82.3838 1767.42 84.4439 Q1765.76 86.5041 1762.77 87.2448 Q1766.15 88.0319 1768.02 90.3235 Q1769.92 92.6152 1769.92 95.9254 Q1769.92 100.948 1766.84 103.634 Q1763.79 106.319 1758.07 106.319 Q1752.35 106.319 1749.27 103.634 Q1746.22 100.948 1746.22 95.9254 Q1746.22 92.6152 1748.12 90.3235 Q1750.02 88.0319 1753.4 87.2448 M1751.68 79.8606 Q1751.68 82.5458 1753.35 84.0504 Q1755.04 85.555 1758.07 85.555 Q1761.08 85.555 1762.77 84.0504 Q1764.48 82.5458 1764.48 79.8606 Q1764.48 77.1755 1762.77 75.6708 Q1761.08 74.1662 1758.07 74.1662 Q1755.04 74.1662 1753.35 75.6708 Q1751.68 77.1755 1751.68 79.8606 Z\" fill=\"#000000\" fill-rule=\"nonzero\" fill-opacity=\"1\" /><path clip-path=\"url(#clip323)\" d=\"M3372.05 602.41 L3543.4 259.715 L2686.66 773.758 L3886.09 88.3675 L2343.97 1116.45 L3372.05 602.41  Z\" fill=\"#009af9\" fill-rule=\"evenodd\" fill-opacity=\"1\"/>\n",
       "<polyline clip-path=\"url(#clip323)\" style=\"stroke:#000000; stroke-linecap:round; stroke-linejoin:round; stroke-width:4; stroke-opacity:1; fill:none\" points=\"3372.05,602.41 3543.4,259.715 2686.66,773.758 3886.09,88.3675 2343.97,1116.45 3372.05,602.41 \"/>\n",
       "</svg>\n"
      ]
     },
     "execution_count": 17,
     "metadata": {},
     "output_type": "execute_result"
    }
   ],
   "source": [
    "myseed(seed0+2)\n",
    "pts = hcat(rand(1:4, (2,5)))\n",
    "T = randnonsing(0:2, 2)\n",
    "pts1 = T * pts\n",
    "pic = Plots.plot(Shape(pts[1, :], pts[2, :]),\n",
    "    apsect_ratio = 1,\n",
    "    legend = nothing,\n",
    "    framestyle = :origin,\n",
    "    size = (400, 400)\n",
    ")\n",
    "savefig(pic, \"images/art.png\")\n",
    "xup = maximum(pts1[1, :])\n",
    "yup = maximum(pts1[2, :])\n",
    "pic1 = Plots.plot(Shape(pts1[1, :], pts1[2, :]),\n",
    "    aspect_ratio = 1,\n",
    "    legend = nothing,\n",
    "    framestyle = :origin,\n",
    "    xticks = 0:1:xup,\n",
    "    yticks = 0:1:yup,\n",
    ")\n",
    "\n",
    "plot(pic, pic1, layout=grid(1, 2, widths=[0.4, 0.6]), size=(1000, 400))"
   ]
  },
  {
   "cell_type": "markdown",
   "id": "9f544296-e728-4ac0-a93f-02cc170db666",
   "metadata": {},
   "source": [
    "Answer:"
   ]
  },
  {
   "cell_type": "code",
   "execution_count": 18,
   "id": "1fd46c20-f453-475c-9482-de12c5c1cba4",
   "metadata": {},
   "outputs": [
    {
     "data": {
      "text/latex": [
       "$$\\begin{bmatrix}\\underline{\\hspace{1cm}}& \\underline{\\hspace{1cm}}\\\\\n",
       "\\underline{\\hspace{1cm}}& \\underline{\\hspace{1cm}}\\end{bmatrix}$$"
      ],
      "text/plain": [
       "L\"$$\\begin{bmatrix}\\underline{\\hspace{1cm}}& \\underline{\\hspace{1cm}}\\\\\n",
       "\\underline{\\hspace{1cm}}& \\underline{\\hspace{1cm}}\\end{bmatrix}$$\""
      ]
     },
     "execution_count": 18,
     "metadata": {},
     "output_type": "execute_result"
    }
   ],
   "source": [
    "L\"$$%$(emptymat(2))$$\""
   ]
  },
  {
   "cell_type": "code",
   "execution_count": 20,
   "id": "dc0d71d5-9c25-4c6f-8367-b491f86735e8",
   "metadata": {},
   "outputs": [],
   "source": [
    "@syms a, b, c, d\n",
    "T1 = [a b; c d]\n",
    "solve(vcat([Eq.(T1*pts[:, i], pts1[:, i]) for i in 1:2]...));"
   ]
  },
  {
   "cell_type": "markdown",
   "id": "7af824cf",
   "metadata": {},
   "source": [
    "# Invertible matrices"
   ]
  },
  {
   "cell_type": "markdown",
   "id": "c2a4f9f2",
   "metadata": {},
   "source": [
    "Find the inverse of"
   ]
  },
  {
   "cell_type": "code",
   "execution_count": 21,
   "id": "bbc52d36",
   "metadata": {},
   "outputs": [
    {
     "data": {
      "text/latex": [
       "\\begin{equation*}\n",
       "\\left[\n",
       "\\begin{array}{ccccc}\n",
       "1 & 0 & 0 & 0 & 0 \\\\\n",
       "1 & 2 & 0 & 0 & 0 \\\\\n",
       "1 & 2 & 3 & 0 & 0 \\\\\n",
       "1 & 2 & 3 & 4 & 0 \\\\\n",
       "1 & 2 & 3 & 4 & 5 \\\\\n",
       "\\end{array}\n",
       "\\right]\n",
       "\\end{equation*}\n"
      ],
      "text/plain": [
       "L\"\\begin{equation*}\n",
       "\\left[\n",
       "\\begin{array}{ccccc}\n",
       "1 & 0 & 0 & 0 & 0 \\\\\n",
       "1 & 2 & 0 & 0 & 0 \\\\\n",
       "1 & 2 & 3 & 0 & 0 \\\\\n",
       "1 & 2 & 3 & 4 & 0 \\\\\n",
       "1 & 2 & 3 & 4 & 5 \\\\\n",
       "\\end{array}\n",
       "\\right]\n",
       "\\end{equation*}\n",
       "\""
      ]
     },
     "execution_count": 21,
     "metadata": {},
     "output_type": "execute_result"
    }
   ],
   "source": [
    "myseed()\n",
    "A = zeros(Int, (5, 5))\n",
    "for i in 1:5\n",
    "    for j in 1:i\n",
    "        A[i, j] =j\n",
    "    end\n",
    "end\n",
    "latexify(A, env=:eq)"
   ]
  },
  {
   "cell_type": "code",
   "execution_count": 22,
   "id": "fe86cc38",
   "metadata": {},
   "outputs": [],
   "source": [
    "sympy.Matrix(A)^(-1);"
   ]
  },
  {
   "cell_type": "markdown",
   "id": "ecde551f",
   "metadata": {},
   "source": [
    "Hint: Do some experiments and make a guess."
   ]
  },
  {
   "cell_type": "markdown",
   "id": "d4ab1525",
   "metadata": {},
   "source": [
    "Answer:"
   ]
  },
  {
   "cell_type": "code",
   "execution_count": 23,
   "id": "7700aa6c",
   "metadata": {},
   "outputs": [
    {
     "data": {
      "text/latex": [
       "$$\\begin{bmatrix}\\underline{\\hspace{1cm}}& \\underline{\\hspace{1cm}}& \\underline{\\hspace{1cm}}& \\underline{\\hspace{1cm}}& \\underline{\\hspace{1cm}}\\\\\n",
       "\\underline{\\hspace{1cm}}& \\underline{\\hspace{1cm}}& \\underline{\\hspace{1cm}}& \\underline{\\hspace{1cm}}& \\underline{\\hspace{1cm}}\\\\\n",
       "\\underline{\\hspace{1cm}}& \\underline{\\hspace{1cm}}& \\underline{\\hspace{1cm}}& \\underline{\\hspace{1cm}}& \\underline{\\hspace{1cm}}\\\\\n",
       "\\underline{\\hspace{1cm}}& \\underline{\\hspace{1cm}}& \\underline{\\hspace{1cm}}& \\underline{\\hspace{1cm}}& \\underline{\\hspace{1cm}}\\\\\n",
       "\\underline{\\hspace{1cm}}& \\underline{\\hspace{1cm}}& \\underline{\\hspace{1cm}}& \\underline{\\hspace{1cm}}& \\underline{\\hspace{1cm}}\\end{bmatrix}$$"
      ],
      "text/plain": [
       "\"\\$\\$\\\\begin{bmatrix}\\\\underline{\\\\hspace{1cm}}& \\\\underline{\\\\hspace{1cm}}& \\\\underline{\\\\hspace{1cm}}& \\\\underline{\\\\hspace{1cm}}& \\\\underline{\\\\hspace{1cm}}\\\\\\\\\\n\\\\underline{\\\\hspace{1cm}}& \\\\underline{\\\\hspace{1cm}}& \\\\underline{\\\\hspace{1cm}}& \\\\underline{\\\\hspace{1cm}}& \\\\underline{\\\\hspace{\" ⋯ 143 bytes ⋯ \"erline{\\\\hspace{1cm}}& \\\\underline{\\\\hspace{1cm}}& \\\\underline{\\\\hspace{1cm}}& \\\\underline{\\\\hspace{1cm}}& \\\\underline{\\\\hspace{1cm}}\\\\\\\\\\n\\\\underline{\\\\hspace{1cm}}& \\\\underline{\\\\hspace{1cm}}& \\\\underline{\\\\hspace{1cm}}& \\\\underline{\\\\hspace{1cm}}& \\\\underline{\\\\hspace{1cm}}\\\\end{bmatrix}\\$\\$\""
      ]
     },
     "execution_count": 23,
     "metadata": {},
     "output_type": "execute_result"
    }
   ],
   "source": [
    "L\"$$%$(emptymat(5,5))$$\""
   ]
  },
  {
   "cell_type": "markdown",
   "id": "1b27db8d",
   "metadata": {},
   "source": [
    "# LU factorization"
   ]
  },
  {
   "cell_type": "code",
   "execution_count": 24,
   "id": "e232a971",
   "metadata": {},
   "outputs": [],
   "source": [
    "myseed(seed0+1)\n",
    "U = UpperTriangular(randnonsing(2:6, 3))\n",
    "U = [U; zeros(Int, (1,3))]\n",
    "L = LowerTriangular(randnonsing(-1:5, 4))\n",
    "A = L*U\n",
    "for i in 1:4\n",
    "    L[i, i] = 1\n",
    "end\n",
    "L\n",
    "x = rand(-1:3, 3);\n",
    "b = A * x;"
   ]
  },
  {
   "cell_type": "markdown",
   "id": "ee9f4bf0",
   "metadata": {},
   "source": [
    "Using the given LU-factorization to solve the linear system $A x = b$ where"
   ]
  },
  {
   "cell_type": "code",
   "execution_count": 25,
   "id": "46ef41d6",
   "metadata": {},
   "outputs": [
    {
     "data": {
      "text/latex": [
       "$$\n",
       "A = \n",
       "\\left[\n",
       "\\begin{array}{cccc}\n",
       "1 & 0 & 0 & 0 \\\\\n",
       "0 & 1 & 0 & 0 \\\\\n",
       "2 & 2 & 1 & 0 \\\\\n",
       "0 & 0 & 4 & 1 \\\\\n",
       "\\end{array}\n",
       "\\right]\n",
       "\\left[\n",
       "\\begin{array}{ccc}\n",
       "3 & 2 & 2 \\\\\n",
       "0 & 5 & 3 \\\\\n",
       "0 & 0 & 2 \\\\\n",
       "0 & 0 & 0 \\\\\n",
       "\\end{array}\n",
       "\\right]\n",
       ",\n",
       "\\qquad\n",
       "b\n",
       "=\n",
       "\\left[\n",
       "\\begin{array}{c}\n",
       "36 \\\\\n",
       "6 \\\\\n",
       "18 \\\\\n",
       "-8 \\\\\n",
       "\\end{array}\n",
       "\\right]\n",
       "$$\n"
      ],
      "text/plain": [
       "L\"$$\n",
       "A = \n",
       "\\left[\n",
       "\\begin{array}{cccc}\n",
       "1 & 0 & 0 & 0 \\\\\n",
       "0 & 1 & 0 & 0 \\\\\n",
       "2 & 2 & 1 & 0 \\\\\n",
       "0 & 0 & 4 & 1 \\\\\n",
       "\\end{array}\n",
       "\\right]\n",
       "\\left[\n",
       "\\begin{array}{ccc}\n",
       "3 & 2 & 2 \\\\\n",
       "0 & 5 & 3 \\\\\n",
       "0 & 0 & 2 \\\\\n",
       "0 & 0 & 0 \\\\\n",
       "\\end{array}\n",
       "\\right]\n",
       ",\n",
       "\\qquad\n",
       "b\n",
       "=\n",
       "\\left[\n",
       "\\begin{array}{c}\n",
       "36 \\\\\n",
       "6 \\\\\n",
       "18 \\\\\n",
       "-8 \\\\\n",
       "\\end{array}\n",
       "\\right]\n",
       "$$\n",
       "\""
      ]
     },
     "execution_count": 25,
     "metadata": {},
     "output_type": "execute_result"
    }
   ],
   "source": [
    "L\"\"\"\n",
    "$$\n",
    "A = \n",
    "%$(latexify(L))\n",
    "%$(latexify(U))\n",
    ",\n",
    "\\qquad\n",
    "b\n",
    "=\n",
    "%$(latexify(b))\n",
    "$$\n",
    "\"\"\""
   ]
  },
  {
   "cell_type": "code",
   "execution_count": 26,
   "id": "e241bf22-013a-4ca0-8acc-24884342e5ca",
   "metadata": {},
   "outputs": [],
   "source": [
    "xs = [Sym(\"x$i\") for i in 1:4]\n",
    "B1 = sympy.Matrix([A b])\n",
    "sol = [sympy.linsolve(B1, xs[1], xs[2], xs[3]).args[1].args...];"
   ]
  },
  {
   "cell_type": "markdown",
   "id": "9f6e0eeb",
   "metadata": {},
   "source": [
    "Answer:"
   ]
  },
  {
   "cell_type": "code",
   "execution_count": 27,
   "id": "becb9f77",
   "metadata": {},
   "outputs": [
    {
     "data": {
      "text/latex": [
       "$$\n",
       "x = \n",
       "\\begin{bmatrix}\\underline{\\hspace{1cm}}\\\\\n",
       "\\underline{\\hspace{1cm}}\\\\\n",
       "\\underline{\\hspace{1cm}}\\end{bmatrix}\n",
       "$$\n"
      ],
      "text/plain": [
       "L\"$$\n",
       "x = \n",
       "\\begin{bmatrix}\\underline{\\hspace{1cm}}\\\\\n",
       "\\underline{\\hspace{1cm}}\\\\\n",
       "\\underline{\\hspace{1cm}}\\end{bmatrix}\n",
       "$$\n",
       "\""
      ]
     },
     "execution_count": 27,
     "metadata": {},
     "output_type": "execute_result"
    }
   ],
   "source": [
    "L\"\"\"\n",
    "$$\n",
    "x = \n",
    "%$(emptymat(3, 1))\n",
    "$$\n",
    "\"\"\""
   ]
  },
  {
   "cell_type": "code",
   "execution_count": 28,
   "id": "ceba74dc",
   "metadata": {},
   "outputs": [],
   "source": [
    "A1 = sympy.Matrix([A zeros(Int, 4)])\n",
    "sympy.linsolve(A1);"
   ]
  },
  {
   "cell_type": "markdown",
   "id": "a0eb3caa",
   "metadata": {},
   "source": [
    "# Determinants\n",
    "\n",
    "Let $A$ be an $n \\times n$ matrix.\n",
    "Which of the following statements are always true?\n",
    "\n",
    "* [ ] The determinant of $A$ is the product of the pivots in any echelon form $U$ of $A$, multiplied by $(−1)^r$, where r is the number of row interchanges made during row reduction from $A$ to $U$.\n",
    "* [ ] If the columns of $A$ are linearly dependent, then $\\det A = 0$.\n",
    "* [ ] Adding a multiple of one row to another does not affect the determinant of a matrix.\n",
    "* [ ] If $C$ is a $2 \\times 2$ matrix with a zero determinant, then one column of $C$ is a multiple of the other.\n",
    "* [ ] $\\det(AA^T) \\ge 0$."
   ]
  },
  {
   "cell_type": "markdown",
   "id": "78ab568d",
   "metadata": {},
   "source": [
    "# Volumes"
   ]
  },
  {
   "cell_type": "markdown",
   "id": "35de9abd",
   "metadata": {},
   "source": [
    "Compute the volume of the tetrahedron with vertcies"
   ]
  },
  {
   "cell_type": "code",
   "execution_count": 29,
   "id": "8cbf34b0",
   "metadata": {},
   "outputs": [
    {
     "data": {
      "text/latex": [
       "$$\\left\\{\\left[\n",
       "\\begin{array}{c}\n",
       "-2 \\\\\n",
       "-1 \\\\\n",
       "0 \\\\\n",
       "\\end{array}\n",
       "\\right], \\left[\n",
       "\\begin{array}{c}\n",
       "-3 \\\\\n",
       "0 \\\\\n",
       "-2 \\\\\n",
       "\\end{array}\n",
       "\\right], \\left[\n",
       "\\begin{array}{c}\n",
       "-3 \\\\\n",
       "-2 \\\\\n",
       "-3 \\\\\n",
       "\\end{array}\n",
       "\\right], \\left[\n",
       "\\begin{array}{c}\n",
       "0 \\\\\n",
       "-2 \\\\\n",
       "-1 \\\\\n",
       "\\end{array}\n",
       "\\right]\\right\\}$$"
      ],
      "text/plain": [
       "L\"$$\\left\\{\\left[\n",
       "\\begin{array}{c}\n",
       "-2 \\\\\n",
       "-1 \\\\\n",
       "0 \\\\\n",
       "\\end{array}\n",
       "\\right], \\left[\n",
       "\\begin{array}{c}\n",
       "-3 \\\\\n",
       "0 \\\\\n",
       "-2 \\\\\n",
       "\\end{array}\n",
       "\\right], \\left[\n",
       "\\begin{array}{c}\n",
       "-3 \\\\\n",
       "-2 \\\\\n",
       "-3 \\\\\n",
       "\\end{array}\n",
       "\\right], \\left[\n",
       "\\begin{array}{c}\n",
       "0 \\\\\n",
       "-2 \\\\\n",
       "-1 \\\\\n",
       "\\end{array}\n",
       "\\right]\\right\\}$$\""
      ]
     },
     "execution_count": 29,
     "metadata": {},
     "output_type": "execute_result"
    }
   ],
   "source": [
    "myseed(seed0 + 1)\n",
    "pts = rand(-3:1, (3,4))\n",
    "(x, y, z) = eachrow(pts)\n",
    "tovecset(pts)"
   ]
  },
  {
   "cell_type": "markdown",
   "id": "cb524d84",
   "metadata": {},
   "source": [
    "Answer: $\\underline{\\hspace{5cm}}$"
   ]
  },
  {
   "cell_type": "code",
   "execution_count": 30,
   "id": "a009f1eb",
   "metadata": {},
   "outputs": [],
   "source": [
    "pts1 = copy(pts)\n",
    "for i in 2:4\n",
    "    pts1[:, i] -= pts1[:, 1]\n",
    "end\n",
    "pts1[:, 1] = zeros(3)\n",
    "pts1\n",
    "abs(det(pts1[:, 2:end]));"
   ]
  },
  {
   "cell_type": "markdown",
   "id": "5b6c6cc8-3f7d-4bb9-81bc-e94909d75071",
   "metadata": {},
   "source": [
    "# Ranks\n",
    "\n",
    "Let $u, v \\in \\mathbb{R}^n$. Prove that $\\mathrm{rank}(u v^T) \\le 1$."
   ]
  },
  {
   "cell_type": "code",
   "execution_count": 31,
   "id": "8f49d54b-0da6-4b8d-af84-455aea481a73",
   "metadata": {},
   "outputs": [
    {
     "data": {
      "text/latex": [
       "Answer:\n",
       "\n",
       "\\vspace{150pt}\n"
      ],
      "text/plain": [
       "L\"Answer:\n",
       "\n",
       "\\vspace{150pt}\n",
       "\""
      ]
     },
     "execution_count": 31,
     "metadata": {},
     "output_type": "execute_result"
    }
   ],
   "source": [
    "answerblock(150)"
   ]
  },
  {
   "cell_type": "markdown",
   "id": "446c85e1",
   "metadata": {},
   "source": [
    "# Vector space\n",
    "\n",
    "Let $\\mathbb{R}^{3 \\times 3}$ be the vector space of $3 \\times 3$ matrices.\n",
    "Which of the following subsets of $\\mathbb{R}^{3 \\times 3}$ are subspaces of $\\mathbb{R}^{3 \\times 3}$?\n",
    "\n",
    "* [ ] The $3 \\times 3$ matrices A such that the vector $(0, 8, 6)$ is in the null space of $A$.\n",
    "* [ ] The $3 \\times 3$ matrices whose entries are all integers\n",
    "* [ ] The $3 \\times 3$ matrices in reduced row-echelon form \n",
    "* [ ] The diagonal $3 \\times 3$ matrices\n",
    "* [ ] The $3 \\times 3$ matrices of rank $3$"
   ]
  },
  {
   "cell_type": "markdown",
   "id": "3fea136c-4bea-480d-a812-d41d5fa7d5b6",
   "metadata": {},
   "source": [
    "# Change of basis\n",
    "\n",
    "Let $\\mathcal B$ and $\\mathcal C$ be two bases of $\\mathbb{R}^3$ forme by the columns of $B$ and $C$ respectively where"
   ]
  },
  {
   "cell_type": "code",
   "execution_count": 32,
   "id": "fb2ea2c5-6008-4b18-9ff8-569f7def5bc0",
   "metadata": {},
   "outputs": [
    {
     "data": {
      "text/latex": [
       "$$B = \\left[\n",
       "\\begin{array}{cc}\n",
       "3 & 3 \\\\\n",
       "4 & 2 \\\\\n",
       "\\end{array}\n",
       "\\right], \\qquad C = \\left[\n",
       "\\begin{array}{cc}\n",
       "1 & 5 \\\\\n",
       "5 & 5 \\\\\n",
       "\\end{array}\n",
       "\\right]$$"
      ],
      "text/plain": [
       "L\"$$B = \\left[\n",
       "\\begin{array}{cc}\n",
       "3 & 3 \\\\\n",
       "4 & 2 \\\\\n",
       "\\end{array}\n",
       "\\right], \\qquad C = \\left[\n",
       "\\begin{array}{cc}\n",
       "1 & 5 \\\\\n",
       "5 & 5 \\\\\n",
       "\\end{array}\n",
       "\\right]$$\""
      ]
     },
     "execution_count": 32,
     "metadata": {},
     "output_type": "execute_result"
    }
   ],
   "source": [
    "myseed()\n",
    "B = randnonsing(2)\n",
    "C = randnonsing(2)\n",
    "L\"$$B = %$(latexify(B)), \\qquad C = %$(latexify(C))$$\""
   ]
  },
  {
   "cell_type": "markdown",
   "id": "79d41054-1213-470a-803b-fe3c41381bf0",
   "metadata": {},
   "source": [
    "Find the change-of-coordinates matrix from $\\mathcal B$ to $\\mathcal C$ \n",
    "and the change-of-coordinates matrix from $\\mathcal C$ to $\\mathcal B$."
   ]
  },
  {
   "cell_type": "code",
   "execution_count": 33,
   "id": "6fbcc386-5530-48a8-a575-5dd4b60693e4",
   "metadata": {},
   "outputs": [
    {
     "data": {
      "text/latex": [
       "Answer:\n",
       "\n",
       "$$\n",
       "\\underset{\\mathcal C \\leftarrow \\mathcal B}{P}\n",
       "=\n",
       "\\begin{bmatrix}\\underline{\\hspace{1cm}}& \\underline{\\hspace{1cm}}\\\\\n",
       "\\underline{\\hspace{1cm}}& \\underline{\\hspace{1cm}}\\end{bmatrix}\n",
       ",\n",
       "\\qquad\n",
       "\\underset{\\mathcal B \\leftarrow \\mathcal C}{P}\n",
       "=\n",
       "\\begin{bmatrix}\\underline{\\hspace{1cm}}& \\underline{\\hspace{1cm}}\\\\\n",
       "\\underline{\\hspace{1cm}}& \\underline{\\hspace{1cm}}\\end{bmatrix}\n",
       "$$\n"
      ],
      "text/plain": [
       "L\"Answer:\n",
       "\n",
       "$$\n",
       "\\underset{\\mathcal C \\leftarrow \\mathcal B}{P}\n",
       "=\n",
       "\\begin{bmatrix}\\underline{\\hspace{1cm}}& \\underline{\\hspace{1cm}}\\\\\n",
       "\\underline{\\hspace{1cm}}& \\underline{\\hspace{1cm}}\\end{bmatrix}\n",
       ",\n",
       "\\qquad\n",
       "\\underset{\\mathcal B \\leftarrow \\mathcal C}{P}\n",
       "=\n",
       "\\begin{bmatrix}\\underline{\\hspace{1cm}}& \\underline{\\hspace{1cm}}\\\\\n",
       "\\underline{\\hspace{1cm}}& \\underline{\\hspace{1cm}}\\end{bmatrix}\n",
       "$$\n",
       "\""
      ]
     },
     "execution_count": 33,
     "metadata": {},
     "output_type": "execute_result"
    }
   ],
   "source": [
    "L\"\"\"Answer:\n",
    "\n",
    "$$\n",
    "\\underset{\\mathcal C \\leftarrow \\mathcal B}{P}\n",
    "=\n",
    "%$(emptymat(2))\n",
    ",\n",
    "\\qquad\n",
    "\\underset{\\mathcal B \\leftarrow \\mathcal C}{P}\n",
    "=\n",
    "%$(emptymat(2))\n",
    "$$\n",
    "\"\"\""
   ]
  },
  {
   "cell_type": "code",
   "execution_count": 34,
   "id": "28393260-86c8-4c65-923c-15047086ffff",
   "metadata": {},
   "outputs": [],
   "source": [
    "latexify(rationalize.(B \\ C), env=:eq);"
   ]
  },
  {
   "cell_type": "code",
   "execution_count": 35,
   "id": "41c0831a-db42-45e1-ab56-2b2ec0c147ee",
   "metadata": {},
   "outputs": [],
   "source": [
    "latexify(rationalize.(C \\ B), env=:eq);"
   ]
  },
  {
   "cell_type": "markdown",
   "id": "5b8ccc5e",
   "metadata": {},
   "source": [
    "# Eigenvalues"
   ]
  },
  {
   "cell_type": "markdown",
   "id": "2e597da9",
   "metadata": {},
   "source": [
    "Find  $\\lambda$, the largest eigenvalue of"
   ]
  },
  {
   "cell_type": "code",
   "execution_count": 36,
   "id": "378ab2ce",
   "metadata": {},
   "outputs": [
    {
     "data": {
      "text/latex": [
       "\\begin{equation*}\n",
       "\\left[\n",
       "\\begin{array}{cccc}\n",
       "2 & 2 & 0 & 0 \\\\\n",
       "3 & -1 & 0 & 0 \\\\\n",
       "0 & 0 & -2 & 4 \\\\\n",
       "0 & 0 & 5 & 4 \\\\\n",
       "\\end{array}\n",
       "\\right]\n",
       "\\end{equation*}\n"
      ],
      "text/plain": [
       "L\"\\begin{equation*}\n",
       "\\left[\n",
       "\\begin{array}{cccc}\n",
       "2 & 2 & 0 & 0 \\\\\n",
       "3 & -1 & 0 & 0 \\\\\n",
       "0 & 0 & -2 & 4 \\\\\n",
       "0 & 0 & 5 & 4 \\\\\n",
       "\\end{array}\n",
       "\\right]\n",
       "\\end{equation*}\n",
       "\""
      ]
     },
     "execution_count": 36,
     "metadata": {},
     "output_type": "execute_result"
    }
   ],
   "source": [
    "Random.seed!(seed0)\n",
    "A11 = rand(-5:5, (2,2))\n",
    "A22 = rand(-5:5, (2,2))\n",
    "B = zeros(Int, (2,2))\n",
    "A = [A11 B; B A22]\n",
    "latexify(A, env=:eq)"
   ]
  },
  {
   "cell_type": "code",
   "execution_count": 37,
   "id": "8bfe26cb",
   "metadata": {},
   "outputs": [],
   "source": [
    "A1 = sympy.Matrix(A)\n",
    "λ = maximum(keys(A1.eigenvals()));"
   ]
  },
  {
   "cell_type": "code",
   "execution_count": 38,
   "id": "6d338139",
   "metadata": {},
   "outputs": [],
   "source": [
    "v = Dict([t[1]=>t[3][1] for t in A1.eigenvects()])[λ];"
   ]
  },
  {
   "cell_type": "code",
   "execution_count": 39,
   "id": "e1a0de30-63a8-4b7e-911e-9d5daa90b4d1",
   "metadata": {},
   "outputs": [
    {
     "data": {
      "text/latex": [
       "Find also $v$, the eigenvector for $\\lambda$ which has $1$ as its last entry."
      ],
      "text/plain": [
       "L\"Find also $v$, the eigenvector for $\\lambda$ which has $1$ as its last entry.\""
      ]
     },
     "execution_count": 39,
     "metadata": {},
     "output_type": "execute_result"
    }
   ],
   "source": [
    "L\"Find also $v$, the eigenvector for $\\lambda$ which has $%$(v[4])$ as its last entry.\""
   ]
  },
  {
   "cell_type": "markdown",
   "id": "61510b9e-b582-4c62-b693-d603bbe168f1",
   "metadata": {},
   "source": [
    "Answer:"
   ]
  },
  {
   "cell_type": "code",
   "execution_count": 40,
   "id": "8e1973c9-53e8-4e6d-aa36-e011383a71e0",
   "metadata": {},
   "outputs": [
    {
     "data": {
      "text/latex": [
       "$$\n",
       "\\lambda\n",
       "=\n",
       "\\underline{\\hspace{3cm}} \n",
       ",\n",
       "\\qquad\n",
       "\\begin{bmatrix}\n",
       "    \\underline{\\hspace{3cm}} \\\\\n",
       "    \\underline{\\hspace{3cm}} \\\\\n",
       "    \\underline{\\hspace{3cm}} \\\\\n",
       "    1 \\\\\n",
       "\\end{bmatrix}\n",
       "$$\n"
      ],
      "text/plain": [
       "L\"$$\n",
       "\\lambda\n",
       "=\n",
       "\\underline{\\hspace{3cm}} \n",
       ",\n",
       "\\qquad\n",
       "\\begin{bmatrix}\n",
       "    \\underline{\\hspace{3cm}} \\\\\n",
       "    \\underline{\\hspace{3cm}} \\\\\n",
       "    \\underline{\\hspace{3cm}} \\\\\n",
       "    1 \\\\\n",
       "\\end{bmatrix}\n",
       "$$\n",
       "\""
      ]
     },
     "execution_count": 40,
     "metadata": {},
     "output_type": "execute_result"
    }
   ],
   "source": [
    "L\"\"\"\n",
    "$$\n",
    "\\lambda\n",
    "=\n",
    "\\underline{\\hspace{3cm}} \n",
    ",\n",
    "\\qquad\n",
    "\\begin{bmatrix}\n",
    "    \\underline{\\hspace{3cm}} \\\\\n",
    "    \\underline{\\hspace{3cm}} \\\\\n",
    "    \\underline{\\hspace{3cm}} \\\\\n",
    "    %$(v[4]) \\\\\n",
    "\\end{bmatrix}\n",
    "$$\n",
    "\"\"\""
   ]
  },
  {
   "cell_type": "code",
   "execution_count": 41,
   "id": "5d6f4178",
   "metadata": {},
   "outputs": [],
   "source": [
    "A1 = sympy.Matrix(A)\n",
    "λ = maximum(keys(A1.eigenvals()));"
   ]
  },
  {
   "cell_type": "code",
   "execution_count": 42,
   "id": "c6e87417",
   "metadata": {},
   "outputs": [],
   "source": [
    "v = Dict([t[1]=>t[3][1] for t in A1.eigenvects()])[λ];"
   ]
  },
  {
   "cell_type": "markdown",
   "id": "352cace7",
   "metadata": {},
   "source": [
    "# Diagonalization"
   ]
  },
  {
   "cell_type": "code",
   "execution_count": 43,
   "id": "bbc0329f",
   "metadata": {},
   "outputs": [],
   "source": [
    "Random.seed!(seed0)\n",
    "A = sympy.Matrix(randnonsing(3))\n",
    "eivals =[λ for λ in keys(A.eigenvals())]\n",
    "evals = [latexify(λ) for λ in eivals];\n",
    "etext = join(evals, \", \");\n",
    "(P, D) = A.diagonalize();"
   ]
  },
  {
   "cell_type": "code",
   "execution_count": 44,
   "id": "47a86d8a-c141-45f2-9518-2c3534a20934",
   "metadata": {},
   "outputs": [],
   "source": [
    "P;"
   ]
  },
  {
   "cell_type": "code",
   "execution_count": 45,
   "id": "d0d314e9-f27a-4bb9-bf36-7f82dcc1ab63",
   "metadata": {},
   "outputs": [],
   "source": [
    "D;"
   ]
  },
  {
   "cell_type": "code",
   "execution_count": 49,
   "id": "f133fb7e",
   "metadata": {},
   "outputs": [
    {
     "data": {
      "text/latex": [
       "Find an invertible matrice $P$ and $\\lambda_1, \\lambda_2, \\lambda_3 \\in \\mathbb{R}$ \n",
       "such that $|\\lambda_1| < |\\lambda_2| < |\\lambda_3|$ and\n",
       "$$\n",
       "P\n",
       "\\begin{bmatrix}\n",
       "\\lambda_1 &  0 &  0 \\\\\n",
       "0 &  \\lambda_2 &  0 \\\\\n",
       "0 &  0 &  \\lambda_2\\\\\n",
       "\\end{bmatrix}\n",
       "P^{-1}\n",
       "=\n",
       "\\left[\n",
       "\\begin{array}{ccc}\n",
       "3 & 2 & 5 \\\\\n",
       "4 & 1 & 5 \\\\\n",
       "3 & 5 & 1 \\\\\n",
       "\\end{array}\n",
       "\\right]\n",
       "$$\n"
      ],
      "text/plain": [
       "L\"Find an invertible matrice $P$ and $\\lambda_1, \\lambda_2, \\lambda_3 \\in \\mathbb{R}$ \n",
       "such that $|\\lambda_1| < |\\lambda_2| < |\\lambda_3|$ and\n",
       "$$\n",
       "P\n",
       "\\begin{bmatrix}\n",
       "\\lambda_1 &  0 &  0 \\\\\n",
       "0 &  \\lambda_2 &  0 \\\\\n",
       "0 &  0 &  \\lambda_2\\\\\n",
       "\\end{bmatrix}\n",
       "P^{-1}\n",
       "=\n",
       "\\left[\n",
       "\\begin{array}{ccc}\n",
       "3 & 2 & 5 \\\\\n",
       "4 & 1 & 5 \\\\\n",
       "3 & 5 & 1 \\\\\n",
       "\\end{array}\n",
       "\\right]\n",
       "$$\n",
       "\""
      ]
     },
     "execution_count": 49,
     "metadata": {},
     "output_type": "execute_result"
    }
   ],
   "source": [
    "#L\"\"\"The matrix $A = %$(latexify(A))$ has eigenvalues $(%$etext)$.\n",
    "L\"\"\"Find an invertible matrice $P$ and $\\lambda_1, \\lambda_2, \\lambda_3 \\in \\mathbb{R}$ \n",
    "such that $|\\lambda_1| < |\\lambda_2| < |\\lambda_3|$ and\n",
    "$$\n",
    "P\n",
    "\\begin{bmatrix}\n",
    "\\lambda_1 &  0 &  0 \\\\\n",
    "0 &  \\lambda_2 &  0 \\\\\n",
    "0 &  0 &  \\lambda_2\\\\\n",
    "\\end{bmatrix}\n",
    "P^{-1}\n",
    "=\n",
    "%$(latexify(A))\n",
    "$$\n",
    "\"\"\""
   ]
  },
  {
   "cell_type": "markdown",
   "id": "c888a2db",
   "metadata": {},
   "source": [
    "Answer"
   ]
  },
  {
   "cell_type": "code",
   "execution_count": 37,
   "id": "89ba3981",
   "metadata": {},
   "outputs": [
    {
     "data": {
      "text/latex": [
       "$$\n",
       "P\n",
       "=\n",
       "\\begin{bmatrix}\n",
       "\\underline{\\hspace{2cm}} &  \\underline{\\hspace{2cm}} &  \\underline{\\hspace{2cm}} \\\\\n",
       "\\underline{\\hspace{2cm}} &  \\underline{\\hspace{2cm}} &  \\underline{\\hspace{2cm}} \\\\\n",
       "2 & 1 & 1\n",
       "\\end{bmatrix}\n",
       ",\n",
       "\\qquad\n",
       "D\n",
       "=\n",
       "\\begin{bmatrix}\\underline{\\hspace{1cm}}& \\underline{\\hspace{1cm}}& \\underline{\\hspace{1cm}}\\\\\n",
       "\\underline{\\hspace{1cm}}& \\underline{\\hspace{1cm}}& \\underline{\\hspace{1cm}}\\\\\n",
       "\\underline{\\hspace{1cm}}& \\underline{\\hspace{1cm}}& \\underline{\\hspace{1cm}}\\end{bmatrix}\n",
       "$$"
      ],
      "text/plain": [
       "L\"$$\n",
       "P\n",
       "=\n",
       "\\begin{bmatrix}\n",
       "\\underline{\\hspace{2cm}} &  \\underline{\\hspace{2cm}} &  \\underline{\\hspace{2cm}} \\\\\n",
       "\\underline{\\hspace{2cm}} &  \\underline{\\hspace{2cm}} &  \\underline{\\hspace{2cm}} \\\\\n",
       "2 & 1 & 1\n",
       "\\end{bmatrix}\n",
       ",\n",
       "\\qquad\n",
       "D\n",
       "=\n",
       "\\begin{bmatrix}\\underline{\\hspace{1cm}}& \\underline{\\hspace{1cm}}& \\underline{\\hspace{1cm}}\\\\\n",
       "\\underline{\\hspace{1cm}}& \\underline{\\hspace{1cm}}& \\underline{\\hspace{1cm}}\\\\\n",
       "\\underline{\\hspace{1cm}}& \\underline{\\hspace{1cm}}& \\underline{\\hspace{1cm}}\\end{bmatrix}\n",
       "$$\""
      ]
     },
     "execution_count": 37,
     "metadata": {},
     "output_type": "execute_result"
    }
   ],
   "source": [
    "L\"\"\"$$\n",
    "P\n",
    "=\n",
    "\\begin{bmatrix}\n",
    "\\underline{\\hspace{2cm}} &  \\underline{\\hspace{2cm}} &  \\underline{\\hspace{2cm}} \\\\\n",
    "\\underline{\\hspace{2cm}} &  \\underline{\\hspace{2cm}} &  \\underline{\\hspace{2cm}} \\\\\n",
    "%$(P[3,1]) & %$(P[3,2]) & %$(P[3,3])\n",
    "\\end{bmatrix}\n",
    ",\n",
    "\\qquad\n",
    "D\n",
    "=\n",
    "%$(emptymat(3))\n",
    "$$\"\"\""
   ]
  },
  {
   "cell_type": "markdown",
   "id": "f17b8a4d",
   "metadata": {},
   "source": [
    "# Diagonalization"
   ]
  },
  {
   "cell_type": "markdown",
   "id": "7161c118",
   "metadata": {},
   "source": [
    "Let $A, P$ and $D$ be $n \\times n$ matrices.\n",
    "Which of the following statements are always true?"
   ]
  },
  {
   "cell_type": "markdown",
   "id": "9f55a8f8",
   "metadata": {},
   "source": [
    "* [ ] $A$ is diagonalizable if $A=PDP^{-1}$ for some matrix $D$ and some invertible matrix $P$.\n",
    "* [ ] If $\\mathbb{R}^n$ has a basis of eigenvectors of $A$, then $A$ is diagonalizable.\n",
    "* [ ] If $A$ is diagonalizable, then $A$ is invertible.\n",
    "* [ ] $A$ is diagonalizable  if $A$ has  $n$ eigenvectors.\n",
    "* [ ] If $A$ is invertible, then $A$ is diagonalizable."
   ]
  },
  {
   "cell_type": "markdown",
   "id": "3c87e512",
   "metadata": {},
   "source": [
    "# Linear transformation"
   ]
  },
  {
   "cell_type": "code",
   "execution_count": 38,
   "id": "5e12db5e",
   "metadata": {},
   "outputs": [],
   "source": [
    "Random.seed!(seed0)\n",
    "A = randnonsing(3)\n",
    "A * [3, -8, 0];"
   ]
  },
  {
   "cell_type": "markdown",
   "id": "39b084c9",
   "metadata": {},
   "source": [
    "Let $\\mathcal{B} = \\{b_1, b_2, b_3\\}$ be a basis for a vector space $V$. \n",
    "Find $T(3 b_1 - 8 b_2)$ when $T$ is a linear transformation from $V$ to $V$ whose matrix relative to $\\mathcal B$ is"
   ]
  },
  {
   "cell_type": "code",
   "execution_count": 39,
   "id": "0cb5979b",
   "metadata": {},
   "outputs": [
    {
     "data": {
      "text/latex": [
       "$$\n",
       "[T]_{\\mathcal B} = \\left[\n",
       "\\begin{array}{ccc}\n",
       "3 & 2 & 5 \\\\\n",
       "4 & 1 & 5 \\\\\n",
       "3 & 5 & 1 \\\\\n",
       "\\end{array}\n",
       "\\right]\n",
       "$$\n"
      ],
      "text/plain": [
       "L\"$$\n",
       "[T]_{\\mathcal B} = \\left[\n",
       "\\begin{array}{ccc}\n",
       "3 & 2 & 5 \\\\\n",
       "4 & 1 & 5 \\\\\n",
       "3 & 5 & 1 \\\\\n",
       "\\end{array}\n",
       "\\right]\n",
       "$$\n",
       "\""
      ]
     },
     "execution_count": 39,
     "metadata": {},
     "output_type": "execute_result"
    }
   ],
   "source": [
    "L\"\"\"\n",
    "$$\n",
    "[T]_{\\mathcal B} = %$(latexify(A))\n",
    "$$\n",
    "\"\"\""
   ]
  },
  {
   "cell_type": "markdown",
   "id": "0f8f4d4c",
   "metadata": {},
   "source": [
    "Answer:\n",
    "\n",
    "$$\n",
    "T(3 b_1 - 8 b_2)\n",
    "=\n",
    "\\underline{\\hspace{1cm}} b_1 \n",
    "+ \n",
    "\\underline{\\hspace{1cm}} b_2\n",
    "+\n",
    "\\underline{\\hspace{1cm}} b_3 \n",
    "$$"
   ]
  },
  {
   "cell_type": "markdown",
   "id": "a6f7cdc0",
   "metadata": {},
   "source": [
    "# Discrete dynamic systems"
   ]
  },
  {
   "cell_type": "code",
   "execution_count": 40,
   "id": "1f1e85f8",
   "metadata": {},
   "outputs": [],
   "source": [
    "myseed()\n",
    "A = round.(rand(Float64, (2,2)), digits=1);"
   ]
  },
  {
   "cell_type": "code",
   "execution_count": 41,
   "id": "e9a4bd91",
   "metadata": {},
   "outputs": [],
   "source": [
    "eigvals(A);"
   ]
  },
  {
   "cell_type": "code",
   "execution_count": 42,
   "id": "e0ed1be2",
   "metadata": {},
   "outputs": [
    {
     "data": {
      "text/latex": [
       "The origin in the discrete dynamic system $x_{k+1} = \\left[\n",
       "\\begin{array}{cc}\n",
       "0.7 & 0.6 \\\\\n",
       "0.7 & 0.4 \\\\\n",
       "\\end{array}\n",
       "\\right]x_k$ is a"
      ],
      "text/plain": [
       "L\"The origin in the discrete dynamic system $x_{k+1} = \\left[\n",
       "\\begin{array}{cc}\n",
       "0.7 & 0.6 \\\\\n",
       "0.7 & 0.4 \\\\\n",
       "\\end{array}\n",
       "\\right]x_k$ is a\""
      ]
     },
     "execution_count": 42,
     "metadata": {},
     "output_type": "execute_result"
    }
   ],
   "source": [
    "L\"The origin in the discrete dynamic system $x_{k+1} = %$(latexify(A))x_k$ is a\""
   ]
  },
  {
   "cell_type": "code",
   "execution_count": 43,
   "id": "83dc1ce0-a046-483f-bfdc-b4689b3a9cda",
   "metadata": {},
   "outputs": [],
   "source": [
    "V = eigvecs(A);"
   ]
  },
  {
   "cell_type": "code",
   "execution_count": 44,
   "id": "4e8600bb-4431-4b10-9f31-b9e1f37c81d0",
   "metadata": {},
   "outputs": [],
   "source": [
    "pic = scatter((0,0), legend=nothing)\n",
    "for p in Iterators.product(-1:1,-1:1)\n",
    "xs = 100 * V * [(p)...]\n",
    "for i in 1:10\n",
    "    xnext = A*xs[:, end]\n",
    "    xs = hcat(xs, xnext)\n",
    "end\n",
    "scatter!(xs[1, :], xs[2, :])\n",
    "plot!(xs[1, :], xs[2, :], arrow=true)\n",
    "end\n",
    "pic;"
   ]
  },
  {
   "cell_type": "markdown",
   "id": "6aaf501c",
   "metadata": {},
   "source": [
    "* [ ] repeller\n",
    "* [ ] attractor\n",
    "* [ ] saddle point\n",
    "* [ ] pivot point\n",
    "* [ ] non above"
   ]
  },
  {
   "cell_type": "markdown",
   "id": "5bd9e468-71c7-4a36-bf21-f1582a78462d",
   "metadata": {},
   "source": [
    "# Orthogonal projection\n",
    "\n",
    "Which of the following statements are true?\n",
    "\n",
    "* [ ] If the columns of an $m \\times n$ matrix $A$ are orthonormal, then the linear mapping $x \\mapsto Ax$ preserves lengths.\n",
    "* [ ] Every orthogonal set in $\\mathbb{R}^n$ is linearly independent.\n",
    "* [ ] The orthogonal projection of $y$ onto $v$ is the same as the orthogonal projection of $y$ onto $c v$ whenever $c \\ne 0$.\n",
    "* [ ] An orthogonal matrix is invertible.\n",
    "* [ ] If a set $S = \\{u_1, \\ldots, u_p\\}$  has the property that $u_i \\cdot u_j = 0$ whenever $i \\ne j$,  then S is an orthogonal set."
   ]
  },
  {
   "cell_type": "markdown",
   "id": "3a48479e-5407-420c-ba9c-f5c827076186",
   "metadata": {},
   "source": [
    "# QR Factorization\n",
    "\n",
    "Find a QR Factorization of $A$ where"
   ]
  },
  {
   "cell_type": "code",
   "execution_count": 45,
   "id": "1f91c4ca",
   "metadata": {},
   "outputs": [
    {
     "data": {
      "text/latex": [
       "$$A = \\left[\n",
       "\\begin{array}{ccc}\n",
       "1 & 2 & 1 \\\\\n",
       "1 & 2 & 2 \\\\\n",
       "1 & 2 & -1 \\\\\n",
       "0 & 0 & 0 \\\\\n",
       "0 & -1 & 2 \\\\\n",
       "\\end{array}\n",
       "\\right]$$"
      ],
      "text/plain": [
       "L\"$$A = \\left[\n",
       "\\begin{array}{ccc}\n",
       "1 & 2 & 1 \\\\\n",
       "1 & 2 & 2 \\\\\n",
       "1 & 2 & -1 \\\\\n",
       "0 & 0 & 0 \\\\\n",
       "0 & -1 & 2 \\\\\n",
       "\\end{array}\n",
       "\\right]$$\""
      ]
     },
     "execution_count": 45,
     "metadata": {},
     "output_type": "execute_result"
    }
   ],
   "source": [
    "Random.seed!(seed0)\n",
    "A = rand(-1:2, (5, 3))\n",
    "Al = latexify(A)\n",
    "L\"$$A = %$Al$$\""
   ]
  },
  {
   "cell_type": "code",
   "execution_count": 46,
   "id": "e932aad5-ddbe-4a94-ac2f-01257e03ed79",
   "metadata": {},
   "outputs": [],
   "source": [
    "(x1, x2, x3) = collect(eachcol(A))\n",
    "v1 = x1\n",
    "v2 = x2 - dot(v1, x2)//dot(v1, v1)*v1\n",
    "v3 = x3 - dot(v1, x3)//dot(v1, v1)*v1 - dot(v2, x3)//dot(v2, v2)*v2\n",
    "W = hcat(v1, v2, v3)\n",
    "latexify(W, env=:eq)\n",
    "\n",
    "W1 = [sqrt(Sym(dot(W[:,i], W[:,i]))) for i in 1:3]\n",
    "Q1 = hcat([W[:, i] / W1[i] for i in 1:3]...);"
   ]
  },
  {
   "cell_type": "code",
   "execution_count": 47,
   "id": "8d740aa3",
   "metadata": {},
   "outputs": [],
   "source": [
    "R1 = Q1'*A;"
   ]
  },
  {
   "cell_type": "code",
   "execution_count": 48,
   "id": "00665540-d416-4d60-9717-0a365b2a96ad",
   "metadata": {},
   "outputs": [],
   "source": [
    "A == Q1 * R1;"
   ]
  },
  {
   "cell_type": "markdown",
   "id": "3b495962-f209-4fa0-972a-0b54783c1fa5",
   "metadata": {},
   "source": [
    "Answer:"
   ]
  },
  {
   "cell_type": "code",
   "execution_count": 49,
   "id": "3d4eead5-513d-4a6d-998e-d25d098737f6",
   "metadata": {},
   "outputs": [
    {
     "data": {
      "text/latex": [
       "$$\n",
       "Q = \\begin{bmatrix}\\frac{\\sqrt{3}}{3}& 0& \\frac{\\sqrt{42}}{42}\\\\\n",
       "\\underline{\\hspace{1cm}}& \\underline{\\hspace{1cm}}& \\underline{\\hspace{1cm}}\\\\\n",
       "\\underline{\\hspace{1cm}}& \\underline{\\hspace{1cm}}& \\underline{\\hspace{1cm}}\\\\\n",
       "\\underline{\\hspace{1cm}}& \\underline{\\hspace{1cm}}& \\underline{\\hspace{1cm}}\\\\\n",
       "\\underline{\\hspace{1cm}}& \\underline{\\hspace{1cm}}& \\underline{\\hspace{1cm}}\\\\\n",
       "\\end{bmatrix}\n",
       ",\n",
       "\\qquad\n",
       "R = \\begin{bmatrix}\\sqrt{3}& 2 \\cdot \\sqrt{3}& \\frac{2 \\cdot \\sqrt{3}}{3}\\\\\n",
       "\\underline{\\hspace{1cm}}& \\underline{\\hspace{1cm}}& \\underline{\\hspace{1cm}}\\\\\n",
       "\\underline{\\hspace{1cm}}& \\underline{\\hspace{1cm}}& \\underline{\\hspace{1cm}}\\\\\n",
       "\\end{bmatrix}\n",
       ".\n",
       "$$\n"
      ],
      "text/plain": [
       "\"\\$\\$\\nQ = \\\\begin{bmatrix}\\\\frac{\\\\sqrt{3}}{3}& 0& \\\\frac{\\\\sqrt{42}}{42}\\\\\\\\\\n\\\\underline{\\\\hspace{1cm}}& \\\\underline{\\\\hspace{1cm}}& \\\\underline{\\\\hspace{1cm}}\\\\\\\\\\n\\\\underline{\\\\hspace{1cm}}& \\\\underline{\\\\hspace{1cm}}& \\\\underline{\\\\hspace{1cm}}\\\\\\\\\\n\\\\underline{\\\\hspace{1cm}}& \\\\underline{\\\\hspace{\" ⋯ 119 bytes ⋯ \"matrix}\\n,\\n\\\\qquad\\nR = \\\\begin{bmatrix}\\\\sqrt{3}& 2 \\\\cdot \\\\sqrt{3}& \\\\frac{2 \\\\cdot \\\\sqrt{3}}{3}\\\\\\\\\\n\\\\underline{\\\\hspace{1cm}}& \\\\underline{\\\\hspace{1cm}}& \\\\underline{\\\\hspace{1cm}}\\\\\\\\\\n\\\\underline{\\\\hspace{1cm}}& \\\\underline{\\\\hspace{1cm}}& \\\\underline{\\\\hspace{1cm}}\\\\\\\\\\n\\\\end{bmatrix}\\n.\\n\\$\\$\\n\""
      ]
     },
     "execution_count": 49,
     "metadata": {},
     "output_type": "execute_result"
    }
   ],
   "source": [
    "L\"\"\"\n",
    "$$\n",
    "Q = %$(partialmat(Q1, [1]))\n",
    ",\n",
    "\\qquad\n",
    "R = %$(partialmat(R1, [1]))\n",
    ".\n",
    "$$\n",
    "\"\"\""
   ]
  },
  {
   "cell_type": "markdown",
   "id": "87d7e60c",
   "metadata": {},
   "source": [
    "# Least-squares lines"
   ]
  },
  {
   "cell_type": "markdown",
   "id": "abba71cb",
   "metadata": {},
   "source": [
    "Find the equation $y = \\beta_0 + \\beta_1 x$ of the least-squares line that best fit the given data"
   ]
  },
  {
   "cell_type": "code",
   "execution_count": 50,
   "id": "95088c19",
   "metadata": {},
   "outputs": [
    {
     "data": {
      "image/svg+xml": [
       "<?xml version=\"1.0\" encoding=\"utf-8\"?>\n",
       "<svg xmlns=\"http://www.w3.org/2000/svg\" xmlns:xlink=\"http://www.w3.org/1999/xlink\" width=\"200\" height=\"200\" viewBox=\"0 0 800 800\">\n",
       "<defs>\n",
       "  <clipPath id=\"clip040\">\n",
       "    <rect x=\"0\" y=\"0\" width=\"800\" height=\"800\"/>\n",
       "  </clipPath>\n",
       "</defs>\n",
       "<path clip-path=\"url(#clip040)\" d=\"\n",
       "M0 800 L800 800 L800 0 L0 0  Z\n",
       "  \" fill=\"#ffffff\" fill-rule=\"evenodd\" fill-opacity=\"1\"/>\n",
       "<defs>\n",
       "  <clipPath id=\"clip041\">\n",
       "    <rect x=\"160\" y=\"80\" width=\"561\" height=\"561\"/>\n",
       "  </clipPath>\n",
       "</defs>\n",
       "<path clip-path=\"url(#clip040)\" d=\"\n",
       "M96.1772 677.168 L752.756 677.168 L752.756 47.2441 L96.1772 47.2441  Z\n",
       "  \" fill=\"#ffffff\" fill-rule=\"evenodd\" fill-opacity=\"1\"/>\n",
       "<defs>\n",
       "  <clipPath id=\"clip042\">\n",
       "    <rect x=\"96\" y=\"47\" width=\"658\" height=\"631\"/>\n",
       "  </clipPath>\n",
       "</defs>\n",
       "<polyline clip-path=\"url(#clip042)\" style=\"stroke:#000000; stroke-linecap:butt; stroke-linejoin:round; stroke-width:2; stroke-opacity:0.1; fill:none\" points=\"\n",
       "  269.613,677.168 269.613,47.2441 \n",
       "  \"/>\n",
       "<polyline clip-path=\"url(#clip042)\" style=\"stroke:#000000; stroke-linecap:butt; stroke-linejoin:round; stroke-width:2; stroke-opacity:0.1; fill:none\" points=\"\n",
       "  424.467,677.168 424.467,47.2441 \n",
       "  \"/>\n",
       "<polyline clip-path=\"url(#clip042)\" style=\"stroke:#000000; stroke-linecap:butt; stroke-linejoin:round; stroke-width:2; stroke-opacity:0.1; fill:none\" points=\"\n",
       "  579.32,677.168 579.32,47.2441 \n",
       "  \"/>\n",
       "<polyline clip-path=\"url(#clip042)\" style=\"stroke:#000000; stroke-linecap:butt; stroke-linejoin:round; stroke-width:2; stroke-opacity:0.1; fill:none\" points=\"\n",
       "  734.173,677.168 734.173,47.2441 \n",
       "  \"/>\n",
       "<polyline clip-path=\"url(#clip040)\" style=\"stroke:#000000; stroke-linecap:butt; stroke-linejoin:round; stroke-width:4; stroke-opacity:1; fill:none\" points=\"\n",
       "  96.1772,659.34 752.756,659.34 \n",
       "  \"/>\n",
       "<polyline clip-path=\"url(#clip040)\" style=\"stroke:#000000; stroke-linecap:butt; stroke-linejoin:round; stroke-width:4; stroke-opacity:1; fill:none\" points=\"\n",
       "  269.613,678.237 269.613,640.442 \n",
       "  \"/>\n",
       "<polyline clip-path=\"url(#clip040)\" style=\"stroke:#000000; stroke-linecap:butt; stroke-linejoin:round; stroke-width:4; stroke-opacity:1; fill:none\" points=\"\n",
       "  424.467,678.237 424.467,640.442 \n",
       "  \"/>\n",
       "<polyline clip-path=\"url(#clip040)\" style=\"stroke:#000000; stroke-linecap:butt; stroke-linejoin:round; stroke-width:4; stroke-opacity:1; fill:none\" points=\"\n",
       "  579.32,678.237 579.32,640.442 \n",
       "  \"/>\n",
       "<polyline clip-path=\"url(#clip040)\" style=\"stroke:#000000; stroke-linecap:butt; stroke-linejoin:round; stroke-width:4; stroke-opacity:1; fill:none\" points=\"\n",
       "  734.173,678.237 734.173,640.442 \n",
       "  \"/>\n",
       "<path clip-path=\"url(#clip040)\" d=\"M259.995 705.005 L267.634 705.005 L267.634 678.639 L259.324 680.306 L259.324 676.047 L267.588 674.38 L272.264 674.38 L272.264 705.005 L279.902 705.005 L279.902 708.94 L259.995 708.94 L259.995 705.005 Z\" fill=\"#000000\" fill-rule=\"evenodd\" fill-opacity=\"1\" /><path clip-path=\"url(#clip040)\" d=\"M419.119 705.005 L435.439 705.005 L435.439 708.94 L413.494 708.94 L413.494 705.005 Q416.156 702.25 420.74 697.62 Q425.346 692.968 426.527 691.625 Q428.772 689.102 429.652 687.366 Q430.554 685.607 430.554 683.917 Q430.554 681.162 428.61 679.426 Q426.689 677.69 423.587 677.69 Q421.388 677.69 418.934 678.454 Q416.504 679.218 413.726 680.769 L413.726 676.047 Q416.55 674.912 419.004 674.334 Q421.457 673.755 423.494 673.755 Q428.865 673.755 432.059 676.44 Q435.254 679.125 435.254 683.616 Q435.254 685.746 434.443 687.667 Q433.656 689.565 431.55 692.158 Q430.971 692.829 427.869 696.046 Q424.767 699.241 419.119 705.005 Z\" fill=\"#000000\" fill-rule=\"evenodd\" fill-opacity=\"1\" /><path clip-path=\"url(#clip040)\" d=\"M583.568 690.306 Q586.924 691.023 588.799 693.292 Q590.697 695.56 590.697 698.894 Q590.697 704.009 587.179 706.81 Q583.66 709.611 577.179 709.611 Q575.003 709.611 572.688 709.171 Q570.396 708.755 567.943 707.898 L567.943 703.384 Q569.887 704.519 572.202 705.097 Q574.517 705.676 577.04 705.676 Q581.438 705.676 583.73 703.94 Q586.045 702.204 586.045 698.894 Q586.045 695.838 583.892 694.125 Q581.762 692.389 577.943 692.389 L573.915 692.389 L573.915 688.546 L578.128 688.546 Q581.577 688.546 583.406 687.181 Q585.234 685.792 585.234 683.199 Q585.234 680.537 583.336 679.125 Q581.461 677.69 577.943 677.69 Q576.021 677.69 573.822 678.107 Q571.623 678.523 568.984 679.403 L568.984 675.236 Q571.646 674.496 573.961 674.125 Q576.299 673.755 578.359 673.755 Q583.683 673.755 586.785 676.185 Q589.887 678.593 589.887 682.713 Q589.887 685.583 588.244 687.574 Q586.6 689.542 583.568 690.306 Z\" fill=\"#000000\" fill-rule=\"evenodd\" fill-opacity=\"1\" /><path clip-path=\"url(#clip040)\" d=\"M737.183 678.454 L725.377 696.903 L737.183 696.903 L737.183 678.454 M735.956 674.38 L741.835 674.38 L741.835 696.903 L746.766 696.903 L746.766 700.792 L741.835 700.792 L741.835 708.94 L737.183 708.94 L737.183 700.792 L721.581 700.792 L721.581 696.278 L735.956 674.38 Z\" fill=\"#000000\" fill-rule=\"evenodd\" fill-opacity=\"1\" /><polyline clip-path=\"url(#clip042)\" style=\"stroke:#000000; stroke-linecap:butt; stroke-linejoin:round; stroke-width:2; stroke-opacity:0.1; fill:none\" points=\"\n",
       "  96.1772,510.773 752.756,510.773 \n",
       "  \"/>\n",
       "<polyline clip-path=\"url(#clip042)\" style=\"stroke:#000000; stroke-linecap:butt; stroke-linejoin:round; stroke-width:2; stroke-opacity:0.1; fill:none\" points=\"\n",
       "  96.1772,362.206 752.756,362.206 \n",
       "  \"/>\n",
       "<polyline clip-path=\"url(#clip042)\" style=\"stroke:#000000; stroke-linecap:butt; stroke-linejoin:round; stroke-width:2; stroke-opacity:0.1; fill:none\" points=\"\n",
       "  96.1772,213.639 752.756,213.639 \n",
       "  \"/>\n",
       "<polyline clip-path=\"url(#clip042)\" style=\"stroke:#000000; stroke-linecap:butt; stroke-linejoin:round; stroke-width:2; stroke-opacity:0.1; fill:none\" points=\"\n",
       "  96.1772,65.0721 752.756,65.0721 \n",
       "  \"/>\n",
       "<polyline clip-path=\"url(#clip040)\" style=\"stroke:#000000; stroke-linecap:butt; stroke-linejoin:round; stroke-width:4; stroke-opacity:1; fill:none\" points=\"\n",
       "  114.76,677.168 114.76,47.2441 \n",
       "  \"/>\n",
       "<polyline clip-path=\"url(#clip040)\" style=\"stroke:#000000; stroke-linecap:butt; stroke-linejoin:round; stroke-width:4; stroke-opacity:1; fill:none\" points=\"\n",
       "  95.862,510.773 133.657,510.773 \n",
       "  \"/>\n",
       "<polyline clip-path=\"url(#clip040)\" style=\"stroke:#000000; stroke-linecap:butt; stroke-linejoin:round; stroke-width:4; stroke-opacity:1; fill:none\" points=\"\n",
       "  95.862,362.206 133.657,362.206 \n",
       "  \"/>\n",
       "<polyline clip-path=\"url(#clip040)\" style=\"stroke:#000000; stroke-linecap:butt; stroke-linejoin:round; stroke-width:4; stroke-opacity:1; fill:none\" points=\"\n",
       "  95.862,213.639 133.657,213.639 \n",
       "  \"/>\n",
       "<polyline clip-path=\"url(#clip040)\" style=\"stroke:#000000; stroke-linecap:butt; stroke-linejoin:round; stroke-width:4; stroke-opacity:1; fill:none\" points=\"\n",
       "  95.862,65.0721 133.657,65.0721 \n",
       "  \"/>\n",
       "<path clip-path=\"url(#clip040)\" d=\"M82.8523 524.118 L90.4911 524.118 L90.4911 497.752 L82.181 499.419 L82.181 495.16 L90.4448 493.493 L95.1207 493.493 L95.1207 524.118 L102.76 524.118 L102.76 528.053 L82.8523 528.053 L82.8523 524.118 Z\" fill=\"#000000\" fill-rule=\"evenodd\" fill-opacity=\"1\" /><path clip-path=\"url(#clip040)\" d=\"M86.4402 375.551 L102.76 375.551 L102.76 379.486 L80.8153 379.486 L80.8153 375.551 Q83.4773 372.796 88.0606 368.167 Q92.6671 363.514 93.8476 362.171 Q96.093 359.648 96.9726 357.912 Q97.8754 356.153 97.8754 354.463 Q97.8754 351.708 95.9309 349.972 Q94.0096 348.236 90.9078 348.236 Q88.7087 348.236 86.2551 349 Q83.8245 349.764 81.0467 351.315 L81.0467 346.593 Q83.8708 345.458 86.3245 344.88 Q88.7782 344.301 90.8152 344.301 Q96.1856 344.301 99.38 346.986 Q102.574 349.671 102.574 354.162 Q102.574 356.292 101.764 358.213 Q100.977 360.111 98.8707 362.704 Q98.292 363.375 95.1902 366.593 Q92.0884 369.787 86.4402 375.551 Z\" fill=\"#000000\" fill-rule=\"evenodd\" fill-opacity=\"1\" /><path clip-path=\"url(#clip040)\" d=\"M95.63 212.285 Q98.9865 213.002 100.861 215.271 Q102.76 217.539 102.76 220.873 Q102.76 225.989 99.2411 228.789 Q95.7226 231.59 89.2411 231.59 Q87.0652 231.59 84.7504 231.151 Q82.4588 230.734 80.0051 229.877 L80.0051 225.364 Q81.9495 226.498 84.2643 227.076 Q86.5791 227.655 89.1023 227.655 Q93.5004 227.655 95.792 225.919 Q98.1068 224.183 98.1068 220.873 Q98.1068 217.817 95.9541 216.104 Q93.8245 214.368 90.005 214.368 L85.9773 214.368 L85.9773 210.526 L90.1902 210.526 Q93.6393 210.526 95.468 209.16 Q97.2967 207.771 97.2967 205.178 Q97.2967 202.516 95.3985 201.104 Q93.5235 199.669 90.005 199.669 Q88.0837 199.669 85.8847 200.086 Q83.6856 200.503 81.0467 201.382 L81.0467 197.216 Q83.7088 196.475 86.0236 196.104 Q88.3615 195.734 90.4217 195.734 Q95.7457 195.734 98.8476 198.165 Q101.949 200.572 101.949 204.692 Q101.949 207.563 100.306 209.553 Q98.6624 211.521 95.63 212.285 Z\" fill=\"#000000\" fill-rule=\"evenodd\" fill-opacity=\"1\" /><path clip-path=\"url(#clip040)\" d=\"M93.1763 51.8662 L81.3708 70.3152 L93.1763 70.3152 L93.1763 51.8662 M91.9495 47.7921 L97.8291 47.7921 L97.8291 70.3152 L102.76 70.3152 L102.76 74.204 L97.8291 74.204 L97.8291 82.3521 L93.1763 82.3521 L93.1763 74.204 L77.5745 74.204 L77.5745 69.6902 L91.9495 47.7921 Z\" fill=\"#000000\" fill-rule=\"evenodd\" fill-opacity=\"1\" /><circle clip-path=\"url(#clip042)\" cx=\"269.613\" cy=\"65.0721\" r=\"14\" fill=\"#009af9\" fill-rule=\"evenodd\" fill-opacity=\"1\" stroke=\"#000000\" stroke-opacity=\"1\" stroke-width=\"1.6\"/>\n",
       "<circle clip-path=\"url(#clip042)\" cx=\"424.467\" cy=\"65.0721\" r=\"14\" fill=\"#009af9\" fill-rule=\"evenodd\" fill-opacity=\"1\" stroke=\"#000000\" stroke-opacity=\"1\" stroke-width=\"1.6\"/>\n",
       "<circle clip-path=\"url(#clip042)\" cx=\"579.32\" cy=\"213.639\" r=\"14\" fill=\"#009af9\" fill-rule=\"evenodd\" fill-opacity=\"1\" stroke=\"#000000\" stroke-opacity=\"1\" stroke-width=\"1.6\"/>\n",
       "<circle clip-path=\"url(#clip042)\" cx=\"734.173\" cy=\"362.206\" r=\"14\" fill=\"#009af9\" fill-rule=\"evenodd\" fill-opacity=\"1\" stroke=\"#000000\" stroke-opacity=\"1\" stroke-width=\"1.6\"/>\n",
       "<path clip-path=\"url(#clip040)\" d=\"\n",
       "M558.056 171.922 L730.87 171.922 L730.87 68.2416 L558.056 68.2416  Z\n",
       "  \" fill=\"#ffffff\" fill-rule=\"evenodd\" fill-opacity=\"1\"/>\n",
       "<polyline clip-path=\"url(#clip040)\" style=\"stroke:#000000; stroke-linecap:butt; stroke-linejoin:round; stroke-width:4; stroke-opacity:1; fill:none\" points=\"\n",
       "  558.056,171.922 730.87,171.922 730.87,68.2416 558.056,68.2416 558.056,171.922 \n",
       "  \"/>\n",
       "<circle clip-path=\"url(#clip040)\" cx=\"587.237\" cy=\"120.082\" r=\"23\" fill=\"#009af9\" fill-rule=\"evenodd\" fill-opacity=\"1\" stroke=\"#000000\" stroke-opacity=\"1\" stroke-width=\"2.56\"/>\n",
       "<path clip-path=\"url(#clip040)\" d=\"M635.331 115.371 L635.331 101.343 L639.59 101.343 L639.59 137.362 L635.331 137.362 L635.331 133.473 Q633.988 135.787 631.928 136.922 Q629.891 138.033 627.021 138.033 Q622.321 138.033 619.359 134.283 Q616.419 130.533 616.419 124.422 Q616.419 118.311 619.359 114.561 Q622.321 110.811 627.021 110.811 Q629.891 110.811 631.928 111.945 Q633.988 113.056 635.331 115.371 M620.817 124.422 Q620.817 129.121 622.738 131.806 Q624.683 134.468 628.062 134.468 Q631.442 134.468 633.386 131.806 Q635.331 129.121 635.331 124.422 Q635.331 119.723 633.386 117.061 Q631.442 114.376 628.062 114.376 Q624.683 114.376 622.738 117.061 Q620.817 119.723 620.817 124.422 Z\" fill=\"#000000\" fill-rule=\"evenodd\" fill-opacity=\"1\" /><path clip-path=\"url(#clip040)\" d=\"M660.145 124.329 Q654.983 124.329 652.993 125.51 Q651.002 126.69 651.002 129.538 Q651.002 131.806 652.483 133.149 Q653.988 134.468 656.557 134.468 Q660.099 134.468 662.229 131.968 Q664.381 129.445 664.381 125.278 L664.381 124.329 L660.145 124.329 M668.641 122.57 L668.641 137.362 L664.381 137.362 L664.381 133.426 Q662.923 135.787 660.747 136.922 Q658.571 138.033 655.423 138.033 Q651.442 138.033 649.081 135.811 Q646.743 133.565 646.743 129.815 Q646.743 125.44 649.659 123.218 Q652.599 120.996 658.409 120.996 L664.381 120.996 L664.381 120.579 Q664.381 117.639 662.437 116.042 Q660.516 114.422 657.02 114.422 Q654.798 114.422 652.692 114.954 Q650.585 115.487 648.641 116.551 L648.641 112.616 Q650.979 111.714 653.178 111.274 Q655.377 110.811 657.46 110.811 Q663.085 110.811 665.863 113.727 Q668.641 116.644 668.641 122.57 Z\" fill=\"#000000\" fill-rule=\"evenodd\" fill-opacity=\"1\" /><path clip-path=\"url(#clip040)\" d=\"M681.627 104.075 L681.627 111.436 L690.4 111.436 L690.4 114.746 L681.627 114.746 L681.627 128.82 Q681.627 131.991 682.483 132.894 Q683.363 133.797 686.025 133.797 L690.4 133.797 L690.4 137.362 L686.025 137.362 Q681.094 137.362 679.219 135.533 Q677.344 133.681 677.344 128.82 L677.344 114.746 L674.219 114.746 L674.219 111.436 L677.344 111.436 L677.344 104.075 L681.627 104.075 Z\" fill=\"#000000\" fill-rule=\"evenodd\" fill-opacity=\"1\" /><path clip-path=\"url(#clip040)\" d=\"M707.784 124.329 Q702.622 124.329 700.631 125.51 Q698.641 126.69 698.641 129.538 Q698.641 131.806 700.122 133.149 Q701.627 134.468 704.196 134.468 Q707.738 134.468 709.867 131.968 Q712.02 129.445 712.02 125.278 L712.02 124.329 L707.784 124.329 M716.279 122.57 L716.279 137.362 L712.02 137.362 L712.02 133.426 Q710.562 135.787 708.386 136.922 Q706.21 138.033 703.062 138.033 Q699.08 138.033 696.719 135.811 Q694.381 133.565 694.381 129.815 Q694.381 125.44 697.298 123.218 Q700.238 120.996 706.048 120.996 L712.02 120.996 L712.02 120.579 Q712.02 117.639 710.076 116.042 Q708.154 114.422 704.659 114.422 Q702.437 114.422 700.33 114.954 Q698.224 115.487 696.279 116.551 L696.279 112.616 Q698.617 111.714 700.816 111.274 Q703.015 110.811 705.099 110.811 Q710.724 110.811 713.502 113.727 Q716.279 116.644 716.279 122.57 Z\" fill=\"#000000\" fill-rule=\"evenodd\" fill-opacity=\"1\" /></svg>\n"
      ]
     },
     "execution_count": 50,
     "metadata": {},
     "output_type": "execute_result"
    }
   ],
   "source": [
    "myseed()\n",
    "ys = rand(0:5, 4)\n",
    "xs = range(1, 4, step=1)\n",
    "pic = scatter(xs, ys, label=\"data\", size=(200, 200), framestyle=:origin)\n",
    "#savefig(pic, \"images/data.png\")\n",
    "#pic"
   ]
  },
  {
   "cell_type": "markdown",
   "id": "d9c5fde6",
   "metadata": {},
   "source": [
    "Answer: $(\\beta_0, \\beta_1) = (\\underline{\\hspace{2cm}}, \\underline{\\hspace{2cm}})$"
   ]
  },
  {
   "cell_type": "code",
   "execution_count": 51,
   "id": "8e4c89f2",
   "metadata": {},
   "outputs": [],
   "source": [
    "## draw the picture\n",
    "\n",
    "xs1 = fill(1, 4)\n",
    "X = hcat(xs1, xs)\n",
    "β = round.(X \\ ys, digits=6);"
   ]
  },
  {
   "cell_type": "code",
   "execution_count": 52,
   "id": "02614a1e",
   "metadata": {},
   "outputs": [],
   "source": [
    "line(x) = dot(β, [1 x])\n",
    "@syms x\n",
    "plot(pic, line, label = L\"y = %$(latexify(line(x)))\");"
   ]
  },
  {
   "cell_type": "markdown",
   "id": "f5866eef",
   "metadata": {},
   "source": [
    "# Orthonormal bases\n",
    "\n",
    "An orthogonal matrix is a square invertible matrix $U$ such that $U^{-1} = U^T$. Such a matrix has orthonormal columns.\n",
    "\n",
    "Let $U$ be an $n \\times n$ orthogonal matrix. Show that the rows of $U$ form an orthonormal basis of $\\mathbb{R}^n$."
   ]
  },
  {
   "cell_type": "code",
   "execution_count": 53,
   "id": "3f5277c4-fbc6-455e-bf8e-2a41aed6677e",
   "metadata": {},
   "outputs": [
    {
     "data": {
      "text/latex": [
       "Answer:\n",
       "\n",
       "\\vspace{180pt}\n"
      ],
      "text/plain": [
       "L\"Answer:\n",
       "\n",
       "\\vspace{180pt}\n",
       "\""
      ]
     },
     "execution_count": 53,
     "metadata": {},
     "output_type": "execute_result"
    }
   ],
   "source": [
    "answerblock()"
   ]
  },
  {
   "cell_type": "code",
   "execution_count": 54,
   "id": "e579dd77-66f0-416d-8480-29e827465f64",
   "metadata": {},
   "outputs": [],
   "source": [
    "myseed()\n",
    "A = randnonsing(5)\n",
    "V = A[:, 1]\n",
    "for i in 2:5\n",
    "    x = A[:, i]\n",
    "    x0 = copy(x)\n",
    "    for j in 1:i-1\n",
    "        v = V[:, j]\n",
    "        x0 -= dot(x, v)/dot(v, v) * v\n",
    "    end\n",
    "    V = hcat(V, x0)\n",
    "end\n",
    "for i in 1:5\n",
    "    v = V[:, i]\n",
    "    V[:, i] = v / norm(v)\n",
    "end\n",
    "V\n",
    "norm.(eachcol(V));"
   ]
  },
  {
   "cell_type": "code",
   "execution_count": 55,
   "id": "1c0bc151-6f9e-4d8e-a1e6-e179b77654c3",
   "metadata": {},
   "outputs": [],
   "source": [
    "norm.(eachrow(V));"
   ]
  },
  {
   "cell_type": "markdown",
   "id": "80bf2e42",
   "metadata": {},
   "source": [
    "# Bonus question"
   ]
  },
  {
   "cell_type": "markdown",
   "id": "07baa790",
   "metadata": {},
   "source": [
    "Define a linear transformation \n",
    "$T : \\mathbb{P}^2 \\mapsto \\mathbb{R}^2$ \n",
    "by $T(p) = \\begin{bmatrix}p(0) \\\\ p(0)\\end{bmatrix}$. \n",
    "Find polynomials $p_1$ and $p_2$ that span the kernel of $T$, and describe the range of $T$."
   ]
  },
  {
   "cell_type": "code",
   "execution_count": 56,
   "id": "46a1b424-6f12-4012-9ee7-2de1170ec682",
   "metadata": {},
   "outputs": [
    {
     "data": {
      "text/latex": [
       "Answer:\n",
       "\n",
       "\\vspace{180pt}\n"
      ],
      "text/plain": [
       "L\"Answer:\n",
       "\n",
       "\\vspace{180pt}\n",
       "\""
      ]
     },
     "execution_count": 56,
     "metadata": {},
     "output_type": "execute_result"
    }
   ],
   "source": [
    "answerblock()"
   ]
  },
  {
   "cell_type": "markdown",
   "id": "efe680b1-aca5-4d9f-8b10-63fb65556d25",
   "metadata": {},
   "source": [
    "# Bonus question"
   ]
  },
  {
   "cell_type": "markdown",
   "id": "bd5bff24-91b3-45b6-a243-744c747d6462",
   "metadata": {},
   "source": [
    "Guess the inverse of the $n \\times n$ matrix\n",
    "\n",
    "$$\n",
    "\\begin{bmatrix}\n",
    "   1 & 0 & 0 & 0 & \\dots & 0 \\\\\n",
    "   1 & 1 & 0 & 0 & \\dots & 0 \\\\\n",
    "   1 & 1 & 1 & 0 & \\dots & 0 \\\\\n",
    "   1 & 1 & 1 & 1 & \\dots & 0 \\\\\n",
    "   \\vdots & \\vdots & \\vdots & \\vdots &  & 0 \\\\\n",
    "   1 & 1 & 1 & \\dots & 1 & 0 \\\\\n",
    "   1 & 1 & 1 & \\dots & 1 & 1 \\\\\n",
    "\\end{bmatrix}\n",
    "$$\n",
    "\n",
    "and prove that your guess is correct."
   ]
  },
  {
   "cell_type": "code",
   "execution_count": 47,
   "id": "8e939cf4-0aa9-4d3c-9c4c-9abb550e174f",
   "metadata": {},
   "outputs": [
    {
     "data": {
      "text/latex": [
       "Answer:\n",
       "\n",
       "\\vspace{350pt}\n"
      ],
      "text/plain": [
       "L\"Answer:\n",
       "\n",
       "\\vspace{350pt}\n",
       "\""
      ]
     },
     "execution_count": 47,
     "metadata": {},
     "output_type": "execute_result"
    }
   ],
   "source": [
    "answerblock(350)"
   ]
  },
  {
   "cell_type": "raw",
   "id": "d5a23e16-1168-454c-ba6c-89b62bf61439",
   "metadata": {},
   "source": [
    "\\rule{\\textwidth}{0.4pt}\n",
    "\\begin{center}\n",
    "Good bye! I will see you around.\n",
    "\\end{center}"
   ]
  }
 ],
 "metadata": {
  "@webio": {
   "lastCommId": null,
   "lastKernelId": null
  },
  "authors": [
   {
    "name": "Instructor: Xing Shi Cai"
   }
  ],
  "date": "Feb 23, 2022",
  "hide_input": false,
  "kernelspec": {
   "display_name": "Julia 1.9.3",
   "language": "julia",
   "name": "julia-1.9"
  },
  "language_info": {
   "file_extension": ".jl",
   "mimetype": "application/julia",
   "name": "julia",
   "version": "1.9.3"
  },
  "title": "MATH 202 Linear Algebra --- Exam 3",
  "toc": {
   "base_numbering": 1,
   "nav_menu": {},
   "number_sections": true,
   "sideBar": true,
   "skip_h1_title": false,
   "title_cell": "Table of Contents",
   "title_sidebar": "Contents",
   "toc_cell": false,
   "toc_position": {
    "height": "calc(100% - 180px)",
    "left": "10px",
    "top": "150px",
    "width": "221.6px"
   },
   "toc_section_display": true,
   "toc_window_display": true
  },
  "toc-autonumbering": true
 },
 "nbformat": 4,
 "nbformat_minor": 5
}
