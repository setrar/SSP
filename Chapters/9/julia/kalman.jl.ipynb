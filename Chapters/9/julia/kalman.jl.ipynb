{
 "cells": [
  {
   "cell_type": "markdown",
   "id": "4cd8ab97-24e2-4a6e-8add-ef57024d6240",
   "metadata": {},
   "source": [
    "# Kalman"
   ]
  },
  {
   "cell_type": "code",
   "execution_count": null,
   "id": "294c6987-7507-48bb-8be6-e8e7b2775bd0",
   "metadata": {},
   "outputs": [],
   "source": []
  },
  {
   "cell_type": "markdown",
   "id": "ae07bf27-f1b3-4d1d-833c-f743f6ad5475",
   "metadata": {},
   "source": [
    "# References\n",
    "- [ ] [Flexible filtering and smoothing in Julia](https://github.com/mschauer/Kalman.jl)"
   ]
  },
  {
   "cell_type": "code",
   "execution_count": null,
   "id": "b5431e77-f49f-4d1c-856a-4b6cbd328d75",
   "metadata": {},
   "outputs": [],
   "source": []
  }
 ],
 "metadata": {
  "kernelspec": {
   "display_name": "Julia 1.9.3",
   "language": "julia",
   "name": "julia-1.9"
  },
  "language_info": {
   "file_extension": ".jl",
   "mimetype": "application/julia",
   "name": "julia",
   "version": "1.9.4"
  }
 },
 "nbformat": 4,
 "nbformat_minor": 5
}
