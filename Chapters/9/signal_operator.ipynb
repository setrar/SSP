{
 "cells": [
  {
   "cell_type": "code",
   "execution_count": 1,
   "id": "b51843ac-2f74-44ee-a336-5b147821b845",
   "metadata": {},
   "outputs": [
    {
     "data": {
      "text/plain": [
       "Signal(sin,ω=1000) |> Until(1 s) |> Amplify(RampOnFn(10 ms)) |>\n",
       "    Amplify(RampOffFn(10 ms)) |> Normpower |> Amplify(-15.0 dB) |>\n",
       "    Mix(randn |> Until(1 s) |>\n",
       "            Filt(Bandstop,0.5 kHz,2 kHz) |> Normpower |> Amplify(-20.0 dB))"
      ]
     },
     "execution_count": 1,
     "metadata": {},
     "output_type": "execute_result"
    }
   ],
   "source": [
    "using WAV\n",
    "using SignalOperators\n",
    "using SignalOperators.Units # allows the use of dB, Hz, s etc... as unitful values\n",
    "\n",
    "# a pure tone 20 dB below a power 1 signal, with on and off ramps (for\n",
    "# a smooth onset/offset)\n",
    "sound1 = Signal(sin,ω=1kHz) |> Until(5s) |> Ramp |> Normpower |> Amplify(-20dB)\n",
    "\n",
    "sound1 |> ToFramerate(44.1kHz) |> sink(\"example.wav\")\n",
    "\n",
    "# a sound defined by a file, matching the overall power to that of sound1\n",
    "sound2 = \"example.wav\" |> Normpower |> Amplify(-20dB)\n",
    "\n",
    "# a 1kHz sawtooth wave\n",
    "sound3 = Signal(ϕ -> ϕ-π,ω=1kHz) |> Ramp |> Normpower |> Amplify(-20dB)\n",
    "\n",
    "# a 5 Hz amplitude modulated noise\n",
    "sound4 = randn |>\n",
    "    Amplify(Signal(ϕ -> 0.5sin(ϕ) + 0.5,ω=5Hz)) |>\n",
    "    Until(5s) |> Normpower |> Amplify(-20dB)\n",
    "\n",
    "# a 1kHz tone surrounded by a notch noise\n",
    "SNR = 5dB\n",
    "x = Signal(sin,ω=1kHz) |> Until(1s) |> Ramp |> Normpower |> Amplify(-20dB + SNR)\n",
    "y = Signal(randn) |> Until(1s) |> Filt(Bandstop,0.5kHz,2kHz) |> Normpower |>\n",
    "  Amplify(-20dB)\n",
    "scene = Mix(x,y)\n",
    "\n",
    "# write all of the signals to a single file, at 44.1 kHz\n",
    "# Append(sound1,sound2,sound3,sound4,scene) |> ToFramerate(44.1kHz) |> sink(\"examples.wav\")\n",
    "\n",
    "### Cannot Append to the end of an infinite signal (Error)"
   ]
  },
  {
   "cell_type": "code",
   "execution_count": null,
   "id": "ff4c3137-fb1e-4fdc-9105-46db8412e569",
   "metadata": {},
   "outputs": [],
   "source": []
  }
 ],
 "metadata": {
  "kernelspec": {
   "display_name": "Julia 1.9.3",
   "language": "julia",
   "name": "julia-1.9"
  },
  "language_info": {
   "file_extension": ".jl",
   "mimetype": "application/julia",
   "name": "julia",
   "version": "1.9.3"
  }
 },
 "nbformat": 4,
 "nbformat_minor": 5
}
