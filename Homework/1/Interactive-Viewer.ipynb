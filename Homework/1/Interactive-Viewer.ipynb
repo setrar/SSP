{
 "cells": [
  {
   "cell_type": "code",
   "execution_count": 4,
   "id": "e7e7e752-44fc-4167-8ec0-2c193703901e",
   "metadata": {},
   "outputs": [],
   "source": [
    "import RDatasets\n",
    "using StatsPlots, Interact\n",
    "using Blink\n"
   ]
  },
  {
   "cell_type": "code",
   "execution_count": 8,
   "id": "04a07cb0-e4e3-4f86-bf93-5265209a60ef",
   "metadata": {},
   "outputs": [
    {
     "name": "stdout",
     "output_type": "stream",
     "text": [
      "names = map(collect ∘ keys, coltable) = Observable([:SepalLength, :SepalWidth, :PetalLength, :PetalWidth, :Species])\n"
     ]
    },
    {
     "name": "stderr",
     "output_type": "stream",
     "text": [
      "Unexpected end of input\n",
      " ...when parsing byte with value '0'\n",
      "Stacktrace:\n",
      "  [1] \u001b[0m\u001b[1merror\u001b[22m\u001b[0m\u001b[1m(\u001b[22m\u001b[90ms\u001b[39m::\u001b[0mString\u001b[0m\u001b[1m)\u001b[22m\n",
      "\u001b[90m    @\u001b[39m \u001b[90mBase\u001b[39m \u001b[90m./\u001b[39m\u001b[90m\u001b[4merror.jl:35\u001b[24m\u001b[39m\n",
      "  [2] \u001b[0m\u001b[1m_error\u001b[22m\u001b[0m\u001b[1m(\u001b[22m\u001b[90mmessage\u001b[39m::\u001b[0mString, \u001b[90mps\u001b[39m::\u001b[0mJSON.Parser.StreamingParserState\u001b[90m{Sockets.TCPSocket}\u001b[39m\u001b[0m\u001b[1m)\u001b[22m\n",
      "\u001b[90m    @\u001b[39m \u001b[35mJSON.Parser\u001b[39m \u001b[90m~/.julia/packages/JSON/93Ea8/src/\u001b[39m\u001b[90m\u001b[4mParser.jl:148\u001b[24m\u001b[39m\n",
      "  [3] \u001b[0m\u001b[1mbyteat\u001b[22m\u001b[0m\u001b[1m(\u001b[22m\u001b[90mps\u001b[39m::\u001b[0mJSON.Parser.StreamingParserState\u001b[90m{Sockets.TCPSocket}\u001b[39m\u001b[0m\u001b[1m)\u001b[22m\n",
      "\u001b[90m    @\u001b[39m \u001b[35mJSON.Parser\u001b[39m \u001b[90m~/.julia/packages/JSON/93Ea8/src/\u001b[39m\u001b[90m\u001b[4mParser.jl:57\u001b[24m\u001b[39m\n",
      "  [4] \u001b[0m\u001b[1mcurrent\u001b[22m\n",
      "\u001b[90m    @\u001b[39m \u001b[90m~/.julia/packages/JSON/93Ea8/src/\u001b[39m\u001b[90m\u001b[4mParser.jl:70\u001b[24m\u001b[39m\u001b[90m [inlined]\u001b[39m\n",
      "  [5] \u001b[0m\u001b[1mchomp_space!\u001b[22m\n",
      "\u001b[90m    @\u001b[39m \u001b[90m~/.julia/packages/JSON/93Ea8/src/\u001b[39m\u001b[90m\u001b[4mParser.jl:115\u001b[24m\u001b[39m\u001b[90m [inlined]\u001b[39m\n",
      "  [6] \u001b[0m\u001b[1mparse_value\u001b[22m\u001b[0m\u001b[1m(\u001b[22m\u001b[90mpc\u001b[39m::\u001b[0mJSON.Parser.ParserContext\u001b[90m{Dict{String, Any}, Int64, true, nothing}\u001b[39m, \u001b[90mps\u001b[39m::\u001b[0mJSON.Parser.StreamingParserState\u001b[90m{Sockets.TCPSocket}\u001b[39m\u001b[0m\u001b[1m)\u001b[22m\n",
      "\u001b[90m    @\u001b[39m \u001b[35mJSON.Parser\u001b[39m \u001b[90m~/.julia/packages/JSON/93Ea8/src/\u001b[39m\u001b[90m\u001b[4mParser.jl:158\u001b[24m\u001b[39m\n",
      "  [7] \u001b[0m\u001b[1mparse\u001b[22m\u001b[0m\u001b[1m(\u001b[22m\u001b[90mio\u001b[39m::\u001b[0mSockets.TCPSocket; \u001b[90mdicttype\u001b[39m::\u001b[0mType, \u001b[90minttype\u001b[39m::\u001b[0mType\u001b[90m{Int64}\u001b[39m, \u001b[90mallownan\u001b[39m::\u001b[0mBool, \u001b[90mnull\u001b[39m::\u001b[0mNothing\u001b[0m\u001b[1m)\u001b[22m\n",
      "\u001b[90m    @\u001b[39m \u001b[35mJSON.Parser\u001b[39m \u001b[90m~/.julia/packages/JSON/93Ea8/src/\u001b[39m\u001b[90m\u001b[4mParser.jl:481\u001b[24m\u001b[39m\n",
      "  [8] \u001b[0m\u001b[1mparse\u001b[22m\n",
      "\u001b[90m    @\u001b[39m \u001b[90m~/.julia/packages/JSON/93Ea8/src/\u001b[39m\u001b[90m\u001b[4mParser.jl:474\u001b[24m\u001b[39m\u001b[90m [inlined]\u001b[39m\n",
      "  [9] \u001b[0m\u001b[1mmacro expansion\u001b[22m\n",
      "\u001b[90m    @\u001b[39m \u001b[90m~/.julia/packages/Lazy/9Xnd3/src/\u001b[39m\u001b[90m\u001b[4mmacros.jl:268\u001b[24m\u001b[39m\u001b[90m [inlined]\u001b[39m\n",
      " [10] \u001b[0m\u001b[1mmacro expansion\u001b[22m\n",
      "\u001b[90m    @\u001b[39m \u001b[90m~/.julia/packages/Blink/LhpHk/src/AtomShell/\u001b[39m\u001b[90m\u001b[4mprocess.jl:109\u001b[24m\u001b[39m\u001b[90m [inlined]\u001b[39m\n",
      " [11] \u001b[0m\u001b[1m(::Blink.AtomShell.var\"#4#5\"{Electron})\u001b[22m\u001b[0m\u001b[1m(\u001b[22m\u001b[0m\u001b[1m)\u001b[22m\n",
      "\u001b[90m    @\u001b[39m \u001b[36mBlink.AtomShell\u001b[39m \u001b[90m./\u001b[39m\u001b[90m\u001b[4mtask.jl:514\u001b[24m\u001b[39m\n"
     ]
    }
   ],
   "source": [
    "iris = RDatasets.dataset(\"datasets\", \"iris\")\n",
    "w = Window()\n",
    "body!(w, dataviewer(iris));"
   ]
  },
  {
   "cell_type": "markdown",
   "id": "2f445660-a438-4082-a929-256837a567f9",
   "metadata": {},
   "source": [
    "# References\n",
    "\n",
    "- [ ] [Visualizing a table interactively](https://github.com/JuliaPlots/StatsPlots.jl#visualizing-a-table-interactively)\n",
    "\n",
    "<img src='https://user-images.githubusercontent.com/6333339/43359702-abd82d74-929e-11e8-8fc9-b589287f1c23.png' width=50% height=50% ></img>"
   ]
  },
  {
   "cell_type": "code",
   "execution_count": null,
   "id": "86107d15-406e-46c9-bc89-771bba373a2a",
   "metadata": {},
   "outputs": [],
   "source": []
  }
 ],
 "metadata": {
  "kernelspec": {
   "display_name": "Julia 1.9.3",
   "language": "julia",
   "name": "julia-1.9"
  },
  "language_info": {
   "file_extension": ".jl",
   "mimetype": "application/julia",
   "name": "julia",
   "version": "1.9.4"
  }
 },
 "nbformat": 4,
 "nbformat_minor": 5
}
