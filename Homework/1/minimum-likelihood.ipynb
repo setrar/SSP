{
 "cells": [
  {
   "cell_type": "code",
   "execution_count": 2,
   "id": "92daf250-616d-40e5-b503-12c181ebeff8",
   "metadata": {},
   "outputs": [],
   "source": [
    "using Optim\n",
    "using Distributions: Weibull, MersenneTwister"
   ]
  },
  {
   "cell_type": "code",
   "execution_count": 8,
   "id": "3742d7a4-d926-43d3-a08a-39b794e36423",
   "metadata": {},
   "outputs": [],
   "source": [
    "rng = MersenneTwister(1234);\n",
    "\n",
    "d = Weibull(1,1)\n",
    "x = rand(d,1000);"
   ]
  },
  {
   "cell_type": "code",
   "execution_count": 10,
   "id": "eaf5b84e-315a-48ac-8c2e-46a269eafa51",
   "metadata": {},
   "outputs": [
    {
     "data": {
      "text/plain": [
       "pdf_weibull (generic function with 1 method)"
      ]
     },
     "execution_count": 10,
     "metadata": {},
     "output_type": "execute_result"
    }
   ],
   "source": [
    "# Weibull PDF\n",
    "function pdf_weibull(x, lambda, k)  \n",
    "    k/lambda * (x/lambda).^(k-1) * exp(-(x/lambda)^k)\n",
    "\n",
    "end"
   ]
  },
  {
   "cell_type": "code",
   "execution_count": 14,
   "id": "9429281c-a3fb-4f3f-9905-75f5f84f71e0",
   "metadata": {},
   "outputs": [
    {
     "data": {
      "text/plain": [
       "obj (generic function with 2 methods)"
      ]
     },
     "execution_count": 14,
     "metadata": {},
     "output_type": "execute_result"
    }
   ],
   "source": [
    "function obj(x::Vector, lambda, k)\n",
    "    soma = 0\n",
    "    for i in x\n",
    "        soma = soma + log(pdf_weibull(i,lambda,k))\n",
    "    end\n",
    "    -soma\n",
    "end\n",
    "\n",
    "obj(x, pars) = obj(x, pars...)\n"
   ]
  },
  {
   "cell_type": "code",
   "execution_count": 15,
   "id": "277dfe3e-2ff8-4267-b55b-99f1bf390334",
   "metadata": {},
   "outputs": [
    {
     "data": {
      "text/plain": [
       " * Status: success\n",
       "\n",
       " * Candidate solution\n",
       "    Final objective value:     9.777717e+02\n",
       "\n",
       " * Found with\n",
       "    Algorithm:     Nelder-Mead\n",
       "\n",
       " * Convergence measures\n",
       "    √(Σ(yᵢ-ȳ)²)/n ≤ 1.0e-08\n",
       "\n",
       " * Work counters\n",
       "    Seconds run:   0  (vs limit Inf)\n",
       "    Iterations:    36\n",
       "    f(x) calls:    73\n"
      ]
     },
     "execution_count": 15,
     "metadata": {},
     "output_type": "execute_result"
    }
   ],
   "source": [
    "optimize(vars -> obj(x, vars...), [1.0,1.0])"
   ]
  },
  {
   "cell_type": "markdown",
   "id": "e814bfb1-9fed-4f9b-9e3b-67985152648e",
   "metadata": {},
   "source": [
    "# References\n",
    "\n",
    "- [ ] [Miximum Likelihood - using Optim package](https://stackoverflow.com/questions/50633483/miximum-likelihood-using-optim-package)"
   ]
  },
  {
   "cell_type": "code",
   "execution_count": null,
   "id": "344904fc-5c8d-45da-9921-d4599e71900c",
   "metadata": {},
   "outputs": [],
   "source": []
  }
 ],
 "metadata": {
  "kernelspec": {
   "display_name": "Julia 1.9.3",
   "language": "julia",
   "name": "julia-1.9"
  },
  "language_info": {
   "file_extension": ".jl",
   "mimetype": "application/julia",
   "name": "julia",
   "version": "1.9.4"
  }
 },
 "nbformat": 4,
 "nbformat_minor": 5
}
