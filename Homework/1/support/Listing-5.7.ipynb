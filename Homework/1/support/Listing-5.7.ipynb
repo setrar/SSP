{
 "cells": [
  {
   "cell_type": "markdown",
   "id": "a3c25610-d15a-4cea-b037-78c3a68161cb",
   "metadata": {},
   "source": [
    "# Listing 5.7: A biased estimator"
   ]
  },
  {
   "cell_type": "code",
   "execution_count": 4,
   "id": "f6f42384-b375-47f1-a585-cdb43cc0c465",
   "metadata": {},
   "outputs": [],
   "source": [
    "using Random, Statistics"
   ]
  },
  {
   "cell_type": "code",
   "execution_count": 7,
   "id": "d92f7a3f-788c-4abc-84f5-a60709f8a865",
   "metadata": {},
   "outputs": [
    {
     "data": {
      "text/plain": [
       "(0.08333333333333333, 0.28867513459481287)"
      ]
     },
     "execution_count": 7,
     "metadata": {},
     "output_type": "execute_result"
    }
   ],
   "source": [
    "trueVar, trueStd = 1/12, sqrt(1/12)"
   ]
  },
  {
   "cell_type": "code",
   "execution_count": 8,
   "id": "222ec67d-8a73-424d-9623-55968c7a4e56",
   "metadata": {},
   "outputs": [
    {
     "data": {
      "text/plain": [
       "estVar (generic function with 1 method)"
      ]
     },
     "execution_count": 8,
     "metadata": {},
     "output_type": "execute_result"
    }
   ],
   "source": [
    "function estVar(n)\n",
    "           sample = rand(n)\n",
    "           sum((sample .- 0.5).^2)/n\n",
    "       end"
   ]
  },
  {
   "cell_type": "code",
   "execution_count": 9,
   "id": "49b08962-ccb8-4814-aeba-8e524da3fa3c",
   "metadata": {},
   "outputs": [
    {
     "name": "stdout",
     "output_type": "stream",
     "text": [
      "n = 5 Var bias: -1.0e-5\t Std bias: -0.00639\n",
      "n = 10 Var bias: -1.0e-5\t Std bias: -0.00303\n",
      "n = 15 Var bias: -0.0\t Std bias: -0.00199\n",
      "n = 20 Var bias: 1.0e-5\t Std bias: -0.00148\n",
      "n = 25 Var bias: -0.0\t Std bias: -0.00118\n",
      "n = 30 Var bias: -0.0\t Std bias: -0.00098\n"
     ]
    }
   ],
   "source": [
    "N = 10^7\n",
    "for n in 5:5:30\n",
    "   biasVar = mean([estVar(n) for _ in 1:N]) - trueVar ",
    "   \n",
    "   biasStd = mean([sqrt(estVar(n)) for _ in 1:N]) - trueStd \n",
    "   println(\"n = \",n, \" Var bias: \", round(biasVar, digits=5), \n",
    "                               \"\\t Std bias: \", round(biasStd, digits=5))\n",
    "end"
   ]
  },
  {
   "cell_type": "code",
   "execution_count": null,
   "id": "7f5eba08-acd1-4e57-a3a4-dfa175db9d68",
   "metadata": {},
   "outputs": [],
   "source": []
  }
 ],
 "metadata": {
  "kernelspec": {
   "display_name": "Julia 1.9.3",
   "language": "julia",
   "name": "julia-1.9"
  },
  "language_info": {
   "file_extension": ".jl",
   "mimetype": "application/julia",
   "name": "julia",
   "version": "1.9.4"
  }
 },
 "nbformat": 4,
 "nbformat_minor": 5
}
