{
 "cells": [
  {
   "cell_type": "code",
   "execution_count": 1,
   "id": "a7cb82dc-485d-46ec-b635-d1b31945cabb",
   "metadata": {},
   "outputs": [],
   "source": [
    "using Optim"
   ]
  },
  {
   "cell_type": "code",
   "execution_count": 5,
   "id": "64c74d97-624c-4b2a-bb0e-fec5ded3050a",
   "metadata": {},
   "outputs": [],
   "source": [
    "nₒᵦₛ = 500\n",
    "nᵥₐᵣ = 1;"
   ]
  },
  {
   "cell_type": "code",
   "execution_count": 8,
   "id": "10e667c0-0a62-4b2e-b427-0305befd2566",
   "metadata": {},
   "outputs": [],
   "source": [
    "β = ones(nᵥₐᵣ)*3.0\n",
    "x = [ones(nₒᵦₛ) randn(nₒᵦₛ,nᵥₐᵣ-1)]\n",
    "ε = randn(nₒᵦₛ)*0.5;"
   ]
  },
  {
   "cell_type": "code",
   "execution_count": 12,
   "id": "c05a0daf-186a-4b99-a774-faa7860e3c32",
   "metadata": {},
   "outputs": [],
   "source": [
    "y = x*β + ε;"
   ]
  },
  {
   "cell_type": "code",
   "execution_count": 14,
   "id": "645698d8-1392-40ab-974b-279116b56f96",
   "metadata": {},
   "outputs": [
    {
     "data": {
      "text/plain": [
       "LL_anon (generic function with 2 methods)"
      ]
     },
     "execution_count": 14,
     "metadata": {},
     "output_type": "execute_result"
    }
   ],
   "source": [
    "function LL_anon(X, Y, β, σ)\n",
    "  -(-length(X)*log(2π)/2 - length(X)*log(σ) - (sum((Y - X*β).^2) / (2σ^2)))\n",
    "end\n",
    "LL_anon(X,Y, pars) = LL_anon(X,Y, pars...)"
   ]
  },
  {
   "cell_type": "code",
   "execution_count": 16,
   "id": "a2b61093-dff9-4149-b854-c6c563f1a68c",
   "metadata": {},
   "outputs": [
    {
     "data": {
      "text/plain": [
       " * Status: success\n",
       "\n",
       " * Candidate solution\n",
       "    Final objective value:     3.752855e+02\n",
       "\n",
       " * Found with\n",
       "    Algorithm:     Nelder-Mead\n",
       "\n",
       " * Convergence measures\n",
       "    √(Σ(yᵢ-ȳ)²)/n ≤ 1.0e-08\n",
       "\n",
       " * Work counters\n",
       "    Seconds run:   0  (vs limit Inf)\n",
       "    Iterations:    48\n",
       "    f(x) calls:    93\n"
      ]
     },
     "execution_count": 16,
     "metadata": {},
     "output_type": "execute_result"
    }
   ],
   "source": [
    "β=1.0; σ=1.0\n",
    "res2 = optimize(vars -> LL_anon(x,y, vars...), [β,σ]) # Start values: β=1.0, σ=1.0"
   ]
  },
  {
   "cell_type": "markdown",
   "id": "1aef8bec-1abd-4a32-b61b-5e93211b2906",
   "metadata": {},
   "source": [
    "# References\n",
    "- [ ] [Maximum Likelihood: Normal Linear Model](https://discourse.julialang.org/t/maximum-likelihood-normal-linear-model/11664)"
   ]
  },
  {
   "cell_type": "code",
   "execution_count": null,
   "id": "b60cb2c4-9490-41af-922e-bfa70f87c8a6",
   "metadata": {},
   "outputs": [],
   "source": []
  }
 ],
 "metadata": {
  "kernelspec": {
   "display_name": "Julia 1.9.3",
   "language": "julia",
   "name": "julia-1.9"
  },
  "language_info": {
   "file_extension": ".jl",
   "mimetype": "application/julia",
   "name": "julia",
   "version": "1.9.4"
  }
 },
 "nbformat": 4,
 "nbformat_minor": 5
}
