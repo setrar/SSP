{
 "cells": [
  {
   "cell_type": "code",
   "execution_count": 1,
   "id": "34d13c62-08b0-49f0-8815-f8093ffb3831",
   "metadata": {},
   "outputs": [],
   "source": [
    "using Optim, NLSolversBase, Random\n",
    "using LinearAlgebra: diag\n",
    "Random.seed!(0);  # Fix random seed generator for reproducibility"
   ]
  },
  {
   "cell_type": "code",
   "execution_count": 3,
   "id": "6fe79166-8e25-46a5-b25a-38f43e2b7700",
   "metadata": {},
   "outputs": [],
   "source": [
    "n = 500                             # Number of observations\n",
    "nvar = 2;                            # Number of variables"
   ]
  },
  {
   "cell_type": "markdown",
   "id": "43a7eb2c-1bee-41b8-beee-95c433f76e5c",
   "metadata": {},
   "source": [
    "# References\n",
    "\n",
    "- [ ] [Maximum Likelihood Estimation: The Normal Linear Model](https://julianlsolvers.github.io/Optim.jl/stable/#examples/generated/maxlikenlm)"
   ]
  },
  {
   "cell_type": "code",
   "execution_count": null,
   "id": "e4cfe1db-fe7b-4a6d-8d0a-f476599d0b4a",
   "metadata": {},
   "outputs": [],
   "source": []
  }
 ],
 "metadata": {
  "kernelspec": {
   "display_name": "Julia 1.9.3",
   "language": "julia",
   "name": "julia-1.9"
  },
  "language_info": {
   "file_extension": ".jl",
   "mimetype": "application/julia",
   "name": "julia",
   "version": "1.9.4"
  }
 },
 "nbformat": 4,
 "nbformat_minor": 5
}
