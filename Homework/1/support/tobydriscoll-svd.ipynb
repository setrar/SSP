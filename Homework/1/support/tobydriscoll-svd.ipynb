{
 "cells": [
  {
   "cell_type": "markdown",
   "id": "60a59145-7454-4ceb-9ce4-b93cb239e271",
   "metadata": {},
   "source": [
    "## [7.3. Singular value decomposition](https://tobydriscoll.net/fnc-julia/matrixanaly/svd.html#singular-value-decomposition)"
   ]
  },
  {
   "cell_type": "markdown",
   "id": "8cf7a9c2-bb0c-4dad-871a-a3562bc39d0e",
   "metadata": {},
   "source": [
    "> Definition 7.3.1 :  Singular value decomposition (SVD)"
   ]
  },
  {
   "cell_type": "markdown",
   "id": "e3f1f7a9-8696-4d1b-8298-ea8e1bbd9fd8",
   "metadata": {},
   "source": [
    "$$\n",
    "\\begin{gather}\n",
    "\\text{ The singular value decomposition of an matrix } m x n \\text{ is } \n",
    "\\\\\n",
    "A = USV^*\n",
    "\\\\\n",
    "\\text { where } U \\in \\mathbb{C}^{m \\times n} \\text { and } V \\in \\mathbb{C}^{m \\times n} \\text{ are unitary and } \\mathbb{S}^{m \\times n} \\text{ is real and diagonal with nonnegative elements. }\n",
    "\\end{gather}\n",
    "$$"
   ]
  },
  {
   "cell_type": "code",
   "execution_count": 9,
   "id": "4b443485-6976-45c4-bfe3-9f85b58b159a",
   "metadata": {},
   "outputs": [],
   "source": [
    "using LinearAlgebra"
   ]
  },
  {
   "cell_type": "code",
   "execution_count": 10,
   "id": "f689928d-8d65-43aa-aa8d-d23d4c13c1a8",
   "metadata": {},
   "outputs": [
    {
     "data": {
      "text/plain": [
       "5×4 Matrix{Int64}:\n",
       " 1  1   1    1\n",
       " 1  2   4    8\n",
       " 1  3   9   27\n",
       " 1  4  16   64\n",
       " 1  5  25  125"
      ]
     },
     "execution_count": 10,
     "metadata": {},
     "output_type": "execute_result"
    }
   ],
   "source": [
    "A = [i^j for i=1:5, j=0:3]"
   ]
  },
  {
   "cell_type": "markdown",
   "id": "b6839a39-1f3d-4cf9-afe1-ede2fab57517",
   "metadata": {},
   "source": [
    "$$\n",
    "\\text{ To get only the singular values, use } {\\color{Salmon}svdvals}. \\qquad \\qquad \\qquad \\qquad \\qquad \\qquad \\qquad \\qquad \\qquad \\qquad \\qquad \\qquad \\qquad \\qquad \\qquad \\qquad \\qquad \\qquad \\qquad \\qquad \\qquad \\qquad \\qquad \\qquad \n",
    "$$"
   ]
  },
  {
   "cell_type": "code",
   "execution_count": 11,
   "id": "aa921181-9f56-496d-ace3-c7fc99c44c10",
   "metadata": {},
   "outputs": [
    {
     "data": {
      "text/plain": [
       "4-element Vector{Float64}:\n",
       " 146.69715365883005\n",
       "   5.738569780953702\n",
       "   0.9998486640841027\n",
       "   0.11928082685241923"
      ]
     },
     "execution_count": 11,
     "metadata": {},
     "output_type": "execute_result"
    }
   ],
   "source": [
    "σ = svdvals(A)"
   ]
  },
  {
   "cell_type": "markdown",
   "id": "2f98488e-e995-45e9-a46b-b3f21a0fbbca",
   "metadata": {},
   "source": [
    "Here is verification of the connections between the singular values, norm, and condition number."
   ]
  },
  {
   "cell_type": "code",
   "execution_count": 12,
   "id": "73f3337d-9d9d-4a10-8d32-bf97bd6d084e",
   "metadata": {},
   "outputs": [
    {
     "name": "stdout",
     "output_type": "stream",
     "text": [
      "opnorm(A, 2) = 146.69715365883005\n",
      "σ[1] = 146.69715365883005\n"
     ]
    }
   ],
   "source": [
    "@show opnorm(A,2);\n",
    "@show σ[1];"
   ]
  },
  {
   "cell_type": "code",
   "execution_count": 13,
   "id": "39b7d56a-61ea-4e8b-9970-0f0052cd10fc",
   "metadata": {},
   "outputs": [
    {
     "name": "stdout",
     "output_type": "stream",
     "text": [
      "cond(A, 2) = 1229.846887633767\n",
      "σ[1] / σ[end] = 1229.846887633767\n"
     ]
    }
   ],
   "source": [
    "@show cond(A,2);\n",
    "@show σ[1]/σ[end];"
   ]
  },
  {
   "cell_type": "markdown",
   "id": "193bc8bb-4203-4e76-a9ae-c9b93406e9b1",
   "metadata": {},
   "source": [
    "$$\\text{ To get singular vectors as well, use } {\\color{Salmon}svd} \\text {. The thin form of the factorization is the default.} \\qquad \\qquad \\qquad \\qquad \\qquad \\qquad \\qquad \\qquad \\qquad \\qquad \\qquad $$"
   ]
  },
  {
   "cell_type": "code",
   "execution_count": 14,
   "id": "085f783a-d65f-48c6-9983-c197ffb581a1",
   "metadata": {},
   "outputs": [
    {
     "name": "stdout",
     "output_type": "stream",
     "text": [
      "size(U) = (5, 4)\n",
      "size(V) = (4, 4)\n"
     ]
    }
   ],
   "source": [
    "U,σ,V = svd(A);\n",
    "@show size(U);\n",
    "@show size(V);"
   ]
  },
  {
   "cell_type": "markdown",
   "id": "2d816b00-3330-484e-ac7f-b5d5c94f18c4",
   "metadata": {},
   "source": [
    "We verify the orthogonality of the singular vectors as follows:"
   ]
  },
  {
   "cell_type": "code",
   "execution_count": 16,
   "id": "df709b93-9c8f-4117-aa6a-b38c28dbd0fd",
   "metadata": {},
   "outputs": [
    {
     "name": "stdout",
     "output_type": "stream",
     "text": [
      "opnorm(U' * U - I) = 1.1454691592036412e-15\n",
      "opnorm(V' * V - I) = 1.257753478722172e-15\n"
     ]
    }
   ],
   "source": [
    "@show opnorm(U'*U - I);\n",
    "@show opnorm(V'*V - I);"
   ]
  },
  {
   "cell_type": "markdown",
   "id": "f192c9dc-5a56-461b-97e0-3a9d50cddb44",
   "metadata": {},
   "source": [
    "# References\n",
    "\n",
    "- [ ] [7.3. Singular value decomposition](https://tobydriscoll.net/fnc-julia/matrixanaly/svd.html)\n",
    "- [ ] [Fundamentals of Numerical Computation: Toby Driscoll Jun 6, 2019](https://tobydriscoll.net/project/fnc/)"
   ]
  },
  {
   "cell_type": "code",
   "execution_count": null,
   "id": "a592f41b-df1a-44e6-9c59-b8c37a8671cd",
   "metadata": {},
   "outputs": [],
   "source": []
  }
 ],
 "metadata": {
  "kernelspec": {
   "display_name": "Julia 1.9.3",
   "language": "julia",
   "name": "julia-1.9"
  },
  "language_info": {
   "file_extension": ".jl",
   "mimetype": "application/julia",
   "name": "julia",
   "version": "1.9.4"
  }
 },
 "nbformat": 4,
 "nbformat_minor": 5
}
