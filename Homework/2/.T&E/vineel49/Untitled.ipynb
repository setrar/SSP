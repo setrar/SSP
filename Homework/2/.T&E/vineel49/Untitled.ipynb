{
 "cells": [
  {
   "cell_type": "code",
   "execution_count": 5,
   "id": "9a85cc49-9b73-4cd9-9a44-ee2909e1fd90",
   "metadata": {},
   "outputs": [],
   "source": [
    "\n",
    "SNR_dB = 40          # SNR per bit in dB\n",
    "chan_len = 10        # number of channel taps\n",
    "FFT_len = 256        # #subcarriers\n",
    "Pilot_num = 32       # number of pilots in each frame\n",
    "CP_len = chan_len - 1 # length of the cyclic prefix\n",
    "fade_var_1D = 0.5    # 1D fade variance of the channel impulse response\n",
    "NUM_BIT = (FFT_len - Pilot_num) * 2  # # data bits in each frame, i.e., OFDM symbol\n",
    "NUM_FRAMES = 10^3;    # simulations run (number of frames simulated)\n"
   ]
  },
  {
   "cell_type": "code",
   "execution_count": 4,
   "id": "48445272-32ac-4a83-b28d-2b287627f6b0",
   "metadata": {},
   "outputs": [],
   "source": [
    "# Julia code equivalent to MATLAB script\n",
    "\n",
    "Pilot_Position = 1:FFT_len ÷ Pilot_num:FFT_len  # pilot locations\n",
    "Data_Position = collect(1:FFT_len)\n",
    "Data_Position = setdiff(Data_Position, Pilot_Position);  # data location indices\n"
   ]
  },
  {
   "cell_type": "code",
   "execution_count": 6,
   "id": "0d1f25d2-a4d7-4941-b15a-e7bd8ba440bc",
   "metadata": {},
   "outputs": [],
   "source": [
    "# Julia code equivalent to MATLAB script\n",
    "\n",
    "SNR = 10^(0.1 * SNR_dB)  # SNR in LINEAR SCALE\n",
    "NOISE_VAR_1D = 0.5 * 2 * 2 * chan_len * fade_var_1D / (2 * SNR * FFT_len)  # 1D AWGN NOISE VARIANCE \n",
    "NOISE_STD_DEV = sqrt(NOISE_VAR_1D);  # NOISE STANDARD DEVIATION\n"
   ]
  },
  {
   "cell_type": "code",
   "execution_count": 9,
   "id": "4e814e72-71d3-42ba-869b-5d61534e50c1",
   "metadata": {},
   "outputs": [],
   "source": [
    "include(\"Gen_autocorr.jl\");"
   ]
  },
  {
   "cell_type": "code",
   "execution_count": 13,
   "id": "7045a052-9578-4c10-8810-315dadc430bc",
   "metadata": {},
   "outputs": [
    {
     "ename": "LoadError",
     "evalue": "InexactError: Float64(4.957195277823227 - 0.5497426036837177im)",
     "output_type": "error",
     "traceback": [
      "InexactError: Float64(4.957195277823227 - 0.5497426036837177im)",
      "",
      "Stacktrace:",
      " [1] Real",
      "   @ Base ./complex.jl:44 [inlined]",
      " [2] convert",
      "   @ Base ./number.jl:7 [inlined]",
      " [3] setindex!(::Matrix{Float64}, ::ComplexF64, ::Int64, ::Int64)",
      "   @ Base ./array.jl:1024",
      " [4] top-level scope",
      "   @ ./In[13]:5"
     ]
    }
   ],
   "source": [
    "# Cross correlation matrix\n",
    "Cross_Cor_Matrix = zeros(FFT_len - Pilot_num, Pilot_num)\n",
    "for i1 = 1:FFT_len - Pilot_num\n",
    "    for i2 = 1:Pilot_num\n",
    "        Cross_Cor_Matrix[i1, i2] = Gen_autocorr(fade_var_1D, Data_Position[i1], Pilot_Position[i2], chan_len, FFT_len)\n",
    "    end\n",
    "end\n"
   ]
  },
  {
   "cell_type": "code",
   "execution_count": 10,
   "id": "23e6cd41-3e8a-405b-848c-05331a3506fc",
   "metadata": {},
   "outputs": [
    {
     "ename": "LoadError",
     "evalue": "InexactError: Float64(4.957195277823227 - 0.5497426036837177im)",
     "output_type": "error",
     "traceback": [
      "InexactError: Float64(4.957195277823227 - 0.5497426036837177im)",
      "",
      "Stacktrace:",
      " [1] Real",
      "   @ Base ./complex.jl:44 [inlined]",
      " [2] convert",
      "   @ Base ./number.jl:7 [inlined]",
      " [3] setindex!(::Matrix{Float64}, ::ComplexF64, ::Int64, ::Int64)",
      "   @ Base ./array.jl:1024",
      " [4] top-level scope",
      "   @ ./In[10]:7"
     ]
    }
   ],
   "source": [
    "# Julia code equivalent to MATLAB script\n",
    "\n",
    "\n",
    "# Autocorrelation matrix Rh_ls,h_ls\n",
    "R_Input = zeros(ComplexF64, Pilot_num, Pilot_num)  # autocorrelation matrix\n",
    "for i1 = 1:Pilot_num\n",
    "    for i2 = 1:Pilot_num\n",
    "        R_Input[i1, i2] = Gen_autocorr(fade_var_1D, Pilot_Position[i1], Pilot_Position[i2], chan_len, FFT_len)\n",
    "    end\n",
    "end\n",
    "\n",
    "X = diagm(0 => (1.0 + 1.0im) * ones(ComplexF64, Pilot_num))  # all pilots are 1+1i.\n",
    "\n",
    "Auto_Cor_Matrix = R_Input + NOISE_VAR_1D * FFT_len * inv(X * X')\n"
   ]
  },
  {
   "cell_type": "code",
   "execution_count": null,
   "id": "5895b6ca-7743-4e40-9d26-0bf4ff3565d1",
   "metadata": {},
   "outputs": [],
   "source": []
  }
 ],
 "metadata": {
  "kernelspec": {
   "display_name": "Julia 1.9.3",
   "language": "julia",
   "name": "julia-1.9"
  },
  "language_info": {
   "file_extension": ".jl",
   "mimetype": "application/julia",
   "name": "julia",
   "version": "1.10.0"
  }
 },
 "nbformat": 4,
 "nbformat_minor": 5
}
