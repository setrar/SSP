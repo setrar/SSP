{
 "cells": [
  {
   "cell_type": "markdown",
   "id": "5b898ca0-c240-4233-a791-fbdc0108fa7d",
   "metadata": {},
   "source": [
    "# Definitions"
   ]
  },
  {
   "cell_type": "markdown",
   "id": "9a011ae0-2e43-40b4-a9f9-aa6ecdbc87cd",
   "metadata": {},
   "source": [
    "### ${\\color{Yellow} * }$ How do we use the design matrix?"
   ]
  },
  {
   "cell_type": "markdown",
   "id": "2e4c6c48-ee6f-422f-bcf4-9d5770a15087",
   "metadata": {},
   "source": [
    "The design matrix is a fundamental concept in statistical modeling, particularly in the context of linear regression and linear models. It is used to represent the linear relationship between a set of predictor variables (features) and the response variable (outcome). Here's a general overview of how the design matrix is used:\n",
    "\n",
    "### 1. Linear Model Representation:\n",
    "\n",
    "The linear model is often expressed as:\n",
    "\n",
    "$ Y = X\\beta + \\epsilon $\n",
    "\n",
    "where:\n",
    "- $Y$ is the response variable (vector).\n",
    "- $X$ is the design matrix.\n",
    "- $\\beta$ is the vector of coefficients (parameters) to be estimated.\n",
    "- $\\epsilon$ is the vector of errors (residuals).\n",
    "\n",
    "### 2. Construction of the Design Matrix:\n",
    "\n",
    "- Each row of the design matrix corresponds to an observation or data point.\n",
    "- Each column of the design matrix corresponds to a predictor variable.\n",
    "- The first column is typically a column of ones, representing the intercept term.\n",
    "\n",
    "For example, in a simple linear regression with one predictor variable $X_1$ and an intercept term, the design matrix might look like:\n",
    "\n",
    "$ X = \\begin{bmatrix} 1 & X_1^{(1)} \\\\ 1 & X_1^{(2)} \\\\ \\vdots & \\vdots \\\\ 1 & X_1^{(n)} \\end{bmatrix} $\n",
    "\n",
    "### 3. Model Estimation:\n",
    "\n",
    "Given the model representation and the design matrix, the goal is to estimate the coefficients $\\beta$ that minimize the difference between the predicted values $X\\beta$ and the observed values $Y$.\n",
    "\n",
    "$ \\hat{\\beta} = (X^TX)^{-1}X^TY $\n",
    "\n",
    "### 4. Predictions:\n",
    "\n",
    "Once the coefficients are estimated, the model can be used to make predictions on new or unseen data.\n",
    "\n",
    "$ \\hat{Y} = X\\hat{\\beta} $\n",
    "\n",
    "### 5. Inference and Hypothesis Testing:\n",
    "\n",
    "The design matrix is also used in hypothesis testing and statistical inference. It helps formulate hypotheses about the coefficients and test their significance.\n",
    "\n",
    "### 6. Extension to Multiple Regression:\n",
    "\n",
    "The concept of the design matrix extends naturally to multiple regression, where there are multiple predictor variables.\n",
    "\n",
    "$ Y = X\\beta + \\epsilon $\n",
    "\n",
    "The design matrix $X$ will have multiple columns, each corresponding to a different predictor variable.\n",
    "\n",
    "In summary, the design matrix is a crucial tool in expressing and estimating linear relationships in statistical modeling. It provides a systematic way to represent the structure of the linear model and facilitates the estimation of model parameters and making predictions."
   ]
  },
  {
   "cell_type": "markdown",
   "id": "c48bf864-5d67-4079-bb4a-2cf405d0179d",
   "metadata": {},
   "source": [
    "### ${\\color{Yellow} * }$ What are covariance matrices used for in DSP?"
   ]
  },
  {
   "cell_type": "markdown",
   "id": "a58823de-a2d4-4851-b8b2-ec99070e4ef9",
   "metadata": {},
   "source": [
    "In signal processing, covariance matrices are commonly used for various purposes, especially in the context of analyzing and processing signals. Here are some key applications of covariance matrices in signal processing:\n",
    "\n",
    "1. **Spectral Estimation:**\n",
    "   - Covariance matrices play a crucial role in spectral estimation techniques, such as the Capon and MUSIC algorithms. These methods use covariance matrices to estimate the power spectral density of a signal in the presence of noise.\n",
    "\n",
    "2. **Array Processing and Beamforming:**\n",
    "   - In array processing and beamforming applications, covariance matrices are used to characterize the statistical properties of signals received by an array of sensors. Covariance matrix-based beamforming techniques help enhance signals of interest while suppressing interference and noise.\n",
    "\n",
    "3. **MIMO (Multiple Input, Multiple Output) Systems:**\n",
    "   - In MIMO communication systems, covariance matrices are used to analyze and optimize the performance of multiple antennas at the transmitter and receiver. They are essential for designing efficient communication schemes and achieving spatial diversity.\n",
    "\n",
    "4. **Radar Signal Processing:**\n",
    "   - Covariance matrices are employed in radar signal processing for tasks such as target detection, tracking, and interference cancellation. They help model the statistical properties of received signals and enhance the accuracy of radar systems.\n",
    "\n",
    "5. **Blind Source Separation:**\n",
    "   - Covariance matrices are used in blind source separation techniques, such as Independent Component Analysis (ICA). They aid in separating mixed signals into their original source components without prior knowledge of the sources.\n",
    "\n",
    "6. **Channel Estimation in Wireless Communications:**\n",
    "   - Covariance matrices are utilized in channel estimation algorithms for wireless communication systems. They help model the correlation between transmitted and received signals, allowing for accurate estimation of channel parameters.\n",
    "\n",
    "7. **Adaptive Filtering:**\n",
    "   - In adaptive filtering applications, covariance matrices are involved in algorithms like the Recursive Least Squares (RLS) algorithm. They are used to update filter coefficients in real-time based on the statistics of input signals.\n",
    "\n",
    "8. **Covariance Matrix-based Detection:**\n",
    "   - Covariance matrices play a role in signal detection tasks, where statistical tests are applied to determine the presence of signals or anomalies in the received data.\n",
    "\n",
    "9. **Space-Time Processing:**\n",
    "   - In the context of multiple antenna systems and space-time processing, covariance matrices are used to optimize the processing of signals in both spatial and temporal domains.\n",
    "\n",
    "10. **Channel Equalization:**\n",
    "    - Covariance matrices are used in channel equalization to compensate for the effects of channel distortion on transmitted signals. They aid in designing filters that minimize the impact of channel variations.\n",
    "\n",
    "These applications highlight the versatile use of covariance matrices in signal processing, helping engineers and researchers analyze, enhance, and extract information from signals in various scenarios."
   ]
  },
  {
   "cell_type": "markdown",
   "id": "4a93b23e-98a3-4e1e-bbf2-e96dc018a435",
   "metadata": {},
   "source": [
    "### ${\\color{Yellow} * }$ does blue estimator use least square?"
   ]
  },
  {
   "cell_type": "markdown",
   "id": "b2ac31b7-21ac-4ec3-a7bc-cc164276f345",
   "metadata": {},
   "source": [
    "Yes, the BLUE (Best Linear Unbiased Estimator) estimator does use the method of least squares to estimate the coefficients of a linear model. The BLUE estimator is essentially the ordinary least squares (OLS) estimator when certain assumptions are met.\n",
    "\n",
    "In the context of a linear regression model $y = X\\beta + \\varepsilon$, where $y$ is the observed response, $X$ is the design matrix, $\\beta$ is the vector of coefficients to be estimated, and $\\varepsilon$ is the error term, the OLS estimator $\\hat{\\beta}$ is obtained by minimizing the sum of squared differences between the observed and predicted values:\n",
    "\n",
    "$\n",
    "\\hat{\\beta} = \\arg\\min_\\beta \\|y - X\\beta\\|^2\n",
    "$\n",
    "\n",
    "When the errors $\\varepsilon$ are normally distributed with constant variance, the OLS estimator is also the BLUE estimator because it is unbiased and has the minimum variance among the class of linear unbiased estimators.\n",
    "\n",
    "In summary, the BLUE estimator is closely related to the OLS estimator, and in the context of linear regression, they are often used interchangeably. The ${\\color{Salmon} \\text{ key conditions }}$ for the BLUE property are that ${\\color{Salmon} \\text{ the errors are normally distributed with constant variance are uncorrelated}}$."
   ]
  },
  {
   "cell_type": "markdown",
   "id": "d6e25621-976f-4705-a9a4-2be8928aaf50",
   "metadata": {},
   "source": [
    "### ${\\color{Yellow} * }$ What about The Linear Minimum Mean Square Error (LMMSE)?"
   ]
  },
  {
   "cell_type": "markdown",
   "id": "08de14b2-357c-46b3-9d8c-fb6d55768301",
   "metadata": {},
   "source": [
    "The Linear Minimum Mean Square Error (LMMSE) estimator is also related to the method of least squares, but there are some differences. Both LMMSE and least squares aim to minimize a certain measure of error in estimating parameters. Here's a brief comparison:\n",
    "\n",
    "### Least Squares Estimation (OLS):\n",
    "\n",
    "- **Objective:** Minimize the sum of squared differences between observed and predicted values.\n",
    "  \n",
    "- **Mathematically:** $\\hat{\\beta}_{\\text{OLS}} = \\arg\\min_\\beta \\|y - X\\beta\\|^2$\n",
    "  \n",
    "- **Assumption:** Assumes that the errors are independently and identically distributed with constant variance.\n",
    "\n",
    "### Linear Minimum Mean Square Error (LMMSE) Estimation:\n",
    "\n",
    "- **Objective:** Minimize the mean squared error, considering both bias and variance.\n",
    "  \n",
    "- **Mathematically:** In the context of estimating a random variable $X$ based on an observation $Y$: $\\hat{X}_{\\text{LMMSE}} = \\mathbb{E}[X|Y]$\n",
    "\n",
    "- **Assumption:** Assumes a probabilistic model for the relationship between $X$ and $Y$.\n",
    "\n",
    "In the case of LMMSE estimation, the goal is to find the linear estimator that minimizes the expected mean squared error, taking into account both the bias and the variance. The LMMSE estimator can be derived using concepts from probability theory, involving conditional expectations.\n",
    "\n",
    "In summary, while least squares aims to minimize the squared differences in a deterministic sense, LMMSE takes a probabilistic approach, considering the expected mean squared error and providing a framework for estimating random variables in the presence of uncertainty."
   ]
  },
  {
   "cell_type": "markdown",
   "id": "e5bdad8d-1f54-4ed3-baf7-f302360033ab",
   "metadata": {},
   "source": [
    "### ${\\color{Yellow} * }$ is blue better than lmmse"
   ]
  },
  {
   "cell_type": "markdown",
   "id": "ae82a5d9-2aca-447f-a137-b0f007b80483",
   "metadata": {},
   "source": [
    "Comparing the Best Linear Unbiased Estimator (BLUE) and the Linear Minimum Mean Square Error (LMMSE) estimator is nuanced and depends on the specific context and assumptions. Both estimators have similarities and differences, and neither is universally \"better\" than the other.\n",
    "\n",
    "Here are some key considerations:\n",
    "\n",
    "1. **Scope and Assumptions:**\n",
    "   - **BLUE Estimator:** Typically used in the context of linear regression, assuming normally distributed errors with constant variance and unbiasedness.\n",
    "   - **LMMSE Estimator:** More general and applicable to a broader range of estimation problems, especially in a probabilistic framework. It considers both bias and variance.\n",
    "\n",
    "2. **Optimality Criteria:**\n",
    "   - **BLUE Estimator:** Aims to be unbiased and have the minimum variance among the class of linear unbiased estimators.\n",
    "   - **LMMSE Estimator:** Aims to minimize the expected mean squared error, considering both bias and variance.\n",
    "\n",
    "3. **Applicability:**\n",
    "   - **BLUE Estimator:** Commonly used in the context of linear regression models with specific assumptions about the error structure.\n",
    "   - **LMMSE Estimator:** More versatile and applicable to situations where a probabilistic model can be specified.\n",
    "\n",
    "4. **Robustness:**\n",
    "   - **BLUE Estimator:** Sensitive to violations of assumptions, particularly when the normality and homoscedasticity assumptions are not met.\n",
    "   - **LMMSE Estimator:** May be more robust in situations where the underlying assumptions of the normality of errors are not strictly satisfied.\n",
    "\n",
    "In practice, the choice between BLUE and LMMSE depends on the nature of the data, the assumptions that can be reasonably made, and the specific goals of the estimation problem. It's essential to carefully consider the underlying model and evaluate the appropriateness of the assumptions for each estimator in a given context."
   ]
  },
  {
   "cell_type": "markdown",
   "id": "38cd9f38-91da-4008-a922-c4552414a6e2",
   "metadata": {},
   "source": [
    "### ${\\color{Yellow} * }$ what about the MAP estimator?"
   ]
  },
  {
   "cell_type": "markdown",
   "id": "48bc298f-585d-4e35-9b34-100944e07b60",
   "metadata": {},
   "source": [
    "The Maximum A Posteriori (MAP) estimator is another important concept in estimation theory, particularly in a Bayesian framework. Let's compare the MAP estimator with the Best Linear Unbiased Estimator (BLUE) and the Linear Minimum Mean Square Error (LMMSE) estimator:\n",
    "\n",
    "### MAP Estimator:\n",
    "\n",
    "- **Objective:** Maximizes the posterior probability of the parameters given the observed data.\n",
    "  \n",
    "- **Mathematically:** $\\hat{\\theta}_{\\text{MAP}} = \\arg\\max_\\theta P(\\theta | y)$, where $\\theta$ is the parameter of interest, and $y$ is the observed data.\n",
    "\n",
    "- **Assumption:** Incorporates prior information about the parameters through a prior probability distribution.\n",
    "\n",
    "### BLUE Estimator:\n",
    "\n",
    "- **Objective:** Minimizes the variance among the class of linear unbiased estimators.\n",
    "  \n",
    "- **Mathematically:** $\\hat{\\beta}_{\\text{BLUE}} = \\arg\\min_\\beta \\text{Var}(\\beta | y)$, where $\\beta$ is the parameter vector.\n",
    "\n",
    "- **Assumption:** Assumes a linear relationship between the parameters and the observations, along with certain assumptions about the error structure.\n",
    "\n",
    "### LMMSE Estimator:\n",
    "\n",
    "- **Objective:** Minimizes the expected mean squared error, considering both bias and variance.\n",
    "  \n",
    "- **Mathematically:** $\\hat{X}_{\\text{LMMSE}} = \\mathbb{E}[X|Y]$, where $X$ is the random variable to be estimated, and $Y$ is the observed data.\n",
    "\n",
    "- **Assumption:** Typically used in a probabilistic framework and considers the covariance structure between the observed data and the parameter.\n",
    "\n",
    "### Comparison:\n",
    "\n",
    "- **Probabilistic vs. Frequentist:**\n",
    "  - MAP is a Bayesian approach, incorporating prior knowledge.\n",
    "  - BLUE and LMMSE are frequentist approaches, focusing on optimization criteria without explicitly considering prior distributions.\n",
    "\n",
    "- **Model Assumptions:**\n",
    "  - MAP allows explicit incorporation of prior information.\n",
    "  - BLUE assumes a linear relationship with specific error structure.\n",
    "  - LMMSE also works in a probabilistic framework and is more general than BLUE.\n",
    "\n",
    "- **Optimization Criteria:**\n",
    "  - MAP maximizes posterior probability.\n",
    "  - BLUE minimizes variance among linear unbiased estimators.\n",
    "  - LMMSE minimizes expected mean squared error.\n",
    "\n",
    "In summary, the choice between MAP, BLUE, and LMMSE depends on the nature of the problem, the availability of prior information, and the underlying assumptions about the data and parameter relationships. Bayesian approaches, like MAP, are particularly useful when prior knowledge can be quantified."
   ]
  },
  {
   "cell_type": "markdown",
   "id": "d1127123-11d9-49a0-aec5-55b6e1d33e60",
   "metadata": {},
   "source": [
    "### ${\\color{Yellow} * }$ Probabilistic vs. Frequentist"
   ]
  },
  {
   "cell_type": "markdown",
   "id": "cddbef00-e77b-4415-9cd9-2d71c6fd7123",
   "metadata": {},
   "source": [
    "The terms \"probabilistic\" and \"frequentist\" refer to two distinct approaches in statistical inference, which is the process of making conclusions or predictions about a population based on a sample of data. These approaches have different philosophical foundations and methodologies:\n",
    "\n",
    "### Frequentist Approach:\n",
    "\n",
    "- **Focus:** The frequentist approach is concerned with the properties of estimators and tests in the long run, over repeated sampling.\n",
    "  \n",
    "- **Parameter Interpretation:** Parameters are considered fixed and unknown constants. The goal is to estimate these fixed values based on sample data.\n",
    "  \n",
    "- **Estimation:** Point estimates and confidence intervals are common tools in frequentist inference. Maximum Likelihood Estimation (MLE) is a common technique.\n",
    "  \n",
    "- **Hypothesis Testing:** Null hypothesis testing is a key aspect. The focus is on assessing the evidence against a specific null hypothesis.\n",
    "\n",
    "- **Uncertainty:** Uncertainty is often expressed through confidence intervals, which are intervals that have a certain probability of containing the true parameter value.\n",
    "\n",
    "### Probabilistic (Bayesian) Approach:\n",
    "\n",
    "- **Focus:** The probabilistic approach is concerned with updating beliefs about parameters based on both prior knowledge and observed data.\n",
    "  \n",
    "- **Parameter Interpretation:** Parameters are treated as random variables with probability distributions. Prior beliefs about the parameters are combined with observed data to obtain posterior distributions.\n",
    "  \n",
    "- **Estimation:** Bayesian inference provides posterior distributions for parameters, offering a more comprehensive view of uncertainty.\n",
    "  \n",
    "- **Hypothesis Testing:** Bayesian hypothesis testing involves comparing posterior probabilities of different hypotheses.\n",
    "\n",
    "- **Uncertainty:** Uncertainty is expressed directly through the probability distributions of parameters. Bayesian credible intervals represent regions of high probability for parameter values.\n",
    "\n",
    "### Comparison:\n",
    "\n",
    "- **Philosophy:** Frequentist methods are rooted in a philosophy that focuses on the properties of estimators and tests in repeated sampling scenarios.\n",
    "  \n",
    "- **Prior Information:** Frequentist methods typically do not incorporate prior information or subjective beliefs about parameters.\n",
    "  \n",
    "- **Flexibility:** Bayesian methods allow for the explicit inclusion of prior knowledge, making them more flexible in handling complex modeling situations.\n",
    "\n",
    "- **Interpretation:** Frequentist intervals and tests are interpreted in terms of long-run frequencies. Bayesian intervals and credible regions directly represent probabilities given current information.\n",
    "\n",
    "Both approaches have their strengths and limitations, and the choice between them often depends on the nature of the problem, the available data, and the preferences of the analyst. Bayesian methods are gaining popularity, especially in situations where prior information is available or when a more flexible and coherent approach to uncertainty is desired."
   ]
  },
  {
   "cell_type": "markdown",
   "id": "8414c555-6060-411f-940d-552c14428265",
   "metadata": {},
   "source": [
    "### ${\\color{Yellow} * }$ MLE in probabilistic approach "
   ]
  },
  {
   "cell_type": "markdown",
   "id": "85995730-7b81-4695-97fd-a290f9b2d7ff",
   "metadata": {},
   "source": [
    "Maximum Likelihood Estimation (MLE) is a statistical method used to estimate the parameters of a statistical model. While MLE is often associated with frequentist statistics, it can also be applied in a probabilistic (Bayesian) framework. The key difference lies in the interpretation of the parameters.\n",
    "\n",
    "In the frequentist approach, parameters are considered fixed but unknown values. The MLE seeks the values of these parameters that maximize the likelihood function, which measures how well the observed data fit the model.\n",
    "\n",
    "In the probabilistic (Bayesian) approach, parameters are treated as random variables with associated probability distributions. MLE can still be used to find the parameters that maximize the likelihood function, but now this process is viewed as finding the mode of the posterior distribution in Bayesian statistics. This mode is sometimes referred to as the Maximum A Posteriori (MAP) estimate in the Bayesian context.\n",
    "\n",
    "Here's a brief outline of how MLE is applied in a probabilistic (Bayesian) framework:\n",
    "\n",
    "1. **Prior Distribution:**\n",
    "   - In Bayesian statistics, a prior distribution is specified for the parameters. This distribution reflects the beliefs or knowledge about the parameters before observing any data.\n",
    "\n",
    "2. **Likelihood Function:**\n",
    "   - The likelihood function represents the probability of observing the given data for different values of the parameters.\n",
    "\n",
    "3. **Posterior Distribution:**\n",
    "   - The posterior distribution is obtained by combining the prior distribution and the likelihood function using Bayes' theorem.\n",
    "\n",
    "4. **Maximum A Posteriori (MAP) Estimate:**\n",
    "   - The MAP estimate is the value of the parameters that maximizes the posterior distribution. In the case of a well-behaved posterior distribution, this is often close to the MLE obtained in the frequentist approach.\n",
    "\n",
    "Mathematically, the relationship between the likelihood function $L(\\theta)$, prior distribution $P(\\theta)$, and posterior distribution $P(\\theta|X)$ for parameters $\\theta$ given data $X$ is expressed as:\n",
    "\n",
    "$ P(\\theta|X) \\propto L(\\theta) \\cdot P(\\theta) $\n",
    "\n",
    "In practice, MLE in a Bayesian context is most relevant when incorporating Bayesian methods with prior information. If the prior distribution is uninformative (broad or non-informative), the MLE in the Bayesian framework often converges to the frequentist MLE.\n",
    "\n",
    "It's important to note that the choice between frequentist and Bayesian approaches often depends on the nature of the problem, available information, and the preferences of the analyst."
   ]
  },
  {
   "cell_type": "markdown",
   "id": "ba0067a1-55cb-4e4c-8d74-d3d0e3aca158",
   "metadata": {},
   "source": [
    "### ${\\color{Yellow} * }$ is MLE and MAP similar?"
   ]
  },
  {
   "cell_type": "markdown",
   "id": "cbffbb81-b7cd-46a6-81a7-a35849227deb",
   "metadata": {},
   "source": [
    "Maximum Likelihood Estimation (MLE) and Maximum A Posteriori (MAP) estimation share similarities, but they are distinct concepts within the frameworks of frequentist and Bayesian statistics, respectively.\n",
    "\n",
    "### Similarities:\n",
    "\n",
    "1. **Optimization:**\n",
    "   - Both MLE and MAP involve optimization procedures. MLE seeks to maximize the likelihood function, while MAP aims to find the mode of the posterior distribution.\n",
    "\n",
    "2. **Parameter Estimates:**\n",
    "   - The parameter estimates obtained through MLE and MAP are often similar, especially when the prior distribution used in MAP is relatively uninformative or weak.\n",
    "\n",
    "### Differences:\n",
    "\n",
    "1. **Philosophical Underpinning:**\n",
    "   - **MLE (Frequentist):** MLE is a frequentist concept that focuses on estimating the values of parameters that maximize the likelihood function. Parameters are considered fixed and unknown, and the estimation is based solely on the observed data.\n",
    "   - **MAP (Bayesian):** MAP is a Bayesian concept that considers parameters as random variables with associated prior distributions. It seeks the values of parameters that maximize the posterior distribution, incorporating both prior information and the likelihood function.\n",
    "\n",
    "2. **Incorporation of Prior Information:**\n",
    "   - **MLE:** MLE does not explicitly incorporate prior information. It relies solely on the observed data and seeks the parameter values that make the observed data most probable under the assumed model.\n",
    "   - **MAP:** MAP incorporates prior information by combining the likelihood function with a prior distribution. The posterior distribution represents the updated beliefs about parameters after observing data.\n",
    "\n",
    "3. **Uncertainty Representation:**\n",
    "   - **MLE:** MLE typically provides point estimates of parameters without explicit representation of uncertainty. Confidence intervals can be derived to express uncertainty in frequentist statistics.\n",
    "   - **MAP:** MAP provides a point estimate (mode of the posterior distribution) but also naturally includes uncertainty through the shape and spread of the posterior distribution. Bayesian credible intervals are commonly used to represent uncertainty.\n",
    "\n",
    "4. **Consistency with Larger Samples:**\n",
    "   - **MLE:** MLE estimators are known to be asymptotically unbiased, efficient, and normally distributed in large samples under certain regularity conditions.\n",
    "   - **MAP:** MAP estimates may converge to MLE estimates as the sample size increases, especially when the prior becomes less influential relative to the likelihood.\n",
    "\n",
    "In summary, while MLE and MAP often yield similar estimates, their underlying philosophies and approaches to uncertainty are different. MLE is rooted in frequentist statistics, focusing on optimization of the likelihood function, while MAP is a Bayesian approach that explicitly considers prior information and provides a posterior distribution for parameters."
   ]
  },
  {
   "cell_type": "code",
   "execution_count": null,
   "id": "a3253b83-97b3-41b2-bf13-cc908d3bf118",
   "metadata": {},
   "outputs": [],
   "source": []
  }
 ],
 "metadata": {
  "kernelspec": {
   "display_name": "Julia 1.9.3",
   "language": "julia",
   "name": "julia-1.9"
  },
  "language_info": {
   "file_extension": ".jl",
   "mimetype": "application/julia",
   "name": "julia",
   "version": "1.9.4"
  }
 },
 "nbformat": 4,
 "nbformat_minor": 5
}
