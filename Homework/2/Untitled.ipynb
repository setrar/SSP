{
 "cells": [
  {
   "cell_type": "markdown",
   "id": "60f41f44-bc9a-4cc7-89a7-013b3da1bd15",
   "metadata": {},
   "source": [
    "## Deterministic Parameter Estimation"
   ]
  },
  {
   "cell_type": "markdown",
   "id": "8b121ca3-4d77-4e9c-a254-322b2076fc50",
   "metadata": {},
   "source": [
    "### 2. ML Estimation of Roundtrip Delay Distribution."
   ]
  },
  {
   "cell_type": "code",
   "execution_count": null,
   "id": "f0db8d5e-ce7d-42c2-8d9e-2fcd630bd49a",
   "metadata": {},
   "outputs": [],
   "source": []
  }
 ],
 "metadata": {
  "kernelspec": {
   "display_name": "Julia 1.9.3",
   "language": "julia",
   "name": "julia-1.9"
  },
  "language_info": {
   "file_extension": ".jl",
   "mimetype": "application/julia",
   "name": "julia",
   "version": "1.9.4"
  }
 },
 "nbformat": 4,
 "nbformat_minor": 5
}
