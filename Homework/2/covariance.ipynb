{
 "cells": [
  {
   "cell_type": "markdown",
   "id": "0c972eff-e70b-42ab-adf0-761a7a53922c",
   "metadata": {},
   "source": [
    "The covariance matrix is given by the matrix inversion lemma (also known as the Woodbury matrix identity). \n",
    "\n",
    "The expression is:\n",
    "\n",
    "$ C_{\\theta | Y} = (C_{\\theta\\theta}^{-1} + H^T C_{VV}^{-1} H)^{-1} $\n",
    "\n",
    "The covariance matrix in a Bayesian linear regression context."
   ]
  },
  {
   "cell_type": "code",
   "execution_count": 1,
   "id": "faf40cf6-9caa-4708-97b1-49a6963d4a91",
   "metadata": {},
   "outputs": [],
   "source": [
    "using FFTW"
   ]
  },
  {
   "cell_type": "code",
   "execution_count": 2,
   "id": "8ca80580-432f-4497-b69b-530d8ca1f639",
   "metadata": {},
   "outputs": [],
   "source": [
    "include(\"operations.jl\");"
   ]
  },
  {
   "cell_type": "code",
   "execution_count": 3,
   "id": "0476a6ce-7c53-4664-91de-73539e312a07",
   "metadata": {},
   "outputs": [
    {
     "data": {
      "text/plain": [
       "UniformScaling{Float64}\n",
       "0.1*I"
      ]
     },
     "execution_count": 3,
     "metadata": {},
     "output_type": "execute_result"
    }
   ],
   "source": [
    "using LinearAlgebra\n",
    "using Distributions: cov, vec\n",
    "\n",
    "# Simulated data\n",
    "Y = [1.0, 2.0, 3.0]\n",
    "H = [1.0; 2.0; 3.0]\n",
    "\n",
    "# Prior covariance matrix (assuming it's a diagonal matrix for simplicity)\n",
    "c₀₀ = Diagonal([1.0])\n",
    "\n",
    "# Likelihood (assuming Gaussian errors)\n",
    "cᵥᵥ = 0.1 * I"
   ]
  },
  {
   "cell_type": "code",
   "execution_count": 4,
   "id": "21396959-4797-485d-a9d8-e58b4a267d78",
   "metadata": {},
   "outputs": [
    {
     "data": {
      "text/plain": [
       "3×3 Matrix{Float64}:\n",
       "  1.59192e14  -3.18384e14   1.59192e14\n",
       " -3.18384e14   6.36769e14  -3.18384e14\n",
       "  1.59192e14  -3.18384e14   1.59192e14"
      ]
     },
     "execution_count": 4,
     "metadata": {},
     "output_type": "execute_result"
    }
   ],
   "source": [
    "# Bayesian update to calculate posterior covariance\n",
    "c₀ₗᵥ = ((c₀₀)⁻¹ .+ (H)ᵀ *  (cᵥᵥ)⁻¹ .* H)⁻¹"
   ]
  },
  {
   "cell_type": "code",
   "execution_count": 5,
   "id": "efc74897-cbae-4a43-9ebb-c28a82e12c4d",
   "metadata": {},
   "outputs": [],
   "source": [
    "using Plots\n",
    "\n",
    "# Plotting the covariance matrix as a heatmap\n",
    "plot1 = heatmap(c₀ₗᵥ, xlabel=\"Variables\", ylabel=\"Variables\", title=\"Covariance Matrix\", c=:viridis)\n",
    "savefig(plot1,\"images/plot1.png\");"
   ]
  },
  {
   "cell_type": "markdown",
   "id": "b5d498dc-e8a3-46b7-a1fc-d2267f5ce352",
   "metadata": {},
   "source": [
    "<img src=\"images/plot1.png\" width='' height='' > </img>"
   ]
  },
  {
   "cell_type": "markdown",
   "id": "f6aefdfb-95e6-4f66-a4ae-2e36b4239776",
   "metadata": {},
   "source": [
    "### Covariance Numerical Example"
   ]
  },
  {
   "cell_type": "code",
   "execution_count": 6,
   "id": "2cb4883a-2026-444b-930f-9837a06327c7",
   "metadata": {},
   "outputs": [
    {
     "data": {
      "text/plain": [
       "1×4 Matrix{Float64}:\n",
       " 0.05  0.2  -0.12  0.09"
      ]
     },
     "execution_count": 6,
     "metadata": {},
     "output_type": "execute_result"
    }
   ],
   "source": [
    "Supertech = [-.2 .1 .3 .5] \n",
    "Slowpoke = [.05 .2 -.12 .09] # space separator means Row Vector"
   ]
  },
  {
   "cell_type": "code",
   "execution_count": 7,
   "id": "1daef11e-e511-4c7a-b72d-f3861c1aa2b4",
   "metadata": {},
   "outputs": [
    {
     "data": {
      "text/plain": [
       "4-element Vector{Float64}:\n",
       "  0.05\n",
       "  0.2\n",
       " -0.12\n",
       "  0.09"
      ]
     },
     "execution_count": 7,
     "metadata": {},
     "output_type": "execute_result"
    }
   ],
   "source": [
    "vec(Slowpoke) # use vec to convert to Column Vector"
   ]
  },
  {
   "cell_type": "code",
   "execution_count": 8,
   "id": "5bb71c4d-fd12-4a7c-a2e7-42b5b89ad2ab",
   "metadata": {},
   "outputs": [
    {
     "data": {
      "text/plain": [
       "-0.004875"
      ]
     },
     "execution_count": 8,
     "metadata": {},
     "output_type": "execute_result"
    }
   ],
   "source": [
    "# Excel is using the \"uncorrected\" covariance\n",
    "answer = -0.004875 # Scalar"
   ]
  },
  {
   "cell_type": "code",
   "execution_count": 9,
   "id": "dbeabef7-b878-46f0-9215-cdf021069cf2",
   "metadata": {},
   "outputs": [
    {
     "data": {
      "text/plain": [
       "false"
      ]
     },
     "execution_count": 9,
     "metadata": {},
     "output_type": "execute_result"
    }
   ],
   "source": [
    "answer == cov(vec(Supertech), vec(Slowpoke))"
   ]
  },
  {
   "cell_type": "code",
   "execution_count": 10,
   "id": "9f1f6c29-8656-4211-b13a-7c9780722cbc",
   "metadata": {},
   "outputs": [
    {
     "data": {
      "text/plain": [
       "true"
      ]
     },
     "execution_count": 10,
     "metadata": {},
     "output_type": "execute_result"
    }
   ],
   "source": [
    "answer == cov(vec(Supertech), vec(Slowpoke), corrected=false)"
   ]
  },
  {
   "cell_type": "code",
   "execution_count": 11,
   "id": "3229df12-b92a-47bf-9dd6-c06d6eab37a7",
   "metadata": {},
   "outputs": [
    {
     "data": {
      "text/plain": [
       "false"
      ]
     },
     "execution_count": 11,
     "metadata": {},
     "output_type": "execute_result"
    }
   ],
   "source": [
    "H' == transpose.(H) "
   ]
  },
  {
   "cell_type": "code",
   "execution_count": 12,
   "id": "81107074-b693-46cf-9ae0-e904776774de",
   "metadata": {},
   "outputs": [
    {
     "data": {
      "text/plain": [
       "true"
      ]
     },
     "execution_count": 12,
     "metadata": {},
     "output_type": "execute_result"
    }
   ],
   "source": [
    "H == transpose.(H) # Transpose element-wise doesn't do a thing bug ??"
   ]
  },
  {
   "cell_type": "code",
   "execution_count": 13,
   "id": "120ba005-f0f4-4815-a9df-4027436a296c",
   "metadata": {},
   "outputs": [
    {
     "data": {
      "text/plain": [
       "true"
      ]
     },
     "execution_count": 13,
     "metadata": {},
     "output_type": "execute_result"
    }
   ],
   "source": [
    "transpose(H) == permutedims(H) == H'"
   ]
  },
  {
   "cell_type": "markdown",
   "id": "09711dde-d849-4b10-9978-e95875a48d65",
   "metadata": {},
   "source": [
    "### Toeplitz Matrix Example"
   ]
  },
  {
   "cell_type": "code",
   "execution_count": 14,
   "id": "450c2635-832a-42cd-b313-0c36137bac50",
   "metadata": {},
   "outputs": [],
   "source": [
    "using Plots"
   ]
  },
  {
   "cell_type": "code",
   "execution_count": 15,
   "id": "7972744e-9a5b-4d22-9cd2-4b9f1806ad59",
   "metadata": {},
   "outputs": [],
   "source": [
    "# Function to generate a Toeplitz matrix\n",
    "function toeplitz_matrix(c)\n",
    "    n = length(c)\n",
    "    T = zeros(n, n)\n",
    "    for i in 1:n\n",
    "        for j in 1:n\n",
    "            T[i, j] = c[abs(i - j) + 1]\n",
    "        end\n",
    "    end\n",
    "    return T\n",
    "end;"
   ]
  },
  {
   "cell_type": "code",
   "execution_count": 16,
   "id": "5e2aa97c-fff0-4035-b6b3-7692fbb08554",
   "metadata": {},
   "outputs": [
    {
     "data": {
      "text/plain": [
       "4×4 Matrix{Float64}:\n",
       " 1.0  2.0  3.0  4.0\n",
       " 2.0  1.0  2.0  3.0\n",
       " 3.0  2.0  1.0  2.0\n",
       " 4.0  3.0  2.0  1.0"
      ]
     },
     "execution_count": 16,
     "metadata": {},
     "output_type": "execute_result"
    }
   ],
   "source": [
    "# Example: Toeplitz matrix with first column [1, 2, 3, 4]\n",
    "c = [1, 2, 3, 4]\n",
    "T₀ = toeplitz_matrix(c)"
   ]
  },
  {
   "cell_type": "code",
   "execution_count": 17,
   "id": "70361af6-a91a-4a5a-a392-7b4eb444fb69",
   "metadata": {},
   "outputs": [],
   "source": [
    "# Plot the Toeplitz matrix using heatmap\n",
    "plot2 = \n",
    "heatmap(T₀, xlabel=\"Column Index\", ylabel=\"Row Index\", title=\"Toeplitz Matrix\", c=:viridis)\n",
    "savefig(plot2, \"images/plot2.png\");"
   ]
  },
  {
   "cell_type": "markdown",
   "id": "2423acd3-95ba-4dac-98ab-6c422330739a",
   "metadata": {},
   "source": [
    "<img src=\"images/plot2.png\" width=\"\" height=\"\" > </img>"
   ]
  },
  {
   "cell_type": "code",
   "execution_count": 18,
   "id": "f8eccebe-8d96-4d33-921b-9db44728726f",
   "metadata": {},
   "outputs": [],
   "source": [
    "using ToeplitzMatrices"
   ]
  },
  {
   "cell_type": "code",
   "execution_count": 19,
   "id": "d17c3125-b907-4f25-8563-9f73dfa36a92",
   "metadata": {},
   "outputs": [
    {
     "data": {
      "text/plain": [
       "4×4 Toeplitz{Int64, UnitRange{Int64}, Vector{Int64}}:\n",
       " 1  2  3  4\n",
       " 2  1  2  3\n",
       " 3  2  1  2\n",
       " 4  3  2  1"
      ]
     },
     "execution_count": 19,
     "metadata": {},
     "output_type": "execute_result"
    }
   ],
   "source": [
    "# Create a Toeplitz matrix using the toeplitz function\n",
    "T = Toeplitz(1:length(c),c)"
   ]
  },
  {
   "cell_type": "code",
   "execution_count": 20,
   "id": "248dd1b1-017a-4f08-860a-bbc0db214c07",
   "metadata": {},
   "outputs": [],
   "source": [
    "# Plot the Toeplitz matrix using heatmap\n",
    "plot3 = heatmap(T, xlabel=\"Column Index\", ylabel=\"Row Index\", title=\"Toeplitz Matrix\", c=:viridis)\n",
    "savefig(plot3, \"images/plot3.png\");"
   ]
  },
  {
   "cell_type": "markdown",
   "id": "2e147e06-edcf-4bfc-a8cd-5fb31b81b9e2",
   "metadata": {},
   "source": [
    "<img src=\"images/plot2.png\" width=\"\" height=\"\" > </img>"
   ]
  },
  {
   "cell_type": "markdown",
   "id": "55ba5a81-4ace-4e14-94b2-7c7b011926d7",
   "metadata": {},
   "source": [
    "# References\n",
    "- [ ] [How to create simple covariance in Julia on a matrix](https://stackoverflow.com/questions/41879024/how-to-create-simple-covariance-in-julia-on-a-matrix)\n",
    "- [ ] [Bessel's correction](https://en.wikipedia.org/wiki/Bessel%27s_correction)\n",
    "> Bessel's correction is the use of n − 1 instead of n in the formula for the sample variance and sample standard deviation,"
   ]
  },
  {
   "cell_type": "code",
   "execution_count": 21,
   "id": "ba757db7-8467-4a3e-a3b0-6dc3ed1ec6d1",
   "metadata": {},
   "outputs": [
    {
     "name": "stdout",
     "output_type": "stream",
     "text": [
      "Matrix T₀:\n",
      "[1.0 2.0 3.0 4.0; 2.0 1.0 2.0 3.0; 3.0 2.0 1.0 2.0; 4.0 3.0 2.0 1.0]\n",
      "\n",
      "Matrix T:\n",
      "[1 2 3 4; 2 1 2 3; 3 2 1 2; 4 3 2 1]\n",
      "\n",
      "Matrix C (Product of A and B):\n",
      "[30.0 22.0 18.0 20.0; 22.0 18.0 16.0 18.0; 18.0 16.0 18.0 22.0; 20.0 18.0 22.0 30.0]\n",
      "\n",
      "Is C Toeplitz? false\n"
     ]
    }
   ],
   "source": [
    "using ToeplitzMatrices\n",
    "\n",
    "# Create two random Toeplitz matrices\n",
    "n = 4\n",
    "# a = rand(1:5, n)\n",
    "# b = rand(1:5, n)\n",
    "# A = Toeplitz(1:length(a),a)\n",
    "# B = Toeplitz(1:length(b),b)\n",
    "\n",
    "# Multiply the Toeplitz matrices\n",
    "C = T₀ * T\n",
    "\n",
    "# Check if the result is Toeplitz\n",
    "is_toeplitz = issymmetric(C) && all(diag(C, k) == diag(C, k)[1] for k in -n+1:n-1)\n",
    "\n",
    "println(\"Matrix T₀:\")\n",
    "println(T₀)\n",
    "\n",
    "println(\"\\nMatrix T:\")\n",
    "println(T)\n",
    "\n",
    "println(\"\\nMatrix C (Product of A and B):\")\n",
    "println(C)\n",
    "\n",
    "println(\"\\nIs C Toeplitz? \", is_toeplitz)\n"
   ]
  },
  {
   "cell_type": "code",
   "execution_count": 22,
   "id": "4e932587-e47c-44bc-9d73-0d1b4c30206f",
   "metadata": {},
   "outputs": [
    {
     "data": {
      "text/plain": [
       "(1, 2, 3)"
      ]
     },
     "execution_count": 22,
     "metadata": {},
     "output_type": "execute_result"
    }
   ],
   "source": [
    "x₁, x₂, x₃ = 1, 2, 3"
   ]
  },
  {
   "cell_type": "code",
   "execution_count": 23,
   "id": "57f5ceca-94dd-48cb-b999-10cf27f96a38",
   "metadata": {},
   "outputs": [
    {
     "data": {
      "text/plain": [
       "3-element Vector{Int64}:\n",
       " 1\n",
       " 2\n",
       " 3"
      ]
     },
     "execution_count": 23,
     "metadata": {},
     "output_type": "execute_result"
    }
   ],
   "source": [
    "Xₓ = [ x₁, x₂, x₃ ]"
   ]
  },
  {
   "cell_type": "code",
   "execution_count": 24,
   "id": "e720c92e-f7bc-4c78-bd29-1ec13881c516",
   "metadata": {},
   "outputs": [
    {
     "data": {
      "text/plain": [
       "true"
      ]
     },
     "execution_count": 24,
     "metadata": {},
     "output_type": "execute_result"
    }
   ],
   "source": [
    "# Create a complex matrix\n",
    "A = [1.0 + 2.0im  3.0 - 1.0im\n",
    "     4.0 + 5.0im  6.0 - 4.0im]\n",
    "\n",
    "# Calculate the complex conjugate matrix using the ' operator\n",
    "adjoint(A) == A'\n"
   ]
  },
  {
   "cell_type": "code",
   "execution_count": 25,
   "id": "63c787fa-abac-4600-a0f5-2f4babd84942",
   "metadata": {},
   "outputs": [
    {
     "data": {
      "text/plain": [
       "true"
      ]
     },
     "execution_count": 25,
     "metadata": {},
     "output_type": "execute_result"
    }
   ],
   "source": [
    "conj(A') == conj(adjoint(A))"
   ]
  },
  {
   "cell_type": "code",
   "execution_count": 26,
   "id": "60facbc2-4913-4b8f-acbd-acc807258755",
   "metadata": {},
   "outputs": [
    {
     "data": {
      "text/plain": [
       "true"
      ]
     },
     "execution_count": 26,
     "metadata": {},
     "output_type": "execute_result"
    }
   ],
   "source": [
    "conj(adjoint(A)) == adjoint(conj(A))"
   ]
  },
  {
   "cell_type": "code",
   "execution_count": 27,
   "id": "58073046-fd79-4504-8310-da46d622f4c8",
   "metadata": {},
   "outputs": [
    {
     "data": {
      "text/plain": [
       "2×2 adjoint(::Matrix{ComplexF64}) with eltype ComplexF64:\n",
       " 1.0+2.0im  4.0+5.0im\n",
       " 3.0-1.0im  6.0-4.0im"
      ]
     },
     "execution_count": 27,
     "metadata": {},
     "output_type": "execute_result"
    }
   ],
   "source": [
    "adjoint(conj(A))"
   ]
  },
  {
   "cell_type": "code",
   "execution_count": 28,
   "id": "427b7f6b-29c7-4067-9ebd-544cf8354417",
   "metadata": {},
   "outputs": [
    {
     "data": {
      "text/plain": [
       "2×2 transpose(::Matrix{ComplexF64}) with eltype ComplexF64:\n",
       " 1.0-2.0im  4.0-5.0im\n",
       " 3.0+1.0im  6.0+4.0im"
      ]
     },
     "execution_count": 28,
     "metadata": {},
     "output_type": "execute_result"
    }
   ],
   "source": [
    "H = transpose(conj(A))"
   ]
  },
  {
   "cell_type": "code",
   "execution_count": 29,
   "id": "4fb2829a-2761-49b2-a7fa-e24d253e8268",
   "metadata": {},
   "outputs": [
    {
     "data": {
      "text/plain": [
       "2×2 adjoint(::Matrix{ComplexF64}) with eltype ComplexF64:\n",
       " 1.0-2.0im  4.0-5.0im\n",
       " 3.0+1.0im  6.0+4.0im"
      ]
     },
     "execution_count": 29,
     "metadata": {},
     "output_type": "execute_result"
    }
   ],
   "source": [
    "adjoint(A)"
   ]
  },
  {
   "cell_type": "code",
   "execution_count": 30,
   "id": "fee73207-e0d1-4b9e-8f5c-ed786afee60b",
   "metadata": {},
   "outputs": [
    {
     "data": {
      "text/plain": [
       "2×2 transpose(::Matrix{ComplexF64}) with eltype ComplexF64:\n",
       " 1.0+2.0im  4.0+5.0im\n",
       " 3.0-1.0im  6.0-4.0im"
      ]
     },
     "execution_count": 30,
     "metadata": {},
     "output_type": "execute_result"
    }
   ],
   "source": [
    "transpose(A)"
   ]
  },
  {
   "cell_type": "code",
   "execution_count": 31,
   "id": "d2654da8-9435-4af2-b1a8-4fe97200091f",
   "metadata": {},
   "outputs": [
    {
     "data": {
      "text/plain": [
       "2×2 Matrix{ComplexF64}:\n",
       " 1.0-2.0im  3.0+1.0im\n",
       " 4.0-5.0im  6.0+4.0im"
      ]
     },
     "execution_count": 31,
     "metadata": {},
     "output_type": "execute_result"
    }
   ],
   "source": [
    "conj(A)"
   ]
  },
  {
   "cell_type": "code",
   "execution_count": 32,
   "id": "3861a967-5e40-4039-9545-5fd31c584370",
   "metadata": {},
   "outputs": [
    {
     "data": {
      "text/plain": [
       "2×2 Matrix{ComplexF64}:\n",
       " 1.0+2.0im  3.0-1.0im\n",
       " 4.0+5.0im  6.0-4.0im"
      ]
     },
     "execution_count": 32,
     "metadata": {},
     "output_type": "execute_result"
    }
   ],
   "source": [
    "A"
   ]
  },
  {
   "cell_type": "code",
   "execution_count": 33,
   "id": "3b3770db-3241-4548-bba1-c010db4b47e2",
   "metadata": {},
   "outputs": [
    {
     "data": {
      "text/plain": [
       "2×2 Matrix{ComplexF64}:\n",
       " 1.0-2.0im  3.0+1.0im\n",
       " 4.0-5.0im  6.0+4.0im"
      ]
     },
     "execution_count": 33,
     "metadata": {},
     "output_type": "execute_result"
    }
   ],
   "source": [
    "z1 = A\n",
    "z2 = conj(A)"
   ]
  },
  {
   "cell_type": "code",
   "execution_count": 34,
   "id": "7465b717-fb29-43a1-ba3d-03ce928454f2",
   "metadata": {},
   "outputs": [
    {
     "data": {
      "text/plain": [
       "1.0 + 2.0im"
      ]
     },
     "execution_count": 34,
     "metadata": {},
     "output_type": "execute_result"
    }
   ],
   "source": [
    "A[1]"
   ]
  },
  {
   "cell_type": "code",
   "execution_count": 42,
   "id": "3449210e-d5d7-4770-98b9-a53fd13f766b",
   "metadata": {},
   "outputs": [],
   "source": [
    "using Plots\n",
    "\n",
    "# Define the complex matrix A\n",
    "A = [1.0 + 2.0im  3.0 - 1.0im\n",
    "     4.0 + 5.0im  6.0 - 4.0im]\n",
    "\n",
    "# Plot the complex numbers in the complex plane\n",
    "plot4 =\n",
    "scatter(real(A)\n",
    "    , imag(A)\n",
    "    , markersize=8\n",
    "    , label=\"Matrix A\"\n",
    "    , xlabel=\"Real\"\n",
    "    , ylabel=\"Imaginary\"\n",
    "    , legend=:topleft\n",
    "    , ratio=1\n",
    ")\n",
    "# Plot the complex conjugate in the complex plane\n",
    "plot4 = \n",
    "scatter!(real((A)ᴴ)\n",
    "    , imag((A)ᴴ)\n",
    "    , label=\"Matrix Aᴴ\"\n",
    "    , markersize=20\n",
    "\n",
    ")\n",
    "savefig(plot4,\"images/plot4.png\");"
   ]
  },
  {
   "cell_type": "markdown",
   "id": "a5e48f1d-666d-4eee-8046-cb7d614383c9",
   "metadata": {},
   "source": [
    "<img src=\"images/plot4.png\" width='' height='' ></img>"
   ]
  },
  {
   "cell_type": "code",
   "execution_count": 43,
   "id": "82c95c16-7177-4827-af27-7c3eff51cad3",
   "metadata": {},
   "outputs": [
    {
     "name": "stdout",
     "output_type": "stream",
     "text": [
      "Complex-Valued Matrix B:\n",
      "ComplexF64[1.0 + 2.0im 3.0 - 1.0im 5.0 + 0.5im; 4.0 + 5.0im 6.0 - 4.0im 2.0 - 3.0im; 0.0 - 1.5im 2.0 + 3.0im 7.0 + 1.0im]\n"
     ]
    }
   ],
   "source": [
    "# Define a square complex-valued matrix\n",
    "B = [1.0 + 2.0im  3.0 - 1.0im  5.0 + 0.5im\n",
    "     4.0 + 5.0im  6.0 - 4.0im  2.0 - 3.0im\n",
    "     0.0 - 1.5im  2.0 + 3.0im  7.0 + 1.0im]\n",
    "\n",
    "# Display the matrix\n",
    "println(\"Complex-Valued Matrix B:\")\n",
    "println(B)\n"
   ]
  },
  {
   "cell_type": "code",
   "execution_count": 44,
   "id": "b0ea799f-f643-4c6d-8a61-5f317795322b",
   "metadata": {},
   "outputs": [
    {
     "data": {
      "text/plain": [
       "false"
      ]
     },
     "execution_count": 44,
     "metadata": {},
     "output_type": "execute_result"
    }
   ],
   "source": [
    "B == (B)ᴴ"
   ]
  },
  {
   "cell_type": "code",
   "execution_count": 45,
   "id": "db1867be-8d77-41dd-a7c9-be89d721a797",
   "metadata": {},
   "outputs": [
    {
     "data": {
      "text/plain": [
       "false"
      ]
     },
     "execution_count": 45,
     "metadata": {},
     "output_type": "execute_result"
    }
   ],
   "source": [
    "B == conj(transpose(B))"
   ]
  },
  {
   "cell_type": "code",
   "execution_count": 46,
   "id": "78134a07-f631-4379-b283-108d87dd13c9",
   "metadata": {},
   "outputs": [
    {
     "name": "stdout",
     "output_type": "stream",
     "text": [
      "Complex-Valued Matrix C:\n",
      "ComplexF64[1.0 + 2.0im 3.0 - 1.0im; 4.0 + 5.0im 6.0 - 4.0im]\n",
      "\n",
      "Transpose of Complex-Valued Matrix C:\n",
      "ComplexF64[1.0 + 2.0im 4.0 + 5.0im; 3.0 - 1.0im 6.0 - 4.0im]\n",
      "\n",
      "Complex Conjugate of Transposed Matrix:\n",
      "ComplexF64[1.0 - 2.0im 4.0 - 5.0im; 3.0 + 1.0im 6.0 + 4.0im]\n"
     ]
    }
   ],
   "source": [
    "# Define a complex-valued matrix\n",
    "C = [1.0 + 2.0im  3.0 - 1.0im\n",
    "     4.0 + 5.0im  6.0 - 4.0im]\n",
    "\n",
    "# Display the original complex-valued matrix\n",
    "println(\"Complex-Valued Matrix C:\")\n",
    "println(C)\n",
    "\n",
    "# Calculate and display the transpose of the matrix\n",
    "C_transpose = transpose(C)\n",
    "println(\"\\nTranspose of Complex-Valued Matrix C:\")\n",
    "println(C_transpose)\n",
    "\n",
    "# Calculate and display the complex conjugate of the transposed matrix\n",
    "C_conjugate_transpose = conj(C_transpose)\n",
    "println(\"\\nComplex Conjugate of Transposed Matrix:\")\n",
    "println(C_conjugate_transpose)\n"
   ]
  },
  {
   "cell_type": "code",
   "execution_count": 48,
   "id": "40871e71-07a6-4ef1-9e0b-847df77fd316",
   "metadata": {},
   "outputs": [],
   "source": [
    "# Plot the complex numbers in the complex plane\n",
    "plot5 = scatter(real(C)\n",
    "    , imag(C)\n",
    "    , markersize=8\n",
    "    , label=\"Matrix C\"\n",
    "    , xlabel=\"Real\"\n",
    "    , ylabel=\"Imaginary\"\n",
    "    , legend=:topleft\n",
    "    , ratio=1\n",
    ")\n",
    "# Plot the complex conjugate in the complex plane\n",
    "plot5 = scatter!(real(C_conjugate_transpose)\n",
    "    , imag(C_conjugate_transpose)\n",
    "    , label=\"Matrix C_conjugate_transposeᴴ\"\n",
    "    , markersize=20\n",
    "\n",
    ")\n",
    "savefig(plot5,\"images/plot5.png\");"
   ]
  },
  {
   "cell_type": "markdown",
   "id": "d8981ac8-927f-41eb-bb0a-9cee4f6a72a4",
   "metadata": {},
   "source": [
    "<img src=\"images/plot5.png\" width='' height='' ></img>"
   ]
  },
  {
   "cell_type": "code",
   "execution_count": 49,
   "id": "77e11ca7-3c26-4f2d-a7ef-752adea00cab",
   "metadata": {},
   "outputs": [
    {
     "data": {
      "text/plain": [
       "true"
      ]
     },
     "execution_count": 49,
     "metadata": {},
     "output_type": "execute_result"
    }
   ],
   "source": [
    "A == C"
   ]
  },
  {
   "cell_type": "code",
   "execution_count": 50,
   "id": "b429f0a6-6e54-41b6-a54f-e730268e1706",
   "metadata": {},
   "outputs": [
    {
     "data": {
      "text/plain": [
       "true"
      ]
     },
     "execution_count": 50,
     "metadata": {},
     "output_type": "execute_result"
    }
   ],
   "source": [
    "(A)ᴴ == C_conjugate_transpose"
   ]
  },
  {
   "cell_type": "code",
   "execution_count": null,
   "id": "a8c3dba8-dd81-49e2-a4af-ad2df369896a",
   "metadata": {},
   "outputs": [],
   "source": []
  }
 ],
 "metadata": {
  "kernelspec": {
   "display_name": "Julia 1.9.3",
   "language": "julia",
   "name": "julia-1.9"
  },
  "language_info": {
   "file_extension": ".jl",
   "mimetype": "application/julia",
   "name": "julia",
   "version": "1.10.0"
  }
 },
 "nbformat": 4,
 "nbformat_minor": 5
}
