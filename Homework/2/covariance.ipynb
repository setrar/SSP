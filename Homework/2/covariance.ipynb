{
 "cells": [
  {
   "cell_type": "markdown",
   "id": "0c972eff-e70b-42ab-adf0-761a7a53922c",
   "metadata": {},
   "source": [
    "The covariance matrix is given by the matrix inversion lemma (also known as the Woodbury matrix identity). \n",
    "\n",
    "The expression is:\n",
    "\n",
    "$ C_{\\theta | Y} = (C_{\\theta\\theta}^{-1} + H^T C_{VV}^{-1} H)^{-1} $\n",
    "\n",
    "The covariance matrix in a Bayesian linear regression context."
   ]
  },
  {
   "cell_type": "code",
   "execution_count": 17,
   "id": "faf40cf6-9caa-4708-97b1-49a6963d4a91",
   "metadata": {},
   "outputs": [],
   "source": [
    "using FFTW"
   ]
  },
  {
   "cell_type": "code",
   "execution_count": 18,
   "id": "8ca80580-432f-4497-b69b-530d8ca1f639",
   "metadata": {},
   "outputs": [],
   "source": [
    "include(\"operations.jl\");"
   ]
  },
  {
   "cell_type": "code",
   "execution_count": 19,
   "id": "0476a6ce-7c53-4664-91de-73539e312a07",
   "metadata": {},
   "outputs": [
    {
     "data": {
      "text/plain": [
       "UniformScaling{Float64}\n",
       "10.0*I"
      ]
     },
     "execution_count": 19,
     "metadata": {},
     "output_type": "execute_result"
    }
   ],
   "source": [
    "using LinearAlgebra\n",
    "using Distributions\n",
    "\n",
    "# Simulated data\n",
    "Y = [1.0, 2.0, 3.0]\n",
    "H = [1.0; 2.0; 3.0]\n",
    "\n",
    "# Prior covariance matrix (assuming it's a diagonal matrix for simplicity)\n",
    "c₀₀ = Diagonal([1.0])\n",
    "\n",
    "# Likelihood (assuming Gaussian errors)\n",
    "cᵥᵥ = 0.1 * I; cᵥᵥ⁻¹ = inv(cᵥᵥ)"
   ]
  },
  {
   "cell_type": "code",
   "execution_count": 20,
   "id": "21396959-4797-485d-a9d8-e58b4a267d78",
   "metadata": {},
   "outputs": [
    {
     "data": {
      "text/plain": [
       "3×1 Matrix{Float64}:\n",
       " 0.09090909090909091\n",
       " 0.024390243902439025\n",
       " 0.01098901098901099"
      ]
     },
     "execution_count": 20,
     "metadata": {},
     "output_type": "execute_result"
    }
   ],
   "source": [
    "# Bayesian update to calculate posterior covariance\n",
    "# Using Transpose Matrix Hᵀ (3x1)\n",
    "c₀ₗᵥ = ((c₀₀)⁻¹ .+ (H)ᵀ *  cᵥᵥ⁻¹ .* H)⁻¹"
   ]
  },
  {
   "cell_type": "code",
   "execution_count": 21,
   "id": "efc74897-cbae-4a43-9ebb-c28a82e12c4d",
   "metadata": {},
   "outputs": [],
   "source": [
    "using Plots\n",
    "\n",
    "# Plotting the covariance matrix as a heatmap\n",
    "plot1 = heatmap(c₀ₗᵥ, xlabel=\"Variables\", ylabel=\"Variables\", title=\"Covariance Matrix\", c=:viridis)\n",
    "savefig(plot1,\"images/plot1.png\");"
   ]
  },
  {
   "cell_type": "markdown",
   "id": "00094a49-f00f-4348-b06a-43066f178223",
   "metadata": {},
   "source": [
    "<img src=\"images/plot1.png\" width='' height='' > </img>"
   ]
  },
  {
   "cell_type": "code",
   "execution_count": 22,
   "id": "eddf811d-b75a-4104-b45e-51ad7be1bd46",
   "metadata": {},
   "outputs": [
    {
     "data": {
      "text/plain": [
       "3×3 Matrix{Float64}:\n",
       " 0.0909091  0.047619   0.0322581\n",
       " 0.047619   0.0243902  0.0163934\n",
       " 0.0322581  0.0163934  0.010989"
      ]
     },
     "execution_count": 22,
     "metadata": {},
     "output_type": "execute_result"
    }
   ],
   "source": [
    "# Bayesian update to calculate posterior covariance\n",
    "# Using Ajoint Matrix H' (3x3)\n",
    "c₀ₗᵥᵃ = ((c₀₀)⁻¹ .+ H' *  cᵥᵥ⁻¹ .* H)⁻¹"
   ]
  },
  {
   "cell_type": "code",
   "execution_count": 23,
   "id": "2774c6ad-5a5c-4361-937c-da30d1d8a772",
   "metadata": {},
   "outputs": [],
   "source": [
    "# Plotting the covariance matrix as a heatmap\n",
    "plot2 = heatmap(c₀ₗᵥᵃ, xlabel=\"Variables\", ylabel=\"Variables\", title=\"Covariance Matrix\", c=:viridis)\n",
    "savefig(plot2,\"images/plot2.png\");"
   ]
  },
  {
   "cell_type": "markdown",
   "id": "eac01fd7-8d61-4c54-8f66-cee5376a5757",
   "metadata": {},
   "source": [
    "<img src=\"images/plot2.png\" width='' height='' > </img>"
   ]
  },
  {
   "cell_type": "code",
   "execution_count": null,
   "id": "cb750a94-9b2d-4c29-bfe1-c4f7917c73c7",
   "metadata": {},
   "outputs": [],
   "source": []
  }
 ],
 "metadata": {
  "kernelspec": {
   "display_name": "Julia 1.9.3",
   "language": "julia",
   "name": "julia-1.9"
  },
  "language_info": {
   "file_extension": ".jl",
   "mimetype": "application/julia",
   "name": "julia",
   "version": "1.10.0"
  }
 },
 "nbformat": 4,
 "nbformat_minor": 5
}
