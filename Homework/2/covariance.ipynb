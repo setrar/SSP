{
 "cells": [
  {
   "cell_type": "markdown",
   "id": "0c972eff-e70b-42ab-adf0-761a7a53922c",
   "metadata": {},
   "source": [
    "The covariance matrix is given by the matrix inversion lemma (also known as the Woodbury matrix identity). \n",
    "\n",
    "The expression is:\n",
    "\n",
    "$ C_{\\theta | Y} = (C_{\\theta\\theta}^{-1} + H^T C_{VV}^{-1} H)^{-1} $\n",
    "\n",
    "The covariance matrix in a Bayesian linear regression context."
   ]
  },
  {
   "cell_type": "code",
   "execution_count": 1,
   "id": "faf40cf6-9caa-4708-97b1-49a6963d4a91",
   "metadata": {},
   "outputs": [],
   "source": [
    "using FFTW"
   ]
  },
  {
   "cell_type": "code",
   "execution_count": 69,
   "id": "8ca80580-432f-4497-b69b-530d8ca1f639",
   "metadata": {},
   "outputs": [],
   "source": [
    "include(\"operations.jl\");"
   ]
  },
  {
   "cell_type": "code",
   "execution_count": 74,
   "id": "0476a6ce-7c53-4664-91de-73539e312a07",
   "metadata": {},
   "outputs": [
    {
     "data": {
      "text/plain": [
       "UniformScaling{Float64}\n",
       "0.1*I"
      ]
     },
     "execution_count": 74,
     "metadata": {},
     "output_type": "execute_result"
    }
   ],
   "source": [
    "using LinearAlgebra\n",
    "using Distributions: cov, vec\n",
    "\n",
    "# Simulated data\n",
    "Y = [1.0, 2.0, 3.0]\n",
    "H = [1.0; 2.0; 3.0]\n",
    "\n",
    "# Prior covariance matrix (assuming it's a diagonal matrix for simplicity)\n",
    "c₀₀ = Diagonal([1.0])\n",
    "\n",
    "# Likelihood (assuming Gaussian errors)\n",
    "cᵥᵥ = 0.1 * I"
   ]
  },
  {
   "cell_type": "code",
   "execution_count": 91,
   "id": "21396959-4797-485d-a9d8-e58b4a267d78",
   "metadata": {},
   "outputs": [
    {
     "data": {
      "text/plain": [
       "3×3 Matrix{Float64}:\n",
       "  1.59192e14  -3.18384e14   1.59192e14\n",
       " -3.18384e14   6.36769e14  -3.18384e14\n",
       "  1.59192e14  -3.18384e14   1.59192e14"
      ]
     },
     "execution_count": 91,
     "metadata": {},
     "output_type": "execute_result"
    }
   ],
   "source": [
    "# Bayesian update to calculate posterior covariance\n",
    "c₀ₗᵥ = ((c₀₀)⁻¹ .+ (H)ᵀ *  (cᵥᵥ)⁻¹ .* H)⁻¹"
   ]
  },
  {
   "cell_type": "code",
   "execution_count": 92,
   "id": "efc74897-cbae-4a43-9ebb-c28a82e12c4d",
   "metadata": {},
   "outputs": [],
   "source": [
    "using Plots\n",
    "\n",
    "# Plotting the covariance matrix as a heatmap\n",
    "plot1 = heatmap(c₀ₗᵥ, xlabel=\"Variables\", ylabel=\"Variables\", title=\"Covariance Matrix\", c=:viridis)\n",
    "savefig(plot1,\"images/plot1.png\");"
   ]
  },
  {
   "cell_type": "markdown",
   "id": "b5d498dc-e8a3-46b7-a1fc-d2267f5ce352",
   "metadata": {},
   "source": [
    "<img src=\"images/plot1.png\" width='' height='' > </img>"
   ]
  },
  {
   "cell_type": "markdown",
   "id": "f6aefdfb-95e6-4f66-a4ae-2e36b4239776",
   "metadata": {},
   "source": [
    "### Covariance Numerical Example"
   ]
  },
  {
   "cell_type": "code",
   "execution_count": 119,
   "id": "2cb4883a-2026-444b-930f-9837a06327c7",
   "metadata": {},
   "outputs": [
    {
     "data": {
      "text/plain": [
       "1×4 Matrix{Float64}:\n",
       " 0.05  0.2  -0.12  0.09"
      ]
     },
     "execution_count": 119,
     "metadata": {},
     "output_type": "execute_result"
    }
   ],
   "source": [
    "Supertech = [-.2 .1 .3 .5] \n",
    "Slowpoke = [.05 .2 -.12 .09] # space separator means Row Vector"
   ]
  },
  {
   "cell_type": "code",
   "execution_count": 120,
   "id": "1daef11e-e511-4c7a-b72d-f3861c1aa2b4",
   "metadata": {},
   "outputs": [
    {
     "data": {
      "text/plain": [
       "4-element Vector{Float64}:\n",
       "  0.05\n",
       "  0.2\n",
       " -0.12\n",
       "  0.09"
      ]
     },
     "execution_count": 120,
     "metadata": {},
     "output_type": "execute_result"
    }
   ],
   "source": [
    "vec(Slowpoke) # use vec to convert to Column Vector"
   ]
  },
  {
   "cell_type": "code",
   "execution_count": 121,
   "id": "5bb71c4d-fd12-4a7c-a2e7-42b5b89ad2ab",
   "metadata": {},
   "outputs": [
    {
     "data": {
      "text/plain": [
       "-0.004875"
      ]
     },
     "execution_count": 121,
     "metadata": {},
     "output_type": "execute_result"
    }
   ],
   "source": [
    "# Excel is using the \"uncorrected\" covariance\n",
    "answer = -0.004875 # Scalar"
   ]
  },
  {
   "cell_type": "code",
   "execution_count": 122,
   "id": "dbeabef7-b878-46f0-9215-cdf021069cf2",
   "metadata": {},
   "outputs": [
    {
     "data": {
      "text/plain": [
       "false"
      ]
     },
     "execution_count": 122,
     "metadata": {},
     "output_type": "execute_result"
    }
   ],
   "source": [
    "answer == cov(vec(Supertech), vec(Slowpoke))"
   ]
  },
  {
   "cell_type": "code",
   "execution_count": 123,
   "id": "9f1f6c29-8656-4211-b13a-7c9780722cbc",
   "metadata": {},
   "outputs": [
    {
     "data": {
      "text/plain": [
       "true"
      ]
     },
     "execution_count": 123,
     "metadata": {},
     "output_type": "execute_result"
    }
   ],
   "source": [
    "answer == cov(vec(Supertech), vec(Slowpoke), corrected=false)"
   ]
  },
  {
   "cell_type": "code",
   "execution_count": 124,
   "id": "3229df12-b92a-47bf-9dd6-c06d6eab37a7",
   "metadata": {},
   "outputs": [
    {
     "data": {
      "text/plain": [
       "false"
      ]
     },
     "execution_count": 124,
     "metadata": {},
     "output_type": "execute_result"
    }
   ],
   "source": [
    "H' == transpose.(H) "
   ]
  },
  {
   "cell_type": "code",
   "execution_count": 125,
   "id": "81107074-b693-46cf-9ae0-e904776774de",
   "metadata": {},
   "outputs": [
    {
     "data": {
      "text/plain": [
       "true"
      ]
     },
     "execution_count": 125,
     "metadata": {},
     "output_type": "execute_result"
    }
   ],
   "source": [
    "H == transpose.(H) # Transpose element-wise doesn't do a thing bug ??"
   ]
  },
  {
   "cell_type": "code",
   "execution_count": 126,
   "id": "120ba005-f0f4-4815-a9df-4027436a296c",
   "metadata": {},
   "outputs": [
    {
     "data": {
      "text/plain": [
       "true"
      ]
     },
     "execution_count": 126,
     "metadata": {},
     "output_type": "execute_result"
    }
   ],
   "source": [
    "transpose(H) == permutedims(H) == H'"
   ]
  },
  {
   "cell_type": "markdown",
   "id": "09711dde-d849-4b10-9978-e95875a48d65",
   "metadata": {},
   "source": [
    "### Toeplitz Matrix Example"
   ]
  },
  {
   "cell_type": "code",
   "execution_count": 165,
   "id": "450c2635-832a-42cd-b313-0c36137bac50",
   "metadata": {},
   "outputs": [],
   "source": [
    "using Plots"
   ]
  },
  {
   "cell_type": "code",
   "execution_count": 166,
   "id": "7972744e-9a5b-4d22-9cd2-4b9f1806ad59",
   "metadata": {},
   "outputs": [],
   "source": [
    "# Function to generate a Toeplitz matrix\n",
    "function toeplitz_matrix(c)\n",
    "    n = length(c)\n",
    "    T = zeros(n, n)\n",
    "    for i in 1:n\n",
    "        for j in 1:n\n",
    "            T[i, j] = c[abs(i - j) + 1]\n",
    "        end\n",
    "    end\n",
    "    return T\n",
    "end;"
   ]
  },
  {
   "cell_type": "code",
   "execution_count": 168,
   "id": "5e2aa97c-fff0-4035-b6b3-7692fbb08554",
   "metadata": {},
   "outputs": [
    {
     "data": {
      "text/plain": [
       "4×4 Matrix{Float64}:\n",
       " 1.0  2.0  3.0  4.0\n",
       " 2.0  1.0  2.0  3.0\n",
       " 3.0  2.0  1.0  2.0\n",
       " 4.0  3.0  2.0  1.0"
      ]
     },
     "execution_count": 168,
     "metadata": {},
     "output_type": "execute_result"
    }
   ],
   "source": [
    "# Example: Toeplitz matrix with first column [1, 2, 3, 4]\n",
    "c = [1, 2, 3, 4]\n",
    "T₀ = toeplitz_matrix(c)"
   ]
  },
  {
   "cell_type": "code",
   "execution_count": 169,
   "id": "70361af6-a91a-4a5a-a392-7b4eb444fb69",
   "metadata": {},
   "outputs": [],
   "source": [
    "# Plot the Toeplitz matrix using heatmap\n",
    "plot2 = \n",
    "heatmap(T₀, xlabel=\"Column Index\", ylabel=\"Row Index\", title=\"Toeplitz Matrix\", c=:viridis)\n",
    "savefig(plot2, \"images/plot2.png\");"
   ]
  },
  {
   "cell_type": "markdown",
   "id": "2423acd3-95ba-4dac-98ab-6c422330739a",
   "metadata": {},
   "source": [
    "<img src=\"images/plot2.png\" width=\"\" height=\"\" > </img>"
   ]
  },
  {
   "cell_type": "code",
   "execution_count": 170,
   "id": "f8eccebe-8d96-4d33-921b-9db44728726f",
   "metadata": {},
   "outputs": [],
   "source": [
    "using ToeplitzMatrices"
   ]
  },
  {
   "cell_type": "code",
   "execution_count": 171,
   "id": "d17c3125-b907-4f25-8563-9f73dfa36a92",
   "metadata": {},
   "outputs": [
    {
     "data": {
      "text/plain": [
       "4×4 Toeplitz{Int64, UnitRange{Int64}, Vector{Int64}}:\n",
       " 1  2  3  4\n",
       " 2  1  2  3\n",
       " 3  2  1  2\n",
       " 4  3  2  1"
      ]
     },
     "execution_count": 171,
     "metadata": {},
     "output_type": "execute_result"
    }
   ],
   "source": [
    "# Create a Toeplitz matrix using the toeplitz function\n",
    "T = Toeplitz(1:length(c),c)"
   ]
  },
  {
   "cell_type": "code",
   "execution_count": 172,
   "id": "248dd1b1-017a-4f08-860a-bbc0db214c07",
   "metadata": {},
   "outputs": [],
   "source": [
    "# Plot the Toeplitz matrix using heatmap\n",
    "plot3 = heatmap(T, xlabel=\"Column Index\", ylabel=\"Row Index\", title=\"Toeplitz Matrix\", c=:viridis)\n",
    "savefig(plot3, \"images/plot3.png\");"
   ]
  },
  {
   "cell_type": "markdown",
   "id": "2e147e06-edcf-4bfc-a8cd-5fb31b81b9e2",
   "metadata": {},
   "source": [
    "<img src=\"images/plot2.png\" width=\"\" height=\"\" > </img>"
   ]
  },
  {
   "cell_type": "markdown",
   "id": "55ba5a81-4ace-4e14-94b2-7c7b011926d7",
   "metadata": {},
   "source": [
    "# References\n",
    "- [ ] [How to create simple covariance in Julia on a matrix](https://stackoverflow.com/questions/41879024/how-to-create-simple-covariance-in-julia-on-a-matrix)\n",
    "- [ ] [Bessel's correction](https://en.wikipedia.org/wiki/Bessel%27s_correction)\n",
    "> Bessel's correction is the use of n − 1 instead of n in the formula for the sample variance and sample standard deviation,"
   ]
  },
  {
   "cell_type": "code",
   "execution_count": null,
   "id": "ba757db7-8467-4a3e-a3b0-6dc3ed1ec6d1",
   "metadata": {},
   "outputs": [],
   "source": []
  }
 ],
 "metadata": {
  "kernelspec": {
   "display_name": "Julia 1.9.3",
   "language": "julia",
   "name": "julia-1.9"
  },
  "language_info": {
   "file_extension": ".jl",
   "mimetype": "application/julia",
   "name": "julia",
   "version": "1.10.0"
  }
 },
 "nbformat": 4,
 "nbformat_minor": 5
}
