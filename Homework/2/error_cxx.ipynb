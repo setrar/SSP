{
 "cells": [
  {
   "cell_type": "code",
   "execution_count": 1,
   "id": "dce8e36a-5fa8-48c1-a3d1-b38e4e3bad60",
   "metadata": {},
   "outputs": [],
   "source": [
    "using Distributions\n",
    "using LinearAlgebra\n",
    "using Random"
   ]
  },
  {
   "cell_type": "code",
   "execution_count": 2,
   "id": "308c0c29-e94e-48a3-8b87-b29d6859f5b3",
   "metadata": {},
   "outputs": [
    {
     "data": {
      "text/plain": [
       "generate_noisy_observations (generic function with 1 method)"
      ]
     },
     "execution_count": 2,
     "metadata": {},
     "output_type": "execute_result"
    }
   ],
   "source": [
    "# Function to generate noisy observations\n",
    "function generate_noisy_observations(θ, noise_std, num_samples)\n",
    "    X = hcat(ones(num_samples), randn(num_samples))  # Design matrix\n",
    "    true_y = X * θ\n",
    "    noisy_y = true_y + noise_std * randn(num_samples)\n",
    "    return X, noisy_y\n",
    "end"
   ]
  },
  {
   "cell_type": "code",
   "execution_count": 3,
   "id": "a352738d-548c-4803-8c22-b9cd635d3a4e",
   "metadata": {},
   "outputs": [],
   "source": [
    "# True parameter vector\n",
    "θ_true = [2.0, 3.0]\n",
    "\n",
    "# Parameters\n",
    "noise_std = 0.5\n",
    "num_samples = 100\n",
    "\n",
    "# Generate noisy observations\n",
    "X, noisy_y = generate_noisy_observations(θ_true, noise_std, num_samples);"
   ]
  },
  {
   "cell_type": "code",
   "execution_count": 4,
   "id": "a7a04b90-d339-40d8-9193-e387a5c3887d",
   "metadata": {},
   "outputs": [
    {
     "data": {
      "text/plain": [
       "0.2151273045159439"
      ]
     },
     "execution_count": 4,
     "metadata": {},
     "output_type": "execute_result"
    }
   ],
   "source": [
    "# Estimate the parameter vector using least squares\n",
    "θ_est = X \\ noisy_y\n",
    "\n",
    "# Calculate the residuals (error vector)\n",
    "residuals = noisy_y - X * θ_est\n",
    "\n",
    "# Calculate the error covariance matrix\n",
    "error_covariance_matrix = cov(residuals)"
   ]
  },
  {
   "cell_type": "code",
   "execution_count": 5,
   "id": "57e5572a-17de-4f15-9c23-f31a33b9edec",
   "metadata": {},
   "outputs": [
    {
     "name": "stdout",
     "output_type": "stream",
     "text": [
      "True θ: [2.0, 3.0]\n",
      "Estimated θ: [1.878146547742615, 3.0267350363721164]\n",
      "Error Covariance Matrix:\n",
      "0.2151273045159439\n"
     ]
    }
   ],
   "source": [
    "# Display the results\n",
    "println(\"True θ: $θ_true\")\n",
    "println(\"Estimated θ: $θ_est\")\n",
    "println(\"Error Covariance Matrix:\")\n",
    "println(error_covariance_matrix)"
   ]
  },
  {
   "cell_type": "code",
   "execution_count": null,
   "id": "07ebfbec-f169-44e5-ab54-107c0bec07b5",
   "metadata": {},
   "outputs": [],
   "source": []
  }
 ],
 "metadata": {
  "kernelspec": {
   "display_name": "Julia 1.9.3",
   "language": "julia",
   "name": "julia-1.9"
  },
  "language_info": {
   "file_extension": ".jl",
   "mimetype": "application/julia",
   "name": "julia",
   "version": "1.10.0"
  }
 },
 "nbformat": 4,
 "nbformat_minor": 5
}
