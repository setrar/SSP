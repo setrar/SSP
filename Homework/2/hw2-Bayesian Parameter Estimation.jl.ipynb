{
 "cells": [
  {
   "cell_type": "markdown",
   "id": "d2cf2736-0a7c-449c-975a-3c894fd5487b",
   "metadata": {},
   "source": [
    "# Bayesian Parameter Estimation"
   ]
  },
  {
   "cell_type": "markdown",
   "id": "faea806e-6b6b-4915-a035-4d59ad3bda89",
   "metadata": {},
   "source": [
    "### ${\\color{Purple}1.}$ On the Beneficial Bias of MMSE Estimation"
   ]
  },
  {
   "cell_type": "markdown",
   "id": "8c40d8c7-dbcb-42fa-8df5-9eb54bae99de",
   "metadata": {},
   "source": [
    "Consider the Bayesian linear model $Y = H \\theta+V$ with $\\theta \\sim N(0,C_{\\theta\\theta})$ and $V \\sim N(0,C_{VV} )$ independent (we consider here $m_{\\theta} = 0$ for simplicity).\n"
   ]
  },
  {
   "cell_type": "markdown",
   "id": "9618c649-90dc-44b4-8e6a-a34d39768977",
   "metadata": {},
   "source": [
    "#### ${\\color{Green}(a)}$ The LMMSE estimator is $\\hat{\\theta}_{LMMSE} = C_{\\theta Y} C_{YY}^{−1}Y =(C_{\\theta\\theta}^{−1}+ H^T C_{VV}^{−1} H)^{−1} H^T C_{VV}^{−1} Y $."
   ]
  },
  {
   "cell_type": "markdown",
   "id": "4474431d-6b8f-49ae-873a-c1408da605aa",
   "metadata": {},
   "source": [
    "- What are the unconstrained (non-linear) MMSE and the MAP estimators?"
   ]
  },
  {
   "cell_type": "markdown",
   "id": "81b1c6c9-c915-461b-98f9-80cab57177c1",
   "metadata": {},
   "source": [
    "#### ${\\color{Green}(b)}$ What is the error covariance matrix ?\n",
    "$$\n",
    "R_{\\tilde{\\theta}\\tilde{\\theta}}^{LMMSE}= E_{\\theta} E_{Y|\\theta} \\tilde{\\theta}_{LMMSE}\\tilde{\\theta}^T_{LMMSE}\n",
    "$$"
   ]
  },
  {
   "cell_type": "markdown",
   "id": "0641a558-4bf8-46a2-ad92-941e78dc1abc",
   "metadata": {},
   "source": [
    "#### ${\\color{Green}(c)}$ The conditional bias of an estimator $\\hat{\\theta}$ is $b_{\\hat{\\theta}}(\\theta) = E_{Y | \\theta} \\hat{\\theta}(Y) − \\theta.$\n",
    "The BLUE estimator is the LMMSE estimator under the constraint of conditional unbiasedness. So $b_{BLUE}(\\theta) = 0$.\n"
   ]
  },
  {
   "cell_type": "markdown",
   "id": "087798b5-ea8a-4c8f-b18f-902daef0b01f",
   "metadata": {},
   "source": [
    "- What is $\\hat{\\theta}_{BLUE}$ in terms of the quantities appearing in the Bayesian linear model  considered here?"
   ]
  },
  {
   "cell_type": "markdown",
   "id": "62356e16-763e-41c0-b556-ae4250a1b0a4",
   "metadata": {},
   "source": [
    "- Is there another classical deterministic estimator that equals $\\hat{\\theta}_{BLUE}$ in this case?"
   ]
  },
  {
   "cell_type": "markdown",
   "id": "0610def5-f45b-4bc2-8d9d-a478c24925ee",
   "metadata": {},
   "source": [
    "#### ${\\color{Green}(d)}$ What is the error covariance matrix ?"
   ]
  },
  {
   "cell_type": "markdown",
   "id": "34cfdd4b-7026-44d0-84bb-93aaee87dd8c",
   "metadata": {},
   "source": [
    "$$\n",
    "\\begin{equation} \n",
    "R_{\\tilde{\\theta}\\tilde{\\theta}}^{BLUE}= E_{\\theta} E_{Y|\\theta} \\tilde{\\theta}_{BLUE}\\tilde{\\theta}^T_{BLUE}\n",
    "\\end{equation} \n",
    "$$"
   ]
  },
  {
   "cell_type": "markdown",
   "id": "f197a3e7-2744-42e6-806b-df80ef055200",
   "metadata": {},
   "source": [
    "#### ${\\color{Green}(e)}$ Show that $R_{\\tilde{\\theta}\\tilde{\\theta}}^{LMMSE} \\leq R_{\\tilde{\\theta}\\tilde{\\theta}}^{BLUE}$\n",
    "Note that this is true in spite of $\\hat{\\theta}_{LMMSE}$ being (conditionally) biased and $\\hat{\\theta}_{BLUE}$ being unbiased."
   ]
  },
  {
   "cell_type": "markdown",
   "id": "9b5cedd3-8fa7-4df9-98dd-bef224e29b88",
   "metadata": {},
   "source": [
    "#### ${\\color{Green}(f)}$ Returning to $\\hat{\\theta}_{LMMSE}$, what is the bias $b_{LMMSE}(\\theta)$ ?"
   ]
  },
  {
   "cell_type": "markdown",
   "id": "2af4f6c4-8c04-4b50-82a2-d375310dd676",
   "metadata": {},
   "source": [
    "#### ${\\color{Green}(f)}$ Show that\n",
    "\n",
    "$$\n",
    "\\begin{gather}\n",
    "R_{\\tilde{\\theta}\\tilde{\\theta}} = \\underline{E_{\\theta} b_{\\hat\\theta}(\\theta) b_{\\hat\\theta}^T(\\theta)} + \\underline{ E_{\\theta}E_{Y | \\theta} (\\hat{\\theta} - E_{Y|\\theta}\\hat{\\theta})(\\hat{\\theta} - E_{Y|\\theta}\\hat{\\theta})^T }\n",
    "\\\\\n",
    "\\widehat{(bias)^2}\\qquad \\qquad \\qquad \\widehat{variance}\\qquad\n",
    "\\end{gather}\n",
    "$$\n"
   ]
  },
  {
   "cell_type": "markdown",
   "id": "cef33c8e-9a1d-4f60-92bf-606fbbb0b011",
   "metadata": {},
   "source": [
    "#### ${\\color{Green}(h)}$  Compute $E_\\theta \\, b_{LMMSE}(\\theta) \\, b_{LMMSE}^T (\\theta) $."
   ]
  },
  {
   "cell_type": "markdown",
   "id": "9adc6a17-478a-4ed1-bedb-1b788cb054d4",
   "metadata": {},
   "source": [
    "#### ${\\color{Green}(i)}$   Compute $E_{\\theta} E_{Y|\\theta} (\\tilde{\\theta}_{LMMSE} - E_{Y|\\theta} \\tilde{\\theta}_{LMMSE} ) \\, (\\tilde{\\theta}_{LMMSE} - E_{Y|\\theta} \\tilde{\\theta}_{LMMSE})^T$ .\n",
    "Note that the sum of the positive definite matrices in ${\\color{Green}(h)}$ and ${\\color{Green}(i)}$ yields $R_{\\tilde{\\theta}\\tilde{\\theta}}^{LMMSE}$, for\n",
    "which ${\\color{Green}(e)}$  holds. Hence, in spite of the the fact that LMMSE introduces a (conditional) bias, it allows to reduce the variance so much that the sum of variance and squared bias gets lower than the variance in the unbiased case."
   ]
  },
  {
   "cell_type": "markdown",
   "id": "85dae447-acc4-4caa-9cfc-b4a4fea8a559",
   "metadata": {},
   "source": [
    "# References\n",
    "- [ ] [MMSE and LMMSE Estimation](https://www.youtube.com/watch?v=Y3Mf91NpPyU&list=PLSLirkZqOO0n6o_Vtka4K3JneD2V3BV1a)"
   ]
  },
  {
   "cell_type": "code",
   "execution_count": null,
   "id": "79881a3b-95e1-4784-9c46-3707876a324e",
   "metadata": {},
   "outputs": [],
   "source": []
  }
 ],
 "metadata": {
  "kernelspec": {
   "display_name": "Julia 1.9.3",
   "language": "julia",
   "name": "julia-1.9"
  },
  "language_info": {
   "file_extension": ".jl",
   "mimetype": "application/julia",
   "name": "julia",
   "version": "1.9.4"
  }
 },
 "nbformat": 4,
 "nbformat_minor": 5
}
