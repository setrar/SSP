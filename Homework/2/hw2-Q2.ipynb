{
 "cells": [
  {
   "cell_type": "markdown",
   "id": "e662552d-205b-42ab-808e-0e556d12c8a4",
   "metadata": {},
   "source": [
    "# ${\\color{Blue} \\text{ Deterministic Parameter Estimation }}$"
   ]
  },
  {
   "cell_type": "markdown",
   "id": "ecdbf0b3-05f4-485f-bd3a-7e34e63c52e1",
   "metadata": {},
   "source": [
    "### ${\\color{Purple}2.} {\\color{Blue} \\text{ ML Estimation of Roundtrip Delay Distribution.}} $"
   ]
  },
  {
   "cell_type": "markdown",
   "id": "e2fb08be-695a-47fa-9a19-bd8ef5f95085",
   "metadata": {},
   "source": [
    "${\\color{Blue} \\text{ Assume that for the roundtrip delay in a computer network, as considered in the home- work, }}$\n",
    "${\\color{Blue} \\text{ we now consider a truncated exponential distribution: }}$"
   ]
  },
  {
   "cell_type": "markdown",
   "id": "74e46667-75b1-487f-aee7-39d7d0e4b82e",
   "metadata": {},
   "source": [
    "$$\n",
    "{\\color{Blue}\n",
    "f(y|\\lambda,\\alpha,\\beta) = \n",
    "\\begin{cases}\n",
    "    0 & \\qquad , y < \\alpha \\\\\n",
    "    \\gamma e ^{-\\lambda y} & \\qquad , \\alpha \\leq y \\leq \\beta   \\\\\n",
    "    0 & \\qquad , \\beta < y\n",
    "\\end{cases}\n",
    "}\n",
    "$$"
   ]
  },
  {
   "cell_type": "code",
   "execution_count": null,
   "id": "3bec2877-e6d9-41c6-afa0-e482b07dacf1",
   "metadata": {},
   "outputs": [],
   "source": []
  }
 ],
 "metadata": {
  "kernelspec": {
   "display_name": "Julia 1.9.3",
   "language": "julia",
   "name": "julia-1.9"
  },
  "language_info": {
   "file_extension": ".jl",
   "mimetype": "application/julia",
   "name": "julia",
   "version": "1.10.0"
  }
 },
 "nbformat": 4,
 "nbformat_minor": 5
}
