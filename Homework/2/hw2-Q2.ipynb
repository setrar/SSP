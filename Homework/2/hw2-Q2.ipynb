{
 "cells": [
  {
   "cell_type": "markdown",
   "id": "e662552d-205b-42ab-808e-0e556d12c8a4",
   "metadata": {},
   "source": [
    "# ${\\color{Blue} \\text{ Deterministic Parameter Estimation }}$"
   ]
  },
  {
   "cell_type": "markdown",
   "id": "ecdbf0b3-05f4-485f-bd3a-7e34e63c52e1",
   "metadata": {},
   "source": [
    "### ${\\color{Purple}2.} {\\color{Blue} \\text{ ML Estimation of Roundtrip Delay Distribution.}} $"
   ]
  },
  {
   "cell_type": "markdown",
   "id": "e2fb08be-695a-47fa-9a19-bd8ef5f95085",
   "metadata": {},
   "source": [
    "${\\color{Blue} \\text{ Assume that for the roundtrip delay in a computer network, as considered in the home- work, we now consider a truncated exponential distribution: }}$"
   ]
  },
  {
   "cell_type": "code",
   "execution_count": null,
   "id": "f2ca4b29-37b4-4ed4-be56-5e1823a79e51",
   "metadata": {},
   "outputs": [],
   "source": []
  }
 ],
 "metadata": {
  "kernelspec": {
   "display_name": "Julia 1.9.3",
   "language": "julia",
   "name": "julia-1.9"
  },
  "language_info": {
   "file_extension": ".jl",
   "mimetype": "application/julia",
   "name": "julia",
   "version": "1.10.0"
  }
 },
 "nbformat": 4,
 "nbformat_minor": 5
}
