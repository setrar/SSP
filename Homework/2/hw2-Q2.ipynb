{
 "cells": [
  {
   "cell_type": "markdown",
   "id": "e662552d-205b-42ab-808e-0e556d12c8a4",
   "metadata": {},
   "source": [
    "# ${\\color{Blue} \\text{ Deterministic Parameter Estimation }}$"
   ]
  },
  {
   "cell_type": "markdown",
   "id": "ecdbf0b3-05f4-485f-bd3a-7e34e63c52e1",
   "metadata": {},
   "source": [
    "### ${\\color{Purple}2.} {\\color{Blue} \\text{ ML Estimation of Roundtrip Delay Distribution.}} $"
   ]
  },
  {
   "cell_type": "markdown",
   "id": "e2fb08be-695a-47fa-9a19-bd8ef5f95085",
   "metadata": {},
   "source": [
    "${\\color{Blue} \\text{ Assume that for the roundtrip delay in a computer network, as considered in the home- work, }}$\n",
    "${\\color{Blue} \\text{ we now consider a truncated exponential distribution: }}$"
   ]
  },
  {
   "cell_type": "markdown",
   "id": "fd855996-64ea-4296-8433-3eab1828a910",
   "metadata": {},
   "source": [
    "$$\n",
    "{\\color{Blue}\n",
    "\\begin{equation*}\n",
    "f(y|\\lambda,\\alpha,\\beta) = \n",
    "\\left\\{\\!\\begin{aligned}\n",
    "&0 &, y < \\alpha \\\\\n",
    "&\\gamma e ^{-\\lambda y} &, \\alpha \\leq y \\leq \\beta   \\\\\n",
    "&0 &, \\beta < y\n",
    "\\end{aligned}\\right\\} \\\\\n",
    "= \\gamma e ^{-\\lambda y} 1_{[\\alpha,\\beta]} (y)\n",
    "\\end{equation*}\n",
    "}\n",
    "$$\n",
    "\n",
    "${\\color{Blue} \\text{ where γ is a normalization constant and }}$\n",
    "\n",
    "$$\n",
    "{\\color{Blue}\n",
    "1_\\mathcal{A}(y) =\n",
    "\\begin{cases}\n",
    "&1 &, y \\in \\mathcal{A} \\\\\n",
    "&0 &, y \\notin \\mathcal{A}\n",
    "\\end{cases}\n",
    "}\n",
    "$$\n",
    "${\\color{Blue} \\text{ is the indicator function for the set } \\mathcal{A}.}$"
   ]
  },
  {
   "cell_type": "code",
   "execution_count": null,
   "id": "4bc5803e-a371-4479-b159-9302b0d27280",
   "metadata": {},
   "outputs": [],
   "source": []
  },
  {
   "cell_type": "markdown",
   "id": "72dcbb80-807a-4494-920d-bf01c0b990bc",
   "metadata": {},
   "source": [
    "#### ${\\color{Green}(a)}$ ${\\color{Blue} \\text{ Determine the normalization constant γ as a function of λ, α and β. }}$\n",
    "${\\color{Blue} \\text{ In what follows, you substitute γ in f(y|λ,α,β) by this function of λ, α and β. }}$"
   ]
  },
  {
   "cell_type": "markdown",
   "id": "7350cb75-3297-4074-89cf-1c9b1ce2ce6d",
   "metadata": {},
   "source": [
    "#### ${\\color{Green}(b)}$ ${\\color{Blue} \\text{ We now collect n i.i.d. measurements yi into the vector Y . } }$"
   ]
  },
  {
   "cell_type": "markdown",
   "id": "6cd6771c-af50-48a2-b75f-bec73b4c3b24",
   "metadata": {},
   "source": [
    "${\\color{Blue} \\text{ Assume for the moment that λ > 0 is a given constant. }} $\n",
    "${\\color{Blue} \\text{ Find the likelihood function l(α, β|Y, λ) for α and β given Y and λ}}$\n",
    "${\\color{Blue} \\text{ Note that } 1_[α,β](y) = 1_[α,∞)(y) 1_(−∞,β](y)}$"
   ]
  },
  {
   "cell_type": "code",
   "execution_count": null,
   "id": "61a4db43-4f28-445d-9998-cca0587faa80",
   "metadata": {},
   "outputs": [],
   "source": []
  },
  {
   "cell_type": "markdown",
   "id": "22fb9a5e-c57d-45e2-9cab-4a9ee7f90eaf",
   "metadata": {},
   "source": [
    "#### ${\\color{Green}(c)}$ ${\\color{Blue} \\text{ Maximize this like lihood function to determine : }}$\n",
    "${\\color{Blue} \\text{ the Maximum Likelihood (ML) estimate of α and β on the basis of (for given) Y and λ. }}$"
   ]
  },
  {
   "cell_type": "code",
   "execution_count": null,
   "id": "5c8b4286-1bb6-4d47-8feb-d4cdf4049972",
   "metadata": {},
   "outputs": [],
   "source": []
  },
  {
   "cell_type": "markdown",
   "id": "b6f3690d-770d-46a1-a08c-27b2fd0d03d8",
   "metadata": {},
   "source": [
    "#### ${\\color{Green}(d)}$ ${\\color{Blue} \\text{  Consider now also λ as unknown and determine its ML estimate. }}$"
   ]
  },
  {
   "cell_type": "markdown",
   "id": "99425658-6411-4b68-a0a5-41153db89d20",
   "metadata": {},
   "source": [
    "${\\color{Blue} \\textbf{  In what follows}\\text{, consider the special case in which α = 0, β = ∞, i.e. the untruncated exponential distribution case. }}$\n",
    "${\\color{Blue} \\text{ In this case, λ is the only remaining parameter in the distribution f(y|λ). }}$"
   ]
  },
  {
   "cell_type": "code",
   "execution_count": null,
   "id": "76696a13-aea8-4e6f-8ecb-b0732e875346",
   "metadata": {},
   "outputs": [],
   "source": []
  },
  {
   "cell_type": "markdown",
   "id": "a9da738e-1502-42f1-ac4d-4f4fff7c8132",
   "metadata": {},
   "source": [
    "#### ${\\color{Green}(e)} {\\color{Blue} \\text{  Determine the mean } m_y = E y \\text{ and the variance } σ_y^2 = E y^2 −(E y)^2 \\text { as a function of } λ.}$"
   ]
  },
  {
   "cell_type": "code",
   "execution_count": null,
   "id": "de275d0e-c536-44cd-a20a-e5d99d0b8a18",
   "metadata": {},
   "outputs": [],
   "source": []
  },
  {
   "cell_type": "markdown",
   "id": "18a1203e-671d-4b7b-b663-ec9e1bf1a6a1",
   "metadata": {},
   "source": [
    "#### ${\\color{Green}(f)} {\\color{Blue} \\text{  Determine the log likelihood function from n i.i.d. measurements } Y , L(λ|Y ) = ln f(Y |λ). } $"
   ]
  },
  {
   "cell_type": "code",
   "execution_count": null,
   "id": "4bbe9784-7736-4407-aeb1-9109a7d478b4",
   "metadata": {},
   "outputs": [],
   "source": []
  },
  {
   "cell_type": "markdown",
   "id": "0efde8a9-afcf-4750-b7c4-779c779cc054",
   "metadata": {},
   "source": [
    "#### ${\\color{Green}(g)} {\\color{Blue} \\text{  Determine the Maximum Likelihood (ML) estimate } \\hat{\\lambda}_{ML} \\text{ and dxpress it as : }}$\n",
    "#### ${\\color{Blue} \\text{  a function of the sample mean } \\hat{y} = \\frac{1}{n} \\sum_{i=1}^n y_i. } $"
   ]
  },
  {
   "cell_type": "code",
   "execution_count": null,
   "id": "9c528806-d3a8-4d36-8f46-4e6c869fdf47",
   "metadata": {},
   "outputs": [],
   "source": []
  },
  {
   "cell_type": "markdown",
   "id": "e2ac280e-0d8c-4a22-8e63-aac069cedc7c",
   "metadata": {},
   "source": [
    "##### ${\\color{Green}(h)} {\\color{Blue} \\text{   Show that in this case the ML estimate can be interpreted as an application of the method of moments. }}$"
   ]
  },
  {
   "cell_type": "code",
   "execution_count": null,
   "id": "b064785b-01af-4849-a98d-ea5c4634229e",
   "metadata": {},
   "outputs": [],
   "source": []
  }
 ],
 "metadata": {
  "kernelspec": {
   "display_name": "Julia 1.9.3",
   "language": "julia",
   "name": "julia-1.9"
  },
  "language_info": {
   "file_extension": ".jl",
   "mimetype": "application/julia",
   "name": "julia",
   "version": "1.10.0"
  }
 },
 "nbformat": 4,
 "nbformat_minor": 5
}
