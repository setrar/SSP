{
 "cells": [
  {
   "cell_type": "code",
   "execution_count": 1,
   "id": "3fd0095a-de72-439f-b354-15fa505627ab",
   "metadata": {},
   "outputs": [
    {
     "data": {
      "text/plain": [
       "findmax (generic function with 8 methods)"
      ]
     },
     "execution_count": 1,
     "metadata": {},
     "output_type": "execute_result"
    }
   ],
   "source": [
    "include(\"operations.jl\")"
   ]
  },
  {
   "cell_type": "code",
   "execution_count": 22,
   "id": "2f0480e4-618a-4e00-a0f5-883b34498616",
   "metadata": {},
   "outputs": [
    {
     "data": {
      "text/plain": [
       "Rₘₘₛₑ (generic function with 4 methods)"
      ]
     },
     "execution_count": 22,
     "metadata": {},
     "output_type": "execute_result"
    }
   ],
   "source": [
    "function Rₘₘₛₑ(Y, H, C₀₀, Cᵥᵥ\n",
    "        , α=0.01 # Learning Rate\n",
    "        , max_iterations=1000\n",
    "        , tolerance=1e-6\n",
    ")\n",
    "    # Initialize parameters\n",
    "    θ = zeros(size(C₀₀, 1))\n",
    "    \n",
    "    for iteration in 1:max_iterations\n",
    "\n",
    "        # Compute gradient\n",
    "        ∇J = -(H)ᵀ * (Cᵥᵥ)⁻¹ * (Y - H * θ) + (C₀₀)⁻¹ * θ\n",
    "        \n",
    "        # Update parameters\n",
    "        θ -= α * ∇J\n",
    "        \n",
    "        # Check for convergence\n",
    "        if norm(∇J) < tolerance\n",
    "            break\n",
    "        end\n",
    "    end\n",
    "    \n",
    "    return θ\n",
    "end"
   ]
  },
  {
   "cell_type": "code",
   "execution_count": 23,
   "id": "f01fea45-d863-4cf3-8b7f-7b6a5cbad0aa",
   "metadata": {},
   "outputs": [
    {
     "name": "stdout",
     "output_type": "stream",
     "text": [
      "True Parameter Vector: [-1.2764139175879345, -0.7677331574242201, -1.2921496327003292]\n",
      "Estimated Parameter Vector: [3.6628422206951826e12, 3.7865837108817666e12, -1.7831113894657427e12]\n"
     ]
    }
   ],
   "source": [
    "using LinearAlgebra\n",
    "using Random\n",
    "\n",
    "# Set seed for reproducibility\n",
    "Random.seed!(42)\n",
    "\n",
    "# Sample data dimensions\n",
    "n = 100  # Number of observations\n",
    "m = 3    # Number of parameters\n",
    "\n",
    "# Generate sample data\n",
    "H = randn(n, m)\n",
    "C₀₀ = randn(m, m)\n",
    "Cᵥᵥ = randn(n, n)\n",
    "Y = H * randn(m) + randn(n)\n",
    "\n",
    "# Run the MMSE estimator\n",
    "estimated_theta = Rₘₘₛₑ(Y, H, C₀₀, Cᵥᵥ)\n",
    "\n",
    "# Display the results\n",
    "println(\"True Parameter Vector: \", randn(m))\n",
    "println(\"Estimated Parameter Vector: \", estimated_theta)\n"
   ]
  },
  {
   "cell_type": "markdown",
   "id": "79f17d48-e9e6-4c59-b72e-97c139937556",
   "metadata": {},
   "source": [
    "True Parameter Vector: [-1.2764139175879345, -0.7677331574242201, -1.2921496327003292]\n",
    "Estimated Parameter Vector: [3.6628422206951826e12, 3.7865837108817666e12, -1.7831113894657427e12]"
   ]
  },
  {
   "cell_type": "code",
   "execution_count": null,
   "id": "0b61297b-d6ba-4e1e-b925-0ab6adf8bf39",
   "metadata": {},
   "outputs": [],
   "source": []
  }
 ],
 "metadata": {
  "kernelspec": {
   "display_name": "Julia 1.9.3",
   "language": "julia",
   "name": "julia-1.9"
  },
  "language_info": {
   "file_extension": ".jl",
   "mimetype": "application/julia",
   "name": "julia",
   "version": "1.9.4"
  }
 },
 "nbformat": 4,
 "nbformat_minor": 5
}
