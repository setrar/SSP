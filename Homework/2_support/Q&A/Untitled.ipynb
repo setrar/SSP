{
 "cells": [
  {
   "cell_type": "markdown",
   "id": "96bc3f19-5116-4dfb-95a5-0fe3374df8d2",
   "metadata": {},
   "source": [
    "$ E[(\\hat{\\theta} - \\theta) + (\\hat{\\theta} - \\theta)^T] = ( \\frac{X^TX}{\\sigma^2} + \\frac{I}{\\sigma_h^2} )$"
   ]
  },
  {
   "cell_type": "code",
   "execution_count": null,
   "id": "9a59d681-8678-4f1c-bb66-d505855eb705",
   "metadata": {},
   "outputs": [],
   "source": []
  }
 ],
 "metadata": {
  "kernelspec": {
   "display_name": "Julia 1.9.3",
   "language": "julia",
   "name": "julia-1.9"
  },
  "language_info": {
   "file_extension": ".jl",
   "mimetype": "application/julia",
   "name": "julia",
   "version": "1.9.4"
  }
 },
 "nbformat": 4,
 "nbformat_minor": 5
}
