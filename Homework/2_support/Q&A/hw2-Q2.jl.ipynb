{
 "cells": [
  {
   "cell_type": "markdown",
   "id": "9a142a72-0432-4d85-92fd-5034a2671f1a",
   "metadata": {},
   "source": [
    "# Deterministic Parameter Estimation"
   ]
  },
  {
   "cell_type": "markdown",
   "id": "9b412bcf-a43c-4004-8af5-b88fbd2be6ba",
   "metadata": {},
   "source": [
    "#### ${\\color{Purple} 2. }$ ML Estimation of Roundtrip Delay Distribution."
   ]
  },
  {
   "cell_type": "markdown",
   "id": "58355b51-2a91-4f9c-a422-180401fdcfc4",
   "metadata": {},
   "source": [
    "If the probability density function (PDF) is defined as $\\lambda e^{-\\lambda y} \\mathbb{1}_{[\\alpha, \\beta]}(y)$, it means that you have a truncated exponential distribution, where $y$ is in the range $[\\alpha, \\beta]$.\n",
    "\n",
    "Here, $\\mathbb{1}_{[\\alpha, \\beta]}(y)$ is an indicator function that takes the value of 1 if $y$ is in the interval $[\\alpha, \\beta]$ and 0 otherwise. The PDF is nonzero only within this interval.\n",
    "\n",
    "The expression for the PDF is as follows:\n",
    "\n",
    "$ f(y; \\lambda, \\alpha, \\beta) = \\lambda e^{-\\lambda y} \\mathbb{1}_{[\\alpha, \\beta]}(y) $\n",
    "\n",
    "Here:\n",
    "- $y$ is in the range $[\\alpha, \\beta]$.\n",
    "- $\\lambda$ is the rate parameter.\n",
    "- $\\alpha$ is the lower bound.\n",
    "- $\\beta$ is the upper bound.\n",
    "\n",
    "You can use this expression to compute the probability density at a specific point $y$ within the specified interval by substituting the values of $\\lambda$, $\\alpha$, $\\beta$, and $y$ into the formula. The indicator function ensures that the PDF is nonzero only within the interval $[\\alpha, \\beta]$."
   ]
  },
  {
   "cell_type": "markdown",
   "id": "c03a7bcd-1879-44a0-affd-432b1129897a",
   "metadata": {},
   "source": [
    "the indicator function for the set 𝐴 is 1 when y ∈ A and 0 when  y̸∈ A"
   ]
  },
  {
   "cell_type": "markdown",
   "id": "619d9044-08dc-4e39-961b-8cb5b70f26a1",
   "metadata": {},
   "source": [
    "Yes, that's correct. The indicator function for a set $A$, denoted as $\\mathbb{1}_A(y)$, takes the value 1 when $y$ is an element of $A$ and 0 when $y$ is not an element of $A$. In mathematical notation:\n",
    "\n",
    "$ \\mathbb{1}_A(y) = \n",
    "\\begin{cases} \n",
    "1 & \\text{if } y \\in A \\\\\n",
    "0 & \\text{if } y \\notin A \n",
    "\\end{cases}\n",
    "$\n",
    "\n",
    "So, in the context of your truncated exponential distribution with the indicator function for the interval $[\\alpha, \\beta]$, the PDF is zero outside this interval:\n",
    "\n",
    "$ f(y; \\lambda, \\alpha, \\beta) = \\lambda e^{-\\lambda y} \\mathbb{1}_{[\\alpha, \\beta]}(y) $\n",
    "\n",
    "This ensures that the PDF is only active and contributes to the probability density calculation when $y$ is within the specified range $[\\alpha, \\beta]$."
   ]
  },
  {
   "cell_type": "markdown",
   "id": "5f253298-86b9-4812-be58-c673ae3be021",
   "metadata": {},
   "source": [
    "${\\color{Purple}(a)}$ Determine the normalization constant γ as a function of λ, α and β."
   ]
  },
  {
   "cell_type": "markdown",
   "id": "90047637-5b63-4667-91fe-45eca9341377",
   "metadata": {},
   "source": [
    "To determine the normalization constant ($\\gamma$) for the truncated exponential distribution, we need to ensure that the total area under the probability density function (PDF) is equal to 1 over the interval $[\\alpha, \\beta]$. Mathematically, the normalization condition is expressed as:\n",
    "\n",
    "$ \\int_{\\alpha}^{\\beta} f(y; \\lambda, \\alpha, \\beta) \\, dy = 1 $\n",
    "\n",
    "Let's compute this integral for the given PDF:\n",
    "\n",
    "$ \\int_{\\alpha}^{\\beta} \\lambda e^{-\\lambda y} \\mathbb{1}_{[\\alpha, \\beta]}(y) \\, dy $\n",
    "\n",
    "Since the indicator function is 1 within the interval $[\\alpha, \\beta]$ and 0 outside it, we can simplify the integral:\n",
    "\n",
    "$ \\int_{\\alpha}^{\\beta} \\lambda e^{-\\lambda y} \\, dy $\n",
    "\n",
    "Now, integrate the exponential function:\n",
    "\n",
    "$ -\\frac{1}{\\lambda} e^{-\\lambda y} \\Big|_{\\alpha}^{\\beta} $\n",
    "\n",
    "Evaluate at the upper and lower bounds:\n",
    "\n",
    "$ -\\frac{1}{\\lambda} \\left( e^{-\\lambda \\beta} - e^{-\\lambda \\alpha} \\right) $\n",
    "\n",
    "To normalize the distribution, set this expression equal to 1 and solve for the normalization constant ($\\gamma$):\n",
    "\n",
    "$ -\\frac{1}{\\lambda} \\left( e^{-\\lambda \\beta} - e^{-\\lambda \\alpha} \\right) = 1 $\n",
    "\n",
    "Solving for $\\gamma$:\n",
    "\n",
    "$ \\gamma = -\\frac{1}{e^{-\\lambda \\alpha} - e^{-\\lambda \\beta}} $\n",
    "\n",
    "So, the normalization constant ($\\gamma$) as a function of $\\lambda$, $\\alpha$, and $\\beta$ is given by:\n",
    "\n",
    "$ \\gamma(\\lambda, \\alpha, \\beta) = -\\frac{1}{e^{-\\lambda \\alpha} - e^{-\\lambda \\beta}} $"
   ]
  },
  {
   "cell_type": "markdown",
   "id": "a95b9b9f-a328-4040-b187-34efd227769f",
   "metadata": {},
   "source": [
    "If you are collecting $n$ independent and identically distributed (i.i.d.) measurements $y_i$ into a vector $Y$, it means you're forming a random sample of size $n$ from the same probability distribution. In the context of the truncated exponential distribution you've mentioned, each $y_i$ is a random variable following the distribution you described.\n",
    "\n",
    "The vector $Y$ is formed by arranging these measurements in a specific order. Mathematically, you can represent $Y$ as:\n",
    "\n",
    "$ Y = [y_1, y_2, \\ldots, y_n] $\n",
    "\n",
    "Here, $Y$ is a vector of length $n$ containing $n$ i.i.d. measurements.\n",
    "\n",
    "If each $y_i$ follows the truncated exponential distribution with parameters $\\lambda$, $\\alpha$, and $\\beta$, then the probability density function (PDF) for $Y$ would be the product of the individual PDFs, assuming independence:\n",
    "\n",
    "$ f(Y; \\lambda, \\alpha, \\beta) = \\prod_{i=1}^{n} f(y_i; \\lambda, \\alpha, \\beta) $\n",
    "\n",
    "Since each $y_i$ follows the truncated exponential distribution, you can use the expression you derived earlier for the PDF of a single measurement in the product above.\n",
    "\n",
    "If you have more specific questions or if you're looking to perform certain calculations or analyses with this vector $Y$, please provide more details so that I can assist you further."
   ]
  },
  {
   "cell_type": "markdown",
   "id": "cdb42d18-c9b6-4bbf-8b5f-2cef57dc1071",
   "metadata": {},
   "source": [
    "${\\color{Purple}(b)}$ We now collect $n$ i.i.d. measurements $y_i$ into the vector $Y$"
   ]
  },
  {
   "cell_type": "markdown",
   "id": "9ae364d5-9512-4b7c-84e1-d91a0542e9d1",
   "metadata": {},
   "source": [
    "If you are collecting $n$ independent and identically distributed (i.i.d.) measurements $y_i$ into a vector $Y$, it means you're forming a random sample of size $n$ from the same probability distribution. In the context of the truncated exponential distribution you've mentioned, each $y_i$ is a random variable following the distribution you described.\n",
    "\n",
    "The vector $Y$ is formed by arranging these measurements in a specific order. Mathematically, you can represent $Y$ as:\n",
    "\n",
    "$ Y = [y_1, y_2, \\ldots, y_n] $\n",
    "\n",
    "Here, $Y$ is a vector of length $n$ containing $n$ i.i.d. measurements.\n",
    "\n",
    "If each $y_i$ follows the truncated exponential distribution with parameters $\\lambda$, $\\alpha$, and $\\beta$, then the probability density function (PDF) for $Y$ would be the product of the individual PDFs, assuming independence:\n",
    "\n",
    "$ f(Y; \\lambda, \\alpha, \\beta) = \\prod_{i=1}^{n} f(y_i; \\lambda, \\alpha, \\beta) $\n",
    "\n",
    "Since each $y_i$ follows the truncated exponential distribution, you can use the expression you derived earlier for the PDF of a single measurement in the product above.\n",
    "\n",
    "If you have more specific questions or if you're looking to perform certain calculations or analyses with this vector $Y$, please provide more details so that I can assist you further."
   ]
  },
  {
   "cell_type": "markdown",
   "id": "eed042b8-3eac-4f52-b8f0-c03ce87ff54c",
   "metadata": {},
   "source": [
    "*** Assume for the moment that $\\lambda > 0$ is a given constant."
   ]
  },
  {
   "cell_type": "markdown",
   "id": "31f363b8-894f-4f4a-981e-d2181722dcf6",
   "metadata": {},
   "source": [
    "Certainly, if $\\lambda > 0$ is a given constant, you can simplify the expressions for the probability density function (PDF) and the normalization constant. Let's revisit these expressions:\n",
    "\n",
    "1. **Probability Density Function (PDF):**\n",
    "   $ f(y; \\alpha, \\beta) = \\frac{\\lambda e^{-\\lambda y} \\mathbb{1}_{[\\alpha, \\beta]}(y)}{1 - e^{-\\lambda (\\beta - \\alpha)}} $\n",
    "\n",
    "   Here, $\\lambda$ is assumed to be a given constant.\n",
    "\n",
    "2. **Normalization Constant ($\\gamma$):**\n",
    "   $ \\gamma(\\alpha, \\beta) = -\\frac{1}{e^{-\\lambda \\alpha} - e^{-\\lambda \\beta}} $\n",
    "\n",
    "Now, if $\\lambda > 0$ is given, you don't need to explicitly include it in your expressions unless you are considering situations where $\\lambda$ can vary.\n",
    "\n",
    "The PDF becomes:\n",
    "$ f(y; \\alpha, \\beta) = \\frac{e^{-\\lambda y} \\mathbb{1}_{[\\alpha, \\beta]}(y)}{1 - e^{-\\lambda (\\beta - \\alpha)}} $\n",
    "\n",
    "And the normalization constant is:\n",
    "$ \\gamma(\\alpha, \\beta) = -\\frac{1}{e^{-\\lambda \\alpha} - e^{-\\lambda \\beta}} $\n",
    "\n",
    "These expressions now only depend on the given constant $\\lambda$. If you have a specific question or task related to these expressions, feel free to provide more details."
   ]
  },
  {
   "cell_type": "markdown",
   "id": "26dcaac7-1d9c-4289-b625-b33da2e739ca",
   "metadata": {},
   "source": [
    "*** Find the likelihood function l(α, β|Y, λ) for α and β given Y and λ."
   ]
  },
  {
   "cell_type": "markdown",
   "id": "6c304563-f473-411d-b765-e3afabca41ce",
   "metadata": {},
   "source": [
    "The likelihood function $L(\\alpha, \\beta | Y, \\lambda)$ is a function that represents the likelihood of observing the data $Y$ given specific values of the parameters $\\alpha$, $\\beta$, and $\\lambda$. For i.i.d. measurements $y_i$ from the truncated exponential distribution, the likelihood function is the product of the individual probability density functions (PDFs) evaluated at each $y_i$.\n",
    "\n",
    "Given that $1_{[\\alpha, \\beta]}(y) = 1_{[\\alpha, \\infty)}(y) \\cdot 1_{(-\\infty, \\beta]}(y)$, we can express the PDF for a single measurement as follows:\n",
    "\n",
    "$ f(y_i; \\alpha, \\beta) = \\frac{e^{-\\lambda y_i} \\cdot 1_{[\\alpha, \\infty)}(y_i) \\cdot 1_{(-\\infty, \\beta]}(y_i)}{1 - e^{-\\lambda (\\beta - \\alpha)}} $\n",
    "\n",
    "Now, the likelihood function $L(\\alpha, \\beta | Y, \\lambda)$ is the product of these individual PDFs for all $n$ measurements in the vector $Y$:\n",
    "\n",
    "$ L(\\alpha, \\beta | Y, \\lambda) = \\prod_{i=1}^{n} f(y_i; \\alpha, \\beta) $\n",
    "\n",
    "Substitute the expression for the PDF into the likelihood function:\n",
    "\n",
    "$ L(\\alpha, \\beta | Y, \\lambda) = \\prod_{i=1}^{n} \\frac{e^{-\\lambda y_i} \\cdot 1_{[\\alpha, \\infty)}(y_i) \\cdot 1_{(-\\infty, \\beta]}(y_i)}{1 - e^{-\\lambda (\\beta - \\alpha)}} $\n",
    "\n",
    "Now, if you want to express this likelihood function in terms of the given constant $\\lambda$, you can simplify it accordingly."
   ]
  },
  {
   "cell_type": "markdown",
   "id": "43329dab-a44e-4034-9ebd-6afd4dfa3195",
   "metadata": {},
   "source": [
    "*** Maximize this likelihood function to determine the Maximum Likelihood (ML) estimate of α and β on the basis of (for given ) Y and λ ."
   ]
  },
  {
   "cell_type": "markdown",
   "id": "df943cb6-37fc-4a9a-b8c7-de569492cae1",
   "metadata": {},
   "source": [
    "To find the Maximum Likelihood (ML) estimates for $\\alpha$ and $\\beta$, you need to maximize the likelihood function $L(\\alpha, \\beta | Y, \\lambda)$ with respect to these parameters. In practice, it's often more convenient to work with the log-likelihood function, denoted as $l(\\alpha, \\beta | Y, \\lambda)$, as it simplifies the calculations.\n",
    "\n",
    "The log-likelihood function is the natural logarithm of the likelihood function:\n",
    "\n",
    "$ l(\\alpha, \\beta | Y, \\lambda) = \\ln L(\\alpha, \\beta | Y, \\lambda) $\n",
    "\n",
    "So, you need to maximize $l(\\alpha, \\beta | Y, \\lambda)$ with respect to $\\alpha$ and $\\beta$. The ML estimates ($\\hat{\\alpha}$ and $\\hat{\\beta}$) are obtained by solving the following optimization problem:\n",
    "\n",
    "$ \\max_{\\alpha, \\beta} l(\\alpha, \\beta | Y, \\lambda) $\n",
    "\n",
    "You can take the derivative of the log-likelihood function with respect to $\\alpha$ and $\\beta$, set them equal to zero, and solve for $\\alpha$ and $\\beta$.\n",
    "\n",
    "Given the specific form of the log-likelihood function, the details of the calculations will depend on the data $Y$, the constant $\\lambda$, and the specific form of the truncated exponential distribution you are working with. Depending on the details, it may be a numerical optimization problem, and you might need to use optimization libraries or tools.\n",
    "\n",
    "If you have specific values for $Y$ and $\\lambda$, you can proceed with these calculations. If you provide more details, I can assist you further or guide you through specific steps."
   ]
  },
  {
   "cell_type": "code",
   "execution_count": null,
   "id": "66ae1a24-9cb4-47d0-b2bd-9f2572477063",
   "metadata": {},
   "outputs": [],
   "source": []
  }
 ],
 "metadata": {
  "kernelspec": {
   "display_name": "Julia 1.9.3",
   "language": "julia",
   "name": "julia-1.9"
  },
  "language_info": {
   "file_extension": ".jl",
   "mimetype": "application/julia",
   "name": "julia",
   "version": "1.9.4"
  }
 },
 "nbformat": 4,
 "nbformat_minor": 5
}
