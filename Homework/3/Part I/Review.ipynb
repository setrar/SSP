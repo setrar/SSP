{
 "cells": [
  {
   "cell_type": "markdown",
   "id": "de4667d7-0526-4ad2-8a74-ae17b35c526a",
   "metadata": {},
   "source": [
    "## ${\\color{Blue} \\text{ Part I: Spectrum Estimation }}$"
   ]
  },
  {
   "cell_type": "markdown",
   "id": "2b7ef1b1-10fb-489e-8d73-f8976927e671",
   "metadata": {},
   "source": [
    "**Review**"
   ]
  },
  {
   "cell_type": "markdown",
   "id": "7dc20580-9606-4a5f-84d4-80da65626cc0",
   "metadata": {},
   "source": [
    "Given N samples ${\\{y_0, y_1, . . . , y_{N−1}\\}}$, the periodogram is given by"
   ]
  },
  {
   "cell_type": "markdown",
   "id": "e8df2495-2a74-41ac-95a9-eed064b62588",
   "metadata": {},
   "source": [
    "$$\n",
    "\\begin{equation}\n",
    "\\hat{S}_{yy}(\\mathit{f}) = \\hat{S}_{PER}(\\mathit{f}) = \\frac{1}{N} \\left| \\sum_{n=0}^{N-1} w_{N,n} y_n e^{-j2\\pi fn}  \\right|^2\n",
    "\\end{equation}\n",
    "$$"
   ]
  },
  {
   "cell_type": "markdown",
   "id": "289f13d0-5f0c-43d2-b4ee-e0deeb16deeb",
   "metadata": {},
   "source": [
    "where $w_{N,n}$ is a windowing function of size $N$ (rectangular by default). The window is normalized in the sense that $\\frac{1}{N} \\sum_{n=0}^{N-1} w_{N,n}^2 = 1$. In practice, the Fourier Transform (FFT)is computed as the Discrete Fourier Transform (DFT), for which fast algorithms exist known as Fast Fourier Transform (FFT). For computation of the DFT/FFT, it is customary to consider the frequency interval $[0, 1]$ rather than $[−\\frac{1}{2}, \\frac{1}{2} ]$. The DFT evaluates the Fourier transform of a signal of length $N$ at $N$ equispaced frequencies $f_k = k/N , k = 0,1,...,N−1$. So we get\n",
    "$$\n",
    "\\begin{equation}\n",
    "\\hat{S}_{yy}(\\mathit{f}) = \\hat{S}_{PER}(\\mathit{f}) = \\frac{1}{N} \\left| \\sum_{n=0}^{N-1} w_{N,n} y_n e^{-j2\\pi fn}  \\right|^2 = \\frac{1}{N} \\left| \\sum_{n=0}^{N-1} w_{N,n} y_n e^{-j2\\pi \\frac{k}{N}n}  \\right|^2, k = 0,1,...,N−1 .\n",
    "\\end{equation}\n",
    "$$\n",
    "We can obtain a finer frequency spacing by padding the data with $N' - N$ zeros and then applying an $N′$-point DFT.  The effective data set becomes\n",
    "$$\n",
    "\\begin{equation}\n",
    "y'_n = \n",
    "\\begin{cases}\n",
    "&y_n &, n = 0,1, ..., N - 1 \\\\\n",
    "&0 &, n = N, N+1, ..., N' - 1\n",
    "\\end{cases}\n",
    "\\end{equation}\n",
    "$$\n",
    "which has the same Fourier transform as the original data set. The frequency spacing of the DFT on the data set $y′$ will be $\\frac{1}{N'} < \\frac{1}{N}$ . This **zero** padding gives no extra resolution, but only a finer evaluation of the periodogram. The window is still of size $N$."
   ]
  },
  {
   "cell_type": "markdown",
   "id": "6841bdd1-eb77-4f96-98f9-1778a4ee2aeb",
   "metadata": {},
   "source": [
    "In the autoregressive (AR) modeling (parametric) approach, we take\n",
    "$$\n",
    "\\begin{equation}\n",
    "\\hat{S}_{AR}(\\mathit{f}) \n",
    "\\end{equation}\n",
    "$$"
   ]
  },
  {
   "cell_type": "code",
   "execution_count": null,
   "id": "ebcbc2b2-69da-41a1-aedc-6dc9b8c3a021",
   "metadata": {},
   "outputs": [],
   "source": []
  }
 ],
 "metadata": {
  "kernelspec": {
   "display_name": "Julia 1.9.3",
   "language": "julia",
   "name": "julia-1.9"
  },
  "language_info": {
   "file_extension": ".jl",
   "mimetype": "application/julia",
   "name": "julia",
   "version": "1.10.0"
  }
 },
 "nbformat": 4,
 "nbformat_minor": 5
}
