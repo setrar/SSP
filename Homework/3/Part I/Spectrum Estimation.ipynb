{
 "cells": [
  {
   "cell_type": "markdown",
   "id": "71b9bae1-bbda-4fec-aa9e-b0fb6cc6c55d",
   "metadata": {},
   "source": [
    "# ${\\color{Blue} \\text{ TP : Sinusoidal Spectrum and Parameter Estimation }}$"
   ]
  },
  {
   "cell_type": "code",
   "execution_count": null,
   "id": "d4030208-a8e3-4ebf-a519-73c23c243c0c",
   "metadata": {},
   "outputs": [],
   "source": []
  }
 ],
 "metadata": {
  "kernelspec": {
   "display_name": "Julia 1.9.3",
   "language": "julia",
   "name": "julia-1.9"
  },
  "language_info": {
   "file_extension": ".jl",
   "mimetype": "application/julia",
   "name": "julia",
   "version": "1.10.0"
  }
 },
 "nbformat": 4,
 "nbformat_minor": 5
}
