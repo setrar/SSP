{
 "cells": [
  {
   "cell_type": "markdown",
   "id": "71b9bae1-bbda-4fec-aa9e-b0fb6cc6c55d",
   "metadata": {},
   "source": [
    "## ${\\color{Blue} \\text{ Part I: Spectrum Estimation }}$"
   ]
  },
  {
   "cell_type": "markdown",
   "id": "9ef56431-1685-46c1-957f-d956ba1a7468",
   "metadata": {},
   "source": [
    "The random process that we shall use is of the form\n",
    "$$\n",
    "y_k = A_1 \\cos(2\\pi f_1 k + \\phi_1) + A_2 \\cos(2\\pi f_2 k + \\phi_2) + v_k\n",
    "$$\n",
    "where $v_k$ is zero-mean unit variance white Gaussian noise. The phases $\\phi_i$ are uniform over $[0, 2\\pi]$, whereas the default values for the sinusoid amplitudes and frequencies are $A_1 = 20, A_2 = 20, f_1 = 0.057, f_2 = 0.082$."
   ]
  },
  {
   "cell_type": "markdown",
   "id": "cbbbd9b4-24bf-429c-98da-3b87ae40b8b2",
   "metadata": {},
   "source": [
    "#### ${\\color{Green} (a)}$ ${\\color{Blue} \\text{ For the periodogram, how many data points N are required to resolve the two sinusoids? Why? }}$"
   ]
  },
  {
   "cell_type": "markdown",
   "id": "3aaeed3f-9354-4113-b513-1d4cb6d2f52f",
   "metadata": {},
   "source": [
    "The number of data points $N$ required to resolve two sinusoids in the periodogram depends on the difference in their frequencies ($f_1$ and $f_2$), the length of the observation window, and the sampling rate.\n",
    "\n",
    "The resolution of the periodogram is determined by the frequency bin width, which is inversely proportional to the length of the observation window. The formula for the frequency resolution ($\\Delta f$) in the periodogram is given by: \n",
    "\n",
    "$\\Delta f = \\frac{1}{T}$\n",
    "\n",
    "where $T$ is the length of the observation window.\n",
    "\n",
    "To resolve two sinusoids, their frequencies ($f_1$ and $f_2$) should be separated by at least half of the frequency resolution ($\\Delta f/2$) to avoid ambiguity. In other words, the criterion for resolving two sinusoids is:\n",
    "\n",
    "$|f_1 - f_2| \\geq \\frac{1}{2T}$\n",
    "\n",
    "So, the minimum required number of data points ($N$) is related to the observation window length ($T$) as follows:\n",
    "\n",
    "$N \\geq 2f_{\\text{max}}T$\n",
    "\n",
    "where $f_{\\text{max}}$ is the maximum frequency of interest, and $T$ is the length of the observation window.\n",
    "\n",
    "Keep in mind that this is a simplified explanation, and the actual resolution might depend on the specific characteristics of the signal, the noise level, and the analysis technique used. In practice, it's common to choose $N$ to be a power of 2 to leverage fast Fourier transform (FFT) algorithms efficiently."
   ]
  },
  {
   "cell_type": "code",
   "execution_count": 3,
   "id": "b648b69a-16f9-424b-89c6-b2da985cf6fd",
   "metadata": {},
   "outputs": [
    {
     "ename": "LoadError",
     "evalue": "MethodError: no method matching +(::StepRangeLen{Float64, Base.TwicePrecision{Float64}, Base.TwicePrecision{Float64}, Int64}, ::Float64)\nFor element-wise addition, use broadcasting with dot syntax: array .+ scalar\n\n\u001b[0mClosest candidates are:\n\u001b[0m  +(::Any, ::Any, \u001b[91m::Any\u001b[39m, \u001b[91m::Any...\u001b[39m)\n\u001b[0m\u001b[90m   @\u001b[39m \u001b[90mBase\u001b[39m \u001b[90m\u001b[4moperators.jl:587\u001b[24m\u001b[39m\n\u001b[0m  +(\u001b[91m::Bool\u001b[39m, ::T) where T<:AbstractFloat\n\u001b[0m\u001b[90m   @\u001b[39m \u001b[90mBase\u001b[39m \u001b[90m\u001b[4mbool.jl:173\u001b[24m\u001b[39m\n\u001b[0m  +(\u001b[91m::Complex{Bool}\u001b[39m, ::Real)\n\u001b[0m\u001b[90m   @\u001b[39m \u001b[90mBase\u001b[39m \u001b[90m\u001b[4mcomplex.jl:320\u001b[24m\u001b[39m\n\u001b[0m  ...\n",
     "output_type": "error",
     "traceback": [
      "MethodError: no method matching +(::StepRangeLen{Float64, Base.TwicePrecision{Float64}, Base.TwicePrecision{Float64}, Int64}, ::Float64)\nFor element-wise addition, use broadcasting with dot syntax: array .+ scalar\n\n\u001b[0mClosest candidates are:\n\u001b[0m  +(::Any, ::Any, \u001b[91m::Any\u001b[39m, \u001b[91m::Any...\u001b[39m)\n\u001b[0m\u001b[90m   @\u001b[39m \u001b[90mBase\u001b[39m \u001b[90m\u001b[4moperators.jl:587\u001b[24m\u001b[39m\n\u001b[0m  +(\u001b[91m::Bool\u001b[39m, ::T) where T<:AbstractFloat\n\u001b[0m\u001b[90m   @\u001b[39m \u001b[90mBase\u001b[39m \u001b[90m\u001b[4mbool.jl:173\u001b[24m\u001b[39m\n\u001b[0m  +(\u001b[91m::Complex{Bool}\u001b[39m, ::Real)\n\u001b[0m\u001b[90m   @\u001b[39m \u001b[90mBase\u001b[39m \u001b[90m\u001b[4mcomplex.jl:320\u001b[24m\u001b[39m\n\u001b[0m  ...\n",
      "",
      "Stacktrace:",
      " [1] top-level scope",
      "   @ In[3]:12"
     ]
    }
   ],
   "source": [
    "using Plots\n",
    "\n",
    "# Parameters\n",
    "N = 256\n",
    "f1, f2 = 0.057, 0.082\n",
    "A1, A2 = 20, 20\n",
    "phi1, phi2 = 2π * rand(), 2π * rand()\n",
    "v = randn(N)  # White Gaussian noise\n",
    "\n",
    "# Generate y_k\n",
    "k = 1:N\n",
    "y_k = A1 * cos.(2π * f1 * k + phi1) + A2 * cos.(2π * f2 * k + phi2) + v\n",
    "\n",
    "# Compute periodogram for different numbers of frequency points\n",
    "num_points_list = [64, 128, 256, 512, 1024]\n",
    "periodograms = []\n",
    "\n",
    "for num_points in num_points_list\n",
    "    f_values, Pxx = periodogram(y_k, fs=1.0, window=rect(N), nfft=num_points)\n",
    "    push!(periodograms, (collect(f_values), collect(Pxx)))  # Convert ranges to arrays\n",
    "end\n",
    "\n",
    "# Plot results\n",
    "plot(title=\"Periodogram with Different Frequency Points\", xlabel=\"Frequency\", ylabel=\"Power\",\n",
    "    legend=:bottomright, linewidth=2)\n",
    "\n",
    "for (num_points, (f_values, Pxx)) in zip(num_points_list, periodograms)\n",
    "    plot!(f_values, Pxx, label=\"N' = $num_points\", linestyle=:auto)\n",
    "end\n",
    "\n",
    "display(plt)\n"
   ]
  },
  {
   "cell_type": "code",
   "execution_count": null,
   "id": "6614ec92-9d9c-4e91-807a-2eb974cccbb9",
   "metadata": {},
   "outputs": [],
   "source": []
  }
 ],
 "metadata": {
  "kernelspec": {
   "display_name": "Julia 1.9.3",
   "language": "julia",
   "name": "julia-1.9"
  },
  "language_info": {
   "file_extension": ".jl",
   "mimetype": "application/julia",
   "name": "julia",
   "version": "1.10.0"
  }
 },
 "nbformat": 4,
 "nbformat_minor": 5
}
