{
 "cells": [
  {
   "cell_type": "code",
   "execution_count": 7,
   "id": "19271782-7661-498a-b970-e12d494b428e",
   "metadata": {},
   "outputs": [
    {
     "data": {
      "text/plain": [
       "window (generic function with 1 method)"
      ]
     },
     "execution_count": 7,
     "metadata": {},
     "output_type": "execute_result"
    }
   ],
   "source": [
    "include(\"window.jl\")"
   ]
  },
  {
   "cell_type": "code",
   "execution_count": 8,
   "id": "e4ed1edc-6ba8-4767-82d9-b75e7ce0869b",
   "metadata": {},
   "outputs": [
    {
     "name": "stdout",
     "output_type": "stream",
     "text": [
      "Window type: hamming\n",
      "Window length: 10\n",
      "Window values: [0.08000000000000002; 0.18761955616527015; 0.46012183827321207; 0.7699999999999999; 0.9722586055615179; 0.9722586055615179; 0.7700000000000002; 0.46012183827321224; 0.18761955616527026; 0.08000000000000002;;]\n"
     ]
    }
   ],
   "source": [
    "# Example usage\n",
    "type = \"hamming\"  # Replace with the desired window type\n",
    "L = 10  # Replace with the desired window length\n",
    "w = window(type, L)\n",
    "\n",
    "println(\"Window type: $type\")\n",
    "println(\"Window length: $L\")\n",
    "println(\"Window values: $w\")\n"
   ]
  }
 ],
 "metadata": {
  "kernelspec": {
   "display_name": "Julia 1.9.3",
   "language": "julia",
   "name": "julia-1.9"
  },
  "language_info": {
   "file_extension": ".jl",
   "mimetype": "application/julia",
   "name": "julia",
   "version": "1.10.0"
  }
 },
 "nbformat": 4,
 "nbformat_minor": 5
}
