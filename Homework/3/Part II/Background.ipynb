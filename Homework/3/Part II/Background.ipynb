{
 "cells": [
  {
   "cell_type": "markdown",
   "id": "c06ef318-0b02-4e99-9d77-ea25295ba8e4",
   "metadata": {},
   "source": [
    "### Background on ML Estimation of Sinusoid in Noise Parameters"
   ]
  },
  {
   "cell_type": "markdown",
   "id": "e4fbd9c5-bbc3-40d4-98fd-7df2dce54b5f",
   "metadata": {},
   "source": [
    "For this second part, consider a single sinusoid in white Gaussian noise with variance $\\sigma^2$"
   ]
  },
  {
   "cell_type": "code",
   "execution_count": null,
   "id": "616e482f-e47e-41fe-b763-76ad31af24c2",
   "metadata": {},
   "outputs": [],
   "source": []
  }
 ],
 "metadata": {
  "kernelspec": {
   "display_name": "Julia 1.9.3",
   "language": "julia",
   "name": "julia-1.9"
  },
  "language_info": {
   "file_extension": ".jl",
   "mimetype": "application/julia",
   "name": "julia",
   "version": "1.10.0"
  }
 },
 "nbformat": 4,
 "nbformat_minor": 5
}
