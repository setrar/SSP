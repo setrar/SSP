{
 "cells": [
  {
   "cell_type": "markdown",
   "id": "396a06f3-e897-4e69-b9a4-9e29f15b5d41",
   "metadata": {},
   "source": [
    "# Part II: Parameter Estimation"
   ]
  },
  {
   "cell_type": "code",
   "execution_count": null,
   "id": "ef0cf974-90a3-418d-ba2a-34771e541e8f",
   "metadata": {},
   "outputs": [],
   "source": []
  }
 ],
 "metadata": {
  "kernelspec": {
   "display_name": "Julia 1.9.3",
   "language": "julia",
   "name": "julia-1.9"
  },
  "language_info": {
   "file_extension": ".jl",
   "mimetype": "application/julia",
   "name": "julia",
   "version": "1.10.0"
  }
 },
 "nbformat": 4,
 "nbformat_minor": 5
}
