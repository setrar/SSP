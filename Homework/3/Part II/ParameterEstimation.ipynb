{
 "cells": [
  {
   "cell_type": "markdown",
   "id": "396a06f3-e897-4e69-b9a4-9e29f15b5d41",
   "metadata": {},
   "source": [
    "## ${\\color{Salmon} \\text{ Part II: }}$ ${\\color{Blue} \\text{ Parameter Estimation }}$"
   ]
  },
  {
   "cell_type": "markdown",
   "id": "f929872c-5e2e-49a1-bf98-a1496f6de58d",
   "metadata": {},
   "source": [
    "#### ${\\color{Green} (e)}$ ${\\color{Blue} \\text{ Sinusoid in White Noise: ML Estimates and CRBs. }}$"
   ]
  },
  {
   "cell_type": "code",
   "execution_count": null,
   "id": "3bbf81de-430e-4ad1-814b-d55904ac6ea6",
   "metadata": {},
   "outputs": [],
   "source": []
  },
  {
   "cell_type": "markdown",
   "id": "bb456940-8d79-4b6d-aace-e33d3bed7b55",
   "metadata": {},
   "source": [
    "#### ${\\color{Green} (f)}$ ${\\color{Blue} \\text{ Sinusoid in White Noise: Covariance Matching. }}$"
   ]
  },
  {
   "cell_type": "code",
   "execution_count": null,
   "id": "2f7a54dd-2450-4606-9da3-630bdf291379",
   "metadata": {},
   "outputs": [],
   "source": []
  }
 ],
 "metadata": {
  "kernelspec": {
   "display_name": "Julia 1.9.3",
   "language": "julia",
   "name": "julia-1.9"
  },
  "language_info": {
   "file_extension": ".jl",
   "mimetype": "application/julia",
   "name": "julia",
   "version": "1.10.0"
  }
 },
 "nbformat": 4,
 "nbformat_minor": 5
}
