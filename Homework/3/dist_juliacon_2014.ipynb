{
 "cells": [
  {
   "cell_type": "code",
   "execution_count": 15,
   "id": "2402eed0-9037-4756-959e-9285bf376c45",
   "metadata": {},
   "outputs": [],
   "source": [
    "using Distributions\n",
    "using Random"
   ]
  },
  {
   "cell_type": "code",
   "execution_count": 16,
   "id": "b133c6fd-b3d9-442a-8c54-69959ca88d1b",
   "metadata": {},
   "outputs": [
    {
     "data": {
      "text/plain": [
       "1.0"
      ]
     },
     "execution_count": 16,
     "metadata": {},
     "output_type": "execute_result"
    }
   ],
   "source": [
    "cdf(Normal(0,1),10)"
   ]
  },
  {
   "cell_type": "code",
   "execution_count": 17,
   "id": "52ab6059-b607-493c-ad6e-e1759ea2359a",
   "metadata": {},
   "outputs": [
    {
     "data": {
      "text/plain": [
       "7.619853024160498e-24"
      ]
     },
     "execution_count": 17,
     "metadata": {},
     "output_type": "execute_result"
    }
   ],
   "source": [
    "ccdf(Normal(0,1),10) # 1 - cdf(Normal(0,1))"
   ]
  },
  {
   "cell_type": "code",
   "execution_count": 18,
   "id": "ffb85770-59bc-4207-b2b9-16c5e4e8fd21",
   "metadata": {},
   "outputs": [
    {
     "data": {
      "text/plain": [
       "-53.23128515051247"
      ]
     },
     "execution_count": 18,
     "metadata": {},
     "output_type": "execute_result"
    }
   ],
   "source": [
    "logccdf(Normal(0,1),10) # log(1 - cdf(Normal(0,1))"
   ]
  },
  {
   "cell_type": "code",
   "execution_count": 20,
   "id": "00fcae93-242e-47b7-809a-7e7a6a8b10b5",
   "metadata": {},
   "outputs": [
    {
     "data": {
      "text/plain": [
       "1974"
      ]
     },
     "execution_count": 20,
     "metadata": {},
     "output_type": "execute_result"
    }
   ],
   "source": [
    "rand(Binomial(10000,0.2))"
   ]
  },
  {
   "cell_type": "code",
   "execution_count": 21,
   "id": "7833f43c-2cc3-4ac5-8139-84810bffd4ea",
   "metadata": {},
   "outputs": [
    {
     "data": {
      "text/plain": [
       "1000-element Vector{Int64}:\n",
       " 2015\n",
       " 1969\n",
       " 1965\n",
       " 2033\n",
       " 2030\n",
       " 2021\n",
       " 2021\n",
       " 2016\n",
       " 2026\n",
       " 2013\n",
       " 1995\n",
       " 1955\n",
       " 2028\n",
       "    ⋮\n",
       " 1952\n",
       " 1994\n",
       " 1981\n",
       " 2021\n",
       " 1992\n",
       " 1891\n",
       " 2035\n",
       " 1986\n",
       " 1958\n",
       " 2037\n",
       " 2057\n",
       " 2004"
      ]
     },
     "execution_count": 21,
     "metadata": {},
     "output_type": "execute_result"
    }
   ],
   "source": [
    "rand(Binomial(10000,0.2),1000)"
   ]
  },
  {
   "cell_type": "code",
   "execution_count": 22,
   "id": "c9dd3797-5be7-4600-9fb8-b7e7cbbd378b",
   "metadata": {},
   "outputs": [
    {
     "data": {
      "text/plain": [
       "Gamma{Float64}(α=2.994298374180113, θ=5.067671211900343)"
      ]
     },
     "execution_count": 22,
     "metadata": {},
     "output_type": "execute_result"
    }
   ],
   "source": [
    "fit_mle(Gamma, rand(Gamma(3,5),1000))"
   ]
  },
  {
   "cell_type": "markdown",
   "id": "9e302f94-743d-48b2-a6bc-05843b5f499e",
   "metadata": {},
   "source": [
    "# References\n",
    "- [ ] [Distributions in Julia | Simon Byrne | JuliaCon 2014](https://www.youtube.com/watch?v=lB9cY1qg6w4)"
   ]
  },
  {
   "cell_type": "code",
   "execution_count": null,
   "id": "692a9f65-4bfd-47b2-9d85-1970887f67f9",
   "metadata": {},
   "outputs": [],
   "source": []
  }
 ],
 "metadata": {
  "kernelspec": {
   "display_name": "Julia 1.9.3",
   "language": "julia",
   "name": "julia-1.9"
  },
  "language_info": {
   "file_extension": ".jl",
   "mimetype": "application/julia",
   "name": "julia",
   "version": "1.10.0"
  }
 },
 "nbformat": 4,
 "nbformat_minor": 5
}
