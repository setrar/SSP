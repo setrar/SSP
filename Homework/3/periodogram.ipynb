{
 "cells": [
  {
   "cell_type": "code",
   "execution_count": 1,
   "id": "45e63f09-bb12-471f-9eaf-37c8c259a86c",
   "metadata": {},
   "outputs": [],
   "source": [
    "using FFTW\n",
    "using DSP  # Import DSP for hanning function\n",
    "using Plots"
   ]
  },
  {
   "cell_type": "code",
   "execution_count": 2,
   "id": "1cceb3e8-53b6-4a55-ba11-ffbc7af13320",
   "metadata": {},
   "outputs": [
    {
     "ename": "LoadError",
     "evalue": "ParseError:\n\u001b[90m# Error @ \u001b[0;0m\u001b]8;;file:///Users/valiha/Developer/SSP/Homework/3/In[2]#12:6\u001b\\\u001b[90mIn[2]:12:6\u001b[0;0m\u001b]8;;\u001b\\\n# f = fftfreq(N)\nf =  \u001b[48;2;120;70;70m.*\u001b[0;0m N  # Adjusting the frequency vector\n\u001b[90m#    └┘ ── \u001b[0;0m\u001b[91mnot a unary operator\u001b[0;0m",
     "output_type": "error",
     "traceback": [
      "ParseError:\n\u001b[90m# Error @ \u001b[0;0m\u001b]8;;file:///Users/valiha/Developer/SSP/Homework/3/In[2]#12:6\u001b\\\u001b[90mIn[2]:12:6\u001b[0;0m\u001b]8;;\u001b\\\n# f = fftfreq(N)\nf =  \u001b[48;2;120;70;70m.*\u001b[0;0m N  # Adjusting the frequency vector\n\u001b[90m#    └┘ ── \u001b[0;0m\u001b[91mnot a unary operator\u001b[0;0m",
      "",
      "Stacktrace:",
      " [1] top-level scope",
      "   @ In[2]:12"
     ]
    }
   ],
   "source": [
    "\n",
    "N = 2000\n",
    "a = -0.8\n",
    "x = randn(N)\n",
    "y = filt([1], [1, a], x)\n",
    "Yf = fft(y)\n",
    "Py = 1 / N * abs.(Yf).^2\n",
    "# f = range(-0.5, stop=0.5, length=N) * N\n",
    "# Sy = abs.(1 ./ abs2.(fft([1, a], N)))\n",
    "\n",
    "# f = fftfreq(N)\n",
    "f =  .* N  # Adjusting the frequency vector\n",
    "Sy = abs.((1 ./ abs2.(fftshift(Yf))))\n",
    "\n",
    "plot(f, -10 * log10.(abs2.(fftshift(Py))), alpha=0.65, label=\"Periodogram\")\n",
    "plot!(f, fftshift(Sy), color=\"yellow\", lw=2, label=\"True spectrum\")\n"
   ]
  },
  {
   "cell_type": "markdown",
   "id": "27c69cba-b599-4b6c-8392-143234d9ae58",
   "metadata": {},
   "source": [
    "# References\n",
    "- [ ] [1.2  Power spectrum estimation](https://perso.esiee.fr/~bercherj/Lectures_SignalProcessing/Lecture3_RandomSignals.html#Power-spectrum-estimation)"
   ]
  },
  {
   "cell_type": "code",
   "execution_count": null,
   "id": "fed69c0d-b053-4f77-99e4-2eaff313a5aa",
   "metadata": {},
   "outputs": [],
   "source": []
  }
 ],
 "metadata": {
  "kernelspec": {
   "display_name": "Julia 1.9.3",
   "language": "julia",
   "name": "julia-1.9"
  },
  "language_info": {
   "file_extension": ".jl",
   "mimetype": "application/julia",
   "name": "julia",
   "version": "1.10.0"
  }
 },
 "nbformat": 4,
 "nbformat_minor": 5
}
