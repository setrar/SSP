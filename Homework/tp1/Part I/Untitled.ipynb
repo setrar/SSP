{
 "cells": [
  {
   "cell_type": "markdown",
   "id": "2eb54562-11f6-4a51-bd6a-2132bddfca6f",
   "metadata": {},
   "source": [
    "$\\{i^2 : i \\in {0, \\dots, 10}\\}$"
   ]
  },
  {
   "cell_type": "code",
   "execution_count": 3,
   "id": "f428e461-2552-4b2f-9f27-247b81a876a2",
   "metadata": {},
   "outputs": [
    {
     "data": {
      "text/plain": [
       "11-element Vector{Int64}:\n",
       "   0\n",
       "   1\n",
       "   4\n",
       "   9\n",
       "  16\n",
       "  25\n",
       "  36\n",
       "  49\n",
       "  64\n",
       "  81\n",
       " 100"
      ]
     },
     "execution_count": 3,
     "metadata": {},
     "output_type": "execute_result"
    }
   ],
   "source": [
    "squares = [i^2 for i in 0:10]"
   ]
  },
  {
   "cell_type": "code",
   "execution_count": 6,
   "id": "ea297d9c-ea0d-4e8e-a85d-585c350faabd",
   "metadata": {},
   "outputs": [
    {
     "data": {
      "text/plain": [
       "1×11 transpose(::Vector{Int64}) with eltype Int64:\n",
       " 0  1  4  9  16  25  36  49  64  81  100"
      ]
     },
     "execution_count": 6,
     "metadata": {},
     "output_type": "execute_result"
    }
   ],
   "source": [
    "transpose(squares)"
   ]
  },
  {
   "cell_type": "code",
   "execution_count": null,
   "id": "b818509c-2351-4487-8183-03351e379aa0",
   "metadata": {},
   "outputs": [],
   "source": []
  }
 ],
 "metadata": {
  "kernelspec": {
   "display_name": "Julia 1.9.3",
   "language": "julia",
   "name": "julia-1.9"
  },
  "language_info": {
   "file_extension": ".jl",
   "mimetype": "application/julia",
   "name": "julia",
   "version": "1.10.0"
  }
 },
 "nbformat": 4,
 "nbformat_minor": 5
}
