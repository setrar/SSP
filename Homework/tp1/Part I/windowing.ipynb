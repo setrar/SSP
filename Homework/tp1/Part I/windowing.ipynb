{
 "cells": [
  {
   "cell_type": "code",
   "execution_count": 1,
   "id": "d16f1bfb-6110-4277-8ec5-279dcae89eb2",
   "metadata": {},
   "outputs": [],
   "source": [
    "using Plots"
   ]
  },
  {
   "cell_type": "code",
   "execution_count": 2,
   "id": "d02c3ffb-6128-4f9e-80c0-772e5072ee23",
   "metadata": {},
   "outputs": [
    {
     "data": {
      "text/plain": [
       "window (generic function with 1 method)"
      ]
     },
     "execution_count": 2,
     "metadata": {},
     "output_type": "execute_result"
    }
   ],
   "source": [
    "include(\"window.jl\")"
   ]
  },
  {
   "cell_type": "code",
   "execution_count": 4,
   "id": "a4c703ee-0fc6-46d0-9d1b-a5d7eab0ca08",
   "metadata": {},
   "outputs": [
    {
     "data": {
      "text/plain": [
       "256"
      ]
     },
     "execution_count": 4,
     "metadata": {},
     "output_type": "execute_result"
    }
   ],
   "source": [
    "N = 256"
   ]
  },
  {
   "cell_type": "code",
   "execution_count": 13,
   "id": "fed2ab0a-d4f7-4c64-903d-e81c146cae2f",
   "metadata": {},
   "outputs": [],
   "source": [
    "type = \"boxcar\"  # Replace with the desired window type\n",
    "# N = 10  # Replace with the desired window length\n",
    "w = window(type, N); # Gives an array of 1.0s"
   ]
  },
  {
   "cell_type": "code",
   "execution_count": 14,
   "id": "8a88600e-001c-40f4-9a50-7b1bd03a9b8c",
   "metadata": {},
   "outputs": [
    {
     "data": {
      "text/plain": [
       "1×256 Matrix{Float64}:\n",
       " 0.0  0.0  0.0  0.0  0.0  0.0  0.0  0.0  …  0.0  0.0  0.0  0.0  0.0  0.0  0.0"
      ]
     },
     "execution_count": 14,
     "metadata": {},
     "output_type": "execute_result"
    }
   ],
   "source": [
    "zeros(1, N)"
   ]
  },
  {
   "cell_type": "code",
   "execution_count": 16,
   "id": "7dcd40b4-919f-4f1c-ab63-f62aa96d416d",
   "metadata": {},
   "outputs": [],
   "source": [
    "signal = randn(N); # White Gaussian noise"
   ]
  },
  {
   "cell_type": "code",
   "execution_count": 17,
   "id": "5585f547-8657-4c70-a49e-349a189b29cf",
   "metadata": {},
   "outputs": [
    {
     "data": {
      "text/plain": [
       "1×256 Matrix{Float64}:\n",
       " -0.706754  0.291514  -0.496308  -0.568103  …  -0.517343  0.346604  1.36115"
      ]
     },
     "execution_count": 17,
     "metadata": {},
     "output_type": "execute_result"
    }
   ],
   "source": [
    "signal = reshape(signal, 1, :)"
   ]
  },
  {
   "cell_type": "code",
   "execution_count": 18,
   "id": "b7655ce9-a233-4b36-9702-25325a326e9b",
   "metadata": {},
   "outputs": [
    {
     "data": {
      "text/plain": [
       "2×256 Matrix{Float64}:\n",
       " -0.706754  0.291514  -0.496308  -0.568103  …  -0.517343  0.346604  1.36115\n",
       "  0.0       0.0        0.0        0.0           0.0       0.0       0.0"
      ]
     },
     "execution_count": 18,
     "metadata": {},
     "output_type": "execute_result"
    }
   ],
   "source": [
    "vcat(signal, zeros(1, N)) "
   ]
  },
  {
   "cell_type": "code",
   "execution_count": null,
   "id": "e3966775-c828-48f2-808b-b6c98ce715bf",
   "metadata": {},
   "outputs": [],
   "source": []
  }
 ],
 "metadata": {
  "kernelspec": {
   "display_name": "Julia 1.9.3",
   "language": "julia",
   "name": "julia-1.9"
  },
  "language_info": {
   "file_extension": ".jl",
   "mimetype": "application/julia",
   "name": "julia",
   "version": "1.10.0"
  }
 },
 "nbformat": 4,
 "nbformat_minor": 5
}
