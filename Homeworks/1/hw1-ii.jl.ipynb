{
 "cells": [
  {
   "cell_type": "markdown",
   "id": "34b122bb-42d0-4c29-88df-b68dd55e8d8d",
   "metadata": {},
   "source": [
    "## (ii) Consider now also a shifted Rayleigh distribution:"
   ]
  },
  {
   "cell_type": "markdown",
   "id": "b19efd55-ffb7-46d0-84c2-cf0136a48ff0",
   "metadata": {},
   "source": [
    "$$\n",
    "\\begin{gather}\n",
    "f_{SR}(y|\\alpha, \\sigma^2) = \n",
    "\\begin{Bmatrix}\n",
    "0 & , y < \\alpha\n",
    "\\\\\n",
    "\\frac{y - \\alpha}{\\sigma^2}  e^{-\\frac{(y - \\alpha)^2}{2\\sigma^2}} & , \\alpha \\geq y\n",
    "\\end{Bmatrix} =\n",
    "\\frac{y - \\alpha}{\\sigma^2}  e^{-\\frac{(y - \\alpha)^2}{2\\sigma^2}} \\mathbf{1}_{[\\alpha,\\infty)}(y)\n",
    "\\\\\n",
    "\\\\\n",
    "\\text { for some } α ≥ 0, σ2 > 0  \\text{ , and where we introduced the indicator function for a set A : }\n",
    "\\\\\n",
    "\\\\\n",
    "\\mathbf{1}_A(y) = \n",
    "\\begin{cases}\n",
    "0 & , y \\notin A \\\\\n",
    "1 & , y \\in A\n",
    "\\end{cases}\n",
    "\\end{gather}\n",
    "$$"
   ]
  },
  {
   "cell_type": "markdown",
   "id": "a0b87946-30c8-455e-956d-da976021cf30",
   "metadata": {},
   "source": [
    "## Disclaimer \n",
    "\n",
    "$$ \\text{ In Julia there is only one Rayleigh Distribution which only takes one parameter } \\alpha$$\n",
    "$${\\color{Red}Y = Rayleigh(0.5)}$$\n"
   ]
  },
  {
   "cell_type": "code",
   "execution_count": 1,
   "id": "4fe8abff-ef7e-4dca-9afa-49f1c28d54fe",
   "metadata": {},
   "outputs": [
    {
     "data": {
      "text/plain": [
       "(:σ,)"
      ]
     },
     "execution_count": 1,
     "metadata": {},
     "output_type": "execute_result"
    }
   ],
   "source": [
    "using Distributions\n",
    "\n",
    "fieldnames(Rayleigh)"
   ]
  },
  {
   "cell_type": "markdown",
   "id": "9dbaf25a-b153-44a8-b227-f0a1f43c26a8",
   "metadata": {},
   "source": [
    "Turing Process which involves Probabilistic Programming allows the extension of a Distribution.\n",
    "This is what I was trying to achieve by including the rayleigh.jl source code but I was not able to get far enough.\n"
   ]
  },
  {
   "cell_type": "markdown",
   "id": "2ac73786-71bf-48c0-b0f5-64afbe9e6288",
   "metadata": {},
   "source": [
    "$$\n",
    "\\begin{gather}\n",
    "\\text { The Rayleigh distribution is commonly used to model the distribution of magnitudes of vector components. }\n",
    "\\\\\n",
    "\\\\\n",
    "\\text { let's consider the case where you have two parameters for the Rayleigh distribution: } \n",
    "\\\\\n",
    "\\text { a scale parameter } {\\color{Orange}\\sigma^2} \\text{ and a location parameter } {\\color{Cyan}\\alpha} .\n",
    "\\\\\n",
    "\\\\\n",
    "\\text{ The probability density function (PDF) of the Rayleigh distribution with these two parameters is given by:}\n",
    "\\\\\n",
    "f_{SR}(y| {\\color{Cyan}\\alpha}, {\\color{Orange}\\sigma^2}) = \\frac{y - {\\color{Cyan}\\alpha}}{\\color{Orange}\\sigma^2} e^{-\\frac{(y - {\\color{Cyan}\\alpha})^2}{2{\\color{Orange}\\sigma^2}}}\n",
    "\\\\\n",
    "\\\\\n",
    "\\end{gather}\n",
    "$$"
   ]
  },
  {
   "cell_type": "code",
   "execution_count": 2,
   "id": "80df514a-537a-4570-aa37-eb26f8af2d4a",
   "metadata": {},
   "outputs": [
    {
     "data": {
      "text/plain": [
       "Main.custom"
      ]
     },
     "execution_count": 2,
     "metadata": {},
     "output_type": "execute_result"
    }
   ],
   "source": [
    "include(\"rayleigh.jl\")"
   ]
  },
  {
   "cell_type": "code",
   "execution_count": 3,
   "id": "612c0fcd-5128-422e-be21-25c930c8b4a0",
   "metadata": {},
   "outputs": [
    {
     "ename": "LoadError",
     "evalue": "UndefVarError: `x` not defined",
     "output_type": "error",
     "traceback": [
      "UndefVarError: `x` not defined",
      "",
      "Stacktrace:",
      " [1] top-level scope",
      "   @ In[3]:6"
     ]
    }
   ],
   "source": [
    "# your code\n",
    "using Plots\n",
    "\n",
    "Y = custom.ScaledShiftedRayleigh()\n",
    "\n",
    "p = custom.pdf.(Y, x)\n",
    "\n",
    "# Plotting the result\n",
    "plot(x, p, xlabel=\"x\", ylabel=\"Probability Density\", label=\"Rayleigh PDF (σ = 0.5)\", legend=:topright)"
   ]
  },
  {
   "cell_type": "markdown",
   "id": "938d6816-5b45-4906-afb0-d96fc0cc0351",
   "metadata": {},
   "source": [
    "$$\n",
    "{\\color{YellowGreen}(a)} \\text { Determine the mean of } y, m_y \\text{ , according to this shifted Rayleigh distribution, as a function of the parameters } {\\color{Cyan}\\alpha} \\text{  and } {\\color{Orange}\\sigma^2}. \n",
    "$$"
   ]
  },
  {
   "cell_type": "markdown",
   "id": "9d5ffdb9-1ffd-4cc5-8322-9c005d94801a",
   "metadata": {},
   "source": [
    "\n",
    "$$\\text { The mean } m_y \\text { is given by the integral: }$$\n",
    "\n",
    "$$ m_y = \\int_{-\\infty}^{\\infty} y \\cdot f_{SR}(y| {\\color{Cyan}\\alpha}, {\\color{Orange}\\sigma^2}) \\,dy $$\n",
    "\n",
    "Substituting the modified PDF, we have:\n",
    "\n",
    "$$ m_y = \\int_{-\\infty}^{\\infty} y \\cdot \\frac{y - {\\color{Cyan}\\alpha}}{\\color{Orange}\\sigma^2} e^{-\\frac{(y - {\\color{Cyan}\\alpha})^2}{2{\\color{Orange}\\sigma^2}}} \\,dy $$\n",
    "\n",
    "This integral may not have a simple closed-form solution"
   ]
  },
  {
   "cell_type": "code",
   "execution_count": 17,
   "id": "a87d7491-caf3-455a-a15f-e6a0062b1a4d",
   "metadata": {},
   "outputs": [
    {
     "data": {
      "text/plain": [
       "2.2533141373155"
      ]
     },
     "execution_count": 17,
     "metadata": {},
     "output_type": "execute_result"
    }
   ],
   "source": [
    "custom.mean(Y)"
   ]
  },
  {
   "cell_type": "markdown",
   "id": "074112b8-c0e2-430d-9432-4afd6c90568a",
   "metadata": {},
   "source": [
    "$$\n",
    "{\\color{YellowGreen}(b)} \\text { Determine the variance of } y, σ_y^2 \\text { , according to this shifted Rayleigh distribution, as a function of the parameters } {\\color{Cyan}\\alpha} \\text{  and } {\\color{Orange}\\sigma^2}. \n",
    "$$"
   ]
  },
  {
   "cell_type": "markdown",
   "id": "74648da3-2acc-4762-9397-f52ede17a3c8",
   "metadata": {},
   "source": [
    "The variance provides a measure of the spread or dispersion of the distribution.\n",
    "\n",
    "$$\\text{ The variance } (\\sigma_Y^2) \\text{ is given by the integral: }$$\n",
    "\n",
    "$$ \\sigma_Y^2 = \\int_{-\\infty}^{\\infty} (y - m_y)^2 \\cdot f_{SR}(y| {\\color{Cyan}\\alpha}, {\\color{Orange}\\sigma^2}) \\,dy $$\n",
    "\n",
    "$$\\text{ Here, } m_y \\text { is the mean of the distribution. }$$\n",
    "\n",
    "\n",
    "Substituting the PDF, we have:\n",
    "\n",
    "$$ \\sigma_Y^2 = \\int_{-\\infty}^{\\infty} (y - m_y)^2 \\cdot \\frac{y - {\\color{Cyan}\\alpha}}{\\color{Orange}\\sigma^2} e^{-\\frac{(y - {\\color{Cyan}\\alpha})^2}{2{\\color{Orange}\\sigma^2}}} \\,dy $$\n",
    "\n",
    "\n"
   ]
  },
  {
   "cell_type": "code",
   "execution_count": 12,
   "id": "64b60d2e-24de-458d-aaf7-c00a2f88d2c6",
   "metadata": {},
   "outputs": [],
   "source": [
    "# custom.var(Y)"
   ]
  },
  {
   "cell_type": "markdown",
   "id": "2dd534a1-37b4-4d99-bd8d-056c87ce38bd",
   "metadata": {},
   "source": [
    "$$\n",
    "\\begin{gather}\n",
    "{\\color{YellowGreen}(c)} \\text{ We now collect n i.i.d. measurements } y_i \\text{ into the vector Y .} \\qquad \\qquad \\qquad \\qquad \\qquad \\qquad \\qquad \\qquad \\qquad \\qquad \\qquad \\qquad \\qquad\n",
    "\\\\\n",
    "\\quad \\text{ Find the log likelihood function } L({\\color{Cyan}α},{\\color{Orange}σ^2};Y) \\text { for } {\\color{Cyan}α} \\text { and } {\\color{Orange}σ^2} \\text {given Y . } \\qquad \\qquad \\qquad \\qquad \\qquad \\qquad \\qquad \\qquad \\qquad\n",
    "\\end{gather}\n",
    "$$"
   ]
  },
  {
   "cell_type": "markdown",
   "id": "3b774216-bc70-42a5-84f1-361bbd51f05e",
   "metadata": {},
   "source": [
    "$$\n",
    "\\begin{gather}\n",
    "\\text { - The likelihood function } L({\\color{Cyan}α},{\\color{Orange}σ^2};Y) \\text{ is derived from the product of }\n",
    "\\\\\n",
    "\\text { the probability density function (PDF) evaluated at each observed data point. }\n",
    "\\\\\n",
    "\\\\\n",
    "\\text{ - The likelihood function is used in maximum likelihood estimation (MLE) } \n",
    "\\\\\n",
    "\\text { to estimate the parameters } {\\color{Cyan}α} \\text {  and } {\\color{Orange}σ^2}\n",
    "\\text { that maximize the probability of observing the given data. }\n",
    "\\\\\n",
    "\\\\\n",
    "\\text { - The likelihood function is the product of these PDF values for each observed data point: }\n",
    "\\\\\n",
    "\\\\\n",
    "L({\\color{Cyan}α},{\\color{Orange}σ^2};Y) = \\prod_{i=1}^{n} \\left( f_{SR}(y; {\\color{Cyan}\\alpha}, {\\color{Orange}\\sigma^2} \\right)\n",
    "\\\\\n",
    "\\text { also: } \\qquad \\qquad \\qquad \\qquad \\qquad \\qquad\n",
    "\\\\\n",
    "L({\\color{Cyan}α},{\\color{Orange}σ^2};Y) = \\prod_{i=1}^{n} \\left( \\frac{y - {\\color{Cyan}\\alpha}}{\\color{Orange}\\sigma^2} e^{-\\frac{(y - {\\color{Cyan}\\alpha})^2}{2{\\color{Orange}\\sigma^2}}} \\right)\n",
    "\\\\\n",
    "\\\\\n",
    "\\text { {\\color{Purple}In practice} , it's often more convenient to work with the log-likelihood function, }\n",
    "\\\\\n",
    "\\text{ which is the {\\color{YellowGreen}natural} logarithm of the likelihood function: }\n",
    "\\\\\n",
    "\\\\\n",
    "\\text { If you have a set of i.i.d. observations } Y = \\{y_1, y_2, \\ldots, y_n\\} \\text{ , the {\\color{BlueGreen}log}-likelihood function } L({\\color{Cyan}α},{\\color{Orange}σ^2};Y) \\text { is given by: }\n",
    "\\\\\n",
    "\\\\\n",
    "{\\color{BlueGreen}\\log } \\; L({\\color{Cyan}α},{\\color{Orange}σ^2};Y) = \\sum_{i=1}^{n} \\log(f_{SR}(y; {\\color{Cyan}\\alpha}, {\\color{Orange}\\sigma^2}) \n",
    "\\\\\n",
    "\\\\\n",
    "{\\color{BlueGreen}\\log } \\; L({\\color{Cyan}α},{\\color{Orange}σ^2};Y) = \\sum_{i=1}^{n} \\left[ \\log(y_i - \\alpha) - \\log(\\sigma^2) - \\frac{{(y_i - \\alpha)^2}}{{2\\sigma^2}} \\right]\n",
    "\\\\\n",
    "\\\\\n",
    "\\text { Substituting the expression for the Rayleigh PDF, we get: } \\qquad \\qquad \\qquad \\qquad \\qquad \\qquad\n",
    "\\\\\n",
    "{\\color{BlueGreen}\\log } \\; L({\\color{Cyan}α},{\\color{Orange}σ^2};Y) = \\sum_{i=1}^{n} \\left[\\log(y_i - \\alpha) - \\frac{(y_i - \\alpha)^2}{2\\sigma^2}\\right] - n\\log(\\sigma^2)\n",
    "\\\\\n",
    "\\\\\n",
    "\\text { So, the log-likelihood function now includes both the location parameter } {\\color{Cyan}α} \\text { and the scale parameter } {\\color{Orange}σ^2}. \n",
    "\\\\\n",
    "\\\\\n",
    "\\text { As always, in practice, you would typically use optimization techniques }\n",
    "\\\\\n",
    "\\text { or Bayesian methods to estimate these parameters based on your observed data.}\n",
    "\\\\\n",
    "\\end{gather}\n",
    "$$"
   ]
  },
  {
   "cell_type": "code",
   "execution_count": 18,
   "id": "ea670b1a-b319-4d02-9736-6a470e73269c",
   "metadata": {},
   "outputs": [],
   "source": [
    "# Your code here\n"
   ]
  },
  {
   "cell_type": "markdown",
   "id": "f20d88d8-0fa4-45b1-8d21-59cc5b825833",
   "metadata": {},
   "source": [
    "$$\n",
    "\\begin{gather}\n",
    "{\\color{yellowGreen}(d)} \\text {  Reduce the range of possible values for α ≥ 0 by determining the range of α for which } \\qquad \\qquad \\qquad \\qquad \\qquad \\qquad\n",
    "\\\\\n",
    "\\text { the log likelihood takes on finite values (> −∞). Assume for what follows that α is in this range. } \\qquad \\qquad \n",
    "\\end{gather}\n",
    "$$"
   ]
  },
  {
   "cell_type": "code",
   "execution_count": 19,
   "id": "df45f110-1992-4aa0-9b0c-1af75fe5353e",
   "metadata": {},
   "outputs": [],
   "source": [
    "# Your code here"
   ]
  },
  {
   "cell_type": "markdown",
   "id": "32e08e72-d1b5-4710-8b72-cc46761e97af",
   "metadata": {},
   "source": [
    "$$\n",
    "{\\color{yellowGreen}(e)} \\text {  For a given } \\alpha \\text {, find the } \\widehat{\\sigma^2}(Y,\\alpha) \\text { that maximizes the log likelihood function. } \\qquad \\qquad \\qquad \\qquad \\qquad \\qquad \\qquad  \\qquad\n",
    "$$"
   ]
  },
  {
   "cell_type": "markdown",
   "id": "9346ce16-46ab-487a-bfa9-29f916101fbe",
   "metadata": {},
   "source": [
    "$$\n",
    "\\begin{gather}\n",
    "\\text { To find the value of } \\sigma_c^2 \\text { that maximizes the log-likelihood function for a given } \\alpha \n",
    "\\\\\n",
    "\\text { you need to maximize the log-likelihood function with respect to } \\sigma^2. \n",
    "\\\\\n",
    "\\\\\n",
    "\\text{ This involves taking the {\\color{BlueGreen}derivative} of the log-likelihood function } \n",
    "\\\\\n",
    "\\text{ with respect to } \\sigma^2 \\text {, setting it equal to zero, and solving for } \\sigma_c^2. \n",
    "\\\\\n",
    "\\\\\n",
    "\\text{ The critical point obtained from this process corresponds to the value of } \\sigma_c^2 \n",
    "\\\\\n",
    "\\text { that maximizes the log-likelihood function.}\n",
    "\\\\\n",
    "\\\\\n",
    "\\text{ Let's denote the log-likelihood function as } L(\\alpha, \\sigma^2; Y):\n",
    "\\\\\n",
    "\\\\\n",
    "L(\\alpha, \\sigma^2; Y) = \\sum_{i=1}^{n} \\left[ \\log(y_i - \\alpha) - \\log(\\sigma^2) - \\frac{{(y_i - \\alpha)^2}}{{2\\sigma^2}} \\right]\n",
    "\\\\\n",
    "\\\\\n",
    "\\text { Now, find the {\\color{BlueGreen}derivative} {\\color{Yellow}(show how to solve!)} of L with respect to } \\sigma^2 \\text { and set it equal to zero: }\n",
    "\\\\\n",
    "\\\\\n",
    " \\frac{\\partial L}{\\partial \\sigma^2} = \\sum_{i=1}^{n} \\left[ -\\frac{1}{\\sigma^2} + \\frac{{(y_i - \\alpha)^2}}{{(\\sigma^2)^2}} \\right] = 0 \n",
    "\\\\\n",
    "\\\\\n",
    "\\text { Solving this equation for } \\sigma_c^2 \\text { gives the critical point. You can rearrange the terms and solve for } \\sigma_c^2:\n",
    "\\\\\n",
    "\\sum_{i=1}^{n} \\frac{{(y_i - \\alpha)^2}}{{(\\sigma_c^2)^2}} = \\sum_{i=1}^{n} \\frac{1}{\\sigma_c^2} \n",
    "\\\\\n",
    "\\frac{1}{\\sigma_c^2} \\sum_{i=1}^{n} (y_i - \\alpha)^2 = \\frac{n}{\\sigma_c^2}\n",
    "\\\\\n",
    "\\sigma_c^2 = \\frac{1}{n} \\sum_{i=1}^{n} (y_i - \\alpha)^2\n",
    "\\\\\n",
    "\\text{ So, for a given } \\alpha \\text { , the value of } \\sigma_c^2 \\text { that maximizes the log-likelihood function }\n",
    "\\\\\n",
    "\\text { is the sample variance of the deviations of the observed data } Y \\text { from } \\alpha.\n",
    "\\end{gather}\n",
    "$$"
   ]
  },
  {
   "cell_type": "code",
   "execution_count": 20,
   "id": "0a8beb86-f970-431a-8f3f-cdb5983bef04",
   "metadata": {},
   "outputs": [],
   "source": [
    "# Your code here"
   ]
  },
  {
   "cell_type": "markdown",
   "id": "14e55cc0-b3c9-4ef9-8c3c-b8054aaaa1a7",
   "metadata": {},
   "source": [
    "$$\n",
    "\\begin{gather}\n",
    "\\text { (f) Find the } \\hat{\\alpha}_{ML}(Y ) \\text { that maximizes } L(\\alpha, \\widehat{\\sigma^2}(Y,\\alpha); Y ). \\qquad \\qquad \\qquad \\qquad \\qquad \\qquad \\qquad \\qquad \\qquad \\qquad \\qquad \\qquad  \\qquad\n",
    "\\\\\n",
    "\\text{ Determine the corresponding } \\widehat{\\sigma^2}_{ML}(Y ) = \\widehat{\\sigma^2}(Y , \\hat{\\alpha}_{ML}(Y )) \\qquad \\qquad \\qquad \\qquad \\qquad \\qquad \\qquad \\qquad  \\qquad  \\qquad\n",
    "\\end{gather}\n",
    "$$"
   ]
  },
  {
   "cell_type": "markdown",
   "id": "a3370f24-e048-4e7c-9cbc-1455d13857eb",
   "metadata": {},
   "source": [
    "$$\n",
    "\\begin{gather}\n",
    "\\text{ To find the corresponding } \\hat{\\sigma}^2_{ML}(Y) \\text{ in terms of the MLE estimate } \\hat{\\alpha}_{ML}(Y) ,\n",
    "\\\\\n",
    "\\text{ we substitute the MLE estimate for \\(\\alpha\\) into the expression for } \\hat{\\sigma}^2(Y, \\alpha).\n",
    "\\\\\n",
    "\\\\\n",
    "\\text{ We have: }\n",
    "\\hat{\\sigma}^2_{ML}(Y) = \\frac{1}{n} \\sum_{i=1}^{n} (y_i - \\hat{\\alpha}_{ML})^2\n",
    "\\\\\n",
    "\\text{ Now, we can substitute } \\hat{\\alpha}_{ML} \\text{ into the expression for } \\hat{\\sigma}^2(Y, \\alpha) :\n",
    "\\\\\n",
    "\\hat{\\sigma}^2(Y, \\hat{\\alpha}_{ML}) = \\frac{1}{n} \\sum_{i=1}^{n} (y_i - \\hat{\\alpha}_{ML})^2\n",
    "\\\\\n",
    "\\text{ This means that the MLE for } \\sigma^2 \\text{ is given by the same expression as the estimate for } \\sigma^2 \n",
    "\\\\\n",
    "\\text{  that maximizes the log-likelihood function when the MLE estimate for } \\alpha \\text { is used. }\n",
    "\\\\\n",
    "\\\\\n",
    "\\text { In summary, the MLE for } \\sigma^2 \\text{ is determined by substituting }\n",
    "\\\\\n",
    "\\text{ the MLE estimate for } \\alpha \\text{ into the expression for } \\hat{\\sigma}^2(Y, \\alpha).\n",
    "\\\\\n",
    "\\end{gather}\n",
    "$$"
   ]
  },
  {
   "cell_type": "code",
   "execution_count": 21,
   "id": "9bed98ef-9558-4875-ba64-8b0c09894bc8",
   "metadata": {},
   "outputs": [],
   "source": [
    "# Your code"
   ]
  },
  {
   "cell_type": "markdown",
   "id": "97733727-191e-4a29-a5e6-ec308015c8d5",
   "metadata": {},
   "source": [
    "# Running a sampler"
   ]
  },
  {
   "cell_type": "code",
   "execution_count": 22,
   "id": "43bd9085-efa2-4a30-b006-2ac692b85bd6",
   "metadata": {},
   "outputs": [
    {
     "data": {
      "text/plain": [
       "Main.custom.ScaledShiftedRayleighSampler(Rayleigh{Float64}(σ=1.0), 2.0, 1.5)"
      ]
     },
     "execution_count": 22,
     "metadata": {},
     "output_type": "execute_result"
    }
   ],
   "source": [
    "using Turing\n",
    "\n",
    "\n",
    "# Generate synthetic data from a Rayleigh distribution with known parameters\n",
    "true_α = 2.0\n",
    "true_σ = 1.5\n",
    "data = custom.ScaledShiftedRayleighSampler(Rayleigh(),true_α, true_σ)\n"
   ]
  },
  {
   "cell_type": "code",
   "execution_count": 23,
   "id": "63379daa-54a5-4e96-b749-3e9a2ea70de2",
   "metadata": {},
   "outputs": [
    {
     "data": {
      "text/plain": [
       "rayleigh_model (generic function with 2 methods)"
      ]
     },
     "execution_count": 23,
     "metadata": {},
     "output_type": "execute_result"
    }
   ],
   "source": [
    "# Define a Turing model using the custom distribution\n",
    "@model function rayleigh_model(y)\n",
    "    α ~ Uniform(0, 5)  # Prior for the location parameter\n",
    "    σ ~ Uniform(0, 5)  # Prior for the scale parameter\n",
    "    y ~ custom.ScaledShiftedRayleigh(α, σ)  # Likelihood\n",
    "end"
   ]
  },
  {
   "cell_type": "code",
   "execution_count": 24,
   "id": "f4369335-cdc4-490d-95e0-72e01fe68560",
   "metadata": {},
   "outputs": [],
   "source": [
    "# Sample from the posterior distribution using MCMC\n",
    "# chain = sample(rayleigh_model(data), NUTS(), 1000)"
   ]
  },
  {
   "cell_type": "markdown",
   "id": "7a370fbe-a61a-4615-bb19-a078a2bc7d6b",
   "metadata": {},
   "source": [
    "# References\n",
    "- [ ] [The shifted Rayleigh filter for bearings only tracking](https://ieeexplore.ieee.org/document/1591841)\n",
    "- [ ] [Parameter estimation of a Rayleigh random variable with an offset](https://stats.stackexchange.com/questions/224416/parameter-estimation-of-a-rayleigh-random-variable-with-an-offset)\n",
    "- [ ] [Two-Parameter Rayleigh Distribution: Different Methods of Estimation](https://home.iitk.ac.in/~kundu/two-par-rayleigh-final.pdf)\n",
    "- [ ] [Estimating the Parameters of the Two-Parameter Rayleigh Distribution Based on Adaptive Type II Progressive Hybrid Censored Data with Competing Risks](https://www.mdpi.com/2227-7390/8/10/1783)\n",
    "- [ ] [Exact Solutions for a Two-Parameter Rayleigh Distribution](https://www.ripublication.com/gjpam17/gjpamv13n11_27.pdf)\n",
    "- [ ] [Distributions.jl - pdf() for Continuous Uniform Distribution](https://discourse.julialang.org/t/distributions-jl-pdf-for-continuous-uniform-distribution/27686/4)"
   ]
  },
  {
   "cell_type": "markdown",
   "id": "17e2743a-6f9e-4a17-92a2-fb6396b87438",
   "metadata": {},
   "source": [
    "- [ ] Using Help with Julia\n",
    "\n",
    "```julia\n",
    "help?> Rayleigh\n",
    "```\n",
    "search: Rayleigh ArrayLikeVariate\n",
    "\n",
    "  Rayleigh(σ)\n",
    "\n",
    "$$\n",
    "\\text { The Rayleigh distribution with scale σ has probability density function } \\qquad f(x; \\sigma) = \\frac{x}{\\sigma^2} e^{-\\frac{x^2}{2 \\sigma^2}}, \\quad x > 0\n",
    "$$\n",
    "\n",
    "$$ \n",
    "\\begin{gather}\n",
    "\\text{ It is related to the Normal distribution via the property that if } \n",
    "\\quad \n",
    "X, Y \\sim \\operatorname{Normal}(0,\\sigma),\n",
    "\\text{  independently, then } \\quad \\sqrt{X^2 + Y^2} \\sim \\operatorname{Rayleigh}(\\sigma).\n",
    "\\end{gather}\n",
    "$$\n",
    "\n",
    "```julia\n",
    "  Rayleigh()       # Rayleigh distribution with unit scale, i.e. Rayleigh(1)\n",
    "  Rayleigh(σ)      # Rayleigh distribution with scale σ\n",
    "  \n",
    "  params(d)        # Get the parameters, i.e. (σ,)\n",
    "  scale(d)         # Get the scale parameter, i.e. σ\n",
    "```\n",
    "\n",
    "  External links\n",
    "\n",
    "    •  Rayleigh distribution on Wikipedia (http://en.wikipedia.org/wiki/Rayleigh_distribution)"
   ]
  },
  {
   "cell_type": "markdown",
   "id": "21f9f1d6-3fb1-4ab5-b6a7-5dab68dee820",
   "metadata": {},
   "source": [
    "- [ ] [Extending Julia Functions - Adding a New Distribution to Distributions.jl for a Turing.jl Workflow](https://www.youtube.com/watch?v=7J_VFr2e_U8)"
   ]
  }
 ],
 "metadata": {
  "kernelspec": {
   "display_name": "Julia 1.9.3",
   "language": "julia",
   "name": "julia-1.9"
  },
  "language_info": {
   "file_extension": ".jl",
   "mimetype": "application/julia",
   "name": "julia",
   "version": "1.10.0"
  }
 },
 "nbformat": 4,
 "nbformat_minor": 5
}
