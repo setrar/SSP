{
 "cells": [
  {
   "cell_type": "markdown",
   "id": "08c764ba-2e13-4f2e-bd1a-274090699a0b",
   "metadata": {},
   "source": [
    "# Maximum Likelihood Estimation: The Normal Linear Model"
   ]
  },
  {
   "cell_type": "markdown",
   "id": "2451e915-8cb5-4d0b-9571-fdafa3fe3c41",
   "metadata": {},
   "source": [
    "The following tutorial will introduce maximum likelihood estimation in Julia for the normal linear model.\n",
    "\n",
    "The normal linear model (sometimes referred to as the OLS model) is the workhorse of regression modeling and is utilized across a number of diverse fields. In this tutorial, we will utilize simulated data to demonstrate how Julia can be used to recover the parameters of interest."
   ]
  },
  {
   "cell_type": "markdown",
   "id": "ea0e55d5-4c00-472b-a412-cc0b33f32e55",
   "metadata": {},
   "source": [
    "The first order of business is to use the `Optim` package and also include the `NLSolversBase` routine:"
   ]
  },
  {
   "cell_type": "code",
   "execution_count": 2,
   "id": "a7cb82dc-485d-46ec-b635-d1b31945cabb",
   "metadata": {},
   "outputs": [],
   "source": [
    "using Optim, NLSolversBase, Random\n",
    "using LinearAlgebra: diag\n",
    "Random.seed!(0);                            # Fix random seed generator for reproducibility"
   ]
  },
  {
   "cell_type": "code",
   "execution_count": 3,
   "id": "64c74d97-624c-4b2a-bb0e-fec5ded3050a",
   "metadata": {},
   "outputs": [],
   "source": [
    "nₒᵦₛ = 500 # Number of observations\n",
    "nᵥₐᵣ = 1; # Number of variables"
   ]
  },
  {
   "cell_type": "markdown",
   "id": "be93a98e-38a6-4fba-a5ee-c2d176c5c881",
   "metadata": {},
   "source": [
    "The first item that needs to be addressed is the `data generating process` or `DGP`. The following code will produce data from a normal linear model:"
   ]
  },
  {
   "cell_type": "code",
   "execution_count": 4,
   "id": "10e667c0-0a62-4b2e-b427-0305befd2566",
   "metadata": {},
   "outputs": [],
   "source": [
    "β = ones(nᵥₐᵣ)*3.0                  # True coefficients\n",
    "x = [ones(nₒᵦₛ) randn(nₒᵦₛ,nᵥₐᵣ-1)]  # X matrix of explanatory variables plus constant\n",
    "ε = randn(nₒᵦₛ)*0.5;                 # Error variance"
   ]
  },
  {
   "cell_type": "code",
   "execution_count": 5,
   "id": "c05a0daf-186a-4b99-a774-faa7860e3c32",
   "metadata": {},
   "outputs": [],
   "source": [
    "y = x*β + ε;                        # Generate Data"
   ]
  },
  {
   "cell_type": "markdown",
   "id": "c2be877f-156a-4bf1-945e-942e0a6929fd",
   "metadata": {},
   "source": [
    "In the above example, we have 500 observations, 2 explanatory variables plus an intercept, an error variance equal to 0.5, coefficients equal to 3.0, and all of these are subject to change by the user. Since we know the true value of these parameters, we should obtain these values when we maximize the likelihood function."
   ]
  },
  {
   "cell_type": "markdown",
   "id": "7bfea197-b527-47c7-9a0a-5dffe58b9045",
   "metadata": {},
   "source": [
    "The next step in our tutorial is to define a Julia function for the `likelihood function`. The following function defines the `likelihood function` for the `normal linear model`:"
   ]
  },
  {
   "cell_type": "code",
   "execution_count": 6,
   "id": "645698d8-1392-40ab-974b-279116b56f96",
   "metadata": {},
   "outputs": [
    {
     "data": {
      "text/plain": [
       "Log_Likelihood (generic function with 1 method)"
      ]
     },
     "execution_count": 6,
     "metadata": {},
     "output_type": "execute_result"
    }
   ],
   "source": [
    "function Log_Likelihood(X, Y, β, log_σ, n)\n",
    "    σ = exp(log_σ)\n",
    "    llike = -n/2*log(2π) - n/2* log(σ^2) - (sum((Y - X * β).^2) / (2σ^2))\n",
    "    llike = -llike\n",
    "end"
   ]
  },
  {
   "cell_type": "code",
   "execution_count": 7,
   "id": "1da94b21-10fa-4b13-8352-9335345283b6",
   "metadata": {},
   "outputs": [
    {
     "data": {
      "text/plain": [
       "Log_Likelihood (generic function with 2 methods)"
      ]
     },
     "execution_count": 7,
     "metadata": {},
     "output_type": "execute_result"
    }
   ],
   "source": [
    "Log_Likelihood(X,Y, pars) = Log_Likelihood(X,Y, pars...)"
   ]
  },
  {
   "cell_type": "markdown",
   "id": "b47494e7-f5a9-4e46-91cd-ac8ad88804fc",
   "metadata": {},
   "source": [
    "The log likelihood function accepts 4 inputs: the matrix of explanatory variables (X), the dependent variable (Y), the β's, and the error varicance. Note that we exponentiate the error variance in the second line of the code because the error variance cannot be negative and we want to avoid this situation when maximizing the likelihood."
   ]
  },
  {
   "cell_type": "markdown",
   "id": "922460d9-e241-4d4b-b6c0-3dec868050f5",
   "metadata": {},
   "source": [
    "The next step in our tutorial is to optimize our function. We first use the `TwiceDifferentiable` command in order to obtain the `Hessian` matrix later on, which will be used to help form `t-statistics`:"
   ]
  },
  {
   "cell_type": "code",
   "execution_count": 8,
   "id": "df35883d-3529-4551-baf1-0fc93317c29b",
   "metadata": {},
   "outputs": [],
   "source": [
    "optimizingFunction = TwiceDifferentiable(\n",
    "        vars -> Log_Likelihood(x, y, [vars[1:nᵥₐᵣ],vars[nᵥₐᵣ + 1], nₒᵦₛ])\n",
    "            , ones(nᵥₐᵣ+1); autodiff=:forward\n",
    "    );"
   ]
  },
  {
   "cell_type": "code",
   "execution_count": 9,
   "id": "83bd7d99-2f2f-4e8a-86a0-dc94e2362954",
   "metadata": {},
   "outputs": [
    {
     "data": {
      "text/plain": [
       " * Status: success\n",
       "\n",
       " * Candidate solution\n",
       "    Final objective value:     3.767039e+02\n",
       "\n",
       " * Found with\n",
       "    Algorithm:     Newton's Method\n",
       "\n",
       " * Convergence measures\n",
       "    |x - x'|               = 2.15e-06 ≰ 0.0e+00\n",
       "    |x - x'|/|x'|          = 7.07e-07 ≰ 0.0e+00\n",
       "    |f(x) - f(x')|         = 6.11e-09 ≰ 0.0e+00\n",
       "    |f(x) - f(x')|/|f(x')| = 1.62e-11 ≰ 0.0e+00\n",
       "    |g(x)|                 = 1.97e-09 ≤ 1.0e-08\n",
       "\n",
       " * Work counters\n",
       "    Seconds run:   0  (vs limit Inf)\n",
       "    Iterations:    6\n",
       "    f(x) calls:    30\n",
       "    ∇f(x) calls:   30\n",
       "    ∇²f(x) calls:  6\n"
      ]
     },
     "execution_count": 9,
     "metadata": {},
     "output_type": "execute_result"
    }
   ],
   "source": [
    "opt = optimize(optimizingFunction, ones(nᵥₐᵣ+1))"
   ]
  },
  {
   "cell_type": "raw",
   "id": "d0c3dcf4-3b04-4244-ae02-b9d9a96e1753",
   "metadata": {},
   "source": [
    "The first input to the command is the function we wish to optimize and the second input are the starting values.\n",
    "\n",
    "After a brief period of time, you should see output of the optimization routine, with the parameter estimates being very close to our simulated values."
   ]
  },
  {
   "cell_type": "markdown",
   "id": "a1a27818-2363-4cb0-90d5-c6c1cde65418",
   "metadata": {},
   "source": [
    "The optimization routine stores several quantities and we can obtain the `maximum likelihood estimates` with the following command:"
   ]
  },
  {
   "cell_type": "code",
   "execution_count": 10,
   "id": "80be5aca-91e3-402c-8385-bed95419dadb",
   "metadata": {},
   "outputs": [
    {
     "data": {
      "text/plain": [
       "2-element Vector{Float64}:\n",
       "  3.043104697731327\n",
       " -0.6655307426013836"
      ]
     },
     "execution_count": 10,
     "metadata": {},
     "output_type": "execute_result"
    }
   ],
   "source": [
    "parameters = Optim.minimizer(opt)"
   ]
  },
  {
   "cell_type": "code",
   "execution_count": 12,
   "id": "2c81e563-b826-4881-892c-20802a0ada49",
   "metadata": {},
   "outputs": [
    {
     "data": {
      "text/plain": [
       "0.5140006532561675"
      ]
     },
     "execution_count": 12,
     "metadata": {},
     "output_type": "execute_result"
    }
   ],
   "source": [
    "parameters[nᵥₐᵣ+1] = exp(parameters[nᵥₐᵣ+1])"
   ]
  },
  {
   "cell_type": "markdown",
   "id": "d226a1c1-e93e-40b1-b262-1faceee298f7",
   "metadata": {},
   "source": [
    "In order to obtain the correct Hessian matrix, we have to \"push\" the actual parameter values that maximizes the likelihood function since the TwiceDifferentiable command uses the next to last values to calculate the Hessian:"
   ]
  },
  {
   "cell_type": "code",
   "execution_count": 14,
   "id": "f5ed48e0-62b0-4cc9-bed2-5357d80dfaf4",
   "metadata": {},
   "outputs": [
    {
     "data": {
      "text/plain": [
       "2×2 Matrix{Float64}:\n",
       " 178.861         3.72539e-10\n",
       "   3.72539e-10  94.5088"
      ]
     },
     "execution_count": 14,
     "metadata": {},
     "output_type": "execute_result"
    }
   ],
   "source": [
    "numerical_hessian = hessian!(optimizingFunction,parameters)"
   ]
  },
  {
   "cell_type": "markdown",
   "id": "06ed85bc-dd20-4760-8873-0ede1b36bfbf",
   "metadata": {},
   "source": [
    "We can now invert our Hessian matrix to obtain the variance-covariance matrix:"
   ]
  },
  {
   "cell_type": "code",
   "execution_count": 15,
   "id": "cdd390b8-5ba0-4f4b-8550-12531c0a9b3f",
   "metadata": {},
   "outputs": [
    {
     "data": {
      "text/plain": [
       "2×2 Matrix{Float64}:\n",
       "  0.00559095   -2.20387e-14\n",
       " -2.20387e-14   0.010581"
      ]
     },
     "execution_count": 15,
     "metadata": {},
     "output_type": "execute_result"
    }
   ],
   "source": [
    "var_cov_matrix = inv(numerical_hessian)"
   ]
  },
  {
   "cell_type": "markdown",
   "id": "1a6ce658-a321-4b99-921a-46a4701cbed7",
   "metadata": {},
   "source": [
    "In this example, we are only interested in the statistical significance of the coefficient estimates so we obtain those with the following command:"
   ]
  },
  {
   "cell_type": "code",
   "execution_count": 16,
   "id": "c12679f2-6df2-4f43-b946-c4d465402676",
   "metadata": {},
   "outputs": [
    {
     "data": {
      "text/plain": [
       "1-element Vector{Float64}:\n",
       " 3.043104697731327"
      ]
     },
     "execution_count": 16,
     "metadata": {},
     "output_type": "execute_result"
    }
   ],
   "source": [
    "β = parameters[1:nᵥₐᵣ]"
   ]
  },
  {
   "cell_type": "markdown",
   "id": "fead585d-6c47-45ca-a7a6-2ae7dfe24e06",
   "metadata": {},
   "source": [
    "We now need to obtain those elements of the variance-covariance matrix needed to obtain our t-statistics, and we can do this with the following commands:"
   ]
  },
  {
   "cell_type": "code",
   "execution_count": 18,
   "id": "d34378fd-2881-438d-9c8b-7a84a406535c",
   "metadata": {},
   "outputs": [
    {
     "data": {
      "text/plain": [
       "1-element Vector{Float64}:\n",
       " 0.005590945907491946"
      ]
     },
     "execution_count": 18,
     "metadata": {},
     "output_type": "execute_result"
    }
   ],
   "source": [
    "temp = diag(var_cov_matrix)\n",
    "temp1 = temp[1:nᵥₐᵣ]"
   ]
  },
  {
   "cell_type": "markdown",
   "id": "6f08bc53-24c7-4cd7-a3a9-de9f93273abd",
   "metadata": {},
   "source": [
    "The t-statistics are formed by dividing element-by-element the coefficients by their standard errors, or the square root of the diagonal elements of the variance-covariance matrix:"
   ]
  },
  {
   "cell_type": "code",
   "execution_count": 19,
   "id": "0b46f9f7-98ef-471c-a5ec-ad10a7979d20",
   "metadata": {},
   "outputs": [
    {
     "data": {
      "text/plain": [
       "1-element Vector{Float64}:\n",
       " 40.69811074655974"
      ]
     },
     "execution_count": 19,
     "metadata": {},
     "output_type": "execute_result"
    }
   ],
   "source": [
    "t_stats = β./sqrt.(temp1)"
   ]
  },
  {
   "cell_type": "markdown",
   "id": "1aef8bec-1abd-4a32-b61b-5e93211b2906",
   "metadata": {},
   "source": [
    "# References\n",
    "- [ ] [Maximum Likelihood: Normal Linear Model](https://discourse.julialang.org/t/maximum-likelihood-normal-linear-model/11664)"
   ]
  },
  {
   "cell_type": "code",
   "execution_count": null,
   "id": "b60cb2c4-9490-41af-922e-bfa70f87c8a6",
   "metadata": {},
   "outputs": [],
   "source": []
  }
 ],
 "metadata": {
  "kernelspec": {
   "display_name": "Julia 1.9.3",
   "language": "julia",
   "name": "julia-1.9"
  },
  "language_info": {
   "file_extension": ".jl",
   "mimetype": "application/julia",
   "name": "julia",
   "version": "1.9.4"
  }
 },
 "nbformat": 4,
 "nbformat_minor": 5
}
