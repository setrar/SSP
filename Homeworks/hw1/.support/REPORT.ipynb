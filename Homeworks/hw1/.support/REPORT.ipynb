{
 "cells": [
  {
   "cell_type": "markdown",
   "id": "1477250a-9dac-4749-82b5-36ddbfb57706",
   "metadata": {},
   "source": [
    "# &#x1F4DD; REPORT"
   ]
  },
  {
   "cell_type": "markdown",
   "id": "c7f95454-9048-4ceb-91cc-d47c757d73e4",
   "metadata": {},
   "source": [
    "# Homework &#x0031;&#xFE0F;&#x20E3; \n",
    "\n",
    "Homework policy: the homework is individual. Students are encouraged to discuss with fellow students to try to find the main structure of the solution for a problem, especially if they are totally stuck at the beginning of the problem. However, you should work out the details yourself and write down in your own words only what you understand yourself."
   ]
  },
  {
   "cell_type": "markdown",
   "id": "69ee35db-fb3d-4cf8-9bbb-596a52d8d034",
   "metadata": {},
   "source": [
    "## Problem: ML Estimation of Roundtrip Delay Distribution¶"
   ]
  },
  {
   "cell_type": "markdown",
   "id": "835b57f8-cdea-4dc2-9189-8553a8b14bf8",
   "metadata": {},
   "source": [
    "\n",
    "In this problem, we consider the roundtrip delay in a computer network (internet) between the computer we’re working on and another computer connected to the network. This roundtrip delay will be different, every time we send a message. As such, it can be modeled as a random variable y. For the design of network protocols and for their performance evaluation, it is important to know the distribution of this random roundtrip delay. To turn the estimation of the roundtrip delay distribution into a parameter estimation problem, we shall take a parametric distribution, parameterized by one or more parameters. Since we don’t have too much information about this variable y (except that it should be positive), we shall try several parametric distributions. In particular, we shall consider the following distributions:\n",
    "\n",
    "$$\n",
    "\\text { * A Gaussian distribution: } \\qquad f_G (y|\\mu, \\sigma^2) = \\frac{1}{\\sqrt{2\\pi\\sigma^2}}  e^{-\\frac{(y−\\mu)^2}{2\\sigma^2}} \n",
    "$$\n",
    "\n",
    "$$\n",
    "\\text { * A Rayleigh distribution: } \\qquad f_R (y|\\sigma^2) = \n",
    "\\begin{cases}\n",
    "0 & , y < 0\n",
    "\\\\\n",
    "\\frac{y}{\\sigma^2}  e^{-\\frac{y^2}{2\\sigma^2}} & , y \\geq 0\n",
    "\\end{cases}\n",
    "$$\n",
    "\n",
    "$$\n",
    "\\text { * An Erlang distribution: } \\qquad f_{Em} (y|\\lambda) = \n",
    "\\begin{cases}\n",
    "0 & , y < 0\n",
    "\\\\\n",
    "\\frac{\\lambda^{m+1}}{m!} y^me^{\\lambda y} & , y \\geq 0\n",
    "\\end{cases} \n",
    "\\\\\n",
    "\\text{ for different values of } m \\in \\{0,1,2\\}.\n",
    "\\\\\n",
    "\\\\\n",
    "\\text{ Remark that for m = 0 we have an exponential density: }\n",
    "\\\\\n",
    "f_{E0}(y|\\lambda) = \n",
    "\\begin{cases}\n",
    "0 & , y < 0\n",
    "\\\\\n",
    "\\lambda e^{-\\lambda y} & , y \\geq 0\n",
    "\\end{cases}\n",
    "$$\n",
    "\n",
    "$$\n",
    "\\text{ * A (shifted) exponential density: } \\qquad f_{exp}(y|\\lambda,\\alpha) = \n",
    "\\begin{cases}\n",
    "0 & , y < 0\n",
    "\\\\\n",
    "\\lambda e^{-\\lambda(y - \\alpha)} & , y \\geq 0\n",
    "\\end{cases}\n",
    "$$"
   ]
  },
  {
   "cell_type": "markdown",
   "id": "a4b50189-a7cc-44eb-ba92-277dbc4b8cfa",
   "metadata": {},
   "source": [
    "**&#x1F516;** **(&#x2170;)** Assume we collect n i.i.d. measurements $y1, . . . , yn$ that we can put into a vector $Y =\n",
    "[y1, y2, . . . , yn]^T$ . For each of the parametric distributions $f_i(Y |\\theta), i \\in \\{G, R, E0, E1, E2, exp\\}$,\n",
    "determine the Maximum Likelihood estimate ${\\hat{\\theta}_{ML,i}}$ of the parameter(s) $\\theta$ involved."
   ]
  },
  {
   "cell_type": "markdown",
   "id": "d89cd08c-85a2-4997-83a4-367cf7e83f5c",
   "metadata": {},
   "source": [
    "\n",
    "For each distribution, the Maximum Likelihood Estimate (MLE) is found by setting up the likelihood function based on the given distribution, taking the derivative with respect to $\\theta$, setting it to **zero**, and solving for $\\theta$. \n",
    "\n",
    "A a general approach for MLE:\n",
    "\n",
    "1. **Write down the likelihood function** $L(\\theta | Y) = \\prod_{i=1}^n f(y_i | \\theta)$.\n",
    "2. **Take the logarithm** to get the log-likelihood function, $l(\\theta | Y) = \\log L(\\theta | Y)$, which is often easier to work with.\n",
    "3. **Differentiate** $l(\\theta | Y)$ with respect to $\\theta$ and **set to zero** to find critical points.\n",
    "4. **Solve for $\\theta$** to find the MLE, $\\hat{\\theta}_{ML}$.\n"
   ]
  },
  {
   "cell_type": "markdown",
   "id": "623756e9-fc50-45f9-a3c6-bcfcdb385a94",
   "metadata": {},
   "source": [
    "Given the specific forms for the Gaussian, Rayleigh, and Erlang distributions (including the Exponential distribution as a special case of the Erlang distribution with $m=0$ ), let's determine the Maximum Likelihood Estimates (MLE) for their parameters ( $\\mu$, $\\sigma^2$ for Gaussian; $\\sigma^2$ for Rayleigh; $\\lambda$ for Erlang/Exponential).\n",
    "\n",
    "### Gaussian Distribution MLE\n",
    "\n",
    "For the Gaussian distribution, the likelihood function is:\n",
    "\n",
    "$$ L(\\mu, \\sigma^2 | Y) = \\prod_{i=1}^n \\frac{1}{\\sqrt{2\\pi\\sigma^2}} e^{-\\frac{(y_i−\\mu)^2}{2\\sigma^2}} $$\n",
    "\n",
    "Taking the log-likelihood, differentiating with respect to $\\mu$ and $\\sigma^2$, and setting to zero, we find:\n",
    "\n",
    "- **Mean ( $\\mu$ ) MLE:**\n",
    "$ \\hat{\\mu} = \\frac{1}{n}\\sum_{i=1}^n y_i $\n",
    "\n",
    "- **Variance ( $\\sigma^2$ ) MLE:**\n",
    "$ \\hat{\\sigma}^2 = \\frac{1}{n}\\sum_{i=1}^n (y_i - \\hat{\\mu})^2 $\n",
    "\n",
    "### Rayleigh Distribution MLE\n",
    "\n",
    "For the Rayleigh distribution, the likelihood function for $y_i \\geq 0$ is:\n",
    "\n",
    "$$ L(\\sigma^2 | Y) = \\prod_{i=1}^n \\frac{y_i}{\\sigma^2} e^{-\\frac{y_i^2}{2\\sigma^2}} $$\n",
    "\n",
    "Taking the log-likelihood, differentiating with respect to $\\sigma^2$, and setting to zero gives:\n",
    "\n",
    "- **Scale parameter ( $\\sigma^2$ ) MLE:**\n",
    "$ \\hat{\\sigma}^2 = \\frac{1}{2n}\\sum_{i=1}^n y_i^2 $\n",
    "\n",
    "### Erlang Distribution MLE\n",
    "\n",
    "For the Erlang distribution (including the Exponential as a special case with $m=0$), the likelihood function for $y_i \\geq 0$ and $m \\in \\{0,1,2\\}$ is:\n",
    "\n",
    "$$ L(\\lambda | Y) = \\prod_{i=1}^n \\frac{\\lambda^{m+1}}{m!} y_i^m e^{-\\lambda y_i} $$\n",
    "\n",
    "Taking the log-likelihood, differentiating with respect to $\\lambda$, and setting to zero gives the MLE for $\\lambda$. For $m=0$ (Exponential distribution), the solution simplifies to:\n",
    "\n",
    "- **Rate parameter ( $\\lambda$ ) MLE for Exponential:**\n",
    "$ \\hat{\\lambda} = \\frac{n}{\\sum_{i=1}^n y_i} $\n",
    "\n",
    "For $m=1$ and $m=2$, solving for $\\lambda$ involves specific steps for each $m$, often requiring iterative methods for higher $m$ values due to the nature of the likelihood equations.\n",
    "\n",
    "### Summary\n",
    "\n",
    "- **Gaussian MLEs:** $\\hat{\\mu}$ and $\\hat{\\sigma}^2$.\n",
    "- **Rayleigh MLE:** $\\hat{\\sigma}^2$.\n",
    "- **Exponential MLE:** $\\hat{\\lambda}$.\n",
    "- **Erlang MLE for $m > 0$:** Requires specific calculation per $m$ value, with iterative methods possibly needed for exact $\\lambda$ estimates.\n",
    "\n",
    "For Erlang distributions with $m=1$ and $m=2$, a general expression for $\\lambda$ MLE requires detailed steps that might involve more complex algebraic manipulations or numerical methods, especially as the derivative of the log-likelihood function with respect to $\\lambda$ does not always lead to a simple analytical solution."
   ]
  },
  {
   "cell_type": "markdown",
   "id": "c724e23b-435f-42c2-980f-3ff6258a6101",
   "metadata": {},
   "source": [
    "**&#x1F516;** **(&#x2171;)** Consider now also a shifted Rayleigh distribution:\n",
    "\n",
    "$$\n",
    "f_{SR}(y|\\alpha, \\sigma^2) = \n",
    "\\begin{Bmatrix}\n",
    "0 & , y < \\alpha\n",
    "\\\\\n",
    "\\frac{y - \\alpha}{\\sigma^2}  e^{-\\frac{(y - \\alpha)^2}{2\\sigma^2}} & , \\alpha \\geq y\n",
    "\\end{Bmatrix} =\n",
    "\\frac{y - \\alpha}{\\sigma^2}  e^{-\\frac{(y - \\alpha)^2}{2\\sigma^2}} \\mathbf{1}_{[\\alpha,\\infty)}(y)\n",
    "$$\n",
    "\n",
    "$$\n",
    "\\text { for some } α ≥ 0, σ2 > 0  \\text{ , and where we introduced the indicator function for a set A : }\n",
    "\\\\\n",
    "\\\\\n",
    "\\mathbf{1}_A(y) = \n",
    "\\begin{cases}\n",
    "0 & , y \\notin A \\\\\n",
    "1 & , y \\in A\n",
    "\\end{cases}\n",
    "$$"
   ]
  },
  {
   "cell_type": "markdown",
   "id": "c5d2c10f-27e2-4d04-bf1f-864a246cb82b",
   "metadata": {},
   "source": [
    "&#x1F516; (&#x0061;) Determine the mean of $y, m_y$, according to this shifted Rayleigh distribution, as a function of the parameters $\\alpha$ and $\\sigma^2$."
   ]
  },
  {
   "cell_type": "markdown",
   "id": "a13a0651-8265-41ce-9a92-6e86b8d0ff7b",
   "metadata": {},
   "source": [
    "To solve for $\\alpha$ and $\\sigma^2$ for the shifted Rayleigh distribution $f_{SR}(y|\\alpha, \\sigma^2)$, we first define the log-likelihood function based on the given probability density function, then differentiate this function with respect to $\\alpha$ and $\\sigma^2$, and find the values that maximize the log-likelihood.\n",
    "\n",
    "### Log-Likelihood Function:\n",
    "\n",
    "Given the PDF:\n",
    "$ f_{SR}(y|\\alpha, \\sigma^2) = \\frac{y - \\alpha}{\\sigma^2} e^{-\\frac{(y - \\alpha)^2}{2\\sigma^2}} \\mathbf{1}_{[\\alpha,\\infty)}(y) $\n",
    "\n",
    "The log-likelihood function ($L$) for $n$ observations from this distribution is:\n",
    "$ \\log L = \\sum_{i=1}^n \\left( \\log(y_i - \\alpha) - \\log(\\sigma^2) - \\frac{(y_i - \\alpha)^2}{2\\sigma^2} \\right) $\n",
    "\n",
    "### Differentiation and Equations:\n",
    "\n",
    "- **Differentiate $\\log L$ with respect to $\\alpha$** and set to 0 for the MLE of $\\alpha$.\n",
    "- **Differentiate $\\log L$ with respect to $\\sigma^2$** and set to 0 for the MLE of $\\sigma^2$.\n",
    "\n",
    "### Solving the Equations:\n",
    "\n",
    "The solutions to these equations are less straightforward and typically require numerical methods. However, to give a direction:\n",
    "\n",
    "1. **For $\\alpha$:** The derivative leads to an equation that equates the sum of differences and their squares to a function of $\\alpha$ and $\\sigma^2$. This equation does not have a simple closed-form solution.\n",
    "\n",
    "2. **For $\\sigma^2$:** After differentiation, you get an equation that relates $\\sigma^2$ to the average of squared differences between $y_i$ and $\\alpha$.\n",
    "\n",
    "Due to the complexity of directly solving these equations analytically, numerical optimization methods (e.g., gradient descent, Newton-Raphson method) are often used to find the MLEs of $\\alpha$ and $\\sigma^2$. These methods iterate over possible values of $\\alpha$ and $\\sigma^2$ to maximize the log-likelihood function."
   ]
  },
  {
   "cell_type": "markdown",
   "id": "a5d5d6df-2182-415e-b15b-b3e1107cdddf",
   "metadata": {},
   "source": [
    "&#x1F516; (&#x0062;) Determine the variance of $y, σ_y^2$, according to this shifted Rayleigh distribution, as a function of the parameters $\\alpha$ and $\\sigma^2$."
   ]
  },
  {
   "cell_type": "markdown",
   "id": "c0e608a0-0e67-4c99-9ed9-6feffd2cc330",
   "metadata": {},
   "source": [
    "To calculate the variance $\\sigma_y^2$ of $y$ for the shifted Rayleigh distribution as a function of parameters $\\alpha$ and $\\sigma^2$, we utilize the formula for variance, which in this context requires integrating the square of the difference between $y$ and its mean $m_y$ over the probability density function $f_{SR}(y|\\alpha, \\sigma^2)$. Given the mean $m_y = \\alpha + \\sigma \\sqrt{\\frac{\\pi}{2}}$, the variance is:\n",
    "\n",
    "$$\\sigma_y^2 = \\int_{\\alpha}^{\\infty} (y - m_y)^2 \\left(\\frac{y - \\alpha}{\\sigma^2}\\right) e^{-\\frac{(y - \\alpha)^2}{2\\sigma^2}} dy$$\n",
    "\n",
    "While a direct integral solution might be complex, the variance $\\sigma_y^2$ can generally be related to the parameters by recognizing that for a non-shifted Rayleigh distribution, the variance is:\n",
    "\n",
    "$$\\sigma^2_{\\text{non-shifted}} = \\frac{4 - \\pi}{2} \\sigma^2$$\n",
    "\n",
    "For the shifted distribution, adjusting for $\\alpha$ involves considering how the shift affects the distribution's spread. In a compact form and applying the relationship for the standard Rayleigh distribution, the variance for the shifted Rayleigh distribution would theoretically involve adjustments based on $\\alpha$, though a direct analytical expression requires detailed integration.\n",
    "\n",
    "Hence, without performing specific integration here, the variance for the shifted Rayleigh distribution, reflecting adjustments for $\\alpha$ and $\\sigma^2$, would be conceptually expressed as a function of these parameters, potentially involving numerical methods for exact computation."
   ]
  },
  {
   "cell_type": "markdown",
   "id": "70ad1a4a-b97e-453c-bf23-1bec64dbdda9",
   "metadata": {},
   "source": [
    "&#x1F516; (&#x0063;) We now collect $n$ i.i.d. measurements $y_i$ into the vector $Y$ .\n",
    "Find the log likelihood function $L(\\alpha, \\sigma^2; Y )$ for $\\alpha$ and $\\sigma^2$ given $Y$ ."
   ]
  },
  {
   "cell_type": "markdown",
   "id": "3841f169-8055-491a-8dca-1bcf385de8d2",
   "metadata": {},
   "source": [
    "Given a vector of $n$ i.i.d. measurements $Y = [y_1, y_2, \\ldots, y_n]^T$ from a shifted Rayleigh distribution with parameters $\\alpha$ and $\\sigma^2$, the probability density function (PDF) for each measurement $y_i$ is:\n",
    "\n",
    "$$ f_{SR}(y_i|\\alpha, \\sigma^2) = \\frac{y_i - \\alpha}{\\sigma^2} e^{-\\frac{(y_i - \\alpha)^2}{2\\sigma^2}} \\mathbf{1}_{[\\alpha,\\infty)}(y_i) $$\n",
    "\n",
    "The log-likelihood function $L(\\alpha, \\sigma^2; Y)$ is the logarithm of the likelihood function, which is the product of the PDFs of all the individual measurements. For the given PDF, the likelihood function for the entire set of observations is:\n",
    "\n",
    "$$ \\mathcal{L}(\\alpha, \\sigma^2; Y) = \\prod_{i=1}^{n} \\left( \\frac{y_i - \\alpha}{\\sigma^2} \\right) e^{-\\frac{(y_i - \\alpha)^2}{2\\sigma^2}} $$\n",
    "\n",
    "Taking the natural logarithm of $\\mathcal{L}(\\alpha, \\sigma^2; Y)$ gives the log-likelihood function $L(\\alpha, \\sigma^2; Y)$:\n",
    "\n",
    "$$ L(\\alpha, \\sigma^2; Y) = \\sum_{i=1}^{n} \\left( \\ln(y_i - \\alpha) - \\ln(\\sigma^2) - \\frac{(y_i - \\alpha)^2}{2\\sigma^2} \\right) $$\n",
    "\n",
    "This function $L(\\alpha, \\sigma^2; Y)$ is used to estimate the parameters $\\alpha$ and $\\sigma^2$ by maximizing it with respect to these parameters."
   ]
  },
  {
   "cell_type": "markdown",
   "id": "c8d00cda-0c92-4252-a4cf-76b8a37d929f",
   "metadata": {},
   "source": [
    "&#x1F516; (&#x0064;) Reduce the range of possible values for $\\alpha \\geq 0$ by determining the range of $\\alpha$ for which the log likelihood takes on finite values $(> −∞)$. Assume for what follows that $\\alpha$ is in this range."
   ]
  },
  {
   "cell_type": "markdown",
   "id": "5af6dccd-6de5-4c48-b921-2d63065c67bd",
   "metadata": {},
   "source": [
    "To ensure the log likelihood function $L(\\alpha, \\sigma^2; Y)$ takes on finite values and is greater than $-\\infty$, the parameter $\\alpha$ must satisfy the condition $0 \\leq \\alpha < \\min(y_i)$ for the dataset $Y$. This range ensures all terms within the log likelihood function are defined and finite."
   ]
  },
  {
   "cell_type": "markdown",
   "id": "352a8e03-51b5-49cc-99da-cf17edcd6151",
   "metadata": {},
   "source": [
    "&#x1F516; (&#x0065;) For a given $\\alpha$, find the $\\hat{\\sigma}^2(Y,\\alpha)$ that maximizes the log likelihood function."
   ]
  },
  {
   "cell_type": "markdown",
   "id": "2450ed0a-16d5-4bac-84f8-44cf2e701915",
   "metadata": {},
   "source": [
    "Given $\\alpha$, to find $\\hat{\\sigma}^2(Y, \\alpha)$ that maximizes the log likelihood function for the shifted Rayleigh distribution, we start from the log likelihood function $L(\\alpha, \\sigma^2; Y)$:\n",
    "\n",
    "$$ L(\\alpha, \\sigma^2; Y) = \\sum_{i=1}^{n} \\left( \\ln(y_i - \\alpha) - \\ln(\\sigma^2) - \\frac{(y_i - \\alpha)^2}{2\\sigma^2} \\right) $$\n",
    "\n",
    "To find $\\hat{\\sigma}^2$ that maximizes this function, we take the derivative of $L(\\alpha, \\sigma^2; Y)$ with respect to $\\sigma^2$ and set it equal to zero. This procedure will give us the maximum likelihood estimate (MLE) for $\\sigma^2$ given a fixed $\\alpha$.\n",
    "\n",
    "- Derivative of $L( \\alpha, \\sigma^2; Y )$\n",
    "\n",
    "The derivative of the log likelihood function with respect to $\\sigma^2$ is:\n",
    "\n",
    "$$ \\frac{\\partial L}{\\partial \\sigma^2} = \\sum_{i=1}^{n} \\left( -\\frac{1}{\\sigma^2} + \\frac{(y_i - \\alpha)^2}{2(\\sigma^2)^2} \\right) $$\n",
    "\n",
    "Setting this derivative equal to zero gives:\n",
    "\n",
    "$$ \\sum_{i=1}^{n} \\left( -\\frac{1}{\\sigma^2} + \\frac{(y_i - \\alpha)^2}{2(\\sigma^2)^2} \\right) = 0 $$\n",
    "\n",
    "Solving for $\\sigma^2$ involves simplifying this equation:\n",
    "\n",
    "$$ -\\frac{n}{\\sigma^2} + \\sum_{i=1}^{n} \\frac{(y_i - \\alpha)^2}{2(\\sigma^2)^2} = 0 $$\n",
    "\n",
    "$$ \\sum_{i=1}^{n} (y_i - \\alpha)^2 = \\frac{n}{2} \\sigma^2 $$\n",
    "\n",
    "$$ \\hat{\\sigma}^2 = \\frac{2}{n} \\sum_{i=1}^{n} (y_i - \\alpha)^2 $$\n",
    "\n",
    "This $\\hat{\\sigma}^2(Y, \\alpha)$ is the estimate that maximizes the log likelihood function given a fixed value of $\\alpha$, representing the variance of the shifted Rayleigh distribution based on the observed data $Y$."
   ]
  },
  {
   "cell_type": "markdown",
   "id": "0cce83e7-4486-4444-9899-752572010289",
   "metadata": {},
   "source": [
    "&#x1F516; (&#x0066;) Find the $\\hat{\\alpha}_{ML}(Y)$ that maximizes $L(\\alpha,\\hat{\\sigma}^2(Y,\\alpha);Y)$."
   ]
  },
  {
   "cell_type": "markdown",
   "id": "4800d5a3-3dd5-4346-8170-15ac13b6a52e",
   "metadata": {},
   "source": [
    "Finding the maximum likelihood estimate (MLE) $\\hat{\\alpha}_{ML}(Y)$ that maximizes the log likelihood function $L(\\alpha, \\hat{\\sigma}^2(Y, \\alpha); Y)$ involves differentiating the log likelihood function with respect to $\\alpha$ and then solving for $\\alpha$. Given the complexity of the expression for $\\hat{\\sigma}^2(Y, \\alpha)$ in terms of $\\alpha$, this task can be analytically challenging and might not lead to a simple closed-form solution. However, let's outline the approach.\n",
    "\n",
    "The log likelihood function, after substituting $\\hat{\\sigma}^2(Y, \\alpha)$, is:\n",
    "\n",
    "$$ L(\\alpha, \\hat{\\sigma}^2(Y, \\alpha); Y) = \\sum_{i=1}^{n} \\left( \\ln(y_i - \\alpha) - \\ln\\left(\\frac{2}{n} \\sum_{j=1}^{n} (y_j - \\alpha)^2\\right) - \\frac{(y_i - \\alpha)^2}{2\\left(\\frac{2}{n} \\sum_{j=1}^{n} (y_j - \\alpha)^2\\right)} \\right) $$\n",
    "\n",
    "To find $\\hat{\\alpha}_{ML}(Y)$, we would differentiate this with respect to $\\alpha$ and set the derivative equal to zero:\n",
    "\n",
    "$$ \\frac{d}{d\\alpha} L(\\alpha, \\hat{\\sigma}^2(Y, \\alpha); Y) = 0 $$\n"
   ]
  },
  {
   "cell_type": "markdown",
   "id": "15c283f3-7564-49ce-9775-ca808b506230",
   "metadata": {},
   "source": [
    "* Determine the corresponding: $\\hat{\\sigma}^2_{ ML } ( Y )$ = $\\hat{\\sigma}^2 ( Y,\\hat{\\alpha}_{ML}(Y) )$."
   ]
  },
  {
   "cell_type": "markdown",
   "id": "207c7ad5-1bd4-4c1b-ae9f-bb37e23b239a",
   "metadata": {},
   "source": [
    "Once $\\hat{\\alpha}_{ML}(Y)$ is :"
   ]
  },
  {
   "cell_type": "markdown",
   "id": "5130c2c4-60b9-4c7d-895a-b52f5128cdb2",
   "metadata": {},
   "source": [
    "obtained through numerical optimization methods as previously discussed, you can find the corresponding Maximum Likelihood Estimate (MLE) for the variance, denoted  $\\hat{\\sigma}^2_{ML} (Y)$, by substituting $\\hat{\\alpha}_{ML}(Y)$ back into the formula derived for $\\hat{σ^2}(Y, \\alpha)$. The formula for estimating $\\sigma^2$ based on a given $\\alpha$ is:\n",
    "\n",
    "$$ \\hat{\\sigma}^2 = \\frac{2}{n} \\sum_{i=1}^{n} (y_i - \\alpha)^2 $$\n",
    "\n",
    "Substituting $\\hat{\\alpha}_{ML} (Y)$ into this formula gives:\n",
    "\n",
    "$$ \\hat{\\sigma^2}_{ML}(Y) = \\frac{2}{n} \\sum_{i=1}^{n} (y_i - \\hat{\\alpha}_{ML}(Y))^2 $$\n",
    "\n",
    "This expression represents the MLE of the variance $\\sigma^2$ for the shifted Rayleigh distribution."
   ]
  },
  {
   "cell_type": "markdown",
   "id": "3a7e80fd-5ac6-4625-9d88-c67b4d500983",
   "metadata": {},
   "source": [
    "&#x1F516; **(&#x2172;)** In Matlab, you will generate n = 100 measurements of the roundtrip delay between your PC and a host machine of your choice (preferably a host that is not too close by). The roundtrip delay can be measured using the Unix command ping. The generation of 100 measurements, put into a vector that can be processed by Matlab, can be done by running the following command in Matlab\n",
    "\n",
    "$$Y=pingstats(’machine’,100,’v’);$$\n",
    "\n",
    "for which the file pingstats.m has been distributed by email (put pingstats.m in the directory in which you launch Matlab; the comments in the file pingstats.m contain a suggestion for a machine (host) to ping, but you are encouraged to try other hosts, see e.g. the (probably totally outdated) file hw host ip list.txt which was also distributed by email, or search for a host by yourself)."
   ]
  },
  {
   "cell_type": "code",
   "execution_count": 1,
   "id": "d7d2ddec-d57f-409a-ab1c-346f9f038c82",
   "metadata": {},
   "outputs": [
    {
     "data": {
      "text/plain": [
       "Plots.GRBackend()"
      ]
     },
     "execution_count": 1,
     "metadata": {},
     "output_type": "execute_result"
    }
   ],
   "source": [
    "using Printf\n",
    "using Plots; gr()"
   ]
  },
  {
   "cell_type": "markdown",
   "id": "6c54e1c8-39eb-43be-b825-1aba1dd8d55f",
   "metadata": {},
   "source": [
    "&#x27A1; Link to [`stats.txt`](stats.txt)"
   ]
  },
  {
   "cell_type": "code",
   "execution_count": 2,
   "id": "9e64dd2a-990d-40a6-8462-395689a794f1",
   "metadata": {},
   "outputs": [],
   "source": [
    "using DataFrames, CSV"
   ]
  },
  {
   "cell_type": "code",
   "execution_count": 3,
   "id": "505034f9-a675-4950-91d8-cc414128d761",
   "metadata": {},
   "outputs": [],
   "source": [
    "df = CSV.File(\"stats.txt\") |> DataFrame;"
   ]
  },
  {
   "cell_type": "code",
   "execution_count": 4,
   "id": "3df96088-9978-4adf-9ef8-9a1fe9c8f2f2",
   "metadata": {},
   "outputs": [],
   "source": [
    "using PrettyTables"
   ]
  },
  {
   "cell_type": "code",
   "execution_count": 5,
   "id": "b067136c-b38b-4b68-b8b9-4c3d05ab8c17",
   "metadata": {},
   "outputs": [],
   "source": [
    "header = (\n",
    "      [\"pingstats\"]\n",
    "    , [\"[Float64]\"]\n",
    ");"
   ]
  },
  {
   "cell_type": "code",
   "execution_count": 6,
   "id": "0ac489be-cae4-4967-b007-6bad784bf863",
   "metadata": {},
   "outputs": [
    {
     "data": {
      "text/html": [
       "<!DOCTYPE html>\n",
       "<html>\n",
       "<meta charset=\"UTF-8\">\n",
       "<head>\n",
       "<style>\n",
       "  table, td, th {\n",
       "      border-collapse: collapse;\n",
       "      font-family: sans-serif;\n",
       "  }\n",
       "\n",
       "  td, th {\n",
       "      border-bottom: 0;\n",
       "      padding: 4px\n",
       "  }\n",
       "\n",
       "  tr:nth-child(odd) {\n",
       "      background: #eee;\n",
       "  }\n",
       "\n",
       "  tr:nth-child(even) {\n",
       "      background: #fff;\n",
       "  }\n",
       "\n",
       "  tr.header {\n",
       "      background: navy !important;\n",
       "      color: white;\n",
       "      font-weight: bold;\n",
       "  }\n",
       "\n",
       "  tr.subheader {\n",
       "      background: lightgray !important;\n",
       "      color: black;\n",
       "  }\n",
       "\n",
       "  tr.headerLastRow {\n",
       "      border-bottom: 2px solid black;\n",
       "  }\n",
       "\n",
       "  th.rowNumber, td.rowNumber {\n",
       "      text-align: right;\n",
       "  }\n",
       "\n",
       "</style>\n",
       "</head>\n",
       "<body>\n",
       "<table>\n",
       "  <thead>\n",
       "    <tr class = \"header\">\n",
       "      <th style = \"text-align: right;\">pingstats</th>\n",
       "    </tr>\n",
       "    <tr class = \"subheader headerLastRow\">\n",
       "      <th style = \"text-align: right;\">[Float64]</th>\n",
       "    </tr>\n",
       "  </thead>\n",
       "  <tbody>\n",
       "    <tr>\n",
       "      <td style = \"text-align: right;\">158.991</td>\n",
       "    </tr>\n",
       "    <tr>\n",
       "      <td style = \"text-align: right;\">152.726</td>\n",
       "    </tr>\n",
       "    <tr>\n",
       "      <td style = \"text-align: right;\">152.736</td>\n",
       "    </tr>\n",
       "  </tbody>\n",
       "</table>\n",
       "</body>\n",
       "</html>\n"
      ]
     },
     "metadata": {},
     "output_type": "display_data"
    }
   ],
   "source": [
    "pretty_table(\n",
    "    first(df, 3)\n",
    "    , backend=Val(:html), header = header, standalone=true)"
   ]
  },
  {
   "cell_type": "code",
   "execution_count": 7,
   "id": "dc698154-5285-4609-8747-b966ba0b57f6",
   "metadata": {},
   "outputs": [],
   "source": [
    "server = \"isl.stanford.edu\";\n",
    "N = 100; # Number of samples"
   ]
  },
  {
   "cell_type": "code",
   "execution_count": 8,
   "id": "622005f9-761a-42a4-80bc-eb309a90be60",
   "metadata": {},
   "outputs": [
    {
     "data": {
      "image/png": "[encoded data removed]",
      "image/svg+xml": [
       "<?xml version=\"1.0\" encoding=\"utf-8\"?>\n",
       "<svg xmlns=\"http://www.w3.org/2000/svg\" xmlns:xlink=\"http://www.w3.org/1999/xlink\" width=\"600\" height=\"400\" viewBox=\"0 0 2400 1600\">\n",
       "<defs>\n",
       "  <clipPath id=\"clip570\">\n",
       "    <rect x=\"0\" y=\"0\" width=\"2400\" height=\"1600\"/>\n",
       "  </clipPath>\n",
       "</defs>\n",
       "<path clip-path=\"url(#clip570)\" d=\"M0 1600 L2400 1600 L2400 0 L0 0  Z\" fill=\"#ffffff\" fill-rule=\"evenodd\" fill-opacity=\"1\"/>\n",
       "<defs>\n",
       "  <clipPath id=\"clip571\">\n",
       "    <rect x=\"480\" y=\"0\" width=\"1681\" height=\"1600\"/>\n",
       "  </clipPath>\n",
       "</defs>\n",
       "<path clip-path=\"url(#clip570)\" d=\"M234.125 1423.18 L2352.76 1423.18 L2352.76 123.472 L234.125 123.472  Z\" fill=\"#ffffff\" fill-rule=\"evenodd\" fill-opacity=\"1\"/>\n",
       "<defs>\n",
       "  <clipPath id=\"clip572\">\n",
       "    <rect x=\"234\" y=\"123\" width=\"2120\" height=\"1301\"/>\n",
       "  </clipPath>\n",
       "</defs>\n",
       "<polyline clip-path=\"url(#clip572)\" style=\"stroke:#000000; stroke-linecap:round; stroke-linejoin:round; stroke-width:2; stroke-opacity:0.1; fill:none\" points=\"273.898,1423.18 273.898,123.472 \"/>\n",
       "<polyline clip-path=\"url(#clip572)\" style=\"stroke:#000000; stroke-linecap:round; stroke-linejoin:round; stroke-width:2; stroke-opacity:0.1; fill:none\" points=\"778.622,1423.18 778.622,123.472 \"/>\n",
       "<polyline clip-path=\"url(#clip572)\" style=\"stroke:#000000; stroke-linecap:round; stroke-linejoin:round; stroke-width:2; stroke-opacity:0.1; fill:none\" points=\"1283.35,1423.18 1283.35,123.472 \"/>\n",
       "<polyline clip-path=\"url(#clip572)\" style=\"stroke:#000000; stroke-linecap:round; stroke-linejoin:round; stroke-width:2; stroke-opacity:0.1; fill:none\" points=\"1788.07,1423.18 1788.07,123.472 \"/>\n",
       "<polyline clip-path=\"url(#clip572)\" style=\"stroke:#000000; stroke-linecap:round; stroke-linejoin:round; stroke-width:2; stroke-opacity:0.1; fill:none\" points=\"2292.79,1423.18 2292.79,123.472 \"/>\n",
       "<polyline clip-path=\"url(#clip570)\" style=\"stroke:#000000; stroke-linecap:round; stroke-linejoin:round; stroke-width:4; stroke-opacity:1; fill:none\" points=\"234.125,1423.18 2352.76,1423.18 \"/>\n",
       "<polyline clip-path=\"url(#clip570)\" style=\"stroke:#000000; stroke-linecap:round; stroke-linejoin:round; stroke-width:4; stroke-opacity:1; fill:none\" points=\"273.898,1423.18 273.898,1404.28 \"/>\n",
       "<polyline clip-path=\"url(#clip570)\" style=\"stroke:#000000; stroke-linecap:round; stroke-linejoin:round; stroke-width:4; stroke-opacity:1; fill:none\" points=\"778.622,1423.18 778.622,1404.28 \"/>\n",
       "<polyline clip-path=\"url(#clip570)\" style=\"stroke:#000000; stroke-linecap:round; stroke-linejoin:round; stroke-width:4; stroke-opacity:1; fill:none\" points=\"1283.35,1423.18 1283.35,1404.28 \"/>\n",
       "<polyline clip-path=\"url(#clip570)\" style=\"stroke:#000000; stroke-linecap:round; stroke-linejoin:round; stroke-width:4; stroke-opacity:1; fill:none\" points=\"1788.07,1423.18 1788.07,1404.28 \"/>\n",
       "<polyline clip-path=\"url(#clip570)\" style=\"stroke:#000000; stroke-linecap:round; stroke-linejoin:round; stroke-width:4; stroke-opacity:1; fill:none\" points=\"2292.79,1423.18 2292.79,1404.28 \"/>\n",
       "<path clip-path=\"url(#clip570)\" d=\"M273.898 1454.1 Q270.287 1454.1 268.458 1457.66 Q266.652 1461.2 266.652 1468.33 Q266.652 1475.44 268.458 1479.01 Q270.287 1482.55 273.898 1482.55 Q277.532 1482.55 279.338 1479.01 Q281.166 1475.44 281.166 1468.33 Q281.166 1461.2 279.338 1457.66 Q277.532 1454.1 273.898 1454.1 M273.898 1450.39 Q279.708 1450.39 282.763 1455 Q285.842 1459.58 285.842 1468.33 Q285.842 1477.06 282.763 1481.67 Q279.708 1486.25 273.898 1486.25 Q268.088 1486.25 265.009 1481.67 Q261.953 1477.06 261.953 1468.33 Q261.953 1459.58 265.009 1455 Q268.088 1450.39 273.898 1450.39 Z\" fill=\"#000000\" fill-rule=\"nonzero\" fill-opacity=\"1\" /><path clip-path=\"url(#clip570)\" d=\"M757.893 1481.64 L774.212 1481.64 L774.212 1485.58 L752.268 1485.58 L752.268 1481.64 Q754.93 1478.89 759.513 1474.26 Q764.12 1469.61 765.3 1468.27 Q767.546 1465.74 768.425 1464.01 Q769.328 1462.25 769.328 1460.56 Q769.328 1457.8 767.384 1456.07 Q765.462 1454.33 762.36 1454.33 Q760.161 1454.33 757.708 1455.09 Q755.277 1455.86 752.499 1457.41 L752.499 1452.69 Q755.323 1451.55 757.777 1450.97 Q760.231 1450.39 762.268 1450.39 Q767.638 1450.39 770.833 1453.08 Q774.027 1455.77 774.027 1460.26 Q774.027 1462.39 773.217 1464.31 Q772.43 1466.2 770.323 1468.8 Q769.745 1469.47 766.643 1472.69 Q763.541 1475.88 757.893 1481.64 Z\" fill=\"#000000\" fill-rule=\"nonzero\" fill-opacity=\"1\" /><path clip-path=\"url(#clip570)\" d=\"M784.073 1451.02 L802.43 1451.02 L802.43 1454.96 L788.356 1454.96 L788.356 1463.43 Q789.374 1463.08 790.393 1462.92 Q791.411 1462.73 792.43 1462.73 Q798.217 1462.73 801.596 1465.9 Q804.976 1469.08 804.976 1474.49 Q804.976 1480.07 801.504 1483.17 Q798.032 1486.25 791.712 1486.25 Q789.536 1486.25 787.268 1485.88 Q785.022 1485.51 782.615 1484.77 L782.615 1480.07 Q784.698 1481.2 786.921 1481.76 Q789.143 1482.32 791.62 1482.32 Q795.624 1482.32 797.962 1480.21 Q800.3 1478.1 800.3 1474.49 Q800.3 1470.88 797.962 1468.77 Q795.624 1466.67 791.62 1466.67 Q789.745 1466.67 787.87 1467.08 Q786.018 1467.5 784.073 1468.38 L784.073 1451.02 Z\" fill=\"#000000\" fill-rule=\"nonzero\" fill-opacity=\"1\" /><path clip-path=\"url(#clip570)\" d=\"M1258.05 1451.02 L1276.4 1451.02 L1276.4 1454.96 L1262.33 1454.96 L1262.33 1463.43 Q1263.35 1463.08 1264.36 1462.92 Q1265.38 1462.73 1266.4 1462.73 Q1272.19 1462.73 1275.57 1465.9 Q1278.95 1469.08 1278.95 1474.49 Q1278.95 1480.07 1275.48 1483.17 Q1272 1486.25 1265.68 1486.25 Q1263.51 1486.25 1261.24 1485.88 Q1258.99 1485.51 1256.59 1484.77 L1256.59 1480.07 Q1258.67 1481.2 1260.89 1481.76 Q1263.11 1482.32 1265.59 1482.32 Q1269.6 1482.32 1271.93 1480.21 Q1274.27 1478.1 1274.27 1474.49 Q1274.27 1470.88 1271.93 1468.77 Q1269.6 1466.67 1265.59 1466.67 Q1263.72 1466.67 1261.84 1467.08 Q1259.99 1467.5 1258.05 1468.38 L1258.05 1451.02 Z\" fill=\"#000000\" fill-rule=\"nonzero\" fill-opacity=\"1\" /><path clip-path=\"url(#clip570)\" d=\"M1298.16 1454.1 Q1294.55 1454.1 1292.72 1457.66 Q1290.92 1461.2 1290.92 1468.33 Q1290.92 1475.44 1292.72 1479.01 Q1294.55 1482.55 1298.16 1482.55 Q1301.8 1482.55 1303.6 1479.01 Q1305.43 1475.44 1305.43 1468.33 Q1305.43 1461.2 1303.6 1457.66 Q1301.8 1454.1 1298.16 1454.1 M1298.16 1450.39 Q1303.97 1450.39 1307.03 1455 Q1310.11 1459.58 1310.11 1468.33 Q1310.11 1477.06 1307.03 1481.67 Q1303.97 1486.25 1298.16 1486.25 Q1292.35 1486.25 1289.27 1481.67 Q1286.22 1477.06 1286.22 1468.33 Q1286.22 1459.58 1289.27 1455 Q1292.35 1450.39 1298.16 1450.39 Z\" fill=\"#000000\" fill-rule=\"nonzero\" fill-opacity=\"1\" /><path clip-path=\"url(#clip570)\" d=\"M1761.92 1451.02 L1784.15 1451.02 L1784.15 1453.01 L1771.6 1485.58 L1766.72 1485.58 L1778.52 1454.96 L1761.92 1454.96 L1761.92 1451.02 Z\" fill=\"#000000\" fill-rule=\"nonzero\" fill-opacity=\"1\" /><path clip-path=\"url(#clip570)\" d=\"M1793.31 1451.02 L1811.67 1451.02 L1811.67 1454.96 L1797.6 1454.96 L1797.6 1463.43 Q1798.61 1463.08 1799.63 1462.92 Q1800.65 1462.73 1801.67 1462.73 Q1807.46 1462.73 1810.84 1465.9 Q1814.22 1469.08 1814.22 1474.49 Q1814.22 1480.07 1810.74 1483.17 Q1807.27 1486.25 1800.95 1486.25 Q1798.78 1486.25 1796.51 1485.88 Q1794.26 1485.51 1791.86 1484.77 L1791.86 1480.07 Q1793.94 1481.2 1796.16 1481.76 Q1798.38 1482.32 1800.86 1482.32 Q1804.86 1482.32 1807.2 1480.21 Q1809.54 1478.1 1809.54 1474.49 Q1809.54 1470.88 1807.2 1468.77 Q1804.86 1466.67 1800.86 1466.67 Q1798.98 1466.67 1797.11 1467.08 Q1795.26 1467.5 1793.31 1468.38 L1793.31 1451.02 Z\" fill=\"#000000\" fill-rule=\"nonzero\" fill-opacity=\"1\" /><path clip-path=\"url(#clip570)\" d=\"M2252.4 1481.64 L2260.04 1481.64 L2260.04 1455.28 L2251.73 1456.95 L2251.73 1452.69 L2259.99 1451.02 L2264.67 1451.02 L2264.67 1481.64 L2272.31 1481.64 L2272.31 1485.58 L2252.4 1485.58 L2252.4 1481.64 Z\" fill=\"#000000\" fill-rule=\"nonzero\" fill-opacity=\"1\" /><path clip-path=\"url(#clip570)\" d=\"M2291.75 1454.1 Q2288.14 1454.1 2286.31 1457.66 Q2284.51 1461.2 2284.51 1468.33 Q2284.51 1475.44 2286.31 1479.01 Q2288.14 1482.55 2291.75 1482.55 Q2295.39 1482.55 2297.19 1479.01 Q2299.02 1475.44 2299.02 1468.33 Q2299.02 1461.2 2297.19 1457.66 Q2295.39 1454.1 2291.75 1454.1 M2291.75 1450.39 Q2297.56 1450.39 2300.62 1455 Q2303.7 1459.58 2303.7 1468.33 Q2303.7 1477.06 2300.62 1481.67 Q2297.56 1486.25 2291.75 1486.25 Q2285.94 1486.25 2282.86 1481.67 Q2279.81 1477.06 2279.81 1468.33 Q2279.81 1459.58 2282.86 1455 Q2285.94 1450.39 2291.75 1450.39 Z\" fill=\"#000000\" fill-rule=\"nonzero\" fill-opacity=\"1\" /><path clip-path=\"url(#clip570)\" d=\"M2321.91 1454.1 Q2318.3 1454.1 2316.48 1457.66 Q2314.67 1461.2 2314.67 1468.33 Q2314.67 1475.44 2316.48 1479.01 Q2318.3 1482.55 2321.91 1482.55 Q2325.55 1482.55 2327.35 1479.01 Q2329.18 1475.44 2329.18 1468.33 Q2329.18 1461.2 2327.35 1457.66 Q2325.55 1454.1 2321.91 1454.1 M2321.91 1450.39 Q2327.73 1450.39 2330.78 1455 Q2333.86 1459.58 2333.86 1468.33 Q2333.86 1477.06 2330.78 1481.67 Q2327.73 1486.25 2321.91 1486.25 Q2316.1 1486.25 2313.03 1481.67 Q2309.97 1477.06 2309.97 1468.33 Q2309.97 1459.58 2313.03 1455 Q2316.1 1450.39 2321.91 1450.39 Z\" fill=\"#000000\" fill-rule=\"nonzero\" fill-opacity=\"1\" /><path clip-path=\"url(#clip570)\" d=\"M1149.15 1522.27 L1149.15 1532.4 L1161.21 1532.4 L1161.21 1536.95 L1149.15 1536.95 L1149.15 1556.3 Q1149.15 1560.66 1150.32 1561.9 Q1151.53 1563.14 1155.19 1563.14 L1161.21 1563.14 L1161.21 1568.04 L1155.19 1568.04 Q1148.41 1568.04 1145.84 1565.53 Q1143.26 1562.98 1143.26 1556.3 L1143.26 1536.95 L1138.96 1536.95 L1138.96 1532.4 L1143.26 1532.4 L1143.26 1522.27 L1149.15 1522.27 Z\" fill=\"#000000\" fill-rule=\"nonzero\" fill-opacity=\"1\" /><path clip-path=\"url(#clip570)\" d=\"M1168.91 1532.4 L1174.77 1532.4 L1174.77 1568.04 L1168.91 1568.04 L1168.91 1532.4 M1168.91 1518.52 L1174.77 1518.52 L1174.77 1525.93 L1168.91 1525.93 L1168.91 1518.52 Z\" fill=\"#000000\" fill-rule=\"nonzero\" fill-opacity=\"1\" /><path clip-path=\"url(#clip570)\" d=\"M1214.78 1539.24 Q1216.97 1535.29 1220.03 1533.41 Q1223.08 1531.54 1227.22 1531.54 Q1232.79 1531.54 1235.82 1535.45 Q1238.84 1539.33 1238.84 1546.53 L1238.84 1568.04 L1232.95 1568.04 L1232.95 1546.72 Q1232.95 1541.59 1231.14 1539.11 Q1229.32 1536.63 1225.6 1536.63 Q1221.05 1536.63 1218.4 1539.65 Q1215.76 1542.68 1215.76 1547.9 L1215.76 1568.04 L1209.87 1568.04 L1209.87 1546.72 Q1209.87 1541.56 1208.06 1539.11 Q1206.25 1536.63 1202.46 1536.63 Q1197.97 1536.63 1195.33 1539.68 Q1192.69 1542.71 1192.69 1547.9 L1192.69 1568.04 L1186.8 1568.04 L1186.8 1532.4 L1192.69 1532.4 L1192.69 1537.93 Q1194.69 1534.66 1197.49 1533.1 Q1200.29 1531.54 1204.15 1531.54 Q1208.03 1531.54 1210.73 1533.51 Q1213.47 1535.48 1214.78 1539.24 Z\" fill=\"#000000\" fill-rule=\"nonzero\" fill-opacity=\"1\" /><path clip-path=\"url(#clip570)\" d=\"M1281.01 1548.76 L1281.01 1551.62 L1254.08 1551.62 Q1254.47 1557.67 1257.71 1560.85 Q1260.99 1564 1266.82 1564 Q1270.19 1564 1273.34 1563.17 Q1276.52 1562.35 1279.64 1560.69 L1279.64 1566.23 Q1276.49 1567.57 1273.18 1568.27 Q1269.87 1568.97 1266.47 1568.97 Q1257.94 1568.97 1252.94 1564 Q1247.97 1559.04 1247.97 1550.57 Q1247.97 1541.82 1252.68 1536.69 Q1257.43 1531.54 1265.45 1531.54 Q1272.64 1531.54 1276.81 1536.18 Q1281.01 1540.8 1281.01 1548.76 M1275.16 1547.04 Q1275.09 1542.23 1272.45 1539.37 Q1269.84 1536.5 1265.51 1536.5 Q1260.61 1536.5 1257.65 1539.27 Q1254.72 1542.04 1254.28 1547.07 L1275.16 1547.04 Z\" fill=\"#000000\" fill-rule=\"nonzero\" fill-opacity=\"1\" /><path clip-path=\"url(#clip570)\" d=\"M1325.41 1518.58 Q1321.15 1525.9 1319.08 1533.06 Q1317.01 1540.23 1317.01 1547.58 Q1317.01 1554.93 1319.08 1562.16 Q1321.18 1569.35 1325.41 1576.64 L1320.32 1576.64 Q1315.55 1569.16 1313.16 1561.93 Q1310.8 1554.71 1310.8 1547.58 Q1310.8 1540.48 1313.16 1533.29 Q1315.51 1526.09 1320.32 1518.58 L1325.41 1518.58 Z\" fill=\"#000000\" fill-rule=\"nonzero\" fill-opacity=\"1\" /><path clip-path=\"url(#clip570)\" d=\"M1364.53 1539.24 Q1366.73 1535.29 1369.78 1533.41 Q1372.84 1531.54 1376.97 1531.54 Q1382.54 1531.54 1385.57 1535.45 Q1388.59 1539.33 1388.59 1546.53 L1388.59 1568.04 L1382.7 1568.04 L1382.7 1546.72 Q1382.7 1541.59 1380.89 1539.11 Q1379.08 1536.63 1375.35 1536.63 Q1370.8 1536.63 1368.16 1539.65 Q1365.52 1542.68 1365.52 1547.9 L1365.52 1568.04 L1359.63 1568.04 L1359.63 1546.72 Q1359.63 1541.56 1357.81 1539.11 Q1356 1536.63 1352.21 1536.63 Q1347.72 1536.63 1345.08 1539.68 Q1342.44 1542.71 1342.44 1547.9 L1342.44 1568.04 L1336.55 1568.04 L1336.55 1532.4 L1342.44 1532.4 L1342.44 1537.93 Q1344.45 1534.66 1347.25 1533.1 Q1350.05 1531.54 1353.9 1531.54 Q1357.78 1531.54 1360.49 1533.51 Q1363.22 1535.48 1364.53 1539.24 Z\" fill=\"#000000\" fill-rule=\"nonzero\" fill-opacity=\"1\" /><path clip-path=\"url(#clip570)\" d=\"M1423 1533.45 L1423 1538.98 Q1420.52 1537.71 1417.84 1537.07 Q1415.17 1536.44 1412.3 1536.44 Q1407.94 1536.44 1405.75 1537.77 Q1403.58 1539.11 1403.58 1541.79 Q1403.58 1543.82 1405.14 1545 Q1406.7 1546.15 1411.41 1547.2 L1413.42 1547.64 Q1419.66 1548.98 1422.27 1551.43 Q1424.91 1553.85 1424.91 1558.21 Q1424.91 1563.17 1420.96 1566.07 Q1417.05 1568.97 1410.17 1568.97 Q1407.31 1568.97 1404.19 1568.39 Q1401.1 1567.85 1397.66 1566.74 L1397.66 1560.69 Q1400.91 1562.38 1404.06 1563.24 Q1407.21 1564.07 1410.3 1564.07 Q1414.44 1564.07 1416.66 1562.66 Q1418.89 1561.23 1418.89 1558.65 Q1418.89 1556.27 1417.27 1554.99 Q1415.68 1553.72 1410.24 1552.54 L1408.2 1552.07 Q1402.76 1550.92 1400.34 1548.56 Q1397.92 1546.18 1397.92 1542.04 Q1397.92 1537.01 1401.48 1534.27 Q1405.05 1531.54 1411.6 1531.54 Q1414.85 1531.54 1417.72 1532.01 Q1420.58 1532.49 1423 1533.45 Z\" fill=\"#000000\" fill-rule=\"nonzero\" fill-opacity=\"1\" /><path clip-path=\"url(#clip570)\" d=\"M1433.31 1518.58 L1438.4 1518.58 Q1443.18 1526.09 1445.53 1533.29 Q1447.92 1540.48 1447.92 1547.58 Q1447.92 1554.71 1445.53 1561.93 Q1443.18 1569.16 1438.4 1576.64 L1433.31 1576.64 Q1437.54 1569.35 1439.61 1562.16 Q1441.71 1554.93 1441.71 1547.58 Q1441.71 1540.23 1439.61 1533.06 Q1437.54 1525.9 1433.31 1518.58 Z\" fill=\"#000000\" fill-rule=\"nonzero\" fill-opacity=\"1\" /><polyline clip-path=\"url(#clip572)\" style=\"stroke:#000000; stroke-linecap:round; stroke-linejoin:round; stroke-width:2; stroke-opacity:0.1; fill:none\" points=\"234.125,1305.5 2352.76,1305.5 \"/>\n",
       "<polyline clip-path=\"url(#clip572)\" style=\"stroke:#000000; stroke-linecap:round; stroke-linejoin:round; stroke-width:2; stroke-opacity:0.1; fill:none\" points=\"234.125,1108.03 2352.76,1108.03 \"/>\n",
       "<polyline clip-path=\"url(#clip572)\" style=\"stroke:#000000; stroke-linecap:round; stroke-linejoin:round; stroke-width:2; stroke-opacity:0.1; fill:none\" points=\"234.125,910.551 2352.76,910.551 \"/>\n",
       "<polyline clip-path=\"url(#clip572)\" style=\"stroke:#000000; stroke-linecap:round; stroke-linejoin:round; stroke-width:2; stroke-opacity:0.1; fill:none\" points=\"234.125,713.076 2352.76,713.076 \"/>\n",
       "<polyline clip-path=\"url(#clip572)\" style=\"stroke:#000000; stroke-linecap:round; stroke-linejoin:round; stroke-width:2; stroke-opacity:0.1; fill:none\" points=\"234.125,515.602 2352.76,515.602 \"/>\n",
       "<polyline clip-path=\"url(#clip572)\" style=\"stroke:#000000; stroke-linecap:round; stroke-linejoin:round; stroke-width:2; stroke-opacity:0.1; fill:none\" points=\"234.125,318.127 2352.76,318.127 \"/>\n",
       "<polyline clip-path=\"url(#clip570)\" style=\"stroke:#000000; stroke-linecap:round; stroke-linejoin:round; stroke-width:4; stroke-opacity:1; fill:none\" points=\"234.125,1423.18 234.125,123.472 \"/>\n",
       "<polyline clip-path=\"url(#clip570)\" style=\"stroke:#000000; stroke-linecap:round; stroke-linejoin:round; stroke-width:4; stroke-opacity:1; fill:none\" points=\"234.125,1305.5 253.023,1305.5 \"/>\n",
       "<polyline clip-path=\"url(#clip570)\" style=\"stroke:#000000; stroke-linecap:round; stroke-linejoin:round; stroke-width:4; stroke-opacity:1; fill:none\" points=\"234.125,1108.03 253.023,1108.03 \"/>\n",
       "<polyline clip-path=\"url(#clip570)\" style=\"stroke:#000000; stroke-linecap:round; stroke-linejoin:round; stroke-width:4; stroke-opacity:1; fill:none\" points=\"234.125,910.551 253.023,910.551 \"/>\n",
       "<polyline clip-path=\"url(#clip570)\" style=\"stroke:#000000; stroke-linecap:round; stroke-linejoin:round; stroke-width:4; stroke-opacity:1; fill:none\" points=\"234.125,713.076 253.023,713.076 \"/>\n",
       "<polyline clip-path=\"url(#clip570)\" style=\"stroke:#000000; stroke-linecap:round; stroke-linejoin:round; stroke-width:4; stroke-opacity:1; fill:none\" points=\"234.125,515.602 253.023,515.602 \"/>\n",
       "<polyline clip-path=\"url(#clip570)\" style=\"stroke:#000000; stroke-linecap:round; stroke-linejoin:round; stroke-width:4; stroke-opacity:1; fill:none\" points=\"234.125,318.127 253.023,318.127 \"/>\n",
       "<path clip-path=\"url(#clip570)\" d=\"M116.668 1318.85 L124.306 1318.85 L124.306 1292.48 L115.996 1294.15 L115.996 1289.89 L124.26 1288.22 L128.936 1288.22 L128.936 1318.85 L136.575 1318.85 L136.575 1322.78 L116.668 1322.78 L116.668 1318.85 Z\" fill=\"#000000\" fill-rule=\"nonzero\" fill-opacity=\"1\" /><path clip-path=\"url(#clip570)\" d=\"M156.598 1303.64 Q153.45 1303.64 151.598 1305.79 Q149.769 1307.94 149.769 1311.69 Q149.769 1315.42 151.598 1317.6 Q153.45 1319.75 156.598 1319.75 Q159.746 1319.75 161.575 1317.6 Q163.427 1315.42 163.427 1311.69 Q163.427 1307.94 161.575 1305.79 Q159.746 1303.64 156.598 1303.64 M165.88 1288.98 L165.88 1293.24 Q164.121 1292.41 162.315 1291.97 Q160.533 1291.53 158.774 1291.53 Q154.144 1291.53 151.691 1294.66 Q149.26 1297.78 148.913 1304.1 Q150.278 1302.09 152.339 1301.02 Q154.399 1299.93 156.876 1299.93 Q162.084 1299.93 165.093 1303.1 Q168.126 1306.25 168.126 1311.69 Q168.126 1317.02 164.977 1320.23 Q161.829 1323.45 156.598 1323.45 Q150.603 1323.45 147.431 1318.87 Q144.26 1314.26 144.26 1305.53 Q144.26 1297.34 148.149 1292.48 Q152.038 1287.6 158.589 1287.6 Q160.348 1287.6 162.13 1287.94 Q163.936 1288.29 165.88 1288.98 Z\" fill=\"#000000\" fill-rule=\"nonzero\" fill-opacity=\"1\" /><path clip-path=\"url(#clip570)\" d=\"M186.181 1291.3 Q182.57 1291.3 180.741 1294.86 Q178.936 1298.41 178.936 1305.53 Q178.936 1312.64 180.741 1316.21 Q182.57 1319.75 186.181 1319.75 Q189.815 1319.75 191.621 1316.21 Q193.45 1312.64 193.45 1305.53 Q193.45 1298.41 191.621 1294.86 Q189.815 1291.3 186.181 1291.3 M186.181 1287.6 Q191.991 1287.6 195.047 1292.2 Q198.125 1296.78 198.125 1305.53 Q198.125 1314.26 195.047 1318.87 Q191.991 1323.45 186.181 1323.45 Q180.371 1323.45 177.292 1318.87 Q174.237 1314.26 174.237 1305.53 Q174.237 1296.78 177.292 1292.2 Q180.371 1287.6 186.181 1287.6 Z\" fill=\"#000000\" fill-rule=\"nonzero\" fill-opacity=\"1\" /><path clip-path=\"url(#clip570)\" d=\"M116.668 1121.37 L124.306 1121.37 L124.306 1095 L115.996 1096.67 L115.996 1092.41 L124.26 1090.75 L128.936 1090.75 L128.936 1121.37 L136.575 1121.37 L136.575 1125.31 L116.668 1125.31 L116.668 1121.37 Z\" fill=\"#000000\" fill-rule=\"nonzero\" fill-opacity=\"1\" /><path clip-path=\"url(#clip570)\" d=\"M156.019 1108.89 Q152.686 1108.89 150.765 1110.68 Q148.866 1112.46 148.866 1115.58 Q148.866 1118.71 150.765 1120.49 Q152.686 1122.27 156.019 1122.27 Q159.353 1122.27 161.274 1120.49 Q163.195 1118.69 163.195 1115.58 Q163.195 1112.46 161.274 1110.68 Q159.376 1108.89 156.019 1108.89 M151.343 1106.9 Q148.334 1106.16 146.644 1104.1 Q144.978 1102.04 144.978 1099.08 Q144.978 1094.94 147.917 1092.53 Q150.88 1090.12 156.019 1090.12 Q161.181 1090.12 164.121 1092.53 Q167.061 1094.94 167.061 1099.08 Q167.061 1102.04 165.371 1104.1 Q163.704 1106.16 160.718 1106.9 Q164.098 1107.69 165.973 1109.98 Q167.871 1112.27 167.871 1115.58 Q167.871 1120.61 164.792 1123.29 Q161.737 1125.98 156.019 1125.98 Q150.302 1125.98 147.223 1123.29 Q144.167 1120.61 144.167 1115.58 Q144.167 1112.27 146.066 1109.98 Q147.964 1107.69 151.343 1106.9 M149.63 1099.52 Q149.63 1102.2 151.297 1103.71 Q152.987 1105.21 156.019 1105.21 Q159.028 1105.21 160.718 1103.71 Q162.431 1102.2 162.431 1099.52 Q162.431 1096.83 160.718 1095.33 Q159.028 1093.82 156.019 1093.82 Q152.987 1093.82 151.297 1095.33 Q149.63 1096.83 149.63 1099.52 Z\" fill=\"#000000\" fill-rule=\"nonzero\" fill-opacity=\"1\" /><path clip-path=\"url(#clip570)\" d=\"M186.181 1093.82 Q182.57 1093.82 180.741 1097.39 Q178.936 1100.93 178.936 1108.06 Q178.936 1115.17 180.741 1118.73 Q182.57 1122.27 186.181 1122.27 Q189.815 1122.27 191.621 1118.73 Q193.45 1115.17 193.45 1108.06 Q193.45 1100.93 191.621 1097.39 Q189.815 1093.82 186.181 1093.82 M186.181 1090.12 Q191.991 1090.12 195.047 1094.73 Q198.125 1099.31 198.125 1108.06 Q198.125 1116.79 195.047 1121.39 Q191.991 1125.98 186.181 1125.98 Q180.371 1125.98 177.292 1121.39 Q174.237 1116.79 174.237 1108.06 Q174.237 1099.31 177.292 1094.73 Q180.371 1090.12 186.181 1090.12 Z\" fill=\"#000000\" fill-rule=\"nonzero\" fill-opacity=\"1\" /><path clip-path=\"url(#clip570)\" d=\"M119.885 923.896 L136.204 923.896 L136.204 927.831 L114.26 927.831 L114.26 923.896 Q116.922 921.141 121.505 916.512 Q126.112 911.859 127.292 910.516 Q129.538 907.993 130.417 906.257 Q131.32 904.498 131.32 902.808 Q131.32 900.053 129.376 898.317 Q127.455 896.581 124.353 896.581 Q122.154 896.581 119.7 897.345 Q117.269 898.109 114.492 899.66 L114.492 894.938 Q117.316 893.803 119.769 893.225 Q122.223 892.646 124.26 892.646 Q129.63 892.646 132.825 895.331 Q136.019 898.016 136.019 902.507 Q136.019 904.637 135.209 906.558 Q134.422 908.456 132.316 911.049 Q131.737 911.72 128.635 914.938 Q125.533 918.132 119.885 923.896 Z\" fill=\"#000000\" fill-rule=\"nonzero\" fill-opacity=\"1\" /><path clip-path=\"url(#clip570)\" d=\"M156.019 896.35 Q152.408 896.35 150.579 899.915 Q148.774 903.456 148.774 910.586 Q148.774 917.692 150.579 921.257 Q152.408 924.799 156.019 924.799 Q159.653 924.799 161.459 921.257 Q163.288 917.692 163.288 910.586 Q163.288 903.456 161.459 899.915 Q159.653 896.35 156.019 896.35 M156.019 892.646 Q161.829 892.646 164.885 897.253 Q167.964 901.836 167.964 910.586 Q167.964 919.313 164.885 923.919 Q161.829 928.502 156.019 928.502 Q150.209 928.502 147.13 923.919 Q144.075 919.313 144.075 910.586 Q144.075 901.836 147.13 897.253 Q150.209 892.646 156.019 892.646 Z\" fill=\"#000000\" fill-rule=\"nonzero\" fill-opacity=\"1\" /><path clip-path=\"url(#clip570)\" d=\"M186.181 896.35 Q182.57 896.35 180.741 899.915 Q178.936 903.456 178.936 910.586 Q178.936 917.692 180.741 921.257 Q182.57 924.799 186.181 924.799 Q189.815 924.799 191.621 921.257 Q193.45 917.692 193.45 910.586 Q193.45 903.456 191.621 899.915 Q189.815 896.35 186.181 896.35 M186.181 892.646 Q191.991 892.646 195.047 897.253 Q198.125 901.836 198.125 910.586 Q198.125 919.313 195.047 923.919 Q191.991 928.502 186.181 928.502 Q180.371 928.502 177.292 923.919 Q174.237 919.313 174.237 910.586 Q174.237 901.836 177.292 897.253 Q180.371 892.646 186.181 892.646 Z\" fill=\"#000000\" fill-rule=\"nonzero\" fill-opacity=\"1\" /><path clip-path=\"url(#clip570)\" d=\"M119.885 726.421 L136.204 726.421 L136.204 730.356 L114.26 730.356 L114.26 726.421 Q116.922 723.667 121.505 719.037 Q126.112 714.384 127.292 713.042 Q129.538 710.519 130.417 708.783 Q131.32 707.023 131.32 705.333 Q131.32 702.579 129.376 700.843 Q127.455 699.107 124.353 699.107 Q122.154 699.107 119.7 699.871 Q117.269 700.634 114.492 702.185 L114.492 697.463 Q117.316 696.329 119.769 695.75 Q122.223 695.171 124.26 695.171 Q129.63 695.171 132.825 697.857 Q136.019 700.542 136.019 705.033 Q136.019 707.162 135.209 709.083 Q134.422 710.982 132.316 713.574 Q131.737 714.245 128.635 717.463 Q125.533 720.657 119.885 726.421 Z\" fill=\"#000000\" fill-rule=\"nonzero\" fill-opacity=\"1\" /><path clip-path=\"url(#clip570)\" d=\"M150.047 726.421 L166.366 726.421 L166.366 730.356 L144.422 730.356 L144.422 726.421 Q147.084 723.667 151.667 719.037 Q156.274 714.384 157.454 713.042 Q159.7 710.519 160.579 708.783 Q161.482 707.023 161.482 705.333 Q161.482 702.579 159.538 700.843 Q157.616 699.107 154.515 699.107 Q152.316 699.107 149.862 699.871 Q147.431 700.634 144.654 702.185 L144.654 697.463 Q147.478 696.329 149.931 695.75 Q152.385 695.171 154.422 695.171 Q159.792 695.171 162.987 697.857 Q166.181 700.542 166.181 705.033 Q166.181 707.162 165.371 709.083 Q164.584 710.982 162.477 713.574 Q161.899 714.245 158.797 717.463 Q155.695 720.657 150.047 726.421 Z\" fill=\"#000000\" fill-rule=\"nonzero\" fill-opacity=\"1\" /><path clip-path=\"url(#clip570)\" d=\"M186.181 698.875 Q182.57 698.875 180.741 702.44 Q178.936 705.982 178.936 713.111 Q178.936 720.218 180.741 723.782 Q182.57 727.324 186.181 727.324 Q189.815 727.324 191.621 723.782 Q193.45 720.218 193.45 713.111 Q193.45 705.982 191.621 702.44 Q189.815 698.875 186.181 698.875 M186.181 695.171 Q191.991 695.171 195.047 699.778 Q198.125 704.361 198.125 713.111 Q198.125 721.838 195.047 726.444 Q191.991 731.028 186.181 731.028 Q180.371 731.028 177.292 726.444 Q174.237 721.838 174.237 713.111 Q174.237 704.361 177.292 699.778 Q180.371 695.171 186.181 695.171 Z\" fill=\"#000000\" fill-rule=\"nonzero\" fill-opacity=\"1\" /><path clip-path=\"url(#clip570)\" d=\"M119.885 528.947 L136.204 528.947 L136.204 532.882 L114.26 532.882 L114.26 528.947 Q116.922 526.192 121.505 521.563 Q126.112 516.91 127.292 515.567 Q129.538 513.044 130.417 511.308 Q131.32 509.549 131.32 507.859 Q131.32 505.104 129.376 503.368 Q127.455 501.632 124.353 501.632 Q122.154 501.632 119.7 502.396 Q117.269 503.16 114.492 504.711 L114.492 499.989 Q117.316 498.854 119.769 498.276 Q122.223 497.697 124.26 497.697 Q129.63 497.697 132.825 500.382 Q136.019 503.067 136.019 507.558 Q136.019 509.688 135.209 511.609 Q134.422 513.507 132.316 516.1 Q131.737 516.771 128.635 519.988 Q125.533 523.183 119.885 528.947 Z\" fill=\"#000000\" fill-rule=\"nonzero\" fill-opacity=\"1\" /><path clip-path=\"url(#clip570)\" d=\"M158.866 502.396 L147.061 520.845 L158.866 520.845 L158.866 502.396 M157.64 498.322 L163.519 498.322 L163.519 520.845 L168.45 520.845 L168.45 524.734 L163.519 524.734 L163.519 532.882 L158.866 532.882 L158.866 524.734 L143.265 524.734 L143.265 520.22 L157.64 498.322 Z\" fill=\"#000000\" fill-rule=\"nonzero\" fill-opacity=\"1\" /><path clip-path=\"url(#clip570)\" d=\"M186.181 501.401 Q182.57 501.401 180.741 504.965 Q178.936 508.507 178.936 515.637 Q178.936 522.743 180.741 526.308 Q182.57 529.85 186.181 529.85 Q189.815 529.85 191.621 526.308 Q193.45 522.743 193.45 515.637 Q193.45 508.507 191.621 504.965 Q189.815 501.401 186.181 501.401 M186.181 497.697 Q191.991 497.697 195.047 502.303 Q198.125 506.887 198.125 515.637 Q198.125 524.363 195.047 528.97 Q191.991 533.553 186.181 533.553 Q180.371 533.553 177.292 528.97 Q174.237 524.363 174.237 515.637 Q174.237 506.887 177.292 502.303 Q180.371 497.697 186.181 497.697 Z\" fill=\"#000000\" fill-rule=\"nonzero\" fill-opacity=\"1\" /><path clip-path=\"url(#clip570)\" d=\"M119.885 331.472 L136.204 331.472 L136.204 335.407 L114.26 335.407 L114.26 331.472 Q116.922 328.718 121.505 324.088 Q126.112 319.435 127.292 318.093 Q129.538 315.569 130.417 313.833 Q131.32 312.074 131.32 310.384 Q131.32 307.63 129.376 305.894 Q127.455 304.158 124.353 304.158 Q122.154 304.158 119.7 304.921 Q117.269 305.685 114.492 307.236 L114.492 302.514 Q117.316 301.38 119.769 300.801 Q122.223 300.222 124.26 300.222 Q129.63 300.222 132.825 302.908 Q136.019 305.593 136.019 310.083 Q136.019 312.213 135.209 314.134 Q134.422 316.032 132.316 318.625 Q131.737 319.296 128.635 322.514 Q125.533 325.708 119.885 331.472 Z\" fill=\"#000000\" fill-rule=\"nonzero\" fill-opacity=\"1\" /><path clip-path=\"url(#clip570)\" d=\"M156.598 316.264 Q153.45 316.264 151.598 318.417 Q149.769 320.569 149.769 324.319 Q149.769 328.046 151.598 330.222 Q153.45 332.375 156.598 332.375 Q159.746 332.375 161.575 330.222 Q163.427 328.046 163.427 324.319 Q163.427 320.569 161.575 318.417 Q159.746 316.264 156.598 316.264 M165.88 301.611 L165.88 305.87 Q164.121 305.037 162.315 304.597 Q160.533 304.158 158.774 304.158 Q154.144 304.158 151.691 307.283 Q149.26 310.407 148.913 316.727 Q150.278 314.713 152.339 313.648 Q154.399 312.56 156.876 312.56 Q162.084 312.56 165.093 315.732 Q168.126 318.88 168.126 324.319 Q168.126 329.643 164.977 332.861 Q161.829 336.079 156.598 336.079 Q150.603 336.079 147.431 331.495 Q144.26 326.889 144.26 318.162 Q144.26 309.968 148.149 305.107 Q152.038 300.222 158.589 300.222 Q160.348 300.222 162.13 300.57 Q163.936 300.917 165.88 301.611 Z\" fill=\"#000000\" fill-rule=\"nonzero\" fill-opacity=\"1\" /><path clip-path=\"url(#clip570)\" d=\"M186.181 303.926 Q182.57 303.926 180.741 307.491 Q178.936 311.032 178.936 318.162 Q178.936 325.269 180.741 328.833 Q182.57 332.375 186.181 332.375 Q189.815 332.375 191.621 328.833 Q193.45 325.269 193.45 318.162 Q193.45 311.032 191.621 307.491 Q189.815 303.926 186.181 303.926 M186.181 300.222 Q191.991 300.222 195.047 304.829 Q198.125 309.412 198.125 318.162 Q198.125 326.889 195.047 331.495 Q191.991 336.079 186.181 336.079 Q180.371 336.079 177.292 331.495 Q174.237 326.889 174.237 318.162 Q174.237 309.412 177.292 304.829 Q180.371 300.222 186.181 300.222 Z\" fill=\"#000000\" fill-rule=\"nonzero\" fill-opacity=\"1\" /><path clip-path=\"url(#clip570)\" d=\"M42.4881 817.186 L64.0042 817.186 L64.0042 823.042 L42.679 823.042 Q37.6183 823.042 35.1038 825.016 Q32.5894 826.989 32.5894 830.936 Q32.5894 835.678 35.6131 838.415 Q38.6368 841.153 43.8567 841.153 L64.0042 841.153 L64.0042 847.041 L14.479 847.041 L14.479 841.153 L33.8944 841.153 Q30.6797 839.052 29.0883 836.219 Q27.4968 833.355 27.4968 829.631 Q27.4968 823.488 31.3163 820.337 Q35.1038 817.186 42.4881 817.186 Z\" fill=\"#000000\" fill-rule=\"nonzero\" fill-opacity=\"1\" /><path clip-path=\"url(#clip570)\" d=\"M32.4621 791.691 Q32.4621 796.402 36.1542 799.139 Q39.8145 801.876 46.212 801.876 Q52.6095 801.876 56.3017 799.171 Q59.9619 796.433 59.9619 791.691 Q59.9619 787.012 56.2698 784.275 Q52.5777 781.538 46.212 781.538 Q39.8781 781.538 36.186 784.275 Q32.4621 787.012 32.4621 791.691 M27.4968 791.691 Q27.4968 784.052 32.4621 779.692 Q37.4273 775.331 46.212 775.331 Q54.9649 775.331 59.9619 779.692 Q64.9272 784.052 64.9272 791.691 Q64.9272 799.362 59.9619 803.722 Q54.9649 808.051 46.212 808.051 Q37.4273 808.051 32.4621 803.722 Q27.4968 799.362 27.4968 791.691 Z\" fill=\"#000000\" fill-rule=\"nonzero\" fill-opacity=\"1\" /><path clip-path=\"url(#clip570)\" d=\"M58.657 759.958 L77.5631 759.958 L77.5631 765.846 L28.3562 765.846 L28.3562 759.958 L33.7671 759.958 Q30.5842 758.112 29.0564 755.311 Q27.4968 752.478 27.4968 748.563 Q27.4968 742.07 32.6531 738.028 Q37.8093 733.954 46.212 733.954 Q54.6147 733.954 59.771 738.028 Q64.9272 742.07 64.9272 748.563 Q64.9272 752.478 63.3994 755.311 Q61.8398 758.112 58.657 759.958 M46.212 740.033 Q39.7508 740.033 36.0905 742.707 Q32.3984 745.349 32.3984 749.996 Q32.3984 754.643 36.0905 757.316 Q39.7508 759.958 46.212 759.958 Q52.6732 759.958 56.3653 757.316 Q60.0256 754.643 60.0256 749.996 Q60.0256 745.349 56.3653 742.707 Q52.6732 740.033 46.212 740.033 Z\" fill=\"#000000\" fill-rule=\"nonzero\" fill-opacity=\"1\" /><path clip-path=\"url(#clip570)\" d=\"M29.4065 701.521 L34.9447 701.521 Q33.6716 704.003 33.035 706.677 Q32.3984 709.351 32.3984 712.215 Q32.3984 716.576 33.7352 718.772 Q35.072 720.936 37.7456 720.936 Q39.7826 720.936 40.9603 719.377 Q42.1061 717.817 43.1565 713.106 L43.6021 711.101 Q44.9389 704.863 47.3897 702.253 Q49.8086 699.611 54.1691 699.611 Q59.1344 699.611 62.0308 703.558 Q64.9272 707.473 64.9272 714.348 Q64.9272 717.212 64.3543 720.331 Q63.8132 723.419 62.6992 726.856 L56.6518 726.856 Q58.3387 723.61 59.198 720.459 Q60.0256 717.308 60.0256 714.22 Q60.0256 710.083 58.6251 707.855 Q57.1929 705.627 54.6147 705.627 Q52.2276 705.627 50.9545 707.25 Q49.6813 708.841 48.5037 714.284 L48.0262 716.321 Q46.8804 721.764 44.5251 724.183 Q42.138 726.602 38.0002 726.602 Q32.9713 726.602 30.2341 723.037 Q27.4968 719.472 27.4968 712.915 Q27.4968 709.669 27.9743 706.804 Q28.4517 703.94 29.4065 701.521 Z\" fill=\"#000000\" fill-rule=\"nonzero\" fill-opacity=\"1\" /><path clip-path=\"url(#clip570)\" d=\"M717.382 65.7705 L717.382 89.8329 L709.888 89.8329 L709.888 27.2059 L717.382 27.2059 L717.382 34.0924 Q719.731 30.0415 723.296 28.0971 Q726.901 26.1121 731.884 26.1121 Q740.148 26.1121 745.293 32.6746 Q750.478 39.2371 750.478 49.9314 Q750.478 60.6258 745.293 67.1883 Q740.148 73.7508 731.884 73.7508 Q726.901 73.7508 723.296 71.8063 Q719.731 69.8214 717.382 65.7705 M742.741 49.9314 Q742.741 41.7081 739.338 37.0496 Q735.975 32.3505 730.061 32.3505 Q724.147 32.3505 720.744 37.0496 Q717.382 41.7081 717.382 49.9314 Q717.382 58.1548 720.744 62.8538 Q724.147 67.5124 730.061 67.5124 Q735.975 67.5124 739.338 62.8538 Q742.741 58.1548 742.741 49.9314 Z\" fill=\"#000000\" fill-rule=\"nonzero\" fill-opacity=\"1\" /><path clip-path=\"url(#clip570)\" d=\"M762.833 27.2059 L770.287 27.2059 L770.287 72.576 L762.833 72.576 L762.833 27.2059 M762.833 9.54393 L770.287 9.54393 L770.287 18.9825 L762.833 18.9825 L762.833 9.54393 Z\" fill=\"#000000\" fill-rule=\"nonzero\" fill-opacity=\"1\" /><path clip-path=\"url(#clip570)\" d=\"M823.597 45.1919 L823.597 72.576 L816.143 72.576 L816.143 45.4349 Q816.143 38.994 813.631 35.7938 Q811.12 32.5936 806.097 32.5936 Q800.061 32.5936 796.577 36.4419 Q793.093 40.2903 793.093 46.9338 L793.093 72.576 L785.599 72.576 L785.599 27.2059 L793.093 27.2059 L793.093 34.2544 Q795.767 30.163 799.372 28.1376 Q803.018 26.1121 807.758 26.1121 Q815.576 26.1121 819.586 30.9732 Q823.597 35.7938 823.597 45.1919 Z\" fill=\"#000000\" fill-rule=\"nonzero\" fill-opacity=\"1\" /><path clip-path=\"url(#clip570)\" d=\"M868.319 49.3643 Q868.319 41.2625 864.956 36.8065 Q861.635 32.3505 855.599 32.3505 Q849.603 32.3505 846.241 36.8065 Q842.919 41.2625 842.919 49.3643 Q842.919 57.4256 846.241 61.8816 Q849.603 66.3376 855.599 66.3376 Q861.635 66.3376 864.956 61.8816 Q868.319 57.4256 868.319 49.3643 M875.772 66.9452 Q875.772 78.5308 870.628 84.1616 Q865.483 89.8329 854.87 89.8329 Q850.94 89.8329 847.456 89.2252 Q843.973 88.6581 840.691 87.4428 L840.691 80.1917 Q843.973 81.9741 847.173 82.8248 Q850.373 83.6755 853.695 83.6755 Q861.027 83.6755 864.673 79.8271 Q868.319 76.0193 868.319 68.282 L868.319 64.5957 Q866.01 68.6061 862.404 70.5911 Q858.799 72.576 853.776 72.576 Q845.431 72.576 840.327 66.2161 Q835.223 59.8562 835.223 49.3643 Q835.223 38.832 840.327 32.472 Q845.431 26.1121 853.776 26.1121 Q858.799 26.1121 862.404 28.0971 Q866.01 30.082 868.319 34.0924 L868.319 27.2059 L875.772 27.2059 L875.772 66.9452 Z\" fill=\"#000000\" fill-rule=\"nonzero\" fill-opacity=\"1\" /><path clip-path=\"url(#clip570)\" d=\"M920.049 28.5427 L920.049 35.5912 Q916.889 33.9709 913.486 33.1607 Q910.083 32.3505 906.438 32.3505 Q900.888 32.3505 898.093 34.0519 Q895.338 35.7533 895.338 39.156 Q895.338 41.7486 897.323 43.2475 Q899.308 44.7058 905.303 46.0426 L907.855 46.6097 Q915.795 48.3111 919.117 51.4303 Q922.479 54.509 922.479 60.0587 Q922.479 66.3781 917.456 70.0644 Q912.473 73.7508 903.723 73.7508 Q900.078 73.7508 896.108 73.0216 Q892.178 72.3329 887.803 70.9151 L887.803 63.2184 Q891.935 65.3654 895.946 66.4591 Q899.956 67.5124 903.885 67.5124 Q909.152 67.5124 911.987 65.73 Q914.823 63.9071 914.823 60.6258 Q914.823 57.5877 912.757 55.9673 Q910.732 54.3469 903.804 52.8481 L901.212 52.2405 Q894.285 50.7821 891.206 47.7845 Q888.127 44.7463 888.127 39.4801 Q888.127 33.0797 892.664 29.5959 Q897.201 26.1121 905.546 26.1121 Q909.678 26.1121 913.324 26.7198 Q916.97 27.3274 920.049 28.5427 Z\" fill=\"#000000\" fill-rule=\"nonzero\" fill-opacity=\"1\" /><path clip-path=\"url(#clip570)\" d=\"M941.721 14.324 L941.721 27.2059 L957.074 27.2059 L957.074 32.9987 L941.721 32.9987 L941.721 57.6282 Q941.721 63.1779 943.22 64.7578 Q944.759 66.3376 949.418 66.3376 L957.074 66.3376 L957.074 72.576 L949.418 72.576 Q940.789 72.576 937.508 69.3758 Q934.227 66.1351 934.227 57.6282 L934.227 32.9987 L928.758 32.9987 L928.758 27.2059 L934.227 27.2059 L934.227 14.324 L941.721 14.324 Z\" fill=\"#000000\" fill-rule=\"nonzero\" fill-opacity=\"1\" /><path clip-path=\"url(#clip570)\" d=\"M987.496 49.7694 Q978.463 49.7694 974.979 51.8354 Q971.495 53.9013 971.495 58.8839 Q971.495 62.8538 974.088 65.2034 Q976.721 67.5124 981.217 67.5124 Q987.415 67.5124 991.142 63.1374 Q994.909 58.7219 994.909 51.4303 L994.909 49.7694 L987.496 49.7694 M1002.36 46.6907 L1002.36 72.576 L994.909 72.576 L994.909 65.6895 Q992.357 69.8214 988.549 71.8063 Q984.742 73.7508 979.232 73.7508 Q972.265 73.7508 968.133 69.8619 Q964.041 65.9325 964.041 59.3701 Q964.041 51.7138 969.146 47.825 Q974.29 43.9361 984.458 43.9361 L994.909 43.9361 L994.909 43.2069 Q994.909 38.0623 991.507 35.2672 Q988.144 32.4315 982.027 32.4315 Q978.139 32.4315 974.452 33.3632 Q970.766 34.295 967.363 36.1584 L967.363 29.2718 Q971.455 27.692 975.303 26.9223 Q979.151 26.1121 982.797 26.1121 Q992.641 26.1121 997.502 31.2163 Q1002.36 36.3204 1002.36 46.6907 Z\" fill=\"#000000\" fill-rule=\"nonzero\" fill-opacity=\"1\" /><path clip-path=\"url(#clip570)\" d=\"M1025.09 14.324 L1025.09 27.2059 L1040.44 27.2059 L1040.44 32.9987 L1025.09 32.9987 L1025.09 57.6282 Q1025.09 63.1779 1026.59 64.7578 Q1028.13 66.3376 1032.79 66.3376 L1040.44 66.3376 L1040.44 72.576 L1032.79 72.576 Q1024.16 72.576 1020.88 69.3758 Q1017.59 66.1351 1017.59 57.6282 L1017.59 32.9987 L1012.13 32.9987 L1012.13 27.2059 L1017.59 27.2059 L1017.59 14.324 L1025.09 14.324 Z\" fill=\"#000000\" fill-rule=\"nonzero\" fill-opacity=\"1\" /><path clip-path=\"url(#clip570)\" d=\"M1079.17 28.5427 L1079.17 35.5912 Q1076.01 33.9709 1072.61 33.1607 Q1069.2 32.3505 1065.56 32.3505 Q1060.01 32.3505 1057.21 34.0519 Q1054.46 35.7533 1054.46 39.156 Q1054.46 41.7486 1056.44 43.2475 Q1058.43 44.7058 1064.42 46.0426 L1066.97 46.6097 Q1074.91 48.3111 1078.24 51.4303 Q1081.6 54.509 1081.6 60.0587 Q1081.6 66.3781 1076.58 70.0644 Q1071.59 73.7508 1062.84 73.7508 Q1059.2 73.7508 1055.23 73.0216 Q1051.3 72.3329 1046.92 70.9151 L1046.92 63.2184 Q1051.05 65.3654 1055.07 66.4591 Q1059.08 67.5124 1063 67.5124 Q1068.27 67.5124 1071.11 65.73 Q1073.94 63.9071 1073.94 60.6258 Q1073.94 57.5877 1071.88 55.9673 Q1069.85 54.3469 1062.92 52.8481 L1060.33 52.2405 Q1053.4 50.7821 1050.33 47.7845 Q1047.25 44.7463 1047.25 39.4801 Q1047.25 33.0797 1051.78 29.5959 Q1056.32 26.1121 1064.67 26.1121 Q1068.8 26.1121 1072.44 26.7198 Q1076.09 27.3274 1079.17 28.5427 Z\" fill=\"#000000\" fill-rule=\"nonzero\" fill-opacity=\"1\" /><path clip-path=\"url(#clip570)\" d=\"M1137.42 32.4315 Q1131.42 32.4315 1127.94 37.1306 Q1124.46 41.7891 1124.46 49.9314 Q1124.46 58.0738 1127.9 62.7728 Q1131.38 67.4314 1137.42 67.4314 Q1143.37 67.4314 1146.86 62.7323 Q1150.34 58.0333 1150.34 49.9314 Q1150.34 41.8701 1146.86 37.1711 Q1143.37 32.4315 1137.42 32.4315 M1137.42 26.1121 Q1147.14 26.1121 1152.69 32.4315 Q1158.24 38.7509 1158.24 49.9314 Q1158.24 61.0714 1152.69 67.4314 Q1147.14 73.7508 1137.42 73.7508 Q1127.66 73.7508 1122.11 67.4314 Q1116.6 61.0714 1116.6 49.9314 Q1116.6 38.7509 1122.11 32.4315 Q1127.66 26.1121 1137.42 26.1121 Z\" fill=\"#000000\" fill-rule=\"nonzero\" fill-opacity=\"1\" /><path clip-path=\"url(#clip570)\" d=\"M1208.31 45.1919 L1208.31 72.576 L1200.86 72.576 L1200.86 45.4349 Q1200.86 38.994 1198.35 35.7938 Q1195.83 32.5936 1190.81 32.5936 Q1184.78 32.5936 1181.29 36.4419 Q1177.81 40.2903 1177.81 46.9338 L1177.81 72.576 L1170.31 72.576 L1170.31 27.2059 L1177.81 27.2059 L1177.81 34.2544 Q1180.48 30.163 1184.09 28.1376 Q1187.73 26.1121 1192.47 26.1121 Q1200.29 26.1121 1204.3 30.9732 Q1208.31 35.7938 1208.31 45.1919 Z\" fill=\"#000000\" fill-rule=\"nonzero\" fill-opacity=\"1\" /><path clip-path=\"url(#clip570)\" d=\"M1249.55 27.2059 L1257 27.2059 L1257 72.576 L1249.55 72.576 L1249.55 27.2059 M1249.55 9.54393 L1257 9.54393 L1257 18.9825 L1249.55 18.9825 L1249.55 9.54393 Z\" fill=\"#000000\" fill-rule=\"nonzero\" fill-opacity=\"1\" /><path clip-path=\"url(#clip570)\" d=\"M1301.52 28.5427 L1301.52 35.5912 Q1298.36 33.9709 1294.96 33.1607 Q1291.56 32.3505 1287.91 32.3505 Q1282.36 32.3505 1279.57 34.0519 Q1276.81 35.7533 1276.81 39.156 Q1276.81 41.7486 1278.8 43.2475 Q1280.78 44.7058 1286.78 46.0426 L1289.33 46.6097 Q1297.27 48.3111 1300.59 51.4303 Q1303.95 54.509 1303.95 60.0587 Q1303.95 66.3781 1298.93 70.0644 Q1293.95 73.7508 1285.2 73.7508 Q1281.55 73.7508 1277.58 73.0216 Q1273.65 72.3329 1269.28 70.9151 L1269.28 63.2184 Q1273.41 65.3654 1277.42 66.4591 Q1281.43 67.5124 1285.36 67.5124 Q1290.63 67.5124 1293.46 65.73 Q1296.3 63.9071 1296.3 60.6258 Q1296.3 57.5877 1294.23 55.9673 Q1292.21 54.3469 1285.28 52.8481 L1282.69 52.2405 Q1275.76 50.7821 1272.68 47.7845 Q1269.6 44.7463 1269.6 39.4801 Q1269.6 33.0797 1274.14 29.5959 Q1278.68 26.1121 1287.02 26.1121 Q1291.15 26.1121 1294.8 26.7198 Q1298.44 27.3274 1301.52 28.5427 Z\" fill=\"#000000\" fill-rule=\"nonzero\" fill-opacity=\"1\" /><path clip-path=\"url(#clip570)\" d=\"M1315.82 9.54393 L1323.28 9.54393 L1323.28 72.576 L1315.82 72.576 L1315.82 9.54393 Z\" fill=\"#000000\" fill-rule=\"nonzero\" fill-opacity=\"1\" /><path clip-path=\"url(#clip570)\" d=\"M1339.92 62.2867 L1348.47 62.2867 L1348.47 72.576 L1339.92 72.576 L1339.92 62.2867 Z\" fill=\"#000000\" fill-rule=\"nonzero\" fill-opacity=\"1\" /><path clip-path=\"url(#clip570)\" d=\"M1394.17 28.5427 L1394.17 35.5912 Q1391.01 33.9709 1387.6 33.1607 Q1384.2 32.3505 1380.56 32.3505 Q1375.01 32.3505 1372.21 34.0519 Q1369.46 35.7533 1369.46 39.156 Q1369.46 41.7486 1371.44 43.2475 Q1373.43 44.7058 1379.42 46.0426 L1381.97 46.6097 Q1389.91 48.3111 1393.23 51.4303 Q1396.6 54.509 1396.6 60.0587 Q1396.6 66.3781 1391.57 70.0644 Q1386.59 73.7508 1377.84 73.7508 Q1374.2 73.7508 1370.23 73.0216 Q1366.3 72.3329 1361.92 70.9151 L1361.92 63.2184 Q1366.05 65.3654 1370.06 66.4591 Q1374.07 67.5124 1378 67.5124 Q1383.27 67.5124 1386.11 65.73 Q1388.94 63.9071 1388.94 60.6258 Q1388.94 57.5877 1386.87 55.9673 Q1384.85 54.3469 1377.92 52.8481 L1375.33 52.2405 Q1368.4 50.7821 1365.32 47.7845 Q1362.25 44.7463 1362.25 39.4801 Q1362.25 33.0797 1366.78 29.5959 Q1371.32 26.1121 1379.66 26.1121 Q1383.8 26.1121 1387.44 26.7198 Q1391.09 27.3274 1394.17 28.5427 Z\" fill=\"#000000\" fill-rule=\"nonzero\" fill-opacity=\"1\" /><path clip-path=\"url(#clip570)\" d=\"M1415.84 14.324 L1415.84 27.2059 L1431.19 27.2059 L1431.19 32.9987 L1415.84 32.9987 L1415.84 57.6282 Q1415.84 63.1779 1417.34 64.7578 Q1418.88 66.3376 1423.54 66.3376 L1431.19 66.3376 L1431.19 72.576 L1423.54 72.576 Q1414.91 72.576 1411.63 69.3758 Q1408.34 66.1351 1408.34 57.6282 L1408.34 32.9987 L1402.88 32.9987 L1402.88 27.2059 L1408.34 27.2059 L1408.34 14.324 L1415.84 14.324 Z\" fill=\"#000000\" fill-rule=\"nonzero\" fill-opacity=\"1\" /><path clip-path=\"url(#clip570)\" d=\"M1461.61 49.7694 Q1452.58 49.7694 1449.1 51.8354 Q1445.61 53.9013 1445.61 58.8839 Q1445.61 62.8538 1448.21 65.2034 Q1450.84 67.5124 1455.34 67.5124 Q1461.53 67.5124 1465.26 63.1374 Q1469.03 58.7219 1469.03 51.4303 L1469.03 49.7694 L1461.61 49.7694 M1476.48 46.6907 L1476.48 72.576 L1469.03 72.576 L1469.03 65.6895 Q1466.48 69.8214 1462.67 71.8063 Q1458.86 73.7508 1453.35 73.7508 Q1446.38 73.7508 1442.25 69.8619 Q1438.16 65.9325 1438.16 59.3701 Q1438.16 51.7138 1443.26 47.825 Q1448.41 43.9361 1458.58 43.9361 L1469.03 43.9361 L1469.03 43.2069 Q1469.03 38.0623 1465.62 35.2672 Q1462.26 32.4315 1456.15 32.4315 Q1452.26 32.4315 1448.57 33.3632 Q1444.88 34.295 1441.48 36.1584 L1441.48 29.2718 Q1445.57 27.692 1449.42 26.9223 Q1453.27 26.1121 1456.91 26.1121 Q1466.76 26.1121 1471.62 31.2163 Q1476.48 36.3204 1476.48 46.6907 Z\" fill=\"#000000\" fill-rule=\"nonzero\" fill-opacity=\"1\" /><path clip-path=\"url(#clip570)\" d=\"M1529.55 45.1919 L1529.55 72.576 L1522.09 72.576 L1522.09 45.4349 Q1522.09 38.994 1519.58 35.7938 Q1517.07 32.5936 1512.05 32.5936 Q1506.01 32.5936 1502.53 36.4419 Q1499.04 40.2903 1499.04 46.9338 L1499.04 72.576 L1491.55 72.576 L1491.55 27.2059 L1499.04 27.2059 L1499.04 34.2544 Q1501.72 30.163 1505.32 28.1376 Q1508.97 26.1121 1513.71 26.1121 Q1521.53 26.1121 1525.54 30.9732 Q1529.55 35.7938 1529.55 45.1919 Z\" fill=\"#000000\" fill-rule=\"nonzero\" fill-opacity=\"1\" /><path clip-path=\"url(#clip570)\" d=\"M1567.38 9.54393 L1567.38 15.7418 L1560.25 15.7418 Q1556.24 15.7418 1554.66 17.3622 Q1553.12 18.9825 1553.12 23.1955 L1553.12 27.2059 L1565.4 27.2059 L1565.4 32.9987 L1553.12 32.9987 L1553.12 72.576 L1545.63 72.576 L1545.63 32.9987 L1538.5 32.9987 L1538.5 27.2059 L1545.63 27.2059 L1545.63 24.0462 Q1545.63 16.471 1549.15 13.0277 Q1552.68 9.54393 1560.33 9.54393 L1567.38 9.54393 Z\" fill=\"#000000\" fill-rule=\"nonzero\" fill-opacity=\"1\" /><path clip-path=\"url(#clip570)\" d=\"M1591.2 32.4315 Q1585.21 32.4315 1581.72 37.1306 Q1578.24 41.7891 1578.24 49.9314 Q1578.24 58.0738 1581.68 62.7728 Q1585.17 67.4314 1591.2 67.4314 Q1597.16 67.4314 1600.64 62.7323 Q1604.12 58.0333 1604.12 49.9314 Q1604.12 41.8701 1600.64 37.1711 Q1597.16 32.4315 1591.2 32.4315 M1591.2 26.1121 Q1600.92 26.1121 1606.47 32.4315 Q1612.02 38.7509 1612.02 49.9314 Q1612.02 61.0714 1606.47 67.4314 Q1600.92 73.7508 1591.2 73.7508 Q1581.44 73.7508 1575.89 67.4314 Q1570.38 61.0714 1570.38 49.9314 Q1570.38 38.7509 1575.89 32.4315 Q1581.44 26.1121 1591.2 26.1121 Z\" fill=\"#000000\" fill-rule=\"nonzero\" fill-opacity=\"1\" /><path clip-path=\"url(#clip570)\" d=\"M1650.67 34.1734 Q1649.41 33.4443 1647.92 33.1202 Q1646.46 32.7556 1644.67 32.7556 Q1638.35 32.7556 1634.95 36.8875 Q1631.59 40.9789 1631.59 48.6757 L1631.59 72.576 L1624.1 72.576 L1624.1 27.2059 L1631.59 27.2059 L1631.59 34.2544 Q1633.94 30.1225 1637.71 28.1376 Q1641.47 26.1121 1646.86 26.1121 Q1647.63 26.1121 1648.56 26.2337 Q1649.49 26.3147 1650.63 26.5172 L1650.67 34.1734 Z\" fill=\"#000000\" fill-rule=\"nonzero\" fill-opacity=\"1\" /><path clip-path=\"url(#clip570)\" d=\"M1686.88 34.0924 L1686.88 9.54393 L1694.34 9.54393 L1694.34 72.576 L1686.88 72.576 L1686.88 65.7705 Q1684.54 69.8214 1680.93 71.8063 Q1677.37 73.7508 1672.34 73.7508 Q1664.12 73.7508 1658.93 67.1883 Q1653.79 60.6258 1653.79 49.9314 Q1653.79 39.2371 1658.93 32.6746 Q1664.12 26.1121 1672.34 26.1121 Q1677.37 26.1121 1680.93 28.0971 Q1684.54 30.0415 1686.88 34.0924 M1661.49 49.9314 Q1661.49 58.1548 1664.85 62.8538 Q1668.25 67.5124 1674.16 67.5124 Q1680.08 67.5124 1683.48 62.8538 Q1686.88 58.1548 1686.88 49.9314 Q1686.88 41.7081 1683.48 37.0496 Q1680.08 32.3505 1674.16 32.3505 Q1668.25 32.3505 1664.85 37.0496 Q1661.49 41.7081 1661.49 49.9314 Z\" fill=\"#000000\" fill-rule=\"nonzero\" fill-opacity=\"1\" /><path clip-path=\"url(#clip570)\" d=\"M1710.74 62.2867 L1719.29 62.2867 L1719.29 72.576 L1710.74 72.576 L1710.74 62.2867 Z\" fill=\"#000000\" fill-rule=\"nonzero\" fill-opacity=\"1\" /><path clip-path=\"url(#clip570)\" d=\"M1774.87 48.0275 L1774.87 51.6733 L1740.6 51.6733 Q1741.09 59.3701 1745.22 63.421 Q1749.39 67.4314 1756.8 67.4314 Q1761.1 67.4314 1765.11 66.3781 Q1769.16 65.3249 1773.13 63.2184 L1773.13 70.267 Q1769.12 71.9684 1764.91 72.8596 Q1760.69 73.7508 1756.36 73.7508 Q1745.5 73.7508 1739.14 67.4314 Q1732.82 61.1119 1732.82 50.3365 Q1732.82 39.1965 1738.82 32.6746 Q1744.85 26.1121 1755.06 26.1121 Q1764.22 26.1121 1769.52 32.0264 Q1774.87 37.9003 1774.87 48.0275 M1767.42 45.84 Q1767.34 39.7232 1763.97 36.0774 Q1760.65 32.4315 1755.14 32.4315 Q1748.9 32.4315 1745.14 35.9558 Q1741.41 39.4801 1740.84 45.8805 L1767.42 45.84 Z\" fill=\"#000000\" fill-rule=\"nonzero\" fill-opacity=\"1\" /><path clip-path=\"url(#clip570)\" d=\"M1816.96 34.0924 L1816.96 9.54393 L1824.41 9.54393 L1824.41 72.576 L1816.96 72.576 L1816.96 65.7705 Q1814.61 69.8214 1811 71.8063 Q1807.44 73.7508 1802.42 73.7508 Q1794.19 73.7508 1789.01 67.1883 Q1783.86 60.6258 1783.86 49.9314 Q1783.86 39.2371 1789.01 32.6746 Q1794.19 26.1121 1802.42 26.1121 Q1807.44 26.1121 1811 28.0971 Q1814.61 30.0415 1816.96 34.0924 M1791.56 49.9314 Q1791.56 58.1548 1794.92 62.8538 Q1798.33 67.5124 1804.24 67.5124 Q1810.15 67.5124 1813.56 62.8538 Q1816.96 58.1548 1816.96 49.9314 Q1816.96 41.7081 1813.56 37.0496 Q1810.15 32.3505 1804.24 32.3505 Q1798.33 32.3505 1794.92 37.0496 Q1791.56 41.7081 1791.56 49.9314 Z\" fill=\"#000000\" fill-rule=\"nonzero\" fill-opacity=\"1\" /><path clip-path=\"url(#clip570)\" d=\"M1839 54.671 L1839 27.2059 L1846.45 27.2059 L1846.45 54.3874 Q1846.45 60.8284 1848.96 64.0691 Q1851.47 67.2693 1856.5 67.2693 Q1862.53 67.2693 1866.02 63.421 Q1869.54 59.5726 1869.54 52.9291 L1869.54 27.2059 L1876.99 27.2059 L1876.99 72.576 L1869.54 72.576 L1869.54 65.6084 Q1866.83 69.7404 1863.22 71.7658 Q1859.66 73.7508 1854.92 73.7508 Q1847.1 73.7508 1843.05 68.8897 Q1839 64.0286 1839 54.671 M1857.75 26.1121 L1857.75 26.1121 Z\" fill=\"#000000\" fill-rule=\"nonzero\" fill-opacity=\"1\" /><polyline clip-path=\"url(#clip572)\" style=\"stroke:#009af9; stroke-linecap:round; stroke-linejoin:round; stroke-width:8; stroke-opacity:1; fill:none\" points=\"294.087,1315.46 314.276,1377.32 334.465,1377.22 354.654,1379.43 374.843,1375.59 395.032,1373.64 415.221,1377.64 435.409,1378.31 455.598,1380.78 475.787,1372.54 495.976,1376.4 516.165,1378.57 536.354,1373.82 556.543,1377.41 576.732,1373.65 596.921,1350.31 617.11,1386.4 637.299,1377.99 657.488,1375.35 677.677,693.842 697.866,981.918 718.055,984.15 738.244,979.568 758.433,975.915 778.622,951.715 798.811,1000.72 819,983.044 839.189,973.358 859.378,976.577 879.567,976.745 899.756,974.177 919.945,970.909 940.134,962.319 960.323,1382.77 980.512,576.562 1000.7,977.505 1020.89,973.318 1041.08,970.929 1061.27,1327.69 1081.46,605.088 1101.65,981.602 1121.83,968.095 1142.02,976.152 1162.21,1378.22 1182.4,1377.73 1202.59,1370.53 1222.78,1373.73 1242.97,1374.51 1263.16,1368.53 1283.35,1378.62 1303.54,1355.17 1323.72,1375.64 1343.91,1375.42 1364.1,1376.09 1384.29,1375.52 1404.48,1374.37 1424.67,1365.81 1444.86,1357.51 1465.05,1369.68 1485.24,621.646 1505.42,973.802 1525.61,978.986 1545.8,971.995 1565.99,970.84 1586.18,976.379 1606.37,975.303 1626.56,975.925 1646.75,975.668 1666.94,1064.82 1687.13,975.017 1707.31,988.257 1727.5,977.149 1747.69,976.31 1767.88,970.959 1788.07,969.102 1808.26,982.037 1828.45,983.844 1848.64,953.62 1868.83,967.424 1889.02,943.707 1909.2,1000.74 1929.39,989.886 1949.58,963.346 1969.77,967.207 1989.96,960.127 2010.15,975.066 2030.34,944.556 2050.53,971.689 2070.72,960.038 2090.9,958.202 2111.09,964.659 2131.28,966.091 2151.47,983.814 2171.66,959.159 2191.85,1374.72 2212.04,1377.32 2232.23,160.256 2252.42,978.966 2272.61,958.093 2292.79,1358.86 \"/>\n",
       "</svg>\n"
      ],
      "text/html": [
       "<?xml version=\"1.0\" encoding=\"utf-8\"?>\n",
       "<svg xmlns=\"http://www.w3.org/2000/svg\" xmlns:xlink=\"http://www.w3.org/1999/xlink\" width=\"600\" height=\"400\" viewBox=\"0 0 2400 1600\">\n",
       "<defs>\n",
       "  <clipPath id=\"clip620\">\n",
       "    <rect x=\"0\" y=\"0\" width=\"2400\" height=\"1600\"/>\n",
       "  </clipPath>\n",
       "</defs>\n",
       "<path clip-path=\"url(#clip620)\" d=\"M0 1600 L2400 1600 L2400 0 L0 0  Z\" fill=\"#ffffff\" fill-rule=\"evenodd\" fill-opacity=\"1\"/>\n",
       "<defs>\n",
       "  <clipPath id=\"clip621\">\n",
       "    <rect x=\"480\" y=\"0\" width=\"1681\" height=\"1600\"/>\n",
       "  </clipPath>\n",
       "</defs>\n",
       "<path clip-path=\"url(#clip620)\" d=\"M234.125 1423.18 L2352.76 1423.18 L2352.76 123.472 L234.125 123.472  Z\" fill=\"#ffffff\" fill-rule=\"evenodd\" fill-opacity=\"1\"/>\n",
       "<defs>\n",
       "  <clipPath id=\"clip622\">\n",
       "    <rect x=\"234\" y=\"123\" width=\"2120\" height=\"1301\"/>\n",
       "  </clipPath>\n",
       "</defs>\n",
       "<polyline clip-path=\"url(#clip622)\" style=\"stroke:#000000; stroke-linecap:round; stroke-linejoin:round; stroke-width:2; stroke-opacity:0.1; fill:none\" points=\"273.898,1423.18 273.898,123.472 \"/>\n",
       "<polyline clip-path=\"url(#clip622)\" style=\"stroke:#000000; stroke-linecap:round; stroke-linejoin:round; stroke-width:2; stroke-opacity:0.1; fill:none\" points=\"778.622,1423.18 778.622,123.472 \"/>\n",
       "<polyline clip-path=\"url(#clip622)\" style=\"stroke:#000000; stroke-linecap:round; stroke-linejoin:round; stroke-width:2; stroke-opacity:0.1; fill:none\" points=\"1283.35,1423.18 1283.35,123.472 \"/>\n",
       "<polyline clip-path=\"url(#clip622)\" style=\"stroke:#000000; stroke-linecap:round; stroke-linejoin:round; stroke-width:2; stroke-opacity:0.1; fill:none\" points=\"1788.07,1423.18 1788.07,123.472 \"/>\n",
       "<polyline clip-path=\"url(#clip622)\" style=\"stroke:#000000; stroke-linecap:round; stroke-linejoin:round; stroke-width:2; stroke-opacity:0.1; fill:none\" points=\"2292.79,1423.18 2292.79,123.472 \"/>\n",
       "<polyline clip-path=\"url(#clip620)\" style=\"stroke:#000000; stroke-linecap:round; stroke-linejoin:round; stroke-width:4; stroke-opacity:1; fill:none\" points=\"234.125,1423.18 2352.76,1423.18 \"/>\n",
       "<polyline clip-path=\"url(#clip620)\" style=\"stroke:#000000; stroke-linecap:round; stroke-linejoin:round; stroke-width:4; stroke-opacity:1; fill:none\" points=\"273.898,1423.18 273.898,1404.28 \"/>\n",
       "<polyline clip-path=\"url(#clip620)\" style=\"stroke:#000000; stroke-linecap:round; stroke-linejoin:round; stroke-width:4; stroke-opacity:1; fill:none\" points=\"778.622,1423.18 778.622,1404.28 \"/>\n",
       "<polyline clip-path=\"url(#clip620)\" style=\"stroke:#000000; stroke-linecap:round; stroke-linejoin:round; stroke-width:4; stroke-opacity:1; fill:none\" points=\"1283.35,1423.18 1283.35,1404.28 \"/>\n",
       "<polyline clip-path=\"url(#clip620)\" style=\"stroke:#000000; stroke-linecap:round; stroke-linejoin:round; stroke-width:4; stroke-opacity:1; fill:none\" points=\"1788.07,1423.18 1788.07,1404.28 \"/>\n",
       "<polyline clip-path=\"url(#clip620)\" style=\"stroke:#000000; stroke-linecap:round; stroke-linejoin:round; stroke-width:4; stroke-opacity:1; fill:none\" points=\"2292.79,1423.18 2292.79,1404.28 \"/>\n",
       "<path clip-path=\"url(#clip620)\" d=\"M273.898 1454.1 Q270.287 1454.1 268.458 1457.66 Q266.652 1461.2 266.652 1468.33 Q266.652 1475.44 268.458 1479.01 Q270.287 1482.55 273.898 1482.55 Q277.532 1482.55 279.338 1479.01 Q281.166 1475.44 281.166 1468.33 Q281.166 1461.2 279.338 1457.66 Q277.532 1454.1 273.898 1454.1 M273.898 1450.39 Q279.708 1450.39 282.763 1455 Q285.842 1459.58 285.842 1468.33 Q285.842 1477.06 282.763 1481.67 Q279.708 1486.25 273.898 1486.25 Q268.088 1486.25 265.009 1481.67 Q261.953 1477.06 261.953 1468.33 Q261.953 1459.58 265.009 1455 Q268.088 1450.39 273.898 1450.39 Z\" fill=\"#000000\" fill-rule=\"nonzero\" fill-opacity=\"1\" /><path clip-path=\"url(#clip620)\" d=\"M757.893 1481.64 L774.212 1481.64 L774.212 1485.58 L752.268 1485.58 L752.268 1481.64 Q754.93 1478.89 759.513 1474.26 Q764.12 1469.61 765.3 1468.27 Q767.546 1465.74 768.425 1464.01 Q769.328 1462.25 769.328 1460.56 Q769.328 1457.8 767.384 1456.07 Q765.462 1454.33 762.36 1454.33 Q760.161 1454.33 757.708 1455.09 Q755.277 1455.86 752.499 1457.41 L752.499 1452.69 Q755.323 1451.55 757.777 1450.97 Q760.231 1450.39 762.268 1450.39 Q767.638 1450.39 770.833 1453.08 Q774.027 1455.77 774.027 1460.26 Q774.027 1462.39 773.217 1464.31 Q772.43 1466.2 770.323 1468.8 Q769.745 1469.47 766.643 1472.69 Q763.541 1475.88 757.893 1481.64 Z\" fill=\"#000000\" fill-rule=\"nonzero\" fill-opacity=\"1\" /><path clip-path=\"url(#clip620)\" d=\"M784.073 1451.02 L802.43 1451.02 L802.43 1454.96 L788.356 1454.96 L788.356 1463.43 Q789.374 1463.08 790.393 1462.92 Q791.411 1462.73 792.43 1462.73 Q798.217 1462.73 801.596 1465.9 Q804.976 1469.08 804.976 1474.49 Q804.976 1480.07 801.504 1483.17 Q798.032 1486.25 791.712 1486.25 Q789.536 1486.25 787.268 1485.88 Q785.022 1485.51 782.615 1484.77 L782.615 1480.07 Q784.698 1481.2 786.921 1481.76 Q789.143 1482.32 791.62 1482.32 Q795.624 1482.32 797.962 1480.21 Q800.3 1478.1 800.3 1474.49 Q800.3 1470.88 797.962 1468.77 Q795.624 1466.67 791.62 1466.67 Q789.745 1466.67 787.87 1467.08 Q786.018 1467.5 784.073 1468.38 L784.073 1451.02 Z\" fill=\"#000000\" fill-rule=\"nonzero\" fill-opacity=\"1\" /><path clip-path=\"url(#clip620)\" d=\"M1258.05 1451.02 L1276.4 1451.02 L1276.4 1454.96 L1262.33 1454.96 L1262.33 1463.43 Q1263.35 1463.08 1264.36 1462.92 Q1265.38 1462.73 1266.4 1462.73 Q1272.19 1462.73 1275.57 1465.9 Q1278.95 1469.08 1278.95 1474.49 Q1278.95 1480.07 1275.48 1483.17 Q1272 1486.25 1265.68 1486.25 Q1263.51 1486.25 1261.24 1485.88 Q1258.99 1485.51 1256.59 1484.77 L1256.59 1480.07 Q1258.67 1481.2 1260.89 1481.76 Q1263.11 1482.32 1265.59 1482.32 Q1269.6 1482.32 1271.93 1480.21 Q1274.27 1478.1 1274.27 1474.49 Q1274.27 1470.88 1271.93 1468.77 Q1269.6 1466.67 1265.59 1466.67 Q1263.72 1466.67 1261.84 1467.08 Q1259.99 1467.5 1258.05 1468.38 L1258.05 1451.02 Z\" fill=\"#000000\" fill-rule=\"nonzero\" fill-opacity=\"1\" /><path clip-path=\"url(#clip620)\" d=\"M1298.16 1454.1 Q1294.55 1454.1 1292.72 1457.66 Q1290.92 1461.2 1290.92 1468.33 Q1290.92 1475.44 1292.72 1479.01 Q1294.55 1482.55 1298.16 1482.55 Q1301.8 1482.55 1303.6 1479.01 Q1305.43 1475.44 1305.43 1468.33 Q1305.43 1461.2 1303.6 1457.66 Q1301.8 1454.1 1298.16 1454.1 M1298.16 1450.39 Q1303.97 1450.39 1307.03 1455 Q1310.11 1459.58 1310.11 1468.33 Q1310.11 1477.06 1307.03 1481.67 Q1303.97 1486.25 1298.16 1486.25 Q1292.35 1486.25 1289.27 1481.67 Q1286.22 1477.06 1286.22 1468.33 Q1286.22 1459.58 1289.27 1455 Q1292.35 1450.39 1298.16 1450.39 Z\" fill=\"#000000\" fill-rule=\"nonzero\" fill-opacity=\"1\" /><path clip-path=\"url(#clip620)\" d=\"M1761.92 1451.02 L1784.15 1451.02 L1784.15 1453.01 L1771.6 1485.58 L1766.72 1485.58 L1778.52 1454.96 L1761.92 1454.96 L1761.92 1451.02 Z\" fill=\"#000000\" fill-rule=\"nonzero\" fill-opacity=\"1\" /><path clip-path=\"url(#clip620)\" d=\"M1793.31 1451.02 L1811.67 1451.02 L1811.67 1454.96 L1797.6 1454.96 L1797.6 1463.43 Q1798.61 1463.08 1799.63 1462.92 Q1800.65 1462.73 1801.67 1462.73 Q1807.46 1462.73 1810.84 1465.9 Q1814.22 1469.08 1814.22 1474.49 Q1814.22 1480.07 1810.74 1483.17 Q1807.27 1486.25 1800.95 1486.25 Q1798.78 1486.25 1796.51 1485.88 Q1794.26 1485.51 1791.86 1484.77 L1791.86 1480.07 Q1793.94 1481.2 1796.16 1481.76 Q1798.38 1482.32 1800.86 1482.32 Q1804.86 1482.32 1807.2 1480.21 Q1809.54 1478.1 1809.54 1474.49 Q1809.54 1470.88 1807.2 1468.77 Q1804.86 1466.67 1800.86 1466.67 Q1798.98 1466.67 1797.11 1467.08 Q1795.26 1467.5 1793.31 1468.38 L1793.31 1451.02 Z\" fill=\"#000000\" fill-rule=\"nonzero\" fill-opacity=\"1\" /><path clip-path=\"url(#clip620)\" d=\"M2252.4 1481.64 L2260.04 1481.64 L2260.04 1455.28 L2251.73 1456.95 L2251.73 1452.69 L2259.99 1451.02 L2264.67 1451.02 L2264.67 1481.64 L2272.31 1481.64 L2272.31 1485.58 L2252.4 1485.58 L2252.4 1481.64 Z\" fill=\"#000000\" fill-rule=\"nonzero\" fill-opacity=\"1\" /><path clip-path=\"url(#clip620)\" d=\"M2291.75 1454.1 Q2288.14 1454.1 2286.31 1457.66 Q2284.51 1461.2 2284.51 1468.33 Q2284.51 1475.44 2286.31 1479.01 Q2288.14 1482.55 2291.75 1482.55 Q2295.39 1482.55 2297.19 1479.01 Q2299.02 1475.44 2299.02 1468.33 Q2299.02 1461.2 2297.19 1457.66 Q2295.39 1454.1 2291.75 1454.1 M2291.75 1450.39 Q2297.56 1450.39 2300.62 1455 Q2303.7 1459.58 2303.7 1468.33 Q2303.7 1477.06 2300.62 1481.67 Q2297.56 1486.25 2291.75 1486.25 Q2285.94 1486.25 2282.86 1481.67 Q2279.81 1477.06 2279.81 1468.33 Q2279.81 1459.58 2282.86 1455 Q2285.94 1450.39 2291.75 1450.39 Z\" fill=\"#000000\" fill-rule=\"nonzero\" fill-opacity=\"1\" /><path clip-path=\"url(#clip620)\" d=\"M2321.91 1454.1 Q2318.3 1454.1 2316.48 1457.66 Q2314.67 1461.2 2314.67 1468.33 Q2314.67 1475.44 2316.48 1479.01 Q2318.3 1482.55 2321.91 1482.55 Q2325.55 1482.55 2327.35 1479.01 Q2329.18 1475.44 2329.18 1468.33 Q2329.18 1461.2 2327.35 1457.66 Q2325.55 1454.1 2321.91 1454.1 M2321.91 1450.39 Q2327.73 1450.39 2330.78 1455 Q2333.86 1459.58 2333.86 1468.33 Q2333.86 1477.06 2330.78 1481.67 Q2327.73 1486.25 2321.91 1486.25 Q2316.1 1486.25 2313.03 1481.67 Q2309.97 1477.06 2309.97 1468.33 Q2309.97 1459.58 2313.03 1455 Q2316.1 1450.39 2321.91 1450.39 Z\" fill=\"#000000\" fill-rule=\"nonzero\" fill-opacity=\"1\" /><path clip-path=\"url(#clip620)\" d=\"M1149.15 1522.27 L1149.15 1532.4 L1161.21 1532.4 L1161.21 1536.95 L1149.15 1536.95 L1149.15 1556.3 Q1149.15 1560.66 1150.32 1561.9 Q1151.53 1563.14 1155.19 1563.14 L1161.21 1563.14 L1161.21 1568.04 L1155.19 1568.04 Q1148.41 1568.04 1145.84 1565.53 Q1143.26 1562.98 1143.26 1556.3 L1143.26 1536.95 L1138.96 1536.95 L1138.96 1532.4 L1143.26 1532.4 L1143.26 1522.27 L1149.15 1522.27 Z\" fill=\"#000000\" fill-rule=\"nonzero\" fill-opacity=\"1\" /><path clip-path=\"url(#clip620)\" d=\"M1168.91 1532.4 L1174.77 1532.4 L1174.77 1568.04 L1168.91 1568.04 L1168.91 1532.4 M1168.91 1518.52 L1174.77 1518.52 L1174.77 1525.93 L1168.91 1525.93 L1168.91 1518.52 Z\" fill=\"#000000\" fill-rule=\"nonzero\" fill-opacity=\"1\" /><path clip-path=\"url(#clip620)\" d=\"M1214.78 1539.24 Q1216.97 1535.29 1220.03 1533.41 Q1223.08 1531.54 1227.22 1531.54 Q1232.79 1531.54 1235.82 1535.45 Q1238.84 1539.33 1238.84 1546.53 L1238.84 1568.04 L1232.95 1568.04 L1232.95 1546.72 Q1232.95 1541.59 1231.14 1539.11 Q1229.32 1536.63 1225.6 1536.63 Q1221.05 1536.63 1218.4 1539.65 Q1215.76 1542.68 1215.76 1547.9 L1215.76 1568.04 L1209.87 1568.04 L1209.87 1546.72 Q1209.87 1541.56 1208.06 1539.11 Q1206.25 1536.63 1202.46 1536.63 Q1197.97 1536.63 1195.33 1539.68 Q1192.69 1542.71 1192.69 1547.9 L1192.69 1568.04 L1186.8 1568.04 L1186.8 1532.4 L1192.69 1532.4 L1192.69 1537.93 Q1194.69 1534.66 1197.49 1533.1 Q1200.29 1531.54 1204.15 1531.54 Q1208.03 1531.54 1210.73 1533.51 Q1213.47 1535.48 1214.78 1539.24 Z\" fill=\"#000000\" fill-rule=\"nonzero\" fill-opacity=\"1\" /><path clip-path=\"url(#clip620)\" d=\"M1281.01 1548.76 L1281.01 1551.62 L1254.08 1551.62 Q1254.47 1557.67 1257.71 1560.85 Q1260.99 1564 1266.82 1564 Q1270.19 1564 1273.34 1563.17 Q1276.52 1562.35 1279.64 1560.69 L1279.64 1566.23 Q1276.49 1567.57 1273.18 1568.27 Q1269.87 1568.97 1266.47 1568.97 Q1257.94 1568.97 1252.94 1564 Q1247.97 1559.04 1247.97 1550.57 Q1247.97 1541.82 1252.68 1536.69 Q1257.43 1531.54 1265.45 1531.54 Q1272.64 1531.54 1276.81 1536.18 Q1281.01 1540.8 1281.01 1548.76 M1275.16 1547.04 Q1275.09 1542.23 1272.45 1539.37 Q1269.84 1536.5 1265.51 1536.5 Q1260.61 1536.5 1257.65 1539.27 Q1254.72 1542.04 1254.28 1547.07 L1275.16 1547.04 Z\" fill=\"#000000\" fill-rule=\"nonzero\" fill-opacity=\"1\" /><path clip-path=\"url(#clip620)\" d=\"M1325.41 1518.58 Q1321.15 1525.9 1319.08 1533.06 Q1317.01 1540.23 1317.01 1547.58 Q1317.01 1554.93 1319.08 1562.16 Q1321.18 1569.35 1325.41 1576.64 L1320.32 1576.64 Q1315.55 1569.16 1313.16 1561.93 Q1310.8 1554.71 1310.8 1547.58 Q1310.8 1540.48 1313.16 1533.29 Q1315.51 1526.09 1320.32 1518.58 L1325.41 1518.58 Z\" fill=\"#000000\" fill-rule=\"nonzero\" fill-opacity=\"1\" /><path clip-path=\"url(#clip620)\" d=\"M1364.53 1539.24 Q1366.73 1535.29 1369.78 1533.41 Q1372.84 1531.54 1376.97 1531.54 Q1382.54 1531.54 1385.57 1535.45 Q1388.59 1539.33 1388.59 1546.53 L1388.59 1568.04 L1382.7 1568.04 L1382.7 1546.72 Q1382.7 1541.59 1380.89 1539.11 Q1379.08 1536.63 1375.35 1536.63 Q1370.8 1536.63 1368.16 1539.65 Q1365.52 1542.68 1365.52 1547.9 L1365.52 1568.04 L1359.63 1568.04 L1359.63 1546.72 Q1359.63 1541.56 1357.81 1539.11 Q1356 1536.63 1352.21 1536.63 Q1347.72 1536.63 1345.08 1539.68 Q1342.44 1542.71 1342.44 1547.9 L1342.44 1568.04 L1336.55 1568.04 L1336.55 1532.4 L1342.44 1532.4 L1342.44 1537.93 Q1344.45 1534.66 1347.25 1533.1 Q1350.05 1531.54 1353.9 1531.54 Q1357.78 1531.54 1360.49 1533.51 Q1363.22 1535.48 1364.53 1539.24 Z\" fill=\"#000000\" fill-rule=\"nonzero\" fill-opacity=\"1\" /><path clip-path=\"url(#clip620)\" d=\"M1423 1533.45 L1423 1538.98 Q1420.52 1537.71 1417.84 1537.07 Q1415.17 1536.44 1412.3 1536.44 Q1407.94 1536.44 1405.75 1537.77 Q1403.58 1539.11 1403.58 1541.79 Q1403.58 1543.82 1405.14 1545 Q1406.7 1546.15 1411.41 1547.2 L1413.42 1547.64 Q1419.66 1548.98 1422.27 1551.43 Q1424.91 1553.85 1424.91 1558.21 Q1424.91 1563.17 1420.96 1566.07 Q1417.05 1568.97 1410.17 1568.97 Q1407.31 1568.97 1404.19 1568.39 Q1401.1 1567.85 1397.66 1566.74 L1397.66 1560.69 Q1400.91 1562.38 1404.06 1563.24 Q1407.21 1564.07 1410.3 1564.07 Q1414.44 1564.07 1416.66 1562.66 Q1418.89 1561.23 1418.89 1558.65 Q1418.89 1556.27 1417.27 1554.99 Q1415.68 1553.72 1410.24 1552.54 L1408.2 1552.07 Q1402.76 1550.92 1400.34 1548.56 Q1397.92 1546.18 1397.92 1542.04 Q1397.92 1537.01 1401.48 1534.27 Q1405.05 1531.54 1411.6 1531.54 Q1414.85 1531.54 1417.72 1532.01 Q1420.58 1532.49 1423 1533.45 Z\" fill=\"#000000\" fill-rule=\"nonzero\" fill-opacity=\"1\" /><path clip-path=\"url(#clip620)\" d=\"M1433.31 1518.58 L1438.4 1518.58 Q1443.18 1526.09 1445.53 1533.29 Q1447.92 1540.48 1447.92 1547.58 Q1447.92 1554.71 1445.53 1561.93 Q1443.18 1569.16 1438.4 1576.64 L1433.31 1576.64 Q1437.54 1569.35 1439.61 1562.16 Q1441.71 1554.93 1441.71 1547.58 Q1441.71 1540.23 1439.61 1533.06 Q1437.54 1525.9 1433.31 1518.58 Z\" fill=\"#000000\" fill-rule=\"nonzero\" fill-opacity=\"1\" /><polyline clip-path=\"url(#clip622)\" style=\"stroke:#000000; stroke-linecap:round; stroke-linejoin:round; stroke-width:2; stroke-opacity:0.1; fill:none\" points=\"234.125,1305.5 2352.76,1305.5 \"/>\n",
       "<polyline clip-path=\"url(#clip622)\" style=\"stroke:#000000; stroke-linecap:round; stroke-linejoin:round; stroke-width:2; stroke-opacity:0.1; fill:none\" points=\"234.125,1108.03 2352.76,1108.03 \"/>\n",
       "<polyline clip-path=\"url(#clip622)\" style=\"stroke:#000000; stroke-linecap:round; stroke-linejoin:round; stroke-width:2; stroke-opacity:0.1; fill:none\" points=\"234.125,910.551 2352.76,910.551 \"/>\n",
       "<polyline clip-path=\"url(#clip622)\" style=\"stroke:#000000; stroke-linecap:round; stroke-linejoin:round; stroke-width:2; stroke-opacity:0.1; fill:none\" points=\"234.125,713.076 2352.76,713.076 \"/>\n",
       "<polyline clip-path=\"url(#clip622)\" style=\"stroke:#000000; stroke-linecap:round; stroke-linejoin:round; stroke-width:2; stroke-opacity:0.1; fill:none\" points=\"234.125,515.602 2352.76,515.602 \"/>\n",
       "<polyline clip-path=\"url(#clip622)\" style=\"stroke:#000000; stroke-linecap:round; stroke-linejoin:round; stroke-width:2; stroke-opacity:0.1; fill:none\" points=\"234.125,318.127 2352.76,318.127 \"/>\n",
       "<polyline clip-path=\"url(#clip620)\" style=\"stroke:#000000; stroke-linecap:round; stroke-linejoin:round; stroke-width:4; stroke-opacity:1; fill:none\" points=\"234.125,1423.18 234.125,123.472 \"/>\n",
       "<polyline clip-path=\"url(#clip620)\" style=\"stroke:#000000; stroke-linecap:round; stroke-linejoin:round; stroke-width:4; stroke-opacity:1; fill:none\" points=\"234.125,1305.5 253.023,1305.5 \"/>\n",
       "<polyline clip-path=\"url(#clip620)\" style=\"stroke:#000000; stroke-linecap:round; stroke-linejoin:round; stroke-width:4; stroke-opacity:1; fill:none\" points=\"234.125,1108.03 253.023,1108.03 \"/>\n",
       "<polyline clip-path=\"url(#clip620)\" style=\"stroke:#000000; stroke-linecap:round; stroke-linejoin:round; stroke-width:4; stroke-opacity:1; fill:none\" points=\"234.125,910.551 253.023,910.551 \"/>\n",
       "<polyline clip-path=\"url(#clip620)\" style=\"stroke:#000000; stroke-linecap:round; stroke-linejoin:round; stroke-width:4; stroke-opacity:1; fill:none\" points=\"234.125,713.076 253.023,713.076 \"/>\n",
       "<polyline clip-path=\"url(#clip620)\" style=\"stroke:#000000; stroke-linecap:round; stroke-linejoin:round; stroke-width:4; stroke-opacity:1; fill:none\" points=\"234.125,515.602 253.023,515.602 \"/>\n",
       "<polyline clip-path=\"url(#clip620)\" style=\"stroke:#000000; stroke-linecap:round; stroke-linejoin:round; stroke-width:4; stroke-opacity:1; fill:none\" points=\"234.125,318.127 253.023,318.127 \"/>\n",
       "<path clip-path=\"url(#clip620)\" d=\"M116.668 1318.85 L124.306 1318.85 L124.306 1292.48 L115.996 1294.15 L115.996 1289.89 L124.26 1288.22 L128.936 1288.22 L128.936 1318.85 L136.575 1318.85 L136.575 1322.78 L116.668 1322.78 L116.668 1318.85 Z\" fill=\"#000000\" fill-rule=\"nonzero\" fill-opacity=\"1\" /><path clip-path=\"url(#clip620)\" d=\"M156.598 1303.64 Q153.45 1303.64 151.598 1305.79 Q149.769 1307.94 149.769 1311.69 Q149.769 1315.42 151.598 1317.6 Q153.45 1319.75 156.598 1319.75 Q159.746 1319.75 161.575 1317.6 Q163.427 1315.42 163.427 1311.69 Q163.427 1307.94 161.575 1305.79 Q159.746 1303.64 156.598 1303.64 M165.88 1288.98 L165.88 1293.24 Q164.121 1292.41 162.315 1291.97 Q160.533 1291.53 158.774 1291.53 Q154.144 1291.53 151.691 1294.66 Q149.26 1297.78 148.913 1304.1 Q150.278 1302.09 152.339 1301.02 Q154.399 1299.93 156.876 1299.93 Q162.084 1299.93 165.093 1303.1 Q168.126 1306.25 168.126 1311.69 Q168.126 1317.02 164.977 1320.23 Q161.829 1323.45 156.598 1323.45 Q150.603 1323.45 147.431 1318.87 Q144.26 1314.26 144.26 1305.53 Q144.26 1297.34 148.149 1292.48 Q152.038 1287.6 158.589 1287.6 Q160.348 1287.6 162.13 1287.94 Q163.936 1288.29 165.88 1288.98 Z\" fill=\"#000000\" fill-rule=\"nonzero\" fill-opacity=\"1\" /><path clip-path=\"url(#clip620)\" d=\"M186.181 1291.3 Q182.57 1291.3 180.741 1294.86 Q178.936 1298.41 178.936 1305.53 Q178.936 1312.64 180.741 1316.21 Q182.57 1319.75 186.181 1319.75 Q189.815 1319.75 191.621 1316.21 Q193.45 1312.64 193.45 1305.53 Q193.45 1298.41 191.621 1294.86 Q189.815 1291.3 186.181 1291.3 M186.181 1287.6 Q191.991 1287.6 195.047 1292.2 Q198.125 1296.78 198.125 1305.53 Q198.125 1314.26 195.047 1318.87 Q191.991 1323.45 186.181 1323.45 Q180.371 1323.45 177.292 1318.87 Q174.237 1314.26 174.237 1305.53 Q174.237 1296.78 177.292 1292.2 Q180.371 1287.6 186.181 1287.6 Z\" fill=\"#000000\" fill-rule=\"nonzero\" fill-opacity=\"1\" /><path clip-path=\"url(#clip620)\" d=\"M116.668 1121.37 L124.306 1121.37 L124.306 1095 L115.996 1096.67 L115.996 1092.41 L124.26 1090.75 L128.936 1090.75 L128.936 1121.37 L136.575 1121.37 L136.575 1125.31 L116.668 1125.31 L116.668 1121.37 Z\" fill=\"#000000\" fill-rule=\"nonzero\" fill-opacity=\"1\" /><path clip-path=\"url(#clip620)\" d=\"M156.019 1108.89 Q152.686 1108.89 150.765 1110.68 Q148.866 1112.46 148.866 1115.58 Q148.866 1118.71 150.765 1120.49 Q152.686 1122.27 156.019 1122.27 Q159.353 1122.27 161.274 1120.49 Q163.195 1118.69 163.195 1115.58 Q163.195 1112.46 161.274 1110.68 Q159.376 1108.89 156.019 1108.89 M151.343 1106.9 Q148.334 1106.16 146.644 1104.1 Q144.978 1102.04 144.978 1099.08 Q144.978 1094.94 147.917 1092.53 Q150.88 1090.12 156.019 1090.12 Q161.181 1090.12 164.121 1092.53 Q167.061 1094.94 167.061 1099.08 Q167.061 1102.04 165.371 1104.1 Q163.704 1106.16 160.718 1106.9 Q164.098 1107.69 165.973 1109.98 Q167.871 1112.27 167.871 1115.58 Q167.871 1120.61 164.792 1123.29 Q161.737 1125.98 156.019 1125.98 Q150.302 1125.98 147.223 1123.29 Q144.167 1120.61 144.167 1115.58 Q144.167 1112.27 146.066 1109.98 Q147.964 1107.69 151.343 1106.9 M149.63 1099.52 Q149.63 1102.2 151.297 1103.71 Q152.987 1105.21 156.019 1105.21 Q159.028 1105.21 160.718 1103.71 Q162.431 1102.2 162.431 1099.52 Q162.431 1096.83 160.718 1095.33 Q159.028 1093.82 156.019 1093.82 Q152.987 1093.82 151.297 1095.33 Q149.63 1096.83 149.63 1099.52 Z\" fill=\"#000000\" fill-rule=\"nonzero\" fill-opacity=\"1\" /><path clip-path=\"url(#clip620)\" d=\"M186.181 1093.82 Q182.57 1093.82 180.741 1097.39 Q178.936 1100.93 178.936 1108.06 Q178.936 1115.17 180.741 1118.73 Q182.57 1122.27 186.181 1122.27 Q189.815 1122.27 191.621 1118.73 Q193.45 1115.17 193.45 1108.06 Q193.45 1100.93 191.621 1097.39 Q189.815 1093.82 186.181 1093.82 M186.181 1090.12 Q191.991 1090.12 195.047 1094.73 Q198.125 1099.31 198.125 1108.06 Q198.125 1116.79 195.047 1121.39 Q191.991 1125.98 186.181 1125.98 Q180.371 1125.98 177.292 1121.39 Q174.237 1116.79 174.237 1108.06 Q174.237 1099.31 177.292 1094.73 Q180.371 1090.12 186.181 1090.12 Z\" fill=\"#000000\" fill-rule=\"nonzero\" fill-opacity=\"1\" /><path clip-path=\"url(#clip620)\" d=\"M119.885 923.896 L136.204 923.896 L136.204 927.831 L114.26 927.831 L114.26 923.896 Q116.922 921.141 121.505 916.512 Q126.112 911.859 127.292 910.516 Q129.538 907.993 130.417 906.257 Q131.32 904.498 131.32 902.808 Q131.32 900.053 129.376 898.317 Q127.455 896.581 124.353 896.581 Q122.154 896.581 119.7 897.345 Q117.269 898.109 114.492 899.66 L114.492 894.938 Q117.316 893.803 119.769 893.225 Q122.223 892.646 124.26 892.646 Q129.63 892.646 132.825 895.331 Q136.019 898.016 136.019 902.507 Q136.019 904.637 135.209 906.558 Q134.422 908.456 132.316 911.049 Q131.737 911.72 128.635 914.938 Q125.533 918.132 119.885 923.896 Z\" fill=\"#000000\" fill-rule=\"nonzero\" fill-opacity=\"1\" /><path clip-path=\"url(#clip620)\" d=\"M156.019 896.35 Q152.408 896.35 150.579 899.915 Q148.774 903.456 148.774 910.586 Q148.774 917.692 150.579 921.257 Q152.408 924.799 156.019 924.799 Q159.653 924.799 161.459 921.257 Q163.288 917.692 163.288 910.586 Q163.288 903.456 161.459 899.915 Q159.653 896.35 156.019 896.35 M156.019 892.646 Q161.829 892.646 164.885 897.253 Q167.964 901.836 167.964 910.586 Q167.964 919.313 164.885 923.919 Q161.829 928.502 156.019 928.502 Q150.209 928.502 147.13 923.919 Q144.075 919.313 144.075 910.586 Q144.075 901.836 147.13 897.253 Q150.209 892.646 156.019 892.646 Z\" fill=\"#000000\" fill-rule=\"nonzero\" fill-opacity=\"1\" /><path clip-path=\"url(#clip620)\" d=\"M186.181 896.35 Q182.57 896.35 180.741 899.915 Q178.936 903.456 178.936 910.586 Q178.936 917.692 180.741 921.257 Q182.57 924.799 186.181 924.799 Q189.815 924.799 191.621 921.257 Q193.45 917.692 193.45 910.586 Q193.45 903.456 191.621 899.915 Q189.815 896.35 186.181 896.35 M186.181 892.646 Q191.991 892.646 195.047 897.253 Q198.125 901.836 198.125 910.586 Q198.125 919.313 195.047 923.919 Q191.991 928.502 186.181 928.502 Q180.371 928.502 177.292 923.919 Q174.237 919.313 174.237 910.586 Q174.237 901.836 177.292 897.253 Q180.371 892.646 186.181 892.646 Z\" fill=\"#000000\" fill-rule=\"nonzero\" fill-opacity=\"1\" /><path clip-path=\"url(#clip620)\" d=\"M119.885 726.421 L136.204 726.421 L136.204 730.356 L114.26 730.356 L114.26 726.421 Q116.922 723.667 121.505 719.037 Q126.112 714.384 127.292 713.042 Q129.538 710.519 130.417 708.783 Q131.32 707.023 131.32 705.333 Q131.32 702.579 129.376 700.843 Q127.455 699.107 124.353 699.107 Q122.154 699.107 119.7 699.871 Q117.269 700.634 114.492 702.185 L114.492 697.463 Q117.316 696.329 119.769 695.75 Q122.223 695.171 124.26 695.171 Q129.63 695.171 132.825 697.857 Q136.019 700.542 136.019 705.033 Q136.019 707.162 135.209 709.083 Q134.422 710.982 132.316 713.574 Q131.737 714.245 128.635 717.463 Q125.533 720.657 119.885 726.421 Z\" fill=\"#000000\" fill-rule=\"nonzero\" fill-opacity=\"1\" /><path clip-path=\"url(#clip620)\" d=\"M150.047 726.421 L166.366 726.421 L166.366 730.356 L144.422 730.356 L144.422 726.421 Q147.084 723.667 151.667 719.037 Q156.274 714.384 157.454 713.042 Q159.7 710.519 160.579 708.783 Q161.482 707.023 161.482 705.333 Q161.482 702.579 159.538 700.843 Q157.616 699.107 154.515 699.107 Q152.316 699.107 149.862 699.871 Q147.431 700.634 144.654 702.185 L144.654 697.463 Q147.478 696.329 149.931 695.75 Q152.385 695.171 154.422 695.171 Q159.792 695.171 162.987 697.857 Q166.181 700.542 166.181 705.033 Q166.181 707.162 165.371 709.083 Q164.584 710.982 162.477 713.574 Q161.899 714.245 158.797 717.463 Q155.695 720.657 150.047 726.421 Z\" fill=\"#000000\" fill-rule=\"nonzero\" fill-opacity=\"1\" /><path clip-path=\"url(#clip620)\" d=\"M186.181 698.875 Q182.57 698.875 180.741 702.44 Q178.936 705.982 178.936 713.111 Q178.936 720.218 180.741 723.782 Q182.57 727.324 186.181 727.324 Q189.815 727.324 191.621 723.782 Q193.45 720.218 193.45 713.111 Q193.45 705.982 191.621 702.44 Q189.815 698.875 186.181 698.875 M186.181 695.171 Q191.991 695.171 195.047 699.778 Q198.125 704.361 198.125 713.111 Q198.125 721.838 195.047 726.444 Q191.991 731.028 186.181 731.028 Q180.371 731.028 177.292 726.444 Q174.237 721.838 174.237 713.111 Q174.237 704.361 177.292 699.778 Q180.371 695.171 186.181 695.171 Z\" fill=\"#000000\" fill-rule=\"nonzero\" fill-opacity=\"1\" /><path clip-path=\"url(#clip620)\" d=\"M119.885 528.947 L136.204 528.947 L136.204 532.882 L114.26 532.882 L114.26 528.947 Q116.922 526.192 121.505 521.563 Q126.112 516.91 127.292 515.567 Q129.538 513.044 130.417 511.308 Q131.32 509.549 131.32 507.859 Q131.32 505.104 129.376 503.368 Q127.455 501.632 124.353 501.632 Q122.154 501.632 119.7 502.396 Q117.269 503.16 114.492 504.711 L114.492 499.989 Q117.316 498.854 119.769 498.276 Q122.223 497.697 124.26 497.697 Q129.63 497.697 132.825 500.382 Q136.019 503.067 136.019 507.558 Q136.019 509.688 135.209 511.609 Q134.422 513.507 132.316 516.1 Q131.737 516.771 128.635 519.988 Q125.533 523.183 119.885 528.947 Z\" fill=\"#000000\" fill-rule=\"nonzero\" fill-opacity=\"1\" /><path clip-path=\"url(#clip620)\" d=\"M158.866 502.396 L147.061 520.845 L158.866 520.845 L158.866 502.396 M157.64 498.322 L163.519 498.322 L163.519 520.845 L168.45 520.845 L168.45 524.734 L163.519 524.734 L163.519 532.882 L158.866 532.882 L158.866 524.734 L143.265 524.734 L143.265 520.22 L157.64 498.322 Z\" fill=\"#000000\" fill-rule=\"nonzero\" fill-opacity=\"1\" /><path clip-path=\"url(#clip620)\" d=\"M186.181 501.401 Q182.57 501.401 180.741 504.965 Q178.936 508.507 178.936 515.637 Q178.936 522.743 180.741 526.308 Q182.57 529.85 186.181 529.85 Q189.815 529.85 191.621 526.308 Q193.45 522.743 193.45 515.637 Q193.45 508.507 191.621 504.965 Q189.815 501.401 186.181 501.401 M186.181 497.697 Q191.991 497.697 195.047 502.303 Q198.125 506.887 198.125 515.637 Q198.125 524.363 195.047 528.97 Q191.991 533.553 186.181 533.553 Q180.371 533.553 177.292 528.97 Q174.237 524.363 174.237 515.637 Q174.237 506.887 177.292 502.303 Q180.371 497.697 186.181 497.697 Z\" fill=\"#000000\" fill-rule=\"nonzero\" fill-opacity=\"1\" /><path clip-path=\"url(#clip620)\" d=\"M119.885 331.472 L136.204 331.472 L136.204 335.407 L114.26 335.407 L114.26 331.472 Q116.922 328.718 121.505 324.088 Q126.112 319.435 127.292 318.093 Q129.538 315.569 130.417 313.833 Q131.32 312.074 131.32 310.384 Q131.32 307.63 129.376 305.894 Q127.455 304.158 124.353 304.158 Q122.154 304.158 119.7 304.921 Q117.269 305.685 114.492 307.236 L114.492 302.514 Q117.316 301.38 119.769 300.801 Q122.223 300.222 124.26 300.222 Q129.63 300.222 132.825 302.908 Q136.019 305.593 136.019 310.083 Q136.019 312.213 135.209 314.134 Q134.422 316.032 132.316 318.625 Q131.737 319.296 128.635 322.514 Q125.533 325.708 119.885 331.472 Z\" fill=\"#000000\" fill-rule=\"nonzero\" fill-opacity=\"1\" /><path clip-path=\"url(#clip620)\" d=\"M156.598 316.264 Q153.45 316.264 151.598 318.417 Q149.769 320.569 149.769 324.319 Q149.769 328.046 151.598 330.222 Q153.45 332.375 156.598 332.375 Q159.746 332.375 161.575 330.222 Q163.427 328.046 163.427 324.319 Q163.427 320.569 161.575 318.417 Q159.746 316.264 156.598 316.264 M165.88 301.611 L165.88 305.87 Q164.121 305.037 162.315 304.597 Q160.533 304.158 158.774 304.158 Q154.144 304.158 151.691 307.283 Q149.26 310.407 148.913 316.727 Q150.278 314.713 152.339 313.648 Q154.399 312.56 156.876 312.56 Q162.084 312.56 165.093 315.732 Q168.126 318.88 168.126 324.319 Q168.126 329.643 164.977 332.861 Q161.829 336.079 156.598 336.079 Q150.603 336.079 147.431 331.495 Q144.26 326.889 144.26 318.162 Q144.26 309.968 148.149 305.107 Q152.038 300.222 158.589 300.222 Q160.348 300.222 162.13 300.57 Q163.936 300.917 165.88 301.611 Z\" fill=\"#000000\" fill-rule=\"nonzero\" fill-opacity=\"1\" /><path clip-path=\"url(#clip620)\" d=\"M186.181 303.926 Q182.57 303.926 180.741 307.491 Q178.936 311.032 178.936 318.162 Q178.936 325.269 180.741 328.833 Q182.57 332.375 186.181 332.375 Q189.815 332.375 191.621 328.833 Q193.45 325.269 193.45 318.162 Q193.45 311.032 191.621 307.491 Q189.815 303.926 186.181 303.926 M186.181 300.222 Q191.991 300.222 195.047 304.829 Q198.125 309.412 198.125 318.162 Q198.125 326.889 195.047 331.495 Q191.991 336.079 186.181 336.079 Q180.371 336.079 177.292 331.495 Q174.237 326.889 174.237 318.162 Q174.237 309.412 177.292 304.829 Q180.371 300.222 186.181 300.222 Z\" fill=\"#000000\" fill-rule=\"nonzero\" fill-opacity=\"1\" /><path clip-path=\"url(#clip620)\" d=\"M42.4881 817.186 L64.0042 817.186 L64.0042 823.042 L42.679 823.042 Q37.6183 823.042 35.1038 825.016 Q32.5894 826.989 32.5894 830.936 Q32.5894 835.678 35.6131 838.415 Q38.6368 841.153 43.8567 841.153 L64.0042 841.153 L64.0042 847.041 L14.479 847.041 L14.479 841.153 L33.8944 841.153 Q30.6797 839.052 29.0883 836.219 Q27.4968 833.355 27.4968 829.631 Q27.4968 823.488 31.3163 820.337 Q35.1038 817.186 42.4881 817.186 Z\" fill=\"#000000\" fill-rule=\"nonzero\" fill-opacity=\"1\" /><path clip-path=\"url(#clip620)\" d=\"M32.4621 791.691 Q32.4621 796.402 36.1542 799.139 Q39.8145 801.876 46.212 801.876 Q52.6095 801.876 56.3017 799.171 Q59.9619 796.433 59.9619 791.691 Q59.9619 787.012 56.2698 784.275 Q52.5777 781.538 46.212 781.538 Q39.8781 781.538 36.186 784.275 Q32.4621 787.012 32.4621 791.691 M27.4968 791.691 Q27.4968 784.052 32.4621 779.692 Q37.4273 775.331 46.212 775.331 Q54.9649 775.331 59.9619 779.692 Q64.9272 784.052 64.9272 791.691 Q64.9272 799.362 59.9619 803.722 Q54.9649 808.051 46.212 808.051 Q37.4273 808.051 32.4621 803.722 Q27.4968 799.362 27.4968 791.691 Z\" fill=\"#000000\" fill-rule=\"nonzero\" fill-opacity=\"1\" /><path clip-path=\"url(#clip620)\" d=\"M58.657 759.958 L77.5631 759.958 L77.5631 765.846 L28.3562 765.846 L28.3562 759.958 L33.7671 759.958 Q30.5842 758.112 29.0564 755.311 Q27.4968 752.478 27.4968 748.563 Q27.4968 742.07 32.6531 738.028 Q37.8093 733.954 46.212 733.954 Q54.6147 733.954 59.771 738.028 Q64.9272 742.07 64.9272 748.563 Q64.9272 752.478 63.3994 755.311 Q61.8398 758.112 58.657 759.958 M46.212 740.033 Q39.7508 740.033 36.0905 742.707 Q32.3984 745.349 32.3984 749.996 Q32.3984 754.643 36.0905 757.316 Q39.7508 759.958 46.212 759.958 Q52.6732 759.958 56.3653 757.316 Q60.0256 754.643 60.0256 749.996 Q60.0256 745.349 56.3653 742.707 Q52.6732 740.033 46.212 740.033 Z\" fill=\"#000000\" fill-rule=\"nonzero\" fill-opacity=\"1\" /><path clip-path=\"url(#clip620)\" d=\"M29.4065 701.521 L34.9447 701.521 Q33.6716 704.003 33.035 706.677 Q32.3984 709.351 32.3984 712.215 Q32.3984 716.576 33.7352 718.772 Q35.072 720.936 37.7456 720.936 Q39.7826 720.936 40.9603 719.377 Q42.1061 717.817 43.1565 713.106 L43.6021 711.101 Q44.9389 704.863 47.3897 702.253 Q49.8086 699.611 54.1691 699.611 Q59.1344 699.611 62.0308 703.558 Q64.9272 707.473 64.9272 714.348 Q64.9272 717.212 64.3543 720.331 Q63.8132 723.419 62.6992 726.856 L56.6518 726.856 Q58.3387 723.61 59.198 720.459 Q60.0256 717.308 60.0256 714.22 Q60.0256 710.083 58.6251 707.855 Q57.1929 705.627 54.6147 705.627 Q52.2276 705.627 50.9545 707.25 Q49.6813 708.841 48.5037 714.284 L48.0262 716.321 Q46.8804 721.764 44.5251 724.183 Q42.138 726.602 38.0002 726.602 Q32.9713 726.602 30.2341 723.037 Q27.4968 719.472 27.4968 712.915 Q27.4968 709.669 27.9743 706.804 Q28.4517 703.94 29.4065 701.521 Z\" fill=\"#000000\" fill-rule=\"nonzero\" fill-opacity=\"1\" /><path clip-path=\"url(#clip620)\" d=\"M717.382 65.7705 L717.382 89.8329 L709.888 89.8329 L709.888 27.2059 L717.382 27.2059 L717.382 34.0924 Q719.731 30.0415 723.296 28.0971 Q726.901 26.1121 731.884 26.1121 Q740.148 26.1121 745.293 32.6746 Q750.478 39.2371 750.478 49.9314 Q750.478 60.6258 745.293 67.1883 Q740.148 73.7508 731.884 73.7508 Q726.901 73.7508 723.296 71.8063 Q719.731 69.8214 717.382 65.7705 M742.741 49.9314 Q742.741 41.7081 739.338 37.0496 Q735.975 32.3505 730.061 32.3505 Q724.147 32.3505 720.744 37.0496 Q717.382 41.7081 717.382 49.9314 Q717.382 58.1548 720.744 62.8538 Q724.147 67.5124 730.061 67.5124 Q735.975 67.5124 739.338 62.8538 Q742.741 58.1548 742.741 49.9314 Z\" fill=\"#000000\" fill-rule=\"nonzero\" fill-opacity=\"1\" /><path clip-path=\"url(#clip620)\" d=\"M762.833 27.2059 L770.287 27.2059 L770.287 72.576 L762.833 72.576 L762.833 27.2059 M762.833 9.54393 L770.287 9.54393 L770.287 18.9825 L762.833 18.9825 L762.833 9.54393 Z\" fill=\"#000000\" fill-rule=\"nonzero\" fill-opacity=\"1\" /><path clip-path=\"url(#clip620)\" d=\"M823.597 45.1919 L823.597 72.576 L816.143 72.576 L816.143 45.4349 Q816.143 38.994 813.631 35.7938 Q811.12 32.5936 806.097 32.5936 Q800.061 32.5936 796.577 36.4419 Q793.093 40.2903 793.093 46.9338 L793.093 72.576 L785.599 72.576 L785.599 27.2059 L793.093 27.2059 L793.093 34.2544 Q795.767 30.163 799.372 28.1376 Q803.018 26.1121 807.758 26.1121 Q815.576 26.1121 819.586 30.9732 Q823.597 35.7938 823.597 45.1919 Z\" fill=\"#000000\" fill-rule=\"nonzero\" fill-opacity=\"1\" /><path clip-path=\"url(#clip620)\" d=\"M868.319 49.3643 Q868.319 41.2625 864.956 36.8065 Q861.635 32.3505 855.599 32.3505 Q849.603 32.3505 846.241 36.8065 Q842.919 41.2625 842.919 49.3643 Q842.919 57.4256 846.241 61.8816 Q849.603 66.3376 855.599 66.3376 Q861.635 66.3376 864.956 61.8816 Q868.319 57.4256 868.319 49.3643 M875.772 66.9452 Q875.772 78.5308 870.628 84.1616 Q865.483 89.8329 854.87 89.8329 Q850.94 89.8329 847.456 89.2252 Q843.973 88.6581 840.691 87.4428 L840.691 80.1917 Q843.973 81.9741 847.173 82.8248 Q850.373 83.6755 853.695 83.6755 Q861.027 83.6755 864.673 79.8271 Q868.319 76.0193 868.319 68.282 L868.319 64.5957 Q866.01 68.6061 862.404 70.5911 Q858.799 72.576 853.776 72.576 Q845.431 72.576 840.327 66.2161 Q835.223 59.8562 835.223 49.3643 Q835.223 38.832 840.327 32.472 Q845.431 26.1121 853.776 26.1121 Q858.799 26.1121 862.404 28.0971 Q866.01 30.082 868.319 34.0924 L868.319 27.2059 L875.772 27.2059 L875.772 66.9452 Z\" fill=\"#000000\" fill-rule=\"nonzero\" fill-opacity=\"1\" /><path clip-path=\"url(#clip620)\" d=\"M920.049 28.5427 L920.049 35.5912 Q916.889 33.9709 913.486 33.1607 Q910.083 32.3505 906.438 32.3505 Q900.888 32.3505 898.093 34.0519 Q895.338 35.7533 895.338 39.156 Q895.338 41.7486 897.323 43.2475 Q899.308 44.7058 905.303 46.0426 L907.855 46.6097 Q915.795 48.3111 919.117 51.4303 Q922.479 54.509 922.479 60.0587 Q922.479 66.3781 917.456 70.0644 Q912.473 73.7508 903.723 73.7508 Q900.078 73.7508 896.108 73.0216 Q892.178 72.3329 887.803 70.9151 L887.803 63.2184 Q891.935 65.3654 895.946 66.4591 Q899.956 67.5124 903.885 67.5124 Q909.152 67.5124 911.987 65.73 Q914.823 63.9071 914.823 60.6258 Q914.823 57.5877 912.757 55.9673 Q910.732 54.3469 903.804 52.8481 L901.212 52.2405 Q894.285 50.7821 891.206 47.7845 Q888.127 44.7463 888.127 39.4801 Q888.127 33.0797 892.664 29.5959 Q897.201 26.1121 905.546 26.1121 Q909.678 26.1121 913.324 26.7198 Q916.97 27.3274 920.049 28.5427 Z\" fill=\"#000000\" fill-rule=\"nonzero\" fill-opacity=\"1\" /><path clip-path=\"url(#clip620)\" d=\"M941.721 14.324 L941.721 27.2059 L957.074 27.2059 L957.074 32.9987 L941.721 32.9987 L941.721 57.6282 Q941.721 63.1779 943.22 64.7578 Q944.759 66.3376 949.418 66.3376 L957.074 66.3376 L957.074 72.576 L949.418 72.576 Q940.789 72.576 937.508 69.3758 Q934.227 66.1351 934.227 57.6282 L934.227 32.9987 L928.758 32.9987 L928.758 27.2059 L934.227 27.2059 L934.227 14.324 L941.721 14.324 Z\" fill=\"#000000\" fill-rule=\"nonzero\" fill-opacity=\"1\" /><path clip-path=\"url(#clip620)\" d=\"M987.496 49.7694 Q978.463 49.7694 974.979 51.8354 Q971.495 53.9013 971.495 58.8839 Q971.495 62.8538 974.088 65.2034 Q976.721 67.5124 981.217 67.5124 Q987.415 67.5124 991.142 63.1374 Q994.909 58.7219 994.909 51.4303 L994.909 49.7694 L987.496 49.7694 M1002.36 46.6907 L1002.36 72.576 L994.909 72.576 L994.909 65.6895 Q992.357 69.8214 988.549 71.8063 Q984.742 73.7508 979.232 73.7508 Q972.265 73.7508 968.133 69.8619 Q964.041 65.9325 964.041 59.3701 Q964.041 51.7138 969.146 47.825 Q974.29 43.9361 984.458 43.9361 L994.909 43.9361 L994.909 43.2069 Q994.909 38.0623 991.507 35.2672 Q988.144 32.4315 982.027 32.4315 Q978.139 32.4315 974.452 33.3632 Q970.766 34.295 967.363 36.1584 L967.363 29.2718 Q971.455 27.692 975.303 26.9223 Q979.151 26.1121 982.797 26.1121 Q992.641 26.1121 997.502 31.2163 Q1002.36 36.3204 1002.36 46.6907 Z\" fill=\"#000000\" fill-rule=\"nonzero\" fill-opacity=\"1\" /><path clip-path=\"url(#clip620)\" d=\"M1025.09 14.324 L1025.09 27.2059 L1040.44 27.2059 L1040.44 32.9987 L1025.09 32.9987 L1025.09 57.6282 Q1025.09 63.1779 1026.59 64.7578 Q1028.13 66.3376 1032.79 66.3376 L1040.44 66.3376 L1040.44 72.576 L1032.79 72.576 Q1024.16 72.576 1020.88 69.3758 Q1017.59 66.1351 1017.59 57.6282 L1017.59 32.9987 L1012.13 32.9987 L1012.13 27.2059 L1017.59 27.2059 L1017.59 14.324 L1025.09 14.324 Z\" fill=\"#000000\" fill-rule=\"nonzero\" fill-opacity=\"1\" /><path clip-path=\"url(#clip620)\" d=\"M1079.17 28.5427 L1079.17 35.5912 Q1076.01 33.9709 1072.61 33.1607 Q1069.2 32.3505 1065.56 32.3505 Q1060.01 32.3505 1057.21 34.0519 Q1054.46 35.7533 1054.46 39.156 Q1054.46 41.7486 1056.44 43.2475 Q1058.43 44.7058 1064.42 46.0426 L1066.97 46.6097 Q1074.91 48.3111 1078.24 51.4303 Q1081.6 54.509 1081.6 60.0587 Q1081.6 66.3781 1076.58 70.0644 Q1071.59 73.7508 1062.84 73.7508 Q1059.2 73.7508 1055.23 73.0216 Q1051.3 72.3329 1046.92 70.9151 L1046.92 63.2184 Q1051.05 65.3654 1055.07 66.4591 Q1059.08 67.5124 1063 67.5124 Q1068.27 67.5124 1071.11 65.73 Q1073.94 63.9071 1073.94 60.6258 Q1073.94 57.5877 1071.88 55.9673 Q1069.85 54.3469 1062.92 52.8481 L1060.33 52.2405 Q1053.4 50.7821 1050.33 47.7845 Q1047.25 44.7463 1047.25 39.4801 Q1047.25 33.0797 1051.78 29.5959 Q1056.32 26.1121 1064.67 26.1121 Q1068.8 26.1121 1072.44 26.7198 Q1076.09 27.3274 1079.17 28.5427 Z\" fill=\"#000000\" fill-rule=\"nonzero\" fill-opacity=\"1\" /><path clip-path=\"url(#clip620)\" d=\"M1137.42 32.4315 Q1131.42 32.4315 1127.94 37.1306 Q1124.46 41.7891 1124.46 49.9314 Q1124.46 58.0738 1127.9 62.7728 Q1131.38 67.4314 1137.42 67.4314 Q1143.37 67.4314 1146.86 62.7323 Q1150.34 58.0333 1150.34 49.9314 Q1150.34 41.8701 1146.86 37.1711 Q1143.37 32.4315 1137.42 32.4315 M1137.42 26.1121 Q1147.14 26.1121 1152.69 32.4315 Q1158.24 38.7509 1158.24 49.9314 Q1158.24 61.0714 1152.69 67.4314 Q1147.14 73.7508 1137.42 73.7508 Q1127.66 73.7508 1122.11 67.4314 Q1116.6 61.0714 1116.6 49.9314 Q1116.6 38.7509 1122.11 32.4315 Q1127.66 26.1121 1137.42 26.1121 Z\" fill=\"#000000\" fill-rule=\"nonzero\" fill-opacity=\"1\" /><path clip-path=\"url(#clip620)\" d=\"M1208.31 45.1919 L1208.31 72.576 L1200.86 72.576 L1200.86 45.4349 Q1200.86 38.994 1198.35 35.7938 Q1195.83 32.5936 1190.81 32.5936 Q1184.78 32.5936 1181.29 36.4419 Q1177.81 40.2903 1177.81 46.9338 L1177.81 72.576 L1170.31 72.576 L1170.31 27.2059 L1177.81 27.2059 L1177.81 34.2544 Q1180.48 30.163 1184.09 28.1376 Q1187.73 26.1121 1192.47 26.1121 Q1200.29 26.1121 1204.3 30.9732 Q1208.31 35.7938 1208.31 45.1919 Z\" fill=\"#000000\" fill-rule=\"nonzero\" fill-opacity=\"1\" /><path clip-path=\"url(#clip620)\" d=\"M1249.55 27.2059 L1257 27.2059 L1257 72.576 L1249.55 72.576 L1249.55 27.2059 M1249.55 9.54393 L1257 9.54393 L1257 18.9825 L1249.55 18.9825 L1249.55 9.54393 Z\" fill=\"#000000\" fill-rule=\"nonzero\" fill-opacity=\"1\" /><path clip-path=\"url(#clip620)\" d=\"M1301.52 28.5427 L1301.52 35.5912 Q1298.36 33.9709 1294.96 33.1607 Q1291.56 32.3505 1287.91 32.3505 Q1282.36 32.3505 1279.57 34.0519 Q1276.81 35.7533 1276.81 39.156 Q1276.81 41.7486 1278.8 43.2475 Q1280.78 44.7058 1286.78 46.0426 L1289.33 46.6097 Q1297.27 48.3111 1300.59 51.4303 Q1303.95 54.509 1303.95 60.0587 Q1303.95 66.3781 1298.93 70.0644 Q1293.95 73.7508 1285.2 73.7508 Q1281.55 73.7508 1277.58 73.0216 Q1273.65 72.3329 1269.28 70.9151 L1269.28 63.2184 Q1273.41 65.3654 1277.42 66.4591 Q1281.43 67.5124 1285.36 67.5124 Q1290.63 67.5124 1293.46 65.73 Q1296.3 63.9071 1296.3 60.6258 Q1296.3 57.5877 1294.23 55.9673 Q1292.21 54.3469 1285.28 52.8481 L1282.69 52.2405 Q1275.76 50.7821 1272.68 47.7845 Q1269.6 44.7463 1269.6 39.4801 Q1269.6 33.0797 1274.14 29.5959 Q1278.68 26.1121 1287.02 26.1121 Q1291.15 26.1121 1294.8 26.7198 Q1298.44 27.3274 1301.52 28.5427 Z\" fill=\"#000000\" fill-rule=\"nonzero\" fill-opacity=\"1\" /><path clip-path=\"url(#clip620)\" d=\"M1315.82 9.54393 L1323.28 9.54393 L1323.28 72.576 L1315.82 72.576 L1315.82 9.54393 Z\" fill=\"#000000\" fill-rule=\"nonzero\" fill-opacity=\"1\" /><path clip-path=\"url(#clip620)\" d=\"M1339.92 62.2867 L1348.47 62.2867 L1348.47 72.576 L1339.92 72.576 L1339.92 62.2867 Z\" fill=\"#000000\" fill-rule=\"nonzero\" fill-opacity=\"1\" /><path clip-path=\"url(#clip620)\" d=\"M1394.17 28.5427 L1394.17 35.5912 Q1391.01 33.9709 1387.6 33.1607 Q1384.2 32.3505 1380.56 32.3505 Q1375.01 32.3505 1372.21 34.0519 Q1369.46 35.7533 1369.46 39.156 Q1369.46 41.7486 1371.44 43.2475 Q1373.43 44.7058 1379.42 46.0426 L1381.97 46.6097 Q1389.91 48.3111 1393.23 51.4303 Q1396.6 54.509 1396.6 60.0587 Q1396.6 66.3781 1391.57 70.0644 Q1386.59 73.7508 1377.84 73.7508 Q1374.2 73.7508 1370.23 73.0216 Q1366.3 72.3329 1361.92 70.9151 L1361.92 63.2184 Q1366.05 65.3654 1370.06 66.4591 Q1374.07 67.5124 1378 67.5124 Q1383.27 67.5124 1386.11 65.73 Q1388.94 63.9071 1388.94 60.6258 Q1388.94 57.5877 1386.87 55.9673 Q1384.85 54.3469 1377.92 52.8481 L1375.33 52.2405 Q1368.4 50.7821 1365.32 47.7845 Q1362.25 44.7463 1362.25 39.4801 Q1362.25 33.0797 1366.78 29.5959 Q1371.32 26.1121 1379.66 26.1121 Q1383.8 26.1121 1387.44 26.7198 Q1391.09 27.3274 1394.17 28.5427 Z\" fill=\"#000000\" fill-rule=\"nonzero\" fill-opacity=\"1\" /><path clip-path=\"url(#clip620)\" d=\"M1415.84 14.324 L1415.84 27.2059 L1431.19 27.2059 L1431.19 32.9987 L1415.84 32.9987 L1415.84 57.6282 Q1415.84 63.1779 1417.34 64.7578 Q1418.88 66.3376 1423.54 66.3376 L1431.19 66.3376 L1431.19 72.576 L1423.54 72.576 Q1414.91 72.576 1411.63 69.3758 Q1408.34 66.1351 1408.34 57.6282 L1408.34 32.9987 L1402.88 32.9987 L1402.88 27.2059 L1408.34 27.2059 L1408.34 14.324 L1415.84 14.324 Z\" fill=\"#000000\" fill-rule=\"nonzero\" fill-opacity=\"1\" /><path clip-path=\"url(#clip620)\" d=\"M1461.61 49.7694 Q1452.58 49.7694 1449.1 51.8354 Q1445.61 53.9013 1445.61 58.8839 Q1445.61 62.8538 1448.21 65.2034 Q1450.84 67.5124 1455.34 67.5124 Q1461.53 67.5124 1465.26 63.1374 Q1469.03 58.7219 1469.03 51.4303 L1469.03 49.7694 L1461.61 49.7694 M1476.48 46.6907 L1476.48 72.576 L1469.03 72.576 L1469.03 65.6895 Q1466.48 69.8214 1462.67 71.8063 Q1458.86 73.7508 1453.35 73.7508 Q1446.38 73.7508 1442.25 69.8619 Q1438.16 65.9325 1438.16 59.3701 Q1438.16 51.7138 1443.26 47.825 Q1448.41 43.9361 1458.58 43.9361 L1469.03 43.9361 L1469.03 43.2069 Q1469.03 38.0623 1465.62 35.2672 Q1462.26 32.4315 1456.15 32.4315 Q1452.26 32.4315 1448.57 33.3632 Q1444.88 34.295 1441.48 36.1584 L1441.48 29.2718 Q1445.57 27.692 1449.42 26.9223 Q1453.27 26.1121 1456.91 26.1121 Q1466.76 26.1121 1471.62 31.2163 Q1476.48 36.3204 1476.48 46.6907 Z\" fill=\"#000000\" fill-rule=\"nonzero\" fill-opacity=\"1\" /><path clip-path=\"url(#clip620)\" d=\"M1529.55 45.1919 L1529.55 72.576 L1522.09 72.576 L1522.09 45.4349 Q1522.09 38.994 1519.58 35.7938 Q1517.07 32.5936 1512.05 32.5936 Q1506.01 32.5936 1502.53 36.4419 Q1499.04 40.2903 1499.04 46.9338 L1499.04 72.576 L1491.55 72.576 L1491.55 27.2059 L1499.04 27.2059 L1499.04 34.2544 Q1501.72 30.163 1505.32 28.1376 Q1508.97 26.1121 1513.71 26.1121 Q1521.53 26.1121 1525.54 30.9732 Q1529.55 35.7938 1529.55 45.1919 Z\" fill=\"#000000\" fill-rule=\"nonzero\" fill-opacity=\"1\" /><path clip-path=\"url(#clip620)\" d=\"M1567.38 9.54393 L1567.38 15.7418 L1560.25 15.7418 Q1556.24 15.7418 1554.66 17.3622 Q1553.12 18.9825 1553.12 23.1955 L1553.12 27.2059 L1565.4 27.2059 L1565.4 32.9987 L1553.12 32.9987 L1553.12 72.576 L1545.63 72.576 L1545.63 32.9987 L1538.5 32.9987 L1538.5 27.2059 L1545.63 27.2059 L1545.63 24.0462 Q1545.63 16.471 1549.15 13.0277 Q1552.68 9.54393 1560.33 9.54393 L1567.38 9.54393 Z\" fill=\"#000000\" fill-rule=\"nonzero\" fill-opacity=\"1\" /><path clip-path=\"url(#clip620)\" d=\"M1591.2 32.4315 Q1585.21 32.4315 1581.72 37.1306 Q1578.24 41.7891 1578.24 49.9314 Q1578.24 58.0738 1581.68 62.7728 Q1585.17 67.4314 1591.2 67.4314 Q1597.16 67.4314 1600.64 62.7323 Q1604.12 58.0333 1604.12 49.9314 Q1604.12 41.8701 1600.64 37.1711 Q1597.16 32.4315 1591.2 32.4315 M1591.2 26.1121 Q1600.92 26.1121 1606.47 32.4315 Q1612.02 38.7509 1612.02 49.9314 Q1612.02 61.0714 1606.47 67.4314 Q1600.92 73.7508 1591.2 73.7508 Q1581.44 73.7508 1575.89 67.4314 Q1570.38 61.0714 1570.38 49.9314 Q1570.38 38.7509 1575.89 32.4315 Q1581.44 26.1121 1591.2 26.1121 Z\" fill=\"#000000\" fill-rule=\"nonzero\" fill-opacity=\"1\" /><path clip-path=\"url(#clip620)\" d=\"M1650.67 34.1734 Q1649.41 33.4443 1647.92 33.1202 Q1646.46 32.7556 1644.67 32.7556 Q1638.35 32.7556 1634.95 36.8875 Q1631.59 40.9789 1631.59 48.6757 L1631.59 72.576 L1624.1 72.576 L1624.1 27.2059 L1631.59 27.2059 L1631.59 34.2544 Q1633.94 30.1225 1637.71 28.1376 Q1641.47 26.1121 1646.86 26.1121 Q1647.63 26.1121 1648.56 26.2337 Q1649.49 26.3147 1650.63 26.5172 L1650.67 34.1734 Z\" fill=\"#000000\" fill-rule=\"nonzero\" fill-opacity=\"1\" /><path clip-path=\"url(#clip620)\" d=\"M1686.88 34.0924 L1686.88 9.54393 L1694.34 9.54393 L1694.34 72.576 L1686.88 72.576 L1686.88 65.7705 Q1684.54 69.8214 1680.93 71.8063 Q1677.37 73.7508 1672.34 73.7508 Q1664.12 73.7508 1658.93 67.1883 Q1653.79 60.6258 1653.79 49.9314 Q1653.79 39.2371 1658.93 32.6746 Q1664.12 26.1121 1672.34 26.1121 Q1677.37 26.1121 1680.93 28.0971 Q1684.54 30.0415 1686.88 34.0924 M1661.49 49.9314 Q1661.49 58.1548 1664.85 62.8538 Q1668.25 67.5124 1674.16 67.5124 Q1680.08 67.5124 1683.48 62.8538 Q1686.88 58.1548 1686.88 49.9314 Q1686.88 41.7081 1683.48 37.0496 Q1680.08 32.3505 1674.16 32.3505 Q1668.25 32.3505 1664.85 37.0496 Q1661.49 41.7081 1661.49 49.9314 Z\" fill=\"#000000\" fill-rule=\"nonzero\" fill-opacity=\"1\" /><path clip-path=\"url(#clip620)\" d=\"M1710.74 62.2867 L1719.29 62.2867 L1719.29 72.576 L1710.74 72.576 L1710.74 62.2867 Z\" fill=\"#000000\" fill-rule=\"nonzero\" fill-opacity=\"1\" /><path clip-path=\"url(#clip620)\" d=\"M1774.87 48.0275 L1774.87 51.6733 L1740.6 51.6733 Q1741.09 59.3701 1745.22 63.421 Q1749.39 67.4314 1756.8 67.4314 Q1761.1 67.4314 1765.11 66.3781 Q1769.16 65.3249 1773.13 63.2184 L1773.13 70.267 Q1769.12 71.9684 1764.91 72.8596 Q1760.69 73.7508 1756.36 73.7508 Q1745.5 73.7508 1739.14 67.4314 Q1732.82 61.1119 1732.82 50.3365 Q1732.82 39.1965 1738.82 32.6746 Q1744.85 26.1121 1755.06 26.1121 Q1764.22 26.1121 1769.52 32.0264 Q1774.87 37.9003 1774.87 48.0275 M1767.42 45.84 Q1767.34 39.7232 1763.97 36.0774 Q1760.65 32.4315 1755.14 32.4315 Q1748.9 32.4315 1745.14 35.9558 Q1741.41 39.4801 1740.84 45.8805 L1767.42 45.84 Z\" fill=\"#000000\" fill-rule=\"nonzero\" fill-opacity=\"1\" /><path clip-path=\"url(#clip620)\" d=\"M1816.96 34.0924 L1816.96 9.54393 L1824.41 9.54393 L1824.41 72.576 L1816.96 72.576 L1816.96 65.7705 Q1814.61 69.8214 1811 71.8063 Q1807.44 73.7508 1802.42 73.7508 Q1794.19 73.7508 1789.01 67.1883 Q1783.86 60.6258 1783.86 49.9314 Q1783.86 39.2371 1789.01 32.6746 Q1794.19 26.1121 1802.42 26.1121 Q1807.44 26.1121 1811 28.0971 Q1814.61 30.0415 1816.96 34.0924 M1791.56 49.9314 Q1791.56 58.1548 1794.92 62.8538 Q1798.33 67.5124 1804.24 67.5124 Q1810.15 67.5124 1813.56 62.8538 Q1816.96 58.1548 1816.96 49.9314 Q1816.96 41.7081 1813.56 37.0496 Q1810.15 32.3505 1804.24 32.3505 Q1798.33 32.3505 1794.92 37.0496 Q1791.56 41.7081 1791.56 49.9314 Z\" fill=\"#000000\" fill-rule=\"nonzero\" fill-opacity=\"1\" /><path clip-path=\"url(#clip620)\" d=\"M1839 54.671 L1839 27.2059 L1846.45 27.2059 L1846.45 54.3874 Q1846.45 60.8284 1848.96 64.0691 Q1851.47 67.2693 1856.5 67.2693 Q1862.53 67.2693 1866.02 63.421 Q1869.54 59.5726 1869.54 52.9291 L1869.54 27.2059 L1876.99 27.2059 L1876.99 72.576 L1869.54 72.576 L1869.54 65.6084 Q1866.83 69.7404 1863.22 71.7658 Q1859.66 73.7508 1854.92 73.7508 Q1847.1 73.7508 1843.05 68.8897 Q1839 64.0286 1839 54.671 M1857.75 26.1121 L1857.75 26.1121 Z\" fill=\"#000000\" fill-rule=\"nonzero\" fill-opacity=\"1\" /><polyline clip-path=\"url(#clip622)\" style=\"stroke:#009af9; stroke-linecap:round; stroke-linejoin:round; stroke-width:8; stroke-opacity:1; fill:none\" points=\"294.087,1315.46 314.276,1377.32 334.465,1377.22 354.654,1379.43 374.843,1375.59 395.032,1373.64 415.221,1377.64 435.409,1378.31 455.598,1380.78 475.787,1372.54 495.976,1376.4 516.165,1378.57 536.354,1373.82 556.543,1377.41 576.732,1373.65 596.921,1350.31 617.11,1386.4 637.299,1377.99 657.488,1375.35 677.677,693.842 697.866,981.918 718.055,984.15 738.244,979.568 758.433,975.915 778.622,951.715 798.811,1000.72 819,983.044 839.189,973.358 859.378,976.577 879.567,976.745 899.756,974.177 919.945,970.909 940.134,962.319 960.323,1382.77 980.512,576.562 1000.7,977.505 1020.89,973.318 1041.08,970.929 1061.27,1327.69 1081.46,605.088 1101.65,981.602 1121.83,968.095 1142.02,976.152 1162.21,1378.22 1182.4,1377.73 1202.59,1370.53 1222.78,1373.73 1242.97,1374.51 1263.16,1368.53 1283.35,1378.62 1303.54,1355.17 1323.72,1375.64 1343.91,1375.42 1364.1,1376.09 1384.29,1375.52 1404.48,1374.37 1424.67,1365.81 1444.86,1357.51 1465.05,1369.68 1485.24,621.646 1505.42,973.802 1525.61,978.986 1545.8,971.995 1565.99,970.84 1586.18,976.379 1606.37,975.303 1626.56,975.925 1646.75,975.668 1666.94,1064.82 1687.13,975.017 1707.31,988.257 1727.5,977.149 1747.69,976.31 1767.88,970.959 1788.07,969.102 1808.26,982.037 1828.45,983.844 1848.64,953.62 1868.83,967.424 1889.02,943.707 1909.2,1000.74 1929.39,989.886 1949.58,963.346 1969.77,967.207 1989.96,960.127 2010.15,975.066 2030.34,944.556 2050.53,971.689 2070.72,960.038 2090.9,958.202 2111.09,964.659 2131.28,966.091 2151.47,983.814 2171.66,959.159 2191.85,1374.72 2212.04,1377.32 2232.23,160.256 2252.42,978.966 2272.61,958.093 2292.79,1358.86 \"/>\n",
       "</svg>\n"
      ]
     },
     "execution_count": 8,
     "metadata": {},
     "output_type": "execute_result"
    }
   ],
   "source": [
    "plot(\n",
    "    df[!,:pingstats]\n",
    "    , title = \"pingstats on $server\"\n",
    "    , xlabel = \"time (ms)\"\n",
    "    , ylabel = \"hops\"\n",
    "    , label = :none\n",
    "    , linewidth = 2\n",
    ")"
   ]
  },
  {
   "cell_type": "markdown",
   "id": "1507cd6c-f4b8-4a47-aaeb-fc7ae0017107",
   "metadata": {},
   "source": [
    "&#x1F516; **(&#x2173;)**  In Matlab, plot a histogram of the measurements {y1, . . . , yn} you made and in the same plot superimpose the graphs for the marginal densities $f (y|\\hat{\\theta}_{ML,i} (Y )), i \\in \\{G, R, E0, E1, E2, exp,SR \\}$. Make this plot for y going from a value that is somewhat smaller than the $y_{min}$ you measured to a value that is somewhat bigger than the $y_{max}$ you measured. In Matlab, use the histogram command with the options ’Normalization’ and ’probability’, so that the histogram can be compared directly to the pdf of the distributions."
   ]
  },
  {
   "cell_type": "markdown",
   "id": "ac5859ef-ab44-4a6c-a93b-99d2a4357fb2",
   "metadata": {},
   "source": [
    "---"
   ]
  },
  {
   "cell_type": "markdown",
   "id": "85409470-f989-4472-bc68-6da7ac548f45",
   "metadata": {},
   "source": [
    "\n",
    "```julia\n",
    "# Define your dataset\n",
    "data = [1.2, 2.3, 3.4, 4.5, 5.6]  # Example dataset\n",
    "\n",
    "# Calculate the mean of the dataset\n",
    "μ = mean(data)\n",
    "\n",
    "# Print the calculated mean\n",
    "println(\"The mean of the dataset is: \", μ)\n",
    "```\n"
   ]
  },
  {
   "cell_type": "code",
   "execution_count": 9,
   "id": "82804131-d193-4851-b83b-6b8887d3a2c6",
   "metadata": {},
   "outputs": [],
   "source": [
    "using Statistics\n",
    "using Distributions"
   ]
  },
  {
   "cell_type": "code",
   "execution_count": 10,
   "id": "a0ab11ca-9bbd-4e14-9fdc-f3e26d99131f",
   "metadata": {},
   "outputs": [
    {
     "data": {
      "text/plain": [
       "TriangularDist{Float64}(a=4.0, b=6.0, c=5.0)"
      ]
     },
     "execution_count": 10,
     "metadata": {},
     "output_type": "execute_result"
    }
   ],
   "source": [
    "dist = TriangularDist(4,6,5)"
   ]
  },
  {
   "cell_type": "code",
   "execution_count": 11,
   "id": "28a30457-e2be-43d2-b522-4a8347fa158d",
   "metadata": {},
   "outputs": [],
   "source": [
    "N = 10^6\n",
    "data = rand(dist,N);"
   ]
  },
  {
   "cell_type": "code",
   "execution_count": 12,
   "id": "81c6dcee-238e-4f7c-a057-878f1132cbed",
   "metadata": {},
   "outputs": [],
   "source": [
    "using Markdown"
   ]
  },
  {
   "cell_type": "code",
   "execution_count": 13,
   "id": "925f9674-53a3-4472-9c8c-43d7c8572fc8",
   "metadata": {},
   "outputs": [
    {
     "data": {
      "text/plain": [
       "sum (generic function with 18 methods)"
      ]
     },
     "execution_count": 13,
     "metadata": {},
     "output_type": "execute_result"
    }
   ],
   "source": [
    "∑ = sum"
   ]
  },
  {
   "cell_type": "code",
   "execution_count": 14,
   "id": "ffa83c93-7ed6-491b-87cc-c6ef7dabb009",
   "metadata": {},
   "outputs": [
    {
     "data": {
      "text/latex": [
       "\\section{\\&\\#x1F4DD; Mean Function}\n",
       "$$\\mu = \\frac{1}{n}\\sum_{i=1}^{n}y_i$$\n"
      ],
      "text/markdown": [
       "# &#x1F4DD; Mean Function\n",
       "\n",
       "$$\n",
       "\\mu = \\frac{1}{n}\\sum_{i=1}^{n}y_i\n",
       "$$\n"
      ],
      "text/plain": [
       "\u001b[1m  &#x1F4DD; Mean Function\u001b[22m\n",
       "\u001b[1m  ≡≡≡≡≡≡≡≡≡≡≡≡≡≡≡≡≡≡≡≡≡≡≡\u001b[22m\n",
       "\n",
       "\u001b[35m  \\mu = \\frac{1}{n}\\sum_{i=1}^{n}y_i\u001b[39m"
      ]
     },
     "execution_count": 14,
     "metadata": {},
     "output_type": "execute_result"
    }
   ],
   "source": [
    "function mean_(data)\n",
    "\n",
    "    # Calculate the number of data points\n",
    "    n = length(data)\n",
    "\n",
    "    # Compute the mean by dividing the total sum by the number of data points\n",
    "    μ = 1/n * ∑(data)\n",
    "    return μ\n",
    "end\n",
    "Markdown.parse(raw\"\n",
    "# &#x1F4DD; Mean Function\n",
    "```math\n",
    "\\mu = \\frac{1}{n}\\sum_{i=1}^{n}y_i\n",
    "```\n",
    "\")"
   ]
  },
  {
   "cell_type": "code",
   "execution_count": 15,
   "id": "37aea777-7e5b-43fb-b571-22b0f35650ae",
   "metadata": {},
   "outputs": [
    {
     "data": {
      "text/plain": [
       "179.70369"
      ]
     },
     "execution_count": 15,
     "metadata": {},
     "output_type": "execute_result"
    }
   ],
   "source": [
    "μ = mean_(df[!,:pingstats])"
   ]
  },
  {
   "cell_type": "code",
   "execution_count": 19,
   "id": "fd6331f5-1f93-409a-9b48-1c7c98186568",
   "metadata": {},
   "outputs": [
    {
     "data": {
      "text/latex": [
       "\\section{\\&\\#x1F4DD; Variance Function}\n",
       "$$\\hat{\\sigma}^2 = \\frac{2}{n} \\sum_{i=1}^{n} (y_i - \\alpha)^2$$\n"
      ],
      "text/markdown": [
       "# &#x1F4DD; Variance Function\n",
       "\n",
       "$$\n",
       "\\hat{\\sigma}^2 = \\frac{2}{n} \\sum_{i=1}^{n} (y_i - \\alpha)^2\n",
       "$$\n"
      ],
      "text/plain": [
       "\u001b[1m  &#x1F4DD; Variance Function\u001b[22m\n",
       "\u001b[1m  ≡≡≡≡≡≡≡≡≡≡≡≡≡≡≡≡≡≡≡≡≡≡≡≡≡≡≡\u001b[22m\n",
       "\n",
       "\u001b[35m  \\hat{\\sigma}^2 = \\frac{2}{n} \\sum_{i=1}^{n} (y_i - \\alpha)^2\u001b[39m"
      ]
     },
     "execution_count": 19,
     "metadata": {},
     "output_type": "execute_result"
    }
   ],
   "source": [
    "Markdown.parse(raw\"\n",
    "# &#x1F4DD; Variance Function\n",
    "```math\n",
    "\\hat{\\sigma}^2 = \\frac{2}{n} \\sum_{i=1}^{n} (y_i - \\alpha)^2\n",
    "```\n",
    "\")"
   ]
  },
  {
   "cell_type": "markdown",
   "id": "63bbb4af-d0b1-4d42-bb6a-e332736eaa04",
   "metadata": {},
   "source": [
    "# &#x1F4DA; References\n"
   ]
  },
  {
   "cell_type": "code",
   "execution_count": null,
   "id": "c054b924-be18-4dd8-9dd0-984a55a883f8",
   "metadata": {},
   "outputs": [],
   "source": []
  }
 ],
 "metadata": {
  "kernelspec": {
   "display_name": "Julia 1.9.3",
   "language": "julia",
   "name": "julia-1.9"
  },
  "language_info": {
   "file_extension": ".jl",
   "mimetype": "application/julia",
   "name": "julia",
   "version": "1.10.0"
  }
 },
 "nbformat": 4,
 "nbformat_minor": 5
}
