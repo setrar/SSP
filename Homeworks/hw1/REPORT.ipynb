{
 "cells": [
  {
   "cell_type": "markdown",
   "id": "18cdc126-4d8f-49fe-b924-72d69b73289b",
   "metadata": {},
   "source": [
    "# &#x1F4DD; REPORT"
   ]
  },
  {
   "cell_type": "markdown",
   "id": "3d6ac38c-059f-49fb-b237-7c09e4fc50c3",
   "metadata": {},
   "source": [
    "# Homework &#x0031;&#xFE0F;&#x20E3; \n",
    "\n",
    "Homework policy: the homework is individual. Students are encouraged to discuss with fellow students to try to find the main structure of the solution for a problem, especially if they are totally stuck at the beginning of the problem. However, you should work out the details yourself and write down in your own words only what you understand yourself."
   ]
  },
  {
   "cell_type": "markdown",
   "id": "34e91283-0494-4de9-bbf3-56d7d25a0a78",
   "metadata": {},
   "source": [
    "\n",
    "In this problem, we consider the roundtrip delay in a computer network (internet) between the computer we’re working on and another computer connected to the network. This roundtrip delay will be different, every time we send a message. As such, it can be modeled as a random variable y. For the design of network protocols and for their performance evaluation, it is important to know the distribution of this random roundtrip delay. To turn the estimation of the roundtrip delay distribution into a parameter estimation problem, we shall take a parametric distribution, parameterized by one or more parameters. Since we don’t have too much information about this variable y (except that it should be positive), we shall try several parametric distributions. In particular, we shall consider the following distributions:\n",
    "\n",
    "$$\n",
    "\\text { * A Gaussian distribution: } \\qquad f_G (y|\\mu, \\sigma^2) = \\frac{1}{\\sqrt{2\\pi\\sigma^2}}  e^{-\\frac{(y−\\mu)^2}{2\\sigma^2}} \n",
    "$$\n",
    "\n",
    "$$\n",
    "\\text { * A Rayleigh distribution: } \\qquad f_R (y|\\sigma^2) = \n",
    "\\begin{cases}\n",
    "0 & , y < 0\n",
    "\\\\\n",
    "\\frac{y}{\\sigma^2}  e^{-\\frac{y^2}{2\\sigma^2}} & , y \\geq 0\n",
    "\\end{cases}\n",
    "$$\n",
    "\n",
    "$$\n",
    "\\text { * An Erlang distribution: } \\qquad f_{Em} (y|\\lambda) = \n",
    "\\begin{cases}\n",
    "0 & , y < 0\n",
    "\\\\\n",
    "\\frac{\\lambda^{m+1}}{m!} y^me^{\\lambda y} & , y \\geq 0\n",
    "\\end{cases} \n",
    "\\\\\n",
    "\\text{ for different values of } m \\in \\{0,1,2\\}.\n",
    "\\\\\n",
    "\\\\\n",
    "\\text{ Remark that for m = 0 we have an exponential density: }\n",
    "\\\\\n",
    "f_{E0}(y|\\lambda) = \n",
    "\\begin{cases}\n",
    "0 & , y < 0\n",
    "\\\\\n",
    "\\lambda e^{-\\lambda y} & , y \\geq 0\n",
    "\\end{cases}\n",
    "$$\n",
    "\n",
    "$$\n",
    "\\text{ * A (shifted) exponential density: } \\qquad f_{exp}(y|\\lambda,\\alpha) = \n",
    "\\begin{cases}\n",
    "0 & , y < 0\n",
    "\\\\\n",
    "\\lambda e^{-\\lambda(y - \\alpha)} & , y \\geq 0\n",
    "\\end{cases}\n",
    "$$"
   ]
  },
  {
   "cell_type": "markdown",
   "id": "ecb4e6a0-47b8-4cc0-9b60-dd99d6a672bb",
   "metadata": {},
   "source": [
    "#### **&#x1F516;** **(&#x2170;)** Assume we collect n i.i.d. measurements $y_1, . . . , y_n$ that we can put into a vector $Y = [y_1, y_2, . . . , y_n]^T$ . For each of the parametric distributions $f_i(Y | \\theta), i \\in {G, R, E0, E1, E2, exp}$, determine the Maximum Likelihood estimate $\\hat{\\theta}_{ML,i}$ of the parameter(s) $\\theta$ involved."
   ]
  },
  {
   "cell_type": "markdown",
   "id": "dc509581-f206-4fa8-94ed-7297a4f6512f",
   "metadata": {},
   "source": [
    "**&#x1F516;** Your raw data?"
   ]
  },
  {
   "cell_type": "code",
   "execution_count": 1,
   "id": "1131459e-bbd4-4406-827e-95fe01f24938",
   "metadata": {},
   "outputs": [],
   "source": [
    "using DataFrames, CSV"
   ]
  },
  {
   "cell_type": "code",
   "execution_count": 2,
   "id": "9a236f89-c5ff-450d-a4e8-0c80b62a7c98",
   "metadata": {},
   "outputs": [],
   "source": [
    "df = CSV.File(\"stats.txt\") |> DataFrame;"
   ]
  },
  {
   "cell_type": "code",
   "execution_count": 3,
   "id": "6d3a72c8-84f5-4115-84ab-69116232835e",
   "metadata": {},
   "outputs": [],
   "source": [
    "using PrettyTables"
   ]
  },
  {
   "cell_type": "code",
   "execution_count": 4,
   "id": "76e687bc-2c24-46d8-b450-cbe3f94d9473",
   "metadata": {},
   "outputs": [],
   "source": [
    "header = (\n",
    "      [\"pingstats\"]\n",
    "    , [\"[Float64]\"]\n",
    ");"
   ]
  },
  {
   "cell_type": "code",
   "execution_count": 5,
   "id": "0084fdeb-5d4e-4b1c-9b85-900e1dc2f0bd",
   "metadata": {},
   "outputs": [
    {
     "name": "stdout",
     "output_type": "stream",
     "text": [
      "y[1:3] = [158.991, 152.726, 152.736]\n"
     ]
    }
   ],
   "source": [
    "y = df[!,\"pingstats\"]; @show y[1:3];"
   ]
  },
  {
   "cell_type": "code",
   "execution_count": 6,
   "id": "558311d4-7fa5-4d09-ae26-18286a800a02",
   "metadata": {},
   "outputs": [
    {
     "data": {
      "text/html": [
       "<!DOCTYPE html>\n",
       "<html>\n",
       "<meta charset=\"UTF-8\">\n",
       "<head>\n",
       "<style>\n",
       "  table, td, th {\n",
       "      border-collapse: collapse;\n",
       "      font-family: sans-serif;\n",
       "  }\n",
       "\n",
       "  td, th {\n",
       "      border-bottom: 0;\n",
       "      padding: 4px\n",
       "  }\n",
       "\n",
       "  tr:nth-child(odd) {\n",
       "      background: #eee;\n",
       "  }\n",
       "\n",
       "  tr:nth-child(even) {\n",
       "      background: #fff;\n",
       "  }\n",
       "\n",
       "  tr.header {\n",
       "      background: navy !important;\n",
       "      color: white;\n",
       "      font-weight: bold;\n",
       "  }\n",
       "\n",
       "  tr.subheader {\n",
       "      background: lightgray !important;\n",
       "      color: black;\n",
       "  }\n",
       "\n",
       "  tr.headerLastRow {\n",
       "      border-bottom: 2px solid black;\n",
       "  }\n",
       "\n",
       "  th.rowNumber, td.rowNumber {\n",
       "      text-align: right;\n",
       "  }\n",
       "\n",
       "</style>\n",
       "</head>\n",
       "<body>\n",
       "<table>\n",
       "  <thead>\n",
       "    <tr class = \"header\">\n",
       "      <th style = \"text-align: right;\">pingstats</th>\n",
       "    </tr>\n",
       "    <tr class = \"subheader headerLastRow\">\n",
       "      <th style = \"text-align: right;\">[Float64]</th>\n",
       "    </tr>\n",
       "  </thead>\n",
       "  <tbody>\n",
       "    <tr>\n",
       "      <td style = \"text-align: right;\">158.991</td>\n",
       "    </tr>\n",
       "    <tr>\n",
       "      <td style = \"text-align: right;\">152.726</td>\n",
       "    </tr>\n",
       "    <tr>\n",
       "      <td style = \"text-align: right;\">152.736</td>\n",
       "    </tr>\n",
       "  </tbody>\n",
       "</table>\n",
       "</body>\n",
       "</html>\n"
      ]
     },
     "metadata": {},
     "output_type": "display_data"
    }
   ],
   "source": [
    "pretty_table(\n",
    "    first(y, 3)\n",
    "    , backend=Val(:html), header = header, standalone=true)"
   ]
  },
  {
   "cell_type": "code",
   "execution_count": 7,
   "id": "ec0753b8-9efe-4024-ac38-e1f20d772e93",
   "metadata": {},
   "outputs": [],
   "source": [
    "using Statistics\n",
    "using StatsPlots"
   ]
  },
  {
   "cell_type": "code",
   "execution_count": 8,
   "id": "fdb52ff8-f40f-4362-a481-d4c8f7b8ae0f",
   "metadata": {},
   "outputs": [
    {
     "data": {
      "text/plain": [
       "100"
      ]
     },
     "execution_count": 8,
     "metadata": {},
     "output_type": "execute_result"
    }
   ],
   "source": [
    "# Global Operations and constants\n",
    "∑ = sum\n",
    "n = length(y) # Lenght of data used all along"
   ]
  },
  {
   "cell_type": "code",
   "execution_count": 9,
   "id": "a321c281-08b5-40de-9df0-ebf34c7d5152",
   "metadata": {},
   "outputs": [],
   "source": [
    "using Markdown"
   ]
  },
  {
   "cell_type": "markdown",
   "id": "1733ca48-f458-4aa8-b065-4944edafff95",
   "metadata": {},
   "source": [
    "---"
   ]
  },
  {
   "cell_type": "markdown",
   "id": "2c4fec07-71e9-4c17-8fc7-e85b634a3b51",
   "metadata": {},
   "source": [
    "#### &#x1F4DD; Gaussian Distribution\n",
    "\n",
    "Given the probability density function (PDF) of a Gaussian (normal) distribution\n",
    "\n",
    "$ f_G(y|\\mu, \\sigma^2) = \\frac{1}{\\sqrt{2\\pi\\sigma^2}} e^{-\\frac{(y-\\mu)^2}{2\\sigma^2}} $\n",
    "\n",
    "and a dataset $Y = \\{y_1, y_2, \\ldots, y_n\\}$, we want to find the Maximum Likelihood Estimators (MLEs) for the parameters $\\mu$ (mean) and $\\sigma^2$ (variance).\n",
    "\n",
    "### Finding $\\mu$ and $\\sigma^2$\n",
    "\n",
    "The MLEs for $\\mu$ and $\\sigma^2$ are found by maximizing the log-likelihood function derived from the given PDF.\n",
    "\n",
    "#### Log-Likelihood Function\n",
    "\n",
    "The log-likelihood function for the Gaussian distribution, given $n$ data points, is:\n",
    "\n",
    "$ L(\\mu, \\sigma^2 | Y) = -\\frac{n}{2} \\ln(2\\pi\\sigma^2) - \\frac{1}{2\\sigma^2} \\sum_{i=1}^{n} (y - \\mu)^2 $\n",
    "\n",
    "#### Maximizing the Log-Likelihood\n",
    "\n",
    "To find the MLEs, we take the partial derivatives of $L(\\mu, \\sigma^2 | Y)$ with respect to $\\mu$ and $\\sigma^2$, set them to zero, and solve for $\\mu$ and $\\sigma^2$.\n",
    "\n",
    "1. **For $\\mu$:**\n",
    "\n",
    "$ \\frac{\\partial L}{\\partial \\mu} = \\frac{1}{\\sigma^2} \\sum_{i=1}^{n} (y - \\mu) = 0 $\n",
    "\n",
    "Solving this for $\\mu$ gives:\n",
    "\n",
    "$ \\hat{\\mu} = \\frac{1}{n} \\sum_{i=1}^{n} y $\n",
    "\n",
    "This is the sample mean of the data.\n",
    "\n",
    "2. **For $\\sigma^2$:**\n",
    "\n",
    "$ \\frac{\\partial L}{\\partial \\sigma^2} = -\\frac{n}{2\\sigma^2} + \\frac{1}{2(\\sigma^2)^2} \\sum_{i=1}^{n} (y - \\mu)^2 = 0 $\n",
    "\n",
    "Solving for $\\sigma^2$ gives:\n",
    "\n",
    "$ \\hat{\\sigma}^2 = \\frac{1}{n} \\sum_{i=1}^{n} (y - \\hat{\\mu})^2 $\n",
    "\n",
    "This is the sample variance of the data.\n",
    "\n",
    "### Summary\n",
    "\n",
    "- The MLE of $\\mu$ ($\\hat{\\mu}$) is the sample mean.\n",
    "- The MLE of $\\sigma^2$ ($\\hat{\\sigma}^2$) is the sample variance (without Bessel's correction)."
   ]
  },
  {
   "cell_type": "markdown",
   "id": "05c3f314-40c3-443a-bd96-ddeed05be437",
   "metadata": {},
   "source": [
    "## &#x1F518; $\\mu_G$=? ($\\mu_G$)"
   ]
  },
  {
   "cell_type": "code",
   "execution_count": 10,
   "id": "a037760e-9f5e-4f01-896e-73ba29fc9709",
   "metadata": {},
   "outputs": [
    {
     "data": {
      "text/latex": [
       "\\paragraph{\\&\\#x1F4DD; Estimated Gaussian Mean}\n",
       "$$\\hat{\\mu}_G = \\frac{1}{n} \\sum_{i=1}^{n} y \\qquad \\{i: \\in 1,\\cdots,n\\}$$\n"
      ],
      "text/markdown": [
       "#### &#x1F4DD; Estimated Gaussian Mean\n",
       "\n",
       "$$\n",
       "\\hat{\\mu}_G = \\frac{1}{n} \\sum_{i=1}^{n} y \\qquad \\{i: \\in 1,\\cdots,n\\}\n",
       "$$\n"
      ],
      "text/plain": [
       "\u001b[1m  &#x1F4DD; Estimated Gaussian Mean\u001b[22m\n",
       "\u001b[1m  ---------------------------------\u001b[22m\n",
       "\n",
       "\u001b[35m  \\hat{\\mu}_G = \\frac{1}{n} \\sum_{i=1}^{n} y \\qquad \\{i: \\in 1,\\cdots,n\\}\u001b[39m"
      ]
     },
     "execution_count": 10,
     "metadata": {},
     "output_type": "execute_result"
    }
   ],
   "source": [
    "Markdown.parse(raw\"\n",
    "#### &#x1F4DD; Estimated Gaussian Mean\n",
    "```math\n",
    "\\hat{\\mu}_G = \\frac{1}{n} \\sum_{i=1}^{n} y \\qquad \\{i: \\in 1,\\cdots,n\\}\n",
    "```\n",
    "\")"
   ]
  },
  {
   "cell_type": "code",
   "execution_count": 11,
   "id": "f4fd48ca-ee0b-42d8-b432-b0f05084a55d",
   "metadata": {},
   "outputs": [
    {
     "name": "stdout",
     "output_type": "stream",
     "text": [
      "The estimated mean μ̂ of the dataset is: 180.0\n"
     ]
    }
   ],
   "source": [
    "# Compute the mean by dividing the total sum by the number of data points\n",
    "μ̂𝐺 = 1/n * ∑([yᵢ for yᵢ in y])\n",
    "\n",
    "# Print the calculated mean\n",
    "println(\"The estimated mean μ̂ of the dataset is: \", round(μ̂𝐺))"
   ]
  },
  {
   "cell_type": "markdown",
   "id": "b2b8a399-d27e-4617-886e-d77c73766da5",
   "metadata": {},
   "source": [
    "## &#x1F518; $\\sigma_G$=? ($\\sigma_G^2$)"
   ]
  },
  {
   "cell_type": "code",
   "execution_count": 12,
   "id": "0f2008be-8315-476e-85d0-21e3bf7da1b9",
   "metadata": {},
   "outputs": [
    {
     "data": {
      "text/latex": [
       "\\paragraph{\\&\\#x1F4DD; Estimated Gaussian Variance}\n",
       "$$\\hat{\\sigma}_G^2 = \\frac{1}{n} \\sum_{i=1}^{n} (y_i - \\hat{\\mu}_G)^2 \\qquad \\{i: \\in 1,\\cdots,n\\}$$\n",
       "with Bessel's correction replace $\\frac{1}{n}$ by $\\frac{1}{n - 1}$\n",
       "\n"
      ],
      "text/markdown": [
       "#### &#x1F4DD; Estimated Gaussian Variance\n",
       "\n",
       "$$\n",
       "\\hat{\\sigma}_G^2 = \\frac{1}{n} \\sum_{i=1}^{n} (y_i - \\hat{\\mu}_G)^2 \\qquad \\{i: \\in 1,\\cdots,n\\}\n",
       "$$\n",
       "\n",
       "with Bessel's correction replace $\\frac{1}{n}$ by $\\frac{1}{n - 1}$\n"
      ],
      "text/plain": [
       "\u001b[1m  &#x1F4DD; Estimated Gaussian Variance\u001b[22m\n",
       "\u001b[1m  -------------------------------------\u001b[22m\n",
       "\n",
       "\u001b[35m  \\hat{\\sigma}_G^2 = \\frac{1}{n} \\sum_{i=1}^{n} (y_i - \\hat{\\mu}_G)^2 \\qquad \\{i: \\in 1,\\cdots,n\\}\u001b[39m\n",
       "\n",
       "  with Bessel's correction replace \u001b[35m\\frac{1}{n}\u001b[39m by \u001b[35m\\frac{1}{n - 1}\u001b[39m"
      ]
     },
     "execution_count": 12,
     "metadata": {},
     "output_type": "execute_result"
    }
   ],
   "source": [
    "Markdown.parse(raw\"\n",
    "#### &#x1F4DD; Estimated Gaussian Variance\n",
    "```math\n",
    "\\hat{\\sigma}_G^2 = \\frac{1}{n} \\sum_{i=1}^{n} (y_i - \\hat{\\mu}_G)^2 \\qquad \\{i: \\in 1,\\cdots,n\\}\n",
    "```\n",
    "with Bessel's correction replace $\\frac{1}{n}$ by $\\frac{1}{n - 1}$\n",
    "\")"
   ]
  },
  {
   "cell_type": "code",
   "execution_count": 13,
   "id": "c6599c8d-c575-47a5-9c1d-3b16ee4e433f",
   "metadata": {},
   "outputs": [
    {
     "name": "stdout",
     "output_type": "stream",
     "text": [
      "The calculated variance σ𝐺² of the dataset is: 576.0\n"
     ]
    }
   ],
   "source": [
    "# Calculate the variance (this is σ_G^2)\n",
    "σ̂𝐺² = 1/n * ∑([(yᵢ - μ̂𝐺)^2 for yᵢ in y]) # or σ̂𝐺² = var(y, corrected=false) if using Statistics package\n",
    "\n",
    "# Print the calculated variance\n",
    "println(\"The calculated variance σ𝐺² of the dataset is: \", round(σ̂𝐺²))"
   ]
  },
  {
   "cell_type": "code",
   "execution_count": 14,
   "id": "ae0f4844-02ac-4aec-a0f7-ab3dd11b6200",
   "metadata": {},
   "outputs": [
    {
     "data": {
      "text/latex": [
       "\\paragraph{\\&\\#x1F4DD; Estimated Gaussian Standard Deviation}\n",
       "$$\\hat{\\sigma}_G = \\sqrt{\\hat{\\sigma}_G^2}$$\n"
      ],
      "text/markdown": [
       "#### &#x1F4DD; Estimated Gaussian Standard Deviation\n",
       "\n",
       "$$\n",
       "\\hat{\\sigma}_G = \\sqrt{\\hat{\\sigma}_G^2}\n",
       "$$\n"
      ],
      "text/plain": [
       "\u001b[1m  &#x1F4DD; Estimated Gaussian Standard Deviation\u001b[22m\n",
       "\u001b[1m  -----------------------------------------------\u001b[22m\n",
       "\n",
       "\u001b[35m  \\hat{\\sigma}_G = \\sqrt{\\hat{\\sigma}_G^2}\u001b[39m"
      ]
     },
     "execution_count": 14,
     "metadata": {},
     "output_type": "execute_result"
    }
   ],
   "source": [
    "Markdown.parse(raw\"\n",
    "#### &#x1F4DD; Estimated Gaussian Standard Deviation\n",
    "```math\n",
    "\\hat{\\sigma}_G = \\sqrt{\\hat{\\sigma}_G^2}\n",
    "```\n",
    "\")"
   ]
  },
  {
   "cell_type": "code",
   "execution_count": 15,
   "id": "5cc0f8ae-5044-4196-80a4-b0e95eb6f48d",
   "metadata": {},
   "outputs": [
    {
     "name": "stdout",
     "output_type": "stream",
     "text": [
      "calculated standard deviation σ̂𝐺 = 24.0\n"
     ]
    }
   ],
   "source": [
    "# Calculate the standard deviation (\\hat{\\sigma}_G)\n",
    "σ̂𝐺 = √(σ̂𝐺²)\n",
    "\n",
    "println(\"calculated standard deviation σ̂𝐺 = \", round(σ̂𝐺))"
   ]
  },
  {
   "cell_type": "markdown",
   "id": "43adba42-0da4-47ba-b244-c5dde8c74f41",
   "metadata": {},
   "source": [
    "## &#x1F518; $L_G$ =?"
   ]
  },
  {
   "cell_type": "code",
   "execution_count": 16,
   "id": "71022ca7-efec-459f-990c-ee3051580067",
   "metadata": {},
   "outputs": [
    {
     "data": {
      "text/latex": [
       "\\paragraph{\\&\\#x1F4DD; Gaussian Log-Likelihood}\n",
       "$$\\mathcal{L}_G(\\mu_G, \\sigma_G^2) = -\\frac{n}{2} \\log(2\\pi\\sigma_G^2) - \\frac{1}{2\\sigma_G^2} \\sum_{i=1}^{n} (y_i - \\mu_G)^2$$\n"
      ],
      "text/markdown": [
       "#### &#x1F4DD; Gaussian Log-Likelihood\n",
       "\n",
       "$$\n",
       "\\mathcal{L}_G(\\mu_G, \\sigma_G^2) = -\\frac{n}{2} \\log(2\\pi\\sigma_G^2) - \\frac{1}{2\\sigma_G^2} \\sum_{i=1}^{n} (y_i - \\mu_G)^2\n",
       "$$\n"
      ],
      "text/plain": [
       "\u001b[1m  &#x1F4DD; Gaussian Log-Likelihood\u001b[22m\n",
       "\u001b[1m  ---------------------------------\u001b[22m\n",
       "\n",
       "\u001b[35m  \\mathcal{L}_G(\\mu_G, \\sigma_G^2) = -\\frac{n}{2} \\log(2\\pi\\sigma_G^2) - \\frac{1}{2\\sigma_G^2} \\sum_{i=1}^{n} (y_i - \\mu_G)^2\u001b[39m"
      ]
     },
     "execution_count": 16,
     "metadata": {},
     "output_type": "execute_result"
    }
   ],
   "source": [
    "Markdown.parse(raw\"\n",
    "#### &#x1F4DD; Gaussian Log-Likelihood\n",
    "```math\n",
    "\\mathcal{L}_G(\\mu_G, \\sigma_G^2) = -\\frac{n}{2} \\log(2\\pi\\sigma_G^2) - \\frac{1}{2\\sigma_G^2} \\sum_{i=1}^{n} (y_i - \\mu_G)^2\n",
    "```\n",
    "\")"
   ]
  },
  {
   "cell_type": "code",
   "execution_count": 17,
   "id": "91a8cab5-3d11-4cca-a832-a91f2ad55b12",
   "metadata": {},
   "outputs": [
    {
     "name": "stdout",
     "output_type": "stream",
     "text": [
      "Log-likelihood 𝓛𝐺: -460.0\n"
     ]
    }
   ],
   "source": [
    "# Compute the log-likelihood 𝓛G \n",
    "𝓛𝐺 = -n/2 * log(2π * σ̂𝐺²) - 1/(2*σ̂𝐺²) * ∑((y .- μ̂𝐺).^2) # typed \\bscrL\n",
    "\n",
    "println(\"Log-likelihood 𝓛𝐺: \", round(𝓛𝐺))"
   ]
  },
  {
   "cell_type": "markdown",
   "id": "f2c9cdf2-966b-413d-acac-6e516ab094e4",
   "metadata": {},
   "source": [
    "---"
   ]
  },
  {
   "cell_type": "markdown",
   "id": "1b24600f-9e96-4409-a85a-3e92cb23cd1a",
   "metadata": {},
   "source": [
    "#### &#x1F4DD; Rayleigh Distribution\n",
    "\n",
    "Given the probability density function (PDF) of a Rayleigh distribution\n",
    "\n",
    "$ f(y|\\sigma^2) = \\frac{y}{\\sigma^2} e^{-\\frac{y^2}{2\\sigma^2}}, \\quad y \\geq 0 $\n",
    "\n",
    "and a dataset $Y = \\{y_1, y_2, ..., y_n\\}$, to find the scale parameter $\\sigma^2$, we use the method of Maximum Likelihood Estimation (MLE).\n",
    "\n",
    "Step 1: Log-Likelihood Function\n",
    "\n",
    "The first step is to write down the log-likelihood function based on the given PDF. For the Rayleigh distribution, the log-likelihood function $L_R(\\sigma^2)$ for the dataset is:\n",
    "\n",
    "$ L_R(\\sigma^2) = \\sum_{i=1}^{n} \\ln\\left(\\frac{y}{\\sigma^2}\\right) - \\frac{y^2}{2\\sigma^2} $\n",
    "\n",
    "Simplifying, we get:\n",
    "\n",
    "$ L_R(\\sigma^2) = \\sum_{i=1}^{n} \\ln(y) - n \\ln(\\sigma^2) - \\frac{1}{2\\sigma^2}\\sum_{i=1}^{n} y^2 $\n",
    "\n",
    "Step 2: Differentiate and Solve for $\\sigma^2$\n",
    "\n",
    "To find the MLE of $\\sigma^2$, differentiate $L_R(\\sigma^2)$ with respect to $\\sigma^2$ and set the derivative to zero:\n",
    "\n",
    "$ \\frac{dL_R}{d\\sigma^2} = -\\frac{n}{\\sigma^2} + \\frac{1}{2(\\sigma^2)^2}\\sum_{i=1}^{n} y^2 = 0 $\n",
    "\n",
    "Solving for $\\sigma^2$, we find:\n",
    "\n",
    "$ \\hat{\\sigma}^2 = \\frac{1}{2n}\\sum_{i=1}^{n} y^2 $\n",
    "\n",
    "### Conclusion\n",
    "\n",
    "The MLE for the scale parameter $\\sigma^2$ of a Rayleigh distribution, given a set of observations $Y$, is the sum of the squared observations divided by twice the number of observations. This result directly provides the estimate of $\\sigma^2$ from the data."
   ]
  },
  {
   "cell_type": "markdown",
   "id": "3629a8b1-aca9-415f-a9ca-d05c76906bda",
   "metadata": {},
   "source": [
    "## &#x1F518; $\\sigma_R$=? ($\\sigma_R^2$)"
   ]
  },
  {
   "cell_type": "code",
   "execution_count": 18,
   "id": "d88476a8-fc60-48f8-ab4f-b7547170168d",
   "metadata": {},
   "outputs": [
    {
     "data": {
      "text/latex": [
       "\\paragraph{\\&\\#x1F4DD; Estimated Rayleigh Variance}\n",
       "$$\\hat{\\sigma}_R^2 = \\frac{1}{2n} \\sum_{i=1}^n y_i^2  \\qquad \\{i: \\in 1,\\cdots,n\\}$$\n"
      ],
      "text/markdown": [
       "#### &#x1F4DD; Estimated Rayleigh Variance\n",
       "\n",
       "$$\n",
       "\\hat{\\sigma}_R^2 = \\frac{1}{2n} \\sum_{i=1}^n y_i^2  \\qquad \\{i: \\in 1,\\cdots,n\\}\n",
       "$$\n"
      ],
      "text/plain": [
       "\u001b[1m  &#x1F4DD; Estimated Rayleigh Variance\u001b[22m\n",
       "\u001b[1m  -------------------------------------\u001b[22m\n",
       "\n",
       "\u001b[35m  \\hat{\\sigma}_R^2 = \\frac{1}{2n} \\sum_{i=1}^n y_i^2  \\qquad \\{i: \\in 1,\\cdots,n\\}\u001b[39m"
      ]
     },
     "execution_count": 18,
     "metadata": {},
     "output_type": "execute_result"
    }
   ],
   "source": [
    "Markdown.parse(raw\"\n",
    "#### &#x1F4DD; Estimated Rayleigh Variance\n",
    "```math\n",
    "\\hat{\\sigma}_R^2 = \\frac{1}{2n} \\sum_{i=1}^n y_i^2  \\qquad \\{i: \\in 1,\\cdots,n\\}\n",
    "```\n",
    "\")"
   ]
  },
  {
   "cell_type": "code",
   "execution_count": 19,
   "id": "2caef87d-4f15-4e1b-84de-b43bd11430b1",
   "metadata": {},
   "outputs": [
    {
     "name": "stdout",
     "output_type": "stream",
     "text": [
      "Estimated parameter σ̂𝑅² = 16435.0\n"
     ]
    }
   ],
   "source": [
    "# Estimate sigma^2 (sigma squared) for Rayleigh distribution\n",
    "σ̂𝑅² = 1/2n * ∑([yᵢ^2 for yᵢ in y]) # or ∑(y_i .^ 2) when squaring element-wise \n",
    "\n",
    "# Display the estimated parameter\n",
    "println(\"Estimated parameter σ̂𝑅² = \", round(σ̂𝑅²));"
   ]
  },
  {
   "cell_type": "code",
   "execution_count": 20,
   "id": "9ed84e93-e3dc-424d-9ff6-f91bf8fe2dc0",
   "metadata": {},
   "outputs": [
    {
     "name": "stdout",
     "output_type": "stream",
     "text": [
      "calculated standard deviation σ̂𝑅 = 128.0\n"
     ]
    }
   ],
   "source": [
    "# Calculate the standard deviation (σ_R)\n",
    "σ̂𝑅 = √(σ̂𝑅²)\n",
    "\n",
    "println(\"calculated standard deviation σ̂𝑅 = \", round(σ̂𝑅))"
   ]
  },
  {
   "cell_type": "markdown",
   "id": "c521d653-1652-4d23-adab-52ce7b1d8a45",
   "metadata": {},
   "source": [
    "## &#x1F518; $L_R$ =?"
   ]
  },
  {
   "cell_type": "code",
   "execution_count": 21,
   "id": "75b2258d-ca8d-4b34-8b40-5973b40bd7b7",
   "metadata": {},
   "outputs": [
    {
     "data": {
      "text/latex": [
       "\\paragraph{\\&\\#x1F4DD; Rayleigh Log-Likelihood}\n",
       "$$\\ln \\mathcal{L}_R(\\sigma|Y) = \\sum_{i=1}^{n} \\ln(y_i) - n\\ln(\\sigma^2) - \\frac{1}{2\\sigma^2} \\sum_{i=1}^{n} y_i^2$$\n"
      ],
      "text/markdown": [
       "#### &#x1F4DD; Rayleigh Log-Likelihood\n",
       "\n",
       "$$\n",
       "\\ln \\mathcal{L}_R(\\sigma|Y) = \\sum_{i=1}^{n} \\ln(y_i) - n\\ln(\\sigma^2) - \\frac{1}{2\\sigma^2} \\sum_{i=1}^{n} y_i^2\n",
       "$$\n"
      ],
      "text/plain": [
       "\u001b[1m  &#x1F4DD; Rayleigh Log-Likelihood\u001b[22m\n",
       "\u001b[1m  ---------------------------------\u001b[22m\n",
       "\n",
       "\u001b[35m  \\ln \\mathcal{L}_R(\\sigma|Y) = \\sum_{i=1}^{n} \\ln(y_i) - n\\ln(\\sigma^2) - \\frac{1}{2\\sigma^2} \\sum_{i=1}^{n} y_i^2\u001b[39m"
      ]
     },
     "execution_count": 21,
     "metadata": {},
     "output_type": "execute_result"
    }
   ],
   "source": [
    "Markdown.parse(raw\"\n",
    "#### &#x1F4DD; Rayleigh Log-Likelihood\n",
    "```math\n",
    "\\ln \\mathcal{L}_R(\\sigma|Y) = \\sum_{i=1}^{n} \\ln(y_i) - n\\ln(\\sigma^2) - \\frac{1}{2\\sigma^2} \\sum_{i=1}^{n} y_i^2\n",
    "```\n",
    "\")\n"
   ]
  },
  {
   "cell_type": "code",
   "execution_count": 22,
   "id": "cc7b5183-6dad-490e-8977-debfaa342598",
   "metadata": {},
   "outputs": [
    {
     "name": "stdout",
     "output_type": "stream",
     "text": [
      "Log-likelihood 𝓛𝑅: -552.0\n"
     ]
    }
   ],
   "source": [
    "𝓛𝑅 = ∑(log.(y)) - n * log(σ̂𝑅²) - 1 / (2 * σ̂𝑅²) * ∑(y .^ 2) \n",
    "println(\"Log-likelihood 𝓛𝑅: \", round(𝓛𝑅))"
   ]
  },
  {
   "cell_type": "markdown",
   "id": "e7ab55ca-39e1-4625-a3b1-b31b0add3a54",
   "metadata": {},
   "source": [
    "---"
   ]
  },
  {
   "cell_type": "markdown",
   "id": "61b2ac62-2068-4746-b4dd-0a7a32bb8e39",
   "metadata": {},
   "source": [
    "## &#x1F518; $\\lambda_{E0}$=? ($\\lambda_{E0}$)"
   ]
  },
  {
   "cell_type": "markdown",
   "id": "52d61e59-9d33-43b5-9b98-5c8cd02a35fc",
   "metadata": {},
   "source": [
    "#### &#x1F4DD; Erlang distribution where $m = 0$\n",
    "\n",
    "For $m = 0$, which aligns with an exponential distribution rather than the Erlang distribution, the probability density function (PDF) is given as:\n",
    "\n",
    "$ f_{E0}(y|\\lambda) = \\lambda e^{-\\lambda y}, \\quad y \\geq 0 $\n",
    "\n",
    "To find the rate parameter $\\lambda$ using a set of data $Y = \\{y_1, y_2, ..., y_n\\}$, you can use the method of Maximum Likelihood Estimation (MLE).\n",
    "\n",
    "* Step 1: Write the Likelihood Function\n",
    "\n",
    "The likelihood function for the exponential distribution, given the dataset $Y$, is:\n",
    "\n",
    "$ \\mathcal{L}(\\lambda) = \\prod_{i=1}^{n} \\lambda e^{-\\lambda y_i} = \\lambda^n e^{-\\lambda \\sum_{i=1}^{n} y_i} $\n",
    "\n",
    "* Step 2: Log-Likelihood Function\n",
    "\n",
    "Taking the natural logarithm of the likelihood function gives the log-likelihood function:\n",
    "\n",
    "$ \\ln \\mathcal{L}(\\lambda) = n \\ln(\\lambda) - \\lambda \\sum_{i=1}^{n} y_i $\n",
    "\n",
    "* Step 3: Differentiate and Solve for $\\lambda$\n",
    "\n",
    "Differentiating the log-likelihood function with respect to $\\lambda$ gives:\n",
    "\n",
    "$ \\frac{d}{d\\lambda} \\ln \\mathcal{L}(\\lambda) = \\frac{n}{\\lambda} - \\sum_{i=1}^{n} y_i $\n",
    "\n",
    "Setting this derivative equal to zero and solving for $\\lambda$ yields:\n",
    "\n",
    "$ \\hat{\\lambda} = \\frac{n}{\\sum_{i=1}^{n} y_i} $\n",
    "\n",
    "### Conclusion\n",
    "\n",
    "The MLE of $\\lambda$ for an exponential distribution, given a set of observations, is the number of observations $n$ divided by the sum of all observations. This provides a straightforward way to estimate $\\lambda$ directly from your data."
   ]
  },
  {
   "cell_type": "code",
   "execution_count": 23,
   "id": "2be66a4a-6c5b-4e1f-8778-0b3bbba36b41",
   "metadata": {},
   "outputs": [
    {
     "data": {
      "text/latex": [
       "\\paragraph{\\&\\#x1F4DD; Estimating $\\lambda_{E0}$ from data}\n",
       "$$\\hat{\\lambda}_{E_0} = \\frac{1}{\\bar{y}} = \\frac{n}{\\sum_{i=1}^{n} y}  \\qquad \\{i: \\in 1,\\cdots,n\\}$$\n"
      ],
      "text/markdown": [
       "#### &#x1F4DD; Estimating $\\lambda_{E0}$ from data\n",
       "\n",
       "$$\n",
       "\\hat{\\lambda}_{E_0} = \\frac{1}{\\bar{y}} = \\frac{n}{\\sum_{i=1}^{n} y}  \\qquad \\{i: \\in 1,\\cdots,n\\}\n",
       "$$\n"
      ],
      "text/plain": [
       "\u001b[1m  &#x1F4DD; Estimating \u001b[35m\\lambda_{E0}\u001b[39m from data\u001b[22m\n",
       "\u001b[1m  -------------------------------------------\u001b[22m\n",
       "\n",
       "\u001b[35m  \\hat{\\lambda}_{E_0} = \\frac{1}{\\bar{y}} = \\frac{n}{\\sum_{i=1}^{n} y}  \\qquad \\{i: \\in 1,\\cdots,n\\}\u001b[39m"
      ]
     },
     "execution_count": 23,
     "metadata": {},
     "output_type": "execute_result"
    }
   ],
   "source": [
    "Markdown.parse(raw\"\n",
    "#### &#x1F4DD; Estimating $\\lambda_{E0}$ from data\n",
    "```math\n",
    "\\hat{\\lambda}_{E_0} = \\frac{1}{\\bar{y}} = \\frac{n}{\\sum_{i=1}^{n} y}  \\qquad \\{i: \\in 1,\\cdots,n\\}\n",
    "```\n",
    "\")"
   ]
  },
  {
   "cell_type": "code",
   "execution_count": 24,
   "id": "9b1909ad-80e3-4a0c-91a6-3385d3d85b05",
   "metadata": {},
   "outputs": [
    {
     "name": "stdout",
     "output_type": "stream",
     "text": [
      "Estimated rate parameter λ̂𝐸₀ = 0.006\n"
     ]
    }
   ],
   "source": [
    "# Estimate λ for the exponential distribution\n",
    "λ̂𝐸₀ = n / ∑([yᵢ for yᵢ in y])\n",
    "\n",
    "println(\"Estimated rate parameter λ̂𝐸₀ = \", round(λ̂𝐸₀, digits = 3))"
   ]
  },
  {
   "cell_type": "markdown",
   "id": "7a872011-415d-4300-8a3f-aa5b12a99fd9",
   "metadata": {},
   "source": [
    "## &#x1F518; $L_{E0}$ =?"
   ]
  },
  {
   "cell_type": "code",
   "execution_count": 25,
   "id": "66db5559-ac12-4113-b6bc-3fcdfe061d5b",
   "metadata": {},
   "outputs": [
    {
     "data": {
      "text/latex": [
       "\\paragraph{\\&\\#x1F4DD; Erlang Log-Likelihood when m = 0}\n",
       "$$\\ln \\mathcal{L}(\\lambda)_{E_0} = n \\ln(\\lambda) - \\lambda \\sum_{i=1}^{n} y$$\n"
      ],
      "text/markdown": [
       "#### &#x1F4DD; Erlang Log-Likelihood when m = 0\n",
       "\n",
       "$$\n",
       "\\ln \\mathcal{L}(\\lambda)_{E_0} = n \\ln(\\lambda) - \\lambda \\sum_{i=1}^{n} y\n",
       "$$\n"
      ],
      "text/plain": [
       "\u001b[1m  &#x1F4DD; Erlang Log-Likelihood when m = 0\u001b[22m\n",
       "\u001b[1m  ------------------------------------------\u001b[22m\n",
       "\n",
       "\u001b[35m  \\ln \\mathcal{L}(\\lambda)_{E_0} = n \\ln(\\lambda) - \\lambda \\sum_{i=1}^{n} y\u001b[39m"
      ]
     },
     "execution_count": 25,
     "metadata": {},
     "output_type": "execute_result"
    }
   ],
   "source": [
    "Markdown.parse(raw\"\n",
    "#### &#x1F4DD; Erlang Log-Likelihood when m = 0\n",
    "```math\n",
    "\\ln \\mathcal{L}(\\lambda)_{E_0} = n \\ln(\\lambda) - \\lambda \\sum_{i=1}^{n} y\n",
    "```\n",
    "\")\n"
   ]
  },
  {
   "cell_type": "code",
   "execution_count": 26,
   "id": "54f14b1e-a6fe-456b-b042-e318f1545ff5",
   "metadata": {},
   "outputs": [
    {
     "name": "stdout",
     "output_type": "stream",
     "text": [
      "Log-likelihood 𝓛𝐸₀: -619.0\n"
     ]
    }
   ],
   "source": [
    "𝓛𝐸₀ = n * log(λ̂𝐸₀) - λ̂𝐸₀ * ∑([yᵢ for yᵢ in y])\n",
    "println(\"Log-likelihood 𝓛𝐸₀: \", round(𝓛𝐸₀))"
   ]
  },
  {
   "cell_type": "markdown",
   "id": "f76ac7b2-50f6-454b-9748-06a25c2dfffb",
   "metadata": {},
   "source": [
    "---"
   ]
  },
  {
   "cell_type": "markdown",
   "id": "88afcc5c-dad8-4af1-ba00-245ab1108dcc",
   "metadata": {},
   "source": [
    "## &#x1F518; $\\lambda_{E1}$=? ($\\lambda_{E1}$)"
   ]
  },
  {
   "cell_type": "markdown",
   "id": "67bb1774-2228-4959-83f1-bd3734a04cc4",
   "metadata": {},
   "source": [
    "#### &#x1F4DD; Erlang distribution where $m = 1$\n",
    "\n",
    "When $m = 1$, the Erlang distribution simplifies to the exponential distribution because the Erlang distribution is a general case of the gamma distribution for integer shape parameters, and the exponential distribution is a special case of the gamma distribution with a shape parameter of 1. The probability density function (PDF) for an exponential distribution with rate $\\lambda$ is given by:\n",
    "\n",
    "$ f(y|\\lambda) = \\lambda e^{-\\lambda y}, \\quad y \\geq 0 $\n",
    "\n",
    "To find the rate parameter $\\lambda$ given a set of data $Y = \\{y_1, y_2, ..., y_n\\}$ from this distribution, you use the method of Maximum Likelihood Estimation (MLE).\n",
    "\n",
    "* Step 1: Write the Likelihood Function\n",
    "\n",
    "The likelihood function for the exponential distribution, given the dataset $Y$, is:\n",
    "\n",
    "$ L(\\lambda) = \\prod_{i=1}^{n} \\lambda e^{-\\lambda y_i} = \\lambda^n e^{-\\lambda \\sum_{i=1}^{n} y_i} $\n",
    "\n",
    "* Step 2: Log-Likelihood Function\n",
    "\n",
    "Taking the natural logarithm of the likelihood function gives the log-likelihood function:\n",
    "\n",
    "$ \\ln L(\\lambda) = n \\ln(\\lambda) - \\lambda \\sum_{i=1}^{n} y_i $\n",
    "\n",
    "* Step 3: Find the MLE of $\\lambda$\n",
    "\n",
    "Differentiate the log-likelihood function with respect to $\\lambda$ and set it equal to zero to solve for $\\lambda$:\n",
    "\n",
    "$ \\frac{d}{d\\lambda} \\ln L(\\lambda) = \\frac{n}{\\lambda} - \\sum_{i=1}^{n} y_i = 0 $\n",
    "\n",
    "Solving for $\\lambda$ gives:\n",
    "\n",
    "$ \\hat{\\lambda} = \\frac{n}{\\sum_{i=1}^{n} y_i} $\n"
   ]
  },
  {
   "cell_type": "code",
   "execution_count": 27,
   "id": "b0557616-30d9-4d5b-8220-e9d9e33d75a6",
   "metadata": {},
   "outputs": [
    {
     "data": {
      "text/latex": [
       "\\paragraph{\\&\\#x1F4DD; Estimated Lambda when m = 1}\n",
       "$$\\hat{\\lambda}_{E_1} = \\frac{n}{\\sum_{i=1}^{n} y_i}$$\n"
      ],
      "text/markdown": [
       "#### &#x1F4DD; Estimated Lambda when m = 1\n",
       "\n",
       "$$\n",
       "\\hat{\\lambda}_{E_1} = \\frac{n}{\\sum_{i=1}^{n} y_i}\n",
       "$$\n"
      ],
      "text/plain": [
       "\u001b[1m  &#x1F4DD; Estimated Lambda when m = 1\u001b[22m\n",
       "\u001b[1m  -------------------------------------\u001b[22m\n",
       "\n",
       "\u001b[35m  \\hat{\\lambda}_{E_1} = \\frac{n}{\\sum_{i=1}^{n} y_i}\u001b[39m"
      ]
     },
     "execution_count": 27,
     "metadata": {},
     "output_type": "execute_result"
    }
   ],
   "source": [
    "Markdown.parse(raw\"\n",
    "#### &#x1F4DD; Estimated Lambda when m = 1\n",
    "```math\n",
    "\\hat{\\lambda}_{E_1} = \\frac{n}{\\sum_{i=1}^{n} y_i}\n",
    "```\n",
    "\")"
   ]
  },
  {
   "cell_type": "code",
   "execution_count": 28,
   "id": "3c45093f-c840-49ba-90c8-7008074bff7b",
   "metadata": {},
   "outputs": [
    {
     "name": "stdout",
     "output_type": "stream",
     "text": [
      "Estimated rate parameter λ̂𝐸₁ = 0.006\n"
     ]
    }
   ],
   "source": [
    "# Estimate λ for the erlang distribution when m = 1\n",
    "λ̂𝐸₁ = n / ∑([yᵢ for yᵢ in y])\n",
    "\n",
    "println(\"Estimated rate parameter λ̂𝐸₁ = \", round(λ̂𝐸₁, digits = 3))"
   ]
  },
  {
   "cell_type": "markdown",
   "id": "12aa7755-fdf5-4ca8-b687-8e899f921066",
   "metadata": {},
   "source": [
    "## &#x1F518; $L_{E1}$ =?"
   ]
  },
  {
   "cell_type": "code",
   "execution_count": 29,
   "id": "ff1c47ad-fd76-4c06-8af5-1e1222707c41",
   "metadata": {},
   "outputs": [
    {
     "data": {
      "text/latex": [
       "\\paragraph{\\&\\#x1F4DD; Erlang Log-Likelihood when m = 1}\n",
       "$$\\ln \\mathcal{L}(\\lambda)_{E_1} = n \\ln(\\lambda) - \\lambda \\sum_{i=1}^{n} y$$\n"
      ],
      "text/markdown": [
       "#### &#x1F4DD; Erlang Log-Likelihood when m = 1\n",
       "\n",
       "$$\n",
       "\\ln \\mathcal{L}(\\lambda)_{E_1} = n \\ln(\\lambda) - \\lambda \\sum_{i=1}^{n} y\n",
       "$$\n"
      ],
      "text/plain": [
       "\u001b[1m  &#x1F4DD; Erlang Log-Likelihood when m = 1\u001b[22m\n",
       "\u001b[1m  ------------------------------------------\u001b[22m\n",
       "\n",
       "\u001b[35m  \\ln \\mathcal{L}(\\lambda)_{E_1} = n \\ln(\\lambda) - \\lambda \\sum_{i=1}^{n} y\u001b[39m"
      ]
     },
     "execution_count": 29,
     "metadata": {},
     "output_type": "execute_result"
    }
   ],
   "source": [
    "Markdown.parse(raw\"\n",
    "#### &#x1F4DD; Erlang Log-Likelihood when m = 1\n",
    "```math\n",
    "\\ln \\mathcal{L}(\\lambda)_{E_1} = n \\ln(\\lambda) - \\lambda \\sum_{i=1}^{n} y\n",
    "```\n",
    "\")\n"
   ]
  },
  {
   "cell_type": "code",
   "execution_count": 30,
   "id": "c5c0028d-092a-4a6f-9ae9-facd29ad1e16",
   "metadata": {},
   "outputs": [
    {
     "name": "stdout",
     "output_type": "stream",
     "text": [
      "Log-likelihood 𝓛𝐸1: -619.0\n"
     ]
    }
   ],
   "source": [
    "𝓛𝐸₁ = n * log(λ̂𝐸₁) - λ̂𝐸₁ * ∑([yᵢ for yᵢ in y])\n",
    "println(\"Log-likelihood 𝓛𝐸1: \", round(𝓛𝐸₁))"
   ]
  },
  {
   "cell_type": "markdown",
   "id": "a2a10b5f-343b-4e81-ae83-b0b1394daee0",
   "metadata": {},
   "source": [
    "---"
   ]
  },
  {
   "cell_type": "markdown",
   "id": "c2fe0da6-bc92-41f5-aaa6-950ac94d3350",
   "metadata": {},
   "source": [
    "## &#x1F518; $\\lambda_{E2}$=? ($\\lambda_{E2})$"
   ]
  },
  {
   "cell_type": "markdown",
   "id": "bbf9f28c-ce60-457b-b0b8-62559ebd3871",
   "metadata": {},
   "source": [
    "#### &#x1F4DD; Erlang distribution where $m = 2$\n",
    "\n",
    "* Finding $\\lambda$ when $m = 2$\n",
    "\n",
    "To find the rate parameter $\\lambda$ given a set of data $Y = \\{y_1, y_2, ..., y_n\\}$ from an Erlang distribution with $m=2$, you would again use the method of Maximum Likelihood Estimation (MLE), but the process involves the specific form of the PDF for $m=2$.\n",
    "\n",
    "* Step 1: Likelihood Function\n",
    "\n",
    "The likelihood function for the dataset is the product of the PDF values for each observation:\n",
    "\n",
    "$ \\mathcal{L}(\\lambda) = \\prod_{i=1}^{n} \\frac{\\lambda^2 y e^{-\\lambda y}}{1!} $\n",
    "\n",
    "* Step 2: Log-Likelihood Function\n",
    "\n",
    "Taking the natural logarithm of the likelihood function gives the log-likelihood function:\n",
    "\n",
    "$ \\ln \\mathcal{L}(\\lambda) = \\sum_{i=1}^{n} \\ln(\\lambda^2 y_i e^{-\\lambda y}) = 2n \\ln(\\lambda) + \\sum_{i=1}^{n} \\ln(y) - \\lambda \\sum_{i=1}^{n} y $\n",
    "\n",
    "* Step 3: Differentiate and Solve for $\\lambda$\n",
    "\n",
    "$ \\frac{d}{d\\lambda} \\ln \\mathcal{L}(\\lambda) = \\frac{d}{d\\lambda} \\left( 2n \\ln(\\lambda) - \\lambda \\sum_{i=1}^{n} y \\right) $\n",
    "\n",
    "$ = 2n \\frac{1}{\\lambda} - \\sum_{i=1}^{n} y $\n",
    "\n",
    "* Solve for $\\lambda$\n",
    "\n",
    "Setting the derivative equal to zero to find the critical points:\n",
    "\n",
    "$ 2n \\frac{1}{\\lambda} - \\sum_{i=1}^{n} y = 0 $\n",
    "\n",
    "$ \\Rightarrow 2n = \\lambda \\sum_{i=1}^{n} y $\n",
    "\n",
    "$ \\Rightarrow \\lambda = \\frac{2n}{\\sum_{i=1}^{n} y} $\n",
    "\n",
    "Thus, the MLE of $\\lambda$ for the given Erlang distribution when $m=2$ is:\n",
    "\n",
    "$ \\hat{\\lambda} = \\frac{2n}{\\sum_{i=1}^{n} y} $\n",
    "\n",
    "This expression provides the estimate of $\\lambda$ based on the dataset. It effectively doubles the reciprocal of the mean of the observations, which aligns with the intuition that for $m=2$, the rate $\\lambda$ is estimated considering the process involves the sum of two exponential distributions (or equivalently, two \"events\" in the context of the Erlang distribution)."
   ]
  },
  {
   "cell_type": "code",
   "execution_count": 31,
   "id": "5392867c-f687-4c9e-b6c8-603409dcf7fe",
   "metadata": {},
   "outputs": [
    {
     "data": {
      "text/latex": [
       "\\paragraph{\\&\\#x1F4DD; Estimated Lambda when m = 2}\n",
       "$$\\hat{\\lambda}_{E_2} = \\frac{2n}{\\sum_{i=1}^{n} y}$$\n"
      ],
      "text/markdown": [
       "#### &#x1F4DD; Estimated Lambda when m = 2\n",
       "\n",
       "$$\n",
       "\\hat{\\lambda}_{E_2} = \\frac{2n}{\\sum_{i=1}^{n} y}\n",
       "$$\n"
      ],
      "text/plain": [
       "\u001b[1m  &#x1F4DD; Estimated Lambda when m = 2\u001b[22m\n",
       "\u001b[1m  -------------------------------------\u001b[22m\n",
       "\n",
       "\u001b[35m  \\hat{\\lambda}_{E_2} = \\frac{2n}{\\sum_{i=1}^{n} y}\u001b[39m"
      ]
     },
     "execution_count": 31,
     "metadata": {},
     "output_type": "execute_result"
    }
   ],
   "source": [
    "Markdown.parse(raw\"\n",
    "#### &#x1F4DD; Estimated Lambda when m = 2\n",
    "```math\n",
    "\\hat{\\lambda}_{E_2} = \\frac{2n}{\\sum_{i=1}^{n} y}\n",
    "```\n",
    "\")"
   ]
  },
  {
   "cell_type": "code",
   "execution_count": 32,
   "id": "637221d1-2668-48c8-8401-1dfe1139582e",
   "metadata": {},
   "outputs": [
    {
     "name": "stdout",
     "output_type": "stream",
     "text": [
      "Estimated rate parameter λ̂𝐸₂ = 0.011\n"
     ]
    }
   ],
   "source": [
    "# Estimate λ for the erlang distribution when m = 2\n",
    "λ̂𝐸₂ = 2n / ∑([yᵢ for yᵢ in y])\n",
    "\n",
    "println(\"Estimated rate parameter λ̂𝐸₂ = \", round(λ̂𝐸₂, digits = 3))"
   ]
  },
  {
   "cell_type": "markdown",
   "id": "9e9ed0d0-cb96-48c1-90d8-8309760d368c",
   "metadata": {},
   "source": [
    "## &#x1F518; $L_{E2}$ =?"
   ]
  },
  {
   "cell_type": "code",
   "execution_count": 33,
   "id": "93bcc92d-f119-45e9-b0d0-006097e91d6d",
   "metadata": {},
   "outputs": [
    {
     "data": {
      "text/latex": [
       "\\paragraph{\\&\\#x1F4DD; Erlang Log-Likelihood when m = 2}\n",
       "$$\\ln \\mathcal{L}(\\lambda)_{E_2} = \\sum_{i=1}^{n} \\ln(\\lambda^2 y e^{-\\lambda y}) \\qquad \\{i: \\in 1,\\cdots,n\\}$$\n"
      ],
      "text/markdown": [
       "#### &#x1F4DD; Erlang Log-Likelihood when m = 2\n",
       "\n",
       "$$\n",
       "\\ln \\mathcal{L}(\\lambda)_{E_2} = \\sum_{i=1}^{n} \\ln(\\lambda^2 y e^{-\\lambda y}) \\qquad \\{i: \\in 1,\\cdots,n\\}\n",
       "$$\n"
      ],
      "text/plain": [
       "\u001b[1m  &#x1F4DD; Erlang Log-Likelihood when m = 2\u001b[22m\n",
       "\u001b[1m  ------------------------------------------\u001b[22m\n",
       "\n",
       "\u001b[35m  \\ln \\mathcal{L}(\\lambda)_{E_2} = \\sum_{i=1}^{n} \\ln(\\lambda^2 y e^{-\\lambda y}) \\qquad \\{i: \\in 1,\\cdots,n\\}\u001b[39m"
      ]
     },
     "execution_count": 33,
     "metadata": {},
     "output_type": "execute_result"
    }
   ],
   "source": [
    "Markdown.parse(raw\"\n",
    "#### &#x1F4DD; Erlang Log-Likelihood when m = 2\n",
    "```math\n",
    "\\ln \\mathcal{L}(\\lambda)_{E_2} = \\sum_{i=1}^{n} \\ln(\\lambda^2 y e^{-\\lambda y}) \\qquad \\{i: \\in 1,\\cdots,n\\}\n",
    "```\n",
    "\")\n"
   ]
  },
  {
   "cell_type": "code",
   "execution_count": 34,
   "id": "96d1a41f-fece-445c-aacf-44968caa4329",
   "metadata": {},
   "outputs": [
    {
     "name": "stdout",
     "output_type": "stream",
     "text": [
      "Log-likelihood 𝓛𝐸₂: -581.0\n"
     ]
    }
   ],
   "source": [
    "𝓛𝐸₂ = ∑([log((λ̂𝐸₂)^2 * yᵢ * ℯ^(-(λ̂𝐸₂) * yᵢ)) for yᵢ in y])\n",
    "println(\"Log-likelihood 𝓛𝐸₂: \", round(𝓛𝐸₂))"
   ]
  },
  {
   "cell_type": "markdown",
   "id": "561e3e6c-1a74-41ef-8b10-8f805000ee0c",
   "metadata": {},
   "source": [
    "---"
   ]
  },
  {
   "cell_type": "markdown",
   "id": "24c6ecd1-1e5d-429e-9bd6-5282055e3bea",
   "metadata": {},
   "source": [
    "## &#x1F518;  $\\lambda_{exp}$=? (shifted exponential distribution $\\lambda_{exp}$)\n",
    "\n",
    "- [ ] $\\alpha_{exp}$=? ($\\alpha_{exp}$)\n"
   ]
  },
  {
   "cell_type": "markdown",
   "id": "e18aa42f-3398-47ad-8ce8-c5868af9181e",
   "metadata": {},
   "source": [
    "#### &#x1F4DD; Shifted Exponential Recap\n",
    "\n",
    "* The Shifted Exponential Distribution\n",
    "$ f_{exp}(y|\\lambda,\\alpha) = \n",
    "\\begin{cases}\n",
    "0 & , y < \\alpha \\\\\n",
    "\\lambda e^{-\\lambda(y - \\alpha)} & , y \\geq \\alpha\n",
    "\\end{cases} $\n",
    "\n",
    "*  MLE for $\\alpha$ and $\\lambda$\n",
    "\n",
    "1. **MLE for $\\alpha$:** Given that the density starts at $\\alpha$, and assuming the data are ordered such that $y_1 \\leq y_2 \\leq \\ldots \\leq y_n$, the MLE for $\\alpha$ is the minimum of the dataset:\n",
    "$ \\hat{\\alpha} = \\min(Y) = y_1 $\n",
    "This is because increasing $\\alpha$ would decrease the likelihood of observing the lower values in the dataset, while decreasing $\\alpha$ below the minimum value doesn't increase the likelihood due to the nature of the exponential function.\n",
    "\n",
    "2. **MLE for $\\lambda$:** After determining $\\hat{\\alpha}$, the dataset can be \"shifted\" so that the minimum value is treated as 0, adjusting the data by subtracting $\\hat{\\alpha}$ from each observation.\n",
    "\n",
    "The likelihood function for the adjusted data then resembles that of a non-shifted exponential distribution. The MLE for $\\lambda$, given the adjusted data, maximizes the likelihood or log-likelihood function:\n",
    "\n",
    "$ L(\\lambda) = n\\ln(\\lambda) - \\lambda \\sum_{i=1}^{n} (y_i - \\hat{\\alpha}) $\n",
    "\n",
    "Taking the derivative with respect to $\\lambda$ and setting it to zero gives:\n",
    "\n",
    "$ \\frac{d}{d\\lambda} L(\\lambda) = \\frac{n}{\\lambda} - \\sum_{i=1}^{n} (y_i - \\hat{\\alpha}) = 0 $\n",
    "\n",
    "Solving for $\\lambda$ yields:\n",
    "\n",
    "$ \\hat{\\lambda} = \\frac{n}{\\sum_{i=1}^{n} (y_i - \\hat{\\alpha})} $\n",
    "\n",
    "This process and implementation correctly reflect the MLE for $\\alpha$ and $\\lambda$ for a shifted exponential distribution, providing a solid foundation for parameter estimation within this specific distributional context."
   ]
  },
  {
   "cell_type": "code",
   "execution_count": 35,
   "id": "9f5d7713-2557-4ff7-89c0-c825caccf1b8",
   "metadata": {},
   "outputs": [
    {
     "name": "stdout",
     "output_type": "stream",
     "text": [
      "Estimated α (shift parameter): 152.0\n"
     ]
    }
   ],
   "source": [
    "# Step 1: Estimate α (alpha_hat)\n",
    "α̂ₑₓₚ = minimum(y);\n",
    "\n",
    "# Step 2: Adjust the data\n",
    "ỹₑₓₚ = y .-  α̂ₑₓₚ  # Y_adjusted or y\\tilde\n",
    "\n",
    "println(\"Estimated α (shift parameter): \", round(α̂ₑₓₚ))"
   ]
  },
  {
   "cell_type": "code",
   "execution_count": 36,
   "id": "d081647b-65ae-45b2-8871-e27839e93f0b",
   "metadata": {},
   "outputs": [
    {
     "name": "stdout",
     "output_type": "stream",
     "text": [
      "ỹₑₓₚ[1:3] = [7.184000000000026, 0.9190000000000111, 0.929000000000002]\n",
      "MLE for λ (rate parameter): 0.036\n"
     ]
    }
   ],
   "source": [
    "# MLE for λ (lambda_hat) from adjusted data\n",
    "λ̂ₑₓₚ = n / ∑(ỹₑₓₚ); @show ỹₑₓₚ[1:3]\n",
    "\n",
    "println(\"MLE for λ (rate parameter): \", round(λ̂ₑₓₚ, digits = 3))"
   ]
  },
  {
   "cell_type": "markdown",
   "id": "be360842-e006-4e13-92f0-943ea05e9d91",
   "metadata": {},
   "source": [
    "## &#x1F518;  $L_{exp}$ =?"
   ]
  },
  {
   "cell_type": "code",
   "execution_count": 37,
   "id": "eab7022b-c5f9-4a02-8e45-121231900479",
   "metadata": {},
   "outputs": [
    {
     "data": {
      "text/latex": [
       "\\paragraph{\\&\\#x1F4DD; shifted exponential Log-Likelihood}\n",
       "$$\\ln \\mathcal{L}(\\lambda)_{exp} = n\\ln(\\lambda) - \\lambda \\sum_{i=1}^{n} (y_i - \\hat{\\alpha}) \\qquad \\{i: \\in 1,\\cdots,n\\}$$\n"
      ],
      "text/markdown": [
       "#### &#x1F4DD; shifted exponential Log-Likelihood\n",
       "\n",
       "$$\n",
       "\\ln \\mathcal{L}(\\lambda)_{exp} = n\\ln(\\lambda) - \\lambda \\sum_{i=1}^{n} (y_i - \\hat{\\alpha}) \\qquad \\{i: \\in 1,\\cdots,n\\}\n",
       "$$\n"
      ],
      "text/plain": [
       "\u001b[1m  &#x1F4DD; shifted exponential Log-Likelihood\u001b[22m\n",
       "\u001b[1m  --------------------------------------------\u001b[22m\n",
       "\n",
       "\u001b[35m  \\ln \\mathcal{L}(\\lambda)_{exp} = n\\ln(\\lambda) - \\lambda \\sum_{i=1}^{n} (y_i - \\hat{\\alpha}) \\qquad \\{i: \\in 1,\\cdots,n\\}\u001b[39m"
      ]
     },
     "execution_count": 37,
     "metadata": {},
     "output_type": "execute_result"
    }
   ],
   "source": [
    "Markdown.parse(raw\"\n",
    "#### &#x1F4DD; shifted exponential Log-Likelihood\n",
    "```math\n",
    "\\ln \\mathcal{L}(\\lambda)_{exp} = n\\ln(\\lambda) - \\lambda \\sum_{i=1}^{n} (y_i - \\hat{\\alpha}) \\qquad \\{i: \\in 1,\\cdots,n\\}\n",
    "```\n",
    "\")\n"
   ]
  },
  {
   "cell_type": "code",
   "execution_count": 38,
   "id": "6e6f2db8-3f1b-47a1-9622-b2fad347f991",
   "metadata": {},
   "outputs": [
    {
     "name": "stdout",
     "output_type": "stream",
     "text": [
      "Log-likelihood 𝓛ₑₓₚ: -433.0\n"
     ]
    }
   ],
   "source": [
    "𝓛ₑₓₚ = n * log(λ̂ₑₓₚ) - λ̂ₑₓₚ * ∑([(yᵢ - α̂ₑₓₚ) for yᵢ in y])\n",
    "println(\"Log-likelihood 𝓛ₑₓₚ: \", round(𝓛ₑₓₚ))"
   ]
  },
  {
   "cell_type": "markdown",
   "id": "5dd0e998-71ac-4cf3-9eb6-9f4cc085a05f",
   "metadata": {},
   "source": [
    "---"
   ]
  },
  {
   "cell_type": "markdown",
   "id": "9cc17373-dadc-4039-bbe8-c365bc1138c7",
   "metadata": {},
   "source": [
    "#### **&#x1F516;** **(&#x2171;)** Consider now also a shifted Rayleigh distribution:"
   ]
  },
  {
   "cell_type": "markdown",
   "id": "8d8b81e2-cd3d-44d2-bd58-b5d2bda6a102",
   "metadata": {},
   "source": [
    "$$\n",
    "f_{SR} (y|\\alpha,\\sigma^2) = \n",
    "\\left\\{ \n",
    "\\begin{array}{l}\n",
    "0 & , y < 0\\\\\n",
    "\\frac{y - \\alpha}{\\sigma^2}  e^{-\\frac{(y - \\alpha)^2}{2\\sigma^2}} & , y \\geq 0\n",
    "\\end{array}\n",
    "\\right\\}\n",
    "=\n",
    "\\frac{y - \\alpha}{\\sigma^2}  e^{-\\frac{(y - \\alpha)^2}{2\\sigma^2}}\n",
    "1_{[\\alpha, \\infty]}(y)\n",
    "$$\n",
    "\n",
    "for some $\\alpha \\geq 0, \\sigma^2 > 0$, and where we introduced the indicator function for a set A :\n",
    "\n",
    "$$\n",
    "1_A (y) =\n",
    "\\begin{cases}\n",
    "0 & , y \\notin  A\\\\\n",
    "1 & , y \\in     A\n",
    "\\end{cases}\n",
    "$$\n"
   ]
  },
  {
   "cell_type": "markdown",
   "id": "9c5b798f-b841-480f-b7f2-deed11f834e7",
   "metadata": {},
   "source": [
    "To determine the mean of $y$, denoted as $m_y$, for a shifted Rayleigh distribution with parameters $\\alpha$ and $\\sigma^2$, we start with the definition of the mean for a continuous probability distribution:\n",
    "\n",
    "$ m_y = \\int_{-\\infty}^{\\infty} y f(y|\\alpha, \\sigma^2) dy $\n",
    "\n",
    "Given the PDF of the shifted Rayleigh distribution,\n",
    "\n",
    "$ f_{SR}(y|\\alpha, \\sigma^2) = \\frac{y - \\alpha}{\\sigma^2} e^{-\\frac{(y - \\alpha)^2}{2\\sigma^2}} \\mathbf{1}_{[\\alpha, \\infty]}(y) $\n",
    "\n",
    "the mean can be calculated by integrating over the support of the distribution, which starts from $\\alpha$ to $\\infty$, because of the indicator function $\\mathbf{1}_{[\\alpha, \\infty]}(y)$:\n",
    "\n",
    "$ m_y = \\int_{\\alpha}^{\\infty} y \\frac{y - \\alpha}{\\sigma^2} e^{-\\frac{(y - \\alpha)^2}{2\\sigma^2}} dy $\n",
    "\n",
    "This integral doesn't have a straightforward solution because of its form, but we can reference the properties of the Rayleigh distribution and the effect of shifting on the mean. For an unshifted Rayleigh distribution with parameter $\\sigma$, the mean is:\n",
    "\n",
    "$ m = \\sigma \\sqrt{\\frac{\\pi}{2}} $\n",
    "\n",
    "For the shifted distribution, the mean is shifted by $\\alpha$, so:\n",
    "\n",
    "$ m_y = \\alpha + \\sigma \\sqrt{\\frac{\\pi}{2}} $\n",
    "\n",
    "Here, we assume $\\sigma^2$ in the original distribution refers to $\\sigma^2$ as traditionally defined for a Rayleigh distribution, where $\\sigma$ is the scale parameter. Hence, the mean of the shifted Rayleigh distribution as a function of $\\alpha$ and $\\sigma^2$ (where $\\sigma$ is the square root of $\\sigma^2$) is given by:\n",
    "\n",
    "$ m_y = \\alpha + \\sqrt{\\sigma^2} \\sqrt{\\frac{\\pi}{2}} $\n",
    "\n",
    "This formula provides a direct relationship between the mean of the distribution and its parameters, allowing for calculation of the mean given specific values of $\\alpha$ and $\\sigma^2$."
   ]
  },
  {
   "cell_type": "markdown",
   "id": "8cfe27db-b1c8-4084-8353-4740c81d0e15",
   "metadata": {},
   "source": [
    "## &#x1F518;  $\\sigma_{SR}$=? (shifted Rayleigh $\\sigma_{SR}^2$)\n",
    "\n",
    "## &#x1F518;  $\\alpha_{SR}$=? ($\\alpha_{SR}$)\n",
    "\n",
    "## &#x1F518;  $L_{SR}$ =?"
   ]
  },
  {
   "cell_type": "markdown",
   "id": "bf22edc9-a5c5-4e54-900a-c076fd0cfacc",
   "metadata": {},
   "source": [
    "For the shifted Rayleigh distribution defined as\n",
    "\n",
    "$ f_{SR}(y|\\alpha, \\sigma^2) = \\frac{y - \\alpha}{\\sigma^2} e^{-\\frac{(y - \\alpha)^2}{2\\sigma^2}} \\mathbf{1}_{[\\alpha, \\infty]}(y) $\n",
    "\n",
    "with parameters $\\alpha \\geq 0$ and $\\sigma^2 > 0$, finding the Maximum Likelihood Estimators (MLEs) for $\\alpha$ and $\\sigma^2$ involves a slightly more complex process due to the presence of the shift parameter $\\alpha$ and the squared term in the denominator.\n",
    "\n",
    "### Likelihood Function\n",
    "\n",
    "Given $n$ independent observations $Y = \\{y_1, y_2, \\ldots, y_n\\}$, the likelihood function is\n",
    "\n",
    "$ L(\\alpha, \\sigma^2 | Y) = \\prod_{i=1}^{n} \\left( \\frac{y_i - \\alpha}{\\sigma^2} \\right) e^{-\\frac{(y_i - \\alpha)^2}{2\\sigma^2}} $\n",
    "\n",
    "### Log-Likelihood Function\n",
    "\n",
    "The log-likelihood function becomes\n",
    "\n",
    "$ \\ln L(\\alpha, \\sigma^2 | Y) = \\sum_{i=1}^{n} \\ln(y_i - \\alpha) - n \\ln(\\sigma^2) - \\sum_{i=1}^{n} \\frac{(y_i - \\alpha)^2}{2\\sigma^2} $\n",
    "\n",
    "### Differentiating and Solving for MLEs\n",
    "\n",
    "The MLEs are found by differentiating the log-likelihood function with respect to $\\alpha$ and $\\sigma^2$ separately and setting each derivative equal to zero. However, due to the complexity of the expressions, especially with the shift parameter $\\alpha$, closed-form solutions might not be straightforward and numerical optimization techniques are often required.\n",
    "\n",
    "For illustrative purposes, here's an outline of the process without explicit solutions:\n",
    "\n",
    "1. **Differentiate with respect to $\\alpha$:** This would typically give you an equation involving $\\alpha$ and $\\sigma^2$, but finding $\\hat{\\alpha}$ directly from this step is complicated due to the dependency on $\\sigma^2$.\n",
    "\n",
    "2. **Differentiate with respect to $\\sigma^2$:** This step provides another equation, which also involves both $\\alpha$ and $\\sigma^2$.\n",
    "\n",
    "Given the difficulties in solving these equations analytically, applying numerical optimization methods like Newton-Raphson or gradient descent with initial guesses for $\\alpha$ and $\\sigma^2$ can be effective in finding the MLEs.\n",
    "\n",
    "See Julia Code below\n",
    "\n",
    "This example outlines the use of the `Optim` package to find MLEs for $\\alpha$ and $\\sigma^2$ through numerical optimization. Ensure to replace `data` with your actual dataset and adjust `initial_guess` as necessary."
   ]
  },
  {
   "cell_type": "code",
   "execution_count": 39,
   "id": "b73257bb-dbc3-401e-9035-3a7456457527",
   "metadata": {},
   "outputs": [
    {
     "data": {
      "text/latex": [
       "\\paragraph{\\&\\#x1F4DD; shifted Rayleigh Log-Likelihood}\n",
       "$$\\ln \\mathcal{L}(\\alpha, \\sigma^2 | Y)_{SR} = \\sum_{i=1}^{n} \\ln(y_i - \\alpha) - n \\ln(\\sigma^2) - \\sum_{i=1}^{n} \\frac{(y_i - \\alpha)^2}{2\\sigma^2}$$\n"
      ],
      "text/markdown": [
       "#### &#x1F4DD; shifted Rayleigh Log-Likelihood\n",
       "\n",
       "$$\n",
       "\\ln \\mathcal{L}(\\alpha, \\sigma^2 | Y)_{SR} = \\sum_{i=1}^{n} \\ln(y_i - \\alpha) - n \\ln(\\sigma^2) - \\sum_{i=1}^{n} \\frac{(y_i - \\alpha)^2}{2\\sigma^2}\n",
       "$$\n"
      ],
      "text/plain": [
       "\u001b[1m  &#x1F4DD; shifted Rayleigh Log-Likelihood\u001b[22m\n",
       "\u001b[1m  -----------------------------------------\u001b[22m\n",
       "\n",
       "\u001b[35m  \\ln \\mathcal{L}(\\alpha, \\sigma^2 | Y)_{SR} = \\sum_{i=1}^{n} \\ln(y_i - \\alpha) - n \\ln(\\sigma^2) - \\sum_{i=1}^{n} \\frac{(y_i - \\alpha)^2}{2\\sigma^2}\u001b[39m"
      ]
     },
     "execution_count": 39,
     "metadata": {},
     "output_type": "execute_result"
    }
   ],
   "source": [
    "Markdown.parse(raw\"\n",
    "#### &#x1F4DD; shifted Rayleigh Log-Likelihood\n",
    "```math\n",
    "\\ln \\mathcal{L}(\\alpha, \\sigma^2 | Y)_{SR} = \\sum_{i=1}^{n} \\ln(y_i - \\alpha) - n \\ln(\\sigma^2) - \\sum_{i=1}^{n} \\frac{(y_i - \\alpha)^2}{2\\sigma^2}\n",
    "```\n",
    "\")\n"
   ]
  },
  {
   "cell_type": "code",
   "execution_count": 40,
   "id": "a50565ea-c8fa-407d-8b85-70cf685e2a03",
   "metadata": {},
   "outputs": [],
   "source": [
    "using Optim"
   ]
  },
  {
   "cell_type": "code",
   "execution_count": 41,
   "id": "2acdd5e5-9c43-4f63-826c-256cf0cec6ae",
   "metadata": {},
   "outputs": [
    {
     "data": {
      "text/plain": [
       "neg_log_likelihood (generic function with 1 method)"
      ]
     },
     "execution_count": 41,
     "metadata": {},
     "output_type": "execute_result"
    }
   ],
   "source": [
    "# Define the negative log-likelihood function\n",
    "function neg_log_likelihood(params, yᵢ)\n",
    "    α, σ² = params\n",
    "    # Ensure data - α is always positive\n",
    "    ỹᵢ = yᵢ .- α # adjusted_data\n",
    "    # Filter or adjust values that would lead to log of negative numbers\n",
    "    ỹᵢ = map(x -> max(x, 1e-10), ỹᵢ)  # Replace 1e-10 with a small positive value\n",
    "    return -∑(log.(ỹᵢ) .- log(σ²) .- ((ỹᵢ).^2 / (2σ²)))\n",
    "end"
   ]
  },
  {
   "cell_type": "code",
   "execution_count": 42,
   "id": "b573d21f-d544-4dc1-8e61-bc50fd33958d",
   "metadata": {},
   "outputs": [
    {
     "name": "stdout",
     "output_type": "stream",
     "text": [
      "Estimated α̂ₛᵣ: 137.56008000761443\n",
      "Estimated σ̂ₛᵣ²: 1176.0299107695298\n",
      "Estimated σ̂ₛᵣ: 34.293292504067466\n"
     ]
    }
   ],
   "source": [
    "# Initial guesses for α and σ²\n",
    "initial_guess = [1.0, 1.0]\n",
    "\n",
    "# Use a numerical optimization package to minimize the negative log-likelihood\n",
    "result = optimize(params -> neg_log_likelihood(params, y), initial_guess)\n",
    "\n",
    "# Extract the estimated parameters\n",
    "α̂ₛᵣ, σ̂ₛᵣ² = Optim.minimizer(result)\n",
    "\n",
    "println(\"Estimated α̂ₛᵣ: \", α̂ₛᵣ)\n",
    "println(\"Estimated σ̂ₛᵣ²: \", σ̂ₛᵣ²)\n",
    "println(\"Estimated σ̂ₛᵣ: \", √σ̂ₛᵣ²)"
   ]
  },
  {
   "cell_type": "markdown",
   "id": "7d0892a9-2e23-4364-a70f-520c8f12d680",
   "metadata": {},
   "source": [
    "#### &#x1F516; **(&#x2172;)**  In Matlab, you will generate n = 100 measurements of the roundtrip delay between your PC and a host machine of your choice"
   ]
  },
  {
   "cell_type": "markdown",
   "id": "b246d7d0-3416-4505-80df-c53c4f60d1fd",
   "metadata": {},
   "source": [
    "To generate the data another report has been used so the captured data doesn't change everytime we run the report:\n",
    "- See &#x1F449;&#x1F3FC; [REPORT_ping](REPORT_ping.ipynb) to know how the data is generated\n",
    "- The data is then loaded with\n",
    "\n",
    "```julia\n",
    "df = CSV.File(\"stats.txt\") |> DataFrame;\n",
    "```\n",
    "- see Cell (2) of this report"
   ]
  },
  {
   "cell_type": "markdown",
   "id": "dd9cb12b-26f6-4c75-8b42-3269d9cc296a",
   "metadata": {},
   "source": [
    "#### &#x1F516; **(&#x2173;)**  In Matlab, plot a histogram of the measurements {y1, . . . , yn} you made and in the same plot superimpose the graphs for the marginal densities $f (y|\\hat{\\theta}_{ML,i} (Y )), i \\in \\{G, R, E0, E1, E2, exp,SR \\}$. Make this plot for y going from a value that is somewhat smaller than the $y_{min}$ you measured to a value that is somewhat bigger than the $y_{max}$ you measured. In Matlab, use the histogram command with the options ’Normalization’ and ’probability’, so that the histogram can be compared directly to the pdf of the distributions."
   ]
  },
  {
   "cell_type": "markdown",
   "id": "58ec5123-369e-4dd0-9a43-daf3e2aa9613",
   "metadata": {},
   "source": [
    "#### &#x1F4CA; Plot"
   ]
  },
  {
   "cell_type": "code",
   "execution_count": 43,
   "id": "0659c80a-7bf7-47ba-9853-a1d113b058e5",
   "metadata": {},
   "outputs": [],
   "source": [
    "using Plots\n",
    "using Distributions\n",
    "using StatsPlots  # For the `plot` function for distributions"
   ]
  },
  {
   "cell_type": "code",
   "execution_count": 50,
   "id": "cbfc1ebc-81e8-423c-b668-5183795aa005",
   "metadata": {},
   "outputs": [
    {
     "data": {
      "image/png": "[encoded data removed]",
      "image/svg+xml": [
       "<?xml version=\"1.0\" encoding=\"utf-8\"?>\n",
       "<svg xmlns=\"http://www.w3.org/2000/svg\" xmlns:xlink=\"http://www.w3.org/1999/xlink\" width=\"600\" height=\"400\" viewBox=\"0 0 2400 1600\">\n",
       "<defs>\n",
       "  <clipPath id=\"clip510\">\n",
       "    <rect x=\"0\" y=\"0\" width=\"2400\" height=\"1600\"/>\n",
       "  </clipPath>\n",
       "</defs>\n",
       "<path clip-path=\"url(#clip510)\" d=\"M0 1600 L2400 1600 L2400 0 L0 0  Z\" fill=\"#ffffff\" fill-rule=\"evenodd\" fill-opacity=\"1\"/>\n",
       "<defs>\n",
       "  <clipPath id=\"clip511\">\n",
       "    <rect x=\"480\" y=\"0\" width=\"1681\" height=\"1600\"/>\n",
       "  </clipPath>\n",
       "</defs>\n",
       "<path clip-path=\"url(#clip510)\" d=\"M232.389 1423.18 L2352.76 1423.18 L2352.76 123.472 L232.389 123.472  Z\" fill=\"#ffffff\" fill-rule=\"evenodd\" fill-opacity=\"1\"/>\n",
       "<defs>\n",
       "  <clipPath id=\"clip512\">\n",
       "    <rect x=\"232\" y=\"123\" width=\"2121\" height=\"1301\"/>\n",
       "  </clipPath>\n",
       "</defs>\n",
       "<polyline clip-path=\"url(#clip512)\" style=\"stroke:#000000; stroke-linecap:round; stroke-linejoin:round; stroke-width:2; stroke-opacity:0.1; fill:none\" points=\"292.4,1423.18 292.4,123.472 \"/>\n",
       "<polyline clip-path=\"url(#clip512)\" style=\"stroke:#000000; stroke-linecap:round; stroke-linejoin:round; stroke-width:2; stroke-opacity:0.1; fill:none\" points=\"896.686,1423.18 896.686,123.472 \"/>\n",
       "<polyline clip-path=\"url(#clip512)\" style=\"stroke:#000000; stroke-linecap:round; stroke-linejoin:round; stroke-width:2; stroke-opacity:0.1; fill:none\" points=\"1500.97,1423.18 1500.97,123.472 \"/>\n",
       "<polyline clip-path=\"url(#clip512)\" style=\"stroke:#000000; stroke-linecap:round; stroke-linejoin:round; stroke-width:2; stroke-opacity:0.1; fill:none\" points=\"2105.26,1423.18 2105.26,123.472 \"/>\n",
       "<polyline clip-path=\"url(#clip510)\" style=\"stroke:#000000; stroke-linecap:round; stroke-linejoin:round; stroke-width:4; stroke-opacity:1; fill:none\" points=\"232.389,1423.18 2352.76,1423.18 \"/>\n",
       "<polyline clip-path=\"url(#clip510)\" style=\"stroke:#000000; stroke-linecap:round; stroke-linejoin:round; stroke-width:4; stroke-opacity:1; fill:none\" points=\"292.4,1423.18 292.4,1404.28 \"/>\n",
       "<polyline clip-path=\"url(#clip510)\" style=\"stroke:#000000; stroke-linecap:round; stroke-linejoin:round; stroke-width:4; stroke-opacity:1; fill:none\" points=\"896.686,1423.18 896.686,1404.28 \"/>\n",
       "<polyline clip-path=\"url(#clip510)\" style=\"stroke:#000000; stroke-linecap:round; stroke-linejoin:round; stroke-width:4; stroke-opacity:1; fill:none\" points=\"1500.97,1423.18 1500.97,1404.28 \"/>\n",
       "<polyline clip-path=\"url(#clip510)\" style=\"stroke:#000000; stroke-linecap:round; stroke-linejoin:round; stroke-width:4; stroke-opacity:1; fill:none\" points=\"2105.26,1423.18 2105.26,1404.28 \"/>\n",
       "<path clip-path=\"url(#clip510)\" d=\"M292.4 1454.1 Q288.789 1454.1 286.96 1457.66 Q285.154 1461.2 285.154 1468.33 Q285.154 1475.44 286.96 1479.01 Q288.789 1482.55 292.4 1482.55 Q296.034 1482.55 297.84 1479.01 Q299.668 1475.44 299.668 1468.33 Q299.668 1461.2 297.84 1457.66 Q296.034 1454.1 292.4 1454.1 M292.4 1450.39 Q298.21 1450.39 301.265 1455 Q304.344 1459.58 304.344 1468.33 Q304.344 1477.06 301.265 1481.67 Q298.21 1486.25 292.4 1486.25 Q286.59 1486.25 283.511 1481.67 Q280.455 1477.06 280.455 1468.33 Q280.455 1459.58 283.511 1455 Q286.59 1450.39 292.4 1450.39 Z\" fill=\"#000000\" fill-rule=\"nonzero\" fill-opacity=\"1\" /><path clip-path=\"url(#clip510)\" d=\"M856.304 1451.02 L874.66 1451.02 L874.66 1454.96 L860.586 1454.96 L860.586 1463.43 Q861.605 1463.08 862.623 1462.92 Q863.642 1462.73 864.66 1462.73 Q870.447 1462.73 873.827 1465.9 Q877.206 1469.08 877.206 1474.49 Q877.206 1480.07 873.734 1483.17 Q870.262 1486.25 863.943 1486.25 Q861.767 1486.25 859.498 1485.88 Q857.253 1485.51 854.845 1484.77 L854.845 1480.07 Q856.929 1481.2 859.151 1481.76 Q861.373 1482.32 863.85 1482.32 Q867.855 1482.32 870.193 1480.21 Q872.531 1478.1 872.531 1474.49 Q872.531 1470.88 870.193 1468.77 Q867.855 1466.67 863.85 1466.67 Q861.975 1466.67 860.1 1467.08 Q858.248 1467.5 856.304 1468.38 L856.304 1451.02 Z\" fill=\"#000000\" fill-rule=\"nonzero\" fill-opacity=\"1\" /><path clip-path=\"url(#clip510)\" d=\"M896.419 1454.1 Q892.808 1454.1 890.98 1457.66 Q889.174 1461.2 889.174 1468.33 Q889.174 1475.44 890.98 1479.01 Q892.808 1482.55 896.419 1482.55 Q900.054 1482.55 901.859 1479.01 Q903.688 1475.44 903.688 1468.33 Q903.688 1461.2 901.859 1457.66 Q900.054 1454.1 896.419 1454.1 M896.419 1450.39 Q902.23 1450.39 905.285 1455 Q908.364 1459.58 908.364 1468.33 Q908.364 1477.06 905.285 1481.67 Q902.23 1486.25 896.419 1486.25 Q890.609 1486.25 887.531 1481.67 Q884.475 1477.06 884.475 1468.33 Q884.475 1459.58 887.531 1455 Q890.609 1450.39 896.419 1450.39 Z\" fill=\"#000000\" fill-rule=\"nonzero\" fill-opacity=\"1\" /><path clip-path=\"url(#clip510)\" d=\"M926.581 1454.1 Q922.97 1454.1 921.141 1457.66 Q919.336 1461.2 919.336 1468.33 Q919.336 1475.44 921.141 1479.01 Q922.97 1482.55 926.581 1482.55 Q930.215 1482.55 932.021 1479.01 Q933.85 1475.44 933.85 1468.33 Q933.85 1461.2 932.021 1457.66 Q930.215 1454.1 926.581 1454.1 M926.581 1450.39 Q932.391 1450.39 935.447 1455 Q938.526 1459.58 938.526 1468.33 Q938.526 1477.06 935.447 1481.67 Q932.391 1486.25 926.581 1486.25 Q920.771 1486.25 917.692 1481.67 Q914.637 1477.06 914.637 1468.33 Q914.637 1459.58 917.692 1455 Q920.771 1450.39 926.581 1450.39 Z\" fill=\"#000000\" fill-rule=\"nonzero\" fill-opacity=\"1\" /><path clip-path=\"url(#clip510)\" d=\"M1445.5 1481.64 L1453.14 1481.64 L1453.14 1455.28 L1444.83 1456.95 L1444.83 1452.69 L1453.09 1451.02 L1457.77 1451.02 L1457.77 1481.64 L1465.4 1481.64 L1465.4 1485.58 L1445.5 1485.58 L1445.5 1481.64 Z\" fill=\"#000000\" fill-rule=\"nonzero\" fill-opacity=\"1\" /><path clip-path=\"url(#clip510)\" d=\"M1484.85 1454.1 Q1481.24 1454.1 1479.41 1457.66 Q1477.6 1461.2 1477.6 1468.33 Q1477.6 1475.44 1479.41 1479.01 Q1481.24 1482.55 1484.85 1482.55 Q1488.48 1482.55 1490.29 1479.01 Q1492.12 1475.44 1492.12 1468.33 Q1492.12 1461.2 1490.29 1457.66 Q1488.48 1454.1 1484.85 1454.1 M1484.85 1450.39 Q1490.66 1450.39 1493.71 1455 Q1496.79 1459.58 1496.79 1468.33 Q1496.79 1477.06 1493.71 1481.67 Q1490.66 1486.25 1484.85 1486.25 Q1479.04 1486.25 1475.96 1481.67 Q1472.9 1477.06 1472.9 1468.33 Q1472.9 1459.58 1475.96 1455 Q1479.04 1450.39 1484.85 1450.39 Z\" fill=\"#000000\" fill-rule=\"nonzero\" fill-opacity=\"1\" /><path clip-path=\"url(#clip510)\" d=\"M1515.01 1454.1 Q1511.4 1454.1 1509.57 1457.66 Q1507.77 1461.2 1507.77 1468.33 Q1507.77 1475.44 1509.57 1479.01 Q1511.4 1482.55 1515.01 1482.55 Q1518.64 1482.55 1520.45 1479.01 Q1522.28 1475.44 1522.28 1468.33 Q1522.28 1461.2 1520.45 1457.66 Q1518.64 1454.1 1515.01 1454.1 M1515.01 1450.39 Q1520.82 1450.39 1523.88 1455 Q1526.96 1459.58 1526.96 1468.33 Q1526.96 1477.06 1523.88 1481.67 Q1520.82 1486.25 1515.01 1486.25 Q1509.2 1486.25 1506.12 1481.67 Q1503.07 1477.06 1503.07 1468.33 Q1503.07 1459.58 1506.12 1455 Q1509.2 1450.39 1515.01 1450.39 Z\" fill=\"#000000\" fill-rule=\"nonzero\" fill-opacity=\"1\" /><path clip-path=\"url(#clip510)\" d=\"M1545.17 1454.1 Q1541.56 1454.1 1539.73 1457.66 Q1537.93 1461.2 1537.93 1468.33 Q1537.93 1475.44 1539.73 1479.01 Q1541.56 1482.55 1545.17 1482.55 Q1548.81 1482.55 1550.61 1479.01 Q1552.44 1475.44 1552.44 1468.33 Q1552.44 1461.2 1550.61 1457.66 Q1548.81 1454.1 1545.17 1454.1 M1545.17 1450.39 Q1550.98 1450.39 1554.04 1455 Q1557.12 1459.58 1557.12 1468.33 Q1557.12 1477.06 1554.04 1481.67 Q1550.98 1486.25 1545.17 1486.25 Q1539.36 1486.25 1536.28 1481.67 Q1533.23 1477.06 1533.23 1468.33 Q1533.23 1459.58 1536.28 1455 Q1539.36 1450.39 1545.17 1450.39 Z\" fill=\"#000000\" fill-rule=\"nonzero\" fill-opacity=\"1\" /><path clip-path=\"url(#clip510)\" d=\"M2049.78 1481.64 L2057.42 1481.64 L2057.42 1455.28 L2049.11 1456.95 L2049.11 1452.69 L2057.38 1451.02 L2062.05 1451.02 L2062.05 1481.64 L2069.69 1481.64 L2069.69 1485.58 L2049.78 1485.58 L2049.78 1481.64 Z\" fill=\"#000000\" fill-rule=\"nonzero\" fill-opacity=\"1\" /><path clip-path=\"url(#clip510)\" d=\"M2079.18 1451.02 L2097.54 1451.02 L2097.54 1454.96 L2083.46 1454.96 L2083.46 1463.43 Q2084.48 1463.08 2085.5 1462.92 Q2086.52 1462.73 2087.54 1462.73 Q2093.32 1462.73 2096.7 1465.9 Q2100.08 1469.08 2100.08 1474.49 Q2100.08 1480.07 2096.61 1483.17 Q2093.14 1486.25 2086.82 1486.25 Q2084.64 1486.25 2082.38 1485.88 Q2080.13 1485.51 2077.72 1484.77 L2077.72 1480.07 Q2079.81 1481.2 2082.03 1481.76 Q2084.25 1482.32 2086.73 1482.32 Q2090.73 1482.32 2093.07 1480.21 Q2095.41 1478.1 2095.41 1474.49 Q2095.41 1470.88 2093.07 1468.77 Q2090.73 1466.67 2086.73 1466.67 Q2084.85 1466.67 2082.98 1467.08 Q2081.13 1467.5 2079.18 1468.38 L2079.18 1451.02 Z\" fill=\"#000000\" fill-rule=\"nonzero\" fill-opacity=\"1\" /><path clip-path=\"url(#clip510)\" d=\"M2119.3 1454.1 Q2115.69 1454.1 2113.86 1457.66 Q2112.05 1461.2 2112.05 1468.33 Q2112.05 1475.44 2113.86 1479.01 Q2115.69 1482.55 2119.3 1482.55 Q2122.93 1482.55 2124.74 1479.01 Q2126.56 1475.44 2126.56 1468.33 Q2126.56 1461.2 2124.74 1457.66 Q2122.93 1454.1 2119.3 1454.1 M2119.3 1450.39 Q2125.11 1450.39 2128.16 1455 Q2131.24 1459.58 2131.24 1468.33 Q2131.24 1477.06 2128.16 1481.67 Q2125.11 1486.25 2119.3 1486.25 Q2113.49 1486.25 2110.41 1481.67 Q2107.35 1477.06 2107.35 1468.33 Q2107.35 1459.58 2110.41 1455 Q2113.49 1450.39 2119.3 1450.39 Z\" fill=\"#000000\" fill-rule=\"nonzero\" fill-opacity=\"1\" /><path clip-path=\"url(#clip510)\" d=\"M2149.46 1454.1 Q2145.85 1454.1 2144.02 1457.66 Q2142.21 1461.2 2142.21 1468.33 Q2142.21 1475.44 2144.02 1479.01 Q2145.85 1482.55 2149.46 1482.55 Q2153.09 1482.55 2154.9 1479.01 Q2156.73 1475.44 2156.73 1468.33 Q2156.73 1461.2 2154.9 1457.66 Q2153.09 1454.1 2149.46 1454.1 M2149.46 1450.39 Q2155.27 1450.39 2158.32 1455 Q2161.4 1459.58 2161.4 1468.33 Q2161.4 1477.06 2158.32 1481.67 Q2155.27 1486.25 2149.46 1486.25 Q2143.65 1486.25 2140.57 1481.67 Q2137.51 1477.06 2137.51 1468.33 Q2137.51 1459.58 2140.57 1455 Q2143.65 1450.39 2149.46 1450.39 Z\" fill=\"#000000\" fill-rule=\"nonzero\" fill-opacity=\"1\" /><path clip-path=\"url(#clip510)\" d=\"M1294.26 1571.35 Q1291.78 1577.72 1289.42 1579.66 Q1287.07 1581.6 1283.12 1581.6 L1278.44 1581.6 L1278.44 1576.7 L1281.88 1576.7 Q1284.3 1576.7 1285.63 1575.56 Q1286.97 1574.41 1288.59 1570.14 L1289.64 1567.47 L1275.23 1532.4 L1281.43 1532.4 L1292.57 1560.28 L1303.71 1532.4 L1309.92 1532.4 L1294.26 1571.35 Z\" fill=\"#000000\" fill-rule=\"nonzero\" fill-opacity=\"1\" /><polyline clip-path=\"url(#clip512)\" style=\"stroke:#000000; stroke-linecap:round; stroke-linejoin:round; stroke-width:2; stroke-opacity:0.1; fill:none\" points=\"232.389,1386.4 2352.76,1386.4 \"/>\n",
       "<polyline clip-path=\"url(#clip512)\" style=\"stroke:#000000; stroke-linecap:round; stroke-linejoin:round; stroke-width:2; stroke-opacity:0.1; fill:none\" points=\"232.389,1045.24 2352.76,1045.24 \"/>\n",
       "<polyline clip-path=\"url(#clip512)\" style=\"stroke:#000000; stroke-linecap:round; stroke-linejoin:round; stroke-width:2; stroke-opacity:0.1; fill:none\" points=\"232.389,704.084 2352.76,704.084 \"/>\n",
       "<polyline clip-path=\"url(#clip512)\" style=\"stroke:#000000; stroke-linecap:round; stroke-linejoin:round; stroke-width:2; stroke-opacity:0.1; fill:none\" points=\"232.389,362.928 2352.76,362.928 \"/>\n",
       "<polyline clip-path=\"url(#clip510)\" style=\"stroke:#000000; stroke-linecap:round; stroke-linejoin:round; stroke-width:4; stroke-opacity:1; fill:none\" points=\"232.389,1423.18 232.389,123.472 \"/>\n",
       "<polyline clip-path=\"url(#clip510)\" style=\"stroke:#000000; stroke-linecap:round; stroke-linejoin:round; stroke-width:4; stroke-opacity:1; fill:none\" points=\"232.389,1386.4 251.287,1386.4 \"/>\n",
       "<polyline clip-path=\"url(#clip510)\" style=\"stroke:#000000; stroke-linecap:round; stroke-linejoin:round; stroke-width:4; stroke-opacity:1; fill:none\" points=\"232.389,1045.24 251.287,1045.24 \"/>\n",
       "<polyline clip-path=\"url(#clip510)\" style=\"stroke:#000000; stroke-linecap:round; stroke-linejoin:round; stroke-width:4; stroke-opacity:1; fill:none\" points=\"232.389,704.084 251.287,704.084 \"/>\n",
       "<polyline clip-path=\"url(#clip510)\" style=\"stroke:#000000; stroke-linecap:round; stroke-linejoin:round; stroke-width:4; stroke-opacity:1; fill:none\" points=\"232.389,362.928 251.287,362.928 \"/>\n",
       "<path clip-path=\"url(#clip510)\" d=\"M184.445 1372.19 Q180.834 1372.19 179.005 1375.76 Q177.2 1379.3 177.2 1386.43 Q177.2 1393.54 179.005 1397.1 Q180.834 1400.64 184.445 1400.64 Q188.079 1400.64 189.885 1397.1 Q191.713 1393.54 191.713 1386.43 Q191.713 1379.3 189.885 1375.76 Q188.079 1372.19 184.445 1372.19 M184.445 1368.49 Q190.255 1368.49 193.311 1373.1 Q196.389 1377.68 196.389 1386.43 Q196.389 1395.16 193.311 1399.76 Q190.255 1404.35 184.445 1404.35 Q178.635 1404.35 175.556 1399.76 Q172.501 1395.16 172.501 1386.43 Q172.501 1377.68 175.556 1373.1 Q178.635 1368.49 184.445 1368.49 Z\" fill=\"#000000\" fill-rule=\"nonzero\" fill-opacity=\"1\" /><path clip-path=\"url(#clip510)\" d=\"M144.329 1027.96 L162.686 1027.96 L162.686 1031.89 L148.612 1031.89 L148.612 1040.37 Q149.63 1040.02 150.649 1039.86 Q151.667 1039.67 152.686 1039.67 Q158.473 1039.67 161.852 1042.84 Q165.232 1046.02 165.232 1051.43 Q165.232 1057.01 161.76 1060.11 Q158.288 1063.19 151.968 1063.19 Q149.792 1063.19 147.524 1062.82 Q145.279 1062.45 142.871 1061.71 L142.871 1057.01 Q144.954 1058.14 147.177 1058.7 Q149.399 1059.26 151.876 1059.26 Q155.88 1059.26 158.218 1057.15 Q160.556 1055.04 160.556 1051.43 Q160.556 1047.82 158.218 1045.71 Q155.88 1043.61 151.876 1043.61 Q150.001 1043.61 148.126 1044.02 Q146.274 1044.44 144.329 1045.32 L144.329 1027.96 Z\" fill=\"#000000\" fill-rule=\"nonzero\" fill-opacity=\"1\" /><path clip-path=\"url(#clip510)\" d=\"M184.445 1031.04 Q180.834 1031.04 179.005 1034.6 Q177.2 1038.14 177.2 1045.27 Q177.2 1052.38 179.005 1055.95 Q180.834 1059.49 184.445 1059.49 Q188.079 1059.49 189.885 1055.95 Q191.713 1052.38 191.713 1045.27 Q191.713 1038.14 189.885 1034.6 Q188.079 1031.04 184.445 1031.04 M184.445 1027.33 Q190.255 1027.33 193.311 1031.94 Q196.389 1036.52 196.389 1045.27 Q196.389 1054 193.311 1058.61 Q190.255 1063.19 184.445 1063.19 Q178.635 1063.19 175.556 1058.61 Q172.501 1054 172.501 1045.27 Q172.501 1036.52 175.556 1031.94 Q178.635 1027.33 184.445 1027.33 Z\" fill=\"#000000\" fill-rule=\"nonzero\" fill-opacity=\"1\" /><path clip-path=\"url(#clip510)\" d=\"M114.931 717.429 L122.57 717.429 L122.57 691.063 L114.26 692.73 L114.26 688.471 L122.524 686.804 L127.2 686.804 L127.2 717.429 L134.839 717.429 L134.839 721.364 L114.931 721.364 L114.931 717.429 Z\" fill=\"#000000\" fill-rule=\"nonzero\" fill-opacity=\"1\" /><path clip-path=\"url(#clip510)\" d=\"M154.283 689.883 Q150.672 689.883 148.843 693.447 Q147.038 696.989 147.038 704.119 Q147.038 711.225 148.843 714.79 Q150.672 718.332 154.283 718.332 Q157.917 718.332 159.723 714.79 Q161.552 711.225 161.552 704.119 Q161.552 696.989 159.723 693.447 Q157.917 689.883 154.283 689.883 M154.283 686.179 Q160.093 686.179 163.149 690.785 Q166.227 695.369 166.227 704.119 Q166.227 712.845 163.149 717.452 Q160.093 722.035 154.283 722.035 Q148.473 722.035 145.394 717.452 Q142.339 712.845 142.339 704.119 Q142.339 695.369 145.394 690.785 Q148.473 686.179 154.283 686.179 Z\" fill=\"#000000\" fill-rule=\"nonzero\" fill-opacity=\"1\" /><path clip-path=\"url(#clip510)\" d=\"M184.445 689.883 Q180.834 689.883 179.005 693.447 Q177.2 696.989 177.2 704.119 Q177.2 711.225 179.005 714.79 Q180.834 718.332 184.445 718.332 Q188.079 718.332 189.885 714.79 Q191.713 711.225 191.713 704.119 Q191.713 696.989 189.885 693.447 Q188.079 689.883 184.445 689.883 M184.445 686.179 Q190.255 686.179 193.311 690.785 Q196.389 695.369 196.389 704.119 Q196.389 712.845 193.311 717.452 Q190.255 722.035 184.445 722.035 Q178.635 722.035 175.556 717.452 Q172.501 712.845 172.501 704.119 Q172.501 695.369 175.556 690.785 Q178.635 686.179 184.445 686.179 Z\" fill=\"#000000\" fill-rule=\"nonzero\" fill-opacity=\"1\" /><path clip-path=\"url(#clip510)\" d=\"M114.931 376.273 L122.57 376.273 L122.57 349.907 L114.26 351.574 L114.26 347.315 L122.524 345.648 L127.2 345.648 L127.2 376.273 L134.839 376.273 L134.839 380.208 L114.931 380.208 L114.931 376.273 Z\" fill=\"#000000\" fill-rule=\"nonzero\" fill-opacity=\"1\" /><path clip-path=\"url(#clip510)\" d=\"M144.329 345.648 L162.686 345.648 L162.686 349.583 L148.612 349.583 L148.612 358.055 Q149.63 357.708 150.649 357.546 Q151.667 357.361 152.686 357.361 Q158.473 357.361 161.852 360.532 Q165.232 363.704 165.232 369.12 Q165.232 374.699 161.76 377.801 Q158.288 380.879 151.968 380.879 Q149.792 380.879 147.524 380.509 Q145.279 380.139 142.871 379.398 L142.871 374.699 Q144.954 375.833 147.177 376.389 Q149.399 376.944 151.876 376.944 Q155.88 376.944 158.218 374.838 Q160.556 372.731 160.556 369.12 Q160.556 365.509 158.218 363.403 Q155.88 361.296 151.876 361.296 Q150.001 361.296 148.126 361.713 Q146.274 362.129 144.329 363.009 L144.329 345.648 Z\" fill=\"#000000\" fill-rule=\"nonzero\" fill-opacity=\"1\" /><path clip-path=\"url(#clip510)\" d=\"M184.445 348.727 Q180.834 348.727 179.005 352.292 Q177.2 355.833 177.2 362.963 Q177.2 370.069 179.005 373.634 Q180.834 377.176 184.445 377.176 Q188.079 377.176 189.885 373.634 Q191.713 370.069 191.713 362.963 Q191.713 355.833 189.885 352.292 Q188.079 348.727 184.445 348.727 M184.445 345.023 Q190.255 345.023 193.311 349.63 Q196.389 354.213 196.389 362.963 Q196.389 371.69 193.311 376.296 Q190.255 380.879 184.445 380.879 Q178.635 380.879 175.556 376.296 Q172.501 371.69 172.501 362.963 Q172.501 354.213 175.556 349.63 Q178.635 345.023 184.445 345.023 Z\" fill=\"#000000\" fill-rule=\"nonzero\" fill-opacity=\"1\" /><path clip-path=\"url(#clip510)\" d=\"M21.7677 886.636 L58.7206 886.636 L58.7206 878.869 Q58.7206 869.034 54.2646 864.483 Q49.8086 859.9 40.1964 859.9 Q30.6479 859.9 26.2237 864.483 Q21.7677 869.034 21.7677 878.869 L21.7677 886.636 M16.4842 893.065 L16.4842 879.856 Q16.4842 866.043 22.2451 859.581 Q27.9743 853.12 40.1964 853.12 Q52.4822 853.12 58.2432 859.613 Q64.0042 866.106 64.0042 879.856 L64.0042 893.065 L16.4842 893.065 Z\" fill=\"#000000\" fill-rule=\"nonzero\" fill-opacity=\"1\" /><path clip-path=\"url(#clip510)\" d=\"M44.7161 812.634 L47.5806 812.634 L47.5806 839.561 Q53.6281 839.179 56.8109 835.933 Q59.9619 832.654 59.9619 826.83 Q59.9619 823.456 59.1344 820.305 Q58.3069 817.122 56.6518 814.003 L62.1899 814.003 Q63.5267 817.154 64.227 820.464 Q64.9272 823.774 64.9272 827.18 Q64.9272 835.71 59.9619 840.707 Q54.9967 845.672 46.5303 845.672 Q37.7774 845.672 32.6531 840.962 Q27.4968 836.219 27.4968 828.198 Q27.4968 821.005 32.1438 816.836 Q36.7589 812.634 44.7161 812.634 M42.9973 818.491 Q38.1912 818.554 35.3266 821.196 Q32.4621 823.806 32.4621 828.135 Q32.4621 833.036 35.2312 835.996 Q38.0002 838.925 43.0292 839.37 L42.9973 818.491 Z\" fill=\"#000000\" fill-rule=\"nonzero\" fill-opacity=\"1\" /><path clip-path=\"url(#clip510)\" d=\"M42.4881 773.39 L64.0042 773.39 L64.0042 779.246 L42.679 779.246 Q37.6183 779.246 35.1038 781.219 Q32.5894 783.193 32.5894 787.14 Q32.5894 791.882 35.6131 794.619 Q38.6368 797.357 43.8567 797.357 L64.0042 797.357 L64.0042 803.245 L28.3562 803.245 L28.3562 797.357 L33.8944 797.357 Q30.6797 795.256 29.0883 792.423 Q27.4968 789.559 27.4968 785.835 Q27.4968 779.692 31.3163 776.541 Q35.1038 773.39 42.4881 773.39 Z\" fill=\"#000000\" fill-rule=\"nonzero\" fill-opacity=\"1\" /><path clip-path=\"url(#clip510)\" d=\"M29.4065 738.983 L34.9447 738.983 Q33.6716 741.466 33.035 744.139 Q32.3984 746.813 32.3984 749.677 Q32.3984 754.038 33.7352 756.234 Q35.072 758.398 37.7456 758.398 Q39.7826 758.398 40.9603 756.839 Q42.1061 755.279 43.1565 750.569 L43.6021 748.563 Q44.9389 742.325 47.3897 739.715 Q49.8086 737.073 54.1691 737.073 Q59.1344 737.073 62.0308 741.02 Q64.9272 744.935 64.9272 751.81 Q64.9272 754.674 64.3543 757.794 Q63.8132 760.881 62.6992 764.319 L56.6518 764.319 Q58.3387 761.072 59.198 757.921 Q60.0256 754.77 60.0256 751.683 Q60.0256 747.545 58.6251 745.317 Q57.1929 743.089 54.6147 743.089 Q52.2276 743.089 50.9545 744.712 Q49.6813 746.304 48.5037 751.746 L48.0262 753.783 Q46.8804 759.226 44.5251 761.645 Q42.138 764.064 38.0002 764.064 Q32.9713 764.064 30.2341 760.499 Q27.4968 756.934 27.4968 750.378 Q27.4968 747.131 27.9743 744.267 Q28.4517 741.402 29.4065 738.983 Z\" fill=\"#000000\" fill-rule=\"nonzero\" fill-opacity=\"1\" /><path clip-path=\"url(#clip510)\" d=\"M28.3562 727.748 L28.3562 721.891 L64.0042 721.891 L64.0042 727.748 L28.3562 727.748 M14.479 727.748 L14.479 721.891 L21.895 721.891 L21.895 727.748 L14.479 727.748 Z\" fill=\"#000000\" fill-rule=\"nonzero\" fill-opacity=\"1\" /><path clip-path=\"url(#clip510)\" d=\"M18.2347 703.844 L28.3562 703.844 L28.3562 691.781 L32.9077 691.781 L32.9077 703.844 L52.2594 703.844 Q56.6199 703.844 57.8613 702.667 Q59.1026 701.457 59.1026 697.797 L59.1026 691.781 L64.0042 691.781 L64.0042 697.797 Q64.0042 704.576 61.4897 707.154 Q58.9434 709.733 52.2594 709.733 L32.9077 709.733 L32.9077 714.029 L28.3562 714.029 L28.3562 709.733 L18.2347 709.733 L18.2347 703.844 Z\" fill=\"#000000\" fill-rule=\"nonzero\" fill-opacity=\"1\" /><path clip-path=\"url(#clip510)\" d=\"M67.3143 669.247 Q73.68 671.729 75.6216 674.085 Q77.5631 676.44 77.5631 680.387 L77.5631 685.065 L72.6615 685.065 L72.6615 681.628 Q72.6615 679.209 71.5157 677.872 Q70.3699 676.535 66.1048 674.912 L63.4312 673.862 L28.3562 688.28 L28.3562 682.074 L56.238 670.934 L28.3562 659.794 L28.3562 653.587 L67.3143 669.247 Z\" fill=\"#000000\" fill-rule=\"nonzero\" fill-opacity=\"1\" /><path clip-path=\"url(#clip510)\" d=\"M595.453 12.096 L603.635 12.096 L603.635 36.8875 L633.369 36.8875 L633.369 12.096 L641.552 12.096 L641.552 72.576 L633.369 72.576 L633.369 43.7741 L603.635 43.7741 L603.635 72.576 L595.453 72.576 L595.453 12.096 Z\" fill=\"#000000\" fill-rule=\"nonzero\" fill-opacity=\"1\" /><path clip-path=\"url(#clip510)\" d=\"M657.512 27.2059 L664.966 27.2059 L664.966 72.576 L657.512 72.576 L657.512 27.2059 M657.512 9.54393 L664.966 9.54393 L664.966 18.9825 L657.512 18.9825 L657.512 9.54393 Z\" fill=\"#000000\" fill-rule=\"nonzero\" fill-opacity=\"1\" /><path clip-path=\"url(#clip510)\" d=\"M709.485 28.5427 L709.485 35.5912 Q706.326 33.9709 702.923 33.1607 Q699.52 32.3505 695.874 32.3505 Q690.325 32.3505 687.53 34.0519 Q684.775 35.7533 684.775 39.156 Q684.775 41.7486 686.76 43.2475 Q688.745 44.7058 694.74 46.0426 L697.292 46.6097 Q705.232 48.3111 708.554 51.4303 Q711.916 54.509 711.916 60.0587 Q711.916 66.3781 706.893 70.0644 Q701.91 73.7508 693.16 73.7508 Q689.515 73.7508 685.545 73.0216 Q681.615 72.3329 677.24 70.9151 L677.24 63.2184 Q681.372 65.3654 685.383 66.4591 Q689.393 67.5124 693.322 67.5124 Q698.589 67.5124 701.424 65.73 Q704.26 63.9071 704.26 60.6258 Q704.26 57.5877 702.194 55.9673 Q700.168 54.3469 693.241 52.8481 L690.649 52.2405 Q683.722 50.7821 680.643 47.7845 Q677.564 44.7463 677.564 39.4801 Q677.564 33.0797 682.101 29.5959 Q686.638 26.1121 694.983 26.1121 Q699.115 26.1121 702.761 26.7198 Q706.407 27.3274 709.485 28.5427 Z\" fill=\"#000000\" fill-rule=\"nonzero\" fill-opacity=\"1\" /><path clip-path=\"url(#clip510)\" d=\"M731.158 14.324 L731.158 27.2059 L746.511 27.2059 L746.511 32.9987 L731.158 32.9987 L731.158 57.6282 Q731.158 63.1779 732.657 64.7578 Q734.196 66.3376 738.855 66.3376 L746.511 66.3376 L746.511 72.576 L738.855 72.576 Q730.226 72.576 726.945 69.3758 Q723.664 66.1351 723.664 57.6282 L723.664 32.9987 L718.195 32.9987 L718.195 27.2059 L723.664 27.2059 L723.664 14.324 L731.158 14.324 Z\" fill=\"#000000\" fill-rule=\"nonzero\" fill-opacity=\"1\" /><path clip-path=\"url(#clip510)\" d=\"M773.895 32.4315 Q767.9 32.4315 764.416 37.1306 Q760.932 41.7891 760.932 49.9314 Q760.932 58.0738 764.375 62.7728 Q767.859 67.4314 773.895 67.4314 Q779.85 67.4314 783.333 62.7323 Q786.817 58.0333 786.817 49.9314 Q786.817 41.8701 783.333 37.1711 Q779.85 32.4315 773.895 32.4315 M773.895 26.1121 Q783.617 26.1121 789.167 32.4315 Q794.716 38.7509 794.716 49.9314 Q794.716 61.0714 789.167 67.4314 Q783.617 73.7508 773.895 73.7508 Q764.132 73.7508 758.582 67.4314 Q753.073 61.0714 753.073 49.9314 Q753.073 38.7509 758.582 32.4315 Q764.132 26.1121 773.895 26.1121 Z\" fill=\"#000000\" fill-rule=\"nonzero\" fill-opacity=\"1\" /><path clip-path=\"url(#clip510)\" d=\"M836.927 49.3643 Q836.927 41.2625 833.565 36.8065 Q830.243 32.3505 824.207 32.3505 Q818.212 32.3505 814.849 36.8065 Q811.528 41.2625 811.528 49.3643 Q811.528 57.4256 814.849 61.8816 Q818.212 66.3376 824.207 66.3376 Q830.243 66.3376 833.565 61.8816 Q836.927 57.4256 836.927 49.3643 M844.381 66.9452 Q844.381 78.5308 839.236 84.1616 Q834.091 89.8329 823.478 89.8329 Q819.549 89.8329 816.065 89.2252 Q812.581 88.6581 809.3 87.4428 L809.3 80.1917 Q812.581 81.9741 815.781 82.8248 Q818.981 83.6755 822.303 83.6755 Q829.635 83.6755 833.281 79.8271 Q836.927 76.0193 836.927 68.282 L836.927 64.5957 Q834.618 68.6061 831.013 70.5911 Q827.407 72.576 822.384 72.576 Q814.039 72.576 808.935 66.2161 Q803.831 59.8562 803.831 49.3643 Q803.831 38.832 808.935 32.472 Q814.039 26.1121 822.384 26.1121 Q827.407 26.1121 831.013 28.0971 Q834.618 30.082 836.927 34.0924 L836.927 27.2059 L844.381 27.2059 L844.381 66.9452 Z\" fill=\"#000000\" fill-rule=\"nonzero\" fill-opacity=\"1\" /><path clip-path=\"url(#clip510)\" d=\"M886.024 34.1734 Q884.768 33.4443 883.269 33.1202 Q881.811 32.7556 880.029 32.7556 Q873.709 32.7556 870.306 36.8875 Q866.944 40.9789 866.944 48.6757 L866.944 72.576 L859.45 72.576 L859.45 27.2059 L866.944 27.2059 L866.944 34.2544 Q869.294 30.1225 873.061 28.1376 Q876.828 26.1121 882.216 26.1121 Q882.986 26.1121 883.917 26.2337 Q884.849 26.3147 885.983 26.5172 L886.024 34.1734 Z\" fill=\"#000000\" fill-rule=\"nonzero\" fill-opacity=\"1\" /><path clip-path=\"url(#clip510)\" d=\"M914.461 49.7694 Q905.428 49.7694 901.944 51.8354 Q898.46 53.9013 898.46 58.8839 Q898.46 62.8538 901.053 65.2034 Q903.686 67.5124 908.182 67.5124 Q914.38 67.5124 918.107 63.1374 Q921.874 58.7219 921.874 51.4303 L921.874 49.7694 L914.461 49.7694 M929.328 46.6907 L929.328 72.576 L921.874 72.576 L921.874 65.6895 Q919.322 69.8214 915.514 71.8063 Q911.707 73.7508 906.197 73.7508 Q899.23 73.7508 895.098 69.8619 Q891.006 65.9325 891.006 59.3701 Q891.006 51.7138 896.111 47.825 Q901.255 43.9361 911.423 43.9361 L921.874 43.9361 L921.874 43.2069 Q921.874 38.0623 918.472 35.2672 Q915.109 32.4315 908.993 32.4315 Q905.104 32.4315 901.417 33.3632 Q897.731 34.295 894.328 36.1584 L894.328 29.2718 Q898.42 27.692 902.268 26.9223 Q906.116 26.1121 909.762 26.1121 Q919.606 26.1121 924.467 31.2163 Q929.328 36.3204 929.328 46.6907 Z\" fill=\"#000000\" fill-rule=\"nonzero\" fill-opacity=\"1\" /><path clip-path=\"url(#clip510)\" d=\"M980.005 35.9153 Q982.8 30.8922 986.689 28.5022 Q990.578 26.1121 995.844 26.1121 Q1002.93 26.1121 1006.78 31.0947 Q1010.63 36.0368 1010.63 45.1919 L1010.63 72.576 L1003.14 72.576 L1003.14 45.4349 Q1003.14 38.913 1000.83 35.7533 Q998.517 32.5936 993.778 32.5936 Q987.985 32.5936 984.623 36.4419 Q981.261 40.2903 981.261 46.9338 L981.261 72.576 L973.766 72.576 L973.766 45.4349 Q973.766 38.8725 971.457 35.7533 Q969.148 32.5936 964.328 32.5936 Q958.616 32.5936 955.254 36.4824 Q951.892 40.3308 951.892 46.9338 L951.892 72.576 L944.397 72.576 L944.397 27.2059 L951.892 27.2059 L951.892 34.2544 Q954.444 30.082 958.008 28.0971 Q961.573 26.1121 966.475 26.1121 Q971.417 26.1121 974.86 28.6237 Q978.344 31.1352 980.005 35.9153 Z\" fill=\"#000000\" fill-rule=\"nonzero\" fill-opacity=\"1\" /><path clip-path=\"url(#clip510)\" d=\"M1072.49 49.7694 Q1063.45 49.7694 1059.97 51.8354 Q1056.49 53.9013 1056.49 58.8839 Q1056.49 62.8538 1059.08 65.2034 Q1061.71 67.5124 1066.21 67.5124 Q1072.41 67.5124 1076.13 63.1374 Q1079.9 58.7219 1079.9 51.4303 L1079.9 49.7694 L1072.49 49.7694 M1087.35 46.6907 L1087.35 72.576 L1079.9 72.576 L1079.9 65.6895 Q1077.35 69.8214 1073.54 71.8063 Q1069.73 73.7508 1064.22 73.7508 Q1057.26 73.7508 1053.12 69.8619 Q1049.03 65.9325 1049.03 59.3701 Q1049.03 51.7138 1054.14 47.825 Q1059.28 43.9361 1069.45 43.9361 L1079.9 43.9361 L1079.9 43.2069 Q1079.9 38.0623 1076.5 35.2672 Q1073.14 32.4315 1067.02 32.4315 Q1063.13 32.4315 1059.44 33.3632 Q1055.76 34.295 1052.35 36.1584 L1052.35 29.2718 Q1056.45 27.692 1060.29 26.9223 Q1064.14 26.1121 1067.79 26.1121 Q1077.63 26.1121 1082.49 31.2163 Q1087.35 36.3204 1087.35 46.6907 Z\" fill=\"#000000\" fill-rule=\"nonzero\" fill-opacity=\"1\" /><path clip-path=\"url(#clip510)\" d=\"M1140.42 45.1919 L1140.42 72.576 L1132.97 72.576 L1132.97 45.4349 Q1132.97 38.994 1130.46 35.7938 Q1127.94 32.5936 1122.92 32.5936 Q1116.88 32.5936 1113.4 36.4419 Q1109.92 40.2903 1109.92 46.9338 L1109.92 72.576 L1102.42 72.576 L1102.42 27.2059 L1109.92 27.2059 L1109.92 34.2544 Q1112.59 30.163 1116.2 28.1376 Q1119.84 26.1121 1124.58 26.1121 Q1132.4 26.1121 1136.41 30.9732 Q1140.42 35.7938 1140.42 45.1919 Z\" fill=\"#000000\" fill-rule=\"nonzero\" fill-opacity=\"1\" /><path clip-path=\"url(#clip510)\" d=\"M1185.14 34.0924 L1185.14 9.54393 L1192.6 9.54393 L1192.6 72.576 L1185.14 72.576 L1185.14 65.7705 Q1182.79 69.8214 1179.19 71.8063 Q1175.62 73.7508 1170.6 73.7508 Q1162.38 73.7508 1157.19 67.1883 Q1152.05 60.6258 1152.05 49.9314 Q1152.05 39.2371 1157.19 32.6746 Q1162.38 26.1121 1170.6 26.1121 Q1175.62 26.1121 1179.19 28.0971 Q1182.79 30.0415 1185.14 34.0924 M1159.74 49.9314 Q1159.74 58.1548 1163.11 62.8538 Q1166.51 67.5124 1172.42 67.5124 Q1178.34 67.5124 1181.74 62.8538 Q1185.14 58.1548 1185.14 49.9314 Q1185.14 41.7081 1181.74 37.0496 Q1178.34 32.3505 1172.42 32.3505 Q1166.51 32.3505 1163.11 37.0496 Q1159.74 41.7081 1159.74 49.9314 Z\" fill=\"#000000\" fill-rule=\"nonzero\" fill-opacity=\"1\" /><path clip-path=\"url(#clip510)\" d=\"M1234.64 12.096 L1246.84 12.096 L1262.27 53.2532 L1277.79 12.096 L1289.98 12.096 L1289.98 72.576 L1282 72.576 L1282 19.4686 L1266.4 60.9499 L1258.18 60.9499 L1242.58 19.4686 L1242.58 72.576 L1234.64 72.576 L1234.64 12.096 Z\" fill=\"#000000\" fill-rule=\"nonzero\" fill-opacity=\"1\" /><path clip-path=\"url(#clip510)\" d=\"M1326.52 49.7694 Q1317.49 49.7694 1314 51.8354 Q1310.52 53.9013 1310.52 58.8839 Q1310.52 62.8538 1313.11 65.2034 Q1315.74 67.5124 1320.24 67.5124 Q1326.44 67.5124 1330.17 63.1374 Q1333.93 58.7219 1333.93 51.4303 L1333.93 49.7694 L1326.52 49.7694 M1341.39 46.6907 L1341.39 72.576 L1333.93 72.576 L1333.93 65.6895 Q1331.38 69.8214 1327.57 71.8063 Q1323.76 73.7508 1318.26 73.7508 Q1311.29 73.7508 1307.16 69.8619 Q1303.06 65.9325 1303.06 59.3701 Q1303.06 51.7138 1308.17 47.825 Q1313.31 43.9361 1323.48 43.9361 L1333.93 43.9361 L1333.93 43.2069 Q1333.93 38.0623 1330.53 35.2672 Q1327.17 32.4315 1321.05 32.4315 Q1317.16 32.4315 1313.48 33.3632 Q1309.79 34.295 1306.39 36.1584 L1306.39 29.2718 Q1310.48 27.692 1314.33 26.9223 Q1318.17 26.1121 1321.82 26.1121 Q1331.66 26.1121 1336.52 31.2163 Q1341.39 36.3204 1341.39 46.6907 Z\" fill=\"#000000\" fill-rule=\"nonzero\" fill-opacity=\"1\" /><path clip-path=\"url(#clip510)\" d=\"M1383.03 34.1734 Q1381.77 33.4443 1380.27 33.1202 Q1378.82 32.7556 1377.03 32.7556 Q1370.71 32.7556 1367.31 36.8875 Q1363.95 40.9789 1363.95 48.6757 L1363.95 72.576 L1356.46 72.576 L1356.46 27.2059 L1363.95 27.2059 L1363.95 34.2544 Q1366.3 30.1225 1370.07 28.1376 Q1373.83 26.1121 1379.22 26.1121 Q1379.99 26.1121 1380.92 26.2337 Q1381.85 26.3147 1382.99 26.5172 L1383.03 34.1734 Z\" fill=\"#000000\" fill-rule=\"nonzero\" fill-opacity=\"1\" /><path clip-path=\"url(#clip510)\" d=\"M1419.24 49.3643 Q1419.24 41.2625 1415.88 36.8065 Q1412.56 32.3505 1406.52 32.3505 Q1400.53 32.3505 1397.17 36.8065 Q1393.85 41.2625 1393.85 49.3643 Q1393.85 57.4256 1397.17 61.8816 Q1400.53 66.3376 1406.52 66.3376 Q1412.56 66.3376 1415.88 61.8816 Q1419.24 57.4256 1419.24 49.3643 M1426.7 66.9452 Q1426.7 78.5308 1421.55 84.1616 Q1416.41 89.8329 1405.8 89.8329 Q1401.87 89.8329 1398.38 89.2252 Q1394.9 88.6581 1391.62 87.4428 L1391.62 80.1917 Q1394.9 81.9741 1398.1 82.8248 Q1401.3 83.6755 1404.62 83.6755 Q1411.95 83.6755 1415.6 79.8271 Q1419.24 76.0193 1419.24 68.282 L1419.24 64.5957 Q1416.94 68.6061 1413.33 70.5911 Q1409.72 72.576 1404.7 72.576 Q1396.36 72.576 1391.25 66.2161 Q1386.15 59.8562 1386.15 49.3643 Q1386.15 38.832 1391.25 32.472 Q1396.36 26.1121 1404.7 26.1121 Q1409.72 26.1121 1413.33 28.0971 Q1416.94 30.082 1419.24 34.0924 L1419.24 27.2059 L1426.7 27.2059 L1426.7 66.9452 Z\" fill=\"#000000\" fill-rule=\"nonzero\" fill-opacity=\"1\" /><path clip-path=\"url(#clip510)\" d=\"M1442.05 27.2059 L1449.5 27.2059 L1449.5 72.576 L1442.05 72.576 L1442.05 27.2059 M1442.05 9.54393 L1449.5 9.54393 L1449.5 18.9825 L1442.05 18.9825 L1442.05 9.54393 Z\" fill=\"#000000\" fill-rule=\"nonzero\" fill-opacity=\"1\" /><path clip-path=\"url(#clip510)\" d=\"M1502.81 45.1919 L1502.81 72.576 L1495.36 72.576 L1495.36 45.4349 Q1495.36 38.994 1492.85 35.7938 Q1490.34 32.5936 1485.31 32.5936 Q1479.28 32.5936 1475.8 36.4419 Q1472.31 40.2903 1472.31 46.9338 L1472.31 72.576 L1464.82 72.576 L1464.82 27.2059 L1472.31 27.2059 L1472.31 34.2544 Q1474.98 30.163 1478.59 28.1376 Q1482.24 26.1121 1486.98 26.1121 Q1494.79 26.1121 1498.8 30.9732 Q1502.81 35.7938 1502.81 45.1919 Z\" fill=\"#000000\" fill-rule=\"nonzero\" fill-opacity=\"1\" /><path clip-path=\"url(#clip510)\" d=\"M1538.3 49.7694 Q1529.27 49.7694 1525.78 51.8354 Q1522.3 53.9013 1522.3 58.8839 Q1522.3 62.8538 1524.89 65.2034 Q1527.53 67.5124 1532.02 67.5124 Q1538.22 67.5124 1541.95 63.1374 Q1545.71 58.7219 1545.71 51.4303 L1545.71 49.7694 L1538.3 49.7694 M1553.17 46.6907 L1553.17 72.576 L1545.71 72.576 L1545.71 65.6895 Q1543.16 69.8214 1539.35 71.8063 Q1535.55 73.7508 1530.04 73.7508 Q1523.07 73.7508 1518.94 69.8619 Q1514.85 65.9325 1514.85 59.3701 Q1514.85 51.7138 1519.95 47.825 Q1525.09 43.9361 1535.26 43.9361 L1545.71 43.9361 L1545.71 43.2069 Q1545.71 38.0623 1542.31 35.2672 Q1538.95 32.4315 1532.83 32.4315 Q1528.94 32.4315 1525.26 33.3632 Q1521.57 34.295 1518.17 36.1584 L1518.17 29.2718 Q1522.26 27.692 1526.11 26.9223 Q1529.96 26.1121 1533.6 26.1121 Q1543.45 26.1121 1548.31 31.2163 Q1553.17 36.3204 1553.17 46.6907 Z\" fill=\"#000000\" fill-rule=\"nonzero\" fill-opacity=\"1\" /><path clip-path=\"url(#clip510)\" d=\"M1568.52 9.54393 L1575.97 9.54393 L1575.97 72.576 L1568.52 72.576 L1568.52 9.54393 Z\" fill=\"#000000\" fill-rule=\"nonzero\" fill-opacity=\"1\" /><path clip-path=\"url(#clip510)\" d=\"M1626.45 18.8205 L1626.45 65.8515 L1636.33 65.8515 Q1648.85 65.8515 1654.64 60.1802 Q1660.48 54.509 1660.48 42.2752 Q1660.48 30.1225 1654.64 24.4918 Q1648.85 18.8205 1636.33 18.8205 L1626.45 18.8205 M1618.27 12.096 L1635.08 12.096 Q1652.66 12.096 1660.88 19.4281 Q1669.1 26.7198 1669.1 42.2752 Q1669.1 57.9117 1660.84 65.2439 Q1652.58 72.576 1635.08 72.576 L1618.27 72.576 L1618.27 12.096 Z\" fill=\"#000000\" fill-rule=\"nonzero\" fill-opacity=\"1\" /><path clip-path=\"url(#clip510)\" d=\"M1720.63 48.0275 L1720.63 51.6733 L1686.36 51.6733 Q1686.85 59.3701 1690.98 63.421 Q1695.15 67.4314 1702.56 67.4314 Q1706.86 67.4314 1710.87 66.3781 Q1714.92 65.3249 1718.89 63.2184 L1718.89 70.267 Q1714.88 71.9684 1710.67 72.8596 Q1706.45 73.7508 1702.12 73.7508 Q1691.26 73.7508 1684.9 67.4314 Q1678.58 61.1119 1678.58 50.3365 Q1678.58 39.1965 1684.58 32.6746 Q1690.61 26.1121 1700.82 26.1121 Q1709.98 26.1121 1715.28 32.0264 Q1720.63 37.9003 1720.63 48.0275 M1713.18 45.84 Q1713.1 39.7232 1709.73 36.0774 Q1706.41 32.4315 1700.9 32.4315 Q1694.67 32.4315 1690.9 35.9558 Q1687.17 39.4801 1686.6 45.8805 L1713.18 45.84 Z\" fill=\"#000000\" fill-rule=\"nonzero\" fill-opacity=\"1\" /><path clip-path=\"url(#clip510)\" d=\"M1770.58 45.1919 L1770.58 72.576 L1763.13 72.576 L1763.13 45.4349 Q1763.13 38.994 1760.61 35.7938 Q1758.1 32.5936 1753.08 32.5936 Q1747.04 32.5936 1743.56 36.4419 Q1740.08 40.2903 1740.08 46.9338 L1740.08 72.576 L1732.58 72.576 L1732.58 27.2059 L1740.08 27.2059 L1740.08 34.2544 Q1742.75 30.163 1746.35 28.1376 Q1750 26.1121 1754.74 26.1121 Q1762.56 26.1121 1766.57 30.9732 Q1770.58 35.7938 1770.58 45.1919 Z\" fill=\"#000000\" fill-rule=\"nonzero\" fill-opacity=\"1\" /><path clip-path=\"url(#clip510)\" d=\"M1814.37 28.5427 L1814.37 35.5912 Q1811.21 33.9709 1807.81 33.1607 Q1804.4 32.3505 1800.76 32.3505 Q1795.21 32.3505 1792.41 34.0519 Q1789.66 35.7533 1789.66 39.156 Q1789.66 41.7486 1791.64 43.2475 Q1793.63 44.7058 1799.62 46.0426 L1802.18 46.6097 Q1810.12 48.3111 1813.44 51.4303 Q1816.8 54.509 1816.8 60.0587 Q1816.8 66.3781 1811.78 70.0644 Q1806.79 73.7508 1798.04 73.7508 Q1794.4 73.7508 1790.43 73.0216 Q1786.5 72.3329 1782.12 70.9151 L1782.12 63.2184 Q1786.26 65.3654 1790.27 66.4591 Q1794.28 67.5124 1798.21 67.5124 Q1803.47 67.5124 1806.31 65.73 Q1809.14 63.9071 1809.14 60.6258 Q1809.14 57.5877 1807.08 55.9673 Q1805.05 54.3469 1798.13 52.8481 L1795.53 52.2405 Q1788.61 50.7821 1785.53 47.7845 Q1782.45 44.7463 1782.45 39.4801 Q1782.45 33.0797 1786.99 29.5959 Q1791.52 26.1121 1799.87 26.1121 Q1804 26.1121 1807.65 26.7198 Q1811.29 27.3274 1814.37 28.5427 Z\" fill=\"#000000\" fill-rule=\"nonzero\" fill-opacity=\"1\" /><path clip-path=\"url(#clip510)\" d=\"M1828.67 27.2059 L1836.12 27.2059 L1836.12 72.576 L1828.67 72.576 L1828.67 27.2059 M1828.67 9.54393 L1836.12 9.54393 L1836.12 18.9825 L1828.67 18.9825 L1828.67 9.54393 Z\" fill=\"#000000\" fill-rule=\"nonzero\" fill-opacity=\"1\" /><path clip-path=\"url(#clip510)\" d=\"M1859.09 14.324 L1859.09 27.2059 L1874.44 27.2059 L1874.44 32.9987 L1859.09 32.9987 L1859.09 57.6282 Q1859.09 63.1779 1860.59 64.7578 Q1862.13 66.3376 1866.79 66.3376 L1874.44 66.3376 L1874.44 72.576 L1866.79 72.576 Q1858.16 72.576 1854.88 69.3758 Q1851.6 66.1351 1851.6 57.6282 L1851.6 32.9987 L1846.13 32.9987 L1846.13 27.2059 L1851.6 27.2059 L1851.6 14.324 L1859.09 14.324 Z\" fill=\"#000000\" fill-rule=\"nonzero\" fill-opacity=\"1\" /><path clip-path=\"url(#clip510)\" d=\"M1884.25 27.2059 L1891.7 27.2059 L1891.7 72.576 L1884.25 72.576 L1884.25 27.2059 M1884.25 9.54393 L1891.7 9.54393 L1891.7 18.9825 L1884.25 18.9825 L1884.25 9.54393 Z\" fill=\"#000000\" fill-rule=\"nonzero\" fill-opacity=\"1\" /><path clip-path=\"url(#clip510)\" d=\"M1946.11 48.0275 L1946.11 51.6733 L1911.83 51.6733 Q1912.32 59.3701 1916.45 63.421 Q1920.62 67.4314 1928.04 67.4314 Q1932.33 67.4314 1936.34 66.3781 Q1940.39 65.3249 1944.36 63.2184 L1944.36 70.267 Q1940.35 71.9684 1936.14 72.8596 Q1931.93 73.7508 1927.59 73.7508 Q1916.74 73.7508 1910.38 67.4314 Q1904.06 61.1119 1904.06 50.3365 Q1904.06 39.1965 1910.05 32.6746 Q1916.09 26.1121 1926.3 26.1121 Q1935.45 26.1121 1940.76 32.0264 Q1946.11 37.9003 1946.11 48.0275 M1938.65 45.84 Q1938.57 39.7232 1935.21 36.0774 Q1931.89 32.4315 1926.38 32.4315 Q1920.14 32.4315 1916.37 35.9558 Q1912.64 39.4801 1912.08 45.8805 L1938.65 45.84 Z\" fill=\"#000000\" fill-rule=\"nonzero\" fill-opacity=\"1\" /><path clip-path=\"url(#clip510)\" d=\"M1987.26 28.5427 L1987.26 35.5912 Q1984.1 33.9709 1980.7 33.1607 Q1977.3 32.3505 1973.65 32.3505 Q1968.1 32.3505 1965.31 34.0519 Q1962.55 35.7533 1962.55 39.156 Q1962.55 41.7486 1964.54 43.2475 Q1966.52 44.7058 1972.52 46.0426 L1975.07 46.6097 Q1983.01 48.3111 1986.33 51.4303 Q1989.69 54.509 1989.69 60.0587 Q1989.69 66.3781 1984.67 70.0644 Q1979.69 73.7508 1970.94 73.7508 Q1967.29 73.7508 1963.32 73.0216 Q1959.39 72.3329 1955.02 70.9151 L1955.02 63.2184 Q1959.15 65.3654 1963.16 66.4591 Q1967.17 67.5124 1971.1 67.5124 Q1976.37 67.5124 1979.2 65.73 Q1982.04 63.9071 1982.04 60.6258 Q1982.04 57.5877 1979.97 55.9673 Q1977.95 54.3469 1971.02 52.8481 L1968.43 52.2405 Q1961.5 50.7821 1958.42 47.7845 Q1955.34 44.7463 1955.34 39.4801 Q1955.34 33.0797 1959.88 29.5959 Q1964.42 26.1121 1972.76 26.1121 Q1976.89 26.1121 1980.54 26.7198 Q1984.18 27.3274 1987.26 28.5427 Z\" fill=\"#000000\" fill-rule=\"nonzero\" fill-opacity=\"1\" /><polyline clip-path=\"url(#clip512)\" style=\"stroke:#009af9; stroke-linecap:round; stroke-linejoin:round; stroke-width:4; stroke-opacity:1; fill:none\" points=\"293.004,1386.4 293.016,1386.35 293.028,1386.3 293.04,1386.26 293.052,1386.21 293.064,1386.17 293.077,1386.12 293.089,1386.08 293.101,1386.03 293.113,1385.99 293.125,1385.94 293.137,1385.9 293.149,1385.85 293.161,1385.81 293.173,1385.76 293.185,1385.72 293.197,1385.67 293.209,1385.63 293.222,1385.59 293.234,1385.54 293.246,1385.5 293.258,1385.45 293.27,1385.41 293.282,1385.37 293.294,1385.32 293.306,1385.28 293.318,1385.24 293.33,1385.2 293.342,1385.15 293.354,1385.11 293.367,1385.07 293.379,1385.03 293.391,1384.99 293.403,1384.95 293.415,1384.91 293.427,1384.87 293.439,1384.83 293.451,1384.79 293.463,1384.75 293.475,1384.71 293.487,1384.67 293.5,1384.63 293.512,1384.59 293.524,1384.56 293.536,1384.52 293.548,1384.48 293.56,1384.45 293.572,1384.41 293.584,1384.37 293.596,1384.34 293.608,1384.3 293.62,1384.27 293.632,1384.23 293.645,1384.2 293.657,1384.17 293.669,1384.13 293.681,1384.1 293.693,1384.07 293.705,1384.04 293.717,1384.01 293.729,1383.98 293.741,1383.94 293.753,1383.91 293.765,1383.89 293.777,1383.86 293.79,1383.83 293.802,1383.8 293.814,1383.77 293.826,1383.74 293.838,1383.72 293.85,1383.69 293.862,1383.67 293.874,1383.64 293.886,1383.62 293.898,1383.59 293.91,1383.57 293.923,1383.54 293.935,1383.52 293.947,1383.5 293.959,1383.48 293.971,1383.46 293.983,1383.43 293.995,1383.41 294.007,1383.39 294.019,1383.38 294.031,1383.36 294.043,1383.34 294.055,1383.32 294.068,1383.3 294.08,1383.29 294.092,1383.27 294.104,1383.25 294.116,1383.24 294.128,1383.22 294.14,1383.21 294.152,1383.2 294.164,1383.18 294.176,1383.17 294.188,1383.16 294.2,1383.15 294.213,1383.14 294.225,1383.13 294.237,1383.12 294.249,1383.11 294.261,1383.1 294.273,1383.09 294.285,1383.08 294.297,1383.07 294.309,1383.07 294.321,1383.06 294.333,1383.05 294.346,1383.05 294.358,1383.04 294.37,1383.04 294.382,1383.03 294.394,1383.03 294.406,1383.03 294.418,1383.02 294.43,1383.02 294.442,1383.02 294.454,1383.02 294.466,1383.02 294.478,1383.02 294.491,1383.02 294.503,1383.02 294.515,1383.02 294.527,1383.02 294.539,1383.02 294.551,1383.02 294.563,1383.03 294.575,1383.03 294.587,1383.03 294.599,1383.04 294.611,1383.04 294.623,1383.05 294.636,1383.05 294.648,1383.06 294.66,1383.06 294.672,1383.07 294.684,1383.08 294.696,1383.08 294.708,1383.09 294.72,1383.1 294.732,1383.11 294.744,1383.11 294.756,1383.12 294.769,1383.13 294.781,1383.14 294.793,1383.15 294.805,1383.16 294.817,1383.17 294.829,1383.18 294.841,1383.19 294.853,1383.21 294.865,1383.22 294.877,1383.23 294.889,1383.24 294.901,1383.26 294.914,1383.27 294.926,1383.28 294.938,1383.3 294.95,1383.31 294.962,1383.32 294.974,1383.34 294.986,1383.35 294.998,1383.37 295.01,1383.38 295.022,1383.4 295.034,1383.41 295.046,1383.43 295.059,1383.44 295.071,1383.46 295.083,1383.48 295.095,1383.49 295.107,1383.51 295.119,1383.53 295.131,1383.54 295.143,1383.56 295.155,1383.58 295.167,1383.6 295.179,1383.62 295.192,1383.63 295.204,1383.65 295.216,1383.67 295.228,1383.69 295.24,1383.71 295.252,1383.73 295.264,1383.74 295.276,1383.76 295.288,1383.78 295.3,1383.8 295.312,1383.82 295.324,1383.84 295.337,1383.86 295.349,1383.88 295.361,1383.9 295.373,1383.92 295.385,1383.94 295.397,1383.96 295.409,1383.98 295.421,1384 295.433,1384.02 295.445,1384.04 295.457,1384.06 295.469,1384.08 295.482,1384.1 295.494,1384.12 295.506,1384.14 295.518,1384.16 295.53,1384.18 295.542,1384.2 295.554,1384.22 295.566,1384.24 295.578,1384.26 295.59,1384.28 295.602,1384.3 295.615,1384.32 295.627,1384.34 295.639,1384.36 295.651,1384.38 295.663,1384.4 295.675,1384.42 295.687,1384.44 295.699,1384.46 295.711,1384.48 295.723,1384.5 295.735,1384.52 295.747,1384.54 295.76,1384.56 295.772,1384.58 295.784,1384.6 295.796,1384.62 295.808,1384.64 295.82,1384.66 295.832,1384.68 295.844,1384.7 295.856,1384.72 295.868,1384.74 295.88,1384.76 295.892,1384.78 295.905,1384.8 295.917,1384.81 295.929,1384.83 295.941,1384.85 295.953,1384.87 295.965,1384.89 295.977,1384.91 295.989,1384.93 296.001,1384.94 296.013,1384.96 296.025,1384.98 296.038,1385 296.05,1385.02 296.062,1385.03 296.074,1385.05 296.086,1385.07 296.098,1385.09 296.11,1385.1 296.122,1385.12 296.134,1385.14 296.146,1385.15 296.158,1385.17 296.17,1385.19 296.183,1385.2 296.195,1385.22 296.207,1385.24 296.219,1385.25 296.231,1385.27 296.243,1385.28 296.255,1385.3 296.267,1385.31 296.279,1385.33 296.291,1385.35 296.303,1385.36 296.315,1385.38 296.328,1385.39 296.34,1385.4 296.352,1385.42 296.364,1385.43 296.376,1385.45 296.388,1385.46 296.4,1385.48 296.412,1385.49 296.424,1385.5 296.436,1385.52 296.448,1385.53 296.461,1385.54 296.473,1385.56 296.485,1385.57 296.497,1385.58 296.509,1385.6 296.521,1385.61 296.533,1385.62 296.545,1385.63 296.557,1385.65 296.569,1385.66 296.581,1385.67 296.593,1385.68 296.606,1385.69 296.618,1385.7 296.63,1385.72 296.642,1385.73 296.654,1385.74 296.666,1385.75 296.678,1385.76 296.69,1385.77 296.702,1385.78 296.714,1385.79 296.726,1385.8 296.738,1385.81 296.751,1385.82 296.763,1385.83 296.775,1385.84 296.787,1385.85 296.799,1385.86 296.811,1385.87 296.823,1385.88 296.835,1385.89 296.847,1385.9 296.859,1385.91 296.871,1385.92 296.884,1385.92 296.896,1385.93 296.908,1385.94 296.92,1385.95 296.932,1385.96 296.944,1385.97 296.956,1385.97 296.968,1385.98 296.98,1385.99 296.992,1386 297.004,1386.01 297.016,1386.01 297.029,1386.02 297.041,1386.03 297.053,1386.03 297.065,1386.04 297.077,1386.05 297.089,1386.05 297.101,1386.06 297.113,1386.07 297.125,1386.07 297.137,1386.08 297.149,1386.09 297.161,1386.09 297.174,1386.1 297.186,1386.1 297.198,1386.11 297.21,1386.12 297.222,1386.12 297.234,1386.13 297.246,1386.13 297.258,1386.14 297.27,1386.14 297.282,1386.15 297.294,1386.15 297.307,1386.16 297.319,1386.16 297.331,1386.17 297.343,1386.17 297.355,1386.18 297.367,1386.18 297.379,1386.19 297.391,1386.19 297.403,1386.2 297.415,1386.2 297.427,1386.2 297.439,1386.21 297.452,1386.21 297.464,1386.22 297.476,1386.22 297.488,1386.22 297.5,1386.23 297.512,1386.23 297.524,1386.24 297.536,1386.24 297.548,1386.24 297.56,1386.25 297.572,1386.25 297.584,1386.25 297.597,1386.26 297.609,1386.26 297.621,1386.26 297.633,1386.26 297.645,1386.27 297.657,1386.27 297.669,1386.27 297.681,1386.28 297.693,1386.28 297.705,1386.28 297.717,1386.28 297.73,1386.29 297.742,1386.29 297.754,1386.29 297.766,1386.29 297.778,1386.3 297.79,1386.3 297.802,1386.3 297.814,1386.3 297.826,1386.31 297.838,1386.31 297.85,1386.31 297.862,1386.31 297.875,1386.31 297.887,1386.32 297.899,1386.32 297.911,1386.32 297.923,1386.32 297.935,1386.32 297.947,1386.33 297.959,1386.33 297.971,1386.33 297.983,1386.33 297.995,1386.33 298.007,1386.33 298.02,1386.34 298.032,1386.34 298.044,1386.34 298.056,1386.34 298.068,1386.34 298.08,1386.34 298.092,1386.34 298.104,1386.34 298.116,1386.35 298.128,1386.35 298.14,1386.35 298.153,1386.35 298.165,1386.35 298.177,1386.35 298.189,1386.35 298.201,1386.35 298.213,1386.36 298.225,1386.36 298.237,1386.36 298.249,1386.36 298.261,1386.36 298.273,1386.36 298.285,1386.36 298.298,1386.36 298.31,1386.36 298.322,1386.36 298.334,1386.36 298.346,1386.37 298.358,1386.37 298.37,1386.37 298.382,1386.37 298.394,1386.37 298.406,1386.37 298.418,1386.37 298.43,1386.37 298.443,1386.37 298.455,1386.37 298.467,1386.37 298.479,1386.37 298.491,1386.37 298.503,1386.37 298.515,1386.38 298.527,1386.38 298.539,1386.38 298.551,1386.38 298.563,1386.38 298.576,1386.38 298.588,1386.38 298.6,1386.38 298.612,1386.38 298.624,1386.38 298.636,1386.38 298.648,1386.38 298.66,1386.38 298.672,1386.38 298.684,1386.38 298.696,1386.38 298.708,1386.38 298.721,1386.38 298.733,1386.38 298.745,1386.38 298.757,1386.38 298.769,1386.38 298.781,1386.38 298.793,1386.39 298.805,1386.39 298.817,1386.39 298.829,1386.39 298.841,1386.39 298.853,1386.39 298.866,1386.39 298.878,1386.39 298.89,1386.39 298.902,1386.39 298.914,1386.39 298.926,1386.39 298.938,1386.39 298.95,1386.39 298.962,1386.39 298.974,1386.39 298.986,1386.39 298.999,1386.39 299.011,1386.39 299.023,1386.39 299.035,1386.39 299.047,1386.39 299.059,1386.39 299.071,1386.39 299.083,1386.39 299.095,1386.39 299.107,1386.39 299.119,1386.39 299.131,1386.39 299.144,1386.39 299.156,1386.39 299.168,1386.39 299.18,1386.39 299.192,1386.39 299.204,1386.39 299.216,1386.39 299.228,1386.39 299.24,1386.39 299.252,1386.39 299.264,1386.39 299.276,1386.39 299.289,1386.39 299.301,1386.39 299.313,1386.39 299.325,1386.39 299.337,1386.39 299.349,1386.39 299.361,1386.39 299.373,1386.39 299.385,1386.39 299.397,1386.39 299.409,1386.39 299.422,1386.39 299.434,1386.39 299.446,1386.39 299.458,1386.39 299.47,1386.39 299.482,1386.39 299.494,1386.39 299.506,1386.39 299.518,1386.39 299.53,1386.39 299.542,1386.39 299.554,1386.39 299.567,1386.39 299.579,1386.39 299.591,1386.39 299.603,1386.39 299.615,1386.39 299.627,1386.39 299.639,1386.39 299.651,1386.39 299.663,1386.39 299.675,1386.39 299.687,1386.39 299.699,1386.39 299.712,1386.39 299.724,1386.39 299.736,1386.39 299.748,1386.39 299.76,1386.39 299.772,1386.39 299.784,1386.39 299.796,1386.39 299.808,1386.4 299.82,1386.4 299.832,1386.4 299.845,1386.4 299.857,1386.4 299.869,1386.4 299.881,1386.4 299.893,1386.4 299.905,1386.4 299.917,1386.4 299.929,1386.4 299.941,1386.4 299.953,1386.4 299.965,1386.4 299.977,1386.4 299.99,1386.4 300.002,1386.4 300.014,1386.4 300.026,1386.4 300.038,1386.4 300.05,1386.4 300.062,1386.4 300.074,1386.4 300.086,1386.4 300.098,1386.4 300.11,1386.4 300.122,1386.4 300.135,1386.4 300.147,1386.4 300.159,1386.4 300.171,1386.4 300.183,1386.4 300.195,1386.4 300.207,1386.4 300.219,1386.4 300.231,1386.4 300.243,1386.4 300.255,1386.4 300.268,1386.4 300.28,1386.4 300.292,1386.4 300.304,1386.4 300.316,1386.4 300.328,1386.4 300.34,1386.4 300.352,1386.4 300.364,1386.4 300.376,1386.4 300.388,1386.4 300.4,1386.4 300.413,1386.4 300.425,1386.4 300.437,1386.4 300.449,1386.4 300.461,1386.4 300.473,1386.4 300.485,1386.4 300.497,1386.4 300.509,1386.4 300.521,1386.4 300.533,1386.4 300.545,1386.4 300.558,1386.4 300.57,1386.4 300.582,1386.4 300.594,1386.4 300.606,1386.4 300.618,1386.4 300.63,1386.4 300.642,1386.4 300.654,1386.4 300.666,1386.4 300.678,1386.4 300.691,1386.4 300.703,1386.4 300.715,1386.4 300.727,1386.4 300.739,1386.4 300.751,1386.4 300.763,1386.4 300.775,1386.4 300.787,1386.4 300.799,1386.4 300.811,1386.4 300.823,1386.4 300.836,1386.4 300.848,1386.4 300.86,1386.4 300.872,1386.4 300.884,1386.4 300.896,1386.4 300.908,1386.4 300.92,1386.4 300.932,1386.4 300.944,1386.4 300.956,1386.4 300.968,1386.4 300.981,1386.4 300.993,1386.4 301.005,1386.4 301.017,1386.4 301.029,1386.4 301.041,1386.4 301.053,1386.4 301.065,1386.4 301.077,1386.4 301.089,1386.4 301.101,1386.4 301.114,1386.4 301.126,1386.4 301.138,1386.4 301.15,1386.4 301.162,1386.4 301.174,1386.4 301.186,1386.4 301.198,1386.4 301.21,1386.4 301.222,1386.4 301.234,1386.4 301.246,1386.4 301.259,1386.4 301.271,1386.4 301.283,1386.4 301.295,1386.4 301.307,1386.4 301.319,1386.4 301.331,1386.4 301.343,1386.4 301.355,1386.4 301.367,1386.4 301.379,1386.4 301.391,1386.4 301.404,1386.4 301.416,1386.4 301.428,1386.4 301.44,1386.4 301.452,1386.4 301.464,1386.4 301.476,1386.4 301.488,1386.4 301.5,1386.4 301.512,1386.4 301.524,1386.4 301.537,1386.4 301.549,1386.4 301.561,1386.4 301.573,1386.4 301.585,1386.4 301.597,1386.4 301.609,1386.4 301.621,1386.4 301.633,1386.4 301.645,1386.4 301.657,1386.4 301.669,1386.4 301.682,1386.4 301.694,1386.4 301.706,1386.4 301.718,1386.4 301.73,1386.4 301.742,1386.4 301.754,1386.4 301.766,1386.4 301.778,1386.4 301.79,1386.4 301.802,1386.4 301.814,1386.4 301.827,1386.4 301.839,1386.4 301.851,1386.4 301.863,1386.4 301.875,1386.4 301.887,1386.4 301.899,1386.4 301.911,1386.4 301.923,1386.4 301.935,1386.4 301.947,1386.4 301.96,1386.4 301.972,1386.4 301.984,1386.4 301.996,1386.4 302.008,1386.4 302.02,1386.4 302.032,1386.4 302.044,1386.4 302.056,1386.4 302.068,1386.4 302.08,1386.4 302.092,1386.4 302.105,1386.4 302.117,1386.4 302.129,1386.4 302.141,1386.4 302.153,1386.4 302.165,1386.4 302.177,1386.4 302.189,1386.4 302.201,1386.4 302.213,1386.4 302.225,1386.4 302.237,1386.4 302.25,1386.4 302.262,1386.4 302.274,1386.4 302.286,1386.4 302.298,1386.4 302.31,1386.4 302.322,1386.4 302.334,1386.4 302.346,1386.4 302.358,1386.4 302.37,1386.4 302.383,1386.4 302.395,1386.4 302.407,1386.4 302.419,1386.4 302.431,1386.4 302.443,1386.4 302.455,1386.4 302.467,1386.4 302.479,1386.4 302.491,1386.4 302.503,1386.4 302.515,1386.4 302.528,1386.4 302.54,1386.4 302.552,1386.4 302.564,1386.4 302.576,1386.4 302.588,1386.4 302.6,1386.4 302.612,1386.4 302.624,1386.4 302.636,1386.4 302.648,1386.4 302.66,1386.4 302.673,1386.4 302.685,1386.4 302.697,1386.4 302.709,1386.4 302.721,1386.4 302.733,1386.4 302.745,1386.4 302.757,1386.4 302.769,1386.4 302.781,1386.4 302.793,1386.4 302.806,1386.4 302.818,1386.4 302.83,1386.4 302.842,1386.4 302.854,1386.4 302.866,1386.4 302.878,1386.4 302.89,1386.4 302.902,1386.4 302.914,1386.4 302.926,1386.4 302.938,1386.4 302.951,1386.4 302.963,1386.4 302.975,1386.4 302.987,1386.4 302.999,1386.4 303.011,1386.4 303.023,1386.4 303.035,1386.4 303.047,1386.4 303.059,1386.4 303.071,1386.4 303.083,1386.4 303.096,1386.4 303.108,1386.4 303.12,1386.4 303.132,1386.4 303.144,1386.4 303.156,1386.4 303.168,1386.4 303.18,1386.4 303.192,1386.4 303.204,1386.4 303.216,1386.4 303.229,1386.4 303.241,1386.4 303.253,1386.4 303.265,1386.4 303.277,1386.4 303.289,1386.4 303.301,1386.4 303.313,1386.4 303.325,1386.4 303.337,1386.4 303.349,1386.4 303.361,1386.4 303.374,1386.4 303.386,1386.4 303.398,1386.4 303.41,1386.4 303.422,1386.4 303.434,1386.4 303.446,1386.4 303.458,1386.4 303.47,1386.4 303.482,1386.4 303.494,1386.4 303.506,1386.4 303.519,1386.4 303.531,1386.4 303.543,1386.4 303.555,1386.4 303.567,1386.4 303.579,1386.4 303.591,1386.4 303.603,1386.4 303.615,1386.4 303.627,1386.4 303.639,1386.4 303.652,1386.4 303.664,1386.4 303.676,1386.4 303.688,1386.4 303.7,1386.4 303.712,1386.4 303.724,1386.4 303.736,1386.4 303.748,1386.4 303.76,1386.4 303.772,1386.4 303.784,1386.4 303.797,1386.4 303.809,1386.4 303.821,1386.4 303.833,1386.4 303.845,1386.4 303.857,1386.4 303.869,1386.4 303.881,1386.4 303.893,1386.4 303.905,1386.4 303.917,1386.4 303.929,1386.4 303.942,1386.4 303.954,1386.4 303.966,1386.4 303.978,1386.4 303.99,1386.4 304.002,1386.4 304.014,1386.4 304.026,1386.4 304.038,1386.4 304.05,1386.4 304.062,1386.4 304.075,1386.4 304.087,1386.4 304.099,1386.4 304.111,1386.4 304.123,1386.4 304.135,1386.4 304.147,1386.4 304.159,1386.4 304.171,1386.4 304.183,1386.4 304.195,1386.4 304.207,1386.4 304.22,1386.4 304.232,1386.4 304.244,1386.4 304.256,1386.4 304.268,1386.4 304.28,1386.4 304.292,1386.4 304.304,1386.4 304.316,1386.4 304.328,1386.4 304.34,1386.4 304.352,1386.4 304.365,1386.4 304.377,1386.4 304.389,1386.4 304.401,1386.4 304.413,1386.4 304.425,1386.4 304.437,1386.4 304.449,1386.4 304.461,1386.4 304.473,1386.4 304.485,1386.4 304.498,1386.4 304.51,1386.4 304.522,1386.4 304.534,1386.4 304.546,1386.4 304.558,1386.4 304.57,1386.4 304.582,1386.4 304.594,1386.4 304.606,1386.4 304.618,1386.4 304.63,1386.4 304.643,1386.4 304.655,1386.4 304.667,1386.4 304.679,1386.4 304.691,1386.4 304.703,1386.4 304.715,1386.4 304.727,1386.4 304.739,1386.4 304.751,1386.4 304.763,1386.4 304.775,1386.4 304.788,1386.4 304.8,1386.4 304.812,1386.4 304.824,1386.4 304.836,1386.4 304.848,1386.4 304.86,1386.4 304.872,1386.4 304.884,1386.4 304.896,1386.4 304.908,1386.4 304.921,1386.4 304.933,1386.4 304.945,1386.4 304.957,1386.4 304.969,1386.4 304.981,1386.4 304.993,1386.4 305.005,1386.4 305.017,1386.4 305.029,1386.4 305.041,1386.4 305.053,1386.4 305.066,1386.4 305.078,1386.4 305.09,1386.4 \"/>\n",
       "<polyline clip-path=\"url(#clip512)\" style=\"stroke:#e26f46; stroke-linecap:round; stroke-linejoin:round; stroke-width:4; stroke-opacity:1; fill:none\" points=\"401.171,1386.4 401.877,1386.4 402.583,1386.4 409.109,1386.4 415.636,1386.4 419.558,1386.39 423.48,1386.39 426.796,1386.39 430.112,1386.39 431.913,1386.39 433.714,1386.39 435.515,1386.39 437.316,1386.39 438.977,1386.39 440.637,1386.39 442.298,1386.39 443.958,1386.39 445.738,1386.39 447.519,1386.38 449.299,1386.38 451.079,1386.38 453.142,1386.38 455.204,1386.38 457.267,1386.37 459.329,1386.37 461.162,1386.37 462.995,1386.36 464.828,1386.36 466.661,1386.36 468.268,1386.35 469.875,1386.35 471.483,1386.35 473.09,1386.34 476.595,1386.34 480.1,1386.33 483.625,1386.32 487.151,1386.31 488.125,1386.31 489.1,1386.31 490.074,1386.31 491.049,1386.3 492.023,1386.3 492.998,1386.3 493.972,1386.3 494.947,1386.3 495.874,1386.29 496.801,1386.29 497.729,1386.29 498.656,1386.29 499.583,1386.29 500.51,1386.29 501.437,1386.29 502.365,1386.29 503.329,1386.29 504.293,1386.28 505.257,1386.28 506.221,1386.28 507.185,1386.28 508.149,1386.28 509.113,1386.28 510.077,1386.28 510.889,1386.28 511.701,1386.28 512.512,1386.28 513.324,1386.28 514.135,1386.28 514.947,1386.28 515.758,1386.29 516.57,1386.29 517.561,1386.29 518.552,1386.29 519.542,1386.29 520.533,1386.29 521.524,1386.29 522.515,1386.29 523.506,1386.29 524.496,1386.3 526.312,1386.3 528.127,1386.3 529.035,1386.31 529.942,1386.31 530.85,1386.31 531.758,1386.31 535.111,1386.32 538.464,1386.33 541.861,1386.33 545.257,1386.34 547.161,1386.35 549.064,1386.35 550.967,1386.35 552.871,1386.36 554.596,1386.36 556.32,1386.36 558.045,1386.37 559.77,1386.37 561.744,1386.37 563.719,1386.38 565.694,1386.38 567.669,1386.38 569.497,1386.38 571.325,1386.38 573.154,1386.39 574.982,1386.39 576.785,1386.39 578.587,1386.39 580.39,1386.39 582.193,1386.39 583.943,1386.39 585.693,1386.39 587.443,1386.39 589.193,1386.39 592.782,1386.39 596.37,1386.39 600.301,1386.39 604.233,1386.4 609.944,1386.4 615.655,1386.4 616.826,1386.4 617.998,1386.4 \"/>\n",
       "<polyline clip-path=\"url(#clip512)\" style=\"stroke:#3da44d; stroke-linecap:round; stroke-linejoin:round; stroke-width:4; stroke-opacity:1; fill:none\" points=\"292.4,1386.4 293.482,1386.4 294.564,1386.39 295.647,1386.39 296.729,1386.39 306.737,1386.39 316.745,1386.39 321.749,1386.39 326.752,1386.38 331.756,1386.38 336.76,1386.38 339.767,1386.38 342.775,1386.38 345.782,1386.38 348.789,1386.38 354.803,1386.38 360.817,1386.37 365.902,1386.37 370.987,1386.37 376.072,1386.37 381.157,1386.37 383.919,1386.37 386.681,1386.37 389.443,1386.37 392.205,1386.37 394.967,1386.37 397.728,1386.37 400.49,1386.37 403.252,1386.37 408.344,1386.37 413.437,1386.37 418.529,1386.36 423.622,1386.36 426.351,1386.36 429.081,1386.36 431.811,1386.36 434.541,1386.36 437.271,1386.36 440,1386.36 442.73,1386.36 445.46,1386.36 448.623,1386.36 451.785,1386.36 454.948,1386.36 458.111,1386.36 461.274,1386.36 464.436,1386.36 467.599,1386.36 470.762,1386.36 476.383,1386.36 482.004,1386.36 487.626,1386.37 493.247,1386.37 498.176,1386.37 503.106,1386.37 508.035,1386.37 512.964,1386.37 518.339,1386.37 523.713,1386.37 529.088,1386.37 534.462,1386.37 545.274,1386.37 556.087,1386.37 568.042,1386.38 579.996,1386.38 591.371,1386.38 602.746,1386.38 608.659,1386.38 614.573,1386.38 620.486,1386.38 626.399,1386.38 631.377,1386.39 636.355,1386.39 641.333,1386.39 646.311,1386.39 652.388,1386.39 658.466,1386.39 664.543,1386.39 670.621,1386.39 676.188,1386.39 681.755,1386.39 687.323,1386.39 692.89,1386.39 703.174,1386.39 713.457,1386.39 723.874,1386.39 734.291,1386.39 745.966,1386.39 757.641,1386.39 768.22,1386.39 778.799,1386.39 790.911,1386.39 803.023,1386.39 814.238,1386.4 825.453,1386.4 847.566,1386.4 869.036,1386.4 891.046,1386.4 915.16,1386.4 950.189,1386.4 957.376,1386.4 \"/>\n",
       "<polyline clip-path=\"url(#clip512)\" style=\"stroke:#c271d2; stroke-linecap:round; stroke-linejoin:round; stroke-width:4; stroke-opacity:1; fill:none\" points=\"292.4,160.256 292.4,178.5 292.4,196.473 292.4,214.178 292.4,231.62 292.4,270.952 292.401,308.944 292.401,345.642 292.401,381.09 292.401,415.33 292.402,448.405 292.402,480.353 292.402,511.213 292.402,541.021 292.402,569.815 292.403,597.628 292.403,624.493 292.403,650.443 292.403,675.51 292.404,699.723 292.404,723.111 292.404,750.17 292.404,776.125 292.405,801.021 292.405,824.901 292.405,847.808 292.406,869.779 292.406,890.855 292.406,911.071 292.407,943.396 292.407,973.523 292.408,1001.6 292.408,1027.77 292.409,1054.18 292.409,1078.65 292.41,1101.32 292.41,1122.32 292.411,1140.3 292.411,1157.06 292.411,1172.68 292.412,1187.23 292.412,1201.74 292.413,1215.19 292.413,1227.66 292.414,1239.22 292.415,1251.56 292.415,1262.87 292.416,1273.23 292.416,1282.73 292.417,1297.68 292.418,1310.47 292.419,1320.16 292.42,1328.61 292.421,1336.61 292.422,1343.49 292.423,1349.46 292.424,1354.6 292.427,1363.56 292.429,1369.73 292.431,1374.39 292.433,1377.28 292.435,1379.89 292.437,1381.61 292.439,1382.8 292.441,1383.7 292.443,1384.45 292.445,1384.94 292.447,1385.36 292.449,1385.63 292.451,1385.83 292.453,1385.98 292.455,1386.09 292.458,1386.18 292.461,1386.26 292.462,1386.27 \"/>\n",
       "<polyline clip-path=\"url(#clip512)\" style=\"stroke:#ac8d18; stroke-linecap:round; stroke-linejoin:round; stroke-width:4; stroke-opacity:1; fill:none\" points=\"292.4,1386.36 295.656,1386.36 298.911,1386.36 302.167,1386.36 305.423,1386.36 312.949,1386.36 320.476,1386.36 328.002,1386.36 335.528,1386.36 343.054,1386.37 350.58,1386.37 358.107,1386.37 365.633,1386.37 373.159,1386.37 380.685,1386.37 388.212,1386.37 395.738,1386.37 403.264,1386.37 410.79,1386.37 418.316,1386.37 425.843,1386.38 434.889,1386.38 443.934,1386.38 452.98,1386.38 462.026,1386.38 471.072,1386.38 480.118,1386.38 489.164,1386.38 498.21,1386.38 513.506,1386.38 528.803,1386.38 544.099,1386.38 559.395,1386.38 576.012,1386.39 592.628,1386.39 609.244,1386.39 625.86,1386.39 641.179,1386.39 656.497,1386.39 671.816,1386.39 687.135,1386.39 703.558,1386.39 719.981,1386.39 736.404,1386.39 752.827,1386.39 771.855,1386.39 790.883,1386.39 809.911,1386.39 828.939,1386.39 862.758,1386.39 896.578,1386.39 926.234,1386.39 955.891,1386.39 988.225,1386.39 1020.56,1386.39 1053.08,1386.39 1085.61,1386.39 1157.53,1386.39 1225.97,1386.4 1297.12,1386.4 1357.02,1386.4 1430.14,1386.4 1497.13,1386.4 1559,1386.4 1621.67,1386.4 1691.91,1386.4 1755.56,1386.4 1828.43,1386.4 1895.9,1386.4 1962.42,1386.4 2027.01,1386.4 2093.22,1386.4 2165.75,1386.4 2271.13,1386.4 2292.75,1386.4 \"/>\n",
       "<polyline clip-path=\"url(#clip512)\" style=\"stroke:#00a9ad; stroke-linecap:round; stroke-linejoin:round; stroke-width:4; stroke-opacity:1; fill:none\" points=\"292.4,1386.4 293.439,1386.39 294.478,1386.39 295.517,1386.39 296.556,1386.39 297.595,1386.39 298.633,1386.39 299.153,1386.39 299.672,1386.39 300.192,1386.39 300.711,1386.39 303.113,1386.39 305.515,1386.39 307.916,1386.39 310.318,1386.39 312.72,1386.38 315.121,1386.38 317.523,1386.38 319.925,1386.38 322.327,1386.38 324.728,1386.38 327.13,1386.38 329.532,1386.38 331.933,1386.38 334.335,1386.38 336.737,1386.38 339.138,1386.37 341.54,1386.37 343.942,1386.37 346.343,1386.37 348.745,1386.37 351.147,1386.37 353.548,1386.37 355.95,1386.37 358.352,1386.37 360.753,1386.37 363.155,1386.37 365.557,1386.37 367.958,1386.37 370.36,1386.37 372.762,1386.37 375.163,1386.37 377.565,1386.37 380.452,1386.37 383.338,1386.37 386.225,1386.37 389.112,1386.37 391.998,1386.37 394.885,1386.37 397.771,1386.37 400.658,1386.37 403.545,1386.37 406.431,1386.37 409.318,1386.37 412.205,1386.37 417.978,1386.37 423.751,1386.37 428.632,1386.37 433.513,1386.37 438.395,1386.37 443.276,1386.37 448.157,1386.37 453.038,1386.37 457.919,1386.37 462.801,1386.37 473.405,1386.37 484.01,1386.37 494.615,1386.37 505.219,1386.37 524.773,1386.38 544.326,1386.38 554.807,1386.38 565.289,1386.38 575.77,1386.38 586.252,1386.38 598.396,1386.38 610.54,1386.38 622.684,1386.38 634.827,1386.39 645.62,1386.39 656.412,1386.39 667.204,1386.39 677.996,1386.39 687.459,1386.39 696.923,1386.39 706.387,1386.39 715.85,1386.39 726.168,1386.39 736.486,1386.39 746.804,1386.39 757.122,1386.39 767.501,1386.39 777.881,1386.39 788.26,1386.39 798.639,1386.39 810.115,1386.39 821.59,1386.39 833.066,1386.39 844.541,1386.39 866.379,1386.39 888.216,1386.39 910.922,1386.39 933.628,1386.39 952.742,1386.39 971.855,1386.39 1018.53,1386.4 1061.28,1386.4 1100.77,1386.4 1140.76,1386.4 1185.59,1386.4 1226.21,1386.4 1272.72,1386.4 1315.78,1386.4 1358.23,1386.4 1399.45,1386.4 1441.71,1386.4 1488,1386.4 1555.26,1386.4 1569.05,1386.4 \"/>\n",
       "<polyline clip-path=\"url(#clip512)\" style=\"stroke:#ed5d92; stroke-linecap:round; stroke-linejoin:round; stroke-width:4; stroke-opacity:1; fill:none\" points=\"475.869,1386.4 476.63,1386.39 477.39,1386.38 478.15,1386.37 478.91,1386.37 479.671,1386.36 480.431,1386.35 481.191,1386.34 481.951,1386.34 482.712,1386.33 483.472,1386.32 484.232,1386.32 484.992,1386.31 485.753,1386.31 486.513,1386.3 487.273,1386.29 488.033,1386.29 488.794,1386.28 489.554,1386.28 490.314,1386.27 491.075,1386.27 491.835,1386.26 492.595,1386.26 493.355,1386.25 494.116,1386.25 494.876,1386.25 495.636,1386.24 496.396,1386.24 497.157,1386.24 497.917,1386.23 498.677,1386.23 499.437,1386.23 500.198,1386.23 500.958,1386.23 501.718,1386.23 502.478,1386.23 503.239,1386.22 503.999,1386.22 504.759,1386.22 505.519,1386.22 506.28,1386.22 507.04,1386.22 507.8,1386.23 508.56,1386.23 509.321,1386.23 510.081,1386.23 510.841,1386.23 511.602,1386.23 512.362,1386.23 513.122,1386.24 513.882,1386.24 514.643,1386.24 515.403,1386.24 516.163,1386.25 516.923,1386.25 517.684,1386.25 518.444,1386.25 519.204,1386.26 519.964,1386.26 520.725,1386.26 521.485,1386.27 522.245,1386.27 523.005,1386.27 523.766,1386.28 524.526,1386.28 525.286,1386.28 526.046,1386.28 526.807,1386.29 527.567,1386.29 528.327,1386.29 529.087,1386.3 529.848,1386.3 530.608,1386.3 531.368,1386.31 532.128,1386.31 532.889,1386.31 533.649,1386.32 534.409,1386.32 535.17,1386.32 535.93,1386.33 536.69,1386.33 537.45,1386.33 538.211,1386.33 538.971,1386.34 539.731,1386.34 540.491,1386.34 541.252,1386.34 542.012,1386.35 542.772,1386.35 543.532,1386.35 544.293,1386.35 545.053,1386.36 545.813,1386.36 546.573,1386.36 547.334,1386.36 548.094,1386.36 548.854,1386.36 549.614,1386.37 550.375,1386.37 551.135,1386.37 551.895,1386.37 552.655,1386.37 553.416,1386.37 554.176,1386.38 554.936,1386.38 555.696,1386.38 556.457,1386.38 557.217,1386.38 557.977,1386.38 558.738,1386.38 559.498,1386.38 560.258,1386.38 561.018,1386.38 561.779,1386.38 562.539,1386.39 563.299,1386.39 564.059,1386.39 564.82,1386.39 565.58,1386.39 566.34,1386.39 567.1,1386.39 567.861,1386.39 568.621,1386.39 569.381,1386.39 570.141,1386.39 570.902,1386.39 571.662,1386.39 572.422,1386.39 573.182,1386.39 573.943,1386.39 574.703,1386.39 575.463,1386.39 576.223,1386.39 576.984,1386.39 577.744,1386.39 578.504,1386.39 579.264,1386.39 580.025,1386.39 580.785,1386.39 581.545,1386.39 582.306,1386.39 583.066,1386.39 583.826,1386.39 584.586,1386.39 585.347,1386.39 586.107,1386.39 586.867,1386.39 587.627,1386.39 588.388,1386.4 589.148,1386.4 589.908,1386.4 590.668,1386.4 591.429,1386.4 592.189,1386.4 592.949,1386.4 593.709,1386.4 594.47,1386.4 595.23,1386.4 595.99,1386.4 596.75,1386.4 597.511,1386.4 598.271,1386.4 599.031,1386.4 599.791,1386.4 600.552,1386.4 601.312,1386.4 602.072,1386.4 602.833,1386.4 603.593,1386.4 604.353,1386.4 605.113,1386.4 605.874,1386.4 606.634,1386.4 607.394,1386.4 608.154,1386.4 608.915,1386.4 609.675,1386.4 610.435,1386.4 611.195,1386.4 611.956,1386.4 612.716,1386.4 613.476,1386.4 614.236,1386.4 614.997,1386.4 615.757,1386.4 616.517,1386.4 617.277,1386.4 618.038,1386.4 618.798,1386.4 619.558,1386.4 620.318,1386.4 621.079,1386.4 621.839,1386.4 622.599,1386.4 623.359,1386.4 624.12,1386.4 624.88,1386.4 625.64,1386.4 626.401,1386.4 627.161,1386.4 \"/>\n",
       "<path clip-path=\"url(#clip510)\" d=\"M1575.41 581.516 L2282.08 581.516 L2282.08 166.796 L1575.41 166.796  Z\" fill=\"#ffffff\" fill-rule=\"evenodd\" fill-opacity=\"1\"/>\n",
       "<polyline clip-path=\"url(#clip510)\" style=\"stroke:#000000; stroke-linecap:round; stroke-linejoin:round; stroke-width:4; stroke-opacity:1; fill:none\" points=\"1575.41,581.516 2282.08,581.516 2282.08,166.796 1575.41,166.796 1575.41,581.516 \"/>\n",
       "<polyline clip-path=\"url(#clip510)\" style=\"stroke:#009af9; stroke-linecap:round; stroke-linejoin:round; stroke-width:4; stroke-opacity:1; fill:none\" points=\"1598.97,218.636 1740.33,218.636 \"/>\n",
       "<path clip-path=\"url(#clip510)\" d=\"M1786.14 202.49 L1786.14 207.05 Q1783.47 205.777 1781.11 205.152 Q1778.75 204.527 1776.55 204.527 Q1772.73 204.527 1770.65 206.008 Q1768.59 207.49 1768.59 210.221 Q1768.59 212.513 1769.96 213.694 Q1771.34 214.851 1775.19 215.569 L1778.01 216.147 Q1783.24 217.143 1785.72 219.666 Q1788.22 222.166 1788.22 226.379 Q1788.22 231.402 1784.84 233.994 Q1781.48 236.587 1774.98 236.587 Q1772.52 236.587 1769.75 236.031 Q1766.99 235.476 1764.03 234.388 L1764.03 229.573 Q1766.88 231.17 1769.61 231.981 Q1772.34 232.791 1774.98 232.791 Q1778.98 232.791 1781.16 231.217 Q1783.33 229.643 1783.33 226.726 Q1783.33 224.18 1781.76 222.744 Q1780.21 221.309 1776.64 220.592 L1773.8 220.036 Q1768.57 218.995 1766.23 216.772 Q1763.89 214.55 1763.89 210.592 Q1763.89 206.008 1767.11 203.37 Q1770.35 200.731 1776.02 200.731 Q1778.45 200.731 1780.97 201.171 Q1783.5 201.61 1786.14 202.49 Z\" fill=\"#000000\" fill-rule=\"nonzero\" fill-opacity=\"1\" /><path clip-path=\"url(#clip510)\" d=\"M1816.88 220.268 L1816.88 235.916 L1812.62 235.916 L1812.62 220.407 Q1812.62 216.726 1811.18 214.897 Q1809.75 213.069 1806.88 213.069 Q1803.43 213.069 1801.44 215.268 Q1799.45 217.467 1799.45 221.263 L1799.45 235.916 L1795.16 235.916 L1795.16 199.897 L1799.45 199.897 L1799.45 214.018 Q1800.97 211.68 1803.03 210.522 Q1805.12 209.365 1807.83 209.365 Q1812.29 209.365 1814.58 212.143 Q1816.88 214.897 1816.88 220.268 Z\" fill=\"#000000\" fill-rule=\"nonzero\" fill-opacity=\"1\" /><path clip-path=\"url(#clip510)\" d=\"M1825.37 209.99 L1829.63 209.99 L1829.63 235.916 L1825.37 235.916 L1825.37 209.99 M1825.37 199.897 L1829.63 199.897 L1829.63 205.291 L1825.37 205.291 L1825.37 199.897 Z\" fill=\"#000000\" fill-rule=\"nonzero\" fill-opacity=\"1\" /><path clip-path=\"url(#clip510)\" d=\"M1851.67 199.897 L1851.67 203.439 L1847.59 203.439 Q1845.3 203.439 1844.4 204.365 Q1843.52 205.291 1843.52 207.698 L1843.52 209.99 L1850.53 209.99 L1850.53 213.3 L1843.52 213.3 L1843.52 235.916 L1839.24 235.916 L1839.24 213.3 L1835.16 213.3 L1835.16 209.99 L1839.24 209.99 L1839.24 208.184 Q1839.24 203.856 1841.25 201.888 Q1843.26 199.897 1847.64 199.897 L1851.67 199.897 Z\" fill=\"#000000\" fill-rule=\"nonzero\" fill-opacity=\"1\" /><path clip-path=\"url(#clip510)\" d=\"M1858.61 202.629 L1858.61 209.99 L1867.39 209.99 L1867.39 213.3 L1858.61 213.3 L1858.61 227.374 Q1858.61 230.545 1859.47 231.448 Q1860.35 232.351 1863.01 232.351 L1867.39 232.351 L1867.39 235.916 L1863.01 235.916 Q1858.08 235.916 1856.2 234.087 Q1854.33 232.235 1854.33 227.374 L1854.33 213.3 L1851.2 213.3 L1851.2 209.99 L1854.33 209.99 L1854.33 202.629 L1858.61 202.629 Z\" fill=\"#000000\" fill-rule=\"nonzero\" fill-opacity=\"1\" /><path clip-path=\"url(#clip510)\" d=\"M1895.16 221.888 L1895.16 223.971 L1875.58 223.971 Q1875.86 228.369 1878.22 230.684 Q1880.6 232.976 1884.84 232.976 Q1887.29 232.976 1889.58 232.374 Q1891.9 231.772 1894.17 230.569 L1894.17 234.596 Q1891.88 235.568 1889.47 236.078 Q1887.06 236.587 1884.58 236.587 Q1878.38 236.587 1874.75 232.976 Q1871.14 229.365 1871.14 223.207 Q1871.14 216.842 1874.56 213.115 Q1878.01 209.365 1883.84 209.365 Q1889.07 209.365 1892.11 212.745 Q1895.16 216.101 1895.16 221.888 M1890.9 220.638 Q1890.86 217.143 1888.94 215.059 Q1887.04 212.976 1883.89 212.976 Q1880.32 212.976 1878.17 214.99 Q1876.04 217.004 1875.72 220.661 L1890.9 220.638 Z\" fill=\"#000000\" fill-rule=\"nonzero\" fill-opacity=\"1\" /><path clip-path=\"url(#clip510)\" d=\"M1919.21 213.925 L1919.21 199.897 L1923.47 199.897 L1923.47 235.916 L1919.21 235.916 L1919.21 232.027 Q1917.87 234.342 1915.81 235.476 Q1913.77 236.587 1910.9 236.587 Q1906.2 236.587 1903.24 232.837 Q1900.3 229.087 1900.3 222.976 Q1900.3 216.865 1903.24 213.115 Q1906.2 209.365 1910.9 209.365 Q1913.77 209.365 1915.81 210.499 Q1917.87 211.61 1919.21 213.925 M1904.7 222.976 Q1904.7 227.675 1906.62 230.36 Q1908.57 233.022 1911.95 233.022 Q1915.32 233.022 1917.27 230.36 Q1919.21 227.675 1919.21 222.976 Q1919.21 218.277 1917.27 215.615 Q1915.32 212.93 1911.95 212.93 Q1908.57 212.93 1906.62 215.615 Q1904.7 218.277 1904.7 222.976 Z\" fill=\"#000000\" fill-rule=\"nonzero\" fill-opacity=\"1\" /><path clip-path=\"url(#clip510)\" d=\"M1963.89 219.712 Q1965.39 220.221 1966.81 221.888 Q1968.24 223.555 1969.68 226.471 L1974.42 235.916 L1969.4 235.916 L1964.98 227.05 Q1963.26 223.578 1961.64 222.444 Q1960.05 221.309 1957.27 221.309 L1952.18 221.309 L1952.18 235.916 L1947.5 235.916 L1947.5 201.356 L1958.06 201.356 Q1963.98 201.356 1966.9 203.833 Q1969.82 206.309 1969.82 211.309 Q1969.82 214.573 1968.29 216.726 Q1966.78 218.879 1963.89 219.712 M1952.18 205.198 L1952.18 217.467 L1958.06 217.467 Q1961.44 217.467 1963.15 215.916 Q1964.88 214.342 1964.88 211.309 Q1964.88 208.277 1963.15 206.749 Q1961.44 205.198 1958.06 205.198 L1952.18 205.198 Z\" fill=\"#000000\" fill-rule=\"nonzero\" fill-opacity=\"1\" /><path clip-path=\"url(#clip510)\" d=\"M1991 222.883 Q1985.83 222.883 1983.84 224.064 Q1981.85 225.244 1981.85 228.092 Q1981.85 230.36 1983.33 231.703 Q1984.84 233.022 1987.41 233.022 Q1990.95 233.022 1993.08 230.522 Q1995.23 227.999 1995.23 223.832 L1995.23 222.883 L1991 222.883 M1999.49 221.124 L1999.49 235.916 L1995.23 235.916 L1995.23 231.981 Q1993.77 234.342 1991.6 235.476 Q1989.42 236.587 1986.27 236.587 Q1982.29 236.587 1979.93 234.365 Q1977.59 232.119 1977.59 228.369 Q1977.59 223.994 1980.51 221.772 Q1983.45 219.55 1989.26 219.55 L1995.23 219.55 L1995.23 219.133 Q1995.23 216.194 1993.29 214.596 Q1991.37 212.976 1987.87 212.976 Q1985.65 212.976 1983.54 213.508 Q1981.44 214.041 1979.49 215.106 L1979.49 211.17 Q1981.83 210.268 1984.03 209.828 Q1986.23 209.365 1988.31 209.365 Q1993.94 209.365 1996.71 212.282 Q1999.49 215.198 1999.49 221.124 Z\" fill=\"#000000\" fill-rule=\"nonzero\" fill-opacity=\"1\" /><path clip-path=\"url(#clip510)\" d=\"M2019.05 238.323 Q2017.25 242.953 2015.53 244.365 Q2013.82 245.777 2010.95 245.777 L2007.55 245.777 L2007.55 242.212 L2010.05 242.212 Q2011.81 242.212 2012.78 241.379 Q2013.75 240.545 2014.93 237.443 L2015.69 235.499 L2005.21 209.99 L2009.72 209.99 L2017.82 230.268 L2025.93 209.99 L2030.44 209.99 L2019.05 238.323 Z\" fill=\"#000000\" fill-rule=\"nonzero\" fill-opacity=\"1\" /><path clip-path=\"url(#clip510)\" d=\"M2036.32 199.897 L2040.58 199.897 L2040.58 235.916 L2036.32 235.916 L2036.32 199.897 Z\" fill=\"#000000\" fill-rule=\"nonzero\" fill-opacity=\"1\" /><path clip-path=\"url(#clip510)\" d=\"M2071.67 221.888 L2071.67 223.971 L2052.08 223.971 Q2052.36 228.369 2054.72 230.684 Q2057.11 232.976 2061.34 232.976 Q2063.8 232.976 2066.09 232.374 Q2068.4 231.772 2070.67 230.569 L2070.67 234.596 Q2068.38 235.568 2065.97 236.078 Q2063.56 236.587 2061.09 236.587 Q2054.88 236.587 2051.25 232.976 Q2047.64 229.365 2047.64 223.207 Q2047.64 216.842 2051.06 213.115 Q2054.51 209.365 2060.35 209.365 Q2065.58 209.365 2068.61 212.745 Q2071.67 216.101 2071.67 221.888 M2067.41 220.638 Q2067.36 217.143 2065.44 215.059 Q2063.54 212.976 2060.39 212.976 Q2056.83 212.976 2054.68 214.99 Q2052.55 217.004 2052.22 220.661 L2067.41 220.638 Z\" fill=\"#000000\" fill-rule=\"nonzero\" fill-opacity=\"1\" /><path clip-path=\"url(#clip510)\" d=\"M2078.66 209.99 L2082.92 209.99 L2082.92 235.916 L2078.66 235.916 L2078.66 209.99 M2078.66 199.897 L2082.92 199.897 L2082.92 205.291 L2078.66 205.291 L2078.66 199.897 Z\" fill=\"#000000\" fill-rule=\"nonzero\" fill-opacity=\"1\" /><path clip-path=\"url(#clip510)\" d=\"M2108.89 222.652 Q2108.89 218.022 2106.97 215.476 Q2105.07 212.93 2101.62 212.93 Q2098.19 212.93 2096.27 215.476 Q2094.37 218.022 2094.37 222.652 Q2094.37 227.258 2096.27 229.805 Q2098.19 232.351 2101.62 232.351 Q2105.07 232.351 2106.97 229.805 Q2108.89 227.258 2108.89 222.652 M2113.15 232.698 Q2113.15 239.318 2110.21 242.536 Q2107.27 245.777 2101.2 245.777 Q2098.96 245.777 2096.97 245.43 Q2094.98 245.105 2093.1 244.411 L2093.1 240.268 Q2094.98 241.286 2096.81 241.772 Q2098.63 242.258 2100.53 242.258 Q2104.72 242.258 2106.81 240.059 Q2108.89 237.883 2108.89 233.462 L2108.89 231.356 Q2107.57 233.647 2105.51 234.781 Q2103.45 235.916 2100.58 235.916 Q2095.81 235.916 2092.89 232.281 Q2089.98 228.647 2089.98 222.652 Q2089.98 216.633 2092.89 212.999 Q2095.81 209.365 2100.58 209.365 Q2103.45 209.365 2105.51 210.499 Q2107.57 211.633 2108.89 213.925 L2108.89 209.99 L2113.15 209.99 L2113.15 232.698 Z\" fill=\"#000000\" fill-rule=\"nonzero\" fill-opacity=\"1\" /><path clip-path=\"url(#clip510)\" d=\"M2143.47 220.268 L2143.47 235.916 L2139.21 235.916 L2139.21 220.407 Q2139.21 216.726 2137.78 214.897 Q2136.34 213.069 2133.47 213.069 Q2130.02 213.069 2128.03 215.268 Q2126.04 217.467 2126.04 221.263 L2126.04 235.916 L2121.76 235.916 L2121.76 199.897 L2126.04 199.897 L2126.04 214.018 Q2127.57 211.68 2129.63 210.522 Q2131.71 209.365 2134.42 209.365 Q2138.89 209.365 2141.18 212.143 Q2143.47 214.897 2143.47 220.268 Z\" fill=\"#000000\" fill-rule=\"nonzero\" fill-opacity=\"1\" /><path clip-path=\"url(#clip510)\" d=\"M2171.9 205.198 L2171.9 218.184 L2177.78 218.184 Q2181.04 218.184 2182.82 216.495 Q2184.61 214.805 2184.61 211.68 Q2184.61 208.578 2182.82 206.888 Q2181.04 205.198 2177.78 205.198 L2171.9 205.198 M2167.22 201.356 L2177.78 201.356 Q2183.59 201.356 2186.55 203.995 Q2189.54 206.61 2189.54 211.68 Q2189.54 216.795 2186.55 219.411 Q2183.59 222.027 2177.78 222.027 L2171.9 222.027 L2171.9 235.916 L2167.22 235.916 L2167.22 201.356 Z\" fill=\"#000000\" fill-rule=\"nonzero\" fill-opacity=\"1\" /><path clip-path=\"url(#clip510)\" d=\"M2200.49 205.198 L2200.49 232.073 L2206.13 232.073 Q2213.29 232.073 2216.6 228.832 Q2219.93 225.592 2219.93 218.601 Q2219.93 211.657 2216.6 208.439 Q2213.29 205.198 2206.13 205.198 L2200.49 205.198 M2195.81 201.356 L2205.42 201.356 Q2215.46 201.356 2220.16 205.546 Q2224.86 209.712 2224.86 218.601 Q2224.86 227.536 2220.14 231.726 Q2215.42 235.916 2205.42 235.916 L2195.81 235.916 L2195.81 201.356 Z\" fill=\"#000000\" fill-rule=\"nonzero\" fill-opacity=\"1\" /><path clip-path=\"url(#clip510)\" d=\"M2232.31 201.356 L2252.17 201.356 L2252.17 205.291 L2236.99 205.291 L2236.99 215.476 L2250.69 215.476 L2250.69 219.411 L2236.99 219.411 L2236.99 235.916 L2232.31 235.916 L2232.31 201.356 Z\" fill=\"#000000\" fill-rule=\"nonzero\" fill-opacity=\"1\" /><polyline clip-path=\"url(#clip510)\" style=\"stroke:#e26f46; stroke-linecap:round; stroke-linejoin:round; stroke-width:4; stroke-opacity:1; fill:none\" points=\"1598.97,270.476 1740.33,270.476 \"/>\n",
       "<path clip-path=\"url(#clip510)\" d=\"M1789.45 282.825 L1789.45 273.543 L1781.81 273.543 L1781.81 269.7 L1794.08 269.7 L1794.08 284.538 Q1791.37 286.459 1788.1 287.455 Q1784.84 288.427 1781.14 288.427 Q1773.03 288.427 1768.45 283.705 Q1763.89 278.959 1763.89 270.51 Q1763.89 262.038 1768.45 257.316 Q1773.03 252.571 1781.14 252.571 Q1784.52 252.571 1787.55 253.404 Q1790.6 254.237 1793.17 255.858 L1793.17 260.835 Q1790.58 258.636 1787.66 257.524 Q1784.75 256.413 1781.53 256.413 Q1775.19 256.413 1771.99 259.955 Q1768.82 263.497 1768.82 270.51 Q1768.82 277.501 1771.99 281.043 Q1775.19 284.584 1781.53 284.584 Q1784.01 284.584 1785.95 284.168 Q1787.89 283.728 1789.45 282.825 Z\" fill=\"#000000\" fill-rule=\"nonzero\" fill-opacity=\"1\" /><path clip-path=\"url(#clip510)\" d=\"M1814.21 274.723 Q1809.05 274.723 1807.06 275.904 Q1805.07 277.084 1805.07 279.932 Q1805.07 282.2 1806.55 283.543 Q1808.06 284.862 1810.63 284.862 Q1814.17 284.862 1816.3 282.362 Q1818.45 279.839 1818.45 275.672 L1818.45 274.723 L1814.21 274.723 M1822.71 272.964 L1822.71 287.756 L1818.45 287.756 L1818.45 283.821 Q1816.99 286.182 1814.82 287.316 Q1812.64 288.427 1809.49 288.427 Q1805.51 288.427 1803.15 286.205 Q1800.81 283.959 1800.81 280.209 Q1800.81 275.834 1803.73 273.612 Q1806.67 271.39 1812.48 271.39 L1818.45 271.39 L1818.45 270.973 Q1818.45 268.034 1816.51 266.436 Q1814.58 264.816 1811.09 264.816 Q1808.87 264.816 1806.76 265.348 Q1804.65 265.881 1802.71 266.946 L1802.71 263.01 Q1805.05 262.108 1807.25 261.668 Q1809.45 261.205 1811.53 261.205 Q1817.15 261.205 1819.93 264.122 Q1822.71 267.038 1822.71 272.964 Z\" fill=\"#000000\" fill-rule=\"nonzero\" fill-opacity=\"1\" /><path clip-path=\"url(#clip510)\" d=\"M1831.04 277.524 L1831.04 261.83 L1835.3 261.83 L1835.3 277.362 Q1835.3 281.043 1836.74 282.895 Q1838.17 284.723 1841.04 284.723 Q1844.49 284.723 1846.48 282.524 Q1848.5 280.325 1848.5 276.529 L1848.5 261.83 L1852.76 261.83 L1852.76 287.756 L1848.5 287.756 L1848.5 283.774 Q1846.95 286.135 1844.89 287.293 Q1842.85 288.427 1840.14 288.427 Q1835.67 288.427 1833.36 285.649 Q1831.04 282.871 1831.04 277.524 M1841.76 261.205 L1841.76 261.205 Z\" fill=\"#000000\" fill-rule=\"nonzero\" fill-opacity=\"1\" /><path clip-path=\"url(#clip510)\" d=\"M1878.06 262.594 L1878.06 266.622 Q1876.25 265.696 1874.31 265.233 Q1872.36 264.77 1870.28 264.77 Q1867.11 264.77 1865.51 265.742 Q1863.94 266.714 1863.94 268.659 Q1863.94 270.14 1865.07 270.997 Q1866.2 271.83 1869.63 272.594 L1871.09 272.918 Q1875.63 273.89 1877.52 275.672 Q1879.45 277.432 1879.45 280.603 Q1879.45 284.214 1876.57 286.321 Q1873.73 288.427 1868.73 288.427 Q1866.64 288.427 1864.38 288.01 Q1862.13 287.617 1859.63 286.807 L1859.63 282.409 Q1861.99 283.635 1864.28 284.26 Q1866.58 284.862 1868.82 284.862 Q1871.83 284.862 1873.45 283.844 Q1875.07 282.802 1875.07 280.927 Q1875.07 279.191 1873.89 278.265 Q1872.73 277.339 1868.77 276.483 L1867.29 276.135 Q1863.33 275.302 1861.58 273.589 Q1859.82 271.853 1859.82 268.844 Q1859.82 265.186 1862.41 263.196 Q1865 261.205 1869.77 261.205 Q1872.13 261.205 1874.21 261.552 Q1876.3 261.899 1878.06 262.594 Z\" fill=\"#000000\" fill-rule=\"nonzero\" fill-opacity=\"1\" /><path clip-path=\"url(#clip510)\" d=\"M1902.76 262.594 L1902.76 266.622 Q1900.95 265.696 1899.01 265.233 Q1897.06 264.77 1894.98 264.77 Q1891.81 264.77 1890.21 265.742 Q1888.64 266.714 1888.64 268.659 Q1888.64 270.14 1889.77 270.997 Q1890.9 271.83 1894.33 272.594 L1895.79 272.918 Q1900.32 273.89 1902.22 275.672 Q1904.14 277.432 1904.14 280.603 Q1904.14 284.214 1901.27 286.321 Q1898.43 288.427 1893.43 288.427 Q1891.34 288.427 1889.07 288.01 Q1886.83 287.617 1884.33 286.807 L1884.33 282.409 Q1886.69 283.635 1888.98 284.26 Q1891.27 284.862 1893.52 284.862 Q1896.53 284.862 1898.15 283.844 Q1899.77 282.802 1899.77 280.927 Q1899.77 279.191 1898.59 278.265 Q1897.43 277.339 1893.47 276.483 L1891.99 276.135 Q1888.03 275.302 1886.27 273.589 Q1884.51 271.853 1884.51 268.844 Q1884.51 265.186 1887.11 263.196 Q1889.7 261.205 1894.47 261.205 Q1896.83 261.205 1898.91 261.552 Q1901 261.899 1902.76 262.594 Z\" fill=\"#000000\" fill-rule=\"nonzero\" fill-opacity=\"1\" /><path clip-path=\"url(#clip510)\" d=\"M1910.93 261.83 L1915.19 261.83 L1915.19 287.756 L1910.93 287.756 L1910.93 261.83 M1910.93 251.737 L1915.19 251.737 L1915.19 257.131 L1910.93 257.131 L1910.93 251.737 Z\" fill=\"#000000\" fill-rule=\"nonzero\" fill-opacity=\"1\" /><path clip-path=\"url(#clip510)\" d=\"M1935.88 274.723 Q1930.72 274.723 1928.73 275.904 Q1926.74 277.084 1926.74 279.932 Q1926.74 282.2 1928.22 283.543 Q1929.72 284.862 1932.29 284.862 Q1935.83 284.862 1937.96 282.362 Q1940.12 279.839 1940.12 275.672 L1940.12 274.723 L1935.88 274.723 M1944.38 272.964 L1944.38 287.756 L1940.12 287.756 L1940.12 283.821 Q1938.66 286.182 1936.48 287.316 Q1934.31 288.427 1931.16 288.427 Q1927.18 288.427 1924.82 286.205 Q1922.48 283.959 1922.48 280.209 Q1922.48 275.834 1925.39 273.612 Q1928.33 271.39 1934.14 271.39 L1940.12 271.39 L1940.12 270.973 Q1940.12 268.034 1938.17 266.436 Q1936.25 264.816 1932.76 264.816 Q1930.53 264.816 1928.43 265.348 Q1926.32 265.881 1924.38 266.946 L1924.38 263.01 Q1926.71 262.108 1928.91 261.668 Q1931.11 261.205 1933.2 261.205 Q1938.82 261.205 1941.6 264.122 Q1944.38 267.038 1944.38 272.964 Z\" fill=\"#000000\" fill-rule=\"nonzero\" fill-opacity=\"1\" /><path clip-path=\"url(#clip510)\" d=\"M1974.7 272.108 L1974.7 287.756 L1970.44 287.756 L1970.44 272.247 Q1970.44 268.566 1969.01 266.737 Q1967.57 264.909 1964.7 264.909 Q1961.25 264.909 1959.26 267.108 Q1957.27 269.307 1957.27 273.103 L1957.27 287.756 L1952.99 287.756 L1952.99 261.83 L1957.27 261.83 L1957.27 265.858 Q1958.8 263.52 1960.86 262.362 Q1962.94 261.205 1965.65 261.205 Q1970.12 261.205 1972.41 263.983 Q1974.7 266.737 1974.7 272.108 Z\" fill=\"#000000\" fill-rule=\"nonzero\" fill-opacity=\"1\" /><polyline clip-path=\"url(#clip510)\" style=\"stroke:#3da44d; stroke-linecap:round; stroke-linejoin:round; stroke-width:4; stroke-opacity:1; fill:none\" points=\"1598.97,322.316 1740.33,322.316 \"/>\n",
       "<path clip-path=\"url(#clip510)\" d=\"M1780.28 323.392 Q1781.78 323.901 1783.2 325.568 Q1784.63 327.235 1786.07 330.151 L1790.81 339.596 L1785.79 339.596 L1781.37 330.73 Q1779.65 327.258 1778.03 326.124 Q1776.44 324.989 1773.66 324.989 L1768.57 324.989 L1768.57 339.596 L1763.89 339.596 L1763.89 305.036 L1774.45 305.036 Q1780.37 305.036 1783.29 307.513 Q1786.21 309.989 1786.21 314.989 Q1786.21 318.253 1784.68 320.406 Q1783.17 322.559 1780.28 323.392 M1768.57 308.878 L1768.57 321.147 L1774.45 321.147 Q1777.83 321.147 1779.54 319.596 Q1781.27 318.022 1781.27 314.989 Q1781.27 311.957 1779.54 310.429 Q1777.83 308.878 1774.45 308.878 L1768.57 308.878 Z\" fill=\"#000000\" fill-rule=\"nonzero\" fill-opacity=\"1\" /><path clip-path=\"url(#clip510)\" d=\"M1807.39 326.563 Q1802.22 326.563 1800.23 327.744 Q1798.24 328.924 1798.24 331.772 Q1798.24 334.04 1799.72 335.383 Q1801.23 336.702 1803.8 336.702 Q1807.34 336.702 1809.47 334.202 Q1811.62 331.679 1811.62 327.512 L1811.62 326.563 L1807.39 326.563 M1815.88 324.804 L1815.88 339.596 L1811.62 339.596 L1811.62 335.661 Q1810.16 338.022 1807.99 339.156 Q1805.81 340.267 1802.66 340.267 Q1798.68 340.267 1796.32 338.045 Q1793.98 335.799 1793.98 332.049 Q1793.98 327.674 1796.9 325.452 Q1799.84 323.23 1805.65 323.23 L1811.62 323.23 L1811.62 322.813 Q1811.62 319.874 1809.68 318.276 Q1807.76 316.656 1804.26 316.656 Q1802.04 316.656 1799.93 317.188 Q1797.83 317.721 1795.88 318.786 L1795.88 314.85 Q1798.22 313.948 1800.42 313.508 Q1802.62 313.045 1804.7 313.045 Q1810.33 313.045 1813.1 315.962 Q1815.88 318.878 1815.88 324.804 Z\" fill=\"#000000\" fill-rule=\"nonzero\" fill-opacity=\"1\" /><path clip-path=\"url(#clip510)\" d=\"M1835.44 342.003 Q1833.64 346.633 1831.92 348.045 Q1830.21 349.457 1827.34 349.457 L1823.94 349.457 L1823.94 345.892 L1826.44 345.892 Q1828.2 345.892 1829.17 345.059 Q1830.14 344.225 1831.32 341.123 L1832.08 339.179 L1821.6 313.67 L1826.11 313.67 L1834.21 333.948 L1842.32 313.67 L1846.83 313.67 L1835.44 342.003 Z\" fill=\"#000000\" fill-rule=\"nonzero\" fill-opacity=\"1\" /><path clip-path=\"url(#clip510)\" d=\"M1852.71 303.577 L1856.97 303.577 L1856.97 339.596 L1852.71 339.596 L1852.71 303.577 Z\" fill=\"#000000\" fill-rule=\"nonzero\" fill-opacity=\"1\" /><path clip-path=\"url(#clip510)\" d=\"M1888.06 325.568 L1888.06 327.651 L1868.47 327.651 Q1868.75 332.049 1871.11 334.364 Q1873.5 336.656 1877.73 336.656 Q1880.19 336.656 1882.48 336.054 Q1884.79 335.452 1887.06 334.249 L1887.06 338.276 Q1884.77 339.248 1882.36 339.758 Q1879.95 340.267 1877.48 340.267 Q1871.27 340.267 1867.64 336.656 Q1864.03 333.045 1864.03 326.887 Q1864.03 320.522 1867.45 316.795 Q1870.9 313.045 1876.74 313.045 Q1881.97 313.045 1885 316.425 Q1888.06 319.781 1888.06 325.568 M1883.8 324.318 Q1883.75 320.823 1881.83 318.739 Q1879.93 316.656 1876.78 316.656 Q1873.22 316.656 1871.07 318.67 Q1868.94 320.684 1868.61 324.341 L1883.8 324.318 Z\" fill=\"#000000\" fill-rule=\"nonzero\" fill-opacity=\"1\" /><path clip-path=\"url(#clip510)\" d=\"M1895.05 313.67 L1899.31 313.67 L1899.31 339.596 L1895.05 339.596 L1895.05 313.67 M1895.05 303.577 L1899.31 303.577 L1899.31 308.971 L1895.05 308.971 L1895.05 303.577 Z\" fill=\"#000000\" fill-rule=\"nonzero\" fill-opacity=\"1\" /><path clip-path=\"url(#clip510)\" d=\"M1925.28 326.332 Q1925.28 321.702 1923.36 319.156 Q1921.46 316.61 1918.01 316.61 Q1914.58 316.61 1912.66 319.156 Q1910.76 321.702 1910.76 326.332 Q1910.76 330.938 1912.66 333.485 Q1914.58 336.031 1918.01 336.031 Q1921.46 336.031 1923.36 333.485 Q1925.28 330.938 1925.28 326.332 M1929.54 336.378 Q1929.54 342.998 1926.6 346.216 Q1923.66 349.457 1917.59 349.457 Q1915.35 349.457 1913.36 349.11 Q1911.37 348.785 1909.49 348.091 L1909.49 343.948 Q1911.37 344.966 1913.2 345.452 Q1915.02 345.938 1916.92 345.938 Q1921.11 345.938 1923.2 343.739 Q1925.28 341.563 1925.28 337.142 L1925.28 335.036 Q1923.96 337.327 1921.9 338.461 Q1919.84 339.596 1916.97 339.596 Q1912.2 339.596 1909.28 335.961 Q1906.37 332.327 1906.37 326.332 Q1906.37 320.313 1909.28 316.679 Q1912.2 313.045 1916.97 313.045 Q1919.84 313.045 1921.9 314.179 Q1923.96 315.313 1925.28 317.605 L1925.28 313.67 L1929.54 313.67 L1929.54 336.378 Z\" fill=\"#000000\" fill-rule=\"nonzero\" fill-opacity=\"1\" /><path clip-path=\"url(#clip510)\" d=\"M1959.86 323.948 L1959.86 339.596 L1955.6 339.596 L1955.6 324.087 Q1955.6 320.406 1954.17 318.577 Q1952.73 316.749 1949.86 316.749 Q1946.41 316.749 1944.42 318.948 Q1942.43 321.147 1942.43 324.943 L1942.43 339.596 L1938.15 339.596 L1938.15 303.577 L1942.43 303.577 L1942.43 317.698 Q1943.96 315.36 1946.02 314.202 Q1948.1 313.045 1950.81 313.045 Q1955.28 313.045 1957.57 315.823 Q1959.86 318.577 1959.86 323.948 Z\" fill=\"#000000\" fill-rule=\"nonzero\" fill-opacity=\"1\" /><polyline clip-path=\"url(#clip510)\" style=\"stroke:#c271d2; stroke-linecap:round; stroke-linejoin:round; stroke-width:4; stroke-opacity:1; fill:none\" points=\"1598.97,374.156 1740.33,374.156 \"/>\n",
       "<path clip-path=\"url(#clip510)\" d=\"M1763.89 356.876 L1785.74 356.876 L1785.74 360.811 L1768.57 360.811 L1768.57 371.042 L1785.02 371.042 L1785.02 374.977 L1768.57 374.977 L1768.57 387.501 L1786.16 387.501 L1786.16 391.436 L1763.89 391.436 L1763.89 356.876 Z\" fill=\"#000000\" fill-rule=\"nonzero\" fill-opacity=\"1\" /><path clip-path=\"url(#clip510)\" d=\"M1815.21 365.51 L1805.83 378.126 L1815.7 391.436 L1810.67 391.436 L1803.13 381.251 L1795.58 391.436 L1790.56 391.436 L1800.63 377.871 L1791.41 365.51 L1796.44 365.51 L1803.31 374.746 L1810.19 365.51 L1815.21 365.51 Z\" fill=\"#000000\" fill-rule=\"nonzero\" fill-opacity=\"1\" /><path clip-path=\"url(#clip510)\" d=\"M1825.83 387.547 L1825.83 401.297 L1821.55 401.297 L1821.55 365.51 L1825.83 365.51 L1825.83 369.445 Q1827.18 367.13 1829.21 366.019 Q1831.27 364.885 1834.12 364.885 Q1838.84 364.885 1841.78 368.635 Q1844.75 372.385 1844.75 378.496 Q1844.75 384.607 1841.78 388.357 Q1838.84 392.107 1834.12 392.107 Q1831.27 392.107 1829.21 390.996 Q1827.18 389.862 1825.83 387.547 M1840.33 378.496 Q1840.33 373.797 1838.38 371.135 Q1836.46 368.45 1833.08 368.45 Q1829.7 368.45 1827.76 371.135 Q1825.83 373.797 1825.83 378.496 Q1825.83 383.195 1827.76 385.88 Q1829.7 388.542 1833.08 388.542 Q1836.46 388.542 1838.38 385.88 Q1840.33 383.195 1840.33 378.496 Z\" fill=\"#000000\" fill-rule=\"nonzero\" fill-opacity=\"1\" /><path clip-path=\"url(#clip510)\" d=\"M1861.85 368.496 Q1858.43 368.496 1856.44 371.181 Q1854.45 373.843 1854.45 378.496 Q1854.45 383.149 1856.41 385.834 Q1858.4 388.496 1861.85 388.496 Q1865.26 388.496 1867.25 385.811 Q1869.24 383.126 1869.24 378.496 Q1869.24 373.89 1867.25 371.204 Q1865.26 368.496 1861.85 368.496 M1861.85 364.885 Q1867.41 364.885 1870.58 368.496 Q1873.75 372.107 1873.75 378.496 Q1873.75 384.862 1870.58 388.496 Q1867.41 392.107 1861.85 392.107 Q1856.27 392.107 1853.1 388.496 Q1849.95 384.862 1849.95 378.496 Q1849.95 372.107 1853.1 368.496 Q1856.27 364.885 1861.85 364.885 Z\" fill=\"#000000\" fill-rule=\"nonzero\" fill-opacity=\"1\" /><path clip-path=\"url(#clip510)\" d=\"M1902.36 375.788 L1902.36 391.436 L1898.1 391.436 L1898.1 375.927 Q1898.1 372.246 1896.67 370.417 Q1895.23 368.589 1892.36 368.589 Q1888.91 368.589 1886.92 370.788 Q1884.93 372.987 1884.93 376.783 L1884.93 391.436 L1880.65 391.436 L1880.65 365.51 L1884.93 365.51 L1884.93 369.538 Q1886.46 367.2 1888.52 366.042 Q1890.6 364.885 1893.31 364.885 Q1897.78 364.885 1900.07 367.663 Q1902.36 370.417 1902.36 375.788 Z\" fill=\"#000000\" fill-rule=\"nonzero\" fill-opacity=\"1\" /><path clip-path=\"url(#clip510)\" d=\"M1933.03 377.408 L1933.03 379.491 L1913.45 379.491 Q1913.73 383.889 1916.09 386.204 Q1918.47 388.496 1922.71 388.496 Q1925.16 388.496 1927.45 387.894 Q1929.77 387.292 1932.04 386.089 L1932.04 390.116 Q1929.75 391.088 1927.34 391.598 Q1924.93 392.107 1922.45 392.107 Q1916.25 392.107 1912.62 388.496 Q1909.01 384.885 1909.01 378.727 Q1909.01 372.362 1912.43 368.635 Q1915.88 364.885 1921.71 364.885 Q1926.95 364.885 1929.98 368.265 Q1933.03 371.621 1933.03 377.408 M1928.77 376.158 Q1928.73 372.663 1926.81 370.579 Q1924.91 368.496 1921.76 368.496 Q1918.2 368.496 1916.04 370.51 Q1913.91 372.524 1913.59 376.181 L1928.77 376.158 Z\" fill=\"#000000\" fill-rule=\"nonzero\" fill-opacity=\"1\" /><path clip-path=\"url(#clip510)\" d=\"M1961.57 375.788 L1961.57 391.436 L1957.32 391.436 L1957.32 375.927 Q1957.32 372.246 1955.88 370.417 Q1954.44 368.589 1951.57 368.589 Q1948.13 368.589 1946.13 370.788 Q1944.14 372.987 1944.14 376.783 L1944.14 391.436 L1939.86 391.436 L1939.86 365.51 L1944.14 365.51 L1944.14 369.538 Q1945.67 367.2 1947.73 366.042 Q1949.82 364.885 1952.52 364.885 Q1956.99 364.885 1959.28 367.663 Q1961.57 370.417 1961.57 375.788 Z\" fill=\"#000000\" fill-rule=\"nonzero\" fill-opacity=\"1\" /><path clip-path=\"url(#clip510)\" d=\"M1974.28 358.149 L1974.28 365.51 L1983.06 365.51 L1983.06 368.82 L1974.28 368.82 L1974.28 382.894 Q1974.28 386.065 1975.14 386.968 Q1976.02 387.871 1978.68 387.871 L1983.06 387.871 L1983.06 391.436 L1978.68 391.436 Q1973.75 391.436 1971.88 389.607 Q1970 387.755 1970 382.894 L1970 368.82 L1966.88 368.82 L1966.88 365.51 L1970 365.51 L1970 358.149 L1974.28 358.149 Z\" fill=\"#000000\" fill-rule=\"nonzero\" fill-opacity=\"1\" /><path clip-path=\"url(#clip510)\" d=\"M1988.66 365.51 L1992.92 365.51 L1992.92 391.436 L1988.66 391.436 L1988.66 365.51 M1988.66 355.417 L1992.92 355.417 L1992.92 360.811 L1988.66 360.811 L1988.66 355.417 Z\" fill=\"#000000\" fill-rule=\"nonzero\" fill-opacity=\"1\" /><path clip-path=\"url(#clip510)\" d=\"M2013.61 378.403 Q2008.45 378.403 2006.46 379.584 Q2004.47 380.764 2004.47 383.612 Q2004.47 385.88 2005.95 387.223 Q2007.45 388.542 2010.02 388.542 Q2013.57 388.542 2015.69 386.042 Q2017.85 383.519 2017.85 379.352 L2017.85 378.403 L2013.61 378.403 M2022.11 376.644 L2022.11 391.436 L2017.85 391.436 L2017.85 387.501 Q2016.39 389.862 2014.21 390.996 Q2012.04 392.107 2008.89 392.107 Q2004.91 392.107 2002.55 389.885 Q2000.21 387.639 2000.21 383.889 Q2000.21 379.514 2003.13 377.292 Q2006.07 375.07 2011.88 375.07 L2017.85 375.07 L2017.85 374.653 Q2017.85 371.714 2015.9 370.116 Q2013.98 368.496 2010.49 368.496 Q2008.26 368.496 2006.16 369.028 Q2004.05 369.561 2002.11 370.626 L2002.11 366.69 Q2004.44 365.788 2006.64 365.348 Q2008.84 364.885 2010.93 364.885 Q2016.55 364.885 2019.33 367.802 Q2022.11 370.718 2022.11 376.644 Z\" fill=\"#000000\" fill-rule=\"nonzero\" fill-opacity=\"1\" /><path clip-path=\"url(#clip510)\" d=\"M2030.88 355.417 L2035.14 355.417 L2035.14 391.436 L2030.88 391.436 L2030.88 355.417 Z\" fill=\"#000000\" fill-rule=\"nonzero\" fill-opacity=\"1\" /><path clip-path=\"url(#clip510)\" d=\"M2069.35 355.464 Q2066.25 360.788 2064.75 365.996 Q2063.24 371.204 2063.24 376.552 Q2063.24 381.899 2064.75 387.153 Q2066.27 392.385 2069.35 397.686 L2065.65 397.686 Q2062.18 392.246 2060.44 386.991 Q2058.73 381.737 2058.73 376.552 Q2058.73 371.39 2060.44 366.158 Q2062.15 360.927 2065.65 355.464 L2069.35 355.464 Z\" fill=\"#000000\" fill-rule=\"nonzero\" fill-opacity=\"1\" /><path clip-path=\"url(#clip510)\" d=\"M2077.8 356.876 L2099.65 356.876 L2099.65 360.811 L2082.48 360.811 L2082.48 371.042 L2098.93 371.042 L2098.93 374.977 L2082.48 374.977 L2082.48 387.501 L2100.07 387.501 L2100.07 391.436 L2077.8 391.436 L2077.8 356.876 Z\" fill=\"#000000\" fill-rule=\"nonzero\" fill-opacity=\"1\" /><path clip-path=\"url(#clip510)\" d=\"M2118.17 359.954 Q2114.56 359.954 2112.73 363.519 Q2110.93 367.061 2110.93 374.19 Q2110.93 381.297 2112.73 384.862 Q2114.56 388.403 2118.17 388.403 Q2121.81 388.403 2123.61 384.862 Q2125.44 381.297 2125.44 374.19 Q2125.44 367.061 2123.61 363.519 Q2121.81 359.954 2118.17 359.954 M2118.17 356.251 Q2123.98 356.251 2127.04 360.857 Q2130.12 365.44 2130.12 374.19 Q2130.12 382.917 2127.04 387.524 Q2123.98 392.107 2118.17 392.107 Q2112.36 392.107 2109.28 387.524 Q2106.23 382.917 2106.23 374.19 Q2106.23 365.44 2109.28 360.857 Q2112.36 356.251 2118.17 356.251 Z\" fill=\"#000000\" fill-rule=\"nonzero\" fill-opacity=\"1\" /><path clip-path=\"url(#clip510)\" d=\"M2137.06 355.464 L2140.76 355.464 Q2144.24 360.927 2145.95 366.158 Q2147.68 371.39 2147.68 376.552 Q2147.68 381.737 2145.95 386.991 Q2144.24 392.246 2140.76 397.686 L2137.06 397.686 Q2140.14 392.385 2141.64 387.153 Q2143.17 381.899 2143.17 376.552 Q2143.17 371.204 2141.64 365.996 Q2140.14 360.788 2137.06 355.464 Z\" fill=\"#000000\" fill-rule=\"nonzero\" fill-opacity=\"1\" /><polyline clip-path=\"url(#clip510)\" style=\"stroke:#ac8d18; stroke-linecap:round; stroke-linejoin:round; stroke-width:4; stroke-opacity:1; fill:none\" points=\"1598.97,425.996 1740.33,425.996 \"/>\n",
       "<path clip-path=\"url(#clip510)\" d=\"M1763.89 408.716 L1785.74 408.716 L1785.74 412.651 L1768.57 412.651 L1768.57 422.882 L1785.02 422.882 L1785.02 426.817 L1768.57 426.817 L1768.57 439.341 L1786.16 439.341 L1786.16 443.276 L1763.89 443.276 L1763.89 408.716 Z\" fill=\"#000000\" fill-rule=\"nonzero\" fill-opacity=\"1\" /><path clip-path=\"url(#clip510)\" d=\"M1808.68 421.331 Q1807.96 420.915 1807.11 420.73 Q1806.27 420.521 1805.26 420.521 Q1801.64 420.521 1799.7 422.882 Q1797.78 425.22 1797.78 429.618 L1797.78 443.276 L1793.5 443.276 L1793.5 417.35 L1797.78 417.35 L1797.78 421.378 Q1799.12 419.017 1801.27 417.882 Q1803.43 416.725 1806.51 416.725 Q1806.95 416.725 1807.48 416.794 Q1808.01 416.841 1808.66 416.956 L1808.68 421.331 Z\" fill=\"#000000\" fill-rule=\"nonzero\" fill-opacity=\"1\" /><path clip-path=\"url(#clip510)\" d=\"M1813.15 407.257 L1817.41 407.257 L1817.41 443.276 L1813.15 443.276 L1813.15 407.257 Z\" fill=\"#000000\" fill-rule=\"nonzero\" fill-opacity=\"1\" /><path clip-path=\"url(#clip510)\" d=\"M1838.1 430.243 Q1832.94 430.243 1830.95 431.424 Q1828.96 432.604 1828.96 435.452 Q1828.96 437.72 1830.44 439.063 Q1831.95 440.382 1834.52 440.382 Q1838.06 440.382 1840.19 437.882 Q1842.34 435.359 1842.34 431.192 L1842.34 430.243 L1838.1 430.243 M1846.6 428.484 L1846.6 443.276 L1842.34 443.276 L1842.34 439.341 Q1840.88 441.702 1838.7 442.836 Q1836.53 443.947 1833.38 443.947 Q1829.4 443.947 1827.04 441.725 Q1824.7 439.479 1824.7 435.729 Q1824.7 431.354 1827.62 429.132 Q1830.56 426.91 1836.37 426.91 L1842.34 426.91 L1842.34 426.493 Q1842.34 423.554 1840.39 421.956 Q1838.47 420.336 1834.98 420.336 Q1832.76 420.336 1830.65 420.868 Q1828.54 421.401 1826.6 422.466 L1826.6 418.53 Q1828.94 417.628 1831.14 417.188 Q1833.33 416.725 1835.42 416.725 Q1841.04 416.725 1843.82 419.642 Q1846.6 422.558 1846.6 428.484 Z\" fill=\"#000000\" fill-rule=\"nonzero\" fill-opacity=\"1\" /><path clip-path=\"url(#clip510)\" d=\"M1876.92 427.628 L1876.92 443.276 L1872.66 443.276 L1872.66 427.767 Q1872.66 424.086 1871.23 422.257 Q1869.79 420.429 1866.92 420.429 Q1863.47 420.429 1861.48 422.628 Q1859.49 424.827 1859.49 428.623 L1859.49 443.276 L1855.21 443.276 L1855.21 417.35 L1859.49 417.35 L1859.49 421.378 Q1861.02 419.04 1863.08 417.882 Q1865.16 416.725 1867.87 416.725 Q1872.34 416.725 1874.63 419.503 Q1876.92 422.257 1876.92 427.628 Z\" fill=\"#000000\" fill-rule=\"nonzero\" fill-opacity=\"1\" /><path clip-path=\"url(#clip510)\" d=\"M1902.48 430.012 Q1902.48 425.382 1900.56 422.836 Q1898.66 420.29 1895.21 420.29 Q1891.78 420.29 1889.86 422.836 Q1887.96 425.382 1887.96 430.012 Q1887.96 434.618 1889.86 437.165 Q1891.78 439.711 1895.21 439.711 Q1898.66 439.711 1900.56 437.165 Q1902.48 434.618 1902.48 430.012 M1906.74 440.058 Q1906.74 446.678 1903.8 449.896 Q1900.86 453.137 1894.79 453.137 Q1892.55 453.137 1890.56 452.79 Q1888.57 452.465 1886.69 451.771 L1886.69 447.628 Q1888.57 448.646 1890.39 449.132 Q1892.22 449.618 1894.12 449.618 Q1898.31 449.618 1900.39 447.419 Q1902.48 445.243 1902.48 440.822 L1902.48 438.716 Q1901.16 441.007 1899.1 442.141 Q1897.04 443.276 1894.17 443.276 Q1889.4 443.276 1886.48 439.641 Q1883.57 436.007 1883.57 430.012 Q1883.57 423.993 1886.48 420.359 Q1889.4 416.725 1894.17 416.725 Q1897.04 416.725 1899.1 417.859 Q1901.16 418.993 1902.48 421.285 L1902.48 417.35 L1906.74 417.35 L1906.74 440.058 Z\" fill=\"#000000\" fill-rule=\"nonzero\" fill-opacity=\"1\" /><path clip-path=\"url(#clip510)\" d=\"M1940.81 407.304 Q1937.71 412.628 1936.2 417.836 Q1934.7 423.044 1934.7 428.392 Q1934.7 433.739 1936.2 438.993 Q1937.73 444.225 1940.81 449.526 L1937.11 449.526 Q1933.63 444.086 1931.9 438.831 Q1930.19 433.577 1930.19 428.392 Q1930.19 423.23 1931.9 417.998 Q1933.61 412.767 1937.11 407.304 L1940.81 407.304 Z\" fill=\"#000000\" fill-rule=\"nonzero\" fill-opacity=\"1\" /><path clip-path=\"url(#clip510)\" d=\"M1949.26 408.716 L1971.11 408.716 L1971.11 412.651 L1953.94 412.651 L1953.94 422.882 L1970.39 422.882 L1970.39 426.817 L1953.94 426.817 L1953.94 439.341 L1971.53 439.341 L1971.53 443.276 L1949.26 443.276 L1949.26 408.716 Z\" fill=\"#000000\" fill-rule=\"nonzero\" fill-opacity=\"1\" /><path clip-path=\"url(#clip510)\" d=\"M1980.44 439.341 L1988.08 439.341 L1988.08 412.975 L1979.77 414.642 L1979.77 410.382 L1988.03 408.716 L1992.71 408.716 L1992.71 439.341 L2000.35 439.341 L2000.35 443.276 L1980.44 443.276 L1980.44 439.341 Z\" fill=\"#000000\" fill-rule=\"nonzero\" fill-opacity=\"1\" /><path clip-path=\"url(#clip510)\" d=\"M2008.52 407.304 L2012.22 407.304 Q2015.69 412.767 2017.41 417.998 Q2019.14 423.23 2019.14 428.392 Q2019.14 433.577 2017.41 438.831 Q2015.69 444.086 2012.22 449.526 L2008.52 449.526 Q2011.6 444.225 2013.1 438.993 Q2014.63 433.739 2014.63 428.392 Q2014.63 423.044 2013.1 417.836 Q2011.6 412.628 2008.52 407.304 Z\" fill=\"#000000\" fill-rule=\"nonzero\" fill-opacity=\"1\" /><polyline clip-path=\"url(#clip510)\" style=\"stroke:#00a9ad; stroke-linecap:round; stroke-linejoin:round; stroke-width:4; stroke-opacity:1; fill:none\" points=\"1598.97,477.836 1740.33,477.836 \"/>\n",
       "<path clip-path=\"url(#clip510)\" d=\"M1763.89 460.556 L1785.74 460.556 L1785.74 464.491 L1768.57 464.491 L1768.57 474.722 L1785.02 474.722 L1785.02 478.657 L1768.57 478.657 L1768.57 491.181 L1786.16 491.181 L1786.16 495.116 L1763.89 495.116 L1763.89 460.556 Z\" fill=\"#000000\" fill-rule=\"nonzero\" fill-opacity=\"1\" /><path clip-path=\"url(#clip510)\" d=\"M1808.68 473.171 Q1807.96 472.755 1807.11 472.57 Q1806.27 472.361 1805.26 472.361 Q1801.64 472.361 1799.7 474.722 Q1797.78 477.06 1797.78 481.458 L1797.78 495.116 L1793.5 495.116 L1793.5 469.19 L1797.78 469.19 L1797.78 473.218 Q1799.12 470.857 1801.27 469.722 Q1803.43 468.565 1806.51 468.565 Q1806.95 468.565 1807.48 468.634 Q1808.01 468.681 1808.66 468.796 L1808.68 473.171 Z\" fill=\"#000000\" fill-rule=\"nonzero\" fill-opacity=\"1\" /><path clip-path=\"url(#clip510)\" d=\"M1813.15 459.097 L1817.41 459.097 L1817.41 495.116 L1813.15 495.116 L1813.15 459.097 Z\" fill=\"#000000\" fill-rule=\"nonzero\" fill-opacity=\"1\" /><path clip-path=\"url(#clip510)\" d=\"M1838.1 482.083 Q1832.94 482.083 1830.95 483.264 Q1828.96 484.444 1828.96 487.292 Q1828.96 489.56 1830.44 490.903 Q1831.95 492.222 1834.52 492.222 Q1838.06 492.222 1840.19 489.722 Q1842.34 487.199 1842.34 483.032 L1842.34 482.083 L1838.1 482.083 M1846.6 480.324 L1846.6 495.116 L1842.34 495.116 L1842.34 491.181 Q1840.88 493.542 1838.7 494.676 Q1836.53 495.787 1833.38 495.787 Q1829.4 495.787 1827.04 493.565 Q1824.7 491.319 1824.7 487.569 Q1824.7 483.194 1827.62 480.972 Q1830.56 478.75 1836.37 478.75 L1842.34 478.75 L1842.34 478.333 Q1842.34 475.394 1840.39 473.796 Q1838.47 472.176 1834.98 472.176 Q1832.76 472.176 1830.65 472.708 Q1828.54 473.241 1826.6 474.306 L1826.6 470.37 Q1828.94 469.468 1831.14 469.028 Q1833.33 468.565 1835.42 468.565 Q1841.04 468.565 1843.82 471.482 Q1846.6 474.398 1846.6 480.324 Z\" fill=\"#000000\" fill-rule=\"nonzero\" fill-opacity=\"1\" /><path clip-path=\"url(#clip510)\" d=\"M1876.92 479.468 L1876.92 495.116 L1872.66 495.116 L1872.66 479.607 Q1872.66 475.926 1871.23 474.097 Q1869.79 472.269 1866.92 472.269 Q1863.47 472.269 1861.48 474.468 Q1859.49 476.667 1859.49 480.463 L1859.49 495.116 L1855.21 495.116 L1855.21 469.19 L1859.49 469.19 L1859.49 473.218 Q1861.02 470.88 1863.08 469.722 Q1865.16 468.565 1867.87 468.565 Q1872.34 468.565 1874.63 471.343 Q1876.92 474.097 1876.92 479.468 Z\" fill=\"#000000\" fill-rule=\"nonzero\" fill-opacity=\"1\" /><path clip-path=\"url(#clip510)\" d=\"M1902.48 481.852 Q1902.48 477.222 1900.56 474.676 Q1898.66 472.13 1895.21 472.13 Q1891.78 472.13 1889.86 474.676 Q1887.96 477.222 1887.96 481.852 Q1887.96 486.458 1889.86 489.005 Q1891.78 491.551 1895.21 491.551 Q1898.66 491.551 1900.56 489.005 Q1902.48 486.458 1902.48 481.852 M1906.74 491.898 Q1906.74 498.518 1903.8 501.736 Q1900.86 504.977 1894.79 504.977 Q1892.55 504.977 1890.56 504.63 Q1888.57 504.305 1886.69 503.611 L1886.69 499.468 Q1888.57 500.486 1890.39 500.972 Q1892.22 501.458 1894.12 501.458 Q1898.31 501.458 1900.39 499.259 Q1902.48 497.083 1902.48 492.662 L1902.48 490.556 Q1901.16 492.847 1899.1 493.981 Q1897.04 495.116 1894.17 495.116 Q1889.4 495.116 1886.48 491.481 Q1883.57 487.847 1883.57 481.852 Q1883.57 475.833 1886.48 472.199 Q1889.4 468.565 1894.17 468.565 Q1897.04 468.565 1899.1 469.699 Q1901.16 470.833 1902.48 473.125 L1902.48 469.19 L1906.74 469.19 L1906.74 491.898 Z\" fill=\"#000000\" fill-rule=\"nonzero\" fill-opacity=\"1\" /><path clip-path=\"url(#clip510)\" d=\"M1940.81 459.144 Q1937.71 464.468 1936.2 469.676 Q1934.7 474.884 1934.7 480.232 Q1934.7 485.579 1936.2 490.833 Q1937.73 496.065 1940.81 501.366 L1937.11 501.366 Q1933.63 495.926 1931.9 490.671 Q1930.19 485.417 1930.19 480.232 Q1930.19 475.07 1931.9 469.838 Q1933.61 464.607 1937.11 459.144 L1940.81 459.144 Z\" fill=\"#000000\" fill-rule=\"nonzero\" fill-opacity=\"1\" /><path clip-path=\"url(#clip510)\" d=\"M1949.26 460.556 L1971.11 460.556 L1971.11 464.491 L1953.94 464.491 L1953.94 474.722 L1970.39 474.722 L1970.39 478.657 L1953.94 478.657 L1953.94 491.181 L1971.53 491.181 L1971.53 495.116 L1949.26 495.116 L1949.26 460.556 Z\" fill=\"#000000\" fill-rule=\"nonzero\" fill-opacity=\"1\" /><path clip-path=\"url(#clip510)\" d=\"M1983.66 491.181 L1999.98 491.181 L1999.98 495.116 L1978.03 495.116 L1978.03 491.181 Q1980.69 488.426 1985.28 483.796 Q1989.88 479.144 1991.07 477.801 Q1993.31 475.278 1994.19 473.542 Q1995.09 471.783 1995.09 470.093 Q1995.09 467.338 1993.15 465.602 Q1991.23 463.866 1988.13 463.866 Q1985.93 463.866 1983.47 464.63 Q1981.04 465.394 1978.26 466.945 L1978.26 462.222 Q1981.09 461.088 1983.54 460.509 Q1986 459.931 1988.03 459.931 Q1993.4 459.931 1996.6 462.616 Q1999.79 465.301 1999.79 469.792 Q1999.79 471.921 1998.98 473.843 Q1998.19 475.741 1996.09 478.333 Q1995.51 479.005 1992.41 482.222 Q1989.31 485.417 1983.66 491.181 Z\" fill=\"#000000\" fill-rule=\"nonzero\" fill-opacity=\"1\" /><path clip-path=\"url(#clip510)\" d=\"M2008.52 459.144 L2012.22 459.144 Q2015.69 464.607 2017.41 469.838 Q2019.14 475.07 2019.14 480.232 Q2019.14 485.417 2017.41 490.671 Q2015.69 495.926 2012.22 501.366 L2008.52 501.366 Q2011.6 496.065 2013.1 490.833 Q2014.63 485.579 2014.63 480.232 Q2014.63 474.884 2013.1 469.676 Q2011.6 464.468 2008.52 459.144 Z\" fill=\"#000000\" fill-rule=\"nonzero\" fill-opacity=\"1\" /><polyline clip-path=\"url(#clip510)\" style=\"stroke:#ed5d92; stroke-linecap:round; stroke-linejoin:round; stroke-width:4; stroke-opacity:1; fill:none\" points=\"1598.97,529.676 1740.33,529.676 \"/>\n",
       "<path clip-path=\"url(#clip510)\" d=\"M1786.14 513.53 L1786.14 518.09 Q1783.47 516.817 1781.11 516.192 Q1778.75 515.567 1776.55 515.567 Q1772.73 515.567 1770.65 517.048 Q1768.59 518.53 1768.59 521.261 Q1768.59 523.553 1769.96 524.734 Q1771.34 525.891 1775.19 526.609 L1778.01 527.187 Q1783.24 528.183 1785.72 530.706 Q1788.22 533.206 1788.22 537.419 Q1788.22 542.442 1784.84 545.034 Q1781.48 547.627 1774.98 547.627 Q1772.52 547.627 1769.75 547.071 Q1766.99 546.516 1764.03 545.428 L1764.03 540.613 Q1766.88 542.21 1769.61 543.021 Q1772.34 543.831 1774.98 543.831 Q1778.98 543.831 1781.16 542.257 Q1783.33 540.683 1783.33 537.766 Q1783.33 535.22 1781.76 533.784 Q1780.21 532.349 1776.64 531.632 L1773.8 531.076 Q1768.57 530.035 1766.23 527.812 Q1763.89 525.59 1763.89 521.632 Q1763.89 517.048 1767.11 514.41 Q1770.35 511.771 1776.02 511.771 Q1778.45 511.771 1780.97 512.211 Q1783.5 512.65 1786.14 513.53 Z\" fill=\"#000000\" fill-rule=\"nonzero\" fill-opacity=\"1\" /><path clip-path=\"url(#clip510)\" d=\"M1816.88 531.308 L1816.88 546.956 L1812.62 546.956 L1812.62 531.447 Q1812.62 527.766 1811.18 525.937 Q1809.75 524.109 1806.88 524.109 Q1803.43 524.109 1801.44 526.308 Q1799.45 528.507 1799.45 532.303 L1799.45 546.956 L1795.16 546.956 L1795.16 510.937 L1799.45 510.937 L1799.45 525.058 Q1800.97 522.72 1803.03 521.562 Q1805.12 520.405 1807.83 520.405 Q1812.29 520.405 1814.58 523.183 Q1816.88 525.937 1816.88 531.308 Z\" fill=\"#000000\" fill-rule=\"nonzero\" fill-opacity=\"1\" /><path clip-path=\"url(#clip510)\" d=\"M1825.37 521.03 L1829.63 521.03 L1829.63 546.956 L1825.37 546.956 L1825.37 521.03 M1825.37 510.937 L1829.63 510.937 L1829.63 516.331 L1825.37 516.331 L1825.37 510.937 Z\" fill=\"#000000\" fill-rule=\"nonzero\" fill-opacity=\"1\" /><path clip-path=\"url(#clip510)\" d=\"M1851.67 510.937 L1851.67 514.479 L1847.59 514.479 Q1845.3 514.479 1844.4 515.405 Q1843.52 516.331 1843.52 518.738 L1843.52 521.03 L1850.53 521.03 L1850.53 524.34 L1843.52 524.34 L1843.52 546.956 L1839.24 546.956 L1839.24 524.34 L1835.16 524.34 L1835.16 521.03 L1839.24 521.03 L1839.24 519.224 Q1839.24 514.896 1841.25 512.928 Q1843.26 510.937 1847.64 510.937 L1851.67 510.937 Z\" fill=\"#000000\" fill-rule=\"nonzero\" fill-opacity=\"1\" /><path clip-path=\"url(#clip510)\" d=\"M1858.61 513.669 L1858.61 521.03 L1867.39 521.03 L1867.39 524.34 L1858.61 524.34 L1858.61 538.414 Q1858.61 541.585 1859.47 542.488 Q1860.35 543.391 1863.01 543.391 L1867.39 543.391 L1867.39 546.956 L1863.01 546.956 Q1858.08 546.956 1856.2 545.127 Q1854.33 543.275 1854.33 538.414 L1854.33 524.34 L1851.2 524.34 L1851.2 521.03 L1854.33 521.03 L1854.33 513.669 L1858.61 513.669 Z\" fill=\"#000000\" fill-rule=\"nonzero\" fill-opacity=\"1\" /><path clip-path=\"url(#clip510)\" d=\"M1895.16 532.928 L1895.16 535.011 L1875.58 535.011 Q1875.86 539.409 1878.22 541.724 Q1880.6 544.016 1884.84 544.016 Q1887.29 544.016 1889.58 543.414 Q1891.9 542.812 1894.17 541.609 L1894.17 545.636 Q1891.88 546.608 1889.47 547.118 Q1887.06 547.627 1884.58 547.627 Q1878.38 547.627 1874.75 544.016 Q1871.14 540.405 1871.14 534.247 Q1871.14 527.882 1874.56 524.155 Q1878.01 520.405 1883.84 520.405 Q1889.07 520.405 1892.11 523.785 Q1895.16 527.141 1895.16 532.928 M1890.9 531.678 Q1890.86 528.183 1888.94 526.099 Q1887.04 524.016 1883.89 524.016 Q1880.32 524.016 1878.17 526.03 Q1876.04 528.044 1875.72 531.701 L1890.9 531.678 Z\" fill=\"#000000\" fill-rule=\"nonzero\" fill-opacity=\"1\" /><path clip-path=\"url(#clip510)\" d=\"M1919.21 524.965 L1919.21 510.937 L1923.47 510.937 L1923.47 546.956 L1919.21 546.956 L1919.21 543.067 Q1917.87 545.382 1915.81 546.516 Q1913.77 547.627 1910.9 547.627 Q1906.2 547.627 1903.24 543.877 Q1900.3 540.127 1900.3 534.016 Q1900.3 527.905 1903.24 524.155 Q1906.2 520.405 1910.9 520.405 Q1913.77 520.405 1915.81 521.539 Q1917.87 522.65 1919.21 524.965 M1904.7 534.016 Q1904.7 538.715 1906.62 541.4 Q1908.57 544.062 1911.95 544.062 Q1915.32 544.062 1917.27 541.4 Q1919.21 538.715 1919.21 534.016 Q1919.21 529.317 1917.27 526.655 Q1915.32 523.97 1911.95 523.97 Q1908.57 523.97 1906.62 526.655 Q1904.7 529.317 1904.7 534.016 Z\" fill=\"#000000\" fill-rule=\"nonzero\" fill-opacity=\"1\" /><path clip-path=\"url(#clip510)\" d=\"M1963.89 530.752 Q1965.39 531.261 1966.81 532.928 Q1968.24 534.595 1969.68 537.511 L1974.42 546.956 L1969.4 546.956 L1964.98 538.09 Q1963.26 534.618 1961.64 533.484 Q1960.05 532.349 1957.27 532.349 L1952.18 532.349 L1952.18 546.956 L1947.5 546.956 L1947.5 512.396 L1958.06 512.396 Q1963.98 512.396 1966.9 514.873 Q1969.82 517.349 1969.82 522.349 Q1969.82 525.613 1968.29 527.766 Q1966.78 529.919 1963.89 530.752 M1952.18 516.238 L1952.18 528.507 L1958.06 528.507 Q1961.44 528.507 1963.15 526.956 Q1964.88 525.382 1964.88 522.349 Q1964.88 519.317 1963.15 517.789 Q1961.44 516.238 1958.06 516.238 L1952.18 516.238 Z\" fill=\"#000000\" fill-rule=\"nonzero\" fill-opacity=\"1\" /><path clip-path=\"url(#clip510)\" d=\"M1991 533.923 Q1985.83 533.923 1983.84 535.104 Q1981.85 536.284 1981.85 539.132 Q1981.85 541.4 1983.33 542.743 Q1984.84 544.062 1987.41 544.062 Q1990.95 544.062 1993.08 541.562 Q1995.23 539.039 1995.23 534.872 L1995.23 533.923 L1991 533.923 M1999.49 532.164 L1999.49 546.956 L1995.23 546.956 L1995.23 543.021 Q1993.77 545.382 1991.6 546.516 Q1989.42 547.627 1986.27 547.627 Q1982.29 547.627 1979.93 545.405 Q1977.59 543.159 1977.59 539.409 Q1977.59 535.034 1980.51 532.812 Q1983.45 530.59 1989.26 530.59 L1995.23 530.59 L1995.23 530.173 Q1995.23 527.234 1993.29 525.636 Q1991.37 524.016 1987.87 524.016 Q1985.65 524.016 1983.54 524.548 Q1981.44 525.081 1979.49 526.146 L1979.49 522.21 Q1981.83 521.308 1984.03 520.868 Q1986.23 520.405 1988.31 520.405 Q1993.94 520.405 1996.71 523.322 Q1999.49 526.238 1999.49 532.164 Z\" fill=\"#000000\" fill-rule=\"nonzero\" fill-opacity=\"1\" /><path clip-path=\"url(#clip510)\" d=\"M2019.05 549.363 Q2017.25 553.993 2015.53 555.405 Q2013.82 556.817 2010.95 556.817 L2007.55 556.817 L2007.55 553.252 L2010.05 553.252 Q2011.81 553.252 2012.78 552.419 Q2013.75 551.585 2014.93 548.483 L2015.69 546.539 L2005.21 521.03 L2009.72 521.03 L2017.82 541.308 L2025.93 521.03 L2030.44 521.03 L2019.05 549.363 Z\" fill=\"#000000\" fill-rule=\"nonzero\" fill-opacity=\"1\" /><path clip-path=\"url(#clip510)\" d=\"M2036.32 510.937 L2040.58 510.937 L2040.58 546.956 L2036.32 546.956 L2036.32 510.937 Z\" fill=\"#000000\" fill-rule=\"nonzero\" fill-opacity=\"1\" /><path clip-path=\"url(#clip510)\" d=\"M2071.67 532.928 L2071.67 535.011 L2052.08 535.011 Q2052.36 539.409 2054.72 541.724 Q2057.11 544.016 2061.34 544.016 Q2063.8 544.016 2066.09 543.414 Q2068.4 542.812 2070.67 541.609 L2070.67 545.636 Q2068.38 546.608 2065.97 547.118 Q2063.56 547.627 2061.09 547.627 Q2054.88 547.627 2051.25 544.016 Q2047.64 540.405 2047.64 534.247 Q2047.64 527.882 2051.06 524.155 Q2054.51 520.405 2060.35 520.405 Q2065.58 520.405 2068.61 523.785 Q2071.67 527.141 2071.67 532.928 M2067.41 531.678 Q2067.36 528.183 2065.44 526.099 Q2063.54 524.016 2060.39 524.016 Q2056.83 524.016 2054.68 526.03 Q2052.55 528.044 2052.22 531.701 L2067.41 531.678 Z\" fill=\"#000000\" fill-rule=\"nonzero\" fill-opacity=\"1\" /><path clip-path=\"url(#clip510)\" d=\"M2078.66 521.03 L2082.92 521.03 L2082.92 546.956 L2078.66 546.956 L2078.66 521.03 M2078.66 510.937 L2082.92 510.937 L2082.92 516.331 L2078.66 516.331 L2078.66 510.937 Z\" fill=\"#000000\" fill-rule=\"nonzero\" fill-opacity=\"1\" /><path clip-path=\"url(#clip510)\" d=\"M2108.89 533.692 Q2108.89 529.062 2106.97 526.516 Q2105.07 523.97 2101.62 523.97 Q2098.19 523.97 2096.27 526.516 Q2094.37 529.062 2094.37 533.692 Q2094.37 538.298 2096.27 540.845 Q2098.19 543.391 2101.62 543.391 Q2105.07 543.391 2106.97 540.845 Q2108.89 538.298 2108.89 533.692 M2113.15 543.738 Q2113.15 550.358 2110.21 553.576 Q2107.27 556.817 2101.2 556.817 Q2098.96 556.817 2096.97 556.47 Q2094.98 556.145 2093.1 555.451 L2093.1 551.308 Q2094.98 552.326 2096.81 552.812 Q2098.63 553.298 2100.53 553.298 Q2104.72 553.298 2106.81 551.099 Q2108.89 548.923 2108.89 544.502 L2108.89 542.396 Q2107.57 544.687 2105.51 545.821 Q2103.45 546.956 2100.58 546.956 Q2095.81 546.956 2092.89 543.321 Q2089.98 539.687 2089.98 533.692 Q2089.98 527.673 2092.89 524.039 Q2095.81 520.405 2100.58 520.405 Q2103.45 520.405 2105.51 521.539 Q2107.57 522.673 2108.89 524.965 L2108.89 521.03 L2113.15 521.03 L2113.15 543.738 Z\" fill=\"#000000\" fill-rule=\"nonzero\" fill-opacity=\"1\" /><path clip-path=\"url(#clip510)\" d=\"M2143.47 531.308 L2143.47 546.956 L2139.21 546.956 L2139.21 531.447 Q2139.21 527.766 2137.78 525.937 Q2136.34 524.109 2133.47 524.109 Q2130.02 524.109 2128.03 526.308 Q2126.04 528.507 2126.04 532.303 L2126.04 546.956 L2121.76 546.956 L2121.76 510.937 L2126.04 510.937 L2126.04 525.058 Q2127.57 522.72 2129.63 521.562 Q2131.71 520.405 2134.42 520.405 Q2138.89 520.405 2141.18 523.183 Q2143.47 525.937 2143.47 531.308 Z\" fill=\"#000000\" fill-rule=\"nonzero\" fill-opacity=\"1\" /><path clip-path=\"url(#clip510)\" d=\"M2177.27 510.984 Q2174.17 516.308 2172.66 521.516 Q2171.16 526.724 2171.16 532.072 Q2171.16 537.419 2172.66 542.673 Q2174.19 547.905 2177.27 553.206 L2173.56 553.206 Q2170.09 547.766 2168.36 542.511 Q2166.64 537.257 2166.64 532.072 Q2166.64 526.91 2168.36 521.678 Q2170.07 516.447 2173.56 510.984 L2177.27 510.984 Z\" fill=\"#000000\" fill-rule=\"nonzero\" fill-opacity=\"1\" /><path clip-path=\"url(#clip510)\" d=\"M2206.43 513.53 L2206.43 518.09 Q2203.77 516.817 2201.41 516.192 Q2199.05 515.567 2196.85 515.567 Q2193.03 515.567 2190.95 517.048 Q2188.89 518.53 2188.89 521.261 Q2188.89 523.553 2190.25 524.734 Q2191.64 525.891 2195.49 526.609 L2198.31 527.187 Q2203.54 528.183 2206.02 530.706 Q2208.52 533.206 2208.52 537.419 Q2208.52 542.442 2205.14 545.034 Q2201.78 547.627 2195.28 547.627 Q2192.82 547.627 2190.05 547.071 Q2187.29 546.516 2184.33 545.428 L2184.33 540.613 Q2187.18 542.21 2189.91 543.021 Q2192.64 543.831 2195.28 543.831 Q2199.28 543.831 2201.46 542.257 Q2203.63 540.683 2203.63 537.766 Q2203.63 535.22 2202.06 533.784 Q2200.51 532.349 2196.94 531.632 L2194.1 531.076 Q2188.86 530.035 2186.53 527.812 Q2184.19 525.59 2184.19 521.632 Q2184.19 517.048 2187.41 514.41 Q2190.65 511.771 2196.32 511.771 Q2198.75 511.771 2201.27 512.211 Q2203.8 512.65 2206.43 513.53 Z\" fill=\"#000000\" fill-rule=\"nonzero\" fill-opacity=\"1\" /><path clip-path=\"url(#clip510)\" d=\"M2232.2 530.752 Q2233.7 531.261 2235.11 532.928 Q2236.55 534.595 2237.99 537.511 L2242.73 546.956 L2237.71 546.956 L2233.29 538.09 Q2231.57 534.618 2229.95 533.484 Q2228.36 532.349 2225.58 532.349 L2220.49 532.349 L2220.49 546.956 L2215.81 546.956 L2215.81 512.396 L2226.36 512.396 Q2232.29 512.396 2235.21 514.873 Q2238.12 517.349 2238.12 522.349 Q2238.12 525.613 2236.6 527.766 Q2235.09 529.919 2232.2 530.752 M2220.49 516.238 L2220.49 528.507 L2226.36 528.507 Q2229.74 528.507 2231.46 526.956 Q2233.19 525.382 2233.19 522.349 Q2233.19 519.317 2231.46 517.789 Q2229.74 516.238 2226.36 516.238 L2220.49 516.238 Z\" fill=\"#000000\" fill-rule=\"nonzero\" fill-opacity=\"1\" /><path clip-path=\"url(#clip510)\" d=\"M2247.89 510.984 L2251.6 510.984 Q2255.07 516.447 2256.78 521.678 Q2258.52 526.91 2258.52 532.072 Q2258.52 537.257 2256.78 542.511 Q2255.07 547.766 2251.6 553.206 L2247.89 553.206 Q2250.97 547.905 2252.48 542.673 Q2254 537.419 2254 532.072 Q2254 526.724 2252.48 521.516 Q2250.97 516.308 2247.89 510.984 Z\" fill=\"#000000\" fill-rule=\"nonzero\" fill-opacity=\"1\" /></svg>\n"
      ],
      "text/html": [
       "<?xml version=\"1.0\" encoding=\"utf-8\"?>\n",
       "<svg xmlns=\"http://www.w3.org/2000/svg\" xmlns:xlink=\"http://www.w3.org/1999/xlink\" width=\"600\" height=\"400\" viewBox=\"0 0 2400 1600\">\n",
       "<defs>\n",
       "  <clipPath id=\"clip560\">\n",
       "    <rect x=\"0\" y=\"0\" width=\"2400\" height=\"1600\"/>\n",
       "  </clipPath>\n",
       "</defs>\n",
       "<path clip-path=\"url(#clip560)\" d=\"M0 1600 L2400 1600 L2400 0 L0 0  Z\" fill=\"#ffffff\" fill-rule=\"evenodd\" fill-opacity=\"1\"/>\n",
       "<defs>\n",
       "  <clipPath id=\"clip561\">\n",
       "    <rect x=\"480\" y=\"0\" width=\"1681\" height=\"1600\"/>\n",
       "  </clipPath>\n",
       "</defs>\n",
       "<path clip-path=\"url(#clip560)\" d=\"M232.389 1423.18 L2352.76 1423.18 L2352.76 123.472 L232.389 123.472  Z\" fill=\"#ffffff\" fill-rule=\"evenodd\" fill-opacity=\"1\"/>\n",
       "<defs>\n",
       "  <clipPath id=\"clip562\">\n",
       "    <rect x=\"232\" y=\"123\" width=\"2121\" height=\"1301\"/>\n",
       "  </clipPath>\n",
       "</defs>\n",
       "<polyline clip-path=\"url(#clip562)\" style=\"stroke:#000000; stroke-linecap:round; stroke-linejoin:round; stroke-width:2; stroke-opacity:0.1; fill:none\" points=\"292.4,1423.18 292.4,123.472 \"/>\n",
       "<polyline clip-path=\"url(#clip562)\" style=\"stroke:#000000; stroke-linecap:round; stroke-linejoin:round; stroke-width:2; stroke-opacity:0.1; fill:none\" points=\"896.686,1423.18 896.686,123.472 \"/>\n",
       "<polyline clip-path=\"url(#clip562)\" style=\"stroke:#000000; stroke-linecap:round; stroke-linejoin:round; stroke-width:2; stroke-opacity:0.1; fill:none\" points=\"1500.97,1423.18 1500.97,123.472 \"/>\n",
       "<polyline clip-path=\"url(#clip562)\" style=\"stroke:#000000; stroke-linecap:round; stroke-linejoin:round; stroke-width:2; stroke-opacity:0.1; fill:none\" points=\"2105.26,1423.18 2105.26,123.472 \"/>\n",
       "<polyline clip-path=\"url(#clip560)\" style=\"stroke:#000000; stroke-linecap:round; stroke-linejoin:round; stroke-width:4; stroke-opacity:1; fill:none\" points=\"232.389,1423.18 2352.76,1423.18 \"/>\n",
       "<polyline clip-path=\"url(#clip560)\" style=\"stroke:#000000; stroke-linecap:round; stroke-linejoin:round; stroke-width:4; stroke-opacity:1; fill:none\" points=\"292.4,1423.18 292.4,1404.28 \"/>\n",
       "<polyline clip-path=\"url(#clip560)\" style=\"stroke:#000000; stroke-linecap:round; stroke-linejoin:round; stroke-width:4; stroke-opacity:1; fill:none\" points=\"896.686,1423.18 896.686,1404.28 \"/>\n",
       "<polyline clip-path=\"url(#clip560)\" style=\"stroke:#000000; stroke-linecap:round; stroke-linejoin:round; stroke-width:4; stroke-opacity:1; fill:none\" points=\"1500.97,1423.18 1500.97,1404.28 \"/>\n",
       "<polyline clip-path=\"url(#clip560)\" style=\"stroke:#000000; stroke-linecap:round; stroke-linejoin:round; stroke-width:4; stroke-opacity:1; fill:none\" points=\"2105.26,1423.18 2105.26,1404.28 \"/>\n",
       "<path clip-path=\"url(#clip560)\" d=\"M292.4 1454.1 Q288.789 1454.1 286.96 1457.66 Q285.154 1461.2 285.154 1468.33 Q285.154 1475.44 286.96 1479.01 Q288.789 1482.55 292.4 1482.55 Q296.034 1482.55 297.84 1479.01 Q299.668 1475.44 299.668 1468.33 Q299.668 1461.2 297.84 1457.66 Q296.034 1454.1 292.4 1454.1 M292.4 1450.39 Q298.21 1450.39 301.265 1455 Q304.344 1459.58 304.344 1468.33 Q304.344 1477.06 301.265 1481.67 Q298.21 1486.25 292.4 1486.25 Q286.59 1486.25 283.511 1481.67 Q280.455 1477.06 280.455 1468.33 Q280.455 1459.58 283.511 1455 Q286.59 1450.39 292.4 1450.39 Z\" fill=\"#000000\" fill-rule=\"nonzero\" fill-opacity=\"1\" /><path clip-path=\"url(#clip560)\" d=\"M856.304 1451.02 L874.66 1451.02 L874.66 1454.96 L860.586 1454.96 L860.586 1463.43 Q861.605 1463.08 862.623 1462.92 Q863.642 1462.73 864.66 1462.73 Q870.447 1462.73 873.827 1465.9 Q877.206 1469.08 877.206 1474.49 Q877.206 1480.07 873.734 1483.17 Q870.262 1486.25 863.943 1486.25 Q861.767 1486.25 859.498 1485.88 Q857.253 1485.51 854.845 1484.77 L854.845 1480.07 Q856.929 1481.2 859.151 1481.76 Q861.373 1482.32 863.85 1482.32 Q867.855 1482.32 870.193 1480.21 Q872.531 1478.1 872.531 1474.49 Q872.531 1470.88 870.193 1468.77 Q867.855 1466.67 863.85 1466.67 Q861.975 1466.67 860.1 1467.08 Q858.248 1467.5 856.304 1468.38 L856.304 1451.02 Z\" fill=\"#000000\" fill-rule=\"nonzero\" fill-opacity=\"1\" /><path clip-path=\"url(#clip560)\" d=\"M896.419 1454.1 Q892.808 1454.1 890.98 1457.66 Q889.174 1461.2 889.174 1468.33 Q889.174 1475.44 890.98 1479.01 Q892.808 1482.55 896.419 1482.55 Q900.054 1482.55 901.859 1479.01 Q903.688 1475.44 903.688 1468.33 Q903.688 1461.2 901.859 1457.66 Q900.054 1454.1 896.419 1454.1 M896.419 1450.39 Q902.23 1450.39 905.285 1455 Q908.364 1459.58 908.364 1468.33 Q908.364 1477.06 905.285 1481.67 Q902.23 1486.25 896.419 1486.25 Q890.609 1486.25 887.531 1481.67 Q884.475 1477.06 884.475 1468.33 Q884.475 1459.58 887.531 1455 Q890.609 1450.39 896.419 1450.39 Z\" fill=\"#000000\" fill-rule=\"nonzero\" fill-opacity=\"1\" /><path clip-path=\"url(#clip560)\" d=\"M926.581 1454.1 Q922.97 1454.1 921.141 1457.66 Q919.336 1461.2 919.336 1468.33 Q919.336 1475.44 921.141 1479.01 Q922.97 1482.55 926.581 1482.55 Q930.215 1482.55 932.021 1479.01 Q933.85 1475.44 933.85 1468.33 Q933.85 1461.2 932.021 1457.66 Q930.215 1454.1 926.581 1454.1 M926.581 1450.39 Q932.391 1450.39 935.447 1455 Q938.526 1459.58 938.526 1468.33 Q938.526 1477.06 935.447 1481.67 Q932.391 1486.25 926.581 1486.25 Q920.771 1486.25 917.692 1481.67 Q914.637 1477.06 914.637 1468.33 Q914.637 1459.58 917.692 1455 Q920.771 1450.39 926.581 1450.39 Z\" fill=\"#000000\" fill-rule=\"nonzero\" fill-opacity=\"1\" /><path clip-path=\"url(#clip560)\" d=\"M1445.5 1481.64 L1453.14 1481.64 L1453.14 1455.28 L1444.83 1456.95 L1444.83 1452.69 L1453.09 1451.02 L1457.77 1451.02 L1457.77 1481.64 L1465.4 1481.64 L1465.4 1485.58 L1445.5 1485.58 L1445.5 1481.64 Z\" fill=\"#000000\" fill-rule=\"nonzero\" fill-opacity=\"1\" /><path clip-path=\"url(#clip560)\" d=\"M1484.85 1454.1 Q1481.24 1454.1 1479.41 1457.66 Q1477.6 1461.2 1477.6 1468.33 Q1477.6 1475.44 1479.41 1479.01 Q1481.24 1482.55 1484.85 1482.55 Q1488.48 1482.55 1490.29 1479.01 Q1492.12 1475.44 1492.12 1468.33 Q1492.12 1461.2 1490.29 1457.66 Q1488.48 1454.1 1484.85 1454.1 M1484.85 1450.39 Q1490.66 1450.39 1493.71 1455 Q1496.79 1459.58 1496.79 1468.33 Q1496.79 1477.06 1493.71 1481.67 Q1490.66 1486.25 1484.85 1486.25 Q1479.04 1486.25 1475.96 1481.67 Q1472.9 1477.06 1472.9 1468.33 Q1472.9 1459.58 1475.96 1455 Q1479.04 1450.39 1484.85 1450.39 Z\" fill=\"#000000\" fill-rule=\"nonzero\" fill-opacity=\"1\" /><path clip-path=\"url(#clip560)\" d=\"M1515.01 1454.1 Q1511.4 1454.1 1509.57 1457.66 Q1507.77 1461.2 1507.77 1468.33 Q1507.77 1475.44 1509.57 1479.01 Q1511.4 1482.55 1515.01 1482.55 Q1518.64 1482.55 1520.45 1479.01 Q1522.28 1475.44 1522.28 1468.33 Q1522.28 1461.2 1520.45 1457.66 Q1518.64 1454.1 1515.01 1454.1 M1515.01 1450.39 Q1520.82 1450.39 1523.88 1455 Q1526.96 1459.58 1526.96 1468.33 Q1526.96 1477.06 1523.88 1481.67 Q1520.82 1486.25 1515.01 1486.25 Q1509.2 1486.25 1506.12 1481.67 Q1503.07 1477.06 1503.07 1468.33 Q1503.07 1459.58 1506.12 1455 Q1509.2 1450.39 1515.01 1450.39 Z\" fill=\"#000000\" fill-rule=\"nonzero\" fill-opacity=\"1\" /><path clip-path=\"url(#clip560)\" d=\"M1545.17 1454.1 Q1541.56 1454.1 1539.73 1457.66 Q1537.93 1461.2 1537.93 1468.33 Q1537.93 1475.44 1539.73 1479.01 Q1541.56 1482.55 1545.17 1482.55 Q1548.81 1482.55 1550.61 1479.01 Q1552.44 1475.44 1552.44 1468.33 Q1552.44 1461.2 1550.61 1457.66 Q1548.81 1454.1 1545.17 1454.1 M1545.17 1450.39 Q1550.98 1450.39 1554.04 1455 Q1557.12 1459.58 1557.12 1468.33 Q1557.12 1477.06 1554.04 1481.67 Q1550.98 1486.25 1545.17 1486.25 Q1539.36 1486.25 1536.28 1481.67 Q1533.23 1477.06 1533.23 1468.33 Q1533.23 1459.58 1536.28 1455 Q1539.36 1450.39 1545.17 1450.39 Z\" fill=\"#000000\" fill-rule=\"nonzero\" fill-opacity=\"1\" /><path clip-path=\"url(#clip560)\" d=\"M2049.78 1481.64 L2057.42 1481.64 L2057.42 1455.28 L2049.11 1456.95 L2049.11 1452.69 L2057.38 1451.02 L2062.05 1451.02 L2062.05 1481.64 L2069.69 1481.64 L2069.69 1485.58 L2049.78 1485.58 L2049.78 1481.64 Z\" fill=\"#000000\" fill-rule=\"nonzero\" fill-opacity=\"1\" /><path clip-path=\"url(#clip560)\" d=\"M2079.18 1451.02 L2097.54 1451.02 L2097.54 1454.96 L2083.46 1454.96 L2083.46 1463.43 Q2084.48 1463.08 2085.5 1462.92 Q2086.52 1462.73 2087.54 1462.73 Q2093.32 1462.73 2096.7 1465.9 Q2100.08 1469.08 2100.08 1474.49 Q2100.08 1480.07 2096.61 1483.17 Q2093.14 1486.25 2086.82 1486.25 Q2084.64 1486.25 2082.38 1485.88 Q2080.13 1485.51 2077.72 1484.77 L2077.72 1480.07 Q2079.81 1481.2 2082.03 1481.76 Q2084.25 1482.32 2086.73 1482.32 Q2090.73 1482.32 2093.07 1480.21 Q2095.41 1478.1 2095.41 1474.49 Q2095.41 1470.88 2093.07 1468.77 Q2090.73 1466.67 2086.73 1466.67 Q2084.85 1466.67 2082.98 1467.08 Q2081.13 1467.5 2079.18 1468.38 L2079.18 1451.02 Z\" fill=\"#000000\" fill-rule=\"nonzero\" fill-opacity=\"1\" /><path clip-path=\"url(#clip560)\" d=\"M2119.3 1454.1 Q2115.69 1454.1 2113.86 1457.66 Q2112.05 1461.2 2112.05 1468.33 Q2112.05 1475.44 2113.86 1479.01 Q2115.69 1482.55 2119.3 1482.55 Q2122.93 1482.55 2124.74 1479.01 Q2126.56 1475.44 2126.56 1468.33 Q2126.56 1461.2 2124.74 1457.66 Q2122.93 1454.1 2119.3 1454.1 M2119.3 1450.39 Q2125.11 1450.39 2128.16 1455 Q2131.24 1459.58 2131.24 1468.33 Q2131.24 1477.06 2128.16 1481.67 Q2125.11 1486.25 2119.3 1486.25 Q2113.49 1486.25 2110.41 1481.67 Q2107.35 1477.06 2107.35 1468.33 Q2107.35 1459.58 2110.41 1455 Q2113.49 1450.39 2119.3 1450.39 Z\" fill=\"#000000\" fill-rule=\"nonzero\" fill-opacity=\"1\" /><path clip-path=\"url(#clip560)\" d=\"M2149.46 1454.1 Q2145.85 1454.1 2144.02 1457.66 Q2142.21 1461.2 2142.21 1468.33 Q2142.21 1475.44 2144.02 1479.01 Q2145.85 1482.55 2149.46 1482.55 Q2153.09 1482.55 2154.9 1479.01 Q2156.73 1475.44 2156.73 1468.33 Q2156.73 1461.2 2154.9 1457.66 Q2153.09 1454.1 2149.46 1454.1 M2149.46 1450.39 Q2155.27 1450.39 2158.32 1455 Q2161.4 1459.58 2161.4 1468.33 Q2161.4 1477.06 2158.32 1481.67 Q2155.27 1486.25 2149.46 1486.25 Q2143.65 1486.25 2140.57 1481.67 Q2137.51 1477.06 2137.51 1468.33 Q2137.51 1459.58 2140.57 1455 Q2143.65 1450.39 2149.46 1450.39 Z\" fill=\"#000000\" fill-rule=\"nonzero\" fill-opacity=\"1\" /><path clip-path=\"url(#clip560)\" d=\"M1294.26 1571.35 Q1291.78 1577.72 1289.42 1579.66 Q1287.07 1581.6 1283.12 1581.6 L1278.44 1581.6 L1278.44 1576.7 L1281.88 1576.7 Q1284.3 1576.7 1285.63 1575.56 Q1286.97 1574.41 1288.59 1570.14 L1289.64 1567.47 L1275.23 1532.4 L1281.43 1532.4 L1292.57 1560.28 L1303.71 1532.4 L1309.92 1532.4 L1294.26 1571.35 Z\" fill=\"#000000\" fill-rule=\"nonzero\" fill-opacity=\"1\" /><polyline clip-path=\"url(#clip562)\" style=\"stroke:#000000; stroke-linecap:round; stroke-linejoin:round; stroke-width:2; stroke-opacity:0.1; fill:none\" points=\"232.389,1386.4 2352.76,1386.4 \"/>\n",
       "<polyline clip-path=\"url(#clip562)\" style=\"stroke:#000000; stroke-linecap:round; stroke-linejoin:round; stroke-width:2; stroke-opacity:0.1; fill:none\" points=\"232.389,1045.24 2352.76,1045.24 \"/>\n",
       "<polyline clip-path=\"url(#clip562)\" style=\"stroke:#000000; stroke-linecap:round; stroke-linejoin:round; stroke-width:2; stroke-opacity:0.1; fill:none\" points=\"232.389,704.084 2352.76,704.084 \"/>\n",
       "<polyline clip-path=\"url(#clip562)\" style=\"stroke:#000000; stroke-linecap:round; stroke-linejoin:round; stroke-width:2; stroke-opacity:0.1; fill:none\" points=\"232.389,362.928 2352.76,362.928 \"/>\n",
       "<polyline clip-path=\"url(#clip560)\" style=\"stroke:#000000; stroke-linecap:round; stroke-linejoin:round; stroke-width:4; stroke-opacity:1; fill:none\" points=\"232.389,1423.18 232.389,123.472 \"/>\n",
       "<polyline clip-path=\"url(#clip560)\" style=\"stroke:#000000; stroke-linecap:round; stroke-linejoin:round; stroke-width:4; stroke-opacity:1; fill:none\" points=\"232.389,1386.4 251.287,1386.4 \"/>\n",
       "<polyline clip-path=\"url(#clip560)\" style=\"stroke:#000000; stroke-linecap:round; stroke-linejoin:round; stroke-width:4; stroke-opacity:1; fill:none\" points=\"232.389,1045.24 251.287,1045.24 \"/>\n",
       "<polyline clip-path=\"url(#clip560)\" style=\"stroke:#000000; stroke-linecap:round; stroke-linejoin:round; stroke-width:4; stroke-opacity:1; fill:none\" points=\"232.389,704.084 251.287,704.084 \"/>\n",
       "<polyline clip-path=\"url(#clip560)\" style=\"stroke:#000000; stroke-linecap:round; stroke-linejoin:round; stroke-width:4; stroke-opacity:1; fill:none\" points=\"232.389,362.928 251.287,362.928 \"/>\n",
       "<path clip-path=\"url(#clip560)\" d=\"M184.445 1372.19 Q180.834 1372.19 179.005 1375.76 Q177.2 1379.3 177.2 1386.43 Q177.2 1393.54 179.005 1397.1 Q180.834 1400.64 184.445 1400.64 Q188.079 1400.64 189.885 1397.1 Q191.713 1393.54 191.713 1386.43 Q191.713 1379.3 189.885 1375.76 Q188.079 1372.19 184.445 1372.19 M184.445 1368.49 Q190.255 1368.49 193.311 1373.1 Q196.389 1377.68 196.389 1386.43 Q196.389 1395.16 193.311 1399.76 Q190.255 1404.35 184.445 1404.35 Q178.635 1404.35 175.556 1399.76 Q172.501 1395.16 172.501 1386.43 Q172.501 1377.68 175.556 1373.1 Q178.635 1368.49 184.445 1368.49 Z\" fill=\"#000000\" fill-rule=\"nonzero\" fill-opacity=\"1\" /><path clip-path=\"url(#clip560)\" d=\"M144.329 1027.96 L162.686 1027.96 L162.686 1031.89 L148.612 1031.89 L148.612 1040.37 Q149.63 1040.02 150.649 1039.86 Q151.667 1039.67 152.686 1039.67 Q158.473 1039.67 161.852 1042.84 Q165.232 1046.02 165.232 1051.43 Q165.232 1057.01 161.76 1060.11 Q158.288 1063.19 151.968 1063.19 Q149.792 1063.19 147.524 1062.82 Q145.279 1062.45 142.871 1061.71 L142.871 1057.01 Q144.954 1058.14 147.177 1058.7 Q149.399 1059.26 151.876 1059.26 Q155.88 1059.26 158.218 1057.15 Q160.556 1055.04 160.556 1051.43 Q160.556 1047.82 158.218 1045.71 Q155.88 1043.61 151.876 1043.61 Q150.001 1043.61 148.126 1044.02 Q146.274 1044.44 144.329 1045.32 L144.329 1027.96 Z\" fill=\"#000000\" fill-rule=\"nonzero\" fill-opacity=\"1\" /><path clip-path=\"url(#clip560)\" d=\"M184.445 1031.04 Q180.834 1031.04 179.005 1034.6 Q177.2 1038.14 177.2 1045.27 Q177.2 1052.38 179.005 1055.95 Q180.834 1059.49 184.445 1059.49 Q188.079 1059.49 189.885 1055.95 Q191.713 1052.38 191.713 1045.27 Q191.713 1038.14 189.885 1034.6 Q188.079 1031.04 184.445 1031.04 M184.445 1027.33 Q190.255 1027.33 193.311 1031.94 Q196.389 1036.52 196.389 1045.27 Q196.389 1054 193.311 1058.61 Q190.255 1063.19 184.445 1063.19 Q178.635 1063.19 175.556 1058.61 Q172.501 1054 172.501 1045.27 Q172.501 1036.52 175.556 1031.94 Q178.635 1027.33 184.445 1027.33 Z\" fill=\"#000000\" fill-rule=\"nonzero\" fill-opacity=\"1\" /><path clip-path=\"url(#clip560)\" d=\"M114.931 717.429 L122.57 717.429 L122.57 691.063 L114.26 692.73 L114.26 688.471 L122.524 686.804 L127.2 686.804 L127.2 717.429 L134.839 717.429 L134.839 721.364 L114.931 721.364 L114.931 717.429 Z\" fill=\"#000000\" fill-rule=\"nonzero\" fill-opacity=\"1\" /><path clip-path=\"url(#clip560)\" d=\"M154.283 689.883 Q150.672 689.883 148.843 693.447 Q147.038 696.989 147.038 704.119 Q147.038 711.225 148.843 714.79 Q150.672 718.332 154.283 718.332 Q157.917 718.332 159.723 714.79 Q161.552 711.225 161.552 704.119 Q161.552 696.989 159.723 693.447 Q157.917 689.883 154.283 689.883 M154.283 686.179 Q160.093 686.179 163.149 690.785 Q166.227 695.369 166.227 704.119 Q166.227 712.845 163.149 717.452 Q160.093 722.035 154.283 722.035 Q148.473 722.035 145.394 717.452 Q142.339 712.845 142.339 704.119 Q142.339 695.369 145.394 690.785 Q148.473 686.179 154.283 686.179 Z\" fill=\"#000000\" fill-rule=\"nonzero\" fill-opacity=\"1\" /><path clip-path=\"url(#clip560)\" d=\"M184.445 689.883 Q180.834 689.883 179.005 693.447 Q177.2 696.989 177.2 704.119 Q177.2 711.225 179.005 714.79 Q180.834 718.332 184.445 718.332 Q188.079 718.332 189.885 714.79 Q191.713 711.225 191.713 704.119 Q191.713 696.989 189.885 693.447 Q188.079 689.883 184.445 689.883 M184.445 686.179 Q190.255 686.179 193.311 690.785 Q196.389 695.369 196.389 704.119 Q196.389 712.845 193.311 717.452 Q190.255 722.035 184.445 722.035 Q178.635 722.035 175.556 717.452 Q172.501 712.845 172.501 704.119 Q172.501 695.369 175.556 690.785 Q178.635 686.179 184.445 686.179 Z\" fill=\"#000000\" fill-rule=\"nonzero\" fill-opacity=\"1\" /><path clip-path=\"url(#clip560)\" d=\"M114.931 376.273 L122.57 376.273 L122.57 349.907 L114.26 351.574 L114.26 347.315 L122.524 345.648 L127.2 345.648 L127.2 376.273 L134.839 376.273 L134.839 380.208 L114.931 380.208 L114.931 376.273 Z\" fill=\"#000000\" fill-rule=\"nonzero\" fill-opacity=\"1\" /><path clip-path=\"url(#clip560)\" d=\"M144.329 345.648 L162.686 345.648 L162.686 349.583 L148.612 349.583 L148.612 358.055 Q149.63 357.708 150.649 357.546 Q151.667 357.361 152.686 357.361 Q158.473 357.361 161.852 360.532 Q165.232 363.704 165.232 369.12 Q165.232 374.699 161.76 377.801 Q158.288 380.879 151.968 380.879 Q149.792 380.879 147.524 380.509 Q145.279 380.139 142.871 379.398 L142.871 374.699 Q144.954 375.833 147.177 376.389 Q149.399 376.944 151.876 376.944 Q155.88 376.944 158.218 374.838 Q160.556 372.731 160.556 369.12 Q160.556 365.509 158.218 363.403 Q155.88 361.296 151.876 361.296 Q150.001 361.296 148.126 361.713 Q146.274 362.129 144.329 363.009 L144.329 345.648 Z\" fill=\"#000000\" fill-rule=\"nonzero\" fill-opacity=\"1\" /><path clip-path=\"url(#clip560)\" d=\"M184.445 348.727 Q180.834 348.727 179.005 352.292 Q177.2 355.833 177.2 362.963 Q177.2 370.069 179.005 373.634 Q180.834 377.176 184.445 377.176 Q188.079 377.176 189.885 373.634 Q191.713 370.069 191.713 362.963 Q191.713 355.833 189.885 352.292 Q188.079 348.727 184.445 348.727 M184.445 345.023 Q190.255 345.023 193.311 349.63 Q196.389 354.213 196.389 362.963 Q196.389 371.69 193.311 376.296 Q190.255 380.879 184.445 380.879 Q178.635 380.879 175.556 376.296 Q172.501 371.69 172.501 362.963 Q172.501 354.213 175.556 349.63 Q178.635 345.023 184.445 345.023 Z\" fill=\"#000000\" fill-rule=\"nonzero\" fill-opacity=\"1\" /><path clip-path=\"url(#clip560)\" d=\"M21.7677 886.636 L58.7206 886.636 L58.7206 878.869 Q58.7206 869.034 54.2646 864.483 Q49.8086 859.9 40.1964 859.9 Q30.6479 859.9 26.2237 864.483 Q21.7677 869.034 21.7677 878.869 L21.7677 886.636 M16.4842 893.065 L16.4842 879.856 Q16.4842 866.043 22.2451 859.581 Q27.9743 853.12 40.1964 853.12 Q52.4822 853.12 58.2432 859.613 Q64.0042 866.106 64.0042 879.856 L64.0042 893.065 L16.4842 893.065 Z\" fill=\"#000000\" fill-rule=\"nonzero\" fill-opacity=\"1\" /><path clip-path=\"url(#clip560)\" d=\"M44.7161 812.634 L47.5806 812.634 L47.5806 839.561 Q53.6281 839.179 56.8109 835.933 Q59.9619 832.654 59.9619 826.83 Q59.9619 823.456 59.1344 820.305 Q58.3069 817.122 56.6518 814.003 L62.1899 814.003 Q63.5267 817.154 64.227 820.464 Q64.9272 823.774 64.9272 827.18 Q64.9272 835.71 59.9619 840.707 Q54.9967 845.672 46.5303 845.672 Q37.7774 845.672 32.6531 840.962 Q27.4968 836.219 27.4968 828.198 Q27.4968 821.005 32.1438 816.836 Q36.7589 812.634 44.7161 812.634 M42.9973 818.491 Q38.1912 818.554 35.3266 821.196 Q32.4621 823.806 32.4621 828.135 Q32.4621 833.036 35.2312 835.996 Q38.0002 838.925 43.0292 839.37 L42.9973 818.491 Z\" fill=\"#000000\" fill-rule=\"nonzero\" fill-opacity=\"1\" /><path clip-path=\"url(#clip560)\" d=\"M42.4881 773.39 L64.0042 773.39 L64.0042 779.246 L42.679 779.246 Q37.6183 779.246 35.1038 781.219 Q32.5894 783.193 32.5894 787.14 Q32.5894 791.882 35.6131 794.619 Q38.6368 797.357 43.8567 797.357 L64.0042 797.357 L64.0042 803.245 L28.3562 803.245 L28.3562 797.357 L33.8944 797.357 Q30.6797 795.256 29.0883 792.423 Q27.4968 789.559 27.4968 785.835 Q27.4968 779.692 31.3163 776.541 Q35.1038 773.39 42.4881 773.39 Z\" fill=\"#000000\" fill-rule=\"nonzero\" fill-opacity=\"1\" /><path clip-path=\"url(#clip560)\" d=\"M29.4065 738.983 L34.9447 738.983 Q33.6716 741.466 33.035 744.139 Q32.3984 746.813 32.3984 749.677 Q32.3984 754.038 33.7352 756.234 Q35.072 758.398 37.7456 758.398 Q39.7826 758.398 40.9603 756.839 Q42.1061 755.279 43.1565 750.569 L43.6021 748.563 Q44.9389 742.325 47.3897 739.715 Q49.8086 737.073 54.1691 737.073 Q59.1344 737.073 62.0308 741.02 Q64.9272 744.935 64.9272 751.81 Q64.9272 754.674 64.3543 757.794 Q63.8132 760.881 62.6992 764.319 L56.6518 764.319 Q58.3387 761.072 59.198 757.921 Q60.0256 754.77 60.0256 751.683 Q60.0256 747.545 58.6251 745.317 Q57.1929 743.089 54.6147 743.089 Q52.2276 743.089 50.9545 744.712 Q49.6813 746.304 48.5037 751.746 L48.0262 753.783 Q46.8804 759.226 44.5251 761.645 Q42.138 764.064 38.0002 764.064 Q32.9713 764.064 30.2341 760.499 Q27.4968 756.934 27.4968 750.378 Q27.4968 747.131 27.9743 744.267 Q28.4517 741.402 29.4065 738.983 Z\" fill=\"#000000\" fill-rule=\"nonzero\" fill-opacity=\"1\" /><path clip-path=\"url(#clip560)\" d=\"M28.3562 727.748 L28.3562 721.891 L64.0042 721.891 L64.0042 727.748 L28.3562 727.748 M14.479 727.748 L14.479 721.891 L21.895 721.891 L21.895 727.748 L14.479 727.748 Z\" fill=\"#000000\" fill-rule=\"nonzero\" fill-opacity=\"1\" /><path clip-path=\"url(#clip560)\" d=\"M18.2347 703.844 L28.3562 703.844 L28.3562 691.781 L32.9077 691.781 L32.9077 703.844 L52.2594 703.844 Q56.6199 703.844 57.8613 702.667 Q59.1026 701.457 59.1026 697.797 L59.1026 691.781 L64.0042 691.781 L64.0042 697.797 Q64.0042 704.576 61.4897 707.154 Q58.9434 709.733 52.2594 709.733 L32.9077 709.733 L32.9077 714.029 L28.3562 714.029 L28.3562 709.733 L18.2347 709.733 L18.2347 703.844 Z\" fill=\"#000000\" fill-rule=\"nonzero\" fill-opacity=\"1\" /><path clip-path=\"url(#clip560)\" d=\"M67.3143 669.247 Q73.68 671.729 75.6216 674.085 Q77.5631 676.44 77.5631 680.387 L77.5631 685.065 L72.6615 685.065 L72.6615 681.628 Q72.6615 679.209 71.5157 677.872 Q70.3699 676.535 66.1048 674.912 L63.4312 673.862 L28.3562 688.28 L28.3562 682.074 L56.238 670.934 L28.3562 659.794 L28.3562 653.587 L67.3143 669.247 Z\" fill=\"#000000\" fill-rule=\"nonzero\" fill-opacity=\"1\" /><path clip-path=\"url(#clip560)\" d=\"M595.453 12.096 L603.635 12.096 L603.635 36.8875 L633.369 36.8875 L633.369 12.096 L641.552 12.096 L641.552 72.576 L633.369 72.576 L633.369 43.7741 L603.635 43.7741 L603.635 72.576 L595.453 72.576 L595.453 12.096 Z\" fill=\"#000000\" fill-rule=\"nonzero\" fill-opacity=\"1\" /><path clip-path=\"url(#clip560)\" d=\"M657.512 27.2059 L664.966 27.2059 L664.966 72.576 L657.512 72.576 L657.512 27.2059 M657.512 9.54393 L664.966 9.54393 L664.966 18.9825 L657.512 18.9825 L657.512 9.54393 Z\" fill=\"#000000\" fill-rule=\"nonzero\" fill-opacity=\"1\" /><path clip-path=\"url(#clip560)\" d=\"M709.485 28.5427 L709.485 35.5912 Q706.326 33.9709 702.923 33.1607 Q699.52 32.3505 695.874 32.3505 Q690.325 32.3505 687.53 34.0519 Q684.775 35.7533 684.775 39.156 Q684.775 41.7486 686.76 43.2475 Q688.745 44.7058 694.74 46.0426 L697.292 46.6097 Q705.232 48.3111 708.554 51.4303 Q711.916 54.509 711.916 60.0587 Q711.916 66.3781 706.893 70.0644 Q701.91 73.7508 693.16 73.7508 Q689.515 73.7508 685.545 73.0216 Q681.615 72.3329 677.24 70.9151 L677.24 63.2184 Q681.372 65.3654 685.383 66.4591 Q689.393 67.5124 693.322 67.5124 Q698.589 67.5124 701.424 65.73 Q704.26 63.9071 704.26 60.6258 Q704.26 57.5877 702.194 55.9673 Q700.168 54.3469 693.241 52.8481 L690.649 52.2405 Q683.722 50.7821 680.643 47.7845 Q677.564 44.7463 677.564 39.4801 Q677.564 33.0797 682.101 29.5959 Q686.638 26.1121 694.983 26.1121 Q699.115 26.1121 702.761 26.7198 Q706.407 27.3274 709.485 28.5427 Z\" fill=\"#000000\" fill-rule=\"nonzero\" fill-opacity=\"1\" /><path clip-path=\"url(#clip560)\" d=\"M731.158 14.324 L731.158 27.2059 L746.511 27.2059 L746.511 32.9987 L731.158 32.9987 L731.158 57.6282 Q731.158 63.1779 732.657 64.7578 Q734.196 66.3376 738.855 66.3376 L746.511 66.3376 L746.511 72.576 L738.855 72.576 Q730.226 72.576 726.945 69.3758 Q723.664 66.1351 723.664 57.6282 L723.664 32.9987 L718.195 32.9987 L718.195 27.2059 L723.664 27.2059 L723.664 14.324 L731.158 14.324 Z\" fill=\"#000000\" fill-rule=\"nonzero\" fill-opacity=\"1\" /><path clip-path=\"url(#clip560)\" d=\"M773.895 32.4315 Q767.9 32.4315 764.416 37.1306 Q760.932 41.7891 760.932 49.9314 Q760.932 58.0738 764.375 62.7728 Q767.859 67.4314 773.895 67.4314 Q779.85 67.4314 783.333 62.7323 Q786.817 58.0333 786.817 49.9314 Q786.817 41.8701 783.333 37.1711 Q779.85 32.4315 773.895 32.4315 M773.895 26.1121 Q783.617 26.1121 789.167 32.4315 Q794.716 38.7509 794.716 49.9314 Q794.716 61.0714 789.167 67.4314 Q783.617 73.7508 773.895 73.7508 Q764.132 73.7508 758.582 67.4314 Q753.073 61.0714 753.073 49.9314 Q753.073 38.7509 758.582 32.4315 Q764.132 26.1121 773.895 26.1121 Z\" fill=\"#000000\" fill-rule=\"nonzero\" fill-opacity=\"1\" /><path clip-path=\"url(#clip560)\" d=\"M836.927 49.3643 Q836.927 41.2625 833.565 36.8065 Q830.243 32.3505 824.207 32.3505 Q818.212 32.3505 814.849 36.8065 Q811.528 41.2625 811.528 49.3643 Q811.528 57.4256 814.849 61.8816 Q818.212 66.3376 824.207 66.3376 Q830.243 66.3376 833.565 61.8816 Q836.927 57.4256 836.927 49.3643 M844.381 66.9452 Q844.381 78.5308 839.236 84.1616 Q834.091 89.8329 823.478 89.8329 Q819.549 89.8329 816.065 89.2252 Q812.581 88.6581 809.3 87.4428 L809.3 80.1917 Q812.581 81.9741 815.781 82.8248 Q818.981 83.6755 822.303 83.6755 Q829.635 83.6755 833.281 79.8271 Q836.927 76.0193 836.927 68.282 L836.927 64.5957 Q834.618 68.6061 831.013 70.5911 Q827.407 72.576 822.384 72.576 Q814.039 72.576 808.935 66.2161 Q803.831 59.8562 803.831 49.3643 Q803.831 38.832 808.935 32.472 Q814.039 26.1121 822.384 26.1121 Q827.407 26.1121 831.013 28.0971 Q834.618 30.082 836.927 34.0924 L836.927 27.2059 L844.381 27.2059 L844.381 66.9452 Z\" fill=\"#000000\" fill-rule=\"nonzero\" fill-opacity=\"1\" /><path clip-path=\"url(#clip560)\" d=\"M886.024 34.1734 Q884.768 33.4443 883.269 33.1202 Q881.811 32.7556 880.029 32.7556 Q873.709 32.7556 870.306 36.8875 Q866.944 40.9789 866.944 48.6757 L866.944 72.576 L859.45 72.576 L859.45 27.2059 L866.944 27.2059 L866.944 34.2544 Q869.294 30.1225 873.061 28.1376 Q876.828 26.1121 882.216 26.1121 Q882.986 26.1121 883.917 26.2337 Q884.849 26.3147 885.983 26.5172 L886.024 34.1734 Z\" fill=\"#000000\" fill-rule=\"nonzero\" fill-opacity=\"1\" /><path clip-path=\"url(#clip560)\" d=\"M914.461 49.7694 Q905.428 49.7694 901.944 51.8354 Q898.46 53.9013 898.46 58.8839 Q898.46 62.8538 901.053 65.2034 Q903.686 67.5124 908.182 67.5124 Q914.38 67.5124 918.107 63.1374 Q921.874 58.7219 921.874 51.4303 L921.874 49.7694 L914.461 49.7694 M929.328 46.6907 L929.328 72.576 L921.874 72.576 L921.874 65.6895 Q919.322 69.8214 915.514 71.8063 Q911.707 73.7508 906.197 73.7508 Q899.23 73.7508 895.098 69.8619 Q891.006 65.9325 891.006 59.3701 Q891.006 51.7138 896.111 47.825 Q901.255 43.9361 911.423 43.9361 L921.874 43.9361 L921.874 43.2069 Q921.874 38.0623 918.472 35.2672 Q915.109 32.4315 908.993 32.4315 Q905.104 32.4315 901.417 33.3632 Q897.731 34.295 894.328 36.1584 L894.328 29.2718 Q898.42 27.692 902.268 26.9223 Q906.116 26.1121 909.762 26.1121 Q919.606 26.1121 924.467 31.2163 Q929.328 36.3204 929.328 46.6907 Z\" fill=\"#000000\" fill-rule=\"nonzero\" fill-opacity=\"1\" /><path clip-path=\"url(#clip560)\" d=\"M980.005 35.9153 Q982.8 30.8922 986.689 28.5022 Q990.578 26.1121 995.844 26.1121 Q1002.93 26.1121 1006.78 31.0947 Q1010.63 36.0368 1010.63 45.1919 L1010.63 72.576 L1003.14 72.576 L1003.14 45.4349 Q1003.14 38.913 1000.83 35.7533 Q998.517 32.5936 993.778 32.5936 Q987.985 32.5936 984.623 36.4419 Q981.261 40.2903 981.261 46.9338 L981.261 72.576 L973.766 72.576 L973.766 45.4349 Q973.766 38.8725 971.457 35.7533 Q969.148 32.5936 964.328 32.5936 Q958.616 32.5936 955.254 36.4824 Q951.892 40.3308 951.892 46.9338 L951.892 72.576 L944.397 72.576 L944.397 27.2059 L951.892 27.2059 L951.892 34.2544 Q954.444 30.082 958.008 28.0971 Q961.573 26.1121 966.475 26.1121 Q971.417 26.1121 974.86 28.6237 Q978.344 31.1352 980.005 35.9153 Z\" fill=\"#000000\" fill-rule=\"nonzero\" fill-opacity=\"1\" /><path clip-path=\"url(#clip560)\" d=\"M1072.49 49.7694 Q1063.45 49.7694 1059.97 51.8354 Q1056.49 53.9013 1056.49 58.8839 Q1056.49 62.8538 1059.08 65.2034 Q1061.71 67.5124 1066.21 67.5124 Q1072.41 67.5124 1076.13 63.1374 Q1079.9 58.7219 1079.9 51.4303 L1079.9 49.7694 L1072.49 49.7694 M1087.35 46.6907 L1087.35 72.576 L1079.9 72.576 L1079.9 65.6895 Q1077.35 69.8214 1073.54 71.8063 Q1069.73 73.7508 1064.22 73.7508 Q1057.26 73.7508 1053.12 69.8619 Q1049.03 65.9325 1049.03 59.3701 Q1049.03 51.7138 1054.14 47.825 Q1059.28 43.9361 1069.45 43.9361 L1079.9 43.9361 L1079.9 43.2069 Q1079.9 38.0623 1076.5 35.2672 Q1073.14 32.4315 1067.02 32.4315 Q1063.13 32.4315 1059.44 33.3632 Q1055.76 34.295 1052.35 36.1584 L1052.35 29.2718 Q1056.45 27.692 1060.29 26.9223 Q1064.14 26.1121 1067.79 26.1121 Q1077.63 26.1121 1082.49 31.2163 Q1087.35 36.3204 1087.35 46.6907 Z\" fill=\"#000000\" fill-rule=\"nonzero\" fill-opacity=\"1\" /><path clip-path=\"url(#clip560)\" d=\"M1140.42 45.1919 L1140.42 72.576 L1132.97 72.576 L1132.97 45.4349 Q1132.97 38.994 1130.46 35.7938 Q1127.94 32.5936 1122.92 32.5936 Q1116.88 32.5936 1113.4 36.4419 Q1109.92 40.2903 1109.92 46.9338 L1109.92 72.576 L1102.42 72.576 L1102.42 27.2059 L1109.92 27.2059 L1109.92 34.2544 Q1112.59 30.163 1116.2 28.1376 Q1119.84 26.1121 1124.58 26.1121 Q1132.4 26.1121 1136.41 30.9732 Q1140.42 35.7938 1140.42 45.1919 Z\" fill=\"#000000\" fill-rule=\"nonzero\" fill-opacity=\"1\" /><path clip-path=\"url(#clip560)\" d=\"M1185.14 34.0924 L1185.14 9.54393 L1192.6 9.54393 L1192.6 72.576 L1185.14 72.576 L1185.14 65.7705 Q1182.79 69.8214 1179.19 71.8063 Q1175.62 73.7508 1170.6 73.7508 Q1162.38 73.7508 1157.19 67.1883 Q1152.05 60.6258 1152.05 49.9314 Q1152.05 39.2371 1157.19 32.6746 Q1162.38 26.1121 1170.6 26.1121 Q1175.62 26.1121 1179.19 28.0971 Q1182.79 30.0415 1185.14 34.0924 M1159.74 49.9314 Q1159.74 58.1548 1163.11 62.8538 Q1166.51 67.5124 1172.42 67.5124 Q1178.34 67.5124 1181.74 62.8538 Q1185.14 58.1548 1185.14 49.9314 Q1185.14 41.7081 1181.74 37.0496 Q1178.34 32.3505 1172.42 32.3505 Q1166.51 32.3505 1163.11 37.0496 Q1159.74 41.7081 1159.74 49.9314 Z\" fill=\"#000000\" fill-rule=\"nonzero\" fill-opacity=\"1\" /><path clip-path=\"url(#clip560)\" d=\"M1234.64 12.096 L1246.84 12.096 L1262.27 53.2532 L1277.79 12.096 L1289.98 12.096 L1289.98 72.576 L1282 72.576 L1282 19.4686 L1266.4 60.9499 L1258.18 60.9499 L1242.58 19.4686 L1242.58 72.576 L1234.64 72.576 L1234.64 12.096 Z\" fill=\"#000000\" fill-rule=\"nonzero\" fill-opacity=\"1\" /><path clip-path=\"url(#clip560)\" d=\"M1326.52 49.7694 Q1317.49 49.7694 1314 51.8354 Q1310.52 53.9013 1310.52 58.8839 Q1310.52 62.8538 1313.11 65.2034 Q1315.74 67.5124 1320.24 67.5124 Q1326.44 67.5124 1330.17 63.1374 Q1333.93 58.7219 1333.93 51.4303 L1333.93 49.7694 L1326.52 49.7694 M1341.39 46.6907 L1341.39 72.576 L1333.93 72.576 L1333.93 65.6895 Q1331.38 69.8214 1327.57 71.8063 Q1323.76 73.7508 1318.26 73.7508 Q1311.29 73.7508 1307.16 69.8619 Q1303.06 65.9325 1303.06 59.3701 Q1303.06 51.7138 1308.17 47.825 Q1313.31 43.9361 1323.48 43.9361 L1333.93 43.9361 L1333.93 43.2069 Q1333.93 38.0623 1330.53 35.2672 Q1327.17 32.4315 1321.05 32.4315 Q1317.16 32.4315 1313.48 33.3632 Q1309.79 34.295 1306.39 36.1584 L1306.39 29.2718 Q1310.48 27.692 1314.33 26.9223 Q1318.17 26.1121 1321.82 26.1121 Q1331.66 26.1121 1336.52 31.2163 Q1341.39 36.3204 1341.39 46.6907 Z\" fill=\"#000000\" fill-rule=\"nonzero\" fill-opacity=\"1\" /><path clip-path=\"url(#clip560)\" d=\"M1383.03 34.1734 Q1381.77 33.4443 1380.27 33.1202 Q1378.82 32.7556 1377.03 32.7556 Q1370.71 32.7556 1367.31 36.8875 Q1363.95 40.9789 1363.95 48.6757 L1363.95 72.576 L1356.46 72.576 L1356.46 27.2059 L1363.95 27.2059 L1363.95 34.2544 Q1366.3 30.1225 1370.07 28.1376 Q1373.83 26.1121 1379.22 26.1121 Q1379.99 26.1121 1380.92 26.2337 Q1381.85 26.3147 1382.99 26.5172 L1383.03 34.1734 Z\" fill=\"#000000\" fill-rule=\"nonzero\" fill-opacity=\"1\" /><path clip-path=\"url(#clip560)\" d=\"M1419.24 49.3643 Q1419.24 41.2625 1415.88 36.8065 Q1412.56 32.3505 1406.52 32.3505 Q1400.53 32.3505 1397.17 36.8065 Q1393.85 41.2625 1393.85 49.3643 Q1393.85 57.4256 1397.17 61.8816 Q1400.53 66.3376 1406.52 66.3376 Q1412.56 66.3376 1415.88 61.8816 Q1419.24 57.4256 1419.24 49.3643 M1426.7 66.9452 Q1426.7 78.5308 1421.55 84.1616 Q1416.41 89.8329 1405.8 89.8329 Q1401.87 89.8329 1398.38 89.2252 Q1394.9 88.6581 1391.62 87.4428 L1391.62 80.1917 Q1394.9 81.9741 1398.1 82.8248 Q1401.3 83.6755 1404.62 83.6755 Q1411.95 83.6755 1415.6 79.8271 Q1419.24 76.0193 1419.24 68.282 L1419.24 64.5957 Q1416.94 68.6061 1413.33 70.5911 Q1409.72 72.576 1404.7 72.576 Q1396.36 72.576 1391.25 66.2161 Q1386.15 59.8562 1386.15 49.3643 Q1386.15 38.832 1391.25 32.472 Q1396.36 26.1121 1404.7 26.1121 Q1409.72 26.1121 1413.33 28.0971 Q1416.94 30.082 1419.24 34.0924 L1419.24 27.2059 L1426.7 27.2059 L1426.7 66.9452 Z\" fill=\"#000000\" fill-rule=\"nonzero\" fill-opacity=\"1\" /><path clip-path=\"url(#clip560)\" d=\"M1442.05 27.2059 L1449.5 27.2059 L1449.5 72.576 L1442.05 72.576 L1442.05 27.2059 M1442.05 9.54393 L1449.5 9.54393 L1449.5 18.9825 L1442.05 18.9825 L1442.05 9.54393 Z\" fill=\"#000000\" fill-rule=\"nonzero\" fill-opacity=\"1\" /><path clip-path=\"url(#clip560)\" d=\"M1502.81 45.1919 L1502.81 72.576 L1495.36 72.576 L1495.36 45.4349 Q1495.36 38.994 1492.85 35.7938 Q1490.34 32.5936 1485.31 32.5936 Q1479.28 32.5936 1475.8 36.4419 Q1472.31 40.2903 1472.31 46.9338 L1472.31 72.576 L1464.82 72.576 L1464.82 27.2059 L1472.31 27.2059 L1472.31 34.2544 Q1474.98 30.163 1478.59 28.1376 Q1482.24 26.1121 1486.98 26.1121 Q1494.79 26.1121 1498.8 30.9732 Q1502.81 35.7938 1502.81 45.1919 Z\" fill=\"#000000\" fill-rule=\"nonzero\" fill-opacity=\"1\" /><path clip-path=\"url(#clip560)\" d=\"M1538.3 49.7694 Q1529.27 49.7694 1525.78 51.8354 Q1522.3 53.9013 1522.3 58.8839 Q1522.3 62.8538 1524.89 65.2034 Q1527.53 67.5124 1532.02 67.5124 Q1538.22 67.5124 1541.95 63.1374 Q1545.71 58.7219 1545.71 51.4303 L1545.71 49.7694 L1538.3 49.7694 M1553.17 46.6907 L1553.17 72.576 L1545.71 72.576 L1545.71 65.6895 Q1543.16 69.8214 1539.35 71.8063 Q1535.55 73.7508 1530.04 73.7508 Q1523.07 73.7508 1518.94 69.8619 Q1514.85 65.9325 1514.85 59.3701 Q1514.85 51.7138 1519.95 47.825 Q1525.09 43.9361 1535.26 43.9361 L1545.71 43.9361 L1545.71 43.2069 Q1545.71 38.0623 1542.31 35.2672 Q1538.95 32.4315 1532.83 32.4315 Q1528.94 32.4315 1525.26 33.3632 Q1521.57 34.295 1518.17 36.1584 L1518.17 29.2718 Q1522.26 27.692 1526.11 26.9223 Q1529.96 26.1121 1533.6 26.1121 Q1543.45 26.1121 1548.31 31.2163 Q1553.17 36.3204 1553.17 46.6907 Z\" fill=\"#000000\" fill-rule=\"nonzero\" fill-opacity=\"1\" /><path clip-path=\"url(#clip560)\" d=\"M1568.52 9.54393 L1575.97 9.54393 L1575.97 72.576 L1568.52 72.576 L1568.52 9.54393 Z\" fill=\"#000000\" fill-rule=\"nonzero\" fill-opacity=\"1\" /><path clip-path=\"url(#clip560)\" d=\"M1626.45 18.8205 L1626.45 65.8515 L1636.33 65.8515 Q1648.85 65.8515 1654.64 60.1802 Q1660.48 54.509 1660.48 42.2752 Q1660.48 30.1225 1654.64 24.4918 Q1648.85 18.8205 1636.33 18.8205 L1626.45 18.8205 M1618.27 12.096 L1635.08 12.096 Q1652.66 12.096 1660.88 19.4281 Q1669.1 26.7198 1669.1 42.2752 Q1669.1 57.9117 1660.84 65.2439 Q1652.58 72.576 1635.08 72.576 L1618.27 72.576 L1618.27 12.096 Z\" fill=\"#000000\" fill-rule=\"nonzero\" fill-opacity=\"1\" /><path clip-path=\"url(#clip560)\" d=\"M1720.63 48.0275 L1720.63 51.6733 L1686.36 51.6733 Q1686.85 59.3701 1690.98 63.421 Q1695.15 67.4314 1702.56 67.4314 Q1706.86 67.4314 1710.87 66.3781 Q1714.92 65.3249 1718.89 63.2184 L1718.89 70.267 Q1714.88 71.9684 1710.67 72.8596 Q1706.45 73.7508 1702.12 73.7508 Q1691.26 73.7508 1684.9 67.4314 Q1678.58 61.1119 1678.58 50.3365 Q1678.58 39.1965 1684.58 32.6746 Q1690.61 26.1121 1700.82 26.1121 Q1709.98 26.1121 1715.28 32.0264 Q1720.63 37.9003 1720.63 48.0275 M1713.18 45.84 Q1713.1 39.7232 1709.73 36.0774 Q1706.41 32.4315 1700.9 32.4315 Q1694.67 32.4315 1690.9 35.9558 Q1687.17 39.4801 1686.6 45.8805 L1713.18 45.84 Z\" fill=\"#000000\" fill-rule=\"nonzero\" fill-opacity=\"1\" /><path clip-path=\"url(#clip560)\" d=\"M1770.58 45.1919 L1770.58 72.576 L1763.13 72.576 L1763.13 45.4349 Q1763.13 38.994 1760.61 35.7938 Q1758.1 32.5936 1753.08 32.5936 Q1747.04 32.5936 1743.56 36.4419 Q1740.08 40.2903 1740.08 46.9338 L1740.08 72.576 L1732.58 72.576 L1732.58 27.2059 L1740.08 27.2059 L1740.08 34.2544 Q1742.75 30.163 1746.35 28.1376 Q1750 26.1121 1754.74 26.1121 Q1762.56 26.1121 1766.57 30.9732 Q1770.58 35.7938 1770.58 45.1919 Z\" fill=\"#000000\" fill-rule=\"nonzero\" fill-opacity=\"1\" /><path clip-path=\"url(#clip560)\" d=\"M1814.37 28.5427 L1814.37 35.5912 Q1811.21 33.9709 1807.81 33.1607 Q1804.4 32.3505 1800.76 32.3505 Q1795.21 32.3505 1792.41 34.0519 Q1789.66 35.7533 1789.66 39.156 Q1789.66 41.7486 1791.64 43.2475 Q1793.63 44.7058 1799.62 46.0426 L1802.18 46.6097 Q1810.12 48.3111 1813.44 51.4303 Q1816.8 54.509 1816.8 60.0587 Q1816.8 66.3781 1811.78 70.0644 Q1806.79 73.7508 1798.04 73.7508 Q1794.4 73.7508 1790.43 73.0216 Q1786.5 72.3329 1782.12 70.9151 L1782.12 63.2184 Q1786.26 65.3654 1790.27 66.4591 Q1794.28 67.5124 1798.21 67.5124 Q1803.47 67.5124 1806.31 65.73 Q1809.14 63.9071 1809.14 60.6258 Q1809.14 57.5877 1807.08 55.9673 Q1805.05 54.3469 1798.13 52.8481 L1795.53 52.2405 Q1788.61 50.7821 1785.53 47.7845 Q1782.45 44.7463 1782.45 39.4801 Q1782.45 33.0797 1786.99 29.5959 Q1791.52 26.1121 1799.87 26.1121 Q1804 26.1121 1807.65 26.7198 Q1811.29 27.3274 1814.37 28.5427 Z\" fill=\"#000000\" fill-rule=\"nonzero\" fill-opacity=\"1\" /><path clip-path=\"url(#clip560)\" d=\"M1828.67 27.2059 L1836.12 27.2059 L1836.12 72.576 L1828.67 72.576 L1828.67 27.2059 M1828.67 9.54393 L1836.12 9.54393 L1836.12 18.9825 L1828.67 18.9825 L1828.67 9.54393 Z\" fill=\"#000000\" fill-rule=\"nonzero\" fill-opacity=\"1\" /><path clip-path=\"url(#clip560)\" d=\"M1859.09 14.324 L1859.09 27.2059 L1874.44 27.2059 L1874.44 32.9987 L1859.09 32.9987 L1859.09 57.6282 Q1859.09 63.1779 1860.59 64.7578 Q1862.13 66.3376 1866.79 66.3376 L1874.44 66.3376 L1874.44 72.576 L1866.79 72.576 Q1858.16 72.576 1854.88 69.3758 Q1851.6 66.1351 1851.6 57.6282 L1851.6 32.9987 L1846.13 32.9987 L1846.13 27.2059 L1851.6 27.2059 L1851.6 14.324 L1859.09 14.324 Z\" fill=\"#000000\" fill-rule=\"nonzero\" fill-opacity=\"1\" /><path clip-path=\"url(#clip560)\" d=\"M1884.25 27.2059 L1891.7 27.2059 L1891.7 72.576 L1884.25 72.576 L1884.25 27.2059 M1884.25 9.54393 L1891.7 9.54393 L1891.7 18.9825 L1884.25 18.9825 L1884.25 9.54393 Z\" fill=\"#000000\" fill-rule=\"nonzero\" fill-opacity=\"1\" /><path clip-path=\"url(#clip560)\" d=\"M1946.11 48.0275 L1946.11 51.6733 L1911.83 51.6733 Q1912.32 59.3701 1916.45 63.421 Q1920.62 67.4314 1928.04 67.4314 Q1932.33 67.4314 1936.34 66.3781 Q1940.39 65.3249 1944.36 63.2184 L1944.36 70.267 Q1940.35 71.9684 1936.14 72.8596 Q1931.93 73.7508 1927.59 73.7508 Q1916.74 73.7508 1910.38 67.4314 Q1904.06 61.1119 1904.06 50.3365 Q1904.06 39.1965 1910.05 32.6746 Q1916.09 26.1121 1926.3 26.1121 Q1935.45 26.1121 1940.76 32.0264 Q1946.11 37.9003 1946.11 48.0275 M1938.65 45.84 Q1938.57 39.7232 1935.21 36.0774 Q1931.89 32.4315 1926.38 32.4315 Q1920.14 32.4315 1916.37 35.9558 Q1912.64 39.4801 1912.08 45.8805 L1938.65 45.84 Z\" fill=\"#000000\" fill-rule=\"nonzero\" fill-opacity=\"1\" /><path clip-path=\"url(#clip560)\" d=\"M1987.26 28.5427 L1987.26 35.5912 Q1984.1 33.9709 1980.7 33.1607 Q1977.3 32.3505 1973.65 32.3505 Q1968.1 32.3505 1965.31 34.0519 Q1962.55 35.7533 1962.55 39.156 Q1962.55 41.7486 1964.54 43.2475 Q1966.52 44.7058 1972.52 46.0426 L1975.07 46.6097 Q1983.01 48.3111 1986.33 51.4303 Q1989.69 54.509 1989.69 60.0587 Q1989.69 66.3781 1984.67 70.0644 Q1979.69 73.7508 1970.94 73.7508 Q1967.29 73.7508 1963.32 73.0216 Q1959.39 72.3329 1955.02 70.9151 L1955.02 63.2184 Q1959.15 65.3654 1963.16 66.4591 Q1967.17 67.5124 1971.1 67.5124 Q1976.37 67.5124 1979.2 65.73 Q1982.04 63.9071 1982.04 60.6258 Q1982.04 57.5877 1979.97 55.9673 Q1977.95 54.3469 1971.02 52.8481 L1968.43 52.2405 Q1961.5 50.7821 1958.42 47.7845 Q1955.34 44.7463 1955.34 39.4801 Q1955.34 33.0797 1959.88 29.5959 Q1964.42 26.1121 1972.76 26.1121 Q1976.89 26.1121 1980.54 26.7198 Q1984.18 27.3274 1987.26 28.5427 Z\" fill=\"#000000\" fill-rule=\"nonzero\" fill-opacity=\"1\" /><polyline clip-path=\"url(#clip562)\" style=\"stroke:#009af9; stroke-linecap:round; stroke-linejoin:round; stroke-width:4; stroke-opacity:1; fill:none\" points=\"293.004,1386.4 293.016,1386.35 293.028,1386.3 293.04,1386.26 293.052,1386.21 293.064,1386.17 293.077,1386.12 293.089,1386.08 293.101,1386.03 293.113,1385.99 293.125,1385.94 293.137,1385.9 293.149,1385.85 293.161,1385.81 293.173,1385.76 293.185,1385.72 293.197,1385.67 293.209,1385.63 293.222,1385.59 293.234,1385.54 293.246,1385.5 293.258,1385.45 293.27,1385.41 293.282,1385.37 293.294,1385.32 293.306,1385.28 293.318,1385.24 293.33,1385.2 293.342,1385.15 293.354,1385.11 293.367,1385.07 293.379,1385.03 293.391,1384.99 293.403,1384.95 293.415,1384.91 293.427,1384.87 293.439,1384.83 293.451,1384.79 293.463,1384.75 293.475,1384.71 293.487,1384.67 293.5,1384.63 293.512,1384.59 293.524,1384.56 293.536,1384.52 293.548,1384.48 293.56,1384.45 293.572,1384.41 293.584,1384.37 293.596,1384.34 293.608,1384.3 293.62,1384.27 293.632,1384.23 293.645,1384.2 293.657,1384.17 293.669,1384.13 293.681,1384.1 293.693,1384.07 293.705,1384.04 293.717,1384.01 293.729,1383.98 293.741,1383.94 293.753,1383.91 293.765,1383.89 293.777,1383.86 293.79,1383.83 293.802,1383.8 293.814,1383.77 293.826,1383.74 293.838,1383.72 293.85,1383.69 293.862,1383.67 293.874,1383.64 293.886,1383.62 293.898,1383.59 293.91,1383.57 293.923,1383.54 293.935,1383.52 293.947,1383.5 293.959,1383.48 293.971,1383.46 293.983,1383.43 293.995,1383.41 294.007,1383.39 294.019,1383.38 294.031,1383.36 294.043,1383.34 294.055,1383.32 294.068,1383.3 294.08,1383.29 294.092,1383.27 294.104,1383.25 294.116,1383.24 294.128,1383.22 294.14,1383.21 294.152,1383.2 294.164,1383.18 294.176,1383.17 294.188,1383.16 294.2,1383.15 294.213,1383.14 294.225,1383.13 294.237,1383.12 294.249,1383.11 294.261,1383.1 294.273,1383.09 294.285,1383.08 294.297,1383.07 294.309,1383.07 294.321,1383.06 294.333,1383.05 294.346,1383.05 294.358,1383.04 294.37,1383.04 294.382,1383.03 294.394,1383.03 294.406,1383.03 294.418,1383.02 294.43,1383.02 294.442,1383.02 294.454,1383.02 294.466,1383.02 294.478,1383.02 294.491,1383.02 294.503,1383.02 294.515,1383.02 294.527,1383.02 294.539,1383.02 294.551,1383.02 294.563,1383.03 294.575,1383.03 294.587,1383.03 294.599,1383.04 294.611,1383.04 294.623,1383.05 294.636,1383.05 294.648,1383.06 294.66,1383.06 294.672,1383.07 294.684,1383.08 294.696,1383.08 294.708,1383.09 294.72,1383.1 294.732,1383.11 294.744,1383.11 294.756,1383.12 294.769,1383.13 294.781,1383.14 294.793,1383.15 294.805,1383.16 294.817,1383.17 294.829,1383.18 294.841,1383.19 294.853,1383.21 294.865,1383.22 294.877,1383.23 294.889,1383.24 294.901,1383.26 294.914,1383.27 294.926,1383.28 294.938,1383.3 294.95,1383.31 294.962,1383.32 294.974,1383.34 294.986,1383.35 294.998,1383.37 295.01,1383.38 295.022,1383.4 295.034,1383.41 295.046,1383.43 295.059,1383.44 295.071,1383.46 295.083,1383.48 295.095,1383.49 295.107,1383.51 295.119,1383.53 295.131,1383.54 295.143,1383.56 295.155,1383.58 295.167,1383.6 295.179,1383.62 295.192,1383.63 295.204,1383.65 295.216,1383.67 295.228,1383.69 295.24,1383.71 295.252,1383.73 295.264,1383.74 295.276,1383.76 295.288,1383.78 295.3,1383.8 295.312,1383.82 295.324,1383.84 295.337,1383.86 295.349,1383.88 295.361,1383.9 295.373,1383.92 295.385,1383.94 295.397,1383.96 295.409,1383.98 295.421,1384 295.433,1384.02 295.445,1384.04 295.457,1384.06 295.469,1384.08 295.482,1384.1 295.494,1384.12 295.506,1384.14 295.518,1384.16 295.53,1384.18 295.542,1384.2 295.554,1384.22 295.566,1384.24 295.578,1384.26 295.59,1384.28 295.602,1384.3 295.615,1384.32 295.627,1384.34 295.639,1384.36 295.651,1384.38 295.663,1384.4 295.675,1384.42 295.687,1384.44 295.699,1384.46 295.711,1384.48 295.723,1384.5 295.735,1384.52 295.747,1384.54 295.76,1384.56 295.772,1384.58 295.784,1384.6 295.796,1384.62 295.808,1384.64 295.82,1384.66 295.832,1384.68 295.844,1384.7 295.856,1384.72 295.868,1384.74 295.88,1384.76 295.892,1384.78 295.905,1384.8 295.917,1384.81 295.929,1384.83 295.941,1384.85 295.953,1384.87 295.965,1384.89 295.977,1384.91 295.989,1384.93 296.001,1384.94 296.013,1384.96 296.025,1384.98 296.038,1385 296.05,1385.02 296.062,1385.03 296.074,1385.05 296.086,1385.07 296.098,1385.09 296.11,1385.1 296.122,1385.12 296.134,1385.14 296.146,1385.15 296.158,1385.17 296.17,1385.19 296.183,1385.2 296.195,1385.22 296.207,1385.24 296.219,1385.25 296.231,1385.27 296.243,1385.28 296.255,1385.3 296.267,1385.31 296.279,1385.33 296.291,1385.35 296.303,1385.36 296.315,1385.38 296.328,1385.39 296.34,1385.4 296.352,1385.42 296.364,1385.43 296.376,1385.45 296.388,1385.46 296.4,1385.48 296.412,1385.49 296.424,1385.5 296.436,1385.52 296.448,1385.53 296.461,1385.54 296.473,1385.56 296.485,1385.57 296.497,1385.58 296.509,1385.6 296.521,1385.61 296.533,1385.62 296.545,1385.63 296.557,1385.65 296.569,1385.66 296.581,1385.67 296.593,1385.68 296.606,1385.69 296.618,1385.7 296.63,1385.72 296.642,1385.73 296.654,1385.74 296.666,1385.75 296.678,1385.76 296.69,1385.77 296.702,1385.78 296.714,1385.79 296.726,1385.8 296.738,1385.81 296.751,1385.82 296.763,1385.83 296.775,1385.84 296.787,1385.85 296.799,1385.86 296.811,1385.87 296.823,1385.88 296.835,1385.89 296.847,1385.9 296.859,1385.91 296.871,1385.92 296.884,1385.92 296.896,1385.93 296.908,1385.94 296.92,1385.95 296.932,1385.96 296.944,1385.97 296.956,1385.97 296.968,1385.98 296.98,1385.99 296.992,1386 297.004,1386.01 297.016,1386.01 297.029,1386.02 297.041,1386.03 297.053,1386.03 297.065,1386.04 297.077,1386.05 297.089,1386.05 297.101,1386.06 297.113,1386.07 297.125,1386.07 297.137,1386.08 297.149,1386.09 297.161,1386.09 297.174,1386.1 297.186,1386.1 297.198,1386.11 297.21,1386.12 297.222,1386.12 297.234,1386.13 297.246,1386.13 297.258,1386.14 297.27,1386.14 297.282,1386.15 297.294,1386.15 297.307,1386.16 297.319,1386.16 297.331,1386.17 297.343,1386.17 297.355,1386.18 297.367,1386.18 297.379,1386.19 297.391,1386.19 297.403,1386.2 297.415,1386.2 297.427,1386.2 297.439,1386.21 297.452,1386.21 297.464,1386.22 297.476,1386.22 297.488,1386.22 297.5,1386.23 297.512,1386.23 297.524,1386.24 297.536,1386.24 297.548,1386.24 297.56,1386.25 297.572,1386.25 297.584,1386.25 297.597,1386.26 297.609,1386.26 297.621,1386.26 297.633,1386.26 297.645,1386.27 297.657,1386.27 297.669,1386.27 297.681,1386.28 297.693,1386.28 297.705,1386.28 297.717,1386.28 297.73,1386.29 297.742,1386.29 297.754,1386.29 297.766,1386.29 297.778,1386.3 297.79,1386.3 297.802,1386.3 297.814,1386.3 297.826,1386.31 297.838,1386.31 297.85,1386.31 297.862,1386.31 297.875,1386.31 297.887,1386.32 297.899,1386.32 297.911,1386.32 297.923,1386.32 297.935,1386.32 297.947,1386.33 297.959,1386.33 297.971,1386.33 297.983,1386.33 297.995,1386.33 298.007,1386.33 298.02,1386.34 298.032,1386.34 298.044,1386.34 298.056,1386.34 298.068,1386.34 298.08,1386.34 298.092,1386.34 298.104,1386.34 298.116,1386.35 298.128,1386.35 298.14,1386.35 298.153,1386.35 298.165,1386.35 298.177,1386.35 298.189,1386.35 298.201,1386.35 298.213,1386.36 298.225,1386.36 298.237,1386.36 298.249,1386.36 298.261,1386.36 298.273,1386.36 298.285,1386.36 298.298,1386.36 298.31,1386.36 298.322,1386.36 298.334,1386.36 298.346,1386.37 298.358,1386.37 298.37,1386.37 298.382,1386.37 298.394,1386.37 298.406,1386.37 298.418,1386.37 298.43,1386.37 298.443,1386.37 298.455,1386.37 298.467,1386.37 298.479,1386.37 298.491,1386.37 298.503,1386.37 298.515,1386.38 298.527,1386.38 298.539,1386.38 298.551,1386.38 298.563,1386.38 298.576,1386.38 298.588,1386.38 298.6,1386.38 298.612,1386.38 298.624,1386.38 298.636,1386.38 298.648,1386.38 298.66,1386.38 298.672,1386.38 298.684,1386.38 298.696,1386.38 298.708,1386.38 298.721,1386.38 298.733,1386.38 298.745,1386.38 298.757,1386.38 298.769,1386.38 298.781,1386.38 298.793,1386.39 298.805,1386.39 298.817,1386.39 298.829,1386.39 298.841,1386.39 298.853,1386.39 298.866,1386.39 298.878,1386.39 298.89,1386.39 298.902,1386.39 298.914,1386.39 298.926,1386.39 298.938,1386.39 298.95,1386.39 298.962,1386.39 298.974,1386.39 298.986,1386.39 298.999,1386.39 299.011,1386.39 299.023,1386.39 299.035,1386.39 299.047,1386.39 299.059,1386.39 299.071,1386.39 299.083,1386.39 299.095,1386.39 299.107,1386.39 299.119,1386.39 299.131,1386.39 299.144,1386.39 299.156,1386.39 299.168,1386.39 299.18,1386.39 299.192,1386.39 299.204,1386.39 299.216,1386.39 299.228,1386.39 299.24,1386.39 299.252,1386.39 299.264,1386.39 299.276,1386.39 299.289,1386.39 299.301,1386.39 299.313,1386.39 299.325,1386.39 299.337,1386.39 299.349,1386.39 299.361,1386.39 299.373,1386.39 299.385,1386.39 299.397,1386.39 299.409,1386.39 299.422,1386.39 299.434,1386.39 299.446,1386.39 299.458,1386.39 299.47,1386.39 299.482,1386.39 299.494,1386.39 299.506,1386.39 299.518,1386.39 299.53,1386.39 299.542,1386.39 299.554,1386.39 299.567,1386.39 299.579,1386.39 299.591,1386.39 299.603,1386.39 299.615,1386.39 299.627,1386.39 299.639,1386.39 299.651,1386.39 299.663,1386.39 299.675,1386.39 299.687,1386.39 299.699,1386.39 299.712,1386.39 299.724,1386.39 299.736,1386.39 299.748,1386.39 299.76,1386.39 299.772,1386.39 299.784,1386.39 299.796,1386.39 299.808,1386.4 299.82,1386.4 299.832,1386.4 299.845,1386.4 299.857,1386.4 299.869,1386.4 299.881,1386.4 299.893,1386.4 299.905,1386.4 299.917,1386.4 299.929,1386.4 299.941,1386.4 299.953,1386.4 299.965,1386.4 299.977,1386.4 299.99,1386.4 300.002,1386.4 300.014,1386.4 300.026,1386.4 300.038,1386.4 300.05,1386.4 300.062,1386.4 300.074,1386.4 300.086,1386.4 300.098,1386.4 300.11,1386.4 300.122,1386.4 300.135,1386.4 300.147,1386.4 300.159,1386.4 300.171,1386.4 300.183,1386.4 300.195,1386.4 300.207,1386.4 300.219,1386.4 300.231,1386.4 300.243,1386.4 300.255,1386.4 300.268,1386.4 300.28,1386.4 300.292,1386.4 300.304,1386.4 300.316,1386.4 300.328,1386.4 300.34,1386.4 300.352,1386.4 300.364,1386.4 300.376,1386.4 300.388,1386.4 300.4,1386.4 300.413,1386.4 300.425,1386.4 300.437,1386.4 300.449,1386.4 300.461,1386.4 300.473,1386.4 300.485,1386.4 300.497,1386.4 300.509,1386.4 300.521,1386.4 300.533,1386.4 300.545,1386.4 300.558,1386.4 300.57,1386.4 300.582,1386.4 300.594,1386.4 300.606,1386.4 300.618,1386.4 300.63,1386.4 300.642,1386.4 300.654,1386.4 300.666,1386.4 300.678,1386.4 300.691,1386.4 300.703,1386.4 300.715,1386.4 300.727,1386.4 300.739,1386.4 300.751,1386.4 300.763,1386.4 300.775,1386.4 300.787,1386.4 300.799,1386.4 300.811,1386.4 300.823,1386.4 300.836,1386.4 300.848,1386.4 300.86,1386.4 300.872,1386.4 300.884,1386.4 300.896,1386.4 300.908,1386.4 300.92,1386.4 300.932,1386.4 300.944,1386.4 300.956,1386.4 300.968,1386.4 300.981,1386.4 300.993,1386.4 301.005,1386.4 301.017,1386.4 301.029,1386.4 301.041,1386.4 301.053,1386.4 301.065,1386.4 301.077,1386.4 301.089,1386.4 301.101,1386.4 301.114,1386.4 301.126,1386.4 301.138,1386.4 301.15,1386.4 301.162,1386.4 301.174,1386.4 301.186,1386.4 301.198,1386.4 301.21,1386.4 301.222,1386.4 301.234,1386.4 301.246,1386.4 301.259,1386.4 301.271,1386.4 301.283,1386.4 301.295,1386.4 301.307,1386.4 301.319,1386.4 301.331,1386.4 301.343,1386.4 301.355,1386.4 301.367,1386.4 301.379,1386.4 301.391,1386.4 301.404,1386.4 301.416,1386.4 301.428,1386.4 301.44,1386.4 301.452,1386.4 301.464,1386.4 301.476,1386.4 301.488,1386.4 301.5,1386.4 301.512,1386.4 301.524,1386.4 301.537,1386.4 301.549,1386.4 301.561,1386.4 301.573,1386.4 301.585,1386.4 301.597,1386.4 301.609,1386.4 301.621,1386.4 301.633,1386.4 301.645,1386.4 301.657,1386.4 301.669,1386.4 301.682,1386.4 301.694,1386.4 301.706,1386.4 301.718,1386.4 301.73,1386.4 301.742,1386.4 301.754,1386.4 301.766,1386.4 301.778,1386.4 301.79,1386.4 301.802,1386.4 301.814,1386.4 301.827,1386.4 301.839,1386.4 301.851,1386.4 301.863,1386.4 301.875,1386.4 301.887,1386.4 301.899,1386.4 301.911,1386.4 301.923,1386.4 301.935,1386.4 301.947,1386.4 301.96,1386.4 301.972,1386.4 301.984,1386.4 301.996,1386.4 302.008,1386.4 302.02,1386.4 302.032,1386.4 302.044,1386.4 302.056,1386.4 302.068,1386.4 302.08,1386.4 302.092,1386.4 302.105,1386.4 302.117,1386.4 302.129,1386.4 302.141,1386.4 302.153,1386.4 302.165,1386.4 302.177,1386.4 302.189,1386.4 302.201,1386.4 302.213,1386.4 302.225,1386.4 302.237,1386.4 302.25,1386.4 302.262,1386.4 302.274,1386.4 302.286,1386.4 302.298,1386.4 302.31,1386.4 302.322,1386.4 302.334,1386.4 302.346,1386.4 302.358,1386.4 302.37,1386.4 302.383,1386.4 302.395,1386.4 302.407,1386.4 302.419,1386.4 302.431,1386.4 302.443,1386.4 302.455,1386.4 302.467,1386.4 302.479,1386.4 302.491,1386.4 302.503,1386.4 302.515,1386.4 302.528,1386.4 302.54,1386.4 302.552,1386.4 302.564,1386.4 302.576,1386.4 302.588,1386.4 302.6,1386.4 302.612,1386.4 302.624,1386.4 302.636,1386.4 302.648,1386.4 302.66,1386.4 302.673,1386.4 302.685,1386.4 302.697,1386.4 302.709,1386.4 302.721,1386.4 302.733,1386.4 302.745,1386.4 302.757,1386.4 302.769,1386.4 302.781,1386.4 302.793,1386.4 302.806,1386.4 302.818,1386.4 302.83,1386.4 302.842,1386.4 302.854,1386.4 302.866,1386.4 302.878,1386.4 302.89,1386.4 302.902,1386.4 302.914,1386.4 302.926,1386.4 302.938,1386.4 302.951,1386.4 302.963,1386.4 302.975,1386.4 302.987,1386.4 302.999,1386.4 303.011,1386.4 303.023,1386.4 303.035,1386.4 303.047,1386.4 303.059,1386.4 303.071,1386.4 303.083,1386.4 303.096,1386.4 303.108,1386.4 303.12,1386.4 303.132,1386.4 303.144,1386.4 303.156,1386.4 303.168,1386.4 303.18,1386.4 303.192,1386.4 303.204,1386.4 303.216,1386.4 303.229,1386.4 303.241,1386.4 303.253,1386.4 303.265,1386.4 303.277,1386.4 303.289,1386.4 303.301,1386.4 303.313,1386.4 303.325,1386.4 303.337,1386.4 303.349,1386.4 303.361,1386.4 303.374,1386.4 303.386,1386.4 303.398,1386.4 303.41,1386.4 303.422,1386.4 303.434,1386.4 303.446,1386.4 303.458,1386.4 303.47,1386.4 303.482,1386.4 303.494,1386.4 303.506,1386.4 303.519,1386.4 303.531,1386.4 303.543,1386.4 303.555,1386.4 303.567,1386.4 303.579,1386.4 303.591,1386.4 303.603,1386.4 303.615,1386.4 303.627,1386.4 303.639,1386.4 303.652,1386.4 303.664,1386.4 303.676,1386.4 303.688,1386.4 303.7,1386.4 303.712,1386.4 303.724,1386.4 303.736,1386.4 303.748,1386.4 303.76,1386.4 303.772,1386.4 303.784,1386.4 303.797,1386.4 303.809,1386.4 303.821,1386.4 303.833,1386.4 303.845,1386.4 303.857,1386.4 303.869,1386.4 303.881,1386.4 303.893,1386.4 303.905,1386.4 303.917,1386.4 303.929,1386.4 303.942,1386.4 303.954,1386.4 303.966,1386.4 303.978,1386.4 303.99,1386.4 304.002,1386.4 304.014,1386.4 304.026,1386.4 304.038,1386.4 304.05,1386.4 304.062,1386.4 304.075,1386.4 304.087,1386.4 304.099,1386.4 304.111,1386.4 304.123,1386.4 304.135,1386.4 304.147,1386.4 304.159,1386.4 304.171,1386.4 304.183,1386.4 304.195,1386.4 304.207,1386.4 304.22,1386.4 304.232,1386.4 304.244,1386.4 304.256,1386.4 304.268,1386.4 304.28,1386.4 304.292,1386.4 304.304,1386.4 304.316,1386.4 304.328,1386.4 304.34,1386.4 304.352,1386.4 304.365,1386.4 304.377,1386.4 304.389,1386.4 304.401,1386.4 304.413,1386.4 304.425,1386.4 304.437,1386.4 304.449,1386.4 304.461,1386.4 304.473,1386.4 304.485,1386.4 304.498,1386.4 304.51,1386.4 304.522,1386.4 304.534,1386.4 304.546,1386.4 304.558,1386.4 304.57,1386.4 304.582,1386.4 304.594,1386.4 304.606,1386.4 304.618,1386.4 304.63,1386.4 304.643,1386.4 304.655,1386.4 304.667,1386.4 304.679,1386.4 304.691,1386.4 304.703,1386.4 304.715,1386.4 304.727,1386.4 304.739,1386.4 304.751,1386.4 304.763,1386.4 304.775,1386.4 304.788,1386.4 304.8,1386.4 304.812,1386.4 304.824,1386.4 304.836,1386.4 304.848,1386.4 304.86,1386.4 304.872,1386.4 304.884,1386.4 304.896,1386.4 304.908,1386.4 304.921,1386.4 304.933,1386.4 304.945,1386.4 304.957,1386.4 304.969,1386.4 304.981,1386.4 304.993,1386.4 305.005,1386.4 305.017,1386.4 305.029,1386.4 305.041,1386.4 305.053,1386.4 305.066,1386.4 305.078,1386.4 305.09,1386.4 \"/>\n",
       "<polyline clip-path=\"url(#clip562)\" style=\"stroke:#e26f46; stroke-linecap:round; stroke-linejoin:round; stroke-width:4; stroke-opacity:1; fill:none\" points=\"401.171,1386.4 401.877,1386.4 402.583,1386.4 409.109,1386.4 415.636,1386.4 419.558,1386.39 423.48,1386.39 426.796,1386.39 430.112,1386.39 431.913,1386.39 433.714,1386.39 435.515,1386.39 437.316,1386.39 438.977,1386.39 440.637,1386.39 442.298,1386.39 443.958,1386.39 445.738,1386.39 447.519,1386.38 449.299,1386.38 451.079,1386.38 453.142,1386.38 455.204,1386.38 457.267,1386.37 459.329,1386.37 461.162,1386.37 462.995,1386.36 464.828,1386.36 466.661,1386.36 468.268,1386.35 469.875,1386.35 471.483,1386.35 473.09,1386.34 476.595,1386.34 480.1,1386.33 483.625,1386.32 487.151,1386.31 488.125,1386.31 489.1,1386.31 490.074,1386.31 491.049,1386.3 492.023,1386.3 492.998,1386.3 493.972,1386.3 494.947,1386.3 495.874,1386.29 496.801,1386.29 497.729,1386.29 498.656,1386.29 499.583,1386.29 500.51,1386.29 501.437,1386.29 502.365,1386.29 503.329,1386.29 504.293,1386.28 505.257,1386.28 506.221,1386.28 507.185,1386.28 508.149,1386.28 509.113,1386.28 510.077,1386.28 510.889,1386.28 511.701,1386.28 512.512,1386.28 513.324,1386.28 514.135,1386.28 514.947,1386.28 515.758,1386.29 516.57,1386.29 517.561,1386.29 518.552,1386.29 519.542,1386.29 520.533,1386.29 521.524,1386.29 522.515,1386.29 523.506,1386.29 524.496,1386.3 526.312,1386.3 528.127,1386.3 529.035,1386.31 529.942,1386.31 530.85,1386.31 531.758,1386.31 535.111,1386.32 538.464,1386.33 541.861,1386.33 545.257,1386.34 547.161,1386.35 549.064,1386.35 550.967,1386.35 552.871,1386.36 554.596,1386.36 556.32,1386.36 558.045,1386.37 559.77,1386.37 561.744,1386.37 563.719,1386.38 565.694,1386.38 567.669,1386.38 569.497,1386.38 571.325,1386.38 573.154,1386.39 574.982,1386.39 576.785,1386.39 578.587,1386.39 580.39,1386.39 582.193,1386.39 583.943,1386.39 585.693,1386.39 587.443,1386.39 589.193,1386.39 592.782,1386.39 596.37,1386.39 600.301,1386.39 604.233,1386.4 609.944,1386.4 615.655,1386.4 616.826,1386.4 617.998,1386.4 \"/>\n",
       "<polyline clip-path=\"url(#clip562)\" style=\"stroke:#3da44d; stroke-linecap:round; stroke-linejoin:round; stroke-width:4; stroke-opacity:1; fill:none\" points=\"292.4,1386.4 293.482,1386.4 294.564,1386.39 295.647,1386.39 296.729,1386.39 306.737,1386.39 316.745,1386.39 321.749,1386.39 326.752,1386.38 331.756,1386.38 336.76,1386.38 339.767,1386.38 342.775,1386.38 345.782,1386.38 348.789,1386.38 354.803,1386.38 360.817,1386.37 365.902,1386.37 370.987,1386.37 376.072,1386.37 381.157,1386.37 383.919,1386.37 386.681,1386.37 389.443,1386.37 392.205,1386.37 394.967,1386.37 397.728,1386.37 400.49,1386.37 403.252,1386.37 408.344,1386.37 413.437,1386.37 418.529,1386.36 423.622,1386.36 426.351,1386.36 429.081,1386.36 431.811,1386.36 434.541,1386.36 437.271,1386.36 440,1386.36 442.73,1386.36 445.46,1386.36 448.623,1386.36 451.785,1386.36 454.948,1386.36 458.111,1386.36 461.274,1386.36 464.436,1386.36 467.599,1386.36 470.762,1386.36 476.383,1386.36 482.004,1386.36 487.626,1386.37 493.247,1386.37 498.176,1386.37 503.106,1386.37 508.035,1386.37 512.964,1386.37 518.339,1386.37 523.713,1386.37 529.088,1386.37 534.462,1386.37 545.274,1386.37 556.087,1386.37 568.042,1386.38 579.996,1386.38 591.371,1386.38 602.746,1386.38 608.659,1386.38 614.573,1386.38 620.486,1386.38 626.399,1386.38 631.377,1386.39 636.355,1386.39 641.333,1386.39 646.311,1386.39 652.388,1386.39 658.466,1386.39 664.543,1386.39 670.621,1386.39 676.188,1386.39 681.755,1386.39 687.323,1386.39 692.89,1386.39 703.174,1386.39 713.457,1386.39 723.874,1386.39 734.291,1386.39 745.966,1386.39 757.641,1386.39 768.22,1386.39 778.799,1386.39 790.911,1386.39 803.023,1386.39 814.238,1386.4 825.453,1386.4 847.566,1386.4 869.036,1386.4 891.046,1386.4 915.16,1386.4 950.189,1386.4 957.376,1386.4 \"/>\n",
       "<polyline clip-path=\"url(#clip562)\" style=\"stroke:#c271d2; stroke-linecap:round; stroke-linejoin:round; stroke-width:4; stroke-opacity:1; fill:none\" points=\"292.4,160.256 292.4,178.5 292.4,196.473 292.4,214.178 292.4,231.62 292.4,270.952 292.401,308.944 292.401,345.642 292.401,381.09 292.401,415.33 292.402,448.405 292.402,480.353 292.402,511.213 292.402,541.021 292.402,569.815 292.403,597.628 292.403,624.493 292.403,650.443 292.403,675.51 292.404,699.723 292.404,723.111 292.404,750.17 292.404,776.125 292.405,801.021 292.405,824.901 292.405,847.808 292.406,869.779 292.406,890.855 292.406,911.071 292.407,943.396 292.407,973.523 292.408,1001.6 292.408,1027.77 292.409,1054.18 292.409,1078.65 292.41,1101.32 292.41,1122.32 292.411,1140.3 292.411,1157.06 292.411,1172.68 292.412,1187.23 292.412,1201.74 292.413,1215.19 292.413,1227.66 292.414,1239.22 292.415,1251.56 292.415,1262.87 292.416,1273.23 292.416,1282.73 292.417,1297.68 292.418,1310.47 292.419,1320.16 292.42,1328.61 292.421,1336.61 292.422,1343.49 292.423,1349.46 292.424,1354.6 292.427,1363.56 292.429,1369.73 292.431,1374.39 292.433,1377.28 292.435,1379.89 292.437,1381.61 292.439,1382.8 292.441,1383.7 292.443,1384.45 292.445,1384.94 292.447,1385.36 292.449,1385.63 292.451,1385.83 292.453,1385.98 292.455,1386.09 292.458,1386.18 292.461,1386.26 292.462,1386.27 \"/>\n",
       "<polyline clip-path=\"url(#clip562)\" style=\"stroke:#ac8d18; stroke-linecap:round; stroke-linejoin:round; stroke-width:4; stroke-opacity:1; fill:none\" points=\"292.4,1386.36 295.656,1386.36 298.911,1386.36 302.167,1386.36 305.423,1386.36 312.949,1386.36 320.476,1386.36 328.002,1386.36 335.528,1386.36 343.054,1386.37 350.58,1386.37 358.107,1386.37 365.633,1386.37 373.159,1386.37 380.685,1386.37 388.212,1386.37 395.738,1386.37 403.264,1386.37 410.79,1386.37 418.316,1386.37 425.843,1386.38 434.889,1386.38 443.934,1386.38 452.98,1386.38 462.026,1386.38 471.072,1386.38 480.118,1386.38 489.164,1386.38 498.21,1386.38 513.506,1386.38 528.803,1386.38 544.099,1386.38 559.395,1386.38 576.012,1386.39 592.628,1386.39 609.244,1386.39 625.86,1386.39 641.179,1386.39 656.497,1386.39 671.816,1386.39 687.135,1386.39 703.558,1386.39 719.981,1386.39 736.404,1386.39 752.827,1386.39 771.855,1386.39 790.883,1386.39 809.911,1386.39 828.939,1386.39 862.758,1386.39 896.578,1386.39 926.234,1386.39 955.891,1386.39 988.225,1386.39 1020.56,1386.39 1053.08,1386.39 1085.61,1386.39 1157.53,1386.39 1225.97,1386.4 1297.12,1386.4 1357.02,1386.4 1430.14,1386.4 1497.13,1386.4 1559,1386.4 1621.67,1386.4 1691.91,1386.4 1755.56,1386.4 1828.43,1386.4 1895.9,1386.4 1962.42,1386.4 2027.01,1386.4 2093.22,1386.4 2165.75,1386.4 2271.13,1386.4 2292.75,1386.4 \"/>\n",
       "<polyline clip-path=\"url(#clip562)\" style=\"stroke:#00a9ad; stroke-linecap:round; stroke-linejoin:round; stroke-width:4; stroke-opacity:1; fill:none\" points=\"292.4,1386.4 293.439,1386.39 294.478,1386.39 295.517,1386.39 296.556,1386.39 297.595,1386.39 298.633,1386.39 299.153,1386.39 299.672,1386.39 300.192,1386.39 300.711,1386.39 303.113,1386.39 305.515,1386.39 307.916,1386.39 310.318,1386.39 312.72,1386.38 315.121,1386.38 317.523,1386.38 319.925,1386.38 322.327,1386.38 324.728,1386.38 327.13,1386.38 329.532,1386.38 331.933,1386.38 334.335,1386.38 336.737,1386.38 339.138,1386.37 341.54,1386.37 343.942,1386.37 346.343,1386.37 348.745,1386.37 351.147,1386.37 353.548,1386.37 355.95,1386.37 358.352,1386.37 360.753,1386.37 363.155,1386.37 365.557,1386.37 367.958,1386.37 370.36,1386.37 372.762,1386.37 375.163,1386.37 377.565,1386.37 380.452,1386.37 383.338,1386.37 386.225,1386.37 389.112,1386.37 391.998,1386.37 394.885,1386.37 397.771,1386.37 400.658,1386.37 403.545,1386.37 406.431,1386.37 409.318,1386.37 412.205,1386.37 417.978,1386.37 423.751,1386.37 428.632,1386.37 433.513,1386.37 438.395,1386.37 443.276,1386.37 448.157,1386.37 453.038,1386.37 457.919,1386.37 462.801,1386.37 473.405,1386.37 484.01,1386.37 494.615,1386.37 505.219,1386.37 524.773,1386.38 544.326,1386.38 554.807,1386.38 565.289,1386.38 575.77,1386.38 586.252,1386.38 598.396,1386.38 610.54,1386.38 622.684,1386.38 634.827,1386.39 645.62,1386.39 656.412,1386.39 667.204,1386.39 677.996,1386.39 687.459,1386.39 696.923,1386.39 706.387,1386.39 715.85,1386.39 726.168,1386.39 736.486,1386.39 746.804,1386.39 757.122,1386.39 767.501,1386.39 777.881,1386.39 788.26,1386.39 798.639,1386.39 810.115,1386.39 821.59,1386.39 833.066,1386.39 844.541,1386.39 866.379,1386.39 888.216,1386.39 910.922,1386.39 933.628,1386.39 952.742,1386.39 971.855,1386.39 1018.53,1386.4 1061.28,1386.4 1100.77,1386.4 1140.76,1386.4 1185.59,1386.4 1226.21,1386.4 1272.72,1386.4 1315.78,1386.4 1358.23,1386.4 1399.45,1386.4 1441.71,1386.4 1488,1386.4 1555.26,1386.4 1569.05,1386.4 \"/>\n",
       "<polyline clip-path=\"url(#clip562)\" style=\"stroke:#ed5d92; stroke-linecap:round; stroke-linejoin:round; stroke-width:4; stroke-opacity:1; fill:none\" points=\"475.869,1386.4 476.63,1386.39 477.39,1386.38 478.15,1386.37 478.91,1386.37 479.671,1386.36 480.431,1386.35 481.191,1386.34 481.951,1386.34 482.712,1386.33 483.472,1386.32 484.232,1386.32 484.992,1386.31 485.753,1386.31 486.513,1386.3 487.273,1386.29 488.033,1386.29 488.794,1386.28 489.554,1386.28 490.314,1386.27 491.075,1386.27 491.835,1386.26 492.595,1386.26 493.355,1386.25 494.116,1386.25 494.876,1386.25 495.636,1386.24 496.396,1386.24 497.157,1386.24 497.917,1386.23 498.677,1386.23 499.437,1386.23 500.198,1386.23 500.958,1386.23 501.718,1386.23 502.478,1386.23 503.239,1386.22 503.999,1386.22 504.759,1386.22 505.519,1386.22 506.28,1386.22 507.04,1386.22 507.8,1386.23 508.56,1386.23 509.321,1386.23 510.081,1386.23 510.841,1386.23 511.602,1386.23 512.362,1386.23 513.122,1386.24 513.882,1386.24 514.643,1386.24 515.403,1386.24 516.163,1386.25 516.923,1386.25 517.684,1386.25 518.444,1386.25 519.204,1386.26 519.964,1386.26 520.725,1386.26 521.485,1386.27 522.245,1386.27 523.005,1386.27 523.766,1386.28 524.526,1386.28 525.286,1386.28 526.046,1386.28 526.807,1386.29 527.567,1386.29 528.327,1386.29 529.087,1386.3 529.848,1386.3 530.608,1386.3 531.368,1386.31 532.128,1386.31 532.889,1386.31 533.649,1386.32 534.409,1386.32 535.17,1386.32 535.93,1386.33 536.69,1386.33 537.45,1386.33 538.211,1386.33 538.971,1386.34 539.731,1386.34 540.491,1386.34 541.252,1386.34 542.012,1386.35 542.772,1386.35 543.532,1386.35 544.293,1386.35 545.053,1386.36 545.813,1386.36 546.573,1386.36 547.334,1386.36 548.094,1386.36 548.854,1386.36 549.614,1386.37 550.375,1386.37 551.135,1386.37 551.895,1386.37 552.655,1386.37 553.416,1386.37 554.176,1386.38 554.936,1386.38 555.696,1386.38 556.457,1386.38 557.217,1386.38 557.977,1386.38 558.738,1386.38 559.498,1386.38 560.258,1386.38 561.018,1386.38 561.779,1386.38 562.539,1386.39 563.299,1386.39 564.059,1386.39 564.82,1386.39 565.58,1386.39 566.34,1386.39 567.1,1386.39 567.861,1386.39 568.621,1386.39 569.381,1386.39 570.141,1386.39 570.902,1386.39 571.662,1386.39 572.422,1386.39 573.182,1386.39 573.943,1386.39 574.703,1386.39 575.463,1386.39 576.223,1386.39 576.984,1386.39 577.744,1386.39 578.504,1386.39 579.264,1386.39 580.025,1386.39 580.785,1386.39 581.545,1386.39 582.306,1386.39 583.066,1386.39 583.826,1386.39 584.586,1386.39 585.347,1386.39 586.107,1386.39 586.867,1386.39 587.627,1386.39 588.388,1386.4 589.148,1386.4 589.908,1386.4 590.668,1386.4 591.429,1386.4 592.189,1386.4 592.949,1386.4 593.709,1386.4 594.47,1386.4 595.23,1386.4 595.99,1386.4 596.75,1386.4 597.511,1386.4 598.271,1386.4 599.031,1386.4 599.791,1386.4 600.552,1386.4 601.312,1386.4 602.072,1386.4 602.833,1386.4 603.593,1386.4 604.353,1386.4 605.113,1386.4 605.874,1386.4 606.634,1386.4 607.394,1386.4 608.154,1386.4 608.915,1386.4 609.675,1386.4 610.435,1386.4 611.195,1386.4 611.956,1386.4 612.716,1386.4 613.476,1386.4 614.236,1386.4 614.997,1386.4 615.757,1386.4 616.517,1386.4 617.277,1386.4 618.038,1386.4 618.798,1386.4 619.558,1386.4 620.318,1386.4 621.079,1386.4 621.839,1386.4 622.599,1386.4 623.359,1386.4 624.12,1386.4 624.88,1386.4 625.64,1386.4 626.401,1386.4 627.161,1386.4 \"/>\n",
       "<path clip-path=\"url(#clip560)\" d=\"M1575.41 581.516 L2282.08 581.516 L2282.08 166.796 L1575.41 166.796  Z\" fill=\"#ffffff\" fill-rule=\"evenodd\" fill-opacity=\"1\"/>\n",
       "<polyline clip-path=\"url(#clip560)\" style=\"stroke:#000000; stroke-linecap:round; stroke-linejoin:round; stroke-width:4; stroke-opacity:1; fill:none\" points=\"1575.41,581.516 2282.08,581.516 2282.08,166.796 1575.41,166.796 1575.41,581.516 \"/>\n",
       "<polyline clip-path=\"url(#clip560)\" style=\"stroke:#009af9; stroke-linecap:round; stroke-linejoin:round; stroke-width:4; stroke-opacity:1; fill:none\" points=\"1598.97,218.636 1740.33,218.636 \"/>\n",
       "<path clip-path=\"url(#clip560)\" d=\"M1786.14 202.49 L1786.14 207.05 Q1783.47 205.777 1781.11 205.152 Q1778.75 204.527 1776.55 204.527 Q1772.73 204.527 1770.65 206.008 Q1768.59 207.49 1768.59 210.221 Q1768.59 212.513 1769.96 213.694 Q1771.34 214.851 1775.19 215.569 L1778.01 216.147 Q1783.24 217.143 1785.72 219.666 Q1788.22 222.166 1788.22 226.379 Q1788.22 231.402 1784.84 233.994 Q1781.48 236.587 1774.98 236.587 Q1772.52 236.587 1769.75 236.031 Q1766.99 235.476 1764.03 234.388 L1764.03 229.573 Q1766.88 231.17 1769.61 231.981 Q1772.34 232.791 1774.98 232.791 Q1778.98 232.791 1781.16 231.217 Q1783.33 229.643 1783.33 226.726 Q1783.33 224.18 1781.76 222.744 Q1780.21 221.309 1776.64 220.592 L1773.8 220.036 Q1768.57 218.995 1766.23 216.772 Q1763.89 214.55 1763.89 210.592 Q1763.89 206.008 1767.11 203.37 Q1770.35 200.731 1776.02 200.731 Q1778.45 200.731 1780.97 201.171 Q1783.5 201.61 1786.14 202.49 Z\" fill=\"#000000\" fill-rule=\"nonzero\" fill-opacity=\"1\" /><path clip-path=\"url(#clip560)\" d=\"M1816.88 220.268 L1816.88 235.916 L1812.62 235.916 L1812.62 220.407 Q1812.62 216.726 1811.18 214.897 Q1809.75 213.069 1806.88 213.069 Q1803.43 213.069 1801.44 215.268 Q1799.45 217.467 1799.45 221.263 L1799.45 235.916 L1795.16 235.916 L1795.16 199.897 L1799.45 199.897 L1799.45 214.018 Q1800.97 211.68 1803.03 210.522 Q1805.12 209.365 1807.83 209.365 Q1812.29 209.365 1814.58 212.143 Q1816.88 214.897 1816.88 220.268 Z\" fill=\"#000000\" fill-rule=\"nonzero\" fill-opacity=\"1\" /><path clip-path=\"url(#clip560)\" d=\"M1825.37 209.99 L1829.63 209.99 L1829.63 235.916 L1825.37 235.916 L1825.37 209.99 M1825.37 199.897 L1829.63 199.897 L1829.63 205.291 L1825.37 205.291 L1825.37 199.897 Z\" fill=\"#000000\" fill-rule=\"nonzero\" fill-opacity=\"1\" /><path clip-path=\"url(#clip560)\" d=\"M1851.67 199.897 L1851.67 203.439 L1847.59 203.439 Q1845.3 203.439 1844.4 204.365 Q1843.52 205.291 1843.52 207.698 L1843.52 209.99 L1850.53 209.99 L1850.53 213.3 L1843.52 213.3 L1843.52 235.916 L1839.24 235.916 L1839.24 213.3 L1835.16 213.3 L1835.16 209.99 L1839.24 209.99 L1839.24 208.184 Q1839.24 203.856 1841.25 201.888 Q1843.26 199.897 1847.64 199.897 L1851.67 199.897 Z\" fill=\"#000000\" fill-rule=\"nonzero\" fill-opacity=\"1\" /><path clip-path=\"url(#clip560)\" d=\"M1858.61 202.629 L1858.61 209.99 L1867.39 209.99 L1867.39 213.3 L1858.61 213.3 L1858.61 227.374 Q1858.61 230.545 1859.47 231.448 Q1860.35 232.351 1863.01 232.351 L1867.39 232.351 L1867.39 235.916 L1863.01 235.916 Q1858.08 235.916 1856.2 234.087 Q1854.33 232.235 1854.33 227.374 L1854.33 213.3 L1851.2 213.3 L1851.2 209.99 L1854.33 209.99 L1854.33 202.629 L1858.61 202.629 Z\" fill=\"#000000\" fill-rule=\"nonzero\" fill-opacity=\"1\" /><path clip-path=\"url(#clip560)\" d=\"M1895.16 221.888 L1895.16 223.971 L1875.58 223.971 Q1875.86 228.369 1878.22 230.684 Q1880.6 232.976 1884.84 232.976 Q1887.29 232.976 1889.58 232.374 Q1891.9 231.772 1894.17 230.569 L1894.17 234.596 Q1891.88 235.568 1889.47 236.078 Q1887.06 236.587 1884.58 236.587 Q1878.38 236.587 1874.75 232.976 Q1871.14 229.365 1871.14 223.207 Q1871.14 216.842 1874.56 213.115 Q1878.01 209.365 1883.84 209.365 Q1889.07 209.365 1892.11 212.745 Q1895.16 216.101 1895.16 221.888 M1890.9 220.638 Q1890.86 217.143 1888.94 215.059 Q1887.04 212.976 1883.89 212.976 Q1880.32 212.976 1878.17 214.99 Q1876.04 217.004 1875.72 220.661 L1890.9 220.638 Z\" fill=\"#000000\" fill-rule=\"nonzero\" fill-opacity=\"1\" /><path clip-path=\"url(#clip560)\" d=\"M1919.21 213.925 L1919.21 199.897 L1923.47 199.897 L1923.47 235.916 L1919.21 235.916 L1919.21 232.027 Q1917.87 234.342 1915.81 235.476 Q1913.77 236.587 1910.9 236.587 Q1906.2 236.587 1903.24 232.837 Q1900.3 229.087 1900.3 222.976 Q1900.3 216.865 1903.24 213.115 Q1906.2 209.365 1910.9 209.365 Q1913.77 209.365 1915.81 210.499 Q1917.87 211.61 1919.21 213.925 M1904.7 222.976 Q1904.7 227.675 1906.62 230.36 Q1908.57 233.022 1911.95 233.022 Q1915.32 233.022 1917.27 230.36 Q1919.21 227.675 1919.21 222.976 Q1919.21 218.277 1917.27 215.615 Q1915.32 212.93 1911.95 212.93 Q1908.57 212.93 1906.62 215.615 Q1904.7 218.277 1904.7 222.976 Z\" fill=\"#000000\" fill-rule=\"nonzero\" fill-opacity=\"1\" /><path clip-path=\"url(#clip560)\" d=\"M1963.89 219.712 Q1965.39 220.221 1966.81 221.888 Q1968.24 223.555 1969.68 226.471 L1974.42 235.916 L1969.4 235.916 L1964.98 227.05 Q1963.26 223.578 1961.64 222.444 Q1960.05 221.309 1957.27 221.309 L1952.18 221.309 L1952.18 235.916 L1947.5 235.916 L1947.5 201.356 L1958.06 201.356 Q1963.98 201.356 1966.9 203.833 Q1969.82 206.309 1969.82 211.309 Q1969.82 214.573 1968.29 216.726 Q1966.78 218.879 1963.89 219.712 M1952.18 205.198 L1952.18 217.467 L1958.06 217.467 Q1961.44 217.467 1963.15 215.916 Q1964.88 214.342 1964.88 211.309 Q1964.88 208.277 1963.15 206.749 Q1961.44 205.198 1958.06 205.198 L1952.18 205.198 Z\" fill=\"#000000\" fill-rule=\"nonzero\" fill-opacity=\"1\" /><path clip-path=\"url(#clip560)\" d=\"M1991 222.883 Q1985.83 222.883 1983.84 224.064 Q1981.85 225.244 1981.85 228.092 Q1981.85 230.36 1983.33 231.703 Q1984.84 233.022 1987.41 233.022 Q1990.95 233.022 1993.08 230.522 Q1995.23 227.999 1995.23 223.832 L1995.23 222.883 L1991 222.883 M1999.49 221.124 L1999.49 235.916 L1995.23 235.916 L1995.23 231.981 Q1993.77 234.342 1991.6 235.476 Q1989.42 236.587 1986.27 236.587 Q1982.29 236.587 1979.93 234.365 Q1977.59 232.119 1977.59 228.369 Q1977.59 223.994 1980.51 221.772 Q1983.45 219.55 1989.26 219.55 L1995.23 219.55 L1995.23 219.133 Q1995.23 216.194 1993.29 214.596 Q1991.37 212.976 1987.87 212.976 Q1985.65 212.976 1983.54 213.508 Q1981.44 214.041 1979.49 215.106 L1979.49 211.17 Q1981.83 210.268 1984.03 209.828 Q1986.23 209.365 1988.31 209.365 Q1993.94 209.365 1996.71 212.282 Q1999.49 215.198 1999.49 221.124 Z\" fill=\"#000000\" fill-rule=\"nonzero\" fill-opacity=\"1\" /><path clip-path=\"url(#clip560)\" d=\"M2019.05 238.323 Q2017.25 242.953 2015.53 244.365 Q2013.82 245.777 2010.95 245.777 L2007.55 245.777 L2007.55 242.212 L2010.05 242.212 Q2011.81 242.212 2012.78 241.379 Q2013.75 240.545 2014.93 237.443 L2015.69 235.499 L2005.21 209.99 L2009.72 209.99 L2017.82 230.268 L2025.93 209.99 L2030.44 209.99 L2019.05 238.323 Z\" fill=\"#000000\" fill-rule=\"nonzero\" fill-opacity=\"1\" /><path clip-path=\"url(#clip560)\" d=\"M2036.32 199.897 L2040.58 199.897 L2040.58 235.916 L2036.32 235.916 L2036.32 199.897 Z\" fill=\"#000000\" fill-rule=\"nonzero\" fill-opacity=\"1\" /><path clip-path=\"url(#clip560)\" d=\"M2071.67 221.888 L2071.67 223.971 L2052.08 223.971 Q2052.36 228.369 2054.72 230.684 Q2057.11 232.976 2061.34 232.976 Q2063.8 232.976 2066.09 232.374 Q2068.4 231.772 2070.67 230.569 L2070.67 234.596 Q2068.38 235.568 2065.97 236.078 Q2063.56 236.587 2061.09 236.587 Q2054.88 236.587 2051.25 232.976 Q2047.64 229.365 2047.64 223.207 Q2047.64 216.842 2051.06 213.115 Q2054.51 209.365 2060.35 209.365 Q2065.58 209.365 2068.61 212.745 Q2071.67 216.101 2071.67 221.888 M2067.41 220.638 Q2067.36 217.143 2065.44 215.059 Q2063.54 212.976 2060.39 212.976 Q2056.83 212.976 2054.68 214.99 Q2052.55 217.004 2052.22 220.661 L2067.41 220.638 Z\" fill=\"#000000\" fill-rule=\"nonzero\" fill-opacity=\"1\" /><path clip-path=\"url(#clip560)\" d=\"M2078.66 209.99 L2082.92 209.99 L2082.92 235.916 L2078.66 235.916 L2078.66 209.99 M2078.66 199.897 L2082.92 199.897 L2082.92 205.291 L2078.66 205.291 L2078.66 199.897 Z\" fill=\"#000000\" fill-rule=\"nonzero\" fill-opacity=\"1\" /><path clip-path=\"url(#clip560)\" d=\"M2108.89 222.652 Q2108.89 218.022 2106.97 215.476 Q2105.07 212.93 2101.62 212.93 Q2098.19 212.93 2096.27 215.476 Q2094.37 218.022 2094.37 222.652 Q2094.37 227.258 2096.27 229.805 Q2098.19 232.351 2101.62 232.351 Q2105.07 232.351 2106.97 229.805 Q2108.89 227.258 2108.89 222.652 M2113.15 232.698 Q2113.15 239.318 2110.21 242.536 Q2107.27 245.777 2101.2 245.777 Q2098.96 245.777 2096.97 245.43 Q2094.98 245.105 2093.1 244.411 L2093.1 240.268 Q2094.98 241.286 2096.81 241.772 Q2098.63 242.258 2100.53 242.258 Q2104.72 242.258 2106.81 240.059 Q2108.89 237.883 2108.89 233.462 L2108.89 231.356 Q2107.57 233.647 2105.51 234.781 Q2103.45 235.916 2100.58 235.916 Q2095.81 235.916 2092.89 232.281 Q2089.98 228.647 2089.98 222.652 Q2089.98 216.633 2092.89 212.999 Q2095.81 209.365 2100.58 209.365 Q2103.45 209.365 2105.51 210.499 Q2107.57 211.633 2108.89 213.925 L2108.89 209.99 L2113.15 209.99 L2113.15 232.698 Z\" fill=\"#000000\" fill-rule=\"nonzero\" fill-opacity=\"1\" /><path clip-path=\"url(#clip560)\" d=\"M2143.47 220.268 L2143.47 235.916 L2139.21 235.916 L2139.21 220.407 Q2139.21 216.726 2137.78 214.897 Q2136.34 213.069 2133.47 213.069 Q2130.02 213.069 2128.03 215.268 Q2126.04 217.467 2126.04 221.263 L2126.04 235.916 L2121.76 235.916 L2121.76 199.897 L2126.04 199.897 L2126.04 214.018 Q2127.57 211.68 2129.63 210.522 Q2131.71 209.365 2134.42 209.365 Q2138.89 209.365 2141.18 212.143 Q2143.47 214.897 2143.47 220.268 Z\" fill=\"#000000\" fill-rule=\"nonzero\" fill-opacity=\"1\" /><path clip-path=\"url(#clip560)\" d=\"M2171.9 205.198 L2171.9 218.184 L2177.78 218.184 Q2181.04 218.184 2182.82 216.495 Q2184.61 214.805 2184.61 211.68 Q2184.61 208.578 2182.82 206.888 Q2181.04 205.198 2177.78 205.198 L2171.9 205.198 M2167.22 201.356 L2177.78 201.356 Q2183.59 201.356 2186.55 203.995 Q2189.54 206.61 2189.54 211.68 Q2189.54 216.795 2186.55 219.411 Q2183.59 222.027 2177.78 222.027 L2171.9 222.027 L2171.9 235.916 L2167.22 235.916 L2167.22 201.356 Z\" fill=\"#000000\" fill-rule=\"nonzero\" fill-opacity=\"1\" /><path clip-path=\"url(#clip560)\" d=\"M2200.49 205.198 L2200.49 232.073 L2206.13 232.073 Q2213.29 232.073 2216.6 228.832 Q2219.93 225.592 2219.93 218.601 Q2219.93 211.657 2216.6 208.439 Q2213.29 205.198 2206.13 205.198 L2200.49 205.198 M2195.81 201.356 L2205.42 201.356 Q2215.46 201.356 2220.16 205.546 Q2224.86 209.712 2224.86 218.601 Q2224.86 227.536 2220.14 231.726 Q2215.42 235.916 2205.42 235.916 L2195.81 235.916 L2195.81 201.356 Z\" fill=\"#000000\" fill-rule=\"nonzero\" fill-opacity=\"1\" /><path clip-path=\"url(#clip560)\" d=\"M2232.31 201.356 L2252.17 201.356 L2252.17 205.291 L2236.99 205.291 L2236.99 215.476 L2250.69 215.476 L2250.69 219.411 L2236.99 219.411 L2236.99 235.916 L2232.31 235.916 L2232.31 201.356 Z\" fill=\"#000000\" fill-rule=\"nonzero\" fill-opacity=\"1\" /><polyline clip-path=\"url(#clip560)\" style=\"stroke:#e26f46; stroke-linecap:round; stroke-linejoin:round; stroke-width:4; stroke-opacity:1; fill:none\" points=\"1598.97,270.476 1740.33,270.476 \"/>\n",
       "<path clip-path=\"url(#clip560)\" d=\"M1789.45 282.825 L1789.45 273.543 L1781.81 273.543 L1781.81 269.7 L1794.08 269.7 L1794.08 284.538 Q1791.37 286.459 1788.1 287.455 Q1784.84 288.427 1781.14 288.427 Q1773.03 288.427 1768.45 283.705 Q1763.89 278.959 1763.89 270.51 Q1763.89 262.038 1768.45 257.316 Q1773.03 252.571 1781.14 252.571 Q1784.52 252.571 1787.55 253.404 Q1790.6 254.237 1793.17 255.858 L1793.17 260.835 Q1790.58 258.636 1787.66 257.524 Q1784.75 256.413 1781.53 256.413 Q1775.19 256.413 1771.99 259.955 Q1768.82 263.497 1768.82 270.51 Q1768.82 277.501 1771.99 281.043 Q1775.19 284.584 1781.53 284.584 Q1784.01 284.584 1785.95 284.168 Q1787.89 283.728 1789.45 282.825 Z\" fill=\"#000000\" fill-rule=\"nonzero\" fill-opacity=\"1\" /><path clip-path=\"url(#clip560)\" d=\"M1814.21 274.723 Q1809.05 274.723 1807.06 275.904 Q1805.07 277.084 1805.07 279.932 Q1805.07 282.2 1806.55 283.543 Q1808.06 284.862 1810.63 284.862 Q1814.17 284.862 1816.3 282.362 Q1818.45 279.839 1818.45 275.672 L1818.45 274.723 L1814.21 274.723 M1822.71 272.964 L1822.71 287.756 L1818.45 287.756 L1818.45 283.821 Q1816.99 286.182 1814.82 287.316 Q1812.64 288.427 1809.49 288.427 Q1805.51 288.427 1803.15 286.205 Q1800.81 283.959 1800.81 280.209 Q1800.81 275.834 1803.73 273.612 Q1806.67 271.39 1812.48 271.39 L1818.45 271.39 L1818.45 270.973 Q1818.45 268.034 1816.51 266.436 Q1814.58 264.816 1811.09 264.816 Q1808.87 264.816 1806.76 265.348 Q1804.65 265.881 1802.71 266.946 L1802.71 263.01 Q1805.05 262.108 1807.25 261.668 Q1809.45 261.205 1811.53 261.205 Q1817.15 261.205 1819.93 264.122 Q1822.71 267.038 1822.71 272.964 Z\" fill=\"#000000\" fill-rule=\"nonzero\" fill-opacity=\"1\" /><path clip-path=\"url(#clip560)\" d=\"M1831.04 277.524 L1831.04 261.83 L1835.3 261.83 L1835.3 277.362 Q1835.3 281.043 1836.74 282.895 Q1838.17 284.723 1841.04 284.723 Q1844.49 284.723 1846.48 282.524 Q1848.5 280.325 1848.5 276.529 L1848.5 261.83 L1852.76 261.83 L1852.76 287.756 L1848.5 287.756 L1848.5 283.774 Q1846.95 286.135 1844.89 287.293 Q1842.85 288.427 1840.14 288.427 Q1835.67 288.427 1833.36 285.649 Q1831.04 282.871 1831.04 277.524 M1841.76 261.205 L1841.76 261.205 Z\" fill=\"#000000\" fill-rule=\"nonzero\" fill-opacity=\"1\" /><path clip-path=\"url(#clip560)\" d=\"M1878.06 262.594 L1878.06 266.622 Q1876.25 265.696 1874.31 265.233 Q1872.36 264.77 1870.28 264.77 Q1867.11 264.77 1865.51 265.742 Q1863.94 266.714 1863.94 268.659 Q1863.94 270.14 1865.07 270.997 Q1866.2 271.83 1869.63 272.594 L1871.09 272.918 Q1875.63 273.89 1877.52 275.672 Q1879.45 277.432 1879.45 280.603 Q1879.45 284.214 1876.57 286.321 Q1873.73 288.427 1868.73 288.427 Q1866.64 288.427 1864.38 288.01 Q1862.13 287.617 1859.63 286.807 L1859.63 282.409 Q1861.99 283.635 1864.28 284.26 Q1866.58 284.862 1868.82 284.862 Q1871.83 284.862 1873.45 283.844 Q1875.07 282.802 1875.07 280.927 Q1875.07 279.191 1873.89 278.265 Q1872.73 277.339 1868.77 276.483 L1867.29 276.135 Q1863.33 275.302 1861.58 273.589 Q1859.82 271.853 1859.82 268.844 Q1859.82 265.186 1862.41 263.196 Q1865 261.205 1869.77 261.205 Q1872.13 261.205 1874.21 261.552 Q1876.3 261.899 1878.06 262.594 Z\" fill=\"#000000\" fill-rule=\"nonzero\" fill-opacity=\"1\" /><path clip-path=\"url(#clip560)\" d=\"M1902.76 262.594 L1902.76 266.622 Q1900.95 265.696 1899.01 265.233 Q1897.06 264.77 1894.98 264.77 Q1891.81 264.77 1890.21 265.742 Q1888.64 266.714 1888.64 268.659 Q1888.64 270.14 1889.77 270.997 Q1890.9 271.83 1894.33 272.594 L1895.79 272.918 Q1900.32 273.89 1902.22 275.672 Q1904.14 277.432 1904.14 280.603 Q1904.14 284.214 1901.27 286.321 Q1898.43 288.427 1893.43 288.427 Q1891.34 288.427 1889.07 288.01 Q1886.83 287.617 1884.33 286.807 L1884.33 282.409 Q1886.69 283.635 1888.98 284.26 Q1891.27 284.862 1893.52 284.862 Q1896.53 284.862 1898.15 283.844 Q1899.77 282.802 1899.77 280.927 Q1899.77 279.191 1898.59 278.265 Q1897.43 277.339 1893.47 276.483 L1891.99 276.135 Q1888.03 275.302 1886.27 273.589 Q1884.51 271.853 1884.51 268.844 Q1884.51 265.186 1887.11 263.196 Q1889.7 261.205 1894.47 261.205 Q1896.83 261.205 1898.91 261.552 Q1901 261.899 1902.76 262.594 Z\" fill=\"#000000\" fill-rule=\"nonzero\" fill-opacity=\"1\" /><path clip-path=\"url(#clip560)\" d=\"M1910.93 261.83 L1915.19 261.83 L1915.19 287.756 L1910.93 287.756 L1910.93 261.83 M1910.93 251.737 L1915.19 251.737 L1915.19 257.131 L1910.93 257.131 L1910.93 251.737 Z\" fill=\"#000000\" fill-rule=\"nonzero\" fill-opacity=\"1\" /><path clip-path=\"url(#clip560)\" d=\"M1935.88 274.723 Q1930.72 274.723 1928.73 275.904 Q1926.74 277.084 1926.74 279.932 Q1926.74 282.2 1928.22 283.543 Q1929.72 284.862 1932.29 284.862 Q1935.83 284.862 1937.96 282.362 Q1940.12 279.839 1940.12 275.672 L1940.12 274.723 L1935.88 274.723 M1944.38 272.964 L1944.38 287.756 L1940.12 287.756 L1940.12 283.821 Q1938.66 286.182 1936.48 287.316 Q1934.31 288.427 1931.16 288.427 Q1927.18 288.427 1924.82 286.205 Q1922.48 283.959 1922.48 280.209 Q1922.48 275.834 1925.39 273.612 Q1928.33 271.39 1934.14 271.39 L1940.12 271.39 L1940.12 270.973 Q1940.12 268.034 1938.17 266.436 Q1936.25 264.816 1932.76 264.816 Q1930.53 264.816 1928.43 265.348 Q1926.32 265.881 1924.38 266.946 L1924.38 263.01 Q1926.71 262.108 1928.91 261.668 Q1931.11 261.205 1933.2 261.205 Q1938.82 261.205 1941.6 264.122 Q1944.38 267.038 1944.38 272.964 Z\" fill=\"#000000\" fill-rule=\"nonzero\" fill-opacity=\"1\" /><path clip-path=\"url(#clip560)\" d=\"M1974.7 272.108 L1974.7 287.756 L1970.44 287.756 L1970.44 272.247 Q1970.44 268.566 1969.01 266.737 Q1967.57 264.909 1964.7 264.909 Q1961.25 264.909 1959.26 267.108 Q1957.27 269.307 1957.27 273.103 L1957.27 287.756 L1952.99 287.756 L1952.99 261.83 L1957.27 261.83 L1957.27 265.858 Q1958.8 263.52 1960.86 262.362 Q1962.94 261.205 1965.65 261.205 Q1970.12 261.205 1972.41 263.983 Q1974.7 266.737 1974.7 272.108 Z\" fill=\"#000000\" fill-rule=\"nonzero\" fill-opacity=\"1\" /><polyline clip-path=\"url(#clip560)\" style=\"stroke:#3da44d; stroke-linecap:round; stroke-linejoin:round; stroke-width:4; stroke-opacity:1; fill:none\" points=\"1598.97,322.316 1740.33,322.316 \"/>\n",
       "<path clip-path=\"url(#clip560)\" d=\"M1780.28 323.392 Q1781.78 323.901 1783.2 325.568 Q1784.63 327.235 1786.07 330.151 L1790.81 339.596 L1785.79 339.596 L1781.37 330.73 Q1779.65 327.258 1778.03 326.124 Q1776.44 324.989 1773.66 324.989 L1768.57 324.989 L1768.57 339.596 L1763.89 339.596 L1763.89 305.036 L1774.45 305.036 Q1780.37 305.036 1783.29 307.513 Q1786.21 309.989 1786.21 314.989 Q1786.21 318.253 1784.68 320.406 Q1783.17 322.559 1780.28 323.392 M1768.57 308.878 L1768.57 321.147 L1774.45 321.147 Q1777.83 321.147 1779.54 319.596 Q1781.27 318.022 1781.27 314.989 Q1781.27 311.957 1779.54 310.429 Q1777.83 308.878 1774.45 308.878 L1768.57 308.878 Z\" fill=\"#000000\" fill-rule=\"nonzero\" fill-opacity=\"1\" /><path clip-path=\"url(#clip560)\" d=\"M1807.39 326.563 Q1802.22 326.563 1800.23 327.744 Q1798.24 328.924 1798.24 331.772 Q1798.24 334.04 1799.72 335.383 Q1801.23 336.702 1803.8 336.702 Q1807.34 336.702 1809.47 334.202 Q1811.62 331.679 1811.62 327.512 L1811.62 326.563 L1807.39 326.563 M1815.88 324.804 L1815.88 339.596 L1811.62 339.596 L1811.62 335.661 Q1810.16 338.022 1807.99 339.156 Q1805.81 340.267 1802.66 340.267 Q1798.68 340.267 1796.32 338.045 Q1793.98 335.799 1793.98 332.049 Q1793.98 327.674 1796.9 325.452 Q1799.84 323.23 1805.65 323.23 L1811.62 323.23 L1811.62 322.813 Q1811.62 319.874 1809.68 318.276 Q1807.76 316.656 1804.26 316.656 Q1802.04 316.656 1799.93 317.188 Q1797.83 317.721 1795.88 318.786 L1795.88 314.85 Q1798.22 313.948 1800.42 313.508 Q1802.62 313.045 1804.7 313.045 Q1810.33 313.045 1813.1 315.962 Q1815.88 318.878 1815.88 324.804 Z\" fill=\"#000000\" fill-rule=\"nonzero\" fill-opacity=\"1\" /><path clip-path=\"url(#clip560)\" d=\"M1835.44 342.003 Q1833.64 346.633 1831.92 348.045 Q1830.21 349.457 1827.34 349.457 L1823.94 349.457 L1823.94 345.892 L1826.44 345.892 Q1828.2 345.892 1829.17 345.059 Q1830.14 344.225 1831.32 341.123 L1832.08 339.179 L1821.6 313.67 L1826.11 313.67 L1834.21 333.948 L1842.32 313.67 L1846.83 313.67 L1835.44 342.003 Z\" fill=\"#000000\" fill-rule=\"nonzero\" fill-opacity=\"1\" /><path clip-path=\"url(#clip560)\" d=\"M1852.71 303.577 L1856.97 303.577 L1856.97 339.596 L1852.71 339.596 L1852.71 303.577 Z\" fill=\"#000000\" fill-rule=\"nonzero\" fill-opacity=\"1\" /><path clip-path=\"url(#clip560)\" d=\"M1888.06 325.568 L1888.06 327.651 L1868.47 327.651 Q1868.75 332.049 1871.11 334.364 Q1873.5 336.656 1877.73 336.656 Q1880.19 336.656 1882.48 336.054 Q1884.79 335.452 1887.06 334.249 L1887.06 338.276 Q1884.77 339.248 1882.36 339.758 Q1879.95 340.267 1877.48 340.267 Q1871.27 340.267 1867.64 336.656 Q1864.03 333.045 1864.03 326.887 Q1864.03 320.522 1867.45 316.795 Q1870.9 313.045 1876.74 313.045 Q1881.97 313.045 1885 316.425 Q1888.06 319.781 1888.06 325.568 M1883.8 324.318 Q1883.75 320.823 1881.83 318.739 Q1879.93 316.656 1876.78 316.656 Q1873.22 316.656 1871.07 318.67 Q1868.94 320.684 1868.61 324.341 L1883.8 324.318 Z\" fill=\"#000000\" fill-rule=\"nonzero\" fill-opacity=\"1\" /><path clip-path=\"url(#clip560)\" d=\"M1895.05 313.67 L1899.31 313.67 L1899.31 339.596 L1895.05 339.596 L1895.05 313.67 M1895.05 303.577 L1899.31 303.577 L1899.31 308.971 L1895.05 308.971 L1895.05 303.577 Z\" fill=\"#000000\" fill-rule=\"nonzero\" fill-opacity=\"1\" /><path clip-path=\"url(#clip560)\" d=\"M1925.28 326.332 Q1925.28 321.702 1923.36 319.156 Q1921.46 316.61 1918.01 316.61 Q1914.58 316.61 1912.66 319.156 Q1910.76 321.702 1910.76 326.332 Q1910.76 330.938 1912.66 333.485 Q1914.58 336.031 1918.01 336.031 Q1921.46 336.031 1923.36 333.485 Q1925.28 330.938 1925.28 326.332 M1929.54 336.378 Q1929.54 342.998 1926.6 346.216 Q1923.66 349.457 1917.59 349.457 Q1915.35 349.457 1913.36 349.11 Q1911.37 348.785 1909.49 348.091 L1909.49 343.948 Q1911.37 344.966 1913.2 345.452 Q1915.02 345.938 1916.92 345.938 Q1921.11 345.938 1923.2 343.739 Q1925.28 341.563 1925.28 337.142 L1925.28 335.036 Q1923.96 337.327 1921.9 338.461 Q1919.84 339.596 1916.97 339.596 Q1912.2 339.596 1909.28 335.961 Q1906.37 332.327 1906.37 326.332 Q1906.37 320.313 1909.28 316.679 Q1912.2 313.045 1916.97 313.045 Q1919.84 313.045 1921.9 314.179 Q1923.96 315.313 1925.28 317.605 L1925.28 313.67 L1929.54 313.67 L1929.54 336.378 Z\" fill=\"#000000\" fill-rule=\"nonzero\" fill-opacity=\"1\" /><path clip-path=\"url(#clip560)\" d=\"M1959.86 323.948 L1959.86 339.596 L1955.6 339.596 L1955.6 324.087 Q1955.6 320.406 1954.17 318.577 Q1952.73 316.749 1949.86 316.749 Q1946.41 316.749 1944.42 318.948 Q1942.43 321.147 1942.43 324.943 L1942.43 339.596 L1938.15 339.596 L1938.15 303.577 L1942.43 303.577 L1942.43 317.698 Q1943.96 315.36 1946.02 314.202 Q1948.1 313.045 1950.81 313.045 Q1955.28 313.045 1957.57 315.823 Q1959.86 318.577 1959.86 323.948 Z\" fill=\"#000000\" fill-rule=\"nonzero\" fill-opacity=\"1\" /><polyline clip-path=\"url(#clip560)\" style=\"stroke:#c271d2; stroke-linecap:round; stroke-linejoin:round; stroke-width:4; stroke-opacity:1; fill:none\" points=\"1598.97,374.156 1740.33,374.156 \"/>\n",
       "<path clip-path=\"url(#clip560)\" d=\"M1763.89 356.876 L1785.74 356.876 L1785.74 360.811 L1768.57 360.811 L1768.57 371.042 L1785.02 371.042 L1785.02 374.977 L1768.57 374.977 L1768.57 387.501 L1786.16 387.501 L1786.16 391.436 L1763.89 391.436 L1763.89 356.876 Z\" fill=\"#000000\" fill-rule=\"nonzero\" fill-opacity=\"1\" /><path clip-path=\"url(#clip560)\" d=\"M1815.21 365.51 L1805.83 378.126 L1815.7 391.436 L1810.67 391.436 L1803.13 381.251 L1795.58 391.436 L1790.56 391.436 L1800.63 377.871 L1791.41 365.51 L1796.44 365.51 L1803.31 374.746 L1810.19 365.51 L1815.21 365.51 Z\" fill=\"#000000\" fill-rule=\"nonzero\" fill-opacity=\"1\" /><path clip-path=\"url(#clip560)\" d=\"M1825.83 387.547 L1825.83 401.297 L1821.55 401.297 L1821.55 365.51 L1825.83 365.51 L1825.83 369.445 Q1827.18 367.13 1829.21 366.019 Q1831.27 364.885 1834.12 364.885 Q1838.84 364.885 1841.78 368.635 Q1844.75 372.385 1844.75 378.496 Q1844.75 384.607 1841.78 388.357 Q1838.84 392.107 1834.12 392.107 Q1831.27 392.107 1829.21 390.996 Q1827.18 389.862 1825.83 387.547 M1840.33 378.496 Q1840.33 373.797 1838.38 371.135 Q1836.46 368.45 1833.08 368.45 Q1829.7 368.45 1827.76 371.135 Q1825.83 373.797 1825.83 378.496 Q1825.83 383.195 1827.76 385.88 Q1829.7 388.542 1833.08 388.542 Q1836.46 388.542 1838.38 385.88 Q1840.33 383.195 1840.33 378.496 Z\" fill=\"#000000\" fill-rule=\"nonzero\" fill-opacity=\"1\" /><path clip-path=\"url(#clip560)\" d=\"M1861.85 368.496 Q1858.43 368.496 1856.44 371.181 Q1854.45 373.843 1854.45 378.496 Q1854.45 383.149 1856.41 385.834 Q1858.4 388.496 1861.85 388.496 Q1865.26 388.496 1867.25 385.811 Q1869.24 383.126 1869.24 378.496 Q1869.24 373.89 1867.25 371.204 Q1865.26 368.496 1861.85 368.496 M1861.85 364.885 Q1867.41 364.885 1870.58 368.496 Q1873.75 372.107 1873.75 378.496 Q1873.75 384.862 1870.58 388.496 Q1867.41 392.107 1861.85 392.107 Q1856.27 392.107 1853.1 388.496 Q1849.95 384.862 1849.95 378.496 Q1849.95 372.107 1853.1 368.496 Q1856.27 364.885 1861.85 364.885 Z\" fill=\"#000000\" fill-rule=\"nonzero\" fill-opacity=\"1\" /><path clip-path=\"url(#clip560)\" d=\"M1902.36 375.788 L1902.36 391.436 L1898.1 391.436 L1898.1 375.927 Q1898.1 372.246 1896.67 370.417 Q1895.23 368.589 1892.36 368.589 Q1888.91 368.589 1886.92 370.788 Q1884.93 372.987 1884.93 376.783 L1884.93 391.436 L1880.65 391.436 L1880.65 365.51 L1884.93 365.51 L1884.93 369.538 Q1886.46 367.2 1888.52 366.042 Q1890.6 364.885 1893.31 364.885 Q1897.78 364.885 1900.07 367.663 Q1902.36 370.417 1902.36 375.788 Z\" fill=\"#000000\" fill-rule=\"nonzero\" fill-opacity=\"1\" /><path clip-path=\"url(#clip560)\" d=\"M1933.03 377.408 L1933.03 379.491 L1913.45 379.491 Q1913.73 383.889 1916.09 386.204 Q1918.47 388.496 1922.71 388.496 Q1925.16 388.496 1927.45 387.894 Q1929.77 387.292 1932.04 386.089 L1932.04 390.116 Q1929.75 391.088 1927.34 391.598 Q1924.93 392.107 1922.45 392.107 Q1916.25 392.107 1912.62 388.496 Q1909.01 384.885 1909.01 378.727 Q1909.01 372.362 1912.43 368.635 Q1915.88 364.885 1921.71 364.885 Q1926.95 364.885 1929.98 368.265 Q1933.03 371.621 1933.03 377.408 M1928.77 376.158 Q1928.73 372.663 1926.81 370.579 Q1924.91 368.496 1921.76 368.496 Q1918.2 368.496 1916.04 370.51 Q1913.91 372.524 1913.59 376.181 L1928.77 376.158 Z\" fill=\"#000000\" fill-rule=\"nonzero\" fill-opacity=\"1\" /><path clip-path=\"url(#clip560)\" d=\"M1961.57 375.788 L1961.57 391.436 L1957.32 391.436 L1957.32 375.927 Q1957.32 372.246 1955.88 370.417 Q1954.44 368.589 1951.57 368.589 Q1948.13 368.589 1946.13 370.788 Q1944.14 372.987 1944.14 376.783 L1944.14 391.436 L1939.86 391.436 L1939.86 365.51 L1944.14 365.51 L1944.14 369.538 Q1945.67 367.2 1947.73 366.042 Q1949.82 364.885 1952.52 364.885 Q1956.99 364.885 1959.28 367.663 Q1961.57 370.417 1961.57 375.788 Z\" fill=\"#000000\" fill-rule=\"nonzero\" fill-opacity=\"1\" /><path clip-path=\"url(#clip560)\" d=\"M1974.28 358.149 L1974.28 365.51 L1983.06 365.51 L1983.06 368.82 L1974.28 368.82 L1974.28 382.894 Q1974.28 386.065 1975.14 386.968 Q1976.02 387.871 1978.68 387.871 L1983.06 387.871 L1983.06 391.436 L1978.68 391.436 Q1973.75 391.436 1971.88 389.607 Q1970 387.755 1970 382.894 L1970 368.82 L1966.88 368.82 L1966.88 365.51 L1970 365.51 L1970 358.149 L1974.28 358.149 Z\" fill=\"#000000\" fill-rule=\"nonzero\" fill-opacity=\"1\" /><path clip-path=\"url(#clip560)\" d=\"M1988.66 365.51 L1992.92 365.51 L1992.92 391.436 L1988.66 391.436 L1988.66 365.51 M1988.66 355.417 L1992.92 355.417 L1992.92 360.811 L1988.66 360.811 L1988.66 355.417 Z\" fill=\"#000000\" fill-rule=\"nonzero\" fill-opacity=\"1\" /><path clip-path=\"url(#clip560)\" d=\"M2013.61 378.403 Q2008.45 378.403 2006.46 379.584 Q2004.47 380.764 2004.47 383.612 Q2004.47 385.88 2005.95 387.223 Q2007.45 388.542 2010.02 388.542 Q2013.57 388.542 2015.69 386.042 Q2017.85 383.519 2017.85 379.352 L2017.85 378.403 L2013.61 378.403 M2022.11 376.644 L2022.11 391.436 L2017.85 391.436 L2017.85 387.501 Q2016.39 389.862 2014.21 390.996 Q2012.04 392.107 2008.89 392.107 Q2004.91 392.107 2002.55 389.885 Q2000.21 387.639 2000.21 383.889 Q2000.21 379.514 2003.13 377.292 Q2006.07 375.07 2011.88 375.07 L2017.85 375.07 L2017.85 374.653 Q2017.85 371.714 2015.9 370.116 Q2013.98 368.496 2010.49 368.496 Q2008.26 368.496 2006.16 369.028 Q2004.05 369.561 2002.11 370.626 L2002.11 366.69 Q2004.44 365.788 2006.64 365.348 Q2008.84 364.885 2010.93 364.885 Q2016.55 364.885 2019.33 367.802 Q2022.11 370.718 2022.11 376.644 Z\" fill=\"#000000\" fill-rule=\"nonzero\" fill-opacity=\"1\" /><path clip-path=\"url(#clip560)\" d=\"M2030.88 355.417 L2035.14 355.417 L2035.14 391.436 L2030.88 391.436 L2030.88 355.417 Z\" fill=\"#000000\" fill-rule=\"nonzero\" fill-opacity=\"1\" /><path clip-path=\"url(#clip560)\" d=\"M2069.35 355.464 Q2066.25 360.788 2064.75 365.996 Q2063.24 371.204 2063.24 376.552 Q2063.24 381.899 2064.75 387.153 Q2066.27 392.385 2069.35 397.686 L2065.65 397.686 Q2062.18 392.246 2060.44 386.991 Q2058.73 381.737 2058.73 376.552 Q2058.73 371.39 2060.44 366.158 Q2062.15 360.927 2065.65 355.464 L2069.35 355.464 Z\" fill=\"#000000\" fill-rule=\"nonzero\" fill-opacity=\"1\" /><path clip-path=\"url(#clip560)\" d=\"M2077.8 356.876 L2099.65 356.876 L2099.65 360.811 L2082.48 360.811 L2082.48 371.042 L2098.93 371.042 L2098.93 374.977 L2082.48 374.977 L2082.48 387.501 L2100.07 387.501 L2100.07 391.436 L2077.8 391.436 L2077.8 356.876 Z\" fill=\"#000000\" fill-rule=\"nonzero\" fill-opacity=\"1\" /><path clip-path=\"url(#clip560)\" d=\"M2118.17 359.954 Q2114.56 359.954 2112.73 363.519 Q2110.93 367.061 2110.93 374.19 Q2110.93 381.297 2112.73 384.862 Q2114.56 388.403 2118.17 388.403 Q2121.81 388.403 2123.61 384.862 Q2125.44 381.297 2125.44 374.19 Q2125.44 367.061 2123.61 363.519 Q2121.81 359.954 2118.17 359.954 M2118.17 356.251 Q2123.98 356.251 2127.04 360.857 Q2130.12 365.44 2130.12 374.19 Q2130.12 382.917 2127.04 387.524 Q2123.98 392.107 2118.17 392.107 Q2112.36 392.107 2109.28 387.524 Q2106.23 382.917 2106.23 374.19 Q2106.23 365.44 2109.28 360.857 Q2112.36 356.251 2118.17 356.251 Z\" fill=\"#000000\" fill-rule=\"nonzero\" fill-opacity=\"1\" /><path clip-path=\"url(#clip560)\" d=\"M2137.06 355.464 L2140.76 355.464 Q2144.24 360.927 2145.95 366.158 Q2147.68 371.39 2147.68 376.552 Q2147.68 381.737 2145.95 386.991 Q2144.24 392.246 2140.76 397.686 L2137.06 397.686 Q2140.14 392.385 2141.64 387.153 Q2143.17 381.899 2143.17 376.552 Q2143.17 371.204 2141.64 365.996 Q2140.14 360.788 2137.06 355.464 Z\" fill=\"#000000\" fill-rule=\"nonzero\" fill-opacity=\"1\" /><polyline clip-path=\"url(#clip560)\" style=\"stroke:#ac8d18; stroke-linecap:round; stroke-linejoin:round; stroke-width:4; stroke-opacity:1; fill:none\" points=\"1598.97,425.996 1740.33,425.996 \"/>\n",
       "<path clip-path=\"url(#clip560)\" d=\"M1763.89 408.716 L1785.74 408.716 L1785.74 412.651 L1768.57 412.651 L1768.57 422.882 L1785.02 422.882 L1785.02 426.817 L1768.57 426.817 L1768.57 439.341 L1786.16 439.341 L1786.16 443.276 L1763.89 443.276 L1763.89 408.716 Z\" fill=\"#000000\" fill-rule=\"nonzero\" fill-opacity=\"1\" /><path clip-path=\"url(#clip560)\" d=\"M1808.68 421.331 Q1807.96 420.915 1807.11 420.73 Q1806.27 420.521 1805.26 420.521 Q1801.64 420.521 1799.7 422.882 Q1797.78 425.22 1797.78 429.618 L1797.78 443.276 L1793.5 443.276 L1793.5 417.35 L1797.78 417.35 L1797.78 421.378 Q1799.12 419.017 1801.27 417.882 Q1803.43 416.725 1806.51 416.725 Q1806.95 416.725 1807.48 416.794 Q1808.01 416.841 1808.66 416.956 L1808.68 421.331 Z\" fill=\"#000000\" fill-rule=\"nonzero\" fill-opacity=\"1\" /><path clip-path=\"url(#clip560)\" d=\"M1813.15 407.257 L1817.41 407.257 L1817.41 443.276 L1813.15 443.276 L1813.15 407.257 Z\" fill=\"#000000\" fill-rule=\"nonzero\" fill-opacity=\"1\" /><path clip-path=\"url(#clip560)\" d=\"M1838.1 430.243 Q1832.94 430.243 1830.95 431.424 Q1828.96 432.604 1828.96 435.452 Q1828.96 437.72 1830.44 439.063 Q1831.95 440.382 1834.52 440.382 Q1838.06 440.382 1840.19 437.882 Q1842.34 435.359 1842.34 431.192 L1842.34 430.243 L1838.1 430.243 M1846.6 428.484 L1846.6 443.276 L1842.34 443.276 L1842.34 439.341 Q1840.88 441.702 1838.7 442.836 Q1836.53 443.947 1833.38 443.947 Q1829.4 443.947 1827.04 441.725 Q1824.7 439.479 1824.7 435.729 Q1824.7 431.354 1827.62 429.132 Q1830.56 426.91 1836.37 426.91 L1842.34 426.91 L1842.34 426.493 Q1842.34 423.554 1840.39 421.956 Q1838.47 420.336 1834.98 420.336 Q1832.76 420.336 1830.65 420.868 Q1828.54 421.401 1826.6 422.466 L1826.6 418.53 Q1828.94 417.628 1831.14 417.188 Q1833.33 416.725 1835.42 416.725 Q1841.04 416.725 1843.82 419.642 Q1846.6 422.558 1846.6 428.484 Z\" fill=\"#000000\" fill-rule=\"nonzero\" fill-opacity=\"1\" /><path clip-path=\"url(#clip560)\" d=\"M1876.92 427.628 L1876.92 443.276 L1872.66 443.276 L1872.66 427.767 Q1872.66 424.086 1871.23 422.257 Q1869.79 420.429 1866.92 420.429 Q1863.47 420.429 1861.48 422.628 Q1859.49 424.827 1859.49 428.623 L1859.49 443.276 L1855.21 443.276 L1855.21 417.35 L1859.49 417.35 L1859.49 421.378 Q1861.02 419.04 1863.08 417.882 Q1865.16 416.725 1867.87 416.725 Q1872.34 416.725 1874.63 419.503 Q1876.92 422.257 1876.92 427.628 Z\" fill=\"#000000\" fill-rule=\"nonzero\" fill-opacity=\"1\" /><path clip-path=\"url(#clip560)\" d=\"M1902.48 430.012 Q1902.48 425.382 1900.56 422.836 Q1898.66 420.29 1895.21 420.29 Q1891.78 420.29 1889.86 422.836 Q1887.96 425.382 1887.96 430.012 Q1887.96 434.618 1889.86 437.165 Q1891.78 439.711 1895.21 439.711 Q1898.66 439.711 1900.56 437.165 Q1902.48 434.618 1902.48 430.012 M1906.74 440.058 Q1906.74 446.678 1903.8 449.896 Q1900.86 453.137 1894.79 453.137 Q1892.55 453.137 1890.56 452.79 Q1888.57 452.465 1886.69 451.771 L1886.69 447.628 Q1888.57 448.646 1890.39 449.132 Q1892.22 449.618 1894.12 449.618 Q1898.31 449.618 1900.39 447.419 Q1902.48 445.243 1902.48 440.822 L1902.48 438.716 Q1901.16 441.007 1899.1 442.141 Q1897.04 443.276 1894.17 443.276 Q1889.4 443.276 1886.48 439.641 Q1883.57 436.007 1883.57 430.012 Q1883.57 423.993 1886.48 420.359 Q1889.4 416.725 1894.17 416.725 Q1897.04 416.725 1899.1 417.859 Q1901.16 418.993 1902.48 421.285 L1902.48 417.35 L1906.74 417.35 L1906.74 440.058 Z\" fill=\"#000000\" fill-rule=\"nonzero\" fill-opacity=\"1\" /><path clip-path=\"url(#clip560)\" d=\"M1940.81 407.304 Q1937.71 412.628 1936.2 417.836 Q1934.7 423.044 1934.7 428.392 Q1934.7 433.739 1936.2 438.993 Q1937.73 444.225 1940.81 449.526 L1937.11 449.526 Q1933.63 444.086 1931.9 438.831 Q1930.19 433.577 1930.19 428.392 Q1930.19 423.23 1931.9 417.998 Q1933.61 412.767 1937.11 407.304 L1940.81 407.304 Z\" fill=\"#000000\" fill-rule=\"nonzero\" fill-opacity=\"1\" /><path clip-path=\"url(#clip560)\" d=\"M1949.26 408.716 L1971.11 408.716 L1971.11 412.651 L1953.94 412.651 L1953.94 422.882 L1970.39 422.882 L1970.39 426.817 L1953.94 426.817 L1953.94 439.341 L1971.53 439.341 L1971.53 443.276 L1949.26 443.276 L1949.26 408.716 Z\" fill=\"#000000\" fill-rule=\"nonzero\" fill-opacity=\"1\" /><path clip-path=\"url(#clip560)\" d=\"M1980.44 439.341 L1988.08 439.341 L1988.08 412.975 L1979.77 414.642 L1979.77 410.382 L1988.03 408.716 L1992.71 408.716 L1992.71 439.341 L2000.35 439.341 L2000.35 443.276 L1980.44 443.276 L1980.44 439.341 Z\" fill=\"#000000\" fill-rule=\"nonzero\" fill-opacity=\"1\" /><path clip-path=\"url(#clip560)\" d=\"M2008.52 407.304 L2012.22 407.304 Q2015.69 412.767 2017.41 417.998 Q2019.14 423.23 2019.14 428.392 Q2019.14 433.577 2017.41 438.831 Q2015.69 444.086 2012.22 449.526 L2008.52 449.526 Q2011.6 444.225 2013.1 438.993 Q2014.63 433.739 2014.63 428.392 Q2014.63 423.044 2013.1 417.836 Q2011.6 412.628 2008.52 407.304 Z\" fill=\"#000000\" fill-rule=\"nonzero\" fill-opacity=\"1\" /><polyline clip-path=\"url(#clip560)\" style=\"stroke:#00a9ad; stroke-linecap:round; stroke-linejoin:round; stroke-width:4; stroke-opacity:1; fill:none\" points=\"1598.97,477.836 1740.33,477.836 \"/>\n",
       "<path clip-path=\"url(#clip560)\" d=\"M1763.89 460.556 L1785.74 460.556 L1785.74 464.491 L1768.57 464.491 L1768.57 474.722 L1785.02 474.722 L1785.02 478.657 L1768.57 478.657 L1768.57 491.181 L1786.16 491.181 L1786.16 495.116 L1763.89 495.116 L1763.89 460.556 Z\" fill=\"#000000\" fill-rule=\"nonzero\" fill-opacity=\"1\" /><path clip-path=\"url(#clip560)\" d=\"M1808.68 473.171 Q1807.96 472.755 1807.11 472.57 Q1806.27 472.361 1805.26 472.361 Q1801.64 472.361 1799.7 474.722 Q1797.78 477.06 1797.78 481.458 L1797.78 495.116 L1793.5 495.116 L1793.5 469.19 L1797.78 469.19 L1797.78 473.218 Q1799.12 470.857 1801.27 469.722 Q1803.43 468.565 1806.51 468.565 Q1806.95 468.565 1807.48 468.634 Q1808.01 468.681 1808.66 468.796 L1808.68 473.171 Z\" fill=\"#000000\" fill-rule=\"nonzero\" fill-opacity=\"1\" /><path clip-path=\"url(#clip560)\" d=\"M1813.15 459.097 L1817.41 459.097 L1817.41 495.116 L1813.15 495.116 L1813.15 459.097 Z\" fill=\"#000000\" fill-rule=\"nonzero\" fill-opacity=\"1\" /><path clip-path=\"url(#clip560)\" d=\"M1838.1 482.083 Q1832.94 482.083 1830.95 483.264 Q1828.96 484.444 1828.96 487.292 Q1828.96 489.56 1830.44 490.903 Q1831.95 492.222 1834.52 492.222 Q1838.06 492.222 1840.19 489.722 Q1842.34 487.199 1842.34 483.032 L1842.34 482.083 L1838.1 482.083 M1846.6 480.324 L1846.6 495.116 L1842.34 495.116 L1842.34 491.181 Q1840.88 493.542 1838.7 494.676 Q1836.53 495.787 1833.38 495.787 Q1829.4 495.787 1827.04 493.565 Q1824.7 491.319 1824.7 487.569 Q1824.7 483.194 1827.62 480.972 Q1830.56 478.75 1836.37 478.75 L1842.34 478.75 L1842.34 478.333 Q1842.34 475.394 1840.39 473.796 Q1838.47 472.176 1834.98 472.176 Q1832.76 472.176 1830.65 472.708 Q1828.54 473.241 1826.6 474.306 L1826.6 470.37 Q1828.94 469.468 1831.14 469.028 Q1833.33 468.565 1835.42 468.565 Q1841.04 468.565 1843.82 471.482 Q1846.6 474.398 1846.6 480.324 Z\" fill=\"#000000\" fill-rule=\"nonzero\" fill-opacity=\"1\" /><path clip-path=\"url(#clip560)\" d=\"M1876.92 479.468 L1876.92 495.116 L1872.66 495.116 L1872.66 479.607 Q1872.66 475.926 1871.23 474.097 Q1869.79 472.269 1866.92 472.269 Q1863.47 472.269 1861.48 474.468 Q1859.49 476.667 1859.49 480.463 L1859.49 495.116 L1855.21 495.116 L1855.21 469.19 L1859.49 469.19 L1859.49 473.218 Q1861.02 470.88 1863.08 469.722 Q1865.16 468.565 1867.87 468.565 Q1872.34 468.565 1874.63 471.343 Q1876.92 474.097 1876.92 479.468 Z\" fill=\"#000000\" fill-rule=\"nonzero\" fill-opacity=\"1\" /><path clip-path=\"url(#clip560)\" d=\"M1902.48 481.852 Q1902.48 477.222 1900.56 474.676 Q1898.66 472.13 1895.21 472.13 Q1891.78 472.13 1889.86 474.676 Q1887.96 477.222 1887.96 481.852 Q1887.96 486.458 1889.86 489.005 Q1891.78 491.551 1895.21 491.551 Q1898.66 491.551 1900.56 489.005 Q1902.48 486.458 1902.48 481.852 M1906.74 491.898 Q1906.74 498.518 1903.8 501.736 Q1900.86 504.977 1894.79 504.977 Q1892.55 504.977 1890.56 504.63 Q1888.57 504.305 1886.69 503.611 L1886.69 499.468 Q1888.57 500.486 1890.39 500.972 Q1892.22 501.458 1894.12 501.458 Q1898.31 501.458 1900.39 499.259 Q1902.48 497.083 1902.48 492.662 L1902.48 490.556 Q1901.16 492.847 1899.1 493.981 Q1897.04 495.116 1894.17 495.116 Q1889.4 495.116 1886.48 491.481 Q1883.57 487.847 1883.57 481.852 Q1883.57 475.833 1886.48 472.199 Q1889.4 468.565 1894.17 468.565 Q1897.04 468.565 1899.1 469.699 Q1901.16 470.833 1902.48 473.125 L1902.48 469.19 L1906.74 469.19 L1906.74 491.898 Z\" fill=\"#000000\" fill-rule=\"nonzero\" fill-opacity=\"1\" /><path clip-path=\"url(#clip560)\" d=\"M1940.81 459.144 Q1937.71 464.468 1936.2 469.676 Q1934.7 474.884 1934.7 480.232 Q1934.7 485.579 1936.2 490.833 Q1937.73 496.065 1940.81 501.366 L1937.11 501.366 Q1933.63 495.926 1931.9 490.671 Q1930.19 485.417 1930.19 480.232 Q1930.19 475.07 1931.9 469.838 Q1933.61 464.607 1937.11 459.144 L1940.81 459.144 Z\" fill=\"#000000\" fill-rule=\"nonzero\" fill-opacity=\"1\" /><path clip-path=\"url(#clip560)\" d=\"M1949.26 460.556 L1971.11 460.556 L1971.11 464.491 L1953.94 464.491 L1953.94 474.722 L1970.39 474.722 L1970.39 478.657 L1953.94 478.657 L1953.94 491.181 L1971.53 491.181 L1971.53 495.116 L1949.26 495.116 L1949.26 460.556 Z\" fill=\"#000000\" fill-rule=\"nonzero\" fill-opacity=\"1\" /><path clip-path=\"url(#clip560)\" d=\"M1983.66 491.181 L1999.98 491.181 L1999.98 495.116 L1978.03 495.116 L1978.03 491.181 Q1980.69 488.426 1985.28 483.796 Q1989.88 479.144 1991.07 477.801 Q1993.31 475.278 1994.19 473.542 Q1995.09 471.783 1995.09 470.093 Q1995.09 467.338 1993.15 465.602 Q1991.23 463.866 1988.13 463.866 Q1985.93 463.866 1983.47 464.63 Q1981.04 465.394 1978.26 466.945 L1978.26 462.222 Q1981.09 461.088 1983.54 460.509 Q1986 459.931 1988.03 459.931 Q1993.4 459.931 1996.6 462.616 Q1999.79 465.301 1999.79 469.792 Q1999.79 471.921 1998.98 473.843 Q1998.19 475.741 1996.09 478.333 Q1995.51 479.005 1992.41 482.222 Q1989.31 485.417 1983.66 491.181 Z\" fill=\"#000000\" fill-rule=\"nonzero\" fill-opacity=\"1\" /><path clip-path=\"url(#clip560)\" d=\"M2008.52 459.144 L2012.22 459.144 Q2015.69 464.607 2017.41 469.838 Q2019.14 475.07 2019.14 480.232 Q2019.14 485.417 2017.41 490.671 Q2015.69 495.926 2012.22 501.366 L2008.52 501.366 Q2011.6 496.065 2013.1 490.833 Q2014.63 485.579 2014.63 480.232 Q2014.63 474.884 2013.1 469.676 Q2011.6 464.468 2008.52 459.144 Z\" fill=\"#000000\" fill-rule=\"nonzero\" fill-opacity=\"1\" /><polyline clip-path=\"url(#clip560)\" style=\"stroke:#ed5d92; stroke-linecap:round; stroke-linejoin:round; stroke-width:4; stroke-opacity:1; fill:none\" points=\"1598.97,529.676 1740.33,529.676 \"/>\n",
       "<path clip-path=\"url(#clip560)\" d=\"M1786.14 513.53 L1786.14 518.09 Q1783.47 516.817 1781.11 516.192 Q1778.75 515.567 1776.55 515.567 Q1772.73 515.567 1770.65 517.048 Q1768.59 518.53 1768.59 521.261 Q1768.59 523.553 1769.96 524.734 Q1771.34 525.891 1775.19 526.609 L1778.01 527.187 Q1783.24 528.183 1785.72 530.706 Q1788.22 533.206 1788.22 537.419 Q1788.22 542.442 1784.84 545.034 Q1781.48 547.627 1774.98 547.627 Q1772.52 547.627 1769.75 547.071 Q1766.99 546.516 1764.03 545.428 L1764.03 540.613 Q1766.88 542.21 1769.61 543.021 Q1772.34 543.831 1774.98 543.831 Q1778.98 543.831 1781.16 542.257 Q1783.33 540.683 1783.33 537.766 Q1783.33 535.22 1781.76 533.784 Q1780.21 532.349 1776.64 531.632 L1773.8 531.076 Q1768.57 530.035 1766.23 527.812 Q1763.89 525.59 1763.89 521.632 Q1763.89 517.048 1767.11 514.41 Q1770.35 511.771 1776.02 511.771 Q1778.45 511.771 1780.97 512.211 Q1783.5 512.65 1786.14 513.53 Z\" fill=\"#000000\" fill-rule=\"nonzero\" fill-opacity=\"1\" /><path clip-path=\"url(#clip560)\" d=\"M1816.88 531.308 L1816.88 546.956 L1812.62 546.956 L1812.62 531.447 Q1812.62 527.766 1811.18 525.937 Q1809.75 524.109 1806.88 524.109 Q1803.43 524.109 1801.44 526.308 Q1799.45 528.507 1799.45 532.303 L1799.45 546.956 L1795.16 546.956 L1795.16 510.937 L1799.45 510.937 L1799.45 525.058 Q1800.97 522.72 1803.03 521.562 Q1805.12 520.405 1807.83 520.405 Q1812.29 520.405 1814.58 523.183 Q1816.88 525.937 1816.88 531.308 Z\" fill=\"#000000\" fill-rule=\"nonzero\" fill-opacity=\"1\" /><path clip-path=\"url(#clip560)\" d=\"M1825.37 521.03 L1829.63 521.03 L1829.63 546.956 L1825.37 546.956 L1825.37 521.03 M1825.37 510.937 L1829.63 510.937 L1829.63 516.331 L1825.37 516.331 L1825.37 510.937 Z\" fill=\"#000000\" fill-rule=\"nonzero\" fill-opacity=\"1\" /><path clip-path=\"url(#clip560)\" d=\"M1851.67 510.937 L1851.67 514.479 L1847.59 514.479 Q1845.3 514.479 1844.4 515.405 Q1843.52 516.331 1843.52 518.738 L1843.52 521.03 L1850.53 521.03 L1850.53 524.34 L1843.52 524.34 L1843.52 546.956 L1839.24 546.956 L1839.24 524.34 L1835.16 524.34 L1835.16 521.03 L1839.24 521.03 L1839.24 519.224 Q1839.24 514.896 1841.25 512.928 Q1843.26 510.937 1847.64 510.937 L1851.67 510.937 Z\" fill=\"#000000\" fill-rule=\"nonzero\" fill-opacity=\"1\" /><path clip-path=\"url(#clip560)\" d=\"M1858.61 513.669 L1858.61 521.03 L1867.39 521.03 L1867.39 524.34 L1858.61 524.34 L1858.61 538.414 Q1858.61 541.585 1859.47 542.488 Q1860.35 543.391 1863.01 543.391 L1867.39 543.391 L1867.39 546.956 L1863.01 546.956 Q1858.08 546.956 1856.2 545.127 Q1854.33 543.275 1854.33 538.414 L1854.33 524.34 L1851.2 524.34 L1851.2 521.03 L1854.33 521.03 L1854.33 513.669 L1858.61 513.669 Z\" fill=\"#000000\" fill-rule=\"nonzero\" fill-opacity=\"1\" /><path clip-path=\"url(#clip560)\" d=\"M1895.16 532.928 L1895.16 535.011 L1875.58 535.011 Q1875.86 539.409 1878.22 541.724 Q1880.6 544.016 1884.84 544.016 Q1887.29 544.016 1889.58 543.414 Q1891.9 542.812 1894.17 541.609 L1894.17 545.636 Q1891.88 546.608 1889.47 547.118 Q1887.06 547.627 1884.58 547.627 Q1878.38 547.627 1874.75 544.016 Q1871.14 540.405 1871.14 534.247 Q1871.14 527.882 1874.56 524.155 Q1878.01 520.405 1883.84 520.405 Q1889.07 520.405 1892.11 523.785 Q1895.16 527.141 1895.16 532.928 M1890.9 531.678 Q1890.86 528.183 1888.94 526.099 Q1887.04 524.016 1883.89 524.016 Q1880.32 524.016 1878.17 526.03 Q1876.04 528.044 1875.72 531.701 L1890.9 531.678 Z\" fill=\"#000000\" fill-rule=\"nonzero\" fill-opacity=\"1\" /><path clip-path=\"url(#clip560)\" d=\"M1919.21 524.965 L1919.21 510.937 L1923.47 510.937 L1923.47 546.956 L1919.21 546.956 L1919.21 543.067 Q1917.87 545.382 1915.81 546.516 Q1913.77 547.627 1910.9 547.627 Q1906.2 547.627 1903.24 543.877 Q1900.3 540.127 1900.3 534.016 Q1900.3 527.905 1903.24 524.155 Q1906.2 520.405 1910.9 520.405 Q1913.77 520.405 1915.81 521.539 Q1917.87 522.65 1919.21 524.965 M1904.7 534.016 Q1904.7 538.715 1906.62 541.4 Q1908.57 544.062 1911.95 544.062 Q1915.32 544.062 1917.27 541.4 Q1919.21 538.715 1919.21 534.016 Q1919.21 529.317 1917.27 526.655 Q1915.32 523.97 1911.95 523.97 Q1908.57 523.97 1906.62 526.655 Q1904.7 529.317 1904.7 534.016 Z\" fill=\"#000000\" fill-rule=\"nonzero\" fill-opacity=\"1\" /><path clip-path=\"url(#clip560)\" d=\"M1963.89 530.752 Q1965.39 531.261 1966.81 532.928 Q1968.24 534.595 1969.68 537.511 L1974.42 546.956 L1969.4 546.956 L1964.98 538.09 Q1963.26 534.618 1961.64 533.484 Q1960.05 532.349 1957.27 532.349 L1952.18 532.349 L1952.18 546.956 L1947.5 546.956 L1947.5 512.396 L1958.06 512.396 Q1963.98 512.396 1966.9 514.873 Q1969.82 517.349 1969.82 522.349 Q1969.82 525.613 1968.29 527.766 Q1966.78 529.919 1963.89 530.752 M1952.18 516.238 L1952.18 528.507 L1958.06 528.507 Q1961.44 528.507 1963.15 526.956 Q1964.88 525.382 1964.88 522.349 Q1964.88 519.317 1963.15 517.789 Q1961.44 516.238 1958.06 516.238 L1952.18 516.238 Z\" fill=\"#000000\" fill-rule=\"nonzero\" fill-opacity=\"1\" /><path clip-path=\"url(#clip560)\" d=\"M1991 533.923 Q1985.83 533.923 1983.84 535.104 Q1981.85 536.284 1981.85 539.132 Q1981.85 541.4 1983.33 542.743 Q1984.84 544.062 1987.41 544.062 Q1990.95 544.062 1993.08 541.562 Q1995.23 539.039 1995.23 534.872 L1995.23 533.923 L1991 533.923 M1999.49 532.164 L1999.49 546.956 L1995.23 546.956 L1995.23 543.021 Q1993.77 545.382 1991.6 546.516 Q1989.42 547.627 1986.27 547.627 Q1982.29 547.627 1979.93 545.405 Q1977.59 543.159 1977.59 539.409 Q1977.59 535.034 1980.51 532.812 Q1983.45 530.59 1989.26 530.59 L1995.23 530.59 L1995.23 530.173 Q1995.23 527.234 1993.29 525.636 Q1991.37 524.016 1987.87 524.016 Q1985.65 524.016 1983.54 524.548 Q1981.44 525.081 1979.49 526.146 L1979.49 522.21 Q1981.83 521.308 1984.03 520.868 Q1986.23 520.405 1988.31 520.405 Q1993.94 520.405 1996.71 523.322 Q1999.49 526.238 1999.49 532.164 Z\" fill=\"#000000\" fill-rule=\"nonzero\" fill-opacity=\"1\" /><path clip-path=\"url(#clip560)\" d=\"M2019.05 549.363 Q2017.25 553.993 2015.53 555.405 Q2013.82 556.817 2010.95 556.817 L2007.55 556.817 L2007.55 553.252 L2010.05 553.252 Q2011.81 553.252 2012.78 552.419 Q2013.75 551.585 2014.93 548.483 L2015.69 546.539 L2005.21 521.03 L2009.72 521.03 L2017.82 541.308 L2025.93 521.03 L2030.44 521.03 L2019.05 549.363 Z\" fill=\"#000000\" fill-rule=\"nonzero\" fill-opacity=\"1\" /><path clip-path=\"url(#clip560)\" d=\"M2036.32 510.937 L2040.58 510.937 L2040.58 546.956 L2036.32 546.956 L2036.32 510.937 Z\" fill=\"#000000\" fill-rule=\"nonzero\" fill-opacity=\"1\" /><path clip-path=\"url(#clip560)\" d=\"M2071.67 532.928 L2071.67 535.011 L2052.08 535.011 Q2052.36 539.409 2054.72 541.724 Q2057.11 544.016 2061.34 544.016 Q2063.8 544.016 2066.09 543.414 Q2068.4 542.812 2070.67 541.609 L2070.67 545.636 Q2068.38 546.608 2065.97 547.118 Q2063.56 547.627 2061.09 547.627 Q2054.88 547.627 2051.25 544.016 Q2047.64 540.405 2047.64 534.247 Q2047.64 527.882 2051.06 524.155 Q2054.51 520.405 2060.35 520.405 Q2065.58 520.405 2068.61 523.785 Q2071.67 527.141 2071.67 532.928 M2067.41 531.678 Q2067.36 528.183 2065.44 526.099 Q2063.54 524.016 2060.39 524.016 Q2056.83 524.016 2054.68 526.03 Q2052.55 528.044 2052.22 531.701 L2067.41 531.678 Z\" fill=\"#000000\" fill-rule=\"nonzero\" fill-opacity=\"1\" /><path clip-path=\"url(#clip560)\" d=\"M2078.66 521.03 L2082.92 521.03 L2082.92 546.956 L2078.66 546.956 L2078.66 521.03 M2078.66 510.937 L2082.92 510.937 L2082.92 516.331 L2078.66 516.331 L2078.66 510.937 Z\" fill=\"#000000\" fill-rule=\"nonzero\" fill-opacity=\"1\" /><path clip-path=\"url(#clip560)\" d=\"M2108.89 533.692 Q2108.89 529.062 2106.97 526.516 Q2105.07 523.97 2101.62 523.97 Q2098.19 523.97 2096.27 526.516 Q2094.37 529.062 2094.37 533.692 Q2094.37 538.298 2096.27 540.845 Q2098.19 543.391 2101.62 543.391 Q2105.07 543.391 2106.97 540.845 Q2108.89 538.298 2108.89 533.692 M2113.15 543.738 Q2113.15 550.358 2110.21 553.576 Q2107.27 556.817 2101.2 556.817 Q2098.96 556.817 2096.97 556.47 Q2094.98 556.145 2093.1 555.451 L2093.1 551.308 Q2094.98 552.326 2096.81 552.812 Q2098.63 553.298 2100.53 553.298 Q2104.72 553.298 2106.81 551.099 Q2108.89 548.923 2108.89 544.502 L2108.89 542.396 Q2107.57 544.687 2105.51 545.821 Q2103.45 546.956 2100.58 546.956 Q2095.81 546.956 2092.89 543.321 Q2089.98 539.687 2089.98 533.692 Q2089.98 527.673 2092.89 524.039 Q2095.81 520.405 2100.58 520.405 Q2103.45 520.405 2105.51 521.539 Q2107.57 522.673 2108.89 524.965 L2108.89 521.03 L2113.15 521.03 L2113.15 543.738 Z\" fill=\"#000000\" fill-rule=\"nonzero\" fill-opacity=\"1\" /><path clip-path=\"url(#clip560)\" d=\"M2143.47 531.308 L2143.47 546.956 L2139.21 546.956 L2139.21 531.447 Q2139.21 527.766 2137.78 525.937 Q2136.34 524.109 2133.47 524.109 Q2130.02 524.109 2128.03 526.308 Q2126.04 528.507 2126.04 532.303 L2126.04 546.956 L2121.76 546.956 L2121.76 510.937 L2126.04 510.937 L2126.04 525.058 Q2127.57 522.72 2129.63 521.562 Q2131.71 520.405 2134.42 520.405 Q2138.89 520.405 2141.18 523.183 Q2143.47 525.937 2143.47 531.308 Z\" fill=\"#000000\" fill-rule=\"nonzero\" fill-opacity=\"1\" /><path clip-path=\"url(#clip560)\" d=\"M2177.27 510.984 Q2174.17 516.308 2172.66 521.516 Q2171.16 526.724 2171.16 532.072 Q2171.16 537.419 2172.66 542.673 Q2174.19 547.905 2177.27 553.206 L2173.56 553.206 Q2170.09 547.766 2168.36 542.511 Q2166.64 537.257 2166.64 532.072 Q2166.64 526.91 2168.36 521.678 Q2170.07 516.447 2173.56 510.984 L2177.27 510.984 Z\" fill=\"#000000\" fill-rule=\"nonzero\" fill-opacity=\"1\" /><path clip-path=\"url(#clip560)\" d=\"M2206.43 513.53 L2206.43 518.09 Q2203.77 516.817 2201.41 516.192 Q2199.05 515.567 2196.85 515.567 Q2193.03 515.567 2190.95 517.048 Q2188.89 518.53 2188.89 521.261 Q2188.89 523.553 2190.25 524.734 Q2191.64 525.891 2195.49 526.609 L2198.31 527.187 Q2203.54 528.183 2206.02 530.706 Q2208.52 533.206 2208.52 537.419 Q2208.52 542.442 2205.14 545.034 Q2201.78 547.627 2195.28 547.627 Q2192.82 547.627 2190.05 547.071 Q2187.29 546.516 2184.33 545.428 L2184.33 540.613 Q2187.18 542.21 2189.91 543.021 Q2192.64 543.831 2195.28 543.831 Q2199.28 543.831 2201.46 542.257 Q2203.63 540.683 2203.63 537.766 Q2203.63 535.22 2202.06 533.784 Q2200.51 532.349 2196.94 531.632 L2194.1 531.076 Q2188.86 530.035 2186.53 527.812 Q2184.19 525.59 2184.19 521.632 Q2184.19 517.048 2187.41 514.41 Q2190.65 511.771 2196.32 511.771 Q2198.75 511.771 2201.27 512.211 Q2203.8 512.65 2206.43 513.53 Z\" fill=\"#000000\" fill-rule=\"nonzero\" fill-opacity=\"1\" /><path clip-path=\"url(#clip560)\" d=\"M2232.2 530.752 Q2233.7 531.261 2235.11 532.928 Q2236.55 534.595 2237.99 537.511 L2242.73 546.956 L2237.71 546.956 L2233.29 538.09 Q2231.57 534.618 2229.95 533.484 Q2228.36 532.349 2225.58 532.349 L2220.49 532.349 L2220.49 546.956 L2215.81 546.956 L2215.81 512.396 L2226.36 512.396 Q2232.29 512.396 2235.21 514.873 Q2238.12 517.349 2238.12 522.349 Q2238.12 525.613 2236.6 527.766 Q2235.09 529.919 2232.2 530.752 M2220.49 516.238 L2220.49 528.507 L2226.36 528.507 Q2229.74 528.507 2231.46 526.956 Q2233.19 525.382 2233.19 522.349 Q2233.19 519.317 2231.46 517.789 Q2229.74 516.238 2226.36 516.238 L2220.49 516.238 Z\" fill=\"#000000\" fill-rule=\"nonzero\" fill-opacity=\"1\" /><path clip-path=\"url(#clip560)\" d=\"M2247.89 510.984 L2251.6 510.984 Q2255.07 516.447 2256.78 521.678 Q2258.52 526.91 2258.52 532.072 Q2258.52 537.257 2256.78 542.511 Q2255.07 547.766 2251.6 553.206 L2247.89 553.206 Q2250.97 547.905 2252.48 542.673 Q2254 537.419 2254 532.072 Q2254 526.724 2252.48 521.516 Q2250.97 516.308 2247.89 510.984 Z\" fill=\"#000000\" fill-rule=\"nonzero\" fill-opacity=\"1\" /></svg>\n"
      ]
     },
     "execution_count": 50,
     "metadata": {},
     "output_type": "execute_result"
    }
   ],
   "source": [
    "\n",
    "\n",
    "# Sample dataset Y\n",
    "# Y = randn(100) .* 2 .+ 3  # Example: 100 measurements from a Gaussian distribution, adjust as necessary\n",
    "Y = y\n",
    "\n",
    "# Histogram of the dataset\n",
    "# histogram(Y, bins=30, normalization=:pdf, label=\"Data Histogram\", alpha=0.5)\n",
    "\n",
    "# Superimpose the Gaussian (G) density\n",
    "μ_G, σ²_G = mean(Y), var(Y)\n",
    "plot!(Normal(μ_G, sqrt(σ²_G)), label=\"Gaussian\")\n",
    "\n",
    "# Superimpose the Rayleigh (R) density\n",
    "σ_R = sqrt(mean(Y .^ 2) / 2)\n",
    "plot!(Rayleigh(σ_R), label=\"Rayleigh\")\n",
    "\n",
    "# Superimpose the Exponential (E0) density\n",
    "λ_E0 = 1 / mean(Y)\n",
    "plot!(Exponential(λ_E0), label=\"Exponential (E0)\")\n",
    "\n",
    "# Superimpose the Erlang (E1, E2) densities\n",
    "λ_E1 = 1 / mean(Y)  # Same as E0 for m=1\n",
    "plot!(Gamma(1, 1/λ_E1), label=\"Erlang (E1)\")\n",
    "\n",
    "λ_E2 = 2 / mean(Y)  # Adjust for m=2, assuming mean(Y) adjustment\n",
    "plot!(Gamma(2, 1/λ_E2), label=\"Erlang (E2)\")\n",
    "\n",
    "# Superimpose the Shifted Rayleigh (SR) density - manual definition required\n",
    "α_SR = minimum(Y)  # Estimate or choose α\n",
    "σ²_SR = var(Y)  # Estimate or choose σ²\n",
    "y_vals = range(α_SR, maximum(Y) + 1, 200)\n",
    "sr_pdf = [(y - α_SR) / σ²_SR * exp(-((y - α_SR)^2) / (2σ²_SR)) for y in y_vals]\n",
    "plot!(y_vals, sr_pdf, label=\"Shifted Rayleigh (SR)\")\n",
    "\n",
    "# Display the plot\n",
    "xlabel!(\"y\")\n",
    "ylabel!(\"Density\")\n",
    "title!(\"Histogram and Marginal Densities\")\n"
   ]
  },
  {
   "cell_type": "code",
   "execution_count": null,
   "id": "8ff3c32c-4ddc-419f-af1a-01ec5166106b",
   "metadata": {},
   "outputs": [],
   "source": []
  }
 ],
 "metadata": {
  "kernelspec": {
   "display_name": "Julia 1.9.3",
   "language": "julia",
   "name": "julia-1.9"
  },
  "language_info": {
   "file_extension": ".jl",
   "mimetype": "application/julia",
   "name": "julia",
   "version": "1.10.0"
  }
 },
 "nbformat": 4,
 "nbformat_minor": 5
}
