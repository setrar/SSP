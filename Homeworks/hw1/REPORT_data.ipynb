{
 "cells": [
  {
   "cell_type": "markdown",
   "id": "18cdc126-4d8f-49fe-b924-72d69b73289b",
   "metadata": {},
   "source": [
    "# &#x1F4DD; REPORT"
   ]
  },
  {
   "cell_type": "markdown",
   "id": "3d6ac38c-059f-49fb-b237-7c09e4fc50c3",
   "metadata": {},
   "source": [
    "# Homework &#x0031;&#xFE0F;&#x20E3; \n",
    "\n",
    "Homework policy: the homework is individual. Students are encouraged to discuss with fellow students to try to find the main structure of the solution for a problem, especially if they are totally stuck at the beginning of the problem. However, you should work out the details yourself and write down in your own words only what you understand yourself."
   ]
  },
  {
   "cell_type": "markdown",
   "id": "34e91283-0494-4de9-bbf3-56d7d25a0a78",
   "metadata": {},
   "source": [
    "\n",
    "In this problem, we consider the roundtrip delay in a computer network (internet) between the computer we’re working on and another computer connected to the network. This roundtrip delay will be different, every time we send a message. As such, it can be modeled as a random variable y. For the design of network protocols and for their performance evaluation, it is important to know the distribution of this random roundtrip delay. To turn the estimation of the roundtrip delay distribution into a parameter estimation problem, we shall take a parametric distribution, parameterized by one or more parameters. Since we don’t have too much information about this variable y (except that it should be positive), we shall try several parametric distributions. In particular, we shall consider the following distributions:\n",
    "\n",
    "$$\n",
    "\\text { * A Gaussian distribution: } \\qquad f_G (y|\\mu, \\sigma^2) = \\frac{1}{\\sqrt{2\\pi\\sigma^2}}  e^{-\\frac{(y−\\mu)^2}{2\\sigma^2}} \n",
    "$$\n",
    "\n",
    "$$\n",
    "\\text { * A Rayleigh distribution: } \\qquad f_R (y|\\sigma^2) = \n",
    "\\begin{cases}\n",
    "0 & , y < 0\n",
    "\\\\\n",
    "\\frac{y}{\\sigma^2}  e^{-\\frac{y^2}{2\\sigma^2}} & , y \\geq 0\n",
    "\\end{cases}\n",
    "$$\n",
    "\n",
    "$$\n",
    "\\text { * An Erlang distribution: } \\qquad f_{Em} (y|\\lambda) = \n",
    "\\begin{cases}\n",
    "0 & , y < 0\n",
    "\\\\\n",
    "\\frac{\\lambda^{m+1}}{m!} y^me^{\\lambda y} & , y \\geq 0\n",
    "\\end{cases} \n",
    "\\\\\n",
    "\\text{ for different values of } m \\in \\{0,1,2\\}.\n",
    "\\\\\n",
    "\\\\\n",
    "\\text{ Remark that for m = 0 we have an exponential density: }\n",
    "\\\\\n",
    "f_{E0}(y|\\lambda) = \n",
    "\\begin{cases}\n",
    "0 & , y < 0\n",
    "\\\\\n",
    "\\lambda e^{-\\lambda y} & , y \\geq 0\n",
    "\\end{cases}\n",
    "$$\n",
    "\n",
    "$$\n",
    "\\text{ * A (shifted) exponential density: } \\qquad f_{exp}(y|\\lambda,\\alpha) = \n",
    "\\begin{cases}\n",
    "0 & , y < 0\n",
    "\\\\\n",
    "\\lambda e^{-\\lambda(y - \\alpha)} & , y \\geq 0\n",
    "\\end{cases}\n",
    "$$"
   ]
  },
  {
   "cell_type": "markdown",
   "id": "dc509581-f206-4fa8-94ed-7297a4f6512f",
   "metadata": {},
   "source": [
    "**&#x1F516;** **(&#x2170;)** Your raw data?\n"
   ]
  },
  {
   "cell_type": "code",
   "execution_count": 1,
   "id": "1131459e-bbd4-4406-827e-95fe01f24938",
   "metadata": {},
   "outputs": [],
   "source": [
    "using DataFrames, CSV"
   ]
  },
  {
   "cell_type": "code",
   "execution_count": 2,
   "id": "9a236f89-c5ff-450d-a4e8-0c80b62a7c98",
   "metadata": {},
   "outputs": [],
   "source": [
    "df = CSV.File(\"stats.txt\") |> DataFrame;"
   ]
  },
  {
   "cell_type": "code",
   "execution_count": 3,
   "id": "6d3a72c8-84f5-4115-84ab-69116232835e",
   "metadata": {},
   "outputs": [],
   "source": [
    "using PrettyTables"
   ]
  },
  {
   "cell_type": "code",
   "execution_count": 4,
   "id": "76e687bc-2c24-46d8-b450-cbe3f94d9473",
   "metadata": {},
   "outputs": [],
   "source": [
    "header = (\n",
    "      [\"pingstats\"]\n",
    "    , [\"[Float64]\"]\n",
    ");"
   ]
  },
  {
   "cell_type": "code",
   "execution_count": 5,
   "id": "0084fdeb-5d4e-4b1c-9b85-900e1dc2f0bd",
   "metadata": {},
   "outputs": [
    {
     "name": "stdout",
     "output_type": "stream",
     "text": [
      "y[1:3] = [158.991, 152.726, 152.736]\n"
     ]
    }
   ],
   "source": [
    "y = df[!,\"pingstats\"]; @show y[1:3];"
   ]
  },
  {
   "cell_type": "code",
   "execution_count": 6,
   "id": "558311d4-7fa5-4d09-ae26-18286a800a02",
   "metadata": {},
   "outputs": [
    {
     "data": {
      "text/html": [
       "<!DOCTYPE html>\n",
       "<html>\n",
       "<meta charset=\"UTF-8\">\n",
       "<head>\n",
       "<style>\n",
       "  table, td, th {\n",
       "      border-collapse: collapse;\n",
       "      font-family: sans-serif;\n",
       "  }\n",
       "\n",
       "  td, th {\n",
       "      border-bottom: 0;\n",
       "      padding: 4px\n",
       "  }\n",
       "\n",
       "  tr:nth-child(odd) {\n",
       "      background: #eee;\n",
       "  }\n",
       "\n",
       "  tr:nth-child(even) {\n",
       "      background: #fff;\n",
       "  }\n",
       "\n",
       "  tr.header {\n",
       "      background: navy !important;\n",
       "      color: white;\n",
       "      font-weight: bold;\n",
       "  }\n",
       "\n",
       "  tr.subheader {\n",
       "      background: lightgray !important;\n",
       "      color: black;\n",
       "  }\n",
       "\n",
       "  tr.headerLastRow {\n",
       "      border-bottom: 2px solid black;\n",
       "  }\n",
       "\n",
       "  th.rowNumber, td.rowNumber {\n",
       "      text-align: right;\n",
       "  }\n",
       "\n",
       "</style>\n",
       "</head>\n",
       "<body>\n",
       "<table>\n",
       "  <thead>\n",
       "    <tr class = \"header\">\n",
       "      <th style = \"text-align: right;\">pingstats</th>\n",
       "    </tr>\n",
       "    <tr class = \"subheader headerLastRow\">\n",
       "      <th style = \"text-align: right;\">[Float64]</th>\n",
       "    </tr>\n",
       "  </thead>\n",
       "  <tbody>\n",
       "    <tr>\n",
       "      <td style = \"text-align: right;\">158.991</td>\n",
       "    </tr>\n",
       "    <tr>\n",
       "      <td style = \"text-align: right;\">152.726</td>\n",
       "    </tr>\n",
       "    <tr>\n",
       "      <td style = \"text-align: right;\">152.736</td>\n",
       "    </tr>\n",
       "  </tbody>\n",
       "</table>\n",
       "</body>\n",
       "</html>\n"
      ]
     },
     "metadata": {},
     "output_type": "display_data"
    }
   ],
   "source": [
    "pretty_table(\n",
    "    first(y, 3)\n",
    "    , backend=Val(:html), header = header, standalone=true)"
   ]
  },
  {
   "cell_type": "code",
   "execution_count": 7,
   "id": "ec0753b8-9efe-4024-ac38-e1f20d772e93",
   "metadata": {},
   "outputs": [],
   "source": [
    "using Statistics\n",
    "using StatsPlots"
   ]
  },
  {
   "cell_type": "code",
   "execution_count": 8,
   "id": "fdb52ff8-f40f-4362-a481-d4c8f7b8ae0f",
   "metadata": {},
   "outputs": [
    {
     "data": {
      "text/plain": [
       "100"
      ]
     },
     "execution_count": 8,
     "metadata": {},
     "output_type": "execute_result"
    }
   ],
   "source": [
    "# Global Operations and constants\n",
    "∑ = sum\n",
    "𝖤 = mean # Expected Value\n",
    "n = length(y) # Lenght of data used all along"
   ]
  },
  {
   "cell_type": "code",
   "execution_count": 9,
   "id": "a321c281-08b5-40de-9df0-ebf34c7d5152",
   "metadata": {},
   "outputs": [],
   "source": [
    "using Markdown"
   ]
  },
  {
   "cell_type": "markdown",
   "id": "2831332d-217e-489c-837d-4d91c33ff423",
   "metadata": {},
   "source": [
    "**&#x1F516;** **(&#x2170;&#x2170;)** Estimated Parameters"
   ]
  },
  {
   "cell_type": "markdown",
   "id": "2c4fec07-71e9-4c17-8fc7-e85b634a3b51",
   "metadata": {},
   "source": [
    "#### &#x1F4DD; Gaussian Distribution\n",
    "\n",
    "Given the probability density function (PDF) of a Gaussian (normal) distribution\n",
    "\n",
    "$ f_G(y|\\mu, \\sigma^2) = \\frac{1}{\\sqrt{2\\pi\\sigma^2}} e^{-\\frac{(y-\\mu)^2}{2\\sigma^2}} $\n",
    "\n",
    "and a dataset $Y = \\{y_1, y_2, \\ldots, y_n\\}$, we want to find the Maximum Likelihood Estimators (MLEs) for the parameters $\\mu$ (mean) and $\\sigma^2$ (variance).\n",
    "\n",
    "### Finding $\\mu$ and $\\sigma^2$\n",
    "\n",
    "The MLEs for $\\mu$ and $\\sigma^2$ are found by maximizing the log-likelihood function derived from the given PDF.\n",
    "\n",
    "#### Log-Likelihood Function\n",
    "\n",
    "The log-likelihood function for the Gaussian distribution, given $n$ data points, is:\n",
    "\n",
    "$ L(\\mu, \\sigma^2 | Y) = -\\frac{n}{2} \\ln(2\\pi\\sigma^2) - \\frac{1}{2\\sigma^2} \\sum_{i=1}^{n} (y - \\mu)^2 $\n",
    "\n",
    "#### Maximizing the Log-Likelihood\n",
    "\n",
    "To find the MLEs, we take the partial derivatives of $L(\\mu, \\sigma^2 | Y)$ with respect to $\\mu$ and $\\sigma^2$, set them to zero, and solve for $\\mu$ and $\\sigma^2$.\n",
    "\n",
    "1. **For $\\mu$:**\n",
    "\n",
    "$ \\frac{\\partial L}{\\partial \\mu} = \\frac{1}{\\sigma^2} \\sum_{i=1}^{n} (y - \\mu) = 0 $\n",
    "\n",
    "Solving this for $\\mu$ gives:\n",
    "\n",
    "$ \\hat{\\mu} = \\frac{1}{n} \\sum_{i=1}^{n} y $\n",
    "\n",
    "This is the sample mean of the data.\n",
    "\n",
    "2. **For $\\sigma^2$:**\n",
    "\n",
    "$ \\frac{\\partial L}{\\partial \\sigma^2} = -\\frac{n}{2\\sigma^2} + \\frac{1}{2(\\sigma^2)^2} \\sum_{i=1}^{n} (y - \\mu)^2 = 0 $\n",
    "\n",
    "Solving for $\\sigma^2$ gives:\n",
    "\n",
    "$ \\hat{\\sigma}^2 = \\frac{1}{n} \\sum_{i=1}^{n} (y - \\hat{\\mu})^2 $\n",
    "\n",
    "This is the sample variance of the data.\n",
    "\n",
    "### Summary\n",
    "\n",
    "- The MLE of $\\mu$ ($\\hat{\\mu}$) is the sample mean.\n",
    "- The MLE of $\\sigma^2$ ($\\hat{\\sigma}^2$) is the sample variance (without Bessel's correction)."
   ]
  },
  {
   "cell_type": "markdown",
   "id": "05c3f314-40c3-443a-bd96-ddeed05be437",
   "metadata": {},
   "source": [
    "&#x1F518; $\\mu_G$=? ($\\mu_G$)"
   ]
  },
  {
   "cell_type": "code",
   "execution_count": 10,
   "id": "a037760e-9f5e-4f01-896e-73ba29fc9709",
   "metadata": {},
   "outputs": [
    {
     "data": {
      "text/latex": [
       "\\paragraph{\\&\\#x1F4DD; Estimated Gaussian Mean}\n",
       "$$\\hat{\\mu}_G = \\frac{1}{n} \\sum_{i=1}^{n} y \\qquad \\{i: \\in 1,\\cdots,n\\}$$\n"
      ],
      "text/markdown": [
       "#### &#x1F4DD; Estimated Gaussian Mean\n",
       "\n",
       "$$\n",
       "\\hat{\\mu}_G = \\frac{1}{n} \\sum_{i=1}^{n} y \\qquad \\{i: \\in 1,\\cdots,n\\}\n",
       "$$\n"
      ],
      "text/plain": [
       "\u001b[1m  &#x1F4DD; Estimated Gaussian Mean\u001b[22m\n",
       "\u001b[1m  ---------------------------------\u001b[22m\n",
       "\n",
       "\u001b[35m  \\hat{\\mu}_G = \\frac{1}{n} \\sum_{i=1}^{n} y \\qquad \\{i: \\in 1,\\cdots,n\\}\u001b[39m"
      ]
     },
     "execution_count": 10,
     "metadata": {},
     "output_type": "execute_result"
    }
   ],
   "source": [
    "Markdown.parse(raw\"\n",
    "#### &#x1F4DD; Estimated Gaussian Mean\n",
    "```math\n",
    "\\hat{\\mu}_G = \\frac{1}{n} \\sum_{i=1}^{n} y \\qquad \\{i: \\in 1,\\cdots,n\\}\n",
    "```\n",
    "\")"
   ]
  },
  {
   "cell_type": "code",
   "execution_count": 11,
   "id": "f4fd48ca-ee0b-42d8-b432-b0f05084a55d",
   "metadata": {},
   "outputs": [
    {
     "name": "stdout",
     "output_type": "stream",
     "text": [
      "The estimated mean μ̂ of the dataset is: 180.0\n"
     ]
    }
   ],
   "source": [
    "# Compute the mean by dividing the total sum by the number of data points\n",
    "μ̂𝐺 = 1/n * ∑([i for i in y])\n",
    "\n",
    "# Print the calculated mean\n",
    "println(\"The estimated mean μ̂ of the dataset is: \", round(μ̂𝐺))"
   ]
  },
  {
   "cell_type": "markdown",
   "id": "b2b8a399-d27e-4617-886e-d77c73766da5",
   "metadata": {},
   "source": [
    "&#x1F518; $\\sigma_G$=? ($\\sigma_G^2$)"
   ]
  },
  {
   "cell_type": "code",
   "execution_count": 12,
   "id": "0f2008be-8315-476e-85d0-21e3bf7da1b9",
   "metadata": {},
   "outputs": [
    {
     "data": {
      "text/latex": [
       "\\paragraph{\\&\\#x1F4DD; Estimated Gaussian Variance}\n",
       "$$\\hat{\\sigma}_G^2 = \\frac{1}{n} \\sum_{i=1}^{n} (y - \\hat{\\mu}_G)^2 \\qquad \\{i: \\in 1,\\cdots,n\\}$$\n",
       "with Bessel's correction replace $\\frac{1}{n}$ by $\\frac{1}{n - 1}$\n",
       "\n"
      ],
      "text/markdown": [
       "#### &#x1F4DD; Estimated Gaussian Variance\n",
       "\n",
       "$$\n",
       "\\hat{\\sigma}_G^2 = \\frac{1}{n} \\sum_{i=1}^{n} (y - \\hat{\\mu}_G)^2 \\qquad \\{i: \\in 1,\\cdots,n\\}\n",
       "$$\n",
       "\n",
       "with Bessel's correction replace $\\frac{1}{n}$ by $\\frac{1}{n - 1}$\n"
      ],
      "text/plain": [
       "\u001b[1m  &#x1F4DD; Estimated Gaussian Variance\u001b[22m\n",
       "\u001b[1m  -------------------------------------\u001b[22m\n",
       "\n",
       "\u001b[35m  \\hat{\\sigma}_G^2 = \\frac{1}{n} \\sum_{i=1}^{n} (y - \\hat{\\mu}_G)^2 \\qquad \\{i: \\in 1,\\cdots,n\\}\u001b[39m\n",
       "\n",
       "  with Bessel's correction replace \u001b[35m\\frac{1}{n}\u001b[39m by \u001b[35m\\frac{1}{n - 1}\u001b[39m"
      ]
     },
     "execution_count": 12,
     "metadata": {},
     "output_type": "execute_result"
    }
   ],
   "source": [
    "Markdown.parse(raw\"\n",
    "#### &#x1F4DD; Estimated Gaussian Variance\n",
    "```math\n",
    "\\hat{\\sigma}_G^2 = \\frac{1}{n} \\sum_{i=1}^{n} (y - \\hat{\\mu}_G)^2 \\qquad \\{i: \\in 1,\\cdots,n\\}\n",
    "```\n",
    "with Bessel's correction replace $\\frac{1}{n}$ by $\\frac{1}{n - 1}$\n",
    "\")"
   ]
  },
  {
   "cell_type": "code",
   "execution_count": 13,
   "id": "c6599c8d-c575-47a5-9c1d-3b16ee4e433f",
   "metadata": {},
   "outputs": [
    {
     "name": "stdout",
     "output_type": "stream",
     "text": [
      "The calculated variance σ𝐺² of the dataset is: 576.0\n"
     ]
    }
   ],
   "source": [
    "# Calculate the variance (this is σ_G^2)\n",
    "σ̂𝐺² = 1/n * ∑([(i - μ̂𝐺)^2 for i in y]) # or σ̂𝐺² = var(y, corrected=false) if using Statistics package\n",
    "\n",
    "# Print the calculated variance\n",
    "println(\"The calculated variance σ𝐺² of the dataset is: \", round(σ̂𝐺²))"
   ]
  },
  {
   "cell_type": "code",
   "execution_count": 14,
   "id": "ae0f4844-02ac-4aec-a0f7-ab3dd11b6200",
   "metadata": {},
   "outputs": [
    {
     "data": {
      "text/latex": [
       "\\paragraph{\\&\\#x1F4DD; Estimated Gaussian Standard Deviation}\n",
       "$$\\hat{\\sigma}_G = \\sqrt{\\hat{\\sigma}_G^2}$$\n"
      ],
      "text/markdown": [
       "#### &#x1F4DD; Estimated Gaussian Standard Deviation\n",
       "\n",
       "$$\n",
       "\\hat{\\sigma}_G = \\sqrt{\\hat{\\sigma}_G^2}\n",
       "$$\n"
      ],
      "text/plain": [
       "\u001b[1m  &#x1F4DD; Estimated Gaussian Standard Deviation\u001b[22m\n",
       "\u001b[1m  -----------------------------------------------\u001b[22m\n",
       "\n",
       "\u001b[35m  \\hat{\\sigma}_G = \\sqrt{\\hat{\\sigma}_G^2}\u001b[39m"
      ]
     },
     "execution_count": 14,
     "metadata": {},
     "output_type": "execute_result"
    }
   ],
   "source": [
    "Markdown.parse(raw\"\n",
    "#### &#x1F4DD; Estimated Gaussian Standard Deviation\n",
    "```math\n",
    "\\hat{\\sigma}_G = \\sqrt{\\hat{\\sigma}_G^2}\n",
    "```\n",
    "\")"
   ]
  },
  {
   "cell_type": "code",
   "execution_count": 15,
   "id": "5cc0f8ae-5044-4196-80a4-b0e95eb6f48d",
   "metadata": {},
   "outputs": [
    {
     "name": "stdout",
     "output_type": "stream",
     "text": [
      "calculated standard deviation σ̂𝐺 = 24.0\n"
     ]
    }
   ],
   "source": [
    "# Calculate the standard deviation (\\hat{\\sigma}_G)\n",
    "σ̂𝐺 = √(σ̂𝐺²)\n",
    "\n",
    "println(\"calculated standard deviation σ̂𝐺 = \", round(σ̂𝐺))"
   ]
  },
  {
   "cell_type": "code",
   "execution_count": 16,
   "id": "71022ca7-efec-459f-990c-ee3051580067",
   "metadata": {},
   "outputs": [
    {
     "data": {
      "text/latex": [
       "\\paragraph{\\&\\#x1F4DD; Gaussian Log-Likelihood}\n",
       "$$\\mathcal{L}_G(\\mu_G, \\sigma_G^2) = -\\frac{n}{2} \\log(2\\pi\\sigma_G^2) - \\frac{1}{2\\sigma_G^2} \\sum_{i=1}^{n} (y - \\mu_G)^2$$\n"
      ],
      "text/markdown": [
       "#### &#x1F4DD; Gaussian Log-Likelihood\n",
       "\n",
       "$$\n",
       "\\mathcal{L}_G(\\mu_G, \\sigma_G^2) = -\\frac{n}{2} \\log(2\\pi\\sigma_G^2) - \\frac{1}{2\\sigma_G^2} \\sum_{i=1}^{n} (y - \\mu_G)^2\n",
       "$$\n"
      ],
      "text/plain": [
       "\u001b[1m  &#x1F4DD; Gaussian Log-Likelihood\u001b[22m\n",
       "\u001b[1m  ---------------------------------\u001b[22m\n",
       "\n",
       "\u001b[35m  \\mathcal{L}_G(\\mu_G, \\sigma_G^2) = -\\frac{n}{2} \\log(2\\pi\\sigma_G^2) - \\frac{1}{2\\sigma_G^2} \\sum_{i=1}^{n} (y - \\mu_G)^2\u001b[39m"
      ]
     },
     "execution_count": 16,
     "metadata": {},
     "output_type": "execute_result"
    }
   ],
   "source": [
    "Markdown.parse(raw\"\n",
    "#### &#x1F4DD; Gaussian Log-Likelihood\n",
    "```math\n",
    "\\mathcal{L}_G(\\mu_G, \\sigma_G^2) = -\\frac{n}{2} \\log(2\\pi\\sigma_G^2) - \\frac{1}{2\\sigma_G^2} \\sum_{i=1}^{n} (y - \\mu_G)^2\n",
    "```\n",
    "\")"
   ]
  },
  {
   "cell_type": "code",
   "execution_count": 17,
   "id": "91a8cab5-3d11-4cca-a832-a91f2ad55b12",
   "metadata": {},
   "outputs": [
    {
     "name": "stdout",
     "output_type": "stream",
     "text": [
      "Log-likelihood 𝓛𝐺: -460.0\n"
     ]
    }
   ],
   "source": [
    "# Compute the log-likelihood 𝓛G \n",
    "𝓛𝐺 = -n/2 * log(2π * σ̂𝐺²) - 1/(2*σ̂𝐺²) * ∑((y .- μ̂𝐺).^2) # typed \\bscrL\n",
    "\n",
    "println(\"Log-likelihood 𝓛𝐺: \", round(𝓛𝐺))"
   ]
  },
  {
   "cell_type": "markdown",
   "id": "d34a9ada-ee41-4915-8928-25f0bf70f084",
   "metadata": {},
   "source": [
    "#### &#x1F4CA; Plot"
   ]
  },
  {
   "cell_type": "code",
   "execution_count": 18,
   "id": "1c42b454-7dab-47c7-9b37-f5303f469ea6",
   "metadata": {},
   "outputs": [],
   "source": [
    "using Distributions"
   ]
  },
  {
   "cell_type": "code",
   "execution_count": 19,
   "id": "8f375733-cba6-49d8-b8c6-b5084c5ba813",
   "metadata": {},
   "outputs": [
    {
     "data": {
      "image/png": "[encoded data removed]",
      "image/svg+xml": [
       "<?xml version=\"1.0\" encoding=\"utf-8\"?>\n",
       "<svg xmlns=\"http://www.w3.org/2000/svg\" xmlns:xlink=\"http://www.w3.org/1999/xlink\" width=\"600\" height=\"400\" viewBox=\"0 0 2400 1600\">\n",
       "<defs>\n",
       "  <clipPath id=\"clip760\">\n",
       "    <rect x=\"0\" y=\"0\" width=\"2400\" height=\"1600\"/>\n",
       "  </clipPath>\n",
       "</defs>\n",
       "<path clip-path=\"url(#clip760)\" d=\"M0 1600 L2400 1600 L2400 0 L0 0  Z\" fill=\"#ffffff\" fill-rule=\"evenodd\" fill-opacity=\"1\"/>\n",
       "<defs>\n",
       "  <clipPath id=\"clip761\">\n",
       "    <rect x=\"480\" y=\"0\" width=\"1681\" height=\"1600\"/>\n",
       "  </clipPath>\n",
       "</defs>\n",
       "<path clip-path=\"url(#clip760)\" d=\"M205.121 1423.18 L2352.76 1423.18 L2352.76 47.2441 L205.121 47.2441  Z\" fill=\"#ffffff\" fill-rule=\"evenodd\" fill-opacity=\"1\"/>\n",
       "<defs>\n",
       "  <clipPath id=\"clip762\">\n",
       "    <rect x=\"205\" y=\"47\" width=\"2149\" height=\"1377\"/>\n",
       "  </clipPath>\n",
       "</defs>\n",
       "<polyline clip-path=\"url(#clip762)\" style=\"stroke:#000000; stroke-linecap:round; stroke-linejoin:round; stroke-width:2; stroke-opacity:0.1; fill:none\" points=\"258.749,1423.18 258.749,47.2441 \"/>\n",
       "<polyline clip-path=\"url(#clip762)\" style=\"stroke:#000000; stroke-linecap:round; stroke-linejoin:round; stroke-width:2; stroke-opacity:0.1; fill:none\" points=\"616.459,1423.18 616.459,47.2441 \"/>\n",
       "<polyline clip-path=\"url(#clip762)\" style=\"stroke:#000000; stroke-linecap:round; stroke-linejoin:round; stroke-width:2; stroke-opacity:0.1; fill:none\" points=\"974.169,1423.18 974.169,47.2441 \"/>\n",
       "<polyline clip-path=\"url(#clip762)\" style=\"stroke:#000000; stroke-linecap:round; stroke-linejoin:round; stroke-width:2; stroke-opacity:0.1; fill:none\" points=\"1331.88,1423.18 1331.88,47.2441 \"/>\n",
       "<polyline clip-path=\"url(#clip762)\" style=\"stroke:#000000; stroke-linecap:round; stroke-linejoin:round; stroke-width:2; stroke-opacity:0.1; fill:none\" points=\"1689.59,1423.18 1689.59,47.2441 \"/>\n",
       "<polyline clip-path=\"url(#clip762)\" style=\"stroke:#000000; stroke-linecap:round; stroke-linejoin:round; stroke-width:2; stroke-opacity:0.1; fill:none\" points=\"2047.3,1423.18 2047.3,47.2441 \"/>\n",
       "<polyline clip-path=\"url(#clip760)\" style=\"stroke:#000000; stroke-linecap:round; stroke-linejoin:round; stroke-width:4; stroke-opacity:1; fill:none\" points=\"205.121,1423.18 2352.76,1423.18 \"/>\n",
       "<polyline clip-path=\"url(#clip760)\" style=\"stroke:#000000; stroke-linecap:round; stroke-linejoin:round; stroke-width:4; stroke-opacity:1; fill:none\" points=\"258.749,1423.18 258.749,1404.28 \"/>\n",
       "<polyline clip-path=\"url(#clip760)\" style=\"stroke:#000000; stroke-linecap:round; stroke-linejoin:round; stroke-width:4; stroke-opacity:1; fill:none\" points=\"616.459,1423.18 616.459,1404.28 \"/>\n",
       "<polyline clip-path=\"url(#clip760)\" style=\"stroke:#000000; stroke-linecap:round; stroke-linejoin:round; stroke-width:4; stroke-opacity:1; fill:none\" points=\"974.169,1423.18 974.169,1404.28 \"/>\n",
       "<polyline clip-path=\"url(#clip760)\" style=\"stroke:#000000; stroke-linecap:round; stroke-linejoin:round; stroke-width:4; stroke-opacity:1; fill:none\" points=\"1331.88,1423.18 1331.88,1404.28 \"/>\n",
       "<polyline clip-path=\"url(#clip760)\" style=\"stroke:#000000; stroke-linecap:round; stroke-linejoin:round; stroke-width:4; stroke-opacity:1; fill:none\" points=\"1689.59,1423.18 1689.59,1404.28 \"/>\n",
       "<polyline clip-path=\"url(#clip760)\" style=\"stroke:#000000; stroke-linecap:round; stroke-linejoin:round; stroke-width:4; stroke-opacity:1; fill:none\" points=\"2047.3,1423.18 2047.3,1404.28 \"/>\n",
       "<path clip-path=\"url(#clip760)\" d=\"M258.749 1454.1 Q255.138 1454.1 253.309 1457.66 Q251.504 1461.2 251.504 1468.33 Q251.504 1475.44 253.309 1479.01 Q255.138 1482.55 258.749 1482.55 Q262.383 1482.55 264.189 1479.01 Q266.017 1475.44 266.017 1468.33 Q266.017 1461.2 264.189 1457.66 Q262.383 1454.1 258.749 1454.1 M258.749 1450.39 Q264.559 1450.39 267.615 1455 Q270.693 1459.58 270.693 1468.33 Q270.693 1477.06 267.615 1481.67 Q264.559 1486.25 258.749 1486.25 Q252.939 1486.25 249.86 1481.67 Q246.805 1477.06 246.805 1468.33 Q246.805 1459.58 249.86 1455 Q252.939 1450.39 258.749 1450.39 Z\" fill=\"#000000\" fill-rule=\"nonzero\" fill-opacity=\"1\" /><path clip-path=\"url(#clip760)\" d=\"M591.158 1451.02 L609.515 1451.02 L609.515 1454.96 L595.441 1454.96 L595.441 1463.43 Q596.459 1463.08 597.478 1462.92 Q598.496 1462.73 599.515 1462.73 Q605.302 1462.73 608.681 1465.9 Q612.061 1469.08 612.061 1474.49 Q612.061 1480.07 608.589 1483.17 Q605.117 1486.25 598.797 1486.25 Q596.621 1486.25 594.353 1485.88 Q592.107 1485.51 589.7 1484.77 L589.7 1480.07 Q591.783 1481.2 594.006 1481.76 Q596.228 1482.32 598.705 1482.32 Q602.709 1482.32 605.047 1480.21 Q607.385 1478.1 607.385 1474.49 Q607.385 1470.88 605.047 1468.77 Q602.709 1466.67 598.705 1466.67 Q596.83 1466.67 594.955 1467.08 Q593.103 1467.5 591.158 1468.38 L591.158 1451.02 Z\" fill=\"#000000\" fill-rule=\"nonzero\" fill-opacity=\"1\" /><path clip-path=\"url(#clip760)\" d=\"M631.274 1454.1 Q627.663 1454.1 625.834 1457.66 Q624.029 1461.2 624.029 1468.33 Q624.029 1475.44 625.834 1479.01 Q627.663 1482.55 631.274 1482.55 Q634.908 1482.55 636.714 1479.01 Q638.542 1475.44 638.542 1468.33 Q638.542 1461.2 636.714 1457.66 Q634.908 1454.1 631.274 1454.1 M631.274 1450.39 Q637.084 1450.39 640.14 1455 Q643.218 1459.58 643.218 1468.33 Q643.218 1477.06 640.14 1481.67 Q637.084 1486.25 631.274 1486.25 Q625.464 1486.25 622.385 1481.67 Q619.329 1477.06 619.329 1468.33 Q619.329 1459.58 622.385 1455 Q625.464 1450.39 631.274 1450.39 Z\" fill=\"#000000\" fill-rule=\"nonzero\" fill-opacity=\"1\" /><path clip-path=\"url(#clip760)\" d=\"M933.776 1481.64 L941.415 1481.64 L941.415 1455.28 L933.105 1456.95 L933.105 1452.69 L941.369 1451.02 L946.044 1451.02 L946.044 1481.64 L953.683 1481.64 L953.683 1485.58 L933.776 1485.58 L933.776 1481.64 Z\" fill=\"#000000\" fill-rule=\"nonzero\" fill-opacity=\"1\" /><path clip-path=\"url(#clip760)\" d=\"M973.128 1454.1 Q969.517 1454.1 967.688 1457.66 Q965.882 1461.2 965.882 1468.33 Q965.882 1475.44 967.688 1479.01 Q969.517 1482.55 973.128 1482.55 Q976.762 1482.55 978.567 1479.01 Q980.396 1475.44 980.396 1468.33 Q980.396 1461.2 978.567 1457.66 Q976.762 1454.1 973.128 1454.1 M973.128 1450.39 Q978.938 1450.39 981.993 1455 Q985.072 1459.58 985.072 1468.33 Q985.072 1477.06 981.993 1481.67 Q978.938 1486.25 973.128 1486.25 Q967.318 1486.25 964.239 1481.67 Q961.183 1477.06 961.183 1468.33 Q961.183 1459.58 964.239 1455 Q967.318 1450.39 973.128 1450.39 Z\" fill=\"#000000\" fill-rule=\"nonzero\" fill-opacity=\"1\" /><path clip-path=\"url(#clip760)\" d=\"M1003.29 1454.1 Q999.678 1454.1 997.85 1457.66 Q996.044 1461.2 996.044 1468.33 Q996.044 1475.44 997.85 1479.01 Q999.678 1482.55 1003.29 1482.55 Q1006.92 1482.55 1008.73 1479.01 Q1010.56 1475.44 1010.56 1468.33 Q1010.56 1461.2 1008.73 1457.66 Q1006.92 1454.1 1003.29 1454.1 M1003.29 1450.39 Q1009.1 1450.39 1012.16 1455 Q1015.23 1459.58 1015.23 1468.33 Q1015.23 1477.06 1012.16 1481.67 Q1009.1 1486.25 1003.29 1486.25 Q997.479 1486.25 994.401 1481.67 Q991.345 1477.06 991.345 1468.33 Q991.345 1459.58 994.401 1455 Q997.479 1450.39 1003.29 1450.39 Z\" fill=\"#000000\" fill-rule=\"nonzero\" fill-opacity=\"1\" /><path clip-path=\"url(#clip760)\" d=\"M1291.49 1481.64 L1299.13 1481.64 L1299.13 1455.28 L1290.81 1456.95 L1290.81 1452.69 L1299.08 1451.02 L1303.75 1451.02 L1303.75 1481.64 L1311.39 1481.64 L1311.39 1485.58 L1291.49 1485.58 L1291.49 1481.64 Z\" fill=\"#000000\" fill-rule=\"nonzero\" fill-opacity=\"1\" /><path clip-path=\"url(#clip760)\" d=\"M1320.88 1451.02 L1339.24 1451.02 L1339.24 1454.96 L1325.17 1454.96 L1325.17 1463.43 Q1326.19 1463.08 1327.2 1462.92 Q1328.22 1462.73 1329.24 1462.73 Q1335.03 1462.73 1338.41 1465.9 Q1341.79 1469.08 1341.79 1474.49 Q1341.79 1480.07 1338.31 1483.17 Q1334.84 1486.25 1328.52 1486.25 Q1326.35 1486.25 1324.08 1485.88 Q1321.83 1485.51 1319.43 1484.77 L1319.43 1480.07 Q1321.51 1481.2 1323.73 1481.76 Q1325.95 1482.32 1328.43 1482.32 Q1332.44 1482.32 1334.77 1480.21 Q1337.11 1478.1 1337.11 1474.49 Q1337.11 1470.88 1334.77 1468.77 Q1332.44 1466.67 1328.43 1466.67 Q1326.56 1466.67 1324.68 1467.08 Q1322.83 1467.5 1320.88 1468.38 L1320.88 1451.02 Z\" fill=\"#000000\" fill-rule=\"nonzero\" fill-opacity=\"1\" /><path clip-path=\"url(#clip760)\" d=\"M1361 1454.1 Q1357.39 1454.1 1355.56 1457.66 Q1353.75 1461.2 1353.75 1468.33 Q1353.75 1475.44 1355.56 1479.01 Q1357.39 1482.55 1361 1482.55 Q1364.63 1482.55 1366.44 1479.01 Q1368.27 1475.44 1368.27 1468.33 Q1368.27 1461.2 1366.44 1457.66 Q1364.63 1454.1 1361 1454.1 M1361 1450.39 Q1366.81 1450.39 1369.87 1455 Q1372.94 1459.58 1372.94 1468.33 Q1372.94 1477.06 1369.87 1481.67 Q1366.81 1486.25 1361 1486.25 Q1355.19 1486.25 1352.11 1481.67 Q1349.06 1477.06 1349.06 1468.33 Q1349.06 1459.58 1352.11 1455 Q1355.19 1450.39 1361 1450.39 Z\" fill=\"#000000\" fill-rule=\"nonzero\" fill-opacity=\"1\" /><path clip-path=\"url(#clip760)\" d=\"M1653.28 1481.64 L1669.6 1481.64 L1669.6 1485.58 L1647.66 1485.58 L1647.66 1481.64 Q1650.32 1478.89 1654.9 1474.26 Q1659.51 1469.61 1660.69 1468.27 Q1662.93 1465.74 1663.81 1464.01 Q1664.72 1462.25 1664.72 1460.56 Q1664.72 1457.8 1662.77 1456.07 Q1660.85 1454.33 1657.75 1454.33 Q1655.55 1454.33 1653.1 1455.09 Q1650.67 1455.86 1647.89 1457.41 L1647.89 1452.69 Q1650.71 1451.55 1653.17 1450.97 Q1655.62 1450.39 1657.66 1450.39 Q1663.03 1450.39 1666.22 1453.08 Q1669.42 1455.77 1669.42 1460.26 Q1669.42 1462.39 1668.61 1464.31 Q1667.82 1466.2 1665.71 1468.8 Q1665.13 1469.47 1662.03 1472.69 Q1658.93 1475.88 1653.28 1481.64 Z\" fill=\"#000000\" fill-rule=\"nonzero\" fill-opacity=\"1\" /><path clip-path=\"url(#clip760)\" d=\"M1689.42 1454.1 Q1685.81 1454.1 1683.98 1457.66 Q1682.17 1461.2 1682.17 1468.33 Q1682.17 1475.44 1683.98 1479.01 Q1685.81 1482.55 1689.42 1482.55 Q1693.05 1482.55 1694.86 1479.01 Q1696.68 1475.44 1696.68 1468.33 Q1696.68 1461.2 1694.86 1457.66 Q1693.05 1454.1 1689.42 1454.1 M1689.42 1450.39 Q1695.23 1450.39 1698.28 1455 Q1701.36 1459.58 1701.36 1468.33 Q1701.36 1477.06 1698.28 1481.67 Q1695.23 1486.25 1689.42 1486.25 Q1683.61 1486.25 1680.53 1481.67 Q1677.47 1477.06 1677.47 1468.33 Q1677.47 1459.58 1680.53 1455 Q1683.61 1450.39 1689.42 1450.39 Z\" fill=\"#000000\" fill-rule=\"nonzero\" fill-opacity=\"1\" /><path clip-path=\"url(#clip760)\" d=\"M1719.58 1454.1 Q1715.97 1454.1 1714.14 1457.66 Q1712.33 1461.2 1712.33 1468.33 Q1712.33 1475.44 1714.14 1479.01 Q1715.97 1482.55 1719.58 1482.55 Q1723.21 1482.55 1725.02 1479.01 Q1726.85 1475.44 1726.85 1468.33 Q1726.85 1461.2 1725.02 1457.66 Q1723.21 1454.1 1719.58 1454.1 M1719.58 1450.39 Q1725.39 1450.39 1728.44 1455 Q1731.52 1459.58 1731.52 1468.33 Q1731.52 1477.06 1728.44 1481.67 Q1725.39 1486.25 1719.58 1486.25 Q1713.77 1486.25 1710.69 1481.67 Q1707.63 1477.06 1707.63 1468.33 Q1707.63 1459.58 1710.69 1455 Q1713.77 1450.39 1719.58 1450.39 Z\" fill=\"#000000\" fill-rule=\"nonzero\" fill-opacity=\"1\" /><path clip-path=\"url(#clip760)\" d=\"M2010.99 1481.64 L2027.31 1481.64 L2027.31 1485.58 L2005.37 1485.58 L2005.37 1481.64 Q2008.03 1478.89 2012.61 1474.26 Q2017.22 1469.61 2018.4 1468.27 Q2020.65 1465.74 2021.52 1464.01 Q2022.43 1462.25 2022.43 1460.56 Q2022.43 1457.8 2020.48 1456.07 Q2018.56 1454.33 2015.46 1454.33 Q2013.26 1454.33 2010.81 1455.09 Q2008.38 1455.86 2005.6 1457.41 L2005.6 1452.69 Q2008.42 1451.55 2010.88 1450.97 Q2013.33 1450.39 2015.37 1450.39 Q2020.74 1450.39 2023.93 1453.08 Q2027.13 1455.77 2027.13 1460.26 Q2027.13 1462.39 2026.32 1464.31 Q2025.53 1466.2 2023.42 1468.8 Q2022.84 1469.47 2019.74 1472.69 Q2016.64 1475.88 2010.99 1481.64 Z\" fill=\"#000000\" fill-rule=\"nonzero\" fill-opacity=\"1\" /><path clip-path=\"url(#clip760)\" d=\"M2037.17 1451.02 L2055.53 1451.02 L2055.53 1454.96 L2041.46 1454.96 L2041.46 1463.43 Q2042.47 1463.08 2043.49 1462.92 Q2044.51 1462.73 2045.53 1462.73 Q2051.32 1462.73 2054.7 1465.9 Q2058.08 1469.08 2058.08 1474.49 Q2058.08 1480.07 2054.6 1483.17 Q2051.13 1486.25 2044.81 1486.25 Q2042.64 1486.25 2040.37 1485.88 Q2038.12 1485.51 2035.71 1484.77 L2035.71 1480.07 Q2037.8 1481.2 2040.02 1481.76 Q2042.24 1482.32 2044.72 1482.32 Q2048.72 1482.32 2051.06 1480.21 Q2053.4 1478.1 2053.4 1474.49 Q2053.4 1470.88 2051.06 1468.77 Q2048.72 1466.67 2044.72 1466.67 Q2042.84 1466.67 2040.97 1467.08 Q2039.12 1467.5 2037.17 1468.38 L2037.17 1451.02 Z\" fill=\"#000000\" fill-rule=\"nonzero\" fill-opacity=\"1\" /><path clip-path=\"url(#clip760)\" d=\"M2077.29 1454.1 Q2073.68 1454.1 2071.85 1457.66 Q2070.04 1461.2 2070.04 1468.33 Q2070.04 1475.44 2071.85 1479.01 Q2073.68 1482.55 2077.29 1482.55 Q2080.92 1482.55 2082.73 1479.01 Q2084.56 1475.44 2084.56 1468.33 Q2084.56 1461.2 2082.73 1457.66 Q2080.92 1454.1 2077.29 1454.1 M2077.29 1450.39 Q2083.1 1450.39 2086.15 1455 Q2089.23 1459.58 2089.23 1468.33 Q2089.23 1477.06 2086.15 1481.67 Q2083.1 1486.25 2077.29 1486.25 Q2071.48 1486.25 2068.4 1481.67 Q2065.34 1477.06 2065.34 1468.33 Q2065.34 1459.58 2068.4 1455 Q2071.48 1450.39 2077.29 1450.39 Z\" fill=\"#000000\" fill-rule=\"nonzero\" fill-opacity=\"1\" /><path clip-path=\"url(#clip760)\" d=\"M1295.55 1532.4 L1282.66 1549.74 L1296.22 1568.04 L1289.31 1568.04 L1278.94 1554.04 L1268.56 1568.04 L1261.66 1568.04 L1275.5 1549.39 L1262.83 1532.4 L1269.74 1532.4 L1279.19 1545.1 L1288.65 1532.4 L1295.55 1532.4 Z\" fill=\"#000000\" fill-rule=\"nonzero\" fill-opacity=\"1\" /><polyline clip-path=\"url(#clip762)\" style=\"stroke:#000000; stroke-linecap:round; stroke-linejoin:round; stroke-width:2; stroke-opacity:0.1; fill:none\" points=\"205.121,1423.18 2352.76,1423.18 \"/>\n",
       "<polyline clip-path=\"url(#clip762)\" style=\"stroke:#000000; stroke-linecap:round; stroke-linejoin:round; stroke-width:2; stroke-opacity:0.1; fill:none\" points=\"205.121,1173.01 2352.76,1173.01 \"/>\n",
       "<polyline clip-path=\"url(#clip762)\" style=\"stroke:#000000; stroke-linecap:round; stroke-linejoin:round; stroke-width:2; stroke-opacity:0.1; fill:none\" points=\"205.121,922.84 2352.76,922.84 \"/>\n",
       "<polyline clip-path=\"url(#clip762)\" style=\"stroke:#000000; stroke-linecap:round; stroke-linejoin:round; stroke-width:2; stroke-opacity:0.1; fill:none\" points=\"205.121,672.669 2352.76,672.669 \"/>\n",
       "<polyline clip-path=\"url(#clip762)\" style=\"stroke:#000000; stroke-linecap:round; stroke-linejoin:round; stroke-width:2; stroke-opacity:0.1; fill:none\" points=\"205.121,422.499 2352.76,422.499 \"/>\n",
       "<polyline clip-path=\"url(#clip762)\" style=\"stroke:#000000; stroke-linecap:round; stroke-linejoin:round; stroke-width:2; stroke-opacity:0.1; fill:none\" points=\"205.121,172.329 2352.76,172.329 \"/>\n",
       "<polyline clip-path=\"url(#clip760)\" style=\"stroke:#000000; stroke-linecap:round; stroke-linejoin:round; stroke-width:4; stroke-opacity:1; fill:none\" points=\"205.121,1423.18 205.121,47.2441 \"/>\n",
       "<polyline clip-path=\"url(#clip760)\" style=\"stroke:#000000; stroke-linecap:round; stroke-linejoin:round; stroke-width:4; stroke-opacity:1; fill:none\" points=\"205.121,1423.18 224.019,1423.18 \"/>\n",
       "<polyline clip-path=\"url(#clip760)\" style=\"stroke:#000000; stroke-linecap:round; stroke-linejoin:round; stroke-width:4; stroke-opacity:1; fill:none\" points=\"205.121,1173.01 224.019,1173.01 \"/>\n",
       "<polyline clip-path=\"url(#clip760)\" style=\"stroke:#000000; stroke-linecap:round; stroke-linejoin:round; stroke-width:4; stroke-opacity:1; fill:none\" points=\"205.121,922.84 224.019,922.84 \"/>\n",
       "<polyline clip-path=\"url(#clip760)\" style=\"stroke:#000000; stroke-linecap:round; stroke-linejoin:round; stroke-width:4; stroke-opacity:1; fill:none\" points=\"205.121,672.669 224.019,672.669 \"/>\n",
       "<polyline clip-path=\"url(#clip760)\" style=\"stroke:#000000; stroke-linecap:round; stroke-linejoin:round; stroke-width:4; stroke-opacity:1; fill:none\" points=\"205.121,422.499 224.019,422.499 \"/>\n",
       "<polyline clip-path=\"url(#clip760)\" style=\"stroke:#000000; stroke-linecap:round; stroke-linejoin:round; stroke-width:4; stroke-opacity:1; fill:none\" points=\"205.121,172.329 224.019,172.329 \"/>\n",
       "<path clip-path=\"url(#clip760)\" d=\"M157.177 1408.98 Q153.566 1408.98 151.737 1412.54 Q149.931 1416.08 149.931 1423.21 Q149.931 1430.32 151.737 1433.89 Q153.566 1437.43 157.177 1437.43 Q160.811 1437.43 162.616 1433.89 Q164.445 1430.32 164.445 1423.21 Q164.445 1416.08 162.616 1412.54 Q160.811 1408.98 157.177 1408.98 M157.177 1405.27 Q162.987 1405.27 166.042 1409.88 Q169.121 1414.46 169.121 1423.21 Q169.121 1431.94 166.042 1436.55 Q162.987 1441.13 157.177 1441.13 Q151.366 1441.13 148.288 1436.55 Q145.232 1431.94 145.232 1423.21 Q145.232 1414.46 148.288 1409.88 Q151.366 1405.27 157.177 1405.27 Z\" fill=\"#000000\" fill-rule=\"nonzero\" fill-opacity=\"1\" /><path clip-path=\"url(#clip760)\" d=\"M117.825 1186.35 L125.464 1186.35 L125.464 1159.99 L117.154 1161.66 L117.154 1157.4 L125.418 1155.73 L130.093 1155.73 L130.093 1186.35 L137.732 1186.35 L137.732 1190.29 L117.825 1190.29 L117.825 1186.35 Z\" fill=\"#000000\" fill-rule=\"nonzero\" fill-opacity=\"1\" /><path clip-path=\"url(#clip760)\" d=\"M157.177 1158.81 Q153.566 1158.81 151.737 1162.37 Q149.931 1165.91 149.931 1173.04 Q149.931 1180.15 151.737 1183.72 Q153.566 1187.26 157.177 1187.26 Q160.811 1187.26 162.616 1183.72 Q164.445 1180.15 164.445 1173.04 Q164.445 1165.91 162.616 1162.37 Q160.811 1158.81 157.177 1158.81 M157.177 1155.1 Q162.987 1155.1 166.042 1159.71 Q169.121 1164.29 169.121 1173.04 Q169.121 1181.77 166.042 1186.38 Q162.987 1190.96 157.177 1190.96 Q151.366 1190.96 148.288 1186.38 Q145.232 1181.77 145.232 1173.04 Q145.232 1164.29 148.288 1159.71 Q151.366 1155.1 157.177 1155.1 Z\" fill=\"#000000\" fill-rule=\"nonzero\" fill-opacity=\"1\" /><path clip-path=\"url(#clip760)\" d=\"M121.043 936.184 L137.362 936.184 L137.362 940.12 L115.418 940.12 L115.418 936.184 Q118.08 933.43 122.663 928.8 Q127.269 924.147 128.45 922.805 Q130.695 920.282 131.575 918.546 Q132.478 916.786 132.478 915.097 Q132.478 912.342 130.533 910.606 Q128.612 908.87 125.51 908.87 Q123.311 908.87 120.857 909.634 Q118.427 910.398 115.649 911.948 L115.649 907.226 Q118.473 906.092 120.927 905.513 Q123.38 904.935 125.418 904.935 Q130.788 904.935 133.982 907.62 Q137.177 910.305 137.177 914.796 Q137.177 916.925 136.367 918.847 Q135.579 920.745 133.473 923.337 Q132.894 924.009 129.792 927.226 Q126.691 930.421 121.043 936.184 Z\" fill=\"#000000\" fill-rule=\"nonzero\" fill-opacity=\"1\" /><path clip-path=\"url(#clip760)\" d=\"M157.177 908.638 Q153.566 908.638 151.737 912.203 Q149.931 915.745 149.931 922.874 Q149.931 929.981 151.737 933.546 Q153.566 937.087 157.177 937.087 Q160.811 937.087 162.616 933.546 Q164.445 929.981 164.445 922.874 Q164.445 915.745 162.616 912.203 Q160.811 908.638 157.177 908.638 M157.177 904.935 Q162.987 904.935 166.042 909.541 Q169.121 914.124 169.121 922.874 Q169.121 931.601 166.042 936.208 Q162.987 940.791 157.177 940.791 Q151.366 940.791 148.288 936.208 Q145.232 931.601 145.232 922.874 Q145.232 914.124 148.288 909.541 Q151.366 904.935 157.177 904.935 Z\" fill=\"#000000\" fill-rule=\"nonzero\" fill-opacity=\"1\" /><path clip-path=\"url(#clip760)\" d=\"M131.181 671.315 Q134.538 672.033 136.413 674.301 Q138.311 676.57 138.311 679.903 Q138.311 685.019 134.792 687.82 Q131.274 690.621 124.793 690.621 Q122.617 690.621 120.302 690.181 Q118.01 689.764 115.556 688.908 L115.556 684.394 Q117.501 685.528 119.816 686.107 Q122.13 686.686 124.654 686.686 Q129.052 686.686 131.343 684.949 Q133.658 683.213 133.658 679.903 Q133.658 676.848 131.505 675.135 Q129.376 673.399 125.556 673.399 L121.529 673.399 L121.529 669.556 L125.742 669.556 Q129.191 669.556 131.019 668.19 Q132.848 666.801 132.848 664.209 Q132.848 661.547 130.95 660.135 Q129.075 658.7 125.556 658.7 Q123.635 658.7 121.436 659.116 Q119.237 659.533 116.598 660.413 L116.598 656.246 Q119.26 655.505 121.575 655.135 Q123.913 654.764 125.973 654.764 Q131.297 654.764 134.399 657.195 Q137.501 659.602 137.501 663.723 Q137.501 666.593 135.857 668.584 Q134.214 670.551 131.181 671.315 Z\" fill=\"#000000\" fill-rule=\"nonzero\" fill-opacity=\"1\" /><path clip-path=\"url(#clip760)\" d=\"M157.177 658.468 Q153.566 658.468 151.737 662.033 Q149.931 665.575 149.931 672.704 Q149.931 679.811 151.737 683.375 Q153.566 686.917 157.177 686.917 Q160.811 686.917 162.616 683.375 Q164.445 679.811 164.445 672.704 Q164.445 665.575 162.616 662.033 Q160.811 658.468 157.177 658.468 M157.177 654.764 Q162.987 654.764 166.042 659.371 Q169.121 663.954 169.121 672.704 Q169.121 681.431 166.042 686.037 Q162.987 690.621 157.177 690.621 Q151.366 690.621 148.288 686.037 Q145.232 681.431 145.232 672.704 Q145.232 663.954 148.288 659.371 Q151.366 654.764 157.177 654.764 Z\" fill=\"#000000\" fill-rule=\"nonzero\" fill-opacity=\"1\" /><path clip-path=\"url(#clip760)\" d=\"M129.862 409.293 L118.056 427.742 L129.862 427.742 L129.862 409.293 M128.635 405.219 L134.515 405.219 L134.515 427.742 L139.445 427.742 L139.445 431.631 L134.515 431.631 L134.515 439.779 L129.862 439.779 L129.862 431.631 L114.26 431.631 L114.26 427.117 L128.635 405.219 Z\" fill=\"#000000\" fill-rule=\"nonzero\" fill-opacity=\"1\" /><path clip-path=\"url(#clip760)\" d=\"M157.177 408.298 Q153.566 408.298 151.737 411.863 Q149.931 415.404 149.931 422.534 Q149.931 429.64 151.737 433.205 Q153.566 436.747 157.177 436.747 Q160.811 436.747 162.616 433.205 Q164.445 429.64 164.445 422.534 Q164.445 415.404 162.616 411.863 Q160.811 408.298 157.177 408.298 M157.177 404.594 Q162.987 404.594 166.042 409.201 Q169.121 413.784 169.121 422.534 Q169.121 431.261 166.042 435.867 Q162.987 440.451 157.177 440.451 Q151.366 440.451 148.288 435.867 Q145.232 431.261 145.232 422.534 Q145.232 413.784 148.288 409.201 Q151.366 404.594 157.177 404.594 Z\" fill=\"#000000\" fill-rule=\"nonzero\" fill-opacity=\"1\" /><path clip-path=\"url(#clip760)\" d=\"M117.061 155.049 L135.417 155.049 L135.417 158.984 L121.343 158.984 L121.343 167.457 Q122.362 167.109 123.38 166.947 Q124.399 166.762 125.418 166.762 Q131.205 166.762 134.584 169.933 Q137.964 173.105 137.964 178.521 Q137.964 184.1 134.492 187.202 Q131.019 190.28 124.7 190.28 Q122.524 190.28 120.255 189.91 Q118.01 189.54 115.603 188.799 L115.603 184.1 Q117.686 185.234 119.908 185.79 Q122.13 186.345 124.607 186.345 Q128.612 186.345 130.95 184.239 Q133.288 182.132 133.288 178.521 Q133.288 174.91 130.95 172.804 Q128.612 170.697 124.607 170.697 Q122.732 170.697 120.857 171.114 Q119.006 171.531 117.061 172.41 L117.061 155.049 Z\" fill=\"#000000\" fill-rule=\"nonzero\" fill-opacity=\"1\" /><path clip-path=\"url(#clip760)\" d=\"M157.177 158.128 Q153.566 158.128 151.737 161.693 Q149.931 165.234 149.931 172.364 Q149.931 179.47 151.737 183.035 Q153.566 186.577 157.177 186.577 Q160.811 186.577 162.616 183.035 Q164.445 179.47 164.445 172.364 Q164.445 165.234 162.616 161.693 Q160.811 158.128 157.177 158.128 M157.177 154.424 Q162.987 154.424 166.042 159.031 Q169.121 163.614 169.121 172.364 Q169.121 181.091 166.042 185.697 Q162.987 190.28 157.177 190.28 Q151.366 190.28 148.288 185.697 Q145.232 181.091 145.232 172.364 Q145.232 163.614 148.288 159.031 Q151.366 154.424 157.177 154.424 Z\" fill=\"#000000\" fill-rule=\"nonzero\" fill-opacity=\"1\" /><path clip-path=\"url(#clip760)\" d=\"M21.7677 848.522 L58.7206 848.522 L58.7206 840.755 Q58.7206 830.92 54.2646 826.369 Q49.8086 821.786 40.1964 821.786 Q30.6479 821.786 26.2237 826.369 Q21.7677 830.92 21.7677 840.755 L21.7677 848.522 M16.4842 854.951 L16.4842 841.742 Q16.4842 827.928 22.2451 821.467 Q27.9743 815.006 40.1964 815.006 Q52.4822 815.006 58.2432 821.499 Q64.0042 827.992 64.0042 841.742 L64.0042 854.951 L16.4842 854.951 Z\" fill=\"#000000\" fill-rule=\"nonzero\" fill-opacity=\"1\" /><path clip-path=\"url(#clip760)\" d=\"M44.7161 774.52 L47.5806 774.52 L47.5806 801.447 Q53.6281 801.065 56.8109 797.819 Q59.9619 794.54 59.9619 788.716 Q59.9619 785.342 59.1344 782.191 Q58.3069 779.008 56.6518 775.889 L62.1899 775.889 Q63.5267 779.04 64.227 782.35 Q64.9272 785.66 64.9272 789.066 Q64.9272 797.596 59.9619 802.593 Q54.9967 807.558 46.5303 807.558 Q37.7774 807.558 32.6531 802.848 Q27.4968 798.105 27.4968 790.084 Q27.4968 782.891 32.1438 778.722 Q36.7589 774.52 44.7161 774.52 M42.9973 780.377 Q38.1912 780.44 35.3266 783.082 Q32.4621 785.692 32.4621 790.021 Q32.4621 794.922 35.2312 797.882 Q38.0002 800.811 43.0292 801.256 L42.9973 780.377 Z\" fill=\"#000000\" fill-rule=\"nonzero\" fill-opacity=\"1\" /><path clip-path=\"url(#clip760)\" d=\"M42.4881 735.276 L64.0042 735.276 L64.0042 741.132 L42.679 741.132 Q37.6183 741.132 35.1038 743.105 Q32.5894 745.079 32.5894 749.026 Q32.5894 753.768 35.6131 756.505 Q38.6368 759.243 43.8567 759.243 L64.0042 759.243 L64.0042 765.131 L28.3562 765.131 L28.3562 759.243 L33.8944 759.243 Q30.6797 757.142 29.0883 754.309 Q27.4968 751.445 27.4968 747.721 Q27.4968 741.578 31.3163 738.427 Q35.1038 735.276 42.4881 735.276 Z\" fill=\"#000000\" fill-rule=\"nonzero\" fill-opacity=\"1\" /><path clip-path=\"url(#clip760)\" d=\"M29.4065 700.869 L34.9447 700.869 Q33.6716 703.352 33.035 706.025 Q32.3984 708.699 32.3984 711.563 Q32.3984 715.924 33.7352 718.12 Q35.072 720.284 37.7456 720.284 Q39.7826 720.284 40.9603 718.725 Q42.1061 717.165 43.1565 712.455 L43.6021 710.449 Q44.9389 704.211 47.3897 701.601 Q49.8086 698.959 54.1691 698.959 Q59.1344 698.959 62.0308 702.906 Q64.9272 706.821 64.9272 713.696 Q64.9272 716.56 64.3543 719.68 Q63.8132 722.767 62.6992 726.204 L56.6518 726.204 Q58.3387 722.958 59.198 719.807 Q60.0256 716.656 60.0256 713.569 Q60.0256 709.431 58.6251 707.203 Q57.1929 704.975 54.6147 704.975 Q52.2276 704.975 50.9545 706.598 Q49.6813 708.19 48.5037 713.632 L48.0262 715.669 Q46.8804 721.112 44.5251 723.531 Q42.138 725.95 38.0002 725.95 Q32.9713 725.95 30.2341 722.385 Q27.4968 718.82 27.4968 712.264 Q27.4968 709.017 27.9743 706.153 Q28.4517 703.288 29.4065 700.869 Z\" fill=\"#000000\" fill-rule=\"nonzero\" fill-opacity=\"1\" /><path clip-path=\"url(#clip760)\" d=\"M28.3562 689.634 L28.3562 683.777 L64.0042 683.777 L64.0042 689.634 L28.3562 689.634 M14.479 689.634 L14.479 683.777 L21.895 683.777 L21.895 689.634 L14.479 689.634 Z\" fill=\"#000000\" fill-rule=\"nonzero\" fill-opacity=\"1\" /><path clip-path=\"url(#clip760)\" d=\"M18.2347 665.73 L28.3562 665.73 L28.3562 653.667 L32.9077 653.667 L32.9077 665.73 L52.2594 665.73 Q56.6199 665.73 57.8613 664.553 Q59.1026 663.343 59.1026 659.683 L59.1026 653.667 L64.0042 653.667 L64.0042 659.683 Q64.0042 666.462 61.4897 669.04 Q58.9434 671.619 52.2594 671.619 L32.9077 671.619 L32.9077 675.915 L28.3562 675.915 L28.3562 671.619 L18.2347 671.619 L18.2347 665.73 Z\" fill=\"#000000\" fill-rule=\"nonzero\" fill-opacity=\"1\" /><path clip-path=\"url(#clip760)\" d=\"M67.3143 631.133 Q73.68 633.615 75.6216 635.971 Q77.5631 638.326 77.5631 642.273 L77.5631 646.951 L72.6615 646.951 L72.6615 643.514 Q72.6615 641.095 71.5157 639.758 Q70.3699 638.421 66.1048 636.798 L63.4312 635.748 L28.3562 650.166 L28.3562 643.96 L56.238 632.82 L28.3562 621.68 L28.3562 615.473 L67.3143 631.133 Z\" fill=\"#000000\" fill-rule=\"nonzero\" fill-opacity=\"1\" /><path clip-path=\"url(#clip762)\" d=\"M1260.34 422.499 L1260.34 1423.18 L1403.42 1423.18 L1403.42 422.499 L1260.34 422.499 L1260.34 422.499  Z\" fill=\"#009af9\" fill-rule=\"evenodd\" fill-opacity=\"1\"/>\n",
       "<polyline clip-path=\"url(#clip762)\" style=\"stroke:#000000; stroke-linecap:round; stroke-linejoin:round; stroke-width:4; stroke-opacity:1; fill:none\" points=\"1260.34,422.499 1260.34,1423.18 1403.42,1423.18 1403.42,422.499 1260.34,422.499 \"/>\n",
       "<path clip-path=\"url(#clip762)\" d=\"M1403.42 1423.18 L1403.42 1423.18 L1546.51 1423.18 L1546.51 1423.18 L1403.42 1423.18 L1403.42 1423.18  Z\" fill=\"#009af9\" fill-rule=\"evenodd\" fill-opacity=\"1\"/>\n",
       "<polyline clip-path=\"url(#clip762)\" style=\"stroke:#000000; stroke-linecap:round; stroke-linejoin:round; stroke-width:4; stroke-opacity:1; fill:none\" points=\"1403.42,1423.18 1403.42,1423.18 1546.51,1423.18 1403.42,1423.18 \"/>\n",
       "<path clip-path=\"url(#clip762)\" d=\"M1546.51 47.2441 L1546.51 1423.18 L1689.59 1423.18 L1689.59 47.2441 L1546.51 47.2441 L1546.51 47.2441  Z\" fill=\"#009af9\" fill-rule=\"evenodd\" fill-opacity=\"1\"/>\n",
       "<polyline clip-path=\"url(#clip762)\" style=\"stroke:#000000; stroke-linecap:round; stroke-linejoin:round; stroke-width:4; stroke-opacity:1; fill:none\" points=\"1546.51,47.2441 1546.51,1423.18 1689.59,1423.18 1689.59,47.2441 1546.51,47.2441 \"/>\n",
       "<path clip-path=\"url(#clip762)\" d=\"M1689.59 1423.18 L1689.59 1423.18 L1832.67 1423.18 L1832.67 1423.18 L1689.59 1423.18 L1689.59 1423.18  Z\" fill=\"#009af9\" fill-rule=\"evenodd\" fill-opacity=\"1\"/>\n",
       "<polyline clip-path=\"url(#clip762)\" style=\"stroke:#000000; stroke-linecap:round; stroke-linejoin:round; stroke-width:4; stroke-opacity:1; fill:none\" points=\"1689.59,1423.18 1689.59,1423.18 1832.67,1423.18 1689.59,1423.18 \"/>\n",
       "<path clip-path=\"url(#clip762)\" d=\"M1832.67 1323.11 L1832.67 1423.18 L1975.76 1423.18 L1975.76 1323.11 L1832.67 1323.11 L1832.67 1323.11  Z\" fill=\"#009af9\" fill-rule=\"evenodd\" fill-opacity=\"1\"/>\n",
       "<polyline clip-path=\"url(#clip762)\" style=\"stroke:#000000; stroke-linecap:round; stroke-linejoin:round; stroke-width:4; stroke-opacity:1; fill:none\" points=\"1832.67,1323.11 1832.67,1423.18 1975.76,1423.18 1975.76,1323.11 1832.67,1323.11 \"/>\n",
       "<path clip-path=\"url(#clip762)\" d=\"M1975.76 1423.18 L1975.76 1423.18 L2118.84 1423.18 L2118.84 1423.18 L1975.76 1423.18 L1975.76 1423.18  Z\" fill=\"#009af9\" fill-rule=\"evenodd\" fill-opacity=\"1\"/>\n",
       "<polyline clip-path=\"url(#clip762)\" style=\"stroke:#000000; stroke-linecap:round; stroke-linejoin:round; stroke-width:4; stroke-opacity:1; fill:none\" points=\"1975.76,1423.18 1975.76,1423.18 2118.84,1423.18 1975.76,1423.18 \"/>\n",
       "<path clip-path=\"url(#clip762)\" d=\"M2118.84 1398.16 L2118.84 1423.18 L2261.93 1423.18 L2261.93 1398.16 L2118.84 1398.16 L2118.84 1398.16  Z\" fill=\"#009af9\" fill-rule=\"evenodd\" fill-opacity=\"1\"/>\n",
       "<polyline clip-path=\"url(#clip762)\" style=\"stroke:#000000; stroke-linecap:round; stroke-linejoin:round; stroke-width:4; stroke-opacity:1; fill:none\" points=\"2118.84,1398.16 2118.84,1423.18 2261.93,1423.18 2261.93,1398.16 2118.84,1398.16 \"/>\n",
       "<circle clip-path=\"url(#clip762)\" style=\"fill:#009af9; stroke:none; fill-opacity:0\" cx=\"1331.88\" cy=\"422.499\" r=\"2\"/>\n",
       "<circle clip-path=\"url(#clip762)\" style=\"fill:#009af9; stroke:none; fill-opacity:0\" cx=\"1474.96\" cy=\"1423.18\" r=\"2\"/>\n",
       "<circle clip-path=\"url(#clip762)\" style=\"fill:#009af9; stroke:none; fill-opacity:0\" cx=\"1618.05\" cy=\"47.2441\" r=\"2\"/>\n",
       "<circle clip-path=\"url(#clip762)\" style=\"fill:#009af9; stroke:none; fill-opacity:0\" cx=\"1761.13\" cy=\"1423.18\" r=\"2\"/>\n",
       "<circle clip-path=\"url(#clip762)\" style=\"fill:#009af9; stroke:none; fill-opacity:0\" cx=\"1904.22\" cy=\"1323.11\" r=\"2\"/>\n",
       "<circle clip-path=\"url(#clip762)\" style=\"fill:#009af9; stroke:none; fill-opacity:0\" cx=\"2047.3\" cy=\"1423.18\" r=\"2\"/>\n",
       "<circle clip-path=\"url(#clip762)\" style=\"fill:#009af9; stroke:none; fill-opacity:0\" cx=\"2190.38\" cy=\"1398.16\" r=\"2\"/>\n",
       "<polyline clip-path=\"url(#clip762)\" style=\"stroke:#e26f46; stroke-linecap:round; stroke-linejoin:round; stroke-width:4; stroke-opacity:1; fill:none\" points=\"265.903,1418.33 273.057,1419.92 280.212,1419.91 287.366,1419.96 294.52,1419.88 301.674,1419.83 308.828,1419.92 315.983,1419.94 323.137,1419.99 330.291,1419.81 337.445,1419.89 344.599,1419.94 351.754,1419.84 358.908,1419.92 366.062,1419.83 373.216,1419.27 380.37,1420.11 387.525,1419.93 394.679,1419.87 401.833,1399.14 408.987,1405.49 416.141,1405.58 423.296,1405.41 430.45,1405.28 437.604,1404.44 444.758,1406.19 451.912,1405.53 459.067,1405.19 466.221,1405.3 473.375,1405.31 480.529,1405.22 487.683,1405.1 494.838,1404.8 501.992,1420.04 509.146,1398.46 516.3,1405.33 523.454,1405.18 530.609,1405.1 537.763,1418.67 544.917,1398.57 552.071,1405.48 559.225,1405 566.38,1405.29 573.534,1419.94 580.688,1419.92 587.842,1419.76 594.996,1419.83 602.151,1419.85 609.305,1419.71 616.459,1419.94 623.613,1419.39 630.768,1419.88 637.922,1419.87 645.076,1419.89 652.23,1419.88 659.384,1419.85 666.539,1419.65 673.693,1419.45 680.847,1419.74 688.001,1398.65 695.155,1405.2 702.31,1405.39 709.464,1405.14 716.618,1405.1 723.772,1405.29 730.926,1405.26 738.081,1405.28 745.235,1405.27 752.389,1408.74 759.543,1405.25 766.697,1405.73 773.852,1405.32 781.006,1405.29 788.16,1405.1 795.314,1405.04 802.468,1405.5 809.623,1405.56 816.777,1404.5 823.931,1404.98 831.085,1404.17 838.239,1406.19 845.394,1405.79 852.548,1404.83 859.702,1404.97 866.856,1404.72 874.01,1405.25 881.165,1404.2 888.319,1405.13 895.473,1404.72 902.627,1404.66 909.781,1404.88 916.936,1404.93 924.09,1405.56 931.244,1404.69 938.398,1419.86 945.553,1419.92 952.707,1398.16 959.861,1405.39 967.015,1404.65 974.169,1419.48 \"/>\n",
       "<path clip-path=\"url(#clip760)\" d=\"M1545.25 248.629 L2281.17 248.629 L2281.17 93.1086 L1545.25 93.1086  Z\" fill=\"#ffffff\" fill-rule=\"evenodd\" fill-opacity=\"1\"/>\n",
       "<polyline clip-path=\"url(#clip760)\" style=\"stroke:#000000; stroke-linecap:round; stroke-linejoin:round; stroke-width:4; stroke-opacity:1; fill:none\" points=\"1545.25,248.629 2281.17,248.629 2281.17,93.1086 1545.25,93.1086 1545.25,248.629 \"/>\n",
       "<path clip-path=\"url(#clip760)\" d=\"M1569.11 165.685 L1712.29 165.685 L1712.29 124.213 L1569.11 124.213 L1569.11 165.685  Z\" fill=\"#009af9\" fill-rule=\"evenodd\" fill-opacity=\"1\"/>\n",
       "<polyline clip-path=\"url(#clip760)\" style=\"stroke:#000000; stroke-linecap:round; stroke-linejoin:round; stroke-width:4; stroke-opacity:1; fill:none\" points=\"1569.11,165.685 1712.29,165.685 1712.29,124.213 1569.11,124.213 1569.11,165.685 \"/>\n",
       "<path clip-path=\"url(#clip760)\" d=\"M1736.15 127.669 L1742.45 127.669 L1757.77 156.581 L1757.77 127.669 L1762.31 127.669 L1762.31 162.229 L1756.01 162.229 L1740.69 133.317 L1740.69 162.229 L1736.15 162.229 L1736.15 127.669 Z\" fill=\"#000000\" fill-rule=\"nonzero\" fill-opacity=\"1\" /><path clip-path=\"url(#clip760)\" d=\"M1781.47 139.289 Q1778.05 139.289 1776.06 141.974 Q1774.07 144.636 1774.07 149.289 Q1774.07 153.942 1776.03 156.627 Q1778.03 159.289 1781.47 159.289 Q1784.88 159.289 1786.87 156.604 Q1788.86 153.918 1788.86 149.289 Q1788.86 144.682 1786.87 141.997 Q1784.88 139.289 1781.47 139.289 M1781.47 135.678 Q1787.03 135.678 1790.2 139.289 Q1793.37 142.9 1793.37 149.289 Q1793.37 155.655 1790.2 159.289 Q1787.03 162.9 1781.47 162.9 Q1775.9 162.9 1772.72 159.289 Q1769.58 155.655 1769.58 149.289 Q1769.58 142.9 1772.72 139.289 Q1775.9 135.678 1781.47 135.678 Z\" fill=\"#000000\" fill-rule=\"nonzero\" fill-opacity=\"1\" /><path clip-path=\"url(#clip760)\" d=\"M1815.46 140.284 Q1814.74 139.868 1813.88 139.682 Q1813.05 139.474 1812.03 139.474 Q1808.42 139.474 1806.47 141.835 Q1804.55 144.173 1804.55 148.571 L1804.55 162.229 L1800.27 162.229 L1800.27 136.303 L1804.55 136.303 L1804.55 140.331 Q1805.9 137.969 1808.05 136.835 Q1810.2 135.678 1813.28 135.678 Q1813.72 135.678 1814.25 135.747 Q1814.78 135.794 1815.43 135.909 L1815.46 140.284 Z\" fill=\"#000000\" fill-rule=\"nonzero\" fill-opacity=\"1\" /><path clip-path=\"url(#clip760)\" d=\"M1839.28 141.28 Q1840.87 138.409 1843.09 137.044 Q1845.32 135.678 1848.33 135.678 Q1852.38 135.678 1854.58 138.525 Q1856.78 141.349 1856.78 146.581 L1856.78 162.229 L1852.49 162.229 L1852.49 146.719 Q1852.49 142.993 1851.17 141.187 Q1849.85 139.382 1847.15 139.382 Q1843.84 139.382 1841.91 141.581 Q1839.99 143.78 1839.99 147.576 L1839.99 162.229 L1835.71 162.229 L1835.71 146.719 Q1835.71 142.969 1834.39 141.187 Q1833.07 139.382 1830.32 139.382 Q1827.05 139.382 1825.13 141.604 Q1823.21 143.803 1823.21 147.576 L1823.21 162.229 L1818.93 162.229 L1818.93 136.303 L1823.21 136.303 L1823.21 140.331 Q1824.67 137.946 1826.71 136.812 Q1828.74 135.678 1831.54 135.678 Q1834.37 135.678 1836.34 137.113 Q1838.33 138.548 1839.28 141.28 Z\" fill=\"#000000\" fill-rule=\"nonzero\" fill-opacity=\"1\" /><path clip-path=\"url(#clip760)\" d=\"M1877.05 149.196 Q1871.89 149.196 1869.9 150.377 Q1867.91 151.557 1867.91 154.405 Q1867.91 156.673 1869.39 158.016 Q1870.9 159.335 1873.46 159.335 Q1877.01 159.335 1879.14 156.835 Q1881.29 154.312 1881.29 150.145 L1881.29 149.196 L1877.05 149.196 M1885.55 147.437 L1885.55 162.229 L1881.29 162.229 L1881.29 158.293 Q1879.83 160.655 1877.65 161.789 Q1875.48 162.9 1872.33 162.9 Q1868.35 162.9 1865.99 160.678 Q1863.65 158.432 1863.65 154.682 Q1863.65 150.307 1866.57 148.085 Q1869.51 145.863 1875.32 145.863 L1881.29 145.863 L1881.29 145.446 Q1881.29 142.507 1879.34 140.909 Q1877.42 139.289 1873.93 139.289 Q1871.71 139.289 1869.6 139.821 Q1867.49 140.354 1865.55 141.419 L1865.55 137.483 Q1867.89 136.581 1870.09 136.141 Q1872.28 135.678 1874.37 135.678 Q1879.99 135.678 1882.77 138.594 Q1885.55 141.511 1885.55 147.437 Z\" fill=\"#000000\" fill-rule=\"nonzero\" fill-opacity=\"1\" /><path clip-path=\"url(#clip760)\" d=\"M1894.32 126.21 L1898.58 126.21 L1898.58 162.229 L1894.32 162.229 L1894.32 126.21 Z\" fill=\"#000000\" fill-rule=\"nonzero\" fill-opacity=\"1\" /><path clip-path=\"url(#clip760)\" d=\"M1907.49 136.303 L1911.75 136.303 L1911.75 162.229 L1907.49 162.229 L1907.49 136.303 M1907.49 126.21 L1911.75 126.21 L1911.75 131.604 L1907.49 131.604 L1907.49 126.21 Z\" fill=\"#000000\" fill-rule=\"nonzero\" fill-opacity=\"1\" /><path clip-path=\"url(#clip760)\" d=\"M1918.81 136.303 L1939.04 136.303 L1939.04 140.192 L1923.02 158.826 L1939.04 158.826 L1939.04 162.229 L1918.23 162.229 L1918.23 158.34 L1934.25 139.706 L1918.81 139.706 L1918.81 136.303 Z\" fill=\"#000000\" fill-rule=\"nonzero\" fill-opacity=\"1\" /><path clip-path=\"url(#clip760)\" d=\"M1967.72 148.201 L1967.72 150.284 L1948.14 150.284 Q1948.42 154.682 1950.78 156.997 Q1953.16 159.289 1957.4 159.289 Q1959.85 159.289 1962.15 158.687 Q1964.46 158.085 1966.73 156.881 L1966.73 160.909 Q1964.44 161.881 1962.03 162.391 Q1959.62 162.9 1957.15 162.9 Q1950.94 162.9 1947.31 159.289 Q1943.7 155.678 1943.7 149.52 Q1943.7 143.155 1947.12 139.428 Q1950.57 135.678 1956.4 135.678 Q1961.64 135.678 1964.67 139.057 Q1967.72 142.414 1967.72 148.201 M1963.46 146.951 Q1963.42 143.456 1961.5 141.372 Q1959.6 139.289 1956.45 139.289 Q1952.89 139.289 1950.73 141.303 Q1948.6 143.317 1948.28 146.974 L1963.46 146.951 Z\" fill=\"#000000\" fill-rule=\"nonzero\" fill-opacity=\"1\" /><path clip-path=\"url(#clip760)\" d=\"M1991.77 140.238 L1991.77 126.21 L1996.03 126.21 L1996.03 162.229 L1991.77 162.229 L1991.77 158.34 Q1990.43 160.655 1988.37 161.789 Q1986.33 162.9 1983.46 162.9 Q1978.77 162.9 1975.8 159.15 Q1972.86 155.4 1972.86 149.289 Q1972.86 143.178 1975.8 139.428 Q1978.77 135.678 1983.46 135.678 Q1986.33 135.678 1988.37 136.812 Q1990.43 137.923 1991.77 140.238 M1977.26 149.289 Q1977.26 153.988 1979.18 156.673 Q1981.13 159.335 1984.51 159.335 Q1987.89 159.335 1989.83 156.673 Q1991.77 153.988 1991.77 149.289 Q1991.77 144.59 1989.83 141.928 Q1987.89 139.243 1984.51 139.243 Q1981.13 139.243 1979.18 141.928 Q1977.26 144.59 1977.26 149.289 Z\" fill=\"#000000\" fill-rule=\"nonzero\" fill-opacity=\"1\" /><path clip-path=\"url(#clip760)\" d=\"M2020.06 127.669 L2024.74 127.669 L2024.74 141.835 L2041.73 141.835 L2041.73 127.669 L2046.4 127.669 L2046.4 162.229 L2041.73 162.229 L2041.73 145.77 L2024.74 145.77 L2024.74 162.229 L2020.06 162.229 L2020.06 127.669 Z\" fill=\"#000000\" fill-rule=\"nonzero\" fill-opacity=\"1\" /><path clip-path=\"url(#clip760)\" d=\"M2055.52 136.303 L2059.78 136.303 L2059.78 162.229 L2055.52 162.229 L2055.52 136.303 M2055.52 126.21 L2059.78 126.21 L2059.78 131.604 L2055.52 131.604 L2055.52 126.21 Z\" fill=\"#000000\" fill-rule=\"nonzero\" fill-opacity=\"1\" /><path clip-path=\"url(#clip760)\" d=\"M2085.22 137.067 L2085.22 141.094 Q2083.42 140.169 2081.47 139.706 Q2079.53 139.243 2077.45 139.243 Q2074.27 139.243 2072.68 140.215 Q2071.1 141.187 2071.1 143.131 Q2071.1 144.613 2072.24 145.469 Q2073.37 146.303 2076.8 147.067 L2078.26 147.391 Q2082.79 148.363 2084.69 150.145 Q2086.61 151.905 2086.61 155.076 Q2086.61 158.687 2083.74 160.793 Q2080.89 162.9 2075.89 162.9 Q2073.81 162.9 2071.54 162.483 Q2069.3 162.09 2066.8 161.28 L2066.8 156.881 Q2069.16 158.108 2071.45 158.733 Q2073.74 159.335 2075.99 159.335 Q2079 159.335 2080.62 158.317 Q2082.24 157.275 2082.24 155.4 Q2082.24 153.664 2081.06 152.738 Q2079.9 151.812 2075.94 150.956 L2074.46 150.608 Q2070.5 149.775 2068.74 148.062 Q2066.98 146.326 2066.98 143.317 Q2066.98 139.659 2069.57 137.669 Q2072.17 135.678 2076.94 135.678 Q2079.3 135.678 2081.38 136.025 Q2083.46 136.372 2085.22 137.067 Z\" fill=\"#000000\" fill-rule=\"nonzero\" fill-opacity=\"1\" /><path clip-path=\"url(#clip760)\" d=\"M2097.61 128.942 L2097.61 136.303 L2106.38 136.303 L2106.38 139.613 L2097.61 139.613 L2097.61 153.687 Q2097.61 156.858 2098.46 157.761 Q2099.34 158.664 2102.01 158.664 L2106.38 158.664 L2106.38 162.229 L2102.01 162.229 Q2097.07 162.229 2095.2 160.4 Q2093.32 158.548 2093.32 153.687 L2093.32 139.613 L2090.2 139.613 L2090.2 136.303 L2093.32 136.303 L2093.32 128.942 L2097.61 128.942 Z\" fill=\"#000000\" fill-rule=\"nonzero\" fill-opacity=\"1\" /><path clip-path=\"url(#clip760)\" d=\"M2122.03 139.289 Q2118.6 139.289 2116.61 141.974 Q2114.62 144.636 2114.62 149.289 Q2114.62 153.942 2116.59 156.627 Q2118.58 159.289 2122.03 159.289 Q2125.43 159.289 2127.42 156.604 Q2129.41 153.918 2129.41 149.289 Q2129.41 144.682 2127.42 141.997 Q2125.43 139.289 2122.03 139.289 M2122.03 135.678 Q2127.58 135.678 2130.76 139.289 Q2133.93 142.9 2133.93 149.289 Q2133.93 155.655 2130.76 159.289 Q2127.58 162.9 2122.03 162.9 Q2116.45 162.9 2113.28 159.289 Q2110.13 155.655 2110.13 149.289 Q2110.13 142.9 2113.28 139.289 Q2116.45 135.678 2122.03 135.678 Z\" fill=\"#000000\" fill-rule=\"nonzero\" fill-opacity=\"1\" /><path clip-path=\"url(#clip760)\" d=\"M2158.05 148.965 Q2158.05 144.335 2156.13 141.789 Q2154.23 139.243 2150.78 139.243 Q2147.35 139.243 2145.43 141.789 Q2143.53 144.335 2143.53 148.965 Q2143.53 153.571 2145.43 156.118 Q2147.35 158.664 2150.78 158.664 Q2154.23 158.664 2156.13 156.118 Q2158.05 153.571 2158.05 148.965 M2162.31 159.011 Q2162.31 165.631 2159.37 168.849 Q2156.43 172.09 2150.36 172.09 Q2148.12 172.09 2146.13 171.742 Q2144.13 171.418 2142.26 170.724 L2142.26 166.58 Q2144.13 167.599 2145.96 168.085 Q2147.79 168.571 2149.69 168.571 Q2153.88 168.571 2155.96 166.372 Q2158.05 164.196 2158.05 159.775 L2158.05 157.668 Q2156.73 159.96 2154.67 161.094 Q2152.61 162.229 2149.74 162.229 Q2144.97 162.229 2142.05 158.594 Q2139.13 154.96 2139.13 148.965 Q2139.13 142.946 2142.05 139.312 Q2144.97 135.678 2149.74 135.678 Q2152.61 135.678 2154.67 136.812 Q2156.73 137.946 2158.05 140.238 L2158.05 136.303 L2162.31 136.303 L2162.31 159.011 Z\" fill=\"#000000\" fill-rule=\"nonzero\" fill-opacity=\"1\" /><path clip-path=\"url(#clip760)\" d=\"M2186.1 140.284 Q2185.38 139.868 2184.53 139.682 Q2183.69 139.474 2182.68 139.474 Q2179.07 139.474 2177.12 141.835 Q2175.2 144.173 2175.2 148.571 L2175.2 162.229 L2170.92 162.229 L2170.92 136.303 L2175.2 136.303 L2175.2 140.331 Q2176.54 137.969 2178.69 136.835 Q2180.85 135.678 2183.93 135.678 Q2184.37 135.678 2184.9 135.747 Q2185.43 135.794 2186.08 135.909 L2186.1 140.284 Z\" fill=\"#000000\" fill-rule=\"nonzero\" fill-opacity=\"1\" /><path clip-path=\"url(#clip760)\" d=\"M2202.35 149.196 Q2197.19 149.196 2195.2 150.377 Q2193.21 151.557 2193.21 154.405 Q2193.21 156.673 2194.69 158.016 Q2196.19 159.335 2198.76 159.335 Q2202.31 159.335 2204.44 156.835 Q2206.59 154.312 2206.59 150.145 L2206.59 149.196 L2202.35 149.196 M2210.85 147.437 L2210.85 162.229 L2206.59 162.229 L2206.59 158.293 Q2205.13 160.655 2202.95 161.789 Q2200.78 162.9 2197.63 162.9 Q2193.65 162.9 2191.29 160.678 Q2188.95 158.432 2188.95 154.682 Q2188.95 150.307 2191.87 148.085 Q2194.81 145.863 2200.62 145.863 L2206.59 145.863 L2206.59 145.446 Q2206.59 142.507 2204.64 140.909 Q2202.72 139.289 2199.23 139.289 Q2197 139.289 2194.9 139.821 Q2192.79 140.354 2190.85 141.419 L2190.85 137.483 Q2193.19 136.581 2195.38 136.141 Q2197.58 135.678 2199.67 135.678 Q2205.29 135.678 2208.07 138.594 Q2210.85 141.511 2210.85 147.437 Z\" fill=\"#000000\" fill-rule=\"nonzero\" fill-opacity=\"1\" /><path clip-path=\"url(#clip760)\" d=\"M2239.81 141.28 Q2241.4 138.409 2243.62 137.044 Q2245.85 135.678 2248.86 135.678 Q2252.91 135.678 2255.11 138.525 Q2257.31 141.349 2257.31 146.581 L2257.31 162.229 L2253.02 162.229 L2253.02 146.719 Q2253.02 142.993 2251.7 141.187 Q2250.38 139.382 2247.68 139.382 Q2244.37 139.382 2242.44 141.581 Q2240.52 143.78 2240.52 147.576 L2240.52 162.229 L2236.24 162.229 L2236.24 146.719 Q2236.24 142.969 2234.92 141.187 Q2233.6 139.382 2230.85 139.382 Q2227.58 139.382 2225.66 141.604 Q2223.74 143.803 2223.74 147.576 L2223.74 162.229 L2219.46 162.229 L2219.46 136.303 L2223.74 136.303 L2223.74 140.331 Q2225.2 137.946 2227.24 136.812 Q2229.27 135.678 2232.07 135.678 Q2234.9 135.678 2236.87 137.113 Q2238.86 138.548 2239.81 141.28 Z\" fill=\"#000000\" fill-rule=\"nonzero\" fill-opacity=\"1\" /><polyline clip-path=\"url(#clip760)\" style=\"stroke:#e26f46; stroke-linecap:round; stroke-linejoin:round; stroke-width:4; stroke-opacity:1; fill:none\" points=\"1569.11,196.789 1712.29,196.789 \"/>\n",
       "<path clip-path=\"url(#clip760)\" d=\"M1758.4 180.643 L1758.4 185.203 Q1755.73 183.93 1753.37 183.305 Q1751.01 182.68 1748.81 182.68 Q1744.99 182.68 1742.91 184.161 Q1740.85 185.643 1740.85 188.374 Q1740.85 190.666 1742.22 191.847 Q1743.6 193.004 1747.45 193.722 L1750.27 194.3 Q1755.5 195.296 1757.98 197.819 Q1760.48 200.319 1760.48 204.532 Q1760.48 209.555 1757.1 212.147 Q1753.74 214.74 1747.24 214.74 Q1744.79 214.74 1742.01 214.184 Q1739.25 213.629 1736.29 212.541 L1736.29 207.726 Q1739.14 209.323 1741.87 210.133 Q1744.6 210.944 1747.24 210.944 Q1751.24 210.944 1753.42 209.37 Q1755.6 207.796 1755.6 204.879 Q1755.6 202.333 1754.02 200.897 Q1752.47 199.462 1748.91 198.745 L1746.06 198.189 Q1740.83 197.147 1738.49 194.925 Q1736.15 192.703 1736.15 188.745 Q1736.15 184.161 1739.37 181.522 Q1742.61 178.884 1748.28 178.884 Q1750.71 178.884 1753.23 179.323 Q1755.76 179.763 1758.4 180.643 Z\" fill=\"#000000\" fill-rule=\"nonzero\" fill-opacity=\"1\" /><path clip-path=\"url(#clip760)\" d=\"M1771.8 180.782 L1771.8 188.143 L1780.57 188.143 L1780.57 191.453 L1771.8 191.453 L1771.8 205.527 Q1771.8 208.698 1772.66 209.601 Q1773.53 210.504 1776.2 210.504 L1780.57 210.504 L1780.57 214.069 L1776.2 214.069 Q1771.27 214.069 1769.39 212.24 Q1767.52 210.388 1767.52 205.527 L1767.52 191.453 L1764.39 191.453 L1764.39 188.143 L1767.52 188.143 L1767.52 180.782 L1771.8 180.782 Z\" fill=\"#000000\" fill-rule=\"nonzero\" fill-opacity=\"1\" /><path clip-path=\"url(#clip760)\" d=\"M1797.96 201.036 Q1792.79 201.036 1790.8 202.217 Q1788.81 203.397 1788.81 206.245 Q1788.81 208.513 1790.29 209.856 Q1791.8 211.175 1794.37 211.175 Q1797.91 211.175 1800.04 208.675 Q1802.19 206.152 1802.19 201.985 L1802.19 201.036 L1797.96 201.036 M1806.45 199.277 L1806.45 214.069 L1802.19 214.069 L1802.19 210.133 Q1800.73 212.495 1798.56 213.629 Q1796.38 214.74 1793.23 214.74 Q1789.25 214.74 1786.89 212.518 Q1784.55 210.272 1784.55 206.522 Q1784.55 202.147 1787.47 199.925 Q1790.41 197.703 1796.22 197.703 L1802.19 197.703 L1802.19 197.286 Q1802.19 194.347 1800.25 192.749 Q1798.33 191.129 1794.83 191.129 Q1792.61 191.129 1790.5 191.661 Q1788.4 192.194 1786.45 193.259 L1786.45 189.323 Q1788.79 188.421 1790.99 187.981 Q1793.19 187.518 1795.27 187.518 Q1800.9 187.518 1803.67 190.434 Q1806.45 193.351 1806.45 199.277 Z\" fill=\"#000000\" fill-rule=\"nonzero\" fill-opacity=\"1\" /><path clip-path=\"url(#clip760)\" d=\"M1836.78 198.421 L1836.78 214.069 L1832.52 214.069 L1832.52 198.559 Q1832.52 194.879 1831.08 193.05 Q1829.65 191.222 1826.78 191.222 Q1823.33 191.222 1821.34 193.421 Q1819.34 195.62 1819.34 199.416 L1819.34 214.069 L1815.06 214.069 L1815.06 188.143 L1819.34 188.143 L1819.34 192.171 Q1820.87 189.833 1822.93 188.675 Q1825.02 187.518 1827.72 187.518 Q1832.19 187.518 1834.48 190.296 Q1836.78 193.05 1836.78 198.421 Z\" fill=\"#000000\" fill-rule=\"nonzero\" fill-opacity=\"1\" /><path clip-path=\"url(#clip760)\" d=\"M1862.33 192.078 L1862.33 178.05 L1866.59 178.05 L1866.59 214.069 L1862.33 214.069 L1862.33 210.18 Q1860.99 212.495 1858.93 213.629 Q1856.89 214.74 1854.02 214.74 Q1849.32 214.74 1846.36 210.99 Q1843.42 207.24 1843.42 201.129 Q1843.42 195.018 1846.36 191.268 Q1849.32 187.518 1854.02 187.518 Q1856.89 187.518 1858.93 188.652 Q1860.99 189.763 1862.33 192.078 M1847.82 201.129 Q1847.82 205.828 1849.74 208.513 Q1851.68 211.175 1855.06 211.175 Q1858.44 211.175 1860.39 208.513 Q1862.33 205.828 1862.33 201.129 Q1862.33 196.43 1860.39 193.768 Q1858.44 191.083 1855.06 191.083 Q1851.68 191.083 1849.74 193.768 Q1847.82 196.43 1847.82 201.129 Z\" fill=\"#000000\" fill-rule=\"nonzero\" fill-opacity=\"1\" /><path clip-path=\"url(#clip760)\" d=\"M1887.15 201.036 Q1881.98 201.036 1879.99 202.217 Q1878 203.397 1878 206.245 Q1878 208.513 1879.48 209.856 Q1880.99 211.175 1883.56 211.175 Q1887.1 211.175 1889.23 208.675 Q1891.38 206.152 1891.38 201.985 L1891.38 201.036 L1887.15 201.036 M1895.64 199.277 L1895.64 214.069 L1891.38 214.069 L1891.38 210.133 Q1889.92 212.495 1887.75 213.629 Q1885.57 214.74 1882.42 214.74 Q1878.44 214.74 1876.08 212.518 Q1873.74 210.272 1873.74 206.522 Q1873.74 202.147 1876.66 199.925 Q1879.6 197.703 1885.41 197.703 L1891.38 197.703 L1891.38 197.286 Q1891.38 194.347 1889.44 192.749 Q1887.52 191.129 1884.02 191.129 Q1881.8 191.129 1879.69 191.661 Q1877.59 192.194 1875.64 193.259 L1875.64 189.323 Q1877.98 188.421 1880.18 187.981 Q1882.38 187.518 1884.46 187.518 Q1890.09 187.518 1892.86 190.434 Q1895.64 193.351 1895.64 199.277 Z\" fill=\"#000000\" fill-rule=\"nonzero\" fill-opacity=\"1\" /><path clip-path=\"url(#clip760)\" d=\"M1919.44 192.124 Q1918.72 191.708 1917.86 191.522 Q1917.03 191.314 1916.01 191.314 Q1912.4 191.314 1910.46 193.675 Q1908.53 196.013 1908.53 200.411 L1908.53 214.069 L1904.25 214.069 L1904.25 188.143 L1908.53 188.143 L1908.53 192.171 Q1909.88 189.809 1912.03 188.675 Q1914.18 187.518 1917.26 187.518 Q1917.7 187.518 1918.23 187.587 Q1918.77 187.634 1919.41 187.749 L1919.44 192.124 Z\" fill=\"#000000\" fill-rule=\"nonzero\" fill-opacity=\"1\" /><path clip-path=\"url(#clip760)\" d=\"M1940.13 192.078 L1940.13 178.05 L1944.39 178.05 L1944.39 214.069 L1940.13 214.069 L1940.13 210.18 Q1938.79 212.495 1936.73 213.629 Q1934.69 214.74 1931.82 214.74 Q1927.12 214.74 1924.16 210.99 Q1921.22 207.24 1921.22 201.129 Q1921.22 195.018 1924.16 191.268 Q1927.12 187.518 1931.82 187.518 Q1934.69 187.518 1936.73 188.652 Q1938.79 189.763 1940.13 192.078 M1925.62 201.129 Q1925.62 205.828 1927.54 208.513 Q1929.48 211.175 1932.86 211.175 Q1936.24 211.175 1938.19 208.513 Q1940.13 205.828 1940.13 201.129 Q1940.13 196.43 1938.19 193.768 Q1936.24 191.083 1932.86 191.083 Q1929.48 191.083 1927.54 193.768 Q1925.62 196.43 1925.62 201.129 Z\" fill=\"#000000\" fill-rule=\"nonzero\" fill-opacity=\"1\" /><path clip-path=\"url(#clip760)\" d=\"M1968.42 179.509 L1974.71 179.509 L1990.04 208.421 L1990.04 179.509 L1994.58 179.509 L1994.58 214.069 L1988.28 214.069 L1972.96 185.157 L1972.96 214.069 L1968.42 214.069 L1968.42 179.509 Z\" fill=\"#000000\" fill-rule=\"nonzero\" fill-opacity=\"1\" /><path clip-path=\"url(#clip760)\" d=\"M2013.74 191.129 Q2010.32 191.129 2008.33 193.814 Q2006.33 196.476 2006.33 201.129 Q2006.33 205.782 2008.3 208.467 Q2010.29 211.129 2013.74 211.129 Q2017.14 211.129 2019.14 208.444 Q2021.13 205.758 2021.13 201.129 Q2021.13 196.522 2019.14 193.837 Q2017.14 191.129 2013.74 191.129 M2013.74 187.518 Q2019.3 187.518 2022.47 191.129 Q2025.64 194.74 2025.64 201.129 Q2025.64 207.495 2022.47 211.129 Q2019.3 214.74 2013.74 214.74 Q2008.16 214.74 2004.99 211.129 Q2001.84 207.495 2001.84 201.129 Q2001.84 194.74 2004.99 191.129 Q2008.16 187.518 2013.74 187.518 Z\" fill=\"#000000\" fill-rule=\"nonzero\" fill-opacity=\"1\" /><path clip-path=\"url(#clip760)\" d=\"M2047.72 192.124 Q2047.01 191.708 2046.15 191.522 Q2045.32 191.314 2044.3 191.314 Q2040.69 191.314 2038.74 193.675 Q2036.82 196.013 2036.82 200.411 L2036.82 214.069 L2032.54 214.069 L2032.54 188.143 L2036.82 188.143 L2036.82 192.171 Q2038.16 189.809 2040.32 188.675 Q2042.47 187.518 2045.55 187.518 Q2045.99 187.518 2046.52 187.587 Q2047.05 187.634 2047.7 187.749 L2047.72 192.124 Z\" fill=\"#000000\" fill-rule=\"nonzero\" fill-opacity=\"1\" /><path clip-path=\"url(#clip760)\" d=\"M2071.54 193.12 Q2073.14 190.249 2075.36 188.884 Q2077.58 187.518 2080.59 187.518 Q2084.64 187.518 2086.84 190.365 Q2089.04 193.189 2089.04 198.421 L2089.04 214.069 L2084.76 214.069 L2084.76 198.559 Q2084.76 194.833 2083.44 193.027 Q2082.12 191.222 2079.41 191.222 Q2076.1 191.222 2074.18 193.421 Q2072.26 195.62 2072.26 199.416 L2072.26 214.069 L2067.98 214.069 L2067.98 198.559 Q2067.98 194.809 2066.66 193.027 Q2065.34 191.222 2062.58 191.222 Q2059.32 191.222 2057.4 193.444 Q2055.48 195.643 2055.48 199.416 L2055.48 214.069 L2051.2 214.069 L2051.2 188.143 L2055.48 188.143 L2055.48 192.171 Q2056.94 189.786 2058.97 188.652 Q2061.01 187.518 2063.81 187.518 Q2066.64 187.518 2068.6 188.953 Q2070.59 190.388 2071.54 193.12 Z\" fill=\"#000000\" fill-rule=\"nonzero\" fill-opacity=\"1\" /><path clip-path=\"url(#clip760)\" d=\"M2109.32 201.036 Q2104.16 201.036 2102.17 202.217 Q2100.18 203.397 2100.18 206.245 Q2100.18 208.513 2101.66 209.856 Q2103.16 211.175 2105.73 211.175 Q2109.27 211.175 2111.4 208.675 Q2113.56 206.152 2113.56 201.985 L2113.56 201.036 L2109.32 201.036 M2117.82 199.277 L2117.82 214.069 L2113.56 214.069 L2113.56 210.133 Q2112.1 212.495 2109.92 213.629 Q2107.75 214.74 2104.6 214.74 Q2100.62 214.74 2098.26 212.518 Q2095.92 210.272 2095.92 206.522 Q2095.92 202.147 2098.83 199.925 Q2101.77 197.703 2107.58 197.703 L2113.56 197.703 L2113.56 197.286 Q2113.56 194.347 2111.61 192.749 Q2109.69 191.129 2106.2 191.129 Q2103.97 191.129 2101.87 191.661 Q2099.76 192.194 2097.82 193.259 L2097.82 189.323 Q2100.15 188.421 2102.35 187.981 Q2104.55 187.518 2106.63 187.518 Q2112.26 187.518 2115.04 190.434 Q2117.82 193.351 2117.82 199.277 Z\" fill=\"#000000\" fill-rule=\"nonzero\" fill-opacity=\"1\" /><path clip-path=\"url(#clip760)\" d=\"M2126.59 178.05 L2130.85 178.05 L2130.85 214.069 L2126.59 214.069 L2126.59 178.05 Z\" fill=\"#000000\" fill-rule=\"nonzero\" fill-opacity=\"1\" /><path clip-path=\"url(#clip760)\" d=\"M2159.69 183.351 L2159.69 196.337 L2165.57 196.337 Q2168.83 196.337 2170.62 194.647 Q2172.4 192.958 2172.4 189.833 Q2172.4 186.731 2170.62 185.041 Q2168.83 183.351 2165.57 183.351 L2159.69 183.351 M2155.01 179.509 L2165.57 179.509 Q2171.38 179.509 2174.34 182.147 Q2177.33 184.763 2177.33 189.833 Q2177.33 194.948 2174.34 197.564 Q2171.38 200.18 2165.57 200.18 L2159.69 200.18 L2159.69 214.069 L2155.01 214.069 L2155.01 179.509 Z\" fill=\"#000000\" fill-rule=\"nonzero\" fill-opacity=\"1\" /><path clip-path=\"url(#clip760)\" d=\"M2188.28 183.351 L2188.28 210.226 L2193.93 210.226 Q2201.08 210.226 2204.39 206.985 Q2207.72 203.745 2207.72 196.754 Q2207.72 189.809 2204.39 186.592 Q2201.08 183.351 2193.93 183.351 L2188.28 183.351 M2183.6 179.509 L2193.21 179.509 Q2203.25 179.509 2207.95 183.698 Q2212.65 187.865 2212.65 196.754 Q2212.65 205.689 2207.93 209.879 Q2203.21 214.069 2193.21 214.069 L2183.6 214.069 L2183.6 179.509 Z\" fill=\"#000000\" fill-rule=\"nonzero\" fill-opacity=\"1\" /><path clip-path=\"url(#clip760)\" d=\"M2220.11 179.509 L2239.97 179.509 L2239.97 183.444 L2224.78 183.444 L2224.78 193.629 L2238.49 193.629 L2238.49 197.564 L2224.78 197.564 L2224.78 214.069 L2220.11 214.069 L2220.11 179.509 Z\" fill=\"#000000\" fill-rule=\"nonzero\" fill-opacity=\"1\" /></svg>\n"
      ],
      "text/html": [
       "<?xml version=\"1.0\" encoding=\"utf-8\"?>\n",
       "<svg xmlns=\"http://www.w3.org/2000/svg\" xmlns:xlink=\"http://www.w3.org/1999/xlink\" width=\"600\" height=\"400\" viewBox=\"0 0 2400 1600\">\n",
       "<defs>\n",
       "  <clipPath id=\"clip810\">\n",
       "    <rect x=\"0\" y=\"0\" width=\"2400\" height=\"1600\"/>\n",
       "  </clipPath>\n",
       "</defs>\n",
       "<path clip-path=\"url(#clip810)\" d=\"M0 1600 L2400 1600 L2400 0 L0 0  Z\" fill=\"#ffffff\" fill-rule=\"evenodd\" fill-opacity=\"1\"/>\n",
       "<defs>\n",
       "  <clipPath id=\"clip811\">\n",
       "    <rect x=\"480\" y=\"0\" width=\"1681\" height=\"1600\"/>\n",
       "  </clipPath>\n",
       "</defs>\n",
       "<path clip-path=\"url(#clip810)\" d=\"M205.121 1423.18 L2352.76 1423.18 L2352.76 47.2441 L205.121 47.2441  Z\" fill=\"#ffffff\" fill-rule=\"evenodd\" fill-opacity=\"1\"/>\n",
       "<defs>\n",
       "  <clipPath id=\"clip812\">\n",
       "    <rect x=\"205\" y=\"47\" width=\"2149\" height=\"1377\"/>\n",
       "  </clipPath>\n",
       "</defs>\n",
       "<polyline clip-path=\"url(#clip812)\" style=\"stroke:#000000; stroke-linecap:round; stroke-linejoin:round; stroke-width:2; stroke-opacity:0.1; fill:none\" points=\"258.749,1423.18 258.749,47.2441 \"/>\n",
       "<polyline clip-path=\"url(#clip812)\" style=\"stroke:#000000; stroke-linecap:round; stroke-linejoin:round; stroke-width:2; stroke-opacity:0.1; fill:none\" points=\"616.459,1423.18 616.459,47.2441 \"/>\n",
       "<polyline clip-path=\"url(#clip812)\" style=\"stroke:#000000; stroke-linecap:round; stroke-linejoin:round; stroke-width:2; stroke-opacity:0.1; fill:none\" points=\"974.169,1423.18 974.169,47.2441 \"/>\n",
       "<polyline clip-path=\"url(#clip812)\" style=\"stroke:#000000; stroke-linecap:round; stroke-linejoin:round; stroke-width:2; stroke-opacity:0.1; fill:none\" points=\"1331.88,1423.18 1331.88,47.2441 \"/>\n",
       "<polyline clip-path=\"url(#clip812)\" style=\"stroke:#000000; stroke-linecap:round; stroke-linejoin:round; stroke-width:2; stroke-opacity:0.1; fill:none\" points=\"1689.59,1423.18 1689.59,47.2441 \"/>\n",
       "<polyline clip-path=\"url(#clip812)\" style=\"stroke:#000000; stroke-linecap:round; stroke-linejoin:round; stroke-width:2; stroke-opacity:0.1; fill:none\" points=\"2047.3,1423.18 2047.3,47.2441 \"/>\n",
       "<polyline clip-path=\"url(#clip810)\" style=\"stroke:#000000; stroke-linecap:round; stroke-linejoin:round; stroke-width:4; stroke-opacity:1; fill:none\" points=\"205.121,1423.18 2352.76,1423.18 \"/>\n",
       "<polyline clip-path=\"url(#clip810)\" style=\"stroke:#000000; stroke-linecap:round; stroke-linejoin:round; stroke-width:4; stroke-opacity:1; fill:none\" points=\"258.749,1423.18 258.749,1404.28 \"/>\n",
       "<polyline clip-path=\"url(#clip810)\" style=\"stroke:#000000; stroke-linecap:round; stroke-linejoin:round; stroke-width:4; stroke-opacity:1; fill:none\" points=\"616.459,1423.18 616.459,1404.28 \"/>\n",
       "<polyline clip-path=\"url(#clip810)\" style=\"stroke:#000000; stroke-linecap:round; stroke-linejoin:round; stroke-width:4; stroke-opacity:1; fill:none\" points=\"974.169,1423.18 974.169,1404.28 \"/>\n",
       "<polyline clip-path=\"url(#clip810)\" style=\"stroke:#000000; stroke-linecap:round; stroke-linejoin:round; stroke-width:4; stroke-opacity:1; fill:none\" points=\"1331.88,1423.18 1331.88,1404.28 \"/>\n",
       "<polyline clip-path=\"url(#clip810)\" style=\"stroke:#000000; stroke-linecap:round; stroke-linejoin:round; stroke-width:4; stroke-opacity:1; fill:none\" points=\"1689.59,1423.18 1689.59,1404.28 \"/>\n",
       "<polyline clip-path=\"url(#clip810)\" style=\"stroke:#000000; stroke-linecap:round; stroke-linejoin:round; stroke-width:4; stroke-opacity:1; fill:none\" points=\"2047.3,1423.18 2047.3,1404.28 \"/>\n",
       "<path clip-path=\"url(#clip810)\" d=\"M258.749 1454.1 Q255.138 1454.1 253.309 1457.66 Q251.504 1461.2 251.504 1468.33 Q251.504 1475.44 253.309 1479.01 Q255.138 1482.55 258.749 1482.55 Q262.383 1482.55 264.189 1479.01 Q266.017 1475.44 266.017 1468.33 Q266.017 1461.2 264.189 1457.66 Q262.383 1454.1 258.749 1454.1 M258.749 1450.39 Q264.559 1450.39 267.615 1455 Q270.693 1459.58 270.693 1468.33 Q270.693 1477.06 267.615 1481.67 Q264.559 1486.25 258.749 1486.25 Q252.939 1486.25 249.86 1481.67 Q246.805 1477.06 246.805 1468.33 Q246.805 1459.58 249.86 1455 Q252.939 1450.39 258.749 1450.39 Z\" fill=\"#000000\" fill-rule=\"nonzero\" fill-opacity=\"1\" /><path clip-path=\"url(#clip810)\" d=\"M591.158 1451.02 L609.515 1451.02 L609.515 1454.96 L595.441 1454.96 L595.441 1463.43 Q596.459 1463.08 597.478 1462.92 Q598.496 1462.73 599.515 1462.73 Q605.302 1462.73 608.681 1465.9 Q612.061 1469.08 612.061 1474.49 Q612.061 1480.07 608.589 1483.17 Q605.117 1486.25 598.797 1486.25 Q596.621 1486.25 594.353 1485.88 Q592.107 1485.51 589.7 1484.77 L589.7 1480.07 Q591.783 1481.2 594.006 1481.76 Q596.228 1482.32 598.705 1482.32 Q602.709 1482.32 605.047 1480.21 Q607.385 1478.1 607.385 1474.49 Q607.385 1470.88 605.047 1468.77 Q602.709 1466.67 598.705 1466.67 Q596.83 1466.67 594.955 1467.08 Q593.103 1467.5 591.158 1468.38 L591.158 1451.02 Z\" fill=\"#000000\" fill-rule=\"nonzero\" fill-opacity=\"1\" /><path clip-path=\"url(#clip810)\" d=\"M631.274 1454.1 Q627.663 1454.1 625.834 1457.66 Q624.029 1461.2 624.029 1468.33 Q624.029 1475.44 625.834 1479.01 Q627.663 1482.55 631.274 1482.55 Q634.908 1482.55 636.714 1479.01 Q638.542 1475.44 638.542 1468.33 Q638.542 1461.2 636.714 1457.66 Q634.908 1454.1 631.274 1454.1 M631.274 1450.39 Q637.084 1450.39 640.14 1455 Q643.218 1459.58 643.218 1468.33 Q643.218 1477.06 640.14 1481.67 Q637.084 1486.25 631.274 1486.25 Q625.464 1486.25 622.385 1481.67 Q619.329 1477.06 619.329 1468.33 Q619.329 1459.58 622.385 1455 Q625.464 1450.39 631.274 1450.39 Z\" fill=\"#000000\" fill-rule=\"nonzero\" fill-opacity=\"1\" /><path clip-path=\"url(#clip810)\" d=\"M933.776 1481.64 L941.415 1481.64 L941.415 1455.28 L933.105 1456.95 L933.105 1452.69 L941.369 1451.02 L946.044 1451.02 L946.044 1481.64 L953.683 1481.64 L953.683 1485.58 L933.776 1485.58 L933.776 1481.64 Z\" fill=\"#000000\" fill-rule=\"nonzero\" fill-opacity=\"1\" /><path clip-path=\"url(#clip810)\" d=\"M973.128 1454.1 Q969.517 1454.1 967.688 1457.66 Q965.882 1461.2 965.882 1468.33 Q965.882 1475.44 967.688 1479.01 Q969.517 1482.55 973.128 1482.55 Q976.762 1482.55 978.567 1479.01 Q980.396 1475.44 980.396 1468.33 Q980.396 1461.2 978.567 1457.66 Q976.762 1454.1 973.128 1454.1 M973.128 1450.39 Q978.938 1450.39 981.993 1455 Q985.072 1459.58 985.072 1468.33 Q985.072 1477.06 981.993 1481.67 Q978.938 1486.25 973.128 1486.25 Q967.318 1486.25 964.239 1481.67 Q961.183 1477.06 961.183 1468.33 Q961.183 1459.58 964.239 1455 Q967.318 1450.39 973.128 1450.39 Z\" fill=\"#000000\" fill-rule=\"nonzero\" fill-opacity=\"1\" /><path clip-path=\"url(#clip810)\" d=\"M1003.29 1454.1 Q999.678 1454.1 997.85 1457.66 Q996.044 1461.2 996.044 1468.33 Q996.044 1475.44 997.85 1479.01 Q999.678 1482.55 1003.29 1482.55 Q1006.92 1482.55 1008.73 1479.01 Q1010.56 1475.44 1010.56 1468.33 Q1010.56 1461.2 1008.73 1457.66 Q1006.92 1454.1 1003.29 1454.1 M1003.29 1450.39 Q1009.1 1450.39 1012.16 1455 Q1015.23 1459.58 1015.23 1468.33 Q1015.23 1477.06 1012.16 1481.67 Q1009.1 1486.25 1003.29 1486.25 Q997.479 1486.25 994.401 1481.67 Q991.345 1477.06 991.345 1468.33 Q991.345 1459.58 994.401 1455 Q997.479 1450.39 1003.29 1450.39 Z\" fill=\"#000000\" fill-rule=\"nonzero\" fill-opacity=\"1\" /><path clip-path=\"url(#clip810)\" d=\"M1291.49 1481.64 L1299.13 1481.64 L1299.13 1455.28 L1290.81 1456.95 L1290.81 1452.69 L1299.08 1451.02 L1303.75 1451.02 L1303.75 1481.64 L1311.39 1481.64 L1311.39 1485.58 L1291.49 1485.58 L1291.49 1481.64 Z\" fill=\"#000000\" fill-rule=\"nonzero\" fill-opacity=\"1\" /><path clip-path=\"url(#clip810)\" d=\"M1320.88 1451.02 L1339.24 1451.02 L1339.24 1454.96 L1325.17 1454.96 L1325.17 1463.43 Q1326.19 1463.08 1327.2 1462.92 Q1328.22 1462.73 1329.24 1462.73 Q1335.03 1462.73 1338.41 1465.9 Q1341.79 1469.08 1341.79 1474.49 Q1341.79 1480.07 1338.31 1483.17 Q1334.84 1486.25 1328.52 1486.25 Q1326.35 1486.25 1324.08 1485.88 Q1321.83 1485.51 1319.43 1484.77 L1319.43 1480.07 Q1321.51 1481.2 1323.73 1481.76 Q1325.95 1482.32 1328.43 1482.32 Q1332.44 1482.32 1334.77 1480.21 Q1337.11 1478.1 1337.11 1474.49 Q1337.11 1470.88 1334.77 1468.77 Q1332.44 1466.67 1328.43 1466.67 Q1326.56 1466.67 1324.68 1467.08 Q1322.83 1467.5 1320.88 1468.38 L1320.88 1451.02 Z\" fill=\"#000000\" fill-rule=\"nonzero\" fill-opacity=\"1\" /><path clip-path=\"url(#clip810)\" d=\"M1361 1454.1 Q1357.39 1454.1 1355.56 1457.66 Q1353.75 1461.2 1353.75 1468.33 Q1353.75 1475.44 1355.56 1479.01 Q1357.39 1482.55 1361 1482.55 Q1364.63 1482.55 1366.44 1479.01 Q1368.27 1475.44 1368.27 1468.33 Q1368.27 1461.2 1366.44 1457.66 Q1364.63 1454.1 1361 1454.1 M1361 1450.39 Q1366.81 1450.39 1369.87 1455 Q1372.94 1459.58 1372.94 1468.33 Q1372.94 1477.06 1369.87 1481.67 Q1366.81 1486.25 1361 1486.25 Q1355.19 1486.25 1352.11 1481.67 Q1349.06 1477.06 1349.06 1468.33 Q1349.06 1459.58 1352.11 1455 Q1355.19 1450.39 1361 1450.39 Z\" fill=\"#000000\" fill-rule=\"nonzero\" fill-opacity=\"1\" /><path clip-path=\"url(#clip810)\" d=\"M1653.28 1481.64 L1669.6 1481.64 L1669.6 1485.58 L1647.66 1485.58 L1647.66 1481.64 Q1650.32 1478.89 1654.9 1474.26 Q1659.51 1469.61 1660.69 1468.27 Q1662.93 1465.74 1663.81 1464.01 Q1664.72 1462.25 1664.72 1460.56 Q1664.72 1457.8 1662.77 1456.07 Q1660.85 1454.33 1657.75 1454.33 Q1655.55 1454.33 1653.1 1455.09 Q1650.67 1455.86 1647.89 1457.41 L1647.89 1452.69 Q1650.71 1451.55 1653.17 1450.97 Q1655.62 1450.39 1657.66 1450.39 Q1663.03 1450.39 1666.22 1453.08 Q1669.42 1455.77 1669.42 1460.26 Q1669.42 1462.39 1668.61 1464.31 Q1667.82 1466.2 1665.71 1468.8 Q1665.13 1469.47 1662.03 1472.69 Q1658.93 1475.88 1653.28 1481.64 Z\" fill=\"#000000\" fill-rule=\"nonzero\" fill-opacity=\"1\" /><path clip-path=\"url(#clip810)\" d=\"M1689.42 1454.1 Q1685.81 1454.1 1683.98 1457.66 Q1682.17 1461.2 1682.17 1468.33 Q1682.17 1475.44 1683.98 1479.01 Q1685.81 1482.55 1689.42 1482.55 Q1693.05 1482.55 1694.86 1479.01 Q1696.68 1475.44 1696.68 1468.33 Q1696.68 1461.2 1694.86 1457.66 Q1693.05 1454.1 1689.42 1454.1 M1689.42 1450.39 Q1695.23 1450.39 1698.28 1455 Q1701.36 1459.58 1701.36 1468.33 Q1701.36 1477.06 1698.28 1481.67 Q1695.23 1486.25 1689.42 1486.25 Q1683.61 1486.25 1680.53 1481.67 Q1677.47 1477.06 1677.47 1468.33 Q1677.47 1459.58 1680.53 1455 Q1683.61 1450.39 1689.42 1450.39 Z\" fill=\"#000000\" fill-rule=\"nonzero\" fill-opacity=\"1\" /><path clip-path=\"url(#clip810)\" d=\"M1719.58 1454.1 Q1715.97 1454.1 1714.14 1457.66 Q1712.33 1461.2 1712.33 1468.33 Q1712.33 1475.44 1714.14 1479.01 Q1715.97 1482.55 1719.58 1482.55 Q1723.21 1482.55 1725.02 1479.01 Q1726.85 1475.44 1726.85 1468.33 Q1726.85 1461.2 1725.02 1457.66 Q1723.21 1454.1 1719.58 1454.1 M1719.58 1450.39 Q1725.39 1450.39 1728.44 1455 Q1731.52 1459.58 1731.52 1468.33 Q1731.52 1477.06 1728.44 1481.67 Q1725.39 1486.25 1719.58 1486.25 Q1713.77 1486.25 1710.69 1481.67 Q1707.63 1477.06 1707.63 1468.33 Q1707.63 1459.58 1710.69 1455 Q1713.77 1450.39 1719.58 1450.39 Z\" fill=\"#000000\" fill-rule=\"nonzero\" fill-opacity=\"1\" /><path clip-path=\"url(#clip810)\" d=\"M2010.99 1481.64 L2027.31 1481.64 L2027.31 1485.58 L2005.37 1485.58 L2005.37 1481.64 Q2008.03 1478.89 2012.61 1474.26 Q2017.22 1469.61 2018.4 1468.27 Q2020.65 1465.74 2021.52 1464.01 Q2022.43 1462.25 2022.43 1460.56 Q2022.43 1457.8 2020.48 1456.07 Q2018.56 1454.33 2015.46 1454.33 Q2013.26 1454.33 2010.81 1455.09 Q2008.38 1455.86 2005.6 1457.41 L2005.6 1452.69 Q2008.42 1451.55 2010.88 1450.97 Q2013.33 1450.39 2015.37 1450.39 Q2020.74 1450.39 2023.93 1453.08 Q2027.13 1455.77 2027.13 1460.26 Q2027.13 1462.39 2026.32 1464.31 Q2025.53 1466.2 2023.42 1468.8 Q2022.84 1469.47 2019.74 1472.69 Q2016.64 1475.88 2010.99 1481.64 Z\" fill=\"#000000\" fill-rule=\"nonzero\" fill-opacity=\"1\" /><path clip-path=\"url(#clip810)\" d=\"M2037.17 1451.02 L2055.53 1451.02 L2055.53 1454.96 L2041.46 1454.96 L2041.46 1463.43 Q2042.47 1463.08 2043.49 1462.92 Q2044.51 1462.73 2045.53 1462.73 Q2051.32 1462.73 2054.7 1465.9 Q2058.08 1469.08 2058.08 1474.49 Q2058.08 1480.07 2054.6 1483.17 Q2051.13 1486.25 2044.81 1486.25 Q2042.64 1486.25 2040.37 1485.88 Q2038.12 1485.51 2035.71 1484.77 L2035.71 1480.07 Q2037.8 1481.2 2040.02 1481.76 Q2042.24 1482.32 2044.72 1482.32 Q2048.72 1482.32 2051.06 1480.21 Q2053.4 1478.1 2053.4 1474.49 Q2053.4 1470.88 2051.06 1468.77 Q2048.72 1466.67 2044.72 1466.67 Q2042.84 1466.67 2040.97 1467.08 Q2039.12 1467.5 2037.17 1468.38 L2037.17 1451.02 Z\" fill=\"#000000\" fill-rule=\"nonzero\" fill-opacity=\"1\" /><path clip-path=\"url(#clip810)\" d=\"M2077.29 1454.1 Q2073.68 1454.1 2071.85 1457.66 Q2070.04 1461.2 2070.04 1468.33 Q2070.04 1475.44 2071.85 1479.01 Q2073.68 1482.55 2077.29 1482.55 Q2080.92 1482.55 2082.73 1479.01 Q2084.56 1475.44 2084.56 1468.33 Q2084.56 1461.2 2082.73 1457.66 Q2080.92 1454.1 2077.29 1454.1 M2077.29 1450.39 Q2083.1 1450.39 2086.15 1455 Q2089.23 1459.58 2089.23 1468.33 Q2089.23 1477.06 2086.15 1481.67 Q2083.1 1486.25 2077.29 1486.25 Q2071.48 1486.25 2068.4 1481.67 Q2065.34 1477.06 2065.34 1468.33 Q2065.34 1459.58 2068.4 1455 Q2071.48 1450.39 2077.29 1450.39 Z\" fill=\"#000000\" fill-rule=\"nonzero\" fill-opacity=\"1\" /><path clip-path=\"url(#clip810)\" d=\"M1295.55 1532.4 L1282.66 1549.74 L1296.22 1568.04 L1289.31 1568.04 L1278.94 1554.04 L1268.56 1568.04 L1261.66 1568.04 L1275.5 1549.39 L1262.83 1532.4 L1269.74 1532.4 L1279.19 1545.1 L1288.65 1532.4 L1295.55 1532.4 Z\" fill=\"#000000\" fill-rule=\"nonzero\" fill-opacity=\"1\" /><polyline clip-path=\"url(#clip812)\" style=\"stroke:#000000; stroke-linecap:round; stroke-linejoin:round; stroke-width:2; stroke-opacity:0.1; fill:none\" points=\"205.121,1423.18 2352.76,1423.18 \"/>\n",
       "<polyline clip-path=\"url(#clip812)\" style=\"stroke:#000000; stroke-linecap:round; stroke-linejoin:round; stroke-width:2; stroke-opacity:0.1; fill:none\" points=\"205.121,1173.01 2352.76,1173.01 \"/>\n",
       "<polyline clip-path=\"url(#clip812)\" style=\"stroke:#000000; stroke-linecap:round; stroke-linejoin:round; stroke-width:2; stroke-opacity:0.1; fill:none\" points=\"205.121,922.84 2352.76,922.84 \"/>\n",
       "<polyline clip-path=\"url(#clip812)\" style=\"stroke:#000000; stroke-linecap:round; stroke-linejoin:round; stroke-width:2; stroke-opacity:0.1; fill:none\" points=\"205.121,672.669 2352.76,672.669 \"/>\n",
       "<polyline clip-path=\"url(#clip812)\" style=\"stroke:#000000; stroke-linecap:round; stroke-linejoin:round; stroke-width:2; stroke-opacity:0.1; fill:none\" points=\"205.121,422.499 2352.76,422.499 \"/>\n",
       "<polyline clip-path=\"url(#clip812)\" style=\"stroke:#000000; stroke-linecap:round; stroke-linejoin:round; stroke-width:2; stroke-opacity:0.1; fill:none\" points=\"205.121,172.329 2352.76,172.329 \"/>\n",
       "<polyline clip-path=\"url(#clip810)\" style=\"stroke:#000000; stroke-linecap:round; stroke-linejoin:round; stroke-width:4; stroke-opacity:1; fill:none\" points=\"205.121,1423.18 205.121,47.2441 \"/>\n",
       "<polyline clip-path=\"url(#clip810)\" style=\"stroke:#000000; stroke-linecap:round; stroke-linejoin:round; stroke-width:4; stroke-opacity:1; fill:none\" points=\"205.121,1423.18 224.019,1423.18 \"/>\n",
       "<polyline clip-path=\"url(#clip810)\" style=\"stroke:#000000; stroke-linecap:round; stroke-linejoin:round; stroke-width:4; stroke-opacity:1; fill:none\" points=\"205.121,1173.01 224.019,1173.01 \"/>\n",
       "<polyline clip-path=\"url(#clip810)\" style=\"stroke:#000000; stroke-linecap:round; stroke-linejoin:round; stroke-width:4; stroke-opacity:1; fill:none\" points=\"205.121,922.84 224.019,922.84 \"/>\n",
       "<polyline clip-path=\"url(#clip810)\" style=\"stroke:#000000; stroke-linecap:round; stroke-linejoin:round; stroke-width:4; stroke-opacity:1; fill:none\" points=\"205.121,672.669 224.019,672.669 \"/>\n",
       "<polyline clip-path=\"url(#clip810)\" style=\"stroke:#000000; stroke-linecap:round; stroke-linejoin:round; stroke-width:4; stroke-opacity:1; fill:none\" points=\"205.121,422.499 224.019,422.499 \"/>\n",
       "<polyline clip-path=\"url(#clip810)\" style=\"stroke:#000000; stroke-linecap:round; stroke-linejoin:round; stroke-width:4; stroke-opacity:1; fill:none\" points=\"205.121,172.329 224.019,172.329 \"/>\n",
       "<path clip-path=\"url(#clip810)\" d=\"M157.177 1408.98 Q153.566 1408.98 151.737 1412.54 Q149.931 1416.08 149.931 1423.21 Q149.931 1430.32 151.737 1433.89 Q153.566 1437.43 157.177 1437.43 Q160.811 1437.43 162.616 1433.89 Q164.445 1430.32 164.445 1423.21 Q164.445 1416.08 162.616 1412.54 Q160.811 1408.98 157.177 1408.98 M157.177 1405.27 Q162.987 1405.27 166.042 1409.88 Q169.121 1414.46 169.121 1423.21 Q169.121 1431.94 166.042 1436.55 Q162.987 1441.13 157.177 1441.13 Q151.366 1441.13 148.288 1436.55 Q145.232 1431.94 145.232 1423.21 Q145.232 1414.46 148.288 1409.88 Q151.366 1405.27 157.177 1405.27 Z\" fill=\"#000000\" fill-rule=\"nonzero\" fill-opacity=\"1\" /><path clip-path=\"url(#clip810)\" d=\"M117.825 1186.35 L125.464 1186.35 L125.464 1159.99 L117.154 1161.66 L117.154 1157.4 L125.418 1155.73 L130.093 1155.73 L130.093 1186.35 L137.732 1186.35 L137.732 1190.29 L117.825 1190.29 L117.825 1186.35 Z\" fill=\"#000000\" fill-rule=\"nonzero\" fill-opacity=\"1\" /><path clip-path=\"url(#clip810)\" d=\"M157.177 1158.81 Q153.566 1158.81 151.737 1162.37 Q149.931 1165.91 149.931 1173.04 Q149.931 1180.15 151.737 1183.72 Q153.566 1187.26 157.177 1187.26 Q160.811 1187.26 162.616 1183.72 Q164.445 1180.15 164.445 1173.04 Q164.445 1165.91 162.616 1162.37 Q160.811 1158.81 157.177 1158.81 M157.177 1155.1 Q162.987 1155.1 166.042 1159.71 Q169.121 1164.29 169.121 1173.04 Q169.121 1181.77 166.042 1186.38 Q162.987 1190.96 157.177 1190.96 Q151.366 1190.96 148.288 1186.38 Q145.232 1181.77 145.232 1173.04 Q145.232 1164.29 148.288 1159.71 Q151.366 1155.1 157.177 1155.1 Z\" fill=\"#000000\" fill-rule=\"nonzero\" fill-opacity=\"1\" /><path clip-path=\"url(#clip810)\" d=\"M121.043 936.184 L137.362 936.184 L137.362 940.12 L115.418 940.12 L115.418 936.184 Q118.08 933.43 122.663 928.8 Q127.269 924.147 128.45 922.805 Q130.695 920.282 131.575 918.546 Q132.478 916.786 132.478 915.097 Q132.478 912.342 130.533 910.606 Q128.612 908.87 125.51 908.87 Q123.311 908.87 120.857 909.634 Q118.427 910.398 115.649 911.948 L115.649 907.226 Q118.473 906.092 120.927 905.513 Q123.38 904.935 125.418 904.935 Q130.788 904.935 133.982 907.62 Q137.177 910.305 137.177 914.796 Q137.177 916.925 136.367 918.847 Q135.579 920.745 133.473 923.337 Q132.894 924.009 129.792 927.226 Q126.691 930.421 121.043 936.184 Z\" fill=\"#000000\" fill-rule=\"nonzero\" fill-opacity=\"1\" /><path clip-path=\"url(#clip810)\" d=\"M157.177 908.638 Q153.566 908.638 151.737 912.203 Q149.931 915.745 149.931 922.874 Q149.931 929.981 151.737 933.546 Q153.566 937.087 157.177 937.087 Q160.811 937.087 162.616 933.546 Q164.445 929.981 164.445 922.874 Q164.445 915.745 162.616 912.203 Q160.811 908.638 157.177 908.638 M157.177 904.935 Q162.987 904.935 166.042 909.541 Q169.121 914.124 169.121 922.874 Q169.121 931.601 166.042 936.208 Q162.987 940.791 157.177 940.791 Q151.366 940.791 148.288 936.208 Q145.232 931.601 145.232 922.874 Q145.232 914.124 148.288 909.541 Q151.366 904.935 157.177 904.935 Z\" fill=\"#000000\" fill-rule=\"nonzero\" fill-opacity=\"1\" /><path clip-path=\"url(#clip810)\" d=\"M131.181 671.315 Q134.538 672.033 136.413 674.301 Q138.311 676.57 138.311 679.903 Q138.311 685.019 134.792 687.82 Q131.274 690.621 124.793 690.621 Q122.617 690.621 120.302 690.181 Q118.01 689.764 115.556 688.908 L115.556 684.394 Q117.501 685.528 119.816 686.107 Q122.13 686.686 124.654 686.686 Q129.052 686.686 131.343 684.949 Q133.658 683.213 133.658 679.903 Q133.658 676.848 131.505 675.135 Q129.376 673.399 125.556 673.399 L121.529 673.399 L121.529 669.556 L125.742 669.556 Q129.191 669.556 131.019 668.19 Q132.848 666.801 132.848 664.209 Q132.848 661.547 130.95 660.135 Q129.075 658.7 125.556 658.7 Q123.635 658.7 121.436 659.116 Q119.237 659.533 116.598 660.413 L116.598 656.246 Q119.26 655.505 121.575 655.135 Q123.913 654.764 125.973 654.764 Q131.297 654.764 134.399 657.195 Q137.501 659.602 137.501 663.723 Q137.501 666.593 135.857 668.584 Q134.214 670.551 131.181 671.315 Z\" fill=\"#000000\" fill-rule=\"nonzero\" fill-opacity=\"1\" /><path clip-path=\"url(#clip810)\" d=\"M157.177 658.468 Q153.566 658.468 151.737 662.033 Q149.931 665.575 149.931 672.704 Q149.931 679.811 151.737 683.375 Q153.566 686.917 157.177 686.917 Q160.811 686.917 162.616 683.375 Q164.445 679.811 164.445 672.704 Q164.445 665.575 162.616 662.033 Q160.811 658.468 157.177 658.468 M157.177 654.764 Q162.987 654.764 166.042 659.371 Q169.121 663.954 169.121 672.704 Q169.121 681.431 166.042 686.037 Q162.987 690.621 157.177 690.621 Q151.366 690.621 148.288 686.037 Q145.232 681.431 145.232 672.704 Q145.232 663.954 148.288 659.371 Q151.366 654.764 157.177 654.764 Z\" fill=\"#000000\" fill-rule=\"nonzero\" fill-opacity=\"1\" /><path clip-path=\"url(#clip810)\" d=\"M129.862 409.293 L118.056 427.742 L129.862 427.742 L129.862 409.293 M128.635 405.219 L134.515 405.219 L134.515 427.742 L139.445 427.742 L139.445 431.631 L134.515 431.631 L134.515 439.779 L129.862 439.779 L129.862 431.631 L114.26 431.631 L114.26 427.117 L128.635 405.219 Z\" fill=\"#000000\" fill-rule=\"nonzero\" fill-opacity=\"1\" /><path clip-path=\"url(#clip810)\" d=\"M157.177 408.298 Q153.566 408.298 151.737 411.863 Q149.931 415.404 149.931 422.534 Q149.931 429.64 151.737 433.205 Q153.566 436.747 157.177 436.747 Q160.811 436.747 162.616 433.205 Q164.445 429.64 164.445 422.534 Q164.445 415.404 162.616 411.863 Q160.811 408.298 157.177 408.298 M157.177 404.594 Q162.987 404.594 166.042 409.201 Q169.121 413.784 169.121 422.534 Q169.121 431.261 166.042 435.867 Q162.987 440.451 157.177 440.451 Q151.366 440.451 148.288 435.867 Q145.232 431.261 145.232 422.534 Q145.232 413.784 148.288 409.201 Q151.366 404.594 157.177 404.594 Z\" fill=\"#000000\" fill-rule=\"nonzero\" fill-opacity=\"1\" /><path clip-path=\"url(#clip810)\" d=\"M117.061 155.049 L135.417 155.049 L135.417 158.984 L121.343 158.984 L121.343 167.457 Q122.362 167.109 123.38 166.947 Q124.399 166.762 125.418 166.762 Q131.205 166.762 134.584 169.933 Q137.964 173.105 137.964 178.521 Q137.964 184.1 134.492 187.202 Q131.019 190.28 124.7 190.28 Q122.524 190.28 120.255 189.91 Q118.01 189.54 115.603 188.799 L115.603 184.1 Q117.686 185.234 119.908 185.79 Q122.13 186.345 124.607 186.345 Q128.612 186.345 130.95 184.239 Q133.288 182.132 133.288 178.521 Q133.288 174.91 130.95 172.804 Q128.612 170.697 124.607 170.697 Q122.732 170.697 120.857 171.114 Q119.006 171.531 117.061 172.41 L117.061 155.049 Z\" fill=\"#000000\" fill-rule=\"nonzero\" fill-opacity=\"1\" /><path clip-path=\"url(#clip810)\" d=\"M157.177 158.128 Q153.566 158.128 151.737 161.693 Q149.931 165.234 149.931 172.364 Q149.931 179.47 151.737 183.035 Q153.566 186.577 157.177 186.577 Q160.811 186.577 162.616 183.035 Q164.445 179.47 164.445 172.364 Q164.445 165.234 162.616 161.693 Q160.811 158.128 157.177 158.128 M157.177 154.424 Q162.987 154.424 166.042 159.031 Q169.121 163.614 169.121 172.364 Q169.121 181.091 166.042 185.697 Q162.987 190.28 157.177 190.28 Q151.366 190.28 148.288 185.697 Q145.232 181.091 145.232 172.364 Q145.232 163.614 148.288 159.031 Q151.366 154.424 157.177 154.424 Z\" fill=\"#000000\" fill-rule=\"nonzero\" fill-opacity=\"1\" /><path clip-path=\"url(#clip810)\" d=\"M21.7677 848.522 L58.7206 848.522 L58.7206 840.755 Q58.7206 830.92 54.2646 826.369 Q49.8086 821.786 40.1964 821.786 Q30.6479 821.786 26.2237 826.369 Q21.7677 830.92 21.7677 840.755 L21.7677 848.522 M16.4842 854.951 L16.4842 841.742 Q16.4842 827.928 22.2451 821.467 Q27.9743 815.006 40.1964 815.006 Q52.4822 815.006 58.2432 821.499 Q64.0042 827.992 64.0042 841.742 L64.0042 854.951 L16.4842 854.951 Z\" fill=\"#000000\" fill-rule=\"nonzero\" fill-opacity=\"1\" /><path clip-path=\"url(#clip810)\" d=\"M44.7161 774.52 L47.5806 774.52 L47.5806 801.447 Q53.6281 801.065 56.8109 797.819 Q59.9619 794.54 59.9619 788.716 Q59.9619 785.342 59.1344 782.191 Q58.3069 779.008 56.6518 775.889 L62.1899 775.889 Q63.5267 779.04 64.227 782.35 Q64.9272 785.66 64.9272 789.066 Q64.9272 797.596 59.9619 802.593 Q54.9967 807.558 46.5303 807.558 Q37.7774 807.558 32.6531 802.848 Q27.4968 798.105 27.4968 790.084 Q27.4968 782.891 32.1438 778.722 Q36.7589 774.52 44.7161 774.52 M42.9973 780.377 Q38.1912 780.44 35.3266 783.082 Q32.4621 785.692 32.4621 790.021 Q32.4621 794.922 35.2312 797.882 Q38.0002 800.811 43.0292 801.256 L42.9973 780.377 Z\" fill=\"#000000\" fill-rule=\"nonzero\" fill-opacity=\"1\" /><path clip-path=\"url(#clip810)\" d=\"M42.4881 735.276 L64.0042 735.276 L64.0042 741.132 L42.679 741.132 Q37.6183 741.132 35.1038 743.105 Q32.5894 745.079 32.5894 749.026 Q32.5894 753.768 35.6131 756.505 Q38.6368 759.243 43.8567 759.243 L64.0042 759.243 L64.0042 765.131 L28.3562 765.131 L28.3562 759.243 L33.8944 759.243 Q30.6797 757.142 29.0883 754.309 Q27.4968 751.445 27.4968 747.721 Q27.4968 741.578 31.3163 738.427 Q35.1038 735.276 42.4881 735.276 Z\" fill=\"#000000\" fill-rule=\"nonzero\" fill-opacity=\"1\" /><path clip-path=\"url(#clip810)\" d=\"M29.4065 700.869 L34.9447 700.869 Q33.6716 703.352 33.035 706.025 Q32.3984 708.699 32.3984 711.563 Q32.3984 715.924 33.7352 718.12 Q35.072 720.284 37.7456 720.284 Q39.7826 720.284 40.9603 718.725 Q42.1061 717.165 43.1565 712.455 L43.6021 710.449 Q44.9389 704.211 47.3897 701.601 Q49.8086 698.959 54.1691 698.959 Q59.1344 698.959 62.0308 702.906 Q64.9272 706.821 64.9272 713.696 Q64.9272 716.56 64.3543 719.68 Q63.8132 722.767 62.6992 726.204 L56.6518 726.204 Q58.3387 722.958 59.198 719.807 Q60.0256 716.656 60.0256 713.569 Q60.0256 709.431 58.6251 707.203 Q57.1929 704.975 54.6147 704.975 Q52.2276 704.975 50.9545 706.598 Q49.6813 708.19 48.5037 713.632 L48.0262 715.669 Q46.8804 721.112 44.5251 723.531 Q42.138 725.95 38.0002 725.95 Q32.9713 725.95 30.2341 722.385 Q27.4968 718.82 27.4968 712.264 Q27.4968 709.017 27.9743 706.153 Q28.4517 703.288 29.4065 700.869 Z\" fill=\"#000000\" fill-rule=\"nonzero\" fill-opacity=\"1\" /><path clip-path=\"url(#clip810)\" d=\"M28.3562 689.634 L28.3562 683.777 L64.0042 683.777 L64.0042 689.634 L28.3562 689.634 M14.479 689.634 L14.479 683.777 L21.895 683.777 L21.895 689.634 L14.479 689.634 Z\" fill=\"#000000\" fill-rule=\"nonzero\" fill-opacity=\"1\" /><path clip-path=\"url(#clip810)\" d=\"M18.2347 665.73 L28.3562 665.73 L28.3562 653.667 L32.9077 653.667 L32.9077 665.73 L52.2594 665.73 Q56.6199 665.73 57.8613 664.553 Q59.1026 663.343 59.1026 659.683 L59.1026 653.667 L64.0042 653.667 L64.0042 659.683 Q64.0042 666.462 61.4897 669.04 Q58.9434 671.619 52.2594 671.619 L32.9077 671.619 L32.9077 675.915 L28.3562 675.915 L28.3562 671.619 L18.2347 671.619 L18.2347 665.73 Z\" fill=\"#000000\" fill-rule=\"nonzero\" fill-opacity=\"1\" /><path clip-path=\"url(#clip810)\" d=\"M67.3143 631.133 Q73.68 633.615 75.6216 635.971 Q77.5631 638.326 77.5631 642.273 L77.5631 646.951 L72.6615 646.951 L72.6615 643.514 Q72.6615 641.095 71.5157 639.758 Q70.3699 638.421 66.1048 636.798 L63.4312 635.748 L28.3562 650.166 L28.3562 643.96 L56.238 632.82 L28.3562 621.68 L28.3562 615.473 L67.3143 631.133 Z\" fill=\"#000000\" fill-rule=\"nonzero\" fill-opacity=\"1\" /><path clip-path=\"url(#clip812)\" d=\"M1260.34 422.499 L1260.34 1423.18 L1403.42 1423.18 L1403.42 422.499 L1260.34 422.499 L1260.34 422.499  Z\" fill=\"#009af9\" fill-rule=\"evenodd\" fill-opacity=\"1\"/>\n",
       "<polyline clip-path=\"url(#clip812)\" style=\"stroke:#000000; stroke-linecap:round; stroke-linejoin:round; stroke-width:4; stroke-opacity:1; fill:none\" points=\"1260.34,422.499 1260.34,1423.18 1403.42,1423.18 1403.42,422.499 1260.34,422.499 \"/>\n",
       "<path clip-path=\"url(#clip812)\" d=\"M1403.42 1423.18 L1403.42 1423.18 L1546.51 1423.18 L1546.51 1423.18 L1403.42 1423.18 L1403.42 1423.18  Z\" fill=\"#009af9\" fill-rule=\"evenodd\" fill-opacity=\"1\"/>\n",
       "<polyline clip-path=\"url(#clip812)\" style=\"stroke:#000000; stroke-linecap:round; stroke-linejoin:round; stroke-width:4; stroke-opacity:1; fill:none\" points=\"1403.42,1423.18 1403.42,1423.18 1546.51,1423.18 1403.42,1423.18 \"/>\n",
       "<path clip-path=\"url(#clip812)\" d=\"M1546.51 47.2441 L1546.51 1423.18 L1689.59 1423.18 L1689.59 47.2441 L1546.51 47.2441 L1546.51 47.2441  Z\" fill=\"#009af9\" fill-rule=\"evenodd\" fill-opacity=\"1\"/>\n",
       "<polyline clip-path=\"url(#clip812)\" style=\"stroke:#000000; stroke-linecap:round; stroke-linejoin:round; stroke-width:4; stroke-opacity:1; fill:none\" points=\"1546.51,47.2441 1546.51,1423.18 1689.59,1423.18 1689.59,47.2441 1546.51,47.2441 \"/>\n",
       "<path clip-path=\"url(#clip812)\" d=\"M1689.59 1423.18 L1689.59 1423.18 L1832.67 1423.18 L1832.67 1423.18 L1689.59 1423.18 L1689.59 1423.18  Z\" fill=\"#009af9\" fill-rule=\"evenodd\" fill-opacity=\"1\"/>\n",
       "<polyline clip-path=\"url(#clip812)\" style=\"stroke:#000000; stroke-linecap:round; stroke-linejoin:round; stroke-width:4; stroke-opacity:1; fill:none\" points=\"1689.59,1423.18 1689.59,1423.18 1832.67,1423.18 1689.59,1423.18 \"/>\n",
       "<path clip-path=\"url(#clip812)\" d=\"M1832.67 1323.11 L1832.67 1423.18 L1975.76 1423.18 L1975.76 1323.11 L1832.67 1323.11 L1832.67 1323.11  Z\" fill=\"#009af9\" fill-rule=\"evenodd\" fill-opacity=\"1\"/>\n",
       "<polyline clip-path=\"url(#clip812)\" style=\"stroke:#000000; stroke-linecap:round; stroke-linejoin:round; stroke-width:4; stroke-opacity:1; fill:none\" points=\"1832.67,1323.11 1832.67,1423.18 1975.76,1423.18 1975.76,1323.11 1832.67,1323.11 \"/>\n",
       "<path clip-path=\"url(#clip812)\" d=\"M1975.76 1423.18 L1975.76 1423.18 L2118.84 1423.18 L2118.84 1423.18 L1975.76 1423.18 L1975.76 1423.18  Z\" fill=\"#009af9\" fill-rule=\"evenodd\" fill-opacity=\"1\"/>\n",
       "<polyline clip-path=\"url(#clip812)\" style=\"stroke:#000000; stroke-linecap:round; stroke-linejoin:round; stroke-width:4; stroke-opacity:1; fill:none\" points=\"1975.76,1423.18 1975.76,1423.18 2118.84,1423.18 1975.76,1423.18 \"/>\n",
       "<path clip-path=\"url(#clip812)\" d=\"M2118.84 1398.16 L2118.84 1423.18 L2261.93 1423.18 L2261.93 1398.16 L2118.84 1398.16 L2118.84 1398.16  Z\" fill=\"#009af9\" fill-rule=\"evenodd\" fill-opacity=\"1\"/>\n",
       "<polyline clip-path=\"url(#clip812)\" style=\"stroke:#000000; stroke-linecap:round; stroke-linejoin:round; stroke-width:4; stroke-opacity:1; fill:none\" points=\"2118.84,1398.16 2118.84,1423.18 2261.93,1423.18 2261.93,1398.16 2118.84,1398.16 \"/>\n",
       "<circle clip-path=\"url(#clip812)\" style=\"fill:#009af9; stroke:none; fill-opacity:0\" cx=\"1331.88\" cy=\"422.499\" r=\"2\"/>\n",
       "<circle clip-path=\"url(#clip812)\" style=\"fill:#009af9; stroke:none; fill-opacity:0\" cx=\"1474.96\" cy=\"1423.18\" r=\"2\"/>\n",
       "<circle clip-path=\"url(#clip812)\" style=\"fill:#009af9; stroke:none; fill-opacity:0\" cx=\"1618.05\" cy=\"47.2441\" r=\"2\"/>\n",
       "<circle clip-path=\"url(#clip812)\" style=\"fill:#009af9; stroke:none; fill-opacity:0\" cx=\"1761.13\" cy=\"1423.18\" r=\"2\"/>\n",
       "<circle clip-path=\"url(#clip812)\" style=\"fill:#009af9; stroke:none; fill-opacity:0\" cx=\"1904.22\" cy=\"1323.11\" r=\"2\"/>\n",
       "<circle clip-path=\"url(#clip812)\" style=\"fill:#009af9; stroke:none; fill-opacity:0\" cx=\"2047.3\" cy=\"1423.18\" r=\"2\"/>\n",
       "<circle clip-path=\"url(#clip812)\" style=\"fill:#009af9; stroke:none; fill-opacity:0\" cx=\"2190.38\" cy=\"1398.16\" r=\"2\"/>\n",
       "<polyline clip-path=\"url(#clip812)\" style=\"stroke:#e26f46; stroke-linecap:round; stroke-linejoin:round; stroke-width:4; stroke-opacity:1; fill:none\" points=\"265.903,1418.33 273.057,1419.92 280.212,1419.91 287.366,1419.96 294.52,1419.88 301.674,1419.83 308.828,1419.92 315.983,1419.94 323.137,1419.99 330.291,1419.81 337.445,1419.89 344.599,1419.94 351.754,1419.84 358.908,1419.92 366.062,1419.83 373.216,1419.27 380.37,1420.11 387.525,1419.93 394.679,1419.87 401.833,1399.14 408.987,1405.49 416.141,1405.58 423.296,1405.41 430.45,1405.28 437.604,1404.44 444.758,1406.19 451.912,1405.53 459.067,1405.19 466.221,1405.3 473.375,1405.31 480.529,1405.22 487.683,1405.1 494.838,1404.8 501.992,1420.04 509.146,1398.46 516.3,1405.33 523.454,1405.18 530.609,1405.1 537.763,1418.67 544.917,1398.57 552.071,1405.48 559.225,1405 566.38,1405.29 573.534,1419.94 580.688,1419.92 587.842,1419.76 594.996,1419.83 602.151,1419.85 609.305,1419.71 616.459,1419.94 623.613,1419.39 630.768,1419.88 637.922,1419.87 645.076,1419.89 652.23,1419.88 659.384,1419.85 666.539,1419.65 673.693,1419.45 680.847,1419.74 688.001,1398.65 695.155,1405.2 702.31,1405.39 709.464,1405.14 716.618,1405.1 723.772,1405.29 730.926,1405.26 738.081,1405.28 745.235,1405.27 752.389,1408.74 759.543,1405.25 766.697,1405.73 773.852,1405.32 781.006,1405.29 788.16,1405.1 795.314,1405.04 802.468,1405.5 809.623,1405.56 816.777,1404.5 823.931,1404.98 831.085,1404.17 838.239,1406.19 845.394,1405.79 852.548,1404.83 859.702,1404.97 866.856,1404.72 874.01,1405.25 881.165,1404.2 888.319,1405.13 895.473,1404.72 902.627,1404.66 909.781,1404.88 916.936,1404.93 924.09,1405.56 931.244,1404.69 938.398,1419.86 945.553,1419.92 952.707,1398.16 959.861,1405.39 967.015,1404.65 974.169,1419.48 \"/>\n",
       "<path clip-path=\"url(#clip810)\" d=\"M1545.25 248.629 L2281.17 248.629 L2281.17 93.1086 L1545.25 93.1086  Z\" fill=\"#ffffff\" fill-rule=\"evenodd\" fill-opacity=\"1\"/>\n",
       "<polyline clip-path=\"url(#clip810)\" style=\"stroke:#000000; stroke-linecap:round; stroke-linejoin:round; stroke-width:4; stroke-opacity:1; fill:none\" points=\"1545.25,248.629 2281.17,248.629 2281.17,93.1086 1545.25,93.1086 1545.25,248.629 \"/>\n",
       "<path clip-path=\"url(#clip810)\" d=\"M1569.11 165.685 L1712.29 165.685 L1712.29 124.213 L1569.11 124.213 L1569.11 165.685  Z\" fill=\"#009af9\" fill-rule=\"evenodd\" fill-opacity=\"1\"/>\n",
       "<polyline clip-path=\"url(#clip810)\" style=\"stroke:#000000; stroke-linecap:round; stroke-linejoin:round; stroke-width:4; stroke-opacity:1; fill:none\" points=\"1569.11,165.685 1712.29,165.685 1712.29,124.213 1569.11,124.213 1569.11,165.685 \"/>\n",
       "<path clip-path=\"url(#clip810)\" d=\"M1736.15 127.669 L1742.45 127.669 L1757.77 156.581 L1757.77 127.669 L1762.31 127.669 L1762.31 162.229 L1756.01 162.229 L1740.69 133.317 L1740.69 162.229 L1736.15 162.229 L1736.15 127.669 Z\" fill=\"#000000\" fill-rule=\"nonzero\" fill-opacity=\"1\" /><path clip-path=\"url(#clip810)\" d=\"M1781.47 139.289 Q1778.05 139.289 1776.06 141.974 Q1774.07 144.636 1774.07 149.289 Q1774.07 153.942 1776.03 156.627 Q1778.03 159.289 1781.47 159.289 Q1784.88 159.289 1786.87 156.604 Q1788.86 153.918 1788.86 149.289 Q1788.86 144.682 1786.87 141.997 Q1784.88 139.289 1781.47 139.289 M1781.47 135.678 Q1787.03 135.678 1790.2 139.289 Q1793.37 142.9 1793.37 149.289 Q1793.37 155.655 1790.2 159.289 Q1787.03 162.9 1781.47 162.9 Q1775.9 162.9 1772.72 159.289 Q1769.58 155.655 1769.58 149.289 Q1769.58 142.9 1772.72 139.289 Q1775.9 135.678 1781.47 135.678 Z\" fill=\"#000000\" fill-rule=\"nonzero\" fill-opacity=\"1\" /><path clip-path=\"url(#clip810)\" d=\"M1815.46 140.284 Q1814.74 139.868 1813.88 139.682 Q1813.05 139.474 1812.03 139.474 Q1808.42 139.474 1806.47 141.835 Q1804.55 144.173 1804.55 148.571 L1804.55 162.229 L1800.27 162.229 L1800.27 136.303 L1804.55 136.303 L1804.55 140.331 Q1805.9 137.969 1808.05 136.835 Q1810.2 135.678 1813.28 135.678 Q1813.72 135.678 1814.25 135.747 Q1814.78 135.794 1815.43 135.909 L1815.46 140.284 Z\" fill=\"#000000\" fill-rule=\"nonzero\" fill-opacity=\"1\" /><path clip-path=\"url(#clip810)\" d=\"M1839.28 141.28 Q1840.87 138.409 1843.09 137.044 Q1845.32 135.678 1848.33 135.678 Q1852.38 135.678 1854.58 138.525 Q1856.78 141.349 1856.78 146.581 L1856.78 162.229 L1852.49 162.229 L1852.49 146.719 Q1852.49 142.993 1851.17 141.187 Q1849.85 139.382 1847.15 139.382 Q1843.84 139.382 1841.91 141.581 Q1839.99 143.78 1839.99 147.576 L1839.99 162.229 L1835.71 162.229 L1835.71 146.719 Q1835.71 142.969 1834.39 141.187 Q1833.07 139.382 1830.32 139.382 Q1827.05 139.382 1825.13 141.604 Q1823.21 143.803 1823.21 147.576 L1823.21 162.229 L1818.93 162.229 L1818.93 136.303 L1823.21 136.303 L1823.21 140.331 Q1824.67 137.946 1826.71 136.812 Q1828.74 135.678 1831.54 135.678 Q1834.37 135.678 1836.34 137.113 Q1838.33 138.548 1839.28 141.28 Z\" fill=\"#000000\" fill-rule=\"nonzero\" fill-opacity=\"1\" /><path clip-path=\"url(#clip810)\" d=\"M1877.05 149.196 Q1871.89 149.196 1869.9 150.377 Q1867.91 151.557 1867.91 154.405 Q1867.91 156.673 1869.39 158.016 Q1870.9 159.335 1873.46 159.335 Q1877.01 159.335 1879.14 156.835 Q1881.29 154.312 1881.29 150.145 L1881.29 149.196 L1877.05 149.196 M1885.55 147.437 L1885.55 162.229 L1881.29 162.229 L1881.29 158.293 Q1879.83 160.655 1877.65 161.789 Q1875.48 162.9 1872.33 162.9 Q1868.35 162.9 1865.99 160.678 Q1863.65 158.432 1863.65 154.682 Q1863.65 150.307 1866.57 148.085 Q1869.51 145.863 1875.32 145.863 L1881.29 145.863 L1881.29 145.446 Q1881.29 142.507 1879.34 140.909 Q1877.42 139.289 1873.93 139.289 Q1871.71 139.289 1869.6 139.821 Q1867.49 140.354 1865.55 141.419 L1865.55 137.483 Q1867.89 136.581 1870.09 136.141 Q1872.28 135.678 1874.37 135.678 Q1879.99 135.678 1882.77 138.594 Q1885.55 141.511 1885.55 147.437 Z\" fill=\"#000000\" fill-rule=\"nonzero\" fill-opacity=\"1\" /><path clip-path=\"url(#clip810)\" d=\"M1894.32 126.21 L1898.58 126.21 L1898.58 162.229 L1894.32 162.229 L1894.32 126.21 Z\" fill=\"#000000\" fill-rule=\"nonzero\" fill-opacity=\"1\" /><path clip-path=\"url(#clip810)\" d=\"M1907.49 136.303 L1911.75 136.303 L1911.75 162.229 L1907.49 162.229 L1907.49 136.303 M1907.49 126.21 L1911.75 126.21 L1911.75 131.604 L1907.49 131.604 L1907.49 126.21 Z\" fill=\"#000000\" fill-rule=\"nonzero\" fill-opacity=\"1\" /><path clip-path=\"url(#clip810)\" d=\"M1918.81 136.303 L1939.04 136.303 L1939.04 140.192 L1923.02 158.826 L1939.04 158.826 L1939.04 162.229 L1918.23 162.229 L1918.23 158.34 L1934.25 139.706 L1918.81 139.706 L1918.81 136.303 Z\" fill=\"#000000\" fill-rule=\"nonzero\" fill-opacity=\"1\" /><path clip-path=\"url(#clip810)\" d=\"M1967.72 148.201 L1967.72 150.284 L1948.14 150.284 Q1948.42 154.682 1950.78 156.997 Q1953.16 159.289 1957.4 159.289 Q1959.85 159.289 1962.15 158.687 Q1964.46 158.085 1966.73 156.881 L1966.73 160.909 Q1964.44 161.881 1962.03 162.391 Q1959.62 162.9 1957.15 162.9 Q1950.94 162.9 1947.31 159.289 Q1943.7 155.678 1943.7 149.52 Q1943.7 143.155 1947.12 139.428 Q1950.57 135.678 1956.4 135.678 Q1961.64 135.678 1964.67 139.057 Q1967.72 142.414 1967.72 148.201 M1963.46 146.951 Q1963.42 143.456 1961.5 141.372 Q1959.6 139.289 1956.45 139.289 Q1952.89 139.289 1950.73 141.303 Q1948.6 143.317 1948.28 146.974 L1963.46 146.951 Z\" fill=\"#000000\" fill-rule=\"nonzero\" fill-opacity=\"1\" /><path clip-path=\"url(#clip810)\" d=\"M1991.77 140.238 L1991.77 126.21 L1996.03 126.21 L1996.03 162.229 L1991.77 162.229 L1991.77 158.34 Q1990.43 160.655 1988.37 161.789 Q1986.33 162.9 1983.46 162.9 Q1978.77 162.9 1975.8 159.15 Q1972.86 155.4 1972.86 149.289 Q1972.86 143.178 1975.8 139.428 Q1978.77 135.678 1983.46 135.678 Q1986.33 135.678 1988.37 136.812 Q1990.43 137.923 1991.77 140.238 M1977.26 149.289 Q1977.26 153.988 1979.18 156.673 Q1981.13 159.335 1984.51 159.335 Q1987.89 159.335 1989.83 156.673 Q1991.77 153.988 1991.77 149.289 Q1991.77 144.59 1989.83 141.928 Q1987.89 139.243 1984.51 139.243 Q1981.13 139.243 1979.18 141.928 Q1977.26 144.59 1977.26 149.289 Z\" fill=\"#000000\" fill-rule=\"nonzero\" fill-opacity=\"1\" /><path clip-path=\"url(#clip810)\" d=\"M2020.06 127.669 L2024.74 127.669 L2024.74 141.835 L2041.73 141.835 L2041.73 127.669 L2046.4 127.669 L2046.4 162.229 L2041.73 162.229 L2041.73 145.77 L2024.74 145.77 L2024.74 162.229 L2020.06 162.229 L2020.06 127.669 Z\" fill=\"#000000\" fill-rule=\"nonzero\" fill-opacity=\"1\" /><path clip-path=\"url(#clip810)\" d=\"M2055.52 136.303 L2059.78 136.303 L2059.78 162.229 L2055.52 162.229 L2055.52 136.303 M2055.52 126.21 L2059.78 126.21 L2059.78 131.604 L2055.52 131.604 L2055.52 126.21 Z\" fill=\"#000000\" fill-rule=\"nonzero\" fill-opacity=\"1\" /><path clip-path=\"url(#clip810)\" d=\"M2085.22 137.067 L2085.22 141.094 Q2083.42 140.169 2081.47 139.706 Q2079.53 139.243 2077.45 139.243 Q2074.27 139.243 2072.68 140.215 Q2071.1 141.187 2071.1 143.131 Q2071.1 144.613 2072.24 145.469 Q2073.37 146.303 2076.8 147.067 L2078.26 147.391 Q2082.79 148.363 2084.69 150.145 Q2086.61 151.905 2086.61 155.076 Q2086.61 158.687 2083.74 160.793 Q2080.89 162.9 2075.89 162.9 Q2073.81 162.9 2071.54 162.483 Q2069.3 162.09 2066.8 161.28 L2066.8 156.881 Q2069.16 158.108 2071.45 158.733 Q2073.74 159.335 2075.99 159.335 Q2079 159.335 2080.62 158.317 Q2082.24 157.275 2082.24 155.4 Q2082.24 153.664 2081.06 152.738 Q2079.9 151.812 2075.94 150.956 L2074.46 150.608 Q2070.5 149.775 2068.74 148.062 Q2066.98 146.326 2066.98 143.317 Q2066.98 139.659 2069.57 137.669 Q2072.17 135.678 2076.94 135.678 Q2079.3 135.678 2081.38 136.025 Q2083.46 136.372 2085.22 137.067 Z\" fill=\"#000000\" fill-rule=\"nonzero\" fill-opacity=\"1\" /><path clip-path=\"url(#clip810)\" d=\"M2097.61 128.942 L2097.61 136.303 L2106.38 136.303 L2106.38 139.613 L2097.61 139.613 L2097.61 153.687 Q2097.61 156.858 2098.46 157.761 Q2099.34 158.664 2102.01 158.664 L2106.38 158.664 L2106.38 162.229 L2102.01 162.229 Q2097.07 162.229 2095.2 160.4 Q2093.32 158.548 2093.32 153.687 L2093.32 139.613 L2090.2 139.613 L2090.2 136.303 L2093.32 136.303 L2093.32 128.942 L2097.61 128.942 Z\" fill=\"#000000\" fill-rule=\"nonzero\" fill-opacity=\"1\" /><path clip-path=\"url(#clip810)\" d=\"M2122.03 139.289 Q2118.6 139.289 2116.61 141.974 Q2114.62 144.636 2114.62 149.289 Q2114.62 153.942 2116.59 156.627 Q2118.58 159.289 2122.03 159.289 Q2125.43 159.289 2127.42 156.604 Q2129.41 153.918 2129.41 149.289 Q2129.41 144.682 2127.42 141.997 Q2125.43 139.289 2122.03 139.289 M2122.03 135.678 Q2127.58 135.678 2130.76 139.289 Q2133.93 142.9 2133.93 149.289 Q2133.93 155.655 2130.76 159.289 Q2127.58 162.9 2122.03 162.9 Q2116.45 162.9 2113.28 159.289 Q2110.13 155.655 2110.13 149.289 Q2110.13 142.9 2113.28 139.289 Q2116.45 135.678 2122.03 135.678 Z\" fill=\"#000000\" fill-rule=\"nonzero\" fill-opacity=\"1\" /><path clip-path=\"url(#clip810)\" d=\"M2158.05 148.965 Q2158.05 144.335 2156.13 141.789 Q2154.23 139.243 2150.78 139.243 Q2147.35 139.243 2145.43 141.789 Q2143.53 144.335 2143.53 148.965 Q2143.53 153.571 2145.43 156.118 Q2147.35 158.664 2150.78 158.664 Q2154.23 158.664 2156.13 156.118 Q2158.05 153.571 2158.05 148.965 M2162.31 159.011 Q2162.31 165.631 2159.37 168.849 Q2156.43 172.09 2150.36 172.09 Q2148.12 172.09 2146.13 171.742 Q2144.13 171.418 2142.26 170.724 L2142.26 166.58 Q2144.13 167.599 2145.96 168.085 Q2147.79 168.571 2149.69 168.571 Q2153.88 168.571 2155.96 166.372 Q2158.05 164.196 2158.05 159.775 L2158.05 157.668 Q2156.73 159.96 2154.67 161.094 Q2152.61 162.229 2149.74 162.229 Q2144.97 162.229 2142.05 158.594 Q2139.13 154.96 2139.13 148.965 Q2139.13 142.946 2142.05 139.312 Q2144.97 135.678 2149.74 135.678 Q2152.61 135.678 2154.67 136.812 Q2156.73 137.946 2158.05 140.238 L2158.05 136.303 L2162.31 136.303 L2162.31 159.011 Z\" fill=\"#000000\" fill-rule=\"nonzero\" fill-opacity=\"1\" /><path clip-path=\"url(#clip810)\" d=\"M2186.1 140.284 Q2185.38 139.868 2184.53 139.682 Q2183.69 139.474 2182.68 139.474 Q2179.07 139.474 2177.12 141.835 Q2175.2 144.173 2175.2 148.571 L2175.2 162.229 L2170.92 162.229 L2170.92 136.303 L2175.2 136.303 L2175.2 140.331 Q2176.54 137.969 2178.69 136.835 Q2180.85 135.678 2183.93 135.678 Q2184.37 135.678 2184.9 135.747 Q2185.43 135.794 2186.08 135.909 L2186.1 140.284 Z\" fill=\"#000000\" fill-rule=\"nonzero\" fill-opacity=\"1\" /><path clip-path=\"url(#clip810)\" d=\"M2202.35 149.196 Q2197.19 149.196 2195.2 150.377 Q2193.21 151.557 2193.21 154.405 Q2193.21 156.673 2194.69 158.016 Q2196.19 159.335 2198.76 159.335 Q2202.31 159.335 2204.44 156.835 Q2206.59 154.312 2206.59 150.145 L2206.59 149.196 L2202.35 149.196 M2210.85 147.437 L2210.85 162.229 L2206.59 162.229 L2206.59 158.293 Q2205.13 160.655 2202.95 161.789 Q2200.78 162.9 2197.63 162.9 Q2193.65 162.9 2191.29 160.678 Q2188.95 158.432 2188.95 154.682 Q2188.95 150.307 2191.87 148.085 Q2194.81 145.863 2200.62 145.863 L2206.59 145.863 L2206.59 145.446 Q2206.59 142.507 2204.64 140.909 Q2202.72 139.289 2199.23 139.289 Q2197 139.289 2194.9 139.821 Q2192.79 140.354 2190.85 141.419 L2190.85 137.483 Q2193.19 136.581 2195.38 136.141 Q2197.58 135.678 2199.67 135.678 Q2205.29 135.678 2208.07 138.594 Q2210.85 141.511 2210.85 147.437 Z\" fill=\"#000000\" fill-rule=\"nonzero\" fill-opacity=\"1\" /><path clip-path=\"url(#clip810)\" d=\"M2239.81 141.28 Q2241.4 138.409 2243.62 137.044 Q2245.85 135.678 2248.86 135.678 Q2252.91 135.678 2255.11 138.525 Q2257.31 141.349 2257.31 146.581 L2257.31 162.229 L2253.02 162.229 L2253.02 146.719 Q2253.02 142.993 2251.7 141.187 Q2250.38 139.382 2247.68 139.382 Q2244.37 139.382 2242.44 141.581 Q2240.52 143.78 2240.52 147.576 L2240.52 162.229 L2236.24 162.229 L2236.24 146.719 Q2236.24 142.969 2234.92 141.187 Q2233.6 139.382 2230.85 139.382 Q2227.58 139.382 2225.66 141.604 Q2223.74 143.803 2223.74 147.576 L2223.74 162.229 L2219.46 162.229 L2219.46 136.303 L2223.74 136.303 L2223.74 140.331 Q2225.2 137.946 2227.24 136.812 Q2229.27 135.678 2232.07 135.678 Q2234.9 135.678 2236.87 137.113 Q2238.86 138.548 2239.81 141.28 Z\" fill=\"#000000\" fill-rule=\"nonzero\" fill-opacity=\"1\" /><polyline clip-path=\"url(#clip810)\" style=\"stroke:#e26f46; stroke-linecap:round; stroke-linejoin:round; stroke-width:4; stroke-opacity:1; fill:none\" points=\"1569.11,196.789 1712.29,196.789 \"/>\n",
       "<path clip-path=\"url(#clip810)\" d=\"M1758.4 180.643 L1758.4 185.203 Q1755.73 183.93 1753.37 183.305 Q1751.01 182.68 1748.81 182.68 Q1744.99 182.68 1742.91 184.161 Q1740.85 185.643 1740.85 188.374 Q1740.85 190.666 1742.22 191.847 Q1743.6 193.004 1747.45 193.722 L1750.27 194.3 Q1755.5 195.296 1757.98 197.819 Q1760.48 200.319 1760.48 204.532 Q1760.48 209.555 1757.1 212.147 Q1753.74 214.74 1747.24 214.74 Q1744.79 214.74 1742.01 214.184 Q1739.25 213.629 1736.29 212.541 L1736.29 207.726 Q1739.14 209.323 1741.87 210.133 Q1744.6 210.944 1747.24 210.944 Q1751.24 210.944 1753.42 209.37 Q1755.6 207.796 1755.6 204.879 Q1755.6 202.333 1754.02 200.897 Q1752.47 199.462 1748.91 198.745 L1746.06 198.189 Q1740.83 197.147 1738.49 194.925 Q1736.15 192.703 1736.15 188.745 Q1736.15 184.161 1739.37 181.522 Q1742.61 178.884 1748.28 178.884 Q1750.71 178.884 1753.23 179.323 Q1755.76 179.763 1758.4 180.643 Z\" fill=\"#000000\" fill-rule=\"nonzero\" fill-opacity=\"1\" /><path clip-path=\"url(#clip810)\" d=\"M1771.8 180.782 L1771.8 188.143 L1780.57 188.143 L1780.57 191.453 L1771.8 191.453 L1771.8 205.527 Q1771.8 208.698 1772.66 209.601 Q1773.53 210.504 1776.2 210.504 L1780.57 210.504 L1780.57 214.069 L1776.2 214.069 Q1771.27 214.069 1769.39 212.24 Q1767.52 210.388 1767.52 205.527 L1767.52 191.453 L1764.39 191.453 L1764.39 188.143 L1767.52 188.143 L1767.52 180.782 L1771.8 180.782 Z\" fill=\"#000000\" fill-rule=\"nonzero\" fill-opacity=\"1\" /><path clip-path=\"url(#clip810)\" d=\"M1797.96 201.036 Q1792.79 201.036 1790.8 202.217 Q1788.81 203.397 1788.81 206.245 Q1788.81 208.513 1790.29 209.856 Q1791.8 211.175 1794.37 211.175 Q1797.91 211.175 1800.04 208.675 Q1802.19 206.152 1802.19 201.985 L1802.19 201.036 L1797.96 201.036 M1806.45 199.277 L1806.45 214.069 L1802.19 214.069 L1802.19 210.133 Q1800.73 212.495 1798.56 213.629 Q1796.38 214.74 1793.23 214.74 Q1789.25 214.74 1786.89 212.518 Q1784.55 210.272 1784.55 206.522 Q1784.55 202.147 1787.47 199.925 Q1790.41 197.703 1796.22 197.703 L1802.19 197.703 L1802.19 197.286 Q1802.19 194.347 1800.25 192.749 Q1798.33 191.129 1794.83 191.129 Q1792.61 191.129 1790.5 191.661 Q1788.4 192.194 1786.45 193.259 L1786.45 189.323 Q1788.79 188.421 1790.99 187.981 Q1793.19 187.518 1795.27 187.518 Q1800.9 187.518 1803.67 190.434 Q1806.45 193.351 1806.45 199.277 Z\" fill=\"#000000\" fill-rule=\"nonzero\" fill-opacity=\"1\" /><path clip-path=\"url(#clip810)\" d=\"M1836.78 198.421 L1836.78 214.069 L1832.52 214.069 L1832.52 198.559 Q1832.52 194.879 1831.08 193.05 Q1829.65 191.222 1826.78 191.222 Q1823.33 191.222 1821.34 193.421 Q1819.34 195.62 1819.34 199.416 L1819.34 214.069 L1815.06 214.069 L1815.06 188.143 L1819.34 188.143 L1819.34 192.171 Q1820.87 189.833 1822.93 188.675 Q1825.02 187.518 1827.72 187.518 Q1832.19 187.518 1834.48 190.296 Q1836.78 193.05 1836.78 198.421 Z\" fill=\"#000000\" fill-rule=\"nonzero\" fill-opacity=\"1\" /><path clip-path=\"url(#clip810)\" d=\"M1862.33 192.078 L1862.33 178.05 L1866.59 178.05 L1866.59 214.069 L1862.33 214.069 L1862.33 210.18 Q1860.99 212.495 1858.93 213.629 Q1856.89 214.74 1854.02 214.74 Q1849.32 214.74 1846.36 210.99 Q1843.42 207.24 1843.42 201.129 Q1843.42 195.018 1846.36 191.268 Q1849.32 187.518 1854.02 187.518 Q1856.89 187.518 1858.93 188.652 Q1860.99 189.763 1862.33 192.078 M1847.82 201.129 Q1847.82 205.828 1849.74 208.513 Q1851.68 211.175 1855.06 211.175 Q1858.44 211.175 1860.39 208.513 Q1862.33 205.828 1862.33 201.129 Q1862.33 196.43 1860.39 193.768 Q1858.44 191.083 1855.06 191.083 Q1851.68 191.083 1849.74 193.768 Q1847.82 196.43 1847.82 201.129 Z\" fill=\"#000000\" fill-rule=\"nonzero\" fill-opacity=\"1\" /><path clip-path=\"url(#clip810)\" d=\"M1887.15 201.036 Q1881.98 201.036 1879.99 202.217 Q1878 203.397 1878 206.245 Q1878 208.513 1879.48 209.856 Q1880.99 211.175 1883.56 211.175 Q1887.1 211.175 1889.23 208.675 Q1891.38 206.152 1891.38 201.985 L1891.38 201.036 L1887.15 201.036 M1895.64 199.277 L1895.64 214.069 L1891.38 214.069 L1891.38 210.133 Q1889.92 212.495 1887.75 213.629 Q1885.57 214.74 1882.42 214.74 Q1878.44 214.74 1876.08 212.518 Q1873.74 210.272 1873.74 206.522 Q1873.74 202.147 1876.66 199.925 Q1879.6 197.703 1885.41 197.703 L1891.38 197.703 L1891.38 197.286 Q1891.38 194.347 1889.44 192.749 Q1887.52 191.129 1884.02 191.129 Q1881.8 191.129 1879.69 191.661 Q1877.59 192.194 1875.64 193.259 L1875.64 189.323 Q1877.98 188.421 1880.18 187.981 Q1882.38 187.518 1884.46 187.518 Q1890.09 187.518 1892.86 190.434 Q1895.64 193.351 1895.64 199.277 Z\" fill=\"#000000\" fill-rule=\"nonzero\" fill-opacity=\"1\" /><path clip-path=\"url(#clip810)\" d=\"M1919.44 192.124 Q1918.72 191.708 1917.86 191.522 Q1917.03 191.314 1916.01 191.314 Q1912.4 191.314 1910.46 193.675 Q1908.53 196.013 1908.53 200.411 L1908.53 214.069 L1904.25 214.069 L1904.25 188.143 L1908.53 188.143 L1908.53 192.171 Q1909.88 189.809 1912.03 188.675 Q1914.18 187.518 1917.26 187.518 Q1917.7 187.518 1918.23 187.587 Q1918.77 187.634 1919.41 187.749 L1919.44 192.124 Z\" fill=\"#000000\" fill-rule=\"nonzero\" fill-opacity=\"1\" /><path clip-path=\"url(#clip810)\" d=\"M1940.13 192.078 L1940.13 178.05 L1944.39 178.05 L1944.39 214.069 L1940.13 214.069 L1940.13 210.18 Q1938.79 212.495 1936.73 213.629 Q1934.69 214.74 1931.82 214.74 Q1927.12 214.74 1924.16 210.99 Q1921.22 207.24 1921.22 201.129 Q1921.22 195.018 1924.16 191.268 Q1927.12 187.518 1931.82 187.518 Q1934.69 187.518 1936.73 188.652 Q1938.79 189.763 1940.13 192.078 M1925.62 201.129 Q1925.62 205.828 1927.54 208.513 Q1929.48 211.175 1932.86 211.175 Q1936.24 211.175 1938.19 208.513 Q1940.13 205.828 1940.13 201.129 Q1940.13 196.43 1938.19 193.768 Q1936.24 191.083 1932.86 191.083 Q1929.48 191.083 1927.54 193.768 Q1925.62 196.43 1925.62 201.129 Z\" fill=\"#000000\" fill-rule=\"nonzero\" fill-opacity=\"1\" /><path clip-path=\"url(#clip810)\" d=\"M1968.42 179.509 L1974.71 179.509 L1990.04 208.421 L1990.04 179.509 L1994.58 179.509 L1994.58 214.069 L1988.28 214.069 L1972.96 185.157 L1972.96 214.069 L1968.42 214.069 L1968.42 179.509 Z\" fill=\"#000000\" fill-rule=\"nonzero\" fill-opacity=\"1\" /><path clip-path=\"url(#clip810)\" d=\"M2013.74 191.129 Q2010.32 191.129 2008.33 193.814 Q2006.33 196.476 2006.33 201.129 Q2006.33 205.782 2008.3 208.467 Q2010.29 211.129 2013.74 211.129 Q2017.14 211.129 2019.14 208.444 Q2021.13 205.758 2021.13 201.129 Q2021.13 196.522 2019.14 193.837 Q2017.14 191.129 2013.74 191.129 M2013.74 187.518 Q2019.3 187.518 2022.47 191.129 Q2025.64 194.74 2025.64 201.129 Q2025.64 207.495 2022.47 211.129 Q2019.3 214.74 2013.74 214.74 Q2008.16 214.74 2004.99 211.129 Q2001.84 207.495 2001.84 201.129 Q2001.84 194.74 2004.99 191.129 Q2008.16 187.518 2013.74 187.518 Z\" fill=\"#000000\" fill-rule=\"nonzero\" fill-opacity=\"1\" /><path clip-path=\"url(#clip810)\" d=\"M2047.72 192.124 Q2047.01 191.708 2046.15 191.522 Q2045.32 191.314 2044.3 191.314 Q2040.69 191.314 2038.74 193.675 Q2036.82 196.013 2036.82 200.411 L2036.82 214.069 L2032.54 214.069 L2032.54 188.143 L2036.82 188.143 L2036.82 192.171 Q2038.16 189.809 2040.32 188.675 Q2042.47 187.518 2045.55 187.518 Q2045.99 187.518 2046.52 187.587 Q2047.05 187.634 2047.7 187.749 L2047.72 192.124 Z\" fill=\"#000000\" fill-rule=\"nonzero\" fill-opacity=\"1\" /><path clip-path=\"url(#clip810)\" d=\"M2071.54 193.12 Q2073.14 190.249 2075.36 188.884 Q2077.58 187.518 2080.59 187.518 Q2084.64 187.518 2086.84 190.365 Q2089.04 193.189 2089.04 198.421 L2089.04 214.069 L2084.76 214.069 L2084.76 198.559 Q2084.76 194.833 2083.44 193.027 Q2082.12 191.222 2079.41 191.222 Q2076.1 191.222 2074.18 193.421 Q2072.26 195.62 2072.26 199.416 L2072.26 214.069 L2067.98 214.069 L2067.98 198.559 Q2067.98 194.809 2066.66 193.027 Q2065.34 191.222 2062.58 191.222 Q2059.32 191.222 2057.4 193.444 Q2055.48 195.643 2055.48 199.416 L2055.48 214.069 L2051.2 214.069 L2051.2 188.143 L2055.48 188.143 L2055.48 192.171 Q2056.94 189.786 2058.97 188.652 Q2061.01 187.518 2063.81 187.518 Q2066.64 187.518 2068.6 188.953 Q2070.59 190.388 2071.54 193.12 Z\" fill=\"#000000\" fill-rule=\"nonzero\" fill-opacity=\"1\" /><path clip-path=\"url(#clip810)\" d=\"M2109.32 201.036 Q2104.16 201.036 2102.17 202.217 Q2100.18 203.397 2100.18 206.245 Q2100.18 208.513 2101.66 209.856 Q2103.16 211.175 2105.73 211.175 Q2109.27 211.175 2111.4 208.675 Q2113.56 206.152 2113.56 201.985 L2113.56 201.036 L2109.32 201.036 M2117.82 199.277 L2117.82 214.069 L2113.56 214.069 L2113.56 210.133 Q2112.1 212.495 2109.92 213.629 Q2107.75 214.74 2104.6 214.74 Q2100.62 214.74 2098.26 212.518 Q2095.92 210.272 2095.92 206.522 Q2095.92 202.147 2098.83 199.925 Q2101.77 197.703 2107.58 197.703 L2113.56 197.703 L2113.56 197.286 Q2113.56 194.347 2111.61 192.749 Q2109.69 191.129 2106.2 191.129 Q2103.97 191.129 2101.87 191.661 Q2099.76 192.194 2097.82 193.259 L2097.82 189.323 Q2100.15 188.421 2102.35 187.981 Q2104.55 187.518 2106.63 187.518 Q2112.26 187.518 2115.04 190.434 Q2117.82 193.351 2117.82 199.277 Z\" fill=\"#000000\" fill-rule=\"nonzero\" fill-opacity=\"1\" /><path clip-path=\"url(#clip810)\" d=\"M2126.59 178.05 L2130.85 178.05 L2130.85 214.069 L2126.59 214.069 L2126.59 178.05 Z\" fill=\"#000000\" fill-rule=\"nonzero\" fill-opacity=\"1\" /><path clip-path=\"url(#clip810)\" d=\"M2159.69 183.351 L2159.69 196.337 L2165.57 196.337 Q2168.83 196.337 2170.62 194.647 Q2172.4 192.958 2172.4 189.833 Q2172.4 186.731 2170.62 185.041 Q2168.83 183.351 2165.57 183.351 L2159.69 183.351 M2155.01 179.509 L2165.57 179.509 Q2171.38 179.509 2174.34 182.147 Q2177.33 184.763 2177.33 189.833 Q2177.33 194.948 2174.34 197.564 Q2171.38 200.18 2165.57 200.18 L2159.69 200.18 L2159.69 214.069 L2155.01 214.069 L2155.01 179.509 Z\" fill=\"#000000\" fill-rule=\"nonzero\" fill-opacity=\"1\" /><path clip-path=\"url(#clip810)\" d=\"M2188.28 183.351 L2188.28 210.226 L2193.93 210.226 Q2201.08 210.226 2204.39 206.985 Q2207.72 203.745 2207.72 196.754 Q2207.72 189.809 2204.39 186.592 Q2201.08 183.351 2193.93 183.351 L2188.28 183.351 M2183.6 179.509 L2193.21 179.509 Q2203.25 179.509 2207.95 183.698 Q2212.65 187.865 2212.65 196.754 Q2212.65 205.689 2207.93 209.879 Q2203.21 214.069 2193.21 214.069 L2183.6 214.069 L2183.6 179.509 Z\" fill=\"#000000\" fill-rule=\"nonzero\" fill-opacity=\"1\" /><path clip-path=\"url(#clip810)\" d=\"M2220.11 179.509 L2239.97 179.509 L2239.97 183.444 L2224.78 183.444 L2224.78 193.629 L2238.49 193.629 L2238.49 197.564 L2224.78 197.564 L2224.78 214.069 L2220.11 214.069 L2220.11 179.509 Z\" fill=\"#000000\" fill-rule=\"nonzero\" fill-opacity=\"1\" /></svg>\n"
      ]
     },
     "execution_count": 19,
     "metadata": {},
     "output_type": "execute_result"
    }
   ],
   "source": [
    "# Create a normalized histogram\n",
    "histogram(y\n",
    "    # , normalization=:probability\n",
    "    , label=\"Normalized Histogram\"\n",
    ")\n",
    "\n",
    "# To compare with a PDF, overlay the PDF on the same plot\n",
    "# For example, overlaying a standard normal PDF\n",
    "# plot!(Normal(0, 1), fill=(0, .5,:orange), label=\"Standard Normal PDF\")\n",
    "\n",
    "dist = Normal(μ̂𝐺, σ̂𝐺)\n",
    "\n",
    "# Define a range of values over which to plot the PDF\n",
    "x = 0:10:n  # Adjust the range and step as needed\n",
    "\n",
    "# Calculate the PDF for each y value\n",
    "pdf_values = cdf.(dist, y)\n",
    "\n",
    "# Plot the PDF\n",
    "plot!(pdf_values, label=\"Standard Normal PDF\", xlabel=\"x\", ylabel=\"Density\")"
   ]
  },
  {
   "cell_type": "markdown",
   "id": "f2c9cdf2-966b-413d-acac-6e516ab094e4",
   "metadata": {},
   "source": [
    "---"
   ]
  },
  {
   "cell_type": "markdown",
   "id": "1b24600f-9e96-4409-a85a-3e92cb23cd1a",
   "metadata": {},
   "source": [
    "#### &#x1F4DD; Rayleigh Distribution\n",
    "\n",
    "Given the probability density function (PDF) of a Rayleigh distribution\n",
    "\n",
    "$ f(y|\\sigma^2) = \\frac{y}{\\sigma^2} e^{-\\frac{y^2}{2\\sigma^2}}, \\quad y \\geq 0 $\n",
    "\n",
    "and a dataset $Y = \\{y_1, y_2, ..., y_n\\}$, to find the scale parameter $\\sigma^2$, we use the method of Maximum Likelihood Estimation (MLE).\n",
    "\n",
    "Step 1: Log-Likelihood Function\n",
    "\n",
    "The first step is to write down the log-likelihood function based on the given PDF. For the Rayleigh distribution, the log-likelihood function $L_R(\\sigma^2)$ for the dataset is:\n",
    "\n",
    "$ L_R(\\sigma^2) = \\sum_{i=1}^{n} \\ln\\left(\\frac{y}{\\sigma^2}\\right) - \\frac{y^2}{2\\sigma^2} $\n",
    "\n",
    "Simplifying, we get:\n",
    "\n",
    "$ L_R(\\sigma^2) = \\sum_{i=1}^{n} \\ln(y) - n \\ln(\\sigma^2) - \\frac{1}{2\\sigma^2}\\sum_{i=1}^{n} y^2 $\n",
    "\n",
    "Step 2: Differentiate and Solve for $\\sigma^2$\n",
    "\n",
    "To find the MLE of $\\sigma^2$, differentiate $L_R(\\sigma^2)$ with respect to $\\sigma^2$ and set the derivative to zero:\n",
    "\n",
    "$ \\frac{dL_R}{d\\sigma^2} = -\\frac{n}{\\sigma^2} + \\frac{1}{2(\\sigma^2)^2}\\sum_{i=1}^{n} y^2 = 0 $\n",
    "\n",
    "Solving for $\\sigma^2$, we find:\n",
    "\n",
    "$ \\hat{\\sigma}^2 = \\frac{1}{2n}\\sum_{i=1}^{n} y^2 $\n",
    "\n",
    "### Conclusion\n",
    "\n",
    "The MLE for the scale parameter $\\sigma^2$ of a Rayleigh distribution, given a set of observations $Y$, is the sum of the squared observations divided by twice the number of observations. This result directly provides the estimate of $\\sigma^2$ from the data."
   ]
  },
  {
   "cell_type": "markdown",
   "id": "3629a8b1-aca9-415f-a9ca-d05c76906bda",
   "metadata": {},
   "source": [
    "&#x1F518; $\\sigma_R$=? ($\\sigma_R^2$)"
   ]
  },
  {
   "cell_type": "code",
   "execution_count": 20,
   "id": "d88476a8-fc60-48f8-ab4f-b7547170168d",
   "metadata": {},
   "outputs": [
    {
     "data": {
      "text/latex": [
       "\\paragraph{\\&\\#x1F4DD; Estimated Rayleigh Variance}\n",
       "$$\\hat{\\sigma}_R^2 = \\frac{1}{2n} \\sum_{i=1}^n y^2  \\qquad \\{i: \\in 1,\\cdots,n\\}$$\n"
      ],
      "text/markdown": [
       "#### &#x1F4DD; Estimated Rayleigh Variance\n",
       "\n",
       "$$\n",
       "\\hat{\\sigma}_R^2 = \\frac{1}{2n} \\sum_{i=1}^n y^2  \\qquad \\{i: \\in 1,\\cdots,n\\}\n",
       "$$\n"
      ],
      "text/plain": [
       "\u001b[1m  &#x1F4DD; Estimated Rayleigh Variance\u001b[22m\n",
       "\u001b[1m  -------------------------------------\u001b[22m\n",
       "\n",
       "\u001b[35m  \\hat{\\sigma}_R^2 = \\frac{1}{2n} \\sum_{i=1}^n y^2  \\qquad \\{i: \\in 1,\\cdots,n\\}\u001b[39m"
      ]
     },
     "execution_count": 20,
     "metadata": {},
     "output_type": "execute_result"
    }
   ],
   "source": [
    "Markdown.parse(raw\"\n",
    "#### &#x1F4DD; Estimated Rayleigh Variance\n",
    "```math\n",
    "\\hat{\\sigma}_R^2 = \\frac{1}{2n} \\sum_{i=1}^n y^2  \\qquad \\{i: \\in 1,\\cdots,n\\}\n",
    "```\n",
    "\")"
   ]
  },
  {
   "cell_type": "code",
   "execution_count": 21,
   "id": "2caef87d-4f15-4e1b-84de-b43bd11430b1",
   "metadata": {},
   "outputs": [
    {
     "name": "stdout",
     "output_type": "stream",
     "text": [
      "Estimated parameter σ̂𝑅² = 16435.0\n"
     ]
    }
   ],
   "source": [
    "# Estimate sigma^2 (sigma squared) for Rayleigh distribution\n",
    "σ̂𝑅² = 1/2n * ∑([i^2 for i in y]) # or ∑(y .^ 2) when squaring element-wise \n",
    "\n",
    "# Display the estimated parameter\n",
    "println(\"Estimated parameter σ̂𝑅² = \", round(σ̂𝑅²));"
   ]
  },
  {
   "cell_type": "code",
   "execution_count": 22,
   "id": "9ed84e93-e3dc-424d-9ff6-f91bf8fe2dc0",
   "metadata": {},
   "outputs": [
    {
     "name": "stdout",
     "output_type": "stream",
     "text": [
      "calculated standard deviation σ̂𝑅 = 128.0\n"
     ]
    }
   ],
   "source": [
    "# Calculate the standard deviation (σ_R)\n",
    "σ̂𝑅 = √(σ̂𝑅²)\n",
    "\n",
    "println(\"calculated standard deviation σ̂𝑅 = \", round(σ̂𝑅))"
   ]
  },
  {
   "cell_type": "code",
   "execution_count": 23,
   "id": "75b2258d-ca8d-4b34-8b40-5973b40bd7b7",
   "metadata": {},
   "outputs": [
    {
     "data": {
      "text/latex": [
       "\\paragraph{\\&\\#x1F4DD; Rayleigh Log-Likelihood}\n",
       "$$L_R(\\sigma|Y) = \\sum_{i=1}^{n} \\ln(y) - n\\ln(\\sigma^2) - \\frac{1}{2\\sigma^2} \\sum_{i=1}^{n} y^2$$\n"
      ],
      "text/markdown": [
       "#### &#x1F4DD; Rayleigh Log-Likelihood\n",
       "\n",
       "$$\n",
       "L_R(\\sigma|Y) = \\sum_{i=1}^{n} \\ln(y) - n\\ln(\\sigma^2) - \\frac{1}{2\\sigma^2} \\sum_{i=1}^{n} y^2\n",
       "$$\n"
      ],
      "text/plain": [
       "\u001b[1m  &#x1F4DD; Rayleigh Log-Likelihood\u001b[22m\n",
       "\u001b[1m  ---------------------------------\u001b[22m\n",
       "\n",
       "\u001b[35m  L_R(\\sigma|Y) = \\sum_{i=1}^{n} \\ln(y) - n\\ln(\\sigma^2) - \\frac{1}{2\\sigma^2} \\sum_{i=1}^{n} y^2\u001b[39m"
      ]
     },
     "execution_count": 23,
     "metadata": {},
     "output_type": "execute_result"
    }
   ],
   "source": [
    "Markdown.parse(raw\"\n",
    "#### &#x1F4DD; Rayleigh Log-Likelihood\n",
    "```math\n",
    "L_R(\\sigma|Y) = \\sum_{i=1}^{n} \\ln(y) - n\\ln(\\sigma^2) - \\frac{1}{2\\sigma^2} \\sum_{i=1}^{n} y^2\n",
    "```\n",
    "\")\n"
   ]
  },
  {
   "cell_type": "code",
   "execution_count": 24,
   "id": "cc7b5183-6dad-490e-8977-debfaa342598",
   "metadata": {},
   "outputs": [
    {
     "name": "stdout",
     "output_type": "stream",
     "text": [
      "Log-likelihood 𝓛𝑅: -552.0\n"
     ]
    }
   ],
   "source": [
    "𝓛𝑅 = ∑(log.(y)) - n * log(σ̂𝑅²) - 1 / (2 * σ̂𝑅²) * ∑(y .^ 2) \n",
    "println(\"Log-likelihood 𝓛𝑅: \", round(𝓛𝑅))"
   ]
  },
  {
   "cell_type": "markdown",
   "id": "e7ab55ca-39e1-4625-a3b1-b31b0add3a54",
   "metadata": {},
   "source": [
    "---"
   ]
  },
  {
   "cell_type": "markdown",
   "id": "61b2ac62-2068-4746-b4dd-0a7a32bb8e39",
   "metadata": {},
   "source": [
    "&#x1F518; $\\lambda_{E0}$=? ($\\lambda_{E0}$)"
   ]
  },
  {
   "cell_type": "markdown",
   "id": "88afcc5c-dad8-4af1-ba00-245ab1108dcc",
   "metadata": {},
   "source": [
    "&#x1F518; $\\lambda_{E1}$=? ($\\lambda_{E1}$)"
   ]
  },
  {
   "cell_type": "markdown",
   "id": "67bb1774-2228-4959-83f1-bd3734a04cc4",
   "metadata": {},
   "source": [
    "#### &#x1F4DD; Erlang distribution where $m = 1$\n",
    "\n",
    "When $m = 1$, the Erlang distribution simplifies to the exponential distribution because the Erlang distribution is a general case of the gamma distribution for integer shape parameters, and the exponential distribution is a special case of the gamma distribution with a shape parameter of 1. The probability density function (PDF) for an exponential distribution with rate $\\lambda$ is given by:\n",
    "\n",
    "$ f(y|\\lambda) = \\lambda e^{-\\lambda y}, \\quad y \\geq 0 $\n",
    "\n",
    "To find the rate parameter $\\lambda$ given a set of data $Y = \\{y_1, y_2, ..., y_n\\}$ from this distribution, you use the method of Maximum Likelihood Estimation (MLE).\n",
    "\n",
    "* Step 1: Write the Likelihood Function\n",
    "\n",
    "The likelihood function for the exponential distribution, given the dataset $Y$, is:\n",
    "\n",
    "$ L(\\lambda) = \\prod_{i=1}^{n} \\lambda e^{-\\lambda y} = \\lambda^n e^{-\\lambda \\sum_{i=1}^{n} y} $\n",
    "\n",
    "* Step 2: Log-Likelihood Function\n",
    "\n",
    "Taking the natural logarithm of the likelihood function gives the log-likelihood function:\n",
    "\n",
    "$ \\ln L(\\lambda) = n \\ln(\\lambda) - \\lambda \\sum_{i=1}^{n} y $\n",
    "\n",
    "* Step 3: Find the MLE of $\\lambda$\n",
    "\n",
    "Differentiate the log-likelihood function with respect to $\\lambda$ and set it equal to zero to solve for $\\lambda$:\n",
    "\n",
    "$ \\frac{d}{d\\lambda} \\ln L(\\lambda) = \\frac{n}{\\lambda} - \\sum_{i=1}^{n} y = 0 $\n",
    "\n",
    "Solving for $\\lambda$ gives:\n",
    "\n",
    "$ \\hat{\\lambda} = \\frac{n}{\\sum_{i=1}^{n} y} $\n"
   ]
  },
  {
   "cell_type": "code",
   "execution_count": 30,
   "id": "b0557616-30d9-4d5b-8220-e9d9e33d75a6",
   "metadata": {},
   "outputs": [
    {
     "data": {
      "text/latex": [
       "\\paragraph{\\&\\#x1F4DD; Estimated Lambda when m = 1}\n",
       "$$\\hat{\\lambda}_{E1} = \\frac{n}{\\sum_{i=1}^{n} y}$$\n"
      ],
      "text/markdown": [
       "#### &#x1F4DD; Estimated Lambda when m = 1\n",
       "\n",
       "$$\n",
       "\\hat{\\lambda}_{E1} = \\frac{n}{\\sum_{i=1}^{n} y}\n",
       "$$\n"
      ],
      "text/plain": [
       "\u001b[1m  &#x1F4DD; Estimated Lambda when m = 1\u001b[22m\n",
       "\u001b[1m  -------------------------------------\u001b[22m\n",
       "\n",
       "\u001b[35m  \\hat{\\lambda}_{E1} = \\frac{n}{\\sum_{i=1}^{n} y}\u001b[39m"
      ]
     },
     "execution_count": 30,
     "metadata": {},
     "output_type": "execute_result"
    }
   ],
   "source": [
    "Markdown.parse(raw\"\n",
    "#### &#x1F4DD; Estimated Lambda when m = 1\n",
    "```math\n",
    "\\hat{\\lambda}_{E1} = \\frac{n}{\\sum_{i=1}^{n} y}\n",
    "```\n",
    "\")"
   ]
  },
  {
   "cell_type": "code",
   "execution_count": 39,
   "id": "3c45093f-c840-49ba-90c8-7008074bff7b",
   "metadata": {},
   "outputs": [
    {
     "name": "stdout",
     "output_type": "stream",
     "text": [
      "Estimated rate parameter λ̂𝐸1 = 0.006\n"
     ]
    }
   ],
   "source": [
    "# Estimate λ for the exponential distribution\n",
    "λ̂𝐸1 = n / ∑([i for i in y])\n",
    "\n",
    "println(\"Estimated rate parameter λ̂𝐸1 = \", round(λ̂𝐸1, digits = 3))"
   ]
  },
  {
   "cell_type": "code",
   "execution_count": 25,
   "id": "2be66a4a-6c5b-4e1f-8778-0b3bbba36b41",
   "metadata": {},
   "outputs": [
    {
     "data": {
      "text/latex": [
       "\\paragraph{\\&\\#x1F4DD; Estimating $\\lambda$ from data}\n",
       "$$\\hat{\\lambda}_{E0} = \\frac{1}{\\bar{y}} = \\frac{n}{\\sum_{i=1}^{n} y}  \\qquad \\{i: \\in 1,\\cdots,n\\}$$\n"
      ],
      "text/markdown": [
       "#### &#x1F4DD; Estimating $\\lambda$ from data\n",
       "\n",
       "$$\n",
       "\\hat{\\lambda}_{E0} = \\frac{1}{\\bar{y}} = \\frac{n}{\\sum_{i=1}^{n} y}  \\qquad \\{i: \\in 1,\\cdots,n\\}\n",
       "$$\n"
      ],
      "text/plain": [
       "\u001b[1m  &#x1F4DD; Estimating \u001b[35m\\lambda\u001b[39m from data\u001b[22m\n",
       "\u001b[1m  --------------------------------------\u001b[22m\n",
       "\n",
       "\u001b[35m  \\hat{\\lambda}_{E0} = \\frac{1}{\\bar{y}} = \\frac{n}{\\sum_{i=1}^{n} y}  \\qquad \\{i: \\in 1,\\cdots,n\\}\u001b[39m"
      ]
     },
     "execution_count": 25,
     "metadata": {},
     "output_type": "execute_result"
    }
   ],
   "source": [
    "Markdown.parse(raw\"\n",
    "#### &#x1F4DD; Estimating $\\lambda$ from data\n",
    "```math\n",
    "\\hat{\\lambda}_{E0} = \\frac{1}{\\bar{y}} = \\frac{n}{\\sum_{i=1}^{n} y}  \\qquad \\{i: \\in 1,\\cdots,n\\}\n",
    "```\n",
    "\")"
   ]
  },
  {
   "cell_type": "code",
   "execution_count": 41,
   "id": "9b1909ad-80e3-4a0c-91a6-3385d3d85b05",
   "metadata": {},
   "outputs": [
    {
     "name": "stdout",
     "output_type": "stream",
     "text": [
      "Estimated rate parameter λ̂𝐸0 = 0.006\n"
     ]
    }
   ],
   "source": [
    "# Estimate λ for the exponential distribution\n",
    "λ̂𝐸0 = n / ∑([i for i in y])\n",
    "\n",
    "println(\"Estimated rate parameter λ̂𝐸0 = \", round(λ̂𝐸0, digits = 3))"
   ]
  },
  {
   "cell_type": "markdown",
   "id": "3184dbd7-17fa-4466-a2a6-588128004f3b",
   "metadata": {},
   "source": [
    "#### &#x1F4DD; Shifted Exponential Recap\n",
    "\n",
    "The parameter $\\lambda_{E0}$ typically refers to the rate parameter of an exponential distribution, especially within the context of statistical or probability distributions. The exponential distribution is often used to model the time between events in a Poisson point process, characterized by a constant average rate of occurrence.\n",
    "\n",
    "The probability density function (PDF) of an exponential distribution is given by:\n",
    "\n",
    "$ f(y|\\lambda) = \\lambda e^{-\\lambda y} \\quad \\text{for} \\quad y \\geq 0 $\n",
    "\n",
    "where:\n",
    "- $y$ is the variable,\n",
    "- $\\lambda$ is the rate parameter of the distribution, which is positive ($\\lambda > 0$).\n",
    "\n",
    "### Estimating $\\lambda$ from Data\n",
    "\n",
    "If you have a dataset and you want to estimate the rate parameter $\\lambda$ of the exponential distribution that best fits your data, you can use the Maximum Likelihood Estimation (MLE) method. Given a sample of $n$ independent observations from an exponential distribution, $y_1, y_2, \\ldots, y_n$, the MLE of $\\lambda$ is given by the reciprocal of the sample mean:\n",
    "\n",
    "$ \\hat{\\lambda}_{E0} = \\frac{1}{\\bar{y}} = \\frac{n}{\\sum_{i=1}^{n} y_i} $\n",
    "\n",
    "where $\\bar{y}$ is the sample mean of the observations."
   ]
  },
  {
   "cell_type": "markdown",
   "id": "8cfe27db-b1c8-4084-8353-4740c81d0e15",
   "metadata": {},
   "source": [
    "\n",
    "\n",
    "\n",
    "\n",
    "$\\lambda_{E2}$=? ($\\lambda_{E2}$)\n",
    "\n",
    "\n",
    "$\\lambda_{exp}$=? (shifted exponential distribution $\\lambda_{exp}$)\n",
    "$\\alpha_{exp}$=? ($\\alpha_{exp}$)\n",
    "\n",
    "\n",
    "$\\sigma_{SR}$=? (shifted Rayleigh $\\sigma_{SR}^2$)\n",
    "$\\alpha_{SR}$=? ($\\alpha_{SR}$)\n",
    "\n",
    "\n",
    "plot\n",
    "?\n",
    "\n",
    "\n",
    "log-likelihood value\n",
    "$L_G$ =?\n",
    "\n",
    "$L_R$ =?\n",
    "\n",
    "$L_{E0}$ =?\n",
    "\n",
    "$L_{E1}$ =?\n",
    "\n",
    "$L_{E2}$ =?\n",
    "\n",
    "$L_{exp}$ =?\n",
    "\n",
    "$L_{SR}$ =?"
   ]
  },
  {
   "cell_type": "markdown",
   "id": "dd9cb12b-26f6-4c75-8b42-3269d9cc296a",
   "metadata": {},
   "source": [
    "&#x1F516; **(&#x2173;)**  In Matlab, plot a histogram of the measurements {y1, . . . , yn} you made and in the same plot superimpose the graphs for the marginal densities $f (y|\\hat{\\theta}_{ML,i} (Y )), i \\in \\{G, R, E0, E1, E2, exp,SR \\}$. Make this plot for y going from a value that is somewhat smaller than the $y_{min}$ you measured to a value that is somewhat bigger than the $y_{max}$ you measured. In Matlab, use the histogram command with the options ’Normalization’ and ’probability’, so that the histogram can be compared directly to the pdf of the distributions."
   ]
  },
  {
   "cell_type": "code",
   "execution_count": 27,
   "id": "0659c80a-7bf7-47ba-9853-a1d113b058e5",
   "metadata": {},
   "outputs": [],
   "source": [
    "using Plots\n",
    "using Distributions\n",
    "using StatsPlots  # For the `plot` function for distributions"
   ]
  },
  {
   "cell_type": "code",
   "execution_count": 28,
   "id": "c6dfa7c1-7508-453b-af12-029969bef7ef",
   "metadata": {},
   "outputs": [
    {
     "data": {
      "image/png": "[encoded data removed]",
      "image/svg+xml": [
       "<?xml version=\"1.0\" encoding=\"utf-8\"?>\n",
       "<svg xmlns=\"http://www.w3.org/2000/svg\" xmlns:xlink=\"http://www.w3.org/1999/xlink\" width=\"600\" height=\"400\" viewBox=\"0 0 2400 1600\">\n",
       "<defs>\n",
       "  <clipPath id=\"clip850\">\n",
       "    <rect x=\"0\" y=\"0\" width=\"2400\" height=\"1600\"/>\n",
       "  </clipPath>\n",
       "</defs>\n",
       "<path clip-path=\"url(#clip850)\" d=\"M0 1600 L2400 1600 L2400 0 L0 0  Z\" fill=\"#ffffff\" fill-rule=\"evenodd\" fill-opacity=\"1\"/>\n",
       "<defs>\n",
       "  <clipPath id=\"clip851\">\n",
       "    <rect x=\"480\" y=\"0\" width=\"1681\" height=\"1600\"/>\n",
       "  </clipPath>\n",
       "</defs>\n",
       "<path clip-path=\"url(#clip850)\" d=\"M141.853 1486.45 L2352.76 1486.45 L2352.76 47.2441 L141.853 47.2441  Z\" fill=\"#ffffff\" fill-rule=\"evenodd\" fill-opacity=\"1\"/>\n",
       "<defs>\n",
       "  <clipPath id=\"clip852\">\n",
       "    <rect x=\"141\" y=\"47\" width=\"2212\" height=\"1440\"/>\n",
       "  </clipPath>\n",
       "</defs>\n",
       "<polyline clip-path=\"url(#clip852)\" style=\"stroke:#000000; stroke-linecap:round; stroke-linejoin:round; stroke-width:2; stroke-opacity:0.1; fill:none\" points=\"406.051,1486.45 406.051,47.2441 \"/>\n",
       "<polyline clip-path=\"url(#clip852)\" style=\"stroke:#000000; stroke-linecap:round; stroke-linejoin:round; stroke-width:2; stroke-opacity:0.1; fill:none\" points=\"686.469,1486.45 686.469,47.2441 \"/>\n",
       "<polyline clip-path=\"url(#clip852)\" style=\"stroke:#000000; stroke-linecap:round; stroke-linejoin:round; stroke-width:2; stroke-opacity:0.1; fill:none\" points=\"966.887,1486.45 966.887,47.2441 \"/>\n",
       "<polyline clip-path=\"url(#clip852)\" style=\"stroke:#000000; stroke-linecap:round; stroke-linejoin:round; stroke-width:2; stroke-opacity:0.1; fill:none\" points=\"1247.3,1486.45 1247.3,47.2441 \"/>\n",
       "<polyline clip-path=\"url(#clip852)\" style=\"stroke:#000000; stroke-linecap:round; stroke-linejoin:round; stroke-width:2; stroke-opacity:0.1; fill:none\" points=\"1527.72,1486.45 1527.72,47.2441 \"/>\n",
       "<polyline clip-path=\"url(#clip852)\" style=\"stroke:#000000; stroke-linecap:round; stroke-linejoin:round; stroke-width:2; stroke-opacity:0.1; fill:none\" points=\"1808.14,1486.45 1808.14,47.2441 \"/>\n",
       "<polyline clip-path=\"url(#clip852)\" style=\"stroke:#000000; stroke-linecap:round; stroke-linejoin:round; stroke-width:2; stroke-opacity:0.1; fill:none\" points=\"2088.56,1486.45 2088.56,47.2441 \"/>\n",
       "<polyline clip-path=\"url(#clip850)\" style=\"stroke:#000000; stroke-linecap:round; stroke-linejoin:round; stroke-width:4; stroke-opacity:1; fill:none\" points=\"141.853,1486.45 2352.76,1486.45 \"/>\n",
       "<polyline clip-path=\"url(#clip850)\" style=\"stroke:#000000; stroke-linecap:round; stroke-linejoin:round; stroke-width:4; stroke-opacity:1; fill:none\" points=\"406.051,1486.45 406.051,1467.55 \"/>\n",
       "<polyline clip-path=\"url(#clip850)\" style=\"stroke:#000000; stroke-linecap:round; stroke-linejoin:round; stroke-width:4; stroke-opacity:1; fill:none\" points=\"686.469,1486.45 686.469,1467.55 \"/>\n",
       "<polyline clip-path=\"url(#clip850)\" style=\"stroke:#000000; stroke-linecap:round; stroke-linejoin:round; stroke-width:4; stroke-opacity:1; fill:none\" points=\"966.887,1486.45 966.887,1467.55 \"/>\n",
       "<polyline clip-path=\"url(#clip850)\" style=\"stroke:#000000; stroke-linecap:round; stroke-linejoin:round; stroke-width:4; stroke-opacity:1; fill:none\" points=\"1247.3,1486.45 1247.3,1467.55 \"/>\n",
       "<polyline clip-path=\"url(#clip850)\" style=\"stroke:#000000; stroke-linecap:round; stroke-linejoin:round; stroke-width:4; stroke-opacity:1; fill:none\" points=\"1527.72,1486.45 1527.72,1467.55 \"/>\n",
       "<polyline clip-path=\"url(#clip850)\" style=\"stroke:#000000; stroke-linecap:round; stroke-linejoin:round; stroke-width:4; stroke-opacity:1; fill:none\" points=\"1808.14,1486.45 1808.14,1467.55 \"/>\n",
       "<polyline clip-path=\"url(#clip850)\" style=\"stroke:#000000; stroke-linecap:round; stroke-linejoin:round; stroke-width:4; stroke-opacity:1; fill:none\" points=\"2088.56,1486.45 2088.56,1467.55 \"/>\n",
       "<path clip-path=\"url(#clip850)\" d=\"M375.519 1532.02 L405.194 1532.02 L405.194 1535.95 L375.519 1535.95 L375.519 1532.02 Z\" fill=\"#000000\" fill-rule=\"nonzero\" fill-opacity=\"1\" /><path clip-path=\"url(#clip850)\" d=\"M429.453 1530.21 Q432.81 1530.93 434.685 1533.2 Q436.583 1535.47 436.583 1538.8 Q436.583 1543.92 433.064 1546.72 Q429.546 1549.52 423.065 1549.52 Q420.889 1549.52 418.574 1549.08 Q416.282 1548.66 413.828 1547.81 L413.828 1543.29 Q415.773 1544.43 418.088 1545.01 Q420.403 1545.58 422.926 1545.58 Q427.324 1545.58 429.615 1543.85 Q431.93 1542.11 431.93 1538.8 Q431.93 1535.75 429.777 1534.03 Q427.648 1532.3 423.828 1532.3 L419.801 1532.3 L419.801 1528.45 L424.014 1528.45 Q427.463 1528.45 429.291 1527.09 Q431.12 1525.7 431.12 1523.11 Q431.12 1520.45 429.222 1519.03 Q427.347 1517.6 423.828 1517.6 Q421.907 1517.6 419.708 1518.01 Q417.509 1518.43 414.87 1519.31 L414.87 1515.14 Q417.532 1514.4 419.847 1514.03 Q422.185 1513.66 424.245 1513.66 Q429.569 1513.66 432.671 1516.09 Q435.773 1518.5 435.773 1522.62 Q435.773 1525.49 434.129 1527.48 Q432.486 1529.45 429.453 1530.21 Z\" fill=\"#000000\" fill-rule=\"nonzero\" fill-opacity=\"1\" /><path clip-path=\"url(#clip850)\" d=\"M656.411 1532.02 L686.087 1532.02 L686.087 1535.95 L656.411 1535.95 L656.411 1532.02 Z\" fill=\"#000000\" fill-rule=\"nonzero\" fill-opacity=\"1\" /><path clip-path=\"url(#clip850)\" d=\"M700.207 1544.91 L716.526 1544.91 L716.526 1548.85 L694.582 1548.85 L694.582 1544.91 Q697.244 1542.16 701.827 1537.53 Q706.434 1532.88 707.614 1531.53 Q709.86 1529.01 710.739 1527.27 Q711.642 1525.51 711.642 1523.82 Q711.642 1521.07 709.698 1519.33 Q707.776 1517.6 704.675 1517.6 Q702.476 1517.6 700.022 1518.36 Q697.591 1519.13 694.814 1520.68 L694.814 1515.95 Q697.638 1514.82 700.091 1514.24 Q702.545 1513.66 704.582 1513.66 Q709.952 1513.66 713.147 1516.35 Q716.341 1519.03 716.341 1523.52 Q716.341 1525.65 715.531 1527.57 Q714.744 1529.47 712.637 1532.07 Q712.059 1532.74 708.957 1535.95 Q705.855 1539.15 700.207 1544.91 Z\" fill=\"#000000\" fill-rule=\"nonzero\" fill-opacity=\"1\" /><path clip-path=\"url(#clip850)\" d=\"M936.644 1532.02 L966.319 1532.02 L966.319 1535.95 L936.644 1535.95 L936.644 1532.02 Z\" fill=\"#000000\" fill-rule=\"nonzero\" fill-opacity=\"1\" /><path clip-path=\"url(#clip850)\" d=\"M977.222 1544.91 L984.861 1544.91 L984.861 1518.55 L976.551 1520.21 L976.551 1515.95 L984.815 1514.29 L989.491 1514.29 L989.491 1544.91 L997.129 1544.91 L997.129 1548.85 L977.222 1548.85 L977.222 1544.91 Z\" fill=\"#000000\" fill-rule=\"nonzero\" fill-opacity=\"1\" /><path clip-path=\"url(#clip850)\" d=\"M1247.3 1517.37 Q1243.69 1517.37 1241.86 1520.93 Q1240.06 1524.47 1240.06 1531.6 Q1240.06 1538.71 1241.86 1542.27 Q1243.69 1545.82 1247.3 1545.82 Q1250.94 1545.82 1252.74 1542.27 Q1254.57 1538.71 1254.57 1531.6 Q1254.57 1524.47 1252.74 1520.93 Q1250.94 1517.37 1247.3 1517.37 M1247.3 1513.66 Q1253.11 1513.66 1256.17 1518.27 Q1259.25 1522.85 1259.25 1531.6 Q1259.25 1540.33 1256.17 1544.94 Q1253.11 1549.52 1247.3 1549.52 Q1241.49 1549.52 1238.42 1544.94 Q1235.36 1540.33 1235.36 1531.6 Q1235.36 1522.85 1238.42 1518.27 Q1241.49 1513.66 1247.3 1513.66 Z\" fill=\"#000000\" fill-rule=\"nonzero\" fill-opacity=\"1\" /><path clip-path=\"url(#clip850)\" d=\"M1518.1 1544.91 L1525.74 1544.91 L1525.74 1518.55 L1517.43 1520.21 L1517.43 1515.95 L1525.7 1514.29 L1530.37 1514.29 L1530.37 1544.91 L1538.01 1544.91 L1538.01 1548.85 L1518.1 1548.85 L1518.1 1544.91 Z\" fill=\"#000000\" fill-rule=\"nonzero\" fill-opacity=\"1\" /><path clip-path=\"url(#clip850)\" d=\"M1802.79 1544.91 L1819.11 1544.91 L1819.11 1548.85 L1797.17 1548.85 L1797.17 1544.91 Q1799.83 1542.16 1804.41 1537.53 Q1809.02 1532.88 1810.2 1531.53 Q1812.45 1529.01 1813.33 1527.27 Q1814.23 1525.51 1814.23 1523.82 Q1814.23 1521.07 1812.28 1519.33 Q1810.36 1517.6 1807.26 1517.6 Q1805.06 1517.6 1802.61 1518.36 Q1800.18 1519.13 1797.4 1520.68 L1797.4 1515.95 Q1800.22 1514.82 1802.68 1514.24 Q1805.13 1513.66 1807.17 1513.66 Q1812.54 1513.66 1815.73 1516.35 Q1818.93 1519.03 1818.93 1523.52 Q1818.93 1525.65 1818.12 1527.57 Q1817.33 1529.47 1815.22 1532.07 Q1814.64 1532.74 1811.54 1535.95 Q1808.44 1539.15 1802.79 1544.91 Z\" fill=\"#000000\" fill-rule=\"nonzero\" fill-opacity=\"1\" /><path clip-path=\"url(#clip850)\" d=\"M2092.81 1530.21 Q2096.16 1530.93 2098.04 1533.2 Q2099.94 1535.47 2099.94 1538.8 Q2099.94 1543.92 2096.42 1546.72 Q2092.9 1549.52 2086.42 1549.52 Q2084.24 1549.52 2081.93 1549.08 Q2079.63 1548.66 2077.18 1547.81 L2077.18 1543.29 Q2079.13 1544.43 2081.44 1545.01 Q2083.75 1545.58 2086.28 1545.58 Q2090.68 1545.58 2092.97 1543.85 Q2095.28 1542.11 2095.28 1538.8 Q2095.28 1535.75 2093.13 1534.03 Q2091 1532.3 2087.18 1532.3 L2083.15 1532.3 L2083.15 1528.45 L2087.37 1528.45 Q2090.82 1528.45 2092.64 1527.09 Q2094.47 1525.7 2094.47 1523.11 Q2094.47 1520.45 2092.57 1519.03 Q2090.7 1517.6 2087.18 1517.6 Q2085.26 1517.6 2083.06 1518.01 Q2080.86 1518.43 2078.22 1519.31 L2078.22 1515.14 Q2080.88 1514.4 2083.2 1514.03 Q2085.54 1513.66 2087.6 1513.66 Q2092.92 1513.66 2096.02 1516.09 Q2099.13 1518.5 2099.13 1522.62 Q2099.13 1525.49 2097.48 1527.48 Q2095.84 1529.45 2092.81 1530.21 Z\" fill=\"#000000\" fill-rule=\"nonzero\" fill-opacity=\"1\" /><polyline clip-path=\"url(#clip852)\" style=\"stroke:#000000; stroke-linecap:round; stroke-linejoin:round; stroke-width:2; stroke-opacity:0.1; fill:none\" points=\"141.853,1486.45 2352.76,1486.45 \"/>\n",
       "<polyline clip-path=\"url(#clip852)\" style=\"stroke:#000000; stroke-linecap:round; stroke-linejoin:round; stroke-width:2; stroke-opacity:0.1; fill:none\" points=\"141.853,1159.36 2352.76,1159.36 \"/>\n",
       "<polyline clip-path=\"url(#clip852)\" style=\"stroke:#000000; stroke-linecap:round; stroke-linejoin:round; stroke-width:2; stroke-opacity:0.1; fill:none\" points=\"141.853,832.264 2352.76,832.264 \"/>\n",
       "<polyline clip-path=\"url(#clip852)\" style=\"stroke:#000000; stroke-linecap:round; stroke-linejoin:round; stroke-width:2; stroke-opacity:0.1; fill:none\" points=\"141.853,505.173 2352.76,505.173 \"/>\n",
       "<polyline clip-path=\"url(#clip852)\" style=\"stroke:#000000; stroke-linecap:round; stroke-linejoin:round; stroke-width:2; stroke-opacity:0.1; fill:none\" points=\"141.853,178.081 2352.76,178.081 \"/>\n",
       "<polyline clip-path=\"url(#clip850)\" style=\"stroke:#000000; stroke-linecap:round; stroke-linejoin:round; stroke-width:4; stroke-opacity:1; fill:none\" points=\"141.853,1486.45 141.853,47.2441 \"/>\n",
       "<polyline clip-path=\"url(#clip850)\" style=\"stroke:#000000; stroke-linecap:round; stroke-linejoin:round; stroke-width:4; stroke-opacity:1; fill:none\" points=\"141.853,1486.45 160.751,1486.45 \"/>\n",
       "<polyline clip-path=\"url(#clip850)\" style=\"stroke:#000000; stroke-linecap:round; stroke-linejoin:round; stroke-width:4; stroke-opacity:1; fill:none\" points=\"141.853,1159.36 160.751,1159.36 \"/>\n",
       "<polyline clip-path=\"url(#clip850)\" style=\"stroke:#000000; stroke-linecap:round; stroke-linejoin:round; stroke-width:4; stroke-opacity:1; fill:none\" points=\"141.853,832.264 160.751,832.264 \"/>\n",
       "<polyline clip-path=\"url(#clip850)\" style=\"stroke:#000000; stroke-linecap:round; stroke-linejoin:round; stroke-width:4; stroke-opacity:1; fill:none\" points=\"141.853,505.173 160.751,505.173 \"/>\n",
       "<polyline clip-path=\"url(#clip850)\" style=\"stroke:#000000; stroke-linecap:round; stroke-linejoin:round; stroke-width:4; stroke-opacity:1; fill:none\" points=\"141.853,178.081 160.751,178.081 \"/>\n",
       "<path clip-path=\"url(#clip850)\" d=\"M93.9086 1472.25 Q90.2975 1472.25 88.4688 1475.81 Q86.6632 1479.35 86.6632 1486.48 Q86.6632 1493.59 88.4688 1497.15 Q90.2975 1500.7 93.9086 1500.7 Q97.5428 1500.7 99.3483 1497.15 Q101.177 1493.59 101.177 1486.48 Q101.177 1479.35 99.3483 1475.81 Q97.5428 1472.25 93.9086 1472.25 M93.9086 1468.54 Q99.7187 1468.54 102.774 1473.15 Q105.853 1477.73 105.853 1486.48 Q105.853 1495.21 102.774 1499.82 Q99.7187 1504.4 93.9086 1504.4 Q88.0984 1504.4 85.0197 1499.82 Q81.9642 1495.21 81.9642 1486.48 Q81.9642 1477.73 85.0197 1473.15 Q88.0984 1468.54 93.9086 1468.54 Z\" fill=\"#000000\" fill-rule=\"nonzero\" fill-opacity=\"1\" /><path clip-path=\"url(#clip850)\" d=\"M57.7745 1172.7 L74.0939 1172.7 L74.0939 1176.64 L52.1495 1176.64 L52.1495 1172.7 Q54.8115 1169.95 59.3949 1165.32 Q64.0013 1160.66 65.1819 1159.32 Q67.4272 1156.8 68.3068 1155.06 Q69.2096 1153.3 69.2096 1151.61 Q69.2096 1148.86 67.2652 1147.12 Q65.3439 1145.39 62.2421 1145.39 Q60.043 1145.39 57.5893 1146.15 Q55.1588 1146.91 52.381 1148.46 L52.381 1143.74 Q55.2051 1142.61 57.6588 1142.03 Q60.1124 1141.45 62.1495 1141.45 Q67.5198 1141.45 70.7142 1144.14 Q73.9087 1146.82 73.9087 1151.31 Q73.9087 1153.44 73.0985 1155.36 Q72.3115 1157.26 70.205 1159.85 Q69.6263 1160.53 66.5245 1163.74 Q63.4226 1166.94 57.7745 1172.7 Z\" fill=\"#000000\" fill-rule=\"nonzero\" fill-opacity=\"1\" /><path clip-path=\"url(#clip850)\" d=\"M93.9086 1145.15 Q90.2975 1145.15 88.4688 1148.72 Q86.6632 1152.26 86.6632 1159.39 Q86.6632 1166.5 88.4688 1170.06 Q90.2975 1173.6 93.9086 1173.6 Q97.5428 1173.6 99.3483 1170.06 Q101.177 1166.5 101.177 1159.39 Q101.177 1152.26 99.3483 1148.72 Q97.5428 1145.15 93.9086 1145.15 M93.9086 1141.45 Q99.7187 1141.45 102.774 1146.06 Q105.853 1150.64 105.853 1159.39 Q105.853 1168.12 102.774 1172.72 Q99.7187 1177.31 93.9086 1177.31 Q88.0984 1177.31 85.0197 1172.72 Q81.9642 1168.12 81.9642 1159.39 Q81.9642 1150.64 85.0197 1146.06 Q88.0984 1141.45 93.9086 1141.45 Z\" fill=\"#000000\" fill-rule=\"nonzero\" fill-opacity=\"1\" /><path clip-path=\"url(#clip850)\" d=\"M66.5939 819.058 L54.7884 837.507 L66.5939 837.507 L66.5939 819.058 M65.367 814.984 L71.2466 814.984 L71.2466 837.507 L76.1772 837.507 L76.1772 841.396 L71.2466 841.396 L71.2466 849.544 L66.5939 849.544 L66.5939 841.396 L50.9921 841.396 L50.9921 836.882 L65.367 814.984 Z\" fill=\"#000000\" fill-rule=\"nonzero\" fill-opacity=\"1\" /><path clip-path=\"url(#clip850)\" d=\"M93.9086 818.063 Q90.2975 818.063 88.4688 821.628 Q86.6632 825.169 86.6632 832.299 Q86.6632 839.406 88.4688 842.97 Q90.2975 846.512 93.9086 846.512 Q97.5428 846.512 99.3483 842.97 Q101.177 839.406 101.177 832.299 Q101.177 825.169 99.3483 821.628 Q97.5428 818.063 93.9086 818.063 M93.9086 814.359 Q99.7187 814.359 102.774 818.966 Q105.853 823.549 105.853 832.299 Q105.853 841.026 102.774 845.632 Q99.7187 850.216 93.9086 850.216 Q88.0984 850.216 85.0197 845.632 Q81.9642 841.026 81.9642 832.299 Q81.9642 823.549 85.0197 818.966 Q88.0984 814.359 93.9086 814.359 Z\" fill=\"#000000\" fill-rule=\"nonzero\" fill-opacity=\"1\" /><path clip-path=\"url(#clip850)\" d=\"M64.3254 503.309 Q61.1773 503.309 59.3254 505.462 Q57.4967 507.615 57.4967 511.365 Q57.4967 515.091 59.3254 517.267 Q61.1773 519.42 64.3254 519.42 Q67.4735 519.42 69.3022 517.267 Q71.1541 515.091 71.1541 511.365 Q71.1541 507.615 69.3022 505.462 Q67.4735 503.309 64.3254 503.309 M73.6077 488.656 L73.6077 492.916 Q71.8485 492.082 70.0429 491.643 Q68.2606 491.203 66.5013 491.203 Q61.8717 491.203 59.418 494.328 Q56.9875 497.453 56.6402 503.772 Q58.006 501.758 60.0662 500.693 Q62.1263 499.605 64.6032 499.605 Q69.8115 499.605 72.8207 502.777 Q75.8531 505.925 75.8531 511.365 Q75.8531 516.689 72.705 519.906 Q69.5568 523.124 64.3254 523.124 Q58.33 523.124 55.1588 518.541 Q51.9875 513.934 51.9875 505.207 Q51.9875 497.013 55.8764 492.152 Q59.7652 487.268 66.3161 487.268 Q68.0754 487.268 69.8578 487.615 Q71.6633 487.962 73.6077 488.656 Z\" fill=\"#000000\" fill-rule=\"nonzero\" fill-opacity=\"1\" /><path clip-path=\"url(#clip850)\" d=\"M93.9086 490.971 Q90.2975 490.971 88.4688 494.536 Q86.6632 498.078 86.6632 505.207 Q86.6632 512.314 88.4688 515.879 Q90.2975 519.42 93.9086 519.42 Q97.5428 519.42 99.3483 515.879 Q101.177 512.314 101.177 505.207 Q101.177 498.078 99.3483 494.536 Q97.5428 490.971 93.9086 490.971 M93.9086 487.268 Q99.7187 487.268 102.774 491.874 Q105.853 496.457 105.853 505.207 Q105.853 513.934 102.774 518.541 Q99.7187 523.124 93.9086 523.124 Q88.0984 523.124 85.0197 518.541 Q81.9642 513.934 81.9642 505.207 Q81.9642 496.457 85.0197 491.874 Q88.0984 487.268 93.9086 487.268 Z\" fill=\"#000000\" fill-rule=\"nonzero\" fill-opacity=\"1\" /><path clip-path=\"url(#clip850)\" d=\"M63.7467 178.949 Q60.4134 178.949 58.4921 180.731 Q56.5939 182.514 56.5939 185.639 Q56.5939 188.764 58.4921 190.546 Q60.4134 192.328 63.7467 192.328 Q67.08 192.328 69.0013 190.546 Q70.9226 188.74 70.9226 185.639 Q70.9226 182.514 69.0013 180.731 Q67.1032 178.949 63.7467 178.949 M59.0708 176.958 Q56.0615 176.217 54.3717 174.157 Q52.7051 172.097 52.7051 169.134 Q52.7051 164.991 55.6449 162.583 Q58.6078 160.176 63.7467 160.176 Q68.9087 160.176 71.8485 162.583 Q74.7883 164.991 74.7883 169.134 Q74.7883 172.097 73.0985 174.157 Q71.4318 176.217 68.4457 176.958 Q71.8253 177.745 73.7003 180.037 Q75.5985 182.328 75.5985 185.639 Q75.5985 190.662 72.5198 193.347 Q69.4642 196.032 63.7467 196.032 Q58.0291 196.032 54.9504 193.347 Q51.8949 190.662 51.8949 185.639 Q51.8949 182.328 53.793 180.037 Q55.6912 177.745 59.0708 176.958 M57.3578 169.574 Q57.3578 172.259 59.0245 173.764 Q60.7143 175.268 63.7467 175.268 Q66.7559 175.268 68.4457 173.764 Q70.1587 172.259 70.1587 169.574 Q70.1587 166.889 68.4457 165.384 Q66.7559 163.879 63.7467 163.879 Q60.7143 163.879 59.0245 165.384 Q57.3578 166.889 57.3578 169.574 Z\" fill=\"#000000\" fill-rule=\"nonzero\" fill-opacity=\"1\" /><path clip-path=\"url(#clip850)\" d=\"M93.9086 163.879 Q90.2975 163.879 88.4688 167.444 Q86.6632 170.986 86.6632 178.116 Q86.6632 185.222 88.4688 188.787 Q90.2975 192.328 93.9086 192.328 Q97.5428 192.328 99.3483 188.787 Q101.177 185.222 101.177 178.116 Q101.177 170.986 99.3483 167.444 Q97.5428 163.879 93.9086 163.879 M93.9086 160.176 Q99.7187 160.176 102.774 164.782 Q105.853 169.366 105.853 178.116 Q105.853 186.842 102.774 191.449 Q99.7187 196.032 93.9086 196.032 Q88.0984 196.032 85.0197 191.449 Q81.9642 186.842 81.9642 178.116 Q81.9642 169.366 85.0197 164.782 Q88.0984 160.176 93.9086 160.176 Z\" fill=\"#000000\" fill-rule=\"nonzero\" fill-opacity=\"1\" /><path clip-path=\"url(#clip852)\" d=\"M293.884 1470.09 L293.884 1486.45 L349.967 1486.45 L349.967 1470.09 L293.884 1470.09 L293.884 1470.09  Z\" fill=\"#009af9\" fill-rule=\"evenodd\" fill-opacity=\"1\"/>\n",
       "<polyline clip-path=\"url(#clip852)\" style=\"stroke:#000000; stroke-linecap:round; stroke-linejoin:round; stroke-width:4; stroke-opacity:1; fill:none\" points=\"293.884,1470.09 293.884,1486.45 349.967,1486.45 349.967,1470.09 293.884,1470.09 \"/>\n",
       "<path clip-path=\"url(#clip852)\" d=\"M349.967 1470.09 L349.967 1486.45 L406.051 1486.45 L406.051 1470.09 L349.967 1470.09 L349.967 1470.09  Z\" fill=\"#009af9\" fill-rule=\"evenodd\" fill-opacity=\"1\"/>\n",
       "<polyline clip-path=\"url(#clip852)\" style=\"stroke:#000000; stroke-linecap:round; stroke-linejoin:round; stroke-width:4; stroke-opacity:1; fill:none\" points=\"349.967,1470.09 349.967,1486.45 406.051,1486.45 406.051,1470.09 349.967,1470.09 \"/>\n",
       "<path clip-path=\"url(#clip852)\" d=\"M406.051 1486.45 L406.051 1486.45 L462.134 1486.45 L462.134 1486.45 L406.051 1486.45 L406.051 1486.45  Z\" fill=\"#009af9\" fill-rule=\"evenodd\" fill-opacity=\"1\"/>\n",
       "<polyline clip-path=\"url(#clip852)\" style=\"stroke:#000000; stroke-linecap:round; stroke-linejoin:round; stroke-width:4; stroke-opacity:1; fill:none\" points=\"406.051,1486.45 406.051,1486.45 462.134,1486.45 406.051,1486.45 \"/>\n",
       "<path clip-path=\"url(#clip852)\" d=\"M462.134 1437.38 L462.134 1486.45 L518.218 1486.45 L518.218 1437.38 L462.134 1437.38 L462.134 1437.38  Z\" fill=\"#009af9\" fill-rule=\"evenodd\" fill-opacity=\"1\"/>\n",
       "<polyline clip-path=\"url(#clip852)\" style=\"stroke:#000000; stroke-linecap:round; stroke-linejoin:round; stroke-width:4; stroke-opacity:1; fill:none\" points=\"462.134,1437.38 462.134,1486.45 518.218,1486.45 518.218,1437.38 462.134,1437.38 \"/>\n",
       "<path clip-path=\"url(#clip852)\" d=\"M518.218 1453.74 L518.218 1486.45 L574.301 1486.45 L574.301 1453.74 L518.218 1453.74 L518.218 1453.74  Z\" fill=\"#009af9\" fill-rule=\"evenodd\" fill-opacity=\"1\"/>\n",
       "<polyline clip-path=\"url(#clip852)\" style=\"stroke:#000000; stroke-linecap:round; stroke-linejoin:round; stroke-width:4; stroke-opacity:1; fill:none\" points=\"518.218,1453.74 518.218,1486.45 574.301,1486.45 574.301,1453.74 518.218,1453.74 \"/>\n",
       "<path clip-path=\"url(#clip852)\" d=\"M574.301 1388.32 L574.301 1486.45 L630.385 1486.45 L630.385 1388.32 L574.301 1388.32 L574.301 1388.32  Z\" fill=\"#009af9\" fill-rule=\"evenodd\" fill-opacity=\"1\"/>\n",
       "<polyline clip-path=\"url(#clip852)\" style=\"stroke:#000000; stroke-linecap:round; stroke-linejoin:round; stroke-width:4; stroke-opacity:1; fill:none\" points=\"574.301,1388.32 574.301,1486.45 630.385,1486.45 630.385,1388.32 574.301,1388.32 \"/>\n",
       "<path clip-path=\"url(#clip852)\" d=\"M630.385 1371.97 L630.385 1486.45 L686.469 1486.45 L686.469 1371.97 L630.385 1371.97 L630.385 1371.97  Z\" fill=\"#009af9\" fill-rule=\"evenodd\" fill-opacity=\"1\"/>\n",
       "<polyline clip-path=\"url(#clip852)\" style=\"stroke:#000000; stroke-linecap:round; stroke-linejoin:round; stroke-width:4; stroke-opacity:1; fill:none\" points=\"630.385,1371.97 630.385,1486.45 686.469,1486.45 686.469,1371.97 630.385,1371.97 \"/>\n",
       "<path clip-path=\"url(#clip852)\" d=\"M686.469 1208.42 L686.469 1486.45 L742.552 1486.45 L742.552 1208.42 L686.469 1208.42 L686.469 1208.42  Z\" fill=\"#009af9\" fill-rule=\"evenodd\" fill-opacity=\"1\"/>\n",
       "<polyline clip-path=\"url(#clip852)\" style=\"stroke:#000000; stroke-linecap:round; stroke-linejoin:round; stroke-width:4; stroke-opacity:1; fill:none\" points=\"686.469,1208.42 686.469,1486.45 742.552,1486.45 742.552,1208.42 686.469,1208.42 \"/>\n",
       "<path clip-path=\"url(#clip852)\" d=\"M742.552 1257.48 L742.552 1486.45 L798.636 1486.45 L798.636 1257.48 L742.552 1257.48 L742.552 1257.48  Z\" fill=\"#009af9\" fill-rule=\"evenodd\" fill-opacity=\"1\"/>\n",
       "<polyline clip-path=\"url(#clip852)\" style=\"stroke:#000000; stroke-linecap:round; stroke-linejoin:round; stroke-width:4; stroke-opacity:1; fill:none\" points=\"742.552,1257.48 742.552,1486.45 798.636,1486.45 798.636,1257.48 742.552,1257.48 \"/>\n",
       "<path clip-path=\"url(#clip852)\" d=\"M798.636 979.456 L798.636 1486.45 L854.719 1486.45 L854.719 979.456 L798.636 979.456 L798.636 979.456  Z\" fill=\"#009af9\" fill-rule=\"evenodd\" fill-opacity=\"1\"/>\n",
       "<polyline clip-path=\"url(#clip852)\" style=\"stroke:#000000; stroke-linecap:round; stroke-linejoin:round; stroke-width:4; stroke-opacity:1; fill:none\" points=\"798.636,979.456 798.636,1486.45 854.719,1486.45 854.719,979.456 798.636,979.456 \"/>\n",
       "<path clip-path=\"url(#clip852)\" d=\"M854.719 750.491 L854.719 1486.45 L910.803 1486.45 L910.803 750.491 L854.719 750.491 L854.719 750.491  Z\" fill=\"#009af9\" fill-rule=\"evenodd\" fill-opacity=\"1\"/>\n",
       "<polyline clip-path=\"url(#clip852)\" style=\"stroke:#000000; stroke-linecap:round; stroke-linejoin:round; stroke-width:4; stroke-opacity:1; fill:none\" points=\"854.719,750.491 854.719,1486.45 910.803,1486.45 910.803,750.491 854.719,750.491 \"/>\n",
       "<path clip-path=\"url(#clip852)\" d=\"M910.803 832.264 L910.803 1486.45 L966.887 1486.45 L966.887 832.264 L910.803 832.264 L910.803 832.264  Z\" fill=\"#009af9\" fill-rule=\"evenodd\" fill-opacity=\"1\"/>\n",
       "<polyline clip-path=\"url(#clip852)\" style=\"stroke:#000000; stroke-linecap:round; stroke-linejoin:round; stroke-width:4; stroke-opacity:1; fill:none\" points=\"910.803,832.264 910.803,1486.45 966.887,1486.45 966.887,832.264 910.803,832.264 \"/>\n",
       "<path clip-path=\"url(#clip852)\" d=\"M966.887 521.527 L966.887 1486.45 L1022.97 1486.45 L1022.97 521.527 L966.887 521.527 L966.887 521.527  Z\" fill=\"#009af9\" fill-rule=\"evenodd\" fill-opacity=\"1\"/>\n",
       "<polyline clip-path=\"url(#clip852)\" style=\"stroke:#000000; stroke-linecap:round; stroke-linejoin:round; stroke-width:4; stroke-opacity:1; fill:none\" points=\"966.887,521.527 966.887,1486.45 1022.97,1486.45 1022.97,521.527 966.887,521.527 \"/>\n",
       "<path clip-path=\"url(#clip852)\" d=\"M1022.97 407.045 L1022.97 1486.45 L1079.05 1486.45 L1079.05 407.045 L1022.97 407.045 L1022.97 407.045  Z\" fill=\"#009af9\" fill-rule=\"evenodd\" fill-opacity=\"1\"/>\n",
       "<polyline clip-path=\"url(#clip852)\" style=\"stroke:#000000; stroke-linecap:round; stroke-linejoin:round; stroke-width:4; stroke-opacity:1; fill:none\" points=\"1022.97,407.045 1022.97,1486.45 1079.05,1486.45 1079.05,407.045 1022.97,407.045 \"/>\n",
       "<path clip-path=\"url(#clip852)\" d=\"M1079.05 456.109 L1079.05 1486.45 L1135.14 1486.45 L1135.14 456.109 L1079.05 456.109 L1079.05 456.109  Z\" fill=\"#009af9\" fill-rule=\"evenodd\" fill-opacity=\"1\"/>\n",
       "<polyline clip-path=\"url(#clip852)\" style=\"stroke:#000000; stroke-linecap:round; stroke-linejoin:round; stroke-width:4; stroke-opacity:1; fill:none\" points=\"1079.05,456.109 1079.05,1486.45 1135.14,1486.45 1135.14,456.109 1079.05,456.109 \"/>\n",
       "<path clip-path=\"url(#clip852)\" d=\"M1135.14 47.2441 L1135.14 1486.45 L1191.22 1486.45 L1191.22 47.2441 L1135.14 47.2441 L1135.14 47.2441  Z\" fill=\"#009af9\" fill-rule=\"evenodd\" fill-opacity=\"1\"/>\n",
       "<polyline clip-path=\"url(#clip852)\" style=\"stroke:#000000; stroke-linecap:round; stroke-linejoin:round; stroke-width:4; stroke-opacity:1; fill:none\" points=\"1135.14,47.2441 1135.14,1486.45 1191.22,1486.45 1191.22,47.2441 1135.14,47.2441 \"/>\n",
       "<path clip-path=\"url(#clip852)\" d=\"M1191.22 96.3079 L1191.22 1486.45 L1247.3 1486.45 L1247.3 96.3079 L1191.22 96.3079 L1191.22 96.3079  Z\" fill=\"#009af9\" fill-rule=\"evenodd\" fill-opacity=\"1\"/>\n",
       "<polyline clip-path=\"url(#clip852)\" style=\"stroke:#000000; stroke-linecap:round; stroke-linejoin:round; stroke-width:4; stroke-opacity:1; fill:none\" points=\"1191.22,96.3079 1191.22,1486.45 1247.3,1486.45 1247.3,96.3079 1191.22,96.3079 \"/>\n",
       "<path clip-path=\"url(#clip852)\" d=\"M1247.3 112.662 L1247.3 1486.45 L1303.39 1486.45 L1303.39 112.662 L1247.3 112.662 L1247.3 112.662  Z\" fill=\"#009af9\" fill-rule=\"evenodd\" fill-opacity=\"1\"/>\n",
       "<polyline clip-path=\"url(#clip852)\" style=\"stroke:#000000; stroke-linecap:round; stroke-linejoin:round; stroke-width:4; stroke-opacity:1; fill:none\" points=\"1247.3,112.662 1247.3,1486.45 1303.39,1486.45 1303.39,112.662 1247.3,112.662 \"/>\n",
       "<path clip-path=\"url(#clip852)\" d=\"M1303.39 243.499 L1303.39 1486.45 L1359.47 1486.45 L1359.47 243.499 L1303.39 243.499 L1303.39 243.499  Z\" fill=\"#009af9\" fill-rule=\"evenodd\" fill-opacity=\"1\"/>\n",
       "<polyline clip-path=\"url(#clip852)\" style=\"stroke:#000000; stroke-linecap:round; stroke-linejoin:round; stroke-width:4; stroke-opacity:1; fill:none\" points=\"1303.39,243.499 1303.39,1486.45 1359.47,1486.45 1359.47,243.499 1303.39,243.499 \"/>\n",
       "<path clip-path=\"url(#clip852)\" d=\"M1359.47 456.109 L1359.47 1486.45 L1415.56 1486.45 L1415.56 456.109 L1359.47 456.109 L1359.47 456.109  Z\" fill=\"#009af9\" fill-rule=\"evenodd\" fill-opacity=\"1\"/>\n",
       "<polyline clip-path=\"url(#clip852)\" style=\"stroke:#000000; stroke-linecap:round; stroke-linejoin:round; stroke-width:4; stroke-opacity:1; fill:none\" points=\"1359.47,456.109 1359.47,1486.45 1415.56,1486.45 1415.56,456.109 1359.47,456.109 \"/>\n",
       "<path clip-path=\"url(#clip852)\" d=\"M1415.56 554.236 L1415.56 1486.45 L1471.64 1486.45 L1471.64 554.236 L1415.56 554.236 L1415.56 554.236  Z\" fill=\"#009af9\" fill-rule=\"evenodd\" fill-opacity=\"1\"/>\n",
       "<polyline clip-path=\"url(#clip852)\" style=\"stroke:#000000; stroke-linecap:round; stroke-linejoin:round; stroke-width:4; stroke-opacity:1; fill:none\" points=\"1415.56,554.236 1415.56,1486.45 1471.64,1486.45 1471.64,554.236 1415.56,554.236 \"/>\n",
       "<path clip-path=\"url(#clip852)\" d=\"M1471.64 505.173 L1471.64 1486.45 L1527.72 1486.45 L1527.72 505.173 L1471.64 505.173 L1471.64 505.173  Z\" fill=\"#009af9\" fill-rule=\"evenodd\" fill-opacity=\"1\"/>\n",
       "<polyline clip-path=\"url(#clip852)\" style=\"stroke:#000000; stroke-linecap:round; stroke-linejoin:round; stroke-width:4; stroke-opacity:1; fill:none\" points=\"1471.64,505.173 1471.64,1486.45 1527.72,1486.45 1527.72,505.173 1471.64,505.173 \"/>\n",
       "<path clip-path=\"url(#clip852)\" d=\"M1527.72 963.101 L1527.72 1486.45 L1583.81 1486.45 L1583.81 963.101 L1527.72 963.101 L1527.72 963.101  Z\" fill=\"#009af9\" fill-rule=\"evenodd\" fill-opacity=\"1\"/>\n",
       "<polyline clip-path=\"url(#clip852)\" style=\"stroke:#000000; stroke-linecap:round; stroke-linejoin:round; stroke-width:4; stroke-opacity:1; fill:none\" points=\"1527.72,963.101 1527.72,1486.45 1583.81,1486.45 1583.81,963.101 1527.72,963.101 \"/>\n",
       "<path clip-path=\"url(#clip852)\" d=\"M1583.81 1044.87 L1583.81 1486.45 L1639.89 1486.45 L1639.89 1044.87 L1583.81 1044.87 L1583.81 1044.87  Z\" fill=\"#009af9\" fill-rule=\"evenodd\" fill-opacity=\"1\"/>\n",
       "<polyline clip-path=\"url(#clip852)\" style=\"stroke:#000000; stroke-linecap:round; stroke-linejoin:round; stroke-width:4; stroke-opacity:1; fill:none\" points=\"1583.81,1044.87 1583.81,1486.45 1639.89,1486.45 1639.89,1044.87 1583.81,1044.87 \"/>\n",
       "<path clip-path=\"url(#clip852)\" d=\"M1639.89 1061.23 L1639.89 1486.45 L1695.97 1486.45 L1695.97 1061.23 L1639.89 1061.23 L1639.89 1061.23  Z\" fill=\"#009af9\" fill-rule=\"evenodd\" fill-opacity=\"1\"/>\n",
       "<polyline clip-path=\"url(#clip852)\" style=\"stroke:#000000; stroke-linecap:round; stroke-linejoin:round; stroke-width:4; stroke-opacity:1; fill:none\" points=\"1639.89,1061.23 1639.89,1486.45 1695.97,1486.45 1695.97,1061.23 1639.89,1061.23 \"/>\n",
       "<path clip-path=\"url(#clip852)\" d=\"M1695.97 1257.48 L1695.97 1486.45 L1752.06 1486.45 L1752.06 1257.48 L1695.97 1257.48 L1695.97 1257.48  Z\" fill=\"#009af9\" fill-rule=\"evenodd\" fill-opacity=\"1\"/>\n",
       "<polyline clip-path=\"url(#clip852)\" style=\"stroke:#000000; stroke-linecap:round; stroke-linejoin:round; stroke-width:4; stroke-opacity:1; fill:none\" points=\"1695.97,1257.48 1695.97,1486.45 1752.06,1486.45 1752.06,1257.48 1695.97,1257.48 \"/>\n",
       "<path clip-path=\"url(#clip852)\" d=\"M1752.06 1322.9 L1752.06 1486.45 L1808.14 1486.45 L1808.14 1322.9 L1752.06 1322.9 L1752.06 1322.9  Z\" fill=\"#009af9\" fill-rule=\"evenodd\" fill-opacity=\"1\"/>\n",
       "<polyline clip-path=\"url(#clip852)\" style=\"stroke:#000000; stroke-linecap:round; stroke-linejoin:round; stroke-width:4; stroke-opacity:1; fill:none\" points=\"1752.06,1322.9 1752.06,1486.45 1808.14,1486.45 1808.14,1322.9 1752.06,1322.9 \"/>\n",
       "<path clip-path=\"url(#clip852)\" d=\"M1808.14 1339.26 L1808.14 1486.45 L1864.22 1486.45 L1864.22 1339.26 L1808.14 1339.26 L1808.14 1339.26  Z\" fill=\"#009af9\" fill-rule=\"evenodd\" fill-opacity=\"1\"/>\n",
       "<polyline clip-path=\"url(#clip852)\" style=\"stroke:#000000; stroke-linecap:round; stroke-linejoin:round; stroke-width:4; stroke-opacity:1; fill:none\" points=\"1808.14,1339.26 1808.14,1486.45 1864.22,1486.45 1864.22,1339.26 1808.14,1339.26 \"/>\n",
       "<path clip-path=\"url(#clip852)\" d=\"M1864.22 1404.67 L1864.22 1486.45 L1920.31 1486.45 L1920.31 1404.67 L1864.22 1404.67 L1864.22 1404.67  Z\" fill=\"#009af9\" fill-rule=\"evenodd\" fill-opacity=\"1\"/>\n",
       "<polyline clip-path=\"url(#clip852)\" style=\"stroke:#000000; stroke-linecap:round; stroke-linejoin:round; stroke-width:4; stroke-opacity:1; fill:none\" points=\"1864.22,1404.67 1864.22,1486.45 1920.31,1486.45 1920.31,1404.67 1864.22,1404.67 \"/>\n",
       "<path clip-path=\"url(#clip852)\" d=\"M1920.31 1453.74 L1920.31 1486.45 L1976.39 1486.45 L1976.39 1453.74 L1920.31 1453.74 L1920.31 1453.74  Z\" fill=\"#009af9\" fill-rule=\"evenodd\" fill-opacity=\"1\"/>\n",
       "<polyline clip-path=\"url(#clip852)\" style=\"stroke:#000000; stroke-linecap:round; stroke-linejoin:round; stroke-width:4; stroke-opacity:1; fill:none\" points=\"1920.31,1453.74 1920.31,1486.45 1976.39,1486.45 1976.39,1453.74 1920.31,1453.74 \"/>\n",
       "<path clip-path=\"url(#clip852)\" d=\"M1976.39 1453.74 L1976.39 1486.45 L2032.47 1486.45 L2032.47 1453.74 L1976.39 1453.74 L1976.39 1453.74  Z\" fill=\"#009af9\" fill-rule=\"evenodd\" fill-opacity=\"1\"/>\n",
       "<polyline clip-path=\"url(#clip852)\" style=\"stroke:#000000; stroke-linecap:round; stroke-linejoin:round; stroke-width:4; stroke-opacity:1; fill:none\" points=\"1976.39,1453.74 1976.39,1486.45 2032.47,1486.45 2032.47,1453.74 1976.39,1453.74 \"/>\n",
       "<path clip-path=\"url(#clip852)\" d=\"M2032.47 1437.38 L2032.47 1486.45 L2088.56 1486.45 L2088.56 1437.38 L2032.47 1437.38 L2032.47 1437.38  Z\" fill=\"#009af9\" fill-rule=\"evenodd\" fill-opacity=\"1\"/>\n",
       "<polyline clip-path=\"url(#clip852)\" style=\"stroke:#000000; stroke-linecap:round; stroke-linejoin:round; stroke-width:4; stroke-opacity:1; fill:none\" points=\"2032.47,1437.38 2032.47,1486.45 2088.56,1486.45 2088.56,1437.38 2032.47,1437.38 \"/>\n",
       "<path clip-path=\"url(#clip852)\" d=\"M2088.56 1453.74 L2088.56 1486.45 L2144.64 1486.45 L2144.64 1453.74 L2088.56 1453.74 L2088.56 1453.74  Z\" fill=\"#009af9\" fill-rule=\"evenodd\" fill-opacity=\"1\"/>\n",
       "<polyline clip-path=\"url(#clip852)\" style=\"stroke:#000000; stroke-linecap:round; stroke-linejoin:round; stroke-width:4; stroke-opacity:1; fill:none\" points=\"2088.56,1453.74 2088.56,1486.45 2144.64,1486.45 2144.64,1453.74 2088.56,1453.74 \"/>\n",
       "<circle clip-path=\"url(#clip852)\" style=\"fill:#009af9; stroke:none; fill-opacity:0\" cx=\"321.925\" cy=\"1470.09\" r=\"2\"/>\n",
       "<circle clip-path=\"url(#clip852)\" style=\"fill:#009af9; stroke:none; fill-opacity:0\" cx=\"378.009\" cy=\"1470.09\" r=\"2\"/>\n",
       "<circle clip-path=\"url(#clip852)\" style=\"fill:#009af9; stroke:none; fill-opacity:0\" cx=\"434.093\" cy=\"1486.45\" r=\"2\"/>\n",
       "<circle clip-path=\"url(#clip852)\" style=\"fill:#009af9; stroke:none; fill-opacity:0\" cx=\"490.176\" cy=\"1437.38\" r=\"2\"/>\n",
       "<circle clip-path=\"url(#clip852)\" style=\"fill:#009af9; stroke:none; fill-opacity:0\" cx=\"546.26\" cy=\"1453.74\" r=\"2\"/>\n",
       "<circle clip-path=\"url(#clip852)\" style=\"fill:#009af9; stroke:none; fill-opacity:0\" cx=\"602.343\" cy=\"1388.32\" r=\"2\"/>\n",
       "<circle clip-path=\"url(#clip852)\" style=\"fill:#009af9; stroke:none; fill-opacity:0\" cx=\"658.427\" cy=\"1371.97\" r=\"2\"/>\n",
       "<circle clip-path=\"url(#clip852)\" style=\"fill:#009af9; stroke:none; fill-opacity:0\" cx=\"714.51\" cy=\"1208.42\" r=\"2\"/>\n",
       "<circle clip-path=\"url(#clip852)\" style=\"fill:#009af9; stroke:none; fill-opacity:0\" cx=\"770.594\" cy=\"1257.48\" r=\"2\"/>\n",
       "<circle clip-path=\"url(#clip852)\" style=\"fill:#009af9; stroke:none; fill-opacity:0\" cx=\"826.678\" cy=\"979.456\" r=\"2\"/>\n",
       "<circle clip-path=\"url(#clip852)\" style=\"fill:#009af9; stroke:none; fill-opacity:0\" cx=\"882.761\" cy=\"750.491\" r=\"2\"/>\n",
       "<circle clip-path=\"url(#clip852)\" style=\"fill:#009af9; stroke:none; fill-opacity:0\" cx=\"938.845\" cy=\"832.264\" r=\"2\"/>\n",
       "<circle clip-path=\"url(#clip852)\" style=\"fill:#009af9; stroke:none; fill-opacity:0\" cx=\"994.928\" cy=\"521.527\" r=\"2\"/>\n",
       "<circle clip-path=\"url(#clip852)\" style=\"fill:#009af9; stroke:none; fill-opacity:0\" cx=\"1051.01\" cy=\"407.045\" r=\"2\"/>\n",
       "<circle clip-path=\"url(#clip852)\" style=\"fill:#009af9; stroke:none; fill-opacity:0\" cx=\"1107.1\" cy=\"456.109\" r=\"2\"/>\n",
       "<circle clip-path=\"url(#clip852)\" style=\"fill:#009af9; stroke:none; fill-opacity:0\" cx=\"1163.18\" cy=\"47.2441\" r=\"2\"/>\n",
       "<circle clip-path=\"url(#clip852)\" style=\"fill:#009af9; stroke:none; fill-opacity:0\" cx=\"1219.26\" cy=\"96.3079\" r=\"2\"/>\n",
       "<circle clip-path=\"url(#clip852)\" style=\"fill:#009af9; stroke:none; fill-opacity:0\" cx=\"1275.35\" cy=\"112.662\" r=\"2\"/>\n",
       "<circle clip-path=\"url(#clip852)\" style=\"fill:#009af9; stroke:none; fill-opacity:0\" cx=\"1331.43\" cy=\"243.499\" r=\"2\"/>\n",
       "<circle clip-path=\"url(#clip852)\" style=\"fill:#009af9; stroke:none; fill-opacity:0\" cx=\"1387.51\" cy=\"456.109\" r=\"2\"/>\n",
       "<circle clip-path=\"url(#clip852)\" style=\"fill:#009af9; stroke:none; fill-opacity:0\" cx=\"1443.6\" cy=\"554.236\" r=\"2\"/>\n",
       "<circle clip-path=\"url(#clip852)\" style=\"fill:#009af9; stroke:none; fill-opacity:0\" cx=\"1499.68\" cy=\"505.173\" r=\"2\"/>\n",
       "<circle clip-path=\"url(#clip852)\" style=\"fill:#009af9; stroke:none; fill-opacity:0\" cx=\"1555.76\" cy=\"963.101\" r=\"2\"/>\n",
       "<circle clip-path=\"url(#clip852)\" style=\"fill:#009af9; stroke:none; fill-opacity:0\" cx=\"1611.85\" cy=\"1044.87\" r=\"2\"/>\n",
       "<circle clip-path=\"url(#clip852)\" style=\"fill:#009af9; stroke:none; fill-opacity:0\" cx=\"1667.93\" cy=\"1061.23\" r=\"2\"/>\n",
       "<circle clip-path=\"url(#clip852)\" style=\"fill:#009af9; stroke:none; fill-opacity:0\" cx=\"1724.01\" cy=\"1257.48\" r=\"2\"/>\n",
       "<circle clip-path=\"url(#clip852)\" style=\"fill:#009af9; stroke:none; fill-opacity:0\" cx=\"1780.1\" cy=\"1322.9\" r=\"2\"/>\n",
       "<circle clip-path=\"url(#clip852)\" style=\"fill:#009af9; stroke:none; fill-opacity:0\" cx=\"1836.18\" cy=\"1339.26\" r=\"2\"/>\n",
       "<circle clip-path=\"url(#clip852)\" style=\"fill:#009af9; stroke:none; fill-opacity:0\" cx=\"1892.27\" cy=\"1404.67\" r=\"2\"/>\n",
       "<circle clip-path=\"url(#clip852)\" style=\"fill:#009af9; stroke:none; fill-opacity:0\" cx=\"1948.35\" cy=\"1453.74\" r=\"2\"/>\n",
       "<circle clip-path=\"url(#clip852)\" style=\"fill:#009af9; stroke:none; fill-opacity:0\" cx=\"2004.43\" cy=\"1453.74\" r=\"2\"/>\n",
       "<circle clip-path=\"url(#clip852)\" style=\"fill:#009af9; stroke:none; fill-opacity:0\" cx=\"2060.52\" cy=\"1437.38\" r=\"2\"/>\n",
       "<circle clip-path=\"url(#clip852)\" style=\"fill:#009af9; stroke:none; fill-opacity:0\" cx=\"2116.6\" cy=\"1453.74\" r=\"2\"/>\n",
       "<path clip-path=\"url(#clip852)\" d=\"M204.426 1486.44 L211.215 1486.44 L218.005 1486.44 L280.786 1486.43 L343.566 1486.41 L381.295 1486.39 L419.024 1486.36 L450.923 1486.33 L482.822 1486.29 L500.147 1486.26 L517.473 1486.23 L534.799 1486.19 L552.124 1486.15 L568.097 1486.1 L584.07 1486.05 L600.042 1485.99 L616.015 1485.93 L633.139 1485.86 L650.264 1485.77 L667.388 1485.68 L684.513 1485.58 L704.353 1485.45 L724.193 1485.3 L744.034 1485.14 L763.874 1484.97 L781.506 1484.81 L799.138 1484.63 L816.769 1484.44 L834.401 1484.24 L849.863 1484.06 L865.324 1483.87 L880.785 1483.67 L896.247 1483.47 L929.961 1483.01 L963.675 1482.54 L997.59 1482.06 L1031.5 1481.6 L1040.88 1481.47 L1050.25 1481.35 L1059.63 1481.23 L1069 1481.12 L1078.38 1481.01 L1087.75 1480.9 L1097.12 1480.8 L1106.5 1480.7 L1115.42 1480.61 L1124.34 1480.52 L1133.26 1480.44 L1142.18 1480.37 L1151.1 1480.3 L1160.01 1480.23 L1168.93 1480.17 L1177.85 1480.12 L1187.13 1480.07 L1196.4 1480.03 L1205.68 1479.99 L1214.95 1479.97 L1224.22 1479.95 L1233.5 1479.93 L1242.77 1479.92 L1252.05 1479.92 L1259.85 1479.93 L1267.66 1479.94 L1275.47 1479.96 L1283.27 1479.98 L1291.08 1480 L1298.89 1480.03 L1306.69 1480.07 L1314.5 1480.11 L1324.03 1480.16 L1333.56 1480.22 L1343.09 1480.29 L1352.63 1480.37 L1362.16 1480.45 L1371.69 1480.53 L1381.22 1480.63 L1390.75 1480.72 L1408.21 1480.91 L1425.67 1481.12 L1434.41 1481.23 L1443.14 1481.34 L1451.87 1481.45 L1460.6 1481.56 L1492.85 1482 L1525.11 1482.45 L1557.78 1482.91 L1590.46 1483.36 L1608.77 1483.61 L1627.08 1483.84 L1645.39 1484.07 L1663.7 1484.28 L1680.29 1484.47 L1696.88 1484.64 L1713.47 1484.81 L1730.06 1484.97 L1749.06 1485.13 L1768.05 1485.28 L1787.05 1485.42 L1806.04 1485.55 L1823.63 1485.66 L1841.22 1485.76 L1858.81 1485.84 L1876.4 1485.92 L1893.74 1485.99 L1911.08 1486.05 L1928.42 1486.11 L1945.76 1486.15 L1962.59 1486.2 L1979.43 1486.23 L1996.26 1486.26 L2013.1 1486.29 L2047.62 1486.34 L2082.13 1486.37 L2119.95 1486.4 L2157.77 1486.41 L2212.71 1486.43 L2267.64 1486.44 L2278.91 1486.44 L2290.18 1486.44 L2290.18 1486.45 L2278.91 1486.45 L2267.64 1486.45 L2212.71 1486.45 L2157.77 1486.45 L2119.95 1486.45 L2082.13 1486.45 L2047.62 1486.45 L2013.1 1486.45 L1996.26 1486.45 L1979.43 1486.45 L1962.59 1486.45 L1945.76 1486.45 L1928.42 1486.45 L1911.08 1486.45 L1893.74 1486.45 L1876.4 1486.45 L1858.81 1486.45 L1841.22 1486.45 L1823.63 1486.45 L1806.04 1486.45 L1787.05 1486.45 L1768.05 1486.45 L1749.06 1486.45 L1730.06 1486.45 L1713.47 1486.45 L1696.88 1486.45 L1680.29 1486.45 L1663.7 1486.45 L1645.39 1486.45 L1627.08 1486.45 L1608.77 1486.45 L1590.46 1486.45 L1557.78 1486.45 L1525.11 1486.45 L1492.85 1486.45 L1460.6 1486.45 L1451.87 1486.45 L1443.14 1486.45 L1434.41 1486.45 L1425.67 1486.45 L1408.21 1486.45 L1390.75 1486.45 L1381.22 1486.45 L1371.69 1486.45 L1362.16 1486.45 L1352.63 1486.45 L1343.09 1486.45 L1333.56 1486.45 L1324.03 1486.45 L1314.5 1486.45 L1306.69 1486.45 L1298.89 1486.45 L1291.08 1486.45 L1283.27 1486.45 L1275.47 1486.45 L1267.66 1486.45 L1259.85 1486.45 L1252.05 1486.45 L1242.77 1486.45 L1233.5 1486.45 L1224.22 1486.45 L1214.95 1486.45 L1205.68 1486.45 L1196.4 1486.45 L1187.13 1486.45 L1177.85 1486.45 L1168.93 1486.45 L1160.01 1486.45 L1151.1 1486.45 L1142.18 1486.45 L1133.26 1486.45 L1124.34 1486.45 L1115.42 1486.45 L1106.5 1486.45 L1097.12 1486.45 L1087.75 1486.45 L1078.38 1486.45 L1069 1486.45 L1059.63 1486.45 L1050.25 1486.45 L1040.88 1486.45 L1031.5 1486.45 L997.59 1486.45 L963.675 1486.45 L929.961 1486.45 L896.247 1486.45 L880.785 1486.45 L865.324 1486.45 L849.863 1486.45 L834.401 1486.45 L816.769 1486.45 L799.138 1486.45 L781.506 1486.45 L763.874 1486.45 L744.034 1486.45 L724.193 1486.45 L704.353 1486.45 L684.513 1486.45 L667.388 1486.45 L650.264 1486.45 L633.139 1486.45 L616.015 1486.45 L600.042 1486.45 L584.07 1486.45 L568.097 1486.45 L552.124 1486.45 L534.799 1486.45 L517.473 1486.45 L500.147 1486.45 L482.822 1486.45 L450.923 1486.45 L419.024 1486.45 L381.295 1486.45 L343.566 1486.45 L280.786 1486.45 L218.005 1486.45 L211.215 1486.45 L204.426 1486.45  Z\" fill=\"#ffa500\" fill-rule=\"evenodd\" fill-opacity=\"0.5\"/>\n",
       "<polyline clip-path=\"url(#clip852)\" style=\"stroke:#e26f46; stroke-linecap:round; stroke-linejoin:round; stroke-width:4; stroke-opacity:1; fill:none\" points=\"204.426,1486.44 211.215,1486.44 218.005,1486.44 280.786,1486.43 343.566,1486.41 381.295,1486.39 419.024,1486.36 450.923,1486.33 482.822,1486.29 500.147,1486.26 517.473,1486.23 534.799,1486.19 552.124,1486.15 568.097,1486.1 584.07,1486.05 600.042,1485.99 616.015,1485.93 633.139,1485.86 650.264,1485.77 667.388,1485.68 684.513,1485.58 704.353,1485.45 724.193,1485.3 744.034,1485.14 763.874,1484.97 781.506,1484.81 799.138,1484.63 816.769,1484.44 834.401,1484.24 849.863,1484.06 865.324,1483.87 880.785,1483.67 896.247,1483.47 929.961,1483.01 963.675,1482.54 997.59,1482.06 1031.5,1481.6 1040.88,1481.47 1050.25,1481.35 1059.63,1481.23 1069,1481.12 1078.38,1481.01 1087.75,1480.9 1097.12,1480.8 1106.5,1480.7 1115.42,1480.61 1124.34,1480.52 1133.26,1480.44 1142.18,1480.37 1151.1,1480.3 1160.01,1480.23 1168.93,1480.17 1177.85,1480.12 1187.13,1480.07 1196.4,1480.03 1205.68,1479.99 1214.95,1479.97 1224.22,1479.95 1233.5,1479.93 1242.77,1479.92 1252.05,1479.92 1259.85,1479.93 1267.66,1479.94 1275.47,1479.96 1283.27,1479.98 1291.08,1480 1298.89,1480.03 1306.69,1480.07 1314.5,1480.11 1324.03,1480.16 1333.56,1480.22 1343.09,1480.29 1352.63,1480.37 1362.16,1480.45 1371.69,1480.53 1381.22,1480.63 1390.75,1480.72 1408.21,1480.91 1425.67,1481.12 1434.41,1481.23 1443.14,1481.34 1451.87,1481.45 1460.6,1481.56 1492.85,1482 1525.11,1482.45 1557.78,1482.91 1590.46,1483.36 1608.77,1483.61 1627.08,1483.84 1645.39,1484.07 1663.7,1484.28 1680.29,1484.47 1696.88,1484.64 1713.47,1484.81 1730.06,1484.97 1749.06,1485.13 1768.05,1485.28 1787.05,1485.42 1806.04,1485.55 1823.63,1485.66 1841.22,1485.76 1858.81,1485.84 1876.4,1485.92 1893.74,1485.99 1911.08,1486.05 1928.42,1486.11 1945.76,1486.15 1962.59,1486.2 1979.43,1486.23 1996.26,1486.26 2013.1,1486.29 2047.62,1486.34 2082.13,1486.37 2119.95,1486.4 2157.77,1486.41 2212.71,1486.43 2267.64,1486.44 2278.91,1486.44 2290.18,1486.44 \"/>\n",
       "<path clip-path=\"url(#clip850)\" d=\"M1536.81 250.738 L2279.06 250.738 L2279.06 95.2176 L1536.81 95.2176  Z\" fill=\"#ffffff\" fill-rule=\"evenodd\" fill-opacity=\"1\"/>\n",
       "<polyline clip-path=\"url(#clip850)\" style=\"stroke:#000000; stroke-linecap:round; stroke-linejoin:round; stroke-width:4; stroke-opacity:1; fill:none\" points=\"1536.81,250.738 2279.06,250.738 2279.06,95.2176 1536.81,95.2176 1536.81,250.738 \"/>\n",
       "<path clip-path=\"url(#clip850)\" d=\"M1561.38 167.794 L1708.77 167.794 L1708.77 126.322 L1561.38 126.322 L1561.38 167.794  Z\" fill=\"#009af9\" fill-rule=\"evenodd\" fill-opacity=\"1\"/>\n",
       "<polyline clip-path=\"url(#clip850)\" style=\"stroke:#000000; stroke-linecap:round; stroke-linejoin:round; stroke-width:4; stroke-opacity:1; fill:none\" points=\"1561.38,167.794 1708.77,167.794 1708.77,126.322 1561.38,126.322 1561.38,167.794 \"/>\n",
       "<path clip-path=\"url(#clip850)\" d=\"M1733.34 129.778 L1739.64 129.778 L1754.96 158.689 L1754.96 129.778 L1759.5 129.778 L1759.5 164.338 L1753.2 164.338 L1737.88 135.426 L1737.88 164.338 L1733.34 164.338 L1733.34 129.778 Z\" fill=\"#000000\" fill-rule=\"nonzero\" fill-opacity=\"1\" /><path clip-path=\"url(#clip850)\" d=\"M1778.66 141.398 Q1775.24 141.398 1773.25 144.083 Q1771.26 146.745 1771.26 151.398 Q1771.26 156.051 1773.22 158.736 Q1775.21 161.398 1778.66 161.398 Q1782.07 161.398 1784.06 158.713 Q1786.05 156.027 1786.05 151.398 Q1786.05 146.791 1784.06 144.106 Q1782.07 141.398 1778.66 141.398 M1778.66 137.787 Q1784.22 137.787 1787.39 141.398 Q1790.56 145.009 1790.56 151.398 Q1790.56 157.764 1787.39 161.398 Q1784.22 165.009 1778.66 165.009 Q1773.08 165.009 1769.91 161.398 Q1766.76 157.764 1766.76 151.398 Q1766.76 145.009 1769.91 141.398 Q1773.08 137.787 1778.66 137.787 Z\" fill=\"#000000\" fill-rule=\"nonzero\" fill-opacity=\"1\" /><path clip-path=\"url(#clip850)\" d=\"M1812.64 142.393 Q1811.93 141.977 1811.07 141.791 Q1810.24 141.583 1809.22 141.583 Q1805.61 141.583 1803.66 143.944 Q1801.74 146.282 1801.74 150.68 L1801.74 164.338 L1797.46 164.338 L1797.46 138.412 L1801.74 138.412 L1801.74 142.44 Q1803.08 140.078 1805.24 138.944 Q1807.39 137.787 1810.47 137.787 Q1810.91 137.787 1811.44 137.856 Q1811.97 137.903 1812.62 138.018 L1812.64 142.393 Z\" fill=\"#000000\" fill-rule=\"nonzero\" fill-opacity=\"1\" /><path clip-path=\"url(#clip850)\" d=\"M1836.46 143.389 Q1838.06 140.518 1840.28 139.153 Q1842.51 137.787 1845.51 137.787 Q1849.57 137.787 1851.76 140.634 Q1853.96 143.458 1853.96 148.689 L1853.96 164.338 L1849.68 164.338 L1849.68 148.828 Q1849.68 145.102 1848.36 143.296 Q1847.04 141.49 1844.33 141.49 Q1841.02 141.49 1839.1 143.69 Q1837.18 145.889 1837.18 149.685 L1837.18 164.338 L1832.9 164.338 L1832.9 148.828 Q1832.9 145.078 1831.58 143.296 Q1830.26 141.49 1827.51 141.49 Q1824.24 141.49 1822.32 143.713 Q1820.4 145.912 1820.4 149.685 L1820.4 164.338 L1816.12 164.338 L1816.12 138.412 L1820.4 138.412 L1820.4 142.44 Q1821.86 140.055 1823.89 138.921 Q1825.93 137.787 1828.73 137.787 Q1831.56 137.787 1833.52 139.222 Q1835.51 140.657 1836.46 143.389 Z\" fill=\"#000000\" fill-rule=\"nonzero\" fill-opacity=\"1\" /><path clip-path=\"url(#clip850)\" d=\"M1874.24 151.305 Q1869.08 151.305 1867.09 152.486 Q1865.1 153.666 1865.1 156.514 Q1865.1 158.782 1866.58 160.125 Q1868.08 161.444 1870.65 161.444 Q1874.19 161.444 1876.32 158.944 Q1878.48 156.421 1878.48 152.254 L1878.48 151.305 L1874.24 151.305 M1882.74 149.546 L1882.74 164.338 L1878.48 164.338 L1878.48 160.402 Q1877.02 162.763 1874.84 163.898 Q1872.67 165.009 1869.52 165.009 Q1865.54 165.009 1863.18 162.787 Q1860.84 160.541 1860.84 156.791 Q1860.84 152.416 1863.75 150.194 Q1866.69 147.972 1872.5 147.972 L1878.48 147.972 L1878.48 147.555 Q1878.48 144.615 1876.53 143.018 Q1874.61 141.398 1871.12 141.398 Q1868.89 141.398 1866.79 141.93 Q1864.68 142.463 1862.74 143.527 L1862.74 139.592 Q1865.07 138.69 1867.27 138.25 Q1869.47 137.787 1871.56 137.787 Q1877.18 137.787 1879.96 140.703 Q1882.74 143.62 1882.74 149.546 Z\" fill=\"#000000\" fill-rule=\"nonzero\" fill-opacity=\"1\" /><path clip-path=\"url(#clip850)\" d=\"M1891.51 128.319 L1895.77 128.319 L1895.77 164.338 L1891.51 164.338 L1891.51 128.319 Z\" fill=\"#000000\" fill-rule=\"nonzero\" fill-opacity=\"1\" /><path clip-path=\"url(#clip850)\" d=\"M1904.68 138.412 L1908.94 138.412 L1908.94 164.338 L1904.68 164.338 L1904.68 138.412 M1904.68 128.319 L1908.94 128.319 L1908.94 133.713 L1904.68 133.713 L1904.68 128.319 Z\" fill=\"#000000\" fill-rule=\"nonzero\" fill-opacity=\"1\" /><path clip-path=\"url(#clip850)\" d=\"M1916 138.412 L1936.23 138.412 L1936.23 142.301 L1920.21 160.935 L1936.23 160.935 L1936.23 164.338 L1915.42 164.338 L1915.42 160.449 L1931.44 141.815 L1916 141.815 L1916 138.412 Z\" fill=\"#000000\" fill-rule=\"nonzero\" fill-opacity=\"1\" /><path clip-path=\"url(#clip850)\" d=\"M1964.91 150.31 L1964.91 152.393 L1945.33 152.393 Q1945.61 156.791 1947.97 159.106 Q1950.35 161.398 1954.59 161.398 Q1957.04 161.398 1959.33 160.796 Q1961.65 160.194 1963.92 158.99 L1963.92 163.018 Q1961.62 163.99 1959.22 164.5 Q1956.81 165.009 1954.33 165.009 Q1948.13 165.009 1944.5 161.398 Q1940.88 157.787 1940.88 151.629 Q1940.88 145.264 1944.31 141.537 Q1947.76 137.787 1953.59 137.787 Q1958.82 137.787 1961.86 141.166 Q1964.91 144.523 1964.91 150.31 M1960.65 149.06 Q1960.61 145.565 1958.68 143.481 Q1956.79 141.398 1953.64 141.398 Q1950.07 141.398 1947.92 143.412 Q1945.79 145.426 1945.47 149.083 L1960.65 149.06 Z\" fill=\"#000000\" fill-rule=\"nonzero\" fill-opacity=\"1\" /><path clip-path=\"url(#clip850)\" d=\"M1988.96 142.347 L1988.96 128.319 L1993.22 128.319 L1993.22 164.338 L1988.96 164.338 L1988.96 160.449 Q1987.62 162.763 1985.56 163.898 Q1983.52 165.009 1980.65 165.009 Q1975.95 165.009 1972.99 161.259 Q1970.05 157.509 1970.05 151.398 Q1970.05 145.287 1972.99 141.537 Q1975.95 137.787 1980.65 137.787 Q1983.52 137.787 1985.56 138.921 Q1987.62 140.032 1988.96 142.347 M1974.45 151.398 Q1974.45 156.097 1976.37 158.782 Q1978.31 161.444 1981.69 161.444 Q1985.07 161.444 1987.02 158.782 Q1988.96 156.097 1988.96 151.398 Q1988.96 146.699 1987.02 144.037 Q1985.07 141.352 1981.69 141.352 Q1978.31 141.352 1976.37 144.037 Q1974.45 146.699 1974.45 151.398 Z\" fill=\"#000000\" fill-rule=\"nonzero\" fill-opacity=\"1\" /><path clip-path=\"url(#clip850)\" d=\"M2017.25 129.778 L2021.93 129.778 L2021.93 143.944 L2038.92 143.944 L2038.92 129.778 L2043.59 129.778 L2043.59 164.338 L2038.92 164.338 L2038.92 147.879 L2021.93 147.879 L2021.93 164.338 L2017.25 164.338 L2017.25 129.778 Z\" fill=\"#000000\" fill-rule=\"nonzero\" fill-opacity=\"1\" /><path clip-path=\"url(#clip850)\" d=\"M2052.71 138.412 L2056.97 138.412 L2056.97 164.338 L2052.71 164.338 L2052.71 138.412 M2052.71 128.319 L2056.97 128.319 L2056.97 133.713 L2052.71 133.713 L2052.71 128.319 Z\" fill=\"#000000\" fill-rule=\"nonzero\" fill-opacity=\"1\" /><path clip-path=\"url(#clip850)\" d=\"M2082.41 139.176 L2082.41 143.203 Q2080.61 142.277 2078.66 141.815 Q2076.72 141.352 2074.63 141.352 Q2071.46 141.352 2069.86 142.324 Q2068.29 143.296 2068.29 145.24 Q2068.29 146.722 2069.43 147.578 Q2070.56 148.412 2073.99 149.176 L2075.44 149.5 Q2079.98 150.472 2081.88 152.254 Q2083.8 154.014 2083.8 157.185 Q2083.8 160.796 2080.93 162.902 Q2078.08 165.009 2073.08 165.009 Q2071 165.009 2068.73 164.592 Q2066.49 164.199 2063.99 163.388 L2063.99 158.99 Q2066.35 160.217 2068.64 160.842 Q2070.93 161.444 2073.18 161.444 Q2076.18 161.444 2077.8 160.426 Q2079.43 159.384 2079.43 157.509 Q2079.43 155.773 2078.24 154.847 Q2077.09 153.921 2073.13 153.064 L2071.65 152.717 Q2067.69 151.884 2065.93 150.171 Q2064.17 148.435 2064.17 145.426 Q2064.17 141.768 2066.76 139.778 Q2069.36 137.787 2074.12 137.787 Q2076.49 137.787 2078.57 138.134 Q2080.65 138.481 2082.41 139.176 Z\" fill=\"#000000\" fill-rule=\"nonzero\" fill-opacity=\"1\" /><path clip-path=\"url(#clip850)\" d=\"M2094.8 131.051 L2094.8 138.412 L2103.57 138.412 L2103.57 141.722 L2094.8 141.722 L2094.8 155.796 Q2094.8 158.967 2095.65 159.87 Q2096.53 160.773 2099.19 160.773 L2103.57 160.773 L2103.57 164.338 L2099.19 164.338 Q2094.26 164.338 2092.39 162.509 Q2090.51 160.657 2090.51 155.796 L2090.51 141.722 L2087.39 141.722 L2087.39 138.412 L2090.51 138.412 L2090.51 131.051 L2094.8 131.051 Z\" fill=\"#000000\" fill-rule=\"nonzero\" fill-opacity=\"1\" /><path clip-path=\"url(#clip850)\" d=\"M2119.22 141.398 Q2115.79 141.398 2113.8 144.083 Q2111.81 146.745 2111.81 151.398 Q2111.81 156.051 2113.78 158.736 Q2115.77 161.398 2119.22 161.398 Q2122.62 161.398 2124.61 158.713 Q2126.6 156.027 2126.6 151.398 Q2126.6 146.791 2124.61 144.106 Q2122.62 141.398 2119.22 141.398 M2119.22 137.787 Q2124.77 137.787 2127.94 141.398 Q2131.11 145.009 2131.11 151.398 Q2131.11 157.764 2127.94 161.398 Q2124.77 165.009 2119.22 165.009 Q2113.64 165.009 2110.47 161.398 Q2107.32 157.764 2107.32 151.398 Q2107.32 145.009 2110.47 141.398 Q2113.64 137.787 2119.22 137.787 Z\" fill=\"#000000\" fill-rule=\"nonzero\" fill-opacity=\"1\" /><path clip-path=\"url(#clip850)\" d=\"M2155.23 151.074 Q2155.23 146.444 2153.31 143.898 Q2151.42 141.352 2147.97 141.352 Q2144.54 141.352 2142.62 143.898 Q2140.72 146.444 2140.72 151.074 Q2140.72 155.68 2142.62 158.226 Q2144.54 160.773 2147.97 160.773 Q2151.42 160.773 2153.31 158.226 Q2155.23 155.68 2155.23 151.074 M2159.49 161.12 Q2159.49 167.74 2156.55 170.958 Q2153.61 174.199 2147.55 174.199 Q2145.3 174.199 2143.31 173.851 Q2141.32 173.527 2139.45 172.833 L2139.45 168.689 Q2141.32 169.708 2143.15 170.194 Q2144.98 170.68 2146.88 170.68 Q2151.07 170.68 2153.15 168.481 Q2155.23 166.305 2155.23 161.884 L2155.23 159.777 Q2153.92 162.069 2151.86 163.203 Q2149.8 164.338 2146.92 164.338 Q2142.16 164.338 2139.24 160.703 Q2136.32 157.069 2136.32 151.074 Q2136.32 145.055 2139.24 141.421 Q2142.16 137.787 2146.92 137.787 Q2149.8 137.787 2151.86 138.921 Q2153.92 140.055 2155.23 142.347 L2155.23 138.412 L2159.49 138.412 L2159.49 161.12 Z\" fill=\"#000000\" fill-rule=\"nonzero\" fill-opacity=\"1\" /><path clip-path=\"url(#clip850)\" d=\"M2183.29 142.393 Q2182.57 141.977 2181.72 141.791 Q2180.88 141.583 2179.86 141.583 Q2176.25 141.583 2174.31 143.944 Q2172.39 146.282 2172.39 150.68 L2172.39 164.338 L2168.11 164.338 L2168.11 138.412 L2172.39 138.412 L2172.39 142.44 Q2173.73 140.078 2175.88 138.944 Q2178.04 137.787 2181.11 137.787 Q2181.55 137.787 2182.09 137.856 Q2182.62 137.903 2183.27 138.018 L2183.29 142.393 Z\" fill=\"#000000\" fill-rule=\"nonzero\" fill-opacity=\"1\" /><path clip-path=\"url(#clip850)\" d=\"M2199.54 151.305 Q2194.38 151.305 2192.39 152.486 Q2190.4 153.666 2190.4 156.514 Q2190.4 158.782 2191.88 160.125 Q2193.38 161.444 2195.95 161.444 Q2199.49 161.444 2201.62 158.944 Q2203.78 156.421 2203.78 152.254 L2203.78 151.305 L2199.54 151.305 M2208.04 149.546 L2208.04 164.338 L2203.78 164.338 L2203.78 160.402 Q2202.32 162.763 2200.14 163.898 Q2197.97 165.009 2194.82 165.009 Q2190.84 165.009 2188.48 162.787 Q2186.14 160.541 2186.14 156.791 Q2186.14 152.416 2189.05 150.194 Q2191.99 147.972 2197.8 147.972 L2203.78 147.972 L2203.78 147.555 Q2203.78 144.615 2201.83 143.018 Q2199.91 141.398 2196.42 141.398 Q2194.19 141.398 2192.09 141.93 Q2189.98 142.463 2188.04 143.527 L2188.04 139.592 Q2190.37 138.69 2192.57 138.25 Q2194.77 137.787 2196.85 137.787 Q2202.48 137.787 2205.26 140.703 Q2208.04 143.62 2208.04 149.546 Z\" fill=\"#000000\" fill-rule=\"nonzero\" fill-opacity=\"1\" /><path clip-path=\"url(#clip850)\" d=\"M2236.99 143.389 Q2238.59 140.518 2240.81 139.153 Q2243.04 137.787 2246.04 137.787 Q2250.1 137.787 2252.29 140.634 Q2254.49 143.458 2254.49 148.689 L2254.49 164.338 L2250.21 164.338 L2250.21 148.828 Q2250.21 145.102 2248.89 143.296 Q2247.57 141.49 2244.86 141.49 Q2241.55 141.49 2239.63 143.69 Q2237.71 145.889 2237.71 149.685 L2237.71 164.338 L2233.43 164.338 L2233.43 148.828 Q2233.43 145.078 2232.11 143.296 Q2230.79 141.49 2228.04 141.49 Q2224.77 141.49 2222.85 143.713 Q2220.93 145.912 2220.93 149.685 L2220.93 164.338 L2216.65 164.338 L2216.65 138.412 L2220.93 138.412 L2220.93 142.44 Q2222.39 140.055 2224.42 138.921 Q2226.46 137.787 2229.26 137.787 Q2232.09 137.787 2234.05 139.222 Q2236.04 140.657 2236.99 143.389 Z\" fill=\"#000000\" fill-rule=\"nonzero\" fill-opacity=\"1\" /><path clip-path=\"url(#clip850)\" d=\"M1561.38 219.634 L1708.77 219.634 L1708.77 178.162 L1561.38 178.162 L1561.38 219.634  Z\" fill=\"#ffa500\" fill-rule=\"evenodd\" fill-opacity=\"0.5\"/>\n",
       "<polyline clip-path=\"url(#clip850)\" style=\"stroke:#e26f46; stroke-linecap:round; stroke-linejoin:round; stroke-width:4; stroke-opacity:1; fill:none\" points=\"1561.38,178.162 1708.77,178.162 \"/>\n",
       "<path clip-path=\"url(#clip850)\" d=\"M1755.58 182.752 L1755.58 187.312 Q1752.92 186.039 1750.56 185.414 Q1748.2 184.789 1746 184.789 Q1742.18 184.789 1740.1 186.27 Q1738.04 187.752 1738.04 190.483 Q1738.04 192.775 1739.4 193.955 Q1740.79 195.113 1744.64 195.83 L1747.46 196.409 Q1752.69 197.405 1755.17 199.928 Q1757.67 202.428 1757.67 206.641 Q1757.67 211.664 1754.29 214.256 Q1750.93 216.849 1744.43 216.849 Q1741.97 216.849 1739.2 216.293 Q1736.44 215.738 1733.48 214.65 L1733.48 209.835 Q1736.33 211.432 1739.06 212.242 Q1741.79 213.053 1744.43 213.053 Q1748.43 213.053 1750.61 211.479 Q1752.78 209.904 1752.78 206.988 Q1752.78 204.442 1751.21 203.006 Q1749.66 201.571 1746.09 200.854 L1743.25 200.298 Q1738.01 199.256 1735.68 197.034 Q1733.34 194.812 1733.34 190.854 Q1733.34 186.27 1736.56 183.631 Q1739.8 180.993 1745.47 180.993 Q1747.9 180.993 1750.42 181.432 Q1752.95 181.872 1755.58 182.752 Z\" fill=\"#000000\" fill-rule=\"nonzero\" fill-opacity=\"1\" /><path clip-path=\"url(#clip850)\" d=\"M1768.99 182.891 L1768.99 190.252 L1777.76 190.252 L1777.76 193.562 L1768.99 193.562 L1768.99 207.636 Q1768.99 210.807 1769.84 211.71 Q1770.72 212.613 1773.39 212.613 L1777.76 212.613 L1777.76 216.178 L1773.39 216.178 Q1768.45 216.178 1766.58 214.349 Q1764.7 212.497 1764.7 207.636 L1764.7 193.562 L1761.58 193.562 L1761.58 190.252 L1764.7 190.252 L1764.7 182.891 L1768.99 182.891 Z\" fill=\"#000000\" fill-rule=\"nonzero\" fill-opacity=\"1\" /><path clip-path=\"url(#clip850)\" d=\"M1795.14 203.145 Q1789.98 203.145 1787.99 204.326 Q1786 205.506 1786 208.354 Q1786 210.622 1787.48 211.965 Q1788.99 213.284 1791.56 213.284 Q1795.1 213.284 1797.23 210.784 Q1799.38 208.261 1799.38 204.094 L1799.38 203.145 L1795.14 203.145 M1803.64 201.386 L1803.64 216.178 L1799.38 216.178 L1799.38 212.242 Q1797.92 214.603 1795.75 215.738 Q1793.57 216.849 1790.42 216.849 Q1786.44 216.849 1784.08 214.627 Q1781.74 212.381 1781.74 208.631 Q1781.74 204.256 1784.66 202.034 Q1787.6 199.812 1793.41 199.812 L1799.38 199.812 L1799.38 199.395 Q1799.38 196.455 1797.44 194.858 Q1795.51 193.238 1792.02 193.238 Q1789.8 193.238 1787.69 193.77 Q1785.58 194.303 1783.64 195.367 L1783.64 191.432 Q1785.98 190.53 1788.18 190.09 Q1790.38 189.627 1792.46 189.627 Q1798.08 189.627 1800.86 192.543 Q1803.64 195.46 1803.64 201.386 Z\" fill=\"#000000\" fill-rule=\"nonzero\" fill-opacity=\"1\" /><path clip-path=\"url(#clip850)\" d=\"M1833.96 200.529 L1833.96 216.178 L1829.7 216.178 L1829.7 200.668 Q1829.7 196.988 1828.27 195.159 Q1826.83 193.33 1823.96 193.33 Q1820.51 193.33 1818.52 195.53 Q1816.53 197.729 1816.53 201.525 L1816.53 216.178 L1812.25 216.178 L1812.25 190.252 L1816.53 190.252 L1816.53 194.28 Q1818.06 191.942 1820.12 190.784 Q1822.2 189.627 1824.91 189.627 Q1829.38 189.627 1831.67 192.405 Q1833.96 195.159 1833.96 200.529 Z\" fill=\"#000000\" fill-rule=\"nonzero\" fill-opacity=\"1\" /><path clip-path=\"url(#clip850)\" d=\"M1859.52 194.187 L1859.52 180.159 L1863.78 180.159 L1863.78 216.178 L1859.52 216.178 L1859.52 212.289 Q1858.18 214.603 1856.12 215.738 Q1854.08 216.849 1851.21 216.849 Q1846.51 216.849 1843.55 213.099 Q1840.61 209.349 1840.61 203.238 Q1840.61 197.127 1843.55 193.377 Q1846.51 189.627 1851.21 189.627 Q1854.08 189.627 1856.12 190.761 Q1858.18 191.872 1859.52 194.187 M1845.01 203.238 Q1845.01 207.937 1846.93 210.622 Q1848.87 213.284 1852.25 213.284 Q1855.63 213.284 1857.57 210.622 Q1859.52 207.937 1859.52 203.238 Q1859.52 198.539 1857.57 195.877 Q1855.63 193.192 1852.25 193.192 Q1848.87 193.192 1846.93 195.877 Q1845.01 198.539 1845.01 203.238 Z\" fill=\"#000000\" fill-rule=\"nonzero\" fill-opacity=\"1\" /><path clip-path=\"url(#clip850)\" d=\"M1884.33 203.145 Q1879.17 203.145 1877.18 204.326 Q1875.19 205.506 1875.19 208.354 Q1875.19 210.622 1876.67 211.965 Q1878.18 213.284 1880.75 213.284 Q1884.29 213.284 1886.42 210.784 Q1888.57 208.261 1888.57 204.094 L1888.57 203.145 L1884.33 203.145 M1892.83 201.386 L1892.83 216.178 L1888.57 216.178 L1888.57 212.242 Q1887.11 214.603 1884.94 215.738 Q1882.76 216.849 1879.61 216.849 Q1875.63 216.849 1873.27 214.627 Q1870.93 212.381 1870.93 208.631 Q1870.93 204.256 1873.85 202.034 Q1876.79 199.812 1882.6 199.812 L1888.57 199.812 L1888.57 199.395 Q1888.57 196.455 1886.63 194.858 Q1884.7 193.238 1881.21 193.238 Q1878.99 193.238 1876.88 193.77 Q1874.77 194.303 1872.83 195.367 L1872.83 191.432 Q1875.17 190.53 1877.37 190.09 Q1879.57 189.627 1881.65 189.627 Q1887.27 189.627 1890.05 192.543 Q1892.83 195.46 1892.83 201.386 Z\" fill=\"#000000\" fill-rule=\"nonzero\" fill-opacity=\"1\" /><path clip-path=\"url(#clip850)\" d=\"M1916.62 194.233 Q1915.91 193.817 1915.05 193.631 Q1914.22 193.423 1913.2 193.423 Q1909.59 193.423 1907.64 195.784 Q1905.72 198.122 1905.72 202.52 L1905.72 216.178 L1901.44 216.178 L1901.44 190.252 L1905.72 190.252 L1905.72 194.28 Q1907.06 191.918 1909.22 190.784 Q1911.37 189.627 1914.45 189.627 Q1914.89 189.627 1915.42 189.696 Q1915.95 189.743 1916.6 189.858 L1916.62 194.233 Z\" fill=\"#000000\" fill-rule=\"nonzero\" fill-opacity=\"1\" /><path clip-path=\"url(#clip850)\" d=\"M1937.32 194.187 L1937.32 180.159 L1941.58 180.159 L1941.58 216.178 L1937.32 216.178 L1937.32 212.289 Q1935.98 214.603 1933.92 215.738 Q1931.88 216.849 1929.01 216.849 Q1924.31 216.849 1921.35 213.099 Q1918.41 209.349 1918.41 203.238 Q1918.41 197.127 1921.35 193.377 Q1924.31 189.627 1929.01 189.627 Q1931.88 189.627 1933.92 190.761 Q1935.98 191.872 1937.32 194.187 M1922.81 203.238 Q1922.81 207.937 1924.73 210.622 Q1926.67 213.284 1930.05 213.284 Q1933.43 213.284 1935.37 210.622 Q1937.32 207.937 1937.32 203.238 Q1937.32 198.539 1935.37 195.877 Q1933.43 193.192 1930.05 193.192 Q1926.67 193.192 1924.73 195.877 Q1922.81 198.539 1922.81 203.238 Z\" fill=\"#000000\" fill-rule=\"nonzero\" fill-opacity=\"1\" /><path clip-path=\"url(#clip850)\" d=\"M1965.61 181.618 L1971.9 181.618 L1987.23 210.529 L1987.23 181.618 L1991.76 181.618 L1991.76 216.178 L1985.47 216.178 L1970.14 187.266 L1970.14 216.178 L1965.61 216.178 L1965.61 181.618 Z\" fill=\"#000000\" fill-rule=\"nonzero\" fill-opacity=\"1\" /><path clip-path=\"url(#clip850)\" d=\"M2010.93 193.238 Q2007.5 193.238 2005.51 195.923 Q2003.52 198.585 2003.52 203.238 Q2003.52 207.891 2005.49 210.576 Q2007.48 213.238 2010.93 213.238 Q2014.33 213.238 2016.32 210.553 Q2018.31 207.867 2018.31 203.238 Q2018.31 198.631 2016.32 195.946 Q2014.33 193.238 2010.93 193.238 M2010.93 189.627 Q2016.49 189.627 2019.66 193.238 Q2022.83 196.849 2022.83 203.238 Q2022.83 209.604 2019.66 213.238 Q2016.49 216.849 2010.93 216.849 Q2005.35 216.849 2002.18 213.238 Q1999.03 209.604 1999.03 203.238 Q1999.03 196.849 2002.18 193.238 Q2005.35 189.627 2010.93 189.627 Z\" fill=\"#000000\" fill-rule=\"nonzero\" fill-opacity=\"1\" /><path clip-path=\"url(#clip850)\" d=\"M2044.91 194.233 Q2044.19 193.817 2043.34 193.631 Q2042.5 193.423 2041.49 193.423 Q2037.87 193.423 2035.93 195.784 Q2034.01 198.122 2034.01 202.52 L2034.01 216.178 L2029.73 216.178 L2029.73 190.252 L2034.01 190.252 L2034.01 194.28 Q2035.35 191.918 2037.5 190.784 Q2039.66 189.627 2042.74 189.627 Q2043.18 189.627 2043.71 189.696 Q2044.24 189.743 2044.89 189.858 L2044.91 194.233 Z\" fill=\"#000000\" fill-rule=\"nonzero\" fill-opacity=\"1\" /><path clip-path=\"url(#clip850)\" d=\"M2068.73 195.229 Q2070.33 192.358 2072.55 190.993 Q2074.77 189.627 2077.78 189.627 Q2081.83 189.627 2084.03 192.474 Q2086.23 195.298 2086.23 200.529 L2086.23 216.178 L2081.95 216.178 L2081.95 200.668 Q2081.95 196.942 2080.63 195.136 Q2079.31 193.33 2076.6 193.33 Q2073.29 193.33 2071.37 195.53 Q2069.45 197.729 2069.45 201.525 L2069.45 216.178 L2065.17 216.178 L2065.17 200.668 Q2065.17 196.918 2063.85 195.136 Q2062.53 193.33 2059.77 193.33 Q2056.51 193.33 2054.59 195.553 Q2052.67 197.752 2052.67 201.525 L2052.67 216.178 L2048.38 216.178 L2048.38 190.252 L2052.67 190.252 L2052.67 194.28 Q2054.12 191.895 2056.16 190.761 Q2058.2 189.627 2061 189.627 Q2063.82 189.627 2065.79 191.062 Q2067.78 192.497 2068.73 195.229 Z\" fill=\"#000000\" fill-rule=\"nonzero\" fill-opacity=\"1\" /><path clip-path=\"url(#clip850)\" d=\"M2106.51 203.145 Q2101.35 203.145 2099.36 204.326 Q2097.36 205.506 2097.36 208.354 Q2097.36 210.622 2098.85 211.965 Q2100.35 213.284 2102.92 213.284 Q2106.46 213.284 2108.59 210.784 Q2110.74 208.261 2110.74 204.094 L2110.74 203.145 L2106.51 203.145 M2115 201.386 L2115 216.178 L2110.74 216.178 L2110.74 212.242 Q2109.29 214.603 2107.11 215.738 Q2104.93 216.849 2101.79 216.849 Q2097.8 216.849 2095.44 214.627 Q2093.11 212.381 2093.11 208.631 Q2093.11 204.256 2096.02 202.034 Q2098.96 199.812 2104.77 199.812 L2110.74 199.812 L2110.74 199.395 Q2110.74 196.455 2108.8 194.858 Q2106.88 193.238 2103.38 193.238 Q2101.16 193.238 2099.05 193.77 Q2096.95 194.303 2095 195.367 L2095 191.432 Q2097.34 190.53 2099.54 190.09 Q2101.74 189.627 2103.82 189.627 Q2109.45 189.627 2112.23 192.543 Q2115 195.46 2115 201.386 Z\" fill=\"#000000\" fill-rule=\"nonzero\" fill-opacity=\"1\" /><path clip-path=\"url(#clip850)\" d=\"M2123.78 180.159 L2128.04 180.159 L2128.04 216.178 L2123.78 216.178 L2123.78 180.159 Z\" fill=\"#000000\" fill-rule=\"nonzero\" fill-opacity=\"1\" /><path clip-path=\"url(#clip850)\" d=\"M2156.88 185.46 L2156.88 198.446 L2162.76 198.446 Q2166.02 198.446 2167.8 196.756 Q2169.59 195.067 2169.59 191.942 Q2169.59 188.84 2167.8 187.15 Q2166.02 185.46 2162.76 185.46 L2156.88 185.46 M2152.2 181.618 L2162.76 181.618 Q2168.57 181.618 2171.53 184.256 Q2174.52 186.872 2174.52 191.942 Q2174.52 197.057 2171.53 199.673 Q2168.57 202.289 2162.76 202.289 L2156.88 202.289 L2156.88 216.178 L2152.2 216.178 L2152.2 181.618 Z\" fill=\"#000000\" fill-rule=\"nonzero\" fill-opacity=\"1\" /><path clip-path=\"url(#clip850)\" d=\"M2185.47 185.46 L2185.47 212.335 L2191.11 212.335 Q2198.27 212.335 2201.58 209.094 Q2204.91 205.854 2204.91 198.863 Q2204.91 191.918 2201.58 188.701 Q2198.27 185.46 2191.11 185.46 L2185.47 185.46 M2180.79 181.618 L2190.4 181.618 Q2200.44 181.618 2205.14 185.807 Q2209.84 189.974 2209.84 198.863 Q2209.84 207.798 2205.12 211.988 Q2200.4 216.178 2190.4 216.178 L2180.79 216.178 L2180.79 181.618 Z\" fill=\"#000000\" fill-rule=\"nonzero\" fill-opacity=\"1\" /><path clip-path=\"url(#clip850)\" d=\"M2217.29 181.618 L2237.16 181.618 L2237.16 185.553 L2221.97 185.553 L2221.97 195.738 L2235.67 195.738 L2235.67 199.673 L2221.97 199.673 L2221.97 216.178 L2217.29 216.178 L2217.29 181.618 Z\" fill=\"#000000\" fill-rule=\"nonzero\" fill-opacity=\"1\" /></svg>\n"
      ],
      "text/html": [
       "<?xml version=\"1.0\" encoding=\"utf-8\"?>\n",
       "<svg xmlns=\"http://www.w3.org/2000/svg\" xmlns:xlink=\"http://www.w3.org/1999/xlink\" width=\"600\" height=\"400\" viewBox=\"0 0 2400 1600\">\n",
       "<defs>\n",
       "  <clipPath id=\"clip900\">\n",
       "    <rect x=\"0\" y=\"0\" width=\"2400\" height=\"1600\"/>\n",
       "  </clipPath>\n",
       "</defs>\n",
       "<path clip-path=\"url(#clip900)\" d=\"M0 1600 L2400 1600 L2400 0 L0 0  Z\" fill=\"#ffffff\" fill-rule=\"evenodd\" fill-opacity=\"1\"/>\n",
       "<defs>\n",
       "  <clipPath id=\"clip901\">\n",
       "    <rect x=\"480\" y=\"0\" width=\"1681\" height=\"1600\"/>\n",
       "  </clipPath>\n",
       "</defs>\n",
       "<path clip-path=\"url(#clip900)\" d=\"M141.853 1486.45 L2352.76 1486.45 L2352.76 47.2441 L141.853 47.2441  Z\" fill=\"#ffffff\" fill-rule=\"evenodd\" fill-opacity=\"1\"/>\n",
       "<defs>\n",
       "  <clipPath id=\"clip902\">\n",
       "    <rect x=\"141\" y=\"47\" width=\"2212\" height=\"1440\"/>\n",
       "  </clipPath>\n",
       "</defs>\n",
       "<polyline clip-path=\"url(#clip902)\" style=\"stroke:#000000; stroke-linecap:round; stroke-linejoin:round; stroke-width:2; stroke-opacity:0.1; fill:none\" points=\"406.051,1486.45 406.051,47.2441 \"/>\n",
       "<polyline clip-path=\"url(#clip902)\" style=\"stroke:#000000; stroke-linecap:round; stroke-linejoin:round; stroke-width:2; stroke-opacity:0.1; fill:none\" points=\"686.469,1486.45 686.469,47.2441 \"/>\n",
       "<polyline clip-path=\"url(#clip902)\" style=\"stroke:#000000; stroke-linecap:round; stroke-linejoin:round; stroke-width:2; stroke-opacity:0.1; fill:none\" points=\"966.887,1486.45 966.887,47.2441 \"/>\n",
       "<polyline clip-path=\"url(#clip902)\" style=\"stroke:#000000; stroke-linecap:round; stroke-linejoin:round; stroke-width:2; stroke-opacity:0.1; fill:none\" points=\"1247.3,1486.45 1247.3,47.2441 \"/>\n",
       "<polyline clip-path=\"url(#clip902)\" style=\"stroke:#000000; stroke-linecap:round; stroke-linejoin:round; stroke-width:2; stroke-opacity:0.1; fill:none\" points=\"1527.72,1486.45 1527.72,47.2441 \"/>\n",
       "<polyline clip-path=\"url(#clip902)\" style=\"stroke:#000000; stroke-linecap:round; stroke-linejoin:round; stroke-width:2; stroke-opacity:0.1; fill:none\" points=\"1808.14,1486.45 1808.14,47.2441 \"/>\n",
       "<polyline clip-path=\"url(#clip902)\" style=\"stroke:#000000; stroke-linecap:round; stroke-linejoin:round; stroke-width:2; stroke-opacity:0.1; fill:none\" points=\"2088.56,1486.45 2088.56,47.2441 \"/>\n",
       "<polyline clip-path=\"url(#clip900)\" style=\"stroke:#000000; stroke-linecap:round; stroke-linejoin:round; stroke-width:4; stroke-opacity:1; fill:none\" points=\"141.853,1486.45 2352.76,1486.45 \"/>\n",
       "<polyline clip-path=\"url(#clip900)\" style=\"stroke:#000000; stroke-linecap:round; stroke-linejoin:round; stroke-width:4; stroke-opacity:1; fill:none\" points=\"406.051,1486.45 406.051,1467.55 \"/>\n",
       "<polyline clip-path=\"url(#clip900)\" style=\"stroke:#000000; stroke-linecap:round; stroke-linejoin:round; stroke-width:4; stroke-opacity:1; fill:none\" points=\"686.469,1486.45 686.469,1467.55 \"/>\n",
       "<polyline clip-path=\"url(#clip900)\" style=\"stroke:#000000; stroke-linecap:round; stroke-linejoin:round; stroke-width:4; stroke-opacity:1; fill:none\" points=\"966.887,1486.45 966.887,1467.55 \"/>\n",
       "<polyline clip-path=\"url(#clip900)\" style=\"stroke:#000000; stroke-linecap:round; stroke-linejoin:round; stroke-width:4; stroke-opacity:1; fill:none\" points=\"1247.3,1486.45 1247.3,1467.55 \"/>\n",
       "<polyline clip-path=\"url(#clip900)\" style=\"stroke:#000000; stroke-linecap:round; stroke-linejoin:round; stroke-width:4; stroke-opacity:1; fill:none\" points=\"1527.72,1486.45 1527.72,1467.55 \"/>\n",
       "<polyline clip-path=\"url(#clip900)\" style=\"stroke:#000000; stroke-linecap:round; stroke-linejoin:round; stroke-width:4; stroke-opacity:1; fill:none\" points=\"1808.14,1486.45 1808.14,1467.55 \"/>\n",
       "<polyline clip-path=\"url(#clip900)\" style=\"stroke:#000000; stroke-linecap:round; stroke-linejoin:round; stroke-width:4; stroke-opacity:1; fill:none\" points=\"2088.56,1486.45 2088.56,1467.55 \"/>\n",
       "<path clip-path=\"url(#clip900)\" d=\"M375.519 1532.02 L405.194 1532.02 L405.194 1535.95 L375.519 1535.95 L375.519 1532.02 Z\" fill=\"#000000\" fill-rule=\"nonzero\" fill-opacity=\"1\" /><path clip-path=\"url(#clip900)\" d=\"M429.453 1530.21 Q432.81 1530.93 434.685 1533.2 Q436.583 1535.47 436.583 1538.8 Q436.583 1543.92 433.064 1546.72 Q429.546 1549.52 423.065 1549.52 Q420.889 1549.52 418.574 1549.08 Q416.282 1548.66 413.828 1547.81 L413.828 1543.29 Q415.773 1544.43 418.088 1545.01 Q420.403 1545.58 422.926 1545.58 Q427.324 1545.58 429.615 1543.85 Q431.93 1542.11 431.93 1538.8 Q431.93 1535.75 429.777 1534.03 Q427.648 1532.3 423.828 1532.3 L419.801 1532.3 L419.801 1528.45 L424.014 1528.45 Q427.463 1528.45 429.291 1527.09 Q431.12 1525.7 431.12 1523.11 Q431.12 1520.45 429.222 1519.03 Q427.347 1517.6 423.828 1517.6 Q421.907 1517.6 419.708 1518.01 Q417.509 1518.43 414.87 1519.31 L414.87 1515.14 Q417.532 1514.4 419.847 1514.03 Q422.185 1513.66 424.245 1513.66 Q429.569 1513.66 432.671 1516.09 Q435.773 1518.5 435.773 1522.62 Q435.773 1525.49 434.129 1527.48 Q432.486 1529.45 429.453 1530.21 Z\" fill=\"#000000\" fill-rule=\"nonzero\" fill-opacity=\"1\" /><path clip-path=\"url(#clip900)\" d=\"M656.411 1532.02 L686.087 1532.02 L686.087 1535.95 L656.411 1535.95 L656.411 1532.02 Z\" fill=\"#000000\" fill-rule=\"nonzero\" fill-opacity=\"1\" /><path clip-path=\"url(#clip900)\" d=\"M700.207 1544.91 L716.526 1544.91 L716.526 1548.85 L694.582 1548.85 L694.582 1544.91 Q697.244 1542.16 701.827 1537.53 Q706.434 1532.88 707.614 1531.53 Q709.86 1529.01 710.739 1527.27 Q711.642 1525.51 711.642 1523.82 Q711.642 1521.07 709.698 1519.33 Q707.776 1517.6 704.675 1517.6 Q702.476 1517.6 700.022 1518.36 Q697.591 1519.13 694.814 1520.68 L694.814 1515.95 Q697.638 1514.82 700.091 1514.24 Q702.545 1513.66 704.582 1513.66 Q709.952 1513.66 713.147 1516.35 Q716.341 1519.03 716.341 1523.52 Q716.341 1525.65 715.531 1527.57 Q714.744 1529.47 712.637 1532.07 Q712.059 1532.74 708.957 1535.95 Q705.855 1539.15 700.207 1544.91 Z\" fill=\"#000000\" fill-rule=\"nonzero\" fill-opacity=\"1\" /><path clip-path=\"url(#clip900)\" d=\"M936.644 1532.02 L966.319 1532.02 L966.319 1535.95 L936.644 1535.95 L936.644 1532.02 Z\" fill=\"#000000\" fill-rule=\"nonzero\" fill-opacity=\"1\" /><path clip-path=\"url(#clip900)\" d=\"M977.222 1544.91 L984.861 1544.91 L984.861 1518.55 L976.551 1520.21 L976.551 1515.95 L984.815 1514.29 L989.491 1514.29 L989.491 1544.91 L997.129 1544.91 L997.129 1548.85 L977.222 1548.85 L977.222 1544.91 Z\" fill=\"#000000\" fill-rule=\"nonzero\" fill-opacity=\"1\" /><path clip-path=\"url(#clip900)\" d=\"M1247.3 1517.37 Q1243.69 1517.37 1241.86 1520.93 Q1240.06 1524.47 1240.06 1531.6 Q1240.06 1538.71 1241.86 1542.27 Q1243.69 1545.82 1247.3 1545.82 Q1250.94 1545.82 1252.74 1542.27 Q1254.57 1538.71 1254.57 1531.6 Q1254.57 1524.47 1252.74 1520.93 Q1250.94 1517.37 1247.3 1517.37 M1247.3 1513.66 Q1253.11 1513.66 1256.17 1518.27 Q1259.25 1522.85 1259.25 1531.6 Q1259.25 1540.33 1256.17 1544.94 Q1253.11 1549.52 1247.3 1549.52 Q1241.49 1549.52 1238.42 1544.94 Q1235.36 1540.33 1235.36 1531.6 Q1235.36 1522.85 1238.42 1518.27 Q1241.49 1513.66 1247.3 1513.66 Z\" fill=\"#000000\" fill-rule=\"nonzero\" fill-opacity=\"1\" /><path clip-path=\"url(#clip900)\" d=\"M1518.1 1544.91 L1525.74 1544.91 L1525.74 1518.55 L1517.43 1520.21 L1517.43 1515.95 L1525.7 1514.29 L1530.37 1514.29 L1530.37 1544.91 L1538.01 1544.91 L1538.01 1548.85 L1518.1 1548.85 L1518.1 1544.91 Z\" fill=\"#000000\" fill-rule=\"nonzero\" fill-opacity=\"1\" /><path clip-path=\"url(#clip900)\" d=\"M1802.79 1544.91 L1819.11 1544.91 L1819.11 1548.85 L1797.17 1548.85 L1797.17 1544.91 Q1799.83 1542.16 1804.41 1537.53 Q1809.02 1532.88 1810.2 1531.53 Q1812.45 1529.01 1813.33 1527.27 Q1814.23 1525.51 1814.23 1523.82 Q1814.23 1521.07 1812.28 1519.33 Q1810.36 1517.6 1807.26 1517.6 Q1805.06 1517.6 1802.61 1518.36 Q1800.18 1519.13 1797.4 1520.68 L1797.4 1515.95 Q1800.22 1514.82 1802.68 1514.24 Q1805.13 1513.66 1807.17 1513.66 Q1812.54 1513.66 1815.73 1516.35 Q1818.93 1519.03 1818.93 1523.52 Q1818.93 1525.65 1818.12 1527.57 Q1817.33 1529.47 1815.22 1532.07 Q1814.64 1532.74 1811.54 1535.95 Q1808.44 1539.15 1802.79 1544.91 Z\" fill=\"#000000\" fill-rule=\"nonzero\" fill-opacity=\"1\" /><path clip-path=\"url(#clip900)\" d=\"M2092.81 1530.21 Q2096.16 1530.93 2098.04 1533.2 Q2099.94 1535.47 2099.94 1538.8 Q2099.94 1543.92 2096.42 1546.72 Q2092.9 1549.52 2086.42 1549.52 Q2084.24 1549.52 2081.93 1549.08 Q2079.63 1548.66 2077.18 1547.81 L2077.18 1543.29 Q2079.13 1544.43 2081.44 1545.01 Q2083.75 1545.58 2086.28 1545.58 Q2090.68 1545.58 2092.97 1543.85 Q2095.28 1542.11 2095.28 1538.8 Q2095.28 1535.75 2093.13 1534.03 Q2091 1532.3 2087.18 1532.3 L2083.15 1532.3 L2083.15 1528.45 L2087.37 1528.45 Q2090.82 1528.45 2092.64 1527.09 Q2094.47 1525.7 2094.47 1523.11 Q2094.47 1520.45 2092.57 1519.03 Q2090.7 1517.6 2087.18 1517.6 Q2085.26 1517.6 2083.06 1518.01 Q2080.86 1518.43 2078.22 1519.31 L2078.22 1515.14 Q2080.88 1514.4 2083.2 1514.03 Q2085.54 1513.66 2087.6 1513.66 Q2092.92 1513.66 2096.02 1516.09 Q2099.13 1518.5 2099.13 1522.62 Q2099.13 1525.49 2097.48 1527.48 Q2095.84 1529.45 2092.81 1530.21 Z\" fill=\"#000000\" fill-rule=\"nonzero\" fill-opacity=\"1\" /><polyline clip-path=\"url(#clip902)\" style=\"stroke:#000000; stroke-linecap:round; stroke-linejoin:round; stroke-width:2; stroke-opacity:0.1; fill:none\" points=\"141.853,1486.45 2352.76,1486.45 \"/>\n",
       "<polyline clip-path=\"url(#clip902)\" style=\"stroke:#000000; stroke-linecap:round; stroke-linejoin:round; stroke-width:2; stroke-opacity:0.1; fill:none\" points=\"141.853,1159.36 2352.76,1159.36 \"/>\n",
       "<polyline clip-path=\"url(#clip902)\" style=\"stroke:#000000; stroke-linecap:round; stroke-linejoin:round; stroke-width:2; stroke-opacity:0.1; fill:none\" points=\"141.853,832.264 2352.76,832.264 \"/>\n",
       "<polyline clip-path=\"url(#clip902)\" style=\"stroke:#000000; stroke-linecap:round; stroke-linejoin:round; stroke-width:2; stroke-opacity:0.1; fill:none\" points=\"141.853,505.173 2352.76,505.173 \"/>\n",
       "<polyline clip-path=\"url(#clip902)\" style=\"stroke:#000000; stroke-linecap:round; stroke-linejoin:round; stroke-width:2; stroke-opacity:0.1; fill:none\" points=\"141.853,178.081 2352.76,178.081 \"/>\n",
       "<polyline clip-path=\"url(#clip900)\" style=\"stroke:#000000; stroke-linecap:round; stroke-linejoin:round; stroke-width:4; stroke-opacity:1; fill:none\" points=\"141.853,1486.45 141.853,47.2441 \"/>\n",
       "<polyline clip-path=\"url(#clip900)\" style=\"stroke:#000000; stroke-linecap:round; stroke-linejoin:round; stroke-width:4; stroke-opacity:1; fill:none\" points=\"141.853,1486.45 160.751,1486.45 \"/>\n",
       "<polyline clip-path=\"url(#clip900)\" style=\"stroke:#000000; stroke-linecap:round; stroke-linejoin:round; stroke-width:4; stroke-opacity:1; fill:none\" points=\"141.853,1159.36 160.751,1159.36 \"/>\n",
       "<polyline clip-path=\"url(#clip900)\" style=\"stroke:#000000; stroke-linecap:round; stroke-linejoin:round; stroke-width:4; stroke-opacity:1; fill:none\" points=\"141.853,832.264 160.751,832.264 \"/>\n",
       "<polyline clip-path=\"url(#clip900)\" style=\"stroke:#000000; stroke-linecap:round; stroke-linejoin:round; stroke-width:4; stroke-opacity:1; fill:none\" points=\"141.853,505.173 160.751,505.173 \"/>\n",
       "<polyline clip-path=\"url(#clip900)\" style=\"stroke:#000000; stroke-linecap:round; stroke-linejoin:round; stroke-width:4; stroke-opacity:1; fill:none\" points=\"141.853,178.081 160.751,178.081 \"/>\n",
       "<path clip-path=\"url(#clip900)\" d=\"M93.9086 1472.25 Q90.2975 1472.25 88.4688 1475.81 Q86.6632 1479.35 86.6632 1486.48 Q86.6632 1493.59 88.4688 1497.15 Q90.2975 1500.7 93.9086 1500.7 Q97.5428 1500.7 99.3483 1497.15 Q101.177 1493.59 101.177 1486.48 Q101.177 1479.35 99.3483 1475.81 Q97.5428 1472.25 93.9086 1472.25 M93.9086 1468.54 Q99.7187 1468.54 102.774 1473.15 Q105.853 1477.73 105.853 1486.48 Q105.853 1495.21 102.774 1499.82 Q99.7187 1504.4 93.9086 1504.4 Q88.0984 1504.4 85.0197 1499.82 Q81.9642 1495.21 81.9642 1486.48 Q81.9642 1477.73 85.0197 1473.15 Q88.0984 1468.54 93.9086 1468.54 Z\" fill=\"#000000\" fill-rule=\"nonzero\" fill-opacity=\"1\" /><path clip-path=\"url(#clip900)\" d=\"M57.7745 1172.7 L74.0939 1172.7 L74.0939 1176.64 L52.1495 1176.64 L52.1495 1172.7 Q54.8115 1169.95 59.3949 1165.32 Q64.0013 1160.66 65.1819 1159.32 Q67.4272 1156.8 68.3068 1155.06 Q69.2096 1153.3 69.2096 1151.61 Q69.2096 1148.86 67.2652 1147.12 Q65.3439 1145.39 62.2421 1145.39 Q60.043 1145.39 57.5893 1146.15 Q55.1588 1146.91 52.381 1148.46 L52.381 1143.74 Q55.2051 1142.61 57.6588 1142.03 Q60.1124 1141.45 62.1495 1141.45 Q67.5198 1141.45 70.7142 1144.14 Q73.9087 1146.82 73.9087 1151.31 Q73.9087 1153.44 73.0985 1155.36 Q72.3115 1157.26 70.205 1159.85 Q69.6263 1160.53 66.5245 1163.74 Q63.4226 1166.94 57.7745 1172.7 Z\" fill=\"#000000\" fill-rule=\"nonzero\" fill-opacity=\"1\" /><path clip-path=\"url(#clip900)\" d=\"M93.9086 1145.15 Q90.2975 1145.15 88.4688 1148.72 Q86.6632 1152.26 86.6632 1159.39 Q86.6632 1166.5 88.4688 1170.06 Q90.2975 1173.6 93.9086 1173.6 Q97.5428 1173.6 99.3483 1170.06 Q101.177 1166.5 101.177 1159.39 Q101.177 1152.26 99.3483 1148.72 Q97.5428 1145.15 93.9086 1145.15 M93.9086 1141.45 Q99.7187 1141.45 102.774 1146.06 Q105.853 1150.64 105.853 1159.39 Q105.853 1168.12 102.774 1172.72 Q99.7187 1177.31 93.9086 1177.31 Q88.0984 1177.31 85.0197 1172.72 Q81.9642 1168.12 81.9642 1159.39 Q81.9642 1150.64 85.0197 1146.06 Q88.0984 1141.45 93.9086 1141.45 Z\" fill=\"#000000\" fill-rule=\"nonzero\" fill-opacity=\"1\" /><path clip-path=\"url(#clip900)\" d=\"M66.5939 819.058 L54.7884 837.507 L66.5939 837.507 L66.5939 819.058 M65.367 814.984 L71.2466 814.984 L71.2466 837.507 L76.1772 837.507 L76.1772 841.396 L71.2466 841.396 L71.2466 849.544 L66.5939 849.544 L66.5939 841.396 L50.9921 841.396 L50.9921 836.882 L65.367 814.984 Z\" fill=\"#000000\" fill-rule=\"nonzero\" fill-opacity=\"1\" /><path clip-path=\"url(#clip900)\" d=\"M93.9086 818.063 Q90.2975 818.063 88.4688 821.628 Q86.6632 825.169 86.6632 832.299 Q86.6632 839.406 88.4688 842.97 Q90.2975 846.512 93.9086 846.512 Q97.5428 846.512 99.3483 842.97 Q101.177 839.406 101.177 832.299 Q101.177 825.169 99.3483 821.628 Q97.5428 818.063 93.9086 818.063 M93.9086 814.359 Q99.7187 814.359 102.774 818.966 Q105.853 823.549 105.853 832.299 Q105.853 841.026 102.774 845.632 Q99.7187 850.216 93.9086 850.216 Q88.0984 850.216 85.0197 845.632 Q81.9642 841.026 81.9642 832.299 Q81.9642 823.549 85.0197 818.966 Q88.0984 814.359 93.9086 814.359 Z\" fill=\"#000000\" fill-rule=\"nonzero\" fill-opacity=\"1\" /><path clip-path=\"url(#clip900)\" d=\"M64.3254 503.309 Q61.1773 503.309 59.3254 505.462 Q57.4967 507.615 57.4967 511.365 Q57.4967 515.091 59.3254 517.267 Q61.1773 519.42 64.3254 519.42 Q67.4735 519.42 69.3022 517.267 Q71.1541 515.091 71.1541 511.365 Q71.1541 507.615 69.3022 505.462 Q67.4735 503.309 64.3254 503.309 M73.6077 488.656 L73.6077 492.916 Q71.8485 492.082 70.0429 491.643 Q68.2606 491.203 66.5013 491.203 Q61.8717 491.203 59.418 494.328 Q56.9875 497.453 56.6402 503.772 Q58.006 501.758 60.0662 500.693 Q62.1263 499.605 64.6032 499.605 Q69.8115 499.605 72.8207 502.777 Q75.8531 505.925 75.8531 511.365 Q75.8531 516.689 72.705 519.906 Q69.5568 523.124 64.3254 523.124 Q58.33 523.124 55.1588 518.541 Q51.9875 513.934 51.9875 505.207 Q51.9875 497.013 55.8764 492.152 Q59.7652 487.268 66.3161 487.268 Q68.0754 487.268 69.8578 487.615 Q71.6633 487.962 73.6077 488.656 Z\" fill=\"#000000\" fill-rule=\"nonzero\" fill-opacity=\"1\" /><path clip-path=\"url(#clip900)\" d=\"M93.9086 490.971 Q90.2975 490.971 88.4688 494.536 Q86.6632 498.078 86.6632 505.207 Q86.6632 512.314 88.4688 515.879 Q90.2975 519.42 93.9086 519.42 Q97.5428 519.42 99.3483 515.879 Q101.177 512.314 101.177 505.207 Q101.177 498.078 99.3483 494.536 Q97.5428 490.971 93.9086 490.971 M93.9086 487.268 Q99.7187 487.268 102.774 491.874 Q105.853 496.457 105.853 505.207 Q105.853 513.934 102.774 518.541 Q99.7187 523.124 93.9086 523.124 Q88.0984 523.124 85.0197 518.541 Q81.9642 513.934 81.9642 505.207 Q81.9642 496.457 85.0197 491.874 Q88.0984 487.268 93.9086 487.268 Z\" fill=\"#000000\" fill-rule=\"nonzero\" fill-opacity=\"1\" /><path clip-path=\"url(#clip900)\" d=\"M63.7467 178.949 Q60.4134 178.949 58.4921 180.731 Q56.5939 182.514 56.5939 185.639 Q56.5939 188.764 58.4921 190.546 Q60.4134 192.328 63.7467 192.328 Q67.08 192.328 69.0013 190.546 Q70.9226 188.74 70.9226 185.639 Q70.9226 182.514 69.0013 180.731 Q67.1032 178.949 63.7467 178.949 M59.0708 176.958 Q56.0615 176.217 54.3717 174.157 Q52.7051 172.097 52.7051 169.134 Q52.7051 164.991 55.6449 162.583 Q58.6078 160.176 63.7467 160.176 Q68.9087 160.176 71.8485 162.583 Q74.7883 164.991 74.7883 169.134 Q74.7883 172.097 73.0985 174.157 Q71.4318 176.217 68.4457 176.958 Q71.8253 177.745 73.7003 180.037 Q75.5985 182.328 75.5985 185.639 Q75.5985 190.662 72.5198 193.347 Q69.4642 196.032 63.7467 196.032 Q58.0291 196.032 54.9504 193.347 Q51.8949 190.662 51.8949 185.639 Q51.8949 182.328 53.793 180.037 Q55.6912 177.745 59.0708 176.958 M57.3578 169.574 Q57.3578 172.259 59.0245 173.764 Q60.7143 175.268 63.7467 175.268 Q66.7559 175.268 68.4457 173.764 Q70.1587 172.259 70.1587 169.574 Q70.1587 166.889 68.4457 165.384 Q66.7559 163.879 63.7467 163.879 Q60.7143 163.879 59.0245 165.384 Q57.3578 166.889 57.3578 169.574 Z\" fill=\"#000000\" fill-rule=\"nonzero\" fill-opacity=\"1\" /><path clip-path=\"url(#clip900)\" d=\"M93.9086 163.879 Q90.2975 163.879 88.4688 167.444 Q86.6632 170.986 86.6632 178.116 Q86.6632 185.222 88.4688 188.787 Q90.2975 192.328 93.9086 192.328 Q97.5428 192.328 99.3483 188.787 Q101.177 185.222 101.177 178.116 Q101.177 170.986 99.3483 167.444 Q97.5428 163.879 93.9086 163.879 M93.9086 160.176 Q99.7187 160.176 102.774 164.782 Q105.853 169.366 105.853 178.116 Q105.853 186.842 102.774 191.449 Q99.7187 196.032 93.9086 196.032 Q88.0984 196.032 85.0197 191.449 Q81.9642 186.842 81.9642 178.116 Q81.9642 169.366 85.0197 164.782 Q88.0984 160.176 93.9086 160.176 Z\" fill=\"#000000\" fill-rule=\"nonzero\" fill-opacity=\"1\" /><path clip-path=\"url(#clip902)\" d=\"M293.884 1470.09 L293.884 1486.45 L349.967 1486.45 L349.967 1470.09 L293.884 1470.09 L293.884 1470.09  Z\" fill=\"#009af9\" fill-rule=\"evenodd\" fill-opacity=\"1\"/>\n",
       "<polyline clip-path=\"url(#clip902)\" style=\"stroke:#000000; stroke-linecap:round; stroke-linejoin:round; stroke-width:4; stroke-opacity:1; fill:none\" points=\"293.884,1470.09 293.884,1486.45 349.967,1486.45 349.967,1470.09 293.884,1470.09 \"/>\n",
       "<path clip-path=\"url(#clip902)\" d=\"M349.967 1470.09 L349.967 1486.45 L406.051 1486.45 L406.051 1470.09 L349.967 1470.09 L349.967 1470.09  Z\" fill=\"#009af9\" fill-rule=\"evenodd\" fill-opacity=\"1\"/>\n",
       "<polyline clip-path=\"url(#clip902)\" style=\"stroke:#000000; stroke-linecap:round; stroke-linejoin:round; stroke-width:4; stroke-opacity:1; fill:none\" points=\"349.967,1470.09 349.967,1486.45 406.051,1486.45 406.051,1470.09 349.967,1470.09 \"/>\n",
       "<path clip-path=\"url(#clip902)\" d=\"M406.051 1486.45 L406.051 1486.45 L462.134 1486.45 L462.134 1486.45 L406.051 1486.45 L406.051 1486.45  Z\" fill=\"#009af9\" fill-rule=\"evenodd\" fill-opacity=\"1\"/>\n",
       "<polyline clip-path=\"url(#clip902)\" style=\"stroke:#000000; stroke-linecap:round; stroke-linejoin:round; stroke-width:4; stroke-opacity:1; fill:none\" points=\"406.051,1486.45 406.051,1486.45 462.134,1486.45 406.051,1486.45 \"/>\n",
       "<path clip-path=\"url(#clip902)\" d=\"M462.134 1437.38 L462.134 1486.45 L518.218 1486.45 L518.218 1437.38 L462.134 1437.38 L462.134 1437.38  Z\" fill=\"#009af9\" fill-rule=\"evenodd\" fill-opacity=\"1\"/>\n",
       "<polyline clip-path=\"url(#clip902)\" style=\"stroke:#000000; stroke-linecap:round; stroke-linejoin:round; stroke-width:4; stroke-opacity:1; fill:none\" points=\"462.134,1437.38 462.134,1486.45 518.218,1486.45 518.218,1437.38 462.134,1437.38 \"/>\n",
       "<path clip-path=\"url(#clip902)\" d=\"M518.218 1453.74 L518.218 1486.45 L574.301 1486.45 L574.301 1453.74 L518.218 1453.74 L518.218 1453.74  Z\" fill=\"#009af9\" fill-rule=\"evenodd\" fill-opacity=\"1\"/>\n",
       "<polyline clip-path=\"url(#clip902)\" style=\"stroke:#000000; stroke-linecap:round; stroke-linejoin:round; stroke-width:4; stroke-opacity:1; fill:none\" points=\"518.218,1453.74 518.218,1486.45 574.301,1486.45 574.301,1453.74 518.218,1453.74 \"/>\n",
       "<path clip-path=\"url(#clip902)\" d=\"M574.301 1388.32 L574.301 1486.45 L630.385 1486.45 L630.385 1388.32 L574.301 1388.32 L574.301 1388.32  Z\" fill=\"#009af9\" fill-rule=\"evenodd\" fill-opacity=\"1\"/>\n",
       "<polyline clip-path=\"url(#clip902)\" style=\"stroke:#000000; stroke-linecap:round; stroke-linejoin:round; stroke-width:4; stroke-opacity:1; fill:none\" points=\"574.301,1388.32 574.301,1486.45 630.385,1486.45 630.385,1388.32 574.301,1388.32 \"/>\n",
       "<path clip-path=\"url(#clip902)\" d=\"M630.385 1371.97 L630.385 1486.45 L686.469 1486.45 L686.469 1371.97 L630.385 1371.97 L630.385 1371.97  Z\" fill=\"#009af9\" fill-rule=\"evenodd\" fill-opacity=\"1\"/>\n",
       "<polyline clip-path=\"url(#clip902)\" style=\"stroke:#000000; stroke-linecap:round; stroke-linejoin:round; stroke-width:4; stroke-opacity:1; fill:none\" points=\"630.385,1371.97 630.385,1486.45 686.469,1486.45 686.469,1371.97 630.385,1371.97 \"/>\n",
       "<path clip-path=\"url(#clip902)\" d=\"M686.469 1208.42 L686.469 1486.45 L742.552 1486.45 L742.552 1208.42 L686.469 1208.42 L686.469 1208.42  Z\" fill=\"#009af9\" fill-rule=\"evenodd\" fill-opacity=\"1\"/>\n",
       "<polyline clip-path=\"url(#clip902)\" style=\"stroke:#000000; stroke-linecap:round; stroke-linejoin:round; stroke-width:4; stroke-opacity:1; fill:none\" points=\"686.469,1208.42 686.469,1486.45 742.552,1486.45 742.552,1208.42 686.469,1208.42 \"/>\n",
       "<path clip-path=\"url(#clip902)\" d=\"M742.552 1257.48 L742.552 1486.45 L798.636 1486.45 L798.636 1257.48 L742.552 1257.48 L742.552 1257.48  Z\" fill=\"#009af9\" fill-rule=\"evenodd\" fill-opacity=\"1\"/>\n",
       "<polyline clip-path=\"url(#clip902)\" style=\"stroke:#000000; stroke-linecap:round; stroke-linejoin:round; stroke-width:4; stroke-opacity:1; fill:none\" points=\"742.552,1257.48 742.552,1486.45 798.636,1486.45 798.636,1257.48 742.552,1257.48 \"/>\n",
       "<path clip-path=\"url(#clip902)\" d=\"M798.636 979.456 L798.636 1486.45 L854.719 1486.45 L854.719 979.456 L798.636 979.456 L798.636 979.456  Z\" fill=\"#009af9\" fill-rule=\"evenodd\" fill-opacity=\"1\"/>\n",
       "<polyline clip-path=\"url(#clip902)\" style=\"stroke:#000000; stroke-linecap:round; stroke-linejoin:round; stroke-width:4; stroke-opacity:1; fill:none\" points=\"798.636,979.456 798.636,1486.45 854.719,1486.45 854.719,979.456 798.636,979.456 \"/>\n",
       "<path clip-path=\"url(#clip902)\" d=\"M854.719 750.491 L854.719 1486.45 L910.803 1486.45 L910.803 750.491 L854.719 750.491 L854.719 750.491  Z\" fill=\"#009af9\" fill-rule=\"evenodd\" fill-opacity=\"1\"/>\n",
       "<polyline clip-path=\"url(#clip902)\" style=\"stroke:#000000; stroke-linecap:round; stroke-linejoin:round; stroke-width:4; stroke-opacity:1; fill:none\" points=\"854.719,750.491 854.719,1486.45 910.803,1486.45 910.803,750.491 854.719,750.491 \"/>\n",
       "<path clip-path=\"url(#clip902)\" d=\"M910.803 832.264 L910.803 1486.45 L966.887 1486.45 L966.887 832.264 L910.803 832.264 L910.803 832.264  Z\" fill=\"#009af9\" fill-rule=\"evenodd\" fill-opacity=\"1\"/>\n",
       "<polyline clip-path=\"url(#clip902)\" style=\"stroke:#000000; stroke-linecap:round; stroke-linejoin:round; stroke-width:4; stroke-opacity:1; fill:none\" points=\"910.803,832.264 910.803,1486.45 966.887,1486.45 966.887,832.264 910.803,832.264 \"/>\n",
       "<path clip-path=\"url(#clip902)\" d=\"M966.887 521.527 L966.887 1486.45 L1022.97 1486.45 L1022.97 521.527 L966.887 521.527 L966.887 521.527  Z\" fill=\"#009af9\" fill-rule=\"evenodd\" fill-opacity=\"1\"/>\n",
       "<polyline clip-path=\"url(#clip902)\" style=\"stroke:#000000; stroke-linecap:round; stroke-linejoin:round; stroke-width:4; stroke-opacity:1; fill:none\" points=\"966.887,521.527 966.887,1486.45 1022.97,1486.45 1022.97,521.527 966.887,521.527 \"/>\n",
       "<path clip-path=\"url(#clip902)\" d=\"M1022.97 407.045 L1022.97 1486.45 L1079.05 1486.45 L1079.05 407.045 L1022.97 407.045 L1022.97 407.045  Z\" fill=\"#009af9\" fill-rule=\"evenodd\" fill-opacity=\"1\"/>\n",
       "<polyline clip-path=\"url(#clip902)\" style=\"stroke:#000000; stroke-linecap:round; stroke-linejoin:round; stroke-width:4; stroke-opacity:1; fill:none\" points=\"1022.97,407.045 1022.97,1486.45 1079.05,1486.45 1079.05,407.045 1022.97,407.045 \"/>\n",
       "<path clip-path=\"url(#clip902)\" d=\"M1079.05 456.109 L1079.05 1486.45 L1135.14 1486.45 L1135.14 456.109 L1079.05 456.109 L1079.05 456.109  Z\" fill=\"#009af9\" fill-rule=\"evenodd\" fill-opacity=\"1\"/>\n",
       "<polyline clip-path=\"url(#clip902)\" style=\"stroke:#000000; stroke-linecap:round; stroke-linejoin:round; stroke-width:4; stroke-opacity:1; fill:none\" points=\"1079.05,456.109 1079.05,1486.45 1135.14,1486.45 1135.14,456.109 1079.05,456.109 \"/>\n",
       "<path clip-path=\"url(#clip902)\" d=\"M1135.14 47.2441 L1135.14 1486.45 L1191.22 1486.45 L1191.22 47.2441 L1135.14 47.2441 L1135.14 47.2441  Z\" fill=\"#009af9\" fill-rule=\"evenodd\" fill-opacity=\"1\"/>\n",
       "<polyline clip-path=\"url(#clip902)\" style=\"stroke:#000000; stroke-linecap:round; stroke-linejoin:round; stroke-width:4; stroke-opacity:1; fill:none\" points=\"1135.14,47.2441 1135.14,1486.45 1191.22,1486.45 1191.22,47.2441 1135.14,47.2441 \"/>\n",
       "<path clip-path=\"url(#clip902)\" d=\"M1191.22 96.3079 L1191.22 1486.45 L1247.3 1486.45 L1247.3 96.3079 L1191.22 96.3079 L1191.22 96.3079  Z\" fill=\"#009af9\" fill-rule=\"evenodd\" fill-opacity=\"1\"/>\n",
       "<polyline clip-path=\"url(#clip902)\" style=\"stroke:#000000; stroke-linecap:round; stroke-linejoin:round; stroke-width:4; stroke-opacity:1; fill:none\" points=\"1191.22,96.3079 1191.22,1486.45 1247.3,1486.45 1247.3,96.3079 1191.22,96.3079 \"/>\n",
       "<path clip-path=\"url(#clip902)\" d=\"M1247.3 112.662 L1247.3 1486.45 L1303.39 1486.45 L1303.39 112.662 L1247.3 112.662 L1247.3 112.662  Z\" fill=\"#009af9\" fill-rule=\"evenodd\" fill-opacity=\"1\"/>\n",
       "<polyline clip-path=\"url(#clip902)\" style=\"stroke:#000000; stroke-linecap:round; stroke-linejoin:round; stroke-width:4; stroke-opacity:1; fill:none\" points=\"1247.3,112.662 1247.3,1486.45 1303.39,1486.45 1303.39,112.662 1247.3,112.662 \"/>\n",
       "<path clip-path=\"url(#clip902)\" d=\"M1303.39 243.499 L1303.39 1486.45 L1359.47 1486.45 L1359.47 243.499 L1303.39 243.499 L1303.39 243.499  Z\" fill=\"#009af9\" fill-rule=\"evenodd\" fill-opacity=\"1\"/>\n",
       "<polyline clip-path=\"url(#clip902)\" style=\"stroke:#000000; stroke-linecap:round; stroke-linejoin:round; stroke-width:4; stroke-opacity:1; fill:none\" points=\"1303.39,243.499 1303.39,1486.45 1359.47,1486.45 1359.47,243.499 1303.39,243.499 \"/>\n",
       "<path clip-path=\"url(#clip902)\" d=\"M1359.47 456.109 L1359.47 1486.45 L1415.56 1486.45 L1415.56 456.109 L1359.47 456.109 L1359.47 456.109  Z\" fill=\"#009af9\" fill-rule=\"evenodd\" fill-opacity=\"1\"/>\n",
       "<polyline clip-path=\"url(#clip902)\" style=\"stroke:#000000; stroke-linecap:round; stroke-linejoin:round; stroke-width:4; stroke-opacity:1; fill:none\" points=\"1359.47,456.109 1359.47,1486.45 1415.56,1486.45 1415.56,456.109 1359.47,456.109 \"/>\n",
       "<path clip-path=\"url(#clip902)\" d=\"M1415.56 554.236 L1415.56 1486.45 L1471.64 1486.45 L1471.64 554.236 L1415.56 554.236 L1415.56 554.236  Z\" fill=\"#009af9\" fill-rule=\"evenodd\" fill-opacity=\"1\"/>\n",
       "<polyline clip-path=\"url(#clip902)\" style=\"stroke:#000000; stroke-linecap:round; stroke-linejoin:round; stroke-width:4; stroke-opacity:1; fill:none\" points=\"1415.56,554.236 1415.56,1486.45 1471.64,1486.45 1471.64,554.236 1415.56,554.236 \"/>\n",
       "<path clip-path=\"url(#clip902)\" d=\"M1471.64 505.173 L1471.64 1486.45 L1527.72 1486.45 L1527.72 505.173 L1471.64 505.173 L1471.64 505.173  Z\" fill=\"#009af9\" fill-rule=\"evenodd\" fill-opacity=\"1\"/>\n",
       "<polyline clip-path=\"url(#clip902)\" style=\"stroke:#000000; stroke-linecap:round; stroke-linejoin:round; stroke-width:4; stroke-opacity:1; fill:none\" points=\"1471.64,505.173 1471.64,1486.45 1527.72,1486.45 1527.72,505.173 1471.64,505.173 \"/>\n",
       "<path clip-path=\"url(#clip902)\" d=\"M1527.72 963.101 L1527.72 1486.45 L1583.81 1486.45 L1583.81 963.101 L1527.72 963.101 L1527.72 963.101  Z\" fill=\"#009af9\" fill-rule=\"evenodd\" fill-opacity=\"1\"/>\n",
       "<polyline clip-path=\"url(#clip902)\" style=\"stroke:#000000; stroke-linecap:round; stroke-linejoin:round; stroke-width:4; stroke-opacity:1; fill:none\" points=\"1527.72,963.101 1527.72,1486.45 1583.81,1486.45 1583.81,963.101 1527.72,963.101 \"/>\n",
       "<path clip-path=\"url(#clip902)\" d=\"M1583.81 1044.87 L1583.81 1486.45 L1639.89 1486.45 L1639.89 1044.87 L1583.81 1044.87 L1583.81 1044.87  Z\" fill=\"#009af9\" fill-rule=\"evenodd\" fill-opacity=\"1\"/>\n",
       "<polyline clip-path=\"url(#clip902)\" style=\"stroke:#000000; stroke-linecap:round; stroke-linejoin:round; stroke-width:4; stroke-opacity:1; fill:none\" points=\"1583.81,1044.87 1583.81,1486.45 1639.89,1486.45 1639.89,1044.87 1583.81,1044.87 \"/>\n",
       "<path clip-path=\"url(#clip902)\" d=\"M1639.89 1061.23 L1639.89 1486.45 L1695.97 1486.45 L1695.97 1061.23 L1639.89 1061.23 L1639.89 1061.23  Z\" fill=\"#009af9\" fill-rule=\"evenodd\" fill-opacity=\"1\"/>\n",
       "<polyline clip-path=\"url(#clip902)\" style=\"stroke:#000000; stroke-linecap:round; stroke-linejoin:round; stroke-width:4; stroke-opacity:1; fill:none\" points=\"1639.89,1061.23 1639.89,1486.45 1695.97,1486.45 1695.97,1061.23 1639.89,1061.23 \"/>\n",
       "<path clip-path=\"url(#clip902)\" d=\"M1695.97 1257.48 L1695.97 1486.45 L1752.06 1486.45 L1752.06 1257.48 L1695.97 1257.48 L1695.97 1257.48  Z\" fill=\"#009af9\" fill-rule=\"evenodd\" fill-opacity=\"1\"/>\n",
       "<polyline clip-path=\"url(#clip902)\" style=\"stroke:#000000; stroke-linecap:round; stroke-linejoin:round; stroke-width:4; stroke-opacity:1; fill:none\" points=\"1695.97,1257.48 1695.97,1486.45 1752.06,1486.45 1752.06,1257.48 1695.97,1257.48 \"/>\n",
       "<path clip-path=\"url(#clip902)\" d=\"M1752.06 1322.9 L1752.06 1486.45 L1808.14 1486.45 L1808.14 1322.9 L1752.06 1322.9 L1752.06 1322.9  Z\" fill=\"#009af9\" fill-rule=\"evenodd\" fill-opacity=\"1\"/>\n",
       "<polyline clip-path=\"url(#clip902)\" style=\"stroke:#000000; stroke-linecap:round; stroke-linejoin:round; stroke-width:4; stroke-opacity:1; fill:none\" points=\"1752.06,1322.9 1752.06,1486.45 1808.14,1486.45 1808.14,1322.9 1752.06,1322.9 \"/>\n",
       "<path clip-path=\"url(#clip902)\" d=\"M1808.14 1339.26 L1808.14 1486.45 L1864.22 1486.45 L1864.22 1339.26 L1808.14 1339.26 L1808.14 1339.26  Z\" fill=\"#009af9\" fill-rule=\"evenodd\" fill-opacity=\"1\"/>\n",
       "<polyline clip-path=\"url(#clip902)\" style=\"stroke:#000000; stroke-linecap:round; stroke-linejoin:round; stroke-width:4; stroke-opacity:1; fill:none\" points=\"1808.14,1339.26 1808.14,1486.45 1864.22,1486.45 1864.22,1339.26 1808.14,1339.26 \"/>\n",
       "<path clip-path=\"url(#clip902)\" d=\"M1864.22 1404.67 L1864.22 1486.45 L1920.31 1486.45 L1920.31 1404.67 L1864.22 1404.67 L1864.22 1404.67  Z\" fill=\"#009af9\" fill-rule=\"evenodd\" fill-opacity=\"1\"/>\n",
       "<polyline clip-path=\"url(#clip902)\" style=\"stroke:#000000; stroke-linecap:round; stroke-linejoin:round; stroke-width:4; stroke-opacity:1; fill:none\" points=\"1864.22,1404.67 1864.22,1486.45 1920.31,1486.45 1920.31,1404.67 1864.22,1404.67 \"/>\n",
       "<path clip-path=\"url(#clip902)\" d=\"M1920.31 1453.74 L1920.31 1486.45 L1976.39 1486.45 L1976.39 1453.74 L1920.31 1453.74 L1920.31 1453.74  Z\" fill=\"#009af9\" fill-rule=\"evenodd\" fill-opacity=\"1\"/>\n",
       "<polyline clip-path=\"url(#clip902)\" style=\"stroke:#000000; stroke-linecap:round; stroke-linejoin:round; stroke-width:4; stroke-opacity:1; fill:none\" points=\"1920.31,1453.74 1920.31,1486.45 1976.39,1486.45 1976.39,1453.74 1920.31,1453.74 \"/>\n",
       "<path clip-path=\"url(#clip902)\" d=\"M1976.39 1453.74 L1976.39 1486.45 L2032.47 1486.45 L2032.47 1453.74 L1976.39 1453.74 L1976.39 1453.74  Z\" fill=\"#009af9\" fill-rule=\"evenodd\" fill-opacity=\"1\"/>\n",
       "<polyline clip-path=\"url(#clip902)\" style=\"stroke:#000000; stroke-linecap:round; stroke-linejoin:round; stroke-width:4; stroke-opacity:1; fill:none\" points=\"1976.39,1453.74 1976.39,1486.45 2032.47,1486.45 2032.47,1453.74 1976.39,1453.74 \"/>\n",
       "<path clip-path=\"url(#clip902)\" d=\"M2032.47 1437.38 L2032.47 1486.45 L2088.56 1486.45 L2088.56 1437.38 L2032.47 1437.38 L2032.47 1437.38  Z\" fill=\"#009af9\" fill-rule=\"evenodd\" fill-opacity=\"1\"/>\n",
       "<polyline clip-path=\"url(#clip902)\" style=\"stroke:#000000; stroke-linecap:round; stroke-linejoin:round; stroke-width:4; stroke-opacity:1; fill:none\" points=\"2032.47,1437.38 2032.47,1486.45 2088.56,1486.45 2088.56,1437.38 2032.47,1437.38 \"/>\n",
       "<path clip-path=\"url(#clip902)\" d=\"M2088.56 1453.74 L2088.56 1486.45 L2144.64 1486.45 L2144.64 1453.74 L2088.56 1453.74 L2088.56 1453.74  Z\" fill=\"#009af9\" fill-rule=\"evenodd\" fill-opacity=\"1\"/>\n",
       "<polyline clip-path=\"url(#clip902)\" style=\"stroke:#000000; stroke-linecap:round; stroke-linejoin:round; stroke-width:4; stroke-opacity:1; fill:none\" points=\"2088.56,1453.74 2088.56,1486.45 2144.64,1486.45 2144.64,1453.74 2088.56,1453.74 \"/>\n",
       "<circle clip-path=\"url(#clip902)\" style=\"fill:#009af9; stroke:none; fill-opacity:0\" cx=\"321.925\" cy=\"1470.09\" r=\"2\"/>\n",
       "<circle clip-path=\"url(#clip902)\" style=\"fill:#009af9; stroke:none; fill-opacity:0\" cx=\"378.009\" cy=\"1470.09\" r=\"2\"/>\n",
       "<circle clip-path=\"url(#clip902)\" style=\"fill:#009af9; stroke:none; fill-opacity:0\" cx=\"434.093\" cy=\"1486.45\" r=\"2\"/>\n",
       "<circle clip-path=\"url(#clip902)\" style=\"fill:#009af9; stroke:none; fill-opacity:0\" cx=\"490.176\" cy=\"1437.38\" r=\"2\"/>\n",
       "<circle clip-path=\"url(#clip902)\" style=\"fill:#009af9; stroke:none; fill-opacity:0\" cx=\"546.26\" cy=\"1453.74\" r=\"2\"/>\n",
       "<circle clip-path=\"url(#clip902)\" style=\"fill:#009af9; stroke:none; fill-opacity:0\" cx=\"602.343\" cy=\"1388.32\" r=\"2\"/>\n",
       "<circle clip-path=\"url(#clip902)\" style=\"fill:#009af9; stroke:none; fill-opacity:0\" cx=\"658.427\" cy=\"1371.97\" r=\"2\"/>\n",
       "<circle clip-path=\"url(#clip902)\" style=\"fill:#009af9; stroke:none; fill-opacity:0\" cx=\"714.51\" cy=\"1208.42\" r=\"2\"/>\n",
       "<circle clip-path=\"url(#clip902)\" style=\"fill:#009af9; stroke:none; fill-opacity:0\" cx=\"770.594\" cy=\"1257.48\" r=\"2\"/>\n",
       "<circle clip-path=\"url(#clip902)\" style=\"fill:#009af9; stroke:none; fill-opacity:0\" cx=\"826.678\" cy=\"979.456\" r=\"2\"/>\n",
       "<circle clip-path=\"url(#clip902)\" style=\"fill:#009af9; stroke:none; fill-opacity:0\" cx=\"882.761\" cy=\"750.491\" r=\"2\"/>\n",
       "<circle clip-path=\"url(#clip902)\" style=\"fill:#009af9; stroke:none; fill-opacity:0\" cx=\"938.845\" cy=\"832.264\" r=\"2\"/>\n",
       "<circle clip-path=\"url(#clip902)\" style=\"fill:#009af9; stroke:none; fill-opacity:0\" cx=\"994.928\" cy=\"521.527\" r=\"2\"/>\n",
       "<circle clip-path=\"url(#clip902)\" style=\"fill:#009af9; stroke:none; fill-opacity:0\" cx=\"1051.01\" cy=\"407.045\" r=\"2\"/>\n",
       "<circle clip-path=\"url(#clip902)\" style=\"fill:#009af9; stroke:none; fill-opacity:0\" cx=\"1107.1\" cy=\"456.109\" r=\"2\"/>\n",
       "<circle clip-path=\"url(#clip902)\" style=\"fill:#009af9; stroke:none; fill-opacity:0\" cx=\"1163.18\" cy=\"47.2441\" r=\"2\"/>\n",
       "<circle clip-path=\"url(#clip902)\" style=\"fill:#009af9; stroke:none; fill-opacity:0\" cx=\"1219.26\" cy=\"96.3079\" r=\"2\"/>\n",
       "<circle clip-path=\"url(#clip902)\" style=\"fill:#009af9; stroke:none; fill-opacity:0\" cx=\"1275.35\" cy=\"112.662\" r=\"2\"/>\n",
       "<circle clip-path=\"url(#clip902)\" style=\"fill:#009af9; stroke:none; fill-opacity:0\" cx=\"1331.43\" cy=\"243.499\" r=\"2\"/>\n",
       "<circle clip-path=\"url(#clip902)\" style=\"fill:#009af9; stroke:none; fill-opacity:0\" cx=\"1387.51\" cy=\"456.109\" r=\"2\"/>\n",
       "<circle clip-path=\"url(#clip902)\" style=\"fill:#009af9; stroke:none; fill-opacity:0\" cx=\"1443.6\" cy=\"554.236\" r=\"2\"/>\n",
       "<circle clip-path=\"url(#clip902)\" style=\"fill:#009af9; stroke:none; fill-opacity:0\" cx=\"1499.68\" cy=\"505.173\" r=\"2\"/>\n",
       "<circle clip-path=\"url(#clip902)\" style=\"fill:#009af9; stroke:none; fill-opacity:0\" cx=\"1555.76\" cy=\"963.101\" r=\"2\"/>\n",
       "<circle clip-path=\"url(#clip902)\" style=\"fill:#009af9; stroke:none; fill-opacity:0\" cx=\"1611.85\" cy=\"1044.87\" r=\"2\"/>\n",
       "<circle clip-path=\"url(#clip902)\" style=\"fill:#009af9; stroke:none; fill-opacity:0\" cx=\"1667.93\" cy=\"1061.23\" r=\"2\"/>\n",
       "<circle clip-path=\"url(#clip902)\" style=\"fill:#009af9; stroke:none; fill-opacity:0\" cx=\"1724.01\" cy=\"1257.48\" r=\"2\"/>\n",
       "<circle clip-path=\"url(#clip902)\" style=\"fill:#009af9; stroke:none; fill-opacity:0\" cx=\"1780.1\" cy=\"1322.9\" r=\"2\"/>\n",
       "<circle clip-path=\"url(#clip902)\" style=\"fill:#009af9; stroke:none; fill-opacity:0\" cx=\"1836.18\" cy=\"1339.26\" r=\"2\"/>\n",
       "<circle clip-path=\"url(#clip902)\" style=\"fill:#009af9; stroke:none; fill-opacity:0\" cx=\"1892.27\" cy=\"1404.67\" r=\"2\"/>\n",
       "<circle clip-path=\"url(#clip902)\" style=\"fill:#009af9; stroke:none; fill-opacity:0\" cx=\"1948.35\" cy=\"1453.74\" r=\"2\"/>\n",
       "<circle clip-path=\"url(#clip902)\" style=\"fill:#009af9; stroke:none; fill-opacity:0\" cx=\"2004.43\" cy=\"1453.74\" r=\"2\"/>\n",
       "<circle clip-path=\"url(#clip902)\" style=\"fill:#009af9; stroke:none; fill-opacity:0\" cx=\"2060.52\" cy=\"1437.38\" r=\"2\"/>\n",
       "<circle clip-path=\"url(#clip902)\" style=\"fill:#009af9; stroke:none; fill-opacity:0\" cx=\"2116.6\" cy=\"1453.74\" r=\"2\"/>\n",
       "<path clip-path=\"url(#clip902)\" d=\"M204.426 1486.44 L211.215 1486.44 L218.005 1486.44 L280.786 1486.43 L343.566 1486.41 L381.295 1486.39 L419.024 1486.36 L450.923 1486.33 L482.822 1486.29 L500.147 1486.26 L517.473 1486.23 L534.799 1486.19 L552.124 1486.15 L568.097 1486.1 L584.07 1486.05 L600.042 1485.99 L616.015 1485.93 L633.139 1485.86 L650.264 1485.77 L667.388 1485.68 L684.513 1485.58 L704.353 1485.45 L724.193 1485.3 L744.034 1485.14 L763.874 1484.97 L781.506 1484.81 L799.138 1484.63 L816.769 1484.44 L834.401 1484.24 L849.863 1484.06 L865.324 1483.87 L880.785 1483.67 L896.247 1483.47 L929.961 1483.01 L963.675 1482.54 L997.59 1482.06 L1031.5 1481.6 L1040.88 1481.47 L1050.25 1481.35 L1059.63 1481.23 L1069 1481.12 L1078.38 1481.01 L1087.75 1480.9 L1097.12 1480.8 L1106.5 1480.7 L1115.42 1480.61 L1124.34 1480.52 L1133.26 1480.44 L1142.18 1480.37 L1151.1 1480.3 L1160.01 1480.23 L1168.93 1480.17 L1177.85 1480.12 L1187.13 1480.07 L1196.4 1480.03 L1205.68 1479.99 L1214.95 1479.97 L1224.22 1479.95 L1233.5 1479.93 L1242.77 1479.92 L1252.05 1479.92 L1259.85 1479.93 L1267.66 1479.94 L1275.47 1479.96 L1283.27 1479.98 L1291.08 1480 L1298.89 1480.03 L1306.69 1480.07 L1314.5 1480.11 L1324.03 1480.16 L1333.56 1480.22 L1343.09 1480.29 L1352.63 1480.37 L1362.16 1480.45 L1371.69 1480.53 L1381.22 1480.63 L1390.75 1480.72 L1408.21 1480.91 L1425.67 1481.12 L1434.41 1481.23 L1443.14 1481.34 L1451.87 1481.45 L1460.6 1481.56 L1492.85 1482 L1525.11 1482.45 L1557.78 1482.91 L1590.46 1483.36 L1608.77 1483.61 L1627.08 1483.84 L1645.39 1484.07 L1663.7 1484.28 L1680.29 1484.47 L1696.88 1484.64 L1713.47 1484.81 L1730.06 1484.97 L1749.06 1485.13 L1768.05 1485.28 L1787.05 1485.42 L1806.04 1485.55 L1823.63 1485.66 L1841.22 1485.76 L1858.81 1485.84 L1876.4 1485.92 L1893.74 1485.99 L1911.08 1486.05 L1928.42 1486.11 L1945.76 1486.15 L1962.59 1486.2 L1979.43 1486.23 L1996.26 1486.26 L2013.1 1486.29 L2047.62 1486.34 L2082.13 1486.37 L2119.95 1486.4 L2157.77 1486.41 L2212.71 1486.43 L2267.64 1486.44 L2278.91 1486.44 L2290.18 1486.44 L2290.18 1486.45 L2278.91 1486.45 L2267.64 1486.45 L2212.71 1486.45 L2157.77 1486.45 L2119.95 1486.45 L2082.13 1486.45 L2047.62 1486.45 L2013.1 1486.45 L1996.26 1486.45 L1979.43 1486.45 L1962.59 1486.45 L1945.76 1486.45 L1928.42 1486.45 L1911.08 1486.45 L1893.74 1486.45 L1876.4 1486.45 L1858.81 1486.45 L1841.22 1486.45 L1823.63 1486.45 L1806.04 1486.45 L1787.05 1486.45 L1768.05 1486.45 L1749.06 1486.45 L1730.06 1486.45 L1713.47 1486.45 L1696.88 1486.45 L1680.29 1486.45 L1663.7 1486.45 L1645.39 1486.45 L1627.08 1486.45 L1608.77 1486.45 L1590.46 1486.45 L1557.78 1486.45 L1525.11 1486.45 L1492.85 1486.45 L1460.6 1486.45 L1451.87 1486.45 L1443.14 1486.45 L1434.41 1486.45 L1425.67 1486.45 L1408.21 1486.45 L1390.75 1486.45 L1381.22 1486.45 L1371.69 1486.45 L1362.16 1486.45 L1352.63 1486.45 L1343.09 1486.45 L1333.56 1486.45 L1324.03 1486.45 L1314.5 1486.45 L1306.69 1486.45 L1298.89 1486.45 L1291.08 1486.45 L1283.27 1486.45 L1275.47 1486.45 L1267.66 1486.45 L1259.85 1486.45 L1252.05 1486.45 L1242.77 1486.45 L1233.5 1486.45 L1224.22 1486.45 L1214.95 1486.45 L1205.68 1486.45 L1196.4 1486.45 L1187.13 1486.45 L1177.85 1486.45 L1168.93 1486.45 L1160.01 1486.45 L1151.1 1486.45 L1142.18 1486.45 L1133.26 1486.45 L1124.34 1486.45 L1115.42 1486.45 L1106.5 1486.45 L1097.12 1486.45 L1087.75 1486.45 L1078.38 1486.45 L1069 1486.45 L1059.63 1486.45 L1050.25 1486.45 L1040.88 1486.45 L1031.5 1486.45 L997.59 1486.45 L963.675 1486.45 L929.961 1486.45 L896.247 1486.45 L880.785 1486.45 L865.324 1486.45 L849.863 1486.45 L834.401 1486.45 L816.769 1486.45 L799.138 1486.45 L781.506 1486.45 L763.874 1486.45 L744.034 1486.45 L724.193 1486.45 L704.353 1486.45 L684.513 1486.45 L667.388 1486.45 L650.264 1486.45 L633.139 1486.45 L616.015 1486.45 L600.042 1486.45 L584.07 1486.45 L568.097 1486.45 L552.124 1486.45 L534.799 1486.45 L517.473 1486.45 L500.147 1486.45 L482.822 1486.45 L450.923 1486.45 L419.024 1486.45 L381.295 1486.45 L343.566 1486.45 L280.786 1486.45 L218.005 1486.45 L211.215 1486.45 L204.426 1486.45  Z\" fill=\"#ffa500\" fill-rule=\"evenodd\" fill-opacity=\"0.5\"/>\n",
       "<polyline clip-path=\"url(#clip902)\" style=\"stroke:#e26f46; stroke-linecap:round; stroke-linejoin:round; stroke-width:4; stroke-opacity:1; fill:none\" points=\"204.426,1486.44 211.215,1486.44 218.005,1486.44 280.786,1486.43 343.566,1486.41 381.295,1486.39 419.024,1486.36 450.923,1486.33 482.822,1486.29 500.147,1486.26 517.473,1486.23 534.799,1486.19 552.124,1486.15 568.097,1486.1 584.07,1486.05 600.042,1485.99 616.015,1485.93 633.139,1485.86 650.264,1485.77 667.388,1485.68 684.513,1485.58 704.353,1485.45 724.193,1485.3 744.034,1485.14 763.874,1484.97 781.506,1484.81 799.138,1484.63 816.769,1484.44 834.401,1484.24 849.863,1484.06 865.324,1483.87 880.785,1483.67 896.247,1483.47 929.961,1483.01 963.675,1482.54 997.59,1482.06 1031.5,1481.6 1040.88,1481.47 1050.25,1481.35 1059.63,1481.23 1069,1481.12 1078.38,1481.01 1087.75,1480.9 1097.12,1480.8 1106.5,1480.7 1115.42,1480.61 1124.34,1480.52 1133.26,1480.44 1142.18,1480.37 1151.1,1480.3 1160.01,1480.23 1168.93,1480.17 1177.85,1480.12 1187.13,1480.07 1196.4,1480.03 1205.68,1479.99 1214.95,1479.97 1224.22,1479.95 1233.5,1479.93 1242.77,1479.92 1252.05,1479.92 1259.85,1479.93 1267.66,1479.94 1275.47,1479.96 1283.27,1479.98 1291.08,1480 1298.89,1480.03 1306.69,1480.07 1314.5,1480.11 1324.03,1480.16 1333.56,1480.22 1343.09,1480.29 1352.63,1480.37 1362.16,1480.45 1371.69,1480.53 1381.22,1480.63 1390.75,1480.72 1408.21,1480.91 1425.67,1481.12 1434.41,1481.23 1443.14,1481.34 1451.87,1481.45 1460.6,1481.56 1492.85,1482 1525.11,1482.45 1557.78,1482.91 1590.46,1483.36 1608.77,1483.61 1627.08,1483.84 1645.39,1484.07 1663.7,1484.28 1680.29,1484.47 1696.88,1484.64 1713.47,1484.81 1730.06,1484.97 1749.06,1485.13 1768.05,1485.28 1787.05,1485.42 1806.04,1485.55 1823.63,1485.66 1841.22,1485.76 1858.81,1485.84 1876.4,1485.92 1893.74,1485.99 1911.08,1486.05 1928.42,1486.11 1945.76,1486.15 1962.59,1486.2 1979.43,1486.23 1996.26,1486.26 2013.1,1486.29 2047.62,1486.34 2082.13,1486.37 2119.95,1486.4 2157.77,1486.41 2212.71,1486.43 2267.64,1486.44 2278.91,1486.44 2290.18,1486.44 \"/>\n",
       "<path clip-path=\"url(#clip900)\" d=\"M1536.81 250.738 L2279.06 250.738 L2279.06 95.2176 L1536.81 95.2176  Z\" fill=\"#ffffff\" fill-rule=\"evenodd\" fill-opacity=\"1\"/>\n",
       "<polyline clip-path=\"url(#clip900)\" style=\"stroke:#000000; stroke-linecap:round; stroke-linejoin:round; stroke-width:4; stroke-opacity:1; fill:none\" points=\"1536.81,250.738 2279.06,250.738 2279.06,95.2176 1536.81,95.2176 1536.81,250.738 \"/>\n",
       "<path clip-path=\"url(#clip900)\" d=\"M1561.38 167.794 L1708.77 167.794 L1708.77 126.322 L1561.38 126.322 L1561.38 167.794  Z\" fill=\"#009af9\" fill-rule=\"evenodd\" fill-opacity=\"1\"/>\n",
       "<polyline clip-path=\"url(#clip900)\" style=\"stroke:#000000; stroke-linecap:round; stroke-linejoin:round; stroke-width:4; stroke-opacity:1; fill:none\" points=\"1561.38,167.794 1708.77,167.794 1708.77,126.322 1561.38,126.322 1561.38,167.794 \"/>\n",
       "<path clip-path=\"url(#clip900)\" d=\"M1733.34 129.778 L1739.64 129.778 L1754.96 158.689 L1754.96 129.778 L1759.5 129.778 L1759.5 164.338 L1753.2 164.338 L1737.88 135.426 L1737.88 164.338 L1733.34 164.338 L1733.34 129.778 Z\" fill=\"#000000\" fill-rule=\"nonzero\" fill-opacity=\"1\" /><path clip-path=\"url(#clip900)\" d=\"M1778.66 141.398 Q1775.24 141.398 1773.25 144.083 Q1771.26 146.745 1771.26 151.398 Q1771.26 156.051 1773.22 158.736 Q1775.21 161.398 1778.66 161.398 Q1782.07 161.398 1784.06 158.713 Q1786.05 156.027 1786.05 151.398 Q1786.05 146.791 1784.06 144.106 Q1782.07 141.398 1778.66 141.398 M1778.66 137.787 Q1784.22 137.787 1787.39 141.398 Q1790.56 145.009 1790.56 151.398 Q1790.56 157.764 1787.39 161.398 Q1784.22 165.009 1778.66 165.009 Q1773.08 165.009 1769.91 161.398 Q1766.76 157.764 1766.76 151.398 Q1766.76 145.009 1769.91 141.398 Q1773.08 137.787 1778.66 137.787 Z\" fill=\"#000000\" fill-rule=\"nonzero\" fill-opacity=\"1\" /><path clip-path=\"url(#clip900)\" d=\"M1812.64 142.393 Q1811.93 141.977 1811.07 141.791 Q1810.24 141.583 1809.22 141.583 Q1805.61 141.583 1803.66 143.944 Q1801.74 146.282 1801.74 150.68 L1801.74 164.338 L1797.46 164.338 L1797.46 138.412 L1801.74 138.412 L1801.74 142.44 Q1803.08 140.078 1805.24 138.944 Q1807.39 137.787 1810.47 137.787 Q1810.91 137.787 1811.44 137.856 Q1811.97 137.903 1812.62 138.018 L1812.64 142.393 Z\" fill=\"#000000\" fill-rule=\"nonzero\" fill-opacity=\"1\" /><path clip-path=\"url(#clip900)\" d=\"M1836.46 143.389 Q1838.06 140.518 1840.28 139.153 Q1842.51 137.787 1845.51 137.787 Q1849.57 137.787 1851.76 140.634 Q1853.96 143.458 1853.96 148.689 L1853.96 164.338 L1849.68 164.338 L1849.68 148.828 Q1849.68 145.102 1848.36 143.296 Q1847.04 141.49 1844.33 141.49 Q1841.02 141.49 1839.1 143.69 Q1837.18 145.889 1837.18 149.685 L1837.18 164.338 L1832.9 164.338 L1832.9 148.828 Q1832.9 145.078 1831.58 143.296 Q1830.26 141.49 1827.51 141.49 Q1824.24 141.49 1822.32 143.713 Q1820.4 145.912 1820.4 149.685 L1820.4 164.338 L1816.12 164.338 L1816.12 138.412 L1820.4 138.412 L1820.4 142.44 Q1821.86 140.055 1823.89 138.921 Q1825.93 137.787 1828.73 137.787 Q1831.56 137.787 1833.52 139.222 Q1835.51 140.657 1836.46 143.389 Z\" fill=\"#000000\" fill-rule=\"nonzero\" fill-opacity=\"1\" /><path clip-path=\"url(#clip900)\" d=\"M1874.24 151.305 Q1869.08 151.305 1867.09 152.486 Q1865.1 153.666 1865.1 156.514 Q1865.1 158.782 1866.58 160.125 Q1868.08 161.444 1870.65 161.444 Q1874.19 161.444 1876.32 158.944 Q1878.48 156.421 1878.48 152.254 L1878.48 151.305 L1874.24 151.305 M1882.74 149.546 L1882.74 164.338 L1878.48 164.338 L1878.48 160.402 Q1877.02 162.763 1874.84 163.898 Q1872.67 165.009 1869.52 165.009 Q1865.54 165.009 1863.18 162.787 Q1860.84 160.541 1860.84 156.791 Q1860.84 152.416 1863.75 150.194 Q1866.69 147.972 1872.5 147.972 L1878.48 147.972 L1878.48 147.555 Q1878.48 144.615 1876.53 143.018 Q1874.61 141.398 1871.12 141.398 Q1868.89 141.398 1866.79 141.93 Q1864.68 142.463 1862.74 143.527 L1862.74 139.592 Q1865.07 138.69 1867.27 138.25 Q1869.47 137.787 1871.56 137.787 Q1877.18 137.787 1879.96 140.703 Q1882.74 143.62 1882.74 149.546 Z\" fill=\"#000000\" fill-rule=\"nonzero\" fill-opacity=\"1\" /><path clip-path=\"url(#clip900)\" d=\"M1891.51 128.319 L1895.77 128.319 L1895.77 164.338 L1891.51 164.338 L1891.51 128.319 Z\" fill=\"#000000\" fill-rule=\"nonzero\" fill-opacity=\"1\" /><path clip-path=\"url(#clip900)\" d=\"M1904.68 138.412 L1908.94 138.412 L1908.94 164.338 L1904.68 164.338 L1904.68 138.412 M1904.68 128.319 L1908.94 128.319 L1908.94 133.713 L1904.68 133.713 L1904.68 128.319 Z\" fill=\"#000000\" fill-rule=\"nonzero\" fill-opacity=\"1\" /><path clip-path=\"url(#clip900)\" d=\"M1916 138.412 L1936.23 138.412 L1936.23 142.301 L1920.21 160.935 L1936.23 160.935 L1936.23 164.338 L1915.42 164.338 L1915.42 160.449 L1931.44 141.815 L1916 141.815 L1916 138.412 Z\" fill=\"#000000\" fill-rule=\"nonzero\" fill-opacity=\"1\" /><path clip-path=\"url(#clip900)\" d=\"M1964.91 150.31 L1964.91 152.393 L1945.33 152.393 Q1945.61 156.791 1947.97 159.106 Q1950.35 161.398 1954.59 161.398 Q1957.04 161.398 1959.33 160.796 Q1961.65 160.194 1963.92 158.99 L1963.92 163.018 Q1961.62 163.99 1959.22 164.5 Q1956.81 165.009 1954.33 165.009 Q1948.13 165.009 1944.5 161.398 Q1940.88 157.787 1940.88 151.629 Q1940.88 145.264 1944.31 141.537 Q1947.76 137.787 1953.59 137.787 Q1958.82 137.787 1961.86 141.166 Q1964.91 144.523 1964.91 150.31 M1960.65 149.06 Q1960.61 145.565 1958.68 143.481 Q1956.79 141.398 1953.64 141.398 Q1950.07 141.398 1947.92 143.412 Q1945.79 145.426 1945.47 149.083 L1960.65 149.06 Z\" fill=\"#000000\" fill-rule=\"nonzero\" fill-opacity=\"1\" /><path clip-path=\"url(#clip900)\" d=\"M1988.96 142.347 L1988.96 128.319 L1993.22 128.319 L1993.22 164.338 L1988.96 164.338 L1988.96 160.449 Q1987.62 162.763 1985.56 163.898 Q1983.52 165.009 1980.65 165.009 Q1975.95 165.009 1972.99 161.259 Q1970.05 157.509 1970.05 151.398 Q1970.05 145.287 1972.99 141.537 Q1975.95 137.787 1980.65 137.787 Q1983.52 137.787 1985.56 138.921 Q1987.62 140.032 1988.96 142.347 M1974.45 151.398 Q1974.45 156.097 1976.37 158.782 Q1978.31 161.444 1981.69 161.444 Q1985.07 161.444 1987.02 158.782 Q1988.96 156.097 1988.96 151.398 Q1988.96 146.699 1987.02 144.037 Q1985.07 141.352 1981.69 141.352 Q1978.31 141.352 1976.37 144.037 Q1974.45 146.699 1974.45 151.398 Z\" fill=\"#000000\" fill-rule=\"nonzero\" fill-opacity=\"1\" /><path clip-path=\"url(#clip900)\" d=\"M2017.25 129.778 L2021.93 129.778 L2021.93 143.944 L2038.92 143.944 L2038.92 129.778 L2043.59 129.778 L2043.59 164.338 L2038.92 164.338 L2038.92 147.879 L2021.93 147.879 L2021.93 164.338 L2017.25 164.338 L2017.25 129.778 Z\" fill=\"#000000\" fill-rule=\"nonzero\" fill-opacity=\"1\" /><path clip-path=\"url(#clip900)\" d=\"M2052.71 138.412 L2056.97 138.412 L2056.97 164.338 L2052.71 164.338 L2052.71 138.412 M2052.71 128.319 L2056.97 128.319 L2056.97 133.713 L2052.71 133.713 L2052.71 128.319 Z\" fill=\"#000000\" fill-rule=\"nonzero\" fill-opacity=\"1\" /><path clip-path=\"url(#clip900)\" d=\"M2082.41 139.176 L2082.41 143.203 Q2080.61 142.277 2078.66 141.815 Q2076.72 141.352 2074.63 141.352 Q2071.46 141.352 2069.86 142.324 Q2068.29 143.296 2068.29 145.24 Q2068.29 146.722 2069.43 147.578 Q2070.56 148.412 2073.99 149.176 L2075.44 149.5 Q2079.98 150.472 2081.88 152.254 Q2083.8 154.014 2083.8 157.185 Q2083.8 160.796 2080.93 162.902 Q2078.08 165.009 2073.08 165.009 Q2071 165.009 2068.73 164.592 Q2066.49 164.199 2063.99 163.388 L2063.99 158.99 Q2066.35 160.217 2068.64 160.842 Q2070.93 161.444 2073.18 161.444 Q2076.18 161.444 2077.8 160.426 Q2079.43 159.384 2079.43 157.509 Q2079.43 155.773 2078.24 154.847 Q2077.09 153.921 2073.13 153.064 L2071.65 152.717 Q2067.69 151.884 2065.93 150.171 Q2064.17 148.435 2064.17 145.426 Q2064.17 141.768 2066.76 139.778 Q2069.36 137.787 2074.12 137.787 Q2076.49 137.787 2078.57 138.134 Q2080.65 138.481 2082.41 139.176 Z\" fill=\"#000000\" fill-rule=\"nonzero\" fill-opacity=\"1\" /><path clip-path=\"url(#clip900)\" d=\"M2094.8 131.051 L2094.8 138.412 L2103.57 138.412 L2103.57 141.722 L2094.8 141.722 L2094.8 155.796 Q2094.8 158.967 2095.65 159.87 Q2096.53 160.773 2099.19 160.773 L2103.57 160.773 L2103.57 164.338 L2099.19 164.338 Q2094.26 164.338 2092.39 162.509 Q2090.51 160.657 2090.51 155.796 L2090.51 141.722 L2087.39 141.722 L2087.39 138.412 L2090.51 138.412 L2090.51 131.051 L2094.8 131.051 Z\" fill=\"#000000\" fill-rule=\"nonzero\" fill-opacity=\"1\" /><path clip-path=\"url(#clip900)\" d=\"M2119.22 141.398 Q2115.79 141.398 2113.8 144.083 Q2111.81 146.745 2111.81 151.398 Q2111.81 156.051 2113.78 158.736 Q2115.77 161.398 2119.22 161.398 Q2122.62 161.398 2124.61 158.713 Q2126.6 156.027 2126.6 151.398 Q2126.6 146.791 2124.61 144.106 Q2122.62 141.398 2119.22 141.398 M2119.22 137.787 Q2124.77 137.787 2127.94 141.398 Q2131.11 145.009 2131.11 151.398 Q2131.11 157.764 2127.94 161.398 Q2124.77 165.009 2119.22 165.009 Q2113.64 165.009 2110.47 161.398 Q2107.32 157.764 2107.32 151.398 Q2107.32 145.009 2110.47 141.398 Q2113.64 137.787 2119.22 137.787 Z\" fill=\"#000000\" fill-rule=\"nonzero\" fill-opacity=\"1\" /><path clip-path=\"url(#clip900)\" d=\"M2155.23 151.074 Q2155.23 146.444 2153.31 143.898 Q2151.42 141.352 2147.97 141.352 Q2144.54 141.352 2142.62 143.898 Q2140.72 146.444 2140.72 151.074 Q2140.72 155.68 2142.62 158.226 Q2144.54 160.773 2147.97 160.773 Q2151.42 160.773 2153.31 158.226 Q2155.23 155.68 2155.23 151.074 M2159.49 161.12 Q2159.49 167.74 2156.55 170.958 Q2153.61 174.199 2147.55 174.199 Q2145.3 174.199 2143.31 173.851 Q2141.32 173.527 2139.45 172.833 L2139.45 168.689 Q2141.32 169.708 2143.15 170.194 Q2144.98 170.68 2146.88 170.68 Q2151.07 170.68 2153.15 168.481 Q2155.23 166.305 2155.23 161.884 L2155.23 159.777 Q2153.92 162.069 2151.86 163.203 Q2149.8 164.338 2146.92 164.338 Q2142.16 164.338 2139.24 160.703 Q2136.32 157.069 2136.32 151.074 Q2136.32 145.055 2139.24 141.421 Q2142.16 137.787 2146.92 137.787 Q2149.8 137.787 2151.86 138.921 Q2153.92 140.055 2155.23 142.347 L2155.23 138.412 L2159.49 138.412 L2159.49 161.12 Z\" fill=\"#000000\" fill-rule=\"nonzero\" fill-opacity=\"1\" /><path clip-path=\"url(#clip900)\" d=\"M2183.29 142.393 Q2182.57 141.977 2181.72 141.791 Q2180.88 141.583 2179.86 141.583 Q2176.25 141.583 2174.31 143.944 Q2172.39 146.282 2172.39 150.68 L2172.39 164.338 L2168.11 164.338 L2168.11 138.412 L2172.39 138.412 L2172.39 142.44 Q2173.73 140.078 2175.88 138.944 Q2178.04 137.787 2181.11 137.787 Q2181.55 137.787 2182.09 137.856 Q2182.62 137.903 2183.27 138.018 L2183.29 142.393 Z\" fill=\"#000000\" fill-rule=\"nonzero\" fill-opacity=\"1\" /><path clip-path=\"url(#clip900)\" d=\"M2199.54 151.305 Q2194.38 151.305 2192.39 152.486 Q2190.4 153.666 2190.4 156.514 Q2190.4 158.782 2191.88 160.125 Q2193.38 161.444 2195.95 161.444 Q2199.49 161.444 2201.62 158.944 Q2203.78 156.421 2203.78 152.254 L2203.78 151.305 L2199.54 151.305 M2208.04 149.546 L2208.04 164.338 L2203.78 164.338 L2203.78 160.402 Q2202.32 162.763 2200.14 163.898 Q2197.97 165.009 2194.82 165.009 Q2190.84 165.009 2188.48 162.787 Q2186.14 160.541 2186.14 156.791 Q2186.14 152.416 2189.05 150.194 Q2191.99 147.972 2197.8 147.972 L2203.78 147.972 L2203.78 147.555 Q2203.78 144.615 2201.83 143.018 Q2199.91 141.398 2196.42 141.398 Q2194.19 141.398 2192.09 141.93 Q2189.98 142.463 2188.04 143.527 L2188.04 139.592 Q2190.37 138.69 2192.57 138.25 Q2194.77 137.787 2196.85 137.787 Q2202.48 137.787 2205.26 140.703 Q2208.04 143.62 2208.04 149.546 Z\" fill=\"#000000\" fill-rule=\"nonzero\" fill-opacity=\"1\" /><path clip-path=\"url(#clip900)\" d=\"M2236.99 143.389 Q2238.59 140.518 2240.81 139.153 Q2243.04 137.787 2246.04 137.787 Q2250.1 137.787 2252.29 140.634 Q2254.49 143.458 2254.49 148.689 L2254.49 164.338 L2250.21 164.338 L2250.21 148.828 Q2250.21 145.102 2248.89 143.296 Q2247.57 141.49 2244.86 141.49 Q2241.55 141.49 2239.63 143.69 Q2237.71 145.889 2237.71 149.685 L2237.71 164.338 L2233.43 164.338 L2233.43 148.828 Q2233.43 145.078 2232.11 143.296 Q2230.79 141.49 2228.04 141.49 Q2224.77 141.49 2222.85 143.713 Q2220.93 145.912 2220.93 149.685 L2220.93 164.338 L2216.65 164.338 L2216.65 138.412 L2220.93 138.412 L2220.93 142.44 Q2222.39 140.055 2224.42 138.921 Q2226.46 137.787 2229.26 137.787 Q2232.09 137.787 2234.05 139.222 Q2236.04 140.657 2236.99 143.389 Z\" fill=\"#000000\" fill-rule=\"nonzero\" fill-opacity=\"1\" /><path clip-path=\"url(#clip900)\" d=\"M1561.38 219.634 L1708.77 219.634 L1708.77 178.162 L1561.38 178.162 L1561.38 219.634  Z\" fill=\"#ffa500\" fill-rule=\"evenodd\" fill-opacity=\"0.5\"/>\n",
       "<polyline clip-path=\"url(#clip900)\" style=\"stroke:#e26f46; stroke-linecap:round; stroke-linejoin:round; stroke-width:4; stroke-opacity:1; fill:none\" points=\"1561.38,178.162 1708.77,178.162 \"/>\n",
       "<path clip-path=\"url(#clip900)\" d=\"M1755.58 182.752 L1755.58 187.312 Q1752.92 186.039 1750.56 185.414 Q1748.2 184.789 1746 184.789 Q1742.18 184.789 1740.1 186.27 Q1738.04 187.752 1738.04 190.483 Q1738.04 192.775 1739.4 193.955 Q1740.79 195.113 1744.64 195.83 L1747.46 196.409 Q1752.69 197.405 1755.17 199.928 Q1757.67 202.428 1757.67 206.641 Q1757.67 211.664 1754.29 214.256 Q1750.93 216.849 1744.43 216.849 Q1741.97 216.849 1739.2 216.293 Q1736.44 215.738 1733.48 214.65 L1733.48 209.835 Q1736.33 211.432 1739.06 212.242 Q1741.79 213.053 1744.43 213.053 Q1748.43 213.053 1750.61 211.479 Q1752.78 209.904 1752.78 206.988 Q1752.78 204.442 1751.21 203.006 Q1749.66 201.571 1746.09 200.854 L1743.25 200.298 Q1738.01 199.256 1735.68 197.034 Q1733.34 194.812 1733.34 190.854 Q1733.34 186.27 1736.56 183.631 Q1739.8 180.993 1745.47 180.993 Q1747.9 180.993 1750.42 181.432 Q1752.95 181.872 1755.58 182.752 Z\" fill=\"#000000\" fill-rule=\"nonzero\" fill-opacity=\"1\" /><path clip-path=\"url(#clip900)\" d=\"M1768.99 182.891 L1768.99 190.252 L1777.76 190.252 L1777.76 193.562 L1768.99 193.562 L1768.99 207.636 Q1768.99 210.807 1769.84 211.71 Q1770.72 212.613 1773.39 212.613 L1777.76 212.613 L1777.76 216.178 L1773.39 216.178 Q1768.45 216.178 1766.58 214.349 Q1764.7 212.497 1764.7 207.636 L1764.7 193.562 L1761.58 193.562 L1761.58 190.252 L1764.7 190.252 L1764.7 182.891 L1768.99 182.891 Z\" fill=\"#000000\" fill-rule=\"nonzero\" fill-opacity=\"1\" /><path clip-path=\"url(#clip900)\" d=\"M1795.14 203.145 Q1789.98 203.145 1787.99 204.326 Q1786 205.506 1786 208.354 Q1786 210.622 1787.48 211.965 Q1788.99 213.284 1791.56 213.284 Q1795.1 213.284 1797.23 210.784 Q1799.38 208.261 1799.38 204.094 L1799.38 203.145 L1795.14 203.145 M1803.64 201.386 L1803.64 216.178 L1799.38 216.178 L1799.38 212.242 Q1797.92 214.603 1795.75 215.738 Q1793.57 216.849 1790.42 216.849 Q1786.44 216.849 1784.08 214.627 Q1781.74 212.381 1781.74 208.631 Q1781.74 204.256 1784.66 202.034 Q1787.6 199.812 1793.41 199.812 L1799.38 199.812 L1799.38 199.395 Q1799.38 196.455 1797.44 194.858 Q1795.51 193.238 1792.02 193.238 Q1789.8 193.238 1787.69 193.77 Q1785.58 194.303 1783.64 195.367 L1783.64 191.432 Q1785.98 190.53 1788.18 190.09 Q1790.38 189.627 1792.46 189.627 Q1798.08 189.627 1800.86 192.543 Q1803.64 195.46 1803.64 201.386 Z\" fill=\"#000000\" fill-rule=\"nonzero\" fill-opacity=\"1\" /><path clip-path=\"url(#clip900)\" d=\"M1833.96 200.529 L1833.96 216.178 L1829.7 216.178 L1829.7 200.668 Q1829.7 196.988 1828.27 195.159 Q1826.83 193.33 1823.96 193.33 Q1820.51 193.33 1818.52 195.53 Q1816.53 197.729 1816.53 201.525 L1816.53 216.178 L1812.25 216.178 L1812.25 190.252 L1816.53 190.252 L1816.53 194.28 Q1818.06 191.942 1820.12 190.784 Q1822.2 189.627 1824.91 189.627 Q1829.38 189.627 1831.67 192.405 Q1833.96 195.159 1833.96 200.529 Z\" fill=\"#000000\" fill-rule=\"nonzero\" fill-opacity=\"1\" /><path clip-path=\"url(#clip900)\" d=\"M1859.52 194.187 L1859.52 180.159 L1863.78 180.159 L1863.78 216.178 L1859.52 216.178 L1859.52 212.289 Q1858.18 214.603 1856.12 215.738 Q1854.08 216.849 1851.21 216.849 Q1846.51 216.849 1843.55 213.099 Q1840.61 209.349 1840.61 203.238 Q1840.61 197.127 1843.55 193.377 Q1846.51 189.627 1851.21 189.627 Q1854.08 189.627 1856.12 190.761 Q1858.18 191.872 1859.52 194.187 M1845.01 203.238 Q1845.01 207.937 1846.93 210.622 Q1848.87 213.284 1852.25 213.284 Q1855.63 213.284 1857.57 210.622 Q1859.52 207.937 1859.52 203.238 Q1859.52 198.539 1857.57 195.877 Q1855.63 193.192 1852.25 193.192 Q1848.87 193.192 1846.93 195.877 Q1845.01 198.539 1845.01 203.238 Z\" fill=\"#000000\" fill-rule=\"nonzero\" fill-opacity=\"1\" /><path clip-path=\"url(#clip900)\" d=\"M1884.33 203.145 Q1879.17 203.145 1877.18 204.326 Q1875.19 205.506 1875.19 208.354 Q1875.19 210.622 1876.67 211.965 Q1878.18 213.284 1880.75 213.284 Q1884.29 213.284 1886.42 210.784 Q1888.57 208.261 1888.57 204.094 L1888.57 203.145 L1884.33 203.145 M1892.83 201.386 L1892.83 216.178 L1888.57 216.178 L1888.57 212.242 Q1887.11 214.603 1884.94 215.738 Q1882.76 216.849 1879.61 216.849 Q1875.63 216.849 1873.27 214.627 Q1870.93 212.381 1870.93 208.631 Q1870.93 204.256 1873.85 202.034 Q1876.79 199.812 1882.6 199.812 L1888.57 199.812 L1888.57 199.395 Q1888.57 196.455 1886.63 194.858 Q1884.7 193.238 1881.21 193.238 Q1878.99 193.238 1876.88 193.77 Q1874.77 194.303 1872.83 195.367 L1872.83 191.432 Q1875.17 190.53 1877.37 190.09 Q1879.57 189.627 1881.65 189.627 Q1887.27 189.627 1890.05 192.543 Q1892.83 195.46 1892.83 201.386 Z\" fill=\"#000000\" fill-rule=\"nonzero\" fill-opacity=\"1\" /><path clip-path=\"url(#clip900)\" d=\"M1916.62 194.233 Q1915.91 193.817 1915.05 193.631 Q1914.22 193.423 1913.2 193.423 Q1909.59 193.423 1907.64 195.784 Q1905.72 198.122 1905.72 202.52 L1905.72 216.178 L1901.44 216.178 L1901.44 190.252 L1905.72 190.252 L1905.72 194.28 Q1907.06 191.918 1909.22 190.784 Q1911.37 189.627 1914.45 189.627 Q1914.89 189.627 1915.42 189.696 Q1915.95 189.743 1916.6 189.858 L1916.62 194.233 Z\" fill=\"#000000\" fill-rule=\"nonzero\" fill-opacity=\"1\" /><path clip-path=\"url(#clip900)\" d=\"M1937.32 194.187 L1937.32 180.159 L1941.58 180.159 L1941.58 216.178 L1937.32 216.178 L1937.32 212.289 Q1935.98 214.603 1933.92 215.738 Q1931.88 216.849 1929.01 216.849 Q1924.31 216.849 1921.35 213.099 Q1918.41 209.349 1918.41 203.238 Q1918.41 197.127 1921.35 193.377 Q1924.31 189.627 1929.01 189.627 Q1931.88 189.627 1933.92 190.761 Q1935.98 191.872 1937.32 194.187 M1922.81 203.238 Q1922.81 207.937 1924.73 210.622 Q1926.67 213.284 1930.05 213.284 Q1933.43 213.284 1935.37 210.622 Q1937.32 207.937 1937.32 203.238 Q1937.32 198.539 1935.37 195.877 Q1933.43 193.192 1930.05 193.192 Q1926.67 193.192 1924.73 195.877 Q1922.81 198.539 1922.81 203.238 Z\" fill=\"#000000\" fill-rule=\"nonzero\" fill-opacity=\"1\" /><path clip-path=\"url(#clip900)\" d=\"M1965.61 181.618 L1971.9 181.618 L1987.23 210.529 L1987.23 181.618 L1991.76 181.618 L1991.76 216.178 L1985.47 216.178 L1970.14 187.266 L1970.14 216.178 L1965.61 216.178 L1965.61 181.618 Z\" fill=\"#000000\" fill-rule=\"nonzero\" fill-opacity=\"1\" /><path clip-path=\"url(#clip900)\" d=\"M2010.93 193.238 Q2007.5 193.238 2005.51 195.923 Q2003.52 198.585 2003.52 203.238 Q2003.52 207.891 2005.49 210.576 Q2007.48 213.238 2010.93 213.238 Q2014.33 213.238 2016.32 210.553 Q2018.31 207.867 2018.31 203.238 Q2018.31 198.631 2016.32 195.946 Q2014.33 193.238 2010.93 193.238 M2010.93 189.627 Q2016.49 189.627 2019.66 193.238 Q2022.83 196.849 2022.83 203.238 Q2022.83 209.604 2019.66 213.238 Q2016.49 216.849 2010.93 216.849 Q2005.35 216.849 2002.18 213.238 Q1999.03 209.604 1999.03 203.238 Q1999.03 196.849 2002.18 193.238 Q2005.35 189.627 2010.93 189.627 Z\" fill=\"#000000\" fill-rule=\"nonzero\" fill-opacity=\"1\" /><path clip-path=\"url(#clip900)\" d=\"M2044.91 194.233 Q2044.19 193.817 2043.34 193.631 Q2042.5 193.423 2041.49 193.423 Q2037.87 193.423 2035.93 195.784 Q2034.01 198.122 2034.01 202.52 L2034.01 216.178 L2029.73 216.178 L2029.73 190.252 L2034.01 190.252 L2034.01 194.28 Q2035.35 191.918 2037.5 190.784 Q2039.66 189.627 2042.74 189.627 Q2043.18 189.627 2043.71 189.696 Q2044.24 189.743 2044.89 189.858 L2044.91 194.233 Z\" fill=\"#000000\" fill-rule=\"nonzero\" fill-opacity=\"1\" /><path clip-path=\"url(#clip900)\" d=\"M2068.73 195.229 Q2070.33 192.358 2072.55 190.993 Q2074.77 189.627 2077.78 189.627 Q2081.83 189.627 2084.03 192.474 Q2086.23 195.298 2086.23 200.529 L2086.23 216.178 L2081.95 216.178 L2081.95 200.668 Q2081.95 196.942 2080.63 195.136 Q2079.31 193.33 2076.6 193.33 Q2073.29 193.33 2071.37 195.53 Q2069.45 197.729 2069.45 201.525 L2069.45 216.178 L2065.17 216.178 L2065.17 200.668 Q2065.17 196.918 2063.85 195.136 Q2062.53 193.33 2059.77 193.33 Q2056.51 193.33 2054.59 195.553 Q2052.67 197.752 2052.67 201.525 L2052.67 216.178 L2048.38 216.178 L2048.38 190.252 L2052.67 190.252 L2052.67 194.28 Q2054.12 191.895 2056.16 190.761 Q2058.2 189.627 2061 189.627 Q2063.82 189.627 2065.79 191.062 Q2067.78 192.497 2068.73 195.229 Z\" fill=\"#000000\" fill-rule=\"nonzero\" fill-opacity=\"1\" /><path clip-path=\"url(#clip900)\" d=\"M2106.51 203.145 Q2101.35 203.145 2099.36 204.326 Q2097.36 205.506 2097.36 208.354 Q2097.36 210.622 2098.85 211.965 Q2100.35 213.284 2102.92 213.284 Q2106.46 213.284 2108.59 210.784 Q2110.74 208.261 2110.74 204.094 L2110.74 203.145 L2106.51 203.145 M2115 201.386 L2115 216.178 L2110.74 216.178 L2110.74 212.242 Q2109.29 214.603 2107.11 215.738 Q2104.93 216.849 2101.79 216.849 Q2097.8 216.849 2095.44 214.627 Q2093.11 212.381 2093.11 208.631 Q2093.11 204.256 2096.02 202.034 Q2098.96 199.812 2104.77 199.812 L2110.74 199.812 L2110.74 199.395 Q2110.74 196.455 2108.8 194.858 Q2106.88 193.238 2103.38 193.238 Q2101.16 193.238 2099.05 193.77 Q2096.95 194.303 2095 195.367 L2095 191.432 Q2097.34 190.53 2099.54 190.09 Q2101.74 189.627 2103.82 189.627 Q2109.45 189.627 2112.23 192.543 Q2115 195.46 2115 201.386 Z\" fill=\"#000000\" fill-rule=\"nonzero\" fill-opacity=\"1\" /><path clip-path=\"url(#clip900)\" d=\"M2123.78 180.159 L2128.04 180.159 L2128.04 216.178 L2123.78 216.178 L2123.78 180.159 Z\" fill=\"#000000\" fill-rule=\"nonzero\" fill-opacity=\"1\" /><path clip-path=\"url(#clip900)\" d=\"M2156.88 185.46 L2156.88 198.446 L2162.76 198.446 Q2166.02 198.446 2167.8 196.756 Q2169.59 195.067 2169.59 191.942 Q2169.59 188.84 2167.8 187.15 Q2166.02 185.46 2162.76 185.46 L2156.88 185.46 M2152.2 181.618 L2162.76 181.618 Q2168.57 181.618 2171.53 184.256 Q2174.52 186.872 2174.52 191.942 Q2174.52 197.057 2171.53 199.673 Q2168.57 202.289 2162.76 202.289 L2156.88 202.289 L2156.88 216.178 L2152.2 216.178 L2152.2 181.618 Z\" fill=\"#000000\" fill-rule=\"nonzero\" fill-opacity=\"1\" /><path clip-path=\"url(#clip900)\" d=\"M2185.47 185.46 L2185.47 212.335 L2191.11 212.335 Q2198.27 212.335 2201.58 209.094 Q2204.91 205.854 2204.91 198.863 Q2204.91 191.918 2201.58 188.701 Q2198.27 185.46 2191.11 185.46 L2185.47 185.46 M2180.79 181.618 L2190.4 181.618 Q2200.44 181.618 2205.14 185.807 Q2209.84 189.974 2209.84 198.863 Q2209.84 207.798 2205.12 211.988 Q2200.4 216.178 2190.4 216.178 L2180.79 216.178 L2180.79 181.618 Z\" fill=\"#000000\" fill-rule=\"nonzero\" fill-opacity=\"1\" /><path clip-path=\"url(#clip900)\" d=\"M2217.29 181.618 L2237.16 181.618 L2237.16 185.553 L2221.97 185.553 L2221.97 195.738 L2235.67 195.738 L2235.67 199.673 L2221.97 199.673 L2221.97 216.178 L2217.29 216.178 L2217.29 181.618 Z\" fill=\"#000000\" fill-rule=\"nonzero\" fill-opacity=\"1\" /></svg>\n"
      ]
     },
     "execution_count": 28,
     "metadata": {},
     "output_type": "execute_result"
    }
   ],
   "source": [
    "# Sample data: Replace `data` with your dataset\n",
    "data = randn(1000)  # Example: 1000 random numbers from a standard normal distribution\n",
    "\n",
    "# Create a normalized histogram\n",
    "histogram(data, normalization=:probability, bins=30, label=\"Normalized Histogram\")\n",
    "\n",
    "# To compare with a PDF, overlay the PDF on the same plot\n",
    "# For example, overlaying a standard normal PDF\n",
    "plot!(Normal(0, 1), fill=(0, .5,:orange), label=\"Standard Normal PDF\")"
   ]
  },
  {
   "cell_type": "code",
   "execution_count": null,
   "id": "41be3fb1-ad27-41ab-bce8-c16097f6f7b1",
   "metadata": {},
   "outputs": [],
   "source": []
  }
 ],
 "metadata": {
  "kernelspec": {
   "display_name": "Julia 1.9.3",
   "language": "julia",
   "name": "julia-1.9"
  },
  "language_info": {
   "file_extension": ".jl",
   "mimetype": "application/julia",
   "name": "julia",
   "version": "1.10.0"
  }
 },
 "nbformat": 4,
 "nbformat_minor": 5
}
