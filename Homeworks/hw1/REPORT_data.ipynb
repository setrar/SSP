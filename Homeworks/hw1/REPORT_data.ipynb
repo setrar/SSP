{
 "cells": [
  {
   "cell_type": "markdown",
   "id": "18cdc126-4d8f-49fe-b924-72d69b73289b",
   "metadata": {},
   "source": [
    "# &#x1F4DD; REPORT"
   ]
  },
  {
   "cell_type": "markdown",
   "id": "3d6ac38c-059f-49fb-b237-7c09e4fc50c3",
   "metadata": {},
   "source": [
    "# Homework &#x0031;&#xFE0F;&#x20E3; \n",
    "\n",
    "Homework policy: the homework is individual. Students are encouraged to discuss with fellow students to try to find the main structure of the solution for a problem, especially if they are totally stuck at the beginning of the problem. However, you should work out the details yourself and write down in your own words only what you understand yourself."
   ]
  },
  {
   "cell_type": "markdown",
   "id": "34e91283-0494-4de9-bbf3-56d7d25a0a78",
   "metadata": {},
   "source": [
    "\n",
    "In this problem, we consider the roundtrip delay in a computer network (internet) between the computer we’re working on and another computer connected to the network. This roundtrip delay will be different, every time we send a message. As such, it can be modeled as a random variable y. For the design of network protocols and for their performance evaluation, it is important to know the distribution of this random roundtrip delay. To turn the estimation of the roundtrip delay distribution into a parameter estimation problem, we shall take a parametric distribution, parameterized by one or more parameters. Since we don’t have too much information about this variable y (except that it should be positive), we shall try several parametric distributions. In particular, we shall consider the following distributions:\n",
    "\n",
    "$$\n",
    "\\text { * A Gaussian distribution: } \\qquad f_G (y|\\mu, \\sigma^2) = \\frac{1}{\\sqrt{2\\pi\\sigma^2}}  e^{-\\frac{(y−\\mu)^2}{2\\sigma^2}} \n",
    "$$\n",
    "\n",
    "$$\n",
    "\\text { * A Rayleigh distribution: } \\qquad f_R (y|\\sigma^2) = \n",
    "\\begin{cases}\n",
    "0 & , y < 0\n",
    "\\\\\n",
    "\\frac{y}{\\sigma^2}  e^{-\\frac{y^2}{2\\sigma^2}} & , y \\geq 0\n",
    "\\end{cases}\n",
    "$$\n",
    "\n",
    "$$\n",
    "\\text { * An Erlang distribution: } \\qquad f_{Em} (y|\\lambda) = \n",
    "\\begin{cases}\n",
    "0 & , y < 0\n",
    "\\\\\n",
    "\\frac{\\lambda^{m+1}}{m!} y^me^{\\lambda y} & , y \\geq 0\n",
    "\\end{cases} \n",
    "\\\\\n",
    "\\text{ for different values of } m \\in \\{0,1,2\\}.\n",
    "\\\\\n",
    "\\\\\n",
    "\\text{ Remark that for m = 0 we have an exponential density: }\n",
    "\\\\\n",
    "f_{E0}(y|\\lambda) = \n",
    "\\begin{cases}\n",
    "0 & , y < 0\n",
    "\\\\\n",
    "\\lambda e^{-\\lambda y} & , y \\geq 0\n",
    "\\end{cases}\n",
    "$$\n",
    "\n",
    "$$\n",
    "\\text{ * A (shifted) exponential density: } \\qquad f_{exp}(y|\\lambda,\\alpha) = \n",
    "\\begin{cases}\n",
    "0 & , y < 0\n",
    "\\\\\n",
    "\\lambda e^{-\\lambda(y - \\alpha)} & , y \\geq 0\n",
    "\\end{cases}\n",
    "$$"
   ]
  },
  {
   "cell_type": "markdown",
   "id": "dc509581-f206-4fa8-94ed-7297a4f6512f",
   "metadata": {},
   "source": [
    "**&#x1F516;** **(&#x2170;)** Your raw data?\n"
   ]
  },
  {
   "cell_type": "code",
   "execution_count": 1,
   "id": "1131459e-bbd4-4406-827e-95fe01f24938",
   "metadata": {},
   "outputs": [],
   "source": [
    "using DataFrames, CSV"
   ]
  },
  {
   "cell_type": "code",
   "execution_count": 2,
   "id": "9a236f89-c5ff-450d-a4e8-0c80b62a7c98",
   "metadata": {},
   "outputs": [],
   "source": [
    "df = CSV.File(\"stats.txt\") |> DataFrame;"
   ]
  },
  {
   "cell_type": "code",
   "execution_count": 3,
   "id": "6d3a72c8-84f5-4115-84ab-69116232835e",
   "metadata": {},
   "outputs": [],
   "source": [
    "using PrettyTables"
   ]
  },
  {
   "cell_type": "code",
   "execution_count": 4,
   "id": "76e687bc-2c24-46d8-b450-cbe3f94d9473",
   "metadata": {},
   "outputs": [],
   "source": [
    "header = (\n",
    "      [\"pingstats\"]\n",
    "    , [\"[Float64]\"]\n",
    ");"
   ]
  },
  {
   "cell_type": "code",
   "execution_count": 5,
   "id": "0084fdeb-5d4e-4b1c-9b85-900e1dc2f0bd",
   "metadata": {},
   "outputs": [
    {
     "name": "stdout",
     "output_type": "stream",
     "text": [
      "y[1:3] = [158.991, 152.726, 152.736]\n"
     ]
    }
   ],
   "source": [
    "y = df[!,\"pingstats\"]; @show y[1:3];"
   ]
  },
  {
   "cell_type": "code",
   "execution_count": 6,
   "id": "558311d4-7fa5-4d09-ae26-18286a800a02",
   "metadata": {},
   "outputs": [
    {
     "data": {
      "text/html": [
       "<!DOCTYPE html>\n",
       "<html>\n",
       "<meta charset=\"UTF-8\">\n",
       "<head>\n",
       "<style>\n",
       "  table, td, th {\n",
       "      border-collapse: collapse;\n",
       "      font-family: sans-serif;\n",
       "  }\n",
       "\n",
       "  td, th {\n",
       "      border-bottom: 0;\n",
       "      padding: 4px\n",
       "  }\n",
       "\n",
       "  tr:nth-child(odd) {\n",
       "      background: #eee;\n",
       "  }\n",
       "\n",
       "  tr:nth-child(even) {\n",
       "      background: #fff;\n",
       "  }\n",
       "\n",
       "  tr.header {\n",
       "      background: navy !important;\n",
       "      color: white;\n",
       "      font-weight: bold;\n",
       "  }\n",
       "\n",
       "  tr.subheader {\n",
       "      background: lightgray !important;\n",
       "      color: black;\n",
       "  }\n",
       "\n",
       "  tr.headerLastRow {\n",
       "      border-bottom: 2px solid black;\n",
       "  }\n",
       "\n",
       "  th.rowNumber, td.rowNumber {\n",
       "      text-align: right;\n",
       "  }\n",
       "\n",
       "</style>\n",
       "</head>\n",
       "<body>\n",
       "<table>\n",
       "  <thead>\n",
       "    <tr class = \"header\">\n",
       "      <th style = \"text-align: right;\">pingstats</th>\n",
       "    </tr>\n",
       "    <tr class = \"subheader headerLastRow\">\n",
       "      <th style = \"text-align: right;\">[Float64]</th>\n",
       "    </tr>\n",
       "  </thead>\n",
       "  <tbody>\n",
       "    <tr>\n",
       "      <td style = \"text-align: right;\">158.991</td>\n",
       "    </tr>\n",
       "    <tr>\n",
       "      <td style = \"text-align: right;\">152.726</td>\n",
       "    </tr>\n",
       "    <tr>\n",
       "      <td style = \"text-align: right;\">152.736</td>\n",
       "    </tr>\n",
       "  </tbody>\n",
       "</table>\n",
       "</body>\n",
       "</html>\n"
      ]
     },
     "metadata": {},
     "output_type": "display_data"
    }
   ],
   "source": [
    "pretty_table(\n",
    "    first(y, 3)\n",
    "    , backend=Val(:html), header = header, standalone=true)"
   ]
  },
  {
   "cell_type": "code",
   "execution_count": 7,
   "id": "ec0753b8-9efe-4024-ac38-e1f20d772e93",
   "metadata": {},
   "outputs": [],
   "source": [
    "using Statistics\n",
    "using StatsPlots"
   ]
  },
  {
   "cell_type": "code",
   "execution_count": 8,
   "id": "fdb52ff8-f40f-4362-a481-d4c8f7b8ae0f",
   "metadata": {},
   "outputs": [
    {
     "data": {
      "text/plain": [
       "100"
      ]
     },
     "execution_count": 8,
     "metadata": {},
     "output_type": "execute_result"
    }
   ],
   "source": [
    "# Global Operations and constants\n",
    "∑ = sum\n",
    "𝖤 = mean # Expected Value\n",
    "n = length(y) # Lenght of data used all along"
   ]
  },
  {
   "cell_type": "code",
   "execution_count": 9,
   "id": "a321c281-08b5-40de-9df0-ebf34c7d5152",
   "metadata": {},
   "outputs": [],
   "source": [
    "using Markdown"
   ]
  },
  {
   "cell_type": "markdown",
   "id": "2831332d-217e-489c-837d-4d91c33ff423",
   "metadata": {},
   "source": [
    "**&#x1F516;** **(&#x2170;&#x2170;)** Estimated Parameters"
   ]
  },
  {
   "cell_type": "markdown",
   "id": "2c4fec07-71e9-4c17-8fc7-e85b634a3b51",
   "metadata": {},
   "source": [
    "#### &#x1F4DD; Gaussian Distribution\n",
    "\n",
    "Given the probability density function (PDF) of a Gaussian (normal) distribution\n",
    "\n",
    "$ f_G(y|\\mu, \\sigma^2) = \\frac{1}{\\sqrt{2\\pi\\sigma^2}} e^{-\\frac{(y-\\mu)^2}{2\\sigma^2}} $\n",
    "\n",
    "and a dataset $Y = \\{y_1, y_2, \\ldots, y_n\\}$, we want to find the Maximum Likelihood Estimators (MLEs) for the parameters $\\mu$ (mean) and $\\sigma^2$ (variance).\n",
    "\n",
    "### Finding $\\mu$ and $\\sigma^2$\n",
    "\n",
    "The MLEs for $\\mu$ and $\\sigma^2$ are found by maximizing the log-likelihood function derived from the given PDF.\n",
    "\n",
    "#### Log-Likelihood Function\n",
    "\n",
    "The log-likelihood function for the Gaussian distribution, given $n$ data points, is:\n",
    "\n",
    "$ L(\\mu, \\sigma^2 | Y) = -\\frac{n}{2} \\ln(2\\pi\\sigma^2) - \\frac{1}{2\\sigma^2} \\sum_{i=1}^{n} (y - \\mu)^2 $\n",
    "\n",
    "#### Maximizing the Log-Likelihood\n",
    "\n",
    "To find the MLEs, we take the partial derivatives of $L(\\mu, \\sigma^2 | Y)$ with respect to $\\mu$ and $\\sigma^2$, set them to zero, and solve for $\\mu$ and $\\sigma^2$.\n",
    "\n",
    "1. **For $\\mu$:**\n",
    "\n",
    "$ \\frac{\\partial L}{\\partial \\mu} = \\frac{1}{\\sigma^2} \\sum_{i=1}^{n} (y - \\mu) = 0 $\n",
    "\n",
    "Solving this for $\\mu$ gives:\n",
    "\n",
    "$ \\hat{\\mu} = \\frac{1}{n} \\sum_{i=1}^{n} y $\n",
    "\n",
    "This is the sample mean of the data.\n",
    "\n",
    "2. **For $\\sigma^2$:**\n",
    "\n",
    "$ \\frac{\\partial L}{\\partial \\sigma^2} = -\\frac{n}{2\\sigma^2} + \\frac{1}{2(\\sigma^2)^2} \\sum_{i=1}^{n} (y - \\mu)^2 = 0 $\n",
    "\n",
    "Solving for $\\sigma^2$ gives:\n",
    "\n",
    "$ \\hat{\\sigma}^2 = \\frac{1}{n} \\sum_{i=1}^{n} (y - \\hat{\\mu})^2 $\n",
    "\n",
    "This is the sample variance of the data.\n",
    "\n",
    "### Summary\n",
    "\n",
    "- The MLE of $\\mu$ ($\\hat{\\mu}$) is the sample mean.\n",
    "- The MLE of $\\sigma^2$ ($\\hat{\\sigma}^2$) is the sample variance (without Bessel's correction)."
   ]
  },
  {
   "cell_type": "markdown",
   "id": "05c3f314-40c3-443a-bd96-ddeed05be437",
   "metadata": {},
   "source": [
    "## &#x1F518; $\\mu_G$=? ($\\mu_G$)"
   ]
  },
  {
   "cell_type": "code",
   "execution_count": 10,
   "id": "a037760e-9f5e-4f01-896e-73ba29fc9709",
   "metadata": {},
   "outputs": [
    {
     "data": {
      "text/latex": [
       "\\paragraph{\\&\\#x1F4DD; Estimated Gaussian Mean}\n",
       "$$\\hat{\\mu}_G = \\frac{1}{n} \\sum_{i=1}^{n} y \\qquad \\{i: \\in 1,\\cdots,n\\}$$\n"
      ],
      "text/markdown": [
       "#### &#x1F4DD; Estimated Gaussian Mean\n",
       "\n",
       "$$\n",
       "\\hat{\\mu}_G = \\frac{1}{n} \\sum_{i=1}^{n} y \\qquad \\{i: \\in 1,\\cdots,n\\}\n",
       "$$\n"
      ],
      "text/plain": [
       "\u001b[1m  &#x1F4DD; Estimated Gaussian Mean\u001b[22m\n",
       "\u001b[1m  ---------------------------------\u001b[22m\n",
       "\n",
       "\u001b[35m  \\hat{\\mu}_G = \\frac{1}{n} \\sum_{i=1}^{n} y \\qquad \\{i: \\in 1,\\cdots,n\\}\u001b[39m"
      ]
     },
     "execution_count": 10,
     "metadata": {},
     "output_type": "execute_result"
    }
   ],
   "source": [
    "Markdown.parse(raw\"\n",
    "#### &#x1F4DD; Estimated Gaussian Mean\n",
    "```math\n",
    "\\hat{\\mu}_G = \\frac{1}{n} \\sum_{i=1}^{n} y \\qquad \\{i: \\in 1,\\cdots,n\\}\n",
    "```\n",
    "\")"
   ]
  },
  {
   "cell_type": "code",
   "execution_count": 11,
   "id": "f4fd48ca-ee0b-42d8-b432-b0f05084a55d",
   "metadata": {},
   "outputs": [
    {
     "name": "stdout",
     "output_type": "stream",
     "text": [
      "The estimated mean μ̂ of the dataset is: 180.0\n"
     ]
    }
   ],
   "source": [
    "# Compute the mean by dividing the total sum by the number of data points\n",
    "μ̂𝐺 = 1/n * ∑([yᵢ for yᵢ in y])\n",
    "\n",
    "# Print the calculated mean\n",
    "println(\"The estimated mean μ̂ of the dataset is: \", round(μ̂𝐺))"
   ]
  },
  {
   "cell_type": "markdown",
   "id": "b2b8a399-d27e-4617-886e-d77c73766da5",
   "metadata": {},
   "source": [
    "## &#x1F518; $\\sigma_G$=? ($\\sigma_G^2$)"
   ]
  },
  {
   "cell_type": "code",
   "execution_count": 12,
   "id": "0f2008be-8315-476e-85d0-21e3bf7da1b9",
   "metadata": {},
   "outputs": [
    {
     "data": {
      "text/latex": [
       "\\paragraph{\\&\\#x1F4DD; Estimated Gaussian Variance}\n",
       "$$\\hat{\\sigma}_G^2 = \\frac{1}{n} \\sum_{i=1}^{n} (y_i - \\hat{\\mu}_G)^2 \\qquad \\{i: \\in 1,\\cdots,n\\}$$\n",
       "with Bessel's correction replace $\\frac{1}{n}$ by $\\frac{1}{n - 1}$\n",
       "\n"
      ],
      "text/markdown": [
       "#### &#x1F4DD; Estimated Gaussian Variance\n",
       "\n",
       "$$\n",
       "\\hat{\\sigma}_G^2 = \\frac{1}{n} \\sum_{i=1}^{n} (y_i - \\hat{\\mu}_G)^2 \\qquad \\{i: \\in 1,\\cdots,n\\}\n",
       "$$\n",
       "\n",
       "with Bessel's correction replace $\\frac{1}{n}$ by $\\frac{1}{n - 1}$\n"
      ],
      "text/plain": [
       "\u001b[1m  &#x1F4DD; Estimated Gaussian Variance\u001b[22m\n",
       "\u001b[1m  -------------------------------------\u001b[22m\n",
       "\n",
       "\u001b[35m  \\hat{\\sigma}_G^2 = \\frac{1}{n} \\sum_{i=1}^{n} (y_i - \\hat{\\mu}_G)^2 \\qquad \\{i: \\in 1,\\cdots,n\\}\u001b[39m\n",
       "\n",
       "  with Bessel's correction replace \u001b[35m\\frac{1}{n}\u001b[39m by \u001b[35m\\frac{1}{n - 1}\u001b[39m"
      ]
     },
     "execution_count": 12,
     "metadata": {},
     "output_type": "execute_result"
    }
   ],
   "source": [
    "Markdown.parse(raw\"\n",
    "#### &#x1F4DD; Estimated Gaussian Variance\n",
    "```math\n",
    "\\hat{\\sigma}_G^2 = \\frac{1}{n} \\sum_{i=1}^{n} (y_i - \\hat{\\mu}_G)^2 \\qquad \\{i: \\in 1,\\cdots,n\\}\n",
    "```\n",
    "with Bessel's correction replace $\\frac{1}{n}$ by $\\frac{1}{n - 1}$\n",
    "\")"
   ]
  },
  {
   "cell_type": "code",
   "execution_count": 13,
   "id": "c6599c8d-c575-47a5-9c1d-3b16ee4e433f",
   "metadata": {},
   "outputs": [
    {
     "name": "stdout",
     "output_type": "stream",
     "text": [
      "The calculated variance σ𝐺² of the dataset is: 576.0\n"
     ]
    }
   ],
   "source": [
    "# Calculate the variance (this is σ_G^2)\n",
    "σ̂𝐺² = 1/n * ∑([(yᵢ - μ̂𝐺)^2 for yᵢ in y]) # or σ̂𝐺² = var(y, corrected=false) if using Statistics package\n",
    "\n",
    "# Print the calculated variance\n",
    "println(\"The calculated variance σ𝐺² of the dataset is: \", round(σ̂𝐺²))"
   ]
  },
  {
   "cell_type": "code",
   "execution_count": 14,
   "id": "ae0f4844-02ac-4aec-a0f7-ab3dd11b6200",
   "metadata": {},
   "outputs": [
    {
     "data": {
      "text/latex": [
       "\\paragraph{\\&\\#x1F4DD; Estimated Gaussian Standard Deviation}\n",
       "$$\\hat{\\sigma}_G = \\sqrt{\\hat{\\sigma}_G^2}$$\n"
      ],
      "text/markdown": [
       "#### &#x1F4DD; Estimated Gaussian Standard Deviation\n",
       "\n",
       "$$\n",
       "\\hat{\\sigma}_G = \\sqrt{\\hat{\\sigma}_G^2}\n",
       "$$\n"
      ],
      "text/plain": [
       "\u001b[1m  &#x1F4DD; Estimated Gaussian Standard Deviation\u001b[22m\n",
       "\u001b[1m  -----------------------------------------------\u001b[22m\n",
       "\n",
       "\u001b[35m  \\hat{\\sigma}_G = \\sqrt{\\hat{\\sigma}_G^2}\u001b[39m"
      ]
     },
     "execution_count": 14,
     "metadata": {},
     "output_type": "execute_result"
    }
   ],
   "source": [
    "Markdown.parse(raw\"\n",
    "#### &#x1F4DD; Estimated Gaussian Standard Deviation\n",
    "```math\n",
    "\\hat{\\sigma}_G = \\sqrt{\\hat{\\sigma}_G^2}\n",
    "```\n",
    "\")"
   ]
  },
  {
   "cell_type": "code",
   "execution_count": 15,
   "id": "5cc0f8ae-5044-4196-80a4-b0e95eb6f48d",
   "metadata": {},
   "outputs": [
    {
     "name": "stdout",
     "output_type": "stream",
     "text": [
      "calculated standard deviation σ̂𝐺 = 24.0\n"
     ]
    }
   ],
   "source": [
    "# Calculate the standard deviation (\\hat{\\sigma}_G)\n",
    "σ̂𝐺 = √(σ̂𝐺²)\n",
    "\n",
    "println(\"calculated standard deviation σ̂𝐺 = \", round(σ̂𝐺))"
   ]
  },
  {
   "cell_type": "markdown",
   "id": "43adba42-0da4-47ba-b244-c5dde8c74f41",
   "metadata": {},
   "source": [
    "## &#x1F518; $L_G$ =?"
   ]
  },
  {
   "cell_type": "code",
   "execution_count": 16,
   "id": "71022ca7-efec-459f-990c-ee3051580067",
   "metadata": {},
   "outputs": [
    {
     "data": {
      "text/latex": [
       "\\paragraph{\\&\\#x1F4DD; Gaussian Log-Likelihood}\n",
       "$$\\mathcal{L}_G(\\mu_G, \\sigma_G^2) = -\\frac{n}{2} \\log(2\\pi\\sigma_G^2) - \\frac{1}{2\\sigma_G^2} \\sum_{i=1}^{n} (y_i - \\mu_G)^2$$\n"
      ],
      "text/markdown": [
       "#### &#x1F4DD; Gaussian Log-Likelihood\n",
       "\n",
       "$$\n",
       "\\mathcal{L}_G(\\mu_G, \\sigma_G^2) = -\\frac{n}{2} \\log(2\\pi\\sigma_G^2) - \\frac{1}{2\\sigma_G^2} \\sum_{i=1}^{n} (y_i - \\mu_G)^2\n",
       "$$\n"
      ],
      "text/plain": [
       "\u001b[1m  &#x1F4DD; Gaussian Log-Likelihood\u001b[22m\n",
       "\u001b[1m  ---------------------------------\u001b[22m\n",
       "\n",
       "\u001b[35m  \\mathcal{L}_G(\\mu_G, \\sigma_G^2) = -\\frac{n}{2} \\log(2\\pi\\sigma_G^2) - \\frac{1}{2\\sigma_G^2} \\sum_{i=1}^{n} (y_i - \\mu_G)^2\u001b[39m"
      ]
     },
     "execution_count": 16,
     "metadata": {},
     "output_type": "execute_result"
    }
   ],
   "source": [
    "Markdown.parse(raw\"\n",
    "#### &#x1F4DD; Gaussian Log-Likelihood\n",
    "```math\n",
    "\\mathcal{L}_G(\\mu_G, \\sigma_G^2) = -\\frac{n}{2} \\log(2\\pi\\sigma_G^2) - \\frac{1}{2\\sigma_G^2} \\sum_{i=1}^{n} (y_i - \\mu_G)^2\n",
    "```\n",
    "\")"
   ]
  },
  {
   "cell_type": "code",
   "execution_count": 17,
   "id": "91a8cab5-3d11-4cca-a832-a91f2ad55b12",
   "metadata": {},
   "outputs": [
    {
     "name": "stdout",
     "output_type": "stream",
     "text": [
      "Log-likelihood 𝓛𝐺: -460.0\n"
     ]
    }
   ],
   "source": [
    "# Compute the log-likelihood 𝓛G \n",
    "𝓛𝐺 = -n/2 * log(2π * σ̂𝐺²) - 1/(2*σ̂𝐺²) * ∑((y .- μ̂𝐺).^2) # typed \\bscrL\n",
    "\n",
    "println(\"Log-likelihood 𝓛𝐺: \", round(𝓛𝐺))"
   ]
  },
  {
   "cell_type": "markdown",
   "id": "d34a9ada-ee41-4915-8928-25f0bf70f084",
   "metadata": {},
   "source": [
    "#### &#x1F4CA; Plot"
   ]
  },
  {
   "cell_type": "code",
   "execution_count": 18,
   "id": "1c42b454-7dab-47c7-9b37-f5303f469ea6",
   "metadata": {},
   "outputs": [],
   "source": [
    "using Distributions"
   ]
  },
  {
   "cell_type": "code",
   "execution_count": 19,
   "id": "8f375733-cba6-49d8-b8c6-b5084c5ba813",
   "metadata": {},
   "outputs": [
    {
     "data": {
      "image/png": "[encoded data removed]",
      "image/svg+xml": [
       "<?xml version=\"1.0\" encoding=\"utf-8\"?>\n",
       "<svg xmlns=\"http://www.w3.org/2000/svg\" xmlns:xlink=\"http://www.w3.org/1999/xlink\" width=\"600\" height=\"400\" viewBox=\"0 0 2400 1600\">\n",
       "<defs>\n",
       "  <clipPath id=\"clip560\">\n",
       "    <rect x=\"0\" y=\"0\" width=\"2400\" height=\"1600\"/>\n",
       "  </clipPath>\n",
       "</defs>\n",
       "<path clip-path=\"url(#clip560)\" d=\"M0 1600 L2400 1600 L2400 0 L0 0  Z\" fill=\"#ffffff\" fill-rule=\"evenodd\" fill-opacity=\"1\"/>\n",
       "<defs>\n",
       "  <clipPath id=\"clip561\">\n",
       "    <rect x=\"480\" y=\"0\" width=\"1681\" height=\"1600\"/>\n",
       "  </clipPath>\n",
       "</defs>\n",
       "<path clip-path=\"url(#clip560)\" d=\"M205.121 1423.18 L2352.76 1423.18 L2352.76 47.2441 L205.121 47.2441  Z\" fill=\"#ffffff\" fill-rule=\"evenodd\" fill-opacity=\"1\"/>\n",
       "<defs>\n",
       "  <clipPath id=\"clip562\">\n",
       "    <rect x=\"205\" y=\"47\" width=\"2149\" height=\"1377\"/>\n",
       "  </clipPath>\n",
       "</defs>\n",
       "<polyline clip-path=\"url(#clip562)\" style=\"stroke:#000000; stroke-linecap:round; stroke-linejoin:round; stroke-width:2; stroke-opacity:0.1; fill:none\" points=\"258.749,1423.18 258.749,47.2441 \"/>\n",
       "<polyline clip-path=\"url(#clip562)\" style=\"stroke:#000000; stroke-linecap:round; stroke-linejoin:round; stroke-width:2; stroke-opacity:0.1; fill:none\" points=\"616.459,1423.18 616.459,47.2441 \"/>\n",
       "<polyline clip-path=\"url(#clip562)\" style=\"stroke:#000000; stroke-linecap:round; stroke-linejoin:round; stroke-width:2; stroke-opacity:0.1; fill:none\" points=\"974.169,1423.18 974.169,47.2441 \"/>\n",
       "<polyline clip-path=\"url(#clip562)\" style=\"stroke:#000000; stroke-linecap:round; stroke-linejoin:round; stroke-width:2; stroke-opacity:0.1; fill:none\" points=\"1331.88,1423.18 1331.88,47.2441 \"/>\n",
       "<polyline clip-path=\"url(#clip562)\" style=\"stroke:#000000; stroke-linecap:round; stroke-linejoin:round; stroke-width:2; stroke-opacity:0.1; fill:none\" points=\"1689.59,1423.18 1689.59,47.2441 \"/>\n",
       "<polyline clip-path=\"url(#clip562)\" style=\"stroke:#000000; stroke-linecap:round; stroke-linejoin:round; stroke-width:2; stroke-opacity:0.1; fill:none\" points=\"2047.3,1423.18 2047.3,47.2441 \"/>\n",
       "<polyline clip-path=\"url(#clip560)\" style=\"stroke:#000000; stroke-linecap:round; stroke-linejoin:round; stroke-width:4; stroke-opacity:1; fill:none\" points=\"205.121,1423.18 2352.76,1423.18 \"/>\n",
       "<polyline clip-path=\"url(#clip560)\" style=\"stroke:#000000; stroke-linecap:round; stroke-linejoin:round; stroke-width:4; stroke-opacity:1; fill:none\" points=\"258.749,1423.18 258.749,1404.28 \"/>\n",
       "<polyline clip-path=\"url(#clip560)\" style=\"stroke:#000000; stroke-linecap:round; stroke-linejoin:round; stroke-width:4; stroke-opacity:1; fill:none\" points=\"616.459,1423.18 616.459,1404.28 \"/>\n",
       "<polyline clip-path=\"url(#clip560)\" style=\"stroke:#000000; stroke-linecap:round; stroke-linejoin:round; stroke-width:4; stroke-opacity:1; fill:none\" points=\"974.169,1423.18 974.169,1404.28 \"/>\n",
       "<polyline clip-path=\"url(#clip560)\" style=\"stroke:#000000; stroke-linecap:round; stroke-linejoin:round; stroke-width:4; stroke-opacity:1; fill:none\" points=\"1331.88,1423.18 1331.88,1404.28 \"/>\n",
       "<polyline clip-path=\"url(#clip560)\" style=\"stroke:#000000; stroke-linecap:round; stroke-linejoin:round; stroke-width:4; stroke-opacity:1; fill:none\" points=\"1689.59,1423.18 1689.59,1404.28 \"/>\n",
       "<polyline clip-path=\"url(#clip560)\" style=\"stroke:#000000; stroke-linecap:round; stroke-linejoin:round; stroke-width:4; stroke-opacity:1; fill:none\" points=\"2047.3,1423.18 2047.3,1404.28 \"/>\n",
       "<path clip-path=\"url(#clip560)\" d=\"M258.749 1454.1 Q255.138 1454.1 253.309 1457.66 Q251.504 1461.2 251.504 1468.33 Q251.504 1475.44 253.309 1479.01 Q255.138 1482.55 258.749 1482.55 Q262.383 1482.55 264.189 1479.01 Q266.017 1475.44 266.017 1468.33 Q266.017 1461.2 264.189 1457.66 Q262.383 1454.1 258.749 1454.1 M258.749 1450.39 Q264.559 1450.39 267.615 1455 Q270.693 1459.58 270.693 1468.33 Q270.693 1477.06 267.615 1481.67 Q264.559 1486.25 258.749 1486.25 Q252.939 1486.25 249.86 1481.67 Q246.805 1477.06 246.805 1468.33 Q246.805 1459.58 249.86 1455 Q252.939 1450.39 258.749 1450.39 Z\" fill=\"#000000\" fill-rule=\"nonzero\" fill-opacity=\"1\" /><path clip-path=\"url(#clip560)\" d=\"M591.158 1451.02 L609.515 1451.02 L609.515 1454.96 L595.441 1454.96 L595.441 1463.43 Q596.459 1463.08 597.478 1462.92 Q598.496 1462.73 599.515 1462.73 Q605.302 1462.73 608.681 1465.9 Q612.061 1469.08 612.061 1474.49 Q612.061 1480.07 608.589 1483.17 Q605.117 1486.25 598.797 1486.25 Q596.621 1486.25 594.353 1485.88 Q592.107 1485.51 589.7 1484.77 L589.7 1480.07 Q591.783 1481.2 594.006 1481.76 Q596.228 1482.32 598.705 1482.32 Q602.709 1482.32 605.047 1480.21 Q607.385 1478.1 607.385 1474.49 Q607.385 1470.88 605.047 1468.77 Q602.709 1466.67 598.705 1466.67 Q596.83 1466.67 594.955 1467.08 Q593.103 1467.5 591.158 1468.38 L591.158 1451.02 Z\" fill=\"#000000\" fill-rule=\"nonzero\" fill-opacity=\"1\" /><path clip-path=\"url(#clip560)\" d=\"M631.274 1454.1 Q627.663 1454.1 625.834 1457.66 Q624.029 1461.2 624.029 1468.33 Q624.029 1475.44 625.834 1479.01 Q627.663 1482.55 631.274 1482.55 Q634.908 1482.55 636.714 1479.01 Q638.542 1475.44 638.542 1468.33 Q638.542 1461.2 636.714 1457.66 Q634.908 1454.1 631.274 1454.1 M631.274 1450.39 Q637.084 1450.39 640.14 1455 Q643.218 1459.58 643.218 1468.33 Q643.218 1477.06 640.14 1481.67 Q637.084 1486.25 631.274 1486.25 Q625.464 1486.25 622.385 1481.67 Q619.329 1477.06 619.329 1468.33 Q619.329 1459.58 622.385 1455 Q625.464 1450.39 631.274 1450.39 Z\" fill=\"#000000\" fill-rule=\"nonzero\" fill-opacity=\"1\" /><path clip-path=\"url(#clip560)\" d=\"M933.776 1481.64 L941.415 1481.64 L941.415 1455.28 L933.105 1456.95 L933.105 1452.69 L941.369 1451.02 L946.044 1451.02 L946.044 1481.64 L953.683 1481.64 L953.683 1485.58 L933.776 1485.58 L933.776 1481.64 Z\" fill=\"#000000\" fill-rule=\"nonzero\" fill-opacity=\"1\" /><path clip-path=\"url(#clip560)\" d=\"M973.128 1454.1 Q969.517 1454.1 967.688 1457.66 Q965.882 1461.2 965.882 1468.33 Q965.882 1475.44 967.688 1479.01 Q969.517 1482.55 973.128 1482.55 Q976.762 1482.55 978.567 1479.01 Q980.396 1475.44 980.396 1468.33 Q980.396 1461.2 978.567 1457.66 Q976.762 1454.1 973.128 1454.1 M973.128 1450.39 Q978.938 1450.39 981.993 1455 Q985.072 1459.58 985.072 1468.33 Q985.072 1477.06 981.993 1481.67 Q978.938 1486.25 973.128 1486.25 Q967.318 1486.25 964.239 1481.67 Q961.183 1477.06 961.183 1468.33 Q961.183 1459.58 964.239 1455 Q967.318 1450.39 973.128 1450.39 Z\" fill=\"#000000\" fill-rule=\"nonzero\" fill-opacity=\"1\" /><path clip-path=\"url(#clip560)\" d=\"M1003.29 1454.1 Q999.678 1454.1 997.85 1457.66 Q996.044 1461.2 996.044 1468.33 Q996.044 1475.44 997.85 1479.01 Q999.678 1482.55 1003.29 1482.55 Q1006.92 1482.55 1008.73 1479.01 Q1010.56 1475.44 1010.56 1468.33 Q1010.56 1461.2 1008.73 1457.66 Q1006.92 1454.1 1003.29 1454.1 M1003.29 1450.39 Q1009.1 1450.39 1012.16 1455 Q1015.23 1459.58 1015.23 1468.33 Q1015.23 1477.06 1012.16 1481.67 Q1009.1 1486.25 1003.29 1486.25 Q997.479 1486.25 994.401 1481.67 Q991.345 1477.06 991.345 1468.33 Q991.345 1459.58 994.401 1455 Q997.479 1450.39 1003.29 1450.39 Z\" fill=\"#000000\" fill-rule=\"nonzero\" fill-opacity=\"1\" /><path clip-path=\"url(#clip560)\" d=\"M1291.49 1481.64 L1299.13 1481.64 L1299.13 1455.28 L1290.81 1456.95 L1290.81 1452.69 L1299.08 1451.02 L1303.75 1451.02 L1303.75 1481.64 L1311.39 1481.64 L1311.39 1485.58 L1291.49 1485.58 L1291.49 1481.64 Z\" fill=\"#000000\" fill-rule=\"nonzero\" fill-opacity=\"1\" /><path clip-path=\"url(#clip560)\" d=\"M1320.88 1451.02 L1339.24 1451.02 L1339.24 1454.96 L1325.17 1454.96 L1325.17 1463.43 Q1326.19 1463.08 1327.2 1462.92 Q1328.22 1462.73 1329.24 1462.73 Q1335.03 1462.73 1338.41 1465.9 Q1341.79 1469.08 1341.79 1474.49 Q1341.79 1480.07 1338.31 1483.17 Q1334.84 1486.25 1328.52 1486.25 Q1326.35 1486.25 1324.08 1485.88 Q1321.83 1485.51 1319.43 1484.77 L1319.43 1480.07 Q1321.51 1481.2 1323.73 1481.76 Q1325.95 1482.32 1328.43 1482.32 Q1332.44 1482.32 1334.77 1480.21 Q1337.11 1478.1 1337.11 1474.49 Q1337.11 1470.88 1334.77 1468.77 Q1332.44 1466.67 1328.43 1466.67 Q1326.56 1466.67 1324.68 1467.08 Q1322.83 1467.5 1320.88 1468.38 L1320.88 1451.02 Z\" fill=\"#000000\" fill-rule=\"nonzero\" fill-opacity=\"1\" /><path clip-path=\"url(#clip560)\" d=\"M1361 1454.1 Q1357.39 1454.1 1355.56 1457.66 Q1353.75 1461.2 1353.75 1468.33 Q1353.75 1475.44 1355.56 1479.01 Q1357.39 1482.55 1361 1482.55 Q1364.63 1482.55 1366.44 1479.01 Q1368.27 1475.44 1368.27 1468.33 Q1368.27 1461.2 1366.44 1457.66 Q1364.63 1454.1 1361 1454.1 M1361 1450.39 Q1366.81 1450.39 1369.87 1455 Q1372.94 1459.58 1372.94 1468.33 Q1372.94 1477.06 1369.87 1481.67 Q1366.81 1486.25 1361 1486.25 Q1355.19 1486.25 1352.11 1481.67 Q1349.06 1477.06 1349.06 1468.33 Q1349.06 1459.58 1352.11 1455 Q1355.19 1450.39 1361 1450.39 Z\" fill=\"#000000\" fill-rule=\"nonzero\" fill-opacity=\"1\" /><path clip-path=\"url(#clip560)\" d=\"M1653.28 1481.64 L1669.6 1481.64 L1669.6 1485.58 L1647.66 1485.58 L1647.66 1481.64 Q1650.32 1478.89 1654.9 1474.26 Q1659.51 1469.61 1660.69 1468.27 Q1662.93 1465.74 1663.81 1464.01 Q1664.72 1462.25 1664.72 1460.56 Q1664.72 1457.8 1662.77 1456.07 Q1660.85 1454.33 1657.75 1454.33 Q1655.55 1454.33 1653.1 1455.09 Q1650.67 1455.86 1647.89 1457.41 L1647.89 1452.69 Q1650.71 1451.55 1653.17 1450.97 Q1655.62 1450.39 1657.66 1450.39 Q1663.03 1450.39 1666.22 1453.08 Q1669.42 1455.77 1669.42 1460.26 Q1669.42 1462.39 1668.61 1464.31 Q1667.82 1466.2 1665.71 1468.8 Q1665.13 1469.47 1662.03 1472.69 Q1658.93 1475.88 1653.28 1481.64 Z\" fill=\"#000000\" fill-rule=\"nonzero\" fill-opacity=\"1\" /><path clip-path=\"url(#clip560)\" d=\"M1689.42 1454.1 Q1685.81 1454.1 1683.98 1457.66 Q1682.17 1461.2 1682.17 1468.33 Q1682.17 1475.44 1683.98 1479.01 Q1685.81 1482.55 1689.42 1482.55 Q1693.05 1482.55 1694.86 1479.01 Q1696.68 1475.44 1696.68 1468.33 Q1696.68 1461.2 1694.86 1457.66 Q1693.05 1454.1 1689.42 1454.1 M1689.42 1450.39 Q1695.23 1450.39 1698.28 1455 Q1701.36 1459.58 1701.36 1468.33 Q1701.36 1477.06 1698.28 1481.67 Q1695.23 1486.25 1689.42 1486.25 Q1683.61 1486.25 1680.53 1481.67 Q1677.47 1477.06 1677.47 1468.33 Q1677.47 1459.58 1680.53 1455 Q1683.61 1450.39 1689.42 1450.39 Z\" fill=\"#000000\" fill-rule=\"nonzero\" fill-opacity=\"1\" /><path clip-path=\"url(#clip560)\" d=\"M1719.58 1454.1 Q1715.97 1454.1 1714.14 1457.66 Q1712.33 1461.2 1712.33 1468.33 Q1712.33 1475.44 1714.14 1479.01 Q1715.97 1482.55 1719.58 1482.55 Q1723.21 1482.55 1725.02 1479.01 Q1726.85 1475.44 1726.85 1468.33 Q1726.85 1461.2 1725.02 1457.66 Q1723.21 1454.1 1719.58 1454.1 M1719.58 1450.39 Q1725.39 1450.39 1728.44 1455 Q1731.52 1459.58 1731.52 1468.33 Q1731.52 1477.06 1728.44 1481.67 Q1725.39 1486.25 1719.58 1486.25 Q1713.77 1486.25 1710.69 1481.67 Q1707.63 1477.06 1707.63 1468.33 Q1707.63 1459.58 1710.69 1455 Q1713.77 1450.39 1719.58 1450.39 Z\" fill=\"#000000\" fill-rule=\"nonzero\" fill-opacity=\"1\" /><path clip-path=\"url(#clip560)\" d=\"M2010.99 1481.64 L2027.31 1481.64 L2027.31 1485.58 L2005.37 1485.58 L2005.37 1481.64 Q2008.03 1478.89 2012.61 1474.26 Q2017.22 1469.61 2018.4 1468.27 Q2020.65 1465.74 2021.52 1464.01 Q2022.43 1462.25 2022.43 1460.56 Q2022.43 1457.8 2020.48 1456.07 Q2018.56 1454.33 2015.46 1454.33 Q2013.26 1454.33 2010.81 1455.09 Q2008.38 1455.86 2005.6 1457.41 L2005.6 1452.69 Q2008.42 1451.55 2010.88 1450.97 Q2013.33 1450.39 2015.37 1450.39 Q2020.74 1450.39 2023.93 1453.08 Q2027.13 1455.77 2027.13 1460.26 Q2027.13 1462.39 2026.32 1464.31 Q2025.53 1466.2 2023.42 1468.8 Q2022.84 1469.47 2019.74 1472.69 Q2016.64 1475.88 2010.99 1481.64 Z\" fill=\"#000000\" fill-rule=\"nonzero\" fill-opacity=\"1\" /><path clip-path=\"url(#clip560)\" d=\"M2037.17 1451.02 L2055.53 1451.02 L2055.53 1454.96 L2041.46 1454.96 L2041.46 1463.43 Q2042.47 1463.08 2043.49 1462.92 Q2044.51 1462.73 2045.53 1462.73 Q2051.32 1462.73 2054.7 1465.9 Q2058.08 1469.08 2058.08 1474.49 Q2058.08 1480.07 2054.6 1483.17 Q2051.13 1486.25 2044.81 1486.25 Q2042.64 1486.25 2040.37 1485.88 Q2038.12 1485.51 2035.71 1484.77 L2035.71 1480.07 Q2037.8 1481.2 2040.02 1481.76 Q2042.24 1482.32 2044.72 1482.32 Q2048.72 1482.32 2051.06 1480.21 Q2053.4 1478.1 2053.4 1474.49 Q2053.4 1470.88 2051.06 1468.77 Q2048.72 1466.67 2044.72 1466.67 Q2042.84 1466.67 2040.97 1467.08 Q2039.12 1467.5 2037.17 1468.38 L2037.17 1451.02 Z\" fill=\"#000000\" fill-rule=\"nonzero\" fill-opacity=\"1\" /><path clip-path=\"url(#clip560)\" d=\"M2077.29 1454.1 Q2073.68 1454.1 2071.85 1457.66 Q2070.04 1461.2 2070.04 1468.33 Q2070.04 1475.44 2071.85 1479.01 Q2073.68 1482.55 2077.29 1482.55 Q2080.92 1482.55 2082.73 1479.01 Q2084.56 1475.44 2084.56 1468.33 Q2084.56 1461.2 2082.73 1457.66 Q2080.92 1454.1 2077.29 1454.1 M2077.29 1450.39 Q2083.1 1450.39 2086.15 1455 Q2089.23 1459.58 2089.23 1468.33 Q2089.23 1477.06 2086.15 1481.67 Q2083.1 1486.25 2077.29 1486.25 Q2071.48 1486.25 2068.4 1481.67 Q2065.34 1477.06 2065.34 1468.33 Q2065.34 1459.58 2068.4 1455 Q2071.48 1450.39 2077.29 1450.39 Z\" fill=\"#000000\" fill-rule=\"nonzero\" fill-opacity=\"1\" /><path clip-path=\"url(#clip560)\" d=\"M1295.55 1532.4 L1282.66 1549.74 L1296.22 1568.04 L1289.31 1568.04 L1278.94 1554.04 L1268.56 1568.04 L1261.66 1568.04 L1275.5 1549.39 L1262.83 1532.4 L1269.74 1532.4 L1279.19 1545.1 L1288.65 1532.4 L1295.55 1532.4 Z\" fill=\"#000000\" fill-rule=\"nonzero\" fill-opacity=\"1\" /><polyline clip-path=\"url(#clip562)\" style=\"stroke:#000000; stroke-linecap:round; stroke-linejoin:round; stroke-width:2; stroke-opacity:0.1; fill:none\" points=\"205.121,1423.18 2352.76,1423.18 \"/>\n",
       "<polyline clip-path=\"url(#clip562)\" style=\"stroke:#000000; stroke-linecap:round; stroke-linejoin:round; stroke-width:2; stroke-opacity:0.1; fill:none\" points=\"205.121,1173.01 2352.76,1173.01 \"/>\n",
       "<polyline clip-path=\"url(#clip562)\" style=\"stroke:#000000; stroke-linecap:round; stroke-linejoin:round; stroke-width:2; stroke-opacity:0.1; fill:none\" points=\"205.121,922.84 2352.76,922.84 \"/>\n",
       "<polyline clip-path=\"url(#clip562)\" style=\"stroke:#000000; stroke-linecap:round; stroke-linejoin:round; stroke-width:2; stroke-opacity:0.1; fill:none\" points=\"205.121,672.669 2352.76,672.669 \"/>\n",
       "<polyline clip-path=\"url(#clip562)\" style=\"stroke:#000000; stroke-linecap:round; stroke-linejoin:round; stroke-width:2; stroke-opacity:0.1; fill:none\" points=\"205.121,422.499 2352.76,422.499 \"/>\n",
       "<polyline clip-path=\"url(#clip562)\" style=\"stroke:#000000; stroke-linecap:round; stroke-linejoin:round; stroke-width:2; stroke-opacity:0.1; fill:none\" points=\"205.121,172.329 2352.76,172.329 \"/>\n",
       "<polyline clip-path=\"url(#clip560)\" style=\"stroke:#000000; stroke-linecap:round; stroke-linejoin:round; stroke-width:4; stroke-opacity:1; fill:none\" points=\"205.121,1423.18 205.121,47.2441 \"/>\n",
       "<polyline clip-path=\"url(#clip560)\" style=\"stroke:#000000; stroke-linecap:round; stroke-linejoin:round; stroke-width:4; stroke-opacity:1; fill:none\" points=\"205.121,1423.18 224.019,1423.18 \"/>\n",
       "<polyline clip-path=\"url(#clip560)\" style=\"stroke:#000000; stroke-linecap:round; stroke-linejoin:round; stroke-width:4; stroke-opacity:1; fill:none\" points=\"205.121,1173.01 224.019,1173.01 \"/>\n",
       "<polyline clip-path=\"url(#clip560)\" style=\"stroke:#000000; stroke-linecap:round; stroke-linejoin:round; stroke-width:4; stroke-opacity:1; fill:none\" points=\"205.121,922.84 224.019,922.84 \"/>\n",
       "<polyline clip-path=\"url(#clip560)\" style=\"stroke:#000000; stroke-linecap:round; stroke-linejoin:round; stroke-width:4; stroke-opacity:1; fill:none\" points=\"205.121,672.669 224.019,672.669 \"/>\n",
       "<polyline clip-path=\"url(#clip560)\" style=\"stroke:#000000; stroke-linecap:round; stroke-linejoin:round; stroke-width:4; stroke-opacity:1; fill:none\" points=\"205.121,422.499 224.019,422.499 \"/>\n",
       "<polyline clip-path=\"url(#clip560)\" style=\"stroke:#000000; stroke-linecap:round; stroke-linejoin:round; stroke-width:4; stroke-opacity:1; fill:none\" points=\"205.121,172.329 224.019,172.329 \"/>\n",
       "<path clip-path=\"url(#clip560)\" d=\"M157.177 1408.98 Q153.566 1408.98 151.737 1412.54 Q149.931 1416.08 149.931 1423.21 Q149.931 1430.32 151.737 1433.89 Q153.566 1437.43 157.177 1437.43 Q160.811 1437.43 162.616 1433.89 Q164.445 1430.32 164.445 1423.21 Q164.445 1416.08 162.616 1412.54 Q160.811 1408.98 157.177 1408.98 M157.177 1405.27 Q162.987 1405.27 166.042 1409.88 Q169.121 1414.46 169.121 1423.21 Q169.121 1431.94 166.042 1436.55 Q162.987 1441.13 157.177 1441.13 Q151.366 1441.13 148.288 1436.55 Q145.232 1431.94 145.232 1423.21 Q145.232 1414.46 148.288 1409.88 Q151.366 1405.27 157.177 1405.27 Z\" fill=\"#000000\" fill-rule=\"nonzero\" fill-opacity=\"1\" /><path clip-path=\"url(#clip560)\" d=\"M117.825 1186.35 L125.464 1186.35 L125.464 1159.99 L117.154 1161.66 L117.154 1157.4 L125.418 1155.73 L130.093 1155.73 L130.093 1186.35 L137.732 1186.35 L137.732 1190.29 L117.825 1190.29 L117.825 1186.35 Z\" fill=\"#000000\" fill-rule=\"nonzero\" fill-opacity=\"1\" /><path clip-path=\"url(#clip560)\" d=\"M157.177 1158.81 Q153.566 1158.81 151.737 1162.37 Q149.931 1165.91 149.931 1173.04 Q149.931 1180.15 151.737 1183.72 Q153.566 1187.26 157.177 1187.26 Q160.811 1187.26 162.616 1183.72 Q164.445 1180.15 164.445 1173.04 Q164.445 1165.91 162.616 1162.37 Q160.811 1158.81 157.177 1158.81 M157.177 1155.1 Q162.987 1155.1 166.042 1159.71 Q169.121 1164.29 169.121 1173.04 Q169.121 1181.77 166.042 1186.38 Q162.987 1190.96 157.177 1190.96 Q151.366 1190.96 148.288 1186.38 Q145.232 1181.77 145.232 1173.04 Q145.232 1164.29 148.288 1159.71 Q151.366 1155.1 157.177 1155.1 Z\" fill=\"#000000\" fill-rule=\"nonzero\" fill-opacity=\"1\" /><path clip-path=\"url(#clip560)\" d=\"M121.043 936.184 L137.362 936.184 L137.362 940.12 L115.418 940.12 L115.418 936.184 Q118.08 933.43 122.663 928.8 Q127.269 924.147 128.45 922.805 Q130.695 920.282 131.575 918.546 Q132.478 916.786 132.478 915.097 Q132.478 912.342 130.533 910.606 Q128.612 908.87 125.51 908.87 Q123.311 908.87 120.857 909.634 Q118.427 910.398 115.649 911.948 L115.649 907.226 Q118.473 906.092 120.927 905.513 Q123.38 904.935 125.418 904.935 Q130.788 904.935 133.982 907.62 Q137.177 910.305 137.177 914.796 Q137.177 916.925 136.367 918.847 Q135.579 920.745 133.473 923.337 Q132.894 924.009 129.792 927.226 Q126.691 930.421 121.043 936.184 Z\" fill=\"#000000\" fill-rule=\"nonzero\" fill-opacity=\"1\" /><path clip-path=\"url(#clip560)\" d=\"M157.177 908.638 Q153.566 908.638 151.737 912.203 Q149.931 915.745 149.931 922.874 Q149.931 929.981 151.737 933.546 Q153.566 937.087 157.177 937.087 Q160.811 937.087 162.616 933.546 Q164.445 929.981 164.445 922.874 Q164.445 915.745 162.616 912.203 Q160.811 908.638 157.177 908.638 M157.177 904.935 Q162.987 904.935 166.042 909.541 Q169.121 914.124 169.121 922.874 Q169.121 931.601 166.042 936.208 Q162.987 940.791 157.177 940.791 Q151.366 940.791 148.288 936.208 Q145.232 931.601 145.232 922.874 Q145.232 914.124 148.288 909.541 Q151.366 904.935 157.177 904.935 Z\" fill=\"#000000\" fill-rule=\"nonzero\" fill-opacity=\"1\" /><path clip-path=\"url(#clip560)\" d=\"M131.181 671.315 Q134.538 672.033 136.413 674.301 Q138.311 676.57 138.311 679.903 Q138.311 685.019 134.792 687.82 Q131.274 690.621 124.793 690.621 Q122.617 690.621 120.302 690.181 Q118.01 689.764 115.556 688.908 L115.556 684.394 Q117.501 685.528 119.816 686.107 Q122.13 686.686 124.654 686.686 Q129.052 686.686 131.343 684.949 Q133.658 683.213 133.658 679.903 Q133.658 676.848 131.505 675.135 Q129.376 673.399 125.556 673.399 L121.529 673.399 L121.529 669.556 L125.742 669.556 Q129.191 669.556 131.019 668.19 Q132.848 666.801 132.848 664.209 Q132.848 661.547 130.95 660.135 Q129.075 658.7 125.556 658.7 Q123.635 658.7 121.436 659.116 Q119.237 659.533 116.598 660.413 L116.598 656.246 Q119.26 655.505 121.575 655.135 Q123.913 654.764 125.973 654.764 Q131.297 654.764 134.399 657.195 Q137.501 659.602 137.501 663.723 Q137.501 666.593 135.857 668.584 Q134.214 670.551 131.181 671.315 Z\" fill=\"#000000\" fill-rule=\"nonzero\" fill-opacity=\"1\" /><path clip-path=\"url(#clip560)\" d=\"M157.177 658.468 Q153.566 658.468 151.737 662.033 Q149.931 665.575 149.931 672.704 Q149.931 679.811 151.737 683.375 Q153.566 686.917 157.177 686.917 Q160.811 686.917 162.616 683.375 Q164.445 679.811 164.445 672.704 Q164.445 665.575 162.616 662.033 Q160.811 658.468 157.177 658.468 M157.177 654.764 Q162.987 654.764 166.042 659.371 Q169.121 663.954 169.121 672.704 Q169.121 681.431 166.042 686.037 Q162.987 690.621 157.177 690.621 Q151.366 690.621 148.288 686.037 Q145.232 681.431 145.232 672.704 Q145.232 663.954 148.288 659.371 Q151.366 654.764 157.177 654.764 Z\" fill=\"#000000\" fill-rule=\"nonzero\" fill-opacity=\"1\" /><path clip-path=\"url(#clip560)\" d=\"M129.862 409.293 L118.056 427.742 L129.862 427.742 L129.862 409.293 M128.635 405.219 L134.515 405.219 L134.515 427.742 L139.445 427.742 L139.445 431.631 L134.515 431.631 L134.515 439.779 L129.862 439.779 L129.862 431.631 L114.26 431.631 L114.26 427.117 L128.635 405.219 Z\" fill=\"#000000\" fill-rule=\"nonzero\" fill-opacity=\"1\" /><path clip-path=\"url(#clip560)\" d=\"M157.177 408.298 Q153.566 408.298 151.737 411.863 Q149.931 415.404 149.931 422.534 Q149.931 429.64 151.737 433.205 Q153.566 436.747 157.177 436.747 Q160.811 436.747 162.616 433.205 Q164.445 429.64 164.445 422.534 Q164.445 415.404 162.616 411.863 Q160.811 408.298 157.177 408.298 M157.177 404.594 Q162.987 404.594 166.042 409.201 Q169.121 413.784 169.121 422.534 Q169.121 431.261 166.042 435.867 Q162.987 440.451 157.177 440.451 Q151.366 440.451 148.288 435.867 Q145.232 431.261 145.232 422.534 Q145.232 413.784 148.288 409.201 Q151.366 404.594 157.177 404.594 Z\" fill=\"#000000\" fill-rule=\"nonzero\" fill-opacity=\"1\" /><path clip-path=\"url(#clip560)\" d=\"M117.061 155.049 L135.417 155.049 L135.417 158.984 L121.343 158.984 L121.343 167.457 Q122.362 167.109 123.38 166.947 Q124.399 166.762 125.418 166.762 Q131.205 166.762 134.584 169.933 Q137.964 173.105 137.964 178.521 Q137.964 184.1 134.492 187.202 Q131.019 190.28 124.7 190.28 Q122.524 190.28 120.255 189.91 Q118.01 189.54 115.603 188.799 L115.603 184.1 Q117.686 185.234 119.908 185.79 Q122.13 186.345 124.607 186.345 Q128.612 186.345 130.95 184.239 Q133.288 182.132 133.288 178.521 Q133.288 174.91 130.95 172.804 Q128.612 170.697 124.607 170.697 Q122.732 170.697 120.857 171.114 Q119.006 171.531 117.061 172.41 L117.061 155.049 Z\" fill=\"#000000\" fill-rule=\"nonzero\" fill-opacity=\"1\" /><path clip-path=\"url(#clip560)\" d=\"M157.177 158.128 Q153.566 158.128 151.737 161.693 Q149.931 165.234 149.931 172.364 Q149.931 179.47 151.737 183.035 Q153.566 186.577 157.177 186.577 Q160.811 186.577 162.616 183.035 Q164.445 179.47 164.445 172.364 Q164.445 165.234 162.616 161.693 Q160.811 158.128 157.177 158.128 M157.177 154.424 Q162.987 154.424 166.042 159.031 Q169.121 163.614 169.121 172.364 Q169.121 181.091 166.042 185.697 Q162.987 190.28 157.177 190.28 Q151.366 190.28 148.288 185.697 Q145.232 181.091 145.232 172.364 Q145.232 163.614 148.288 159.031 Q151.366 154.424 157.177 154.424 Z\" fill=\"#000000\" fill-rule=\"nonzero\" fill-opacity=\"1\" /><path clip-path=\"url(#clip560)\" d=\"M21.7677 848.522 L58.7206 848.522 L58.7206 840.755 Q58.7206 830.92 54.2646 826.369 Q49.8086 821.786 40.1964 821.786 Q30.6479 821.786 26.2237 826.369 Q21.7677 830.92 21.7677 840.755 L21.7677 848.522 M16.4842 854.951 L16.4842 841.742 Q16.4842 827.928 22.2451 821.467 Q27.9743 815.006 40.1964 815.006 Q52.4822 815.006 58.2432 821.499 Q64.0042 827.992 64.0042 841.742 L64.0042 854.951 L16.4842 854.951 Z\" fill=\"#000000\" fill-rule=\"nonzero\" fill-opacity=\"1\" /><path clip-path=\"url(#clip560)\" d=\"M44.7161 774.52 L47.5806 774.52 L47.5806 801.447 Q53.6281 801.065 56.8109 797.819 Q59.9619 794.54 59.9619 788.716 Q59.9619 785.342 59.1344 782.191 Q58.3069 779.008 56.6518 775.889 L62.1899 775.889 Q63.5267 779.04 64.227 782.35 Q64.9272 785.66 64.9272 789.066 Q64.9272 797.596 59.9619 802.593 Q54.9967 807.558 46.5303 807.558 Q37.7774 807.558 32.6531 802.848 Q27.4968 798.105 27.4968 790.084 Q27.4968 782.891 32.1438 778.722 Q36.7589 774.52 44.7161 774.52 M42.9973 780.377 Q38.1912 780.44 35.3266 783.082 Q32.4621 785.692 32.4621 790.021 Q32.4621 794.922 35.2312 797.882 Q38.0002 800.811 43.0292 801.256 L42.9973 780.377 Z\" fill=\"#000000\" fill-rule=\"nonzero\" fill-opacity=\"1\" /><path clip-path=\"url(#clip560)\" d=\"M42.4881 735.276 L64.0042 735.276 L64.0042 741.132 L42.679 741.132 Q37.6183 741.132 35.1038 743.105 Q32.5894 745.079 32.5894 749.026 Q32.5894 753.768 35.6131 756.505 Q38.6368 759.243 43.8567 759.243 L64.0042 759.243 L64.0042 765.131 L28.3562 765.131 L28.3562 759.243 L33.8944 759.243 Q30.6797 757.142 29.0883 754.309 Q27.4968 751.445 27.4968 747.721 Q27.4968 741.578 31.3163 738.427 Q35.1038 735.276 42.4881 735.276 Z\" fill=\"#000000\" fill-rule=\"nonzero\" fill-opacity=\"1\" /><path clip-path=\"url(#clip560)\" d=\"M29.4065 700.869 L34.9447 700.869 Q33.6716 703.352 33.035 706.025 Q32.3984 708.699 32.3984 711.563 Q32.3984 715.924 33.7352 718.12 Q35.072 720.284 37.7456 720.284 Q39.7826 720.284 40.9603 718.725 Q42.1061 717.165 43.1565 712.455 L43.6021 710.449 Q44.9389 704.211 47.3897 701.601 Q49.8086 698.959 54.1691 698.959 Q59.1344 698.959 62.0308 702.906 Q64.9272 706.821 64.9272 713.696 Q64.9272 716.56 64.3543 719.68 Q63.8132 722.767 62.6992 726.204 L56.6518 726.204 Q58.3387 722.958 59.198 719.807 Q60.0256 716.656 60.0256 713.569 Q60.0256 709.431 58.6251 707.203 Q57.1929 704.975 54.6147 704.975 Q52.2276 704.975 50.9545 706.598 Q49.6813 708.19 48.5037 713.632 L48.0262 715.669 Q46.8804 721.112 44.5251 723.531 Q42.138 725.95 38.0002 725.95 Q32.9713 725.95 30.2341 722.385 Q27.4968 718.82 27.4968 712.264 Q27.4968 709.017 27.9743 706.153 Q28.4517 703.288 29.4065 700.869 Z\" fill=\"#000000\" fill-rule=\"nonzero\" fill-opacity=\"1\" /><path clip-path=\"url(#clip560)\" d=\"M28.3562 689.634 L28.3562 683.777 L64.0042 683.777 L64.0042 689.634 L28.3562 689.634 M14.479 689.634 L14.479 683.777 L21.895 683.777 L21.895 689.634 L14.479 689.634 Z\" fill=\"#000000\" fill-rule=\"nonzero\" fill-opacity=\"1\" /><path clip-path=\"url(#clip560)\" d=\"M18.2347 665.73 L28.3562 665.73 L28.3562 653.667 L32.9077 653.667 L32.9077 665.73 L52.2594 665.73 Q56.6199 665.73 57.8613 664.553 Q59.1026 663.343 59.1026 659.683 L59.1026 653.667 L64.0042 653.667 L64.0042 659.683 Q64.0042 666.462 61.4897 669.04 Q58.9434 671.619 52.2594 671.619 L32.9077 671.619 L32.9077 675.915 L28.3562 675.915 L28.3562 671.619 L18.2347 671.619 L18.2347 665.73 Z\" fill=\"#000000\" fill-rule=\"nonzero\" fill-opacity=\"1\" /><path clip-path=\"url(#clip560)\" d=\"M67.3143 631.133 Q73.68 633.615 75.6216 635.971 Q77.5631 638.326 77.5631 642.273 L77.5631 646.951 L72.6615 646.951 L72.6615 643.514 Q72.6615 641.095 71.5157 639.758 Q70.3699 638.421 66.1048 636.798 L63.4312 635.748 L28.3562 650.166 L28.3562 643.96 L56.238 632.82 L28.3562 621.68 L28.3562 615.473 L67.3143 631.133 Z\" fill=\"#000000\" fill-rule=\"nonzero\" fill-opacity=\"1\" /><path clip-path=\"url(#clip562)\" d=\"M1260.34 422.499 L1260.34 1423.18 L1403.42 1423.18 L1403.42 422.499 L1260.34 422.499 L1260.34 422.499  Z\" fill=\"#009af9\" fill-rule=\"evenodd\" fill-opacity=\"1\"/>\n",
       "<polyline clip-path=\"url(#clip562)\" style=\"stroke:#000000; stroke-linecap:round; stroke-linejoin:round; stroke-width:4; stroke-opacity:1; fill:none\" points=\"1260.34,422.499 1260.34,1423.18 1403.42,1423.18 1403.42,422.499 1260.34,422.499 \"/>\n",
       "<path clip-path=\"url(#clip562)\" d=\"M1403.42 1423.18 L1403.42 1423.18 L1546.51 1423.18 L1546.51 1423.18 L1403.42 1423.18 L1403.42 1423.18  Z\" fill=\"#009af9\" fill-rule=\"evenodd\" fill-opacity=\"1\"/>\n",
       "<polyline clip-path=\"url(#clip562)\" style=\"stroke:#000000; stroke-linecap:round; stroke-linejoin:round; stroke-width:4; stroke-opacity:1; fill:none\" points=\"1403.42,1423.18 1403.42,1423.18 1546.51,1423.18 1403.42,1423.18 \"/>\n",
       "<path clip-path=\"url(#clip562)\" d=\"M1546.51 47.2441 L1546.51 1423.18 L1689.59 1423.18 L1689.59 47.2441 L1546.51 47.2441 L1546.51 47.2441  Z\" fill=\"#009af9\" fill-rule=\"evenodd\" fill-opacity=\"1\"/>\n",
       "<polyline clip-path=\"url(#clip562)\" style=\"stroke:#000000; stroke-linecap:round; stroke-linejoin:round; stroke-width:4; stroke-opacity:1; fill:none\" points=\"1546.51,47.2441 1546.51,1423.18 1689.59,1423.18 1689.59,47.2441 1546.51,47.2441 \"/>\n",
       "<path clip-path=\"url(#clip562)\" d=\"M1689.59 1423.18 L1689.59 1423.18 L1832.67 1423.18 L1832.67 1423.18 L1689.59 1423.18 L1689.59 1423.18  Z\" fill=\"#009af9\" fill-rule=\"evenodd\" fill-opacity=\"1\"/>\n",
       "<polyline clip-path=\"url(#clip562)\" style=\"stroke:#000000; stroke-linecap:round; stroke-linejoin:round; stroke-width:4; stroke-opacity:1; fill:none\" points=\"1689.59,1423.18 1689.59,1423.18 1832.67,1423.18 1689.59,1423.18 \"/>\n",
       "<path clip-path=\"url(#clip562)\" d=\"M1832.67 1323.11 L1832.67 1423.18 L1975.76 1423.18 L1975.76 1323.11 L1832.67 1323.11 L1832.67 1323.11  Z\" fill=\"#009af9\" fill-rule=\"evenodd\" fill-opacity=\"1\"/>\n",
       "<polyline clip-path=\"url(#clip562)\" style=\"stroke:#000000; stroke-linecap:round; stroke-linejoin:round; stroke-width:4; stroke-opacity:1; fill:none\" points=\"1832.67,1323.11 1832.67,1423.18 1975.76,1423.18 1975.76,1323.11 1832.67,1323.11 \"/>\n",
       "<path clip-path=\"url(#clip562)\" d=\"M1975.76 1423.18 L1975.76 1423.18 L2118.84 1423.18 L2118.84 1423.18 L1975.76 1423.18 L1975.76 1423.18  Z\" fill=\"#009af9\" fill-rule=\"evenodd\" fill-opacity=\"1\"/>\n",
       "<polyline clip-path=\"url(#clip562)\" style=\"stroke:#000000; stroke-linecap:round; stroke-linejoin:round; stroke-width:4; stroke-opacity:1; fill:none\" points=\"1975.76,1423.18 1975.76,1423.18 2118.84,1423.18 1975.76,1423.18 \"/>\n",
       "<path clip-path=\"url(#clip562)\" d=\"M2118.84 1398.16 L2118.84 1423.18 L2261.93 1423.18 L2261.93 1398.16 L2118.84 1398.16 L2118.84 1398.16  Z\" fill=\"#009af9\" fill-rule=\"evenodd\" fill-opacity=\"1\"/>\n",
       "<polyline clip-path=\"url(#clip562)\" style=\"stroke:#000000; stroke-linecap:round; stroke-linejoin:round; stroke-width:4; stroke-opacity:1; fill:none\" points=\"2118.84,1398.16 2118.84,1423.18 2261.93,1423.18 2261.93,1398.16 2118.84,1398.16 \"/>\n",
       "<circle clip-path=\"url(#clip562)\" style=\"fill:#009af9; stroke:none; fill-opacity:0\" cx=\"1331.88\" cy=\"422.499\" r=\"2\"/>\n",
       "<circle clip-path=\"url(#clip562)\" style=\"fill:#009af9; stroke:none; fill-opacity:0\" cx=\"1474.96\" cy=\"1423.18\" r=\"2\"/>\n",
       "<circle clip-path=\"url(#clip562)\" style=\"fill:#009af9; stroke:none; fill-opacity:0\" cx=\"1618.05\" cy=\"47.2441\" r=\"2\"/>\n",
       "<circle clip-path=\"url(#clip562)\" style=\"fill:#009af9; stroke:none; fill-opacity:0\" cx=\"1761.13\" cy=\"1423.18\" r=\"2\"/>\n",
       "<circle clip-path=\"url(#clip562)\" style=\"fill:#009af9; stroke:none; fill-opacity:0\" cx=\"1904.22\" cy=\"1323.11\" r=\"2\"/>\n",
       "<circle clip-path=\"url(#clip562)\" style=\"fill:#009af9; stroke:none; fill-opacity:0\" cx=\"2047.3\" cy=\"1423.18\" r=\"2\"/>\n",
       "<circle clip-path=\"url(#clip562)\" style=\"fill:#009af9; stroke:none; fill-opacity:0\" cx=\"2190.38\" cy=\"1398.16\" r=\"2\"/>\n",
       "<polyline clip-path=\"url(#clip562)\" style=\"stroke:#e26f46; stroke-linecap:round; stroke-linejoin:round; stroke-width:4; stroke-opacity:1; fill:none\" points=\"265.903,1418.33 273.057,1419.92 280.212,1419.91 287.366,1419.96 294.52,1419.88 301.674,1419.83 308.828,1419.92 315.983,1419.94 323.137,1419.99 330.291,1419.81 337.445,1419.89 344.599,1419.94 351.754,1419.84 358.908,1419.92 366.062,1419.83 373.216,1419.27 380.37,1420.11 387.525,1419.93 394.679,1419.87 401.833,1399.14 408.987,1405.49 416.141,1405.58 423.296,1405.41 430.45,1405.28 437.604,1404.44 444.758,1406.19 451.912,1405.53 459.067,1405.19 466.221,1405.3 473.375,1405.31 480.529,1405.22 487.683,1405.1 494.838,1404.8 501.992,1420.04 509.146,1398.46 516.3,1405.33 523.454,1405.18 530.609,1405.1 537.763,1418.67 544.917,1398.57 552.071,1405.48 559.225,1405 566.38,1405.29 573.534,1419.94 580.688,1419.92 587.842,1419.76 594.996,1419.83 602.151,1419.85 609.305,1419.71 616.459,1419.94 623.613,1419.39 630.768,1419.88 637.922,1419.87 645.076,1419.89 652.23,1419.88 659.384,1419.85 666.539,1419.65 673.693,1419.45 680.847,1419.74 688.001,1398.65 695.155,1405.2 702.31,1405.39 709.464,1405.14 716.618,1405.1 723.772,1405.29 730.926,1405.26 738.081,1405.28 745.235,1405.27 752.389,1408.74 759.543,1405.25 766.697,1405.73 773.852,1405.32 781.006,1405.29 788.16,1405.1 795.314,1405.04 802.468,1405.5 809.623,1405.56 816.777,1404.5 823.931,1404.98 831.085,1404.17 838.239,1406.19 845.394,1405.79 852.548,1404.83 859.702,1404.97 866.856,1404.72 874.01,1405.25 881.165,1404.2 888.319,1405.13 895.473,1404.72 902.627,1404.66 909.781,1404.88 916.936,1404.93 924.09,1405.56 931.244,1404.69 938.398,1419.86 945.553,1419.92 952.707,1398.16 959.861,1405.39 967.015,1404.65 974.169,1419.48 \"/>\n",
       "<path clip-path=\"url(#clip560)\" d=\"M1545.25 248.629 L2281.17 248.629 L2281.17 93.1086 L1545.25 93.1086  Z\" fill=\"#ffffff\" fill-rule=\"evenodd\" fill-opacity=\"1\"/>\n",
       "<polyline clip-path=\"url(#clip560)\" style=\"stroke:#000000; stroke-linecap:round; stroke-linejoin:round; stroke-width:4; stroke-opacity:1; fill:none\" points=\"1545.25,248.629 2281.17,248.629 2281.17,93.1086 1545.25,93.1086 1545.25,248.629 \"/>\n",
       "<path clip-path=\"url(#clip560)\" d=\"M1569.11 165.685 L1712.29 165.685 L1712.29 124.213 L1569.11 124.213 L1569.11 165.685  Z\" fill=\"#009af9\" fill-rule=\"evenodd\" fill-opacity=\"1\"/>\n",
       "<polyline clip-path=\"url(#clip560)\" style=\"stroke:#000000; stroke-linecap:round; stroke-linejoin:round; stroke-width:4; stroke-opacity:1; fill:none\" points=\"1569.11,165.685 1712.29,165.685 1712.29,124.213 1569.11,124.213 1569.11,165.685 \"/>\n",
       "<path clip-path=\"url(#clip560)\" d=\"M1736.15 127.669 L1742.45 127.669 L1757.77 156.581 L1757.77 127.669 L1762.31 127.669 L1762.31 162.229 L1756.01 162.229 L1740.69 133.317 L1740.69 162.229 L1736.15 162.229 L1736.15 127.669 Z\" fill=\"#000000\" fill-rule=\"nonzero\" fill-opacity=\"1\" /><path clip-path=\"url(#clip560)\" d=\"M1781.47 139.289 Q1778.05 139.289 1776.06 141.974 Q1774.07 144.636 1774.07 149.289 Q1774.07 153.942 1776.03 156.627 Q1778.03 159.289 1781.47 159.289 Q1784.88 159.289 1786.87 156.604 Q1788.86 153.918 1788.86 149.289 Q1788.86 144.682 1786.87 141.997 Q1784.88 139.289 1781.47 139.289 M1781.47 135.678 Q1787.03 135.678 1790.2 139.289 Q1793.37 142.9 1793.37 149.289 Q1793.37 155.655 1790.2 159.289 Q1787.03 162.9 1781.47 162.9 Q1775.9 162.9 1772.72 159.289 Q1769.58 155.655 1769.58 149.289 Q1769.58 142.9 1772.72 139.289 Q1775.9 135.678 1781.47 135.678 Z\" fill=\"#000000\" fill-rule=\"nonzero\" fill-opacity=\"1\" /><path clip-path=\"url(#clip560)\" d=\"M1815.46 140.284 Q1814.74 139.868 1813.88 139.682 Q1813.05 139.474 1812.03 139.474 Q1808.42 139.474 1806.47 141.835 Q1804.55 144.173 1804.55 148.571 L1804.55 162.229 L1800.27 162.229 L1800.27 136.303 L1804.55 136.303 L1804.55 140.331 Q1805.9 137.969 1808.05 136.835 Q1810.2 135.678 1813.28 135.678 Q1813.72 135.678 1814.25 135.747 Q1814.78 135.794 1815.43 135.909 L1815.46 140.284 Z\" fill=\"#000000\" fill-rule=\"nonzero\" fill-opacity=\"1\" /><path clip-path=\"url(#clip560)\" d=\"M1839.28 141.28 Q1840.87 138.409 1843.09 137.044 Q1845.32 135.678 1848.33 135.678 Q1852.38 135.678 1854.58 138.525 Q1856.78 141.349 1856.78 146.581 L1856.78 162.229 L1852.49 162.229 L1852.49 146.719 Q1852.49 142.993 1851.17 141.187 Q1849.85 139.382 1847.15 139.382 Q1843.84 139.382 1841.91 141.581 Q1839.99 143.78 1839.99 147.576 L1839.99 162.229 L1835.71 162.229 L1835.71 146.719 Q1835.71 142.969 1834.39 141.187 Q1833.07 139.382 1830.32 139.382 Q1827.05 139.382 1825.13 141.604 Q1823.21 143.803 1823.21 147.576 L1823.21 162.229 L1818.93 162.229 L1818.93 136.303 L1823.21 136.303 L1823.21 140.331 Q1824.67 137.946 1826.71 136.812 Q1828.74 135.678 1831.54 135.678 Q1834.37 135.678 1836.34 137.113 Q1838.33 138.548 1839.28 141.28 Z\" fill=\"#000000\" fill-rule=\"nonzero\" fill-opacity=\"1\" /><path clip-path=\"url(#clip560)\" d=\"M1877.05 149.196 Q1871.89 149.196 1869.9 150.377 Q1867.91 151.557 1867.91 154.405 Q1867.91 156.673 1869.39 158.016 Q1870.9 159.335 1873.46 159.335 Q1877.01 159.335 1879.14 156.835 Q1881.29 154.312 1881.29 150.145 L1881.29 149.196 L1877.05 149.196 M1885.55 147.437 L1885.55 162.229 L1881.29 162.229 L1881.29 158.293 Q1879.83 160.655 1877.65 161.789 Q1875.48 162.9 1872.33 162.9 Q1868.35 162.9 1865.99 160.678 Q1863.65 158.432 1863.65 154.682 Q1863.65 150.307 1866.57 148.085 Q1869.51 145.863 1875.32 145.863 L1881.29 145.863 L1881.29 145.446 Q1881.29 142.507 1879.34 140.909 Q1877.42 139.289 1873.93 139.289 Q1871.71 139.289 1869.6 139.821 Q1867.49 140.354 1865.55 141.419 L1865.55 137.483 Q1867.89 136.581 1870.09 136.141 Q1872.28 135.678 1874.37 135.678 Q1879.99 135.678 1882.77 138.594 Q1885.55 141.511 1885.55 147.437 Z\" fill=\"#000000\" fill-rule=\"nonzero\" fill-opacity=\"1\" /><path clip-path=\"url(#clip560)\" d=\"M1894.32 126.21 L1898.58 126.21 L1898.58 162.229 L1894.32 162.229 L1894.32 126.21 Z\" fill=\"#000000\" fill-rule=\"nonzero\" fill-opacity=\"1\" /><path clip-path=\"url(#clip560)\" d=\"M1907.49 136.303 L1911.75 136.303 L1911.75 162.229 L1907.49 162.229 L1907.49 136.303 M1907.49 126.21 L1911.75 126.21 L1911.75 131.604 L1907.49 131.604 L1907.49 126.21 Z\" fill=\"#000000\" fill-rule=\"nonzero\" fill-opacity=\"1\" /><path clip-path=\"url(#clip560)\" d=\"M1918.81 136.303 L1939.04 136.303 L1939.04 140.192 L1923.02 158.826 L1939.04 158.826 L1939.04 162.229 L1918.23 162.229 L1918.23 158.34 L1934.25 139.706 L1918.81 139.706 L1918.81 136.303 Z\" fill=\"#000000\" fill-rule=\"nonzero\" fill-opacity=\"1\" /><path clip-path=\"url(#clip560)\" d=\"M1967.72 148.201 L1967.72 150.284 L1948.14 150.284 Q1948.42 154.682 1950.78 156.997 Q1953.16 159.289 1957.4 159.289 Q1959.85 159.289 1962.15 158.687 Q1964.46 158.085 1966.73 156.881 L1966.73 160.909 Q1964.44 161.881 1962.03 162.391 Q1959.62 162.9 1957.15 162.9 Q1950.94 162.9 1947.31 159.289 Q1943.7 155.678 1943.7 149.52 Q1943.7 143.155 1947.12 139.428 Q1950.57 135.678 1956.4 135.678 Q1961.64 135.678 1964.67 139.057 Q1967.72 142.414 1967.72 148.201 M1963.46 146.951 Q1963.42 143.456 1961.5 141.372 Q1959.6 139.289 1956.45 139.289 Q1952.89 139.289 1950.73 141.303 Q1948.6 143.317 1948.28 146.974 L1963.46 146.951 Z\" fill=\"#000000\" fill-rule=\"nonzero\" fill-opacity=\"1\" /><path clip-path=\"url(#clip560)\" d=\"M1991.77 140.238 L1991.77 126.21 L1996.03 126.21 L1996.03 162.229 L1991.77 162.229 L1991.77 158.34 Q1990.43 160.655 1988.37 161.789 Q1986.33 162.9 1983.46 162.9 Q1978.77 162.9 1975.8 159.15 Q1972.86 155.4 1972.86 149.289 Q1972.86 143.178 1975.8 139.428 Q1978.77 135.678 1983.46 135.678 Q1986.33 135.678 1988.37 136.812 Q1990.43 137.923 1991.77 140.238 M1977.26 149.289 Q1977.26 153.988 1979.18 156.673 Q1981.13 159.335 1984.51 159.335 Q1987.89 159.335 1989.83 156.673 Q1991.77 153.988 1991.77 149.289 Q1991.77 144.59 1989.83 141.928 Q1987.89 139.243 1984.51 139.243 Q1981.13 139.243 1979.18 141.928 Q1977.26 144.59 1977.26 149.289 Z\" fill=\"#000000\" fill-rule=\"nonzero\" fill-opacity=\"1\" /><path clip-path=\"url(#clip560)\" d=\"M2020.06 127.669 L2024.74 127.669 L2024.74 141.835 L2041.73 141.835 L2041.73 127.669 L2046.4 127.669 L2046.4 162.229 L2041.73 162.229 L2041.73 145.77 L2024.74 145.77 L2024.74 162.229 L2020.06 162.229 L2020.06 127.669 Z\" fill=\"#000000\" fill-rule=\"nonzero\" fill-opacity=\"1\" /><path clip-path=\"url(#clip560)\" d=\"M2055.52 136.303 L2059.78 136.303 L2059.78 162.229 L2055.52 162.229 L2055.52 136.303 M2055.52 126.21 L2059.78 126.21 L2059.78 131.604 L2055.52 131.604 L2055.52 126.21 Z\" fill=\"#000000\" fill-rule=\"nonzero\" fill-opacity=\"1\" /><path clip-path=\"url(#clip560)\" d=\"M2085.22 137.067 L2085.22 141.094 Q2083.42 140.169 2081.47 139.706 Q2079.53 139.243 2077.45 139.243 Q2074.27 139.243 2072.68 140.215 Q2071.1 141.187 2071.1 143.131 Q2071.1 144.613 2072.24 145.469 Q2073.37 146.303 2076.8 147.067 L2078.26 147.391 Q2082.79 148.363 2084.69 150.145 Q2086.61 151.905 2086.61 155.076 Q2086.61 158.687 2083.74 160.793 Q2080.89 162.9 2075.89 162.9 Q2073.81 162.9 2071.54 162.483 Q2069.3 162.09 2066.8 161.28 L2066.8 156.881 Q2069.16 158.108 2071.45 158.733 Q2073.74 159.335 2075.99 159.335 Q2079 159.335 2080.62 158.317 Q2082.24 157.275 2082.24 155.4 Q2082.24 153.664 2081.06 152.738 Q2079.9 151.812 2075.94 150.956 L2074.46 150.608 Q2070.5 149.775 2068.74 148.062 Q2066.98 146.326 2066.98 143.317 Q2066.98 139.659 2069.57 137.669 Q2072.17 135.678 2076.94 135.678 Q2079.3 135.678 2081.38 136.025 Q2083.46 136.372 2085.22 137.067 Z\" fill=\"#000000\" fill-rule=\"nonzero\" fill-opacity=\"1\" /><path clip-path=\"url(#clip560)\" d=\"M2097.61 128.942 L2097.61 136.303 L2106.38 136.303 L2106.38 139.613 L2097.61 139.613 L2097.61 153.687 Q2097.61 156.858 2098.46 157.761 Q2099.34 158.664 2102.01 158.664 L2106.38 158.664 L2106.38 162.229 L2102.01 162.229 Q2097.07 162.229 2095.2 160.4 Q2093.32 158.548 2093.32 153.687 L2093.32 139.613 L2090.2 139.613 L2090.2 136.303 L2093.32 136.303 L2093.32 128.942 L2097.61 128.942 Z\" fill=\"#000000\" fill-rule=\"nonzero\" fill-opacity=\"1\" /><path clip-path=\"url(#clip560)\" d=\"M2122.03 139.289 Q2118.6 139.289 2116.61 141.974 Q2114.62 144.636 2114.62 149.289 Q2114.62 153.942 2116.59 156.627 Q2118.58 159.289 2122.03 159.289 Q2125.43 159.289 2127.42 156.604 Q2129.41 153.918 2129.41 149.289 Q2129.41 144.682 2127.42 141.997 Q2125.43 139.289 2122.03 139.289 M2122.03 135.678 Q2127.58 135.678 2130.76 139.289 Q2133.93 142.9 2133.93 149.289 Q2133.93 155.655 2130.76 159.289 Q2127.58 162.9 2122.03 162.9 Q2116.45 162.9 2113.28 159.289 Q2110.13 155.655 2110.13 149.289 Q2110.13 142.9 2113.28 139.289 Q2116.45 135.678 2122.03 135.678 Z\" fill=\"#000000\" fill-rule=\"nonzero\" fill-opacity=\"1\" /><path clip-path=\"url(#clip560)\" d=\"M2158.05 148.965 Q2158.05 144.335 2156.13 141.789 Q2154.23 139.243 2150.78 139.243 Q2147.35 139.243 2145.43 141.789 Q2143.53 144.335 2143.53 148.965 Q2143.53 153.571 2145.43 156.118 Q2147.35 158.664 2150.78 158.664 Q2154.23 158.664 2156.13 156.118 Q2158.05 153.571 2158.05 148.965 M2162.31 159.011 Q2162.31 165.631 2159.37 168.849 Q2156.43 172.09 2150.36 172.09 Q2148.12 172.09 2146.13 171.742 Q2144.13 171.418 2142.26 170.724 L2142.26 166.58 Q2144.13 167.599 2145.96 168.085 Q2147.79 168.571 2149.69 168.571 Q2153.88 168.571 2155.96 166.372 Q2158.05 164.196 2158.05 159.775 L2158.05 157.668 Q2156.73 159.96 2154.67 161.094 Q2152.61 162.229 2149.74 162.229 Q2144.97 162.229 2142.05 158.594 Q2139.13 154.96 2139.13 148.965 Q2139.13 142.946 2142.05 139.312 Q2144.97 135.678 2149.74 135.678 Q2152.61 135.678 2154.67 136.812 Q2156.73 137.946 2158.05 140.238 L2158.05 136.303 L2162.31 136.303 L2162.31 159.011 Z\" fill=\"#000000\" fill-rule=\"nonzero\" fill-opacity=\"1\" /><path clip-path=\"url(#clip560)\" d=\"M2186.1 140.284 Q2185.38 139.868 2184.53 139.682 Q2183.69 139.474 2182.68 139.474 Q2179.07 139.474 2177.12 141.835 Q2175.2 144.173 2175.2 148.571 L2175.2 162.229 L2170.92 162.229 L2170.92 136.303 L2175.2 136.303 L2175.2 140.331 Q2176.54 137.969 2178.69 136.835 Q2180.85 135.678 2183.93 135.678 Q2184.37 135.678 2184.9 135.747 Q2185.43 135.794 2186.08 135.909 L2186.1 140.284 Z\" fill=\"#000000\" fill-rule=\"nonzero\" fill-opacity=\"1\" /><path clip-path=\"url(#clip560)\" d=\"M2202.35 149.196 Q2197.19 149.196 2195.2 150.377 Q2193.21 151.557 2193.21 154.405 Q2193.21 156.673 2194.69 158.016 Q2196.19 159.335 2198.76 159.335 Q2202.31 159.335 2204.44 156.835 Q2206.59 154.312 2206.59 150.145 L2206.59 149.196 L2202.35 149.196 M2210.85 147.437 L2210.85 162.229 L2206.59 162.229 L2206.59 158.293 Q2205.13 160.655 2202.95 161.789 Q2200.78 162.9 2197.63 162.9 Q2193.65 162.9 2191.29 160.678 Q2188.95 158.432 2188.95 154.682 Q2188.95 150.307 2191.87 148.085 Q2194.81 145.863 2200.62 145.863 L2206.59 145.863 L2206.59 145.446 Q2206.59 142.507 2204.64 140.909 Q2202.72 139.289 2199.23 139.289 Q2197 139.289 2194.9 139.821 Q2192.79 140.354 2190.85 141.419 L2190.85 137.483 Q2193.19 136.581 2195.38 136.141 Q2197.58 135.678 2199.67 135.678 Q2205.29 135.678 2208.07 138.594 Q2210.85 141.511 2210.85 147.437 Z\" fill=\"#000000\" fill-rule=\"nonzero\" fill-opacity=\"1\" /><path clip-path=\"url(#clip560)\" d=\"M2239.81 141.28 Q2241.4 138.409 2243.62 137.044 Q2245.85 135.678 2248.86 135.678 Q2252.91 135.678 2255.11 138.525 Q2257.31 141.349 2257.31 146.581 L2257.31 162.229 L2253.02 162.229 L2253.02 146.719 Q2253.02 142.993 2251.7 141.187 Q2250.38 139.382 2247.68 139.382 Q2244.37 139.382 2242.44 141.581 Q2240.52 143.78 2240.52 147.576 L2240.52 162.229 L2236.24 162.229 L2236.24 146.719 Q2236.24 142.969 2234.92 141.187 Q2233.6 139.382 2230.85 139.382 Q2227.58 139.382 2225.66 141.604 Q2223.74 143.803 2223.74 147.576 L2223.74 162.229 L2219.46 162.229 L2219.46 136.303 L2223.74 136.303 L2223.74 140.331 Q2225.2 137.946 2227.24 136.812 Q2229.27 135.678 2232.07 135.678 Q2234.9 135.678 2236.87 137.113 Q2238.86 138.548 2239.81 141.28 Z\" fill=\"#000000\" fill-rule=\"nonzero\" fill-opacity=\"1\" /><polyline clip-path=\"url(#clip560)\" style=\"stroke:#e26f46; stroke-linecap:round; stroke-linejoin:round; stroke-width:4; stroke-opacity:1; fill:none\" points=\"1569.11,196.789 1712.29,196.789 \"/>\n",
       "<path clip-path=\"url(#clip560)\" d=\"M1758.4 180.643 L1758.4 185.203 Q1755.73 183.93 1753.37 183.305 Q1751.01 182.68 1748.81 182.68 Q1744.99 182.68 1742.91 184.161 Q1740.85 185.643 1740.85 188.374 Q1740.85 190.666 1742.22 191.847 Q1743.6 193.004 1747.45 193.722 L1750.27 194.3 Q1755.5 195.296 1757.98 197.819 Q1760.48 200.319 1760.48 204.532 Q1760.48 209.555 1757.1 212.147 Q1753.74 214.74 1747.24 214.74 Q1744.79 214.74 1742.01 214.184 Q1739.25 213.629 1736.29 212.541 L1736.29 207.726 Q1739.14 209.323 1741.87 210.133 Q1744.6 210.944 1747.24 210.944 Q1751.24 210.944 1753.42 209.37 Q1755.6 207.796 1755.6 204.879 Q1755.6 202.333 1754.02 200.897 Q1752.47 199.462 1748.91 198.745 L1746.06 198.189 Q1740.83 197.147 1738.49 194.925 Q1736.15 192.703 1736.15 188.745 Q1736.15 184.161 1739.37 181.522 Q1742.61 178.884 1748.28 178.884 Q1750.71 178.884 1753.23 179.323 Q1755.76 179.763 1758.4 180.643 Z\" fill=\"#000000\" fill-rule=\"nonzero\" fill-opacity=\"1\" /><path clip-path=\"url(#clip560)\" d=\"M1771.8 180.782 L1771.8 188.143 L1780.57 188.143 L1780.57 191.453 L1771.8 191.453 L1771.8 205.527 Q1771.8 208.698 1772.66 209.601 Q1773.53 210.504 1776.2 210.504 L1780.57 210.504 L1780.57 214.069 L1776.2 214.069 Q1771.27 214.069 1769.39 212.24 Q1767.52 210.388 1767.52 205.527 L1767.52 191.453 L1764.39 191.453 L1764.39 188.143 L1767.52 188.143 L1767.52 180.782 L1771.8 180.782 Z\" fill=\"#000000\" fill-rule=\"nonzero\" fill-opacity=\"1\" /><path clip-path=\"url(#clip560)\" d=\"M1797.96 201.036 Q1792.79 201.036 1790.8 202.217 Q1788.81 203.397 1788.81 206.245 Q1788.81 208.513 1790.29 209.856 Q1791.8 211.175 1794.37 211.175 Q1797.91 211.175 1800.04 208.675 Q1802.19 206.152 1802.19 201.985 L1802.19 201.036 L1797.96 201.036 M1806.45 199.277 L1806.45 214.069 L1802.19 214.069 L1802.19 210.133 Q1800.73 212.495 1798.56 213.629 Q1796.38 214.74 1793.23 214.74 Q1789.25 214.74 1786.89 212.518 Q1784.55 210.272 1784.55 206.522 Q1784.55 202.147 1787.47 199.925 Q1790.41 197.703 1796.22 197.703 L1802.19 197.703 L1802.19 197.286 Q1802.19 194.347 1800.25 192.749 Q1798.33 191.129 1794.83 191.129 Q1792.61 191.129 1790.5 191.661 Q1788.4 192.194 1786.45 193.259 L1786.45 189.323 Q1788.79 188.421 1790.99 187.981 Q1793.19 187.518 1795.27 187.518 Q1800.9 187.518 1803.67 190.434 Q1806.45 193.351 1806.45 199.277 Z\" fill=\"#000000\" fill-rule=\"nonzero\" fill-opacity=\"1\" /><path clip-path=\"url(#clip560)\" d=\"M1836.78 198.421 L1836.78 214.069 L1832.52 214.069 L1832.52 198.559 Q1832.52 194.879 1831.08 193.05 Q1829.65 191.222 1826.78 191.222 Q1823.33 191.222 1821.34 193.421 Q1819.34 195.62 1819.34 199.416 L1819.34 214.069 L1815.06 214.069 L1815.06 188.143 L1819.34 188.143 L1819.34 192.171 Q1820.87 189.833 1822.93 188.675 Q1825.02 187.518 1827.72 187.518 Q1832.19 187.518 1834.48 190.296 Q1836.78 193.05 1836.78 198.421 Z\" fill=\"#000000\" fill-rule=\"nonzero\" fill-opacity=\"1\" /><path clip-path=\"url(#clip560)\" d=\"M1862.33 192.078 L1862.33 178.05 L1866.59 178.05 L1866.59 214.069 L1862.33 214.069 L1862.33 210.18 Q1860.99 212.495 1858.93 213.629 Q1856.89 214.74 1854.02 214.74 Q1849.32 214.74 1846.36 210.99 Q1843.42 207.24 1843.42 201.129 Q1843.42 195.018 1846.36 191.268 Q1849.32 187.518 1854.02 187.518 Q1856.89 187.518 1858.93 188.652 Q1860.99 189.763 1862.33 192.078 M1847.82 201.129 Q1847.82 205.828 1849.74 208.513 Q1851.68 211.175 1855.06 211.175 Q1858.44 211.175 1860.39 208.513 Q1862.33 205.828 1862.33 201.129 Q1862.33 196.43 1860.39 193.768 Q1858.44 191.083 1855.06 191.083 Q1851.68 191.083 1849.74 193.768 Q1847.82 196.43 1847.82 201.129 Z\" fill=\"#000000\" fill-rule=\"nonzero\" fill-opacity=\"1\" /><path clip-path=\"url(#clip560)\" d=\"M1887.15 201.036 Q1881.98 201.036 1879.99 202.217 Q1878 203.397 1878 206.245 Q1878 208.513 1879.48 209.856 Q1880.99 211.175 1883.56 211.175 Q1887.1 211.175 1889.23 208.675 Q1891.38 206.152 1891.38 201.985 L1891.38 201.036 L1887.15 201.036 M1895.64 199.277 L1895.64 214.069 L1891.38 214.069 L1891.38 210.133 Q1889.92 212.495 1887.75 213.629 Q1885.57 214.74 1882.42 214.74 Q1878.44 214.74 1876.08 212.518 Q1873.74 210.272 1873.74 206.522 Q1873.74 202.147 1876.66 199.925 Q1879.6 197.703 1885.41 197.703 L1891.38 197.703 L1891.38 197.286 Q1891.38 194.347 1889.44 192.749 Q1887.52 191.129 1884.02 191.129 Q1881.8 191.129 1879.69 191.661 Q1877.59 192.194 1875.64 193.259 L1875.64 189.323 Q1877.98 188.421 1880.18 187.981 Q1882.38 187.518 1884.46 187.518 Q1890.09 187.518 1892.86 190.434 Q1895.64 193.351 1895.64 199.277 Z\" fill=\"#000000\" fill-rule=\"nonzero\" fill-opacity=\"1\" /><path clip-path=\"url(#clip560)\" d=\"M1919.44 192.124 Q1918.72 191.708 1917.86 191.522 Q1917.03 191.314 1916.01 191.314 Q1912.4 191.314 1910.46 193.675 Q1908.53 196.013 1908.53 200.411 L1908.53 214.069 L1904.25 214.069 L1904.25 188.143 L1908.53 188.143 L1908.53 192.171 Q1909.88 189.809 1912.03 188.675 Q1914.18 187.518 1917.26 187.518 Q1917.7 187.518 1918.23 187.587 Q1918.77 187.634 1919.41 187.749 L1919.44 192.124 Z\" fill=\"#000000\" fill-rule=\"nonzero\" fill-opacity=\"1\" /><path clip-path=\"url(#clip560)\" d=\"M1940.13 192.078 L1940.13 178.05 L1944.39 178.05 L1944.39 214.069 L1940.13 214.069 L1940.13 210.18 Q1938.79 212.495 1936.73 213.629 Q1934.69 214.74 1931.82 214.74 Q1927.12 214.74 1924.16 210.99 Q1921.22 207.24 1921.22 201.129 Q1921.22 195.018 1924.16 191.268 Q1927.12 187.518 1931.82 187.518 Q1934.69 187.518 1936.73 188.652 Q1938.79 189.763 1940.13 192.078 M1925.62 201.129 Q1925.62 205.828 1927.54 208.513 Q1929.48 211.175 1932.86 211.175 Q1936.24 211.175 1938.19 208.513 Q1940.13 205.828 1940.13 201.129 Q1940.13 196.43 1938.19 193.768 Q1936.24 191.083 1932.86 191.083 Q1929.48 191.083 1927.54 193.768 Q1925.62 196.43 1925.62 201.129 Z\" fill=\"#000000\" fill-rule=\"nonzero\" fill-opacity=\"1\" /><path clip-path=\"url(#clip560)\" d=\"M1968.42 179.509 L1974.71 179.509 L1990.04 208.421 L1990.04 179.509 L1994.58 179.509 L1994.58 214.069 L1988.28 214.069 L1972.96 185.157 L1972.96 214.069 L1968.42 214.069 L1968.42 179.509 Z\" fill=\"#000000\" fill-rule=\"nonzero\" fill-opacity=\"1\" /><path clip-path=\"url(#clip560)\" d=\"M2013.74 191.129 Q2010.32 191.129 2008.33 193.814 Q2006.33 196.476 2006.33 201.129 Q2006.33 205.782 2008.3 208.467 Q2010.29 211.129 2013.74 211.129 Q2017.14 211.129 2019.14 208.444 Q2021.13 205.758 2021.13 201.129 Q2021.13 196.522 2019.14 193.837 Q2017.14 191.129 2013.74 191.129 M2013.74 187.518 Q2019.3 187.518 2022.47 191.129 Q2025.64 194.74 2025.64 201.129 Q2025.64 207.495 2022.47 211.129 Q2019.3 214.74 2013.74 214.74 Q2008.16 214.74 2004.99 211.129 Q2001.84 207.495 2001.84 201.129 Q2001.84 194.74 2004.99 191.129 Q2008.16 187.518 2013.74 187.518 Z\" fill=\"#000000\" fill-rule=\"nonzero\" fill-opacity=\"1\" /><path clip-path=\"url(#clip560)\" d=\"M2047.72 192.124 Q2047.01 191.708 2046.15 191.522 Q2045.32 191.314 2044.3 191.314 Q2040.69 191.314 2038.74 193.675 Q2036.82 196.013 2036.82 200.411 L2036.82 214.069 L2032.54 214.069 L2032.54 188.143 L2036.82 188.143 L2036.82 192.171 Q2038.16 189.809 2040.32 188.675 Q2042.47 187.518 2045.55 187.518 Q2045.99 187.518 2046.52 187.587 Q2047.05 187.634 2047.7 187.749 L2047.72 192.124 Z\" fill=\"#000000\" fill-rule=\"nonzero\" fill-opacity=\"1\" /><path clip-path=\"url(#clip560)\" d=\"M2071.54 193.12 Q2073.14 190.249 2075.36 188.884 Q2077.58 187.518 2080.59 187.518 Q2084.64 187.518 2086.84 190.365 Q2089.04 193.189 2089.04 198.421 L2089.04 214.069 L2084.76 214.069 L2084.76 198.559 Q2084.76 194.833 2083.44 193.027 Q2082.12 191.222 2079.41 191.222 Q2076.1 191.222 2074.18 193.421 Q2072.26 195.62 2072.26 199.416 L2072.26 214.069 L2067.98 214.069 L2067.98 198.559 Q2067.98 194.809 2066.66 193.027 Q2065.34 191.222 2062.58 191.222 Q2059.32 191.222 2057.4 193.444 Q2055.48 195.643 2055.48 199.416 L2055.48 214.069 L2051.2 214.069 L2051.2 188.143 L2055.48 188.143 L2055.48 192.171 Q2056.94 189.786 2058.97 188.652 Q2061.01 187.518 2063.81 187.518 Q2066.64 187.518 2068.6 188.953 Q2070.59 190.388 2071.54 193.12 Z\" fill=\"#000000\" fill-rule=\"nonzero\" fill-opacity=\"1\" /><path clip-path=\"url(#clip560)\" d=\"M2109.32 201.036 Q2104.16 201.036 2102.17 202.217 Q2100.18 203.397 2100.18 206.245 Q2100.18 208.513 2101.66 209.856 Q2103.16 211.175 2105.73 211.175 Q2109.27 211.175 2111.4 208.675 Q2113.56 206.152 2113.56 201.985 L2113.56 201.036 L2109.32 201.036 M2117.82 199.277 L2117.82 214.069 L2113.56 214.069 L2113.56 210.133 Q2112.1 212.495 2109.92 213.629 Q2107.75 214.74 2104.6 214.74 Q2100.62 214.74 2098.26 212.518 Q2095.92 210.272 2095.92 206.522 Q2095.92 202.147 2098.83 199.925 Q2101.77 197.703 2107.58 197.703 L2113.56 197.703 L2113.56 197.286 Q2113.56 194.347 2111.61 192.749 Q2109.69 191.129 2106.2 191.129 Q2103.97 191.129 2101.87 191.661 Q2099.76 192.194 2097.82 193.259 L2097.82 189.323 Q2100.15 188.421 2102.35 187.981 Q2104.55 187.518 2106.63 187.518 Q2112.26 187.518 2115.04 190.434 Q2117.82 193.351 2117.82 199.277 Z\" fill=\"#000000\" fill-rule=\"nonzero\" fill-opacity=\"1\" /><path clip-path=\"url(#clip560)\" d=\"M2126.59 178.05 L2130.85 178.05 L2130.85 214.069 L2126.59 214.069 L2126.59 178.05 Z\" fill=\"#000000\" fill-rule=\"nonzero\" fill-opacity=\"1\" /><path clip-path=\"url(#clip560)\" d=\"M2159.69 183.351 L2159.69 196.337 L2165.57 196.337 Q2168.83 196.337 2170.62 194.647 Q2172.4 192.958 2172.4 189.833 Q2172.4 186.731 2170.62 185.041 Q2168.83 183.351 2165.57 183.351 L2159.69 183.351 M2155.01 179.509 L2165.57 179.509 Q2171.38 179.509 2174.34 182.147 Q2177.33 184.763 2177.33 189.833 Q2177.33 194.948 2174.34 197.564 Q2171.38 200.18 2165.57 200.18 L2159.69 200.18 L2159.69 214.069 L2155.01 214.069 L2155.01 179.509 Z\" fill=\"#000000\" fill-rule=\"nonzero\" fill-opacity=\"1\" /><path clip-path=\"url(#clip560)\" d=\"M2188.28 183.351 L2188.28 210.226 L2193.93 210.226 Q2201.08 210.226 2204.39 206.985 Q2207.72 203.745 2207.72 196.754 Q2207.72 189.809 2204.39 186.592 Q2201.08 183.351 2193.93 183.351 L2188.28 183.351 M2183.6 179.509 L2193.21 179.509 Q2203.25 179.509 2207.95 183.698 Q2212.65 187.865 2212.65 196.754 Q2212.65 205.689 2207.93 209.879 Q2203.21 214.069 2193.21 214.069 L2183.6 214.069 L2183.6 179.509 Z\" fill=\"#000000\" fill-rule=\"nonzero\" fill-opacity=\"1\" /><path clip-path=\"url(#clip560)\" d=\"M2220.11 179.509 L2239.97 179.509 L2239.97 183.444 L2224.78 183.444 L2224.78 193.629 L2238.49 193.629 L2238.49 197.564 L2224.78 197.564 L2224.78 214.069 L2220.11 214.069 L2220.11 179.509 Z\" fill=\"#000000\" fill-rule=\"nonzero\" fill-opacity=\"1\" /></svg>\n"
      ],
      "text/html": [
       "<?xml version=\"1.0\" encoding=\"utf-8\"?>\n",
       "<svg xmlns=\"http://www.w3.org/2000/svg\" xmlns:xlink=\"http://www.w3.org/1999/xlink\" width=\"600\" height=\"400\" viewBox=\"0 0 2400 1600\">\n",
       "<defs>\n",
       "  <clipPath id=\"clip610\">\n",
       "    <rect x=\"0\" y=\"0\" width=\"2400\" height=\"1600\"/>\n",
       "  </clipPath>\n",
       "</defs>\n",
       "<path clip-path=\"url(#clip610)\" d=\"M0 1600 L2400 1600 L2400 0 L0 0  Z\" fill=\"#ffffff\" fill-rule=\"evenodd\" fill-opacity=\"1\"/>\n",
       "<defs>\n",
       "  <clipPath id=\"clip611\">\n",
       "    <rect x=\"480\" y=\"0\" width=\"1681\" height=\"1600\"/>\n",
       "  </clipPath>\n",
       "</defs>\n",
       "<path clip-path=\"url(#clip610)\" d=\"M205.121 1423.18 L2352.76 1423.18 L2352.76 47.2441 L205.121 47.2441  Z\" fill=\"#ffffff\" fill-rule=\"evenodd\" fill-opacity=\"1\"/>\n",
       "<defs>\n",
       "  <clipPath id=\"clip612\">\n",
       "    <rect x=\"205\" y=\"47\" width=\"2149\" height=\"1377\"/>\n",
       "  </clipPath>\n",
       "</defs>\n",
       "<polyline clip-path=\"url(#clip612)\" style=\"stroke:#000000; stroke-linecap:round; stroke-linejoin:round; stroke-width:2; stroke-opacity:0.1; fill:none\" points=\"258.749,1423.18 258.749,47.2441 \"/>\n",
       "<polyline clip-path=\"url(#clip612)\" style=\"stroke:#000000; stroke-linecap:round; stroke-linejoin:round; stroke-width:2; stroke-opacity:0.1; fill:none\" points=\"616.459,1423.18 616.459,47.2441 \"/>\n",
       "<polyline clip-path=\"url(#clip612)\" style=\"stroke:#000000; stroke-linecap:round; stroke-linejoin:round; stroke-width:2; stroke-opacity:0.1; fill:none\" points=\"974.169,1423.18 974.169,47.2441 \"/>\n",
       "<polyline clip-path=\"url(#clip612)\" style=\"stroke:#000000; stroke-linecap:round; stroke-linejoin:round; stroke-width:2; stroke-opacity:0.1; fill:none\" points=\"1331.88,1423.18 1331.88,47.2441 \"/>\n",
       "<polyline clip-path=\"url(#clip612)\" style=\"stroke:#000000; stroke-linecap:round; stroke-linejoin:round; stroke-width:2; stroke-opacity:0.1; fill:none\" points=\"1689.59,1423.18 1689.59,47.2441 \"/>\n",
       "<polyline clip-path=\"url(#clip612)\" style=\"stroke:#000000; stroke-linecap:round; stroke-linejoin:round; stroke-width:2; stroke-opacity:0.1; fill:none\" points=\"2047.3,1423.18 2047.3,47.2441 \"/>\n",
       "<polyline clip-path=\"url(#clip610)\" style=\"stroke:#000000; stroke-linecap:round; stroke-linejoin:round; stroke-width:4; stroke-opacity:1; fill:none\" points=\"205.121,1423.18 2352.76,1423.18 \"/>\n",
       "<polyline clip-path=\"url(#clip610)\" style=\"stroke:#000000; stroke-linecap:round; stroke-linejoin:round; stroke-width:4; stroke-opacity:1; fill:none\" points=\"258.749,1423.18 258.749,1404.28 \"/>\n",
       "<polyline clip-path=\"url(#clip610)\" style=\"stroke:#000000; stroke-linecap:round; stroke-linejoin:round; stroke-width:4; stroke-opacity:1; fill:none\" points=\"616.459,1423.18 616.459,1404.28 \"/>\n",
       "<polyline clip-path=\"url(#clip610)\" style=\"stroke:#000000; stroke-linecap:round; stroke-linejoin:round; stroke-width:4; stroke-opacity:1; fill:none\" points=\"974.169,1423.18 974.169,1404.28 \"/>\n",
       "<polyline clip-path=\"url(#clip610)\" style=\"stroke:#000000; stroke-linecap:round; stroke-linejoin:round; stroke-width:4; stroke-opacity:1; fill:none\" points=\"1331.88,1423.18 1331.88,1404.28 \"/>\n",
       "<polyline clip-path=\"url(#clip610)\" style=\"stroke:#000000; stroke-linecap:round; stroke-linejoin:round; stroke-width:4; stroke-opacity:1; fill:none\" points=\"1689.59,1423.18 1689.59,1404.28 \"/>\n",
       "<polyline clip-path=\"url(#clip610)\" style=\"stroke:#000000; stroke-linecap:round; stroke-linejoin:round; stroke-width:4; stroke-opacity:1; fill:none\" points=\"2047.3,1423.18 2047.3,1404.28 \"/>\n",
       "<path clip-path=\"url(#clip610)\" d=\"M258.749 1454.1 Q255.138 1454.1 253.309 1457.66 Q251.504 1461.2 251.504 1468.33 Q251.504 1475.44 253.309 1479.01 Q255.138 1482.55 258.749 1482.55 Q262.383 1482.55 264.189 1479.01 Q266.017 1475.44 266.017 1468.33 Q266.017 1461.2 264.189 1457.66 Q262.383 1454.1 258.749 1454.1 M258.749 1450.39 Q264.559 1450.39 267.615 1455 Q270.693 1459.58 270.693 1468.33 Q270.693 1477.06 267.615 1481.67 Q264.559 1486.25 258.749 1486.25 Q252.939 1486.25 249.86 1481.67 Q246.805 1477.06 246.805 1468.33 Q246.805 1459.58 249.86 1455 Q252.939 1450.39 258.749 1450.39 Z\" fill=\"#000000\" fill-rule=\"nonzero\" fill-opacity=\"1\" /><path clip-path=\"url(#clip610)\" d=\"M591.158 1451.02 L609.515 1451.02 L609.515 1454.96 L595.441 1454.96 L595.441 1463.43 Q596.459 1463.08 597.478 1462.92 Q598.496 1462.73 599.515 1462.73 Q605.302 1462.73 608.681 1465.9 Q612.061 1469.08 612.061 1474.49 Q612.061 1480.07 608.589 1483.17 Q605.117 1486.25 598.797 1486.25 Q596.621 1486.25 594.353 1485.88 Q592.107 1485.51 589.7 1484.77 L589.7 1480.07 Q591.783 1481.2 594.006 1481.76 Q596.228 1482.32 598.705 1482.32 Q602.709 1482.32 605.047 1480.21 Q607.385 1478.1 607.385 1474.49 Q607.385 1470.88 605.047 1468.77 Q602.709 1466.67 598.705 1466.67 Q596.83 1466.67 594.955 1467.08 Q593.103 1467.5 591.158 1468.38 L591.158 1451.02 Z\" fill=\"#000000\" fill-rule=\"nonzero\" fill-opacity=\"1\" /><path clip-path=\"url(#clip610)\" d=\"M631.274 1454.1 Q627.663 1454.1 625.834 1457.66 Q624.029 1461.2 624.029 1468.33 Q624.029 1475.44 625.834 1479.01 Q627.663 1482.55 631.274 1482.55 Q634.908 1482.55 636.714 1479.01 Q638.542 1475.44 638.542 1468.33 Q638.542 1461.2 636.714 1457.66 Q634.908 1454.1 631.274 1454.1 M631.274 1450.39 Q637.084 1450.39 640.14 1455 Q643.218 1459.58 643.218 1468.33 Q643.218 1477.06 640.14 1481.67 Q637.084 1486.25 631.274 1486.25 Q625.464 1486.25 622.385 1481.67 Q619.329 1477.06 619.329 1468.33 Q619.329 1459.58 622.385 1455 Q625.464 1450.39 631.274 1450.39 Z\" fill=\"#000000\" fill-rule=\"nonzero\" fill-opacity=\"1\" /><path clip-path=\"url(#clip610)\" d=\"M933.776 1481.64 L941.415 1481.64 L941.415 1455.28 L933.105 1456.95 L933.105 1452.69 L941.369 1451.02 L946.044 1451.02 L946.044 1481.64 L953.683 1481.64 L953.683 1485.58 L933.776 1485.58 L933.776 1481.64 Z\" fill=\"#000000\" fill-rule=\"nonzero\" fill-opacity=\"1\" /><path clip-path=\"url(#clip610)\" d=\"M973.128 1454.1 Q969.517 1454.1 967.688 1457.66 Q965.882 1461.2 965.882 1468.33 Q965.882 1475.44 967.688 1479.01 Q969.517 1482.55 973.128 1482.55 Q976.762 1482.55 978.567 1479.01 Q980.396 1475.44 980.396 1468.33 Q980.396 1461.2 978.567 1457.66 Q976.762 1454.1 973.128 1454.1 M973.128 1450.39 Q978.938 1450.39 981.993 1455 Q985.072 1459.58 985.072 1468.33 Q985.072 1477.06 981.993 1481.67 Q978.938 1486.25 973.128 1486.25 Q967.318 1486.25 964.239 1481.67 Q961.183 1477.06 961.183 1468.33 Q961.183 1459.58 964.239 1455 Q967.318 1450.39 973.128 1450.39 Z\" fill=\"#000000\" fill-rule=\"nonzero\" fill-opacity=\"1\" /><path clip-path=\"url(#clip610)\" d=\"M1003.29 1454.1 Q999.678 1454.1 997.85 1457.66 Q996.044 1461.2 996.044 1468.33 Q996.044 1475.44 997.85 1479.01 Q999.678 1482.55 1003.29 1482.55 Q1006.92 1482.55 1008.73 1479.01 Q1010.56 1475.44 1010.56 1468.33 Q1010.56 1461.2 1008.73 1457.66 Q1006.92 1454.1 1003.29 1454.1 M1003.29 1450.39 Q1009.1 1450.39 1012.16 1455 Q1015.23 1459.58 1015.23 1468.33 Q1015.23 1477.06 1012.16 1481.67 Q1009.1 1486.25 1003.29 1486.25 Q997.479 1486.25 994.401 1481.67 Q991.345 1477.06 991.345 1468.33 Q991.345 1459.58 994.401 1455 Q997.479 1450.39 1003.29 1450.39 Z\" fill=\"#000000\" fill-rule=\"nonzero\" fill-opacity=\"1\" /><path clip-path=\"url(#clip610)\" d=\"M1291.49 1481.64 L1299.13 1481.64 L1299.13 1455.28 L1290.81 1456.95 L1290.81 1452.69 L1299.08 1451.02 L1303.75 1451.02 L1303.75 1481.64 L1311.39 1481.64 L1311.39 1485.58 L1291.49 1485.58 L1291.49 1481.64 Z\" fill=\"#000000\" fill-rule=\"nonzero\" fill-opacity=\"1\" /><path clip-path=\"url(#clip610)\" d=\"M1320.88 1451.02 L1339.24 1451.02 L1339.24 1454.96 L1325.17 1454.96 L1325.17 1463.43 Q1326.19 1463.08 1327.2 1462.92 Q1328.22 1462.73 1329.24 1462.73 Q1335.03 1462.73 1338.41 1465.9 Q1341.79 1469.08 1341.79 1474.49 Q1341.79 1480.07 1338.31 1483.17 Q1334.84 1486.25 1328.52 1486.25 Q1326.35 1486.25 1324.08 1485.88 Q1321.83 1485.51 1319.43 1484.77 L1319.43 1480.07 Q1321.51 1481.2 1323.73 1481.76 Q1325.95 1482.32 1328.43 1482.32 Q1332.44 1482.32 1334.77 1480.21 Q1337.11 1478.1 1337.11 1474.49 Q1337.11 1470.88 1334.77 1468.77 Q1332.44 1466.67 1328.43 1466.67 Q1326.56 1466.67 1324.68 1467.08 Q1322.83 1467.5 1320.88 1468.38 L1320.88 1451.02 Z\" fill=\"#000000\" fill-rule=\"nonzero\" fill-opacity=\"1\" /><path clip-path=\"url(#clip610)\" d=\"M1361 1454.1 Q1357.39 1454.1 1355.56 1457.66 Q1353.75 1461.2 1353.75 1468.33 Q1353.75 1475.44 1355.56 1479.01 Q1357.39 1482.55 1361 1482.55 Q1364.63 1482.55 1366.44 1479.01 Q1368.27 1475.44 1368.27 1468.33 Q1368.27 1461.2 1366.44 1457.66 Q1364.63 1454.1 1361 1454.1 M1361 1450.39 Q1366.81 1450.39 1369.87 1455 Q1372.94 1459.58 1372.94 1468.33 Q1372.94 1477.06 1369.87 1481.67 Q1366.81 1486.25 1361 1486.25 Q1355.19 1486.25 1352.11 1481.67 Q1349.06 1477.06 1349.06 1468.33 Q1349.06 1459.58 1352.11 1455 Q1355.19 1450.39 1361 1450.39 Z\" fill=\"#000000\" fill-rule=\"nonzero\" fill-opacity=\"1\" /><path clip-path=\"url(#clip610)\" d=\"M1653.28 1481.64 L1669.6 1481.64 L1669.6 1485.58 L1647.66 1485.58 L1647.66 1481.64 Q1650.32 1478.89 1654.9 1474.26 Q1659.51 1469.61 1660.69 1468.27 Q1662.93 1465.74 1663.81 1464.01 Q1664.72 1462.25 1664.72 1460.56 Q1664.72 1457.8 1662.77 1456.07 Q1660.85 1454.33 1657.75 1454.33 Q1655.55 1454.33 1653.1 1455.09 Q1650.67 1455.86 1647.89 1457.41 L1647.89 1452.69 Q1650.71 1451.55 1653.17 1450.97 Q1655.62 1450.39 1657.66 1450.39 Q1663.03 1450.39 1666.22 1453.08 Q1669.42 1455.77 1669.42 1460.26 Q1669.42 1462.39 1668.61 1464.31 Q1667.82 1466.2 1665.71 1468.8 Q1665.13 1469.47 1662.03 1472.69 Q1658.93 1475.88 1653.28 1481.64 Z\" fill=\"#000000\" fill-rule=\"nonzero\" fill-opacity=\"1\" /><path clip-path=\"url(#clip610)\" d=\"M1689.42 1454.1 Q1685.81 1454.1 1683.98 1457.66 Q1682.17 1461.2 1682.17 1468.33 Q1682.17 1475.44 1683.98 1479.01 Q1685.81 1482.55 1689.42 1482.55 Q1693.05 1482.55 1694.86 1479.01 Q1696.68 1475.44 1696.68 1468.33 Q1696.68 1461.2 1694.86 1457.66 Q1693.05 1454.1 1689.42 1454.1 M1689.42 1450.39 Q1695.23 1450.39 1698.28 1455 Q1701.36 1459.58 1701.36 1468.33 Q1701.36 1477.06 1698.28 1481.67 Q1695.23 1486.25 1689.42 1486.25 Q1683.61 1486.25 1680.53 1481.67 Q1677.47 1477.06 1677.47 1468.33 Q1677.47 1459.58 1680.53 1455 Q1683.61 1450.39 1689.42 1450.39 Z\" fill=\"#000000\" fill-rule=\"nonzero\" fill-opacity=\"1\" /><path clip-path=\"url(#clip610)\" d=\"M1719.58 1454.1 Q1715.97 1454.1 1714.14 1457.66 Q1712.33 1461.2 1712.33 1468.33 Q1712.33 1475.44 1714.14 1479.01 Q1715.97 1482.55 1719.58 1482.55 Q1723.21 1482.55 1725.02 1479.01 Q1726.85 1475.44 1726.85 1468.33 Q1726.85 1461.2 1725.02 1457.66 Q1723.21 1454.1 1719.58 1454.1 M1719.58 1450.39 Q1725.39 1450.39 1728.44 1455 Q1731.52 1459.58 1731.52 1468.33 Q1731.52 1477.06 1728.44 1481.67 Q1725.39 1486.25 1719.58 1486.25 Q1713.77 1486.25 1710.69 1481.67 Q1707.63 1477.06 1707.63 1468.33 Q1707.63 1459.58 1710.69 1455 Q1713.77 1450.39 1719.58 1450.39 Z\" fill=\"#000000\" fill-rule=\"nonzero\" fill-opacity=\"1\" /><path clip-path=\"url(#clip610)\" d=\"M2010.99 1481.64 L2027.31 1481.64 L2027.31 1485.58 L2005.37 1485.58 L2005.37 1481.64 Q2008.03 1478.89 2012.61 1474.26 Q2017.22 1469.61 2018.4 1468.27 Q2020.65 1465.74 2021.52 1464.01 Q2022.43 1462.25 2022.43 1460.56 Q2022.43 1457.8 2020.48 1456.07 Q2018.56 1454.33 2015.46 1454.33 Q2013.26 1454.33 2010.81 1455.09 Q2008.38 1455.86 2005.6 1457.41 L2005.6 1452.69 Q2008.42 1451.55 2010.88 1450.97 Q2013.33 1450.39 2015.37 1450.39 Q2020.74 1450.39 2023.93 1453.08 Q2027.13 1455.77 2027.13 1460.26 Q2027.13 1462.39 2026.32 1464.31 Q2025.53 1466.2 2023.42 1468.8 Q2022.84 1469.47 2019.74 1472.69 Q2016.64 1475.88 2010.99 1481.64 Z\" fill=\"#000000\" fill-rule=\"nonzero\" fill-opacity=\"1\" /><path clip-path=\"url(#clip610)\" d=\"M2037.17 1451.02 L2055.53 1451.02 L2055.53 1454.96 L2041.46 1454.96 L2041.46 1463.43 Q2042.47 1463.08 2043.49 1462.92 Q2044.51 1462.73 2045.53 1462.73 Q2051.32 1462.73 2054.7 1465.9 Q2058.08 1469.08 2058.08 1474.49 Q2058.08 1480.07 2054.6 1483.17 Q2051.13 1486.25 2044.81 1486.25 Q2042.64 1486.25 2040.37 1485.88 Q2038.12 1485.51 2035.71 1484.77 L2035.71 1480.07 Q2037.8 1481.2 2040.02 1481.76 Q2042.24 1482.32 2044.72 1482.32 Q2048.72 1482.32 2051.06 1480.21 Q2053.4 1478.1 2053.4 1474.49 Q2053.4 1470.88 2051.06 1468.77 Q2048.72 1466.67 2044.72 1466.67 Q2042.84 1466.67 2040.97 1467.08 Q2039.12 1467.5 2037.17 1468.38 L2037.17 1451.02 Z\" fill=\"#000000\" fill-rule=\"nonzero\" fill-opacity=\"1\" /><path clip-path=\"url(#clip610)\" d=\"M2077.29 1454.1 Q2073.68 1454.1 2071.85 1457.66 Q2070.04 1461.2 2070.04 1468.33 Q2070.04 1475.44 2071.85 1479.01 Q2073.68 1482.55 2077.29 1482.55 Q2080.92 1482.55 2082.73 1479.01 Q2084.56 1475.44 2084.56 1468.33 Q2084.56 1461.2 2082.73 1457.66 Q2080.92 1454.1 2077.29 1454.1 M2077.29 1450.39 Q2083.1 1450.39 2086.15 1455 Q2089.23 1459.58 2089.23 1468.33 Q2089.23 1477.06 2086.15 1481.67 Q2083.1 1486.25 2077.29 1486.25 Q2071.48 1486.25 2068.4 1481.67 Q2065.34 1477.06 2065.34 1468.33 Q2065.34 1459.58 2068.4 1455 Q2071.48 1450.39 2077.29 1450.39 Z\" fill=\"#000000\" fill-rule=\"nonzero\" fill-opacity=\"1\" /><path clip-path=\"url(#clip610)\" d=\"M1295.55 1532.4 L1282.66 1549.74 L1296.22 1568.04 L1289.31 1568.04 L1278.94 1554.04 L1268.56 1568.04 L1261.66 1568.04 L1275.5 1549.39 L1262.83 1532.4 L1269.74 1532.4 L1279.19 1545.1 L1288.65 1532.4 L1295.55 1532.4 Z\" fill=\"#000000\" fill-rule=\"nonzero\" fill-opacity=\"1\" /><polyline clip-path=\"url(#clip612)\" style=\"stroke:#000000; stroke-linecap:round; stroke-linejoin:round; stroke-width:2; stroke-opacity:0.1; fill:none\" points=\"205.121,1423.18 2352.76,1423.18 \"/>\n",
       "<polyline clip-path=\"url(#clip612)\" style=\"stroke:#000000; stroke-linecap:round; stroke-linejoin:round; stroke-width:2; stroke-opacity:0.1; fill:none\" points=\"205.121,1173.01 2352.76,1173.01 \"/>\n",
       "<polyline clip-path=\"url(#clip612)\" style=\"stroke:#000000; stroke-linecap:round; stroke-linejoin:round; stroke-width:2; stroke-opacity:0.1; fill:none\" points=\"205.121,922.84 2352.76,922.84 \"/>\n",
       "<polyline clip-path=\"url(#clip612)\" style=\"stroke:#000000; stroke-linecap:round; stroke-linejoin:round; stroke-width:2; stroke-opacity:0.1; fill:none\" points=\"205.121,672.669 2352.76,672.669 \"/>\n",
       "<polyline clip-path=\"url(#clip612)\" style=\"stroke:#000000; stroke-linecap:round; stroke-linejoin:round; stroke-width:2; stroke-opacity:0.1; fill:none\" points=\"205.121,422.499 2352.76,422.499 \"/>\n",
       "<polyline clip-path=\"url(#clip612)\" style=\"stroke:#000000; stroke-linecap:round; stroke-linejoin:round; stroke-width:2; stroke-opacity:0.1; fill:none\" points=\"205.121,172.329 2352.76,172.329 \"/>\n",
       "<polyline clip-path=\"url(#clip610)\" style=\"stroke:#000000; stroke-linecap:round; stroke-linejoin:round; stroke-width:4; stroke-opacity:1; fill:none\" points=\"205.121,1423.18 205.121,47.2441 \"/>\n",
       "<polyline clip-path=\"url(#clip610)\" style=\"stroke:#000000; stroke-linecap:round; stroke-linejoin:round; stroke-width:4; stroke-opacity:1; fill:none\" points=\"205.121,1423.18 224.019,1423.18 \"/>\n",
       "<polyline clip-path=\"url(#clip610)\" style=\"stroke:#000000; stroke-linecap:round; stroke-linejoin:round; stroke-width:4; stroke-opacity:1; fill:none\" points=\"205.121,1173.01 224.019,1173.01 \"/>\n",
       "<polyline clip-path=\"url(#clip610)\" style=\"stroke:#000000; stroke-linecap:round; stroke-linejoin:round; stroke-width:4; stroke-opacity:1; fill:none\" points=\"205.121,922.84 224.019,922.84 \"/>\n",
       "<polyline clip-path=\"url(#clip610)\" style=\"stroke:#000000; stroke-linecap:round; stroke-linejoin:round; stroke-width:4; stroke-opacity:1; fill:none\" points=\"205.121,672.669 224.019,672.669 \"/>\n",
       "<polyline clip-path=\"url(#clip610)\" style=\"stroke:#000000; stroke-linecap:round; stroke-linejoin:round; stroke-width:4; stroke-opacity:1; fill:none\" points=\"205.121,422.499 224.019,422.499 \"/>\n",
       "<polyline clip-path=\"url(#clip610)\" style=\"stroke:#000000; stroke-linecap:round; stroke-linejoin:round; stroke-width:4; stroke-opacity:1; fill:none\" points=\"205.121,172.329 224.019,172.329 \"/>\n",
       "<path clip-path=\"url(#clip610)\" d=\"M157.177 1408.98 Q153.566 1408.98 151.737 1412.54 Q149.931 1416.08 149.931 1423.21 Q149.931 1430.32 151.737 1433.89 Q153.566 1437.43 157.177 1437.43 Q160.811 1437.43 162.616 1433.89 Q164.445 1430.32 164.445 1423.21 Q164.445 1416.08 162.616 1412.54 Q160.811 1408.98 157.177 1408.98 M157.177 1405.27 Q162.987 1405.27 166.042 1409.88 Q169.121 1414.46 169.121 1423.21 Q169.121 1431.94 166.042 1436.55 Q162.987 1441.13 157.177 1441.13 Q151.366 1441.13 148.288 1436.55 Q145.232 1431.94 145.232 1423.21 Q145.232 1414.46 148.288 1409.88 Q151.366 1405.27 157.177 1405.27 Z\" fill=\"#000000\" fill-rule=\"nonzero\" fill-opacity=\"1\" /><path clip-path=\"url(#clip610)\" d=\"M117.825 1186.35 L125.464 1186.35 L125.464 1159.99 L117.154 1161.66 L117.154 1157.4 L125.418 1155.73 L130.093 1155.73 L130.093 1186.35 L137.732 1186.35 L137.732 1190.29 L117.825 1190.29 L117.825 1186.35 Z\" fill=\"#000000\" fill-rule=\"nonzero\" fill-opacity=\"1\" /><path clip-path=\"url(#clip610)\" d=\"M157.177 1158.81 Q153.566 1158.81 151.737 1162.37 Q149.931 1165.91 149.931 1173.04 Q149.931 1180.15 151.737 1183.72 Q153.566 1187.26 157.177 1187.26 Q160.811 1187.26 162.616 1183.72 Q164.445 1180.15 164.445 1173.04 Q164.445 1165.91 162.616 1162.37 Q160.811 1158.81 157.177 1158.81 M157.177 1155.1 Q162.987 1155.1 166.042 1159.71 Q169.121 1164.29 169.121 1173.04 Q169.121 1181.77 166.042 1186.38 Q162.987 1190.96 157.177 1190.96 Q151.366 1190.96 148.288 1186.38 Q145.232 1181.77 145.232 1173.04 Q145.232 1164.29 148.288 1159.71 Q151.366 1155.1 157.177 1155.1 Z\" fill=\"#000000\" fill-rule=\"nonzero\" fill-opacity=\"1\" /><path clip-path=\"url(#clip610)\" d=\"M121.043 936.184 L137.362 936.184 L137.362 940.12 L115.418 940.12 L115.418 936.184 Q118.08 933.43 122.663 928.8 Q127.269 924.147 128.45 922.805 Q130.695 920.282 131.575 918.546 Q132.478 916.786 132.478 915.097 Q132.478 912.342 130.533 910.606 Q128.612 908.87 125.51 908.87 Q123.311 908.87 120.857 909.634 Q118.427 910.398 115.649 911.948 L115.649 907.226 Q118.473 906.092 120.927 905.513 Q123.38 904.935 125.418 904.935 Q130.788 904.935 133.982 907.62 Q137.177 910.305 137.177 914.796 Q137.177 916.925 136.367 918.847 Q135.579 920.745 133.473 923.337 Q132.894 924.009 129.792 927.226 Q126.691 930.421 121.043 936.184 Z\" fill=\"#000000\" fill-rule=\"nonzero\" fill-opacity=\"1\" /><path clip-path=\"url(#clip610)\" d=\"M157.177 908.638 Q153.566 908.638 151.737 912.203 Q149.931 915.745 149.931 922.874 Q149.931 929.981 151.737 933.546 Q153.566 937.087 157.177 937.087 Q160.811 937.087 162.616 933.546 Q164.445 929.981 164.445 922.874 Q164.445 915.745 162.616 912.203 Q160.811 908.638 157.177 908.638 M157.177 904.935 Q162.987 904.935 166.042 909.541 Q169.121 914.124 169.121 922.874 Q169.121 931.601 166.042 936.208 Q162.987 940.791 157.177 940.791 Q151.366 940.791 148.288 936.208 Q145.232 931.601 145.232 922.874 Q145.232 914.124 148.288 909.541 Q151.366 904.935 157.177 904.935 Z\" fill=\"#000000\" fill-rule=\"nonzero\" fill-opacity=\"1\" /><path clip-path=\"url(#clip610)\" d=\"M131.181 671.315 Q134.538 672.033 136.413 674.301 Q138.311 676.57 138.311 679.903 Q138.311 685.019 134.792 687.82 Q131.274 690.621 124.793 690.621 Q122.617 690.621 120.302 690.181 Q118.01 689.764 115.556 688.908 L115.556 684.394 Q117.501 685.528 119.816 686.107 Q122.13 686.686 124.654 686.686 Q129.052 686.686 131.343 684.949 Q133.658 683.213 133.658 679.903 Q133.658 676.848 131.505 675.135 Q129.376 673.399 125.556 673.399 L121.529 673.399 L121.529 669.556 L125.742 669.556 Q129.191 669.556 131.019 668.19 Q132.848 666.801 132.848 664.209 Q132.848 661.547 130.95 660.135 Q129.075 658.7 125.556 658.7 Q123.635 658.7 121.436 659.116 Q119.237 659.533 116.598 660.413 L116.598 656.246 Q119.26 655.505 121.575 655.135 Q123.913 654.764 125.973 654.764 Q131.297 654.764 134.399 657.195 Q137.501 659.602 137.501 663.723 Q137.501 666.593 135.857 668.584 Q134.214 670.551 131.181 671.315 Z\" fill=\"#000000\" fill-rule=\"nonzero\" fill-opacity=\"1\" /><path clip-path=\"url(#clip610)\" d=\"M157.177 658.468 Q153.566 658.468 151.737 662.033 Q149.931 665.575 149.931 672.704 Q149.931 679.811 151.737 683.375 Q153.566 686.917 157.177 686.917 Q160.811 686.917 162.616 683.375 Q164.445 679.811 164.445 672.704 Q164.445 665.575 162.616 662.033 Q160.811 658.468 157.177 658.468 M157.177 654.764 Q162.987 654.764 166.042 659.371 Q169.121 663.954 169.121 672.704 Q169.121 681.431 166.042 686.037 Q162.987 690.621 157.177 690.621 Q151.366 690.621 148.288 686.037 Q145.232 681.431 145.232 672.704 Q145.232 663.954 148.288 659.371 Q151.366 654.764 157.177 654.764 Z\" fill=\"#000000\" fill-rule=\"nonzero\" fill-opacity=\"1\" /><path clip-path=\"url(#clip610)\" d=\"M129.862 409.293 L118.056 427.742 L129.862 427.742 L129.862 409.293 M128.635 405.219 L134.515 405.219 L134.515 427.742 L139.445 427.742 L139.445 431.631 L134.515 431.631 L134.515 439.779 L129.862 439.779 L129.862 431.631 L114.26 431.631 L114.26 427.117 L128.635 405.219 Z\" fill=\"#000000\" fill-rule=\"nonzero\" fill-opacity=\"1\" /><path clip-path=\"url(#clip610)\" d=\"M157.177 408.298 Q153.566 408.298 151.737 411.863 Q149.931 415.404 149.931 422.534 Q149.931 429.64 151.737 433.205 Q153.566 436.747 157.177 436.747 Q160.811 436.747 162.616 433.205 Q164.445 429.64 164.445 422.534 Q164.445 415.404 162.616 411.863 Q160.811 408.298 157.177 408.298 M157.177 404.594 Q162.987 404.594 166.042 409.201 Q169.121 413.784 169.121 422.534 Q169.121 431.261 166.042 435.867 Q162.987 440.451 157.177 440.451 Q151.366 440.451 148.288 435.867 Q145.232 431.261 145.232 422.534 Q145.232 413.784 148.288 409.201 Q151.366 404.594 157.177 404.594 Z\" fill=\"#000000\" fill-rule=\"nonzero\" fill-opacity=\"1\" /><path clip-path=\"url(#clip610)\" d=\"M117.061 155.049 L135.417 155.049 L135.417 158.984 L121.343 158.984 L121.343 167.457 Q122.362 167.109 123.38 166.947 Q124.399 166.762 125.418 166.762 Q131.205 166.762 134.584 169.933 Q137.964 173.105 137.964 178.521 Q137.964 184.1 134.492 187.202 Q131.019 190.28 124.7 190.28 Q122.524 190.28 120.255 189.91 Q118.01 189.54 115.603 188.799 L115.603 184.1 Q117.686 185.234 119.908 185.79 Q122.13 186.345 124.607 186.345 Q128.612 186.345 130.95 184.239 Q133.288 182.132 133.288 178.521 Q133.288 174.91 130.95 172.804 Q128.612 170.697 124.607 170.697 Q122.732 170.697 120.857 171.114 Q119.006 171.531 117.061 172.41 L117.061 155.049 Z\" fill=\"#000000\" fill-rule=\"nonzero\" fill-opacity=\"1\" /><path clip-path=\"url(#clip610)\" d=\"M157.177 158.128 Q153.566 158.128 151.737 161.693 Q149.931 165.234 149.931 172.364 Q149.931 179.47 151.737 183.035 Q153.566 186.577 157.177 186.577 Q160.811 186.577 162.616 183.035 Q164.445 179.47 164.445 172.364 Q164.445 165.234 162.616 161.693 Q160.811 158.128 157.177 158.128 M157.177 154.424 Q162.987 154.424 166.042 159.031 Q169.121 163.614 169.121 172.364 Q169.121 181.091 166.042 185.697 Q162.987 190.28 157.177 190.28 Q151.366 190.28 148.288 185.697 Q145.232 181.091 145.232 172.364 Q145.232 163.614 148.288 159.031 Q151.366 154.424 157.177 154.424 Z\" fill=\"#000000\" fill-rule=\"nonzero\" fill-opacity=\"1\" /><path clip-path=\"url(#clip610)\" d=\"M21.7677 848.522 L58.7206 848.522 L58.7206 840.755 Q58.7206 830.92 54.2646 826.369 Q49.8086 821.786 40.1964 821.786 Q30.6479 821.786 26.2237 826.369 Q21.7677 830.92 21.7677 840.755 L21.7677 848.522 M16.4842 854.951 L16.4842 841.742 Q16.4842 827.928 22.2451 821.467 Q27.9743 815.006 40.1964 815.006 Q52.4822 815.006 58.2432 821.499 Q64.0042 827.992 64.0042 841.742 L64.0042 854.951 L16.4842 854.951 Z\" fill=\"#000000\" fill-rule=\"nonzero\" fill-opacity=\"1\" /><path clip-path=\"url(#clip610)\" d=\"M44.7161 774.52 L47.5806 774.52 L47.5806 801.447 Q53.6281 801.065 56.8109 797.819 Q59.9619 794.54 59.9619 788.716 Q59.9619 785.342 59.1344 782.191 Q58.3069 779.008 56.6518 775.889 L62.1899 775.889 Q63.5267 779.04 64.227 782.35 Q64.9272 785.66 64.9272 789.066 Q64.9272 797.596 59.9619 802.593 Q54.9967 807.558 46.5303 807.558 Q37.7774 807.558 32.6531 802.848 Q27.4968 798.105 27.4968 790.084 Q27.4968 782.891 32.1438 778.722 Q36.7589 774.52 44.7161 774.52 M42.9973 780.377 Q38.1912 780.44 35.3266 783.082 Q32.4621 785.692 32.4621 790.021 Q32.4621 794.922 35.2312 797.882 Q38.0002 800.811 43.0292 801.256 L42.9973 780.377 Z\" fill=\"#000000\" fill-rule=\"nonzero\" fill-opacity=\"1\" /><path clip-path=\"url(#clip610)\" d=\"M42.4881 735.276 L64.0042 735.276 L64.0042 741.132 L42.679 741.132 Q37.6183 741.132 35.1038 743.105 Q32.5894 745.079 32.5894 749.026 Q32.5894 753.768 35.6131 756.505 Q38.6368 759.243 43.8567 759.243 L64.0042 759.243 L64.0042 765.131 L28.3562 765.131 L28.3562 759.243 L33.8944 759.243 Q30.6797 757.142 29.0883 754.309 Q27.4968 751.445 27.4968 747.721 Q27.4968 741.578 31.3163 738.427 Q35.1038 735.276 42.4881 735.276 Z\" fill=\"#000000\" fill-rule=\"nonzero\" fill-opacity=\"1\" /><path clip-path=\"url(#clip610)\" d=\"M29.4065 700.869 L34.9447 700.869 Q33.6716 703.352 33.035 706.025 Q32.3984 708.699 32.3984 711.563 Q32.3984 715.924 33.7352 718.12 Q35.072 720.284 37.7456 720.284 Q39.7826 720.284 40.9603 718.725 Q42.1061 717.165 43.1565 712.455 L43.6021 710.449 Q44.9389 704.211 47.3897 701.601 Q49.8086 698.959 54.1691 698.959 Q59.1344 698.959 62.0308 702.906 Q64.9272 706.821 64.9272 713.696 Q64.9272 716.56 64.3543 719.68 Q63.8132 722.767 62.6992 726.204 L56.6518 726.204 Q58.3387 722.958 59.198 719.807 Q60.0256 716.656 60.0256 713.569 Q60.0256 709.431 58.6251 707.203 Q57.1929 704.975 54.6147 704.975 Q52.2276 704.975 50.9545 706.598 Q49.6813 708.19 48.5037 713.632 L48.0262 715.669 Q46.8804 721.112 44.5251 723.531 Q42.138 725.95 38.0002 725.95 Q32.9713 725.95 30.2341 722.385 Q27.4968 718.82 27.4968 712.264 Q27.4968 709.017 27.9743 706.153 Q28.4517 703.288 29.4065 700.869 Z\" fill=\"#000000\" fill-rule=\"nonzero\" fill-opacity=\"1\" /><path clip-path=\"url(#clip610)\" d=\"M28.3562 689.634 L28.3562 683.777 L64.0042 683.777 L64.0042 689.634 L28.3562 689.634 M14.479 689.634 L14.479 683.777 L21.895 683.777 L21.895 689.634 L14.479 689.634 Z\" fill=\"#000000\" fill-rule=\"nonzero\" fill-opacity=\"1\" /><path clip-path=\"url(#clip610)\" d=\"M18.2347 665.73 L28.3562 665.73 L28.3562 653.667 L32.9077 653.667 L32.9077 665.73 L52.2594 665.73 Q56.6199 665.73 57.8613 664.553 Q59.1026 663.343 59.1026 659.683 L59.1026 653.667 L64.0042 653.667 L64.0042 659.683 Q64.0042 666.462 61.4897 669.04 Q58.9434 671.619 52.2594 671.619 L32.9077 671.619 L32.9077 675.915 L28.3562 675.915 L28.3562 671.619 L18.2347 671.619 L18.2347 665.73 Z\" fill=\"#000000\" fill-rule=\"nonzero\" fill-opacity=\"1\" /><path clip-path=\"url(#clip610)\" d=\"M67.3143 631.133 Q73.68 633.615 75.6216 635.971 Q77.5631 638.326 77.5631 642.273 L77.5631 646.951 L72.6615 646.951 L72.6615 643.514 Q72.6615 641.095 71.5157 639.758 Q70.3699 638.421 66.1048 636.798 L63.4312 635.748 L28.3562 650.166 L28.3562 643.96 L56.238 632.82 L28.3562 621.68 L28.3562 615.473 L67.3143 631.133 Z\" fill=\"#000000\" fill-rule=\"nonzero\" fill-opacity=\"1\" /><path clip-path=\"url(#clip612)\" d=\"M1260.34 422.499 L1260.34 1423.18 L1403.42 1423.18 L1403.42 422.499 L1260.34 422.499 L1260.34 422.499  Z\" fill=\"#009af9\" fill-rule=\"evenodd\" fill-opacity=\"1\"/>\n",
       "<polyline clip-path=\"url(#clip612)\" style=\"stroke:#000000; stroke-linecap:round; stroke-linejoin:round; stroke-width:4; stroke-opacity:1; fill:none\" points=\"1260.34,422.499 1260.34,1423.18 1403.42,1423.18 1403.42,422.499 1260.34,422.499 \"/>\n",
       "<path clip-path=\"url(#clip612)\" d=\"M1403.42 1423.18 L1403.42 1423.18 L1546.51 1423.18 L1546.51 1423.18 L1403.42 1423.18 L1403.42 1423.18  Z\" fill=\"#009af9\" fill-rule=\"evenodd\" fill-opacity=\"1\"/>\n",
       "<polyline clip-path=\"url(#clip612)\" style=\"stroke:#000000; stroke-linecap:round; stroke-linejoin:round; stroke-width:4; stroke-opacity:1; fill:none\" points=\"1403.42,1423.18 1403.42,1423.18 1546.51,1423.18 1403.42,1423.18 \"/>\n",
       "<path clip-path=\"url(#clip612)\" d=\"M1546.51 47.2441 L1546.51 1423.18 L1689.59 1423.18 L1689.59 47.2441 L1546.51 47.2441 L1546.51 47.2441  Z\" fill=\"#009af9\" fill-rule=\"evenodd\" fill-opacity=\"1\"/>\n",
       "<polyline clip-path=\"url(#clip612)\" style=\"stroke:#000000; stroke-linecap:round; stroke-linejoin:round; stroke-width:4; stroke-opacity:1; fill:none\" points=\"1546.51,47.2441 1546.51,1423.18 1689.59,1423.18 1689.59,47.2441 1546.51,47.2441 \"/>\n",
       "<path clip-path=\"url(#clip612)\" d=\"M1689.59 1423.18 L1689.59 1423.18 L1832.67 1423.18 L1832.67 1423.18 L1689.59 1423.18 L1689.59 1423.18  Z\" fill=\"#009af9\" fill-rule=\"evenodd\" fill-opacity=\"1\"/>\n",
       "<polyline clip-path=\"url(#clip612)\" style=\"stroke:#000000; stroke-linecap:round; stroke-linejoin:round; stroke-width:4; stroke-opacity:1; fill:none\" points=\"1689.59,1423.18 1689.59,1423.18 1832.67,1423.18 1689.59,1423.18 \"/>\n",
       "<path clip-path=\"url(#clip612)\" d=\"M1832.67 1323.11 L1832.67 1423.18 L1975.76 1423.18 L1975.76 1323.11 L1832.67 1323.11 L1832.67 1323.11  Z\" fill=\"#009af9\" fill-rule=\"evenodd\" fill-opacity=\"1\"/>\n",
       "<polyline clip-path=\"url(#clip612)\" style=\"stroke:#000000; stroke-linecap:round; stroke-linejoin:round; stroke-width:4; stroke-opacity:1; fill:none\" points=\"1832.67,1323.11 1832.67,1423.18 1975.76,1423.18 1975.76,1323.11 1832.67,1323.11 \"/>\n",
       "<path clip-path=\"url(#clip612)\" d=\"M1975.76 1423.18 L1975.76 1423.18 L2118.84 1423.18 L2118.84 1423.18 L1975.76 1423.18 L1975.76 1423.18  Z\" fill=\"#009af9\" fill-rule=\"evenodd\" fill-opacity=\"1\"/>\n",
       "<polyline clip-path=\"url(#clip612)\" style=\"stroke:#000000; stroke-linecap:round; stroke-linejoin:round; stroke-width:4; stroke-opacity:1; fill:none\" points=\"1975.76,1423.18 1975.76,1423.18 2118.84,1423.18 1975.76,1423.18 \"/>\n",
       "<path clip-path=\"url(#clip612)\" d=\"M2118.84 1398.16 L2118.84 1423.18 L2261.93 1423.18 L2261.93 1398.16 L2118.84 1398.16 L2118.84 1398.16  Z\" fill=\"#009af9\" fill-rule=\"evenodd\" fill-opacity=\"1\"/>\n",
       "<polyline clip-path=\"url(#clip612)\" style=\"stroke:#000000; stroke-linecap:round; stroke-linejoin:round; stroke-width:4; stroke-opacity:1; fill:none\" points=\"2118.84,1398.16 2118.84,1423.18 2261.93,1423.18 2261.93,1398.16 2118.84,1398.16 \"/>\n",
       "<circle clip-path=\"url(#clip612)\" style=\"fill:#009af9; stroke:none; fill-opacity:0\" cx=\"1331.88\" cy=\"422.499\" r=\"2\"/>\n",
       "<circle clip-path=\"url(#clip612)\" style=\"fill:#009af9; stroke:none; fill-opacity:0\" cx=\"1474.96\" cy=\"1423.18\" r=\"2\"/>\n",
       "<circle clip-path=\"url(#clip612)\" style=\"fill:#009af9; stroke:none; fill-opacity:0\" cx=\"1618.05\" cy=\"47.2441\" r=\"2\"/>\n",
       "<circle clip-path=\"url(#clip612)\" style=\"fill:#009af9; stroke:none; fill-opacity:0\" cx=\"1761.13\" cy=\"1423.18\" r=\"2\"/>\n",
       "<circle clip-path=\"url(#clip612)\" style=\"fill:#009af9; stroke:none; fill-opacity:0\" cx=\"1904.22\" cy=\"1323.11\" r=\"2\"/>\n",
       "<circle clip-path=\"url(#clip612)\" style=\"fill:#009af9; stroke:none; fill-opacity:0\" cx=\"2047.3\" cy=\"1423.18\" r=\"2\"/>\n",
       "<circle clip-path=\"url(#clip612)\" style=\"fill:#009af9; stroke:none; fill-opacity:0\" cx=\"2190.38\" cy=\"1398.16\" r=\"2\"/>\n",
       "<polyline clip-path=\"url(#clip612)\" style=\"stroke:#e26f46; stroke-linecap:round; stroke-linejoin:round; stroke-width:4; stroke-opacity:1; fill:none\" points=\"265.903,1418.33 273.057,1419.92 280.212,1419.91 287.366,1419.96 294.52,1419.88 301.674,1419.83 308.828,1419.92 315.983,1419.94 323.137,1419.99 330.291,1419.81 337.445,1419.89 344.599,1419.94 351.754,1419.84 358.908,1419.92 366.062,1419.83 373.216,1419.27 380.37,1420.11 387.525,1419.93 394.679,1419.87 401.833,1399.14 408.987,1405.49 416.141,1405.58 423.296,1405.41 430.45,1405.28 437.604,1404.44 444.758,1406.19 451.912,1405.53 459.067,1405.19 466.221,1405.3 473.375,1405.31 480.529,1405.22 487.683,1405.1 494.838,1404.8 501.992,1420.04 509.146,1398.46 516.3,1405.33 523.454,1405.18 530.609,1405.1 537.763,1418.67 544.917,1398.57 552.071,1405.48 559.225,1405 566.38,1405.29 573.534,1419.94 580.688,1419.92 587.842,1419.76 594.996,1419.83 602.151,1419.85 609.305,1419.71 616.459,1419.94 623.613,1419.39 630.768,1419.88 637.922,1419.87 645.076,1419.89 652.23,1419.88 659.384,1419.85 666.539,1419.65 673.693,1419.45 680.847,1419.74 688.001,1398.65 695.155,1405.2 702.31,1405.39 709.464,1405.14 716.618,1405.1 723.772,1405.29 730.926,1405.26 738.081,1405.28 745.235,1405.27 752.389,1408.74 759.543,1405.25 766.697,1405.73 773.852,1405.32 781.006,1405.29 788.16,1405.1 795.314,1405.04 802.468,1405.5 809.623,1405.56 816.777,1404.5 823.931,1404.98 831.085,1404.17 838.239,1406.19 845.394,1405.79 852.548,1404.83 859.702,1404.97 866.856,1404.72 874.01,1405.25 881.165,1404.2 888.319,1405.13 895.473,1404.72 902.627,1404.66 909.781,1404.88 916.936,1404.93 924.09,1405.56 931.244,1404.69 938.398,1419.86 945.553,1419.92 952.707,1398.16 959.861,1405.39 967.015,1404.65 974.169,1419.48 \"/>\n",
       "<path clip-path=\"url(#clip610)\" d=\"M1545.25 248.629 L2281.17 248.629 L2281.17 93.1086 L1545.25 93.1086  Z\" fill=\"#ffffff\" fill-rule=\"evenodd\" fill-opacity=\"1\"/>\n",
       "<polyline clip-path=\"url(#clip610)\" style=\"stroke:#000000; stroke-linecap:round; stroke-linejoin:round; stroke-width:4; stroke-opacity:1; fill:none\" points=\"1545.25,248.629 2281.17,248.629 2281.17,93.1086 1545.25,93.1086 1545.25,248.629 \"/>\n",
       "<path clip-path=\"url(#clip610)\" d=\"M1569.11 165.685 L1712.29 165.685 L1712.29 124.213 L1569.11 124.213 L1569.11 165.685  Z\" fill=\"#009af9\" fill-rule=\"evenodd\" fill-opacity=\"1\"/>\n",
       "<polyline clip-path=\"url(#clip610)\" style=\"stroke:#000000; stroke-linecap:round; stroke-linejoin:round; stroke-width:4; stroke-opacity:1; fill:none\" points=\"1569.11,165.685 1712.29,165.685 1712.29,124.213 1569.11,124.213 1569.11,165.685 \"/>\n",
       "<path clip-path=\"url(#clip610)\" d=\"M1736.15 127.669 L1742.45 127.669 L1757.77 156.581 L1757.77 127.669 L1762.31 127.669 L1762.31 162.229 L1756.01 162.229 L1740.69 133.317 L1740.69 162.229 L1736.15 162.229 L1736.15 127.669 Z\" fill=\"#000000\" fill-rule=\"nonzero\" fill-opacity=\"1\" /><path clip-path=\"url(#clip610)\" d=\"M1781.47 139.289 Q1778.05 139.289 1776.06 141.974 Q1774.07 144.636 1774.07 149.289 Q1774.07 153.942 1776.03 156.627 Q1778.03 159.289 1781.47 159.289 Q1784.88 159.289 1786.87 156.604 Q1788.86 153.918 1788.86 149.289 Q1788.86 144.682 1786.87 141.997 Q1784.88 139.289 1781.47 139.289 M1781.47 135.678 Q1787.03 135.678 1790.2 139.289 Q1793.37 142.9 1793.37 149.289 Q1793.37 155.655 1790.2 159.289 Q1787.03 162.9 1781.47 162.9 Q1775.9 162.9 1772.72 159.289 Q1769.58 155.655 1769.58 149.289 Q1769.58 142.9 1772.72 139.289 Q1775.9 135.678 1781.47 135.678 Z\" fill=\"#000000\" fill-rule=\"nonzero\" fill-opacity=\"1\" /><path clip-path=\"url(#clip610)\" d=\"M1815.46 140.284 Q1814.74 139.868 1813.88 139.682 Q1813.05 139.474 1812.03 139.474 Q1808.42 139.474 1806.47 141.835 Q1804.55 144.173 1804.55 148.571 L1804.55 162.229 L1800.27 162.229 L1800.27 136.303 L1804.55 136.303 L1804.55 140.331 Q1805.9 137.969 1808.05 136.835 Q1810.2 135.678 1813.28 135.678 Q1813.72 135.678 1814.25 135.747 Q1814.78 135.794 1815.43 135.909 L1815.46 140.284 Z\" fill=\"#000000\" fill-rule=\"nonzero\" fill-opacity=\"1\" /><path clip-path=\"url(#clip610)\" d=\"M1839.28 141.28 Q1840.87 138.409 1843.09 137.044 Q1845.32 135.678 1848.33 135.678 Q1852.38 135.678 1854.58 138.525 Q1856.78 141.349 1856.78 146.581 L1856.78 162.229 L1852.49 162.229 L1852.49 146.719 Q1852.49 142.993 1851.17 141.187 Q1849.85 139.382 1847.15 139.382 Q1843.84 139.382 1841.91 141.581 Q1839.99 143.78 1839.99 147.576 L1839.99 162.229 L1835.71 162.229 L1835.71 146.719 Q1835.71 142.969 1834.39 141.187 Q1833.07 139.382 1830.32 139.382 Q1827.05 139.382 1825.13 141.604 Q1823.21 143.803 1823.21 147.576 L1823.21 162.229 L1818.93 162.229 L1818.93 136.303 L1823.21 136.303 L1823.21 140.331 Q1824.67 137.946 1826.71 136.812 Q1828.74 135.678 1831.54 135.678 Q1834.37 135.678 1836.34 137.113 Q1838.33 138.548 1839.28 141.28 Z\" fill=\"#000000\" fill-rule=\"nonzero\" fill-opacity=\"1\" /><path clip-path=\"url(#clip610)\" d=\"M1877.05 149.196 Q1871.89 149.196 1869.9 150.377 Q1867.91 151.557 1867.91 154.405 Q1867.91 156.673 1869.39 158.016 Q1870.9 159.335 1873.46 159.335 Q1877.01 159.335 1879.14 156.835 Q1881.29 154.312 1881.29 150.145 L1881.29 149.196 L1877.05 149.196 M1885.55 147.437 L1885.55 162.229 L1881.29 162.229 L1881.29 158.293 Q1879.83 160.655 1877.65 161.789 Q1875.48 162.9 1872.33 162.9 Q1868.35 162.9 1865.99 160.678 Q1863.65 158.432 1863.65 154.682 Q1863.65 150.307 1866.57 148.085 Q1869.51 145.863 1875.32 145.863 L1881.29 145.863 L1881.29 145.446 Q1881.29 142.507 1879.34 140.909 Q1877.42 139.289 1873.93 139.289 Q1871.71 139.289 1869.6 139.821 Q1867.49 140.354 1865.55 141.419 L1865.55 137.483 Q1867.89 136.581 1870.09 136.141 Q1872.28 135.678 1874.37 135.678 Q1879.99 135.678 1882.77 138.594 Q1885.55 141.511 1885.55 147.437 Z\" fill=\"#000000\" fill-rule=\"nonzero\" fill-opacity=\"1\" /><path clip-path=\"url(#clip610)\" d=\"M1894.32 126.21 L1898.58 126.21 L1898.58 162.229 L1894.32 162.229 L1894.32 126.21 Z\" fill=\"#000000\" fill-rule=\"nonzero\" fill-opacity=\"1\" /><path clip-path=\"url(#clip610)\" d=\"M1907.49 136.303 L1911.75 136.303 L1911.75 162.229 L1907.49 162.229 L1907.49 136.303 M1907.49 126.21 L1911.75 126.21 L1911.75 131.604 L1907.49 131.604 L1907.49 126.21 Z\" fill=\"#000000\" fill-rule=\"nonzero\" fill-opacity=\"1\" /><path clip-path=\"url(#clip610)\" d=\"M1918.81 136.303 L1939.04 136.303 L1939.04 140.192 L1923.02 158.826 L1939.04 158.826 L1939.04 162.229 L1918.23 162.229 L1918.23 158.34 L1934.25 139.706 L1918.81 139.706 L1918.81 136.303 Z\" fill=\"#000000\" fill-rule=\"nonzero\" fill-opacity=\"1\" /><path clip-path=\"url(#clip610)\" d=\"M1967.72 148.201 L1967.72 150.284 L1948.14 150.284 Q1948.42 154.682 1950.78 156.997 Q1953.16 159.289 1957.4 159.289 Q1959.85 159.289 1962.15 158.687 Q1964.46 158.085 1966.73 156.881 L1966.73 160.909 Q1964.44 161.881 1962.03 162.391 Q1959.62 162.9 1957.15 162.9 Q1950.94 162.9 1947.31 159.289 Q1943.7 155.678 1943.7 149.52 Q1943.7 143.155 1947.12 139.428 Q1950.57 135.678 1956.4 135.678 Q1961.64 135.678 1964.67 139.057 Q1967.72 142.414 1967.72 148.201 M1963.46 146.951 Q1963.42 143.456 1961.5 141.372 Q1959.6 139.289 1956.45 139.289 Q1952.89 139.289 1950.73 141.303 Q1948.6 143.317 1948.28 146.974 L1963.46 146.951 Z\" fill=\"#000000\" fill-rule=\"nonzero\" fill-opacity=\"1\" /><path clip-path=\"url(#clip610)\" d=\"M1991.77 140.238 L1991.77 126.21 L1996.03 126.21 L1996.03 162.229 L1991.77 162.229 L1991.77 158.34 Q1990.43 160.655 1988.37 161.789 Q1986.33 162.9 1983.46 162.9 Q1978.77 162.9 1975.8 159.15 Q1972.86 155.4 1972.86 149.289 Q1972.86 143.178 1975.8 139.428 Q1978.77 135.678 1983.46 135.678 Q1986.33 135.678 1988.37 136.812 Q1990.43 137.923 1991.77 140.238 M1977.26 149.289 Q1977.26 153.988 1979.18 156.673 Q1981.13 159.335 1984.51 159.335 Q1987.89 159.335 1989.83 156.673 Q1991.77 153.988 1991.77 149.289 Q1991.77 144.59 1989.83 141.928 Q1987.89 139.243 1984.51 139.243 Q1981.13 139.243 1979.18 141.928 Q1977.26 144.59 1977.26 149.289 Z\" fill=\"#000000\" fill-rule=\"nonzero\" fill-opacity=\"1\" /><path clip-path=\"url(#clip610)\" d=\"M2020.06 127.669 L2024.74 127.669 L2024.74 141.835 L2041.73 141.835 L2041.73 127.669 L2046.4 127.669 L2046.4 162.229 L2041.73 162.229 L2041.73 145.77 L2024.74 145.77 L2024.74 162.229 L2020.06 162.229 L2020.06 127.669 Z\" fill=\"#000000\" fill-rule=\"nonzero\" fill-opacity=\"1\" /><path clip-path=\"url(#clip610)\" d=\"M2055.52 136.303 L2059.78 136.303 L2059.78 162.229 L2055.52 162.229 L2055.52 136.303 M2055.52 126.21 L2059.78 126.21 L2059.78 131.604 L2055.52 131.604 L2055.52 126.21 Z\" fill=\"#000000\" fill-rule=\"nonzero\" fill-opacity=\"1\" /><path clip-path=\"url(#clip610)\" d=\"M2085.22 137.067 L2085.22 141.094 Q2083.42 140.169 2081.47 139.706 Q2079.53 139.243 2077.45 139.243 Q2074.27 139.243 2072.68 140.215 Q2071.1 141.187 2071.1 143.131 Q2071.1 144.613 2072.24 145.469 Q2073.37 146.303 2076.8 147.067 L2078.26 147.391 Q2082.79 148.363 2084.69 150.145 Q2086.61 151.905 2086.61 155.076 Q2086.61 158.687 2083.74 160.793 Q2080.89 162.9 2075.89 162.9 Q2073.81 162.9 2071.54 162.483 Q2069.3 162.09 2066.8 161.28 L2066.8 156.881 Q2069.16 158.108 2071.45 158.733 Q2073.74 159.335 2075.99 159.335 Q2079 159.335 2080.62 158.317 Q2082.24 157.275 2082.24 155.4 Q2082.24 153.664 2081.06 152.738 Q2079.9 151.812 2075.94 150.956 L2074.46 150.608 Q2070.5 149.775 2068.74 148.062 Q2066.98 146.326 2066.98 143.317 Q2066.98 139.659 2069.57 137.669 Q2072.17 135.678 2076.94 135.678 Q2079.3 135.678 2081.38 136.025 Q2083.46 136.372 2085.22 137.067 Z\" fill=\"#000000\" fill-rule=\"nonzero\" fill-opacity=\"1\" /><path clip-path=\"url(#clip610)\" d=\"M2097.61 128.942 L2097.61 136.303 L2106.38 136.303 L2106.38 139.613 L2097.61 139.613 L2097.61 153.687 Q2097.61 156.858 2098.46 157.761 Q2099.34 158.664 2102.01 158.664 L2106.38 158.664 L2106.38 162.229 L2102.01 162.229 Q2097.07 162.229 2095.2 160.4 Q2093.32 158.548 2093.32 153.687 L2093.32 139.613 L2090.2 139.613 L2090.2 136.303 L2093.32 136.303 L2093.32 128.942 L2097.61 128.942 Z\" fill=\"#000000\" fill-rule=\"nonzero\" fill-opacity=\"1\" /><path clip-path=\"url(#clip610)\" d=\"M2122.03 139.289 Q2118.6 139.289 2116.61 141.974 Q2114.62 144.636 2114.62 149.289 Q2114.62 153.942 2116.59 156.627 Q2118.58 159.289 2122.03 159.289 Q2125.43 159.289 2127.42 156.604 Q2129.41 153.918 2129.41 149.289 Q2129.41 144.682 2127.42 141.997 Q2125.43 139.289 2122.03 139.289 M2122.03 135.678 Q2127.58 135.678 2130.76 139.289 Q2133.93 142.9 2133.93 149.289 Q2133.93 155.655 2130.76 159.289 Q2127.58 162.9 2122.03 162.9 Q2116.45 162.9 2113.28 159.289 Q2110.13 155.655 2110.13 149.289 Q2110.13 142.9 2113.28 139.289 Q2116.45 135.678 2122.03 135.678 Z\" fill=\"#000000\" fill-rule=\"nonzero\" fill-opacity=\"1\" /><path clip-path=\"url(#clip610)\" d=\"M2158.05 148.965 Q2158.05 144.335 2156.13 141.789 Q2154.23 139.243 2150.78 139.243 Q2147.35 139.243 2145.43 141.789 Q2143.53 144.335 2143.53 148.965 Q2143.53 153.571 2145.43 156.118 Q2147.35 158.664 2150.78 158.664 Q2154.23 158.664 2156.13 156.118 Q2158.05 153.571 2158.05 148.965 M2162.31 159.011 Q2162.31 165.631 2159.37 168.849 Q2156.43 172.09 2150.36 172.09 Q2148.12 172.09 2146.13 171.742 Q2144.13 171.418 2142.26 170.724 L2142.26 166.58 Q2144.13 167.599 2145.96 168.085 Q2147.79 168.571 2149.69 168.571 Q2153.88 168.571 2155.96 166.372 Q2158.05 164.196 2158.05 159.775 L2158.05 157.668 Q2156.73 159.96 2154.67 161.094 Q2152.61 162.229 2149.74 162.229 Q2144.97 162.229 2142.05 158.594 Q2139.13 154.96 2139.13 148.965 Q2139.13 142.946 2142.05 139.312 Q2144.97 135.678 2149.74 135.678 Q2152.61 135.678 2154.67 136.812 Q2156.73 137.946 2158.05 140.238 L2158.05 136.303 L2162.31 136.303 L2162.31 159.011 Z\" fill=\"#000000\" fill-rule=\"nonzero\" fill-opacity=\"1\" /><path clip-path=\"url(#clip610)\" d=\"M2186.1 140.284 Q2185.38 139.868 2184.53 139.682 Q2183.69 139.474 2182.68 139.474 Q2179.07 139.474 2177.12 141.835 Q2175.2 144.173 2175.2 148.571 L2175.2 162.229 L2170.92 162.229 L2170.92 136.303 L2175.2 136.303 L2175.2 140.331 Q2176.54 137.969 2178.69 136.835 Q2180.85 135.678 2183.93 135.678 Q2184.37 135.678 2184.9 135.747 Q2185.43 135.794 2186.08 135.909 L2186.1 140.284 Z\" fill=\"#000000\" fill-rule=\"nonzero\" fill-opacity=\"1\" /><path clip-path=\"url(#clip610)\" d=\"M2202.35 149.196 Q2197.19 149.196 2195.2 150.377 Q2193.21 151.557 2193.21 154.405 Q2193.21 156.673 2194.69 158.016 Q2196.19 159.335 2198.76 159.335 Q2202.31 159.335 2204.44 156.835 Q2206.59 154.312 2206.59 150.145 L2206.59 149.196 L2202.35 149.196 M2210.85 147.437 L2210.85 162.229 L2206.59 162.229 L2206.59 158.293 Q2205.13 160.655 2202.95 161.789 Q2200.78 162.9 2197.63 162.9 Q2193.65 162.9 2191.29 160.678 Q2188.95 158.432 2188.95 154.682 Q2188.95 150.307 2191.87 148.085 Q2194.81 145.863 2200.62 145.863 L2206.59 145.863 L2206.59 145.446 Q2206.59 142.507 2204.64 140.909 Q2202.72 139.289 2199.23 139.289 Q2197 139.289 2194.9 139.821 Q2192.79 140.354 2190.85 141.419 L2190.85 137.483 Q2193.19 136.581 2195.38 136.141 Q2197.58 135.678 2199.67 135.678 Q2205.29 135.678 2208.07 138.594 Q2210.85 141.511 2210.85 147.437 Z\" fill=\"#000000\" fill-rule=\"nonzero\" fill-opacity=\"1\" /><path clip-path=\"url(#clip610)\" d=\"M2239.81 141.28 Q2241.4 138.409 2243.62 137.044 Q2245.85 135.678 2248.86 135.678 Q2252.91 135.678 2255.11 138.525 Q2257.31 141.349 2257.31 146.581 L2257.31 162.229 L2253.02 162.229 L2253.02 146.719 Q2253.02 142.993 2251.7 141.187 Q2250.38 139.382 2247.68 139.382 Q2244.37 139.382 2242.44 141.581 Q2240.52 143.78 2240.52 147.576 L2240.52 162.229 L2236.24 162.229 L2236.24 146.719 Q2236.24 142.969 2234.92 141.187 Q2233.6 139.382 2230.85 139.382 Q2227.58 139.382 2225.66 141.604 Q2223.74 143.803 2223.74 147.576 L2223.74 162.229 L2219.46 162.229 L2219.46 136.303 L2223.74 136.303 L2223.74 140.331 Q2225.2 137.946 2227.24 136.812 Q2229.27 135.678 2232.07 135.678 Q2234.9 135.678 2236.87 137.113 Q2238.86 138.548 2239.81 141.28 Z\" fill=\"#000000\" fill-rule=\"nonzero\" fill-opacity=\"1\" /><polyline clip-path=\"url(#clip610)\" style=\"stroke:#e26f46; stroke-linecap:round; stroke-linejoin:round; stroke-width:4; stroke-opacity:1; fill:none\" points=\"1569.11,196.789 1712.29,196.789 \"/>\n",
       "<path clip-path=\"url(#clip610)\" d=\"M1758.4 180.643 L1758.4 185.203 Q1755.73 183.93 1753.37 183.305 Q1751.01 182.68 1748.81 182.68 Q1744.99 182.68 1742.91 184.161 Q1740.85 185.643 1740.85 188.374 Q1740.85 190.666 1742.22 191.847 Q1743.6 193.004 1747.45 193.722 L1750.27 194.3 Q1755.5 195.296 1757.98 197.819 Q1760.48 200.319 1760.48 204.532 Q1760.48 209.555 1757.1 212.147 Q1753.74 214.74 1747.24 214.74 Q1744.79 214.74 1742.01 214.184 Q1739.25 213.629 1736.29 212.541 L1736.29 207.726 Q1739.14 209.323 1741.87 210.133 Q1744.6 210.944 1747.24 210.944 Q1751.24 210.944 1753.42 209.37 Q1755.6 207.796 1755.6 204.879 Q1755.6 202.333 1754.02 200.897 Q1752.47 199.462 1748.91 198.745 L1746.06 198.189 Q1740.83 197.147 1738.49 194.925 Q1736.15 192.703 1736.15 188.745 Q1736.15 184.161 1739.37 181.522 Q1742.61 178.884 1748.28 178.884 Q1750.71 178.884 1753.23 179.323 Q1755.76 179.763 1758.4 180.643 Z\" fill=\"#000000\" fill-rule=\"nonzero\" fill-opacity=\"1\" /><path clip-path=\"url(#clip610)\" d=\"M1771.8 180.782 L1771.8 188.143 L1780.57 188.143 L1780.57 191.453 L1771.8 191.453 L1771.8 205.527 Q1771.8 208.698 1772.66 209.601 Q1773.53 210.504 1776.2 210.504 L1780.57 210.504 L1780.57 214.069 L1776.2 214.069 Q1771.27 214.069 1769.39 212.24 Q1767.52 210.388 1767.52 205.527 L1767.52 191.453 L1764.39 191.453 L1764.39 188.143 L1767.52 188.143 L1767.52 180.782 L1771.8 180.782 Z\" fill=\"#000000\" fill-rule=\"nonzero\" fill-opacity=\"1\" /><path clip-path=\"url(#clip610)\" d=\"M1797.96 201.036 Q1792.79 201.036 1790.8 202.217 Q1788.81 203.397 1788.81 206.245 Q1788.81 208.513 1790.29 209.856 Q1791.8 211.175 1794.37 211.175 Q1797.91 211.175 1800.04 208.675 Q1802.19 206.152 1802.19 201.985 L1802.19 201.036 L1797.96 201.036 M1806.45 199.277 L1806.45 214.069 L1802.19 214.069 L1802.19 210.133 Q1800.73 212.495 1798.56 213.629 Q1796.38 214.74 1793.23 214.74 Q1789.25 214.74 1786.89 212.518 Q1784.55 210.272 1784.55 206.522 Q1784.55 202.147 1787.47 199.925 Q1790.41 197.703 1796.22 197.703 L1802.19 197.703 L1802.19 197.286 Q1802.19 194.347 1800.25 192.749 Q1798.33 191.129 1794.83 191.129 Q1792.61 191.129 1790.5 191.661 Q1788.4 192.194 1786.45 193.259 L1786.45 189.323 Q1788.79 188.421 1790.99 187.981 Q1793.19 187.518 1795.27 187.518 Q1800.9 187.518 1803.67 190.434 Q1806.45 193.351 1806.45 199.277 Z\" fill=\"#000000\" fill-rule=\"nonzero\" fill-opacity=\"1\" /><path clip-path=\"url(#clip610)\" d=\"M1836.78 198.421 L1836.78 214.069 L1832.52 214.069 L1832.52 198.559 Q1832.52 194.879 1831.08 193.05 Q1829.65 191.222 1826.78 191.222 Q1823.33 191.222 1821.34 193.421 Q1819.34 195.62 1819.34 199.416 L1819.34 214.069 L1815.06 214.069 L1815.06 188.143 L1819.34 188.143 L1819.34 192.171 Q1820.87 189.833 1822.93 188.675 Q1825.02 187.518 1827.72 187.518 Q1832.19 187.518 1834.48 190.296 Q1836.78 193.05 1836.78 198.421 Z\" fill=\"#000000\" fill-rule=\"nonzero\" fill-opacity=\"1\" /><path clip-path=\"url(#clip610)\" d=\"M1862.33 192.078 L1862.33 178.05 L1866.59 178.05 L1866.59 214.069 L1862.33 214.069 L1862.33 210.18 Q1860.99 212.495 1858.93 213.629 Q1856.89 214.74 1854.02 214.74 Q1849.32 214.74 1846.36 210.99 Q1843.42 207.24 1843.42 201.129 Q1843.42 195.018 1846.36 191.268 Q1849.32 187.518 1854.02 187.518 Q1856.89 187.518 1858.93 188.652 Q1860.99 189.763 1862.33 192.078 M1847.82 201.129 Q1847.82 205.828 1849.74 208.513 Q1851.68 211.175 1855.06 211.175 Q1858.44 211.175 1860.39 208.513 Q1862.33 205.828 1862.33 201.129 Q1862.33 196.43 1860.39 193.768 Q1858.44 191.083 1855.06 191.083 Q1851.68 191.083 1849.74 193.768 Q1847.82 196.43 1847.82 201.129 Z\" fill=\"#000000\" fill-rule=\"nonzero\" fill-opacity=\"1\" /><path clip-path=\"url(#clip610)\" d=\"M1887.15 201.036 Q1881.98 201.036 1879.99 202.217 Q1878 203.397 1878 206.245 Q1878 208.513 1879.48 209.856 Q1880.99 211.175 1883.56 211.175 Q1887.1 211.175 1889.23 208.675 Q1891.38 206.152 1891.38 201.985 L1891.38 201.036 L1887.15 201.036 M1895.64 199.277 L1895.64 214.069 L1891.38 214.069 L1891.38 210.133 Q1889.92 212.495 1887.75 213.629 Q1885.57 214.74 1882.42 214.74 Q1878.44 214.74 1876.08 212.518 Q1873.74 210.272 1873.74 206.522 Q1873.74 202.147 1876.66 199.925 Q1879.6 197.703 1885.41 197.703 L1891.38 197.703 L1891.38 197.286 Q1891.38 194.347 1889.44 192.749 Q1887.52 191.129 1884.02 191.129 Q1881.8 191.129 1879.69 191.661 Q1877.59 192.194 1875.64 193.259 L1875.64 189.323 Q1877.98 188.421 1880.18 187.981 Q1882.38 187.518 1884.46 187.518 Q1890.09 187.518 1892.86 190.434 Q1895.64 193.351 1895.64 199.277 Z\" fill=\"#000000\" fill-rule=\"nonzero\" fill-opacity=\"1\" /><path clip-path=\"url(#clip610)\" d=\"M1919.44 192.124 Q1918.72 191.708 1917.86 191.522 Q1917.03 191.314 1916.01 191.314 Q1912.4 191.314 1910.46 193.675 Q1908.53 196.013 1908.53 200.411 L1908.53 214.069 L1904.25 214.069 L1904.25 188.143 L1908.53 188.143 L1908.53 192.171 Q1909.88 189.809 1912.03 188.675 Q1914.18 187.518 1917.26 187.518 Q1917.7 187.518 1918.23 187.587 Q1918.77 187.634 1919.41 187.749 L1919.44 192.124 Z\" fill=\"#000000\" fill-rule=\"nonzero\" fill-opacity=\"1\" /><path clip-path=\"url(#clip610)\" d=\"M1940.13 192.078 L1940.13 178.05 L1944.39 178.05 L1944.39 214.069 L1940.13 214.069 L1940.13 210.18 Q1938.79 212.495 1936.73 213.629 Q1934.69 214.74 1931.82 214.74 Q1927.12 214.74 1924.16 210.99 Q1921.22 207.24 1921.22 201.129 Q1921.22 195.018 1924.16 191.268 Q1927.12 187.518 1931.82 187.518 Q1934.69 187.518 1936.73 188.652 Q1938.79 189.763 1940.13 192.078 M1925.62 201.129 Q1925.62 205.828 1927.54 208.513 Q1929.48 211.175 1932.86 211.175 Q1936.24 211.175 1938.19 208.513 Q1940.13 205.828 1940.13 201.129 Q1940.13 196.43 1938.19 193.768 Q1936.24 191.083 1932.86 191.083 Q1929.48 191.083 1927.54 193.768 Q1925.62 196.43 1925.62 201.129 Z\" fill=\"#000000\" fill-rule=\"nonzero\" fill-opacity=\"1\" /><path clip-path=\"url(#clip610)\" d=\"M1968.42 179.509 L1974.71 179.509 L1990.04 208.421 L1990.04 179.509 L1994.58 179.509 L1994.58 214.069 L1988.28 214.069 L1972.96 185.157 L1972.96 214.069 L1968.42 214.069 L1968.42 179.509 Z\" fill=\"#000000\" fill-rule=\"nonzero\" fill-opacity=\"1\" /><path clip-path=\"url(#clip610)\" d=\"M2013.74 191.129 Q2010.32 191.129 2008.33 193.814 Q2006.33 196.476 2006.33 201.129 Q2006.33 205.782 2008.3 208.467 Q2010.29 211.129 2013.74 211.129 Q2017.14 211.129 2019.14 208.444 Q2021.13 205.758 2021.13 201.129 Q2021.13 196.522 2019.14 193.837 Q2017.14 191.129 2013.74 191.129 M2013.74 187.518 Q2019.3 187.518 2022.47 191.129 Q2025.64 194.74 2025.64 201.129 Q2025.64 207.495 2022.47 211.129 Q2019.3 214.74 2013.74 214.74 Q2008.16 214.74 2004.99 211.129 Q2001.84 207.495 2001.84 201.129 Q2001.84 194.74 2004.99 191.129 Q2008.16 187.518 2013.74 187.518 Z\" fill=\"#000000\" fill-rule=\"nonzero\" fill-opacity=\"1\" /><path clip-path=\"url(#clip610)\" d=\"M2047.72 192.124 Q2047.01 191.708 2046.15 191.522 Q2045.32 191.314 2044.3 191.314 Q2040.69 191.314 2038.74 193.675 Q2036.82 196.013 2036.82 200.411 L2036.82 214.069 L2032.54 214.069 L2032.54 188.143 L2036.82 188.143 L2036.82 192.171 Q2038.16 189.809 2040.32 188.675 Q2042.47 187.518 2045.55 187.518 Q2045.99 187.518 2046.52 187.587 Q2047.05 187.634 2047.7 187.749 L2047.72 192.124 Z\" fill=\"#000000\" fill-rule=\"nonzero\" fill-opacity=\"1\" /><path clip-path=\"url(#clip610)\" d=\"M2071.54 193.12 Q2073.14 190.249 2075.36 188.884 Q2077.58 187.518 2080.59 187.518 Q2084.64 187.518 2086.84 190.365 Q2089.04 193.189 2089.04 198.421 L2089.04 214.069 L2084.76 214.069 L2084.76 198.559 Q2084.76 194.833 2083.44 193.027 Q2082.12 191.222 2079.41 191.222 Q2076.1 191.222 2074.18 193.421 Q2072.26 195.62 2072.26 199.416 L2072.26 214.069 L2067.98 214.069 L2067.98 198.559 Q2067.98 194.809 2066.66 193.027 Q2065.34 191.222 2062.58 191.222 Q2059.32 191.222 2057.4 193.444 Q2055.48 195.643 2055.48 199.416 L2055.48 214.069 L2051.2 214.069 L2051.2 188.143 L2055.48 188.143 L2055.48 192.171 Q2056.94 189.786 2058.97 188.652 Q2061.01 187.518 2063.81 187.518 Q2066.64 187.518 2068.6 188.953 Q2070.59 190.388 2071.54 193.12 Z\" fill=\"#000000\" fill-rule=\"nonzero\" fill-opacity=\"1\" /><path clip-path=\"url(#clip610)\" d=\"M2109.32 201.036 Q2104.16 201.036 2102.17 202.217 Q2100.18 203.397 2100.18 206.245 Q2100.18 208.513 2101.66 209.856 Q2103.16 211.175 2105.73 211.175 Q2109.27 211.175 2111.4 208.675 Q2113.56 206.152 2113.56 201.985 L2113.56 201.036 L2109.32 201.036 M2117.82 199.277 L2117.82 214.069 L2113.56 214.069 L2113.56 210.133 Q2112.1 212.495 2109.92 213.629 Q2107.75 214.74 2104.6 214.74 Q2100.62 214.74 2098.26 212.518 Q2095.92 210.272 2095.92 206.522 Q2095.92 202.147 2098.83 199.925 Q2101.77 197.703 2107.58 197.703 L2113.56 197.703 L2113.56 197.286 Q2113.56 194.347 2111.61 192.749 Q2109.69 191.129 2106.2 191.129 Q2103.97 191.129 2101.87 191.661 Q2099.76 192.194 2097.82 193.259 L2097.82 189.323 Q2100.15 188.421 2102.35 187.981 Q2104.55 187.518 2106.63 187.518 Q2112.26 187.518 2115.04 190.434 Q2117.82 193.351 2117.82 199.277 Z\" fill=\"#000000\" fill-rule=\"nonzero\" fill-opacity=\"1\" /><path clip-path=\"url(#clip610)\" d=\"M2126.59 178.05 L2130.85 178.05 L2130.85 214.069 L2126.59 214.069 L2126.59 178.05 Z\" fill=\"#000000\" fill-rule=\"nonzero\" fill-opacity=\"1\" /><path clip-path=\"url(#clip610)\" d=\"M2159.69 183.351 L2159.69 196.337 L2165.57 196.337 Q2168.83 196.337 2170.62 194.647 Q2172.4 192.958 2172.4 189.833 Q2172.4 186.731 2170.62 185.041 Q2168.83 183.351 2165.57 183.351 L2159.69 183.351 M2155.01 179.509 L2165.57 179.509 Q2171.38 179.509 2174.34 182.147 Q2177.33 184.763 2177.33 189.833 Q2177.33 194.948 2174.34 197.564 Q2171.38 200.18 2165.57 200.18 L2159.69 200.18 L2159.69 214.069 L2155.01 214.069 L2155.01 179.509 Z\" fill=\"#000000\" fill-rule=\"nonzero\" fill-opacity=\"1\" /><path clip-path=\"url(#clip610)\" d=\"M2188.28 183.351 L2188.28 210.226 L2193.93 210.226 Q2201.08 210.226 2204.39 206.985 Q2207.72 203.745 2207.72 196.754 Q2207.72 189.809 2204.39 186.592 Q2201.08 183.351 2193.93 183.351 L2188.28 183.351 M2183.6 179.509 L2193.21 179.509 Q2203.25 179.509 2207.95 183.698 Q2212.65 187.865 2212.65 196.754 Q2212.65 205.689 2207.93 209.879 Q2203.21 214.069 2193.21 214.069 L2183.6 214.069 L2183.6 179.509 Z\" fill=\"#000000\" fill-rule=\"nonzero\" fill-opacity=\"1\" /><path clip-path=\"url(#clip610)\" d=\"M2220.11 179.509 L2239.97 179.509 L2239.97 183.444 L2224.78 183.444 L2224.78 193.629 L2238.49 193.629 L2238.49 197.564 L2224.78 197.564 L2224.78 214.069 L2220.11 214.069 L2220.11 179.509 Z\" fill=\"#000000\" fill-rule=\"nonzero\" fill-opacity=\"1\" /></svg>\n"
      ]
     },
     "execution_count": 19,
     "metadata": {},
     "output_type": "execute_result"
    }
   ],
   "source": [
    "# Create a normalized histogram\n",
    "histogram(y\n",
    "    # , normalization=:probability\n",
    "    , label=\"Normalized Histogram\"\n",
    ")\n",
    "\n",
    "# To compare with a PDF, overlay the PDF on the same plot\n",
    "# For example, overlaying a standard normal PDF\n",
    "# plot!(Normal(0, 1), fill=(0, .5,:orange), label=\"Standard Normal PDF\")\n",
    "\n",
    "dist = Normal(μ̂𝐺, σ̂𝐺)\n",
    "\n",
    "# Define a range of values over which to plot the PDF\n",
    "x = 0:10:n  # Adjust the range and step as needed\n",
    "\n",
    "# Calculate the PDF for each y value\n",
    "pdf_values = cdf.(dist, y)\n",
    "\n",
    "# Plot the PDF\n",
    "plot!(pdf_values, label=\"Standard Normal PDF\", xlabel=\"x\", ylabel=\"Density\")"
   ]
  },
  {
   "cell_type": "markdown",
   "id": "f2c9cdf2-966b-413d-acac-6e516ab094e4",
   "metadata": {},
   "source": [
    "---"
   ]
  },
  {
   "cell_type": "markdown",
   "id": "1b24600f-9e96-4409-a85a-3e92cb23cd1a",
   "metadata": {},
   "source": [
    "#### &#x1F4DD; Rayleigh Distribution\n",
    "\n",
    "Given the probability density function (PDF) of a Rayleigh distribution\n",
    "\n",
    "$ f(y|\\sigma^2) = \\frac{y}{\\sigma^2} e^{-\\frac{y^2}{2\\sigma^2}}, \\quad y \\geq 0 $\n",
    "\n",
    "and a dataset $Y = \\{y_1, y_2, ..., y_n\\}$, to find the scale parameter $\\sigma^2$, we use the method of Maximum Likelihood Estimation (MLE).\n",
    "\n",
    "Step 1: Log-Likelihood Function\n",
    "\n",
    "The first step is to write down the log-likelihood function based on the given PDF. For the Rayleigh distribution, the log-likelihood function $L_R(\\sigma^2)$ for the dataset is:\n",
    "\n",
    "$ L_R(\\sigma^2) = \\sum_{i=1}^{n} \\ln\\left(\\frac{y}{\\sigma^2}\\right) - \\frac{y^2}{2\\sigma^2} $\n",
    "\n",
    "Simplifying, we get:\n",
    "\n",
    "$ L_R(\\sigma^2) = \\sum_{i=1}^{n} \\ln(y) - n \\ln(\\sigma^2) - \\frac{1}{2\\sigma^2}\\sum_{i=1}^{n} y^2 $\n",
    "\n",
    "Step 2: Differentiate and Solve for $\\sigma^2$\n",
    "\n",
    "To find the MLE of $\\sigma^2$, differentiate $L_R(\\sigma^2)$ with respect to $\\sigma^2$ and set the derivative to zero:\n",
    "\n",
    "$ \\frac{dL_R}{d\\sigma^2} = -\\frac{n}{\\sigma^2} + \\frac{1}{2(\\sigma^2)^2}\\sum_{i=1}^{n} y^2 = 0 $\n",
    "\n",
    "Solving for $\\sigma^2$, we find:\n",
    "\n",
    "$ \\hat{\\sigma}^2 = \\frac{1}{2n}\\sum_{i=1}^{n} y^2 $\n",
    "\n",
    "### Conclusion\n",
    "\n",
    "The MLE for the scale parameter $\\sigma^2$ of a Rayleigh distribution, given a set of observations $Y$, is the sum of the squared observations divided by twice the number of observations. This result directly provides the estimate of $\\sigma^2$ from the data."
   ]
  },
  {
   "cell_type": "markdown",
   "id": "3629a8b1-aca9-415f-a9ca-d05c76906bda",
   "metadata": {},
   "source": [
    "## &#x1F518; $\\sigma_R$=? ($\\sigma_R^2$)"
   ]
  },
  {
   "cell_type": "code",
   "execution_count": 20,
   "id": "d88476a8-fc60-48f8-ab4f-b7547170168d",
   "metadata": {},
   "outputs": [
    {
     "data": {
      "text/latex": [
       "\\paragraph{\\&\\#x1F4DD; Estimated Rayleigh Variance}\n",
       "$$\\hat{\\sigma}_R^2 = \\frac{1}{2n} \\sum_{i=1}^n y_i^2  \\qquad \\{i: \\in 1,\\cdots,n\\}$$\n"
      ],
      "text/markdown": [
       "#### &#x1F4DD; Estimated Rayleigh Variance\n",
       "\n",
       "$$\n",
       "\\hat{\\sigma}_R^2 = \\frac{1}{2n} \\sum_{i=1}^n y_i^2  \\qquad \\{i: \\in 1,\\cdots,n\\}\n",
       "$$\n"
      ],
      "text/plain": [
       "\u001b[1m  &#x1F4DD; Estimated Rayleigh Variance\u001b[22m\n",
       "\u001b[1m  -------------------------------------\u001b[22m\n",
       "\n",
       "\u001b[35m  \\hat{\\sigma}_R^2 = \\frac{1}{2n} \\sum_{i=1}^n y_i^2  \\qquad \\{i: \\in 1,\\cdots,n\\}\u001b[39m"
      ]
     },
     "execution_count": 20,
     "metadata": {},
     "output_type": "execute_result"
    }
   ],
   "source": [
    "Markdown.parse(raw\"\n",
    "#### &#x1F4DD; Estimated Rayleigh Variance\n",
    "```math\n",
    "\\hat{\\sigma}_R^2 = \\frac{1}{2n} \\sum_{i=1}^n y_i^2  \\qquad \\{i: \\in 1,\\cdots,n\\}\n",
    "```\n",
    "\")"
   ]
  },
  {
   "cell_type": "code",
   "execution_count": 21,
   "id": "2caef87d-4f15-4e1b-84de-b43bd11430b1",
   "metadata": {},
   "outputs": [
    {
     "name": "stdout",
     "output_type": "stream",
     "text": [
      "Estimated parameter σ̂𝑅² = 16435.0\n"
     ]
    }
   ],
   "source": [
    "# Estimate sigma^2 (sigma squared) for Rayleigh distribution\n",
    "σ̂𝑅² = 1/2n * ∑([yᵢ^2 for yᵢ in y]) # or ∑(y_i .^ 2) when squaring element-wise \n",
    "\n",
    "# Display the estimated parameter\n",
    "println(\"Estimated parameter σ̂𝑅² = \", round(σ̂𝑅²));"
   ]
  },
  {
   "cell_type": "code",
   "execution_count": 22,
   "id": "9ed84e93-e3dc-424d-9ff6-f91bf8fe2dc0",
   "metadata": {},
   "outputs": [
    {
     "name": "stdout",
     "output_type": "stream",
     "text": [
      "calculated standard deviation σ̂𝑅 = 128.0\n"
     ]
    }
   ],
   "source": [
    "# Calculate the standard deviation (σ_R)\n",
    "σ̂𝑅 = √(σ̂𝑅²)\n",
    "\n",
    "println(\"calculated standard deviation σ̂𝑅 = \", round(σ̂𝑅))"
   ]
  },
  {
   "cell_type": "markdown",
   "id": "c521d653-1652-4d23-adab-52ce7b1d8a45",
   "metadata": {},
   "source": [
    "## &#x1F518; $L_R$ =?"
   ]
  },
  {
   "cell_type": "code",
   "execution_count": 23,
   "id": "75b2258d-ca8d-4b34-8b40-5973b40bd7b7",
   "metadata": {},
   "outputs": [
    {
     "data": {
      "text/latex": [
       "\\paragraph{\\&\\#x1F4DD; Rayleigh Log-Likelihood}\n",
       "$$\\ln \\mathcal{L}_R(\\sigma|Y) = \\sum_{i=1}^{n} \\ln(y_i) - n\\ln(\\sigma^2) - \\frac{1}{2\\sigma^2} \\sum_{i=1}^{n} y_i^2$$\n"
      ],
      "text/markdown": [
       "#### &#x1F4DD; Rayleigh Log-Likelihood\n",
       "\n",
       "$$\n",
       "\\ln \\mathcal{L}_R(\\sigma|Y) = \\sum_{i=1}^{n} \\ln(y_i) - n\\ln(\\sigma^2) - \\frac{1}{2\\sigma^2} \\sum_{i=1}^{n} y_i^2\n",
       "$$\n"
      ],
      "text/plain": [
       "\u001b[1m  &#x1F4DD; Rayleigh Log-Likelihood\u001b[22m\n",
       "\u001b[1m  ---------------------------------\u001b[22m\n",
       "\n",
       "\u001b[35m  \\ln \\mathcal{L}_R(\\sigma|Y) = \\sum_{i=1}^{n} \\ln(y_i) - n\\ln(\\sigma^2) - \\frac{1}{2\\sigma^2} \\sum_{i=1}^{n} y_i^2\u001b[39m"
      ]
     },
     "execution_count": 23,
     "metadata": {},
     "output_type": "execute_result"
    }
   ],
   "source": [
    "Markdown.parse(raw\"\n",
    "#### &#x1F4DD; Rayleigh Log-Likelihood\n",
    "```math\n",
    "\\ln \\mathcal{L}_R(\\sigma|Y) = \\sum_{i=1}^{n} \\ln(y_i) - n\\ln(\\sigma^2) - \\frac{1}{2\\sigma^2} \\sum_{i=1}^{n} y_i^2\n",
    "```\n",
    "\")\n"
   ]
  },
  {
   "cell_type": "code",
   "execution_count": 24,
   "id": "cc7b5183-6dad-490e-8977-debfaa342598",
   "metadata": {},
   "outputs": [
    {
     "name": "stdout",
     "output_type": "stream",
     "text": [
      "Log-likelihood 𝓛𝑅: -552.0\n"
     ]
    }
   ],
   "source": [
    "𝓛𝑅 = ∑(log.(y)) - n * log(σ̂𝑅²) - 1 / (2 * σ̂𝑅²) * ∑(y .^ 2) \n",
    "println(\"Log-likelihood 𝓛𝑅: \", round(𝓛𝑅))"
   ]
  },
  {
   "cell_type": "markdown",
   "id": "e7ab55ca-39e1-4625-a3b1-b31b0add3a54",
   "metadata": {},
   "source": [
    "---"
   ]
  },
  {
   "cell_type": "markdown",
   "id": "61b2ac62-2068-4746-b4dd-0a7a32bb8e39",
   "metadata": {},
   "source": [
    "## &#x1F518; $\\lambda_{E0}$=? ($\\lambda_{E0}$)"
   ]
  },
  {
   "cell_type": "markdown",
   "id": "52d61e59-9d33-43b5-9b98-5c8cd02a35fc",
   "metadata": {},
   "source": [
    "#### &#x1F4DD; Erlang distribution where $m = 0$\n",
    "\n",
    "For $m = 0$, which aligns with an exponential distribution rather than the Erlang distribution, the probability density function (PDF) is given as:\n",
    "\n",
    "$ f_{E0}(y|\\lambda) = \\lambda e^{-\\lambda y}, \\quad y \\geq 0 $\n",
    "\n",
    "To find the rate parameter $\\lambda$ using a set of data $Y = \\{y_1, y_2, ..., y_n\\}$, you can use the method of Maximum Likelihood Estimation (MLE).\n",
    "\n",
    "* Step 1: Write the Likelihood Function\n",
    "\n",
    "The likelihood function for the exponential distribution, given the dataset $Y$, is:\n",
    "\n",
    "$ \\mathcal{L}(\\lambda) = \\prod_{i=1}^{n} \\lambda e^{-\\lambda y_i} = \\lambda^n e^{-\\lambda \\sum_{i=1}^{n} y_i} $\n",
    "\n",
    "* Step 2: Log-Likelihood Function\n",
    "\n",
    "Taking the natural logarithm of the likelihood function gives the log-likelihood function:\n",
    "\n",
    "$ \\ln \\mathcal{L}(\\lambda) = n \\ln(\\lambda) - \\lambda \\sum_{i=1}^{n} y_i $\n",
    "\n",
    "* Step 3: Differentiate and Solve for $\\lambda$\n",
    "\n",
    "Differentiating the log-likelihood function with respect to $\\lambda$ gives:\n",
    "\n",
    "$ \\frac{d}{d\\lambda} \\ln \\mathcal{L}(\\lambda) = \\frac{n}{\\lambda} - \\sum_{i=1}^{n} y_i $\n",
    "\n",
    "Setting this derivative equal to zero and solving for $\\lambda$ yields:\n",
    "\n",
    "$ \\hat{\\lambda} = \\frac{n}{\\sum_{i=1}^{n} y_i} $\n",
    "\n",
    "### Conclusion\n",
    "\n",
    "The MLE of $\\lambda$ for an exponential distribution, given a set of observations, is the number of observations $n$ divided by the sum of all observations. This provides a straightforward way to estimate $\\lambda$ directly from your data."
   ]
  },
  {
   "cell_type": "code",
   "execution_count": 25,
   "id": "2be66a4a-6c5b-4e1f-8778-0b3bbba36b41",
   "metadata": {},
   "outputs": [
    {
     "data": {
      "text/latex": [
       "\\paragraph{\\&\\#x1F4DD; Estimating $\\lambda_{E0}$ from data}\n",
       "$$\\hat{\\lambda}_{E0} = \\frac{1}{\\bar{y}} = \\frac{n}{\\sum_{i=1}^{n} y}  \\qquad \\{i: \\in 1,\\cdots,n\\}$$\n"
      ],
      "text/markdown": [
       "#### &#x1F4DD; Estimating $\\lambda_{E0}$ from data\n",
       "\n",
       "$$\n",
       "\\hat{\\lambda}_{E0} = \\frac{1}{\\bar{y}} = \\frac{n}{\\sum_{i=1}^{n} y}  \\qquad \\{i: \\in 1,\\cdots,n\\}\n",
       "$$\n"
      ],
      "text/plain": [
       "\u001b[1m  &#x1F4DD; Estimating \u001b[35m\\lambda_{E0}\u001b[39m from data\u001b[22m\n",
       "\u001b[1m  -------------------------------------------\u001b[22m\n",
       "\n",
       "\u001b[35m  \\hat{\\lambda}_{E0} = \\frac{1}{\\bar{y}} = \\frac{n}{\\sum_{i=1}^{n} y}  \\qquad \\{i: \\in 1,\\cdots,n\\}\u001b[39m"
      ]
     },
     "execution_count": 25,
     "metadata": {},
     "output_type": "execute_result"
    }
   ],
   "source": [
    "Markdown.parse(raw\"\n",
    "#### &#x1F4DD; Estimating $\\lambda_{E0}$ from data\n",
    "```math\n",
    "\\hat{\\lambda}_{E0} = \\frac{1}{\\bar{y}} = \\frac{n}{\\sum_{i=1}^{n} y}  \\qquad \\{i: \\in 1,\\cdots,n\\}\n",
    "```\n",
    "\")"
   ]
  },
  {
   "cell_type": "code",
   "execution_count": 26,
   "id": "9b1909ad-80e3-4a0c-91a6-3385d3d85b05",
   "metadata": {},
   "outputs": [
    {
     "name": "stdout",
     "output_type": "stream",
     "text": [
      "Estimated rate parameter λ̂𝐸0 = 0.006\n"
     ]
    }
   ],
   "source": [
    "# Estimate λ for the exponential distribution\n",
    "λ̂𝐸0 = n / ∑([yᵢ for yᵢ in y])\n",
    "\n",
    "println(\"Estimated rate parameter λ̂𝐸0 = \", round(λ̂𝐸0, digits = 3))"
   ]
  },
  {
   "cell_type": "markdown",
   "id": "7a872011-415d-4300-8a3f-aa5b12a99fd9",
   "metadata": {},
   "source": [
    "## &#x1F518; $L_{E0}$ =?"
   ]
  },
  {
   "cell_type": "code",
   "execution_count": 27,
   "id": "66db5559-ac12-4113-b6bc-3fcdfe061d5b",
   "metadata": {},
   "outputs": [
    {
     "data": {
      "text/latex": [
       "\\paragraph{\\&\\#x1F4DD; Erlang Log-Likelihood when m = 0}\n",
       "$$\\ln \\mathcal{L}(\\lambda)_{E0} = n \\ln(\\lambda) - \\lambda \\sum_{i=1}^{n} y$$\n"
      ],
      "text/markdown": [
       "#### &#x1F4DD; Erlang Log-Likelihood when m = 0\n",
       "\n",
       "$$\n",
       "\\ln \\mathcal{L}(\\lambda)_{E0} = n \\ln(\\lambda) - \\lambda \\sum_{i=1}^{n} y\n",
       "$$\n"
      ],
      "text/plain": [
       "\u001b[1m  &#x1F4DD; Erlang Log-Likelihood when m = 0\u001b[22m\n",
       "\u001b[1m  ------------------------------------------\u001b[22m\n",
       "\n",
       "\u001b[35m  \\ln \\mathcal{L}(\\lambda)_{E0} = n \\ln(\\lambda) - \\lambda \\sum_{i=1}^{n} y\u001b[39m"
      ]
     },
     "execution_count": 27,
     "metadata": {},
     "output_type": "execute_result"
    }
   ],
   "source": [
    "Markdown.parse(raw\"\n",
    "#### &#x1F4DD; Erlang Log-Likelihood when m = 0\n",
    "```math\n",
    "\\ln \\mathcal{L}(\\lambda)_{E0} = n \\ln(\\lambda) - \\lambda \\sum_{i=1}^{n} y\n",
    "```\n",
    "\")\n"
   ]
  },
  {
   "cell_type": "code",
   "execution_count": 28,
   "id": "54f14b1e-a6fe-456b-b042-e318f1545ff5",
   "metadata": {},
   "outputs": [
    {
     "name": "stdout",
     "output_type": "stream",
     "text": [
      "Log-likelihood 𝓛𝐸0: -619.0\n"
     ]
    }
   ],
   "source": [
    "𝓛𝐸0 = n * log(λ̂𝐸0) - λ̂𝐸0 * ∑([yᵢ for yᵢ in y])\n",
    "println(\"Log-likelihood 𝓛𝐸0: \", round(𝓛𝐸0))"
   ]
  },
  {
   "cell_type": "markdown",
   "id": "88afcc5c-dad8-4af1-ba00-245ab1108dcc",
   "metadata": {},
   "source": [
    "## &#x1F518; $\\lambda_{E1}$=? ($\\lambda_{E1}$)"
   ]
  },
  {
   "cell_type": "markdown",
   "id": "67bb1774-2228-4959-83f1-bd3734a04cc4",
   "metadata": {},
   "source": [
    "#### &#x1F4DD; Erlang distribution where $m = 1$\n",
    "\n",
    "When $m = 1$, the Erlang distribution simplifies to the exponential distribution because the Erlang distribution is a general case of the gamma distribution for integer shape parameters, and the exponential distribution is a special case of the gamma distribution with a shape parameter of 1. The probability density function (PDF) for an exponential distribution with rate $\\lambda$ is given by:\n",
    "\n",
    "$ f(y|\\lambda) = \\lambda e^{-\\lambda y}, \\quad y \\geq 0 $\n",
    "\n",
    "To find the rate parameter $\\lambda$ given a set of data $Y = \\{y_1, y_2, ..., y_n\\}$ from this distribution, you use the method of Maximum Likelihood Estimation (MLE).\n",
    "\n",
    "* Step 1: Write the Likelihood Function\n",
    "\n",
    "The likelihood function for the exponential distribution, given the dataset $Y$, is:\n",
    "\n",
    "$ L(\\lambda) = \\prod_{i=1}^{n} \\lambda e^{-\\lambda y_i} = \\lambda^n e^{-\\lambda \\sum_{i=1}^{n} y_i} $\n",
    "\n",
    "* Step 2: Log-Likelihood Function\n",
    "\n",
    "Taking the natural logarithm of the likelihood function gives the log-likelihood function:\n",
    "\n",
    "$ \\ln L(\\lambda) = n \\ln(\\lambda) - \\lambda \\sum_{i=1}^{n} y_i $\n",
    "\n",
    "* Step 3: Find the MLE of $\\lambda$\n",
    "\n",
    "Differentiate the log-likelihood function with respect to $\\lambda$ and set it equal to zero to solve for $\\lambda$:\n",
    "\n",
    "$ \\frac{d}{d\\lambda} \\ln L(\\lambda) = \\frac{n}{\\lambda} - \\sum_{i=1}^{n} y_i = 0 $\n",
    "\n",
    "Solving for $\\lambda$ gives:\n",
    "\n",
    "$ \\hat{\\lambda} = \\frac{n}{\\sum_{i=1}^{n} y_i} $\n"
   ]
  },
  {
   "cell_type": "code",
   "execution_count": 29,
   "id": "b0557616-30d9-4d5b-8220-e9d9e33d75a6",
   "metadata": {},
   "outputs": [
    {
     "data": {
      "text/latex": [
       "\\paragraph{\\&\\#x1F4DD; Estimated Lambda when m = 1}\n",
       "$$\\hat{\\lambda}_{E1} = \\frac{n}{\\sum_{i=1}^{n} y_i}$$\n"
      ],
      "text/markdown": [
       "#### &#x1F4DD; Estimated Lambda when m = 1\n",
       "\n",
       "$$\n",
       "\\hat{\\lambda}_{E1} = \\frac{n}{\\sum_{i=1}^{n} y_i}\n",
       "$$\n"
      ],
      "text/plain": [
       "\u001b[1m  &#x1F4DD; Estimated Lambda when m = 1\u001b[22m\n",
       "\u001b[1m  -------------------------------------\u001b[22m\n",
       "\n",
       "\u001b[35m  \\hat{\\lambda}_{E1} = \\frac{n}{\\sum_{i=1}^{n} y_i}\u001b[39m"
      ]
     },
     "execution_count": 29,
     "metadata": {},
     "output_type": "execute_result"
    }
   ],
   "source": [
    "Markdown.parse(raw\"\n",
    "#### &#x1F4DD; Estimated Lambda when m = 1\n",
    "```math\n",
    "\\hat{\\lambda}_{E1} = \\frac{n}{\\sum_{i=1}^{n} y_i}\n",
    "```\n",
    "\")"
   ]
  },
  {
   "cell_type": "code",
   "execution_count": 30,
   "id": "3c45093f-c840-49ba-90c8-7008074bff7b",
   "metadata": {},
   "outputs": [
    {
     "name": "stdout",
     "output_type": "stream",
     "text": [
      "Estimated rate parameter λ̂𝐸1 = 0.006\n"
     ]
    }
   ],
   "source": [
    "# Estimate λ for the erlang distribution when m = 1\n",
    "λ̂𝐸1 = n / ∑([yᵢ for yᵢ in y])\n",
    "\n",
    "println(\"Estimated rate parameter λ̂𝐸1 = \", round(λ̂𝐸1, digits = 3))"
   ]
  },
  {
   "cell_type": "markdown",
   "id": "12aa7755-fdf5-4ca8-b687-8e899f921066",
   "metadata": {},
   "source": [
    "## &#x1F518; $L_{E1}$ =?"
   ]
  },
  {
   "cell_type": "code",
   "execution_count": 31,
   "id": "ff1c47ad-fd76-4c06-8af5-1e1222707c41",
   "metadata": {},
   "outputs": [
    {
     "data": {
      "text/latex": [
       "\\paragraph{\\&\\#x1F4DD; Erlang Log-Likelihood when m = 1}\n",
       "$$\\ln \\mathcal{L}(\\lambda)_{E1} = n \\ln(\\lambda) - \\lambda \\sum_{i=1}^{n} y$$\n"
      ],
      "text/markdown": [
       "#### &#x1F4DD; Erlang Log-Likelihood when m = 1\n",
       "\n",
       "$$\n",
       "\\ln \\mathcal{L}(\\lambda)_{E1} = n \\ln(\\lambda) - \\lambda \\sum_{i=1}^{n} y\n",
       "$$\n"
      ],
      "text/plain": [
       "\u001b[1m  &#x1F4DD; Erlang Log-Likelihood when m = 1\u001b[22m\n",
       "\u001b[1m  ------------------------------------------\u001b[22m\n",
       "\n",
       "\u001b[35m  \\ln \\mathcal{L}(\\lambda)_{E1} = n \\ln(\\lambda) - \\lambda \\sum_{i=1}^{n} y\u001b[39m"
      ]
     },
     "execution_count": 31,
     "metadata": {},
     "output_type": "execute_result"
    }
   ],
   "source": [
    "Markdown.parse(raw\"\n",
    "#### &#x1F4DD; Erlang Log-Likelihood when m = 1\n",
    "```math\n",
    "\\ln \\mathcal{L}(\\lambda)_{E1} = n \\ln(\\lambda) - \\lambda \\sum_{i=1}^{n} y\n",
    "```\n",
    "\")\n"
   ]
  },
  {
   "cell_type": "code",
   "execution_count": 32,
   "id": "c5c0028d-092a-4a6f-9ae9-facd29ad1e16",
   "metadata": {},
   "outputs": [
    {
     "name": "stdout",
     "output_type": "stream",
     "text": [
      "Log-likelihood 𝓛𝐸1: -619.0\n"
     ]
    }
   ],
   "source": [
    "𝓛𝐸1 = n * log(λ̂𝐸1) - λ̂𝐸1 * ∑([yᵢ for yᵢ in y])\n",
    "println(\"Log-likelihood 𝓛𝐸1: \", round(𝓛𝐸1))"
   ]
  },
  {
   "cell_type": "markdown",
   "id": "c2fe0da6-bc92-41f5-aaa6-950ac94d3350",
   "metadata": {},
   "source": [
    "## &#x1F518; $\\lambda_{E2}$=? ($\\lambda_{E2})$"
   ]
  },
  {
   "cell_type": "markdown",
   "id": "bbf9f28c-ce60-457b-b0b8-62559ebd3871",
   "metadata": {},
   "source": [
    "#### &#x1F4DD; Erlang distribution where $m = 2$\n",
    "\n",
    "* Finding $\\lambda$ when $m = 2$\n",
    "\n",
    "To find the rate parameter $\\lambda$ given a set of data $Y = \\{y_1, y_2, ..., y_n\\}$ from an Erlang distribution with $m=2$, you would again use the method of Maximum Likelihood Estimation (MLE), but the process involves the specific form of the PDF for $m=2$.\n",
    "\n",
    "* Step 1: Likelihood Function\n",
    "\n",
    "The likelihood function for the dataset is the product of the PDF values for each observation:\n",
    "\n",
    "$ \\mathcal{L}(\\lambda) = \\prod_{i=1}^{n} \\frac{\\lambda^2 y e^{-\\lambda y}}{1!} $\n",
    "\n",
    "* Step 2: Log-Likelihood Function\n",
    "\n",
    "Taking the natural logarithm of the likelihood function gives the log-likelihood function:\n",
    "\n",
    "$ \\ln \\mathcal{L}(\\lambda) = \\sum_{i=1}^{n} \\ln(\\lambda^2 y_i e^{-\\lambda y}) = 2n \\ln(\\lambda) + \\sum_{i=1}^{n} \\ln(y) - \\lambda \\sum_{i=1}^{n} y $\n",
    "\n",
    "* Step 3: Differentiate and Solve for $\\lambda$\n",
    "\n",
    "$ \\frac{d}{d\\lambda} \\ln \\mathcal{L}(\\lambda) = \\frac{d}{d\\lambda} \\left( 2n \\ln(\\lambda) - \\lambda \\sum_{i=1}^{n} y \\right) $\n",
    "\n",
    "$ = 2n \\frac{1}{\\lambda} - \\sum_{i=1}^{n} y $\n",
    "\n",
    "* Solve for $\\lambda$\n",
    "\n",
    "Setting the derivative equal to zero to find the critical points:\n",
    "\n",
    "$ 2n \\frac{1}{\\lambda} - \\sum_{i=1}^{n} y = 0 $\n",
    "\n",
    "$ \\Rightarrow 2n = \\lambda \\sum_{i=1}^{n} y $\n",
    "\n",
    "$ \\Rightarrow \\lambda = \\frac{2n}{\\sum_{i=1}^{n} y} $\n",
    "\n",
    "Thus, the MLE of $\\lambda$ for the given Erlang distribution when $m=2$ is:\n",
    "\n",
    "$ \\hat{\\lambda} = \\frac{2n}{\\sum_{i=1}^{n} y} $\n",
    "\n",
    "This expression provides the estimate of $\\lambda$ based on the dataset. It effectively doubles the reciprocal of the mean of the observations, which aligns with the intuition that for $m=2$, the rate $\\lambda$ is estimated considering the process involves the sum of two exponential distributions (or equivalently, two \"events\" in the context of the Erlang distribution)."
   ]
  },
  {
   "cell_type": "code",
   "execution_count": 33,
   "id": "5392867c-f687-4c9e-b6c8-603409dcf7fe",
   "metadata": {},
   "outputs": [
    {
     "data": {
      "text/latex": [
       "\\paragraph{\\&\\#x1F4DD; Estimated Lambda when m = 2}\n",
       "$$\\hat{\\lambda}_{E2} = \\frac{2n}{\\sum_{i=1}^{n} y}$$\n"
      ],
      "text/markdown": [
       "#### &#x1F4DD; Estimated Lambda when m = 2\n",
       "\n",
       "$$\n",
       "\\hat{\\lambda}_{E2} = \\frac{2n}{\\sum_{i=1}^{n} y}\n",
       "$$\n"
      ],
      "text/plain": [
       "\u001b[1m  &#x1F4DD; Estimated Lambda when m = 2\u001b[22m\n",
       "\u001b[1m  -------------------------------------\u001b[22m\n",
       "\n",
       "\u001b[35m  \\hat{\\lambda}_{E2} = \\frac{2n}{\\sum_{i=1}^{n} y}\u001b[39m"
      ]
     },
     "execution_count": 33,
     "metadata": {},
     "output_type": "execute_result"
    }
   ],
   "source": [
    "Markdown.parse(raw\"\n",
    "#### &#x1F4DD; Estimated Lambda when m = 2\n",
    "```math\n",
    "\\hat{\\lambda}_{E2} = \\frac{2n}{\\sum_{i=1}^{n} y}\n",
    "```\n",
    "\")"
   ]
  },
  {
   "cell_type": "code",
   "execution_count": 34,
   "id": "637221d1-2668-48c8-8401-1dfe1139582e",
   "metadata": {},
   "outputs": [
    {
     "name": "stdout",
     "output_type": "stream",
     "text": [
      "Estimated rate parameter λ̂𝐸2 = 0.011\n"
     ]
    }
   ],
   "source": [
    "# Estimate λ for the erlang distribution when m = 2\n",
    "λ̂𝐸2 = 2n / ∑([yᵢ for yᵢ in y])\n",
    "\n",
    "println(\"Estimated rate parameter λ̂𝐸2 = \", round(λ̂𝐸2, digits = 3))"
   ]
  },
  {
   "cell_type": "markdown",
   "id": "9e9ed0d0-cb96-48c1-90d8-8309760d368c",
   "metadata": {},
   "source": [
    "## &#x1F518; $L_{E2}$ =?"
   ]
  },
  {
   "cell_type": "code",
   "execution_count": 35,
   "id": "93bcc92d-f119-45e9-b0d0-006097e91d6d",
   "metadata": {},
   "outputs": [
    {
     "data": {
      "text/latex": [
       "\\paragraph{\\&\\#x1F4DD; Erlang Log-Likelihood when m = 2}\n",
       "$$\\ln \\mathcal{L}(\\lambda)_{E2} = \\sum_{i=1}^{n} \\ln(\\lambda^2 y e^{-\\lambda y}) \\qquad \\{i: \\in 1,\\cdots,n\\}$$\n"
      ],
      "text/markdown": [
       "#### &#x1F4DD; Erlang Log-Likelihood when m = 2\n",
       "\n",
       "$$\n",
       "\\ln \\mathcal{L}(\\lambda)_{E2} = \\sum_{i=1}^{n} \\ln(\\lambda^2 y e^{-\\lambda y}) \\qquad \\{i: \\in 1,\\cdots,n\\}\n",
       "$$\n"
      ],
      "text/plain": [
       "\u001b[1m  &#x1F4DD; Erlang Log-Likelihood when m = 2\u001b[22m\n",
       "\u001b[1m  ------------------------------------------\u001b[22m\n",
       "\n",
       "\u001b[35m  \\ln \\mathcal{L}(\\lambda)_{E2} = \\sum_{i=1}^{n} \\ln(\\lambda^2 y e^{-\\lambda y}) \\qquad \\{i: \\in 1,\\cdots,n\\}\u001b[39m"
      ]
     },
     "execution_count": 35,
     "metadata": {},
     "output_type": "execute_result"
    }
   ],
   "source": [
    "Markdown.parse(raw\"\n",
    "#### &#x1F4DD; Erlang Log-Likelihood when m = 2\n",
    "```math\n",
    "\\ln \\mathcal{L}(\\lambda)_{E2} = \\sum_{i=1}^{n} \\ln(\\lambda^2 y e^{-\\lambda y}) \\qquad \\{i: \\in 1,\\cdots,n\\}\n",
    "```\n",
    "\")\n"
   ]
  },
  {
   "cell_type": "code",
   "execution_count": 36,
   "id": "96d1a41f-fece-445c-aacf-44968caa4329",
   "metadata": {},
   "outputs": [
    {
     "name": "stdout",
     "output_type": "stream",
     "text": [
      "Log-likelihood 𝓛𝐸2: -581.0\n"
     ]
    }
   ],
   "source": [
    "𝓛𝐸2 = ∑([log((λ̂𝐸2)^2 * yᵢ * ℯ^(-(λ̂𝐸2) * yᵢ)) for yᵢ in y])\n",
    "println(\"Log-likelihood 𝓛𝐸2: \", round(𝓛𝐸2))"
   ]
  },
  {
   "cell_type": "markdown",
   "id": "561e3e6c-1a74-41ef-8b10-8f805000ee0c",
   "metadata": {},
   "source": [
    "---"
   ]
  },
  {
   "cell_type": "markdown",
   "id": "24c6ecd1-1e5d-429e-9bd6-5282055e3bea",
   "metadata": {},
   "source": [
    "## &#x1F518;  $\\lambda_{exp}$=? (shifted exponential distribution $\\lambda_{exp}$)\n",
    "\n",
    "- [ ] $\\alpha_{exp}$=? ($\\alpha_{exp}$)\n"
   ]
  },
  {
   "cell_type": "markdown",
   "id": "e18aa42f-3398-47ad-8ce8-c5868af9181e",
   "metadata": {},
   "source": [
    "#### &#x1F4DD; Shifted Exponential Recap\n",
    "\n",
    "For a shifted exponential distribution given by the density function\n",
    "\n",
    "$ f_{exp}(y|\\lambda,\\alpha) = \\begin{cases} 0 & , y < \\alpha \\\\ \\lambda e^{-\\lambda(y - \\alpha)} & , y \\geq \\alpha \\end{cases} $\n",
    "\n",
    "finding the parameters $\\lambda$ and $\\alpha$ from a dataset $Y = \\{y_1, y_2, \\ldots, y_n\\}$ involves more steps because the presence of the shift parameter $\\alpha$ complicates direct application of the MLE approach used for standard exponential distributions.\n",
    "\n",
    "### Step 1: Estimate $\\alpha$\n",
    "\n",
    "For the shifted exponential distribution, $\\alpha$ is the minimum value of $y$ in your dataset, because $\\alpha$ shifts the start of the exponential distribution from 0 to $\\alpha$. So,\n",
    "\n",
    "$ \\hat{\\alpha} = \\min(Y) $\n",
    "\n",
    "### Step 2: Adjust Data for Shift\n",
    "\n",
    "Subtract $\\alpha$ from each data point to effectively \"shift\" your data to the origin, as if you're dealing with a standard exponential distribution:\n",
    "\n",
    "$ Y_{adjusted} = \\{y_1 - \\hat{\\alpha}, y_2 - \\hat{\\alpha}, \\ldots, y_n - \\hat{\\alpha}\\} $\n",
    "\n",
    "### Step 3: Estimate $\\lambda$\n",
    "\n",
    "Once the data is adjusted, you can estimate $\\lambda$ using the MLE approach for a standard exponential distribution:\n",
    "\n",
    "$ \\hat{\\lambda} = \\frac{n}{\\sum_{i=1}^{n} (y_i - \\hat{\\alpha})} = \\frac{1}{\\bar{y}_{adjusted}} $\n",
    "\n",
    "where $\\bar{y}_{adjusted}$ is the mean of the adjusted dataset $Y_{adjusted}$.\n",
    "\n",
    "\n",
    "This approach provides estimates for both $\\lambda$ and $\\alpha$ based on the given dataset $Y$, considering the shift introduced by $\\alpha$ in the exponential distribution."
   ]
  },
  {
   "cell_type": "code",
   "execution_count": 43,
   "id": "9f5d7713-2557-4ff7-89c0-c825caccf1b8",
   "metadata": {},
   "outputs": [
    {
     "name": "stdout",
     "output_type": "stream",
     "text": [
      "Estimated α (shift parameter): 152.0\n"
     ]
    }
   ],
   "source": [
    "# Step 1: Estimate α (alpha_hat)\n",
    "α̂ = minimum(y);\n",
    "\n",
    "# Step 2: Adjust the data\n",
    "ỹ = y .- α̂   # Y_adjusted or y\\tilde\n",
    "\n",
    "println(\"Estimated α (shift parameter): \", round(α̂))"
   ]
  },
  {
   "cell_type": "code",
   "execution_count": 44,
   "id": "d081647b-65ae-45b2-8871-e27839e93f0b",
   "metadata": {},
   "outputs": [
    {
     "name": "stdout",
     "output_type": "stream",
     "text": [
      "MLE for λ (rate parameter): 0.036\n"
     ]
    }
   ],
   "source": [
    "# MLE for λ (lambda_hat) from adjusted data\n",
    "λ̂ = n / ∑(ỹ)\n",
    "\n",
    "println(\"MLE for λ (rate parameter): \", round(λ̂, digits = 3))"
   ]
  },
  {
   "cell_type": "markdown",
   "id": "5dd0e998-71ac-4cf3-9eb6-9f4cc085a05f",
   "metadata": {},
   "source": [
    "The Maximum Likelihood Estimation (MLE) process described previously for a shifted exponential distribution indeed outlines the method to find estimates for both $\\lambda$ and $\\alpha$ parameters. However, to clarify, the process implicitly includes the MLE steps but was presented in a more straightforward manner. Let's explicitly go through the MLE process for both parameters with mathematical formulation and then translate it into a computational solution, focusing on the shifted exponential distribution:\n",
    "\n",
    "### The Shifted Exponential Distribution\n",
    "$ f_{exp}(y|\\lambda,\\alpha) = \n",
    "\\begin{cases}\n",
    "0 & , y < \\alpha \\\\\n",
    "\\lambda e^{-\\lambda(y - \\alpha)} & , y \\geq \\alpha\n",
    "\\end{cases} $\n",
    "\n",
    "### MLE for $\\alpha$ and $\\lambda$\n",
    "\n",
    "1. **MLE for $\\alpha$:** Given that the density starts at $\\alpha$, and assuming the data are ordered such that $y_1 \\leq y_2 \\leq \\ldots \\leq y_n$, the MLE for $\\alpha$ is the minimum of the dataset:\n",
    "$ \\hat{\\alpha} = \\min(Y) = y_1 $\n",
    "This is because increasing $\\alpha$ would decrease the likelihood of observing the lower values in the dataset, while decreasing $\\alpha$ below the minimum value doesn't increase the likelihood due to the nature of the exponential function.\n",
    "\n",
    "2. **MLE for $\\lambda$:** After determining $\\hat{\\alpha}$, the dataset can be \"shifted\" so that the minimum value is treated as 0, adjusting the data by subtracting $\\hat{\\alpha}$ from each observation.\n",
    "\n",
    "The likelihood function for the adjusted data then resembles that of a non-shifted exponential distribution. The MLE for $\\lambda$, given the adjusted data, maximizes the likelihood or log-likelihood function:\n",
    "\n",
    "$ L(\\lambda) = n\\ln(\\lambda) - \\lambda \\sum_{i=1}^{n} (y_i - \\hat{\\alpha}) $\n",
    "\n",
    "Taking the derivative with respect to $\\lambda$ and setting it to zero gives:\n",
    "\n",
    "$ \\frac{d}{d\\lambda} L(\\lambda) = \\frac{n}{\\lambda} - \\sum_{i=1}^{n} (y_i - \\hat{\\alpha}) = 0 $\n",
    "\n",
    "Solving for $\\lambda$ yields:\n",
    "\n",
    "$ \\hat{\\lambda} = \\frac{n}{\\sum_{i=1}^{n} (y_i - \\hat{\\alpha})} $\n",
    "\n",
    "This process and implementation correctly reflect the MLE for $\\alpha$ and $\\lambda$ for a shifted exponential distribution, providing a solid foundation for parameter estimation within this specific distributional context."
   ]
  },
  {
   "cell_type": "markdown",
   "id": "8cfe27db-b1c8-4084-8353-4740c81d0e15",
   "metadata": {},
   "source": [
    "\n",
    "\n",
    "\n",
    "\n",
    "\n",
    "\n",
    "\n",
    "\n",
    "\n",
    "$\\sigma_{SR}$=? (shifted Rayleigh $\\sigma_{SR}^2$)\n",
    "$\\alpha_{SR}$=? ($\\alpha_{SR}$)\n",
    "\n",
    "\n",
    "plot\n",
    "?\n",
    "\n",
    "\n",
    "log-likelihood value\n",
    "\n",
    "\n",
    "\n",
    "\n",
    "\n",
    "\n",
    "$L_{exp}$ =?\n",
    "\n",
    "$L_{SR}$ =?"
   ]
  },
  {
   "cell_type": "markdown",
   "id": "dd9cb12b-26f6-4c75-8b42-3269d9cc296a",
   "metadata": {},
   "source": [
    "&#x1F516; **(&#x2173;)**  In Matlab, plot a histogram of the measurements {y1, . . . , yn} you made and in the same plot superimpose the graphs for the marginal densities $f (y|\\hat{\\theta}_{ML,i} (Y )), i \\in \\{G, R, E0, E1, E2, exp,SR \\}$. Make this plot for y going from a value that is somewhat smaller than the $y_{min}$ you measured to a value that is somewhat bigger than the $y_{max}$ you measured. In Matlab, use the histogram command with the options ’Normalization’ and ’probability’, so that the histogram can be compared directly to the pdf of the distributions."
   ]
  },
  {
   "cell_type": "code",
   "execution_count": 39,
   "id": "0659c80a-7bf7-47ba-9853-a1d113b058e5",
   "metadata": {},
   "outputs": [],
   "source": [
    "using Plots\n",
    "using Distributions\n",
    "using StatsPlots  # For the `plot` function for distributions"
   ]
  },
  {
   "cell_type": "code",
   "execution_count": 40,
   "id": "c6dfa7c1-7508-453b-af12-029969bef7ef",
   "metadata": {},
   "outputs": [
    {
     "data": {
      "image/png": "[encoded data removed]",
      "image/svg+xml": [
       "<?xml version=\"1.0\" encoding=\"utf-8\"?>\n",
       "<svg xmlns=\"http://www.w3.org/2000/svg\" xmlns:xlink=\"http://www.w3.org/1999/xlink\" width=\"600\" height=\"400\" viewBox=\"0 0 2400 1600\">\n",
       "<defs>\n",
       "  <clipPath id=\"clip650\">\n",
       "    <rect x=\"0\" y=\"0\" width=\"2400\" height=\"1600\"/>\n",
       "  </clipPath>\n",
       "</defs>\n",
       "<path clip-path=\"url(#clip650)\" d=\"M0 1600 L2400 1600 L2400 0 L0 0  Z\" fill=\"#ffffff\" fill-rule=\"evenodd\" fill-opacity=\"1\"/>\n",
       "<defs>\n",
       "  <clipPath id=\"clip651\">\n",
       "    <rect x=\"480\" y=\"0\" width=\"1681\" height=\"1600\"/>\n",
       "  </clipPath>\n",
       "</defs>\n",
       "<path clip-path=\"url(#clip650)\" d=\"M169.121 1486.45 L2352.76 1486.45 L2352.76 47.2441 L169.121 47.2441  Z\" fill=\"#ffffff\" fill-rule=\"evenodd\" fill-opacity=\"1\"/>\n",
       "<defs>\n",
       "  <clipPath id=\"clip652\">\n",
       "    <rect x=\"169\" y=\"47\" width=\"2185\" height=\"1440\"/>\n",
       "  </clipPath>\n",
       "</defs>\n",
       "<polyline clip-path=\"url(#clip652)\" style=\"stroke:#000000; stroke-linecap:round; stroke-linejoin:round; stroke-width:2; stroke-opacity:0.1; fill:none\" points=\"677.911,1486.45 677.911,47.2441 \"/>\n",
       "<polyline clip-path=\"url(#clip652)\" style=\"stroke:#000000; stroke-linecap:round; stroke-linejoin:round; stroke-width:2; stroke-opacity:0.1; fill:none\" points=\"1196.16,1486.45 1196.16,47.2441 \"/>\n",
       "<polyline clip-path=\"url(#clip652)\" style=\"stroke:#000000; stroke-linecap:round; stroke-linejoin:round; stroke-width:2; stroke-opacity:0.1; fill:none\" points=\"1714.4,1486.45 1714.4,47.2441 \"/>\n",
       "<polyline clip-path=\"url(#clip652)\" style=\"stroke:#000000; stroke-linecap:round; stroke-linejoin:round; stroke-width:2; stroke-opacity:0.1; fill:none\" points=\"2232.65,1486.45 2232.65,47.2441 \"/>\n",
       "<polyline clip-path=\"url(#clip650)\" style=\"stroke:#000000; stroke-linecap:round; stroke-linejoin:round; stroke-width:4; stroke-opacity:1; fill:none\" points=\"169.121,1486.45 2352.76,1486.45 \"/>\n",
       "<polyline clip-path=\"url(#clip650)\" style=\"stroke:#000000; stroke-linecap:round; stroke-linejoin:round; stroke-width:4; stroke-opacity:1; fill:none\" points=\"677.911,1486.45 677.911,1467.55 \"/>\n",
       "<polyline clip-path=\"url(#clip650)\" style=\"stroke:#000000; stroke-linecap:round; stroke-linejoin:round; stroke-width:4; stroke-opacity:1; fill:none\" points=\"1196.16,1486.45 1196.16,1467.55 \"/>\n",
       "<polyline clip-path=\"url(#clip650)\" style=\"stroke:#000000; stroke-linecap:round; stroke-linejoin:round; stroke-width:4; stroke-opacity:1; fill:none\" points=\"1714.4,1486.45 1714.4,1467.55 \"/>\n",
       "<polyline clip-path=\"url(#clip650)\" style=\"stroke:#000000; stroke-linecap:round; stroke-linejoin:round; stroke-width:4; stroke-opacity:1; fill:none\" points=\"2232.65,1486.45 2232.65,1467.55 \"/>\n",
       "<path clip-path=\"url(#clip650)\" d=\"M647.853 1532.02 L677.529 1532.02 L677.529 1535.95 L647.853 1535.95 L647.853 1532.02 Z\" fill=\"#000000\" fill-rule=\"nonzero\" fill-opacity=\"1\" /><path clip-path=\"url(#clip650)\" d=\"M691.649 1544.91 L707.968 1544.91 L707.968 1548.85 L686.024 1548.85 L686.024 1544.91 Q688.686 1542.16 693.269 1537.53 Q697.876 1532.88 699.056 1531.53 Q701.302 1529.01 702.181 1527.27 Q703.084 1525.51 703.084 1523.82 Q703.084 1521.07 701.14 1519.33 Q699.218 1517.6 696.116 1517.6 Q693.917 1517.6 691.464 1518.36 Q689.033 1519.13 686.255 1520.68 L686.255 1515.95 Q689.079 1514.82 691.533 1514.24 Q693.987 1513.66 696.024 1513.66 Q701.394 1513.66 704.589 1516.35 Q707.783 1519.03 707.783 1523.52 Q707.783 1525.65 706.973 1527.57 Q706.186 1529.47 704.079 1532.07 Q703.501 1532.74 700.399 1535.95 Q697.297 1539.15 691.649 1544.91 Z\" fill=\"#000000\" fill-rule=\"nonzero\" fill-opacity=\"1\" /><path clip-path=\"url(#clip650)\" d=\"M1196.16 1517.37 Q1192.55 1517.37 1190.72 1520.93 Q1188.91 1524.47 1188.91 1531.6 Q1188.91 1538.71 1190.72 1542.27 Q1192.55 1545.82 1196.16 1545.82 Q1199.79 1545.82 1201.6 1542.27 Q1203.43 1538.71 1203.43 1531.6 Q1203.43 1524.47 1201.6 1520.93 Q1199.79 1517.37 1196.16 1517.37 M1196.16 1513.66 Q1201.97 1513.66 1205.02 1518.27 Q1208.1 1522.85 1208.1 1531.6 Q1208.1 1540.33 1205.02 1544.94 Q1201.97 1549.52 1196.16 1549.52 Q1190.35 1549.52 1187.27 1544.94 Q1184.21 1540.33 1184.21 1531.6 Q1184.21 1522.85 1187.27 1518.27 Q1190.35 1513.66 1196.16 1513.66 Z\" fill=\"#000000\" fill-rule=\"nonzero\" fill-opacity=\"1\" /><path clip-path=\"url(#clip650)\" d=\"M1709.06 1544.91 L1725.38 1544.91 L1725.38 1548.85 L1703.43 1548.85 L1703.43 1544.91 Q1706.09 1542.16 1710.68 1537.53 Q1715.28 1532.88 1716.47 1531.53 Q1718.71 1529.01 1719.59 1527.27 Q1720.49 1525.51 1720.49 1523.82 Q1720.49 1521.07 1718.55 1519.33 Q1716.63 1517.6 1713.53 1517.6 Q1711.33 1517.6 1708.87 1518.36 Q1706.44 1519.13 1703.66 1520.68 L1703.66 1515.95 Q1706.49 1514.82 1708.94 1514.24 Q1711.4 1513.66 1713.43 1513.66 Q1718.8 1513.66 1722 1516.35 Q1725.19 1519.03 1725.19 1523.52 Q1725.19 1525.65 1724.38 1527.57 Q1723.59 1529.47 1721.49 1532.07 Q1720.91 1532.74 1717.81 1535.95 Q1714.71 1539.15 1709.06 1544.91 Z\" fill=\"#000000\" fill-rule=\"nonzero\" fill-opacity=\"1\" /><path clip-path=\"url(#clip650)\" d=\"M2235.66 1518.36 L2223.86 1536.81 L2235.66 1536.81 L2235.66 1518.36 M2234.43 1514.29 L2240.31 1514.29 L2240.31 1536.81 L2245.24 1536.81 L2245.24 1540.7 L2240.31 1540.7 L2240.31 1548.85 L2235.66 1548.85 L2235.66 1540.7 L2220.06 1540.7 L2220.06 1536.19 L2234.43 1514.29 Z\" fill=\"#000000\" fill-rule=\"nonzero\" fill-opacity=\"1\" /><polyline clip-path=\"url(#clip652)\" style=\"stroke:#000000; stroke-linecap:round; stroke-linejoin:round; stroke-width:2; stroke-opacity:0.1; fill:none\" points=\"169.121,1486.45 2352.76,1486.45 \"/>\n",
       "<polyline clip-path=\"url(#clip652)\" style=\"stroke:#000000; stroke-linecap:round; stroke-linejoin:round; stroke-width:2; stroke-opacity:0.1; fill:none\" points=\"169.121,1121.17 2352.76,1121.17 \"/>\n",
       "<polyline clip-path=\"url(#clip652)\" style=\"stroke:#000000; stroke-linecap:round; stroke-linejoin:round; stroke-width:2; stroke-opacity:0.1; fill:none\" points=\"169.121,755.888 2352.76,755.888 \"/>\n",
       "<polyline clip-path=\"url(#clip652)\" style=\"stroke:#000000; stroke-linecap:round; stroke-linejoin:round; stroke-width:2; stroke-opacity:0.1; fill:none\" points=\"169.121,390.607 2352.76,390.607 \"/>\n",
       "<polyline clip-path=\"url(#clip650)\" style=\"stroke:#000000; stroke-linecap:round; stroke-linejoin:round; stroke-width:4; stroke-opacity:1; fill:none\" points=\"169.121,1486.45 169.121,47.2441 \"/>\n",
       "<polyline clip-path=\"url(#clip650)\" style=\"stroke:#000000; stroke-linecap:round; stroke-linejoin:round; stroke-width:4; stroke-opacity:1; fill:none\" points=\"169.121,1486.45 188.019,1486.45 \"/>\n",
       "<polyline clip-path=\"url(#clip650)\" style=\"stroke:#000000; stroke-linecap:round; stroke-linejoin:round; stroke-width:4; stroke-opacity:1; fill:none\" points=\"169.121,1121.17 188.019,1121.17 \"/>\n",
       "<polyline clip-path=\"url(#clip650)\" style=\"stroke:#000000; stroke-linecap:round; stroke-linejoin:round; stroke-width:4; stroke-opacity:1; fill:none\" points=\"169.121,755.888 188.019,755.888 \"/>\n",
       "<polyline clip-path=\"url(#clip650)\" style=\"stroke:#000000; stroke-linecap:round; stroke-linejoin:round; stroke-width:4; stroke-opacity:1; fill:none\" points=\"169.121,390.607 188.019,390.607 \"/>\n",
       "<path clip-path=\"url(#clip650)\" d=\"M121.177 1472.25 Q117.566 1472.25 115.737 1475.81 Q113.932 1479.35 113.932 1486.48 Q113.932 1493.59 115.737 1497.15 Q117.566 1500.7 121.177 1500.7 Q124.811 1500.7 126.617 1497.15 Q128.445 1493.59 128.445 1486.48 Q128.445 1479.35 126.617 1475.81 Q124.811 1472.25 121.177 1472.25 M121.177 1468.54 Q126.987 1468.54 130.043 1473.15 Q133.121 1477.73 133.121 1486.48 Q133.121 1495.21 130.043 1499.82 Q126.987 1504.4 121.177 1504.4 Q115.367 1504.4 112.288 1499.82 Q109.233 1495.21 109.233 1486.48 Q109.233 1477.73 112.288 1473.15 Q115.367 1468.54 121.177 1468.54 Z\" fill=\"#000000\" fill-rule=\"nonzero\" fill-opacity=\"1\" /><path clip-path=\"url(#clip650)\" d=\"M81.0614 1103.89 L99.4178 1103.89 L99.4178 1107.82 L85.3438 1107.82 L85.3438 1116.3 Q86.3623 1115.95 87.3808 1115.79 Q88.3993 1115.6 89.4178 1115.6 Q95.2049 1115.6 98.5845 1118.77 Q101.964 1121.94 101.964 1127.36 Q101.964 1132.94 98.4919 1136.04 Q95.0197 1139.12 88.7003 1139.12 Q86.5243 1139.12 84.2558 1138.75 Q82.0105 1138.38 79.6031 1137.64 L79.6031 1132.94 Q81.6864 1134.07 83.9086 1134.63 Q86.1308 1135.18 88.6077 1135.18 Q92.6123 1135.18 94.9502 1133.08 Q97.2882 1130.97 97.2882 1127.36 Q97.2882 1123.75 94.9502 1121.64 Q92.6123 1119.54 88.6077 1119.54 Q86.7327 1119.54 84.8577 1119.95 Q83.0058 1120.37 81.0614 1121.25 L81.0614 1103.89 Z\" fill=\"#000000\" fill-rule=\"nonzero\" fill-opacity=\"1\" /><path clip-path=\"url(#clip650)\" d=\"M121.177 1106.97 Q117.566 1106.97 115.737 1110.53 Q113.932 1114.07 113.932 1121.2 Q113.932 1128.31 115.737 1131.87 Q117.566 1135.42 121.177 1135.42 Q124.811 1135.42 126.617 1131.87 Q128.445 1128.31 128.445 1121.2 Q128.445 1114.07 126.617 1110.53 Q124.811 1106.97 121.177 1106.97 M121.177 1103.26 Q126.987 1103.26 130.043 1107.87 Q133.121 1112.45 133.121 1121.2 Q133.121 1129.93 130.043 1134.54 Q126.987 1139.12 121.177 1139.12 Q115.367 1139.12 112.288 1134.54 Q109.233 1129.93 109.233 1121.2 Q109.233 1112.45 112.288 1107.87 Q115.367 1103.26 121.177 1103.26 Z\" fill=\"#000000\" fill-rule=\"nonzero\" fill-opacity=\"1\" /><path clip-path=\"url(#clip650)\" d=\"M51.6634 769.232 L59.3023 769.232 L59.3023 742.867 L50.9921 744.533 L50.9921 740.274 L59.256 738.608 L63.9319 738.608 L63.9319 769.232 L71.5707 769.232 L71.5707 773.168 L51.6634 773.168 L51.6634 769.232 Z\" fill=\"#000000\" fill-rule=\"nonzero\" fill-opacity=\"1\" /><path clip-path=\"url(#clip650)\" d=\"M91.0151 741.686 Q87.404 741.686 85.5753 745.251 Q83.7697 748.793 83.7697 755.922 Q83.7697 763.029 85.5753 766.594 Q87.404 770.135 91.0151 770.135 Q94.6493 770.135 96.4548 766.594 Q98.2835 763.029 98.2835 755.922 Q98.2835 748.793 96.4548 745.251 Q94.6493 741.686 91.0151 741.686 M91.0151 737.983 Q96.8252 737.983 99.8808 742.589 Q102.959 747.172 102.959 755.922 Q102.959 764.649 99.8808 769.256 Q96.8252 773.839 91.0151 773.839 Q85.2049 773.839 82.1262 769.256 Q79.0707 764.649 79.0707 755.922 Q79.0707 747.172 82.1262 742.589 Q85.2049 737.983 91.0151 737.983 Z\" fill=\"#000000\" fill-rule=\"nonzero\" fill-opacity=\"1\" /><path clip-path=\"url(#clip650)\" d=\"M121.177 741.686 Q117.566 741.686 115.737 745.251 Q113.932 748.793 113.932 755.922 Q113.932 763.029 115.737 766.594 Q117.566 770.135 121.177 770.135 Q124.811 770.135 126.617 766.594 Q128.445 763.029 128.445 755.922 Q128.445 748.793 126.617 745.251 Q124.811 741.686 121.177 741.686 M121.177 737.983 Q126.987 737.983 130.043 742.589 Q133.121 747.172 133.121 755.922 Q133.121 764.649 130.043 769.256 Q126.987 773.839 121.177 773.839 Q115.367 773.839 112.288 769.256 Q109.233 764.649 109.233 755.922 Q109.233 747.172 112.288 742.589 Q115.367 737.983 121.177 737.983 Z\" fill=\"#000000\" fill-rule=\"nonzero\" fill-opacity=\"1\" /><path clip-path=\"url(#clip650)\" d=\"M51.6634 403.952 L59.3023 403.952 L59.3023 377.587 L50.9921 379.253 L50.9921 374.994 L59.256 373.327 L63.9319 373.327 L63.9319 403.952 L71.5707 403.952 L71.5707 407.887 L51.6634 407.887 L51.6634 403.952 Z\" fill=\"#000000\" fill-rule=\"nonzero\" fill-opacity=\"1\" /><path clip-path=\"url(#clip650)\" d=\"M81.0614 373.327 L99.4178 373.327 L99.4178 377.263 L85.3438 377.263 L85.3438 385.735 Q86.3623 385.388 87.3808 385.226 Q88.3993 385.04 89.4178 385.04 Q95.2049 385.04 98.5845 388.212 Q101.964 391.383 101.964 396.8 Q101.964 402.378 98.4919 405.48 Q95.0197 408.559 88.7003 408.559 Q86.5243 408.559 84.2558 408.188 Q82.0105 407.818 79.6031 407.077 L79.6031 402.378 Q81.6864 403.512 83.9086 404.068 Q86.1308 404.624 88.6077 404.624 Q92.6123 404.624 94.9502 402.517 Q97.2882 400.411 97.2882 396.8 Q97.2882 393.188 94.9502 391.082 Q92.6123 388.975 88.6077 388.975 Q86.7327 388.975 84.8577 389.392 Q83.0058 389.809 81.0614 390.688 L81.0614 373.327 Z\" fill=\"#000000\" fill-rule=\"nonzero\" fill-opacity=\"1\" /><path clip-path=\"url(#clip650)\" d=\"M121.177 376.406 Q117.566 376.406 115.737 379.971 Q113.932 383.513 113.932 390.642 Q113.932 397.749 115.737 401.313 Q117.566 404.855 121.177 404.855 Q124.811 404.855 126.617 401.313 Q128.445 397.749 128.445 390.642 Q128.445 383.513 126.617 379.971 Q124.811 376.406 121.177 376.406 M121.177 372.702 Q126.987 372.702 130.043 377.309 Q133.121 381.892 133.121 390.642 Q133.121 399.369 130.043 403.975 Q126.987 408.559 121.177 408.559 Q115.367 408.559 112.288 403.975 Q109.233 399.369 109.233 390.642 Q109.233 381.892 112.288 377.309 Q115.367 372.702 121.177 372.702 Z\" fill=\"#000000\" fill-rule=\"nonzero\" fill-opacity=\"1\" /><path clip-path=\"url(#clip652)\" d=\"M289.225 1471.84 L289.225 1486.45 L418.787 1486.45 L418.787 1471.84 L289.225 1471.84 L289.225 1471.84  Z\" fill=\"#009af9\" fill-rule=\"evenodd\" fill-opacity=\"1\"/>\n",
       "<polyline clip-path=\"url(#clip652)\" style=\"stroke:#000000; stroke-linecap:round; stroke-linejoin:round; stroke-width:4; stroke-opacity:1; fill:none\" points=\"289.225,1471.84 289.225,1486.45 418.787,1486.45 418.787,1471.84 289.225,1471.84 \"/>\n",
       "<path clip-path=\"url(#clip652)\" d=\"M418.787 1428 L418.787 1486.45 L548.349 1486.45 L548.349 1428 L418.787 1428 L418.787 1428  Z\" fill=\"#009af9\" fill-rule=\"evenodd\" fill-opacity=\"1\"/>\n",
       "<polyline clip-path=\"url(#clip652)\" style=\"stroke:#000000; stroke-linecap:round; stroke-linejoin:round; stroke-width:4; stroke-opacity:1; fill:none\" points=\"418.787,1428 418.787,1486.45 548.349,1486.45 548.349,1428 418.787,1428 \"/>\n",
       "<path clip-path=\"url(#clip652)\" d=\"M548.349 1369.56 L548.349 1486.45 L677.911 1486.45 L677.911 1369.56 L548.349 1369.56 L548.349 1369.56  Z\" fill=\"#009af9\" fill-rule=\"evenodd\" fill-opacity=\"1\"/>\n",
       "<polyline clip-path=\"url(#clip652)\" style=\"stroke:#000000; stroke-linecap:round; stroke-linejoin:round; stroke-width:4; stroke-opacity:1; fill:none\" points=\"548.349,1369.56 548.349,1486.45 677.911,1486.45 677.911,1369.56 548.349,1369.56 \"/>\n",
       "<path clip-path=\"url(#clip652)\" d=\"M677.911 1216.14 L677.911 1486.45 L807.472 1486.45 L807.472 1216.14 L677.911 1216.14 L677.911 1216.14  Z\" fill=\"#009af9\" fill-rule=\"evenodd\" fill-opacity=\"1\"/>\n",
       "<polyline clip-path=\"url(#clip652)\" style=\"stroke:#000000; stroke-linecap:round; stroke-linejoin:round; stroke-width:4; stroke-opacity:1; fill:none\" points=\"677.911,1216.14 677.911,1486.45 807.472,1486.45 807.472,1216.14 677.911,1216.14 \"/>\n",
       "<path clip-path=\"url(#clip652)\" d=\"M807.472 828.944 L807.472 1486.45 L937.034 1486.45 L937.034 828.944 L807.472 828.944 L807.472 828.944  Z\" fill=\"#009af9\" fill-rule=\"evenodd\" fill-opacity=\"1\"/>\n",
       "<polyline clip-path=\"url(#clip652)\" style=\"stroke:#000000; stroke-linecap:round; stroke-linejoin:round; stroke-width:4; stroke-opacity:1; fill:none\" points=\"807.472,828.944 807.472,1486.45 937.034,1486.45 937.034,828.944 807.472,828.944 \"/>\n",
       "<path clip-path=\"url(#clip652)\" d=\"M937.034 368.691 L937.034 1486.45 L1066.6 1486.45 L1066.6 368.691 L937.034 368.691 L937.034 368.691  Z\" fill=\"#009af9\" fill-rule=\"evenodd\" fill-opacity=\"1\"/>\n",
       "<polyline clip-path=\"url(#clip652)\" style=\"stroke:#000000; stroke-linecap:round; stroke-linejoin:round; stroke-width:4; stroke-opacity:1; fill:none\" points=\"937.034,368.691 937.034,1486.45 1066.6,1486.45 1066.6,368.691 937.034,368.691 \"/>\n",
       "<path clip-path=\"url(#clip652)\" d=\"M1066.6 142.217 L1066.6 1486.45 L1196.16 1486.45 L1196.16 142.217 L1066.6 142.217 L1066.6 142.217  Z\" fill=\"#009af9\" fill-rule=\"evenodd\" fill-opacity=\"1\"/>\n",
       "<polyline clip-path=\"url(#clip652)\" style=\"stroke:#000000; stroke-linecap:round; stroke-linejoin:round; stroke-width:4; stroke-opacity:1; fill:none\" points=\"1066.6,142.217 1066.6,1486.45 1196.16,1486.45 1196.16,142.217 1066.6,142.217 \"/>\n",
       "<path clip-path=\"url(#clip652)\" d=\"M1196.16 47.2441 L1196.16 1486.45 L1325.72 1486.45 L1325.72 47.2441 L1196.16 47.2441 L1196.16 47.2441  Z\" fill=\"#009af9\" fill-rule=\"evenodd\" fill-opacity=\"1\"/>\n",
       "<polyline clip-path=\"url(#clip652)\" style=\"stroke:#000000; stroke-linecap:round; stroke-linejoin:round; stroke-width:4; stroke-opacity:1; fill:none\" points=\"1196.16,47.2441 1196.16,1486.45 1325.72,1486.45 1325.72,47.2441 1196.16,47.2441 \"/>\n",
       "<path clip-path=\"url(#clip652)\" d=\"M1325.72 354.079 L1325.72 1486.45 L1455.28 1486.45 L1455.28 354.079 L1325.72 354.079 L1325.72 354.079  Z\" fill=\"#009af9\" fill-rule=\"evenodd\" fill-opacity=\"1\"/>\n",
       "<polyline clip-path=\"url(#clip652)\" style=\"stroke:#000000; stroke-linecap:round; stroke-linejoin:round; stroke-width:4; stroke-opacity:1; fill:none\" points=\"1325.72,354.079 1325.72,1486.45 1455.28,1486.45 1455.28,354.079 1325.72,354.079 \"/>\n",
       "<path clip-path=\"url(#clip652)\" d=\"M1455.28 807.027 L1455.28 1486.45 L1584.84 1486.45 L1584.84 807.027 L1455.28 807.027 L1455.28 807.027  Z\" fill=\"#009af9\" fill-rule=\"evenodd\" fill-opacity=\"1\"/>\n",
       "<polyline clip-path=\"url(#clip652)\" style=\"stroke:#000000; stroke-linecap:round; stroke-linejoin:round; stroke-width:4; stroke-opacity:1; fill:none\" points=\"1455.28,807.027 1455.28,1486.45 1584.84,1486.45 1584.84,807.027 1455.28,807.027 \"/>\n",
       "<path clip-path=\"url(#clip652)\" d=\"M1584.84 1143.08 L1584.84 1486.45 L1714.4 1486.45 L1714.4 1143.08 L1584.84 1143.08 L1584.84 1143.08  Z\" fill=\"#009af9\" fill-rule=\"evenodd\" fill-opacity=\"1\"/>\n",
       "<polyline clip-path=\"url(#clip652)\" style=\"stroke:#000000; stroke-linecap:round; stroke-linejoin:round; stroke-width:4; stroke-opacity:1; fill:none\" points=\"1584.84,1143.08 1584.84,1486.45 1714.4,1486.45 1714.4,1143.08 1584.84,1143.08 \"/>\n",
       "<path clip-path=\"url(#clip652)\" d=\"M1714.4 1428 L1714.4 1486.45 L1843.97 1486.45 L1843.97 1428 L1714.4 1428 L1714.4 1428  Z\" fill=\"#009af9\" fill-rule=\"evenodd\" fill-opacity=\"1\"/>\n",
       "<polyline clip-path=\"url(#clip652)\" style=\"stroke:#000000; stroke-linecap:round; stroke-linejoin:round; stroke-width:4; stroke-opacity:1; fill:none\" points=\"1714.4,1428 1714.4,1486.45 1843.97,1486.45 1843.97,1428 1714.4,1428 \"/>\n",
       "<path clip-path=\"url(#clip652)\" d=\"M1843.97 1449.92 L1843.97 1486.45 L1973.53 1486.45 L1973.53 1449.92 L1843.97 1449.92 L1843.97 1449.92  Z\" fill=\"#009af9\" fill-rule=\"evenodd\" fill-opacity=\"1\"/>\n",
       "<polyline clip-path=\"url(#clip652)\" style=\"stroke:#000000; stroke-linecap:round; stroke-linejoin:round; stroke-width:4; stroke-opacity:1; fill:none\" points=\"1843.97,1449.92 1843.97,1486.45 1973.53,1486.45 1973.53,1449.92 1843.97,1449.92 \"/>\n",
       "<path clip-path=\"url(#clip652)\" d=\"M1973.53 1457.23 L1973.53 1486.45 L2103.09 1486.45 L2103.09 1457.23 L1973.53 1457.23 L1973.53 1457.23  Z\" fill=\"#009af9\" fill-rule=\"evenodd\" fill-opacity=\"1\"/>\n",
       "<polyline clip-path=\"url(#clip652)\" style=\"stroke:#000000; stroke-linecap:round; stroke-linejoin:round; stroke-width:4; stroke-opacity:1; fill:none\" points=\"1973.53,1457.23 1973.53,1486.45 2103.09,1486.45 2103.09,1457.23 1973.53,1457.23 \"/>\n",
       "<path clip-path=\"url(#clip652)\" d=\"M2103.09 1479.14 L2103.09 1486.45 L2232.65 1486.45 L2232.65 1479.14 L2103.09 1479.14 L2103.09 1479.14  Z\" fill=\"#009af9\" fill-rule=\"evenodd\" fill-opacity=\"1\"/>\n",
       "<polyline clip-path=\"url(#clip652)\" style=\"stroke:#000000; stroke-linecap:round; stroke-linejoin:round; stroke-width:4; stroke-opacity:1; fill:none\" points=\"2103.09,1479.14 2103.09,1486.45 2232.65,1486.45 2232.65,1479.14 2103.09,1479.14 \"/>\n",
       "<circle clip-path=\"url(#clip652)\" style=\"fill:#009af9; stroke:none; fill-opacity:0\" cx=\"354.006\" cy=\"1471.84\" r=\"2\"/>\n",
       "<circle clip-path=\"url(#clip652)\" style=\"fill:#009af9; stroke:none; fill-opacity:0\" cx=\"483.568\" cy=\"1428\" r=\"2\"/>\n",
       "<circle clip-path=\"url(#clip652)\" style=\"fill:#009af9; stroke:none; fill-opacity:0\" cx=\"613.13\" cy=\"1369.56\" r=\"2\"/>\n",
       "<circle clip-path=\"url(#clip652)\" style=\"fill:#009af9; stroke:none; fill-opacity:0\" cx=\"742.691\" cy=\"1216.14\" r=\"2\"/>\n",
       "<circle clip-path=\"url(#clip652)\" style=\"fill:#009af9; stroke:none; fill-opacity:0\" cx=\"872.253\" cy=\"828.944\" r=\"2\"/>\n",
       "<circle clip-path=\"url(#clip652)\" style=\"fill:#009af9; stroke:none; fill-opacity:0\" cx=\"1001.82\" cy=\"368.691\" r=\"2\"/>\n",
       "<circle clip-path=\"url(#clip652)\" style=\"fill:#009af9; stroke:none; fill-opacity:0\" cx=\"1131.38\" cy=\"142.217\" r=\"2\"/>\n",
       "<circle clip-path=\"url(#clip652)\" style=\"fill:#009af9; stroke:none; fill-opacity:0\" cx=\"1260.94\" cy=\"47.2441\" r=\"2\"/>\n",
       "<circle clip-path=\"url(#clip652)\" style=\"fill:#009af9; stroke:none; fill-opacity:0\" cx=\"1390.5\" cy=\"354.079\" r=\"2\"/>\n",
       "<circle clip-path=\"url(#clip652)\" style=\"fill:#009af9; stroke:none; fill-opacity:0\" cx=\"1520.06\" cy=\"807.027\" r=\"2\"/>\n",
       "<circle clip-path=\"url(#clip652)\" style=\"fill:#009af9; stroke:none; fill-opacity:0\" cx=\"1649.62\" cy=\"1143.08\" r=\"2\"/>\n",
       "<circle clip-path=\"url(#clip652)\" style=\"fill:#009af9; stroke:none; fill-opacity:0\" cx=\"1779.19\" cy=\"1428\" r=\"2\"/>\n",
       "<circle clip-path=\"url(#clip652)\" style=\"fill:#009af9; stroke:none; fill-opacity:0\" cx=\"1908.75\" cy=\"1449.92\" r=\"2\"/>\n",
       "<circle clip-path=\"url(#clip652)\" style=\"fill:#009af9; stroke:none; fill-opacity:0\" cx=\"2038.31\" cy=\"1457.23\" r=\"2\"/>\n",
       "<circle clip-path=\"url(#clip652)\" style=\"fill:#009af9; stroke:none; fill-opacity:0\" cx=\"2167.87\" cy=\"1479.14\" r=\"2\"/>\n",
       "<path clip-path=\"url(#clip652)\" d=\"M232.473 1486.44 L238.747 1486.44 L245.021 1486.44 L303.034 1486.44 L361.048 1486.43 L395.911 1486.42 L430.775 1486.41 L460.251 1486.4 L489.728 1486.38 L505.738 1486.36 L521.748 1486.35 L537.758 1486.33 L553.768 1486.31 L568.528 1486.29 L583.287 1486.27 L598.047 1486.24 L612.807 1486.22 L628.631 1486.18 L644.455 1486.15 L660.279 1486.1 L676.103 1486.06 L694.437 1486 L712.771 1485.94 L731.104 1485.87 L749.438 1485.79 L765.731 1485.71 L782.024 1485.64 L798.316 1485.55 L814.609 1485.46 L828.897 1485.38 L843.184 1485.3 L857.471 1485.21 L871.759 1485.12 L902.913 1484.91 L934.067 1484.7 L965.406 1484.49 L996.745 1484.28 L1005.41 1484.23 L1014.07 1484.17 L1022.73 1484.12 L1031.39 1484.07 L1040.06 1484.02 L1048.72 1483.97 L1057.38 1483.92 L1066.04 1483.88 L1074.29 1483.84 L1082.53 1483.8 L1090.77 1483.76 L1099.01 1483.73 L1107.25 1483.7 L1115.5 1483.67 L1123.74 1483.64 L1131.98 1483.62 L1140.55 1483.6 L1149.12 1483.58 L1157.69 1483.57 L1166.26 1483.55 L1174.83 1483.54 L1183.4 1483.54 L1191.97 1483.53 L1200.54 1483.53 L1207.75 1483.54 L1214.97 1483.54 L1222.18 1483.55 L1229.4 1483.56 L1236.61 1483.57 L1243.82 1483.58 L1251.04 1483.6 L1258.25 1483.62 L1267.06 1483.64 L1275.87 1483.67 L1284.67 1483.7 L1293.48 1483.73 L1302.29 1483.77 L1311.1 1483.81 L1319.9 1483.85 L1328.71 1483.89 L1344.85 1483.98 L1360.98 1484.07 L1369.05 1484.11 L1377.12 1484.16 L1385.19 1484.21 L1393.26 1484.27 L1423.06 1484.46 L1452.87 1484.66 L1483.06 1484.87 L1513.25 1485.07 L1530.17 1485.18 L1547.09 1485.28 L1564.01 1485.38 L1580.93 1485.48 L1596.26 1485.56 L1611.59 1485.64 L1626.92 1485.72 L1642.25 1485.79 L1659.81 1485.86 L1677.36 1485.93 L1694.91 1485.99 L1712.47 1486.05 L1728.72 1486.1 L1744.97 1486.14 L1761.22 1486.18 L1777.48 1486.21 L1793.5 1486.24 L1809.52 1486.27 L1825.55 1486.3 L1841.57 1486.32 L1857.13 1486.34 L1872.68 1486.35 L1888.24 1486.37 L1903.8 1486.38 L1935.7 1486.4 L1967.59 1486.41 L2002.54 1486.42 L2037.48 1486.43 L2088.25 1486.44 L2139.01 1486.44 L2149.43 1486.44 L2159.84 1486.44 L2159.84 1486.45 L2149.43 1486.45 L2139.01 1486.45 L2088.25 1486.45 L2037.48 1486.45 L2002.54 1486.45 L1967.59 1486.45 L1935.7 1486.45 L1903.8 1486.45 L1888.24 1486.45 L1872.68 1486.45 L1857.13 1486.45 L1841.57 1486.45 L1825.55 1486.45 L1809.52 1486.45 L1793.5 1486.45 L1777.48 1486.45 L1761.22 1486.45 L1744.97 1486.45 L1728.72 1486.45 L1712.47 1486.45 L1694.91 1486.45 L1677.36 1486.45 L1659.81 1486.45 L1642.25 1486.45 L1626.92 1486.45 L1611.59 1486.45 L1596.26 1486.45 L1580.93 1486.45 L1564.01 1486.45 L1547.09 1486.45 L1530.17 1486.45 L1513.25 1486.45 L1483.06 1486.45 L1452.87 1486.45 L1423.06 1486.45 L1393.26 1486.45 L1385.19 1486.45 L1377.12 1486.45 L1369.05 1486.45 L1360.98 1486.45 L1344.85 1486.45 L1328.71 1486.45 L1319.9 1486.45 L1311.1 1486.45 L1302.29 1486.45 L1293.48 1486.45 L1284.67 1486.45 L1275.87 1486.45 L1267.06 1486.45 L1258.25 1486.45 L1251.04 1486.45 L1243.82 1486.45 L1236.61 1486.45 L1229.4 1486.45 L1222.18 1486.45 L1214.97 1486.45 L1207.75 1486.45 L1200.54 1486.45 L1191.97 1486.45 L1183.4 1486.45 L1174.83 1486.45 L1166.26 1486.45 L1157.69 1486.45 L1149.12 1486.45 L1140.55 1486.45 L1131.98 1486.45 L1123.74 1486.45 L1115.5 1486.45 L1107.25 1486.45 L1099.01 1486.45 L1090.77 1486.45 L1082.53 1486.45 L1074.29 1486.45 L1066.04 1486.45 L1057.38 1486.45 L1048.72 1486.45 L1040.06 1486.45 L1031.39 1486.45 L1022.73 1486.45 L1014.07 1486.45 L1005.41 1486.45 L996.745 1486.45 L965.406 1486.45 L934.067 1486.45 L902.913 1486.45 L871.759 1486.45 L857.471 1486.45 L843.184 1486.45 L828.897 1486.45 L814.609 1486.45 L798.316 1486.45 L782.024 1486.45 L765.731 1486.45 L749.438 1486.45 L731.104 1486.45 L712.771 1486.45 L694.437 1486.45 L676.103 1486.45 L660.279 1486.45 L644.455 1486.45 L628.631 1486.45 L612.807 1486.45 L598.047 1486.45 L583.287 1486.45 L568.528 1486.45 L553.768 1486.45 L537.758 1486.45 L521.748 1486.45 L505.738 1486.45 L489.728 1486.45 L460.251 1486.45 L430.775 1486.45 L395.911 1486.45 L361.048 1486.45 L303.034 1486.45 L245.021 1486.45 L238.747 1486.45 L232.473 1486.45  Z\" fill=\"#ffa500\" fill-rule=\"evenodd\" fill-opacity=\"0.5\"/>\n",
       "<polyline clip-path=\"url(#clip652)\" style=\"stroke:#e26f46; stroke-linecap:round; stroke-linejoin:round; stroke-width:4; stroke-opacity:1; fill:none\" points=\"232.473,1486.44 238.747,1486.44 245.021,1486.44 303.034,1486.44 361.048,1486.43 395.911,1486.42 430.775,1486.41 460.251,1486.4 489.728,1486.38 505.738,1486.36 521.748,1486.35 537.758,1486.33 553.768,1486.31 568.528,1486.29 583.287,1486.27 598.047,1486.24 612.807,1486.22 628.631,1486.18 644.455,1486.15 660.279,1486.1 676.103,1486.06 694.437,1486 712.771,1485.94 731.104,1485.87 749.438,1485.79 765.731,1485.71 782.024,1485.64 798.316,1485.55 814.609,1485.46 828.897,1485.38 843.184,1485.3 857.471,1485.21 871.759,1485.12 902.913,1484.91 934.067,1484.7 965.406,1484.49 996.745,1484.28 1005.41,1484.23 1014.07,1484.17 1022.73,1484.12 1031.39,1484.07 1040.06,1484.02 1048.72,1483.97 1057.38,1483.92 1066.04,1483.88 1074.29,1483.84 1082.53,1483.8 1090.77,1483.76 1099.01,1483.73 1107.25,1483.7 1115.5,1483.67 1123.74,1483.64 1131.98,1483.62 1140.55,1483.6 1149.12,1483.58 1157.69,1483.57 1166.26,1483.55 1174.83,1483.54 1183.4,1483.54 1191.97,1483.53 1200.54,1483.53 1207.75,1483.54 1214.97,1483.54 1222.18,1483.55 1229.4,1483.56 1236.61,1483.57 1243.82,1483.58 1251.04,1483.6 1258.25,1483.62 1267.06,1483.64 1275.87,1483.67 1284.67,1483.7 1293.48,1483.73 1302.29,1483.77 1311.1,1483.81 1319.9,1483.85 1328.71,1483.89 1344.85,1483.98 1360.98,1484.07 1369.05,1484.11 1377.12,1484.16 1385.19,1484.21 1393.26,1484.27 1423.06,1484.46 1452.87,1484.66 1483.06,1484.87 1513.25,1485.07 1530.17,1485.18 1547.09,1485.28 1564.01,1485.38 1580.93,1485.48 1596.26,1485.56 1611.59,1485.64 1626.92,1485.72 1642.25,1485.79 1659.81,1485.86 1677.36,1485.93 1694.91,1485.99 1712.47,1486.05 1728.72,1486.1 1744.97,1486.14 1761.22,1486.18 1777.48,1486.21 1793.5,1486.24 1809.52,1486.27 1825.55,1486.3 1841.57,1486.32 1857.13,1486.34 1872.68,1486.35 1888.24,1486.37 1903.8,1486.38 1935.7,1486.4 1967.59,1486.41 2002.54,1486.42 2037.48,1486.43 2088.25,1486.44 2139.01,1486.44 2149.43,1486.44 2159.84,1486.44 \"/>\n",
       "<path clip-path=\"url(#clip650)\" d=\"M1540.45 250.738 L2279.97 250.738 L2279.97 95.2176 L1540.45 95.2176  Z\" fill=\"#ffffff\" fill-rule=\"evenodd\" fill-opacity=\"1\"/>\n",
       "<polyline clip-path=\"url(#clip650)\" style=\"stroke:#000000; stroke-linecap:round; stroke-linejoin:round; stroke-width:4; stroke-opacity:1; fill:none\" points=\"1540.45,250.738 2279.97,250.738 2279.97,95.2176 1540.45,95.2176 1540.45,250.738 \"/>\n",
       "<path clip-path=\"url(#clip650)\" d=\"M1564.71 167.794 L1710.29 167.794 L1710.29 126.322 L1564.71 126.322 L1564.71 167.794  Z\" fill=\"#009af9\" fill-rule=\"evenodd\" fill-opacity=\"1\"/>\n",
       "<polyline clip-path=\"url(#clip650)\" style=\"stroke:#000000; stroke-linecap:round; stroke-linejoin:round; stroke-width:4; stroke-opacity:1; fill:none\" points=\"1564.71,167.794 1710.29,167.794 1710.29,126.322 1564.71,126.322 1564.71,167.794 \"/>\n",
       "<path clip-path=\"url(#clip650)\" d=\"M1734.55 129.778 L1740.85 129.778 L1756.17 158.689 L1756.17 129.778 L1760.71 129.778 L1760.71 164.338 L1754.41 164.338 L1739.09 135.426 L1739.09 164.338 L1734.55 164.338 L1734.55 129.778 Z\" fill=\"#000000\" fill-rule=\"nonzero\" fill-opacity=\"1\" /><path clip-path=\"url(#clip650)\" d=\"M1779.87 141.398 Q1776.45 141.398 1774.46 144.083 Q1772.47 146.745 1772.47 151.398 Q1772.47 156.051 1774.43 158.736 Q1776.43 161.398 1779.87 161.398 Q1783.28 161.398 1785.27 158.713 Q1787.26 156.027 1787.26 151.398 Q1787.26 146.791 1785.27 144.106 Q1783.28 141.398 1779.87 141.398 M1779.87 137.787 Q1785.43 137.787 1788.6 141.398 Q1791.77 145.009 1791.77 151.398 Q1791.77 157.764 1788.6 161.398 Q1785.43 165.009 1779.87 165.009 Q1774.3 165.009 1771.12 161.398 Q1767.98 157.764 1767.98 151.398 Q1767.98 145.009 1771.12 141.398 Q1774.3 137.787 1779.87 137.787 Z\" fill=\"#000000\" fill-rule=\"nonzero\" fill-opacity=\"1\" /><path clip-path=\"url(#clip650)\" d=\"M1813.86 142.393 Q1813.14 141.977 1812.28 141.791 Q1811.45 141.583 1810.43 141.583 Q1806.82 141.583 1804.87 143.944 Q1802.95 146.282 1802.95 150.68 L1802.95 164.338 L1798.67 164.338 L1798.67 138.412 L1802.95 138.412 L1802.95 142.44 Q1804.3 140.078 1806.45 138.944 Q1808.6 137.787 1811.68 137.787 Q1812.12 137.787 1812.65 137.856 Q1813.18 137.903 1813.83 138.018 L1813.86 142.393 Z\" fill=\"#000000\" fill-rule=\"nonzero\" fill-opacity=\"1\" /><path clip-path=\"url(#clip650)\" d=\"M1837.68 143.389 Q1839.27 140.518 1841.49 139.153 Q1843.72 137.787 1846.73 137.787 Q1850.78 137.787 1852.98 140.634 Q1855.18 143.458 1855.18 148.689 L1855.18 164.338 L1850.89 164.338 L1850.89 148.828 Q1850.89 145.102 1849.57 143.296 Q1848.25 141.49 1845.55 141.49 Q1842.24 141.49 1840.31 143.69 Q1838.39 145.889 1838.39 149.685 L1838.39 164.338 L1834.11 164.338 L1834.11 148.828 Q1834.11 145.078 1832.79 143.296 Q1831.47 141.49 1828.72 141.49 Q1825.45 141.49 1823.53 143.713 Q1821.61 145.912 1821.61 149.685 L1821.61 164.338 L1817.33 164.338 L1817.33 138.412 L1821.61 138.412 L1821.61 142.44 Q1823.07 140.055 1825.11 138.921 Q1827.14 137.787 1829.94 137.787 Q1832.77 137.787 1834.74 139.222 Q1836.73 140.657 1837.68 143.389 Z\" fill=\"#000000\" fill-rule=\"nonzero\" fill-opacity=\"1\" /><path clip-path=\"url(#clip650)\" d=\"M1875.45 151.305 Q1870.29 151.305 1868.3 152.486 Q1866.31 153.666 1866.31 156.514 Q1866.31 158.782 1867.79 160.125 Q1869.3 161.444 1871.86 161.444 Q1875.41 161.444 1877.54 158.944 Q1879.69 156.421 1879.69 152.254 L1879.69 151.305 L1875.45 151.305 M1883.95 149.546 L1883.95 164.338 L1879.69 164.338 L1879.69 160.402 Q1878.23 162.763 1876.05 163.898 Q1873.88 165.009 1870.73 165.009 Q1866.75 165.009 1864.39 162.787 Q1862.05 160.541 1862.05 156.791 Q1862.05 152.416 1864.97 150.194 Q1867.91 147.972 1873.72 147.972 L1879.69 147.972 L1879.69 147.555 Q1879.69 144.615 1877.74 143.018 Q1875.82 141.398 1872.33 141.398 Q1870.11 141.398 1868 141.93 Q1865.89 142.463 1863.95 143.527 L1863.95 139.592 Q1866.29 138.69 1868.49 138.25 Q1870.68 137.787 1872.77 137.787 Q1878.39 137.787 1881.17 140.703 Q1883.95 143.62 1883.95 149.546 Z\" fill=\"#000000\" fill-rule=\"nonzero\" fill-opacity=\"1\" /><path clip-path=\"url(#clip650)\" d=\"M1892.72 128.319 L1896.98 128.319 L1896.98 164.338 L1892.72 164.338 L1892.72 128.319 Z\" fill=\"#000000\" fill-rule=\"nonzero\" fill-opacity=\"1\" /><path clip-path=\"url(#clip650)\" d=\"M1905.89 138.412 L1910.15 138.412 L1910.15 164.338 L1905.89 164.338 L1905.89 138.412 M1905.89 128.319 L1910.15 128.319 L1910.15 133.713 L1905.89 133.713 L1905.89 128.319 Z\" fill=\"#000000\" fill-rule=\"nonzero\" fill-opacity=\"1\" /><path clip-path=\"url(#clip650)\" d=\"M1917.21 138.412 L1937.44 138.412 L1937.44 142.301 L1921.42 160.935 L1937.44 160.935 L1937.44 164.338 L1916.63 164.338 L1916.63 160.449 L1932.65 141.815 L1917.21 141.815 L1917.21 138.412 Z\" fill=\"#000000\" fill-rule=\"nonzero\" fill-opacity=\"1\" /><path clip-path=\"url(#clip650)\" d=\"M1966.12 150.31 L1966.12 152.393 L1946.54 152.393 Q1946.82 156.791 1949.18 159.106 Q1951.56 161.398 1955.8 161.398 Q1958.25 161.398 1960.55 160.796 Q1962.86 160.194 1965.13 158.99 L1965.13 163.018 Q1962.84 163.99 1960.43 164.5 Q1958.02 165.009 1955.55 165.009 Q1949.34 165.009 1945.71 161.398 Q1942.1 157.787 1942.1 151.629 Q1942.1 145.264 1945.52 141.537 Q1948.97 137.787 1954.8 137.787 Q1960.04 137.787 1963.07 141.166 Q1966.12 144.523 1966.12 150.31 M1961.86 149.06 Q1961.82 145.565 1959.9 143.481 Q1958 141.398 1954.85 141.398 Q1951.29 141.398 1949.13 143.412 Q1947 145.426 1946.68 149.083 L1961.86 149.06 Z\" fill=\"#000000\" fill-rule=\"nonzero\" fill-opacity=\"1\" /><path clip-path=\"url(#clip650)\" d=\"M1990.17 142.347 L1990.17 128.319 L1994.43 128.319 L1994.43 164.338 L1990.17 164.338 L1990.17 160.449 Q1988.83 162.763 1986.77 163.898 Q1984.73 165.009 1981.86 165.009 Q1977.17 165.009 1974.2 161.259 Q1971.26 157.509 1971.26 151.398 Q1971.26 145.287 1974.2 141.537 Q1977.17 137.787 1981.86 137.787 Q1984.73 137.787 1986.77 138.921 Q1988.83 140.032 1990.17 142.347 M1975.66 151.398 Q1975.66 156.097 1977.58 158.782 Q1979.53 161.444 1982.91 161.444 Q1986.29 161.444 1988.23 158.782 Q1990.17 156.097 1990.17 151.398 Q1990.17 146.699 1988.23 144.037 Q1986.29 141.352 1982.91 141.352 Q1979.53 141.352 1977.58 144.037 Q1975.66 146.699 1975.66 151.398 Z\" fill=\"#000000\" fill-rule=\"nonzero\" fill-opacity=\"1\" /><path clip-path=\"url(#clip650)\" d=\"M2018.46 129.778 L2023.14 129.778 L2023.14 143.944 L2040.13 143.944 L2040.13 129.778 L2044.8 129.778 L2044.8 164.338 L2040.13 164.338 L2040.13 147.879 L2023.14 147.879 L2023.14 164.338 L2018.46 164.338 L2018.46 129.778 Z\" fill=\"#000000\" fill-rule=\"nonzero\" fill-opacity=\"1\" /><path clip-path=\"url(#clip650)\" d=\"M2053.92 138.412 L2058.18 138.412 L2058.18 164.338 L2053.92 164.338 L2053.92 138.412 M2053.92 128.319 L2058.18 128.319 L2058.18 133.713 L2053.92 133.713 L2053.92 128.319 Z\" fill=\"#000000\" fill-rule=\"nonzero\" fill-opacity=\"1\" /><path clip-path=\"url(#clip650)\" d=\"M2083.62 139.176 L2083.62 143.203 Q2081.82 142.277 2079.87 141.815 Q2077.93 141.352 2075.85 141.352 Q2072.67 141.352 2071.08 142.324 Q2069.5 143.296 2069.5 145.24 Q2069.5 146.722 2070.64 147.578 Q2071.77 148.412 2075.2 149.176 L2076.66 149.5 Q2081.19 150.472 2083.09 152.254 Q2085.01 154.014 2085.01 157.185 Q2085.01 160.796 2082.14 162.902 Q2079.29 165.009 2074.29 165.009 Q2072.21 165.009 2069.94 164.592 Q2067.7 164.199 2065.2 163.388 L2065.2 158.99 Q2067.56 160.217 2069.85 160.842 Q2072.14 161.444 2074.39 161.444 Q2077.4 161.444 2079.02 160.426 Q2080.64 159.384 2080.64 157.509 Q2080.64 155.773 2079.46 154.847 Q2078.3 153.921 2074.34 153.064 L2072.86 152.717 Q2068.9 151.884 2067.14 150.171 Q2065.38 148.435 2065.38 145.426 Q2065.38 141.768 2067.98 139.778 Q2070.57 137.787 2075.34 137.787 Q2077.7 137.787 2079.78 138.134 Q2081.86 138.481 2083.62 139.176 Z\" fill=\"#000000\" fill-rule=\"nonzero\" fill-opacity=\"1\" /><path clip-path=\"url(#clip650)\" d=\"M2096.01 131.051 L2096.01 138.412 L2104.78 138.412 L2104.78 141.722 L2096.01 141.722 L2096.01 155.796 Q2096.01 158.967 2096.86 159.87 Q2097.74 160.773 2100.41 160.773 L2104.78 160.773 L2104.78 164.338 L2100.41 164.338 Q2095.47 164.338 2093.6 162.509 Q2091.72 160.657 2091.72 155.796 L2091.72 141.722 L2088.6 141.722 L2088.6 138.412 L2091.72 138.412 L2091.72 131.051 L2096.01 131.051 Z\" fill=\"#000000\" fill-rule=\"nonzero\" fill-opacity=\"1\" /><path clip-path=\"url(#clip650)\" d=\"M2120.43 141.398 Q2117 141.398 2115.01 144.083 Q2113.02 146.745 2113.02 151.398 Q2113.02 156.051 2114.99 158.736 Q2116.98 161.398 2120.43 161.398 Q2123.83 161.398 2125.82 158.713 Q2127.81 156.027 2127.81 151.398 Q2127.81 146.791 2125.82 144.106 Q2123.83 141.398 2120.43 141.398 M2120.43 137.787 Q2125.98 137.787 2129.16 141.398 Q2132.33 145.009 2132.33 151.398 Q2132.33 157.764 2129.16 161.398 Q2125.98 165.009 2120.43 165.009 Q2114.85 165.009 2111.68 161.398 Q2108.53 157.764 2108.53 151.398 Q2108.53 145.009 2111.68 141.398 Q2114.85 137.787 2120.43 137.787 Z\" fill=\"#000000\" fill-rule=\"nonzero\" fill-opacity=\"1\" /><path clip-path=\"url(#clip650)\" d=\"M2156.45 151.074 Q2156.45 146.444 2154.53 143.898 Q2152.63 141.352 2149.18 141.352 Q2145.75 141.352 2143.83 143.898 Q2141.93 146.444 2141.93 151.074 Q2141.93 155.68 2143.83 158.226 Q2145.75 160.773 2149.18 160.773 Q2152.63 160.773 2154.53 158.226 Q2156.45 155.68 2156.45 151.074 M2160.71 161.12 Q2160.71 167.74 2157.77 170.958 Q2154.83 174.199 2148.76 174.199 Q2146.52 174.199 2144.53 173.851 Q2142.53 173.527 2140.66 172.833 L2140.66 168.689 Q2142.53 169.708 2144.36 170.194 Q2146.19 170.68 2148.09 170.68 Q2152.28 170.68 2154.36 168.481 Q2156.45 166.305 2156.45 161.884 L2156.45 159.777 Q2155.13 162.069 2153.07 163.203 Q2151.01 164.338 2148.14 164.338 Q2143.37 164.338 2140.45 160.703 Q2137.53 157.069 2137.53 151.074 Q2137.53 145.055 2140.45 141.421 Q2143.37 137.787 2148.14 137.787 Q2151.01 137.787 2153.07 138.921 Q2155.13 140.055 2156.45 142.347 L2156.45 138.412 L2160.71 138.412 L2160.71 161.12 Z\" fill=\"#000000\" fill-rule=\"nonzero\" fill-opacity=\"1\" /><path clip-path=\"url(#clip650)\" d=\"M2184.5 142.393 Q2183.78 141.977 2182.93 141.791 Q2182.09 141.583 2181.08 141.583 Q2177.47 141.583 2175.52 143.944 Q2173.6 146.282 2173.6 150.68 L2173.6 164.338 L2169.32 164.338 L2169.32 138.412 L2173.6 138.412 L2173.6 142.44 Q2174.94 140.078 2177.09 138.944 Q2179.25 137.787 2182.33 137.787 Q2182.77 137.787 2183.3 137.856 Q2183.83 137.903 2184.48 138.018 L2184.5 142.393 Z\" fill=\"#000000\" fill-rule=\"nonzero\" fill-opacity=\"1\" /><path clip-path=\"url(#clip650)\" d=\"M2200.75 151.305 Q2195.59 151.305 2193.6 152.486 Q2191.61 153.666 2191.61 156.514 Q2191.61 158.782 2193.09 160.125 Q2194.59 161.444 2197.16 161.444 Q2200.71 161.444 2202.84 158.944 Q2204.99 156.421 2204.99 152.254 L2204.99 151.305 L2200.75 151.305 M2209.25 149.546 L2209.25 164.338 L2204.99 164.338 L2204.99 160.402 Q2203.53 162.763 2201.35 163.898 Q2199.18 165.009 2196.03 165.009 Q2192.05 165.009 2189.69 162.787 Q2187.35 160.541 2187.35 156.791 Q2187.35 152.416 2190.27 150.194 Q2193.21 147.972 2199.02 147.972 L2204.99 147.972 L2204.99 147.555 Q2204.99 144.615 2203.04 143.018 Q2201.12 141.398 2197.63 141.398 Q2195.4 141.398 2193.3 141.93 Q2191.19 142.463 2189.25 143.527 L2189.25 139.592 Q2191.59 138.69 2193.78 138.25 Q2195.98 137.787 2198.07 137.787 Q2203.69 137.787 2206.47 140.703 Q2209.25 143.62 2209.25 149.546 Z\" fill=\"#000000\" fill-rule=\"nonzero\" fill-opacity=\"1\" /><path clip-path=\"url(#clip650)\" d=\"M2238.21 143.389 Q2239.8 140.518 2242.02 139.153 Q2244.25 137.787 2247.26 137.787 Q2251.31 137.787 2253.51 140.634 Q2255.71 143.458 2255.71 148.689 L2255.71 164.338 L2251.42 164.338 L2251.42 148.828 Q2251.42 145.102 2250.1 143.296 Q2248.78 141.49 2246.08 141.49 Q2242.77 141.49 2240.84 143.69 Q2238.92 145.889 2238.92 149.685 L2238.92 164.338 L2234.64 164.338 L2234.64 148.828 Q2234.64 145.078 2233.32 143.296 Q2232 141.49 2229.25 141.49 Q2225.98 141.49 2224.06 143.713 Q2222.14 145.912 2222.14 149.685 L2222.14 164.338 L2217.86 164.338 L2217.86 138.412 L2222.14 138.412 L2222.14 142.44 Q2223.6 140.055 2225.64 138.921 Q2227.67 137.787 2230.47 137.787 Q2233.3 137.787 2235.27 139.222 Q2237.26 140.657 2238.21 143.389 Z\" fill=\"#000000\" fill-rule=\"nonzero\" fill-opacity=\"1\" /><path clip-path=\"url(#clip650)\" d=\"M1564.71 219.634 L1710.29 219.634 L1710.29 178.162 L1564.71 178.162 L1564.71 219.634  Z\" fill=\"#ffa500\" fill-rule=\"evenodd\" fill-opacity=\"0.5\"/>\n",
       "<polyline clip-path=\"url(#clip650)\" style=\"stroke:#e26f46; stroke-linecap:round; stroke-linejoin:round; stroke-width:4; stroke-opacity:1; fill:none\" points=\"1564.71,178.162 1710.29,178.162 \"/>\n",
       "<path clip-path=\"url(#clip650)\" d=\"M1756.8 182.752 L1756.8 187.312 Q1754.13 186.039 1751.77 185.414 Q1749.41 184.789 1747.21 184.789 Q1743.39 184.789 1741.31 186.27 Q1739.25 187.752 1739.25 190.483 Q1739.25 192.775 1740.62 193.955 Q1742 195.113 1745.85 195.83 L1748.67 196.409 Q1753.9 197.405 1756.38 199.928 Q1758.88 202.428 1758.88 206.641 Q1758.88 211.664 1755.5 214.256 Q1752.14 216.849 1745.64 216.849 Q1743.19 216.849 1740.41 216.293 Q1737.65 215.738 1734.69 214.65 L1734.69 209.835 Q1737.54 211.432 1740.27 212.242 Q1743 213.053 1745.64 213.053 Q1749.64 213.053 1751.82 211.479 Q1754 209.904 1754 206.988 Q1754 204.442 1752.42 203.006 Q1750.87 201.571 1747.31 200.854 L1744.46 200.298 Q1739.23 199.256 1736.89 197.034 Q1734.55 194.812 1734.55 190.854 Q1734.55 186.27 1737.77 183.631 Q1741.01 180.993 1746.68 180.993 Q1749.11 180.993 1751.63 181.432 Q1754.16 181.872 1756.8 182.752 Z\" fill=\"#000000\" fill-rule=\"nonzero\" fill-opacity=\"1\" /><path clip-path=\"url(#clip650)\" d=\"M1770.2 182.891 L1770.2 190.252 L1778.97 190.252 L1778.97 193.562 L1770.2 193.562 L1770.2 207.636 Q1770.2 210.807 1771.06 211.71 Q1771.93 212.613 1774.6 212.613 L1778.97 212.613 L1778.97 216.178 L1774.6 216.178 Q1769.67 216.178 1767.79 214.349 Q1765.92 212.497 1765.92 207.636 L1765.92 193.562 L1762.79 193.562 L1762.79 190.252 L1765.92 190.252 L1765.92 182.891 L1770.2 182.891 Z\" fill=\"#000000\" fill-rule=\"nonzero\" fill-opacity=\"1\" /><path clip-path=\"url(#clip650)\" d=\"M1796.36 203.145 Q1791.19 203.145 1789.2 204.326 Q1787.21 205.506 1787.21 208.354 Q1787.21 210.622 1788.69 211.965 Q1790.2 213.284 1792.77 213.284 Q1796.31 213.284 1798.44 210.784 Q1800.59 208.261 1800.59 204.094 L1800.59 203.145 L1796.36 203.145 M1804.85 201.386 L1804.85 216.178 L1800.59 216.178 L1800.59 212.242 Q1799.13 214.603 1796.96 215.738 Q1794.78 216.849 1791.63 216.849 Q1787.65 216.849 1785.29 214.627 Q1782.95 212.381 1782.95 208.631 Q1782.95 204.256 1785.87 202.034 Q1788.81 199.812 1794.62 199.812 L1800.59 199.812 L1800.59 199.395 Q1800.59 196.455 1798.65 194.858 Q1796.73 193.238 1793.23 193.238 Q1791.01 193.238 1788.9 193.77 Q1786.8 194.303 1784.85 195.367 L1784.85 191.432 Q1787.19 190.53 1789.39 190.09 Q1791.59 189.627 1793.67 189.627 Q1799.3 189.627 1802.07 192.543 Q1804.85 195.46 1804.85 201.386 Z\" fill=\"#000000\" fill-rule=\"nonzero\" fill-opacity=\"1\" /><path clip-path=\"url(#clip650)\" d=\"M1835.18 200.529 L1835.18 216.178 L1830.92 216.178 L1830.92 200.668 Q1830.92 196.988 1829.48 195.159 Q1828.05 193.33 1825.18 193.33 Q1821.73 193.33 1819.74 195.53 Q1817.74 197.729 1817.74 201.525 L1817.74 216.178 L1813.46 216.178 L1813.46 190.252 L1817.74 190.252 L1817.74 194.28 Q1819.27 191.942 1821.33 190.784 Q1823.42 189.627 1826.12 189.627 Q1830.59 189.627 1832.88 192.405 Q1835.18 195.159 1835.18 200.529 Z\" fill=\"#000000\" fill-rule=\"nonzero\" fill-opacity=\"1\" /><path clip-path=\"url(#clip650)\" d=\"M1860.73 194.187 L1860.73 180.159 L1864.99 180.159 L1864.99 216.178 L1860.73 216.178 L1860.73 212.289 Q1859.39 214.603 1857.33 215.738 Q1855.29 216.849 1852.42 216.849 Q1847.72 216.849 1844.76 213.099 Q1841.82 209.349 1841.82 203.238 Q1841.82 197.127 1844.76 193.377 Q1847.72 189.627 1852.42 189.627 Q1855.29 189.627 1857.33 190.761 Q1859.39 191.872 1860.73 194.187 M1846.22 203.238 Q1846.22 207.937 1848.14 210.622 Q1850.08 213.284 1853.46 213.284 Q1856.84 213.284 1858.79 210.622 Q1860.73 207.937 1860.73 203.238 Q1860.73 198.539 1858.79 195.877 Q1856.84 193.192 1853.46 193.192 Q1850.08 193.192 1848.14 195.877 Q1846.22 198.539 1846.22 203.238 Z\" fill=\"#000000\" fill-rule=\"nonzero\" fill-opacity=\"1\" /><path clip-path=\"url(#clip650)\" d=\"M1885.55 203.145 Q1880.38 203.145 1878.39 204.326 Q1876.4 205.506 1876.4 208.354 Q1876.4 210.622 1877.88 211.965 Q1879.39 213.284 1881.96 213.284 Q1885.5 213.284 1887.63 210.784 Q1889.78 208.261 1889.78 204.094 L1889.78 203.145 L1885.55 203.145 M1894.04 201.386 L1894.04 216.178 L1889.78 216.178 L1889.78 212.242 Q1888.32 214.603 1886.15 215.738 Q1883.97 216.849 1880.82 216.849 Q1876.84 216.849 1874.48 214.627 Q1872.14 212.381 1872.14 208.631 Q1872.14 204.256 1875.06 202.034 Q1878 199.812 1883.81 199.812 L1889.78 199.812 L1889.78 199.395 Q1889.78 196.455 1887.84 194.858 Q1885.92 193.238 1882.42 193.238 Q1880.2 193.238 1878.09 193.77 Q1875.99 194.303 1874.04 195.367 L1874.04 191.432 Q1876.38 190.53 1878.58 190.09 Q1880.78 189.627 1882.86 189.627 Q1888.49 189.627 1891.26 192.543 Q1894.04 195.46 1894.04 201.386 Z\" fill=\"#000000\" fill-rule=\"nonzero\" fill-opacity=\"1\" /><path clip-path=\"url(#clip650)\" d=\"M1917.84 194.233 Q1917.12 193.817 1916.26 193.631 Q1915.43 193.423 1914.41 193.423 Q1910.8 193.423 1908.86 195.784 Q1906.93 198.122 1906.93 202.52 L1906.93 216.178 L1902.65 216.178 L1902.65 190.252 L1906.93 190.252 L1906.93 194.28 Q1908.28 191.918 1910.43 190.784 Q1912.58 189.627 1915.66 189.627 Q1916.1 189.627 1916.63 189.696 Q1917.17 189.743 1917.81 189.858 L1917.84 194.233 Z\" fill=\"#000000\" fill-rule=\"nonzero\" fill-opacity=\"1\" /><path clip-path=\"url(#clip650)\" d=\"M1938.53 194.187 L1938.53 180.159 L1942.79 180.159 L1942.79 216.178 L1938.53 216.178 L1938.53 212.289 Q1937.19 214.603 1935.13 215.738 Q1933.09 216.849 1930.22 216.849 Q1925.52 216.849 1922.56 213.099 Q1919.62 209.349 1919.62 203.238 Q1919.62 197.127 1922.56 193.377 Q1925.52 189.627 1930.22 189.627 Q1933.09 189.627 1935.13 190.761 Q1937.19 191.872 1938.53 194.187 M1924.02 203.238 Q1924.02 207.937 1925.94 210.622 Q1927.88 213.284 1931.26 213.284 Q1934.64 213.284 1936.59 210.622 Q1938.53 207.937 1938.53 203.238 Q1938.53 198.539 1936.59 195.877 Q1934.64 193.192 1931.26 193.192 Q1927.88 193.192 1925.94 195.877 Q1924.02 198.539 1924.02 203.238 Z\" fill=\"#000000\" fill-rule=\"nonzero\" fill-opacity=\"1\" /><path clip-path=\"url(#clip650)\" d=\"M1966.82 181.618 L1973.11 181.618 L1988.44 210.529 L1988.44 181.618 L1992.98 181.618 L1992.98 216.178 L1986.68 216.178 L1971.36 187.266 L1971.36 216.178 L1966.82 216.178 L1966.82 181.618 Z\" fill=\"#000000\" fill-rule=\"nonzero\" fill-opacity=\"1\" /><path clip-path=\"url(#clip650)\" d=\"M2012.14 193.238 Q2008.72 193.238 2006.73 195.923 Q2004.73 198.585 2004.73 203.238 Q2004.73 207.891 2006.7 210.576 Q2008.69 213.238 2012.14 213.238 Q2015.54 213.238 2017.54 210.553 Q2019.53 207.867 2019.53 203.238 Q2019.53 198.631 2017.54 195.946 Q2015.54 193.238 2012.14 193.238 M2012.14 189.627 Q2017.7 189.627 2020.87 193.238 Q2024.04 196.849 2024.04 203.238 Q2024.04 209.604 2020.87 213.238 Q2017.7 216.849 2012.14 216.849 Q2006.56 216.849 2003.39 213.238 Q2000.24 209.604 2000.24 203.238 Q2000.24 196.849 2003.39 193.238 Q2006.56 189.627 2012.14 189.627 Z\" fill=\"#000000\" fill-rule=\"nonzero\" fill-opacity=\"1\" /><path clip-path=\"url(#clip650)\" d=\"M2046.12 194.233 Q2045.41 193.817 2044.55 193.631 Q2043.72 193.423 2042.7 193.423 Q2039.09 193.423 2037.14 195.784 Q2035.22 198.122 2035.22 202.52 L2035.22 216.178 L2030.94 216.178 L2030.94 190.252 L2035.22 190.252 L2035.22 194.28 Q2036.56 191.918 2038.72 190.784 Q2040.87 189.627 2043.95 189.627 Q2044.39 189.627 2044.92 189.696 Q2045.45 189.743 2046.1 189.858 L2046.12 194.233 Z\" fill=\"#000000\" fill-rule=\"nonzero\" fill-opacity=\"1\" /><path clip-path=\"url(#clip650)\" d=\"M2069.94 195.229 Q2071.54 192.358 2073.76 190.993 Q2075.98 189.627 2078.99 189.627 Q2083.04 189.627 2085.24 192.474 Q2087.44 195.298 2087.44 200.529 L2087.44 216.178 L2083.16 216.178 L2083.16 200.668 Q2083.16 196.942 2081.84 195.136 Q2080.52 193.33 2077.81 193.33 Q2074.5 193.33 2072.58 195.53 Q2070.66 197.729 2070.66 201.525 L2070.66 216.178 L2066.38 216.178 L2066.38 200.668 Q2066.38 196.918 2065.06 195.136 Q2063.74 193.33 2060.98 193.33 Q2057.72 193.33 2055.8 195.553 Q2053.88 197.752 2053.88 201.525 L2053.88 216.178 L2049.6 216.178 L2049.6 190.252 L2053.88 190.252 L2053.88 194.28 Q2055.34 191.895 2057.37 190.761 Q2059.41 189.627 2062.21 189.627 Q2065.04 189.627 2067 191.062 Q2068.99 192.497 2069.94 195.229 Z\" fill=\"#000000\" fill-rule=\"nonzero\" fill-opacity=\"1\" /><path clip-path=\"url(#clip650)\" d=\"M2107.72 203.145 Q2102.56 203.145 2100.57 204.326 Q2098.58 205.506 2098.58 208.354 Q2098.58 210.622 2100.06 211.965 Q2101.56 213.284 2104.13 213.284 Q2107.67 213.284 2109.8 210.784 Q2111.96 208.261 2111.96 204.094 L2111.96 203.145 L2107.72 203.145 M2116.22 201.386 L2116.22 216.178 L2111.96 216.178 L2111.96 212.242 Q2110.5 214.603 2108.32 215.738 Q2106.15 216.849 2103 216.849 Q2099.02 216.849 2096.66 214.627 Q2094.32 212.381 2094.32 208.631 Q2094.32 204.256 2097.23 202.034 Q2100.17 199.812 2105.98 199.812 L2111.96 199.812 L2111.96 199.395 Q2111.96 196.455 2110.01 194.858 Q2108.09 193.238 2104.6 193.238 Q2102.37 193.238 2100.27 193.77 Q2098.16 194.303 2096.22 195.367 L2096.22 191.432 Q2098.55 190.53 2100.75 190.09 Q2102.95 189.627 2105.03 189.627 Q2110.66 189.627 2113.44 192.543 Q2116.22 195.46 2116.22 201.386 Z\" fill=\"#000000\" fill-rule=\"nonzero\" fill-opacity=\"1\" /><path clip-path=\"url(#clip650)\" d=\"M2124.99 180.159 L2129.25 180.159 L2129.25 216.178 L2124.99 216.178 L2124.99 180.159 Z\" fill=\"#000000\" fill-rule=\"nonzero\" fill-opacity=\"1\" /><path clip-path=\"url(#clip650)\" d=\"M2158.09 185.46 L2158.09 198.446 L2163.97 198.446 Q2167.23 198.446 2169.02 196.756 Q2170.8 195.067 2170.8 191.942 Q2170.8 188.84 2169.02 187.15 Q2167.23 185.46 2163.97 185.46 L2158.09 185.46 M2153.41 181.618 L2163.97 181.618 Q2169.78 181.618 2172.74 184.256 Q2175.73 186.872 2175.73 191.942 Q2175.73 197.057 2172.74 199.673 Q2169.78 202.289 2163.97 202.289 L2158.09 202.289 L2158.09 216.178 L2153.41 216.178 L2153.41 181.618 Z\" fill=\"#000000\" fill-rule=\"nonzero\" fill-opacity=\"1\" /><path clip-path=\"url(#clip650)\" d=\"M2186.68 185.46 L2186.68 212.335 L2192.33 212.335 Q2199.48 212.335 2202.79 209.094 Q2206.12 205.854 2206.12 198.863 Q2206.12 191.918 2202.79 188.701 Q2199.48 185.46 2192.33 185.46 L2186.68 185.46 M2182 181.618 L2191.61 181.618 Q2201.65 181.618 2206.35 185.807 Q2211.05 189.974 2211.05 198.863 Q2211.05 207.798 2206.33 211.988 Q2201.61 216.178 2191.61 216.178 L2182 216.178 L2182 181.618 Z\" fill=\"#000000\" fill-rule=\"nonzero\" fill-opacity=\"1\" /><path clip-path=\"url(#clip650)\" d=\"M2218.51 181.618 L2238.37 181.618 L2238.37 185.553 L2223.18 185.553 L2223.18 195.738 L2236.89 195.738 L2236.89 199.673 L2223.18 199.673 L2223.18 216.178 L2218.51 216.178 L2218.51 181.618 Z\" fill=\"#000000\" fill-rule=\"nonzero\" fill-opacity=\"1\" /></svg>\n"
      ],
      "text/html": [
       "<?xml version=\"1.0\" encoding=\"utf-8\"?>\n",
       "<svg xmlns=\"http://www.w3.org/2000/svg\" xmlns:xlink=\"http://www.w3.org/1999/xlink\" width=\"600\" height=\"400\" viewBox=\"0 0 2400 1600\">\n",
       "<defs>\n",
       "  <clipPath id=\"clip700\">\n",
       "    <rect x=\"0\" y=\"0\" width=\"2400\" height=\"1600\"/>\n",
       "  </clipPath>\n",
       "</defs>\n",
       "<path clip-path=\"url(#clip700)\" d=\"M0 1600 L2400 1600 L2400 0 L0 0  Z\" fill=\"#ffffff\" fill-rule=\"evenodd\" fill-opacity=\"1\"/>\n",
       "<defs>\n",
       "  <clipPath id=\"clip701\">\n",
       "    <rect x=\"480\" y=\"0\" width=\"1681\" height=\"1600\"/>\n",
       "  </clipPath>\n",
       "</defs>\n",
       "<path clip-path=\"url(#clip700)\" d=\"M169.121 1486.45 L2352.76 1486.45 L2352.76 47.2441 L169.121 47.2441  Z\" fill=\"#ffffff\" fill-rule=\"evenodd\" fill-opacity=\"1\"/>\n",
       "<defs>\n",
       "  <clipPath id=\"clip702\">\n",
       "    <rect x=\"169\" y=\"47\" width=\"2185\" height=\"1440\"/>\n",
       "  </clipPath>\n",
       "</defs>\n",
       "<polyline clip-path=\"url(#clip702)\" style=\"stroke:#000000; stroke-linecap:round; stroke-linejoin:round; stroke-width:2; stroke-opacity:0.1; fill:none\" points=\"677.911,1486.45 677.911,47.2441 \"/>\n",
       "<polyline clip-path=\"url(#clip702)\" style=\"stroke:#000000; stroke-linecap:round; stroke-linejoin:round; stroke-width:2; stroke-opacity:0.1; fill:none\" points=\"1196.16,1486.45 1196.16,47.2441 \"/>\n",
       "<polyline clip-path=\"url(#clip702)\" style=\"stroke:#000000; stroke-linecap:round; stroke-linejoin:round; stroke-width:2; stroke-opacity:0.1; fill:none\" points=\"1714.4,1486.45 1714.4,47.2441 \"/>\n",
       "<polyline clip-path=\"url(#clip702)\" style=\"stroke:#000000; stroke-linecap:round; stroke-linejoin:round; stroke-width:2; stroke-opacity:0.1; fill:none\" points=\"2232.65,1486.45 2232.65,47.2441 \"/>\n",
       "<polyline clip-path=\"url(#clip700)\" style=\"stroke:#000000; stroke-linecap:round; stroke-linejoin:round; stroke-width:4; stroke-opacity:1; fill:none\" points=\"169.121,1486.45 2352.76,1486.45 \"/>\n",
       "<polyline clip-path=\"url(#clip700)\" style=\"stroke:#000000; stroke-linecap:round; stroke-linejoin:round; stroke-width:4; stroke-opacity:1; fill:none\" points=\"677.911,1486.45 677.911,1467.55 \"/>\n",
       "<polyline clip-path=\"url(#clip700)\" style=\"stroke:#000000; stroke-linecap:round; stroke-linejoin:round; stroke-width:4; stroke-opacity:1; fill:none\" points=\"1196.16,1486.45 1196.16,1467.55 \"/>\n",
       "<polyline clip-path=\"url(#clip700)\" style=\"stroke:#000000; stroke-linecap:round; stroke-linejoin:round; stroke-width:4; stroke-opacity:1; fill:none\" points=\"1714.4,1486.45 1714.4,1467.55 \"/>\n",
       "<polyline clip-path=\"url(#clip700)\" style=\"stroke:#000000; stroke-linecap:round; stroke-linejoin:round; stroke-width:4; stroke-opacity:1; fill:none\" points=\"2232.65,1486.45 2232.65,1467.55 \"/>\n",
       "<path clip-path=\"url(#clip700)\" d=\"M647.853 1532.02 L677.529 1532.02 L677.529 1535.95 L647.853 1535.95 L647.853 1532.02 Z\" fill=\"#000000\" fill-rule=\"nonzero\" fill-opacity=\"1\" /><path clip-path=\"url(#clip700)\" d=\"M691.649 1544.91 L707.968 1544.91 L707.968 1548.85 L686.024 1548.85 L686.024 1544.91 Q688.686 1542.16 693.269 1537.53 Q697.876 1532.88 699.056 1531.53 Q701.302 1529.01 702.181 1527.27 Q703.084 1525.51 703.084 1523.82 Q703.084 1521.07 701.14 1519.33 Q699.218 1517.6 696.116 1517.6 Q693.917 1517.6 691.464 1518.36 Q689.033 1519.13 686.255 1520.68 L686.255 1515.95 Q689.079 1514.82 691.533 1514.24 Q693.987 1513.66 696.024 1513.66 Q701.394 1513.66 704.589 1516.35 Q707.783 1519.03 707.783 1523.52 Q707.783 1525.65 706.973 1527.57 Q706.186 1529.47 704.079 1532.07 Q703.501 1532.74 700.399 1535.95 Q697.297 1539.15 691.649 1544.91 Z\" fill=\"#000000\" fill-rule=\"nonzero\" fill-opacity=\"1\" /><path clip-path=\"url(#clip700)\" d=\"M1196.16 1517.37 Q1192.55 1517.37 1190.72 1520.93 Q1188.91 1524.47 1188.91 1531.6 Q1188.91 1538.71 1190.72 1542.27 Q1192.55 1545.82 1196.16 1545.82 Q1199.79 1545.82 1201.6 1542.27 Q1203.43 1538.71 1203.43 1531.6 Q1203.43 1524.47 1201.6 1520.93 Q1199.79 1517.37 1196.16 1517.37 M1196.16 1513.66 Q1201.97 1513.66 1205.02 1518.27 Q1208.1 1522.85 1208.1 1531.6 Q1208.1 1540.33 1205.02 1544.94 Q1201.97 1549.52 1196.16 1549.52 Q1190.35 1549.52 1187.27 1544.94 Q1184.21 1540.33 1184.21 1531.6 Q1184.21 1522.85 1187.27 1518.27 Q1190.35 1513.66 1196.16 1513.66 Z\" fill=\"#000000\" fill-rule=\"nonzero\" fill-opacity=\"1\" /><path clip-path=\"url(#clip700)\" d=\"M1709.06 1544.91 L1725.38 1544.91 L1725.38 1548.85 L1703.43 1548.85 L1703.43 1544.91 Q1706.09 1542.16 1710.68 1537.53 Q1715.28 1532.88 1716.47 1531.53 Q1718.71 1529.01 1719.59 1527.27 Q1720.49 1525.51 1720.49 1523.82 Q1720.49 1521.07 1718.55 1519.33 Q1716.63 1517.6 1713.53 1517.6 Q1711.33 1517.6 1708.87 1518.36 Q1706.44 1519.13 1703.66 1520.68 L1703.66 1515.95 Q1706.49 1514.82 1708.94 1514.24 Q1711.4 1513.66 1713.43 1513.66 Q1718.8 1513.66 1722 1516.35 Q1725.19 1519.03 1725.19 1523.52 Q1725.19 1525.65 1724.38 1527.57 Q1723.59 1529.47 1721.49 1532.07 Q1720.91 1532.74 1717.81 1535.95 Q1714.71 1539.15 1709.06 1544.91 Z\" fill=\"#000000\" fill-rule=\"nonzero\" fill-opacity=\"1\" /><path clip-path=\"url(#clip700)\" d=\"M2235.66 1518.36 L2223.86 1536.81 L2235.66 1536.81 L2235.66 1518.36 M2234.43 1514.29 L2240.31 1514.29 L2240.31 1536.81 L2245.24 1536.81 L2245.24 1540.7 L2240.31 1540.7 L2240.31 1548.85 L2235.66 1548.85 L2235.66 1540.7 L2220.06 1540.7 L2220.06 1536.19 L2234.43 1514.29 Z\" fill=\"#000000\" fill-rule=\"nonzero\" fill-opacity=\"1\" /><polyline clip-path=\"url(#clip702)\" style=\"stroke:#000000; stroke-linecap:round; stroke-linejoin:round; stroke-width:2; stroke-opacity:0.1; fill:none\" points=\"169.121,1486.45 2352.76,1486.45 \"/>\n",
       "<polyline clip-path=\"url(#clip702)\" style=\"stroke:#000000; stroke-linecap:round; stroke-linejoin:round; stroke-width:2; stroke-opacity:0.1; fill:none\" points=\"169.121,1121.17 2352.76,1121.17 \"/>\n",
       "<polyline clip-path=\"url(#clip702)\" style=\"stroke:#000000; stroke-linecap:round; stroke-linejoin:round; stroke-width:2; stroke-opacity:0.1; fill:none\" points=\"169.121,755.888 2352.76,755.888 \"/>\n",
       "<polyline clip-path=\"url(#clip702)\" style=\"stroke:#000000; stroke-linecap:round; stroke-linejoin:round; stroke-width:2; stroke-opacity:0.1; fill:none\" points=\"169.121,390.607 2352.76,390.607 \"/>\n",
       "<polyline clip-path=\"url(#clip700)\" style=\"stroke:#000000; stroke-linecap:round; stroke-linejoin:round; stroke-width:4; stroke-opacity:1; fill:none\" points=\"169.121,1486.45 169.121,47.2441 \"/>\n",
       "<polyline clip-path=\"url(#clip700)\" style=\"stroke:#000000; stroke-linecap:round; stroke-linejoin:round; stroke-width:4; stroke-opacity:1; fill:none\" points=\"169.121,1486.45 188.019,1486.45 \"/>\n",
       "<polyline clip-path=\"url(#clip700)\" style=\"stroke:#000000; stroke-linecap:round; stroke-linejoin:round; stroke-width:4; stroke-opacity:1; fill:none\" points=\"169.121,1121.17 188.019,1121.17 \"/>\n",
       "<polyline clip-path=\"url(#clip700)\" style=\"stroke:#000000; stroke-linecap:round; stroke-linejoin:round; stroke-width:4; stroke-opacity:1; fill:none\" points=\"169.121,755.888 188.019,755.888 \"/>\n",
       "<polyline clip-path=\"url(#clip700)\" style=\"stroke:#000000; stroke-linecap:round; stroke-linejoin:round; stroke-width:4; stroke-opacity:1; fill:none\" points=\"169.121,390.607 188.019,390.607 \"/>\n",
       "<path clip-path=\"url(#clip700)\" d=\"M121.177 1472.25 Q117.566 1472.25 115.737 1475.81 Q113.932 1479.35 113.932 1486.48 Q113.932 1493.59 115.737 1497.15 Q117.566 1500.7 121.177 1500.7 Q124.811 1500.7 126.617 1497.15 Q128.445 1493.59 128.445 1486.48 Q128.445 1479.35 126.617 1475.81 Q124.811 1472.25 121.177 1472.25 M121.177 1468.54 Q126.987 1468.54 130.043 1473.15 Q133.121 1477.73 133.121 1486.48 Q133.121 1495.21 130.043 1499.82 Q126.987 1504.4 121.177 1504.4 Q115.367 1504.4 112.288 1499.82 Q109.233 1495.21 109.233 1486.48 Q109.233 1477.73 112.288 1473.15 Q115.367 1468.54 121.177 1468.54 Z\" fill=\"#000000\" fill-rule=\"nonzero\" fill-opacity=\"1\" /><path clip-path=\"url(#clip700)\" d=\"M81.0614 1103.89 L99.4178 1103.89 L99.4178 1107.82 L85.3438 1107.82 L85.3438 1116.3 Q86.3623 1115.95 87.3808 1115.79 Q88.3993 1115.6 89.4178 1115.6 Q95.2049 1115.6 98.5845 1118.77 Q101.964 1121.94 101.964 1127.36 Q101.964 1132.94 98.4919 1136.04 Q95.0197 1139.12 88.7003 1139.12 Q86.5243 1139.12 84.2558 1138.75 Q82.0105 1138.38 79.6031 1137.64 L79.6031 1132.94 Q81.6864 1134.07 83.9086 1134.63 Q86.1308 1135.18 88.6077 1135.18 Q92.6123 1135.18 94.9502 1133.08 Q97.2882 1130.97 97.2882 1127.36 Q97.2882 1123.75 94.9502 1121.64 Q92.6123 1119.54 88.6077 1119.54 Q86.7327 1119.54 84.8577 1119.95 Q83.0058 1120.37 81.0614 1121.25 L81.0614 1103.89 Z\" fill=\"#000000\" fill-rule=\"nonzero\" fill-opacity=\"1\" /><path clip-path=\"url(#clip700)\" d=\"M121.177 1106.97 Q117.566 1106.97 115.737 1110.53 Q113.932 1114.07 113.932 1121.2 Q113.932 1128.31 115.737 1131.87 Q117.566 1135.42 121.177 1135.42 Q124.811 1135.42 126.617 1131.87 Q128.445 1128.31 128.445 1121.2 Q128.445 1114.07 126.617 1110.53 Q124.811 1106.97 121.177 1106.97 M121.177 1103.26 Q126.987 1103.26 130.043 1107.87 Q133.121 1112.45 133.121 1121.2 Q133.121 1129.93 130.043 1134.54 Q126.987 1139.12 121.177 1139.12 Q115.367 1139.12 112.288 1134.54 Q109.233 1129.93 109.233 1121.2 Q109.233 1112.45 112.288 1107.87 Q115.367 1103.26 121.177 1103.26 Z\" fill=\"#000000\" fill-rule=\"nonzero\" fill-opacity=\"1\" /><path clip-path=\"url(#clip700)\" d=\"M51.6634 769.232 L59.3023 769.232 L59.3023 742.867 L50.9921 744.533 L50.9921 740.274 L59.256 738.608 L63.9319 738.608 L63.9319 769.232 L71.5707 769.232 L71.5707 773.168 L51.6634 773.168 L51.6634 769.232 Z\" fill=\"#000000\" fill-rule=\"nonzero\" fill-opacity=\"1\" /><path clip-path=\"url(#clip700)\" d=\"M91.0151 741.686 Q87.404 741.686 85.5753 745.251 Q83.7697 748.793 83.7697 755.922 Q83.7697 763.029 85.5753 766.594 Q87.404 770.135 91.0151 770.135 Q94.6493 770.135 96.4548 766.594 Q98.2835 763.029 98.2835 755.922 Q98.2835 748.793 96.4548 745.251 Q94.6493 741.686 91.0151 741.686 M91.0151 737.983 Q96.8252 737.983 99.8808 742.589 Q102.959 747.172 102.959 755.922 Q102.959 764.649 99.8808 769.256 Q96.8252 773.839 91.0151 773.839 Q85.2049 773.839 82.1262 769.256 Q79.0707 764.649 79.0707 755.922 Q79.0707 747.172 82.1262 742.589 Q85.2049 737.983 91.0151 737.983 Z\" fill=\"#000000\" fill-rule=\"nonzero\" fill-opacity=\"1\" /><path clip-path=\"url(#clip700)\" d=\"M121.177 741.686 Q117.566 741.686 115.737 745.251 Q113.932 748.793 113.932 755.922 Q113.932 763.029 115.737 766.594 Q117.566 770.135 121.177 770.135 Q124.811 770.135 126.617 766.594 Q128.445 763.029 128.445 755.922 Q128.445 748.793 126.617 745.251 Q124.811 741.686 121.177 741.686 M121.177 737.983 Q126.987 737.983 130.043 742.589 Q133.121 747.172 133.121 755.922 Q133.121 764.649 130.043 769.256 Q126.987 773.839 121.177 773.839 Q115.367 773.839 112.288 769.256 Q109.233 764.649 109.233 755.922 Q109.233 747.172 112.288 742.589 Q115.367 737.983 121.177 737.983 Z\" fill=\"#000000\" fill-rule=\"nonzero\" fill-opacity=\"1\" /><path clip-path=\"url(#clip700)\" d=\"M51.6634 403.952 L59.3023 403.952 L59.3023 377.587 L50.9921 379.253 L50.9921 374.994 L59.256 373.327 L63.9319 373.327 L63.9319 403.952 L71.5707 403.952 L71.5707 407.887 L51.6634 407.887 L51.6634 403.952 Z\" fill=\"#000000\" fill-rule=\"nonzero\" fill-opacity=\"1\" /><path clip-path=\"url(#clip700)\" d=\"M81.0614 373.327 L99.4178 373.327 L99.4178 377.263 L85.3438 377.263 L85.3438 385.735 Q86.3623 385.388 87.3808 385.226 Q88.3993 385.04 89.4178 385.04 Q95.2049 385.04 98.5845 388.212 Q101.964 391.383 101.964 396.8 Q101.964 402.378 98.4919 405.48 Q95.0197 408.559 88.7003 408.559 Q86.5243 408.559 84.2558 408.188 Q82.0105 407.818 79.6031 407.077 L79.6031 402.378 Q81.6864 403.512 83.9086 404.068 Q86.1308 404.624 88.6077 404.624 Q92.6123 404.624 94.9502 402.517 Q97.2882 400.411 97.2882 396.8 Q97.2882 393.188 94.9502 391.082 Q92.6123 388.975 88.6077 388.975 Q86.7327 388.975 84.8577 389.392 Q83.0058 389.809 81.0614 390.688 L81.0614 373.327 Z\" fill=\"#000000\" fill-rule=\"nonzero\" fill-opacity=\"1\" /><path clip-path=\"url(#clip700)\" d=\"M121.177 376.406 Q117.566 376.406 115.737 379.971 Q113.932 383.513 113.932 390.642 Q113.932 397.749 115.737 401.313 Q117.566 404.855 121.177 404.855 Q124.811 404.855 126.617 401.313 Q128.445 397.749 128.445 390.642 Q128.445 383.513 126.617 379.971 Q124.811 376.406 121.177 376.406 M121.177 372.702 Q126.987 372.702 130.043 377.309 Q133.121 381.892 133.121 390.642 Q133.121 399.369 130.043 403.975 Q126.987 408.559 121.177 408.559 Q115.367 408.559 112.288 403.975 Q109.233 399.369 109.233 390.642 Q109.233 381.892 112.288 377.309 Q115.367 372.702 121.177 372.702 Z\" fill=\"#000000\" fill-rule=\"nonzero\" fill-opacity=\"1\" /><path clip-path=\"url(#clip702)\" d=\"M289.225 1471.84 L289.225 1486.45 L418.787 1486.45 L418.787 1471.84 L289.225 1471.84 L289.225 1471.84  Z\" fill=\"#009af9\" fill-rule=\"evenodd\" fill-opacity=\"1\"/>\n",
       "<polyline clip-path=\"url(#clip702)\" style=\"stroke:#000000; stroke-linecap:round; stroke-linejoin:round; stroke-width:4; stroke-opacity:1; fill:none\" points=\"289.225,1471.84 289.225,1486.45 418.787,1486.45 418.787,1471.84 289.225,1471.84 \"/>\n",
       "<path clip-path=\"url(#clip702)\" d=\"M418.787 1428 L418.787 1486.45 L548.349 1486.45 L548.349 1428 L418.787 1428 L418.787 1428  Z\" fill=\"#009af9\" fill-rule=\"evenodd\" fill-opacity=\"1\"/>\n",
       "<polyline clip-path=\"url(#clip702)\" style=\"stroke:#000000; stroke-linecap:round; stroke-linejoin:round; stroke-width:4; stroke-opacity:1; fill:none\" points=\"418.787,1428 418.787,1486.45 548.349,1486.45 548.349,1428 418.787,1428 \"/>\n",
       "<path clip-path=\"url(#clip702)\" d=\"M548.349 1369.56 L548.349 1486.45 L677.911 1486.45 L677.911 1369.56 L548.349 1369.56 L548.349 1369.56  Z\" fill=\"#009af9\" fill-rule=\"evenodd\" fill-opacity=\"1\"/>\n",
       "<polyline clip-path=\"url(#clip702)\" style=\"stroke:#000000; stroke-linecap:round; stroke-linejoin:round; stroke-width:4; stroke-opacity:1; fill:none\" points=\"548.349,1369.56 548.349,1486.45 677.911,1486.45 677.911,1369.56 548.349,1369.56 \"/>\n",
       "<path clip-path=\"url(#clip702)\" d=\"M677.911 1216.14 L677.911 1486.45 L807.472 1486.45 L807.472 1216.14 L677.911 1216.14 L677.911 1216.14  Z\" fill=\"#009af9\" fill-rule=\"evenodd\" fill-opacity=\"1\"/>\n",
       "<polyline clip-path=\"url(#clip702)\" style=\"stroke:#000000; stroke-linecap:round; stroke-linejoin:round; stroke-width:4; stroke-opacity:1; fill:none\" points=\"677.911,1216.14 677.911,1486.45 807.472,1486.45 807.472,1216.14 677.911,1216.14 \"/>\n",
       "<path clip-path=\"url(#clip702)\" d=\"M807.472 828.944 L807.472 1486.45 L937.034 1486.45 L937.034 828.944 L807.472 828.944 L807.472 828.944  Z\" fill=\"#009af9\" fill-rule=\"evenodd\" fill-opacity=\"1\"/>\n",
       "<polyline clip-path=\"url(#clip702)\" style=\"stroke:#000000; stroke-linecap:round; stroke-linejoin:round; stroke-width:4; stroke-opacity:1; fill:none\" points=\"807.472,828.944 807.472,1486.45 937.034,1486.45 937.034,828.944 807.472,828.944 \"/>\n",
       "<path clip-path=\"url(#clip702)\" d=\"M937.034 368.691 L937.034 1486.45 L1066.6 1486.45 L1066.6 368.691 L937.034 368.691 L937.034 368.691  Z\" fill=\"#009af9\" fill-rule=\"evenodd\" fill-opacity=\"1\"/>\n",
       "<polyline clip-path=\"url(#clip702)\" style=\"stroke:#000000; stroke-linecap:round; stroke-linejoin:round; stroke-width:4; stroke-opacity:1; fill:none\" points=\"937.034,368.691 937.034,1486.45 1066.6,1486.45 1066.6,368.691 937.034,368.691 \"/>\n",
       "<path clip-path=\"url(#clip702)\" d=\"M1066.6 142.217 L1066.6 1486.45 L1196.16 1486.45 L1196.16 142.217 L1066.6 142.217 L1066.6 142.217  Z\" fill=\"#009af9\" fill-rule=\"evenodd\" fill-opacity=\"1\"/>\n",
       "<polyline clip-path=\"url(#clip702)\" style=\"stroke:#000000; stroke-linecap:round; stroke-linejoin:round; stroke-width:4; stroke-opacity:1; fill:none\" points=\"1066.6,142.217 1066.6,1486.45 1196.16,1486.45 1196.16,142.217 1066.6,142.217 \"/>\n",
       "<path clip-path=\"url(#clip702)\" d=\"M1196.16 47.2441 L1196.16 1486.45 L1325.72 1486.45 L1325.72 47.2441 L1196.16 47.2441 L1196.16 47.2441  Z\" fill=\"#009af9\" fill-rule=\"evenodd\" fill-opacity=\"1\"/>\n",
       "<polyline clip-path=\"url(#clip702)\" style=\"stroke:#000000; stroke-linecap:round; stroke-linejoin:round; stroke-width:4; stroke-opacity:1; fill:none\" points=\"1196.16,47.2441 1196.16,1486.45 1325.72,1486.45 1325.72,47.2441 1196.16,47.2441 \"/>\n",
       "<path clip-path=\"url(#clip702)\" d=\"M1325.72 354.079 L1325.72 1486.45 L1455.28 1486.45 L1455.28 354.079 L1325.72 354.079 L1325.72 354.079  Z\" fill=\"#009af9\" fill-rule=\"evenodd\" fill-opacity=\"1\"/>\n",
       "<polyline clip-path=\"url(#clip702)\" style=\"stroke:#000000; stroke-linecap:round; stroke-linejoin:round; stroke-width:4; stroke-opacity:1; fill:none\" points=\"1325.72,354.079 1325.72,1486.45 1455.28,1486.45 1455.28,354.079 1325.72,354.079 \"/>\n",
       "<path clip-path=\"url(#clip702)\" d=\"M1455.28 807.027 L1455.28 1486.45 L1584.84 1486.45 L1584.84 807.027 L1455.28 807.027 L1455.28 807.027  Z\" fill=\"#009af9\" fill-rule=\"evenodd\" fill-opacity=\"1\"/>\n",
       "<polyline clip-path=\"url(#clip702)\" style=\"stroke:#000000; stroke-linecap:round; stroke-linejoin:round; stroke-width:4; stroke-opacity:1; fill:none\" points=\"1455.28,807.027 1455.28,1486.45 1584.84,1486.45 1584.84,807.027 1455.28,807.027 \"/>\n",
       "<path clip-path=\"url(#clip702)\" d=\"M1584.84 1143.08 L1584.84 1486.45 L1714.4 1486.45 L1714.4 1143.08 L1584.84 1143.08 L1584.84 1143.08  Z\" fill=\"#009af9\" fill-rule=\"evenodd\" fill-opacity=\"1\"/>\n",
       "<polyline clip-path=\"url(#clip702)\" style=\"stroke:#000000; stroke-linecap:round; stroke-linejoin:round; stroke-width:4; stroke-opacity:1; fill:none\" points=\"1584.84,1143.08 1584.84,1486.45 1714.4,1486.45 1714.4,1143.08 1584.84,1143.08 \"/>\n",
       "<path clip-path=\"url(#clip702)\" d=\"M1714.4 1428 L1714.4 1486.45 L1843.97 1486.45 L1843.97 1428 L1714.4 1428 L1714.4 1428  Z\" fill=\"#009af9\" fill-rule=\"evenodd\" fill-opacity=\"1\"/>\n",
       "<polyline clip-path=\"url(#clip702)\" style=\"stroke:#000000; stroke-linecap:round; stroke-linejoin:round; stroke-width:4; stroke-opacity:1; fill:none\" points=\"1714.4,1428 1714.4,1486.45 1843.97,1486.45 1843.97,1428 1714.4,1428 \"/>\n",
       "<path clip-path=\"url(#clip702)\" d=\"M1843.97 1449.92 L1843.97 1486.45 L1973.53 1486.45 L1973.53 1449.92 L1843.97 1449.92 L1843.97 1449.92  Z\" fill=\"#009af9\" fill-rule=\"evenodd\" fill-opacity=\"1\"/>\n",
       "<polyline clip-path=\"url(#clip702)\" style=\"stroke:#000000; stroke-linecap:round; stroke-linejoin:round; stroke-width:4; stroke-opacity:1; fill:none\" points=\"1843.97,1449.92 1843.97,1486.45 1973.53,1486.45 1973.53,1449.92 1843.97,1449.92 \"/>\n",
       "<path clip-path=\"url(#clip702)\" d=\"M1973.53 1457.23 L1973.53 1486.45 L2103.09 1486.45 L2103.09 1457.23 L1973.53 1457.23 L1973.53 1457.23  Z\" fill=\"#009af9\" fill-rule=\"evenodd\" fill-opacity=\"1\"/>\n",
       "<polyline clip-path=\"url(#clip702)\" style=\"stroke:#000000; stroke-linecap:round; stroke-linejoin:round; stroke-width:4; stroke-opacity:1; fill:none\" points=\"1973.53,1457.23 1973.53,1486.45 2103.09,1486.45 2103.09,1457.23 1973.53,1457.23 \"/>\n",
       "<path clip-path=\"url(#clip702)\" d=\"M2103.09 1479.14 L2103.09 1486.45 L2232.65 1486.45 L2232.65 1479.14 L2103.09 1479.14 L2103.09 1479.14  Z\" fill=\"#009af9\" fill-rule=\"evenodd\" fill-opacity=\"1\"/>\n",
       "<polyline clip-path=\"url(#clip702)\" style=\"stroke:#000000; stroke-linecap:round; stroke-linejoin:round; stroke-width:4; stroke-opacity:1; fill:none\" points=\"2103.09,1479.14 2103.09,1486.45 2232.65,1486.45 2232.65,1479.14 2103.09,1479.14 \"/>\n",
       "<circle clip-path=\"url(#clip702)\" style=\"fill:#009af9; stroke:none; fill-opacity:0\" cx=\"354.006\" cy=\"1471.84\" r=\"2\"/>\n",
       "<circle clip-path=\"url(#clip702)\" style=\"fill:#009af9; stroke:none; fill-opacity:0\" cx=\"483.568\" cy=\"1428\" r=\"2\"/>\n",
       "<circle clip-path=\"url(#clip702)\" style=\"fill:#009af9; stroke:none; fill-opacity:0\" cx=\"613.13\" cy=\"1369.56\" r=\"2\"/>\n",
       "<circle clip-path=\"url(#clip702)\" style=\"fill:#009af9; stroke:none; fill-opacity:0\" cx=\"742.691\" cy=\"1216.14\" r=\"2\"/>\n",
       "<circle clip-path=\"url(#clip702)\" style=\"fill:#009af9; stroke:none; fill-opacity:0\" cx=\"872.253\" cy=\"828.944\" r=\"2\"/>\n",
       "<circle clip-path=\"url(#clip702)\" style=\"fill:#009af9; stroke:none; fill-opacity:0\" cx=\"1001.82\" cy=\"368.691\" r=\"2\"/>\n",
       "<circle clip-path=\"url(#clip702)\" style=\"fill:#009af9; stroke:none; fill-opacity:0\" cx=\"1131.38\" cy=\"142.217\" r=\"2\"/>\n",
       "<circle clip-path=\"url(#clip702)\" style=\"fill:#009af9; stroke:none; fill-opacity:0\" cx=\"1260.94\" cy=\"47.2441\" r=\"2\"/>\n",
       "<circle clip-path=\"url(#clip702)\" style=\"fill:#009af9; stroke:none; fill-opacity:0\" cx=\"1390.5\" cy=\"354.079\" r=\"2\"/>\n",
       "<circle clip-path=\"url(#clip702)\" style=\"fill:#009af9; stroke:none; fill-opacity:0\" cx=\"1520.06\" cy=\"807.027\" r=\"2\"/>\n",
       "<circle clip-path=\"url(#clip702)\" style=\"fill:#009af9; stroke:none; fill-opacity:0\" cx=\"1649.62\" cy=\"1143.08\" r=\"2\"/>\n",
       "<circle clip-path=\"url(#clip702)\" style=\"fill:#009af9; stroke:none; fill-opacity:0\" cx=\"1779.19\" cy=\"1428\" r=\"2\"/>\n",
       "<circle clip-path=\"url(#clip702)\" style=\"fill:#009af9; stroke:none; fill-opacity:0\" cx=\"1908.75\" cy=\"1449.92\" r=\"2\"/>\n",
       "<circle clip-path=\"url(#clip702)\" style=\"fill:#009af9; stroke:none; fill-opacity:0\" cx=\"2038.31\" cy=\"1457.23\" r=\"2\"/>\n",
       "<circle clip-path=\"url(#clip702)\" style=\"fill:#009af9; stroke:none; fill-opacity:0\" cx=\"2167.87\" cy=\"1479.14\" r=\"2\"/>\n",
       "<path clip-path=\"url(#clip702)\" d=\"M232.473 1486.44 L238.747 1486.44 L245.021 1486.44 L303.034 1486.44 L361.048 1486.43 L395.911 1486.42 L430.775 1486.41 L460.251 1486.4 L489.728 1486.38 L505.738 1486.36 L521.748 1486.35 L537.758 1486.33 L553.768 1486.31 L568.528 1486.29 L583.287 1486.27 L598.047 1486.24 L612.807 1486.22 L628.631 1486.18 L644.455 1486.15 L660.279 1486.1 L676.103 1486.06 L694.437 1486 L712.771 1485.94 L731.104 1485.87 L749.438 1485.79 L765.731 1485.71 L782.024 1485.64 L798.316 1485.55 L814.609 1485.46 L828.897 1485.38 L843.184 1485.3 L857.471 1485.21 L871.759 1485.12 L902.913 1484.91 L934.067 1484.7 L965.406 1484.49 L996.745 1484.28 L1005.41 1484.23 L1014.07 1484.17 L1022.73 1484.12 L1031.39 1484.07 L1040.06 1484.02 L1048.72 1483.97 L1057.38 1483.92 L1066.04 1483.88 L1074.29 1483.84 L1082.53 1483.8 L1090.77 1483.76 L1099.01 1483.73 L1107.25 1483.7 L1115.5 1483.67 L1123.74 1483.64 L1131.98 1483.62 L1140.55 1483.6 L1149.12 1483.58 L1157.69 1483.57 L1166.26 1483.55 L1174.83 1483.54 L1183.4 1483.54 L1191.97 1483.53 L1200.54 1483.53 L1207.75 1483.54 L1214.97 1483.54 L1222.18 1483.55 L1229.4 1483.56 L1236.61 1483.57 L1243.82 1483.58 L1251.04 1483.6 L1258.25 1483.62 L1267.06 1483.64 L1275.87 1483.67 L1284.67 1483.7 L1293.48 1483.73 L1302.29 1483.77 L1311.1 1483.81 L1319.9 1483.85 L1328.71 1483.89 L1344.85 1483.98 L1360.98 1484.07 L1369.05 1484.11 L1377.12 1484.16 L1385.19 1484.21 L1393.26 1484.27 L1423.06 1484.46 L1452.87 1484.66 L1483.06 1484.87 L1513.25 1485.07 L1530.17 1485.18 L1547.09 1485.28 L1564.01 1485.38 L1580.93 1485.48 L1596.26 1485.56 L1611.59 1485.64 L1626.92 1485.72 L1642.25 1485.79 L1659.81 1485.86 L1677.36 1485.93 L1694.91 1485.99 L1712.47 1486.05 L1728.72 1486.1 L1744.97 1486.14 L1761.22 1486.18 L1777.48 1486.21 L1793.5 1486.24 L1809.52 1486.27 L1825.55 1486.3 L1841.57 1486.32 L1857.13 1486.34 L1872.68 1486.35 L1888.24 1486.37 L1903.8 1486.38 L1935.7 1486.4 L1967.59 1486.41 L2002.54 1486.42 L2037.48 1486.43 L2088.25 1486.44 L2139.01 1486.44 L2149.43 1486.44 L2159.84 1486.44 L2159.84 1486.45 L2149.43 1486.45 L2139.01 1486.45 L2088.25 1486.45 L2037.48 1486.45 L2002.54 1486.45 L1967.59 1486.45 L1935.7 1486.45 L1903.8 1486.45 L1888.24 1486.45 L1872.68 1486.45 L1857.13 1486.45 L1841.57 1486.45 L1825.55 1486.45 L1809.52 1486.45 L1793.5 1486.45 L1777.48 1486.45 L1761.22 1486.45 L1744.97 1486.45 L1728.72 1486.45 L1712.47 1486.45 L1694.91 1486.45 L1677.36 1486.45 L1659.81 1486.45 L1642.25 1486.45 L1626.92 1486.45 L1611.59 1486.45 L1596.26 1486.45 L1580.93 1486.45 L1564.01 1486.45 L1547.09 1486.45 L1530.17 1486.45 L1513.25 1486.45 L1483.06 1486.45 L1452.87 1486.45 L1423.06 1486.45 L1393.26 1486.45 L1385.19 1486.45 L1377.12 1486.45 L1369.05 1486.45 L1360.98 1486.45 L1344.85 1486.45 L1328.71 1486.45 L1319.9 1486.45 L1311.1 1486.45 L1302.29 1486.45 L1293.48 1486.45 L1284.67 1486.45 L1275.87 1486.45 L1267.06 1486.45 L1258.25 1486.45 L1251.04 1486.45 L1243.82 1486.45 L1236.61 1486.45 L1229.4 1486.45 L1222.18 1486.45 L1214.97 1486.45 L1207.75 1486.45 L1200.54 1486.45 L1191.97 1486.45 L1183.4 1486.45 L1174.83 1486.45 L1166.26 1486.45 L1157.69 1486.45 L1149.12 1486.45 L1140.55 1486.45 L1131.98 1486.45 L1123.74 1486.45 L1115.5 1486.45 L1107.25 1486.45 L1099.01 1486.45 L1090.77 1486.45 L1082.53 1486.45 L1074.29 1486.45 L1066.04 1486.45 L1057.38 1486.45 L1048.72 1486.45 L1040.06 1486.45 L1031.39 1486.45 L1022.73 1486.45 L1014.07 1486.45 L1005.41 1486.45 L996.745 1486.45 L965.406 1486.45 L934.067 1486.45 L902.913 1486.45 L871.759 1486.45 L857.471 1486.45 L843.184 1486.45 L828.897 1486.45 L814.609 1486.45 L798.316 1486.45 L782.024 1486.45 L765.731 1486.45 L749.438 1486.45 L731.104 1486.45 L712.771 1486.45 L694.437 1486.45 L676.103 1486.45 L660.279 1486.45 L644.455 1486.45 L628.631 1486.45 L612.807 1486.45 L598.047 1486.45 L583.287 1486.45 L568.528 1486.45 L553.768 1486.45 L537.758 1486.45 L521.748 1486.45 L505.738 1486.45 L489.728 1486.45 L460.251 1486.45 L430.775 1486.45 L395.911 1486.45 L361.048 1486.45 L303.034 1486.45 L245.021 1486.45 L238.747 1486.45 L232.473 1486.45  Z\" fill=\"#ffa500\" fill-rule=\"evenodd\" fill-opacity=\"0.5\"/>\n",
       "<polyline clip-path=\"url(#clip702)\" style=\"stroke:#e26f46; stroke-linecap:round; stroke-linejoin:round; stroke-width:4; stroke-opacity:1; fill:none\" points=\"232.473,1486.44 238.747,1486.44 245.021,1486.44 303.034,1486.44 361.048,1486.43 395.911,1486.42 430.775,1486.41 460.251,1486.4 489.728,1486.38 505.738,1486.36 521.748,1486.35 537.758,1486.33 553.768,1486.31 568.528,1486.29 583.287,1486.27 598.047,1486.24 612.807,1486.22 628.631,1486.18 644.455,1486.15 660.279,1486.1 676.103,1486.06 694.437,1486 712.771,1485.94 731.104,1485.87 749.438,1485.79 765.731,1485.71 782.024,1485.64 798.316,1485.55 814.609,1485.46 828.897,1485.38 843.184,1485.3 857.471,1485.21 871.759,1485.12 902.913,1484.91 934.067,1484.7 965.406,1484.49 996.745,1484.28 1005.41,1484.23 1014.07,1484.17 1022.73,1484.12 1031.39,1484.07 1040.06,1484.02 1048.72,1483.97 1057.38,1483.92 1066.04,1483.88 1074.29,1483.84 1082.53,1483.8 1090.77,1483.76 1099.01,1483.73 1107.25,1483.7 1115.5,1483.67 1123.74,1483.64 1131.98,1483.62 1140.55,1483.6 1149.12,1483.58 1157.69,1483.57 1166.26,1483.55 1174.83,1483.54 1183.4,1483.54 1191.97,1483.53 1200.54,1483.53 1207.75,1483.54 1214.97,1483.54 1222.18,1483.55 1229.4,1483.56 1236.61,1483.57 1243.82,1483.58 1251.04,1483.6 1258.25,1483.62 1267.06,1483.64 1275.87,1483.67 1284.67,1483.7 1293.48,1483.73 1302.29,1483.77 1311.1,1483.81 1319.9,1483.85 1328.71,1483.89 1344.85,1483.98 1360.98,1484.07 1369.05,1484.11 1377.12,1484.16 1385.19,1484.21 1393.26,1484.27 1423.06,1484.46 1452.87,1484.66 1483.06,1484.87 1513.25,1485.07 1530.17,1485.18 1547.09,1485.28 1564.01,1485.38 1580.93,1485.48 1596.26,1485.56 1611.59,1485.64 1626.92,1485.72 1642.25,1485.79 1659.81,1485.86 1677.36,1485.93 1694.91,1485.99 1712.47,1486.05 1728.72,1486.1 1744.97,1486.14 1761.22,1486.18 1777.48,1486.21 1793.5,1486.24 1809.52,1486.27 1825.55,1486.3 1841.57,1486.32 1857.13,1486.34 1872.68,1486.35 1888.24,1486.37 1903.8,1486.38 1935.7,1486.4 1967.59,1486.41 2002.54,1486.42 2037.48,1486.43 2088.25,1486.44 2139.01,1486.44 2149.43,1486.44 2159.84,1486.44 \"/>\n",
       "<path clip-path=\"url(#clip700)\" d=\"M1540.45 250.738 L2279.97 250.738 L2279.97 95.2176 L1540.45 95.2176  Z\" fill=\"#ffffff\" fill-rule=\"evenodd\" fill-opacity=\"1\"/>\n",
       "<polyline clip-path=\"url(#clip700)\" style=\"stroke:#000000; stroke-linecap:round; stroke-linejoin:round; stroke-width:4; stroke-opacity:1; fill:none\" points=\"1540.45,250.738 2279.97,250.738 2279.97,95.2176 1540.45,95.2176 1540.45,250.738 \"/>\n",
       "<path clip-path=\"url(#clip700)\" d=\"M1564.71 167.794 L1710.29 167.794 L1710.29 126.322 L1564.71 126.322 L1564.71 167.794  Z\" fill=\"#009af9\" fill-rule=\"evenodd\" fill-opacity=\"1\"/>\n",
       "<polyline clip-path=\"url(#clip700)\" style=\"stroke:#000000; stroke-linecap:round; stroke-linejoin:round; stroke-width:4; stroke-opacity:1; fill:none\" points=\"1564.71,167.794 1710.29,167.794 1710.29,126.322 1564.71,126.322 1564.71,167.794 \"/>\n",
       "<path clip-path=\"url(#clip700)\" d=\"M1734.55 129.778 L1740.85 129.778 L1756.17 158.689 L1756.17 129.778 L1760.71 129.778 L1760.71 164.338 L1754.41 164.338 L1739.09 135.426 L1739.09 164.338 L1734.55 164.338 L1734.55 129.778 Z\" fill=\"#000000\" fill-rule=\"nonzero\" fill-opacity=\"1\" /><path clip-path=\"url(#clip700)\" d=\"M1779.87 141.398 Q1776.45 141.398 1774.46 144.083 Q1772.47 146.745 1772.47 151.398 Q1772.47 156.051 1774.43 158.736 Q1776.43 161.398 1779.87 161.398 Q1783.28 161.398 1785.27 158.713 Q1787.26 156.027 1787.26 151.398 Q1787.26 146.791 1785.27 144.106 Q1783.28 141.398 1779.87 141.398 M1779.87 137.787 Q1785.43 137.787 1788.6 141.398 Q1791.77 145.009 1791.77 151.398 Q1791.77 157.764 1788.6 161.398 Q1785.43 165.009 1779.87 165.009 Q1774.3 165.009 1771.12 161.398 Q1767.98 157.764 1767.98 151.398 Q1767.98 145.009 1771.12 141.398 Q1774.3 137.787 1779.87 137.787 Z\" fill=\"#000000\" fill-rule=\"nonzero\" fill-opacity=\"1\" /><path clip-path=\"url(#clip700)\" d=\"M1813.86 142.393 Q1813.14 141.977 1812.28 141.791 Q1811.45 141.583 1810.43 141.583 Q1806.82 141.583 1804.87 143.944 Q1802.95 146.282 1802.95 150.68 L1802.95 164.338 L1798.67 164.338 L1798.67 138.412 L1802.95 138.412 L1802.95 142.44 Q1804.3 140.078 1806.45 138.944 Q1808.6 137.787 1811.68 137.787 Q1812.12 137.787 1812.65 137.856 Q1813.18 137.903 1813.83 138.018 L1813.86 142.393 Z\" fill=\"#000000\" fill-rule=\"nonzero\" fill-opacity=\"1\" /><path clip-path=\"url(#clip700)\" d=\"M1837.68 143.389 Q1839.27 140.518 1841.49 139.153 Q1843.72 137.787 1846.73 137.787 Q1850.78 137.787 1852.98 140.634 Q1855.18 143.458 1855.18 148.689 L1855.18 164.338 L1850.89 164.338 L1850.89 148.828 Q1850.89 145.102 1849.57 143.296 Q1848.25 141.49 1845.55 141.49 Q1842.24 141.49 1840.31 143.69 Q1838.39 145.889 1838.39 149.685 L1838.39 164.338 L1834.11 164.338 L1834.11 148.828 Q1834.11 145.078 1832.79 143.296 Q1831.47 141.49 1828.72 141.49 Q1825.45 141.49 1823.53 143.713 Q1821.61 145.912 1821.61 149.685 L1821.61 164.338 L1817.33 164.338 L1817.33 138.412 L1821.61 138.412 L1821.61 142.44 Q1823.07 140.055 1825.11 138.921 Q1827.14 137.787 1829.94 137.787 Q1832.77 137.787 1834.74 139.222 Q1836.73 140.657 1837.68 143.389 Z\" fill=\"#000000\" fill-rule=\"nonzero\" fill-opacity=\"1\" /><path clip-path=\"url(#clip700)\" d=\"M1875.45 151.305 Q1870.29 151.305 1868.3 152.486 Q1866.31 153.666 1866.31 156.514 Q1866.31 158.782 1867.79 160.125 Q1869.3 161.444 1871.86 161.444 Q1875.41 161.444 1877.54 158.944 Q1879.69 156.421 1879.69 152.254 L1879.69 151.305 L1875.45 151.305 M1883.95 149.546 L1883.95 164.338 L1879.69 164.338 L1879.69 160.402 Q1878.23 162.763 1876.05 163.898 Q1873.88 165.009 1870.73 165.009 Q1866.75 165.009 1864.39 162.787 Q1862.05 160.541 1862.05 156.791 Q1862.05 152.416 1864.97 150.194 Q1867.91 147.972 1873.72 147.972 L1879.69 147.972 L1879.69 147.555 Q1879.69 144.615 1877.74 143.018 Q1875.82 141.398 1872.33 141.398 Q1870.11 141.398 1868 141.93 Q1865.89 142.463 1863.95 143.527 L1863.95 139.592 Q1866.29 138.69 1868.49 138.25 Q1870.68 137.787 1872.77 137.787 Q1878.39 137.787 1881.17 140.703 Q1883.95 143.62 1883.95 149.546 Z\" fill=\"#000000\" fill-rule=\"nonzero\" fill-opacity=\"1\" /><path clip-path=\"url(#clip700)\" d=\"M1892.72 128.319 L1896.98 128.319 L1896.98 164.338 L1892.72 164.338 L1892.72 128.319 Z\" fill=\"#000000\" fill-rule=\"nonzero\" fill-opacity=\"1\" /><path clip-path=\"url(#clip700)\" d=\"M1905.89 138.412 L1910.15 138.412 L1910.15 164.338 L1905.89 164.338 L1905.89 138.412 M1905.89 128.319 L1910.15 128.319 L1910.15 133.713 L1905.89 133.713 L1905.89 128.319 Z\" fill=\"#000000\" fill-rule=\"nonzero\" fill-opacity=\"1\" /><path clip-path=\"url(#clip700)\" d=\"M1917.21 138.412 L1937.44 138.412 L1937.44 142.301 L1921.42 160.935 L1937.44 160.935 L1937.44 164.338 L1916.63 164.338 L1916.63 160.449 L1932.65 141.815 L1917.21 141.815 L1917.21 138.412 Z\" fill=\"#000000\" fill-rule=\"nonzero\" fill-opacity=\"1\" /><path clip-path=\"url(#clip700)\" d=\"M1966.12 150.31 L1966.12 152.393 L1946.54 152.393 Q1946.82 156.791 1949.18 159.106 Q1951.56 161.398 1955.8 161.398 Q1958.25 161.398 1960.55 160.796 Q1962.86 160.194 1965.13 158.99 L1965.13 163.018 Q1962.84 163.99 1960.43 164.5 Q1958.02 165.009 1955.55 165.009 Q1949.34 165.009 1945.71 161.398 Q1942.1 157.787 1942.1 151.629 Q1942.1 145.264 1945.52 141.537 Q1948.97 137.787 1954.8 137.787 Q1960.04 137.787 1963.07 141.166 Q1966.12 144.523 1966.12 150.31 M1961.86 149.06 Q1961.82 145.565 1959.9 143.481 Q1958 141.398 1954.85 141.398 Q1951.29 141.398 1949.13 143.412 Q1947 145.426 1946.68 149.083 L1961.86 149.06 Z\" fill=\"#000000\" fill-rule=\"nonzero\" fill-opacity=\"1\" /><path clip-path=\"url(#clip700)\" d=\"M1990.17 142.347 L1990.17 128.319 L1994.43 128.319 L1994.43 164.338 L1990.17 164.338 L1990.17 160.449 Q1988.83 162.763 1986.77 163.898 Q1984.73 165.009 1981.86 165.009 Q1977.17 165.009 1974.2 161.259 Q1971.26 157.509 1971.26 151.398 Q1971.26 145.287 1974.2 141.537 Q1977.17 137.787 1981.86 137.787 Q1984.73 137.787 1986.77 138.921 Q1988.83 140.032 1990.17 142.347 M1975.66 151.398 Q1975.66 156.097 1977.58 158.782 Q1979.53 161.444 1982.91 161.444 Q1986.29 161.444 1988.23 158.782 Q1990.17 156.097 1990.17 151.398 Q1990.17 146.699 1988.23 144.037 Q1986.29 141.352 1982.91 141.352 Q1979.53 141.352 1977.58 144.037 Q1975.66 146.699 1975.66 151.398 Z\" fill=\"#000000\" fill-rule=\"nonzero\" fill-opacity=\"1\" /><path clip-path=\"url(#clip700)\" d=\"M2018.46 129.778 L2023.14 129.778 L2023.14 143.944 L2040.13 143.944 L2040.13 129.778 L2044.8 129.778 L2044.8 164.338 L2040.13 164.338 L2040.13 147.879 L2023.14 147.879 L2023.14 164.338 L2018.46 164.338 L2018.46 129.778 Z\" fill=\"#000000\" fill-rule=\"nonzero\" fill-opacity=\"1\" /><path clip-path=\"url(#clip700)\" d=\"M2053.92 138.412 L2058.18 138.412 L2058.18 164.338 L2053.92 164.338 L2053.92 138.412 M2053.92 128.319 L2058.18 128.319 L2058.18 133.713 L2053.92 133.713 L2053.92 128.319 Z\" fill=\"#000000\" fill-rule=\"nonzero\" fill-opacity=\"1\" /><path clip-path=\"url(#clip700)\" d=\"M2083.62 139.176 L2083.62 143.203 Q2081.82 142.277 2079.87 141.815 Q2077.93 141.352 2075.85 141.352 Q2072.67 141.352 2071.08 142.324 Q2069.5 143.296 2069.5 145.24 Q2069.5 146.722 2070.64 147.578 Q2071.77 148.412 2075.2 149.176 L2076.66 149.5 Q2081.19 150.472 2083.09 152.254 Q2085.01 154.014 2085.01 157.185 Q2085.01 160.796 2082.14 162.902 Q2079.29 165.009 2074.29 165.009 Q2072.21 165.009 2069.94 164.592 Q2067.7 164.199 2065.2 163.388 L2065.2 158.99 Q2067.56 160.217 2069.85 160.842 Q2072.14 161.444 2074.39 161.444 Q2077.4 161.444 2079.02 160.426 Q2080.64 159.384 2080.64 157.509 Q2080.64 155.773 2079.46 154.847 Q2078.3 153.921 2074.34 153.064 L2072.86 152.717 Q2068.9 151.884 2067.14 150.171 Q2065.38 148.435 2065.38 145.426 Q2065.38 141.768 2067.98 139.778 Q2070.57 137.787 2075.34 137.787 Q2077.7 137.787 2079.78 138.134 Q2081.86 138.481 2083.62 139.176 Z\" fill=\"#000000\" fill-rule=\"nonzero\" fill-opacity=\"1\" /><path clip-path=\"url(#clip700)\" d=\"M2096.01 131.051 L2096.01 138.412 L2104.78 138.412 L2104.78 141.722 L2096.01 141.722 L2096.01 155.796 Q2096.01 158.967 2096.86 159.87 Q2097.74 160.773 2100.41 160.773 L2104.78 160.773 L2104.78 164.338 L2100.41 164.338 Q2095.47 164.338 2093.6 162.509 Q2091.72 160.657 2091.72 155.796 L2091.72 141.722 L2088.6 141.722 L2088.6 138.412 L2091.72 138.412 L2091.72 131.051 L2096.01 131.051 Z\" fill=\"#000000\" fill-rule=\"nonzero\" fill-opacity=\"1\" /><path clip-path=\"url(#clip700)\" d=\"M2120.43 141.398 Q2117 141.398 2115.01 144.083 Q2113.02 146.745 2113.02 151.398 Q2113.02 156.051 2114.99 158.736 Q2116.98 161.398 2120.43 161.398 Q2123.83 161.398 2125.82 158.713 Q2127.81 156.027 2127.81 151.398 Q2127.81 146.791 2125.82 144.106 Q2123.83 141.398 2120.43 141.398 M2120.43 137.787 Q2125.98 137.787 2129.16 141.398 Q2132.33 145.009 2132.33 151.398 Q2132.33 157.764 2129.16 161.398 Q2125.98 165.009 2120.43 165.009 Q2114.85 165.009 2111.68 161.398 Q2108.53 157.764 2108.53 151.398 Q2108.53 145.009 2111.68 141.398 Q2114.85 137.787 2120.43 137.787 Z\" fill=\"#000000\" fill-rule=\"nonzero\" fill-opacity=\"1\" /><path clip-path=\"url(#clip700)\" d=\"M2156.45 151.074 Q2156.45 146.444 2154.53 143.898 Q2152.63 141.352 2149.18 141.352 Q2145.75 141.352 2143.83 143.898 Q2141.93 146.444 2141.93 151.074 Q2141.93 155.68 2143.83 158.226 Q2145.75 160.773 2149.18 160.773 Q2152.63 160.773 2154.53 158.226 Q2156.45 155.68 2156.45 151.074 M2160.71 161.12 Q2160.71 167.74 2157.77 170.958 Q2154.83 174.199 2148.76 174.199 Q2146.52 174.199 2144.53 173.851 Q2142.53 173.527 2140.66 172.833 L2140.66 168.689 Q2142.53 169.708 2144.36 170.194 Q2146.19 170.68 2148.09 170.68 Q2152.28 170.68 2154.36 168.481 Q2156.45 166.305 2156.45 161.884 L2156.45 159.777 Q2155.13 162.069 2153.07 163.203 Q2151.01 164.338 2148.14 164.338 Q2143.37 164.338 2140.45 160.703 Q2137.53 157.069 2137.53 151.074 Q2137.53 145.055 2140.45 141.421 Q2143.37 137.787 2148.14 137.787 Q2151.01 137.787 2153.07 138.921 Q2155.13 140.055 2156.45 142.347 L2156.45 138.412 L2160.71 138.412 L2160.71 161.12 Z\" fill=\"#000000\" fill-rule=\"nonzero\" fill-opacity=\"1\" /><path clip-path=\"url(#clip700)\" d=\"M2184.5 142.393 Q2183.78 141.977 2182.93 141.791 Q2182.09 141.583 2181.08 141.583 Q2177.47 141.583 2175.52 143.944 Q2173.6 146.282 2173.6 150.68 L2173.6 164.338 L2169.32 164.338 L2169.32 138.412 L2173.6 138.412 L2173.6 142.44 Q2174.94 140.078 2177.09 138.944 Q2179.25 137.787 2182.33 137.787 Q2182.77 137.787 2183.3 137.856 Q2183.83 137.903 2184.48 138.018 L2184.5 142.393 Z\" fill=\"#000000\" fill-rule=\"nonzero\" fill-opacity=\"1\" /><path clip-path=\"url(#clip700)\" d=\"M2200.75 151.305 Q2195.59 151.305 2193.6 152.486 Q2191.61 153.666 2191.61 156.514 Q2191.61 158.782 2193.09 160.125 Q2194.59 161.444 2197.16 161.444 Q2200.71 161.444 2202.84 158.944 Q2204.99 156.421 2204.99 152.254 L2204.99 151.305 L2200.75 151.305 M2209.25 149.546 L2209.25 164.338 L2204.99 164.338 L2204.99 160.402 Q2203.53 162.763 2201.35 163.898 Q2199.18 165.009 2196.03 165.009 Q2192.05 165.009 2189.69 162.787 Q2187.35 160.541 2187.35 156.791 Q2187.35 152.416 2190.27 150.194 Q2193.21 147.972 2199.02 147.972 L2204.99 147.972 L2204.99 147.555 Q2204.99 144.615 2203.04 143.018 Q2201.12 141.398 2197.63 141.398 Q2195.4 141.398 2193.3 141.93 Q2191.19 142.463 2189.25 143.527 L2189.25 139.592 Q2191.59 138.69 2193.78 138.25 Q2195.98 137.787 2198.07 137.787 Q2203.69 137.787 2206.47 140.703 Q2209.25 143.62 2209.25 149.546 Z\" fill=\"#000000\" fill-rule=\"nonzero\" fill-opacity=\"1\" /><path clip-path=\"url(#clip700)\" d=\"M2238.21 143.389 Q2239.8 140.518 2242.02 139.153 Q2244.25 137.787 2247.26 137.787 Q2251.31 137.787 2253.51 140.634 Q2255.71 143.458 2255.71 148.689 L2255.71 164.338 L2251.42 164.338 L2251.42 148.828 Q2251.42 145.102 2250.1 143.296 Q2248.78 141.49 2246.08 141.49 Q2242.77 141.49 2240.84 143.69 Q2238.92 145.889 2238.92 149.685 L2238.92 164.338 L2234.64 164.338 L2234.64 148.828 Q2234.64 145.078 2233.32 143.296 Q2232 141.49 2229.25 141.49 Q2225.98 141.49 2224.06 143.713 Q2222.14 145.912 2222.14 149.685 L2222.14 164.338 L2217.86 164.338 L2217.86 138.412 L2222.14 138.412 L2222.14 142.44 Q2223.6 140.055 2225.64 138.921 Q2227.67 137.787 2230.47 137.787 Q2233.3 137.787 2235.27 139.222 Q2237.26 140.657 2238.21 143.389 Z\" fill=\"#000000\" fill-rule=\"nonzero\" fill-opacity=\"1\" /><path clip-path=\"url(#clip700)\" d=\"M1564.71 219.634 L1710.29 219.634 L1710.29 178.162 L1564.71 178.162 L1564.71 219.634  Z\" fill=\"#ffa500\" fill-rule=\"evenodd\" fill-opacity=\"0.5\"/>\n",
       "<polyline clip-path=\"url(#clip700)\" style=\"stroke:#e26f46; stroke-linecap:round; stroke-linejoin:round; stroke-width:4; stroke-opacity:1; fill:none\" points=\"1564.71,178.162 1710.29,178.162 \"/>\n",
       "<path clip-path=\"url(#clip700)\" d=\"M1756.8 182.752 L1756.8 187.312 Q1754.13 186.039 1751.77 185.414 Q1749.41 184.789 1747.21 184.789 Q1743.39 184.789 1741.31 186.27 Q1739.25 187.752 1739.25 190.483 Q1739.25 192.775 1740.62 193.955 Q1742 195.113 1745.85 195.83 L1748.67 196.409 Q1753.9 197.405 1756.38 199.928 Q1758.88 202.428 1758.88 206.641 Q1758.88 211.664 1755.5 214.256 Q1752.14 216.849 1745.64 216.849 Q1743.19 216.849 1740.41 216.293 Q1737.65 215.738 1734.69 214.65 L1734.69 209.835 Q1737.54 211.432 1740.27 212.242 Q1743 213.053 1745.64 213.053 Q1749.64 213.053 1751.82 211.479 Q1754 209.904 1754 206.988 Q1754 204.442 1752.42 203.006 Q1750.87 201.571 1747.31 200.854 L1744.46 200.298 Q1739.23 199.256 1736.89 197.034 Q1734.55 194.812 1734.55 190.854 Q1734.55 186.27 1737.77 183.631 Q1741.01 180.993 1746.68 180.993 Q1749.11 180.993 1751.63 181.432 Q1754.16 181.872 1756.8 182.752 Z\" fill=\"#000000\" fill-rule=\"nonzero\" fill-opacity=\"1\" /><path clip-path=\"url(#clip700)\" d=\"M1770.2 182.891 L1770.2 190.252 L1778.97 190.252 L1778.97 193.562 L1770.2 193.562 L1770.2 207.636 Q1770.2 210.807 1771.06 211.71 Q1771.93 212.613 1774.6 212.613 L1778.97 212.613 L1778.97 216.178 L1774.6 216.178 Q1769.67 216.178 1767.79 214.349 Q1765.92 212.497 1765.92 207.636 L1765.92 193.562 L1762.79 193.562 L1762.79 190.252 L1765.92 190.252 L1765.92 182.891 L1770.2 182.891 Z\" fill=\"#000000\" fill-rule=\"nonzero\" fill-opacity=\"1\" /><path clip-path=\"url(#clip700)\" d=\"M1796.36 203.145 Q1791.19 203.145 1789.2 204.326 Q1787.21 205.506 1787.21 208.354 Q1787.21 210.622 1788.69 211.965 Q1790.2 213.284 1792.77 213.284 Q1796.31 213.284 1798.44 210.784 Q1800.59 208.261 1800.59 204.094 L1800.59 203.145 L1796.36 203.145 M1804.85 201.386 L1804.85 216.178 L1800.59 216.178 L1800.59 212.242 Q1799.13 214.603 1796.96 215.738 Q1794.78 216.849 1791.63 216.849 Q1787.65 216.849 1785.29 214.627 Q1782.95 212.381 1782.95 208.631 Q1782.95 204.256 1785.87 202.034 Q1788.81 199.812 1794.62 199.812 L1800.59 199.812 L1800.59 199.395 Q1800.59 196.455 1798.65 194.858 Q1796.73 193.238 1793.23 193.238 Q1791.01 193.238 1788.9 193.77 Q1786.8 194.303 1784.85 195.367 L1784.85 191.432 Q1787.19 190.53 1789.39 190.09 Q1791.59 189.627 1793.67 189.627 Q1799.3 189.627 1802.07 192.543 Q1804.85 195.46 1804.85 201.386 Z\" fill=\"#000000\" fill-rule=\"nonzero\" fill-opacity=\"1\" /><path clip-path=\"url(#clip700)\" d=\"M1835.18 200.529 L1835.18 216.178 L1830.92 216.178 L1830.92 200.668 Q1830.92 196.988 1829.48 195.159 Q1828.05 193.33 1825.18 193.33 Q1821.73 193.33 1819.74 195.53 Q1817.74 197.729 1817.74 201.525 L1817.74 216.178 L1813.46 216.178 L1813.46 190.252 L1817.74 190.252 L1817.74 194.28 Q1819.27 191.942 1821.33 190.784 Q1823.42 189.627 1826.12 189.627 Q1830.59 189.627 1832.88 192.405 Q1835.18 195.159 1835.18 200.529 Z\" fill=\"#000000\" fill-rule=\"nonzero\" fill-opacity=\"1\" /><path clip-path=\"url(#clip700)\" d=\"M1860.73 194.187 L1860.73 180.159 L1864.99 180.159 L1864.99 216.178 L1860.73 216.178 L1860.73 212.289 Q1859.39 214.603 1857.33 215.738 Q1855.29 216.849 1852.42 216.849 Q1847.72 216.849 1844.76 213.099 Q1841.82 209.349 1841.82 203.238 Q1841.82 197.127 1844.76 193.377 Q1847.72 189.627 1852.42 189.627 Q1855.29 189.627 1857.33 190.761 Q1859.39 191.872 1860.73 194.187 M1846.22 203.238 Q1846.22 207.937 1848.14 210.622 Q1850.08 213.284 1853.46 213.284 Q1856.84 213.284 1858.79 210.622 Q1860.73 207.937 1860.73 203.238 Q1860.73 198.539 1858.79 195.877 Q1856.84 193.192 1853.46 193.192 Q1850.08 193.192 1848.14 195.877 Q1846.22 198.539 1846.22 203.238 Z\" fill=\"#000000\" fill-rule=\"nonzero\" fill-opacity=\"1\" /><path clip-path=\"url(#clip700)\" d=\"M1885.55 203.145 Q1880.38 203.145 1878.39 204.326 Q1876.4 205.506 1876.4 208.354 Q1876.4 210.622 1877.88 211.965 Q1879.39 213.284 1881.96 213.284 Q1885.5 213.284 1887.63 210.784 Q1889.78 208.261 1889.78 204.094 L1889.78 203.145 L1885.55 203.145 M1894.04 201.386 L1894.04 216.178 L1889.78 216.178 L1889.78 212.242 Q1888.32 214.603 1886.15 215.738 Q1883.97 216.849 1880.82 216.849 Q1876.84 216.849 1874.48 214.627 Q1872.14 212.381 1872.14 208.631 Q1872.14 204.256 1875.06 202.034 Q1878 199.812 1883.81 199.812 L1889.78 199.812 L1889.78 199.395 Q1889.78 196.455 1887.84 194.858 Q1885.92 193.238 1882.42 193.238 Q1880.2 193.238 1878.09 193.77 Q1875.99 194.303 1874.04 195.367 L1874.04 191.432 Q1876.38 190.53 1878.58 190.09 Q1880.78 189.627 1882.86 189.627 Q1888.49 189.627 1891.26 192.543 Q1894.04 195.46 1894.04 201.386 Z\" fill=\"#000000\" fill-rule=\"nonzero\" fill-opacity=\"1\" /><path clip-path=\"url(#clip700)\" d=\"M1917.84 194.233 Q1917.12 193.817 1916.26 193.631 Q1915.43 193.423 1914.41 193.423 Q1910.8 193.423 1908.86 195.784 Q1906.93 198.122 1906.93 202.52 L1906.93 216.178 L1902.65 216.178 L1902.65 190.252 L1906.93 190.252 L1906.93 194.28 Q1908.28 191.918 1910.43 190.784 Q1912.58 189.627 1915.66 189.627 Q1916.1 189.627 1916.63 189.696 Q1917.17 189.743 1917.81 189.858 L1917.84 194.233 Z\" fill=\"#000000\" fill-rule=\"nonzero\" fill-opacity=\"1\" /><path clip-path=\"url(#clip700)\" d=\"M1938.53 194.187 L1938.53 180.159 L1942.79 180.159 L1942.79 216.178 L1938.53 216.178 L1938.53 212.289 Q1937.19 214.603 1935.13 215.738 Q1933.09 216.849 1930.22 216.849 Q1925.52 216.849 1922.56 213.099 Q1919.62 209.349 1919.62 203.238 Q1919.62 197.127 1922.56 193.377 Q1925.52 189.627 1930.22 189.627 Q1933.09 189.627 1935.13 190.761 Q1937.19 191.872 1938.53 194.187 M1924.02 203.238 Q1924.02 207.937 1925.94 210.622 Q1927.88 213.284 1931.26 213.284 Q1934.64 213.284 1936.59 210.622 Q1938.53 207.937 1938.53 203.238 Q1938.53 198.539 1936.59 195.877 Q1934.64 193.192 1931.26 193.192 Q1927.88 193.192 1925.94 195.877 Q1924.02 198.539 1924.02 203.238 Z\" fill=\"#000000\" fill-rule=\"nonzero\" fill-opacity=\"1\" /><path clip-path=\"url(#clip700)\" d=\"M1966.82 181.618 L1973.11 181.618 L1988.44 210.529 L1988.44 181.618 L1992.98 181.618 L1992.98 216.178 L1986.68 216.178 L1971.36 187.266 L1971.36 216.178 L1966.82 216.178 L1966.82 181.618 Z\" fill=\"#000000\" fill-rule=\"nonzero\" fill-opacity=\"1\" /><path clip-path=\"url(#clip700)\" d=\"M2012.14 193.238 Q2008.72 193.238 2006.73 195.923 Q2004.73 198.585 2004.73 203.238 Q2004.73 207.891 2006.7 210.576 Q2008.69 213.238 2012.14 213.238 Q2015.54 213.238 2017.54 210.553 Q2019.53 207.867 2019.53 203.238 Q2019.53 198.631 2017.54 195.946 Q2015.54 193.238 2012.14 193.238 M2012.14 189.627 Q2017.7 189.627 2020.87 193.238 Q2024.04 196.849 2024.04 203.238 Q2024.04 209.604 2020.87 213.238 Q2017.7 216.849 2012.14 216.849 Q2006.56 216.849 2003.39 213.238 Q2000.24 209.604 2000.24 203.238 Q2000.24 196.849 2003.39 193.238 Q2006.56 189.627 2012.14 189.627 Z\" fill=\"#000000\" fill-rule=\"nonzero\" fill-opacity=\"1\" /><path clip-path=\"url(#clip700)\" d=\"M2046.12 194.233 Q2045.41 193.817 2044.55 193.631 Q2043.72 193.423 2042.7 193.423 Q2039.09 193.423 2037.14 195.784 Q2035.22 198.122 2035.22 202.52 L2035.22 216.178 L2030.94 216.178 L2030.94 190.252 L2035.22 190.252 L2035.22 194.28 Q2036.56 191.918 2038.72 190.784 Q2040.87 189.627 2043.95 189.627 Q2044.39 189.627 2044.92 189.696 Q2045.45 189.743 2046.1 189.858 L2046.12 194.233 Z\" fill=\"#000000\" fill-rule=\"nonzero\" fill-opacity=\"1\" /><path clip-path=\"url(#clip700)\" d=\"M2069.94 195.229 Q2071.54 192.358 2073.76 190.993 Q2075.98 189.627 2078.99 189.627 Q2083.04 189.627 2085.24 192.474 Q2087.44 195.298 2087.44 200.529 L2087.44 216.178 L2083.16 216.178 L2083.16 200.668 Q2083.16 196.942 2081.84 195.136 Q2080.52 193.33 2077.81 193.33 Q2074.5 193.33 2072.58 195.53 Q2070.66 197.729 2070.66 201.525 L2070.66 216.178 L2066.38 216.178 L2066.38 200.668 Q2066.38 196.918 2065.06 195.136 Q2063.74 193.33 2060.98 193.33 Q2057.72 193.33 2055.8 195.553 Q2053.88 197.752 2053.88 201.525 L2053.88 216.178 L2049.6 216.178 L2049.6 190.252 L2053.88 190.252 L2053.88 194.28 Q2055.34 191.895 2057.37 190.761 Q2059.41 189.627 2062.21 189.627 Q2065.04 189.627 2067 191.062 Q2068.99 192.497 2069.94 195.229 Z\" fill=\"#000000\" fill-rule=\"nonzero\" fill-opacity=\"1\" /><path clip-path=\"url(#clip700)\" d=\"M2107.72 203.145 Q2102.56 203.145 2100.57 204.326 Q2098.58 205.506 2098.58 208.354 Q2098.58 210.622 2100.06 211.965 Q2101.56 213.284 2104.13 213.284 Q2107.67 213.284 2109.8 210.784 Q2111.96 208.261 2111.96 204.094 L2111.96 203.145 L2107.72 203.145 M2116.22 201.386 L2116.22 216.178 L2111.96 216.178 L2111.96 212.242 Q2110.5 214.603 2108.32 215.738 Q2106.15 216.849 2103 216.849 Q2099.02 216.849 2096.66 214.627 Q2094.32 212.381 2094.32 208.631 Q2094.32 204.256 2097.23 202.034 Q2100.17 199.812 2105.98 199.812 L2111.96 199.812 L2111.96 199.395 Q2111.96 196.455 2110.01 194.858 Q2108.09 193.238 2104.6 193.238 Q2102.37 193.238 2100.27 193.77 Q2098.16 194.303 2096.22 195.367 L2096.22 191.432 Q2098.55 190.53 2100.75 190.09 Q2102.95 189.627 2105.03 189.627 Q2110.66 189.627 2113.44 192.543 Q2116.22 195.46 2116.22 201.386 Z\" fill=\"#000000\" fill-rule=\"nonzero\" fill-opacity=\"1\" /><path clip-path=\"url(#clip700)\" d=\"M2124.99 180.159 L2129.25 180.159 L2129.25 216.178 L2124.99 216.178 L2124.99 180.159 Z\" fill=\"#000000\" fill-rule=\"nonzero\" fill-opacity=\"1\" /><path clip-path=\"url(#clip700)\" d=\"M2158.09 185.46 L2158.09 198.446 L2163.97 198.446 Q2167.23 198.446 2169.02 196.756 Q2170.8 195.067 2170.8 191.942 Q2170.8 188.84 2169.02 187.15 Q2167.23 185.46 2163.97 185.46 L2158.09 185.46 M2153.41 181.618 L2163.97 181.618 Q2169.78 181.618 2172.74 184.256 Q2175.73 186.872 2175.73 191.942 Q2175.73 197.057 2172.74 199.673 Q2169.78 202.289 2163.97 202.289 L2158.09 202.289 L2158.09 216.178 L2153.41 216.178 L2153.41 181.618 Z\" fill=\"#000000\" fill-rule=\"nonzero\" fill-opacity=\"1\" /><path clip-path=\"url(#clip700)\" d=\"M2186.68 185.46 L2186.68 212.335 L2192.33 212.335 Q2199.48 212.335 2202.79 209.094 Q2206.12 205.854 2206.12 198.863 Q2206.12 191.918 2202.79 188.701 Q2199.48 185.46 2192.33 185.46 L2186.68 185.46 M2182 181.618 L2191.61 181.618 Q2201.65 181.618 2206.35 185.807 Q2211.05 189.974 2211.05 198.863 Q2211.05 207.798 2206.33 211.988 Q2201.61 216.178 2191.61 216.178 L2182 216.178 L2182 181.618 Z\" fill=\"#000000\" fill-rule=\"nonzero\" fill-opacity=\"1\" /><path clip-path=\"url(#clip700)\" d=\"M2218.51 181.618 L2238.37 181.618 L2238.37 185.553 L2223.18 185.553 L2223.18 195.738 L2236.89 195.738 L2236.89 199.673 L2223.18 199.673 L2223.18 216.178 L2218.51 216.178 L2218.51 181.618 Z\" fill=\"#000000\" fill-rule=\"nonzero\" fill-opacity=\"1\" /></svg>\n"
      ]
     },
     "execution_count": 40,
     "metadata": {},
     "output_type": "execute_result"
    }
   ],
   "source": [
    "# Sample data: Replace `data` with your dataset\n",
    "data = randn(1000)  # Example: 1000 random numbers from a standard normal distribution\n",
    "\n",
    "# Create a normalized histogram\n",
    "histogram(data, normalization=:probability, bins=30, label=\"Normalized Histogram\")\n",
    "\n",
    "# To compare with a PDF, overlay the PDF on the same plot\n",
    "# For example, overlaying a standard normal PDF\n",
    "plot!(Normal(0, 1), fill=(0, .5,:orange), label=\"Standard Normal PDF\")"
   ]
  },
  {
   "cell_type": "code",
   "execution_count": null,
   "id": "41be3fb1-ad27-41ab-bce8-c16097f6f7b1",
   "metadata": {},
   "outputs": [],
   "source": []
  },
  {
   "cell_type": "code",
   "execution_count": null,
   "id": "ef6de525-6e1a-4e33-97ee-23a35dc18872",
   "metadata": {},
   "outputs": [],
   "source": []
  }
 ],
 "metadata": {
  "kernelspec": {
   "display_name": "Julia 1.9.3",
   "language": "julia",
   "name": "julia-1.9"
  },
  "language_info": {
   "file_extension": ".jl",
   "mimetype": "application/julia",
   "name": "julia",
   "version": "1.10.0"
  }
 },
 "nbformat": 4,
 "nbformat_minor": 5
}
