{
 "cells": [
  {
   "cell_type": "markdown",
   "id": "18cdc126-4d8f-49fe-b924-72d69b73289b",
   "metadata": {},
   "source": [
    "# &#x1F4DD; REPORT"
   ]
  },
  {
   "cell_type": "markdown",
   "id": "3d6ac38c-059f-49fb-b237-7c09e4fc50c3",
   "metadata": {},
   "source": [
    "# Homework &#x0031;&#xFE0F;&#x20E3; \n",
    "\n",
    "Homework policy: the homework is individual. Students are encouraged to discuss with fellow students to try to find the main structure of the solution for a problem, especially if they are totally stuck at the beginning of the problem. However, you should work out the details yourself and write down in your own words only what you understand yourself."
   ]
  },
  {
   "cell_type": "markdown",
   "id": "34e91283-0494-4de9-bbf3-56d7d25a0a78",
   "metadata": {},
   "source": [
    "\n",
    "In this problem, we consider the roundtrip delay in a computer network (internet) between the computer we’re working on and another computer connected to the network. This roundtrip delay will be different, every time we send a message. As such, it can be modeled as a random variable y. For the design of network protocols and for their performance evaluation, it is important to know the distribution of this random roundtrip delay. To turn the estimation of the roundtrip delay distribution into a parameter estimation problem, we shall take a parametric distribution, parameterized by one or more parameters. Since we don’t have too much information about this variable y (except that it should be positive), we shall try several parametric distributions. In particular, we shall consider the following distributions:\n",
    "\n",
    "$$\n",
    "\\text { * A Gaussian distribution: } \\qquad f_G (y|\\mu, \\sigma^2) = \\frac{1}{\\sqrt{2\\pi\\sigma^2}}  e^{-\\frac{(y−\\mu)^2}{2\\sigma^2}} \n",
    "$$\n",
    "\n",
    "$$\n",
    "\\text { * A Rayleigh distribution: } \\qquad f_R (y|\\sigma^2) = \n",
    "\\begin{cases}\n",
    "0 & , y < 0\n",
    "\\\\\n",
    "\\frac{y}{\\sigma^2}  e^{-\\frac{y^2}{2\\sigma^2}} & , y \\geq 0\n",
    "\\end{cases}\n",
    "$$\n",
    "\n",
    "$$\n",
    "\\text { * An Erlang distribution: } \\qquad f_{Em} (y|\\lambda) = \n",
    "\\begin{cases}\n",
    "0 & , y < 0\n",
    "\\\\\n",
    "\\frac{\\lambda^{m+1}}{m!} y^me^{\\lambda y} & , y \\geq 0\n",
    "\\end{cases} \n",
    "\\\\\n",
    "\\text{ for different values of } m \\in \\{0,1,2\\}.\n",
    "\\\\\n",
    "\\\\\n",
    "\\text{ Remark that for m = 0 we have an exponential density: }\n",
    "\\\\\n",
    "f_{E0}(y|\\lambda) = \n",
    "\\begin{cases}\n",
    "0 & , y < 0\n",
    "\\\\\n",
    "\\lambda e^{-\\lambda y} & , y \\geq 0\n",
    "\\end{cases}\n",
    "$$\n",
    "\n",
    "$$\n",
    "\\text{ * A (shifted) exponential density: } \\qquad f_{exp}(y|\\lambda,\\alpha) = \n",
    "\\begin{cases}\n",
    "0 & , y < 0\n",
    "\\\\\n",
    "\\lambda e^{-\\lambda(y - \\alpha)} & , y \\geq 0\n",
    "\\end{cases}\n",
    "$$"
   ]
  },
  {
   "cell_type": "markdown",
   "id": "dc509581-f206-4fa8-94ed-7297a4f6512f",
   "metadata": {},
   "source": [
    "**&#x1F516;** **(&#x2170;)** Your raw data?\n"
   ]
  },
  {
   "cell_type": "code",
   "execution_count": 1,
   "id": "1131459e-bbd4-4406-827e-95fe01f24938",
   "metadata": {},
   "outputs": [],
   "source": [
    "using DataFrames, CSV"
   ]
  },
  {
   "cell_type": "code",
   "execution_count": 2,
   "id": "9a236f89-c5ff-450d-a4e8-0c80b62a7c98",
   "metadata": {},
   "outputs": [],
   "source": [
    "df = CSV.File(\"stats.txt\") |> DataFrame;"
   ]
  },
  {
   "cell_type": "code",
   "execution_count": 3,
   "id": "6d3a72c8-84f5-4115-84ab-69116232835e",
   "metadata": {},
   "outputs": [],
   "source": [
    "using PrettyTables"
   ]
  },
  {
   "cell_type": "code",
   "execution_count": 4,
   "id": "76e687bc-2c24-46d8-b450-cbe3f94d9473",
   "metadata": {},
   "outputs": [],
   "source": [
    "header = (\n",
    "      [\"pingstats\"]\n",
    "    , [\"[Float64]\"]\n",
    ");"
   ]
  },
  {
   "cell_type": "code",
   "execution_count": 5,
   "id": "0084fdeb-5d4e-4b1c-9b85-900e1dc2f0bd",
   "metadata": {},
   "outputs": [
    {
     "name": "stdout",
     "output_type": "stream",
     "text": [
      "xᵢ[1:3] = [158.991, 152.726, 152.736]\n"
     ]
    }
   ],
   "source": [
    "xᵢ = df[!,\"pingstats\"]; @show xᵢ[1:3];"
   ]
  },
  {
   "cell_type": "code",
   "execution_count": 6,
   "id": "558311d4-7fa5-4d09-ae26-18286a800a02",
   "metadata": {},
   "outputs": [
    {
     "data": {
      "text/html": [
       "<!DOCTYPE html>\n",
       "<html>\n",
       "<meta charset=\"UTF-8\">\n",
       "<head>\n",
       "<style>\n",
       "  table, td, th {\n",
       "      border-collapse: collapse;\n",
       "      font-family: sans-serif;\n",
       "  }\n",
       "\n",
       "  td, th {\n",
       "      border-bottom: 0;\n",
       "      padding: 4px\n",
       "  }\n",
       "\n",
       "  tr:nth-child(odd) {\n",
       "      background: #eee;\n",
       "  }\n",
       "\n",
       "  tr:nth-child(even) {\n",
       "      background: #fff;\n",
       "  }\n",
       "\n",
       "  tr.header {\n",
       "      background: navy !important;\n",
       "      color: white;\n",
       "      font-weight: bold;\n",
       "  }\n",
       "\n",
       "  tr.subheader {\n",
       "      background: lightgray !important;\n",
       "      color: black;\n",
       "  }\n",
       "\n",
       "  tr.headerLastRow {\n",
       "      border-bottom: 2px solid black;\n",
       "  }\n",
       "\n",
       "  th.rowNumber, td.rowNumber {\n",
       "      text-align: right;\n",
       "  }\n",
       "\n",
       "</style>\n",
       "</head>\n",
       "<body>\n",
       "<table>\n",
       "  <thead>\n",
       "    <tr class = \"header\">\n",
       "      <th style = \"text-align: right;\">pingstats</th>\n",
       "    </tr>\n",
       "    <tr class = \"subheader headerLastRow\">\n",
       "      <th style = \"text-align: right;\">[Float64]</th>\n",
       "    </tr>\n",
       "  </thead>\n",
       "  <tbody>\n",
       "    <tr>\n",
       "      <td style = \"text-align: right;\">158.991</td>\n",
       "    </tr>\n",
       "    <tr>\n",
       "      <td style = \"text-align: right;\">152.726</td>\n",
       "    </tr>\n",
       "    <tr>\n",
       "      <td style = \"text-align: right;\">152.736</td>\n",
       "    </tr>\n",
       "  </tbody>\n",
       "</table>\n",
       "</body>\n",
       "</html>\n"
      ]
     },
     "metadata": {},
     "output_type": "display_data"
    }
   ],
   "source": [
    "pretty_table(\n",
    "    first(xᵢ, 3)\n",
    "    , backend=Val(:html), header = header, standalone=true)"
   ]
  },
  {
   "cell_type": "code",
   "execution_count": 7,
   "id": "ec0753b8-9efe-4024-ac38-e1f20d772e93",
   "metadata": {},
   "outputs": [],
   "source": [
    "using Statistics"
   ]
  },
  {
   "cell_type": "code",
   "execution_count": 8,
   "id": "fdb52ff8-f40f-4362-a481-d4c8f7b8ae0f",
   "metadata": {},
   "outputs": [
    {
     "data": {
      "text/plain": [
       "100"
      ]
     },
     "execution_count": 8,
     "metadata": {},
     "output_type": "execute_result"
    }
   ],
   "source": [
    "# Global Operations and constants\n",
    "∑ = sum\n",
    "𝖤 = mean # Expected Value\n",
    "n = length(xᵢ) # Lenght of data used all along"
   ]
  },
  {
   "cell_type": "code",
   "execution_count": 9,
   "id": "a321c281-08b5-40de-9df0-ebf34c7d5152",
   "metadata": {},
   "outputs": [],
   "source": [
    "using Markdown"
   ]
  },
  {
   "cell_type": "markdown",
   "id": "2831332d-217e-489c-837d-4d91c33ff423",
   "metadata": {},
   "source": [
    "**&#x1F516;** **(&#x2170;&#x2170;)** Estimated Parameters"
   ]
  },
  {
   "cell_type": "markdown",
   "id": "05c3f314-40c3-443a-bd96-ddeed05be437",
   "metadata": {},
   "source": [
    "&#x1F518; $\\mu_G$=? ($\\mu_G$)"
   ]
  },
  {
   "cell_type": "code",
   "execution_count": 10,
   "id": "a037760e-9f5e-4f01-896e-73ba29fc9709",
   "metadata": {},
   "outputs": [
    {
     "data": {
      "text/latex": [
       "\\paragraph{\\&\\#x1F4DD; Gaussian Mean}\n",
       "$$\\mu = \\frac{1}{n}\\sum_{i=1}^{n}x_i \\qquad \\{i: \\in 1,\\cdots,n\\}$$\n"
      ],
      "text/markdown": [
       "#### &#x1F4DD; Gaussian Mean\n",
       "\n",
       "$$\n",
       "\\mu = \\frac{1}{n}\\sum_{i=1}^{n}x_i \\qquad \\{i: \\in 1,\\cdots,n\\}\n",
       "$$\n"
      ],
      "text/plain": [
       "\u001b[1m  &#x1F4DD; Gaussian Mean\u001b[22m\n",
       "\u001b[1m  -----------------------\u001b[22m\n",
       "\n",
       "\u001b[35m  \\mu = \\frac{1}{n}\\sum_{i=1}^{n}x_i \\qquad \\{i: \\in 1,\\cdots,n\\}\u001b[39m"
      ]
     },
     "execution_count": 10,
     "metadata": {},
     "output_type": "execute_result"
    }
   ],
   "source": [
    "Markdown.parse(raw\"\n",
    "#### &#x1F4DD; Gaussian Mean\n",
    "```math\n",
    "\\mu = \\frac{1}{n}\\sum_{i=1}^{n}x_i \\qquad \\{i: \\in 1,\\cdots,n\\}\n",
    "```\n",
    "\")"
   ]
  },
  {
   "cell_type": "code",
   "execution_count": 11,
   "id": "f4fd48ca-ee0b-42d8-b432-b0f05084a55d",
   "metadata": {},
   "outputs": [
    {
     "name": "stdout",
     "output_type": "stream",
     "text": [
      "The calculated mean μ of the dataset is: 179.70369\n"
     ]
    }
   ],
   "source": [
    "# Compute the mean by dividing the total sum by the number of data points\n",
    "μ𝐺 = 1/n * ∑([i for i in xᵢ])\n",
    "\n",
    "# Print the calculated mean\n",
    "println(\"The calculated mean μ of the dataset is: \", μ𝐺)"
   ]
  },
  {
   "cell_type": "markdown",
   "id": "b2b8a399-d27e-4617-886e-d77c73766da5",
   "metadata": {},
   "source": [
    "&#x1F518; $\\sigma_G$=? ($\\sigma_G^2$)"
   ]
  },
  {
   "cell_type": "code",
   "execution_count": 12,
   "id": "0f2008be-8315-476e-85d0-21e3bf7da1b9",
   "metadata": {},
   "outputs": [
    {
     "data": {
      "text/latex": [
       "\\paragraph{\\&\\#x1F4DD; Gaussian Variance}\n",
       "$$\\sigma_G^2 = \\frac{1}{n-1} \\sum_{i=1}^{n} (x_i - \\mu_G)^2 \\qquad \\{i: \\in 1,\\cdots,n\\}$$\n"
      ],
      "text/markdown": [
       "#### &#x1F4DD; Gaussian Variance\n",
       "\n",
       "$$\n",
       "\\sigma_G^2 = \\frac{1}{n-1} \\sum_{i=1}^{n} (x_i - \\mu_G)^2 \\qquad \\{i: \\in 1,\\cdots,n\\}\n",
       "$$\n"
      ],
      "text/plain": [
       "\u001b[1m  &#x1F4DD; Gaussian Variance\u001b[22m\n",
       "\u001b[1m  ---------------------------\u001b[22m\n",
       "\n",
       "\u001b[35m  \\sigma_G^2 = \\frac{1}{n-1} \\sum_{i=1}^{n} (x_i - \\mu_G)^2 \\qquad \\{i: \\in 1,\\cdots,n\\}\u001b[39m"
      ]
     },
     "execution_count": 12,
     "metadata": {},
     "output_type": "execute_result"
    }
   ],
   "source": [
    "Markdown.parse(raw\"\n",
    "#### &#x1F4DD; Gaussian Variance\n",
    "```math\n",
    "\\sigma_G^2 = \\frac{1}{n-1} \\sum_{i=1}^{n} (x_i - \\mu_G)^2 \\qquad \\{i: \\in 1,\\cdots,n\\}\n",
    "```\n",
    "\")"
   ]
  },
  {
   "cell_type": "code",
   "execution_count": 13,
   "id": "c6599c8d-c575-47a5-9c1d-3b16ee4e433f",
   "metadata": {},
   "outputs": [
    {
     "data": {
      "text/plain": [
       "581.787739630202"
      ]
     },
     "execution_count": 13,
     "metadata": {},
     "output_type": "execute_result"
    }
   ],
   "source": [
    "# Calculate the variance (this is σ_G^2)\n",
    "σ𝐺² = 1/(n - 1) * ∑([(i - μ𝐺)^2 for i in xᵢ]) # or σ𝐺² = var(xᵢ) if using Statistics package"
   ]
  },
  {
   "cell_type": "code",
   "execution_count": 14,
   "id": "ae0f4844-02ac-4aec-a0f7-ab3dd11b6200",
   "metadata": {},
   "outputs": [
    {
     "data": {
      "text/latex": [
       "\\paragraph{\\&\\#x1F4DD; Gaussian Standard Deviation}\n",
       "$$\\sigma_G = \\sqrt{\\sigma_G^2}$$\n"
      ],
      "text/markdown": [
       "#### &#x1F4DD; Gaussian Standard Deviation\n",
       "\n",
       "$$\n",
       "\\sigma_G = \\sqrt{\\sigma_G^2}\n",
       "$$\n"
      ],
      "text/plain": [
       "\u001b[1m  &#x1F4DD; Gaussian Standard Deviation\u001b[22m\n",
       "\u001b[1m  -------------------------------------\u001b[22m\n",
       "\n",
       "\u001b[35m  \\sigma_G = \\sqrt{\\sigma_G^2}\u001b[39m"
      ]
     },
     "execution_count": 14,
     "metadata": {},
     "output_type": "execute_result"
    }
   ],
   "source": [
    "Markdown.parse(raw\"\n",
    "#### &#x1F4DD; Gaussian Standard Deviation\n",
    "```math\n",
    "\\sigma_G = \\sqrt{\\sigma_G^2}\n",
    "```\n",
    "\")"
   ]
  },
  {
   "cell_type": "code",
   "execution_count": 15,
   "id": "5cc0f8ae-5044-4196-80a4-b0e95eb6f48d",
   "metadata": {},
   "outputs": [
    {
     "name": "stdout",
     "output_type": "stream",
     "text": [
      "Estimated standard deviation σ𝐺 = 24.120276524745773\n"
     ]
    }
   ],
   "source": [
    "# Calculate the standard deviation (σ_G)\n",
    "σ𝐺 = √(σ𝐺²)\n",
    "\n",
    "println(\"Estimated standard deviation σ𝐺 = \", σ𝐺)"
   ]
  },
  {
   "cell_type": "code",
   "execution_count": 16,
   "id": "71022ca7-efec-459f-990c-ee3051580067",
   "metadata": {},
   "outputs": [
    {
     "data": {
      "text/latex": [
       "\\paragraph{\\&\\#x1F4DD; Gaussian Log-Likelihood}\n",
       "$$\\mathcal{L}_G(\\mu, \\sigma^2) = -\\frac{n}{2} \\log(2\\pi\\sigma^2) - \\frac{1}{2\\sigma^2} \\sum_{i=1}^{n} (x_i - \\mu)^2$$\n"
      ],
      "text/markdown": [
       "#### &#x1F4DD; Gaussian Log-Likelihood\n",
       "\n",
       "$$\n",
       "\\mathcal{L}_G(\\mu, \\sigma^2) = -\\frac{n}{2} \\log(2\\pi\\sigma^2) - \\frac{1}{2\\sigma^2} \\sum_{i=1}^{n} (x_i - \\mu)^2\n",
       "$$\n"
      ],
      "text/plain": [
       "\u001b[1m  &#x1F4DD; Gaussian Log-Likelihood\u001b[22m\n",
       "\u001b[1m  ---------------------------------\u001b[22m\n",
       "\n",
       "\u001b[35m  \\mathcal{L}_G(\\mu, \\sigma^2) = -\\frac{n}{2} \\log(2\\pi\\sigma^2) - \\frac{1}{2\\sigma^2} \\sum_{i=1}^{n} (x_i - \\mu)^2\u001b[39m"
      ]
     },
     "execution_count": 16,
     "metadata": {},
     "output_type": "execute_result"
    }
   ],
   "source": [
    "Markdown.parse(raw\"\n",
    "#### &#x1F4DD; Gaussian Log-Likelihood\n",
    "```math\n",
    "\\mathcal{L}_G(\\mu, \\sigma^2) = -\\frac{n}{2} \\log(2\\pi\\sigma^2) - \\frac{1}{2\\sigma^2} \\sum_{i=1}^{n} (x_i - \\mu)^2\n",
    "```\n",
    "\")"
   ]
  },
  {
   "cell_type": "code",
   "execution_count": 17,
   "id": "91a8cab5-3d11-4cca-a832-a91f2ad55b12",
   "metadata": {},
   "outputs": [
    {
     "name": "stdout",
     "output_type": "stream",
     "text": [
      "Log-likelihood 𝓛𝐺: -459.6991369539639\n"
     ]
    }
   ],
   "source": [
    "# Compute the log-likelihood 𝓛G \n",
    "𝓛𝐺 = -n/2 * log(2π * σ𝐺²) - 1/(2*σ𝐺²) * ∑((xᵢ .- μ𝐺).^2) # typed \\bscrL\n",
    "\n",
    "println(\"Log-likelihood 𝓛𝐺: \", 𝓛𝐺)"
   ]
  },
  {
   "cell_type": "markdown",
   "id": "6440d0da-615d-4d51-b413-3162cfd681d5",
   "metadata": {},
   "source": [
    "#### &#x1F4DD; Gaussian Recap\n",
    "\n",
    "The standard deviation $\\sigma_G$ of a Gaussian distribution is the square root of the variance $\\sigma_G^2$. If you have estimated the variance $\\sigma_G^2$ from your dataset, then the standard deviation $\\sigma_G$ can be calculated as follows:\n",
    "\n",
    "$ \\sigma_G = \\sqrt{\\sigma_G^2} $\n",
    "\n",
    "If you've calculated $\\sigma_G^2$ using the formula for the variance from a set of data points $x_1, x_2, ..., x_n$ (where $n$ is the number of observations):\n",
    "\n",
    "$ \\sigma_G^2 = \\frac{1}{n-1} \\sum_{i=1}^{n} (x_i - \\mu_G)^2 $\n",
    "\n",
    "Where $\\mu_G$ is the mean of the data points.\n",
    "\n",
    "Then, the standard deviation $\\sigma_G$ is simply the square root of this variance:\n",
    "\n",
    "$ \\sigma_G = \\sqrt{\\sigma_G^2} $\n",
    "\n",
    "This code may also calculates the variance of $x_i$ using Julia's `var` function from the `Statistics` package and then computes the standard deviation by taking the square root of the variance.\n",
    "\n",
    "To compute the log-likelihood value $\\mathcal{L}_G$ for a Gaussian (normal) distribution given a dataset, you use the log-likelihood function of the Gaussian distribution. The probability density function (PDF) of the Gaussian distribution for a single observation $y$ with mean $\\mu$ and variance $\\sigma^2$ is:\n",
    "\n",
    "$ f(x|\\mu, \\sigma^2) = \\frac{1}{\\sqrt{2\\pi\\sigma^2}} e^{-\\frac{(x-\\mu)^2}{2\\sigma^2}} $\n",
    "\n",
    "Given $n$ independent and identically distributed (i.i.d.) observations $x_1, x_2, \\ldots, x_n$, the log-likelihood function $\\mathcal{L}_G(\\mu, \\sigma^2)$ is the sum of the logarithms of the individual PDFs:\n",
    "\n",
    "$ \\mathcal{L}_G(\\mu, \\sigma^2) = \\sum_{i=1}^{n} \\log\\left( \\frac{1}{\\sqrt{2\\pi\\sigma^2}} e^{-\\frac{(x_i-\\mu)^2}{2\\sigma^2}} \\right) $\n",
    "\n",
    "This simplifies to:\n",
    "\n",
    "$ \\mathcal{L}_G(\\mu, \\sigma^2) = -\\frac{n}{2} \\log(2\\pi\\sigma^2) - \\frac{1}{2\\sigma^2} \\sum_{i=1}^{n} (x_i - \\mu)^2 $\n"
   ]
  },
  {
   "cell_type": "markdown",
   "id": "3629a8b1-aca9-415f-a9ca-d05c76906bda",
   "metadata": {},
   "source": [
    "&#x1F518; $\\sigma_R$=? ($\\sigma_R^2$)"
   ]
  },
  {
   "cell_type": "markdown",
   "id": "472a855a-10a3-4c31-9091-96ecdcdfbf3e",
   "metadata": {},
   "source": [
    "To estimate the parameter $\\sigma_R^2$ for a Rayleigh distribution from a dataset, we use the method of moments or maximum likelihood estimation. The variance of a Rayleigh distributed random variable is given by:\n",
    "\n",
    "$ \\sigma_R^2 = \\frac{4 - \\pi}{2} \\sigma^2 $\n",
    "\n",
    "where $\\sigma^2$ is the parameter of the Rayleigh distribution. However, if you're looking to estimate $\\sigma_R^2$ directly from data assumed to be drawn from a Rayleigh distribution, you might actually be looking to estimate $\\sigma^2$ first, since $\\sigma_R^2$ here refers to the variance of the distribution which is a function of $\\sigma^2$.\n",
    "\n",
    "The parameter $\\sigma^2$ of the Rayleigh distribution can be estimated from the data. Given a set of $n$ independent observations $x_1, x_2, ..., x_n$ from a Rayleigh distribution, the maximum likelihood estimator (MLE) of $\\sigma^2$ is:\n",
    "\n",
    "$ \\hat{\\sigma}^2 = \\frac{1}{2n} \\sum_{i=1}^n x_i^2 $\n",
    "\n",
    "Once $\\hat{\\sigma}^2$ is estimated, you can then find the estimated variance of the distribution, denoted as $\\hat{\\sigma}_R^2$, using the formula for the variance of a Rayleigh distribution, which is:\n",
    "\n",
    "$ \\hat{\\sigma}_R^2 = \\frac{4 - \\pi}{2} \\hat{\\sigma}^2 $\n",
    "\n",
    "To perform a similar estimation of the parameter $\\sigma^2$ and consequently $\\sigma_R^2$ for a Rayleigh distribution in Julia, you can follow the methodology described for MATLAB but adapt it to Julia syntax. Here's how you can estimate $\\sigma^2$ (the parameter of the Rayleigh distribution) and then calculate $\\sigma_R^2$ (the variance of the Rayleigh distribution) in Julia:\n",
    "\n",
    "This Julia code snippet follows the same steps as the MATLAB version:\n"
   ]
  },
  {
   "cell_type": "code",
   "execution_count": 18,
   "id": "2caef87d-4f15-4e1b-84de-b43bd11430b1",
   "metadata": {},
   "outputs": [
    {
     "name": "stdout",
     "output_type": "stream",
     "text": [
      "Estimated parameter σ̂²𝑅 = 7053.830616871324\n"
     ]
    }
   ],
   "source": [
    "# Estimate sigma^2 (sigma squared) for Rayleigh distribution\n",
    "σ̂² = 1/2n * ∑(xᵢ .^ 2)\n",
    "\n",
    "# Calculate the estimated variance of the Rayleigh distribution\n",
    "σ̂²𝑅 = (4 - π)/2 * σ̂²\n",
    "\n",
    "# Display the estimated parameter\n",
    "println(\"Estimated parameter σ̂²𝑅 = \", σ̂²𝑅)"
   ]
  },
  {
   "cell_type": "markdown",
   "id": "68e6de85-6d05-40f2-9870-c9b299da9f05",
   "metadata": {},
   "source": [
    "1. It estimates $\\hat{\\sigma}^2$ from the sample data using the maximum likelihood estimation formula for a Rayleigh distribution.\n",
    "2. It then computes $\\hat{\\sigma}_R^2$, the variance of the Rayleigh distribution, based on the estimated $\\sigma^2$.\n",
    "3. Finally, it prints out the estimated $\\sigma_R^2$.\n",
    "\n",
    "The key differences are in the syntax used for array operations and printing output. Julia uses `.^` for element-wise squaring of the array elements, similar to MATLAB, and `println` for printing output to the console."
   ]
  },
  {
   "cell_type": "markdown",
   "id": "61b2ac62-2068-4746-b4dd-0a7a32bb8e39",
   "metadata": {},
   "source": [
    "&#x1F518; $\\lambda_{E0}$=? ($\\lambda_{E0}$)"
   ]
  },
  {
   "cell_type": "code",
   "execution_count": 19,
   "id": "2be66a4a-6c5b-4e1f-8778-0b3bbba36b41",
   "metadata": {},
   "outputs": [
    {
     "data": {
      "text/latex": [
       "\\paragraph{\\&\\#x1F4DD; Estimating $\\lambda$ from data}\n",
       "$$\\hat{\\lambda}_{E0} = \\frac{1}{\\bar{y}} = \\frac{n}{\\sum_{i=1}^{n} y_i}  \\qquad \\{i: \\in 1,\\cdots,n\\}$$\n"
      ],
      "text/markdown": [
       "#### &#x1F4DD; Estimating $\\lambda$ from data\n",
       "\n",
       "$$\n",
       "\\hat{\\lambda}_{E0} = \\frac{1}{\\bar{y}} = \\frac{n}{\\sum_{i=1}^{n} y_i}  \\qquad \\{i: \\in 1,\\cdots,n\\}\n",
       "$$\n"
      ],
      "text/plain": [
       "\u001b[1m  &#x1F4DD; Estimating \u001b[35m\\lambda\u001b[39m from data\u001b[22m\n",
       "\u001b[1m  --------------------------------------\u001b[22m\n",
       "\n",
       "\u001b[35m  \\hat{\\lambda}_{E0} = \\frac{1}{\\bar{y}} = \\frac{n}{\\sum_{i=1}^{n} y_i}  \\qquad \\{i: \\in 1,\\cdots,n\\}\u001b[39m"
      ]
     },
     "execution_count": 19,
     "metadata": {},
     "output_type": "execute_result"
    }
   ],
   "source": [
    "Markdown.parse(raw\"\n",
    "#### &#x1F4DD; Estimating $\\lambda$ from data\n",
    "```math\n",
    "\\hat{\\lambda}_{E0} = \\frac{1}{\\bar{y}} = \\frac{n}{\\sum_{i=1}^{n} y_i}  \\qquad \\{i: \\in 1,\\cdots,n\\}\n",
    "```\n",
    "\")"
   ]
  },
  {
   "cell_type": "code",
   "execution_count": 20,
   "id": "9b1909ad-80e3-4a0c-91a6-3385d3d85b05",
   "metadata": {},
   "outputs": [
    {
     "name": "stdout",
     "output_type": "stream",
     "text": [
      "Estimated rate parameter λ̂𝐸0 = 5.5647160055533644e-5\n"
     ]
    }
   ],
   "source": [
    "# Estimate λ for the exponential distribution\n",
    "λ̂𝐸0 = 1 / ∑([i for i in xᵢ])\n",
    "\n",
    "println(\"Estimated rate parameter λ̂𝐸0 = \", λ̂𝐸0)"
   ]
  },
  {
   "cell_type": "markdown",
   "id": "3184dbd7-17fa-4466-a2a6-588128004f3b",
   "metadata": {},
   "source": [
    "The parameter $\\lambda_{E0}$ typically refers to the rate parameter of an exponential distribution, especially within the context of statistical or probability distributions. The exponential distribution is often used to model the time between events in a Poisson point process, characterized by a constant average rate of occurrence.\n",
    "\n",
    "The probability density function (PDF) of an exponential distribution is given by:\n",
    "\n",
    "$ f(y|\\lambda) = \\lambda e^{-\\lambda y} \\quad \\text{for} \\quad y \\geq 0 $\n",
    "\n",
    "where:\n",
    "- $y$ is the variable,\n",
    "- $\\lambda$ is the rate parameter of the distribution, which is positive ($\\lambda > 0$).\n",
    "\n",
    "### Estimating $\\lambda$ from Data\n",
    "\n",
    "If you have a dataset and you want to estimate the rate parameter $\\lambda$ of the exponential distribution that best fits your data, you can use the Maximum Likelihood Estimation (MLE) method. Given a sample of $n$ independent observations from an exponential distribution, $y_1, y_2, \\ldots, y_n$, the MLE of $\\lambda$ is given by the reciprocal of the sample mean:\n",
    "\n",
    "$ \\hat{\\lambda}_{E0} = \\frac{1}{\\bar{y}} = \\frac{n}{\\sum_{i=1}^{n} y_i} $\n",
    "\n",
    "where $\\bar{y}$ is the sample mean of the observations.\n",
    "\n",
    "### Implementation in Julia\n",
    "\n",
    "To calculate $\\hat{\\lambda}_{E0}$ in Julia, you would first compute the mean of your dataset and then take its reciprocal. Here's how you could do it:"
   ]
  },
  {
   "cell_type": "markdown",
   "id": "728ae94c-917b-4c38-bf23-4e7f8932b560",
   "metadata": {},
   "source": [
    "This code calculates $\\hat{\\lambda}_{E0}$ for a given dataset `xᵢ`, assuming that the data is drawn from an exponential distribution."
   ]
  },
  {
   "cell_type": "markdown",
   "id": "8cfe27db-b1c8-4084-8353-4740c81d0e15",
   "metadata": {},
   "source": [
    "\n",
    "\n",
    "$\\lambda_{E1}$=? ($\\lambda_{E1}$)\n",
    "\n",
    "$\\lambda_{E2}$=? ($\\lambda_{E2}$)\n",
    "\n",
    "\n",
    "$\\lambda_{exp}$=? (shifted exponential distribution $\\lambda_{exp}$)\n",
    "$\\alpha_{exp}$=? ($\\alpha_{exp}$)\n",
    "\n",
    "\n",
    "$\\sigma_{SR}$=? (shifted Rayleigh $\\sigma_{SR}^2$)\n",
    "$\\alpha_{SR}$=? ($\\alpha_{SR}$)\n",
    "\n",
    "\n",
    "plot\n",
    "?\n",
    "\n",
    "\n",
    "log-likelihood value\n",
    "$L_G$ =?\n",
    "\n",
    "$L_R$ =?\n",
    "\n",
    "$L_{E0}$ =?\n",
    "\n",
    "$L_{E1}$ =?\n",
    "\n",
    "$L_{E2}$ =?\n",
    "\n",
    "$L_{exp}$ =?\n",
    "\n",
    "$L_{SR}$ =?"
   ]
  },
  {
   "cell_type": "markdown",
   "id": "dd9cb12b-26f6-4c75-8b42-3269d9cc296a",
   "metadata": {},
   "source": [
    "&#x1F516; **(&#x2173;)**  In Matlab, plot a histogram of the measurements {y1, . . . , yn} you made and in the same plot superimpose the graphs for the marginal densities $f (y|\\hat{\\theta}_{ML,i} (Y )), i \\in \\{G, R, E0, E1, E2, exp,SR \\}$. Make this plot for y going from a value that is somewhat smaller than the $y_{min}$ you measured to a value that is somewhat bigger than the $y_{max}$ you measured. In Matlab, use the histogram command with the options ’Normalization’ and ’probability’, so that the histogram can be compared directly to the pdf of the distributions."
   ]
  },
  {
   "cell_type": "code",
   "execution_count": 21,
   "id": "0659c80a-7bf7-47ba-9853-a1d113b058e5",
   "metadata": {},
   "outputs": [],
   "source": [
    "using Plots\n",
    "using Distributions\n",
    "using StatsPlots  # For the `plot` function for distributions"
   ]
  },
  {
   "cell_type": "code",
   "execution_count": 22,
   "id": "c6dfa7c1-7508-453b-af12-029969bef7ef",
   "metadata": {},
   "outputs": [
    {
     "data": {
      "image/png": "[encoded data removed]",
      "image/svg+xml": [
       "<?xml version=\"1.0\" encoding=\"utf-8\"?>\n",
       "<svg xmlns=\"http://www.w3.org/2000/svg\" xmlns:xlink=\"http://www.w3.org/1999/xlink\" width=\"600\" height=\"400\" viewBox=\"0 0 2400 1600\">\n",
       "<defs>\n",
       "  <clipPath id=\"clip190\">\n",
       "    <rect x=\"0\" y=\"0\" width=\"2400\" height=\"1600\"/>\n",
       "  </clipPath>\n",
       "</defs>\n",
       "<path clip-path=\"url(#clip190)\" d=\"M0 1600 L2400 1600 L2400 0 L0 0  Z\" fill=\"#ffffff\" fill-rule=\"evenodd\" fill-opacity=\"1\"/>\n",
       "<defs>\n",
       "  <clipPath id=\"clip191\">\n",
       "    <rect x=\"480\" y=\"0\" width=\"1681\" height=\"1600\"/>\n",
       "  </clipPath>\n",
       "</defs>\n",
       "<path clip-path=\"url(#clip190)\" d=\"M141.853 1486.45 L2352.76 1486.45 L2352.76 47.2441 L141.853 47.2441  Z\" fill=\"#ffffff\" fill-rule=\"evenodd\" fill-opacity=\"1\"/>\n",
       "<defs>\n",
       "  <clipPath id=\"clip192\">\n",
       "    <rect x=\"141\" y=\"47\" width=\"2212\" height=\"1440\"/>\n",
       "  </clipPath>\n",
       "</defs>\n",
       "<polyline clip-path=\"url(#clip192)\" style=\"stroke:#000000; stroke-linecap:round; stroke-linejoin:round; stroke-width:2; stroke-opacity:0.1; fill:none\" points=\"406.051,1486.45 406.051,47.2441 \"/>\n",
       "<polyline clip-path=\"url(#clip192)\" style=\"stroke:#000000; stroke-linecap:round; stroke-linejoin:round; stroke-width:2; stroke-opacity:0.1; fill:none\" points=\"686.469,1486.45 686.469,47.2441 \"/>\n",
       "<polyline clip-path=\"url(#clip192)\" style=\"stroke:#000000; stroke-linecap:round; stroke-linejoin:round; stroke-width:2; stroke-opacity:0.1; fill:none\" points=\"966.887,1486.45 966.887,47.2441 \"/>\n",
       "<polyline clip-path=\"url(#clip192)\" style=\"stroke:#000000; stroke-linecap:round; stroke-linejoin:round; stroke-width:2; stroke-opacity:0.1; fill:none\" points=\"1247.3,1486.45 1247.3,47.2441 \"/>\n",
       "<polyline clip-path=\"url(#clip192)\" style=\"stroke:#000000; stroke-linecap:round; stroke-linejoin:round; stroke-width:2; stroke-opacity:0.1; fill:none\" points=\"1527.72,1486.45 1527.72,47.2441 \"/>\n",
       "<polyline clip-path=\"url(#clip192)\" style=\"stroke:#000000; stroke-linecap:round; stroke-linejoin:round; stroke-width:2; stroke-opacity:0.1; fill:none\" points=\"1808.14,1486.45 1808.14,47.2441 \"/>\n",
       "<polyline clip-path=\"url(#clip192)\" style=\"stroke:#000000; stroke-linecap:round; stroke-linejoin:round; stroke-width:2; stroke-opacity:0.1; fill:none\" points=\"2088.56,1486.45 2088.56,47.2441 \"/>\n",
       "<polyline clip-path=\"url(#clip190)\" style=\"stroke:#000000; stroke-linecap:round; stroke-linejoin:round; stroke-width:4; stroke-opacity:1; fill:none\" points=\"141.853,1486.45 2352.76,1486.45 \"/>\n",
       "<polyline clip-path=\"url(#clip190)\" style=\"stroke:#000000; stroke-linecap:round; stroke-linejoin:round; stroke-width:4; stroke-opacity:1; fill:none\" points=\"406.051,1486.45 406.051,1467.55 \"/>\n",
       "<polyline clip-path=\"url(#clip190)\" style=\"stroke:#000000; stroke-linecap:round; stroke-linejoin:round; stroke-width:4; stroke-opacity:1; fill:none\" points=\"686.469,1486.45 686.469,1467.55 \"/>\n",
       "<polyline clip-path=\"url(#clip190)\" style=\"stroke:#000000; stroke-linecap:round; stroke-linejoin:round; stroke-width:4; stroke-opacity:1; fill:none\" points=\"966.887,1486.45 966.887,1467.55 \"/>\n",
       "<polyline clip-path=\"url(#clip190)\" style=\"stroke:#000000; stroke-linecap:round; stroke-linejoin:round; stroke-width:4; stroke-opacity:1; fill:none\" points=\"1247.3,1486.45 1247.3,1467.55 \"/>\n",
       "<polyline clip-path=\"url(#clip190)\" style=\"stroke:#000000; stroke-linecap:round; stroke-linejoin:round; stroke-width:4; stroke-opacity:1; fill:none\" points=\"1527.72,1486.45 1527.72,1467.55 \"/>\n",
       "<polyline clip-path=\"url(#clip190)\" style=\"stroke:#000000; stroke-linecap:round; stroke-linejoin:round; stroke-width:4; stroke-opacity:1; fill:none\" points=\"1808.14,1486.45 1808.14,1467.55 \"/>\n",
       "<polyline clip-path=\"url(#clip190)\" style=\"stroke:#000000; stroke-linecap:round; stroke-linejoin:round; stroke-width:4; stroke-opacity:1; fill:none\" points=\"2088.56,1486.45 2088.56,1467.55 \"/>\n",
       "<path clip-path=\"url(#clip190)\" d=\"M375.519 1532.02 L405.194 1532.02 L405.194 1535.95 L375.519 1535.95 L375.519 1532.02 Z\" fill=\"#000000\" fill-rule=\"nonzero\" fill-opacity=\"1\" /><path clip-path=\"url(#clip190)\" d=\"M429.453 1530.21 Q432.81 1530.93 434.685 1533.2 Q436.583 1535.47 436.583 1538.8 Q436.583 1543.92 433.064 1546.72 Q429.546 1549.52 423.065 1549.52 Q420.889 1549.52 418.574 1549.08 Q416.282 1548.66 413.828 1547.81 L413.828 1543.29 Q415.773 1544.43 418.088 1545.01 Q420.403 1545.58 422.926 1545.58 Q427.324 1545.58 429.615 1543.85 Q431.93 1542.11 431.93 1538.8 Q431.93 1535.75 429.777 1534.03 Q427.648 1532.3 423.828 1532.3 L419.801 1532.3 L419.801 1528.45 L424.014 1528.45 Q427.463 1528.45 429.291 1527.09 Q431.12 1525.7 431.12 1523.11 Q431.12 1520.45 429.222 1519.03 Q427.347 1517.6 423.828 1517.6 Q421.907 1517.6 419.708 1518.01 Q417.509 1518.43 414.87 1519.31 L414.87 1515.14 Q417.532 1514.4 419.847 1514.03 Q422.185 1513.66 424.245 1513.66 Q429.569 1513.66 432.671 1516.09 Q435.773 1518.5 435.773 1522.62 Q435.773 1525.49 434.129 1527.48 Q432.486 1529.45 429.453 1530.21 Z\" fill=\"#000000\" fill-rule=\"nonzero\" fill-opacity=\"1\" /><path clip-path=\"url(#clip190)\" d=\"M656.411 1532.02 L686.087 1532.02 L686.087 1535.95 L656.411 1535.95 L656.411 1532.02 Z\" fill=\"#000000\" fill-rule=\"nonzero\" fill-opacity=\"1\" /><path clip-path=\"url(#clip190)\" d=\"M700.207 1544.91 L716.526 1544.91 L716.526 1548.85 L694.582 1548.85 L694.582 1544.91 Q697.244 1542.16 701.827 1537.53 Q706.434 1532.88 707.614 1531.53 Q709.86 1529.01 710.739 1527.27 Q711.642 1525.51 711.642 1523.82 Q711.642 1521.07 709.698 1519.33 Q707.776 1517.6 704.675 1517.6 Q702.476 1517.6 700.022 1518.36 Q697.591 1519.13 694.814 1520.68 L694.814 1515.95 Q697.638 1514.82 700.091 1514.24 Q702.545 1513.66 704.582 1513.66 Q709.952 1513.66 713.147 1516.35 Q716.341 1519.03 716.341 1523.52 Q716.341 1525.65 715.531 1527.57 Q714.744 1529.47 712.637 1532.07 Q712.059 1532.74 708.957 1535.95 Q705.855 1539.15 700.207 1544.91 Z\" fill=\"#000000\" fill-rule=\"nonzero\" fill-opacity=\"1\" /><path clip-path=\"url(#clip190)\" d=\"M936.644 1532.02 L966.319 1532.02 L966.319 1535.95 L936.644 1535.95 L936.644 1532.02 Z\" fill=\"#000000\" fill-rule=\"nonzero\" fill-opacity=\"1\" /><path clip-path=\"url(#clip190)\" d=\"M977.222 1544.91 L984.861 1544.91 L984.861 1518.55 L976.551 1520.21 L976.551 1515.95 L984.815 1514.29 L989.491 1514.29 L989.491 1544.91 L997.129 1544.91 L997.129 1548.85 L977.222 1548.85 L977.222 1544.91 Z\" fill=\"#000000\" fill-rule=\"nonzero\" fill-opacity=\"1\" /><path clip-path=\"url(#clip190)\" d=\"M1247.3 1517.37 Q1243.69 1517.37 1241.86 1520.93 Q1240.06 1524.47 1240.06 1531.6 Q1240.06 1538.71 1241.86 1542.27 Q1243.69 1545.82 1247.3 1545.82 Q1250.94 1545.82 1252.74 1542.27 Q1254.57 1538.71 1254.57 1531.6 Q1254.57 1524.47 1252.74 1520.93 Q1250.94 1517.37 1247.3 1517.37 M1247.3 1513.66 Q1253.11 1513.66 1256.17 1518.27 Q1259.25 1522.85 1259.25 1531.6 Q1259.25 1540.33 1256.17 1544.94 Q1253.11 1549.52 1247.3 1549.52 Q1241.49 1549.52 1238.42 1544.94 Q1235.36 1540.33 1235.36 1531.6 Q1235.36 1522.85 1238.42 1518.27 Q1241.49 1513.66 1247.3 1513.66 Z\" fill=\"#000000\" fill-rule=\"nonzero\" fill-opacity=\"1\" /><path clip-path=\"url(#clip190)\" d=\"M1518.1 1544.91 L1525.74 1544.91 L1525.74 1518.55 L1517.43 1520.21 L1517.43 1515.95 L1525.7 1514.29 L1530.37 1514.29 L1530.37 1544.91 L1538.01 1544.91 L1538.01 1548.85 L1518.1 1548.85 L1518.1 1544.91 Z\" fill=\"#000000\" fill-rule=\"nonzero\" fill-opacity=\"1\" /><path clip-path=\"url(#clip190)\" d=\"M1802.79 1544.91 L1819.11 1544.91 L1819.11 1548.85 L1797.17 1548.85 L1797.17 1544.91 Q1799.83 1542.16 1804.41 1537.53 Q1809.02 1532.88 1810.2 1531.53 Q1812.45 1529.01 1813.33 1527.27 Q1814.23 1525.51 1814.23 1523.82 Q1814.23 1521.07 1812.28 1519.33 Q1810.36 1517.6 1807.26 1517.6 Q1805.06 1517.6 1802.61 1518.36 Q1800.18 1519.13 1797.4 1520.68 L1797.4 1515.95 Q1800.22 1514.82 1802.68 1514.24 Q1805.13 1513.66 1807.17 1513.66 Q1812.54 1513.66 1815.73 1516.35 Q1818.93 1519.03 1818.93 1523.52 Q1818.93 1525.65 1818.12 1527.57 Q1817.33 1529.47 1815.22 1532.07 Q1814.64 1532.74 1811.54 1535.95 Q1808.44 1539.15 1802.79 1544.91 Z\" fill=\"#000000\" fill-rule=\"nonzero\" fill-opacity=\"1\" /><path clip-path=\"url(#clip190)\" d=\"M2092.81 1530.21 Q2096.16 1530.93 2098.04 1533.2 Q2099.94 1535.47 2099.94 1538.8 Q2099.94 1543.92 2096.42 1546.72 Q2092.9 1549.52 2086.42 1549.52 Q2084.24 1549.52 2081.93 1549.08 Q2079.63 1548.66 2077.18 1547.81 L2077.18 1543.29 Q2079.13 1544.43 2081.44 1545.01 Q2083.75 1545.58 2086.28 1545.58 Q2090.68 1545.58 2092.97 1543.85 Q2095.28 1542.11 2095.28 1538.8 Q2095.28 1535.75 2093.13 1534.03 Q2091 1532.3 2087.18 1532.3 L2083.15 1532.3 L2083.15 1528.45 L2087.37 1528.45 Q2090.82 1528.45 2092.64 1527.09 Q2094.47 1525.7 2094.47 1523.11 Q2094.47 1520.45 2092.57 1519.03 Q2090.7 1517.6 2087.18 1517.6 Q2085.26 1517.6 2083.06 1518.01 Q2080.86 1518.43 2078.22 1519.31 L2078.22 1515.14 Q2080.88 1514.4 2083.2 1514.03 Q2085.54 1513.66 2087.6 1513.66 Q2092.92 1513.66 2096.02 1516.09 Q2099.13 1518.5 2099.13 1522.62 Q2099.13 1525.49 2097.48 1527.48 Q2095.84 1529.45 2092.81 1530.21 Z\" fill=\"#000000\" fill-rule=\"nonzero\" fill-opacity=\"1\" /><polyline clip-path=\"url(#clip192)\" style=\"stroke:#000000; stroke-linecap:round; stroke-linejoin:round; stroke-width:2; stroke-opacity:0.1; fill:none\" points=\"141.853,1486.45 2352.76,1486.45 \"/>\n",
       "<polyline clip-path=\"url(#clip192)\" style=\"stroke:#000000; stroke-linecap:round; stroke-linejoin:round; stroke-width:2; stroke-opacity:0.1; fill:none\" points=\"141.853,1163.03 2352.76,1163.03 \"/>\n",
       "<polyline clip-path=\"url(#clip192)\" style=\"stroke:#000000; stroke-linecap:round; stroke-linejoin:round; stroke-width:2; stroke-opacity:0.1; fill:none\" points=\"141.853,839.615 2352.76,839.615 \"/>\n",
       "<polyline clip-path=\"url(#clip192)\" style=\"stroke:#000000; stroke-linecap:round; stroke-linejoin:round; stroke-width:2; stroke-opacity:0.1; fill:none\" points=\"141.853,516.198 2352.76,516.198 \"/>\n",
       "<polyline clip-path=\"url(#clip192)\" style=\"stroke:#000000; stroke-linecap:round; stroke-linejoin:round; stroke-width:2; stroke-opacity:0.1; fill:none\" points=\"141.853,192.782 2352.76,192.782 \"/>\n",
       "<polyline clip-path=\"url(#clip190)\" style=\"stroke:#000000; stroke-linecap:round; stroke-linejoin:round; stroke-width:4; stroke-opacity:1; fill:none\" points=\"141.853,1486.45 141.853,47.2441 \"/>\n",
       "<polyline clip-path=\"url(#clip190)\" style=\"stroke:#000000; stroke-linecap:round; stroke-linejoin:round; stroke-width:4; stroke-opacity:1; fill:none\" points=\"141.853,1486.45 160.751,1486.45 \"/>\n",
       "<polyline clip-path=\"url(#clip190)\" style=\"stroke:#000000; stroke-linecap:round; stroke-linejoin:round; stroke-width:4; stroke-opacity:1; fill:none\" points=\"141.853,1163.03 160.751,1163.03 \"/>\n",
       "<polyline clip-path=\"url(#clip190)\" style=\"stroke:#000000; stroke-linecap:round; stroke-linejoin:round; stroke-width:4; stroke-opacity:1; fill:none\" points=\"141.853,839.615 160.751,839.615 \"/>\n",
       "<polyline clip-path=\"url(#clip190)\" style=\"stroke:#000000; stroke-linecap:round; stroke-linejoin:round; stroke-width:4; stroke-opacity:1; fill:none\" points=\"141.853,516.198 160.751,516.198 \"/>\n",
       "<polyline clip-path=\"url(#clip190)\" style=\"stroke:#000000; stroke-linecap:round; stroke-linejoin:round; stroke-width:4; stroke-opacity:1; fill:none\" points=\"141.853,192.782 160.751,192.782 \"/>\n",
       "<path clip-path=\"url(#clip190)\" d=\"M93.9086 1472.25 Q90.2975 1472.25 88.4688 1475.81 Q86.6632 1479.35 86.6632 1486.48 Q86.6632 1493.59 88.4688 1497.15 Q90.2975 1500.7 93.9086 1500.7 Q97.5428 1500.7 99.3483 1497.15 Q101.177 1493.59 101.177 1486.48 Q101.177 1479.35 99.3483 1475.81 Q97.5428 1472.25 93.9086 1472.25 M93.9086 1468.54 Q99.7187 1468.54 102.774 1473.15 Q105.853 1477.73 105.853 1486.48 Q105.853 1495.21 102.774 1499.82 Q99.7187 1504.4 93.9086 1504.4 Q88.0984 1504.4 85.0197 1499.82 Q81.9642 1495.21 81.9642 1486.48 Q81.9642 1477.73 85.0197 1473.15 Q88.0984 1468.54 93.9086 1468.54 Z\" fill=\"#000000\" fill-rule=\"nonzero\" fill-opacity=\"1\" /><path clip-path=\"url(#clip190)\" d=\"M57.7745 1176.38 L74.0939 1176.38 L74.0939 1180.31 L52.1495 1180.31 L52.1495 1176.38 Q54.8115 1173.62 59.3949 1168.99 Q64.0013 1164.34 65.1819 1163 Q67.4272 1160.47 68.3068 1158.74 Q69.2096 1156.98 69.2096 1155.29 Q69.2096 1152.53 67.2652 1150.8 Q65.3439 1149.06 62.2421 1149.06 Q60.043 1149.06 57.5893 1149.83 Q55.1588 1150.59 52.381 1152.14 L52.381 1147.42 Q55.2051 1146.28 57.6588 1145.7 Q60.1124 1145.13 62.1495 1145.13 Q67.5198 1145.13 70.7142 1147.81 Q73.9087 1150.5 73.9087 1154.99 Q73.9087 1157.12 73.0985 1159.04 Q72.3115 1160.94 70.205 1163.53 Q69.6263 1164.2 66.5245 1167.42 Q63.4226 1170.61 57.7745 1176.38 Z\" fill=\"#000000\" fill-rule=\"nonzero\" fill-opacity=\"1\" /><path clip-path=\"url(#clip190)\" d=\"M93.9086 1148.83 Q90.2975 1148.83 88.4688 1152.39 Q86.6632 1155.94 86.6632 1163.07 Q86.6632 1170.17 88.4688 1173.74 Q90.2975 1177.28 93.9086 1177.28 Q97.5428 1177.28 99.3483 1173.74 Q101.177 1170.17 101.177 1163.07 Q101.177 1155.94 99.3483 1152.39 Q97.5428 1148.83 93.9086 1148.83 M93.9086 1145.13 Q99.7187 1145.13 102.774 1149.73 Q105.853 1154.32 105.853 1163.07 Q105.853 1171.79 102.774 1176.4 Q99.7187 1180.98 93.9086 1180.98 Q88.0984 1180.98 85.0197 1176.4 Q81.9642 1171.79 81.9642 1163.07 Q81.9642 1154.32 85.0197 1149.73 Q88.0984 1145.13 93.9086 1145.13 Z\" fill=\"#000000\" fill-rule=\"nonzero\" fill-opacity=\"1\" /><path clip-path=\"url(#clip190)\" d=\"M66.5939 826.409 L54.7884 844.858 L66.5939 844.858 L66.5939 826.409 M65.367 822.335 L71.2466 822.335 L71.2466 844.858 L76.1772 844.858 L76.1772 848.747 L71.2466 848.747 L71.2466 856.895 L66.5939 856.895 L66.5939 848.747 L50.9921 848.747 L50.9921 844.233 L65.367 822.335 Z\" fill=\"#000000\" fill-rule=\"nonzero\" fill-opacity=\"1\" /><path clip-path=\"url(#clip190)\" d=\"M93.9086 825.413 Q90.2975 825.413 88.4688 828.978 Q86.6632 832.52 86.6632 839.649 Q86.6632 846.756 88.4688 850.321 Q90.2975 853.862 93.9086 853.862 Q97.5428 853.862 99.3483 850.321 Q101.177 846.756 101.177 839.649 Q101.177 832.52 99.3483 828.978 Q97.5428 825.413 93.9086 825.413 M93.9086 821.71 Q99.7187 821.71 102.774 826.316 Q105.853 830.899 105.853 839.649 Q105.853 848.376 102.774 852.983 Q99.7187 857.566 93.9086 857.566 Q88.0984 857.566 85.0197 852.983 Q81.9642 848.376 81.9642 839.649 Q81.9642 830.899 85.0197 826.316 Q88.0984 821.71 93.9086 821.71 Z\" fill=\"#000000\" fill-rule=\"nonzero\" fill-opacity=\"1\" /><path clip-path=\"url(#clip190)\" d=\"M64.3254 514.335 Q61.1773 514.335 59.3254 516.487 Q57.4967 518.64 57.4967 522.39 Q57.4967 526.117 59.3254 528.293 Q61.1773 530.446 64.3254 530.446 Q67.4735 530.446 69.3022 528.293 Q71.1541 526.117 71.1541 522.39 Q71.1541 518.64 69.3022 516.487 Q67.4735 514.335 64.3254 514.335 M73.6077 499.682 L73.6077 503.941 Q71.8485 503.108 70.0429 502.668 Q68.2606 502.228 66.5013 502.228 Q61.8717 502.228 59.418 505.353 Q56.9875 508.478 56.6402 514.798 Q58.006 512.784 60.0662 511.719 Q62.1263 510.631 64.6032 510.631 Q69.8115 510.631 72.8207 513.802 Q75.8531 516.95 75.8531 522.39 Q75.8531 527.714 72.705 530.932 Q69.5568 534.149 64.3254 534.149 Q58.33 534.149 55.1588 529.566 Q51.9875 524.96 51.9875 516.233 Q51.9875 508.038 55.8764 503.177 Q59.7652 498.293 66.3161 498.293 Q68.0754 498.293 69.8578 498.64 Q71.6633 498.988 73.6077 499.682 Z\" fill=\"#000000\" fill-rule=\"nonzero\" fill-opacity=\"1\" /><path clip-path=\"url(#clip190)\" d=\"M93.9086 501.997 Q90.2975 501.997 88.4688 505.562 Q86.6632 509.103 86.6632 516.233 Q86.6632 523.339 88.4688 526.904 Q90.2975 530.446 93.9086 530.446 Q97.5428 530.446 99.3483 526.904 Q101.177 523.339 101.177 516.233 Q101.177 509.103 99.3483 505.562 Q97.5428 501.997 93.9086 501.997 M93.9086 498.293 Q99.7187 498.293 102.774 502.9 Q105.853 507.483 105.853 516.233 Q105.853 524.96 102.774 529.566 Q99.7187 534.149 93.9086 534.149 Q88.0984 534.149 85.0197 529.566 Q81.9642 524.96 81.9642 516.233 Q81.9642 507.483 85.0197 502.9 Q88.0984 498.293 93.9086 498.293 Z\" fill=\"#000000\" fill-rule=\"nonzero\" fill-opacity=\"1\" /><path clip-path=\"url(#clip190)\" d=\"M63.7467 193.65 Q60.4134 193.65 58.4921 195.432 Q56.5939 197.214 56.5939 200.339 Q56.5939 203.464 58.4921 205.247 Q60.4134 207.029 63.7467 207.029 Q67.08 207.029 69.0013 205.247 Q70.9226 203.441 70.9226 200.339 Q70.9226 197.214 69.0013 195.432 Q67.1032 193.65 63.7467 193.65 M59.0708 191.659 Q56.0615 190.918 54.3717 188.858 Q52.7051 186.798 52.7051 183.835 Q52.7051 179.691 55.6449 177.284 Q58.6078 174.877 63.7467 174.877 Q68.9087 174.877 71.8485 177.284 Q74.7883 179.691 74.7883 183.835 Q74.7883 186.798 73.0985 188.858 Q71.4318 190.918 68.4457 191.659 Q71.8253 192.446 73.7003 194.738 Q75.5985 197.029 75.5985 200.339 Q75.5985 205.363 72.5198 208.048 Q69.4642 210.733 63.7467 210.733 Q58.0291 210.733 54.9504 208.048 Q51.8949 205.363 51.8949 200.339 Q51.8949 197.029 53.793 194.738 Q55.6912 192.446 59.0708 191.659 M57.3578 184.275 Q57.3578 186.96 59.0245 188.464 Q60.7143 189.969 63.7467 189.969 Q66.7559 189.969 68.4457 188.464 Q70.1587 186.96 70.1587 184.275 Q70.1587 181.589 68.4457 180.085 Q66.7559 178.58 63.7467 178.58 Q60.7143 178.58 59.0245 180.085 Q57.3578 181.589 57.3578 184.275 Z\" fill=\"#000000\" fill-rule=\"nonzero\" fill-opacity=\"1\" /><path clip-path=\"url(#clip190)\" d=\"M93.9086 178.58 Q90.2975 178.58 88.4688 182.145 Q86.6632 185.687 86.6632 192.816 Q86.6632 199.923 88.4688 203.488 Q90.2975 207.029 93.9086 207.029 Q97.5428 207.029 99.3483 203.488 Q101.177 199.923 101.177 192.816 Q101.177 185.687 99.3483 182.145 Q97.5428 178.58 93.9086 178.58 M93.9086 174.877 Q99.7187 174.877 102.774 179.483 Q105.853 184.066 105.853 192.816 Q105.853 201.543 102.774 206.15 Q99.7187 210.733 93.9086 210.733 Q88.0984 210.733 85.0197 206.15 Q81.9642 201.543 81.9642 192.816 Q81.9642 184.066 85.0197 179.483 Q88.0984 174.877 93.9086 174.877 Z\" fill=\"#000000\" fill-rule=\"nonzero\" fill-opacity=\"1\" /><path clip-path=\"url(#clip192)\" d=\"M293.884 1470.28 L293.884 1486.45 L349.967 1486.45 L349.967 1470.28 L293.884 1470.28 L293.884 1470.28  Z\" fill=\"#009af9\" fill-rule=\"evenodd\" fill-opacity=\"1\"/>\n",
       "<polyline clip-path=\"url(#clip192)\" style=\"stroke:#000000; stroke-linecap:round; stroke-linejoin:round; stroke-width:4; stroke-opacity:1; fill:none\" points=\"293.884,1470.28 293.884,1486.45 349.967,1486.45 349.967,1470.28 293.884,1470.28 \"/>\n",
       "<path clip-path=\"url(#clip192)\" d=\"M349.967 1486.45 L349.967 1486.45 L406.051 1486.45 L406.051 1486.45 L349.967 1486.45 L349.967 1486.45  Z\" fill=\"#009af9\" fill-rule=\"evenodd\" fill-opacity=\"1\"/>\n",
       "<polyline clip-path=\"url(#clip192)\" style=\"stroke:#000000; stroke-linecap:round; stroke-linejoin:round; stroke-width:4; stroke-opacity:1; fill:none\" points=\"349.967,1486.45 349.967,1486.45 406.051,1486.45 349.967,1486.45 \"/>\n",
       "<path clip-path=\"url(#clip192)\" d=\"M406.051 1470.28 L406.051 1486.45 L462.134 1486.45 L462.134 1470.28 L406.051 1470.28 L406.051 1470.28  Z\" fill=\"#009af9\" fill-rule=\"evenodd\" fill-opacity=\"1\"/>\n",
       "<polyline clip-path=\"url(#clip192)\" style=\"stroke:#000000; stroke-linecap:round; stroke-linejoin:round; stroke-width:4; stroke-opacity:1; fill:none\" points=\"406.051,1470.28 406.051,1486.45 462.134,1486.45 462.134,1470.28 406.051,1470.28 \"/>\n",
       "<path clip-path=\"url(#clip192)\" d=\"M462.134 1421.76 L462.134 1486.45 L518.218 1486.45 L518.218 1421.76 L462.134 1421.76 L462.134 1421.76  Z\" fill=\"#009af9\" fill-rule=\"evenodd\" fill-opacity=\"1\"/>\n",
       "<polyline clip-path=\"url(#clip192)\" style=\"stroke:#000000; stroke-linecap:round; stroke-linejoin:round; stroke-width:4; stroke-opacity:1; fill:none\" points=\"462.134,1421.76 462.134,1486.45 518.218,1486.45 518.218,1421.76 462.134,1421.76 \"/>\n",
       "<path clip-path=\"url(#clip192)\" d=\"M518.218 1470.28 L518.218 1486.45 L574.301 1486.45 L574.301 1470.28 L518.218 1470.28 L518.218 1470.28  Z\" fill=\"#009af9\" fill-rule=\"evenodd\" fill-opacity=\"1\"/>\n",
       "<polyline clip-path=\"url(#clip192)\" style=\"stroke:#000000; stroke-linecap:round; stroke-linejoin:round; stroke-width:4; stroke-opacity:1; fill:none\" points=\"518.218,1470.28 518.218,1486.45 574.301,1486.45 574.301,1470.28 518.218,1470.28 \"/>\n",
       "<path clip-path=\"url(#clip192)\" d=\"M574.301 1373.25 L574.301 1486.45 L630.385 1486.45 L630.385 1373.25 L574.301 1373.25 L574.301 1373.25  Z\" fill=\"#009af9\" fill-rule=\"evenodd\" fill-opacity=\"1\"/>\n",
       "<polyline clip-path=\"url(#clip192)\" style=\"stroke:#000000; stroke-linecap:round; stroke-linejoin:round; stroke-width:4; stroke-opacity:1; fill:none\" points=\"574.301,1373.25 574.301,1486.45 630.385,1486.45 630.385,1373.25 574.301,1373.25 \"/>\n",
       "<path clip-path=\"url(#clip192)\" d=\"M630.385 1308.57 L630.385 1486.45 L686.469 1486.45 L686.469 1308.57 L630.385 1308.57 L630.385 1308.57  Z\" fill=\"#009af9\" fill-rule=\"evenodd\" fill-opacity=\"1\"/>\n",
       "<polyline clip-path=\"url(#clip192)\" style=\"stroke:#000000; stroke-linecap:round; stroke-linejoin:round; stroke-width:4; stroke-opacity:1; fill:none\" points=\"630.385,1308.57 630.385,1486.45 686.469,1486.45 686.469,1308.57 630.385,1308.57 \"/>\n",
       "<path clip-path=\"url(#clip192)\" d=\"M686.469 1227.71 L686.469 1486.45 L742.552 1486.45 L742.552 1227.71 L686.469 1227.71 L686.469 1227.71  Z\" fill=\"#009af9\" fill-rule=\"evenodd\" fill-opacity=\"1\"/>\n",
       "<polyline clip-path=\"url(#clip192)\" style=\"stroke:#000000; stroke-linecap:round; stroke-linejoin:round; stroke-width:4; stroke-opacity:1; fill:none\" points=\"686.469,1227.71 686.469,1486.45 742.552,1486.45 742.552,1227.71 686.469,1227.71 \"/>\n",
       "<path clip-path=\"url(#clip192)\" d=\"M742.552 1243.89 L742.552 1486.45 L798.636 1486.45 L798.636 1243.89 L742.552 1243.89 L742.552 1243.89  Z\" fill=\"#009af9\" fill-rule=\"evenodd\" fill-opacity=\"1\"/>\n",
       "<polyline clip-path=\"url(#clip192)\" style=\"stroke:#000000; stroke-linecap:round; stroke-linejoin:round; stroke-width:4; stroke-opacity:1; fill:none\" points=\"742.552,1243.89 742.552,1486.45 798.636,1486.45 798.636,1243.89 742.552,1243.89 \"/>\n",
       "<path clip-path=\"url(#clip192)\" d=\"M798.636 1001.32 L798.636 1486.45 L854.719 1486.45 L854.719 1001.32 L798.636 1001.32 L798.636 1001.32  Z\" fill=\"#009af9\" fill-rule=\"evenodd\" fill-opacity=\"1\"/>\n",
       "<polyline clip-path=\"url(#clip192)\" style=\"stroke:#000000; stroke-linecap:round; stroke-linejoin:round; stroke-width:4; stroke-opacity:1; fill:none\" points=\"798.636,1001.32 798.636,1486.45 854.719,1486.45 854.719,1001.32 798.636,1001.32 \"/>\n",
       "<path clip-path=\"url(#clip192)\" d=\"M854.719 888.127 L854.719 1486.45 L910.803 1486.45 L910.803 888.127 L854.719 888.127 L854.719 888.127  Z\" fill=\"#009af9\" fill-rule=\"evenodd\" fill-opacity=\"1\"/>\n",
       "<polyline clip-path=\"url(#clip192)\" style=\"stroke:#000000; stroke-linecap:round; stroke-linejoin:round; stroke-width:4; stroke-opacity:1; fill:none\" points=\"854.719,888.127 854.719,1486.45 910.803,1486.45 910.803,888.127 854.719,888.127 \"/>\n",
       "<path clip-path=\"url(#clip192)\" d=\"M910.803 791.102 L910.803 1486.45 L966.887 1486.45 L966.887 791.102 L910.803 791.102 L910.803 791.102  Z\" fill=\"#009af9\" fill-rule=\"evenodd\" fill-opacity=\"1\"/>\n",
       "<polyline clip-path=\"url(#clip192)\" style=\"stroke:#000000; stroke-linecap:round; stroke-linejoin:round; stroke-width:4; stroke-opacity:1; fill:none\" points=\"910.803,791.102 910.803,1486.45 966.887,1486.45 966.887,791.102 910.803,791.102 \"/>\n",
       "<path clip-path=\"url(#clip192)\" d=\"M966.887 791.102 L966.887 1486.45 L1022.97 1486.45 L1022.97 791.102 L966.887 791.102 L966.887 791.102  Z\" fill=\"#009af9\" fill-rule=\"evenodd\" fill-opacity=\"1\"/>\n",
       "<polyline clip-path=\"url(#clip192)\" style=\"stroke:#000000; stroke-linecap:round; stroke-linejoin:round; stroke-width:4; stroke-opacity:1; fill:none\" points=\"966.887,791.102 966.887,1486.45 1022.97,1486.45 1022.97,791.102 966.887,791.102 \"/>\n",
       "<path clip-path=\"url(#clip192)\" d=\"M1022.97 597.052 L1022.97 1486.45 L1079.05 1486.45 L1079.05 597.052 L1022.97 597.052 L1022.97 597.052  Z\" fill=\"#009af9\" fill-rule=\"evenodd\" fill-opacity=\"1\"/>\n",
       "<polyline clip-path=\"url(#clip192)\" style=\"stroke:#000000; stroke-linecap:round; stroke-linejoin:round; stroke-width:4; stroke-opacity:1; fill:none\" points=\"1022.97,597.052 1022.97,1486.45 1079.05,1486.45 1079.05,597.052 1022.97,597.052 \"/>\n",
       "<path clip-path=\"url(#clip192)\" d=\"M1079.05 47.2441 L1079.05 1486.45 L1135.14 1486.45 L1135.14 47.2441 L1079.05 47.2441 L1079.05 47.2441  Z\" fill=\"#009af9\" fill-rule=\"evenodd\" fill-opacity=\"1\"/>\n",
       "<polyline clip-path=\"url(#clip192)\" style=\"stroke:#000000; stroke-linecap:round; stroke-linejoin:round; stroke-width:4; stroke-opacity:1; fill:none\" points=\"1079.05,47.2441 1079.05,1486.45 1135.14,1486.45 1135.14,47.2441 1079.05,47.2441 \"/>\n",
       "<path clip-path=\"url(#clip192)\" d=\"M1135.14 128.098 L1135.14 1486.45 L1191.22 1486.45 L1191.22 128.098 L1135.14 128.098 L1135.14 128.098  Z\" fill=\"#009af9\" fill-rule=\"evenodd\" fill-opacity=\"1\"/>\n",
       "<polyline clip-path=\"url(#clip192)\" style=\"stroke:#000000; stroke-linecap:round; stroke-linejoin:round; stroke-width:4; stroke-opacity:1; fill:none\" points=\"1135.14,128.098 1135.14,1486.45 1191.22,1486.45 1191.22,128.098 1135.14,128.098 \"/>\n",
       "<path clip-path=\"url(#clip192)\" d=\"M1191.22 483.856 L1191.22 1486.45 L1247.3 1486.45 L1247.3 483.856 L1191.22 483.856 L1191.22 483.856  Z\" fill=\"#009af9\" fill-rule=\"evenodd\" fill-opacity=\"1\"/>\n",
       "<polyline clip-path=\"url(#clip192)\" style=\"stroke:#000000; stroke-linecap:round; stroke-linejoin:round; stroke-width:4; stroke-opacity:1; fill:none\" points=\"1191.22,483.856 1191.22,1486.45 1247.3,1486.45 1247.3,483.856 1191.22,483.856 \"/>\n",
       "<path clip-path=\"url(#clip192)\" d=\"M1247.3 176.611 L1247.3 1486.45 L1303.39 1486.45 L1303.39 176.611 L1247.3 176.611 L1247.3 176.611  Z\" fill=\"#009af9\" fill-rule=\"evenodd\" fill-opacity=\"1\"/>\n",
       "<polyline clip-path=\"url(#clip192)\" style=\"stroke:#000000; stroke-linecap:round; stroke-linejoin:round; stroke-width:4; stroke-opacity:1; fill:none\" points=\"1247.3,176.611 1247.3,1486.45 1303.39,1486.45 1303.39,176.611 1247.3,176.611 \"/>\n",
       "<path clip-path=\"url(#clip192)\" d=\"M1303.39 257.465 L1303.39 1486.45 L1359.47 1486.45 L1359.47 257.465 L1303.39 257.465 L1303.39 257.465  Z\" fill=\"#009af9\" fill-rule=\"evenodd\" fill-opacity=\"1\"/>\n",
       "<polyline clip-path=\"url(#clip192)\" style=\"stroke:#000000; stroke-linecap:round; stroke-linejoin:round; stroke-width:4; stroke-opacity:1; fill:none\" points=\"1303.39,257.465 1303.39,1486.45 1359.47,1486.45 1359.47,257.465 1303.39,257.465 \"/>\n",
       "<path clip-path=\"url(#clip192)\" d=\"M1359.47 467.686 L1359.47 1486.45 L1415.56 1486.45 L1415.56 467.686 L1359.47 467.686 L1359.47 467.686  Z\" fill=\"#009af9\" fill-rule=\"evenodd\" fill-opacity=\"1\"/>\n",
       "<polyline clip-path=\"url(#clip192)\" style=\"stroke:#000000; stroke-linecap:round; stroke-linejoin:round; stroke-width:4; stroke-opacity:1; fill:none\" points=\"1359.47,467.686 1359.47,1486.45 1415.56,1486.45 1415.56,467.686 1359.47,467.686 \"/>\n",
       "<path clip-path=\"url(#clip192)\" d=\"M1415.56 483.856 L1415.56 1486.45 L1471.64 1486.45 L1471.64 483.856 L1415.56 483.856 L1415.56 483.856  Z\" fill=\"#009af9\" fill-rule=\"evenodd\" fill-opacity=\"1\"/>\n",
       "<polyline clip-path=\"url(#clip192)\" style=\"stroke:#000000; stroke-linecap:round; stroke-linejoin:round; stroke-width:4; stroke-opacity:1; fill:none\" points=\"1415.56,483.856 1415.56,1486.45 1471.64,1486.45 1471.64,483.856 1415.56,483.856 \"/>\n",
       "<path clip-path=\"url(#clip192)\" d=\"M1471.64 483.856 L1471.64 1486.45 L1527.72 1486.45 L1527.72 483.856 L1471.64 483.856 L1471.64 483.856  Z\" fill=\"#009af9\" fill-rule=\"evenodd\" fill-opacity=\"1\"/>\n",
       "<polyline clip-path=\"url(#clip192)\" style=\"stroke:#000000; stroke-linecap:round; stroke-linejoin:round; stroke-width:4; stroke-opacity:1; fill:none\" points=\"1471.64,483.856 1471.64,1486.45 1527.72,1486.45 1527.72,483.856 1471.64,483.856 \"/>\n",
       "<path clip-path=\"url(#clip192)\" d=\"M1527.72 742.59 L1527.72 1486.45 L1583.81 1486.45 L1583.81 742.59 L1527.72 742.59 L1527.72 742.59  Z\" fill=\"#009af9\" fill-rule=\"evenodd\" fill-opacity=\"1\"/>\n",
       "<polyline clip-path=\"url(#clip192)\" style=\"stroke:#000000; stroke-linecap:round; stroke-linejoin:round; stroke-width:4; stroke-opacity:1; fill:none\" points=\"1527.72,742.59 1527.72,1486.45 1583.81,1486.45 1583.81,742.59 1527.72,742.59 \"/>\n",
       "<path clip-path=\"url(#clip192)\" d=\"M1583.81 1066.01 L1583.81 1486.45 L1639.89 1486.45 L1639.89 1066.01 L1583.81 1066.01 L1583.81 1066.01  Z\" fill=\"#009af9\" fill-rule=\"evenodd\" fill-opacity=\"1\"/>\n",
       "<polyline clip-path=\"url(#clip192)\" style=\"stroke:#000000; stroke-linecap:round; stroke-linejoin:round; stroke-width:4; stroke-opacity:1; fill:none\" points=\"1583.81,1066.01 1583.81,1486.45 1639.89,1486.45 1639.89,1066.01 1583.81,1066.01 \"/>\n",
       "<path clip-path=\"url(#clip192)\" d=\"M1639.89 1130.69 L1639.89 1486.45 L1695.97 1486.45 L1695.97 1130.69 L1639.89 1130.69 L1639.89 1130.69  Z\" fill=\"#009af9\" fill-rule=\"evenodd\" fill-opacity=\"1\"/>\n",
       "<polyline clip-path=\"url(#clip192)\" style=\"stroke:#000000; stroke-linecap:round; stroke-linejoin:round; stroke-width:4; stroke-opacity:1; fill:none\" points=\"1639.89,1130.69 1639.89,1486.45 1695.97,1486.45 1695.97,1130.69 1639.89,1130.69 \"/>\n",
       "<path clip-path=\"url(#clip192)\" d=\"M1695.97 1179.2 L1695.97 1486.45 L1752.06 1486.45 L1752.06 1179.2 L1695.97 1179.2 L1695.97 1179.2  Z\" fill=\"#009af9\" fill-rule=\"evenodd\" fill-opacity=\"1\"/>\n",
       "<polyline clip-path=\"url(#clip192)\" style=\"stroke:#000000; stroke-linecap:round; stroke-linejoin:round; stroke-width:4; stroke-opacity:1; fill:none\" points=\"1695.97,1179.2 1695.97,1486.45 1752.06,1486.45 1752.06,1179.2 1695.97,1179.2 \"/>\n",
       "<path clip-path=\"url(#clip192)\" d=\"M1752.06 1357.08 L1752.06 1486.45 L1808.14 1486.45 L1808.14 1357.08 L1752.06 1357.08 L1752.06 1357.08  Z\" fill=\"#009af9\" fill-rule=\"evenodd\" fill-opacity=\"1\"/>\n",
       "<polyline clip-path=\"url(#clip192)\" style=\"stroke:#000000; stroke-linecap:round; stroke-linejoin:round; stroke-width:4; stroke-opacity:1; fill:none\" points=\"1752.06,1357.08 1752.06,1486.45 1808.14,1486.45 1808.14,1357.08 1752.06,1357.08 \"/>\n",
       "<path clip-path=\"url(#clip192)\" d=\"M1808.14 1276.23 L1808.14 1486.45 L1864.22 1486.45 L1864.22 1276.23 L1808.14 1276.23 L1808.14 1276.23  Z\" fill=\"#009af9\" fill-rule=\"evenodd\" fill-opacity=\"1\"/>\n",
       "<polyline clip-path=\"url(#clip192)\" style=\"stroke:#000000; stroke-linecap:round; stroke-linejoin:round; stroke-width:4; stroke-opacity:1; fill:none\" points=\"1808.14,1276.23 1808.14,1486.45 1864.22,1486.45 1864.22,1276.23 1808.14,1276.23 \"/>\n",
       "<path clip-path=\"url(#clip192)\" d=\"M1864.22 1308.57 L1864.22 1486.45 L1920.31 1486.45 L1920.31 1308.57 L1864.22 1308.57 L1864.22 1308.57  Z\" fill=\"#009af9\" fill-rule=\"evenodd\" fill-opacity=\"1\"/>\n",
       "<polyline clip-path=\"url(#clip192)\" style=\"stroke:#000000; stroke-linecap:round; stroke-linejoin:round; stroke-width:4; stroke-opacity:1; fill:none\" points=\"1864.22,1308.57 1864.22,1486.45 1920.31,1486.45 1920.31,1308.57 1864.22,1308.57 \"/>\n",
       "<path clip-path=\"url(#clip192)\" d=\"M1920.31 1421.76 L1920.31 1486.45 L1976.39 1486.45 L1976.39 1421.76 L1920.31 1421.76 L1920.31 1421.76  Z\" fill=\"#009af9\" fill-rule=\"evenodd\" fill-opacity=\"1\"/>\n",
       "<polyline clip-path=\"url(#clip192)\" style=\"stroke:#000000; stroke-linecap:round; stroke-linejoin:round; stroke-width:4; stroke-opacity:1; fill:none\" points=\"1920.31,1421.76 1920.31,1486.45 1976.39,1486.45 1976.39,1421.76 1920.31,1421.76 \"/>\n",
       "<path clip-path=\"url(#clip192)\" d=\"M1976.39 1421.76 L1976.39 1486.45 L2032.47 1486.45 L2032.47 1421.76 L1976.39 1421.76 L1976.39 1421.76  Z\" fill=\"#009af9\" fill-rule=\"evenodd\" fill-opacity=\"1\"/>\n",
       "<polyline clip-path=\"url(#clip192)\" style=\"stroke:#000000; stroke-linecap:round; stroke-linejoin:round; stroke-width:4; stroke-opacity:1; fill:none\" points=\"1976.39,1421.76 1976.39,1486.45 2032.47,1486.45 2032.47,1421.76 1976.39,1421.76 \"/>\n",
       "<path clip-path=\"url(#clip192)\" d=\"M2032.47 1454.11 L2032.47 1486.45 L2088.56 1486.45 L2088.56 1454.11 L2032.47 1454.11 L2032.47 1454.11  Z\" fill=\"#009af9\" fill-rule=\"evenodd\" fill-opacity=\"1\"/>\n",
       "<polyline clip-path=\"url(#clip192)\" style=\"stroke:#000000; stroke-linecap:round; stroke-linejoin:round; stroke-width:4; stroke-opacity:1; fill:none\" points=\"2032.47,1454.11 2032.47,1486.45 2088.56,1486.45 2088.56,1454.11 2032.47,1454.11 \"/>\n",
       "<path clip-path=\"url(#clip192)\" d=\"M2088.56 1454.11 L2088.56 1486.45 L2144.64 1486.45 L2144.64 1454.11 L2088.56 1454.11 L2088.56 1454.11  Z\" fill=\"#009af9\" fill-rule=\"evenodd\" fill-opacity=\"1\"/>\n",
       "<polyline clip-path=\"url(#clip192)\" style=\"stroke:#000000; stroke-linecap:round; stroke-linejoin:round; stroke-width:4; stroke-opacity:1; fill:none\" points=\"2088.56,1454.11 2088.56,1486.45 2144.64,1486.45 2144.64,1454.11 2088.56,1454.11 \"/>\n",
       "<circle clip-path=\"url(#clip192)\" style=\"fill:#009af9; stroke:none; fill-opacity:0\" cx=\"321.925\" cy=\"1470.28\" r=\"2\"/>\n",
       "<circle clip-path=\"url(#clip192)\" style=\"fill:#009af9; stroke:none; fill-opacity:0\" cx=\"378.009\" cy=\"1486.45\" r=\"2\"/>\n",
       "<circle clip-path=\"url(#clip192)\" style=\"fill:#009af9; stroke:none; fill-opacity:0\" cx=\"434.093\" cy=\"1470.28\" r=\"2\"/>\n",
       "<circle clip-path=\"url(#clip192)\" style=\"fill:#009af9; stroke:none; fill-opacity:0\" cx=\"490.176\" cy=\"1421.76\" r=\"2\"/>\n",
       "<circle clip-path=\"url(#clip192)\" style=\"fill:#009af9; stroke:none; fill-opacity:0\" cx=\"546.26\" cy=\"1470.28\" r=\"2\"/>\n",
       "<circle clip-path=\"url(#clip192)\" style=\"fill:#009af9; stroke:none; fill-opacity:0\" cx=\"602.343\" cy=\"1373.25\" r=\"2\"/>\n",
       "<circle clip-path=\"url(#clip192)\" style=\"fill:#009af9; stroke:none; fill-opacity:0\" cx=\"658.427\" cy=\"1308.57\" r=\"2\"/>\n",
       "<circle clip-path=\"url(#clip192)\" style=\"fill:#009af9; stroke:none; fill-opacity:0\" cx=\"714.51\" cy=\"1227.71\" r=\"2\"/>\n",
       "<circle clip-path=\"url(#clip192)\" style=\"fill:#009af9; stroke:none; fill-opacity:0\" cx=\"770.594\" cy=\"1243.89\" r=\"2\"/>\n",
       "<circle clip-path=\"url(#clip192)\" style=\"fill:#009af9; stroke:none; fill-opacity:0\" cx=\"826.678\" cy=\"1001.32\" r=\"2\"/>\n",
       "<circle clip-path=\"url(#clip192)\" style=\"fill:#009af9; stroke:none; fill-opacity:0\" cx=\"882.761\" cy=\"888.127\" r=\"2\"/>\n",
       "<circle clip-path=\"url(#clip192)\" style=\"fill:#009af9; stroke:none; fill-opacity:0\" cx=\"938.845\" cy=\"791.102\" r=\"2\"/>\n",
       "<circle clip-path=\"url(#clip192)\" style=\"fill:#009af9; stroke:none; fill-opacity:0\" cx=\"994.928\" cy=\"791.102\" r=\"2\"/>\n",
       "<circle clip-path=\"url(#clip192)\" style=\"fill:#009af9; stroke:none; fill-opacity:0\" cx=\"1051.01\" cy=\"597.052\" r=\"2\"/>\n",
       "<circle clip-path=\"url(#clip192)\" style=\"fill:#009af9; stroke:none; fill-opacity:0\" cx=\"1107.1\" cy=\"47.2441\" r=\"2\"/>\n",
       "<circle clip-path=\"url(#clip192)\" style=\"fill:#009af9; stroke:none; fill-opacity:0\" cx=\"1163.18\" cy=\"128.098\" r=\"2\"/>\n",
       "<circle clip-path=\"url(#clip192)\" style=\"fill:#009af9; stroke:none; fill-opacity:0\" cx=\"1219.26\" cy=\"483.856\" r=\"2\"/>\n",
       "<circle clip-path=\"url(#clip192)\" style=\"fill:#009af9; stroke:none; fill-opacity:0\" cx=\"1275.35\" cy=\"176.611\" r=\"2\"/>\n",
       "<circle clip-path=\"url(#clip192)\" style=\"fill:#009af9; stroke:none; fill-opacity:0\" cx=\"1331.43\" cy=\"257.465\" r=\"2\"/>\n",
       "<circle clip-path=\"url(#clip192)\" style=\"fill:#009af9; stroke:none; fill-opacity:0\" cx=\"1387.51\" cy=\"467.686\" r=\"2\"/>\n",
       "<circle clip-path=\"url(#clip192)\" style=\"fill:#009af9; stroke:none; fill-opacity:0\" cx=\"1443.6\" cy=\"483.856\" r=\"2\"/>\n",
       "<circle clip-path=\"url(#clip192)\" style=\"fill:#009af9; stroke:none; fill-opacity:0\" cx=\"1499.68\" cy=\"483.856\" r=\"2\"/>\n",
       "<circle clip-path=\"url(#clip192)\" style=\"fill:#009af9; stroke:none; fill-opacity:0\" cx=\"1555.76\" cy=\"742.59\" r=\"2\"/>\n",
       "<circle clip-path=\"url(#clip192)\" style=\"fill:#009af9; stroke:none; fill-opacity:0\" cx=\"1611.85\" cy=\"1066.01\" r=\"2\"/>\n",
       "<circle clip-path=\"url(#clip192)\" style=\"fill:#009af9; stroke:none; fill-opacity:0\" cx=\"1667.93\" cy=\"1130.69\" r=\"2\"/>\n",
       "<circle clip-path=\"url(#clip192)\" style=\"fill:#009af9; stroke:none; fill-opacity:0\" cx=\"1724.01\" cy=\"1179.2\" r=\"2\"/>\n",
       "<circle clip-path=\"url(#clip192)\" style=\"fill:#009af9; stroke:none; fill-opacity:0\" cx=\"1780.1\" cy=\"1357.08\" r=\"2\"/>\n",
       "<circle clip-path=\"url(#clip192)\" style=\"fill:#009af9; stroke:none; fill-opacity:0\" cx=\"1836.18\" cy=\"1276.23\" r=\"2\"/>\n",
       "<circle clip-path=\"url(#clip192)\" style=\"fill:#009af9; stroke:none; fill-opacity:0\" cx=\"1892.27\" cy=\"1308.57\" r=\"2\"/>\n",
       "<circle clip-path=\"url(#clip192)\" style=\"fill:#009af9; stroke:none; fill-opacity:0\" cx=\"1948.35\" cy=\"1421.76\" r=\"2\"/>\n",
       "<circle clip-path=\"url(#clip192)\" style=\"fill:#009af9; stroke:none; fill-opacity:0\" cx=\"2004.43\" cy=\"1421.76\" r=\"2\"/>\n",
       "<circle clip-path=\"url(#clip192)\" style=\"fill:#009af9; stroke:none; fill-opacity:0\" cx=\"2060.52\" cy=\"1454.11\" r=\"2\"/>\n",
       "<circle clip-path=\"url(#clip192)\" style=\"fill:#009af9; stroke:none; fill-opacity:0\" cx=\"2116.6\" cy=\"1454.11\" r=\"2\"/>\n",
       "<path clip-path=\"url(#clip192)\" d=\"M204.426 1486.44 L211.215 1486.44 L218.005 1486.44 L280.786 1486.43 L343.566 1486.41 L381.295 1486.39 L419.024 1486.37 L450.923 1486.33 L482.822 1486.29 L500.147 1486.26 L517.473 1486.23 L534.799 1486.19 L552.124 1486.15 L568.097 1486.1 L584.07 1486.05 L600.042 1486 L616.015 1485.94 L633.139 1485.86 L650.264 1485.78 L667.388 1485.69 L684.513 1485.59 L704.353 1485.46 L724.193 1485.32 L744.034 1485.16 L763.874 1484.99 L781.506 1484.82 L799.138 1484.65 L816.769 1484.46 L834.401 1484.27 L849.863 1484.09 L865.324 1483.9 L880.785 1483.7 L896.247 1483.5 L929.961 1483.05 L963.675 1482.58 L997.59 1482.11 L1031.5 1481.65 L1040.88 1481.53 L1050.25 1481.41 L1059.63 1481.29 L1069 1481.18 L1078.38 1481.07 L1087.75 1480.96 L1097.12 1480.86 L1106.5 1480.76 L1115.42 1480.67 L1124.34 1480.59 L1133.26 1480.51 L1142.18 1480.43 L1151.1 1480.37 L1160.01 1480.3 L1168.93 1480.24 L1177.85 1480.19 L1187.13 1480.14 L1196.4 1480.1 L1205.68 1480.07 L1214.95 1480.04 L1224.22 1480.02 L1233.5 1480 L1242.77 1480 L1252.05 1480 L1259.85 1480 L1267.66 1480.01 L1275.47 1480.03 L1283.27 1480.05 L1291.08 1480.07 L1298.89 1480.1 L1306.69 1480.14 L1314.5 1480.18 L1324.03 1480.23 L1333.56 1480.29 L1343.09 1480.36 L1352.63 1480.44 L1362.16 1480.52 L1371.69 1480.6 L1381.22 1480.69 L1390.75 1480.79 L1408.21 1480.98 L1425.67 1481.18 L1434.41 1481.28 L1443.14 1481.39 L1451.87 1481.5 L1460.6 1481.62 L1492.85 1482.05 L1525.11 1482.5 L1557.78 1482.95 L1590.46 1483.4 L1608.77 1483.64 L1627.08 1483.87 L1645.39 1484.09 L1663.7 1484.31 L1680.29 1484.49 L1696.88 1484.66 L1713.47 1484.83 L1730.06 1484.98 L1749.06 1485.15 L1768.05 1485.3 L1787.05 1485.44 L1806.04 1485.56 L1823.63 1485.67 L1841.22 1485.76 L1858.81 1485.85 L1876.4 1485.93 L1893.74 1486 L1911.08 1486.06 L1928.42 1486.11 L1945.76 1486.16 L1962.59 1486.2 L1979.43 1486.23 L1996.26 1486.27 L2013.1 1486.29 L2047.62 1486.34 L2082.13 1486.37 L2119.95 1486.4 L2157.77 1486.41 L2212.71 1486.43 L2267.64 1486.44 L2278.91 1486.44 L2290.18 1486.44 L2290.18 1486.45 L2278.91 1486.45 L2267.64 1486.45 L2212.71 1486.45 L2157.77 1486.45 L2119.95 1486.45 L2082.13 1486.45 L2047.62 1486.45 L2013.1 1486.45 L1996.26 1486.45 L1979.43 1486.45 L1962.59 1486.45 L1945.76 1486.45 L1928.42 1486.45 L1911.08 1486.45 L1893.74 1486.45 L1876.4 1486.45 L1858.81 1486.45 L1841.22 1486.45 L1823.63 1486.45 L1806.04 1486.45 L1787.05 1486.45 L1768.05 1486.45 L1749.06 1486.45 L1730.06 1486.45 L1713.47 1486.45 L1696.88 1486.45 L1680.29 1486.45 L1663.7 1486.45 L1645.39 1486.45 L1627.08 1486.45 L1608.77 1486.45 L1590.46 1486.45 L1557.78 1486.45 L1525.11 1486.45 L1492.85 1486.45 L1460.6 1486.45 L1451.87 1486.45 L1443.14 1486.45 L1434.41 1486.45 L1425.67 1486.45 L1408.21 1486.45 L1390.75 1486.45 L1381.22 1486.45 L1371.69 1486.45 L1362.16 1486.45 L1352.63 1486.45 L1343.09 1486.45 L1333.56 1486.45 L1324.03 1486.45 L1314.5 1486.45 L1306.69 1486.45 L1298.89 1486.45 L1291.08 1486.45 L1283.27 1486.45 L1275.47 1486.45 L1267.66 1486.45 L1259.85 1486.45 L1252.05 1486.45 L1242.77 1486.45 L1233.5 1486.45 L1224.22 1486.45 L1214.95 1486.45 L1205.68 1486.45 L1196.4 1486.45 L1187.13 1486.45 L1177.85 1486.45 L1168.93 1486.45 L1160.01 1486.45 L1151.1 1486.45 L1142.18 1486.45 L1133.26 1486.45 L1124.34 1486.45 L1115.42 1486.45 L1106.5 1486.45 L1097.12 1486.45 L1087.75 1486.45 L1078.38 1486.45 L1069 1486.45 L1059.63 1486.45 L1050.25 1486.45 L1040.88 1486.45 L1031.5 1486.45 L997.59 1486.45 L963.675 1486.45 L929.961 1486.45 L896.247 1486.45 L880.785 1486.45 L865.324 1486.45 L849.863 1486.45 L834.401 1486.45 L816.769 1486.45 L799.138 1486.45 L781.506 1486.45 L763.874 1486.45 L744.034 1486.45 L724.193 1486.45 L704.353 1486.45 L684.513 1486.45 L667.388 1486.45 L650.264 1486.45 L633.139 1486.45 L616.015 1486.45 L600.042 1486.45 L584.07 1486.45 L568.097 1486.45 L552.124 1486.45 L534.799 1486.45 L517.473 1486.45 L500.147 1486.45 L482.822 1486.45 L450.923 1486.45 L419.024 1486.45 L381.295 1486.45 L343.566 1486.45 L280.786 1486.45 L218.005 1486.45 L211.215 1486.45 L204.426 1486.45  Z\" fill=\"#ffa500\" fill-rule=\"evenodd\" fill-opacity=\"0.5\"/>\n",
       "<polyline clip-path=\"url(#clip192)\" style=\"stroke:#e26f46; stroke-linecap:round; stroke-linejoin:round; stroke-width:4; stroke-opacity:1; fill:none\" points=\"204.426,1486.44 211.215,1486.44 218.005,1486.44 280.786,1486.43 343.566,1486.41 381.295,1486.39 419.024,1486.37 450.923,1486.33 482.822,1486.29 500.147,1486.26 517.473,1486.23 534.799,1486.19 552.124,1486.15 568.097,1486.1 584.07,1486.05 600.042,1486 616.015,1485.94 633.139,1485.86 650.264,1485.78 667.388,1485.69 684.513,1485.59 704.353,1485.46 724.193,1485.32 744.034,1485.16 763.874,1484.99 781.506,1484.82 799.138,1484.65 816.769,1484.46 834.401,1484.27 849.863,1484.09 865.324,1483.9 880.785,1483.7 896.247,1483.5 929.961,1483.05 963.675,1482.58 997.59,1482.11 1031.5,1481.65 1040.88,1481.53 1050.25,1481.41 1059.63,1481.29 1069,1481.18 1078.38,1481.07 1087.75,1480.96 1097.12,1480.86 1106.5,1480.76 1115.42,1480.67 1124.34,1480.59 1133.26,1480.51 1142.18,1480.43 1151.1,1480.37 1160.01,1480.3 1168.93,1480.24 1177.85,1480.19 1187.13,1480.14 1196.4,1480.1 1205.68,1480.07 1214.95,1480.04 1224.22,1480.02 1233.5,1480 1242.77,1480 1252.05,1480 1259.85,1480 1267.66,1480.01 1275.47,1480.03 1283.27,1480.05 1291.08,1480.07 1298.89,1480.1 1306.69,1480.14 1314.5,1480.18 1324.03,1480.23 1333.56,1480.29 1343.09,1480.36 1352.63,1480.44 1362.16,1480.52 1371.69,1480.6 1381.22,1480.69 1390.75,1480.79 1408.21,1480.98 1425.67,1481.18 1434.41,1481.28 1443.14,1481.39 1451.87,1481.5 1460.6,1481.62 1492.85,1482.05 1525.11,1482.5 1557.78,1482.95 1590.46,1483.4 1608.77,1483.64 1627.08,1483.87 1645.39,1484.09 1663.7,1484.31 1680.29,1484.49 1696.88,1484.66 1713.47,1484.83 1730.06,1484.98 1749.06,1485.15 1768.05,1485.3 1787.05,1485.44 1806.04,1485.56 1823.63,1485.67 1841.22,1485.76 1858.81,1485.85 1876.4,1485.93 1893.74,1486 1911.08,1486.06 1928.42,1486.11 1945.76,1486.16 1962.59,1486.2 1979.43,1486.23 1996.26,1486.27 2013.1,1486.29 2047.62,1486.34 2082.13,1486.37 2119.95,1486.4 2157.77,1486.41 2212.71,1486.43 2267.64,1486.44 2278.91,1486.44 2290.18,1486.44 \"/>\n",
       "<path clip-path=\"url(#clip190)\" d=\"M1536.81 250.738 L2279.06 250.738 L2279.06 95.2176 L1536.81 95.2176  Z\" fill=\"#ffffff\" fill-rule=\"evenodd\" fill-opacity=\"1\"/>\n",
       "<polyline clip-path=\"url(#clip190)\" style=\"stroke:#000000; stroke-linecap:round; stroke-linejoin:round; stroke-width:4; stroke-opacity:1; fill:none\" points=\"1536.81,250.738 2279.06,250.738 2279.06,95.2176 1536.81,95.2176 1536.81,250.738 \"/>\n",
       "<path clip-path=\"url(#clip190)\" d=\"M1561.38 167.794 L1708.77 167.794 L1708.77 126.322 L1561.38 126.322 L1561.38 167.794  Z\" fill=\"#009af9\" fill-rule=\"evenodd\" fill-opacity=\"1\"/>\n",
       "<polyline clip-path=\"url(#clip190)\" style=\"stroke:#000000; stroke-linecap:round; stroke-linejoin:round; stroke-width:4; stroke-opacity:1; fill:none\" points=\"1561.38,167.794 1708.77,167.794 1708.77,126.322 1561.38,126.322 1561.38,167.794 \"/>\n",
       "<path clip-path=\"url(#clip190)\" d=\"M1733.34 129.778 L1739.64 129.778 L1754.96 158.689 L1754.96 129.778 L1759.5 129.778 L1759.5 164.338 L1753.2 164.338 L1737.88 135.426 L1737.88 164.338 L1733.34 164.338 L1733.34 129.778 Z\" fill=\"#000000\" fill-rule=\"nonzero\" fill-opacity=\"1\" /><path clip-path=\"url(#clip190)\" d=\"M1778.66 141.398 Q1775.24 141.398 1773.25 144.083 Q1771.26 146.745 1771.26 151.398 Q1771.26 156.051 1773.22 158.736 Q1775.21 161.398 1778.66 161.398 Q1782.07 161.398 1784.06 158.713 Q1786.05 156.027 1786.05 151.398 Q1786.05 146.791 1784.06 144.106 Q1782.07 141.398 1778.66 141.398 M1778.66 137.787 Q1784.22 137.787 1787.39 141.398 Q1790.56 145.009 1790.56 151.398 Q1790.56 157.764 1787.39 161.398 Q1784.22 165.009 1778.66 165.009 Q1773.08 165.009 1769.91 161.398 Q1766.76 157.764 1766.76 151.398 Q1766.76 145.009 1769.91 141.398 Q1773.08 137.787 1778.66 137.787 Z\" fill=\"#000000\" fill-rule=\"nonzero\" fill-opacity=\"1\" /><path clip-path=\"url(#clip190)\" d=\"M1812.64 142.393 Q1811.93 141.977 1811.07 141.791 Q1810.24 141.583 1809.22 141.583 Q1805.61 141.583 1803.66 143.944 Q1801.74 146.282 1801.74 150.68 L1801.74 164.338 L1797.46 164.338 L1797.46 138.412 L1801.74 138.412 L1801.74 142.44 Q1803.08 140.078 1805.24 138.944 Q1807.39 137.787 1810.47 137.787 Q1810.91 137.787 1811.44 137.856 Q1811.97 137.903 1812.62 138.018 L1812.64 142.393 Z\" fill=\"#000000\" fill-rule=\"nonzero\" fill-opacity=\"1\" /><path clip-path=\"url(#clip190)\" d=\"M1836.46 143.389 Q1838.06 140.518 1840.28 139.153 Q1842.51 137.787 1845.51 137.787 Q1849.57 137.787 1851.76 140.634 Q1853.96 143.458 1853.96 148.689 L1853.96 164.338 L1849.68 164.338 L1849.68 148.828 Q1849.68 145.102 1848.36 143.296 Q1847.04 141.49 1844.33 141.49 Q1841.02 141.49 1839.1 143.69 Q1837.18 145.889 1837.18 149.685 L1837.18 164.338 L1832.9 164.338 L1832.9 148.828 Q1832.9 145.078 1831.58 143.296 Q1830.26 141.49 1827.51 141.49 Q1824.24 141.49 1822.32 143.713 Q1820.4 145.912 1820.4 149.685 L1820.4 164.338 L1816.12 164.338 L1816.12 138.412 L1820.4 138.412 L1820.4 142.44 Q1821.86 140.055 1823.89 138.921 Q1825.93 137.787 1828.73 137.787 Q1831.56 137.787 1833.52 139.222 Q1835.51 140.657 1836.46 143.389 Z\" fill=\"#000000\" fill-rule=\"nonzero\" fill-opacity=\"1\" /><path clip-path=\"url(#clip190)\" d=\"M1874.24 151.305 Q1869.08 151.305 1867.09 152.486 Q1865.1 153.666 1865.1 156.514 Q1865.1 158.782 1866.58 160.125 Q1868.08 161.444 1870.65 161.444 Q1874.19 161.444 1876.32 158.944 Q1878.48 156.421 1878.48 152.254 L1878.48 151.305 L1874.24 151.305 M1882.74 149.546 L1882.74 164.338 L1878.48 164.338 L1878.48 160.402 Q1877.02 162.763 1874.84 163.898 Q1872.67 165.009 1869.52 165.009 Q1865.54 165.009 1863.18 162.787 Q1860.84 160.541 1860.84 156.791 Q1860.84 152.416 1863.75 150.194 Q1866.69 147.972 1872.5 147.972 L1878.48 147.972 L1878.48 147.555 Q1878.48 144.615 1876.53 143.018 Q1874.61 141.398 1871.12 141.398 Q1868.89 141.398 1866.79 141.93 Q1864.68 142.463 1862.74 143.527 L1862.74 139.592 Q1865.07 138.69 1867.27 138.25 Q1869.47 137.787 1871.56 137.787 Q1877.18 137.787 1879.96 140.703 Q1882.74 143.62 1882.74 149.546 Z\" fill=\"#000000\" fill-rule=\"nonzero\" fill-opacity=\"1\" /><path clip-path=\"url(#clip190)\" d=\"M1891.51 128.319 L1895.77 128.319 L1895.77 164.338 L1891.51 164.338 L1891.51 128.319 Z\" fill=\"#000000\" fill-rule=\"nonzero\" fill-opacity=\"1\" /><path clip-path=\"url(#clip190)\" d=\"M1904.68 138.412 L1908.94 138.412 L1908.94 164.338 L1904.68 164.338 L1904.68 138.412 M1904.68 128.319 L1908.94 128.319 L1908.94 133.713 L1904.68 133.713 L1904.68 128.319 Z\" fill=\"#000000\" fill-rule=\"nonzero\" fill-opacity=\"1\" /><path clip-path=\"url(#clip190)\" d=\"M1916 138.412 L1936.23 138.412 L1936.23 142.301 L1920.21 160.935 L1936.23 160.935 L1936.23 164.338 L1915.42 164.338 L1915.42 160.449 L1931.44 141.815 L1916 141.815 L1916 138.412 Z\" fill=\"#000000\" fill-rule=\"nonzero\" fill-opacity=\"1\" /><path clip-path=\"url(#clip190)\" d=\"M1964.91 150.31 L1964.91 152.393 L1945.33 152.393 Q1945.61 156.791 1947.97 159.106 Q1950.35 161.398 1954.59 161.398 Q1957.04 161.398 1959.33 160.796 Q1961.65 160.194 1963.92 158.99 L1963.92 163.018 Q1961.62 163.99 1959.22 164.5 Q1956.81 165.009 1954.33 165.009 Q1948.13 165.009 1944.5 161.398 Q1940.88 157.787 1940.88 151.629 Q1940.88 145.264 1944.31 141.537 Q1947.76 137.787 1953.59 137.787 Q1958.82 137.787 1961.86 141.166 Q1964.91 144.523 1964.91 150.31 M1960.65 149.06 Q1960.61 145.565 1958.68 143.481 Q1956.79 141.398 1953.64 141.398 Q1950.07 141.398 1947.92 143.412 Q1945.79 145.426 1945.47 149.083 L1960.65 149.06 Z\" fill=\"#000000\" fill-rule=\"nonzero\" fill-opacity=\"1\" /><path clip-path=\"url(#clip190)\" d=\"M1988.96 142.347 L1988.96 128.319 L1993.22 128.319 L1993.22 164.338 L1988.96 164.338 L1988.96 160.449 Q1987.62 162.763 1985.56 163.898 Q1983.52 165.009 1980.65 165.009 Q1975.95 165.009 1972.99 161.259 Q1970.05 157.509 1970.05 151.398 Q1970.05 145.287 1972.99 141.537 Q1975.95 137.787 1980.65 137.787 Q1983.52 137.787 1985.56 138.921 Q1987.62 140.032 1988.96 142.347 M1974.45 151.398 Q1974.45 156.097 1976.37 158.782 Q1978.31 161.444 1981.69 161.444 Q1985.07 161.444 1987.02 158.782 Q1988.96 156.097 1988.96 151.398 Q1988.96 146.699 1987.02 144.037 Q1985.07 141.352 1981.69 141.352 Q1978.31 141.352 1976.37 144.037 Q1974.45 146.699 1974.45 151.398 Z\" fill=\"#000000\" fill-rule=\"nonzero\" fill-opacity=\"1\" /><path clip-path=\"url(#clip190)\" d=\"M2017.25 129.778 L2021.93 129.778 L2021.93 143.944 L2038.92 143.944 L2038.92 129.778 L2043.59 129.778 L2043.59 164.338 L2038.92 164.338 L2038.92 147.879 L2021.93 147.879 L2021.93 164.338 L2017.25 164.338 L2017.25 129.778 Z\" fill=\"#000000\" fill-rule=\"nonzero\" fill-opacity=\"1\" /><path clip-path=\"url(#clip190)\" d=\"M2052.71 138.412 L2056.97 138.412 L2056.97 164.338 L2052.71 164.338 L2052.71 138.412 M2052.71 128.319 L2056.97 128.319 L2056.97 133.713 L2052.71 133.713 L2052.71 128.319 Z\" fill=\"#000000\" fill-rule=\"nonzero\" fill-opacity=\"1\" /><path clip-path=\"url(#clip190)\" d=\"M2082.41 139.176 L2082.41 143.203 Q2080.61 142.277 2078.66 141.815 Q2076.72 141.352 2074.63 141.352 Q2071.46 141.352 2069.86 142.324 Q2068.29 143.296 2068.29 145.24 Q2068.29 146.722 2069.43 147.578 Q2070.56 148.412 2073.99 149.176 L2075.44 149.5 Q2079.98 150.472 2081.88 152.254 Q2083.8 154.014 2083.8 157.185 Q2083.8 160.796 2080.93 162.902 Q2078.08 165.009 2073.08 165.009 Q2071 165.009 2068.73 164.592 Q2066.49 164.199 2063.99 163.388 L2063.99 158.99 Q2066.35 160.217 2068.64 160.842 Q2070.93 161.444 2073.18 161.444 Q2076.18 161.444 2077.8 160.426 Q2079.43 159.384 2079.43 157.509 Q2079.43 155.773 2078.24 154.847 Q2077.09 153.921 2073.13 153.064 L2071.65 152.717 Q2067.69 151.884 2065.93 150.171 Q2064.17 148.435 2064.17 145.426 Q2064.17 141.768 2066.76 139.778 Q2069.36 137.787 2074.12 137.787 Q2076.49 137.787 2078.57 138.134 Q2080.65 138.481 2082.41 139.176 Z\" fill=\"#000000\" fill-rule=\"nonzero\" fill-opacity=\"1\" /><path clip-path=\"url(#clip190)\" d=\"M2094.8 131.051 L2094.8 138.412 L2103.57 138.412 L2103.57 141.722 L2094.8 141.722 L2094.8 155.796 Q2094.8 158.967 2095.65 159.87 Q2096.53 160.773 2099.19 160.773 L2103.57 160.773 L2103.57 164.338 L2099.19 164.338 Q2094.26 164.338 2092.39 162.509 Q2090.51 160.657 2090.51 155.796 L2090.51 141.722 L2087.39 141.722 L2087.39 138.412 L2090.51 138.412 L2090.51 131.051 L2094.8 131.051 Z\" fill=\"#000000\" fill-rule=\"nonzero\" fill-opacity=\"1\" /><path clip-path=\"url(#clip190)\" d=\"M2119.22 141.398 Q2115.79 141.398 2113.8 144.083 Q2111.81 146.745 2111.81 151.398 Q2111.81 156.051 2113.78 158.736 Q2115.77 161.398 2119.22 161.398 Q2122.62 161.398 2124.61 158.713 Q2126.6 156.027 2126.6 151.398 Q2126.6 146.791 2124.61 144.106 Q2122.62 141.398 2119.22 141.398 M2119.22 137.787 Q2124.77 137.787 2127.94 141.398 Q2131.11 145.009 2131.11 151.398 Q2131.11 157.764 2127.94 161.398 Q2124.77 165.009 2119.22 165.009 Q2113.64 165.009 2110.47 161.398 Q2107.32 157.764 2107.32 151.398 Q2107.32 145.009 2110.47 141.398 Q2113.64 137.787 2119.22 137.787 Z\" fill=\"#000000\" fill-rule=\"nonzero\" fill-opacity=\"1\" /><path clip-path=\"url(#clip190)\" d=\"M2155.23 151.074 Q2155.23 146.444 2153.31 143.898 Q2151.42 141.352 2147.97 141.352 Q2144.54 141.352 2142.62 143.898 Q2140.72 146.444 2140.72 151.074 Q2140.72 155.68 2142.62 158.226 Q2144.54 160.773 2147.97 160.773 Q2151.42 160.773 2153.31 158.226 Q2155.23 155.68 2155.23 151.074 M2159.49 161.12 Q2159.49 167.74 2156.55 170.958 Q2153.61 174.199 2147.55 174.199 Q2145.3 174.199 2143.31 173.851 Q2141.32 173.527 2139.45 172.833 L2139.45 168.689 Q2141.32 169.708 2143.15 170.194 Q2144.98 170.68 2146.88 170.68 Q2151.07 170.68 2153.15 168.481 Q2155.23 166.305 2155.23 161.884 L2155.23 159.777 Q2153.92 162.069 2151.86 163.203 Q2149.8 164.338 2146.92 164.338 Q2142.16 164.338 2139.24 160.703 Q2136.32 157.069 2136.32 151.074 Q2136.32 145.055 2139.24 141.421 Q2142.16 137.787 2146.92 137.787 Q2149.8 137.787 2151.86 138.921 Q2153.92 140.055 2155.23 142.347 L2155.23 138.412 L2159.49 138.412 L2159.49 161.12 Z\" fill=\"#000000\" fill-rule=\"nonzero\" fill-opacity=\"1\" /><path clip-path=\"url(#clip190)\" d=\"M2183.29 142.393 Q2182.57 141.977 2181.72 141.791 Q2180.88 141.583 2179.86 141.583 Q2176.25 141.583 2174.31 143.944 Q2172.39 146.282 2172.39 150.68 L2172.39 164.338 L2168.11 164.338 L2168.11 138.412 L2172.39 138.412 L2172.39 142.44 Q2173.73 140.078 2175.88 138.944 Q2178.04 137.787 2181.11 137.787 Q2181.55 137.787 2182.09 137.856 Q2182.62 137.903 2183.27 138.018 L2183.29 142.393 Z\" fill=\"#000000\" fill-rule=\"nonzero\" fill-opacity=\"1\" /><path clip-path=\"url(#clip190)\" d=\"M2199.54 151.305 Q2194.38 151.305 2192.39 152.486 Q2190.4 153.666 2190.4 156.514 Q2190.4 158.782 2191.88 160.125 Q2193.38 161.444 2195.95 161.444 Q2199.49 161.444 2201.62 158.944 Q2203.78 156.421 2203.78 152.254 L2203.78 151.305 L2199.54 151.305 M2208.04 149.546 L2208.04 164.338 L2203.78 164.338 L2203.78 160.402 Q2202.32 162.763 2200.14 163.898 Q2197.97 165.009 2194.82 165.009 Q2190.84 165.009 2188.48 162.787 Q2186.14 160.541 2186.14 156.791 Q2186.14 152.416 2189.05 150.194 Q2191.99 147.972 2197.8 147.972 L2203.78 147.972 L2203.78 147.555 Q2203.78 144.615 2201.83 143.018 Q2199.91 141.398 2196.42 141.398 Q2194.19 141.398 2192.09 141.93 Q2189.98 142.463 2188.04 143.527 L2188.04 139.592 Q2190.37 138.69 2192.57 138.25 Q2194.77 137.787 2196.85 137.787 Q2202.48 137.787 2205.26 140.703 Q2208.04 143.62 2208.04 149.546 Z\" fill=\"#000000\" fill-rule=\"nonzero\" fill-opacity=\"1\" /><path clip-path=\"url(#clip190)\" d=\"M2236.99 143.389 Q2238.59 140.518 2240.81 139.153 Q2243.04 137.787 2246.04 137.787 Q2250.1 137.787 2252.29 140.634 Q2254.49 143.458 2254.49 148.689 L2254.49 164.338 L2250.21 164.338 L2250.21 148.828 Q2250.21 145.102 2248.89 143.296 Q2247.57 141.49 2244.86 141.49 Q2241.55 141.49 2239.63 143.69 Q2237.71 145.889 2237.71 149.685 L2237.71 164.338 L2233.43 164.338 L2233.43 148.828 Q2233.43 145.078 2232.11 143.296 Q2230.79 141.49 2228.04 141.49 Q2224.77 141.49 2222.85 143.713 Q2220.93 145.912 2220.93 149.685 L2220.93 164.338 L2216.65 164.338 L2216.65 138.412 L2220.93 138.412 L2220.93 142.44 Q2222.39 140.055 2224.42 138.921 Q2226.46 137.787 2229.26 137.787 Q2232.09 137.787 2234.05 139.222 Q2236.04 140.657 2236.99 143.389 Z\" fill=\"#000000\" fill-rule=\"nonzero\" fill-opacity=\"1\" /><path clip-path=\"url(#clip190)\" d=\"M1561.38 219.634 L1708.77 219.634 L1708.77 178.162 L1561.38 178.162 L1561.38 219.634  Z\" fill=\"#ffa500\" fill-rule=\"evenodd\" fill-opacity=\"0.5\"/>\n",
       "<polyline clip-path=\"url(#clip190)\" style=\"stroke:#e26f46; stroke-linecap:round; stroke-linejoin:round; stroke-width:4; stroke-opacity:1; fill:none\" points=\"1561.38,178.162 1708.77,178.162 \"/>\n",
       "<path clip-path=\"url(#clip190)\" d=\"M1755.58 182.752 L1755.58 187.312 Q1752.92 186.039 1750.56 185.414 Q1748.2 184.789 1746 184.789 Q1742.18 184.789 1740.1 186.27 Q1738.04 187.752 1738.04 190.483 Q1738.04 192.775 1739.4 193.955 Q1740.79 195.113 1744.64 195.83 L1747.46 196.409 Q1752.69 197.405 1755.17 199.928 Q1757.67 202.428 1757.67 206.641 Q1757.67 211.664 1754.29 214.256 Q1750.93 216.849 1744.43 216.849 Q1741.97 216.849 1739.2 216.293 Q1736.44 215.738 1733.48 214.65 L1733.48 209.835 Q1736.33 211.432 1739.06 212.242 Q1741.79 213.053 1744.43 213.053 Q1748.43 213.053 1750.61 211.479 Q1752.78 209.904 1752.78 206.988 Q1752.78 204.442 1751.21 203.006 Q1749.66 201.571 1746.09 200.854 L1743.25 200.298 Q1738.01 199.256 1735.68 197.034 Q1733.34 194.812 1733.34 190.854 Q1733.34 186.27 1736.56 183.631 Q1739.8 180.993 1745.47 180.993 Q1747.9 180.993 1750.42 181.432 Q1752.95 181.872 1755.58 182.752 Z\" fill=\"#000000\" fill-rule=\"nonzero\" fill-opacity=\"1\" /><path clip-path=\"url(#clip190)\" d=\"M1768.99 182.891 L1768.99 190.252 L1777.76 190.252 L1777.76 193.562 L1768.99 193.562 L1768.99 207.636 Q1768.99 210.807 1769.84 211.71 Q1770.72 212.613 1773.39 212.613 L1777.76 212.613 L1777.76 216.178 L1773.39 216.178 Q1768.45 216.178 1766.58 214.349 Q1764.7 212.497 1764.7 207.636 L1764.7 193.562 L1761.58 193.562 L1761.58 190.252 L1764.7 190.252 L1764.7 182.891 L1768.99 182.891 Z\" fill=\"#000000\" fill-rule=\"nonzero\" fill-opacity=\"1\" /><path clip-path=\"url(#clip190)\" d=\"M1795.14 203.145 Q1789.98 203.145 1787.99 204.326 Q1786 205.506 1786 208.354 Q1786 210.622 1787.48 211.965 Q1788.99 213.284 1791.56 213.284 Q1795.1 213.284 1797.23 210.784 Q1799.38 208.261 1799.38 204.094 L1799.38 203.145 L1795.14 203.145 M1803.64 201.386 L1803.64 216.178 L1799.38 216.178 L1799.38 212.242 Q1797.92 214.603 1795.75 215.738 Q1793.57 216.849 1790.42 216.849 Q1786.44 216.849 1784.08 214.627 Q1781.74 212.381 1781.74 208.631 Q1781.74 204.256 1784.66 202.034 Q1787.6 199.812 1793.41 199.812 L1799.38 199.812 L1799.38 199.395 Q1799.38 196.455 1797.44 194.858 Q1795.51 193.238 1792.02 193.238 Q1789.8 193.238 1787.69 193.77 Q1785.58 194.303 1783.64 195.367 L1783.64 191.432 Q1785.98 190.53 1788.18 190.09 Q1790.38 189.627 1792.46 189.627 Q1798.08 189.627 1800.86 192.543 Q1803.64 195.46 1803.64 201.386 Z\" fill=\"#000000\" fill-rule=\"nonzero\" fill-opacity=\"1\" /><path clip-path=\"url(#clip190)\" d=\"M1833.96 200.529 L1833.96 216.178 L1829.7 216.178 L1829.7 200.668 Q1829.7 196.988 1828.27 195.159 Q1826.83 193.33 1823.96 193.33 Q1820.51 193.33 1818.52 195.53 Q1816.53 197.729 1816.53 201.525 L1816.53 216.178 L1812.25 216.178 L1812.25 190.252 L1816.53 190.252 L1816.53 194.28 Q1818.06 191.942 1820.12 190.784 Q1822.2 189.627 1824.91 189.627 Q1829.38 189.627 1831.67 192.405 Q1833.96 195.159 1833.96 200.529 Z\" fill=\"#000000\" fill-rule=\"nonzero\" fill-opacity=\"1\" /><path clip-path=\"url(#clip190)\" d=\"M1859.52 194.187 L1859.52 180.159 L1863.78 180.159 L1863.78 216.178 L1859.52 216.178 L1859.52 212.289 Q1858.18 214.603 1856.12 215.738 Q1854.08 216.849 1851.21 216.849 Q1846.51 216.849 1843.55 213.099 Q1840.61 209.349 1840.61 203.238 Q1840.61 197.127 1843.55 193.377 Q1846.51 189.627 1851.21 189.627 Q1854.08 189.627 1856.12 190.761 Q1858.18 191.872 1859.52 194.187 M1845.01 203.238 Q1845.01 207.937 1846.93 210.622 Q1848.87 213.284 1852.25 213.284 Q1855.63 213.284 1857.57 210.622 Q1859.52 207.937 1859.52 203.238 Q1859.52 198.539 1857.57 195.877 Q1855.63 193.192 1852.25 193.192 Q1848.87 193.192 1846.93 195.877 Q1845.01 198.539 1845.01 203.238 Z\" fill=\"#000000\" fill-rule=\"nonzero\" fill-opacity=\"1\" /><path clip-path=\"url(#clip190)\" d=\"M1884.33 203.145 Q1879.17 203.145 1877.18 204.326 Q1875.19 205.506 1875.19 208.354 Q1875.19 210.622 1876.67 211.965 Q1878.18 213.284 1880.75 213.284 Q1884.29 213.284 1886.42 210.784 Q1888.57 208.261 1888.57 204.094 L1888.57 203.145 L1884.33 203.145 M1892.83 201.386 L1892.83 216.178 L1888.57 216.178 L1888.57 212.242 Q1887.11 214.603 1884.94 215.738 Q1882.76 216.849 1879.61 216.849 Q1875.63 216.849 1873.27 214.627 Q1870.93 212.381 1870.93 208.631 Q1870.93 204.256 1873.85 202.034 Q1876.79 199.812 1882.6 199.812 L1888.57 199.812 L1888.57 199.395 Q1888.57 196.455 1886.63 194.858 Q1884.7 193.238 1881.21 193.238 Q1878.99 193.238 1876.88 193.77 Q1874.77 194.303 1872.83 195.367 L1872.83 191.432 Q1875.17 190.53 1877.37 190.09 Q1879.57 189.627 1881.65 189.627 Q1887.27 189.627 1890.05 192.543 Q1892.83 195.46 1892.83 201.386 Z\" fill=\"#000000\" fill-rule=\"nonzero\" fill-opacity=\"1\" /><path clip-path=\"url(#clip190)\" d=\"M1916.62 194.233 Q1915.91 193.817 1915.05 193.631 Q1914.22 193.423 1913.2 193.423 Q1909.59 193.423 1907.64 195.784 Q1905.72 198.122 1905.72 202.52 L1905.72 216.178 L1901.44 216.178 L1901.44 190.252 L1905.72 190.252 L1905.72 194.28 Q1907.06 191.918 1909.22 190.784 Q1911.37 189.627 1914.45 189.627 Q1914.89 189.627 1915.42 189.696 Q1915.95 189.743 1916.6 189.858 L1916.62 194.233 Z\" fill=\"#000000\" fill-rule=\"nonzero\" fill-opacity=\"1\" /><path clip-path=\"url(#clip190)\" d=\"M1937.32 194.187 L1937.32 180.159 L1941.58 180.159 L1941.58 216.178 L1937.32 216.178 L1937.32 212.289 Q1935.98 214.603 1933.92 215.738 Q1931.88 216.849 1929.01 216.849 Q1924.31 216.849 1921.35 213.099 Q1918.41 209.349 1918.41 203.238 Q1918.41 197.127 1921.35 193.377 Q1924.31 189.627 1929.01 189.627 Q1931.88 189.627 1933.92 190.761 Q1935.98 191.872 1937.32 194.187 M1922.81 203.238 Q1922.81 207.937 1924.73 210.622 Q1926.67 213.284 1930.05 213.284 Q1933.43 213.284 1935.37 210.622 Q1937.32 207.937 1937.32 203.238 Q1937.32 198.539 1935.37 195.877 Q1933.43 193.192 1930.05 193.192 Q1926.67 193.192 1924.73 195.877 Q1922.81 198.539 1922.81 203.238 Z\" fill=\"#000000\" fill-rule=\"nonzero\" fill-opacity=\"1\" /><path clip-path=\"url(#clip190)\" d=\"M1965.61 181.618 L1971.9 181.618 L1987.23 210.529 L1987.23 181.618 L1991.76 181.618 L1991.76 216.178 L1985.47 216.178 L1970.14 187.266 L1970.14 216.178 L1965.61 216.178 L1965.61 181.618 Z\" fill=\"#000000\" fill-rule=\"nonzero\" fill-opacity=\"1\" /><path clip-path=\"url(#clip190)\" d=\"M2010.93 193.238 Q2007.5 193.238 2005.51 195.923 Q2003.52 198.585 2003.52 203.238 Q2003.52 207.891 2005.49 210.576 Q2007.48 213.238 2010.93 213.238 Q2014.33 213.238 2016.32 210.553 Q2018.31 207.867 2018.31 203.238 Q2018.31 198.631 2016.32 195.946 Q2014.33 193.238 2010.93 193.238 M2010.93 189.627 Q2016.49 189.627 2019.66 193.238 Q2022.83 196.849 2022.83 203.238 Q2022.83 209.604 2019.66 213.238 Q2016.49 216.849 2010.93 216.849 Q2005.35 216.849 2002.18 213.238 Q1999.03 209.604 1999.03 203.238 Q1999.03 196.849 2002.18 193.238 Q2005.35 189.627 2010.93 189.627 Z\" fill=\"#000000\" fill-rule=\"nonzero\" fill-opacity=\"1\" /><path clip-path=\"url(#clip190)\" d=\"M2044.91 194.233 Q2044.19 193.817 2043.34 193.631 Q2042.5 193.423 2041.49 193.423 Q2037.87 193.423 2035.93 195.784 Q2034.01 198.122 2034.01 202.52 L2034.01 216.178 L2029.73 216.178 L2029.73 190.252 L2034.01 190.252 L2034.01 194.28 Q2035.35 191.918 2037.5 190.784 Q2039.66 189.627 2042.74 189.627 Q2043.18 189.627 2043.71 189.696 Q2044.24 189.743 2044.89 189.858 L2044.91 194.233 Z\" fill=\"#000000\" fill-rule=\"nonzero\" fill-opacity=\"1\" /><path clip-path=\"url(#clip190)\" d=\"M2068.73 195.229 Q2070.33 192.358 2072.55 190.993 Q2074.77 189.627 2077.78 189.627 Q2081.83 189.627 2084.03 192.474 Q2086.23 195.298 2086.23 200.529 L2086.23 216.178 L2081.95 216.178 L2081.95 200.668 Q2081.95 196.942 2080.63 195.136 Q2079.31 193.33 2076.6 193.33 Q2073.29 193.33 2071.37 195.53 Q2069.45 197.729 2069.45 201.525 L2069.45 216.178 L2065.17 216.178 L2065.17 200.668 Q2065.17 196.918 2063.85 195.136 Q2062.53 193.33 2059.77 193.33 Q2056.51 193.33 2054.59 195.553 Q2052.67 197.752 2052.67 201.525 L2052.67 216.178 L2048.38 216.178 L2048.38 190.252 L2052.67 190.252 L2052.67 194.28 Q2054.12 191.895 2056.16 190.761 Q2058.2 189.627 2061 189.627 Q2063.82 189.627 2065.79 191.062 Q2067.78 192.497 2068.73 195.229 Z\" fill=\"#000000\" fill-rule=\"nonzero\" fill-opacity=\"1\" /><path clip-path=\"url(#clip190)\" d=\"M2106.51 203.145 Q2101.35 203.145 2099.36 204.326 Q2097.36 205.506 2097.36 208.354 Q2097.36 210.622 2098.85 211.965 Q2100.35 213.284 2102.92 213.284 Q2106.46 213.284 2108.59 210.784 Q2110.74 208.261 2110.74 204.094 L2110.74 203.145 L2106.51 203.145 M2115 201.386 L2115 216.178 L2110.74 216.178 L2110.74 212.242 Q2109.29 214.603 2107.11 215.738 Q2104.93 216.849 2101.79 216.849 Q2097.8 216.849 2095.44 214.627 Q2093.11 212.381 2093.11 208.631 Q2093.11 204.256 2096.02 202.034 Q2098.96 199.812 2104.77 199.812 L2110.74 199.812 L2110.74 199.395 Q2110.74 196.455 2108.8 194.858 Q2106.88 193.238 2103.38 193.238 Q2101.16 193.238 2099.05 193.77 Q2096.95 194.303 2095 195.367 L2095 191.432 Q2097.34 190.53 2099.54 190.09 Q2101.74 189.627 2103.82 189.627 Q2109.45 189.627 2112.23 192.543 Q2115 195.46 2115 201.386 Z\" fill=\"#000000\" fill-rule=\"nonzero\" fill-opacity=\"1\" /><path clip-path=\"url(#clip190)\" d=\"M2123.78 180.159 L2128.04 180.159 L2128.04 216.178 L2123.78 216.178 L2123.78 180.159 Z\" fill=\"#000000\" fill-rule=\"nonzero\" fill-opacity=\"1\" /><path clip-path=\"url(#clip190)\" d=\"M2156.88 185.46 L2156.88 198.446 L2162.76 198.446 Q2166.02 198.446 2167.8 196.756 Q2169.59 195.067 2169.59 191.942 Q2169.59 188.84 2167.8 187.15 Q2166.02 185.46 2162.76 185.46 L2156.88 185.46 M2152.2 181.618 L2162.76 181.618 Q2168.57 181.618 2171.53 184.256 Q2174.52 186.872 2174.52 191.942 Q2174.52 197.057 2171.53 199.673 Q2168.57 202.289 2162.76 202.289 L2156.88 202.289 L2156.88 216.178 L2152.2 216.178 L2152.2 181.618 Z\" fill=\"#000000\" fill-rule=\"nonzero\" fill-opacity=\"1\" /><path clip-path=\"url(#clip190)\" d=\"M2185.47 185.46 L2185.47 212.335 L2191.11 212.335 Q2198.27 212.335 2201.58 209.094 Q2204.91 205.854 2204.91 198.863 Q2204.91 191.918 2201.58 188.701 Q2198.27 185.46 2191.11 185.46 L2185.47 185.46 M2180.79 181.618 L2190.4 181.618 Q2200.44 181.618 2205.14 185.807 Q2209.84 189.974 2209.84 198.863 Q2209.84 207.798 2205.12 211.988 Q2200.4 216.178 2190.4 216.178 L2180.79 216.178 L2180.79 181.618 Z\" fill=\"#000000\" fill-rule=\"nonzero\" fill-opacity=\"1\" /><path clip-path=\"url(#clip190)\" d=\"M2217.29 181.618 L2237.16 181.618 L2237.16 185.553 L2221.97 185.553 L2221.97 195.738 L2235.67 195.738 L2235.67 199.673 L2221.97 199.673 L2221.97 216.178 L2217.29 216.178 L2217.29 181.618 Z\" fill=\"#000000\" fill-rule=\"nonzero\" fill-opacity=\"1\" /></svg>\n"
      ],
      "text/html": [
       "<?xml version=\"1.0\" encoding=\"utf-8\"?>\n",
       "<svg xmlns=\"http://www.w3.org/2000/svg\" xmlns:xlink=\"http://www.w3.org/1999/xlink\" width=\"600\" height=\"400\" viewBox=\"0 0 2400 1600\">\n",
       "<defs>\n",
       "  <clipPath id=\"clip240\">\n",
       "    <rect x=\"0\" y=\"0\" width=\"2400\" height=\"1600\"/>\n",
       "  </clipPath>\n",
       "</defs>\n",
       "<path clip-path=\"url(#clip240)\" d=\"M0 1600 L2400 1600 L2400 0 L0 0  Z\" fill=\"#ffffff\" fill-rule=\"evenodd\" fill-opacity=\"1\"/>\n",
       "<defs>\n",
       "  <clipPath id=\"clip241\">\n",
       "    <rect x=\"480\" y=\"0\" width=\"1681\" height=\"1600\"/>\n",
       "  </clipPath>\n",
       "</defs>\n",
       "<path clip-path=\"url(#clip240)\" d=\"M141.853 1486.45 L2352.76 1486.45 L2352.76 47.2441 L141.853 47.2441  Z\" fill=\"#ffffff\" fill-rule=\"evenodd\" fill-opacity=\"1\"/>\n",
       "<defs>\n",
       "  <clipPath id=\"clip242\">\n",
       "    <rect x=\"141\" y=\"47\" width=\"2212\" height=\"1440\"/>\n",
       "  </clipPath>\n",
       "</defs>\n",
       "<polyline clip-path=\"url(#clip242)\" style=\"stroke:#000000; stroke-linecap:round; stroke-linejoin:round; stroke-width:2; stroke-opacity:0.1; fill:none\" points=\"406.051,1486.45 406.051,47.2441 \"/>\n",
       "<polyline clip-path=\"url(#clip242)\" style=\"stroke:#000000; stroke-linecap:round; stroke-linejoin:round; stroke-width:2; stroke-opacity:0.1; fill:none\" points=\"686.469,1486.45 686.469,47.2441 \"/>\n",
       "<polyline clip-path=\"url(#clip242)\" style=\"stroke:#000000; stroke-linecap:round; stroke-linejoin:round; stroke-width:2; stroke-opacity:0.1; fill:none\" points=\"966.887,1486.45 966.887,47.2441 \"/>\n",
       "<polyline clip-path=\"url(#clip242)\" style=\"stroke:#000000; stroke-linecap:round; stroke-linejoin:round; stroke-width:2; stroke-opacity:0.1; fill:none\" points=\"1247.3,1486.45 1247.3,47.2441 \"/>\n",
       "<polyline clip-path=\"url(#clip242)\" style=\"stroke:#000000; stroke-linecap:round; stroke-linejoin:round; stroke-width:2; stroke-opacity:0.1; fill:none\" points=\"1527.72,1486.45 1527.72,47.2441 \"/>\n",
       "<polyline clip-path=\"url(#clip242)\" style=\"stroke:#000000; stroke-linecap:round; stroke-linejoin:round; stroke-width:2; stroke-opacity:0.1; fill:none\" points=\"1808.14,1486.45 1808.14,47.2441 \"/>\n",
       "<polyline clip-path=\"url(#clip242)\" style=\"stroke:#000000; stroke-linecap:round; stroke-linejoin:round; stroke-width:2; stroke-opacity:0.1; fill:none\" points=\"2088.56,1486.45 2088.56,47.2441 \"/>\n",
       "<polyline clip-path=\"url(#clip240)\" style=\"stroke:#000000; stroke-linecap:round; stroke-linejoin:round; stroke-width:4; stroke-opacity:1; fill:none\" points=\"141.853,1486.45 2352.76,1486.45 \"/>\n",
       "<polyline clip-path=\"url(#clip240)\" style=\"stroke:#000000; stroke-linecap:round; stroke-linejoin:round; stroke-width:4; stroke-opacity:1; fill:none\" points=\"406.051,1486.45 406.051,1467.55 \"/>\n",
       "<polyline clip-path=\"url(#clip240)\" style=\"stroke:#000000; stroke-linecap:round; stroke-linejoin:round; stroke-width:4; stroke-opacity:1; fill:none\" points=\"686.469,1486.45 686.469,1467.55 \"/>\n",
       "<polyline clip-path=\"url(#clip240)\" style=\"stroke:#000000; stroke-linecap:round; stroke-linejoin:round; stroke-width:4; stroke-opacity:1; fill:none\" points=\"966.887,1486.45 966.887,1467.55 \"/>\n",
       "<polyline clip-path=\"url(#clip240)\" style=\"stroke:#000000; stroke-linecap:round; stroke-linejoin:round; stroke-width:4; stroke-opacity:1; fill:none\" points=\"1247.3,1486.45 1247.3,1467.55 \"/>\n",
       "<polyline clip-path=\"url(#clip240)\" style=\"stroke:#000000; stroke-linecap:round; stroke-linejoin:round; stroke-width:4; stroke-opacity:1; fill:none\" points=\"1527.72,1486.45 1527.72,1467.55 \"/>\n",
       "<polyline clip-path=\"url(#clip240)\" style=\"stroke:#000000; stroke-linecap:round; stroke-linejoin:round; stroke-width:4; stroke-opacity:1; fill:none\" points=\"1808.14,1486.45 1808.14,1467.55 \"/>\n",
       "<polyline clip-path=\"url(#clip240)\" style=\"stroke:#000000; stroke-linecap:round; stroke-linejoin:round; stroke-width:4; stroke-opacity:1; fill:none\" points=\"2088.56,1486.45 2088.56,1467.55 \"/>\n",
       "<path clip-path=\"url(#clip240)\" d=\"M375.519 1532.02 L405.194 1532.02 L405.194 1535.95 L375.519 1535.95 L375.519 1532.02 Z\" fill=\"#000000\" fill-rule=\"nonzero\" fill-opacity=\"1\" /><path clip-path=\"url(#clip240)\" d=\"M429.453 1530.21 Q432.81 1530.93 434.685 1533.2 Q436.583 1535.47 436.583 1538.8 Q436.583 1543.92 433.064 1546.72 Q429.546 1549.52 423.065 1549.52 Q420.889 1549.52 418.574 1549.08 Q416.282 1548.66 413.828 1547.81 L413.828 1543.29 Q415.773 1544.43 418.088 1545.01 Q420.403 1545.58 422.926 1545.58 Q427.324 1545.58 429.615 1543.85 Q431.93 1542.11 431.93 1538.8 Q431.93 1535.75 429.777 1534.03 Q427.648 1532.3 423.828 1532.3 L419.801 1532.3 L419.801 1528.45 L424.014 1528.45 Q427.463 1528.45 429.291 1527.09 Q431.12 1525.7 431.12 1523.11 Q431.12 1520.45 429.222 1519.03 Q427.347 1517.6 423.828 1517.6 Q421.907 1517.6 419.708 1518.01 Q417.509 1518.43 414.87 1519.31 L414.87 1515.14 Q417.532 1514.4 419.847 1514.03 Q422.185 1513.66 424.245 1513.66 Q429.569 1513.66 432.671 1516.09 Q435.773 1518.5 435.773 1522.62 Q435.773 1525.49 434.129 1527.48 Q432.486 1529.45 429.453 1530.21 Z\" fill=\"#000000\" fill-rule=\"nonzero\" fill-opacity=\"1\" /><path clip-path=\"url(#clip240)\" d=\"M656.411 1532.02 L686.087 1532.02 L686.087 1535.95 L656.411 1535.95 L656.411 1532.02 Z\" fill=\"#000000\" fill-rule=\"nonzero\" fill-opacity=\"1\" /><path clip-path=\"url(#clip240)\" d=\"M700.207 1544.91 L716.526 1544.91 L716.526 1548.85 L694.582 1548.85 L694.582 1544.91 Q697.244 1542.16 701.827 1537.53 Q706.434 1532.88 707.614 1531.53 Q709.86 1529.01 710.739 1527.27 Q711.642 1525.51 711.642 1523.82 Q711.642 1521.07 709.698 1519.33 Q707.776 1517.6 704.675 1517.6 Q702.476 1517.6 700.022 1518.36 Q697.591 1519.13 694.814 1520.68 L694.814 1515.95 Q697.638 1514.82 700.091 1514.24 Q702.545 1513.66 704.582 1513.66 Q709.952 1513.66 713.147 1516.35 Q716.341 1519.03 716.341 1523.52 Q716.341 1525.65 715.531 1527.57 Q714.744 1529.47 712.637 1532.07 Q712.059 1532.74 708.957 1535.95 Q705.855 1539.15 700.207 1544.91 Z\" fill=\"#000000\" fill-rule=\"nonzero\" fill-opacity=\"1\" /><path clip-path=\"url(#clip240)\" d=\"M936.644 1532.02 L966.319 1532.02 L966.319 1535.95 L936.644 1535.95 L936.644 1532.02 Z\" fill=\"#000000\" fill-rule=\"nonzero\" fill-opacity=\"1\" /><path clip-path=\"url(#clip240)\" d=\"M977.222 1544.91 L984.861 1544.91 L984.861 1518.55 L976.551 1520.21 L976.551 1515.95 L984.815 1514.29 L989.491 1514.29 L989.491 1544.91 L997.129 1544.91 L997.129 1548.85 L977.222 1548.85 L977.222 1544.91 Z\" fill=\"#000000\" fill-rule=\"nonzero\" fill-opacity=\"1\" /><path clip-path=\"url(#clip240)\" d=\"M1247.3 1517.37 Q1243.69 1517.37 1241.86 1520.93 Q1240.06 1524.47 1240.06 1531.6 Q1240.06 1538.71 1241.86 1542.27 Q1243.69 1545.82 1247.3 1545.82 Q1250.94 1545.82 1252.74 1542.27 Q1254.57 1538.71 1254.57 1531.6 Q1254.57 1524.47 1252.74 1520.93 Q1250.94 1517.37 1247.3 1517.37 M1247.3 1513.66 Q1253.11 1513.66 1256.17 1518.27 Q1259.25 1522.85 1259.25 1531.6 Q1259.25 1540.33 1256.17 1544.94 Q1253.11 1549.52 1247.3 1549.52 Q1241.49 1549.52 1238.42 1544.94 Q1235.36 1540.33 1235.36 1531.6 Q1235.36 1522.85 1238.42 1518.27 Q1241.49 1513.66 1247.3 1513.66 Z\" fill=\"#000000\" fill-rule=\"nonzero\" fill-opacity=\"1\" /><path clip-path=\"url(#clip240)\" d=\"M1518.1 1544.91 L1525.74 1544.91 L1525.74 1518.55 L1517.43 1520.21 L1517.43 1515.95 L1525.7 1514.29 L1530.37 1514.29 L1530.37 1544.91 L1538.01 1544.91 L1538.01 1548.85 L1518.1 1548.85 L1518.1 1544.91 Z\" fill=\"#000000\" fill-rule=\"nonzero\" fill-opacity=\"1\" /><path clip-path=\"url(#clip240)\" d=\"M1802.79 1544.91 L1819.11 1544.91 L1819.11 1548.85 L1797.17 1548.85 L1797.17 1544.91 Q1799.83 1542.16 1804.41 1537.53 Q1809.02 1532.88 1810.2 1531.53 Q1812.45 1529.01 1813.33 1527.27 Q1814.23 1525.51 1814.23 1523.82 Q1814.23 1521.07 1812.28 1519.33 Q1810.36 1517.6 1807.26 1517.6 Q1805.06 1517.6 1802.61 1518.36 Q1800.18 1519.13 1797.4 1520.68 L1797.4 1515.95 Q1800.22 1514.82 1802.68 1514.24 Q1805.13 1513.66 1807.17 1513.66 Q1812.54 1513.66 1815.73 1516.35 Q1818.93 1519.03 1818.93 1523.52 Q1818.93 1525.65 1818.12 1527.57 Q1817.33 1529.47 1815.22 1532.07 Q1814.64 1532.74 1811.54 1535.95 Q1808.44 1539.15 1802.79 1544.91 Z\" fill=\"#000000\" fill-rule=\"nonzero\" fill-opacity=\"1\" /><path clip-path=\"url(#clip240)\" d=\"M2092.81 1530.21 Q2096.16 1530.93 2098.04 1533.2 Q2099.94 1535.47 2099.94 1538.8 Q2099.94 1543.92 2096.42 1546.72 Q2092.9 1549.52 2086.42 1549.52 Q2084.24 1549.52 2081.93 1549.08 Q2079.63 1548.66 2077.18 1547.81 L2077.18 1543.29 Q2079.13 1544.43 2081.44 1545.01 Q2083.75 1545.58 2086.28 1545.58 Q2090.68 1545.58 2092.97 1543.85 Q2095.28 1542.11 2095.28 1538.8 Q2095.28 1535.75 2093.13 1534.03 Q2091 1532.3 2087.18 1532.3 L2083.15 1532.3 L2083.15 1528.45 L2087.37 1528.45 Q2090.82 1528.45 2092.64 1527.09 Q2094.47 1525.7 2094.47 1523.11 Q2094.47 1520.45 2092.57 1519.03 Q2090.7 1517.6 2087.18 1517.6 Q2085.26 1517.6 2083.06 1518.01 Q2080.86 1518.43 2078.22 1519.31 L2078.22 1515.14 Q2080.88 1514.4 2083.2 1514.03 Q2085.54 1513.66 2087.6 1513.66 Q2092.92 1513.66 2096.02 1516.09 Q2099.13 1518.5 2099.13 1522.62 Q2099.13 1525.49 2097.48 1527.48 Q2095.84 1529.45 2092.81 1530.21 Z\" fill=\"#000000\" fill-rule=\"nonzero\" fill-opacity=\"1\" /><polyline clip-path=\"url(#clip242)\" style=\"stroke:#000000; stroke-linecap:round; stroke-linejoin:round; stroke-width:2; stroke-opacity:0.1; fill:none\" points=\"141.853,1486.45 2352.76,1486.45 \"/>\n",
       "<polyline clip-path=\"url(#clip242)\" style=\"stroke:#000000; stroke-linecap:round; stroke-linejoin:round; stroke-width:2; stroke-opacity:0.1; fill:none\" points=\"141.853,1163.03 2352.76,1163.03 \"/>\n",
       "<polyline clip-path=\"url(#clip242)\" style=\"stroke:#000000; stroke-linecap:round; stroke-linejoin:round; stroke-width:2; stroke-opacity:0.1; fill:none\" points=\"141.853,839.615 2352.76,839.615 \"/>\n",
       "<polyline clip-path=\"url(#clip242)\" style=\"stroke:#000000; stroke-linecap:round; stroke-linejoin:round; stroke-width:2; stroke-opacity:0.1; fill:none\" points=\"141.853,516.198 2352.76,516.198 \"/>\n",
       "<polyline clip-path=\"url(#clip242)\" style=\"stroke:#000000; stroke-linecap:round; stroke-linejoin:round; stroke-width:2; stroke-opacity:0.1; fill:none\" points=\"141.853,192.782 2352.76,192.782 \"/>\n",
       "<polyline clip-path=\"url(#clip240)\" style=\"stroke:#000000; stroke-linecap:round; stroke-linejoin:round; stroke-width:4; stroke-opacity:1; fill:none\" points=\"141.853,1486.45 141.853,47.2441 \"/>\n",
       "<polyline clip-path=\"url(#clip240)\" style=\"stroke:#000000; stroke-linecap:round; stroke-linejoin:round; stroke-width:4; stroke-opacity:1; fill:none\" points=\"141.853,1486.45 160.751,1486.45 \"/>\n",
       "<polyline clip-path=\"url(#clip240)\" style=\"stroke:#000000; stroke-linecap:round; stroke-linejoin:round; stroke-width:4; stroke-opacity:1; fill:none\" points=\"141.853,1163.03 160.751,1163.03 \"/>\n",
       "<polyline clip-path=\"url(#clip240)\" style=\"stroke:#000000; stroke-linecap:round; stroke-linejoin:round; stroke-width:4; stroke-opacity:1; fill:none\" points=\"141.853,839.615 160.751,839.615 \"/>\n",
       "<polyline clip-path=\"url(#clip240)\" style=\"stroke:#000000; stroke-linecap:round; stroke-linejoin:round; stroke-width:4; stroke-opacity:1; fill:none\" points=\"141.853,516.198 160.751,516.198 \"/>\n",
       "<polyline clip-path=\"url(#clip240)\" style=\"stroke:#000000; stroke-linecap:round; stroke-linejoin:round; stroke-width:4; stroke-opacity:1; fill:none\" points=\"141.853,192.782 160.751,192.782 \"/>\n",
       "<path clip-path=\"url(#clip240)\" d=\"M93.9086 1472.25 Q90.2975 1472.25 88.4688 1475.81 Q86.6632 1479.35 86.6632 1486.48 Q86.6632 1493.59 88.4688 1497.15 Q90.2975 1500.7 93.9086 1500.7 Q97.5428 1500.7 99.3483 1497.15 Q101.177 1493.59 101.177 1486.48 Q101.177 1479.35 99.3483 1475.81 Q97.5428 1472.25 93.9086 1472.25 M93.9086 1468.54 Q99.7187 1468.54 102.774 1473.15 Q105.853 1477.73 105.853 1486.48 Q105.853 1495.21 102.774 1499.82 Q99.7187 1504.4 93.9086 1504.4 Q88.0984 1504.4 85.0197 1499.82 Q81.9642 1495.21 81.9642 1486.48 Q81.9642 1477.73 85.0197 1473.15 Q88.0984 1468.54 93.9086 1468.54 Z\" fill=\"#000000\" fill-rule=\"nonzero\" fill-opacity=\"1\" /><path clip-path=\"url(#clip240)\" d=\"M57.7745 1176.38 L74.0939 1176.38 L74.0939 1180.31 L52.1495 1180.31 L52.1495 1176.38 Q54.8115 1173.62 59.3949 1168.99 Q64.0013 1164.34 65.1819 1163 Q67.4272 1160.47 68.3068 1158.74 Q69.2096 1156.98 69.2096 1155.29 Q69.2096 1152.53 67.2652 1150.8 Q65.3439 1149.06 62.2421 1149.06 Q60.043 1149.06 57.5893 1149.83 Q55.1588 1150.59 52.381 1152.14 L52.381 1147.42 Q55.2051 1146.28 57.6588 1145.7 Q60.1124 1145.13 62.1495 1145.13 Q67.5198 1145.13 70.7142 1147.81 Q73.9087 1150.5 73.9087 1154.99 Q73.9087 1157.12 73.0985 1159.04 Q72.3115 1160.94 70.205 1163.53 Q69.6263 1164.2 66.5245 1167.42 Q63.4226 1170.61 57.7745 1176.38 Z\" fill=\"#000000\" fill-rule=\"nonzero\" fill-opacity=\"1\" /><path clip-path=\"url(#clip240)\" d=\"M93.9086 1148.83 Q90.2975 1148.83 88.4688 1152.39 Q86.6632 1155.94 86.6632 1163.07 Q86.6632 1170.17 88.4688 1173.74 Q90.2975 1177.28 93.9086 1177.28 Q97.5428 1177.28 99.3483 1173.74 Q101.177 1170.17 101.177 1163.07 Q101.177 1155.94 99.3483 1152.39 Q97.5428 1148.83 93.9086 1148.83 M93.9086 1145.13 Q99.7187 1145.13 102.774 1149.73 Q105.853 1154.32 105.853 1163.07 Q105.853 1171.79 102.774 1176.4 Q99.7187 1180.98 93.9086 1180.98 Q88.0984 1180.98 85.0197 1176.4 Q81.9642 1171.79 81.9642 1163.07 Q81.9642 1154.32 85.0197 1149.73 Q88.0984 1145.13 93.9086 1145.13 Z\" fill=\"#000000\" fill-rule=\"nonzero\" fill-opacity=\"1\" /><path clip-path=\"url(#clip240)\" d=\"M66.5939 826.409 L54.7884 844.858 L66.5939 844.858 L66.5939 826.409 M65.367 822.335 L71.2466 822.335 L71.2466 844.858 L76.1772 844.858 L76.1772 848.747 L71.2466 848.747 L71.2466 856.895 L66.5939 856.895 L66.5939 848.747 L50.9921 848.747 L50.9921 844.233 L65.367 822.335 Z\" fill=\"#000000\" fill-rule=\"nonzero\" fill-opacity=\"1\" /><path clip-path=\"url(#clip240)\" d=\"M93.9086 825.413 Q90.2975 825.413 88.4688 828.978 Q86.6632 832.52 86.6632 839.649 Q86.6632 846.756 88.4688 850.321 Q90.2975 853.862 93.9086 853.862 Q97.5428 853.862 99.3483 850.321 Q101.177 846.756 101.177 839.649 Q101.177 832.52 99.3483 828.978 Q97.5428 825.413 93.9086 825.413 M93.9086 821.71 Q99.7187 821.71 102.774 826.316 Q105.853 830.899 105.853 839.649 Q105.853 848.376 102.774 852.983 Q99.7187 857.566 93.9086 857.566 Q88.0984 857.566 85.0197 852.983 Q81.9642 848.376 81.9642 839.649 Q81.9642 830.899 85.0197 826.316 Q88.0984 821.71 93.9086 821.71 Z\" fill=\"#000000\" fill-rule=\"nonzero\" fill-opacity=\"1\" /><path clip-path=\"url(#clip240)\" d=\"M64.3254 514.335 Q61.1773 514.335 59.3254 516.487 Q57.4967 518.64 57.4967 522.39 Q57.4967 526.117 59.3254 528.293 Q61.1773 530.446 64.3254 530.446 Q67.4735 530.446 69.3022 528.293 Q71.1541 526.117 71.1541 522.39 Q71.1541 518.64 69.3022 516.487 Q67.4735 514.335 64.3254 514.335 M73.6077 499.682 L73.6077 503.941 Q71.8485 503.108 70.0429 502.668 Q68.2606 502.228 66.5013 502.228 Q61.8717 502.228 59.418 505.353 Q56.9875 508.478 56.6402 514.798 Q58.006 512.784 60.0662 511.719 Q62.1263 510.631 64.6032 510.631 Q69.8115 510.631 72.8207 513.802 Q75.8531 516.95 75.8531 522.39 Q75.8531 527.714 72.705 530.932 Q69.5568 534.149 64.3254 534.149 Q58.33 534.149 55.1588 529.566 Q51.9875 524.96 51.9875 516.233 Q51.9875 508.038 55.8764 503.177 Q59.7652 498.293 66.3161 498.293 Q68.0754 498.293 69.8578 498.64 Q71.6633 498.988 73.6077 499.682 Z\" fill=\"#000000\" fill-rule=\"nonzero\" fill-opacity=\"1\" /><path clip-path=\"url(#clip240)\" d=\"M93.9086 501.997 Q90.2975 501.997 88.4688 505.562 Q86.6632 509.103 86.6632 516.233 Q86.6632 523.339 88.4688 526.904 Q90.2975 530.446 93.9086 530.446 Q97.5428 530.446 99.3483 526.904 Q101.177 523.339 101.177 516.233 Q101.177 509.103 99.3483 505.562 Q97.5428 501.997 93.9086 501.997 M93.9086 498.293 Q99.7187 498.293 102.774 502.9 Q105.853 507.483 105.853 516.233 Q105.853 524.96 102.774 529.566 Q99.7187 534.149 93.9086 534.149 Q88.0984 534.149 85.0197 529.566 Q81.9642 524.96 81.9642 516.233 Q81.9642 507.483 85.0197 502.9 Q88.0984 498.293 93.9086 498.293 Z\" fill=\"#000000\" fill-rule=\"nonzero\" fill-opacity=\"1\" /><path clip-path=\"url(#clip240)\" d=\"M63.7467 193.65 Q60.4134 193.65 58.4921 195.432 Q56.5939 197.214 56.5939 200.339 Q56.5939 203.464 58.4921 205.247 Q60.4134 207.029 63.7467 207.029 Q67.08 207.029 69.0013 205.247 Q70.9226 203.441 70.9226 200.339 Q70.9226 197.214 69.0013 195.432 Q67.1032 193.65 63.7467 193.65 M59.0708 191.659 Q56.0615 190.918 54.3717 188.858 Q52.7051 186.798 52.7051 183.835 Q52.7051 179.691 55.6449 177.284 Q58.6078 174.877 63.7467 174.877 Q68.9087 174.877 71.8485 177.284 Q74.7883 179.691 74.7883 183.835 Q74.7883 186.798 73.0985 188.858 Q71.4318 190.918 68.4457 191.659 Q71.8253 192.446 73.7003 194.738 Q75.5985 197.029 75.5985 200.339 Q75.5985 205.363 72.5198 208.048 Q69.4642 210.733 63.7467 210.733 Q58.0291 210.733 54.9504 208.048 Q51.8949 205.363 51.8949 200.339 Q51.8949 197.029 53.793 194.738 Q55.6912 192.446 59.0708 191.659 M57.3578 184.275 Q57.3578 186.96 59.0245 188.464 Q60.7143 189.969 63.7467 189.969 Q66.7559 189.969 68.4457 188.464 Q70.1587 186.96 70.1587 184.275 Q70.1587 181.589 68.4457 180.085 Q66.7559 178.58 63.7467 178.58 Q60.7143 178.58 59.0245 180.085 Q57.3578 181.589 57.3578 184.275 Z\" fill=\"#000000\" fill-rule=\"nonzero\" fill-opacity=\"1\" /><path clip-path=\"url(#clip240)\" d=\"M93.9086 178.58 Q90.2975 178.58 88.4688 182.145 Q86.6632 185.687 86.6632 192.816 Q86.6632 199.923 88.4688 203.488 Q90.2975 207.029 93.9086 207.029 Q97.5428 207.029 99.3483 203.488 Q101.177 199.923 101.177 192.816 Q101.177 185.687 99.3483 182.145 Q97.5428 178.58 93.9086 178.58 M93.9086 174.877 Q99.7187 174.877 102.774 179.483 Q105.853 184.066 105.853 192.816 Q105.853 201.543 102.774 206.15 Q99.7187 210.733 93.9086 210.733 Q88.0984 210.733 85.0197 206.15 Q81.9642 201.543 81.9642 192.816 Q81.9642 184.066 85.0197 179.483 Q88.0984 174.877 93.9086 174.877 Z\" fill=\"#000000\" fill-rule=\"nonzero\" fill-opacity=\"1\" /><path clip-path=\"url(#clip242)\" d=\"M293.884 1470.28 L293.884 1486.45 L349.967 1486.45 L349.967 1470.28 L293.884 1470.28 L293.884 1470.28  Z\" fill=\"#009af9\" fill-rule=\"evenodd\" fill-opacity=\"1\"/>\n",
       "<polyline clip-path=\"url(#clip242)\" style=\"stroke:#000000; stroke-linecap:round; stroke-linejoin:round; stroke-width:4; stroke-opacity:1; fill:none\" points=\"293.884,1470.28 293.884,1486.45 349.967,1486.45 349.967,1470.28 293.884,1470.28 \"/>\n",
       "<path clip-path=\"url(#clip242)\" d=\"M349.967 1486.45 L349.967 1486.45 L406.051 1486.45 L406.051 1486.45 L349.967 1486.45 L349.967 1486.45  Z\" fill=\"#009af9\" fill-rule=\"evenodd\" fill-opacity=\"1\"/>\n",
       "<polyline clip-path=\"url(#clip242)\" style=\"stroke:#000000; stroke-linecap:round; stroke-linejoin:round; stroke-width:4; stroke-opacity:1; fill:none\" points=\"349.967,1486.45 349.967,1486.45 406.051,1486.45 349.967,1486.45 \"/>\n",
       "<path clip-path=\"url(#clip242)\" d=\"M406.051 1470.28 L406.051 1486.45 L462.134 1486.45 L462.134 1470.28 L406.051 1470.28 L406.051 1470.28  Z\" fill=\"#009af9\" fill-rule=\"evenodd\" fill-opacity=\"1\"/>\n",
       "<polyline clip-path=\"url(#clip242)\" style=\"stroke:#000000; stroke-linecap:round; stroke-linejoin:round; stroke-width:4; stroke-opacity:1; fill:none\" points=\"406.051,1470.28 406.051,1486.45 462.134,1486.45 462.134,1470.28 406.051,1470.28 \"/>\n",
       "<path clip-path=\"url(#clip242)\" d=\"M462.134 1421.76 L462.134 1486.45 L518.218 1486.45 L518.218 1421.76 L462.134 1421.76 L462.134 1421.76  Z\" fill=\"#009af9\" fill-rule=\"evenodd\" fill-opacity=\"1\"/>\n",
       "<polyline clip-path=\"url(#clip242)\" style=\"stroke:#000000; stroke-linecap:round; stroke-linejoin:round; stroke-width:4; stroke-opacity:1; fill:none\" points=\"462.134,1421.76 462.134,1486.45 518.218,1486.45 518.218,1421.76 462.134,1421.76 \"/>\n",
       "<path clip-path=\"url(#clip242)\" d=\"M518.218 1470.28 L518.218 1486.45 L574.301 1486.45 L574.301 1470.28 L518.218 1470.28 L518.218 1470.28  Z\" fill=\"#009af9\" fill-rule=\"evenodd\" fill-opacity=\"1\"/>\n",
       "<polyline clip-path=\"url(#clip242)\" style=\"stroke:#000000; stroke-linecap:round; stroke-linejoin:round; stroke-width:4; stroke-opacity:1; fill:none\" points=\"518.218,1470.28 518.218,1486.45 574.301,1486.45 574.301,1470.28 518.218,1470.28 \"/>\n",
       "<path clip-path=\"url(#clip242)\" d=\"M574.301 1373.25 L574.301 1486.45 L630.385 1486.45 L630.385 1373.25 L574.301 1373.25 L574.301 1373.25  Z\" fill=\"#009af9\" fill-rule=\"evenodd\" fill-opacity=\"1\"/>\n",
       "<polyline clip-path=\"url(#clip242)\" style=\"stroke:#000000; stroke-linecap:round; stroke-linejoin:round; stroke-width:4; stroke-opacity:1; fill:none\" points=\"574.301,1373.25 574.301,1486.45 630.385,1486.45 630.385,1373.25 574.301,1373.25 \"/>\n",
       "<path clip-path=\"url(#clip242)\" d=\"M630.385 1308.57 L630.385 1486.45 L686.469 1486.45 L686.469 1308.57 L630.385 1308.57 L630.385 1308.57  Z\" fill=\"#009af9\" fill-rule=\"evenodd\" fill-opacity=\"1\"/>\n",
       "<polyline clip-path=\"url(#clip242)\" style=\"stroke:#000000; stroke-linecap:round; stroke-linejoin:round; stroke-width:4; stroke-opacity:1; fill:none\" points=\"630.385,1308.57 630.385,1486.45 686.469,1486.45 686.469,1308.57 630.385,1308.57 \"/>\n",
       "<path clip-path=\"url(#clip242)\" d=\"M686.469 1227.71 L686.469 1486.45 L742.552 1486.45 L742.552 1227.71 L686.469 1227.71 L686.469 1227.71  Z\" fill=\"#009af9\" fill-rule=\"evenodd\" fill-opacity=\"1\"/>\n",
       "<polyline clip-path=\"url(#clip242)\" style=\"stroke:#000000; stroke-linecap:round; stroke-linejoin:round; stroke-width:4; stroke-opacity:1; fill:none\" points=\"686.469,1227.71 686.469,1486.45 742.552,1486.45 742.552,1227.71 686.469,1227.71 \"/>\n",
       "<path clip-path=\"url(#clip242)\" d=\"M742.552 1243.89 L742.552 1486.45 L798.636 1486.45 L798.636 1243.89 L742.552 1243.89 L742.552 1243.89  Z\" fill=\"#009af9\" fill-rule=\"evenodd\" fill-opacity=\"1\"/>\n",
       "<polyline clip-path=\"url(#clip242)\" style=\"stroke:#000000; stroke-linecap:round; stroke-linejoin:round; stroke-width:4; stroke-opacity:1; fill:none\" points=\"742.552,1243.89 742.552,1486.45 798.636,1486.45 798.636,1243.89 742.552,1243.89 \"/>\n",
       "<path clip-path=\"url(#clip242)\" d=\"M798.636 1001.32 L798.636 1486.45 L854.719 1486.45 L854.719 1001.32 L798.636 1001.32 L798.636 1001.32  Z\" fill=\"#009af9\" fill-rule=\"evenodd\" fill-opacity=\"1\"/>\n",
       "<polyline clip-path=\"url(#clip242)\" style=\"stroke:#000000; stroke-linecap:round; stroke-linejoin:round; stroke-width:4; stroke-opacity:1; fill:none\" points=\"798.636,1001.32 798.636,1486.45 854.719,1486.45 854.719,1001.32 798.636,1001.32 \"/>\n",
       "<path clip-path=\"url(#clip242)\" d=\"M854.719 888.127 L854.719 1486.45 L910.803 1486.45 L910.803 888.127 L854.719 888.127 L854.719 888.127  Z\" fill=\"#009af9\" fill-rule=\"evenodd\" fill-opacity=\"1\"/>\n",
       "<polyline clip-path=\"url(#clip242)\" style=\"stroke:#000000; stroke-linecap:round; stroke-linejoin:round; stroke-width:4; stroke-opacity:1; fill:none\" points=\"854.719,888.127 854.719,1486.45 910.803,1486.45 910.803,888.127 854.719,888.127 \"/>\n",
       "<path clip-path=\"url(#clip242)\" d=\"M910.803 791.102 L910.803 1486.45 L966.887 1486.45 L966.887 791.102 L910.803 791.102 L910.803 791.102  Z\" fill=\"#009af9\" fill-rule=\"evenodd\" fill-opacity=\"1\"/>\n",
       "<polyline clip-path=\"url(#clip242)\" style=\"stroke:#000000; stroke-linecap:round; stroke-linejoin:round; stroke-width:4; stroke-opacity:1; fill:none\" points=\"910.803,791.102 910.803,1486.45 966.887,1486.45 966.887,791.102 910.803,791.102 \"/>\n",
       "<path clip-path=\"url(#clip242)\" d=\"M966.887 791.102 L966.887 1486.45 L1022.97 1486.45 L1022.97 791.102 L966.887 791.102 L966.887 791.102  Z\" fill=\"#009af9\" fill-rule=\"evenodd\" fill-opacity=\"1\"/>\n",
       "<polyline clip-path=\"url(#clip242)\" style=\"stroke:#000000; stroke-linecap:round; stroke-linejoin:round; stroke-width:4; stroke-opacity:1; fill:none\" points=\"966.887,791.102 966.887,1486.45 1022.97,1486.45 1022.97,791.102 966.887,791.102 \"/>\n",
       "<path clip-path=\"url(#clip242)\" d=\"M1022.97 597.052 L1022.97 1486.45 L1079.05 1486.45 L1079.05 597.052 L1022.97 597.052 L1022.97 597.052  Z\" fill=\"#009af9\" fill-rule=\"evenodd\" fill-opacity=\"1\"/>\n",
       "<polyline clip-path=\"url(#clip242)\" style=\"stroke:#000000; stroke-linecap:round; stroke-linejoin:round; stroke-width:4; stroke-opacity:1; fill:none\" points=\"1022.97,597.052 1022.97,1486.45 1079.05,1486.45 1079.05,597.052 1022.97,597.052 \"/>\n",
       "<path clip-path=\"url(#clip242)\" d=\"M1079.05 47.2441 L1079.05 1486.45 L1135.14 1486.45 L1135.14 47.2441 L1079.05 47.2441 L1079.05 47.2441  Z\" fill=\"#009af9\" fill-rule=\"evenodd\" fill-opacity=\"1\"/>\n",
       "<polyline clip-path=\"url(#clip242)\" style=\"stroke:#000000; stroke-linecap:round; stroke-linejoin:round; stroke-width:4; stroke-opacity:1; fill:none\" points=\"1079.05,47.2441 1079.05,1486.45 1135.14,1486.45 1135.14,47.2441 1079.05,47.2441 \"/>\n",
       "<path clip-path=\"url(#clip242)\" d=\"M1135.14 128.098 L1135.14 1486.45 L1191.22 1486.45 L1191.22 128.098 L1135.14 128.098 L1135.14 128.098  Z\" fill=\"#009af9\" fill-rule=\"evenodd\" fill-opacity=\"1\"/>\n",
       "<polyline clip-path=\"url(#clip242)\" style=\"stroke:#000000; stroke-linecap:round; stroke-linejoin:round; stroke-width:4; stroke-opacity:1; fill:none\" points=\"1135.14,128.098 1135.14,1486.45 1191.22,1486.45 1191.22,128.098 1135.14,128.098 \"/>\n",
       "<path clip-path=\"url(#clip242)\" d=\"M1191.22 483.856 L1191.22 1486.45 L1247.3 1486.45 L1247.3 483.856 L1191.22 483.856 L1191.22 483.856  Z\" fill=\"#009af9\" fill-rule=\"evenodd\" fill-opacity=\"1\"/>\n",
       "<polyline clip-path=\"url(#clip242)\" style=\"stroke:#000000; stroke-linecap:round; stroke-linejoin:round; stroke-width:4; stroke-opacity:1; fill:none\" points=\"1191.22,483.856 1191.22,1486.45 1247.3,1486.45 1247.3,483.856 1191.22,483.856 \"/>\n",
       "<path clip-path=\"url(#clip242)\" d=\"M1247.3 176.611 L1247.3 1486.45 L1303.39 1486.45 L1303.39 176.611 L1247.3 176.611 L1247.3 176.611  Z\" fill=\"#009af9\" fill-rule=\"evenodd\" fill-opacity=\"1\"/>\n",
       "<polyline clip-path=\"url(#clip242)\" style=\"stroke:#000000; stroke-linecap:round; stroke-linejoin:round; stroke-width:4; stroke-opacity:1; fill:none\" points=\"1247.3,176.611 1247.3,1486.45 1303.39,1486.45 1303.39,176.611 1247.3,176.611 \"/>\n",
       "<path clip-path=\"url(#clip242)\" d=\"M1303.39 257.465 L1303.39 1486.45 L1359.47 1486.45 L1359.47 257.465 L1303.39 257.465 L1303.39 257.465  Z\" fill=\"#009af9\" fill-rule=\"evenodd\" fill-opacity=\"1\"/>\n",
       "<polyline clip-path=\"url(#clip242)\" style=\"stroke:#000000; stroke-linecap:round; stroke-linejoin:round; stroke-width:4; stroke-opacity:1; fill:none\" points=\"1303.39,257.465 1303.39,1486.45 1359.47,1486.45 1359.47,257.465 1303.39,257.465 \"/>\n",
       "<path clip-path=\"url(#clip242)\" d=\"M1359.47 467.686 L1359.47 1486.45 L1415.56 1486.45 L1415.56 467.686 L1359.47 467.686 L1359.47 467.686  Z\" fill=\"#009af9\" fill-rule=\"evenodd\" fill-opacity=\"1\"/>\n",
       "<polyline clip-path=\"url(#clip242)\" style=\"stroke:#000000; stroke-linecap:round; stroke-linejoin:round; stroke-width:4; stroke-opacity:1; fill:none\" points=\"1359.47,467.686 1359.47,1486.45 1415.56,1486.45 1415.56,467.686 1359.47,467.686 \"/>\n",
       "<path clip-path=\"url(#clip242)\" d=\"M1415.56 483.856 L1415.56 1486.45 L1471.64 1486.45 L1471.64 483.856 L1415.56 483.856 L1415.56 483.856  Z\" fill=\"#009af9\" fill-rule=\"evenodd\" fill-opacity=\"1\"/>\n",
       "<polyline clip-path=\"url(#clip242)\" style=\"stroke:#000000; stroke-linecap:round; stroke-linejoin:round; stroke-width:4; stroke-opacity:1; fill:none\" points=\"1415.56,483.856 1415.56,1486.45 1471.64,1486.45 1471.64,483.856 1415.56,483.856 \"/>\n",
       "<path clip-path=\"url(#clip242)\" d=\"M1471.64 483.856 L1471.64 1486.45 L1527.72 1486.45 L1527.72 483.856 L1471.64 483.856 L1471.64 483.856  Z\" fill=\"#009af9\" fill-rule=\"evenodd\" fill-opacity=\"1\"/>\n",
       "<polyline clip-path=\"url(#clip242)\" style=\"stroke:#000000; stroke-linecap:round; stroke-linejoin:round; stroke-width:4; stroke-opacity:1; fill:none\" points=\"1471.64,483.856 1471.64,1486.45 1527.72,1486.45 1527.72,483.856 1471.64,483.856 \"/>\n",
       "<path clip-path=\"url(#clip242)\" d=\"M1527.72 742.59 L1527.72 1486.45 L1583.81 1486.45 L1583.81 742.59 L1527.72 742.59 L1527.72 742.59  Z\" fill=\"#009af9\" fill-rule=\"evenodd\" fill-opacity=\"1\"/>\n",
       "<polyline clip-path=\"url(#clip242)\" style=\"stroke:#000000; stroke-linecap:round; stroke-linejoin:round; stroke-width:4; stroke-opacity:1; fill:none\" points=\"1527.72,742.59 1527.72,1486.45 1583.81,1486.45 1583.81,742.59 1527.72,742.59 \"/>\n",
       "<path clip-path=\"url(#clip242)\" d=\"M1583.81 1066.01 L1583.81 1486.45 L1639.89 1486.45 L1639.89 1066.01 L1583.81 1066.01 L1583.81 1066.01  Z\" fill=\"#009af9\" fill-rule=\"evenodd\" fill-opacity=\"1\"/>\n",
       "<polyline clip-path=\"url(#clip242)\" style=\"stroke:#000000; stroke-linecap:round; stroke-linejoin:round; stroke-width:4; stroke-opacity:1; fill:none\" points=\"1583.81,1066.01 1583.81,1486.45 1639.89,1486.45 1639.89,1066.01 1583.81,1066.01 \"/>\n",
       "<path clip-path=\"url(#clip242)\" d=\"M1639.89 1130.69 L1639.89 1486.45 L1695.97 1486.45 L1695.97 1130.69 L1639.89 1130.69 L1639.89 1130.69  Z\" fill=\"#009af9\" fill-rule=\"evenodd\" fill-opacity=\"1\"/>\n",
       "<polyline clip-path=\"url(#clip242)\" style=\"stroke:#000000; stroke-linecap:round; stroke-linejoin:round; stroke-width:4; stroke-opacity:1; fill:none\" points=\"1639.89,1130.69 1639.89,1486.45 1695.97,1486.45 1695.97,1130.69 1639.89,1130.69 \"/>\n",
       "<path clip-path=\"url(#clip242)\" d=\"M1695.97 1179.2 L1695.97 1486.45 L1752.06 1486.45 L1752.06 1179.2 L1695.97 1179.2 L1695.97 1179.2  Z\" fill=\"#009af9\" fill-rule=\"evenodd\" fill-opacity=\"1\"/>\n",
       "<polyline clip-path=\"url(#clip242)\" style=\"stroke:#000000; stroke-linecap:round; stroke-linejoin:round; stroke-width:4; stroke-opacity:1; fill:none\" points=\"1695.97,1179.2 1695.97,1486.45 1752.06,1486.45 1752.06,1179.2 1695.97,1179.2 \"/>\n",
       "<path clip-path=\"url(#clip242)\" d=\"M1752.06 1357.08 L1752.06 1486.45 L1808.14 1486.45 L1808.14 1357.08 L1752.06 1357.08 L1752.06 1357.08  Z\" fill=\"#009af9\" fill-rule=\"evenodd\" fill-opacity=\"1\"/>\n",
       "<polyline clip-path=\"url(#clip242)\" style=\"stroke:#000000; stroke-linecap:round; stroke-linejoin:round; stroke-width:4; stroke-opacity:1; fill:none\" points=\"1752.06,1357.08 1752.06,1486.45 1808.14,1486.45 1808.14,1357.08 1752.06,1357.08 \"/>\n",
       "<path clip-path=\"url(#clip242)\" d=\"M1808.14 1276.23 L1808.14 1486.45 L1864.22 1486.45 L1864.22 1276.23 L1808.14 1276.23 L1808.14 1276.23  Z\" fill=\"#009af9\" fill-rule=\"evenodd\" fill-opacity=\"1\"/>\n",
       "<polyline clip-path=\"url(#clip242)\" style=\"stroke:#000000; stroke-linecap:round; stroke-linejoin:round; stroke-width:4; stroke-opacity:1; fill:none\" points=\"1808.14,1276.23 1808.14,1486.45 1864.22,1486.45 1864.22,1276.23 1808.14,1276.23 \"/>\n",
       "<path clip-path=\"url(#clip242)\" d=\"M1864.22 1308.57 L1864.22 1486.45 L1920.31 1486.45 L1920.31 1308.57 L1864.22 1308.57 L1864.22 1308.57  Z\" fill=\"#009af9\" fill-rule=\"evenodd\" fill-opacity=\"1\"/>\n",
       "<polyline clip-path=\"url(#clip242)\" style=\"stroke:#000000; stroke-linecap:round; stroke-linejoin:round; stroke-width:4; stroke-opacity:1; fill:none\" points=\"1864.22,1308.57 1864.22,1486.45 1920.31,1486.45 1920.31,1308.57 1864.22,1308.57 \"/>\n",
       "<path clip-path=\"url(#clip242)\" d=\"M1920.31 1421.76 L1920.31 1486.45 L1976.39 1486.45 L1976.39 1421.76 L1920.31 1421.76 L1920.31 1421.76  Z\" fill=\"#009af9\" fill-rule=\"evenodd\" fill-opacity=\"1\"/>\n",
       "<polyline clip-path=\"url(#clip242)\" style=\"stroke:#000000; stroke-linecap:round; stroke-linejoin:round; stroke-width:4; stroke-opacity:1; fill:none\" points=\"1920.31,1421.76 1920.31,1486.45 1976.39,1486.45 1976.39,1421.76 1920.31,1421.76 \"/>\n",
       "<path clip-path=\"url(#clip242)\" d=\"M1976.39 1421.76 L1976.39 1486.45 L2032.47 1486.45 L2032.47 1421.76 L1976.39 1421.76 L1976.39 1421.76  Z\" fill=\"#009af9\" fill-rule=\"evenodd\" fill-opacity=\"1\"/>\n",
       "<polyline clip-path=\"url(#clip242)\" style=\"stroke:#000000; stroke-linecap:round; stroke-linejoin:round; stroke-width:4; stroke-opacity:1; fill:none\" points=\"1976.39,1421.76 1976.39,1486.45 2032.47,1486.45 2032.47,1421.76 1976.39,1421.76 \"/>\n",
       "<path clip-path=\"url(#clip242)\" d=\"M2032.47 1454.11 L2032.47 1486.45 L2088.56 1486.45 L2088.56 1454.11 L2032.47 1454.11 L2032.47 1454.11  Z\" fill=\"#009af9\" fill-rule=\"evenodd\" fill-opacity=\"1\"/>\n",
       "<polyline clip-path=\"url(#clip242)\" style=\"stroke:#000000; stroke-linecap:round; stroke-linejoin:round; stroke-width:4; stroke-opacity:1; fill:none\" points=\"2032.47,1454.11 2032.47,1486.45 2088.56,1486.45 2088.56,1454.11 2032.47,1454.11 \"/>\n",
       "<path clip-path=\"url(#clip242)\" d=\"M2088.56 1454.11 L2088.56 1486.45 L2144.64 1486.45 L2144.64 1454.11 L2088.56 1454.11 L2088.56 1454.11  Z\" fill=\"#009af9\" fill-rule=\"evenodd\" fill-opacity=\"1\"/>\n",
       "<polyline clip-path=\"url(#clip242)\" style=\"stroke:#000000; stroke-linecap:round; stroke-linejoin:round; stroke-width:4; stroke-opacity:1; fill:none\" points=\"2088.56,1454.11 2088.56,1486.45 2144.64,1486.45 2144.64,1454.11 2088.56,1454.11 \"/>\n",
       "<circle clip-path=\"url(#clip242)\" style=\"fill:#009af9; stroke:none; fill-opacity:0\" cx=\"321.925\" cy=\"1470.28\" r=\"2\"/>\n",
       "<circle clip-path=\"url(#clip242)\" style=\"fill:#009af9; stroke:none; fill-opacity:0\" cx=\"378.009\" cy=\"1486.45\" r=\"2\"/>\n",
       "<circle clip-path=\"url(#clip242)\" style=\"fill:#009af9; stroke:none; fill-opacity:0\" cx=\"434.093\" cy=\"1470.28\" r=\"2\"/>\n",
       "<circle clip-path=\"url(#clip242)\" style=\"fill:#009af9; stroke:none; fill-opacity:0\" cx=\"490.176\" cy=\"1421.76\" r=\"2\"/>\n",
       "<circle clip-path=\"url(#clip242)\" style=\"fill:#009af9; stroke:none; fill-opacity:0\" cx=\"546.26\" cy=\"1470.28\" r=\"2\"/>\n",
       "<circle clip-path=\"url(#clip242)\" style=\"fill:#009af9; stroke:none; fill-opacity:0\" cx=\"602.343\" cy=\"1373.25\" r=\"2\"/>\n",
       "<circle clip-path=\"url(#clip242)\" style=\"fill:#009af9; stroke:none; fill-opacity:0\" cx=\"658.427\" cy=\"1308.57\" r=\"2\"/>\n",
       "<circle clip-path=\"url(#clip242)\" style=\"fill:#009af9; stroke:none; fill-opacity:0\" cx=\"714.51\" cy=\"1227.71\" r=\"2\"/>\n",
       "<circle clip-path=\"url(#clip242)\" style=\"fill:#009af9; stroke:none; fill-opacity:0\" cx=\"770.594\" cy=\"1243.89\" r=\"2\"/>\n",
       "<circle clip-path=\"url(#clip242)\" style=\"fill:#009af9; stroke:none; fill-opacity:0\" cx=\"826.678\" cy=\"1001.32\" r=\"2\"/>\n",
       "<circle clip-path=\"url(#clip242)\" style=\"fill:#009af9; stroke:none; fill-opacity:0\" cx=\"882.761\" cy=\"888.127\" r=\"2\"/>\n",
       "<circle clip-path=\"url(#clip242)\" style=\"fill:#009af9; stroke:none; fill-opacity:0\" cx=\"938.845\" cy=\"791.102\" r=\"2\"/>\n",
       "<circle clip-path=\"url(#clip242)\" style=\"fill:#009af9; stroke:none; fill-opacity:0\" cx=\"994.928\" cy=\"791.102\" r=\"2\"/>\n",
       "<circle clip-path=\"url(#clip242)\" style=\"fill:#009af9; stroke:none; fill-opacity:0\" cx=\"1051.01\" cy=\"597.052\" r=\"2\"/>\n",
       "<circle clip-path=\"url(#clip242)\" style=\"fill:#009af9; stroke:none; fill-opacity:0\" cx=\"1107.1\" cy=\"47.2441\" r=\"2\"/>\n",
       "<circle clip-path=\"url(#clip242)\" style=\"fill:#009af9; stroke:none; fill-opacity:0\" cx=\"1163.18\" cy=\"128.098\" r=\"2\"/>\n",
       "<circle clip-path=\"url(#clip242)\" style=\"fill:#009af9; stroke:none; fill-opacity:0\" cx=\"1219.26\" cy=\"483.856\" r=\"2\"/>\n",
       "<circle clip-path=\"url(#clip242)\" style=\"fill:#009af9; stroke:none; fill-opacity:0\" cx=\"1275.35\" cy=\"176.611\" r=\"2\"/>\n",
       "<circle clip-path=\"url(#clip242)\" style=\"fill:#009af9; stroke:none; fill-opacity:0\" cx=\"1331.43\" cy=\"257.465\" r=\"2\"/>\n",
       "<circle clip-path=\"url(#clip242)\" style=\"fill:#009af9; stroke:none; fill-opacity:0\" cx=\"1387.51\" cy=\"467.686\" r=\"2\"/>\n",
       "<circle clip-path=\"url(#clip242)\" style=\"fill:#009af9; stroke:none; fill-opacity:0\" cx=\"1443.6\" cy=\"483.856\" r=\"2\"/>\n",
       "<circle clip-path=\"url(#clip242)\" style=\"fill:#009af9; stroke:none; fill-opacity:0\" cx=\"1499.68\" cy=\"483.856\" r=\"2\"/>\n",
       "<circle clip-path=\"url(#clip242)\" style=\"fill:#009af9; stroke:none; fill-opacity:0\" cx=\"1555.76\" cy=\"742.59\" r=\"2\"/>\n",
       "<circle clip-path=\"url(#clip242)\" style=\"fill:#009af9; stroke:none; fill-opacity:0\" cx=\"1611.85\" cy=\"1066.01\" r=\"2\"/>\n",
       "<circle clip-path=\"url(#clip242)\" style=\"fill:#009af9; stroke:none; fill-opacity:0\" cx=\"1667.93\" cy=\"1130.69\" r=\"2\"/>\n",
       "<circle clip-path=\"url(#clip242)\" style=\"fill:#009af9; stroke:none; fill-opacity:0\" cx=\"1724.01\" cy=\"1179.2\" r=\"2\"/>\n",
       "<circle clip-path=\"url(#clip242)\" style=\"fill:#009af9; stroke:none; fill-opacity:0\" cx=\"1780.1\" cy=\"1357.08\" r=\"2\"/>\n",
       "<circle clip-path=\"url(#clip242)\" style=\"fill:#009af9; stroke:none; fill-opacity:0\" cx=\"1836.18\" cy=\"1276.23\" r=\"2\"/>\n",
       "<circle clip-path=\"url(#clip242)\" style=\"fill:#009af9; stroke:none; fill-opacity:0\" cx=\"1892.27\" cy=\"1308.57\" r=\"2\"/>\n",
       "<circle clip-path=\"url(#clip242)\" style=\"fill:#009af9; stroke:none; fill-opacity:0\" cx=\"1948.35\" cy=\"1421.76\" r=\"2\"/>\n",
       "<circle clip-path=\"url(#clip242)\" style=\"fill:#009af9; stroke:none; fill-opacity:0\" cx=\"2004.43\" cy=\"1421.76\" r=\"2\"/>\n",
       "<circle clip-path=\"url(#clip242)\" style=\"fill:#009af9; stroke:none; fill-opacity:0\" cx=\"2060.52\" cy=\"1454.11\" r=\"2\"/>\n",
       "<circle clip-path=\"url(#clip242)\" style=\"fill:#009af9; stroke:none; fill-opacity:0\" cx=\"2116.6\" cy=\"1454.11\" r=\"2\"/>\n",
       "<path clip-path=\"url(#clip242)\" d=\"M204.426 1486.44 L211.215 1486.44 L218.005 1486.44 L280.786 1486.43 L343.566 1486.41 L381.295 1486.39 L419.024 1486.37 L450.923 1486.33 L482.822 1486.29 L500.147 1486.26 L517.473 1486.23 L534.799 1486.19 L552.124 1486.15 L568.097 1486.1 L584.07 1486.05 L600.042 1486 L616.015 1485.94 L633.139 1485.86 L650.264 1485.78 L667.388 1485.69 L684.513 1485.59 L704.353 1485.46 L724.193 1485.32 L744.034 1485.16 L763.874 1484.99 L781.506 1484.82 L799.138 1484.65 L816.769 1484.46 L834.401 1484.27 L849.863 1484.09 L865.324 1483.9 L880.785 1483.7 L896.247 1483.5 L929.961 1483.05 L963.675 1482.58 L997.59 1482.11 L1031.5 1481.65 L1040.88 1481.53 L1050.25 1481.41 L1059.63 1481.29 L1069 1481.18 L1078.38 1481.07 L1087.75 1480.96 L1097.12 1480.86 L1106.5 1480.76 L1115.42 1480.67 L1124.34 1480.59 L1133.26 1480.51 L1142.18 1480.43 L1151.1 1480.37 L1160.01 1480.3 L1168.93 1480.24 L1177.85 1480.19 L1187.13 1480.14 L1196.4 1480.1 L1205.68 1480.07 L1214.95 1480.04 L1224.22 1480.02 L1233.5 1480 L1242.77 1480 L1252.05 1480 L1259.85 1480 L1267.66 1480.01 L1275.47 1480.03 L1283.27 1480.05 L1291.08 1480.07 L1298.89 1480.1 L1306.69 1480.14 L1314.5 1480.18 L1324.03 1480.23 L1333.56 1480.29 L1343.09 1480.36 L1352.63 1480.44 L1362.16 1480.52 L1371.69 1480.6 L1381.22 1480.69 L1390.75 1480.79 L1408.21 1480.98 L1425.67 1481.18 L1434.41 1481.28 L1443.14 1481.39 L1451.87 1481.5 L1460.6 1481.62 L1492.85 1482.05 L1525.11 1482.5 L1557.78 1482.95 L1590.46 1483.4 L1608.77 1483.64 L1627.08 1483.87 L1645.39 1484.09 L1663.7 1484.31 L1680.29 1484.49 L1696.88 1484.66 L1713.47 1484.83 L1730.06 1484.98 L1749.06 1485.15 L1768.05 1485.3 L1787.05 1485.44 L1806.04 1485.56 L1823.63 1485.67 L1841.22 1485.76 L1858.81 1485.85 L1876.4 1485.93 L1893.74 1486 L1911.08 1486.06 L1928.42 1486.11 L1945.76 1486.16 L1962.59 1486.2 L1979.43 1486.23 L1996.26 1486.27 L2013.1 1486.29 L2047.62 1486.34 L2082.13 1486.37 L2119.95 1486.4 L2157.77 1486.41 L2212.71 1486.43 L2267.64 1486.44 L2278.91 1486.44 L2290.18 1486.44 L2290.18 1486.45 L2278.91 1486.45 L2267.64 1486.45 L2212.71 1486.45 L2157.77 1486.45 L2119.95 1486.45 L2082.13 1486.45 L2047.62 1486.45 L2013.1 1486.45 L1996.26 1486.45 L1979.43 1486.45 L1962.59 1486.45 L1945.76 1486.45 L1928.42 1486.45 L1911.08 1486.45 L1893.74 1486.45 L1876.4 1486.45 L1858.81 1486.45 L1841.22 1486.45 L1823.63 1486.45 L1806.04 1486.45 L1787.05 1486.45 L1768.05 1486.45 L1749.06 1486.45 L1730.06 1486.45 L1713.47 1486.45 L1696.88 1486.45 L1680.29 1486.45 L1663.7 1486.45 L1645.39 1486.45 L1627.08 1486.45 L1608.77 1486.45 L1590.46 1486.45 L1557.78 1486.45 L1525.11 1486.45 L1492.85 1486.45 L1460.6 1486.45 L1451.87 1486.45 L1443.14 1486.45 L1434.41 1486.45 L1425.67 1486.45 L1408.21 1486.45 L1390.75 1486.45 L1381.22 1486.45 L1371.69 1486.45 L1362.16 1486.45 L1352.63 1486.45 L1343.09 1486.45 L1333.56 1486.45 L1324.03 1486.45 L1314.5 1486.45 L1306.69 1486.45 L1298.89 1486.45 L1291.08 1486.45 L1283.27 1486.45 L1275.47 1486.45 L1267.66 1486.45 L1259.85 1486.45 L1252.05 1486.45 L1242.77 1486.45 L1233.5 1486.45 L1224.22 1486.45 L1214.95 1486.45 L1205.68 1486.45 L1196.4 1486.45 L1187.13 1486.45 L1177.85 1486.45 L1168.93 1486.45 L1160.01 1486.45 L1151.1 1486.45 L1142.18 1486.45 L1133.26 1486.45 L1124.34 1486.45 L1115.42 1486.45 L1106.5 1486.45 L1097.12 1486.45 L1087.75 1486.45 L1078.38 1486.45 L1069 1486.45 L1059.63 1486.45 L1050.25 1486.45 L1040.88 1486.45 L1031.5 1486.45 L997.59 1486.45 L963.675 1486.45 L929.961 1486.45 L896.247 1486.45 L880.785 1486.45 L865.324 1486.45 L849.863 1486.45 L834.401 1486.45 L816.769 1486.45 L799.138 1486.45 L781.506 1486.45 L763.874 1486.45 L744.034 1486.45 L724.193 1486.45 L704.353 1486.45 L684.513 1486.45 L667.388 1486.45 L650.264 1486.45 L633.139 1486.45 L616.015 1486.45 L600.042 1486.45 L584.07 1486.45 L568.097 1486.45 L552.124 1486.45 L534.799 1486.45 L517.473 1486.45 L500.147 1486.45 L482.822 1486.45 L450.923 1486.45 L419.024 1486.45 L381.295 1486.45 L343.566 1486.45 L280.786 1486.45 L218.005 1486.45 L211.215 1486.45 L204.426 1486.45  Z\" fill=\"#ffa500\" fill-rule=\"evenodd\" fill-opacity=\"0.5\"/>\n",
       "<polyline clip-path=\"url(#clip242)\" style=\"stroke:#e26f46; stroke-linecap:round; stroke-linejoin:round; stroke-width:4; stroke-opacity:1; fill:none\" points=\"204.426,1486.44 211.215,1486.44 218.005,1486.44 280.786,1486.43 343.566,1486.41 381.295,1486.39 419.024,1486.37 450.923,1486.33 482.822,1486.29 500.147,1486.26 517.473,1486.23 534.799,1486.19 552.124,1486.15 568.097,1486.1 584.07,1486.05 600.042,1486 616.015,1485.94 633.139,1485.86 650.264,1485.78 667.388,1485.69 684.513,1485.59 704.353,1485.46 724.193,1485.32 744.034,1485.16 763.874,1484.99 781.506,1484.82 799.138,1484.65 816.769,1484.46 834.401,1484.27 849.863,1484.09 865.324,1483.9 880.785,1483.7 896.247,1483.5 929.961,1483.05 963.675,1482.58 997.59,1482.11 1031.5,1481.65 1040.88,1481.53 1050.25,1481.41 1059.63,1481.29 1069,1481.18 1078.38,1481.07 1087.75,1480.96 1097.12,1480.86 1106.5,1480.76 1115.42,1480.67 1124.34,1480.59 1133.26,1480.51 1142.18,1480.43 1151.1,1480.37 1160.01,1480.3 1168.93,1480.24 1177.85,1480.19 1187.13,1480.14 1196.4,1480.1 1205.68,1480.07 1214.95,1480.04 1224.22,1480.02 1233.5,1480 1242.77,1480 1252.05,1480 1259.85,1480 1267.66,1480.01 1275.47,1480.03 1283.27,1480.05 1291.08,1480.07 1298.89,1480.1 1306.69,1480.14 1314.5,1480.18 1324.03,1480.23 1333.56,1480.29 1343.09,1480.36 1352.63,1480.44 1362.16,1480.52 1371.69,1480.6 1381.22,1480.69 1390.75,1480.79 1408.21,1480.98 1425.67,1481.18 1434.41,1481.28 1443.14,1481.39 1451.87,1481.5 1460.6,1481.62 1492.85,1482.05 1525.11,1482.5 1557.78,1482.95 1590.46,1483.4 1608.77,1483.64 1627.08,1483.87 1645.39,1484.09 1663.7,1484.31 1680.29,1484.49 1696.88,1484.66 1713.47,1484.83 1730.06,1484.98 1749.06,1485.15 1768.05,1485.3 1787.05,1485.44 1806.04,1485.56 1823.63,1485.67 1841.22,1485.76 1858.81,1485.85 1876.4,1485.93 1893.74,1486 1911.08,1486.06 1928.42,1486.11 1945.76,1486.16 1962.59,1486.2 1979.43,1486.23 1996.26,1486.27 2013.1,1486.29 2047.62,1486.34 2082.13,1486.37 2119.95,1486.4 2157.77,1486.41 2212.71,1486.43 2267.64,1486.44 2278.91,1486.44 2290.18,1486.44 \"/>\n",
       "<path clip-path=\"url(#clip240)\" d=\"M1536.81 250.738 L2279.06 250.738 L2279.06 95.2176 L1536.81 95.2176  Z\" fill=\"#ffffff\" fill-rule=\"evenodd\" fill-opacity=\"1\"/>\n",
       "<polyline clip-path=\"url(#clip240)\" style=\"stroke:#000000; stroke-linecap:round; stroke-linejoin:round; stroke-width:4; stroke-opacity:1; fill:none\" points=\"1536.81,250.738 2279.06,250.738 2279.06,95.2176 1536.81,95.2176 1536.81,250.738 \"/>\n",
       "<path clip-path=\"url(#clip240)\" d=\"M1561.38 167.794 L1708.77 167.794 L1708.77 126.322 L1561.38 126.322 L1561.38 167.794  Z\" fill=\"#009af9\" fill-rule=\"evenodd\" fill-opacity=\"1\"/>\n",
       "<polyline clip-path=\"url(#clip240)\" style=\"stroke:#000000; stroke-linecap:round; stroke-linejoin:round; stroke-width:4; stroke-opacity:1; fill:none\" points=\"1561.38,167.794 1708.77,167.794 1708.77,126.322 1561.38,126.322 1561.38,167.794 \"/>\n",
       "<path clip-path=\"url(#clip240)\" d=\"M1733.34 129.778 L1739.64 129.778 L1754.96 158.689 L1754.96 129.778 L1759.5 129.778 L1759.5 164.338 L1753.2 164.338 L1737.88 135.426 L1737.88 164.338 L1733.34 164.338 L1733.34 129.778 Z\" fill=\"#000000\" fill-rule=\"nonzero\" fill-opacity=\"1\" /><path clip-path=\"url(#clip240)\" d=\"M1778.66 141.398 Q1775.24 141.398 1773.25 144.083 Q1771.26 146.745 1771.26 151.398 Q1771.26 156.051 1773.22 158.736 Q1775.21 161.398 1778.66 161.398 Q1782.07 161.398 1784.06 158.713 Q1786.05 156.027 1786.05 151.398 Q1786.05 146.791 1784.06 144.106 Q1782.07 141.398 1778.66 141.398 M1778.66 137.787 Q1784.22 137.787 1787.39 141.398 Q1790.56 145.009 1790.56 151.398 Q1790.56 157.764 1787.39 161.398 Q1784.22 165.009 1778.66 165.009 Q1773.08 165.009 1769.91 161.398 Q1766.76 157.764 1766.76 151.398 Q1766.76 145.009 1769.91 141.398 Q1773.08 137.787 1778.66 137.787 Z\" fill=\"#000000\" fill-rule=\"nonzero\" fill-opacity=\"1\" /><path clip-path=\"url(#clip240)\" d=\"M1812.64 142.393 Q1811.93 141.977 1811.07 141.791 Q1810.24 141.583 1809.22 141.583 Q1805.61 141.583 1803.66 143.944 Q1801.74 146.282 1801.74 150.68 L1801.74 164.338 L1797.46 164.338 L1797.46 138.412 L1801.74 138.412 L1801.74 142.44 Q1803.08 140.078 1805.24 138.944 Q1807.39 137.787 1810.47 137.787 Q1810.91 137.787 1811.44 137.856 Q1811.97 137.903 1812.62 138.018 L1812.64 142.393 Z\" fill=\"#000000\" fill-rule=\"nonzero\" fill-opacity=\"1\" /><path clip-path=\"url(#clip240)\" d=\"M1836.46 143.389 Q1838.06 140.518 1840.28 139.153 Q1842.51 137.787 1845.51 137.787 Q1849.57 137.787 1851.76 140.634 Q1853.96 143.458 1853.96 148.689 L1853.96 164.338 L1849.68 164.338 L1849.68 148.828 Q1849.68 145.102 1848.36 143.296 Q1847.04 141.49 1844.33 141.49 Q1841.02 141.49 1839.1 143.69 Q1837.18 145.889 1837.18 149.685 L1837.18 164.338 L1832.9 164.338 L1832.9 148.828 Q1832.9 145.078 1831.58 143.296 Q1830.26 141.49 1827.51 141.49 Q1824.24 141.49 1822.32 143.713 Q1820.4 145.912 1820.4 149.685 L1820.4 164.338 L1816.12 164.338 L1816.12 138.412 L1820.4 138.412 L1820.4 142.44 Q1821.86 140.055 1823.89 138.921 Q1825.93 137.787 1828.73 137.787 Q1831.56 137.787 1833.52 139.222 Q1835.51 140.657 1836.46 143.389 Z\" fill=\"#000000\" fill-rule=\"nonzero\" fill-opacity=\"1\" /><path clip-path=\"url(#clip240)\" d=\"M1874.24 151.305 Q1869.08 151.305 1867.09 152.486 Q1865.1 153.666 1865.1 156.514 Q1865.1 158.782 1866.58 160.125 Q1868.08 161.444 1870.65 161.444 Q1874.19 161.444 1876.32 158.944 Q1878.48 156.421 1878.48 152.254 L1878.48 151.305 L1874.24 151.305 M1882.74 149.546 L1882.74 164.338 L1878.48 164.338 L1878.48 160.402 Q1877.02 162.763 1874.84 163.898 Q1872.67 165.009 1869.52 165.009 Q1865.54 165.009 1863.18 162.787 Q1860.84 160.541 1860.84 156.791 Q1860.84 152.416 1863.75 150.194 Q1866.69 147.972 1872.5 147.972 L1878.48 147.972 L1878.48 147.555 Q1878.48 144.615 1876.53 143.018 Q1874.61 141.398 1871.12 141.398 Q1868.89 141.398 1866.79 141.93 Q1864.68 142.463 1862.74 143.527 L1862.74 139.592 Q1865.07 138.69 1867.27 138.25 Q1869.47 137.787 1871.56 137.787 Q1877.18 137.787 1879.96 140.703 Q1882.74 143.62 1882.74 149.546 Z\" fill=\"#000000\" fill-rule=\"nonzero\" fill-opacity=\"1\" /><path clip-path=\"url(#clip240)\" d=\"M1891.51 128.319 L1895.77 128.319 L1895.77 164.338 L1891.51 164.338 L1891.51 128.319 Z\" fill=\"#000000\" fill-rule=\"nonzero\" fill-opacity=\"1\" /><path clip-path=\"url(#clip240)\" d=\"M1904.68 138.412 L1908.94 138.412 L1908.94 164.338 L1904.68 164.338 L1904.68 138.412 M1904.68 128.319 L1908.94 128.319 L1908.94 133.713 L1904.68 133.713 L1904.68 128.319 Z\" fill=\"#000000\" fill-rule=\"nonzero\" fill-opacity=\"1\" /><path clip-path=\"url(#clip240)\" d=\"M1916 138.412 L1936.23 138.412 L1936.23 142.301 L1920.21 160.935 L1936.23 160.935 L1936.23 164.338 L1915.42 164.338 L1915.42 160.449 L1931.44 141.815 L1916 141.815 L1916 138.412 Z\" fill=\"#000000\" fill-rule=\"nonzero\" fill-opacity=\"1\" /><path clip-path=\"url(#clip240)\" d=\"M1964.91 150.31 L1964.91 152.393 L1945.33 152.393 Q1945.61 156.791 1947.97 159.106 Q1950.35 161.398 1954.59 161.398 Q1957.04 161.398 1959.33 160.796 Q1961.65 160.194 1963.92 158.99 L1963.92 163.018 Q1961.62 163.99 1959.22 164.5 Q1956.81 165.009 1954.33 165.009 Q1948.13 165.009 1944.5 161.398 Q1940.88 157.787 1940.88 151.629 Q1940.88 145.264 1944.31 141.537 Q1947.76 137.787 1953.59 137.787 Q1958.82 137.787 1961.86 141.166 Q1964.91 144.523 1964.91 150.31 M1960.65 149.06 Q1960.61 145.565 1958.68 143.481 Q1956.79 141.398 1953.64 141.398 Q1950.07 141.398 1947.92 143.412 Q1945.79 145.426 1945.47 149.083 L1960.65 149.06 Z\" fill=\"#000000\" fill-rule=\"nonzero\" fill-opacity=\"1\" /><path clip-path=\"url(#clip240)\" d=\"M1988.96 142.347 L1988.96 128.319 L1993.22 128.319 L1993.22 164.338 L1988.96 164.338 L1988.96 160.449 Q1987.62 162.763 1985.56 163.898 Q1983.52 165.009 1980.65 165.009 Q1975.95 165.009 1972.99 161.259 Q1970.05 157.509 1970.05 151.398 Q1970.05 145.287 1972.99 141.537 Q1975.95 137.787 1980.65 137.787 Q1983.52 137.787 1985.56 138.921 Q1987.62 140.032 1988.96 142.347 M1974.45 151.398 Q1974.45 156.097 1976.37 158.782 Q1978.31 161.444 1981.69 161.444 Q1985.07 161.444 1987.02 158.782 Q1988.96 156.097 1988.96 151.398 Q1988.96 146.699 1987.02 144.037 Q1985.07 141.352 1981.69 141.352 Q1978.31 141.352 1976.37 144.037 Q1974.45 146.699 1974.45 151.398 Z\" fill=\"#000000\" fill-rule=\"nonzero\" fill-opacity=\"1\" /><path clip-path=\"url(#clip240)\" d=\"M2017.25 129.778 L2021.93 129.778 L2021.93 143.944 L2038.92 143.944 L2038.92 129.778 L2043.59 129.778 L2043.59 164.338 L2038.92 164.338 L2038.92 147.879 L2021.93 147.879 L2021.93 164.338 L2017.25 164.338 L2017.25 129.778 Z\" fill=\"#000000\" fill-rule=\"nonzero\" fill-opacity=\"1\" /><path clip-path=\"url(#clip240)\" d=\"M2052.71 138.412 L2056.97 138.412 L2056.97 164.338 L2052.71 164.338 L2052.71 138.412 M2052.71 128.319 L2056.97 128.319 L2056.97 133.713 L2052.71 133.713 L2052.71 128.319 Z\" fill=\"#000000\" fill-rule=\"nonzero\" fill-opacity=\"1\" /><path clip-path=\"url(#clip240)\" d=\"M2082.41 139.176 L2082.41 143.203 Q2080.61 142.277 2078.66 141.815 Q2076.72 141.352 2074.63 141.352 Q2071.46 141.352 2069.86 142.324 Q2068.29 143.296 2068.29 145.24 Q2068.29 146.722 2069.43 147.578 Q2070.56 148.412 2073.99 149.176 L2075.44 149.5 Q2079.98 150.472 2081.88 152.254 Q2083.8 154.014 2083.8 157.185 Q2083.8 160.796 2080.93 162.902 Q2078.08 165.009 2073.08 165.009 Q2071 165.009 2068.73 164.592 Q2066.49 164.199 2063.99 163.388 L2063.99 158.99 Q2066.35 160.217 2068.64 160.842 Q2070.93 161.444 2073.18 161.444 Q2076.18 161.444 2077.8 160.426 Q2079.43 159.384 2079.43 157.509 Q2079.43 155.773 2078.24 154.847 Q2077.09 153.921 2073.13 153.064 L2071.65 152.717 Q2067.69 151.884 2065.93 150.171 Q2064.17 148.435 2064.17 145.426 Q2064.17 141.768 2066.76 139.778 Q2069.36 137.787 2074.12 137.787 Q2076.49 137.787 2078.57 138.134 Q2080.65 138.481 2082.41 139.176 Z\" fill=\"#000000\" fill-rule=\"nonzero\" fill-opacity=\"1\" /><path clip-path=\"url(#clip240)\" d=\"M2094.8 131.051 L2094.8 138.412 L2103.57 138.412 L2103.57 141.722 L2094.8 141.722 L2094.8 155.796 Q2094.8 158.967 2095.65 159.87 Q2096.53 160.773 2099.19 160.773 L2103.57 160.773 L2103.57 164.338 L2099.19 164.338 Q2094.26 164.338 2092.39 162.509 Q2090.51 160.657 2090.51 155.796 L2090.51 141.722 L2087.39 141.722 L2087.39 138.412 L2090.51 138.412 L2090.51 131.051 L2094.8 131.051 Z\" fill=\"#000000\" fill-rule=\"nonzero\" fill-opacity=\"1\" /><path clip-path=\"url(#clip240)\" d=\"M2119.22 141.398 Q2115.79 141.398 2113.8 144.083 Q2111.81 146.745 2111.81 151.398 Q2111.81 156.051 2113.78 158.736 Q2115.77 161.398 2119.22 161.398 Q2122.62 161.398 2124.61 158.713 Q2126.6 156.027 2126.6 151.398 Q2126.6 146.791 2124.61 144.106 Q2122.62 141.398 2119.22 141.398 M2119.22 137.787 Q2124.77 137.787 2127.94 141.398 Q2131.11 145.009 2131.11 151.398 Q2131.11 157.764 2127.94 161.398 Q2124.77 165.009 2119.22 165.009 Q2113.64 165.009 2110.47 161.398 Q2107.32 157.764 2107.32 151.398 Q2107.32 145.009 2110.47 141.398 Q2113.64 137.787 2119.22 137.787 Z\" fill=\"#000000\" fill-rule=\"nonzero\" fill-opacity=\"1\" /><path clip-path=\"url(#clip240)\" d=\"M2155.23 151.074 Q2155.23 146.444 2153.31 143.898 Q2151.42 141.352 2147.97 141.352 Q2144.54 141.352 2142.62 143.898 Q2140.72 146.444 2140.72 151.074 Q2140.72 155.68 2142.62 158.226 Q2144.54 160.773 2147.97 160.773 Q2151.42 160.773 2153.31 158.226 Q2155.23 155.68 2155.23 151.074 M2159.49 161.12 Q2159.49 167.74 2156.55 170.958 Q2153.61 174.199 2147.55 174.199 Q2145.3 174.199 2143.31 173.851 Q2141.32 173.527 2139.45 172.833 L2139.45 168.689 Q2141.32 169.708 2143.15 170.194 Q2144.98 170.68 2146.88 170.68 Q2151.07 170.68 2153.15 168.481 Q2155.23 166.305 2155.23 161.884 L2155.23 159.777 Q2153.92 162.069 2151.86 163.203 Q2149.8 164.338 2146.92 164.338 Q2142.16 164.338 2139.24 160.703 Q2136.32 157.069 2136.32 151.074 Q2136.32 145.055 2139.24 141.421 Q2142.16 137.787 2146.92 137.787 Q2149.8 137.787 2151.86 138.921 Q2153.92 140.055 2155.23 142.347 L2155.23 138.412 L2159.49 138.412 L2159.49 161.12 Z\" fill=\"#000000\" fill-rule=\"nonzero\" fill-opacity=\"1\" /><path clip-path=\"url(#clip240)\" d=\"M2183.29 142.393 Q2182.57 141.977 2181.72 141.791 Q2180.88 141.583 2179.86 141.583 Q2176.25 141.583 2174.31 143.944 Q2172.39 146.282 2172.39 150.68 L2172.39 164.338 L2168.11 164.338 L2168.11 138.412 L2172.39 138.412 L2172.39 142.44 Q2173.73 140.078 2175.88 138.944 Q2178.04 137.787 2181.11 137.787 Q2181.55 137.787 2182.09 137.856 Q2182.62 137.903 2183.27 138.018 L2183.29 142.393 Z\" fill=\"#000000\" fill-rule=\"nonzero\" fill-opacity=\"1\" /><path clip-path=\"url(#clip240)\" d=\"M2199.54 151.305 Q2194.38 151.305 2192.39 152.486 Q2190.4 153.666 2190.4 156.514 Q2190.4 158.782 2191.88 160.125 Q2193.38 161.444 2195.95 161.444 Q2199.49 161.444 2201.62 158.944 Q2203.78 156.421 2203.78 152.254 L2203.78 151.305 L2199.54 151.305 M2208.04 149.546 L2208.04 164.338 L2203.78 164.338 L2203.78 160.402 Q2202.32 162.763 2200.14 163.898 Q2197.97 165.009 2194.82 165.009 Q2190.84 165.009 2188.48 162.787 Q2186.14 160.541 2186.14 156.791 Q2186.14 152.416 2189.05 150.194 Q2191.99 147.972 2197.8 147.972 L2203.78 147.972 L2203.78 147.555 Q2203.78 144.615 2201.83 143.018 Q2199.91 141.398 2196.42 141.398 Q2194.19 141.398 2192.09 141.93 Q2189.98 142.463 2188.04 143.527 L2188.04 139.592 Q2190.37 138.69 2192.57 138.25 Q2194.77 137.787 2196.85 137.787 Q2202.48 137.787 2205.26 140.703 Q2208.04 143.62 2208.04 149.546 Z\" fill=\"#000000\" fill-rule=\"nonzero\" fill-opacity=\"1\" /><path clip-path=\"url(#clip240)\" d=\"M2236.99 143.389 Q2238.59 140.518 2240.81 139.153 Q2243.04 137.787 2246.04 137.787 Q2250.1 137.787 2252.29 140.634 Q2254.49 143.458 2254.49 148.689 L2254.49 164.338 L2250.21 164.338 L2250.21 148.828 Q2250.21 145.102 2248.89 143.296 Q2247.57 141.49 2244.86 141.49 Q2241.55 141.49 2239.63 143.69 Q2237.71 145.889 2237.71 149.685 L2237.71 164.338 L2233.43 164.338 L2233.43 148.828 Q2233.43 145.078 2232.11 143.296 Q2230.79 141.49 2228.04 141.49 Q2224.77 141.49 2222.85 143.713 Q2220.93 145.912 2220.93 149.685 L2220.93 164.338 L2216.65 164.338 L2216.65 138.412 L2220.93 138.412 L2220.93 142.44 Q2222.39 140.055 2224.42 138.921 Q2226.46 137.787 2229.26 137.787 Q2232.09 137.787 2234.05 139.222 Q2236.04 140.657 2236.99 143.389 Z\" fill=\"#000000\" fill-rule=\"nonzero\" fill-opacity=\"1\" /><path clip-path=\"url(#clip240)\" d=\"M1561.38 219.634 L1708.77 219.634 L1708.77 178.162 L1561.38 178.162 L1561.38 219.634  Z\" fill=\"#ffa500\" fill-rule=\"evenodd\" fill-opacity=\"0.5\"/>\n",
       "<polyline clip-path=\"url(#clip240)\" style=\"stroke:#e26f46; stroke-linecap:round; stroke-linejoin:round; stroke-width:4; stroke-opacity:1; fill:none\" points=\"1561.38,178.162 1708.77,178.162 \"/>\n",
       "<path clip-path=\"url(#clip240)\" d=\"M1755.58 182.752 L1755.58 187.312 Q1752.92 186.039 1750.56 185.414 Q1748.2 184.789 1746 184.789 Q1742.18 184.789 1740.1 186.27 Q1738.04 187.752 1738.04 190.483 Q1738.04 192.775 1739.4 193.955 Q1740.79 195.113 1744.64 195.83 L1747.46 196.409 Q1752.69 197.405 1755.17 199.928 Q1757.67 202.428 1757.67 206.641 Q1757.67 211.664 1754.29 214.256 Q1750.93 216.849 1744.43 216.849 Q1741.97 216.849 1739.2 216.293 Q1736.44 215.738 1733.48 214.65 L1733.48 209.835 Q1736.33 211.432 1739.06 212.242 Q1741.79 213.053 1744.43 213.053 Q1748.43 213.053 1750.61 211.479 Q1752.78 209.904 1752.78 206.988 Q1752.78 204.442 1751.21 203.006 Q1749.66 201.571 1746.09 200.854 L1743.25 200.298 Q1738.01 199.256 1735.68 197.034 Q1733.34 194.812 1733.34 190.854 Q1733.34 186.27 1736.56 183.631 Q1739.8 180.993 1745.47 180.993 Q1747.9 180.993 1750.42 181.432 Q1752.95 181.872 1755.58 182.752 Z\" fill=\"#000000\" fill-rule=\"nonzero\" fill-opacity=\"1\" /><path clip-path=\"url(#clip240)\" d=\"M1768.99 182.891 L1768.99 190.252 L1777.76 190.252 L1777.76 193.562 L1768.99 193.562 L1768.99 207.636 Q1768.99 210.807 1769.84 211.71 Q1770.72 212.613 1773.39 212.613 L1777.76 212.613 L1777.76 216.178 L1773.39 216.178 Q1768.45 216.178 1766.58 214.349 Q1764.7 212.497 1764.7 207.636 L1764.7 193.562 L1761.58 193.562 L1761.58 190.252 L1764.7 190.252 L1764.7 182.891 L1768.99 182.891 Z\" fill=\"#000000\" fill-rule=\"nonzero\" fill-opacity=\"1\" /><path clip-path=\"url(#clip240)\" d=\"M1795.14 203.145 Q1789.98 203.145 1787.99 204.326 Q1786 205.506 1786 208.354 Q1786 210.622 1787.48 211.965 Q1788.99 213.284 1791.56 213.284 Q1795.1 213.284 1797.23 210.784 Q1799.38 208.261 1799.38 204.094 L1799.38 203.145 L1795.14 203.145 M1803.64 201.386 L1803.64 216.178 L1799.38 216.178 L1799.38 212.242 Q1797.92 214.603 1795.75 215.738 Q1793.57 216.849 1790.42 216.849 Q1786.44 216.849 1784.08 214.627 Q1781.74 212.381 1781.74 208.631 Q1781.74 204.256 1784.66 202.034 Q1787.6 199.812 1793.41 199.812 L1799.38 199.812 L1799.38 199.395 Q1799.38 196.455 1797.44 194.858 Q1795.51 193.238 1792.02 193.238 Q1789.8 193.238 1787.69 193.77 Q1785.58 194.303 1783.64 195.367 L1783.64 191.432 Q1785.98 190.53 1788.18 190.09 Q1790.38 189.627 1792.46 189.627 Q1798.08 189.627 1800.86 192.543 Q1803.64 195.46 1803.64 201.386 Z\" fill=\"#000000\" fill-rule=\"nonzero\" fill-opacity=\"1\" /><path clip-path=\"url(#clip240)\" d=\"M1833.96 200.529 L1833.96 216.178 L1829.7 216.178 L1829.7 200.668 Q1829.7 196.988 1828.27 195.159 Q1826.83 193.33 1823.96 193.33 Q1820.51 193.33 1818.52 195.53 Q1816.53 197.729 1816.53 201.525 L1816.53 216.178 L1812.25 216.178 L1812.25 190.252 L1816.53 190.252 L1816.53 194.28 Q1818.06 191.942 1820.12 190.784 Q1822.2 189.627 1824.91 189.627 Q1829.38 189.627 1831.67 192.405 Q1833.96 195.159 1833.96 200.529 Z\" fill=\"#000000\" fill-rule=\"nonzero\" fill-opacity=\"1\" /><path clip-path=\"url(#clip240)\" d=\"M1859.52 194.187 L1859.52 180.159 L1863.78 180.159 L1863.78 216.178 L1859.52 216.178 L1859.52 212.289 Q1858.18 214.603 1856.12 215.738 Q1854.08 216.849 1851.21 216.849 Q1846.51 216.849 1843.55 213.099 Q1840.61 209.349 1840.61 203.238 Q1840.61 197.127 1843.55 193.377 Q1846.51 189.627 1851.21 189.627 Q1854.08 189.627 1856.12 190.761 Q1858.18 191.872 1859.52 194.187 M1845.01 203.238 Q1845.01 207.937 1846.93 210.622 Q1848.87 213.284 1852.25 213.284 Q1855.63 213.284 1857.57 210.622 Q1859.52 207.937 1859.52 203.238 Q1859.52 198.539 1857.57 195.877 Q1855.63 193.192 1852.25 193.192 Q1848.87 193.192 1846.93 195.877 Q1845.01 198.539 1845.01 203.238 Z\" fill=\"#000000\" fill-rule=\"nonzero\" fill-opacity=\"1\" /><path clip-path=\"url(#clip240)\" d=\"M1884.33 203.145 Q1879.17 203.145 1877.18 204.326 Q1875.19 205.506 1875.19 208.354 Q1875.19 210.622 1876.67 211.965 Q1878.18 213.284 1880.75 213.284 Q1884.29 213.284 1886.42 210.784 Q1888.57 208.261 1888.57 204.094 L1888.57 203.145 L1884.33 203.145 M1892.83 201.386 L1892.83 216.178 L1888.57 216.178 L1888.57 212.242 Q1887.11 214.603 1884.94 215.738 Q1882.76 216.849 1879.61 216.849 Q1875.63 216.849 1873.27 214.627 Q1870.93 212.381 1870.93 208.631 Q1870.93 204.256 1873.85 202.034 Q1876.79 199.812 1882.6 199.812 L1888.57 199.812 L1888.57 199.395 Q1888.57 196.455 1886.63 194.858 Q1884.7 193.238 1881.21 193.238 Q1878.99 193.238 1876.88 193.77 Q1874.77 194.303 1872.83 195.367 L1872.83 191.432 Q1875.17 190.53 1877.37 190.09 Q1879.57 189.627 1881.65 189.627 Q1887.27 189.627 1890.05 192.543 Q1892.83 195.46 1892.83 201.386 Z\" fill=\"#000000\" fill-rule=\"nonzero\" fill-opacity=\"1\" /><path clip-path=\"url(#clip240)\" d=\"M1916.62 194.233 Q1915.91 193.817 1915.05 193.631 Q1914.22 193.423 1913.2 193.423 Q1909.59 193.423 1907.64 195.784 Q1905.72 198.122 1905.72 202.52 L1905.72 216.178 L1901.44 216.178 L1901.44 190.252 L1905.72 190.252 L1905.72 194.28 Q1907.06 191.918 1909.22 190.784 Q1911.37 189.627 1914.45 189.627 Q1914.89 189.627 1915.42 189.696 Q1915.95 189.743 1916.6 189.858 L1916.62 194.233 Z\" fill=\"#000000\" fill-rule=\"nonzero\" fill-opacity=\"1\" /><path clip-path=\"url(#clip240)\" d=\"M1937.32 194.187 L1937.32 180.159 L1941.58 180.159 L1941.58 216.178 L1937.32 216.178 L1937.32 212.289 Q1935.98 214.603 1933.92 215.738 Q1931.88 216.849 1929.01 216.849 Q1924.31 216.849 1921.35 213.099 Q1918.41 209.349 1918.41 203.238 Q1918.41 197.127 1921.35 193.377 Q1924.31 189.627 1929.01 189.627 Q1931.88 189.627 1933.92 190.761 Q1935.98 191.872 1937.32 194.187 M1922.81 203.238 Q1922.81 207.937 1924.73 210.622 Q1926.67 213.284 1930.05 213.284 Q1933.43 213.284 1935.37 210.622 Q1937.32 207.937 1937.32 203.238 Q1937.32 198.539 1935.37 195.877 Q1933.43 193.192 1930.05 193.192 Q1926.67 193.192 1924.73 195.877 Q1922.81 198.539 1922.81 203.238 Z\" fill=\"#000000\" fill-rule=\"nonzero\" fill-opacity=\"1\" /><path clip-path=\"url(#clip240)\" d=\"M1965.61 181.618 L1971.9 181.618 L1987.23 210.529 L1987.23 181.618 L1991.76 181.618 L1991.76 216.178 L1985.47 216.178 L1970.14 187.266 L1970.14 216.178 L1965.61 216.178 L1965.61 181.618 Z\" fill=\"#000000\" fill-rule=\"nonzero\" fill-opacity=\"1\" /><path clip-path=\"url(#clip240)\" d=\"M2010.93 193.238 Q2007.5 193.238 2005.51 195.923 Q2003.52 198.585 2003.52 203.238 Q2003.52 207.891 2005.49 210.576 Q2007.48 213.238 2010.93 213.238 Q2014.33 213.238 2016.32 210.553 Q2018.31 207.867 2018.31 203.238 Q2018.31 198.631 2016.32 195.946 Q2014.33 193.238 2010.93 193.238 M2010.93 189.627 Q2016.49 189.627 2019.66 193.238 Q2022.83 196.849 2022.83 203.238 Q2022.83 209.604 2019.66 213.238 Q2016.49 216.849 2010.93 216.849 Q2005.35 216.849 2002.18 213.238 Q1999.03 209.604 1999.03 203.238 Q1999.03 196.849 2002.18 193.238 Q2005.35 189.627 2010.93 189.627 Z\" fill=\"#000000\" fill-rule=\"nonzero\" fill-opacity=\"1\" /><path clip-path=\"url(#clip240)\" d=\"M2044.91 194.233 Q2044.19 193.817 2043.34 193.631 Q2042.5 193.423 2041.49 193.423 Q2037.87 193.423 2035.93 195.784 Q2034.01 198.122 2034.01 202.52 L2034.01 216.178 L2029.73 216.178 L2029.73 190.252 L2034.01 190.252 L2034.01 194.28 Q2035.35 191.918 2037.5 190.784 Q2039.66 189.627 2042.74 189.627 Q2043.18 189.627 2043.71 189.696 Q2044.24 189.743 2044.89 189.858 L2044.91 194.233 Z\" fill=\"#000000\" fill-rule=\"nonzero\" fill-opacity=\"1\" /><path clip-path=\"url(#clip240)\" d=\"M2068.73 195.229 Q2070.33 192.358 2072.55 190.993 Q2074.77 189.627 2077.78 189.627 Q2081.83 189.627 2084.03 192.474 Q2086.23 195.298 2086.23 200.529 L2086.23 216.178 L2081.95 216.178 L2081.95 200.668 Q2081.95 196.942 2080.63 195.136 Q2079.31 193.33 2076.6 193.33 Q2073.29 193.33 2071.37 195.53 Q2069.45 197.729 2069.45 201.525 L2069.45 216.178 L2065.17 216.178 L2065.17 200.668 Q2065.17 196.918 2063.85 195.136 Q2062.53 193.33 2059.77 193.33 Q2056.51 193.33 2054.59 195.553 Q2052.67 197.752 2052.67 201.525 L2052.67 216.178 L2048.38 216.178 L2048.38 190.252 L2052.67 190.252 L2052.67 194.28 Q2054.12 191.895 2056.16 190.761 Q2058.2 189.627 2061 189.627 Q2063.82 189.627 2065.79 191.062 Q2067.78 192.497 2068.73 195.229 Z\" fill=\"#000000\" fill-rule=\"nonzero\" fill-opacity=\"1\" /><path clip-path=\"url(#clip240)\" d=\"M2106.51 203.145 Q2101.35 203.145 2099.36 204.326 Q2097.36 205.506 2097.36 208.354 Q2097.36 210.622 2098.85 211.965 Q2100.35 213.284 2102.92 213.284 Q2106.46 213.284 2108.59 210.784 Q2110.74 208.261 2110.74 204.094 L2110.74 203.145 L2106.51 203.145 M2115 201.386 L2115 216.178 L2110.74 216.178 L2110.74 212.242 Q2109.29 214.603 2107.11 215.738 Q2104.93 216.849 2101.79 216.849 Q2097.8 216.849 2095.44 214.627 Q2093.11 212.381 2093.11 208.631 Q2093.11 204.256 2096.02 202.034 Q2098.96 199.812 2104.77 199.812 L2110.74 199.812 L2110.74 199.395 Q2110.74 196.455 2108.8 194.858 Q2106.88 193.238 2103.38 193.238 Q2101.16 193.238 2099.05 193.77 Q2096.95 194.303 2095 195.367 L2095 191.432 Q2097.34 190.53 2099.54 190.09 Q2101.74 189.627 2103.82 189.627 Q2109.45 189.627 2112.23 192.543 Q2115 195.46 2115 201.386 Z\" fill=\"#000000\" fill-rule=\"nonzero\" fill-opacity=\"1\" /><path clip-path=\"url(#clip240)\" d=\"M2123.78 180.159 L2128.04 180.159 L2128.04 216.178 L2123.78 216.178 L2123.78 180.159 Z\" fill=\"#000000\" fill-rule=\"nonzero\" fill-opacity=\"1\" /><path clip-path=\"url(#clip240)\" d=\"M2156.88 185.46 L2156.88 198.446 L2162.76 198.446 Q2166.02 198.446 2167.8 196.756 Q2169.59 195.067 2169.59 191.942 Q2169.59 188.84 2167.8 187.15 Q2166.02 185.46 2162.76 185.46 L2156.88 185.46 M2152.2 181.618 L2162.76 181.618 Q2168.57 181.618 2171.53 184.256 Q2174.52 186.872 2174.52 191.942 Q2174.52 197.057 2171.53 199.673 Q2168.57 202.289 2162.76 202.289 L2156.88 202.289 L2156.88 216.178 L2152.2 216.178 L2152.2 181.618 Z\" fill=\"#000000\" fill-rule=\"nonzero\" fill-opacity=\"1\" /><path clip-path=\"url(#clip240)\" d=\"M2185.47 185.46 L2185.47 212.335 L2191.11 212.335 Q2198.27 212.335 2201.58 209.094 Q2204.91 205.854 2204.91 198.863 Q2204.91 191.918 2201.58 188.701 Q2198.27 185.46 2191.11 185.46 L2185.47 185.46 M2180.79 181.618 L2190.4 181.618 Q2200.44 181.618 2205.14 185.807 Q2209.84 189.974 2209.84 198.863 Q2209.84 207.798 2205.12 211.988 Q2200.4 216.178 2190.4 216.178 L2180.79 216.178 L2180.79 181.618 Z\" fill=\"#000000\" fill-rule=\"nonzero\" fill-opacity=\"1\" /><path clip-path=\"url(#clip240)\" d=\"M2217.29 181.618 L2237.16 181.618 L2237.16 185.553 L2221.97 185.553 L2221.97 195.738 L2235.67 195.738 L2235.67 199.673 L2221.97 199.673 L2221.97 216.178 L2217.29 216.178 L2217.29 181.618 Z\" fill=\"#000000\" fill-rule=\"nonzero\" fill-opacity=\"1\" /></svg>\n"
      ]
     },
     "execution_count": 22,
     "metadata": {},
     "output_type": "execute_result"
    }
   ],
   "source": [
    "# Sample data: Replace `data` with your dataset\n",
    "data = randn(1000)  # Example: 1000 random numbers from a standard normal distribution\n",
    "\n",
    "# Create a normalized histogram\n",
    "histogram(data, normalization=:probability, bins=30, label=\"Normalized Histogram\")\n",
    "\n",
    "# To compare with a PDF, overlay the PDF on the same plot\n",
    "# For example, overlaying a standard normal PDF\n",
    "plot!(Normal(0, 1), fill=(0, .5,:orange), label=\"Standard Normal PDF\")"
   ]
  },
  {
   "cell_type": "code",
   "execution_count": null,
   "id": "41be3fb1-ad27-41ab-bce8-c16097f6f7b1",
   "metadata": {},
   "outputs": [],
   "source": []
  }
 ],
 "metadata": {
  "kernelspec": {
   "display_name": "Julia 1.9.3",
   "language": "julia",
   "name": "julia-1.9"
  },
  "language_info": {
   "file_extension": ".jl",
   "mimetype": "application/julia",
   "name": "julia",
   "version": "1.10.0"
  }
 },
 "nbformat": 4,
 "nbformat_minor": 5
}
