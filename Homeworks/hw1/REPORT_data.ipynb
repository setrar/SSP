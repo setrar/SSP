{
 "cells": [
  {
   "cell_type": "markdown",
   "id": "18cdc126-4d8f-49fe-b924-72d69b73289b",
   "metadata": {},
   "source": [
    "# &#x1F4DD; REPORT"
   ]
  },
  {
   "cell_type": "markdown",
   "id": "3d6ac38c-059f-49fb-b237-7c09e4fc50c3",
   "metadata": {},
   "source": [
    "# Homework &#x0031;&#xFE0F;&#x20E3; \n",
    "\n",
    "Homework policy: the homework is individual. Students are encouraged to discuss with fellow students to try to find the main structure of the solution for a problem, especially if they are totally stuck at the beginning of the problem. However, you should work out the details yourself and write down in your own words only what you understand yourself."
   ]
  },
  {
   "cell_type": "markdown",
   "id": "34e91283-0494-4de9-bbf3-56d7d25a0a78",
   "metadata": {},
   "source": [
    "\n",
    "In this problem, we consider the roundtrip delay in a computer network (internet) between the computer we’re working on and another computer connected to the network. This roundtrip delay will be different, every time we send a message. As such, it can be modeled as a random variable y. For the design of network protocols and for their performance evaluation, it is important to know the distribution of this random roundtrip delay. To turn the estimation of the roundtrip delay distribution into a parameter estimation problem, we shall take a parametric distribution, parameterized by one or more parameters. Since we don’t have too much information about this variable y (except that it should be positive), we shall try several parametric distributions. In particular, we shall consider the following distributions:\n",
    "\n",
    "$$\n",
    "\\text { * A Gaussian distribution: } \\qquad f_G (y|\\mu, \\sigma^2) = \\frac{1}{\\sqrt{2\\pi\\sigma^2}}  e^{-\\frac{(y−\\mu)^2}{2\\sigma^2}} \n",
    "$$\n",
    "\n",
    "$$\n",
    "\\text { * A Rayleigh distribution: } \\qquad f_R (y|\\sigma^2) = \n",
    "\\begin{cases}\n",
    "0 & , y < 0\n",
    "\\\\\n",
    "\\frac{y}{\\sigma^2}  e^{-\\frac{y^2}{2\\sigma^2}} & , y \\geq 0\n",
    "\\end{cases}\n",
    "$$\n",
    "\n",
    "$$\n",
    "\\text { * An Erlang distribution: } \\qquad f_{Em} (y|\\lambda) = \n",
    "\\begin{cases}\n",
    "0 & , y < 0\n",
    "\\\\\n",
    "\\frac{\\lambda^{m+1}}{m!} y^me^{\\lambda y} & , y \\geq 0\n",
    "\\end{cases} \n",
    "\\\\\n",
    "\\text{ for different values of } m \\in \\{0,1,2\\}.\n",
    "\\\\\n",
    "\\\\\n",
    "\\text{ Remark that for m = 0 we have an exponential density: }\n",
    "\\\\\n",
    "f_{E0}(y|\\lambda) = \n",
    "\\begin{cases}\n",
    "0 & , y < 0\n",
    "\\\\\n",
    "\\lambda e^{-\\lambda y} & , y \\geq 0\n",
    "\\end{cases}\n",
    "$$\n",
    "\n",
    "$$\n",
    "\\text{ * A (shifted) exponential density: } \\qquad f_{exp}(y|\\lambda,\\alpha) = \n",
    "\\begin{cases}\n",
    "0 & , y < 0\n",
    "\\\\\n",
    "\\lambda e^{-\\lambda(y - \\alpha)} & , y \\geq 0\n",
    "\\end{cases}\n",
    "$$"
   ]
  },
  {
   "cell_type": "markdown",
   "id": "dc509581-f206-4fa8-94ed-7297a4f6512f",
   "metadata": {},
   "source": [
    "**&#x1F516;** **(&#x2170;)** Your raw data?\n"
   ]
  },
  {
   "cell_type": "code",
   "execution_count": 1,
   "id": "1131459e-bbd4-4406-827e-95fe01f24938",
   "metadata": {},
   "outputs": [],
   "source": [
    "using DataFrames, CSV"
   ]
  },
  {
   "cell_type": "code",
   "execution_count": 2,
   "id": "9a236f89-c5ff-450d-a4e8-0c80b62a7c98",
   "metadata": {},
   "outputs": [],
   "source": [
    "df = CSV.File(\"stats.txt\") |> DataFrame;"
   ]
  },
  {
   "cell_type": "code",
   "execution_count": 3,
   "id": "6d3a72c8-84f5-4115-84ab-69116232835e",
   "metadata": {},
   "outputs": [],
   "source": [
    "using PrettyTables"
   ]
  },
  {
   "cell_type": "code",
   "execution_count": 4,
   "id": "76e687bc-2c24-46d8-b450-cbe3f94d9473",
   "metadata": {},
   "outputs": [],
   "source": [
    "header = (\n",
    "      [\"pingstats\"]\n",
    "    , [\"[Float64]\"]\n",
    ");"
   ]
  },
  {
   "cell_type": "code",
   "execution_count": 5,
   "id": "0084fdeb-5d4e-4b1c-9b85-900e1dc2f0bd",
   "metadata": {},
   "outputs": [
    {
     "name": "stdout",
     "output_type": "stream",
     "text": [
      "xᵢ[1:3] = [158.991, 152.726, 152.736]\n"
     ]
    }
   ],
   "source": [
    "xᵢ = df[!,\"pingstats\"]; @show xᵢ[1:3];"
   ]
  },
  {
   "cell_type": "code",
   "execution_count": 6,
   "id": "558311d4-7fa5-4d09-ae26-18286a800a02",
   "metadata": {},
   "outputs": [
    {
     "data": {
      "text/html": [
       "<!DOCTYPE html>\n",
       "<html>\n",
       "<meta charset=\"UTF-8\">\n",
       "<head>\n",
       "<style>\n",
       "  table, td, th {\n",
       "      border-collapse: collapse;\n",
       "      font-family: sans-serif;\n",
       "  }\n",
       "\n",
       "  td, th {\n",
       "      border-bottom: 0;\n",
       "      padding: 4px\n",
       "  }\n",
       "\n",
       "  tr:nth-child(odd) {\n",
       "      background: #eee;\n",
       "  }\n",
       "\n",
       "  tr:nth-child(even) {\n",
       "      background: #fff;\n",
       "  }\n",
       "\n",
       "  tr.header {\n",
       "      background: navy !important;\n",
       "      color: white;\n",
       "      font-weight: bold;\n",
       "  }\n",
       "\n",
       "  tr.subheader {\n",
       "      background: lightgray !important;\n",
       "      color: black;\n",
       "  }\n",
       "\n",
       "  tr.headerLastRow {\n",
       "      border-bottom: 2px solid black;\n",
       "  }\n",
       "\n",
       "  th.rowNumber, td.rowNumber {\n",
       "      text-align: right;\n",
       "  }\n",
       "\n",
       "</style>\n",
       "</head>\n",
       "<body>\n",
       "<table>\n",
       "  <thead>\n",
       "    <tr class = \"header\">\n",
       "      <th style = \"text-align: right;\">pingstats</th>\n",
       "    </tr>\n",
       "    <tr class = \"subheader headerLastRow\">\n",
       "      <th style = \"text-align: right;\">[Float64]</th>\n",
       "    </tr>\n",
       "  </thead>\n",
       "  <tbody>\n",
       "    <tr>\n",
       "      <td style = \"text-align: right;\">158.991</td>\n",
       "    </tr>\n",
       "    <tr>\n",
       "      <td style = \"text-align: right;\">152.726</td>\n",
       "    </tr>\n",
       "    <tr>\n",
       "      <td style = \"text-align: right;\">152.736</td>\n",
       "    </tr>\n",
       "  </tbody>\n",
       "</table>\n",
       "</body>\n",
       "</html>\n"
      ]
     },
     "metadata": {},
     "output_type": "display_data"
    }
   ],
   "source": [
    "pretty_table(\n",
    "    first(xᵢ, 3)\n",
    "    , backend=Val(:html), header = header, standalone=true)"
   ]
  },
  {
   "cell_type": "code",
   "execution_count": 7,
   "id": "ec0753b8-9efe-4024-ac38-e1f20d772e93",
   "metadata": {},
   "outputs": [],
   "source": [
    "using Statistics"
   ]
  },
  {
   "cell_type": "code",
   "execution_count": 8,
   "id": "fdb52ff8-f40f-4362-a481-d4c8f7b8ae0f",
   "metadata": {},
   "outputs": [
    {
     "data": {
      "text/plain": [
       "100"
      ]
     },
     "execution_count": 8,
     "metadata": {},
     "output_type": "execute_result"
    }
   ],
   "source": [
    "# Global Operations and constants\n",
    "∑ = sum\n",
    "𝖤 = mean # Expected Value\n",
    "n = length(xᵢ) # Lenght of data used all along"
   ]
  },
  {
   "cell_type": "code",
   "execution_count": 9,
   "id": "a321c281-08b5-40de-9df0-ebf34c7d5152",
   "metadata": {},
   "outputs": [],
   "source": [
    "using Markdown"
   ]
  },
  {
   "cell_type": "markdown",
   "id": "2831332d-217e-489c-837d-4d91c33ff423",
   "metadata": {},
   "source": [
    "**&#x1F516;** **(&#x2170;&#x2170;)** Estimated Parameters"
   ]
  },
  {
   "cell_type": "markdown",
   "id": "05c3f314-40c3-443a-bd96-ddeed05be437",
   "metadata": {},
   "source": [
    "&#x1F518; $\\mu_G$=? ($\\mu_G$)"
   ]
  },
  {
   "cell_type": "code",
   "execution_count": 10,
   "id": "a037760e-9f5e-4f01-896e-73ba29fc9709",
   "metadata": {},
   "outputs": [
    {
     "data": {
      "text/latex": [
       "\\paragraph{\\&\\#x1F4DD; Mean}\n",
       "$$\\mu = \\frac{1}{n}\\sum_{i=1}^{n}x_i \\qquad \\{i: \\in 1,\\cdots,n\\}$$\n"
      ],
      "text/markdown": [
       "#### &#x1F4DD; Mean\n",
       "\n",
       "$$\n",
       "\\mu = \\frac{1}{n}\\sum_{i=1}^{n}x_i \\qquad \\{i: \\in 1,\\cdots,n\\}\n",
       "$$\n"
      ],
      "text/plain": [
       "\u001b[1m  &#x1F4DD; Mean\u001b[22m\n",
       "\u001b[1m  --------------\u001b[22m\n",
       "\n",
       "\u001b[35m  \\mu = \\frac{1}{n}\\sum_{i=1}^{n}x_i \\qquad \\{i: \\in 1,\\cdots,n\\}\u001b[39m"
      ]
     },
     "execution_count": 10,
     "metadata": {},
     "output_type": "execute_result"
    }
   ],
   "source": [
    "Markdown.parse(raw\"\n",
    "#### &#x1F4DD; Mean\n",
    "```math\n",
    "\\mu = \\frac{1}{n}\\sum_{i=1}^{n}x_i \\qquad \\{i: \\in 1,\\cdots,n\\}\n",
    "```\n",
    "\")"
   ]
  },
  {
   "cell_type": "code",
   "execution_count": 11,
   "id": "f4fd48ca-ee0b-42d8-b432-b0f05084a55d",
   "metadata": {},
   "outputs": [
    {
     "name": "stdout",
     "output_type": "stream",
     "text": [
      "The calculated mean μ of the dataset is: 179.70369\n"
     ]
    }
   ],
   "source": [
    "# Compute the mean by dividing the total sum by the number of data points\n",
    "μ𝐺 = 1/n * ∑([i for i in xᵢ])\n",
    "\n",
    "# Print the calculated mean\n",
    "println(\"The calculated mean μ of the dataset is: \", μ𝐺)"
   ]
  },
  {
   "cell_type": "markdown",
   "id": "b2b8a399-d27e-4617-886e-d77c73766da5",
   "metadata": {},
   "source": [
    "&#x1F518; $\\sigma_G$=? ($\\sigma_G^2$)"
   ]
  },
  {
   "cell_type": "code",
   "execution_count": 12,
   "id": "0f2008be-8315-476e-85d0-21e3bf7da1b9",
   "metadata": {},
   "outputs": [
    {
     "data": {
      "text/latex": [
       "\\paragraph{\\&\\#x1F4DD; Variance}\n",
       "$$\\sigma_G^2 = \\frac{1}{n-1} \\sum_{i=1}^{n} (x_i - \\mu_G)^2 \\qquad \\{i: \\in 1,\\cdots,n\\}$$\n"
      ],
      "text/markdown": [
       "#### &#x1F4DD; Variance\n",
       "\n",
       "$$\n",
       "\\sigma_G^2 = \\frac{1}{n-1} \\sum_{i=1}^{n} (x_i - \\mu_G)^2 \\qquad \\{i: \\in 1,\\cdots,n\\}\n",
       "$$\n"
      ],
      "text/plain": [
       "\u001b[1m  &#x1F4DD; Variance\u001b[22m\n",
       "\u001b[1m  ------------------\u001b[22m\n",
       "\n",
       "\u001b[35m  \\sigma_G^2 = \\frac{1}{n-1} \\sum_{i=1}^{n} (x_i - \\mu_G)^2 \\qquad \\{i: \\in 1,\\cdots,n\\}\u001b[39m"
      ]
     },
     "execution_count": 12,
     "metadata": {},
     "output_type": "execute_result"
    }
   ],
   "source": [
    "Markdown.parse(raw\"\n",
    "#### &#x1F4DD; Variance\n",
    "```math\n",
    "\\sigma_G^2 = \\frac{1}{n-1} \\sum_{i=1}^{n} (x_i - \\mu_G)^2 \\qquad \\{i: \\in 1,\\cdots,n\\}\n",
    "```\n",
    "\")"
   ]
  },
  {
   "cell_type": "code",
   "execution_count": 13,
   "id": "c6599c8d-c575-47a5-9c1d-3b16ee4e433f",
   "metadata": {},
   "outputs": [
    {
     "data": {
      "text/plain": [
       "581.787739630202"
      ]
     },
     "execution_count": 13,
     "metadata": {},
     "output_type": "execute_result"
    }
   ],
   "source": [
    "# Calculate the variance (this is σ_G^2)\n",
    "σ𝐺² = 1/(n - 1) * ∑([(i - μ𝐺)^2 for i in xᵢ]) # or σ𝐺² = var(xᵢ) if using Statistics package"
   ]
  },
  {
   "cell_type": "code",
   "execution_count": 14,
   "id": "ae0f4844-02ac-4aec-a0f7-ab3dd11b6200",
   "metadata": {},
   "outputs": [
    {
     "data": {
      "text/latex": [
       "\\paragraph{\\&\\#x1F4DD; Standard Deviation}\n",
       "$$\\sigma_G = \\sqrt{\\sigma_G^2}$$\n"
      ],
      "text/markdown": [
       "#### &#x1F4DD; Standard Deviation\n",
       "\n",
       "$$\n",
       "\\sigma_G = \\sqrt{\\sigma_G^2}\n",
       "$$\n"
      ],
      "text/plain": [
       "\u001b[1m  &#x1F4DD; Standard Deviation\u001b[22m\n",
       "\u001b[1m  ----------------------------\u001b[22m\n",
       "\n",
       "\u001b[35m  \\sigma_G = \\sqrt{\\sigma_G^2}\u001b[39m"
      ]
     },
     "execution_count": 14,
     "metadata": {},
     "output_type": "execute_result"
    }
   ],
   "source": [
    "Markdown.parse(raw\"\n",
    "#### &#x1F4DD; Standard Deviation\n",
    "```math\n",
    "\\sigma_G = \\sqrt{\\sigma_G^2}\n",
    "```\n",
    "\")"
   ]
  },
  {
   "cell_type": "code",
   "execution_count": 15,
   "id": "5cc0f8ae-5044-4196-80a4-b0e95eb6f48d",
   "metadata": {},
   "outputs": [
    {
     "name": "stdout",
     "output_type": "stream",
     "text": [
      "Estimated standard deviation σ𝐺 = 24.120276524745773\n"
     ]
    }
   ],
   "source": [
    "# Calculate the standard deviation (σ_G)\n",
    "σ𝐺 = √(σ𝐺²)\n",
    "\n",
    "println(\"Estimated standard deviation σ𝐺 = \", σ𝐺)"
   ]
  },
  {
   "cell_type": "markdown",
   "id": "6440d0da-615d-4d51-b413-3162cfd681d5",
   "metadata": {},
   "source": [
    "&#x2753;&#x2753; What just happened?\n",
    "\n",
    "The standard deviation $\\sigma_G$ of a Gaussian distribution is the square root of the variance $\\sigma_G^2$. If you have estimated the variance $\\sigma_G^2$ from your dataset, then the standard deviation $\\sigma_G$ can be calculated as follows:\n",
    "\n",
    "$ \\sigma_G = \\sqrt{\\sigma_G^2} $\n",
    "\n",
    "If you've calculated $\\sigma_G^2$ using the formula for the variance from a set of data points $x_1, x_2, ..., x_n$ (where $n$ is the number of observations):\n",
    "\n",
    "$ \\sigma_G^2 = \\frac{1}{n-1} \\sum_{i=1}^{n} (x_i - \\mu_G)^2 $\n",
    "\n",
    "Where $\\mu_G$ is the mean of the data points.\n",
    "\n",
    "Then, the standard deviation $\\sigma_G$ is simply the square root of this variance:\n",
    "\n",
    "$ \\sigma_G = \\sqrt{\\sigma_G^2} $\n",
    "\n",
    "This code may also calculates the variance of `data` using Julia's `var` function from the `Statistics` package and then computes the standard deviation by taking the square root of the variance."
   ]
  },
  {
   "cell_type": "markdown",
   "id": "3629a8b1-aca9-415f-a9ca-d05c76906bda",
   "metadata": {},
   "source": [
    "&#x1F518; $\\sigma_R$=? ($\\sigma_R^2$)"
   ]
  },
  {
   "cell_type": "markdown",
   "id": "472a855a-10a3-4c31-9091-96ecdcdfbf3e",
   "metadata": {},
   "source": [
    "To estimate the parameter $\\sigma_R^2$ for a Rayleigh distribution from a dataset, we use the method of moments or maximum likelihood estimation. The variance of a Rayleigh distributed random variable is given by:\n",
    "\n",
    "$ \\sigma_R^2 = \\frac{4 - \\pi}{2} \\sigma^2 $\n",
    "\n",
    "where $\\sigma^2$ is the parameter of the Rayleigh distribution. However, if you're looking to estimate $\\sigma_R^2$ directly from data assumed to be drawn from a Rayleigh distribution, you might actually be looking to estimate $\\sigma^2$ first, since $\\sigma_R^2$ here refers to the variance of the distribution which is a function of $\\sigma^2$.\n",
    "\n",
    "The parameter $\\sigma^2$ of the Rayleigh distribution can be estimated from the data. Given a set of $n$ independent observations $x_1, x_2, ..., x_n$ from a Rayleigh distribution, the maximum likelihood estimator (MLE) of $\\sigma^2$ is:\n",
    "\n",
    "$ \\hat{\\sigma}^2 = \\frac{1}{2n} \\sum_{i=1}^n x_i^2 $\n",
    "\n",
    "Once $\\hat{\\sigma}^2$ is estimated, you can then find the estimated variance of the distribution, denoted as $\\hat{\\sigma}_R^2$, using the formula for the variance of a Rayleigh distribution, which is:\n",
    "\n",
    "$ \\hat{\\sigma}_R^2 = \\frac{4 - \\pi}{2} \\hat{\\sigma}^2 $\n",
    "\n",
    "To perform a similar estimation of the parameter $\\sigma^2$ and consequently $\\sigma_R^2$ for a Rayleigh distribution in Julia, you can follow the methodology described for MATLAB but adapt it to Julia syntax. Here's how you can estimate $\\sigma^2$ (the parameter of the Rayleigh distribution) and then calculate $\\sigma_R^2$ (the variance of the Rayleigh distribution) in Julia:\n",
    "\n",
    "This Julia code snippet follows the same steps as the MATLAB version:\n"
   ]
  },
  {
   "cell_type": "code",
   "execution_count": 16,
   "id": "2caef87d-4f15-4e1b-84de-b43bd11430b1",
   "metadata": {},
   "outputs": [
    {
     "name": "stdout",
     "output_type": "stream",
     "text": [
      "Estimated parameter σ̂²𝑅 = 7053.830616871324\n"
     ]
    }
   ],
   "source": [
    "# Estimate sigma^2 (sigma squared) for Rayleigh distribution\n",
    "σ̂² = 1/2n * ∑(xᵢ .^ 2)\n",
    "\n",
    "# Calculate the estimated variance of the Rayleigh distribution\n",
    "σ̂²𝑅 = (4 - π)/2 * σ̂²\n",
    "\n",
    "# Display the estimated parameter\n",
    "println(\"Estimated parameter σ̂²𝑅 = \", σ̂²𝑅)"
   ]
  },
  {
   "cell_type": "markdown",
   "id": "68e6de85-6d05-40f2-9870-c9b299da9f05",
   "metadata": {},
   "source": [
    "1. It estimates $\\hat{\\sigma}^2$ from the sample data using the maximum likelihood estimation formula for a Rayleigh distribution.\n",
    "2. It then computes $\\hat{\\sigma}_R^2$, the variance of the Rayleigh distribution, based on the estimated $\\sigma^2$.\n",
    "3. Finally, it prints out the estimated $\\sigma_R^2$.\n",
    "\n",
    "The key differences are in the syntax used for array operations and printing output. Julia uses `.^` for element-wise squaring of the array elements, similar to MATLAB, and `println` for printing output to the console."
   ]
  },
  {
   "cell_type": "markdown",
   "id": "61b2ac62-2068-4746-b4dd-0a7a32bb8e39",
   "metadata": {},
   "source": [
    "&#x1F518; $\\lambda_{E0}$=? ($\\lambda_{E0}$)"
   ]
  },
  {
   "cell_type": "markdown",
   "id": "3184dbd7-17fa-4466-a2a6-588128004f3b",
   "metadata": {},
   "source": [
    "The parameter $\\lambda_{E0}$ typically refers to the rate parameter of an exponential distribution, especially within the context of statistical or probability distributions. The exponential distribution is often used to model the time between events in a Poisson point process, characterized by a constant average rate of occurrence.\n",
    "\n",
    "The probability density function (PDF) of an exponential distribution is given by:\n",
    "\n",
    "$ f(y|\\lambda) = \\lambda e^{-\\lambda y} \\quad \\text{for} \\quad y \\geq 0 $\n",
    "\n",
    "where:\n",
    "- $y$ is the variable,\n",
    "- $\\lambda$ is the rate parameter of the distribution, which is positive ($\\lambda > 0$).\n",
    "\n",
    "### Estimating $\\lambda$ from Data\n",
    "\n",
    "If you have a dataset and you want to estimate the rate parameter $\\lambda$ of the exponential distribution that best fits your data, you can use the Maximum Likelihood Estimation (MLE) method. Given a sample of $n$ independent observations from an exponential distribution, $y_1, y_2, \\ldots, y_n$, the MLE of $\\lambda$ is given by the reciprocal of the sample mean:\n",
    "\n",
    "$ \\hat{\\lambda}_{E0} = \\frac{1}{\\bar{y}} = \\frac{n}{\\sum_{i=1}^{n} y_i} $\n",
    "\n",
    "where $\\bar{y}$ is the sample mean of the observations.\n",
    "\n",
    "### Implementation in Julia\n",
    "\n",
    "To calculate $\\hat{\\lambda}_{E0}$ in Julia, you would first compute the mean of your dataset and then take its reciprocal. Here's how you could do it:"
   ]
  },
  {
   "cell_type": "code",
   "execution_count": 17,
   "id": "9b1909ad-80e3-4a0c-91a6-3385d3d85b05",
   "metadata": {},
   "outputs": [
    {
     "name": "stdout",
     "output_type": "stream",
     "text": [
      "Estimated rate parameter λ̂𝐸0 = 0.005564716005553364\n"
     ]
    }
   ],
   "source": [
    "# Calculate the sample mean\n",
    "μ𝐸0 = 𝖤(xᵢ)\n",
    "\n",
    "# Estimate λ for the exponential distribution\n",
    "λ̂𝐸0 = 1 / μ𝐸0\n",
    "\n",
    "println(\"Estimated rate parameter λ̂𝐸0 = \", λ̂𝐸0)\n"
   ]
  },
  {
   "cell_type": "markdown",
   "id": "728ae94c-917b-4c38-bf23-4e7f8932b560",
   "metadata": {},
   "source": [
    "This code calculates $\\hat{\\lambda}_{E0}$ for a given dataset `xᵢ`, assuming that the data is drawn from an exponential distribution."
   ]
  },
  {
   "cell_type": "markdown",
   "id": "8cfe27db-b1c8-4084-8353-4740c81d0e15",
   "metadata": {},
   "source": [
    "\n",
    "\n",
    "$\\lambda_{E1}$=? ($\\lambda_{E1}$)\n",
    "\n",
    "$\\lambda_{E2}$=? ($\\lambda_{E2}$)\n",
    "\n",
    "\n",
    "$\\lambda_{exp}$=? (shifted exponential distribution $\\lambda_{exp}$)\n",
    "$\\alpha_{exp}$=? ($\\alpha_{exp}$)\n",
    "\n",
    "\n",
    "$\\sigma_{SR}$=? (shifted Rayleigh $\\sigma_{SR}^2$)\n",
    "$\\alpha_{SR}$=? ($\\alpha_{SR}$)\n",
    "\n",
    "\n",
    "plot\n",
    "?\n",
    "\n",
    "\n",
    "log-likelihood value\n",
    "$L_G$ =?\n",
    "\n",
    "$L_R$ =?\n",
    "\n",
    "$L_{E0}$ =?\n",
    "\n",
    "$L_{E1}$ =?\n",
    "\n",
    "$L_{E2}$ =?\n",
    "\n",
    "$L_{exp}$ =?\n",
    "\n",
    "$L_{SR}$ =?"
   ]
  },
  {
   "cell_type": "code",
   "execution_count": null,
   "id": "c6dfa7c1-7508-453b-af12-029969bef7ef",
   "metadata": {},
   "outputs": [],
   "source": []
  }
 ],
 "metadata": {
  "kernelspec": {
   "display_name": "Julia 1.9.3",
   "language": "julia",
   "name": "julia-1.9"
  },
  "language_info": {
   "file_extension": ".jl",
   "mimetype": "application/julia",
   "name": "julia",
   "version": "1.10.0"
  }
 },
 "nbformat": 4,
 "nbformat_minor": 5
}
