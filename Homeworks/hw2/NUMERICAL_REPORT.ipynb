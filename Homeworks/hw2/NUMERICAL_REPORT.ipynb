{
 "cells": [
  {
   "cell_type": "markdown",
   "id": "942b9c2d-6e9a-4e3a-bc14-e33be7f344ac",
   "metadata": {},
   "source": [
    "Let's consider a simple numerical example to illustrate the calculation of the Linear Minimum Mean Square Error (LMMSE) estimate, $\\hat{\\theta}_{LMMSE}$.\n",
    "\n",
    "Suppose we have a linear model $Y = H\\theta + V$, where:\n",
    "- $Y$ is the vector of observations,\n",
    "- $H$ is the design matrix that relates the parameters $\\theta$ to the observations,\n",
    "- $\\theta$ is the parameter vector we want to estimate, and\n",
    "- $V$ is the vector of observation noises.\n",
    "\n",
    "For simplicity, let's assume we have a one-dimensional parameter $\\theta$ (i.e., $\\theta$ is scalar), and we observe it through two measurements. The setup is as follows:\n",
    "\n",
    "- $H = \\begin{bmatrix} 1 \\\\ 2 \\end{bmatrix}$, a 2x1 matrix (since we have two observations of the scalar parameter $\\theta$),\n",
    "- $C_{\\theta\\theta} = 4$, the variance of $\\theta$ indicating our prior belief about the spread of $\\theta$'s values,\n",
    "- $C_{VV} = \\begin{bmatrix} 1 & 0 \\\\ 0 & 1 \\end{bmatrix}$, the covariance matrix of the observation noise, assuming independence and equal variance of 1 for each observation,\n",
    "- $Y = \\begin{bmatrix} 3 \\\\ 7 \\end{bmatrix}$, the vector of observations.\n",
    "\n",
    "We want to calculate $\\hat{\\theta}_{LMMSE}$ using the formula:\n",
    "$\n",
    "\\hat{\\theta}_{LMMSE} = (C_{\\theta\\theta}^{-1} + H^T C_{VV}^{-1} H)^{-1} H^T C_{VV}^{-1} Y\n",
    "$\n",
    "\n",
    "### Steps:\n",
    "\n",
    "1. Calculate $C_{\\theta\\theta}^{-1}$, the inverse of the variance of $\\theta$, which in this case is simply the reciprocal of $C_{\\theta\\theta}$ since it is scalar.\n",
    "2. Compute $H^T C_{VV}^{-1} H$. Given $C_{VV}$ is the identity matrix in this example, $C_{VV}^{-1}$ is also the identity matrix, so this simplifies the computation.\n",
    "3. Compute $H^T C_{VV}^{-1} Y$, which again simplifies due to $C_{VV}^{-1}$ being the identity matrix.\n",
    "4. Finally, compute $\\hat{\\theta}_{LMMSE}$ by plugging the calculated values into the formula.\n",
    "\n",
    "Let's perform these calculations.\n",
    "\n",
    "The Linear Minimum Mean Square Error (LMMSE) estimate, $\\hat{\\theta}_{LMMSE}$, for the given example is approximately $3.24$. This means that, given the observations $Y = \\begin{bmatrix} 3 \\\\ 7 \\end{bmatrix}$, the design matrix $H = \\begin{bmatrix} 1 \\\\ 2 \\end{bmatrix}$, the prior variance of $\\theta$ as $4$, and the noise covariance matrix $C_{VV} = \\begin{bmatrix} 1 & 0 \\\\ 0 & 1 \\end{bmatrix}$, the LMMSE method estimates the underlying parameter $\\theta$ to be around $3.24$. This estimate takes into account both the noise in the observations and the prior belief about the distribution of $\\theta$."
   ]
  },
  {
   "cell_type": "code",
   "execution_count": 1,
   "id": "da817c74-35d6-4ab5-8f60-c3777f206cd2",
   "metadata": {},
   "outputs": [],
   "source": [
    "using LinearAlgebra"
   ]
  },
  {
   "cell_type": "code",
   "execution_count": 2,
   "id": "b04d986f-a1d0-4703-9a08-6ec0929e9346",
   "metadata": {},
   "outputs": [],
   "source": [
    "# Given values\n",
    "𝐻 = [1 2]         # Design matrix, transposed to match the formula\n",
    "𝐶₀₀ = 4           # Variance of theta\n",
    "𝐶ᵥᵥ = [1 0; 0 1]  # Covariance matrix of the observation noise\n",
    "𝑌 = [3, 7];       # Observations"
   ]
  },
  {
   "cell_type": "code",
   "execution_count": 3,
   "id": "b8c7428a-a1f4-4533-bf4b-ee95d03519d0",
   "metadata": {},
   "outputs": [],
   "source": [
    "using FFTW, Distributions"
   ]
  },
  {
   "cell_type": "code",
   "execution_count": 4,
   "id": "044fb263-35e5-41d0-9b86-e43fee2cbccf",
   "metadata": {},
   "outputs": [],
   "source": [
    "include(\"../modules/operations.jl\");"
   ]
  },
  {
   "cell_type": "code",
   "execution_count": 9,
   "id": "d3bd5ac8-a2b5-4fc7-95f4-86642a74303a",
   "metadata": {},
   "outputs": [
    {
     "name": "stdout",
     "output_type": "stream",
     "text": [
      "𝐶ᵥᵥ⁻¹ = [1.0 0.0; 0.0 1.0]\n"
     ]
    }
   ],
   "source": [
    "𝐶₀₀⁻¹    = 1/𝐶₀₀                      # also (𝐶₀₀)⁻¹ Inverse of C_theta_theta scalar in this case\n",
    "𝐶ᵥᵥ⁻¹    = (𝐶ᵥᵥ)⁻¹; @show  𝐶ᵥᵥ⁻¹      # Inverse of C_VV, which is the identity matrix in this case\n",
    "𝐻ᵀ𝐶ᵥᵥ⁻¹𝐻 = (𝐻)ᵀ.*𝐶ᵥᵥ⁻¹.* 𝐻           # Compute H^T C_VV^{-1} H \n",
    "𝐻ᵀ𝐶ᵥᵥ⁻¹𝑌 = (𝐻)ᵀ.*𝐶ᵥᵥ⁻¹ * 𝑌;          # Compute H^T C_VV^{-1} Y (H is transposed)"
   ]
  },
  {
   "cell_type": "code",
   "execution_count": 10,
   "id": "3aec97f3-0171-4425-975e-dcf5155922a8",
   "metadata": {},
   "outputs": [],
   "source": [
    "using Markdown"
   ]
  },
  {
   "cell_type": "code",
   "execution_count": 11,
   "id": "7b994e48-b4ab-490e-94c4-e2b63636ddf0",
   "metadata": {},
   "outputs": [
    {
     "data": {
      "text/latex": [
       "\\paragraph{\\&\\#x1F4DD; Calculate $\\hat{\\theta}_{LMMSE}$ using the formula:}\n",
       "$$\\hat{\\theta}_{LMMSE} = (C_{\\theta\\theta}^{-1} + H^T C_{VV}^{-1} H)^{-1} H^T C_{VV}^{-1} Y$$\n"
      ],
      "text/markdown": [
       "#### &#x1F4DD; Calculate $\\hat{\\theta}_{LMMSE}$ using the formula:\n",
       "\n",
       "$$\n",
       "\\hat{\\theta}_{LMMSE} = (C_{\\theta\\theta}^{-1} + H^T C_{VV}^{-1} H)^{-1} H^T C_{VV}^{-1} Y\n",
       "$$\n"
      ],
      "text/plain": [
       "\u001b[1m  &#x1F4DD; Calculate \u001b[35m\\hat{\\theta}_{LMMSE}\u001b[39m using the formula:\u001b[22m\n",
       "\u001b[1m  -----------------------------------------------------------\u001b[22m\n",
       "\n",
       "\u001b[35m  \\hat{\\theta}_{LMMSE} = (C_{\\theta\\theta}^{-1} + H^T C_{VV}^{-1} H)^{-1} H^T C_{VV}^{-1} Y\u001b[39m"
      ]
     },
     "execution_count": 11,
     "metadata": {},
     "output_type": "execute_result"
    }
   ],
   "source": [
    "Markdown.parse(raw\"\n",
    "#### &#x1F4DD; Calculate $\\hat{\\theta}_{LMMSE}$ using the formula:\n",
    "```math\n",
    "\\hat{\\theta}_{LMMSE} = (C_{\\theta\\theta}^{-1} + H^T C_{VV}^{-1} H)^{-1} H^T C_{VV}^{-1} Y\n",
    "```\n",
    "\")"
   ]
  },
  {
   "cell_type": "code",
   "execution_count": 12,
   "id": "85b53265-8926-4a7c-a393-c5d4702fb32a",
   "metadata": {},
   "outputs": [
    {
     "name": "stdout",
     "output_type": "stream",
     "text": [
      "[2.0, 3.0]\n"
     ]
    }
   ],
   "source": [
    "θ̂ₗₘₘₛₑ = (𝐶₀₀⁻¹.+𝐻ᵀ𝐶ᵥᵥ⁻¹𝐻)⁻¹*𝐻ᵀ𝐶ᵥᵥ⁻¹𝑌 # Compute theta_LMMSE\n",
    "\n",
    "println(round.(θ̂ₗₘₘₛₑ))"
   ]
  },
  {
   "cell_type": "code",
   "execution_count": null,
   "id": "7a20015a-01b5-4ec3-b4a9-168797baff64",
   "metadata": {},
   "outputs": [],
   "source": []
  }
 ],
 "metadata": {
  "kernelspec": {
   "display_name": "Julia 1.9.3",
   "language": "julia",
   "name": "julia-1.9"
  },
  "language_info": {
   "file_extension": ".jl",
   "mimetype": "application/julia",
   "name": "julia",
   "version": "1.10.0"
  }
 },
 "nbformat": 4,
 "nbformat_minor": 5
}
