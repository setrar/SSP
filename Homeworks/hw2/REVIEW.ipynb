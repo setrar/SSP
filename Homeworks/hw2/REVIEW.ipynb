{
 "cells": [
  {
   "cell_type": "markdown",
   "id": "ec0336f9-e31d-4623-b0d9-5c45a385fa5d",
   "metadata": {},
   "source": [
    "**&#x1F516;** **&#x0031;)** On the Beneficial Bias of MMSE Estimation\n",
    "\n",
    "Consider the Bayesian linear model $Y = H \\theta+V $ with $\\theta \\sim N(0,C_{\\theta\\theta})$  and $V \\sim N(0,C_{VV} )$ independent (we consider here $m_{\\theta} = 0$ for simplicity) ."
   ]
  },
  {
   "cell_type": "markdown",
   "id": "9208e53f-d2b1-4c40-ab61-eeabb52e38b2",
   "metadata": {},
   "source": [
    "In the Bayesian linear model you've described, $Y = H\\theta + V$, where $Y$ is the observed data, $H$ is the design matrix that relates the unknown parameter vector $\\theta$ to the observations, and $V$ represents the noise in the observations. The parameters $\\theta$ and the noise $V$ are assumed to follow Gaussian distributions, specifically:\n",
    "\n",
    "- $\\theta \\sim N(0, C_{\\theta\\theta})$, indicating that $\\theta$ has a multivariate normal distribution with mean vector $0$ (indicating $m_{\\theta} = 0$ for simplicity) and covariance matrix $C_{\\theta\\theta}$.\n",
    "- $V \\sim N(0, C_{VV})$, indicating that the noise $V$ also follows a multivariate normal distribution with mean $0$ and covariance matrix $C_{VV}$. Furthermore, $\\theta$ and $V$ are assumed to be independent.\n",
    "\n",
    "Given these assumptions, we can proceed to derive the posterior distribution of $\\theta$ given the observed data $Y$, as well as expressions for the Bayesian Linear Minimum Mean Square Error (LMMSE) estimator for $\\theta$.\n",
    "\n",
    "### Posterior Distribution of $\\theta$\n",
    "\n",
    "The posterior distribution of $\\theta$ given $Y$ can be derived using Bayes' theorem, considering the Gaussian nature of the prior and likelihood. The posterior is also Gaussian due to the conjugacy between the Gaussian prior and likelihood in linear models. The posterior distribution parameters (mean and covariance) can be computed as follows:\n",
    "\n",
    "#### Posterior Mean\n",
    "\n",
    "$\n",
    "\\hat{\\theta}_{\\text{posterior}} = (H^T C_{VV}^{-1} H + C_{\\theta\\theta}^{-1})^{-1} H^T C_{VV}^{-1} Y\n",
    "$\n",
    "\n",
    "#### Posterior Covariance\n",
    "\n",
    "$\n",
    "C_{\\theta|Y} = (H^T C_{VV}^{-1} H + C_{\\theta\\theta}^{-1})^{-1}\n",
    "$\n",
    "\n",
    "### Bayesian LMMSE Estimator\n",
    "\n",
    "The Bayesian LMMSE estimator for $\\theta$ seeks to minimize the expected squared error given the prior information. This estimator coincides with the posterior mean of $\\theta$ given $Y$, which is $\\hat{\\theta}_{\\text{posterior}}$.\n",
    "\n",
    "### Key Properties\n",
    "\n",
    "- **Optimality**: The Bayesian LMMSE estimator is optimal in the sense that it minimizes the mean squared error considering both the noise in the observations and the prior distribution of the parameters.\n",
    "- **Incorporation of Prior Information**: The Bayesian approach allows for the incorporation of prior information about $\\theta$ through $C_{\\theta\\theta}$, enhancing estimation accuracy, especially when the observed data $Y$ is limited or noisy.\n",
    "- **Update with New Information**: As new data becomes available, the posterior distribution (and hence the Bayesian LMMSE estimate) can be updated, reflecting a Bayesian learning process.\n",
    "\n",
    "This model exemplifies how Bayesian inference is applied in linear models, leveraging the Gaussian assumptions to obtain analytical solutions for the posterior distribution and the LMMSE estimator."
   ]
  },
  {
   "cell_type": "markdown",
   "id": "9fdb329b-9668-4513-a8fd-5c499784b3f2",
   "metadata": {},
   "source": [
    "&#x1F516; (&#x0061;) The LMMSE estimator is:"
   ]
  },
  {
   "cell_type": "markdown",
   "id": "2bd865a1-1e04-48cf-9ae7-8af94b884b88",
   "metadata": {},
   "source": [
    "$$\\hat{\\theta}_{LMMSE} = C_{\\theta Y} C_{YY}^{−1}Y = (C_{\\theta\\theta}^{−1} + H^T C_{VV}^{−1} H)^{−1} H^T C_{VV}^{−1} Y$$"
   ]
  },
  {
   "cell_type": "markdown",
   "id": "c1d343c6-6e99-4e2b-a0e7-ed79a7918117",
   "metadata": {},
   "source": [
    "The expression provided for the Linear Minimum Mean Square Error (LMMSE) estimator, $\\hat{\\theta}_{LMMSE}$, is a key result in the context of Bayesian linear regression, particularly when dealing with Gaussian distributions for both the parameters and the observation noise. This formula elegantly captures how prior knowledge about the parameters (expressed through the covariance matrix $C_{\\theta\\theta}$) and the observations' noise characteristics (expressed through the covariance matrix $C_{VV}$) are utilized to estimate the parameters $\\theta$ from the observed data $Y$.\n",
    "\n",
    "### Breaking Down the Formula\n",
    "\n",
    "The LMMSE estimator is given by:\n",
    "\n",
    "$\n",
    "\\hat{\\theta}_{LMMSE} = (C_{\\theta\\theta}^{-1} + H^T C_{VV}^{-1} H)^{-1} H^T C_{VV}^{-1} Y\n",
    "$\n",
    "\n",
    "- **$C_{\\theta\\theta}$**: The prior covariance matrix of the parameters $\\theta$. It reflects our prior belief about the variance and covariance of the parameters before observing any data.\n",
    "  \n",
    "- **$H$**: The design matrix that relates the parameters $\\theta$ to the observations $Y$. It models how each parameter contributes to the observed data.\n",
    "  \n",
    "- **$C_{VV}$**: The covariance matrix of the observation noise $V$. It characterizes the uncertainty or variability in the observations due to noise.\n",
    "  \n",
    "- **$Y$**: The vector of observed data.\n",
    "\n",
    "### Interpretation\n",
    "\n",
    "- The term $C_{\\theta\\theta}^{-1} + H^T C_{VV}^{-1} H$ combines information from both the prior distribution of $\\theta$ and the likelihood of observing $Y$ given $\\theta$. This reflects a fusion of prior knowledge and observed data, where $C_{VV}^{-1}$ weights the contribution of each observation according to its reliability (inversely proportional to its variance).\n",
    "  \n",
    "- The product $H^T C_{VV}^{-1} Y$ can be seen as a weighted version of the observed data, where observations with lower variance (higher reliability) are given more weight.\n",
    "  \n",
    "- The entire expression $(C_{\\theta\\theta}^{-1} + H^T C_{VV}^{-1} H)^{-1}$ acts as a normalization or scaling factor that ensures the estimates $\\hat{\\theta}_{LMMSE}$ are appropriately scaled given the combined effects of the prior and the data.\n",
    "\n",
    "### Key Takeaways\n",
    "\n",
    "- The LMMSE estimator not only minimizes the mean squared error between the estimated and true parameters but also optimally balances the influence of prior knowledge and observed data.\n",
    "  \n",
    "- It is particularly powerful in situations where the observed data $Y$ is noisy or sparse, as it leverages the structure of the problem (through $H$) and prior information (through $C_{\\theta\\theta}$) to improve estimation accuracy.\n",
    "  \n",
    "- This estimator is a cornerstone of Bayesian inference in linear models, illustrating how Bayesian methods update prior beliefs to posterior beliefs in light of new data."
   ]
  },
  {
   "cell_type": "markdown",
   "id": "1190c856-1ad8-43ee-b8cc-e06de2692586",
   "metadata": {},
   "source": [
    "Considering :\n",
    "$$\n",
    "f(y|\\lambda,\\alpha,\\beta) = \n",
    "\\left\\{\\!\\begin{aligned}\n",
    "&0 &, y < \\alpha \\\\\n",
    "&\\gamma e ^{-\\lambda y} &, \\alpha \\leq y \\leq \\beta   \\\\\n",
    "&0 &, \\beta < y\n",
    "\\end{aligned}\\right\\} \\\\\n",
    "= \\gamma e ^{-\\lambda y} 1_{[\\alpha,\\beta]} (y)\n",
    "$$\n",
    "\n",
    "where $\\gamma$ is a normalization constant and\n",
    "\n",
    "$$\n",
    "1_\\mathcal{A}(y) =\n",
    "\\begin{cases}\n",
    "&1 &, y \\in \\mathcal{A} \\\\\n",
    "&0 &, y \\notin \\mathcal{A}\n",
    "\\end{cases}\n",
    "$$\n",
    "\n",
    "is the indicator function for the set $\\mathcal{A}$"
   ]
  },
  {
   "cell_type": "markdown",
   "id": "990737c9-66fa-4057-856b-9e1b06c5d715",
   "metadata": {},
   "source": [
    "To ensure the truncated exponential distribution $ f(y|\\lambda,\\alpha,\\beta) $ is properly normalized, we need to determine the value of the normalization constant $\\gamma$. The probability density function (pdf) needs to integrate to 1 over the interval $[\\alpha, \\beta]$ to satisfy the property of a probability distribution.\n",
    "\n",
    "Given:\n",
    "\n",
    "$$\n",
    "f(y|\\lambda,\\alpha,\\beta) = \\gamma e^{-\\lambda y} 1_{[\\alpha,\\beta]}(y)\n",
    "$$\n",
    "\n",
    "To find $\\gamma$, we solve:\n",
    "\n",
    "$$\n",
    "\\int_{\\alpha}^{\\beta} \\gamma e^{-\\lambda y} dy = 1\n",
    "$$\n",
    "\n",
    "### Solution\n",
    "\n",
    "Performing the integration:\n",
    "\n",
    "$$\n",
    "\\begin{align*}\n",
    "\\int_{\\alpha}^{\\beta} \\gamma e^{-\\lambda y} dy &= \\left[ -\\frac{\\gamma}{\\lambda} e^{-\\lambda y} \\right]_{\\alpha}^{\\beta} \\\\\n",
    "&= -\\frac{\\gamma}{\\lambda} \\left( e^{-\\lambda \\beta} - e^{-\\lambda \\alpha} \\right) \\\\\n",
    "&= \\frac{\\gamma}{\\lambda} \\left( e^{-\\lambda \\alpha} - e^{-\\lambda \\beta} \\right) = 1\n",
    "\\end{align*}\n",
    "$$\n",
    "\n",
    "Solving for $\\gamma$, we find:\n",
    "\n",
    "$\n",
    "\\gamma = \\frac{\\lambda}{e^{-\\lambda \\alpha} - e^{-\\lambda \\beta}}\n",
    "$\n",
    "\n",
    "This $\\gamma$ ensures that the pdf of the truncated exponential distribution integrates to 1 over the interval $[\\alpha, \\beta]$, making it a valid probability distribution.\n",
    "\n",
    "The presence of the indicator function $1_{[\\alpha,\\beta]}(y)$ in the definition of the pdf explicitly enforces that the distribution is zero outside the interval $[\\alpha, \\beta]$, ensuring the distribution is properly truncated."
   ]
  },
  {
   "cell_type": "code",
   "execution_count": null,
   "id": "a211a96f-51ce-411e-84ec-0e21620e2088",
   "metadata": {},
   "outputs": [],
   "source": []
  }
 ],
 "metadata": {
  "kernelspec": {
   "display_name": "Julia 1.9.3",
   "language": "julia",
   "name": "julia-1.9"
  },
  "language_info": {
   "file_extension": ".jl",
   "mimetype": "application/julia",
   "name": "julia",
   "version": "1.10.0"
  }
 },
 "nbformat": 4,
 "nbformat_minor": 5
}
