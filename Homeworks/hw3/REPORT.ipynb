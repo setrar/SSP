{
 "cells": [
  {
   "cell_type": "markdown",
   "id": "d8c04309-e5d9-4a72-afb6-e0a531084a19",
   "metadata": {},
   "source": [
    "# &#x1F4DD; REPORT"
   ]
  },
  {
   "cell_type": "markdown",
   "id": "aa062021-8682-4974-8130-8653cd8e9e35",
   "metadata": {},
   "source": [
    "# Homework &#x0033;&#xFE0F;&#x20E3; \n",
    "\n",
    "Homework policy: the homework is individual. Students are encouraged to discuss with fellow students to try to find the main structure of the solution for a problem, especially if they are totally stuck at the beginning of the problem. However, you should work out the details yourself and write down in your own words only what you understand yourself."
   ]
  },
  {
   "cell_type": "markdown",
   "id": "7f943e26-9b85-4217-a0d5-69e7102c6ee0",
   "metadata": {},
   "source": [
    "## <u> Wiener Filtering </u>"
   ]
  },
  {
   "cell_type": "markdown",
   "id": "b7631216-494c-4c3c-8e02-1c6e51dc841a",
   "metadata": {},
   "source": [
    "**&#x1F516;** **&#x0031;)**  Wiener Filtering vs Instantaneous LMMSE Estimation for Signal in Noise"
   ]
  },
  {
   "cell_type": "markdown",
   "id": "725caa29-a1ab-4dd2-a474-e0033c970d0f",
   "metadata": {},
   "source": [
    "We consider the signal in noise case, in which we estimate $x_k$ from a noisy version $y_k = x_k + v_k$. We have seen that Wiener filter and MMSE are all determined in terms of the signal and noise spectra $S_{xx}(f)$ and $S_{vv}(f)$. In particular, the Wiener filter is\n",
    "\n",
    "$$\n",
    "H(\\mathcal{f}) = \\frac{S_{xx}(f)}{S_{xx}(f) + S_{vv}(f)} \\quad \\in [0,1]\n",
    "$$\n",
    "\n",
    "and the associated MMSE is\n",
    "\n",
    "$$\n",
    "MMSE_{WF} = E \\tilde{x}_k^2 = \\int_{-\\frac{1}{2}}^{\\frac{1}{2}} S_{\\tilde{x}\\tilde{x}}(f) \\mathit{df} = \\int_{-\\frac{1}{2}}^{\\frac{1}{2}} \\frac{S_{xx}(f) S_{vv}(f)}{S_{xx}(f) + {S_{vv}(f)}} \\mathit{df}\n",
    "$$"
   ]
  },
  {
   "cell_type": "markdown",
   "id": "37050993-a90d-47d6-8197-d579974b3873",
   "metadata": {},
   "source": [
    "**&#x1F516;** **&#x0061;)**  Now consider the basic instantaneous LMMSE estimation from chapter 1. So here\n",
    "we estimate $x_k$ as $\\tilde{x}_k = hy_k$ where we have seen that the LMMSE choice for $h$ is\n",
    "$h = r_{xy}r^{−1}_{yy}$.\n",
    "\n",
    "Express $h$ in terms of $S_{xx}(f)$ and $S_{vv}(f)$.\n",
    "\n",
    "Remember that e.g. $r_{xy} = r_{xy}(0) = \\int_{-\\frac{1}{2}}^{\\frac{1}{2}} S_{xx}(f) \\mathit{df}$."
   ]
  },
  {
   "cell_type": "markdown",
   "id": "67e4c542-9050-4b40-bdd4-26d9e6b1882b",
   "metadata": {},
   "source": []
  },
  {
   "cell_type": "markdown",
   "id": "4040a503-904e-496d-b233-1da3a244fd98",
   "metadata": {},
   "source": [
    "**&#x1F516;** **&#x0062;)**  We have seen that the associated MMSE is\n",
    "\n",
    "$$\n",
    "LMMSE = r_{\\tilde{x}\\tilde{y}} = r_{xx} - r_{xy}r_{yy}^{-1}r_{xy} .\n",
    "$$\n",
    "\n",
    "Express LMMSE in terms of $S_{xx}(f)$ and $S_{vv}(f)$."
   ]
  },
  {
   "cell_type": "code",
   "execution_count": null,
   "id": "9547a6cb-14db-4c3c-bfbf-f2842f4d1a8b",
   "metadata": {},
   "outputs": [],
   "source": [
    " "
   ]
  },
  {
   "cell_type": "markdown",
   "id": "65ccbf51-7cee-47ab-8672-f9e8d0f89ed8",
   "metadata": {},
   "source": [
    "**&#x1F516;** **&#x0063;)**  Can you find an inequality between $MMSE_{WF}$ and LMMSE? Prove the inequality."
   ]
  },
  {
   "cell_type": "markdown",
   "id": "226188c2-54e1-43ca-a60f-4bc8cd143d18",
   "metadata": {},
   "source": [
    "**For what follows**, consider the specific case in which the signal is lowpass and the\n",
    "noise is complementary highpass:\n",
    "$$\n",
    "S_{xx}(f) = \n",
    "\\begin{cases}\n",
    "\\sigma^2 &, |\\mathcal{f}| \\leq \\mathcal{f}_c\n",
    "\\\\\n",
    "0 &, \\mathcal{f}_c \\leq |\\mathcal{f}| \\leq \\frac{1}{2}\n",
    "\\end{cases}\n",
    "$$\n",
    "\n",
    "and \n",
    "\n",
    "$$\n",
    "S_{vv}(f) = \n",
    "\\begin{cases}\n",
    "0 &, |\\mathcal{f}| \\leq \\mathcal{f}_c\n",
    "\\\\\n",
    "\\sigma^2 &, \\mathcal{f}_c \\leq |\\mathcal{f}| \\leq \\frac{1}{2}\n",
    "\\end{cases}\n",
    "$$\n"
   ]
  },
  {
   "cell_type": "markdown",
   "id": "584e08b4-ca89-4612-9af1-9148c01b2f28",
   "metadata": {},
   "source": [
    "**&#x1F516;** **&#x0064;)**  Compute the LMMSE coefficient $h$ in this case."
   ]
  },
  {
   "cell_type": "code",
   "execution_count": null,
   "id": "0e1c777b-c1d5-4909-a698-bb8ef9c2fbfe",
   "metadata": {},
   "outputs": [],
   "source": []
  },
  {
   "cell_type": "markdown",
   "id": "75d8f6ce-47b2-4a19-96ea-902fa27de2e4",
   "metadata": {},
   "source": [
    "**&#x1F516;** **&#x0065;)**  Compute the LMMSE $r_{\\tilde{x}\\tilde{x}}$ in this case."
   ]
  },
  {
   "cell_type": "code",
   "execution_count": null,
   "id": "5c6275e6-ba84-47d3-957e-494846065e4b",
   "metadata": {},
   "outputs": [],
   "source": []
  },
  {
   "cell_type": "markdown",
   "id": "73a94f4a-7788-4a7b-a877-3823461a6449",
   "metadata": {},
   "source": [
    "**&#x1F516;** **&#x0066;)**  Compute the Wiener filter $H(\\mathcal{f})$ in this case."
   ]
  },
  {
   "cell_type": "code",
   "execution_count": null,
   "id": "a11d11a5-c561-46ba-b741-8a397d449c88",
   "metadata": {},
   "outputs": [],
   "source": []
  },
  {
   "cell_type": "markdown",
   "id": "6902828f-2d9f-4f05-bf53-812eb9bf8fd8",
   "metadata": {},
   "source": [
    "**&#x1F516;** **&#x0066;)**  Compute the $MMSE_{WF}$ in this case."
   ]
  },
  {
   "cell_type": "code",
   "execution_count": null,
   "id": "ebe85341-3a0b-4cab-b2ee-2b2cb758a2f3",
   "metadata": {},
   "outputs": [],
   "source": []
  },
  {
   "cell_type": "markdown",
   "id": "68189f0e-029d-4ed6-bd5c-70da4aa23ce9",
   "metadata": {},
   "source": [
    "## <u> Adaptative Filtering </u>"
   ]
  },
  {
   "cell_type": "markdown",
   "id": "8b6ff371-959b-459a-968b-9e8ec812ef19",
   "metadata": {},
   "source": [
    "**&#x1F516;** **&#x0032;)**  Convergence Analysis of LMS beyond the Averaging Theorem"
   ]
  },
  {
   "cell_type": "markdown",
   "id": "a16cb8ab-94a2-4cf2-9341-96190f84bf70",
   "metadata": {},
   "source": [
    "Consider the LMS algorithm in the system identification set-up with fixed optimal param-\n",
    "eters. Using the independence assumption, but not the averaging theorem, the correlation\n",
    "matrix of the parameter estimation error vector $\\widetilde{\\mathit{H}}_k$ is found to satisfy the recursion\n",
    "\n",
    "$$\n",
    "\\begin{gather}\n",
    "C_k = E([I − \\mu Y_kY_k^T] \\widetilde{\\mathit{H}}_{k-1} \\widetilde{\\mathit{H}}_{k-1}^T [I − \\mu Y_kY_k^T] + \\mu^2\\mathit{\\xi}^0 R_{YY}\n",
    "\\\\\n",
    "= E_{Y_k}([I − \\mu Y_kY_k^T] C_{k-1} [I − \\mu Y_kY_k^T] + \\mu^2\\mathit{\\xi}^0 R_{YY}\n",
    "\\end{gather}\n",
    "$$\n",
    "\n",
    "The remaining expectation operator $E_{Y_k}$ is over the elements of the input vector $Y_k = [y_k \\; y_{k−1} \\; \\cdots \\; y_{k−N+1}]^T$ . Assume now that the input signal $y_k$ is Gaussian."
   ]
  },
  {
   "cell_type": "code",
   "execution_count": null,
   "id": "8691cc8d-d16d-40e7-828c-55736e47c555",
   "metadata": {},
   "outputs": [],
   "source": []
  }
 ],
 "metadata": {
  "kernelspec": {
   "display_name": "Julia 1.9.3",
   "language": "julia",
   "name": "julia-1.9"
  },
  "language_info": {
   "file_extension": ".jl",
   "mimetype": "application/julia",
   "name": "julia",
   "version": "1.10.0"
  }
 },
 "nbformat": 4,
 "nbformat_minor": 5
}
