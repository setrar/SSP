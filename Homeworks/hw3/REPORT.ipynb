{
 "cells": [
  {
   "cell_type": "markdown",
   "id": "d8c04309-e5d9-4a72-afb6-e0a531084a19",
   "metadata": {},
   "source": [
    "# &#x1F4DD; REPORT"
   ]
  },
  {
   "cell_type": "markdown",
   "id": "aa062021-8682-4974-8130-8653cd8e9e35",
   "metadata": {},
   "source": [
    "# Homework &#x0033;&#xFE0F;&#x20E3; \n",
    "\n",
    "Homework policy: the homework is individual. Students are encouraged to discuss with fellow students to try to find the main structure of the solution for a problem, especially if they are totally stuck at the beginning of the problem. However, you should work out the details yourself and write down in your own words only what you understand yourself."
   ]
  },
  {
   "cell_type": "markdown",
   "id": "7f943e26-9b85-4217-a0d5-69e7102c6ee0",
   "metadata": {},
   "source": [
    "## <u> Wiener Filtering </u>"
   ]
  },
  {
   "cell_type": "markdown",
   "id": "b7631216-494c-4c3c-8e02-1c6e51dc841a",
   "metadata": {},
   "source": [
    "**&#x1F516;** **&#x0031;)**  Wiener Filtering vs Instantaneous LMMSE Estimation for Signal in Noise"
   ]
  },
  {
   "cell_type": "markdown",
   "id": "725caa29-a1ab-4dd2-a474-e0033c970d0f",
   "metadata": {},
   "source": [
    "We consider the signal in noise case, in which we estimate $x_k$ from a noisy version $y_k = x_k + v_k$. We have seen that Wiener filter and MMSE are all determined in terms of the signal and noise spectra $S_{xx}(f)$ and $S_{vv}(f)$. In particular, the Wiener filter is\n",
    "\n",
    "$$\n",
    "H(\\mathcal{f}) = \\frac{S_{xx}(f)}{S_{xx}(f) + S_{vv}(f)} \\quad \\in [0,1]\n",
    "$$\n",
    "\n",
    "and the associated MMSE is\n",
    "\n",
    "$$\n",
    "MMSE_{WF} = E \\tilde{x}_k^2 = \\int_{-\\frac{1}{2}}^{\\frac{1}{2}} S_{\\tilde{x}\\tilde{x}}(f) \\mathit{df} = \\int_{-\\frac{1}{2}}^{\\frac{1}{2}} \\frac{S_{xx}(f) S_{vv}(f)}{S_{xx}(f) + {S_{vv}(f)}} \\mathit{df}\n",
    "$$"
   ]
  },
  {
   "cell_type": "code",
   "execution_count": null,
   "id": "682feed1-b993-465a-b45c-a8a610c3073b",
   "metadata": {},
   "outputs": [],
   "source": []
  }
 ],
 "metadata": {
  "kernelspec": {
   "display_name": "Julia 1.9.3",
   "language": "julia",
   "name": "julia-1.9"
  },
  "language_info": {
   "file_extension": ".jl",
   "mimetype": "application/julia",
   "name": "julia",
   "version": "1.10.0"
  }
 },
 "nbformat": 4,
 "nbformat_minor": 5
}
