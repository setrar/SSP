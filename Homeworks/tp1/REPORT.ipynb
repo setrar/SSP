{
 "cells": [
  {
   "cell_type": "markdown",
   "id": "366bd060-3170-43c8-a8ec-0c1eb01f0338",
   "metadata": {},
   "source": [
    "# &#x1F4DD; REPORT"
   ]
  },
  {
   "cell_type": "markdown",
   "id": "522a0700-4af0-4c6c-9910-2c008e71388b",
   "metadata": {},
   "source": [
    "# TP : Sinusoidal Spectrum and Parameter Estimation\n",
    "\n",
    "\n",
    "- The students are asked to submit a report by `12/01/2024`.\n",
    "- The report contains the answers to the questions (in boldface) below, and includes\n",
    "plots and Matlab code.\n",
    "- The TP will be carried out individually. As usual, you can consult moderately with others if you get stuck at some point, but your report/software should be written in your own words, and submitted preferably to xxxxxxx.xxx@eurecom.fr . If you don’t have access to Matlab (though students have the right to a free student license), but you have access to (or you prefer) something else that is more or less equivalent, like Python, you can choose the software of your preference. Please indicate in your report."
   ]
  },
  {
   "cell_type": "markdown",
   "id": "a9a1839f-c99c-4484-9bd4-ffcfac058d7d",
   "metadata": {},
   "source": [
    "### **&#x1F516;** Part **&#x1D408;:** Spectrum Estimation"
   ]
  },
  {
   "cell_type": "markdown",
   "id": "2d63e7e3-c9ad-453f-9c59-9b98ca757e64",
   "metadata": {},
   "source": [
    "Initialization: $A_0 = [1], \\sigma_{\\mathcal{f},0}^2 = \\rho_0$"
   ]
  },
  {
   "cell_type": "markdown",
   "id": "61833604-f3b1-4620-acf2-3bb5ee2c43a0",
   "metadata": {},
   "source": [
    "**&#x1F516;** TP environment"
   ]
  },
  {
   "cell_type": "markdown",
   "id": "059d709a-c4b4-4ffa-bb1e-c756fc02f217",
   "metadata": {},
   "source": [
    "The random process that we shall use is of the form\n",
    "\n",
    "$$\n",
    "y_k = A_1 \\cos(2\\pi f_1 k + \\phi_1) + A_2 \\cos(2\\pi f_2 k + \\phi_2) + v_k\n",
    "$$\n",
    "\n",
    "where $v_k$ is zero-mean unit variance white Gaussian noise. The phases $\\phi_i$ are uniform over $[0, 2\\pi]$, whereas the default values for the sinusoid amplitudes and frequencies are $A_1 = 20, A_2 = 20, f_1 = 0.057, f_2 = 0.082$."
   ]
  },
  {
   "cell_type": "markdown",
   "id": "992b38df-ac36-4cf8-a59a-a8e3befb1364",
   "metadata": {},
   "source": [
    "**&#x1F516;** **&#x0061;)** For the periodogram, how many data points N are required to resolve the two sinusoids? Why?"
   ]
  },
  {
   "cell_type": "markdown",
   "id": "5472471e-3fa2-457e-85a0-ce6c8a57228a",
   "metadata": {},
   "source": [
    "The number of data points $N$ required to resolve two sinusoids in the periodogram depends on the difference in their frequencies ($f_1$ and $f_2$), the length of the observation window, and the sampling rate.\n",
    "\n",
    "The resolution of the periodogram is determined by the frequency bin width, which is inversely proportional to the length of the observation window. The formula for the frequency resolution ($\\Delta f$) in the periodogram is given by: \n",
    "\n",
    "$$\\Delta f = \\frac{1}{T}$$\n",
    "\n",
    "where $T$ is the length of the observation window.\n",
    "\n",
    "To resolve two sinusoids, their frequencies ($f_1$ and $f_2$) should be separated by at least half of the frequency resolution ($\\Delta f/2$) to avoid ambiguity. In other words, the criterion for resolving two sinusoids is:\n",
    "\n",
    "$$|f_1 - f_2| \\geq \\frac{1}{2T}$$\n",
    "\n",
    "So, the minimum required number of data points ($N$) is related to the observation window length ($T$) as follows:\n",
    "\n",
    "$$N \\geq 2f_{\\text{max}}T$$\n",
    "\n",
    "where $f_{\\text{max}}$ is the maximum frequency of interest, and $T$ is the length of the observation window.\n",
    "\n",
    "Keep in mind that this is a simplified explanation, and the actual resolution might depend on the specific characteristics of the signal, the noise level, and the analysis technique used. In practice, it's common to choose $N$ to be a power of 2 to leverage fast Fourier transform (FFT) algorithms efficiently."
   ]
  },
  {
   "cell_type": "markdown",
   "id": "b5603aa7-f49b-4ec8-be69-219a75244498",
   "metadata": {},
   "source": [
    "**&#x1F516;** **&#x0062;)** Generate (using sig.m) one realization of $y_k$ with N = 256 samples and compute (with the rectangular ’boxcar’ window in periodo.m) the periodogram in $N′$ = 64, 128, 256, 512 and 1024 frequency points (make a plot with 6 subplots). When N′ < N, use only the first N′ data samples (explicitly); when $N′ > N$, use zero padding (done automatically by periodo.m). Comment on the effect of $N′$ and formulate a requirement for $N′$ as a function of $N$ for proper evaluation of the periodogram."
   ]
  },
  {
   "cell_type": "code",
   "execution_count": 1,
   "id": "e9668d79-764f-41b8-9c09-3aaf3ce6ef8e",
   "metadata": {},
   "outputs": [],
   "source": [
    "using Plots"
   ]
  },
  {
   "cell_type": "code",
   "execution_count": 2,
   "id": "74577380-952f-4b8c-9dec-76c8689fc6f5",
   "metadata": {},
   "outputs": [],
   "source": [
    "using FFTW"
   ]
  },
  {
   "cell_type": "code",
   "execution_count": null,
   "id": "d78deaab-7a9f-4f84-93a1-e257bf1389fa",
   "metadata": {},
   "outputs": [],
   "source": [
    "using Distributions\n",
    "using Random"
   ]
  },
  {
   "cell_type": "code",
   "execution_count": null,
   "id": "e5c17d18-dab3-4cff-9ac8-ad37da3a061b",
   "metadata": {},
   "outputs": [],
   "source": [
    "include(\"../modules/operations.jl\");"
   ]
  },
  {
   "cell_type": "code",
   "execution_count": null,
   "id": "b9647370-89a0-480b-a61e-4e68dec2770b",
   "metadata": {},
   "outputs": [],
   "source": [
    "include(\"window.jl\")"
   ]
  },
  {
   "cell_type": "code",
   "execution_count": null,
   "id": "22339d0d-c8f8-4c89-ad7b-da1b4cc1ab6c",
   "metadata": {},
   "outputs": [],
   "source": [
    "Random.seed!(1); # Setting the seed"
   ]
  },
  {
   "cell_type": "code",
   "execution_count": null,
   "id": "467e6906-3ee3-4b5a-a961-51c9d6591bf5",
   "metadata": {},
   "outputs": [],
   "source": [
    "# Parameters\n",
    "N = 256 # Replace with the desired window length\n",
    "𝑓₁, 𝑓₂ = 0.057, 0.082\n",
    "𝐴₁, 𝐴₂ = 20, 20\n",
    "ϕ₁, ϕ₂ = -2π * randn(), 2π * randn()\n",
    "𝑣 = randn();"
   ]
  },
  {
   "cell_type": "code",
   "execution_count": null,
   "id": "bcc50b33-ff10-411b-9924-95388e73c49d",
   "metadata": {},
   "outputs": [],
   "source": [
    "type = \"hamming\"  # Replace with the desired window type\n",
    "w = window(type, N);"
   ]
  },
  {
   "cell_type": "code",
   "execution_count": null,
   "id": "8f0f3d44-bf45-4370-8c70-c460d4eb7ef6",
   "metadata": {},
   "outputs": [],
   "source": [
    "# include(\"periodo.jl\");"
   ]
  },
  {
   "cell_type": "code",
   "execution_count": null,
   "id": "a647925c-fdce-4825-954a-9afd08f97f29",
   "metadata": {},
   "outputs": [],
   "source": [
    "function periodo(x, N)\n",
    "    ns = length(x)\n",
    "    \n",
    "    if rem(N, 2) != 0\n",
    "        error(\"N must be even\")\n",
    "    end\n",
    "\n",
    "    x = reshape(x, 1, :)  # force a row vector\n",
    "\n",
    "    if N <= ns\n",
    "        in = x[1:N]\n",
    "        ns = N\n",
    "    else\n",
    "        in = x ⧺ zeros(1, N - ns)  # zero padding\n",
    "    end\n",
    "\n",
    "    𝑋 = abs.(𝓕(in))  ## fft\n",
    "    𝑋 = 𝑋[1:div(N, 2) + 1] / √(ns)\n",
    "\n",
    "    f = 0:1/N:0.5\n",
    "\n",
    "    # The original periodo.m matlab source code has been modified \n",
    "    # the sig function is now returning f and DSP to be displayed externally\n",
    "    # plot(f, 10 * log10.(DSP.^2), xlabel=\"Normalized frequency\", ylabel=\"dB\", grid=true)\n",
    "    return f, 𝑋\n",
    "end"
   ]
  },
  {
   "cell_type": "code",
   "execution_count": null,
   "id": "56be07ba-461d-4e54-a983-8e1e25205c38",
   "metadata": {},
   "outputs": [],
   "source": [
    "# include(\"sig.jl\");"
   ]
  },
  {
   "cell_type": "code",
   "execution_count": null,
   "id": "4815fd3d-85e6-40c8-b52d-e4bd3a7b5c9e",
   "metadata": {},
   "outputs": [],
   "source": [
    "function sig(N, sigpar=[0.057, 0.082, 20, 20])\n",
    "    # Generates N samples of a signal y, consisting of\n",
    "    # two sinusoids plus white noise of unit variance.\n",
    "    # sigpar = vector of 4 signal parameters (𝑓₁, 𝑓₂, 𝐴₁, 𝐴₂)\n",
    "\n",
    "    if length(sigpar) == 0\n",
    "        sigpar = [0.057, 0.082, 20, 20]\n",
    "    end\n",
    "\n",
    "    𝑓₁, 𝑓₂, 𝐴₁, 𝐴₂ = sigpar\n",
    "    t = 0.0:0.01:N; @show t\n",
    "\n",
    "    ϕ₁, ϕ₂ = -2π * randn(), 2π * randn()\n",
    "    𝑣 = randn();\n",
    "    yₜ = 𝐴₁ .* cos.(2π * 𝑓₁ .* t .+ ϕ₁) + 𝐴₂ .* cos.(2π * 𝑓₂ .* t .+ ϕ₂) .+ 𝑣;\n",
    "\n",
    "    # The original sig.m matlab source code has been modified \n",
    "    # the sig function is now returning x and y to be displayed externally\n",
    "    return t, yₜ\n",
    "end"
   ]
  },
  {
   "cell_type": "code",
   "execution_count": null,
   "id": "bd8342f5-d4c0-41d3-996e-c9ebdcf8496d",
   "metadata": {},
   "outputs": [],
   "source": [
    "t, yₜ = sig(N); "
   ]
  },
  {
   "cell_type": "code",
   "execution_count": null,
   "id": "e5f6cb2e-b291-47ad-b359-a47f253ca1a1",
   "metadata": {},
   "outputs": [],
   "source": [
    "plot(t, 10 * log10.(abs2.(yₜ))\n",
    "    , xlabel=\"Normalized frequency\", ylabel=\"dB\"\n",
    "    , grid=true\n",
    "    , linewidth = 2\n",
    "    , legend = :none\n",
    "    , size = ( 800, 400 )\n",
    ")"
   ]
  },
  {
   "cell_type": "code",
   "execution_count": null,
   "id": "3ec1ab71-53a0-4475-ab09-ac46a830b8dc",
   "metadata": {},
   "outputs": [],
   "source": [
    "x₁ = randn(1000);  # Replace with your signal"
   ]
  },
  {
   "cell_type": "code",
   "execution_count": null,
   "id": "bdf56c77-0f42-4b94-9b6b-b0e64cf1e95f",
   "metadata": {},
   "outputs": [],
   "source": [
    "f, 𝑋₁ = periodo(x₁, N);"
   ]
  },
  {
   "cell_type": "code",
   "execution_count": null,
   "id": "12ab85a6-a83a-47c8-94e5-ebb72676df49",
   "metadata": {},
   "outputs": [],
   "source": [
    "plot(f, 10 * log10.(𝑋₁.^2), xlabel=\"Normalized frequency\", ylabel=\"dB\"\n",
    "    , grid=true\n",
    "    , linewidth = 2\n",
    "    , legend = :none\n",
    "    , size = ( 800, 400 )\n",
    ")"
   ]
  },
  {
   "cell_type": "markdown",
   "id": "c85f2225-c256-4cd6-9ec2-b8f4c90d0f93",
   "metadata": {},
   "source": [
    "**&#x1F516;** **&#x0063;)** Estimate the correlation sequence of the signal. This can be done by convolving the signal with the time-reversed version of the signal. If for instance “y” contains the 1024 signal samples, the reversed version of “y” can be produced in Matlab via the expression “y(1024:-1:1)”. Convolution can be performed with the Matlab command “conv” (“help conv”). The convolution result will be of length 2047. The correlation sequence r0:n will be the elements 1024:1024+n of the convolution, divided by 1024."
   ]
  },
  {
   "cell_type": "code",
   "execution_count": null,
   "id": "dccb4b88-0dd9-4ed5-9fdf-b9ee6aba5b66",
   "metadata": {},
   "outputs": [],
   "source": []
  },
  {
   "cell_type": "markdown",
   "id": "f87eac68-8c98-46ba-ba4c-b1587dc26b81",
   "metadata": {},
   "source": [
    "**&#x1F516;** **&#x0064;)** Write a Matlab function “levinson.m” (“help function”) that takes as input the correla- tion sequence $r_{0:20}$and produces as output the sequence of prediction error variances $\\sigma_{f,0:20}^2$ , the prediction error filter coefficients of order 20 $A_{20,0:20} (A_{20,0} = 1)$, and the sequence of PARCORS $K_{1:20}$."
   ]
  },
  {
   "cell_type": "markdown",
   "id": "9deae84b-5901-4d3e-8064-d9182a6fe040",
   "metadata": {},
   "source": [
    "**Hand in the levinson.m routine.**\n",
    "\n",
    "**Hand in a plot with these two curves, as also the values of $A_{20,0:20}$, and a plot of\n",
    "the evolution of $\\sigma_{\\mathcal{f},0:20}^2$ and the PARCORS.**\n",
    "\n",
    "For plotting the autoregressive spectrum estimate, append zeros to the prediction error filter coefficients, to the desired number of frequency points."
   ]
  },
  {
   "cell_type": "code",
   "execution_count": null,
   "id": "75241784-5c10-411c-aa8d-c8b6bb05609b",
   "metadata": {},
   "outputs": [],
   "source": []
  }
 ],
 "metadata": {
  "kernelspec": {
   "display_name": "Julia 1.9.3",
   "language": "julia",
   "name": "julia-1.9"
  },
  "language_info": {
   "file_extension": ".jl",
   "mimetype": "application/julia",
   "name": "julia",
   "version": "1.10.0"
  }
 },
 "nbformat": 4,
 "nbformat_minor": 5
}
