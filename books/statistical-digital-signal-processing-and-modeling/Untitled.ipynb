{
 "cells": [
  {
   "cell_type": "markdown",
   "id": "10a8dfca-5e9c-4757-80c1-842acfcf125d",
   "metadata": {},
   "source": [
    "2.1 The DFT of a sequence x(n) of length N may be expressed in matrix form as follows $$X = W_X$$ where $_X = [x(0), x(1), ..., x(N - 1)]^T$ is a vector containing the signal values and $X$ is a vector containing the DFT coefficients $X(k)$"
   ]
  },
  {
   "cell_type": "markdown",
   "id": "f9d29687-6b8c-48e2-bc15-59de7c131251",
   "metadata": {},
   "source": [
    "The Discrete Fourier Transform (DFT) of a sequence $x(n)$ of length $N$ can indeed be expressed in matrix form using the DFT matrix $W$. The DFT matrix is defined as follows:\n",
    "\n",
    "$$ W = \\frac{1}{\\sqrt{N}} \n",
    "\\begin{bmatrix}\n",
    "1 & 1 & 1 & \\dots & 1 \\\\\n",
    "1 & \\omega & \\omega^2 & \\dots & \\omega^{N-1} \\\\\n",
    "1 & \\omega^2 & \\omega^4 & \\dots & \\omega^{2(N-1)} \\\\\n",
    "\\vdots & \\vdots & \\vdots & \\ddots & \\vdots \\\\\n",
    "1 & \\omega^{N-1} & \\omega^{2(N-1)} & \\dots & \\omega^{(N-1)(N-1)}\n",
    "\\end{bmatrix} \n",
    "$$\n",
    "\n",
    "where $\\omega = e^{-j\\frac{2\\pi}{N}}$ is the complex N-th root of unity.\n",
    "\n",
    "The DFT of the sequence $x(n)$ is given by the multiplication of this matrix $W$ with the column vector $x$ containing the signal values:\n",
    "\n",
    "$ X = Wx $\n",
    "\n",
    "Here, $X$ is the column vector containing the DFT coefficients $X(k)$. The DFT coefficients are given by:\n",
    "\n",
    "$ X(k) = \\frac{1}{\\sqrt{N}} \\sum_{n=0}^{N-1} x(n) e^{-j\\frac{2\\pi}{N}kn} $\n",
    "\n",
    "In practical terms, the matrix-vector multiplication $X = Wx$ can be efficiently computed using Fast Fourier Transform (FFT) algorithms, which take advantage of the special structure of the DFT matrix to reduce the computational complexity."
   ]
  },
  {
   "cell_type": "code",
   "execution_count": null,
   "id": "e3765bcb-cbee-4ede-9b36-eb786ad17f84",
   "metadata": {},
   "outputs": [],
   "source": []
  }
 ],
 "metadata": {
  "kernelspec": {
   "display_name": "Julia 1.9.3",
   "language": "julia",
   "name": "julia-1.9"
  },
  "language_info": {
   "file_extension": ".jl",
   "mimetype": "application/julia",
   "name": "julia",
   "version": "1.9.4"
  }
 },
 "nbformat": 4,
 "nbformat_minor": 5
}
