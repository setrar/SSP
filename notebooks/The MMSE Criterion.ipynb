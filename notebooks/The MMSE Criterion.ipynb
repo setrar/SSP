{
 "cells": [
  {
   "cell_type": "markdown",
   "id": "32ffe6fd-bf36-44cc-a136-84a8db7d2938",
   "metadata": {},
   "source": [
    "## The MMSE Criterion"
   ]
  },
  {
   "cell_type": "markdown",
   "id": "1c83bad9-714d-4991-b9fa-a0b0de26a0f0",
   "metadata": {},
   "source": [
    "- Using the quadratic cost function :\n",
    "$$ \n",
    "\\begin{gather}\n",
    "\\mathcal{C}_{MMSE}(\\tilde{\\theta}) = | \\tilde{\\theta} |^2 \\text{ , minimizing the conditional Bayes risk yields }\n",
    "\\\\\n",
    "\\\\\n",
    "\\begin{array}[t]{l}\n",
    "  min \\\\\n",
    "  \\tilde{\\theta}(Y)\n",
    "\\end{array}\n",
    "\\quad\n",
    "\\mathcal{R}_{MMSE}\n",
    "(\\tilde{\\theta}(Y)|Y)\n",
    "=\n",
    "\\begin{array}[t]{r}\n",
    "  min \\\\\n",
    "  \\tilde{\\theta}(Y)\n",
    "\\end{array}\n",
    "\\int_{-\\infty}^\\infty f(\\theta|Y)(\\theta - \\hat{\\theta}(Y))^2 \\mathrm{d}\\theta\n",
    "\\end{gather}\n",
    "$$"
   ]
  },
  {
   "cell_type": "markdown",
   "id": "248a8f9f-6af8-47f1-b0a5-3e615fe36310",
   "metadata": {},
   "source": [
    "- to take the derivative w.r.t. (with respect to)\n",
    "$$ \n",
    "\\begin{gather}\n",
    "\\tilde{\\theta} \\text{ , recall Leibnitz’s rule: } \n",
    "\\frac{\\partial}{\\partial_u}\n",
    "\\end{gather}\n",
    "$$ "
   ]
  },
  {
   "cell_type": "code",
   "execution_count": null,
   "id": "a3d82e8d-bafd-4f64-b49a-85ecdfd8e586",
   "metadata": {},
   "outputs": [],
   "source": []
  }
 ],
 "metadata": {
  "kernelspec": {
   "display_name": "Julia 1.9.3",
   "language": "julia",
   "name": "julia-1.9"
  },
  "language_info": {
   "file_extension": ".jl",
   "mimetype": "application/julia",
   "name": "julia",
   "version": "1.9.3"
  }
 },
 "nbformat": 4,
 "nbformat_minor": 5
}
