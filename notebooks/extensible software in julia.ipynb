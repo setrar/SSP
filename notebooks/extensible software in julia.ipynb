{
 "cells": [
  {
   "cell_type": "markdown",
   "id": "7e988e85",
   "metadata": {},
   "source": [
    "#### extensible software in julia\n",
    "Today we are going to follow some basic design parameters in order to create extensible software for julia.\n",
    "- everything starts with our type hierarchy, which is incredibly important:"
   ]
  },
  {
   "cell_type": "code",
   "execution_count": 1,
   "id": "7ff3a52a",
   "metadata": {},
   "outputs": [],
   "source": [
    "abstract type AbstractParametricPair end\n",
    "\n",
    "mutable struct ParametricPair <: AbstractParametricPair\n",
    "    first::Any\n",
    "    second::Any\n",
    "end"
   ]
  },
  {
   "cell_type": "code",
   "execution_count": 2,
   "id": "8f6638a2",
   "metadata": {},
   "outputs": [],
   "source": [
    "import Base: getindex, setindex!, string"
   ]
  },
  {
   "cell_type": "code",
   "execution_count": 3,
   "id": "f3024370",
   "metadata": {},
   "outputs": [
    {
     "data": {
      "text/plain": [
       "getindex (generic function with 186 methods)"
      ]
     },
     "execution_count": 3,
     "metadata": {},
     "output_type": "execute_result"
    }
   ],
   "source": [
    "getindex(pp::AbstractParametricPair, n::Int64) = begin\n",
    "    if n > 2 || n < 1\n",
    "        throw(BoundsError(pp,[n]))\n",
    "    elseif n == 2\n",
    "        return(pp.second)\n",
    "    elseif n == 1\n",
    "        return(pp.first)\n",
    "    end\n",
    "end"
   ]
  },
  {
   "cell_type": "code",
   "execution_count": 4,
   "id": "4bb9b98b",
   "metadata": {},
   "outputs": [
    {
     "data": {
      "text/plain": [
       "string (generic function with 24 methods)"
      ]
     },
     "execution_count": 4,
     "metadata": {},
     "output_type": "execute_result"
    }
   ],
   "source": [
    "function string(p::AbstractParametricPair)\n",
    "    \"$(string(p[1]))$(string(p[2]))\"\n",
    "end"
   ]
  },
  {
   "cell_type": "code",
   "execution_count": 5,
   "id": "f81edc7f",
   "metadata": {},
   "outputs": [
    {
     "data": {
      "text/plain": [
       "ParametricPair(\"hello \", \"world\")"
      ]
     },
     "execution_count": 5,
     "metadata": {},
     "output_type": "execute_result"
    }
   ],
   "source": [
    "parpair = ParametricPair(\"hello \", \"world\")"
   ]
  },
  {
   "cell_type": "code",
   "execution_count": 6,
   "id": "2f7131f1",
   "metadata": {},
   "outputs": [
    {
     "data": {
      "text/plain": [
       "\"hello \""
      ]
     },
     "execution_count": 6,
     "metadata": {},
     "output_type": "execute_result"
    }
   ],
   "source": [
    "parpair[1]"
   ]
  },
  {
   "cell_type": "code",
   "execution_count": 7,
   "id": "42dfc1ba",
   "metadata": {},
   "outputs": [
    {
     "ename": "LoadError",
     "evalue": "BoundsError: attempt to access ParametricPair at index [-1]",
     "output_type": "error",
     "traceback": [
      "BoundsError: attempt to access ParametricPair at index [-1]",
      "",
      "Stacktrace:",
      " [1] getindex(pp::ParametricPair, n::Int64)",
      "   @ Main ./In[3]:3",
      " [2] top-level scope",
      "   @ In[7]:1"
     ]
    }
   ],
   "source": [
    "parpair[-1]"
   ]
  },
  {
   "cell_type": "code",
   "execution_count": 8,
   "id": "a6985bee",
   "metadata": {},
   "outputs": [
    {
     "data": {
      "text/plain": [
       "\"world\""
      ]
     },
     "execution_count": 8,
     "metadata": {},
     "output_type": "execute_result"
    }
   ],
   "source": [
    "parpair[2]"
   ]
  },
  {
   "cell_type": "code",
   "execution_count": 9,
   "id": "5534edaa",
   "metadata": {},
   "outputs": [
    {
     "ename": "LoadError",
     "evalue": "BoundsError: attempt to access ParametricPair at index [3]",
     "output_type": "error",
     "traceback": [
      "BoundsError: attempt to access ParametricPair at index [3]",
      "",
      "Stacktrace:",
      " [1] getindex(pp::ParametricPair, n::Int64)",
      "   @ Main ./In[3]:3",
      " [2] top-level scope",
      "   @ In[9]:1"
     ]
    }
   ],
   "source": [
    "parpair[3]"
   ]
  },
  {
   "cell_type": "code",
   "execution_count": 10,
   "id": "ebcd0e62",
   "metadata": {},
   "outputs": [
    {
     "data": {
      "text/plain": [
       "\"hello world\""
      ]
     },
     "execution_count": 10,
     "metadata": {},
     "output_type": "execute_result"
    }
   ],
   "source": [
    "string(parpair)"
   ]
  },
  {
   "cell_type": "code",
   "execution_count": 11,
   "id": "52f15335",
   "metadata": {},
   "outputs": [
    {
     "data": {
      "text/plain": [
       "true"
      ]
     },
     "execution_count": 11,
     "metadata": {},
     "output_type": "execute_result"
    }
   ],
   "source": [
    "Pair{<:Any, <:Any} == Pair"
   ]
  },
  {
   "cell_type": "code",
   "execution_count": 12,
   "id": "3d88360b",
   "metadata": {},
   "outputs": [
    {
     "ename": "LoadError",
     "evalue": "ParseError:\n\u001b[90m# Error @ \u001b[0;0m\u001b]8;;file:///Users/valiha/Developer/SSP/Homework/3/In[12]#1:1\u001b\\\u001b[90mIn[12]:1:1\u001b[0;0m\u001b]8;;\u001b\\\n\u001b[90m┌──\u001b[0;0m\n\u001b[48;2;120;70;70m#==\u001b[0;0m\n\u001b[48;2;120;70;70mabstract type AbstractParametricPair end\u001b[0;0m\n\u001b[48;2;120;70;70m\u001b[0;0m⋮\n\u001b[48;2;120;70;70m    second::SECOND\u001b[0;0m\n\u001b[48;2;120;70;70mend\u001b[0;0m\n\u001b[90m#─┘ ── \u001b[0;0m\u001b[91munterminated multi-line comment #= ... =#\u001b[0;0m",
     "output_type": "error",
     "traceback": [
      "ParseError:\n\u001b[90m# Error @ \u001b[0;0m\u001b]8;;file:///Users/valiha/Developer/SSP/Homework/3/In[12]#1:1\u001b\\\u001b[90mIn[12]:1:1\u001b[0;0m\u001b]8;;\u001b\\\n\u001b[90m┌──\u001b[0;0m\n\u001b[48;2;120;70;70m#==\u001b[0;0m\n\u001b[48;2;120;70;70mabstract type AbstractParametricPair end\u001b[0;0m\n\u001b[48;2;120;70;70m\u001b[0;0m⋮\n\u001b[48;2;120;70;70m    second::SECOND\u001b[0;0m\n\u001b[48;2;120;70;70mend\u001b[0;0m\n\u001b[90m#─┘ ── \u001b[0;0m\u001b[91munterminated multi-line comment #= ... =#\u001b[0;0m",
      "",
      "Stacktrace:",
      " [1] top-level scope",
      "   @ In[12]:1"
     ]
    }
   ],
   "source": [
    "#==\n",
    "abstract type AbstractParametricPair end\n",
    "\n",
    "mutable struct ParametricPair{FIRST, SECOND, PT} <: AbstractParametricPair\n",
    "    first::FIRST\n",
    "    second::SECOND\n",
    "end"
   ]
  },
  {
   "cell_type": "code",
   "execution_count": 13,
   "id": "b21e19eb",
   "metadata": {},
   "outputs": [
    {
     "data": {
      "text/plain": [
       "Main.ParametricPairs"
      ]
     },
     "execution_count": 13,
     "metadata": {},
     "output_type": "execute_result"
    }
   ],
   "source": [
    "module ParametricPairs\n",
    "import Base: getindex, setindex!, string\n",
    "\n",
    "abstract type AbstractParametricPair end\n",
    "\n",
    "mutable struct ParametricPair{FIRST, SECOND, PT} <: AbstractParametricPair\n",
    "    first::FIRST\n",
    "    second::SECOND\n",
    "    ParametricPair(first::Any, second::Any, type::Any) = begin\n",
    "        new{typeof(first), typeof(second), type}(first, second)\n",
    "    end\n",
    "end\n",
    "\n",
    "getindex(pp::AbstractParametricPair, n::Int64) = begin\n",
    "    if n > 2 || n < 1\n",
    "        throw(BoundsError(pp,[n]))\n",
    "    elseif n == 2\n",
    "        return(pp.second)\n",
    "    elseif n == 1\n",
    "        return(pp.first)\n",
    "    end\n",
    "end\n",
    "\n",
    "function string(pps::AbstractParametricPair ...)\n",
    "    join([\"$(string(p[1]))$(string(p[2]))\" for p in pps])::String\n",
    "end\n",
    "\n",
    "pp(a::Any, a2::Any, par::Any = :standard) = begin\n",
    "    ParametricPair(a, a2, par)\n",
    "end\n",
    "\n",
    "export pp\n",
    "end # parametric pairs :)"
   ]
  },
  {
   "cell_type": "code",
   "execution_count": 14,
   "id": "c6ddd0dc",
   "metadata": {},
   "outputs": [],
   "source": [
    "using Main.ParametricPairs"
   ]
  },
  {
   "cell_type": "code",
   "execution_count": 15,
   "id": "b6fb95eb",
   "metadata": {},
   "outputs": [
    {
     "data": {
      "text/plain": [
       "Main.ParametricPairs.ParametricPair{String, String, :standard}(\"firstelement\", \"secondelement\")"
      ]
     },
     "execution_count": 15,
     "metadata": {},
     "output_type": "execute_result"
    }
   ],
   "source": [
    "mypair = pp(\"firstelement\", \"secondelement\")"
   ]
  },
  {
   "cell_type": "code",
   "execution_count": 16,
   "id": "747618dc",
   "metadata": {},
   "outputs": [
    {
     "data": {
      "text/plain": [
       "500000-element Vector{Main.ParametricPairs.ParametricPair{Int64, String, :standard}}:\n",
       " Main.ParametricPairs.ParametricPair{Int64, String, :standard}(1, \"number 1\")\n",
       " Main.ParametricPairs.ParametricPair{Int64, String, :standard}(2, \"number 2\")\n",
       " Main.ParametricPairs.ParametricPair{Int64, String, :standard}(3, \"number 3\")\n",
       " Main.ParametricPairs.ParametricPair{Int64, String, :standard}(4, \"number 4\")\n",
       " Main.ParametricPairs.ParametricPair{Int64, String, :standard}(5, \"number 5\")\n",
       " Main.ParametricPairs.ParametricPair{Int64, String, :standard}(6, \"number 6\")\n",
       " Main.ParametricPairs.ParametricPair{Int64, String, :standard}(7, \"number 7\")\n",
       " Main.ParametricPairs.ParametricPair{Int64, String, :standard}(8, \"number 8\")\n",
       " Main.ParametricPairs.ParametricPair{Int64, String, :standard}(9, \"number 9\")\n",
       " Main.ParametricPairs.ParametricPair{Int64, String, :standard}(10, \"number 10\")\n",
       " Main.ParametricPairs.ParametricPair{Int64, String, :standard}(11, \"number 11\")\n",
       " Main.ParametricPairs.ParametricPair{Int64, String, :standard}(12, \"number 12\")\n",
       " Main.ParametricPairs.ParametricPair{Int64, String, :standard}(13, \"number 13\")\n",
       " ⋮\n",
       " Main.ParametricPairs.ParametricPair{Int64, String, :standard}(499989, \"number 499989\")\n",
       " Main.ParametricPairs.ParametricPair{Int64, String, :standard}(499990, \"number 499990\")\n",
       " Main.ParametricPairs.ParametricPair{Int64, String, :standard}(499991, \"number 499991\")\n",
       " Main.ParametricPairs.ParametricPair{Int64, String, :standard}(499992, \"number 499992\")\n",
       " Main.ParametricPairs.ParametricPair{Int64, String, :standard}(499993, \"number 499993\")\n",
       " Main.ParametricPairs.ParametricPair{Int64, String, :standard}(499994, \"number 499994\")\n",
       " Main.ParametricPairs.ParametricPair{Int64, String, :standard}(499995, \"number 499995\")\n",
       " Main.ParametricPairs.ParametricPair{Int64, String, :standard}(499996, \"number 499996\")\n",
       " Main.ParametricPairs.ParametricPair{Int64, String, :standard}(499997, \"number 499997\")\n",
       " Main.ParametricPairs.ParametricPair{Int64, String, :standard}(499998, \"number 499998\")\n",
       " Main.ParametricPairs.ParametricPair{Int64, String, :standard}(499999, \"number 499999\")\n",
       " Main.ParametricPairs.ParametricPair{Int64, String, :standard}(500000, \"number 500000\")"
      ]
     },
     "execution_count": 16,
     "metadata": {},
     "output_type": "execute_result"
    }
   ],
   "source": [
    "mypps = [pp(e, \"number $e\") for e in 1:500000]"
   ]
  },
  {
   "cell_type": "code",
   "execution_count": 18,
   "id": "1a948921",
   "metadata": {},
   "outputs": [],
   "source": [
    "using BenchmarkTools"
   ]
  },
  {
   "cell_type": "code",
   "execution_count": 19,
   "id": "6c02ed35",
   "metadata": {},
   "outputs": [
    {
     "data": {
      "text/plain": [
       "BenchmarkTools.Trial: 2185 samples with 1 evaluation.\n",
       " Range \u001b[90m(\u001b[39m\u001b[36m\u001b[1mmin\u001b[22m\u001b[39m … \u001b[35mmax\u001b[39m\u001b[90m):  \u001b[39m\u001b[36m\u001b[1m1.545 ms\u001b[22m\u001b[39m … \u001b[35m 10.150 ms\u001b[39m  \u001b[90m┊\u001b[39m GC \u001b[90m(\u001b[39mmin … max\u001b[90m): \u001b[39m 0.00% … 83.23%\n",
       " Time  \u001b[90m(\u001b[39m\u001b[34m\u001b[1mmedian\u001b[22m\u001b[39m\u001b[90m):     \u001b[39m\u001b[34m\u001b[1m2.096 ms               \u001b[22m\u001b[39m\u001b[90m┊\u001b[39m GC \u001b[90m(\u001b[39mmedian\u001b[90m):    \u001b[39m 0.00%\n",
       " Time  \u001b[90m(\u001b[39m\u001b[32m\u001b[1mmean\u001b[22m\u001b[39m ± \u001b[32mσ\u001b[39m\u001b[90m):   \u001b[39m\u001b[32m\u001b[1m2.281 ms\u001b[22m\u001b[39m ± \u001b[32m849.175 μs\u001b[39m  \u001b[90m┊\u001b[39m GC \u001b[90m(\u001b[39mmean ± σ\u001b[90m):  \u001b[39m13.33% ± 17.48%\n",
       "\n",
       "  \u001b[39m█\u001b[39m▆\u001b[39m▅\u001b[39m▅\u001b[39m▅\u001b[39m▅\u001b[39m▅\u001b[39m▆\u001b[34m▇\u001b[39m\u001b[39m▇\u001b[39m▇\u001b[32m▅\u001b[39m\u001b[39m▅\u001b[39m▃\u001b[39m▁\u001b[39m▁\u001b[39m \u001b[39m \u001b[39m▁\u001b[39m \u001b[39m▁\u001b[39m▁\u001b[39m \u001b[39m▁\u001b[39m \u001b[39m \u001b[39m \u001b[39m▁\u001b[39m \u001b[39m \u001b[39m \u001b[39m \u001b[39m \u001b[39m \u001b[39m \u001b[39m▁\u001b[39m \u001b[39m \u001b[39m \u001b[39m \u001b[39m▁\u001b[39m \u001b[39m \u001b[39m \u001b[39m \u001b[39m \u001b[39m \u001b[39m \u001b[39m \u001b[39m \u001b[39m \u001b[39m \u001b[39m \u001b[39m \u001b[39m \u001b[39m \u001b[39m \u001b[39m \u001b[39m \u001b[39m \u001b[39m▂\n",
       "  \u001b[39m█\u001b[39m█\u001b[39m█\u001b[39m█\u001b[39m█\u001b[39m█\u001b[39m█\u001b[39m█\u001b[34m█\u001b[39m\u001b[39m█\u001b[39m█\u001b[32m█\u001b[39m\u001b[39m█\u001b[39m█\u001b[39m█\u001b[39m█\u001b[39m█\u001b[39m▇\u001b[39m█\u001b[39m█\u001b[39m█\u001b[39m█\u001b[39m█\u001b[39m█\u001b[39m█\u001b[39m▇\u001b[39m█\u001b[39m█\u001b[39m█\u001b[39m█\u001b[39m█\u001b[39m▇\u001b[39m█\u001b[39m█\u001b[39m▆\u001b[39m█\u001b[39m▇\u001b[39m▄\u001b[39m█\u001b[39m▆\u001b[39m█\u001b[39m▇\u001b[39m▇\u001b[39m▇\u001b[39m▇\u001b[39m▅\u001b[39m█\u001b[39m▇\u001b[39m▇\u001b[39m▄\u001b[39m▇\u001b[39m▅\u001b[39m▅\u001b[39m▆\u001b[39m▁\u001b[39m▄\u001b[39m▆\u001b[39m▁\u001b[39m▅\u001b[39m \u001b[39m█\n",
       "  1.54 ms\u001b[90m      \u001b[39m\u001b[90mHistogram: \u001b[39m\u001b[90m\u001b[1mlog(\u001b[22m\u001b[39m\u001b[90mfrequency\u001b[39m\u001b[90m\u001b[1m)\u001b[22m\u001b[39m\u001b[90m by time\u001b[39m       5.5 ms \u001b[0m\u001b[1m<\u001b[22m\n",
       "\n",
       " Memory estimate\u001b[90m: \u001b[39m\u001b[33m7.63 MiB\u001b[39m, allocs estimate\u001b[90m: \u001b[39m\u001b[33m3\u001b[39m."
      ]
     },
     "execution_count": 19,
     "metadata": {},
     "output_type": "execute_result"
    }
   ],
   "source": [
    "@benchmark [(pp[1], pp[2]) for pp in mypps]"
   ]
  },
  {
   "cell_type": "code",
   "execution_count": 20,
   "id": "7c85c2ec",
   "metadata": {},
   "outputs": [
    {
     "data": {
      "text/plain": [
       "string (generic function with 26 methods)"
      ]
     },
     "execution_count": 20,
     "metadata": {},
     "output_type": "execute_result"
    }
   ],
   "source": [
    "function string(ppairs::ParametricPairs.ParametricPair{String, <:Any, :label} ...)\n",
    "    println(join([\"$(ppair[1]): $(ppair[2])\" for ppair in ppairs], \"\\n\"))\n",
    "end"
   ]
  },
  {
   "cell_type": "code",
   "execution_count": 21,
   "id": "d5aecdb7",
   "metadata": {},
   "outputs": [
    {
     "name": "stdout",
     "output_type": "stream",
     "text": [
      "A is: 5\n",
      "B is: 6\n"
     ]
    }
   ],
   "source": [
    "string(pp(\"A is\", 5, :label), pp(\"B is\", 6, :label))"
   ]
  },
  {
   "cell_type": "code",
   "execution_count": 22,
   "id": "4b0b701d",
   "metadata": {},
   "outputs": [],
   "source": [
    "abstract type ParameterEntry end\n",
    "abstract type Repeat{N} <: ParameterEntry end"
   ]
  },
  {
   "cell_type": "code",
   "execution_count": 23,
   "id": "ab834bd8",
   "metadata": {},
   "outputs": [
    {
     "data": {
      "text/plain": [
       "string (generic function with 27 methods)"
      ]
     },
     "execution_count": 23,
     "metadata": {},
     "output_type": "execute_result"
    }
   ],
   "source": [
    "function string(ppa::ParametricPairs.ParametricPair{String, <:Any, <:ParameterEntry})\n",
    "    repeatlen = typeof(ppa).parameters[3].parameters[1]\n",
    "    join([\"$(ppa.first): $(ppa.second)\" for ppair in 1:repeatlen], \"\\n\")\n",
    "end"
   ]
  },
  {
   "cell_type": "code",
   "execution_count": 24,
   "id": "1a1e68a5",
   "metadata": {},
   "outputs": [
    {
     "data": {
      "text/plain": [
       "\"hello: friends!\\nhello: friends!\\nhello: friends!\\nhello: friends!\\nhello: friends!\\nhello: friends!\\nhello: friends!\\nhello: friends!\\nhello: friends!\\nhello: friends!\\nhello: friends!\\nhello: friends!\\nhello: friends!\\nhello: friends!\\nhello: friends!\""
      ]
     },
     "execution_count": 24,
     "metadata": {},
     "output_type": "execute_result"
    }
   ],
   "source": [
    "string(pp(\"hello\", \"friends!\", Repeat{15}))"
   ]
  },
  {
   "cell_type": "code",
   "execution_count": null,
   "id": "b6a639d3",
   "metadata": {},
   "outputs": [],
   "source": []
  },
  {
   "cell_type": "code",
   "execution_count": null,
   "id": "8ce09d97",
   "metadata": {},
   "outputs": [],
   "source": []
  }
 ],
 "metadata": {
  "kernelspec": {
   "display_name": "Julia 1.9.3",
   "language": "julia",
   "name": "julia-1.9"
  },
  "language_info": {
   "file_extension": ".jl",
   "mimetype": "application/julia",
   "name": "julia",
   "version": "1.10.0"
  }
 },
 "nbformat": 4,
 "nbformat_minor": 5
}
