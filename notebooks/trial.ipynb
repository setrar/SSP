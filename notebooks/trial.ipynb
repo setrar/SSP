{
 "cells": [
  {
   "cell_type": "code",
   "execution_count": 1,
   "id": "4cf5b225-aeef-4f14-9a9e-ea8a21b4d937",
   "metadata": {},
   "outputs": [
    {
     "ename": "LoadError",
     "evalue": "UndefVarError: `y` not defined",
     "output_type": "error",
     "traceback": [
      "UndefVarError: `y` not defined",
      "",
      "Stacktrace:",
      " [1] top-level scope",
      "   @ In[1]:5"
     ]
    }
   ],
   "source": [
    "\n",
    "\n",
    "# Sample dataset Y\n",
    "# Y = randn(100) .* 2 .+ 3  # Example: 100 measurements from a Gaussian distribution, adjust as necessary\n",
    "Y = y\n",
    "\n",
    "# Histogram of the dataset\n",
    "# histogram(Y, bins=30, normalization=:pdf, label=\"Data Histogram\", alpha=0.5)\n",
    "\n",
    "plot(\n",
    "      xlims = ( 0, 100)\n",
    "    , ylims = (0, 0.9)\n",
    ")\n",
    "\n",
    "\n",
    "# Superimpose the Gaussian (G) density\n",
    "μ_G, σ²_G = mean(Y), var(Y)\n",
    "plot!(Normal(μ_G, sqrt(σ²_G)), label=\"Gaussian\")\n",
    "\n",
    "# Superimpose the Rayleigh (R) density\n",
    "σ_R = sqrt(mean(Y .^ 2) / 2)\n",
    "plot!(Rayleigh(σ_R), label=\"Rayleigh\")\n",
    "\n",
    "# Superimpose the Exponential (E0) density\n",
    "λ_E0 = 1 / mean(Y)\n",
    "plot!(Exponential(λ_E0), label=\"Exponential (E0)\")\n",
    "\n",
    "# Superimpose the Erlang (E1, E2) densities\n",
    "λ_E1 = 1 / mean(Y)  # Same as E0 for m=1\n",
    "plot!(Gamma(1, 1/λ_E1), label=\"Erlang (E1)\")\n",
    "\n",
    "λ_E2 = 2 / mean(Y)  # Adjust for m=2, assuming mean(Y) adjustment\n",
    "plot!(Gamma(2, 1/λ_E2), label=\"Erlang (E2)\")\n",
    "\n",
    "# Superimpose the Shifted Rayleigh (SR) density - manual definition required\n",
    "α_SR = minimum(Y)  # Estimate or choose α\n",
    "σ²_SR = var(Y)  # Estimate or choose σ²\n",
    "y_vals = range(α_SR, maximum(Y) + 1, 200)\n",
    "sr_pdf = [(y - α_SR) / σ²_SR * exp(-((y - α_SR)^2) / (2σ²_SR)) for y in y_vals]\n",
    "plot!(y_vals, sr_pdf, label=\"Shifted Rayleigh (SR)\")\n",
    "\n",
    "# Display the plot\n",
    "xlabel!(\"y\")\n",
    "ylabel!(\"Density\")\n",
    "title!(\"Histogram and Marginal Densities\")\n"
   ]
  },
  {
   "cell_type": "code",
   "execution_count": null,
   "id": "fb16058a-e1a6-4ee5-b496-71d72a6066e8",
   "metadata": {},
   "outputs": [],
   "source": []
  }
 ],
 "metadata": {
  "kernelspec": {
   "display_name": "Julia 1.9.3",
   "language": "julia",
   "name": "julia-1.9"
  },
  "language_info": {
   "file_extension": ".jl",
   "mimetype": "application/julia",
   "name": "julia",
   "version": "1.10.0"
  }
 },
 "nbformat": 4,
 "nbformat_minor": 5
}
